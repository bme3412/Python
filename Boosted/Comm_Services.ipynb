{
 "cells": [
  {
   "cell_type": "markdown",
   "id": "d9170cc4",
   "metadata": {},
   "source": [
    "## Quality"
   ]
  },
  {
   "cell_type": "markdown",
   "id": "8f74cd94",
   "metadata": {},
   "source": [
    "+ Account Clarity\n",
    "+ Cash Op profit\n",
    "+ Work Cap Accruals\n",
    "+ Net Ext Fin\n",
    "+ Op Profit Growth\n",
    "+ Total Debt Coverage\n",
    "+ Total Op Accruals"
   ]
  },
  {
   "cell_type": "markdown",
   "id": "96cf13fb",
   "metadata": {},
   "source": [
    "`Account Clarity`: \n",
    "+ 12 Quarter Avg of:\n",
    "+ current OP assets - OP liabilities\n",
    "+ less 4 quarter ago OP assets - Op liabilities\n",
    "+ scaled by average assets over the same period\n",
    "\n",
    "where:\n",
    "+ Operating Assets = Total Assets - cash\n",
    "+ Operating Liability = Total Assets - debt - minority interests - common & pref. stock "
   ]
  },
  {
   "cell_type": "markdown",
   "id": "81178279",
   "metadata": {},
   "source": [
    "`Cash Operating Profit`:\n",
    "+ GAAP EBIT"
   ]
  },
  {
   "cell_type": "markdown",
   "id": "acf4674f",
   "metadata": {},
   "source": [
    "`working capital accruals`:\n",
    "+ Trailing 4 quarters:\n",
    "    + change in receivables +\n",
    "    + change in inventories +\n",
    "    + change in accts payable +\n",
    "    + change in tax accruals +\n",
    "    + change in Misc assets and liabilities\n",
    "+ scaled by avg Total Assets\n"
   ]
  },
  {
   "cell_type": "markdown",
   "id": "58fb72ad",
   "metadata": {},
   "source": [
    "`Net External Financing`:\n",
    "+ 4 Qtr trailing Cash Flow from Financing Activities less\n",
    "+ 4 Qtr Trailing Other Financing Activities\n",
    "+ divided by the avg 4Q trailing Total Assetes\n",
    "\n",
    "+ Higher reliance on external financing is wrose, so multiple by -1\n",
    "\n",
    "+ If the above Numerator items are NA:\n",
    "    + Sales of Common/Preferred Stock\n",
    "    + (less) Purchase of Common?Preferred stock\n",
    "    + (less) cash Dividends\n",
    "    + (plus) Debt Issuance"
   ]
  },
  {
   "cell_type": "markdown",
   "id": "6b32b661",
   "metadata": {},
   "source": [
    "`Op Profit Growth`:\n",
    "+ 4 quarter Avg growth of Operating Profit"
   ]
  },
  {
   "cell_type": "markdown",
   "id": "a67c8904",
   "metadata": {},
   "source": [
    "`Total Debt Coverage`:\n",
    "+ Latest 4 Qtr sum of (OCF - dividends) / latest (Total Long Term debt + Current Debt)"
   ]
  },
  {
   "cell_type": "markdown",
   "id": "63e4802a",
   "metadata": {},
   "source": [
    "`Total Operating Accruals`:\n",
    "+ Current Op Assets - Op liabilities\n",
    "+ (less) 4-quarter ago (Op assets - Op liabilities)\n",
    "+ scaled by the avg assets over the same period\n",
    "\n",
    "where:\n",
    "+ Operating Assets = Total Assets - cash\n",
    "+ Operating Liability = Total Assets - debt - minority interests - common & pref. stock "
   ]
  },
  {
   "cell_type": "markdown",
   "id": "076edd96",
   "metadata": {},
   "source": [
    "## Value"
   ]
  },
  {
   "cell_type": "markdown",
   "id": "b67c3439",
   "metadata": {},
   "source": [
    "+ Adj FCF/EV\n",
    "+ Total Yield\n",
    "+ Fwd Earn Yield\n",
    "+ Trailing Earn Yield\n",
    "+ GP/EV\n",
    "+ OCF/Price\n",
    "+ Total Cash Return"
   ]
  },
  {
   "cell_type": "markdown",
   "id": "6082c852",
   "metadata": {},
   "source": [
    "`Adj FCF/EV`:\n",
    "+ (FCF + growth CapEx +R&D)/ EV"
   ]
  },
  {
   "cell_type": "markdown",
   "id": "42a2983c",
   "metadata": {},
   "source": [
    "`"
   ]
  },
  {
   "cell_type": "markdown",
   "id": "d948054e",
   "metadata": {},
   "source": [
    "`Forward Earnigns Yield`:\n",
    "+ Blended FY1 & FY2 EPS estiamtes / Price"
   ]
  },
  {
   "cell_type": "markdown",
   "id": "24c8b25f",
   "metadata": {},
   "source": [
    "`Trailing Earnings Yield`:\n",
    "+ Trailing 12 months Earnings / Price"
   ]
  },
  {
   "cell_type": "markdown",
   "id": "16635e2a",
   "metadata": {},
   "source": [
    "`Gross profit/EV`:\n",
    "+ Trailing 12-month Gross Profit divided by Ent Value"
   ]
  },
  {
   "cell_type": "markdown",
   "id": "060f3cf5",
   "metadata": {},
   "source": [
    "`OCF/Price`:\n",
    "+ Latest 4 quarters of OCF / Market Cap\n",
    "\n",
    "where:\n",
    "+ OCF = Income after COGS, SG&A, and R&D"
   ]
  },
  {
   "cell_type": "markdown",
   "id": "ab4ec195",
   "metadata": {},
   "source": [
    "`Total Cash Return`:\n",
    "+ (TTM cash dividend +\n",
    "+ TTM purhcases of common & preferred stock (less) \n",
    "+ TTM sales of common and preferred stock)\n",
    "+ divided by Market Cap"
   ]
  },
  {
   "cell_type": "markdown",
   "id": "b770c6b3",
   "metadata": {},
   "source": [
    "## Catalyst"
   ]
  },
  {
   "cell_type": "markdown",
   "id": "e874e1b1",
   "metadata": {},
   "source": [
    "+ Filing SImilarity\n",
    "+ EPS Revisions\n",
    "+ Linear Momentum\n",
    "+ Relative Strength\n",
    "+ Shared Analyst Momentum\n",
    "+ Short Interest\n"
   ]
  },
  {
   "cell_type": "markdown",
   "id": "a6945406",
   "metadata": {},
   "source": [
    "`Earnings Revisions`:\n",
    "+ 50/50 blend of Detailed Revision Variable (DRV) & Diffusion\n",
    "\n",
    "where:\n",
    "+ DRV = Time weighted sum of individual's action scores\n",
    " and:\n",
    "+ Diffusion = 50%/35%/15% weights on the latest 3 months of EPS estimate diffusion scores: (# up - # down)/ # estimates"
   ]
  },
  {
   "cell_type": "markdown",
   "id": "d0042227",
   "metadata": {},
   "source": [
    "`Relative Strength`:\n",
    "+ 21-day moving avg of the weighted rank of monthly (21-day rolling) returns for the latest 12 months."
   ]
  },
  {
   "cell_type": "markdown",
   "id": "ae6cd8d0",
   "metadata": {},
   "source": [
    "`Shared Analyst Momentum`:\n",
    "+ Shared analyst co-coverage momentum based on peers' past 12-motnh risk-adjusted returns"
   ]
  },
  {
   "cell_type": "markdown",
   "id": "fe08483a",
   "metadata": {},
   "source": [
    "`Short Interest`:\n",
    "+ 50/50 weighting of:\n",
    "+ Short Interest Level  (Short Interest SHares / shares outstanding)\n",
    "+ & 1 Year Chagne in SI Level\n"
   ]
  },
  {
   "cell_type": "code",
   "execution_count": null,
   "id": "b870e224",
   "metadata": {},
   "outputs": [],
   "source": []
  },
  {
   "cell_type": "code",
   "execution_count": null,
   "id": "a07edc0e",
   "metadata": {},
   "outputs": [],
   "source": []
  }
 ],
 "metadata": {
  "kernelspec": {
   "display_name": "Python 3",
   "language": "python",
   "name": "python3"
  },
  "language_info": {
   "codemirror_mode": {
    "name": "ipython",
    "version": 3
   },
   "file_extension": ".py",
   "mimetype": "text/x-python",
   "name": "python",
   "nbconvert_exporter": "python",
   "pygments_lexer": "ipython3",
   "version": "3.8.8"
  }
 },
 "nbformat": 4,
 "nbformat_minor": 5
}
