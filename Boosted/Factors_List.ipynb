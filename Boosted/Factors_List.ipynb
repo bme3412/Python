{
 "cells": [
  {
   "cell_type": "markdown",
   "id": "c166d62a",
   "metadata": {},
   "source": [
    "## Quality"
   ]
  },
  {
   "cell_type": "code",
   "execution_count": 2,
   "id": "3e3ce5f9",
   "metadata": {},
   "outputs": [],
   "source": [
    "## abnormal inventory change\n",
    "abn_inv_chg = \"\"\" YoY quarterly change in Inventory, divided by the std dev of that change, over 15 quarters\n",
    "    Inventory builds are worse - so the value is multipleid by -1\"\"\""
   ]
  },
  {
   "cell_type": "code",
   "execution_count": 3,
   "id": "2ec64055",
   "metadata": {},
   "outputs": [],
   "source": [
    "# accounting clarity\n",
    "acct_clarity = \"\"\"12 quarter avg of:\n",
    "    Current Operating assets - Operating liabilities;\n",
    "    less 4 Qtr ago Op assets - op liabilities;\n",
    "    scaled by average assets over the same period.\n",
    "    \n",
    "    Operating assets = Total assets - cash\n",
    "    Operating liabilities = Total assets - debt - minority interest - common & pref stock\n",
    "\"\"\""
   ]
  },
  {
   "cell_type": "code",
   "execution_count": 6,
   "id": "76548d48",
   "metadata": {},
   "outputs": [],
   "source": [
    "# aset Growth\n",
    "asset_growth = \"\"\"Asset growth is defined as the YoY % change in quarterly total assets. Higher is worse, so multiple by -1. Academic literature suggests fast-growing companies tend to underperform in the subsequent year. This may be due to: 1) acquistion that take time to integrate and create synergies; 2) empire building by corproate mgmt teams\"\"\"\n"
   ]
  },
  {
   "cell_type": "code",
   "execution_count": 7,
   "id": "dfb3f720",
   "metadata": {},
   "outputs": [
    {
     "data": {
      "text/plain": [
       "'Asset growth is defined as the YoY % change in quarterly total assets. Higher is worse, so multiple by -1. Academic literature suggests fast-growing companies tend to underperform in the subsequent year. This may be due to: 1) acquistion that take time to integrate and create synergies; 2) empire building by corproate mgmt teams'"
      ]
     },
     "execution_count": 7,
     "metadata": {},
     "output_type": "execute_result"
    }
   ],
   "source": [
    "asset_growth"
   ]
  },
  {
   "cell_type": "code",
   "execution_count": 8,
   "id": "cc2e3ae0",
   "metadata": {},
   "outputs": [],
   "source": [
    "# asset turnover change\n",
    "asset_trnover_chg = \"\"\"YoY % change in the ratio of Sales to Total Assets. Higher is better\"\"\""
   ]
  },
  {
   "cell_type": "code",
   "execution_count": 9,
   "id": "8d0184af",
   "metadata": {},
   "outputs": [],
   "source": [
    "# billings margin\n",
    "billings_margin = \"\"\"Cost of Revenues/(Revenue + Deferred Revenues)*-1;\n",
    "                    where: cost of revenues = COGS + SG&A\"\"\""
   ]
  },
  {
   "cell_type": "code",
   "execution_count": 10,
   "id": "8a3269e4",
   "metadata": {},
   "outputs": [],
   "source": [
    "# cap spend growth\n",
    "cap_spend_growth = \"\"\"YoY % change of: (Latest 4 quarters of cap ex + R&D expense)/(latest 4 quarters of sales)*-1\"\"\""
   ]
  },
  {
   "cell_type": "code",
   "execution_count": 11,
   "id": "fb3c1dab",
   "metadata": {},
   "outputs": [],
   "source": [
    "# cap spend level\n",
    "cap_spend_level = \"\"\"(latest 4 quartesr of cap ex + R&D expense)/latest 4 qtrs of sales*-1\"\"\""
   ]
  },
  {
   "cell_type": "code",
   "execution_count": 12,
   "id": "128cf037",
   "metadata": {},
   "outputs": [
    {
     "data": {
      "text/plain": [
       "'Trailing 4 quarters: \\n    chg in receivables + chg in inventories + chg in accts payable + chg in tax accruals + change in misc. assets and liabilites\\n    Scaled by avg Total Assets\\n    '"
      ]
     },
     "execution_count": 12,
     "metadata": {},
     "output_type": "execute_result"
    }
   ],
   "source": [
    "# working capital accruals\n",
    "\"\"\"Trailing 4 quarters: \n",
    "    chg in receivables + chg in inventories + chg in accts payable + chg in tax accruals + change in misc. assets and liabilites\n",
    "    Scaled by avg Total Assets\n",
    "    \"\"\""
   ]
  },
  {
   "cell_type": "code",
   "execution_count": null,
   "id": "e7a54201",
   "metadata": {},
   "outputs": [],
   "source": []
  }
 ],
 "metadata": {
  "kernelspec": {
   "display_name": "Python 3",
   "language": "python",
   "name": "python3"
  },
  "language_info": {
   "codemirror_mode": {
    "name": "ipython",
    "version": 3
   },
   "file_extension": ".py",
   "mimetype": "text/x-python",
   "name": "python",
   "nbconvert_exporter": "python",
   "pygments_lexer": "ipython3",
   "version": "3.8.8"
  }
 },
 "nbformat": 4,
 "nbformat_minor": 5
}
