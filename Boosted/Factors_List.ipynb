{
 "cells": [
  {
   "cell_type": "markdown",
   "id": "c166d62a",
   "metadata": {},
   "source": [
    "## Quality"
   ]
  },
  {
   "cell_type": "code",
   "execution_count": 2,
   "id": "3e3ce5f9",
   "metadata": {},
   "outputs": [],
   "source": [
    "## abnormal inventory change\n",
    "abn_inv_chg = \"\"\" YoY quarterly change in Inventory, divided by the std dev of that change, over 15 quarters\n",
    "    Inventory builds are worse - so the value is multipleid by -1\"\"\""
   ]
  },
  {
   "cell_type": "code",
   "execution_count": 3,
   "id": "2ec64055",
   "metadata": {},
   "outputs": [],
   "source": [
    "# accounting clarity\n",
    "acct_clarity = \"\"\"12 quarter avg of:\n",
    "    Current Operating assets - Operating liabilities;\n",
    "    less 4 Qtr ago Op assets - op liabilities;\n",
    "    scaled by average assets over the same period.\n",
    "    \n",
    "    Operating assets = Total assets - cash\n",
    "    Operating liabilities = Total assets - debt - minority interest - common & pref stock\n",
    "\"\"\""
   ]
  },
  {
   "cell_type": "code",
   "execution_count": 6,
   "id": "76548d48",
   "metadata": {},
   "outputs": [],
   "source": [
    "# aset Growth\n",
    "asset_growth = \"\"\"Asset growth is defined as the YoY % change in quarterly total assets. Higher is worse, so multiple by -1. Academic literature suggests fast-growing companies tend to underperform in the subsequent year. This may be due to: 1) acquistion that take time to integrate and create synergies; 2) empire building by corproate mgmt teams\"\"\"\n"
   ]
  },
  {
   "cell_type": "code",
   "execution_count": 7,
   "id": "dfb3f720",
   "metadata": {},
   "outputs": [
    {
     "data": {
      "text/plain": [
       "'Asset growth is defined as the YoY % change in quarterly total assets. Higher is worse, so multiple by -1. Academic literature suggests fast-growing companies tend to underperform in the subsequent year. This may be due to: 1) acquistion that take time to integrate and create synergies; 2) empire building by corproate mgmt teams'"
      ]
     },
     "execution_count": 7,
     "metadata": {},
     "output_type": "execute_result"
    }
   ],
   "source": [
    "asset_growth"
   ]
  },
  {
   "cell_type": "code",
   "execution_count": 8,
   "id": "cc2e3ae0",
   "metadata": {},
   "outputs": [],
   "source": [
    "# asset turnover change\n",
    "asset_trnover_chg = \"\"\"YoY % change in the ratio of Sales to Total Assets. Higher is better\"\"\""
   ]
  },
  {
   "cell_type": "code",
   "execution_count": 9,
   "id": "8d0184af",
   "metadata": {},
   "outputs": [],
   "source": [
    "# billings margin\n",
    "billings_margin = \"\"\"Cost of Revenues/(Revenue + Deferred Revenues)*-1;\n",
    "                    where: cost of revenues = COGS + SG&A\"\"\""
   ]
  },
  {
   "cell_type": "code",
   "execution_count": 10,
   "id": "8a3269e4",
   "metadata": {},
   "outputs": [],
   "source": [
    "# cap spend growth\n",
    "cap_spend_growth = \"\"\"YoY % change of: (Latest 4 quarters of cap ex + R&D expense)/(latest 4 quarters of sales)*-1\"\"\""
   ]
  },
  {
   "cell_type": "code",
   "execution_count": 11,
   "id": "fb3c1dab",
   "metadata": {},
   "outputs": [],
   "source": [
    "# cap spend level\n",
    "cap_spend_level = \"\"\"(latest 4 quartesr of cap ex + R&D expense)/latest 4 qtrs of sales*-1\"\"\""
   ]
  },
  {
   "cell_type": "code",
   "execution_count": 12,
   "id": "128cf037",
   "metadata": {},
   "outputs": [
    {
     "data": {
      "text/plain": [
       "'Trailing 4 quarters: \\n    chg in receivables + chg in inventories + chg in accts payable + chg in tax accruals + change in misc. assets and liabilites\\n    Scaled by avg Total Assets\\n    '"
      ]
     },
     "execution_count": 12,
     "metadata": {},
     "output_type": "execute_result"
    }
   ],
   "source": [
    "# working capital accruals\n",
    "\"\"\"Trailing 4 quarters: \n",
    "    chg in receivables + chg in inventories + chg in accts payable + chg in tax accruals + change in misc. assets and liabilites\n",
    "    Scaled by avg Total Assets\n",
    "    \"\"\""
   ]
  },
  {
   "cell_type": "markdown",
   "id": "80823901",
   "metadata": {},
   "source": [
    "## Momentum"
   ]
  },
  {
   "cell_type": "code",
   "execution_count": 1,
   "id": "9c2101b1",
   "metadata": {},
   "outputs": [
    {
     "data": {
      "text/plain": [
       "'RSI compares the magnitude of recent price changes across stocks\\n    to idetnfiy stocks as overbought or oversold.\\n    A high RSI (usually above 70) indicate overbought and a low RSI \\n    (typcially below 30) indicates oversold.\\n    If first computes the avg price change for a given # (often 14)\\n    of peior trading days with rising prices and falling prices'"
      ]
     },
     "execution_count": 1,
     "metadata": {},
     "output_type": "execute_result"
    }
   ],
   "source": [
    "# relative strength index - RSI\n",
    "\"\"\"RSI compares the magnitude of recent price changes across stocks\n",
    "    to idetnfiy stocks as overbought or oversold.\n",
    "    A high RSI (usually above 70) indicate overbought and a low RSI \n",
    "    (typcially below 30) indicates oversold.\n",
    "    If first computes the avg price change for a given # (often 14)\n",
    "    of peior trading days with rising prices and falling prices\"\"\"\n"
   ]
  },
  {
   "cell_type": "code",
   "execution_count": 2,
   "id": "f1c4cf0d",
   "metadata": {},
   "outputs": [
    {
     "data": {
      "text/plain": [
       "'This factor computes the total return for a given number of prior days.\\n        It is common to use the last 12 months except for the most recent month \\n    '"
      ]
     },
     "execution_count": 2,
     "metadata": {},
     "output_type": "execute_result"
    }
   ],
   "source": [
    "## price mometnum\n",
    "\"\"\"This factor computes the total return for a given number of prior days.\n",
    "        It is common to use the last 12 months except for the most recent month \n",
    "    \"\"\""
   ]
  },
  {
   "cell_type": "code",
   "execution_count": 3,
   "id": "309bb7be",
   "metadata": {},
   "outputs": [
    {
     "data": {
      "text/plain": [
       "'The indicator normalizes the total return over the previous 12 months by dividing it by the standard deviation of these returns.'"
      ]
     },
     "execution_count": 3,
     "metadata": {},
     "output_type": "execute_result"
    }
   ],
   "source": [
    "## 12-month price momentum volume adjustment\n",
    "\"\"\"The indicator normalizes the total return over the previous 12 months by dividing it by the standard deviation of these returns.\"\"\"\n"
   ]
  },
  {
   "cell_type": "markdown",
   "id": "6064797a",
   "metadata": {},
   "source": [
    "## Value"
   ]
  },
  {
   "cell_type": "code",
   "execution_count": 1,
   "id": "a2700de4",
   "metadata": {},
   "outputs": [],
   "source": [
    "## adj book/price\n",
    "\"\"\"The Residual (Actual - Estimate) after regressing Book-to_price (depend var) over ROE (indepdnet var).\n",
    "    Note: Total Equity is adjusted for Intangibles and Goodwill\n",
    "\"\"\""
   ]
  },
  {
   "cell_type": "code",
   "execution_count": 2,
   "id": "5b3bd686",
   "metadata": {},
   "outputs": [],
   "source": [
    "## total yield\n",
    "\"\"\" 75%* Indicated Annual Dividend + 25%* YoY %chg in quarterly share count\"\"\"\n"
   ]
  },
  {
   "cell_type": "code",
   "execution_count": 3,
   "id": "b2c0808c",
   "metadata": {},
   "outputs": [],
   "source": [
    "## EBITDA/EV\n",
    "\"\"\"4 quarter sum of EBITDA/(Market Cap + LT debt + Curerent Debt- cash)\"\"\""
   ]
  },
  {
   "cell_type": "code",
   "execution_count": 4,
   "id": "e2c79cd7",
   "metadata": {},
   "outputs": [
    {
     "data": {
      "text/plain": [
       "'4 quarter trailing (OCF - less CapEx)/(Market Cap + LT debt + Curerent Debt- cash)'"
      ]
     },
     "execution_count": 4,
     "metadata": {},
     "output_type": "execute_result"
    }
   ],
   "source": [
    "## FCF/EV\n",
    "\"\"\"4 quarter trailing (OCF - less CapEx)/(Market Cap + LT debt + Curerent Debt- cash)\"\"\""
   ]
  },
  {
   "cell_type": "markdown",
   "id": "ef3a55ff",
   "metadata": {},
   "source": [
    "## Catalyst"
   ]
  },
  {
   "cell_type": "code",
   "execution_count": 6,
   "id": "75ef8246",
   "metadata": {},
   "outputs": [
    {
     "data": {
      "text/plain": [
       "\"50/50 Blend of Detailed Revision Varaible (DRV) & diffusion.\\n    DRV = Time weighted sum of an individual analyst's action scores.\\n    Diffusion = 50%/35%/15% weights on the latest 3 months of EPS estiamte diffusuon scores: (#up - # down)/# estimates\""
      ]
     },
     "execution_count": 6,
     "metadata": {},
     "output_type": "execute_result"
    }
   ],
   "source": [
    "## Earnigns Revisions\n",
    "\"\"\"50/50 Blend of Detailed Revision Varaible (DRV) & diffusion.\n",
    "    DRV = Time weighted sum of an individual analyst's action scores.\n",
    "    Diffusion = 50%/35%/15% weights on the latest 3 months of EPS estiamte diffusuon scores: (#up - # down)/# estimates\"\"\""
   ]
  },
  {
   "cell_type": "code",
   "execution_count": 7,
   "id": "27d9ff79",
   "metadata": {},
   "outputs": [
    {
     "data": {
      "text/plain": [
       "'Linear Trend * Goodness of FIt'"
      ]
     },
     "execution_count": 7,
     "metadata": {},
     "output_type": "execute_result"
    }
   ],
   "source": [
    "### Linear momentum\n",
    "\"\"\"Linear Trend * Goodness of FIt\"\"\""
   ]
  },
  {
   "cell_type": "code",
   "execution_count": 8,
   "id": "da48f55c",
   "metadata": {},
   "outputs": [
    {
     "data": {
      "text/plain": [
       "'50/50 weighting:\\n    SHort interest Level & 1 Year chg in Short Interest Level, where Short Interest level  Short Interest Shares/shares out'"
      ]
     },
     "execution_count": 8,
     "metadata": {},
     "output_type": "execute_result"
    }
   ],
   "source": [
    "### Short Interest\n",
    "\"\"\"50/50 weighting:\n",
    "    SHort interest Level & 1 Year chg in Short Interest Level, where Short Interest level  Short Interest Shares/shares out\"\"\""
   ]
  },
  {
   "cell_type": "code",
   "execution_count": null,
   "id": "64f418d4",
   "metadata": {},
   "outputs": [],
   "source": [
    "### OCF Surprise\n",
    "\"\"\"For a given quarter:\n",
    "    The latest 4 quarter change in OCF divided by the standard dev of that chagne over the prior 12 quarters.\n",
    "    The final score is the weighted (40%/30%/20%/10%) sum of the latest 4 quartesr of OCF surprise\"\"\""
   ]
  }
 ],
 "metadata": {
  "kernelspec": {
   "display_name": "Python 3",
   "language": "python",
   "name": "python3"
  },
  "language_info": {
   "codemirror_mode": {
    "name": "ipython",
    "version": 3
   },
   "file_extension": ".py",
   "mimetype": "text/x-python",
   "name": "python",
   "nbconvert_exporter": "python",
   "pygments_lexer": "ipython3",
   "version": "3.8.8"
  }
 },
 "nbformat": 4,
 "nbformat_minor": 5
}
