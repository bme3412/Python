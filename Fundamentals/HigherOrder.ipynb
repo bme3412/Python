{
 "cells": [
  {
   "cell_type": "code",
   "execution_count": 1,
   "id": "3604d736",
   "metadata": {},
   "outputs": [],
   "source": [
    "def total_bill(func, value):\n",
    "    total = func(value)\n",
    "    return total"
   ]
  },
  {
   "cell_type": "code",
   "execution_count": 2,
   "id": "7e4ac5b8",
   "metadata": {},
   "outputs": [
    {
     "data": {
      "text/plain": [
       "106.0"
      ]
     },
     "execution_count": 2,
     "metadata": {},
     "output_type": "execute_result"
    }
   ],
   "source": [
    "# higher order functions\n",
    "\n",
    "def add_tax(total):\n",
    "    tax = total * 0.06\n",
    "    new_total = total + tax\n",
    "    return new_total\n",
    "\n",
    "# call total_bill func, passing in the add_tax func and a value\n",
    "total_bill(add_tax,100)"
   ]
  },
  {
   "cell_type": "code",
   "execution_count": 3,
   "id": "86929489",
   "metadata": {},
   "outputs": [
    {
     "data": {
      "text/plain": [
       "120.0"
      ]
     },
     "execution_count": 3,
     "metadata": {},
     "output_type": "execute_result"
    }
   ],
   "source": [
    "def add_tip(total):\n",
    "    tip = total * .2\n",
    "    new_total = total + tip\n",
    "    return new_total\n",
    "\n",
    "total_bill(add_tip, 100)"
   ]
  },
  {
   "cell_type": "code",
   "execution_count": 4,
   "id": "eaf25397",
   "metadata": {},
   "outputs": [],
   "source": [
    "def total_bill(func, value):\n",
    "    total = func(value)\n",
    "    return (\"The total amount owed is $\" + \"{:.2f}\".format(total) + '. Thank you! :)')"
   ]
  },
  {
   "cell_type": "code",
   "execution_count": 5,
   "id": "dec455b4",
   "metadata": {},
   "outputs": [
    {
     "name": "stdout",
     "output_type": "stream",
     "text": [
      "The total amount owed is $106.00. Thank you! :)\n",
      "The total amount owed is $120.00. Thank you! :)\n"
     ]
    }
   ],
   "source": [
    "print(total_bill(add_tax, 100))\n",
    "print(total_bill(add_tip,100))\n"
   ]
  },
  {
   "cell_type": "code",
   "execution_count": 8,
   "id": "2b470d78",
   "metadata": {},
   "outputs": [
    {
     "name": "stdout",
     "output_type": "stream",
     "text": [
      "['Total amount owed is $121.90. Thank you! :)', 'Total amount owed is $127.20. Thank you! :)', 'Total amount owed is $44.52. Thank you! :)']\n"
     ]
    }
   ],
   "source": [
    "bills = [115, 120, 42]\n",
    "new_bills = []\n",
    "\n",
    "for i in range(len(bills)):\n",
    "    total = add_tax(bills[i])\n",
    "    new_bills.append(\"Total amount owed is $\" + \"{:.2f}\".format(total) + \". Thank you! :)\")\n",
    "print(new_bills)"
   ]
  },
  {
   "cell_type": "code",
   "execution_count": 9,
   "id": "4c0deb1b",
   "metadata": {},
   "outputs": [],
   "source": [
    "def total_bills(func, list):\n",
    "    new_bills = []\n",
    "    \n",
    "    for i in range(len(list)):\n",
    "        \n",
    "        total = func(list[i])\n",
    "        new_bills.append(\"Total amount owed is $\" + \"{:.2f}\".format(total) + \". Thank you! :)\")\n",
    "    \n",
    "    return new_bills"
   ]
  },
  {
   "cell_type": "code",
   "execution_count": 11,
   "id": "a86c02b9",
   "metadata": {},
   "outputs": [
    {
     "name": "stdout",
     "output_type": "stream",
     "text": [
      "['Total amount owed is $121.90. Thank you! :)', 'Total amount owed is $127.20. Thank you! :)', 'Total amount owed is $44.52. Thank you! :)']\n"
     ]
    }
   ],
   "source": [
    "bills = [115, 120, 42]\n",
    "\n",
    "bills_w_tax = total_bills(add_tax, bills)\n",
    "print(bills_w_tax)"
   ]
  },
  {
   "cell_type": "code",
   "execution_count": 12,
   "id": "a9d75a42",
   "metadata": {},
   "outputs": [
    {
     "name": "stdout",
     "output_type": "stream",
     "text": [
      "['Total amount owed is $138.00. Thank you! :)', 'Total amount owed is $144.00. Thank you! :)', 'Total amount owed is $50.40. Thank you! :)']\n"
     ]
    }
   ],
   "source": [
    "bills_w_tip = total_bills(add_tip, bills)\n",
    "print(bills_w_tip)"
   ]
  },
  {
   "cell_type": "markdown",
   "id": "611eb1a5",
   "metadata": {},
   "source": [
    "## Return Values"
   ]
  },
  {
   "cell_type": "code",
   "execution_count": 13,
   "id": "231c66e8",
   "metadata": {},
   "outputs": [
    {
     "name": "stdout",
     "output_type": "stream",
     "text": [
      "90\n"
     ]
    }
   ],
   "source": [
    "def make_box_volume_function(height):\n",
    "    \n",
    "    def volume(length, width):\n",
    "        return length*width*height\n",
    "    \n",
    "    return volume\n",
    "\n",
    "box_volume_height15 = make_box_volume_function(15)\n",
    "print(box_volume_height15(3,2))"
   ]
  },
  {
   "cell_type": "code",
   "execution_count": null,
   "id": "0cbf8035",
   "metadata": {},
   "outputs": [],
   "source": []
  }
 ],
 "metadata": {
  "kernelspec": {
   "display_name": "Python 3",
   "language": "python",
   "name": "python3"
  },
  "language_info": {
   "codemirror_mode": {
    "name": "ipython",
    "version": 3
   },
   "file_extension": ".py",
   "mimetype": "text/x-python",
   "name": "python",
   "nbconvert_exporter": "python",
   "pygments_lexer": "ipython3",
   "version": "3.8.8"
  }
 },
 "nbformat": 4,
 "nbformat_minor": 5
}
