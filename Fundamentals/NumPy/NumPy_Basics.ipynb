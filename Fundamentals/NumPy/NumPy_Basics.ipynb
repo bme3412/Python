{
 "cells": [
  {
   "cell_type": "markdown",
   "id": "529de4c0",
   "metadata": {},
   "source": [
    "Numpy enables fast computation in Python -- the underlying implementation is in C so it's very fast.\n",
    "The key feature of NumPy is the 'ndarray' object.\n",
    "The data type should be homogenous; the array should contain elements of single data type"
   ]
  },
  {
   "cell_type": "code",
   "execution_count": null,
   "id": "f35b3aec",
   "metadata": {},
   "outputs": [],
   "source": [
    "import numpy as np"
   ]
  },
  {
   "cell_type": "code",
   "execution_count": 3,
   "id": "88c66b15",
   "metadata": {},
   "outputs": [
    {
     "name": "stdout",
     "output_type": "stream",
     "text": [
      "Vector [1 2 3 4]\n",
      "Shape (4,)\n",
      "Dim: 1\n",
      "Data type: int64\n"
     ]
    }
   ],
   "source": [
    "vector = np.array([1,2,3,4])\n",
    "print(\"Vector {}\".format(vector))\n",
    "# every array will have a shape - as demarkated by its dimensions\n",
    "print(\"Shape {}\".format(vector.shape))\n",
    "\n",
    "# print # of dimensions\n",
    "print(\"Dim: {}\".format(vector.ndim))\n",
    "print(\"Data type: {}\".format(vector.dtype))\n"
   ]
  },
  {
   "cell_type": "markdown",
   "id": "1e03e543",
   "metadata": {},
   "source": [
    "The number of dimensions numpy uses is as follows:\n",
    "`(depth, rows, columns)`\n",
    "So a 3D array of 3 rows, 2 columns and 2 depth will ahve the following shape:\n",
    "(2, 3, 2)"
   ]
  },
  {
   "cell_type": "code",
   "execution_count": 4,
   "id": "8e87a7a7",
   "metadata": {},
   "outputs": [
    {
     "name": "stdout",
     "output_type": "stream",
     "text": [
      "[[[ 1  2]\n",
      "  [ 3  4]\n",
      "  [ 5  6]]\n",
      "\n",
      " [[ 7  8]\n",
      "  [ 9 10]\n",
      "  [11 12]]]\n"
     ]
    }
   ],
   "source": [
    "v = np.array([1, 2, 3, 4, 5, 6, 7, 8, 9, 10, 11, 12])\n",
    "v.shape = (2, 3, 2)\n",
    "print(v)"
   ]
  },
  {
   "cell_type": "code",
   "execution_count": 6,
   "id": "df45a14b",
   "metadata": {},
   "outputs": [
    {
     "name": "stdout",
     "output_type": "stream",
     "text": [
      "[[[0. 0.]\n",
      "  [0. 0.]\n",
      "  [0. 0.]]\n",
      "\n",
      " [[0. 0.]\n",
      "  [0. 0.]\n",
      "  [0. 0.]]]\n"
     ]
    }
   ],
   "source": [
    "v = np.zeros((2,3,2))\n",
    "print(v)"
   ]
  },
  {
   "cell_type": "markdown",
   "id": "59ae6415",
   "metadata": {},
   "source": [
    "## arange\n",
    "+ The `arange` function is similar to Python's 'range' function\n",
    "+ the data type, is not specified, will be np.float(64)"
   ]
  },
  {
   "cell_type": "code",
   "execution_count": 7,
   "id": "9a26f169",
   "metadata": {},
   "outputs": [
    {
     "name": "stdout",
     "output_type": "stream",
     "text": [
      "[ 0  1  2  3  4  5  6  7  8  9 10 11 12 13 14]\n"
     ]
    }
   ],
   "source": [
    "a = np.arange(15)\n",
    "print(a)"
   ]
  },
  {
   "cell_type": "markdown",
   "id": "0c45e179",
   "metadata": {},
   "source": [
    "## zeros, zeros_like\n",
    "+ `zeros(dim)` will return a np.array of 'dim' dimensions initialzied with 0. Note that dim should be a tuple\n",
    "+ `zeros_like(array)` will return a np.array of same dimensions as of array, initialized with zeros\n",
    "+ the same functionality applies for 'ones' and 'ones_like'\n",
    "+ as well as for 'empty' and 'empty_like'"
   ]
  },
  {
   "cell_type": "code",
   "execution_count": 9,
   "id": "23d0c2cd",
   "metadata": {},
   "outputs": [
    {
     "name": "stdout",
     "output_type": "stream",
     "text": [
      "zeros\n",
      "a: [[0. 0. 0.]\n",
      " [0. 0. 0.]\n",
      " [0. 0. 0.]]\n",
      "B: [[0. 0. 0.]\n",
      " [0. 0. 0.]\n",
      " [0. 0. 0.]]\n",
      "---------------------------------------------------------------------------\n",
      "\n",
      "Ones\n",
      "a: [[1. 1. 1.]\n",
      " [1. 1. 1.]\n",
      " [1. 1. 1.]]\n",
      "b: [[1. 1. 1.]\n",
      " [1. 1. 1.]\n",
      " [1. 1. 1.]]\n",
      "---------------------------------------------------------------------------\n",
      "\n",
      "Empty\n",
      "a: [[1. 1. 1.]\n",
      " [1. 1. 1.]\n",
      " [1. 1. 1.]]\n",
      "b: [[1. 1. 1.]\n",
      " [1. 1. 1.]\n",
      " [1. 1. 1.]]\n"
     ]
    }
   ],
   "source": [
    "print(\"zeros\")\n",
    "a = np.zeros((3,3))\n",
    "print(\"a: {}\".format(a))\n",
    "\n",
    "b = np.zeros_like(a)\n",
    "print('B: {}'.format(b))\n",
    "print('-'*75)\n",
    "print('\\nOnes')\n",
    "a = np.ones((3,3))\n",
    "print('a: {}'.format(a))\n",
    "b = np.ones_like(a)\n",
    "print('b: {}'.format(b))\n",
    "print('-'*75)\n",
    "print('\\nEmpty')\n",
    "a = np.empty((3,3))\n",
    "print('a: {}'.format(a))\n",
    "b = np.empty_like(a)\n",
    "print('b: {}'.format(b))"
   ]
  },
  {
   "cell_type": "markdown",
   "id": "8beba189",
   "metadata": {},
   "source": [
    "## astype\n",
    "+ `astype` will convert 1 data type to another\n",
    "+ `astype` will create a new copy of the input array - even if the data type is the same\n",
    "\n"
   ]
  },
  {
   "cell_type": "code",
   "execution_count": 12,
   "id": "733d2f64",
   "metadata": {},
   "outputs": [
    {
     "name": "stdout",
     "output_type": "stream",
     "text": [
      "a: [1.  2.  3.  4.5 6.7], dtype: float64\n",
      "b: [1 2 3 4 6], dtype: int64\n"
     ]
    }
   ],
   "source": [
    "a = np.array([1, 2, 3, 4.5, 6.7])\n",
    "print('a: {}, dtype: {}'.format(a, a.dtype))\n",
    "b = a.astype(int)\n",
    "print('b: {}, dtype: {}'.format(b, b.dtype))"
   ]
  },
  {
   "cell_type": "markdown",
   "id": "6c66b18d",
   "metadata": {},
   "source": [
    "## Vectorization and vector-scalar operations\n",
    "+ Using `for loops` in code is not only prone to error, but also is inefficent\n",
    "+ can use NumPy to cirucmvent for loops through `vectorization`"
   ]
  },
  {
   "cell_type": "code",
   "execution_count": 13,
   "id": "8f46e22d",
   "metadata": {},
   "outputs": [
    {
     "name": "stdout",
     "output_type": "stream",
     "text": [
      "[[5 7 9]\n",
      " [5 7 9]]\n",
      "[[ 4 10 18]\n",
      " [ 4 10 18]]\n",
      "[[-3 -3 -3]\n",
      " [ 3  3  3]]\n"
     ]
    }
   ],
   "source": [
    "a = np.array([[1, 2,3], [4, 5, 6]])\n",
    "b = np.array([[4, 5, 6], [1, 2, 3]])\n",
    "\n",
    "c = a + b\n",
    "print(c)\n",
    "\n",
    "c = a * b\n",
    "print(c)\n",
    "\n",
    "c = a - b\n",
    "print(c)"
   ]
  },
  {
   "cell_type": "markdown",
   "id": "11cb8da5",
   "metadata": {},
   "source": [
    "+ Using scalars with vector will produce element-wise operations"
   ]
  },
  {
   "cell_type": "code",
   "execution_count": 14,
   "id": "1d0a379c",
   "metadata": {},
   "outputs": [
    {
     "name": "stdout",
     "output_type": "stream",
     "text": [
      "[[4 5 6]\n",
      " [7 8 9]]\n",
      "----------\n",
      "[[ 3  6  9]\n",
      " [12 15 18]]\n",
      "----------\n",
      "[[1.         0.5        0.33333333]\n",
      " [0.25       0.2        0.16666667]]\n"
     ]
    }
   ],
   "source": [
    "a = 3\n",
    "b = np.array([[1, 2, 3], [4, 5, 6]])\n",
    "\n",
    "c = a + b\n",
    "print(c)\n",
    "print('-'*10)\n",
    "c = a*b\n",
    "print(c)\n",
    "print('-'*10)\n",
    "c = 1.0/b\n",
    "print(c)"
   ]
  },
  {
   "cell_type": "markdown",
   "id": "558ff36c",
   "metadata": {},
   "source": [
    "## Slicing"
   ]
  },
  {
   "cell_type": "markdown",
   "id": "fb80db95",
   "metadata": {},
   "source": [
    "+ You can slice by the following syntax:\n",
    "+ `array[start_index: end_index]`\n",
    "\n",
    "+ for n-dimensional array:\n",
    "+ `array[start_index:end_index, start_index: end_index]`\n",
    "\n"
   ]
  },
  {
   "cell_type": "code",
   "execution_count": 15,
   "id": "687b2195",
   "metadata": {},
   "outputs": [
    {
     "name": "stdout",
     "output_type": "stream",
     "text": [
      "[ 0  1  2  3  4  5  6  7  8  9 10 11 12 13 14 15 16 17 18 19]\n",
      "--------------------\n",
      "[ 0  1  2  3  4  5  6  7  8  9  5  5  5  5  5 15 16 17 18 19]\n"
     ]
    }
   ],
   "source": [
    "a = np.arange(20)\n",
    "print(a)\n",
    "print('-'*20)\n",
    "a[10:15] = 5\n",
    "print(a)"
   ]
  },
  {
   "cell_type": "markdown",
   "id": "bd68a2b0",
   "metadata": {},
   "source": [
    "+ to avoid the above senario, can use `copy()`"
   ]
  },
  {
   "cell_type": "code",
   "execution_count": 16,
   "id": "5132f052",
   "metadata": {},
   "outputs": [
    {
     "name": "stdout",
     "output_type": "stream",
     "text": [
      "[ 0  1  2  3  4  5  6  7  8  9 10 11 12 13 14 15 16 17 18 19]\n",
      "------------------------------\n",
      " \n",
      "[ 0  1  2  3  4  5  6  7  8  9 10 11 12 13 14 15 16 17 18 19]\n"
     ]
    }
   ],
   "source": [
    "a = np.arange(20)\n",
    "print(a)\n",
    "print('-'*30)\n",
    "print(\" \")\n",
    "b = a[10:15].copy()\n",
    "b = 5\n",
    "print(a) # value in the original array does not change"
   ]
  },
  {
   "cell_type": "markdown",
   "id": "79a9fac4",
   "metadata": {},
   "source": [
    "+ Slicing by `:` will take the entire axis. So:\n",
    "1. `arr2d[:,0]` --> will reutn array of shape (3,)\n",
    "2. `arr2d[:, :1]` --> will return array of shape (3,1)"
   ]
  },
  {
   "cell_type": "markdown",
   "id": "4ce31dfa",
   "metadata": {},
   "source": [
    "## Boolean indexing\n",
    "+ Using boolean indeing, can use it to filter or check if any entries have any specific values"
   ]
  },
  {
   "cell_type": "code",
   "execution_count": 17,
   "id": "e4001bbb",
   "metadata": {},
   "outputs": [
    {
     "data": {
      "text/plain": [
       "array([ True, False, False, False, False])"
      ]
     },
     "execution_count": 17,
     "metadata": {},
     "output_type": "execute_result"
    }
   ],
   "source": [
    "a = np.array(['Brendan', 'is', 'an', 'awesome', 'coder'])\n",
    "a == 'Brendan' # returns Boolean array"
   ]
  },
  {
   "cell_type": "code",
   "execution_count": 18,
   "id": "4c525756",
   "metadata": {},
   "outputs": [
    {
     "data": {
      "text/plain": [
       "array(['is', 'an', 'awesome', 'coder'], dtype='<U7')"
      ]
     },
     "execution_count": 18,
     "metadata": {},
     "output_type": "execute_result"
    }
   ],
   "source": [
    "# lists entry where valie != 'Brendan'\n",
    "a[~(a == \"Brendan\")]"
   ]
  },
  {
   "cell_type": "markdown",
   "id": "8ae2a1e8",
   "metadata": {},
   "source": [
    "+ Can use `|` for `or` and `&` for `and`; but Python's `and`, `or` will not work with Numpy indexing"
   ]
  },
  {
   "cell_type": "code",
   "execution_count": 19,
   "id": "c078260a",
   "metadata": {},
   "outputs": [
    {
     "data": {
      "text/plain": [
       "array([ True, False, False, False,  True])"
      ]
     },
     "execution_count": 19,
     "metadata": {},
     "output_type": "execute_result"
    }
   ],
   "source": [
    "(a == \"Brendan\") | (a=='coder')"
   ]
  },
  {
   "cell_type": "markdown",
   "id": "0511ebf1",
   "metadata": {},
   "source": [
    "## Fancy indexing\n",
    "+ you can index a list to print the array in the given order.\n",
    "+ for example, to print the first row, 3rd row and 2nd row, in that order"
   ]
  },
  {
   "cell_type": "code",
   "execution_count": 20,
   "id": "6fa84ed3",
   "metadata": {},
   "outputs": [
    {
     "name": "stdout",
     "output_type": "stream",
     "text": [
      "[[1 1 1]\n",
      " [2 2 2]\n",
      " [3 3 3]\n",
      " [4 4 4]]\n"
     ]
    },
    {
     "data": {
      "text/plain": [
       "array([[2, 2, 2],\n",
       "       [4, 4, 4],\n",
       "       [3, 3, 3]])"
      ]
     },
     "execution_count": 20,
     "metadata": {},
     "output_type": "execute_result"
    }
   ],
   "source": [
    "a = np.array([[1, 1, 1], [2, 2, 2], [3, 3, 3], [4, 4, 4]])\n",
    "print(a)\n",
    "a[[1, 3, 2]]"
   ]
  },
  {
   "cell_type": "markdown",
   "id": "7d9db246",
   "metadata": {},
   "source": [
    "## Transposing\n",
    "+ can obtain the transpose of the matrix using `matrix.T` where `matrix` is the matrix name"
   ]
  },
  {
   "cell_type": "code",
   "execution_count": 21,
   "id": "d3985373",
   "metadata": {},
   "outputs": [
    {
     "name": "stdout",
     "output_type": "stream",
     "text": [
      "[[1 2 3 4]\n",
      " [1 2 3 4]\n",
      " [1 2 3 4]]\n"
     ]
    }
   ],
   "source": [
    "a = np.array([[1, 1, 1], [2, 2, 2], [3, 3, 3], [4, 4, 4]])\n",
    "print(a.T)"
   ]
  },
  {
   "cell_type": "markdown",
   "id": "1c798b40",
   "metadata": {},
   "source": [
    "# Univerrsal Functions\n",
    "+ NumPy has a variety of functions that can be applied to scalars, as we ll as vectors\n",
    "+ examples: sqrt, exp, log, log10, sin, cos, arcsin"
   ]
  },
  {
   "cell_type": "code",
   "execution_count": 22,
   "id": "4f05a925",
   "metadata": {},
   "outputs": [
    {
     "name": "stdout",
     "output_type": "stream",
     "text": [
      "485165195.4097903\n",
      "[[1.13399082 1.55663219]\n",
      " [1.48626796 2.46391036]]\n"
     ]
    }
   ],
   "source": [
    "a = 20\n",
    "b = np.random.rand(2,2)\n",
    "print(np.exp(a))\n",
    "print(np.exp(b))"
   ]
  },
  {
   "cell_type": "markdown",
   "id": "34afa82c",
   "metadata": {},
   "source": [
    "## meshgrid\n",
    "+ This is one of the most useful functions\n",
    "+ It is used to visualize data boundaries of the classifiers\n",
    "+ to start, train the classifier, then create a `meshgrid` of every pixel in the plot, then classify the pixel\n",
    "+ when you give the pixel a specific color according to the labeled class, can visualzie the boundaries\n",
    "\n",
    "+ As follows:\n",
    "1) Create xs (1D array)\n",
    "2) create ys (1D array)\n",
    "3) create meshgrid (2D array) which correspodns to every pixel in the graph.\n"
   ]
  },
  {
   "cell_type": "code",
   "execution_count": 24,
   "id": "a1f4343b",
   "metadata": {},
   "outputs": [],
   "source": [
    "xs = np.linspace(1, 10, 100)\n",
    "ys = np.linspace(1, 10, 100)\n",
    "xx, yy = np.meshgrid(xs, ys)"
   ]
  },
  {
   "cell_type": "markdown",
   "id": "369b8ac9",
   "metadata": {},
   "source": [
    "## Where\n",
    "+ if have 3 arrays x, y and condition then, `np.where` is a replcaement for using an if/else"
   ]
  },
  {
   "cell_type": "code",
   "execution_count": 25,
   "id": "3e2fd15a",
   "metadata": {},
   "outputs": [
    {
     "data": {
      "text/plain": [
       "array([ 0,  3,  2,  3,  2, -5])"
      ]
     },
     "execution_count": 25,
     "metadata": {},
     "output_type": "execute_result"
    }
   ],
   "source": [
    "a = [0, -1, 2, 3, -4, -5]\n",
    "b = [9, 3, 4, 11, 2, 3]\n",
    "c = [True, False, True, True, False, True]\n",
    "np.where(c, a, b)"
   ]
  },
  {
   "cell_type": "markdown",
   "id": "627aa2f5",
   "metadata": {},
   "source": [
    "## mean, sum, std"
   ]
  },
  {
   "cell_type": "code",
   "execution_count": 26,
   "id": "49d29fcb",
   "metadata": {},
   "outputs": [
    {
     "name": "stdout",
     "output_type": "stream",
     "text": [
      "[[0.05375034 0.94807048 0.22542186]\n",
      " [0.36655549 0.14258136 0.60104201]\n",
      " [0.30948953 0.97512278 0.05538798]]\n",
      "0.40860242580816997\n",
      "0.40860242580816997\n",
      "0.33592296995843157\n"
     ]
    }
   ],
   "source": [
    "a = np.random.rand(3,3)\n",
    "print(a)\n",
    "print(np.mean(a))\n",
    "print(a.mean())\n",
    "\n",
    "print(np.std(a))"
   ]
  },
  {
   "cell_type": "code",
   "execution_count": null,
   "id": "55677a86",
   "metadata": {},
   "outputs": [],
   "source": []
  }
 ],
 "metadata": {
  "kernelspec": {
   "display_name": "Python 3",
   "language": "python",
   "name": "python3"
  },
  "language_info": {
   "codemirror_mode": {
    "name": "ipython",
    "version": 3
   },
   "file_extension": ".py",
   "mimetype": "text/x-python",
   "name": "python",
   "nbconvert_exporter": "python",
   "pygments_lexer": "ipython3",
   "version": "3.8.8"
  }
 },
 "nbformat": 4,
 "nbformat_minor": 5
}
