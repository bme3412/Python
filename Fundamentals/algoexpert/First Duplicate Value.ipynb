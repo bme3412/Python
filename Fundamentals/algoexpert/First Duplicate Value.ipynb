{
 "cells": [
  {
   "cell_type": "code",
   "execution_count": 1,
   "id": "789415e8",
   "metadata": {},
   "outputs": [],
   "source": [
    "# return the integer whose whose duplicate value has the minimum index"
   ]
  },
  {
   "cell_type": "code",
   "execution_count": 30,
   "id": "528b34b0",
   "metadata": {},
   "outputs": [],
   "source": [
    "array = [2, 1, 5, 2, 3, 3, 4]"
   ]
  },
  {
   "cell_type": "code",
   "execution_count": 26,
   "id": "459e2a5a",
   "metadata": {},
   "outputs": [],
   "source": [
    "def firstDuplicateValue(array):\n",
    "    integer_count = {}\n",
    "    for i in array:\n",
    "        if i in integer_count:\n",
    "            integer_count[i] +=1\n",
    "        else:\n",
    "            integer_count[i] = 1\n",
    "    for key in integer_count:\n",
    "        if (integer_count[key]==2):\n",
    "            break\n",
    "    return integer_count[key]\n",
    "    "
   ]
  },
  {
   "cell_type": "code",
   "execution_count": 27,
   "id": "36e56da4",
   "metadata": {},
   "outputs": [
    {
     "data": {
      "text/plain": [
       "1"
      ]
     },
     "execution_count": 27,
     "metadata": {},
     "output_type": "execute_result"
    }
   ],
   "source": [
    "firstDuplicateValue(array)"
   ]
  },
  {
   "cell_type": "code",
   "execution_count": 31,
   "id": "bd325238",
   "metadata": {},
   "outputs": [],
   "source": [
    "def firstDuplicateValue2(array):\n",
    "    hash_ = {}\n",
    "    for item in array:\n",
    "        if hash_.get(item):\n",
    "            return item\n",
    "        hash_[item] = True\n",
    "    return -1"
   ]
  },
  {
   "cell_type": "code",
   "execution_count": 32,
   "id": "f8071ae9",
   "metadata": {},
   "outputs": [
    {
     "data": {
      "text/plain": [
       "2"
      ]
     },
     "execution_count": 32,
     "metadata": {},
     "output_type": "execute_result"
    }
   ],
   "source": [
    "firstDuplicateValue2(array)"
   ]
  },
  {
   "cell_type": "code",
   "execution_count": 33,
   "id": "93e513e7",
   "metadata": {},
   "outputs": [],
   "source": [
    "def firstDuplicateValue_set(array):\n",
    "    s = set()\n",
    "    for i in array:\n",
    "        if i in s:\n",
    "            return i\n",
    "        else:\n",
    "            s.add(i)\n",
    "    else:\n",
    "        return -1"
   ]
  },
  {
   "cell_type": "code",
   "execution_count": 34,
   "id": "d96f5869",
   "metadata": {},
   "outputs": [
    {
     "data": {
      "text/plain": [
       "2"
      ]
     },
     "execution_count": 34,
     "metadata": {},
     "output_type": "execute_result"
    }
   ],
   "source": [
    "firstDuplicateValue2(array)"
   ]
  },
  {
   "cell_type": "code",
   "execution_count": 35,
   "id": "a961ea81",
   "metadata": {},
   "outputs": [],
   "source": [
    "def firstDuplicateValue_hash(array):\n",
    "    map = {}\n",
    "    \n",
    "    for i in range(len(array)):\n",
    "        if array[i] not in map:\n",
    "            map[array[i]] = 1\n",
    "        else:\n",
    "            return array[i]\n",
    "        \n",
    "    return -1"
   ]
  },
  {
   "cell_type": "code",
   "execution_count": 36,
   "id": "67a3be50",
   "metadata": {},
   "outputs": [
    {
     "data": {
      "text/plain": [
       "2"
      ]
     },
     "execution_count": 36,
     "metadata": {},
     "output_type": "execute_result"
    }
   ],
   "source": [
    "firstDuplicateValue_hash(array)"
   ]
  },
  {
   "cell_type": "code",
   "execution_count": null,
   "id": "cfb7e70a",
   "metadata": {},
   "outputs": [],
   "source": []
  }
 ],
 "metadata": {
  "kernelspec": {
   "display_name": "Python 3",
   "language": "python",
   "name": "python3"
  },
  "language_info": {
   "codemirror_mode": {
    "name": "ipython",
    "version": 3
   },
   "file_extension": ".py",
   "mimetype": "text/x-python",
   "name": "python",
   "nbconvert_exporter": "python",
   "pygments_lexer": "ipython3",
   "version": "3.8.8"
  }
 },
 "nbformat": 4,
 "nbformat_minor": 5
}
