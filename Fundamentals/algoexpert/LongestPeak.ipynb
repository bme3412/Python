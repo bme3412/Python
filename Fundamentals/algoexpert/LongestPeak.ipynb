{
 "cells": [
  {
   "cell_type": "markdown",
   "id": "9767750e",
   "metadata": {},
   "source": [
    "# Prompt\n",
    "+ Write a function that:\n",
    "    + takes in an array of integers - and returns the longest peak in an array\n",
    "+ Where:\n",
    "    + a peak is defined as adjacent integers in the array that are strictly increasing, until they reach a tip (the highest value in the peak), at which point they become strcitly decreasing\n",
    "    + at least 3 integers are required to form a peak\n",
    "+ example:\n",
    "    + the integers [1, 4, 10, 2] do form a peak\n",
    "    + but [4, 0, 10] do not\n",
    "    + and [1, 2, 2, 0] do not"
   ]
  },
  {
   "cell_type": "markdown",
   "id": "dfdeb6e2",
   "metadata": {},
   "source": [
    "# Conceptual\n",
    "+ need to first find all the peaks, and then find the longest one by comparing lengths\n",
    "+ a peak is defined as a triangular peak, and then tehy decrease\n",
    "+ to find peaks, iterate through the array and compare the integers to adjancent values\n",
    "+ then find the length of the praks\n",
    "+ and compare the lengths of the peaks, and return the length of the longest peak\n"
   ]
  },
  {
   "cell_type": "markdown",
   "id": "980c4254",
   "metadata": {},
   "source": [
    "# Code"
   ]
  },
  {
   "cell_type": "code",
   "execution_count": 10,
   "id": "1692057d",
   "metadata": {},
   "outputs": [],
   "source": [
    "array = [1, 2, 3, 3, 4, 0, 10, 6, 5, -1, -3, 2, 3]\n",
    "def longestPeak(array):\n",
    "    longestPeakLength = 0 # initialzie the variable to keep track\n",
    "    i = 1 # need to start out at the 2nd value of the array as look for peaks (ex: do not start at idx=0)\n",
    "    while i < len(array)-1: # up to the penultimate value - need 3 integers for a peak\n",
    "        isPeak = array[i-1] < array[i] and array[i] > array[i+1] # i is greater than the left integer, an the right integer\n",
    "        if not isPeak:\n",
    "            i +=1\n",
    "            continue\n",
    "            \n",
    "        # set the indices of the peak based on i\n",
    "        leftIdx = i-2 # set the left index integer\n",
    "        while leftIdx >=0 and array[leftIdx] < array[leftIdx +1]: # make sure there is a peak\n",
    "            leftIdx-=1\n",
    "            \n",
    "        rightIdx = i+2\n",
    "        while rightIdx < len(array) and array[rightIdx] < array[rightIdx -1]:\n",
    "            rightIdx +=1\n",
    "        \n",
    "        currentPeakLength = rightIdx - leftIdx -1\n",
    "        longestPeakLength = max(longestPeakLength, currentPeakLength)\n",
    "        i = rightIdx\n",
    "    return longestPeakLength\n"
   ]
  },
  {
   "cell_type": "code",
   "execution_count": 11,
   "id": "144de5f0",
   "metadata": {},
   "outputs": [
    {
     "data": {
      "text/plain": [
       "6"
      ]
     },
     "execution_count": 11,
     "metadata": {},
     "output_type": "execute_result"
    }
   ],
   "source": [
    "longestPeak(array)"
   ]
  },
  {
   "cell_type": "markdown",
   "id": "8469677a",
   "metadata": {},
   "source": [
    "# Big O notation\n",
    "+ time complexity = O(1) linear time\n",
    "+ space complexity = O(1) space constant"
   ]
  },
  {
   "cell_type": "code",
   "execution_count": null,
   "id": "10e55851",
   "metadata": {},
   "outputs": [],
   "source": []
  }
 ],
 "metadata": {
  "kernelspec": {
   "display_name": "Python 3",
   "language": "python",
   "name": "python3"
  },
  "language_info": {
   "codemirror_mode": {
    "name": "ipython",
    "version": 3
   },
   "file_extension": ".py",
   "mimetype": "text/x-python",
   "name": "python",
   "nbconvert_exporter": "python",
   "pygments_lexer": "ipython3",
   "version": "3.8.8"
  }
 },
 "nbformat": 4,
 "nbformat_minor": 5
}
