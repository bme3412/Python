{
 "cells": [
  {
   "cell_type": "markdown",
   "id": "f493e907",
   "metadata": {},
   "source": [
    "# Prompt"
   ]
  },
  {
   "cell_type": "markdown",
   "id": "54cd98ef",
   "metadata": {},
   "source": [
    "+ Write a function, that:\n",
    "    + take in an array of integers,\n",
    "    + and returns a BOOLEAN on whether or not, the array is MONOTONIC\n",
    "+ where:\n",
    "    + an array ius MONOTONIC, if its elements, from left to right, are entirely non-increasing, or entirely non-decreasing\n",
    "    \n",
    "+ as an aside: empty arrays, and arrays of 1 element, are monotonic"
   ]
  },
  {
   "cell_type": "markdown",
   "id": "bec8f3be",
   "metadata": {},
   "source": [
    "# Sample I/O"
   ]
  },
  {
   "cell_type": "code",
   "execution_count": 5,
   "id": "822090b8",
   "metadata": {},
   "outputs": [
    {
     "data": {
      "text/plain": [
       "True"
      ]
     },
     "execution_count": 5,
     "metadata": {},
     "output_type": "execute_result"
    }
   ],
   "source": [
    "# Input\n",
    "\n",
    "array = [-1, -5, -10, -1100, -1100, -1101, -1102, -9001]\n",
    "\n",
    "# Output\n",
    "True"
   ]
  },
  {
   "cell_type": "markdown",
   "id": "67efa04e",
   "metadata": {},
   "source": [
    "## Hints"
   ]
  },
  {
   "cell_type": "markdown",
   "id": "a4ecc497",
   "metadata": {},
   "source": [
    "+ 1) Can solve this question, by iterating through the input array from left to right, 1x time\n",
    "+ 2) Try iterating through the input, from left to right, to see if there are 2 adjacent integers that indicate if the array is trending UP or trending DOWN\n",
    "+ 3) or, start by assuming the array is BOTH entirely non-dcreasing, and entirely non-increasing; then as iterate, perform a check to see if can invalidate"
   ]
  },
  {
   "cell_type": "markdown",
   "id": "d60345f9",
   "metadata": {},
   "source": [
    "# Conceptual"
   ]
  },
  {
   "cell_type": "markdown",
   "id": "cbb00deb",
   "metadata": {},
   "source": [
    "+ will need to figure out if all are entirely non-increasing, or entirely non-decreasing\n",
    "+ there are 2 ways can be monotonic:\n",
    "    +) for an array to be monotonic: it has to be either entirely non-icreasing, or entirly non-decreasing;\n",
    "        + ex: can still be mononitc with elements that repeat adjacently\n",
    "+ can solve with either a single FOR loop; or back-to-back for loops"
   ]
  },
  {
   "cell_type": "markdown",
   "id": "a676f386",
   "metadata": {},
   "source": [
    "# Code"
   ]
  },
  {
   "cell_type": "markdown",
   "id": "4c7fe4a4",
   "metadata": {},
   "source": [
    "### Solution 1: Write a helper function\n",
    "+ need to see if the direction for the next integer, matches the prior integer\n",
    "+ but, bc can have duplciate values, cannot determine a direciton just based on 2 integers alone\n",
    "+ so, instantiate a direction value and compare \n",
    "+ involves 1 For loop, 1 linear time"
   ]
  },
  {
   "cell_type": "code",
   "execution_count": 6,
   "id": "bce84f05",
   "metadata": {},
   "outputs": [],
   "source": [
    "def isMonotonic(array):\n",
    "    if len(array) <=2: # will need at least 3 integers to determine monontoxity\n",
    "        return True # recall that an empty array and an array of 1 element, is monotnic\n",
    "    \n",
    "    direction = array[1] - array[0] # determine the initial direction by subtracting element #2 from #1\n",
    "    for i in range(2, len(array)):\n",
    "        if direction == 0:\n",
    "            direction = array[i] - array[i-1]\n",
    "            continue\n",
    "        if breaksDirection(direction, array[i-1], array[i]):\n",
    "            return False\n",
    "    return True\n",
    "\n",
    "def breaksDirection(direction, previousInt, currentInt):\n",
    "    difference = currentInt - previousInt\n",
    "    if direction >0:\n",
    "        return difference <0\n",
    "    return difference >0"
   ]
  },
  {
   "cell_type": "code",
   "execution_count": 7,
   "id": "4b64fa26",
   "metadata": {},
   "outputs": [
    {
     "data": {
      "text/plain": [
       "True"
      ]
     },
     "execution_count": 7,
     "metadata": {},
     "output_type": "execute_result"
    }
   ],
   "source": [
    "isMonotonic(array)"
   ]
  },
  {
   "cell_type": "markdown",
   "id": "ddd81f44",
   "metadata": {},
   "source": [
    "### Solution 2:\n",
    "+ treat the question as if it asks: Is it entirely non-decreasing? or is it entirly non-increasing\n",
    "+ then iterate throguht the array, compare values and see if it is tending down\n",
    "+ determining that an array is entirly non-increasing or entirely non-decreasing can b down with a for loop\n",
    "+ can then combine the logic, and at every point need to do checks"
   ]
  },
  {
   "cell_type": "code",
   "execution_count": 8,
   "id": "a6a164a3",
   "metadata": {},
   "outputs": [],
   "source": [
    "def isMonotonic2(array):\n",
    "    isNonDecreasing = True # instatiate as non-decreasing\n",
    "    isNonIncreasing=True # instantiate as non-increasing\n",
    "    for i in range(1, len(array)): # for all #s starting with element 2 to the end:\n",
    "        if array[i] < array[i-1]: # check to see if the element is less than the prior element\n",
    "            isNonDecreasing = False # if so, reset the variable \n",
    "        if array[i] > array[i-1]:\n",
    "            isNonIncreasing = False\n",
    "    return isNonDecreasing or isNonIncreasing\n",
    "        "
   ]
  },
  {
   "cell_type": "code",
   "execution_count": 9,
   "id": "d76c7410",
   "metadata": {},
   "outputs": [
    {
     "data": {
      "text/plain": [
       "True"
      ]
     },
     "execution_count": 9,
     "metadata": {},
     "output_type": "execute_result"
    }
   ],
   "source": [
    "isMonotonic2(array)"
   ]
  },
  {
   "cell_type": "code",
   "execution_count": 11,
   "id": "4a7eda17",
   "metadata": {},
   "outputs": [
    {
     "data": {
      "text/plain": [
       "False"
      ]
     },
     "execution_count": 11,
     "metadata": {},
     "output_type": "execute_result"
    }
   ],
   "source": [
    "array2 = [-1, -5, 7, -1100, -1100, -1101, -1102, -9001]\n",
    "isMonotonic2(array2)"
   ]
  },
  {
   "cell_type": "code",
   "execution_count": null,
   "id": "db7ddbd4",
   "metadata": {},
   "outputs": [],
   "source": []
  }
 ],
 "metadata": {
  "kernelspec": {
   "display_name": "Python 3",
   "language": "python",
   "name": "python3"
  },
  "language_info": {
   "codemirror_mode": {
    "name": "ipython",
    "version": 3
   },
   "file_extension": ".py",
   "mimetype": "text/x-python",
   "name": "python",
   "nbconvert_exporter": "python",
   "pygments_lexer": "ipython3",
   "version": "3.8.8"
  }
 },
 "nbformat": 4,
 "nbformat_minor": 5
}
