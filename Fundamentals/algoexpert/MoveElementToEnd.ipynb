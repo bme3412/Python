{
 "cells": [
  {
   "cell_type": "markdown",
   "id": "337d454b",
   "metadata": {},
   "source": [
    "# Prompt"
   ]
  },
  {
   "cell_type": "markdown",
   "id": "4b6f0092",
   "metadata": {},
   "source": [
    "+ given an array of integers, and an integer - write a fucntion:\n",
    "    + that moves all instances of the integer in the array, to the end of the array - and returns the array\n",
    "    + should be performed in place - and should mutate the input array"
   ]
  },
  {
   "cell_type": "markdown",
   "id": "b4d25b6d",
   "metadata": {},
   "source": [
    "+ sample input:\n",
    "    array = [2, 1, 2, 2, 2, 3, 4, 2]\n",
    "    toMove = 2\n",
    "+ sample output = [1, 3, 4, 2, 2, 2, 2]"
   ]
  },
  {
   "cell_type": "markdown",
   "id": "5868a2b9",
   "metadata": {},
   "source": [
    "+ note that, if sort the array could find all the instances - it would be a fairly solution and would run in n(logn(n))\n",
    "+ but there is some sort of linear time solution that is more optimal"
   ]
  },
  {
   "cell_type": "code",
   "execution_count": 3,
   "id": "a1a0584f",
   "metadata": {},
   "outputs": [],
   "source": [
    "array = [2, 1, 2, 2, 2, 3, 4, 2]\n",
    "toMove = 2"
   ]
  },
  {
   "cell_type": "markdown",
   "id": "db237a2a",
   "metadata": {},
   "source": [
    "+ j is already @ 2, so grab j, and move to the left\n",
    "+ i is pointing to 2\n",
    "+ can swap values of the array\n",
    "+ them move the i forward, move j to the left"
   ]
  },
  {
   "cell_type": "markdown",
   "id": "c109de54",
   "metadata": {},
   "source": [
    "# Code"
   ]
  },
  {
   "cell_type": "code",
   "execution_count": 4,
   "id": "223c54ec",
   "metadata": {},
   "outputs": [],
   "source": [
    "def moveElementToEnd(array, toMove):\n",
    "    i = 0 # instantiate at left position\n",
    "    j = len(array)-1 # instantiate ay right-most\n",
    "    while i < j: # so long as i is to the left of j\n",
    "        while i<j and array[j]==toMove: # while i to left of j, and left most = integer, move right\n",
    "            j -=1\n",
    "        if array[i] == toMove: # if leftmost = integer\n",
    "            array[i], array[j] = array[j], array[i] # swap\n",
    "        i +=1\n",
    "    return array"
   ]
  },
  {
   "cell_type": "code",
   "execution_count": 5,
   "id": "1c77b810",
   "metadata": {},
   "outputs": [
    {
     "data": {
      "text/plain": [
       "[4, 1, 3, 2, 2, 2, 2, 2]"
      ]
     },
     "execution_count": 5,
     "metadata": {},
     "output_type": "execute_result"
    }
   ],
   "source": [
    "moveElementToEnd(array, toMove)"
   ]
  },
  {
   "cell_type": "code",
   "execution_count": 6,
   "id": "5650e58a",
   "metadata": {},
   "outputs": [],
   "source": [
    "array2 = [5, 4, 7, 6, 5, 5, 8]\n",
    "toMove2 = 5"
   ]
  },
  {
   "cell_type": "code",
   "execution_count": 7,
   "id": "a3def5ea",
   "metadata": {},
   "outputs": [
    {
     "data": {
      "text/plain": [
       "[8, 4, 7, 6, 5, 5, 5]"
      ]
     },
     "execution_count": 7,
     "metadata": {},
     "output_type": "execute_result"
    }
   ],
   "source": [
    "moveElementToEnd(array2, toMove2)"
   ]
  },
  {
   "cell_type": "markdown",
   "id": "5c65688d",
   "metadata": {},
   "source": [
    "# Time complexity"
   ]
  },
  {
   "cell_type": "markdown",
   "id": "1db26a15",
   "metadata": {},
   "source": [
    "+ time complexity = O(N) -> the length of the array\n",
    "+ Space complexity = O(1) constant - bc there is no auxilarry data structure"
   ]
  },
  {
   "cell_type": "code",
   "execution_count": null,
   "id": "a9f0bae0",
   "metadata": {},
   "outputs": [],
   "source": []
  }
 ],
 "metadata": {
  "kernelspec": {
   "display_name": "Python 3",
   "language": "python",
   "name": "python3"
  },
  "language_info": {
   "codemirror_mode": {
    "name": "ipython",
    "version": 3
   },
   "file_extension": ".py",
   "mimetype": "text/x-python",
   "name": "python",
   "nbconvert_exporter": "python",
   "pygments_lexer": "ipython3",
   "version": "3.8.8"
  }
 },
 "nbformat": 4,
 "nbformat_minor": 5
}
