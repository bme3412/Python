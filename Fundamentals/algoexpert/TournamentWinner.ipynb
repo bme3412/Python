{
 "cells": [
  {
   "cell_type": "markdown",
   "id": "adeb035c",
   "metadata": {},
   "source": [
    "# 1/2/2022 - #3"
   ]
  },
  {
   "cell_type": "markdown",
   "id": "800732f5",
   "metadata": {},
   "source": [
    "# Prompt:\n",
    "+ Teams compete in a round robin and receive 3 points for a win and 0 for a loss\n",
    "+ 2 teams compete at a time; 1 is home, the other is away\n",
    "+ given an array of teams that competed; and an array with the results of the competition\n",
    "+ Write a function that returns the winner of the tournamnet"
   ]
  },
  {
   "cell_type": "code",
   "execution_count": null,
   "id": "9be5ca2e",
   "metadata": {},
   "outputs": [],
   "source": []
  },
  {
   "cell_type": "markdown",
   "id": "43d353bf",
   "metadata": {},
   "source": [
    "Inputs:\n",
    "+ competitions = an array, with elements in the form og [homeTeam, awayTeam]\n",
    "+ results = ana rray with info of winners in each corresponding competitions array\n",
    "    + example: results[i] = winners of competition'[i]\n",
    "    + where a 1 in results = homeTeam wins, and a 0 in results indicates the Away Team wins"
   ]
  },
  {
   "cell_type": "markdown",
   "id": "614ad714",
   "metadata": {},
   "source": [
    "Sample Input"
   ]
  },
  {
   "cell_type": "code",
   "execution_count": 15,
   "id": "409d9683",
   "metadata": {},
   "outputs": [],
   "source": [
    "competitions = [\n",
    "    ['HTML',\"C#\"], # HTML is home; C# is away; Away wins =0\n",
    "    ['C#', 'Python'], # C# is home, Python is away; Away wins = 0\n",
    "    ['Python', 'HTML'] # Python is home, HTML is away; Home wins = 1\n",
    "]\n",
    "\n",
    "results = [0, 0, 1] # Away, Away, Home"
   ]
  },
  {
   "cell_type": "markdown",
   "id": "a11bf8b7",
   "metadata": {},
   "source": [
    "# Conceptual\n",
    "+ based on the above, the final score is HTML:0, C#:3, Python: 6"
   ]
  },
  {
   "cell_type": "markdown",
   "id": "692f1330",
   "metadata": {},
   "source": [
    "Algo development:\n",
    "+ need to look through all competitions and keep track of points;\n",
    "+ use a data structure that tells which team has # of points\n",
    "+ to start, can. use a hashmap/dictionary:\n",
    "    + declare scores = {}\n",
    "+ then, will loop through each compeition; in order to ccess the index and the value\n",
    "+ once have the winning team, need to update the score\n",
    "+ can also introduce a new variable - with the team with the highest score\n",
    "    + bestTeam = \"\"\n",
    "+ compare BestTeam score to i in loop; then return the current bestTeam"
   ]
  },
  {
   "cell_type": "markdown",
   "id": "85d5d858",
   "metadata": {},
   "source": [
    "# Big O\n",
    "+ O(n) time complexity based on the # of competitions\n",
    "+ O(k) space complexity, based on the # of teams in the tournament"
   ]
  },
  {
   "cell_type": "markdown",
   "id": "3b11f0f5",
   "metadata": {},
   "source": [
    "# Code"
   ]
  },
  {
   "cell_type": "code",
   "execution_count": 3,
   "id": "67d15174",
   "metadata": {},
   "outputs": [],
   "source": []
  },
  {
   "cell_type": "code",
   "execution_count": 16,
   "id": "e5b7e7dd",
   "metadata": {},
   "outputs": [],
   "source": [
    "HOME_TEAM_WON = 1 # declare a constant\n",
    "\n",
    "def tournamentWinner(competitions, results):\n",
    "    currentBestTeam = \"\" # instantiate the best team\n",
    "    scores = {currentBestTeam: 0}\n",
    "    \n",
    "    for idx, competition in enumerate(competitions):\n",
    "        result = results[idx]\n",
    "        homeTeam, awayTeam = competition # decompose to get separate values\n",
    "        \n",
    "        winningTeam = homeTeam if result == HOME_TEAM_WON else awayTeam # comapare to defined constant\n",
    "         \n",
    "        updateScores(winningTeam, 3, scores) # declare new function\n",
    "        \n",
    "        if scores[winningTeam] > scores[currentBestTeam]:\n",
    "            currentBestTeam = winningTeam # update currentBestTeam \n",
    "    \n",
    "    return currentBestTeam\n",
    "\n",
    "def updateScores(team, points, scores): # checks to see if value declared; if not, instantiates and then adds points\n",
    "    if team not in scores:\n",
    "        scores[team] = 0\n",
    "    scores[team] += points"
   ]
  },
  {
   "cell_type": "code",
   "execution_count": 17,
   "id": "ebc5c05c",
   "metadata": {},
   "outputs": [
    {
     "data": {
      "text/plain": [
       "'Python'"
      ]
     },
     "execution_count": 17,
     "metadata": {},
     "output_type": "execute_result"
    }
   ],
   "source": [
    "tournamentWinner(competitions, results)"
   ]
  },
  {
   "cell_type": "code",
   "execution_count": null,
   "id": "2f1d2179",
   "metadata": {},
   "outputs": [],
   "source": []
  }
 ],
 "metadata": {
  "kernelspec": {
   "display_name": "Python 3",
   "language": "python",
   "name": "python3"
  },
  "language_info": {
   "codemirror_mode": {
    "name": "ipython",
    "version": 3
   },
   "file_extension": ".py",
   "mimetype": "text/x-python",
   "name": "python",
   "nbconvert_exporter": "python",
   "pygments_lexer": "ipython3",
   "version": "3.8.8"
  }
 },
 "nbformat": 4,
 "nbformat_minor": 5
}
