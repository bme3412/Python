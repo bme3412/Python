{
 "cells": [
  {
   "cell_type": "code",
   "execution_count": 4,
   "id": "db4fa777",
   "metadata": {},
   "outputs": [
    {
     "data": {
      "text/plain": [
       "'zab'"
      ]
     },
     "execution_count": 4,
     "metadata": {},
     "output_type": "execute_result"
    }
   ],
   "source": [
    "string = 'xyz'\n",
    "key = 2\n",
    "\n",
    "def caesarCipher(string, key):\n",
    "    newLetters = []\n",
    "    newKey = key % 26\n",
    "    for letter in string:\n",
    "        newLetters.append(getNewLetter(letter, newKey))\n",
    "    return \"\".join(newLetters)\n",
    "\n",
    "# helper function\n",
    "def getNewLetter(letter, key):\n",
    "    newLetterCode = ord(letter) + key\n",
    "    return chr(newLetterCode) if newLetterCode <= 122 else chr(96 + newLetterCode % 122)\n",
    "\n",
    "caesarCipher(string, key)"
   ]
  },
  {
   "cell_type": "code",
   "execution_count": null,
   "id": "aa922b08",
   "metadata": {},
   "outputs": [],
   "source": [
    "\n"
   ]
  }
 ],
 "metadata": {
  "kernelspec": {
   "display_name": "Python 3",
   "language": "python",
   "name": "python3"
  },
  "language_info": {
   "codemirror_mode": {
    "name": "ipython",
    "version": 3
   },
   "file_extension": ".py",
   "mimetype": "text/x-python",
   "name": "python",
   "nbconvert_exporter": "python",
   "pygments_lexer": "ipython3",
   "version": "3.8.8"
  }
 },
 "nbformat": 4,
 "nbformat_minor": 5
}
