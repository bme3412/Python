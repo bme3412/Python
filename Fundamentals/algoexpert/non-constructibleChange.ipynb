{
 "cells": [
  {
   "cell_type": "markdown",
   "id": "72aec242",
   "metadata": {},
   "source": [
    "## Prompt"
   ]
  },
  {
   "cell_type": "markdown",
   "id": "19ac59b7",
   "metadata": {},
   "source": [
    "+ Given an array of positive integers, representing the value of coins in possession:\n",
    "    + write a function:\n",
    "        + that returns the minimum amount of change that you CANNOT create\n",
    "  "
   ]
  },
  {
   "cell_type": "markdown",
   "id": "abea5ea6",
   "metadata": {},
   "source": [
    "+ Example:\n",
    "    + if given an array of coins = [1, 2, 5] -> the minimum amount that cannot create is 4\n",
    "\n",
    "+ example2:\n",
    "    sample input = coins = [5, 7, 1, 1, 2, 3, 22]\n",
    "    sample output = 20\n"
   ]
  },
  {
   "cell_type": "markdown",
   "id": "9572efd7",
   "metadata": {},
   "source": [
    "### Brute Force/conceptual"
   ]
  },
  {
   "cell_type": "markdown",
   "id": "53f121c0",
   "metadata": {},
   "source": [
    "+ Loop through all positive integers until you hit one that cannot be created\n",
    "+ Pro Tip: if don't know how to solve the problem - then mess around with the data, ex: sort the input array\n"
   ]
  },
  {
   "cell_type": "markdown",
   "id": "951b3fa4",
   "metadata": {},
   "source": [
    "+ #set a variable\n",
    "+ then iterate through the input array\n",
    "+ if go coin by coin and have a value that is < previous coins + 1, then cannot make this value\n",
    "    + if coin is <= change +1, then can make all of the change prior\n",
    "+ start by sorting into ascending order;keep track of all the change; and check for coins that > (change +1)"
   ]
  },
  {
   "cell_type": "markdown",
   "id": "225b33c7",
   "metadata": {},
   "source": [
    "# Code"
   ]
  },
  {
   "cell_type": "code",
   "execution_count": 2,
   "id": "085ef7a4",
   "metadata": {},
   "outputs": [],
   "source": [
    "def nonConstructibleChange(coins):\n",
    "    coins.sort() # start by sorting the array into ascending order\n",
    "    \n",
    "    currentChangeCreated = 0 # instantiate the change (sum of prior total coins)\n",
    "    for coin in coins: # for loop for each coin in the array\n",
    "        if coin > currentChangeCreated +1: # if current coin > change +1, then return current change +1\n",
    "            return currentChangeCreated +1\n",
    "    \n",
    "        currentChangeCreated += coin # otherwise, iterate to the next coin\n",
    "    \n",
    "    return currentChangeCreated +1 # if loop breaks then return coin +1\n",
    "    "
   ]
  },
  {
   "cell_type": "code",
   "execution_count": 3,
   "id": "3e65390e",
   "metadata": {},
   "outputs": [
    {
     "data": {
      "text/plain": [
       "4"
      ]
     },
     "execution_count": 3,
     "metadata": {},
     "output_type": "execute_result"
    }
   ],
   "source": [
    "coins = [1, 2, 5]\n",
    "nonConstructibleChange(coins)"
   ]
  },
  {
   "cell_type": "code",
   "execution_count": 4,
   "id": "f5b83885",
   "metadata": {},
   "outputs": [
    {
     "data": {
      "text/plain": [
       "20"
      ]
     },
     "execution_count": 4,
     "metadata": {},
     "output_type": "execute_result"
    }
   ],
   "source": [
    "coins2 = [5, 7, 1, 1, 2, 3, 22]\n",
    "nonConstructibleChange(coins2)"
   ]
  },
  {
   "cell_type": "code",
   "execution_count": 5,
   "id": "857b37e0",
   "metadata": {},
   "outputs": [
    {
     "data": {
      "text/plain": [
       "3"
      ]
     },
     "execution_count": 5,
     "metadata": {},
     "output_type": "execute_result"
    }
   ],
   "source": [
    "coins3 = [1, 1, 4]\n",
    "nonConstructibleChange(coins3)"
   ]
  },
  {
   "cell_type": "markdown",
   "id": "97e9afbb",
   "metadata": {},
   "source": [
    "# Big O notation"
   ]
  },
  {
   "cell_type": "markdown",
   "id": "03052462",
   "metadata": {},
   "source": [
    "+ Time complexity = n*log(n)  --> bc sort the input array\n",
    "+ Space compelxty = O(1) --> sort tyhe input array into space"
   ]
  },
  {
   "cell_type": "code",
   "execution_count": null,
   "id": "860db062",
   "metadata": {},
   "outputs": [],
   "source": []
  }
 ],
 "metadata": {
  "kernelspec": {
   "display_name": "Python 3",
   "language": "python",
   "name": "python3"
  },
  "language_info": {
   "codemirror_mode": {
    "name": "ipython",
    "version": 3
   },
   "file_extension": ".py",
   "mimetype": "text/x-python",
   "name": "python",
   "nbconvert_exporter": "python",
   "pygments_lexer": "ipython3",
   "version": "3.8.8"
  }
 },
 "nbformat": 4,
 "nbformat_minor": 5
}
