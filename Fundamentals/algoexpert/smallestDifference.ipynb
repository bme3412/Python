{
 "cells": [
  {
   "cell_type": "markdown",
   "id": "db2c7bfe",
   "metadata": {},
   "source": [
    "# Prompt"
   ]
  },
  {
   "cell_type": "markdown",
   "id": "f0c28b23",
   "metadata": {},
   "source": [
    "+ write a fucntion that takes in: 2 non-empty array of integers;\n",
    "    + finds the pair of #s, whose absolute difference is closest to o;\n",
    "    + and returns an array containing those 2 #s\n",
    "+ where: absolute difference is the distance between 2 #s on the real number-line\n",
    "+ there will only be 1 pair of #s that has the smallest difference"
   ]
  },
  {
   "cell_type": "markdown",
   "id": "413ae72e",
   "metadata": {},
   "source": [
    "+ Sample Input:\n",
    "    + arrayOne = [-1, 5, 10, 20, 28, 3]\n",
    "    + arrayTwo = [26, 134, 135, 15, 17]\n",
    "+ Sample Output:\n",
    "    [28, 26]"
   ]
  },
  {
   "cell_type": "markdown",
   "id": "225abba0",
   "metadata": {},
   "source": [
    "# Conceptual"
   ]
  },
  {
   "cell_type": "markdown",
   "id": "d4235c91",
   "metadata": {},
   "source": [
    "+ 2 For loops is a valid solution - but can solve it more optimally\n",
    "+ to start, sort both arrays\n",
    "+ if x3 == y5 - then this is the answer to return\n",
    "+ if x3 < y5 - need to compute the difference and keep track of the smallest, then move on to next\n",
    "    + but, can use the fact that the arrays are sorted, to generate an optimal new pait\n"
   ]
  },
  {
   "cell_type": "markdown",
   "id": "5ed5e104",
   "metadata": {},
   "source": [
    "+ to start, put a pointer at the beginning of both arrays\n",
    "+ then find the difference, then iterate on to the next, based on which idx of which array"
   ]
  },
  {
   "cell_type": "markdown",
   "id": "fd182e62",
   "metadata": {},
   "source": [
    "# Code"
   ]
  },
  {
   "cell_type": "code",
   "execution_count": 1,
   "id": "fdeabe0e",
   "metadata": {},
   "outputs": [],
   "source": [
    "arrayOne = [-1, 5, 10, 20,28,3]\n",
    "arrayTwo = [26, 134, 135, 15, 17]"
   ]
  },
  {
   "cell_type": "code",
   "execution_count": 4,
   "id": "d624d76e",
   "metadata": {},
   "outputs": [],
   "source": [
    "def smallestDifference(arrayOne, arrayTwo):\n",
    "    arrayOne.sort()\n",
    "    arrayTwo.sort()\n",
    "    idxOne = 0 # instantiate/declare pointer 1 of arrayOne\n",
    "    idxTwo = 0 # instantiate/declare pointer 2 (of ArrayTwo)\n",
    "    smallest = float('inf')\n",
    "    current = float('inf')\n",
    "    smallestPair = [] # declare empty array\n",
    "    \n",
    "    while idxOne < len(arrayOne) and idxTwo < len(arrayTwo): # checks to see that pointers are valid\n",
    "        firstNum = arrayOne[idxOne]\n",
    "        secondNum = arrayTwo[idxTwo]\n",
    "        if firstNum < secondNum:\n",
    "            current = secondNum - firstNum\n",
    "            idxOne +=1\n",
    "        elif secondNum < firstNum:\n",
    "            current = firstNum - secondNum\n",
    "            idxTwo +=1\n",
    "        else:\n",
    "            return [firstNum, secondNum]\n",
    "        if smallest > current:\n",
    "            smallest = current\n",
    "            smallestPair  = [firstNum, secondNum]\n",
    "    return smallestPair"
   ]
  },
  {
   "cell_type": "code",
   "execution_count": 5,
   "id": "ebdb612b",
   "metadata": {},
   "outputs": [
    {
     "data": {
      "text/plain": [
       "[28, 26]"
      ]
     },
     "execution_count": 5,
     "metadata": {},
     "output_type": "execute_result"
    }
   ],
   "source": [
    "smallestDifference(arrayOne, arrayTwo)"
   ]
  },
  {
   "cell_type": "code",
   "execution_count": 8,
   "id": "508606f4",
   "metadata": {},
   "outputs": [],
   "source": [
    "arrayOne_2 = [-10, 7, 5, 28, 16, 40]\n",
    "arrayTwo_2 = [-50, 2, 17, 19, 37]"
   ]
  },
  {
   "cell_type": "code",
   "execution_count": 9,
   "id": "0d597eaf",
   "metadata": {},
   "outputs": [
    {
     "data": {
      "text/plain": [
       "[16, 17]"
      ]
     },
     "execution_count": 9,
     "metadata": {},
     "output_type": "execute_result"
    }
   ],
   "source": [
    "smallestDifference(arrayOne_2, arrayTwo_2)"
   ]
  },
  {
   "cell_type": "markdown",
   "id": "25f144d7",
   "metadata": {},
   "source": [
    "# Big O Notation"
   ]
  },
  {
   "cell_type": "markdown",
   "id": "4cb0f1bc",
   "metadata": {},
   "source": [
    "+ Time = O(nlog(N)+ mlog(M))\n",
    "+ space = O(1) - arrays are being sorted in place, and not storing additional memory"
   ]
  },
  {
   "cell_type": "code",
   "execution_count": null,
   "id": "ece52e6a",
   "metadata": {},
   "outputs": [],
   "source": []
  }
 ],
 "metadata": {
  "kernelspec": {
   "display_name": "Python 3",
   "language": "python",
   "name": "python3"
  },
  "language_info": {
   "codemirror_mode": {
    "name": "ipython",
    "version": 3
   },
   "file_extension": ".py",
   "mimetype": "text/x-python",
   "name": "python",
   "nbconvert_exporter": "python",
   "pygments_lexer": "ipython3",
   "version": "3.8.8"
  }
 },
 "nbformat": 4,
 "nbformat_minor": 5
}
