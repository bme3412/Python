{
 "cells": [
  {
   "cell_type": "markdown",
   "id": "10bb4644",
   "metadata": {},
   "source": [
    "# Prompt:"
   ]
  },
  {
   "cell_type": "markdown",
   "id": "e45a19e4",
   "metadata": {},
   "source": [
    "#### Write a function that takes in an array of integers - which are sorted in ascending order - and return a new array, of the same length, with the squares of the original intgers -- also sorted in ascending order"
   ]
  },
  {
   "cell_type": "code",
   "execution_count": 2,
   "id": "08fca06e",
   "metadata": {},
   "outputs": [],
   "source": [
    "array = [1, 2, 3, 5, 6, 8, 9]"
   ]
  },
  {
   "cell_type": "markdown",
   "id": "cbf1de95",
   "metadata": {},
   "source": [
    "## sample Input\n",
    "array = [1, 2, 3, 5, 6, 8, 9]"
   ]
  },
  {
   "cell_type": "markdown",
   "id": "c50ea71d",
   "metadata": {},
   "source": [
    "## Sample Output\n",
    "array = [1, 4, 9, 25, 36, 64, 81]"
   ]
  },
  {
   "cell_type": "markdown",
   "id": "1cf77a79",
   "metadata": {},
   "source": [
    "# Conceptual"
   ]
  },
  {
   "cell_type": "markdown",
   "id": "8b7d96bb",
   "metadata": {},
   "source": [
    "#### The key wrinkle here - need to account for negative integers\n",
    "+ will need to take all of the squares of the integers in the original array; sort them; and put in output array\n",
    "+ cannot modify the origianl array\n",
    "+ need to account for squaring negative integers, when write code to sort the output of the integers (ex: squaring a negative value, results in a positive)"
   ]
  },
  {
   "cell_type": "markdown",
   "id": "9fcb78fb",
   "metadata": {},
   "source": [
    "## Solution 1: Brute Force - not optimal time complexity"
   ]
  },
  {
   "cell_type": "markdown",
   "id": "ddd2bbb2",
   "metadata": {},
   "source": [
    "+ the integers in the given value are sorted in ascending order\n",
    "+ also reminder that cannot modify the original array\n"
   ]
  },
  {
   "cell_type": "code",
   "execution_count": 3,
   "id": "13ad66a5",
   "metadata": {},
   "outputs": [],
   "source": [
    "def sortedSquaredArray(array):\n",
    "    sortedSquares = [0 for _ in array] \n",
    "    # instantiate an array with all 0s, using list comprehension\n",
    "    # these to be filled in with the squared outputs, in ascending order\n",
    "    for idx in range(len(array)):\n",
    "        # uses the range function to create values for all index positions\n",
    "        # value is dependent on the index position in the array\n",
    "        value = array[idx]\n",
    "        sortedSquares[idx] = value * value # square the values\n",
    "        # stop the loop, move on\n",
    "    sortedSquares.sort()\n",
    "    return sortedSquares"
   ]
  },
  {
   "cell_type": "code",
   "execution_count": 5,
   "id": "e86c151d",
   "metadata": {},
   "outputs": [],
   "source": [
    "array = [1, 2, 3, 5, 6, 8, 9] # 7 values\n",
    "array2 = [3, 4, 5, 10, 12]  # 5 values\n",
    "array3 = [-9, -5, -4, -2, 2, 1] # 6 values, including negatives"
   ]
  },
  {
   "cell_type": "code",
   "execution_count": 6,
   "id": "69f2e95f",
   "metadata": {},
   "outputs": [
    {
     "data": {
      "text/plain": [
       "[1, 4, 9, 25, 36, 64, 81]"
      ]
     },
     "execution_count": 6,
     "metadata": {},
     "output_type": "execute_result"
    }
   ],
   "source": [
    "sortedSquaredArray(array)"
   ]
  },
  {
   "cell_type": "code",
   "execution_count": 7,
   "id": "6394764b",
   "metadata": {},
   "outputs": [
    {
     "data": {
      "text/plain": [
       "[9, 16, 25, 100, 144]"
      ]
     },
     "execution_count": 7,
     "metadata": {},
     "output_type": "execute_result"
    }
   ],
   "source": [
    "sortedSquaredArray(array2)"
   ]
  },
  {
   "cell_type": "code",
   "execution_count": 8,
   "id": "b05fa200",
   "metadata": {},
   "outputs": [
    {
     "data": {
      "text/plain": [
       "[1, 4, 4, 16, 25, 81]"
      ]
     },
     "execution_count": 8,
     "metadata": {},
     "output_type": "execute_result"
    }
   ],
   "source": [
    "sortedSquaredArray(array3) # sorted squared integers"
   ]
  },
  {
   "cell_type": "markdown",
   "id": "b0ab6fec",
   "metadata": {},
   "source": [
    "#### Big O Notation"
   ]
  },
  {
   "cell_type": "markdown",
   "id": "2dd4d6d0",
   "metadata": {},
   "source": [
    "+ so for the output, will need to sort the output across the array - which to result in O(n(log(n)) time\n",
    "+ to also result in O(N) space - bc need to generate a brand new data structure for the output"
   ]
  },
  {
   "cell_type": "markdown",
   "id": "3e3fa7fa",
   "metadata": {},
   "source": [
    "# Solution 2 - more optimal Time complexity"
   ]
  },
  {
   "cell_type": "markdown",
   "id": "1324b56c",
   "metadata": {},
   "source": [
    "### Conceptual\n",
    "+ this is a more optimal time complexity\n",
    "+ can solve in linear time, bc the array is inserted in ascending order\n",
    "+ start by initializing an empty output array of 0 values - this to be replaced with squared outputs\n",
    "+ to account for negative values:\n",
    "    + will need to look at the absolute value of the postive and negative integers; then compare the output; and then rank in ascending order\n",
    "    + look at the values at the end of array (for postives) and the beginning of the array (negatives), then detemrine which squared is larger\n",
    "    + then move to the next value\n",
    "    + then palce the squared value in the output array\n",
    "+ the output array will be built from right to left"
   ]
  },
  {
   "cell_type": "code",
   "execution_count": 15,
   "id": "0dd7e089",
   "metadata": {},
   "outputs": [],
   "source": [
    "def sortedSquaredArray2(array):\n",
    "    sortedSquares2 = [0 for _ in array]\n",
    "    # instantiate an array with all 0s, using list comprehension\n",
    "    # these to be filled in with the squared outputs, in ascending order\n",
    "    smallerValueIdx = 0 # instantiate the first position for the sorted array\n",
    "    largerValueIdx = len(array) -1 # instantiate the first position for the sorted array\n",
    "    \n",
    "    for idx in reversed(range(len(array))):\n",
    "        smallerValue = array[smallerValueIdx] # instantiate the smallest value\n",
    "        largerValue = array[largerValueIdx] # instantiate the largest value\n",
    "        \n",
    "        # now compare the values - and square the larger integer\n",
    "        if abs(smallerValue) > abs(largerValue):\n",
    "            sortedSquares2[idx]= smallerValue* smallerValue # square the smaller integer at the index - if abs value is larger\n",
    "            smallerValueIdx +=1 # move on to the enxt value in the index\n",
    "            \n",
    "        else:\n",
    "            sortedSquares2[idx] = largerValue * largerValue #else, square the large integer\n",
    "            largerValueIdx -=1 # but bc moving from left to right, subtract to the next index position\n",
    "    \n",
    "    return sortedSquares2\n",
    "        \n",
    "    "
   ]
  },
  {
   "cell_type": "code",
   "execution_count": 16,
   "id": "cabcfc1c",
   "metadata": {},
   "outputs": [],
   "source": [
    "array = [1, 2, 3, 5, 6, 8, 9] # 7 values\n",
    "array2 = [3, 4, 5, 10, 12]  # 5 values\n",
    "array3 = [-9, -5, -4, -2, 2, 1] # 6 values, including negatives"
   ]
  },
  {
   "cell_type": "code",
   "execution_count": 17,
   "id": "c2040ae9",
   "metadata": {},
   "outputs": [
    {
     "data": {
      "text/plain": [
       "[1, 4, 9, 25, 36, 64, 81]"
      ]
     },
     "execution_count": 17,
     "metadata": {},
     "output_type": "execute_result"
    }
   ],
   "source": [
    "sortedSquaredArray2(array)"
   ]
  },
  {
   "cell_type": "code",
   "execution_count": 18,
   "id": "abf9813f",
   "metadata": {},
   "outputs": [
    {
     "data": {
      "text/plain": [
       "[9, 16, 25, 100, 144]"
      ]
     },
     "execution_count": 18,
     "metadata": {},
     "output_type": "execute_result"
    }
   ],
   "source": [
    "sortedSquaredArray2(array2)"
   ]
  },
  {
   "cell_type": "code",
   "execution_count": 19,
   "id": "14a871d6",
   "metadata": {},
   "outputs": [
    {
     "data": {
      "text/plain": [
       "[1, 4, 4, 16, 25, 81]"
      ]
     },
     "execution_count": 19,
     "metadata": {},
     "output_type": "execute_result"
    }
   ],
   "source": [
    "sortedSquaredArray2(array3)"
   ]
  },
  {
   "cell_type": "markdown",
   "id": "ab6d3a80",
   "metadata": {},
   "source": [
    "#### Big O Notation"
   ]
  },
  {
   "cell_type": "markdown",
   "id": "208afec0",
   "metadata": {},
   "source": [
    "+ O(N) time  -- 1 iteration throguh the array ( 1 for loop)\n",
    "+ O(N) space --  need to create an output array based on the length of n"
   ]
  },
  {
   "cell_type": "code",
   "execution_count": null,
   "id": "cca25cc9",
   "metadata": {},
   "outputs": [],
   "source": []
  }
 ],
 "metadata": {
  "kernelspec": {
   "display_name": "Python 3",
   "language": "python",
   "name": "python3"
  },
  "language_info": {
   "codemirror_mode": {
    "name": "ipython",
    "version": 3
   },
   "file_extension": ".py",
   "mimetype": "text/x-python",
   "name": "python",
   "nbconvert_exporter": "python",
   "pygments_lexer": "ipython3",
   "version": "3.8.8"
  }
 },
 "nbformat": 4,
 "nbformat_minor": 5
}
