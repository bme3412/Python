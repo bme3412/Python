{
 "cells": [
  {
   "cell_type": "markdown",
   "id": "196b66f1",
   "metadata": {},
   "source": [
    "# Prompt"
   ]
  },
  {
   "cell_type": "markdown",
   "id": "bc9d0ec5",
   "metadata": {},
   "source": [
    "+ Write a function, that takes in a non-empty aray of integers, and an integer which equals 'target sum'\n",
    "    + the target should be to find all triplets in the array, that sum to the target sum\n",
    "    + should return a 2-D array of all the triplets, in ascending order\n",
    "    + if no 3#s to sum to the target sum, return an empty array"
   ]
  },
  {
   "cell_type": "markdown",
   "id": "f7888d1c",
   "metadata": {},
   "source": [
    "+ sample Input:\n",
    "    + array = [12, 3, 1, 2, -6, 5, -8, 6]\n",
    "    + targetSum = 0\n",
    "+ sample output\n",
    "    + [[-8, 2, 6], [-8, 3, 5], [-6, 1, 5]]"
   ]
  },
  {
   "cell_type": "markdown",
   "id": "3ce4578b",
   "metadata": {},
   "source": [
    "# Conceptual"
   ]
  },
  {
   "cell_type": "markdown",
   "id": "3aab38c9",
   "metadata": {},
   "source": [
    "+ could use 3 for loops - but this not the most optimal and would result in O(N)**3 space\n",
    "\n",
    "+ but, start by sorting the array\n",
    "+ with the array sorted, now can find the triplets in O(N**2) time, using left and right pointers\n",
    "+ will then iterate through the array, starting at curent # (most left), and then a right number\n",
    "+ where, currentSum = curretnNumber + left# + right#\n",
    "+ if sum = targetSum, then put the triplet in the array\n",
    "+ But -- do not want to move both pointers at the same time to the left and the right, bc then might miss out on a sum\n",
    "+ if sum = targetSum, then add integeters to the triplet list"
   ]
  },
  {
   "cell_type": "markdown",
   "id": "d938b09b",
   "metadata": {},
   "source": [
    "+ It is really important to understand the left pointer/right pointer increment is based on the currentSum as it relates to tatgetSum"
   ]
  },
  {
   "cell_type": "markdown",
   "id": "9d69f0de",
   "metadata": {},
   "source": [
    "# Code"
   ]
  },
  {
   "cell_type": "code",
   "execution_count": 1,
   "id": "3b8ca2bf",
   "metadata": {},
   "outputs": [],
   "source": [
    "array = [12, 3, 1, 2, -6, 5, -8, 6]\n",
    "targetSum = 0"
   ]
  },
  {
   "cell_type": "code",
   "execution_count": 3,
   "id": "efde534d",
   "metadata": {},
   "outputs": [],
   "source": [
    "def threeNumberSum(array, targetSum):\n",
    "    array.sort() # sort the array, so that can determine the order of the incremenet of the iterator\n",
    "    triplets = [] # instantiate empty array\n",
    "    \n",
    "    for i in range(len(array)-2): # need to count out to 2 less than the length, bc to always sum 2 other #s\n",
    "        left = i+1 # the first value + 1 above the iterator\n",
    "        right = len(array)-1 # the last vlaue in the array\n",
    "        while left < right:\n",
    "            currentSum = array[i]+ array[left] + array[right]\n",
    "            if currentSum==targetSum:\n",
    "                triplets.append([array[i], array[left], array[right]])\n",
    "                left +=1\n",
    "                right -=1\n",
    "            elif currentSum < targetSum:\n",
    "                left +=1\n",
    "            elif currentSum > targetSum:\n",
    "                right -=1\n",
    "    return triplets"
   ]
  },
  {
   "cell_type": "code",
   "execution_count": 4,
   "id": "0b53e225",
   "metadata": {},
   "outputs": [
    {
     "data": {
      "text/plain": [
       "[[-8, 2, 6], [-8, 3, 5], [-6, 1, 5]]"
      ]
     },
     "execution_count": 4,
     "metadata": {},
     "output_type": "execute_result"
    }
   ],
   "source": [
    "threeNumberSum(array, targetSum)"
   ]
  },
  {
   "cell_type": "code",
   "execution_count": 5,
   "id": "c3db22c4",
   "metadata": {},
   "outputs": [],
   "source": [
    "array2 = [12, 2, 5, -5, 6, 1, 2, 7]\n",
    "targetsum2 = 0"
   ]
  },
  {
   "cell_type": "code",
   "execution_count": 6,
   "id": "68bcbdd6",
   "metadata": {},
   "outputs": [
    {
     "data": {
      "text/plain": [
       "[]"
      ]
     },
     "execution_count": 6,
     "metadata": {},
     "output_type": "execute_result"
    }
   ],
   "source": [
    "threeNumberSum(array2, targetsum2)"
   ]
  },
  {
   "cell_type": "code",
   "execution_count": null,
   "id": "6028d341",
   "metadata": {},
   "outputs": [],
   "source": []
  },
  {
   "cell_type": "code",
   "execution_count": null,
   "id": "b17cb9a5",
   "metadata": {},
   "outputs": [],
   "source": []
  },
  {
   "cell_type": "code",
   "execution_count": null,
   "id": "3a78b218",
   "metadata": {},
   "outputs": [],
   "source": []
  },
  {
   "cell_type": "markdown",
   "id": "f926357f",
   "metadata": {},
   "source": [
    "# Big O notation"
   ]
  },
  {
   "cell_type": "markdown",
   "id": "5a712643",
   "metadata": {},
   "source": [
    "+ O(N ** 2) time compexlity - based on the length of the array, bc perform a while loop with each of the left and right pointer, and a for loop woth the iterator\n",
    "\n",
    "+ O(N) space - based on the length of the array"
   ]
  },
  {
   "cell_type": "code",
   "execution_count": null,
   "id": "cbcdea3b",
   "metadata": {},
   "outputs": [],
   "source": []
  }
 ],
 "metadata": {
  "kernelspec": {
   "display_name": "Python 3",
   "language": "python",
   "name": "python3"
  },
  "language_info": {
   "codemirror_mode": {
    "name": "ipython",
    "version": 3
   },
   "file_extension": ".py",
   "mimetype": "text/x-python",
   "name": "python",
   "nbconvert_exporter": "python",
   "pygments_lexer": "ipython3",
   "version": "3.8.8"
  }
 },
 "nbformat": 4,
 "nbformat_minor": 5
}
