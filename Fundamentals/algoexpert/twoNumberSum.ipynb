{
 "cells": [
  {
   "cell_type": "code",
   "execution_count": 2,
   "id": "50cd4468",
   "metadata": {},
   "outputs": [],
   "source": [
    "array = [3, 5, -4, 8, 11, 1, -1, 6]\n",
    "targetSum = 10\n",
    "def twoNumberSum(array, targetSum):\n",
    "    # Write your code here.\n",
    "    pass"
   ]
  },
  {
   "cell_type": "markdown",
   "id": "5b6c3a40",
   "metadata": {},
   "source": [
    "## Solution 1: For Loop"
   ]
  },
  {
   "cell_type": "code",
   "execution_count": 7,
   "id": "ceab25bf",
   "metadata": {},
   "outputs": [],
   "source": [
    "def twoNumberSum_1(array, targetSum):\n",
    "    for i in range(len(array)-1): # find the range all the way up to the 2nd to last # bc you need 2 #s \n",
    "        firstNum = array[i] # for each # in length of array -1, traverse based on the position in the array\n",
    "        for j in range(i+1, len(array)): # find the range for the array for all #s, starting with the second #\n",
    "            secondNum = array[j] # identify the position in list j for all in j\n",
    "            if firstNum + secondNum == targetSum:\n",
    "                return [firstNum, secondNum]\n",
    "    return []\n"
   ]
  },
  {
   "cell_type": "code",
   "execution_count": 8,
   "id": "3be87d7c",
   "metadata": {},
   "outputs": [
    {
     "data": {
      "text/plain": [
       "[11, -1]"
      ]
     },
     "execution_count": 8,
     "metadata": {},
     "output_type": "execute_result"
    }
   ],
   "source": [
    "twoNumberSum_1([3, 5, -4, 8, 11, 1, -1, 6], 10)"
   ]
  },
  {
   "cell_type": "markdown",
   "id": "39e5d3c3",
   "metadata": {},
   "source": [
    "## Solution 2: Hash table"
   ]
  },
  {
   "cell_type": "code",
   "execution_count": 9,
   "id": "8c411a75",
   "metadata": {},
   "outputs": [],
   "source": [
    "def twoNumberSum_2(array, targetSum):\n",
    "    nums = {}\n",
    "    for num in array:\n",
    "        if targetSum-num in nums:\n",
    "            return [targetSum-num, num]\n",
    "        else:\n",
    "            nums[num]= True # store as hash\n",
    "    return[]"
   ]
  },
  {
   "cell_type": "code",
   "execution_count": 10,
   "id": "d9c6df96",
   "metadata": {},
   "outputs": [
    {
     "data": {
      "text/plain": [
       "[11, -1]"
      ]
     },
     "execution_count": 10,
     "metadata": {},
     "output_type": "execute_result"
    }
   ],
   "source": [
    "twoNumberSum_2([3,5,-4,8,11,1,-1,6], 10)"
   ]
  },
  {
   "cell_type": "code",
   "execution_count": null,
   "id": "cc06f774",
   "metadata": {},
   "outputs": [],
   "source": []
  }
 ],
 "metadata": {
  "kernelspec": {
   "display_name": "Python 3",
   "language": "python",
   "name": "python3"
  },
  "language_info": {
   "codemirror_mode": {
    "name": "ipython",
    "version": 3
   },
   "file_extension": ".py",
   "mimetype": "text/x-python",
   "name": "python",
   "nbconvert_exporter": "python",
   "pygments_lexer": "ipython3",
   "version": "3.8.8"
  }
 },
 "nbformat": 4,
 "nbformat_minor": 5
}
