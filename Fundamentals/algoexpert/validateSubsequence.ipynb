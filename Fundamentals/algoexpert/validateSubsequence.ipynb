{
 "cells": [
  {
   "cell_type": "markdown",
   "id": "fd0c3702",
   "metadata": {},
   "source": [
    "## Prompt:\n",
    "+ Given 2 non-empty arrays of integers:\n",
    "+ write a function that determines whether the 2nd array is a sub-sequence of the first array"
   ]
  },
  {
   "cell_type": "markdown",
   "id": "5ab10d7b",
   "metadata": {},
   "source": [
    "### Where a subsequence:\n",
    "+ is an array of a set of #s that aren't necessarilly adjacent\n",
    "+ but do ha ve the smae order as they appear in the array"
   ]
  },
  {
   "cell_type": "markdown",
   "id": "95334301",
   "metadata": {},
   "source": [
    "## Sample Input"
   ]
  },
  {
   "cell_type": "code",
   "execution_count": 1,
   "id": "0133c44e",
   "metadata": {},
   "outputs": [],
   "source": [
    "array1 = [5, 1, 22, 25, 6, -1, 8, 10]\n",
    "subSqeuence = [1, 6, -1, 10]"
   ]
  },
  {
   "cell_type": "markdown",
   "id": "098ebb00",
   "metadata": {},
   "source": [
    "## Conceptual discussion"
   ]
  },
  {
   "cell_type": "markdown",
   "id": "29fcefc2",
   "metadata": {},
   "source": [
    "+ High level - will have to travserse both given arrays\n",
    "+ need to know what integers to look for (in order to see if there is a match) and then need to traverse the original array as well\n",
    "+ the order of a subsequence matter - but not adjacency\n",
    "+ to start: initialize a pointer under the 1st element of the subsequence; then see if it matches to the 1st array\n",
    "+ need to iterate through the array to see if values match\n",
    "+ if no match in an element, traverse to the next element of the array\n",
    "+ if there is a match - then move pointer in the sub-sequence forward\n",
    "+ at every point, checking to see if element matches at the current element that checking for"
   ]
  },
  {
   "cell_type": "markdown",
   "id": "37138f8c",
   "metadata": {},
   "source": [
    "## Space and time complexity"
   ]
  },
  {
   "cell_type": "markdown",
   "id": "e17d3ccb",
   "metadata": {},
   "source": [
    "### Time Complexity"
   ]
  },
  {
   "cell_type": "markdown",
   "id": "03819dd2",
   "metadata": {},
   "source": [
    "Time Complexity is O(N) - where N is the length of the main array\n",
    "+ will need to iterate throguh all elements of array N\n"
   ]
  },
  {
   "cell_type": "markdown",
   "id": "7b4888ac",
   "metadata": {},
   "source": [
    "### Space Complexity"
   ]
  },
  {
   "cell_type": "markdown",
   "id": "52be7c2f",
   "metadata": {},
   "source": [
    "Space Complexity is O(N) - constant, bc not storing aynthing extra or adding other variables or pieces of data"
   ]
  },
  {
   "cell_type": "markdown",
   "id": "0f7053c2",
   "metadata": {},
   "source": [
    "# Code"
   ]
  },
  {
   "cell_type": "markdown",
   "id": "7f1732ed",
   "metadata": {},
   "source": [
    "## Solution 1 - While Loop"
   ]
  },
  {
   "cell_type": "code",
   "execution_count": 2,
   "id": "5eb93a0c",
   "metadata": {},
   "outputs": [],
   "source": [
    "def validateSubsequence(array, sequence):\n",
    "    arrIdx = 0 # instantiate element 1 of the main array\n",
    "    seqIdx = 0 # instantiate element 1 of the 2nd array\n",
    "    while arrIdx < len(array) and seqIdx < len(sequence):\n",
    "        if array[arrIdx]==sequence[seqIdx]:\n",
    "            seqIdx +=1\n",
    "        arrIdx+=1\n",
    "    return seqIdx==len(sequence)"
   ]
  },
  {
   "cell_type": "code",
   "execution_count": 3,
   "id": "d2c127df",
   "metadata": {},
   "outputs": [
    {
     "data": {
      "text/plain": [
       "True"
      ]
     },
     "execution_count": 3,
     "metadata": {},
     "output_type": "execute_result"
    }
   ],
   "source": [
    "validateSubsequence(array1, subSqeuence)"
   ]
  },
  {
   "cell_type": "markdown",
   "id": "c357acba",
   "metadata": {},
   "source": [
    "### Explained:"
   ]
  },
  {
   "cell_type": "markdown",
   "id": "4127ddb0",
   "metadata": {},
   "source": [
    "+ function parameters include the array and the subsequence\n",
    "+ start by declaring/instantiating at the first element/value for each of the array and the subsequence\n",
    "+ with a while loop - if the position/index of the element/value is less than the entire length of the array - for both the array and the subsequence...\n",
    "    + and if the value of the array at the current position/index is equal to the value of the sequence at its current position/index...\n",
    "        + then add 1 to the Sequence Index and traverse to the enxt value\n",
    "        + note that is done for the seqIdx regardless of if there is a match\n",
    "    + add 1 to the arrIdex and traverse to the next value\n",
    "+ return seqIdex == len of the sequence, if true\n"
   ]
  },
  {
   "cell_type": "markdown",
   "id": "3fede6d3",
   "metadata": {},
   "source": [
    "## Solution 2 - For Loop"
   ]
  },
  {
   "cell_type": "code",
   "execution_count": 5,
   "id": "8d4d86b1",
   "metadata": {},
   "outputs": [],
   "source": [
    "def validateSubsequence_2(array, sequence):\n",
    "    seqIdx = 0\n",
    "    for value in array:\n",
    "        if seqIdx == len(sequence):\n",
    "            break\n",
    "        if sequence[seqIdx]== value:\n",
    "            seqIdx +=1\n",
    "    return seqIdx == len(sequence)"
   ]
  },
  {
   "cell_type": "code",
   "execution_count": 6,
   "id": "674e74f7",
   "metadata": {},
   "outputs": [
    {
     "data": {
      "text/plain": [
       "True"
      ]
     },
     "execution_count": 6,
     "metadata": {},
     "output_type": "execute_result"
    }
   ],
   "source": [
    "validateSubsequence_2(array1, subSqeuence)"
   ]
  },
  {
   "cell_type": "markdown",
   "id": "24166967",
   "metadata": {},
   "source": [
    "### Explained"
   ]
  },
  {
   "cell_type": "markdown",
   "id": "69b8cfce",
   "metadata": {},
   "source": [
    "+ start by instantiating/setting the first value/position of the sub-sequence\n",
    "+ then use a for loop - with the iterator as for value ina rray:\n",
    "        + but first, check to see if seqIdx = length of the sequence - and if so, then the program is done so use \"break\"\n",
    "        + if there is a match where the current value of the subseqeunce = value of the array, then increment +1\n",
    "+ once the loop is compelted, return \"True\" if the seqIdx = length of the seqeuence aka it has fully looped through"
   ]
  },
  {
   "cell_type": "code",
   "execution_count": null,
   "id": "cab08e96",
   "metadata": {},
   "outputs": [],
   "source": []
  }
 ],
 "metadata": {
  "kernelspec": {
   "display_name": "Python 3",
   "language": "python",
   "name": "python3"
  },
  "language_info": {
   "codemirror_mode": {
    "name": "ipython",
    "version": 3
   },
   "file_extension": ".py",
   "mimetype": "text/x-python",
   "name": "python",
   "nbconvert_exporter": "python",
   "pygments_lexer": "ipython3",
   "version": "3.8.8"
  }
 },
 "nbformat": 4,
 "nbformat_minor": 5
}
