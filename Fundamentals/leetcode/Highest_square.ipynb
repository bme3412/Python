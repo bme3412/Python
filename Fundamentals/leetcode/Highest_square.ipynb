{
 "cells": [
  {
   "cell_type": "code",
   "execution_count": 1,
   "id": "e966b451",
   "metadata": {},
   "outputs": [
    {
     "data": {
      "text/plain": [
       "4"
      ]
     },
     "execution_count": 1,
     "metadata": {},
     "output_type": "execute_result"
    }
   ],
   "source": [
    "# write a program that finds the highest/greatest\n",
    "# square, lower than a certian other number\n",
    "\n",
    "max_num = 500\n",
    "\n",
    "2 ** 2"
   ]
  },
  {
   "cell_type": "code",
   "execution_count": 2,
   "id": "3a036d44",
   "metadata": {},
   "outputs": [
    {
     "data": {
      "text/plain": [
       "9"
      ]
     },
     "execution_count": 2,
     "metadata": {},
     "output_type": "execute_result"
    }
   ],
   "source": [
    "3 ** 2"
   ]
  },
  {
   "cell_type": "code",
   "execution_count": 3,
   "id": "33ff98b9",
   "metadata": {},
   "outputs": [
    {
     "data": {
      "text/plain": [
       "16"
      ]
     },
     "execution_count": 3,
     "metadata": {},
     "output_type": "execute_result"
    }
   ],
   "source": [
    "4 ** 2"
   ]
  },
  {
   "cell_type": "code",
   "execution_count": 4,
   "id": "74beb9d8",
   "metadata": {},
   "outputs": [
    {
     "data": {
      "text/plain": [
       "25"
      ]
     },
     "execution_count": 4,
     "metadata": {},
     "output_type": "execute_result"
    }
   ],
   "source": [
    "5 ** 2"
   ]
  },
  {
   "cell_type": "code",
   "execution_count": 5,
   "id": "33c7b56b",
   "metadata": {},
   "outputs": [],
   "source": [
    "# DRY -- don't repeat yourself!"
   ]
  },
  {
   "cell_type": "code",
   "execution_count": 6,
   "id": "113f8673",
   "metadata": {},
   "outputs": [
    {
     "name": "stdout",
     "output_type": "stream",
     "text": [
      "0\n",
      "1\n",
      "4\n",
      "9\n",
      "16\n",
      "25\n",
      "36\n",
      "49\n",
      "64\n",
      "81\n",
      "100\n",
      "121\n",
      "144\n",
      "169\n",
      "196\n",
      "225\n",
      "256\n",
      "289\n",
      "324\n",
      "361\n"
     ]
    }
   ],
   "source": [
    "# for loop to sq the range of 20\n",
    "for i in range(20):\n",
    "    print(i ** 2)"
   ]
  },
  {
   "cell_type": "code",
   "execution_count": 8,
   "id": "87c575cd",
   "metadata": {},
   "outputs": [
    {
     "name": "stdout",
     "output_type": "stream",
     "text": [
      "484\n"
     ]
    }
   ],
   "source": [
    "max_num = 500\n",
    "highest_square = 0\n",
    "\n",
    "for i in range(max_num):\n",
    "    \"\"\"This function uses a for loop to take all integers up to the defined max_num, squares the integers, and returns\n",
    "    a variable highest_square that is the highest square below a defined max number\"\"\"\n",
    "    square = i ** 2\n",
    "    if square > max_num:\n",
    "        break\n",
    "    highest_square = square\n",
    "print(highest_square)"
   ]
  },
  {
   "cell_type": "code",
   "execution_count": 14,
   "id": "6d63e314",
   "metadata": {},
   "outputs": [
    {
     "data": {
      "text/plain": [
       "(23, 484)"
      ]
     },
     "execution_count": 14,
     "metadata": {},
     "output_type": "execute_result"
    }
   ],
   "source": [
    "\n",
    "def highest_square_under(max_num):\n",
    "    \"\"\"This function uses a for loop to take all integers up the to defined max_num, squares the integers, and returns\n",
    "    a tuple of the integer and its square that is the highest square below the defined max_num\"\"\"\n",
    "\n",
    "    highest_square = 0\n",
    "\n",
    "    for i in range(max_num):\n",
    "        square = i ** 2\n",
    "        if square > max_num:\n",
    "            break\n",
    "        highest_square = square\n",
    "    return i,  highest_square\n",
    "\n",
    "highest_square_under(500)"
   ]
  },
  {
   "cell_type": "code",
   "execution_count": 16,
   "id": "79099520",
   "metadata": {},
   "outputs": [
    {
     "data": {
      "text/plain": [
       "(71, 4900)"
      ]
     },
     "execution_count": 16,
     "metadata": {},
     "output_type": "execute_result"
    }
   ],
   "source": [
    "highest_square_under(5000)"
   ]
  },
  {
   "cell_type": "code",
   "execution_count": 19,
   "id": "c34a736a",
   "metadata": {},
   "outputs": [
    {
     "data": {
      "text/plain": [
       "(224, 49729)"
      ]
     },
     "execution_count": 19,
     "metadata": {},
     "output_type": "execute_result"
    }
   ],
   "source": [
    "highest_square_under(50000)"
   ]
  },
  {
   "cell_type": "code",
   "execution_count": 21,
   "id": "8bc6228a",
   "metadata": {},
   "outputs": [
    {
     "data": {
      "text/plain": [
       "(23, 484, 477)"
      ]
     },
     "execution_count": 21,
     "metadata": {},
     "output_type": "execute_result"
    }
   ],
   "source": [
    "def highest_square_under_diff(max_num):\n",
    "    \"\"\"This function uses a for loop to take all integers up the to defined max_num, squares the integers, and returns\n",
    "    a tuple of the integer and its square that is the highest square below the defined max_num\"\"\"\n",
    "\n",
    "    highest_square = 0\n",
    "\n",
    "    for i in range(max_num):\n",
    "        square = i ** 2\n",
    "        if square > max_num:\n",
    "            break\n",
    "        highest_square = square\n",
    "    return i,  highest_square, max_num - i\n",
    "\n",
    "highest_square_under_diff(500)"
   ]
  },
  {
   "cell_type": "code",
   "execution_count": 22,
   "id": "3726a231",
   "metadata": {},
   "outputs": [
    {
     "data": {
      "text/plain": [
       "(71, 4900, 4929)"
      ]
     },
     "execution_count": 22,
     "metadata": {},
     "output_type": "execute_result"
    }
   ],
   "source": [
    "highest_square_under_diff(5000)"
   ]
  },
  {
   "cell_type": "code",
   "execution_count": null,
   "id": "d7663a3d",
   "metadata": {},
   "outputs": [],
   "source": []
  }
 ],
 "metadata": {
  "kernelspec": {
   "display_name": "Python 3",
   "language": "python",
   "name": "python3"
  },
  "language_info": {
   "codemirror_mode": {
    "name": "ipython",
    "version": 3
   },
   "file_extension": ".py",
   "mimetype": "text/x-python",
   "name": "python",
   "nbconvert_exporter": "python",
   "pygments_lexer": "ipython3",
   "version": "3.8.8"
  }
 },
 "nbformat": 4,
 "nbformat_minor": 5
}
