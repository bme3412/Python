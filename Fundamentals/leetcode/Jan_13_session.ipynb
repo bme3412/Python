{
 "cells": [
  {
   "cell_type": "code",
   "execution_count": null,
   "id": "64e8fa50",
   "metadata": {},
   "outputs": [],
   "source": []
  },
  {
   "cell_type": "code",
   "execution_count": 3,
   "id": "a3fe8da1",
   "metadata": {},
   "outputs": [],
   "source": [
    "nums = [2, 7, 11, 5]\n",
    "target = 9"
   ]
  },
  {
   "cell_type": "code",
   "execution_count": 46,
   "id": "c4e851fe",
   "metadata": {},
   "outputs": [],
   "source": [
    "def twoSum(nums, target):\n",
    "    for i in range(len(nums)-1):\n",
    "        firstIdx, firstNum = i, nums[i]\n",
    "        for j in range(len(nums)):\n",
    "            secondIdx, secondNum = j, nums[j]\n",
    "            if firstNum + secondNum == target:\n",
    "                return firstIdx, secondIdx\n",
    "    return []"
   ]
  },
  {
   "cell_type": "code",
   "execution_count": 47,
   "id": "e98f309f",
   "metadata": {},
   "outputs": [
    {
     "data": {
      "text/plain": [
       "(0, 2)"
      ]
     },
     "execution_count": 47,
     "metadata": {},
     "output_type": "execute_result"
    }
   ],
   "source": [
    "twoSum(nums, target)"
   ]
  },
  {
   "cell_type": "code",
   "execution_count": 48,
   "id": "169ff9ca",
   "metadata": {},
   "outputs": [],
   "source": [
    "nums2 = [3, 2, 4]\n",
    "target2 = 6"
   ]
  },
  {
   "cell_type": "code",
   "execution_count": 49,
   "id": "9d0802a5",
   "metadata": {},
   "outputs": [
    {
     "data": {
      "text/plain": [
       "(0, 1)"
      ]
     },
     "execution_count": 49,
     "metadata": {},
     "output_type": "execute_result"
    }
   ],
   "source": [
    "twoSum(nums2, target2)"
   ]
  },
  {
   "cell_type": "markdown",
   "id": "745351c3",
   "metadata": {},
   "source": [
    "# Why does 1 solution work, but the other does not??"
   ]
  },
  {
   "cell_type": "markdown",
   "id": "6a4868e7",
   "metadata": {},
   "source": [
    "# Note: try to be comfortable to use enumerate as it's sometime out of comfort zone for newbies. \n",
    "## enumerate comes handy in a lot of problems\n",
    "### If I had to choose three built in functions/methods that I wasn't comfortable with at the start and have found them super helpful, I'd probably say enumerate, zip and set"
   ]
  },
  {
   "cell_type": "code",
   "execution_count": 53,
   "id": "9c50276a",
   "metadata": {},
   "outputs": [
    {
     "ename": "SyntaxError",
     "evalue": "'return' outside function (<ipython-input-53-6161d364aba7>, line 5)",
     "output_type": "error",
     "traceback": [
      "\u001b[0;36m  File \u001b[0;32m\"<ipython-input-53-6161d364aba7>\"\u001b[0;36m, line \u001b[0;32m5\u001b[0m\n\u001b[0;31m    return [d[m], i]\u001b[0m\n\u001b[0m    ^\u001b[0m\n\u001b[0;31mSyntaxError\u001b[0m\u001b[0;31m:\u001b[0m 'return' outside function\n"
     ]
    }
   ],
   "source": [
    "d = {}\n",
    "for i, n in enumerate(nums):\n",
    "    m = target - n\n",
    "    if m in d:\n",
    "        return [d[m], i]\n",
    "    else:\n",
    "        d[n] = i"
   ]
  },
  {
   "cell_type": "code",
   "execution_count": null,
   "id": "138cdffc",
   "metadata": {},
   "outputs": [],
   "source": []
  }
 ],
 "metadata": {
  "kernelspec": {
   "display_name": "Python 3",
   "language": "python",
   "name": "python3"
  },
  "language_info": {
   "codemirror_mode": {
    "name": "ipython",
    "version": 3
   },
   "file_extension": ".py",
   "mimetype": "text/x-python",
   "name": "python",
   "nbconvert_exporter": "python",
   "pygments_lexer": "ipython3",
   "version": "3.8.8"
  }
 },
 "nbformat": 4,
 "nbformat_minor": 5
}
