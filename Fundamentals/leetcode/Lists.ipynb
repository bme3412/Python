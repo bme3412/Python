{
 "cells": [
  {
   "cell_type": "code",
   "execution_count": 6,
   "id": "e27c264d",
   "metadata": {},
   "outputs": [
    {
     "name": "stdout",
     "output_type": "stream",
     "text": [
      "2\n",
      "insert 4 5\n",
      "print\n",
      "[5]\n"
     ]
    }
   ],
   "source": [
    "N = int(input())\n",
    "List = []\n",
    "i = 0 # iterator\n",
    "\n",
    "try:\n",
    "    while (i < N):\n",
    "        entry = input().split()\n",
    "        command = entry[0]\n",
    "        i +=1\n",
    "        \n",
    "        if command == 'pop':\n",
    "            List.pop()\n",
    "        elif command == 'append':\n",
    "            List.append(entry[1])\n",
    "        elif command == 'extend':\n",
    "            List.extend()\n",
    "        elif command == 'insert':\n",
    "            List.insert(int(entry[1]), int(entry[2]))\n",
    "        elif command == 'remove':\n",
    "            List.remove(int(entry[1]))\n",
    "        elif command == 'index':\n",
    "            List.index(int(entry[1]))\n",
    "        elif command == 'count':\n",
    "            List.count(int(entry[1]))\n",
    "        elif command  == 'sort':\n",
    "            List.sort()\n",
    "        elif command == 'reverse':\n",
    "            List.reverse()\n",
    "        elif command == 'print':\n",
    "            print(List)\n",
    "except:\n",
    "    pass\n",
    "                        \n",
    "        "
   ]
  },
  {
   "cell_type": "code",
   "execution_count": 9,
   "id": "a10da833",
   "metadata": {},
   "outputs": [
    {
     "name": "stdout",
     "output_type": "stream",
     "text": [
      "2\n",
      "append 4\n",
      "append 5\n"
     ]
    },
    {
     "data": {
      "text/plain": [
       "[4, 5]"
      ]
     },
     "execution_count": 9,
     "metadata": {},
     "output_type": "execute_result"
    }
   ],
   "source": [
    "N = int(input())\n",
    "lis=list()\n",
    "for _ in range(N):\n",
    "    s=input().strip().split(\" \")\n",
    "    if s[0]==\"insert\":\n",
    "        lis.insert(int(s[1]),int(s[2]))\n",
    "    if s[0]==\"print\":\n",
    "        print(lis)\n",
    "    if s[0]==\"remove\":\n",
    "        lis.remove(int(s[1]))\n",
    "    if s[0]==\"append\":\n",
    "        lis.append(int(s[1]))\n",
    "    if s[0]==\"sort\":\n",
    "        lis.sort()\n",
    "    if s[0]==\"pop\":\n",
    "        lis.pop()\n",
    "    if s[0]==\"reverse\":\n",
    "        lis.reverse()\n",
    "lis"
   ]
  },
  {
   "cell_type": "code",
   "execution_count": null,
   "id": "92c03152",
   "metadata": {},
   "outputs": [],
   "source": []
  }
 ],
 "metadata": {
  "kernelspec": {
   "display_name": "Python 3",
   "language": "python",
   "name": "python3"
  },
  "language_info": {
   "codemirror_mode": {
    "name": "ipython",
    "version": 3
   },
   "file_extension": ".py",
   "mimetype": "text/x-python",
   "name": "python",
   "nbconvert_exporter": "python",
   "pygments_lexer": "ipython3",
   "version": "3.8.8"
  }
 },
 "nbformat": 4,
 "nbformat_minor": 5
}
