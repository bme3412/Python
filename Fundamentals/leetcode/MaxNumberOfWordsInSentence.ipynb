{
 "cells": [
  {
   "cell_type": "markdown",
   "id": "e7f6bfa4",
   "metadata": {},
   "source": [
    "You are given an array of strings sentences, where each sentences[i] represents a single sentence."
   ]
  },
  {
   "cell_type": "code",
   "execution_count": 1,
   "id": "24e6e1db",
   "metadata": {},
   "outputs": [],
   "source": [
    "sentences = [\"alice and bob love leetcode\", \"i think so too\", \"this is great thanks very much\"]"
   ]
  },
  {
   "cell_type": "code",
   "execution_count": 8,
   "id": "afe23977",
   "metadata": {},
   "outputs": [],
   "source": [
    "def mostWordsFound(sentences):\n",
    "    return max(len(i.split()) for i in sentences)"
   ]
  },
  {
   "cell_type": "code",
   "execution_count": 9,
   "id": "90d77eb7",
   "metadata": {},
   "outputs": [
    {
     "data": {
      "text/plain": [
       "6"
      ]
     },
     "execution_count": 9,
     "metadata": {},
     "output_type": "execute_result"
    }
   ],
   "source": [
    "mostWordsFound(sentences)"
   ]
  },
  {
   "cell_type": "code",
   "execution_count": null,
   "id": "85e1a92e",
   "metadata": {},
   "outputs": [],
   "source": []
  }
 ],
 "metadata": {
  "kernelspec": {
   "display_name": "Python 3",
   "language": "python",
   "name": "python3"
  },
  "language_info": {
   "codemirror_mode": {
    "name": "ipython",
    "version": 3
   },
   "file_extension": ".py",
   "mimetype": "text/x-python",
   "name": "python",
   "nbconvert_exporter": "python",
   "pygments_lexer": "ipython3",
   "version": "3.8.8"
  }
 },
 "nbformat": 4,
 "nbformat_minor": 5
}
