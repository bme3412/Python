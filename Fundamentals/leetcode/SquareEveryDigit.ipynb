{
 "cells": [
  {
   "cell_type": "markdown",
   "id": "6b2a7a21",
   "metadata": {},
   "source": [
    "+ you are asked to square every digit of a number and concatenate them.\n",
    "\n",
    "+ For example, if we run 9119 through the function, 811181 will come out, because 92 is 81 and 12 is 1.\n",
    "\n",
    "+ Note: The function accepts an integer and returns an integer"
   ]
  },
  {
   "cell_type": "code",
   "execution_count": 13,
   "id": "f8e75837",
   "metadata": {},
   "outputs": [],
   "source": [
    "def square_digits(num):\n",
    "    digits = [int(i) for i in str(num)]\n",
    "    my_string = ''\n",
    "    for x in digits:\n",
    "        my_string += str(x**2)\n",
    "    print(\"final result: \", my_string)\n"
   ]
  },
  {
   "cell_type": "code",
   "execution_count": 17,
   "id": "847add56",
   "metadata": {},
   "outputs": [
    {
     "name": "stdout",
     "output_type": "stream",
     "text": [
      "final result:  9414\n"
     ]
    }
   ],
   "source": [
    "square_digits(3212)"
   ]
  },
  {
   "cell_type": "code",
   "execution_count": null,
   "id": "4c1180dc",
   "metadata": {},
   "outputs": [],
   "source": []
  }
 ],
 "metadata": {
  "kernelspec": {
   "display_name": "Python 3",
   "language": "python",
   "name": "python3"
  },
  "language_info": {
   "codemirror_mode": {
    "name": "ipython",
    "version": 3
   },
   "file_extension": ".py",
   "mimetype": "text/x-python",
   "name": "python",
   "nbconvert_exporter": "python",
   "pygments_lexer": "ipython3",
   "version": "3.8.8"
  }
 },
 "nbformat": 4,
 "nbformat_minor": 5
}
