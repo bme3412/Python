{
 "cells": [
  {
   "cell_type": "markdown",
   "id": "198b33e8",
   "metadata": {},
   "source": [
    "## Question  TwoSum\n",
    "+ Given an array of integers nums and an integer target, return indices of the two numbers such that they add up to target.\n",
    "\n",
    "+ You may assume that each input would have exactly one solution, and you may not use the same element twice.\n",
    "\n",
    "+ You can return the answer in any order."
   ]
  },
  {
   "cell_type": "markdown",
   "id": "711827f2",
   "metadata": {},
   "source": [
    "## Example 1"
   ]
  },
  {
   "cell_type": "code",
   "execution_count": null,
   "id": "96ac1a3b",
   "metadata": {},
   "outputs": [],
   "source": [
    "# Input: nums = [2,7,11,15], target = 9\n",
    "# output [0,1]\n",
    "# bc nums[0] + nums[1] == 9, return [0,1]\n"
   ]
  },
  {
   "cell_type": "markdown",
   "id": "e885729e",
   "metadata": {},
   "source": [
    "## Example 2"
   ]
  },
  {
   "cell_type": "code",
   "execution_count": null,
   "id": "fdffaf7f",
   "metadata": {},
   "outputs": [],
   "source": [
    "# Input: nums = [3,2,4], target = 6\n",
    "output = [1,2]"
   ]
  },
  {
   "cell_type": "markdown",
   "id": "f386a4aa",
   "metadata": {},
   "source": [
    "## Notes"
   ]
  },
  {
   "cell_type": "markdown",
   "id": "388f82b9",
   "metadata": {},
   "source": [
    "+ In general, sum problems can be categorized into two categories: \n",
    "+ 1) there is any array and you add some numbers to get to (or close to) a target, or \n",
    "+ 2) you need to return indices of numbers that sum up to a (or close to) a target value. \n",
    "+ Note that when the problem is looking for a indices, sorting the array is probably NOT a good idea.\n"
   ]
  },
  {
   "cell_type": "markdown",
   "id": "11bedd17",
   "metadata": {},
   "source": [
    "## Solutions"
   ]
  },
  {
   "cell_type": "code",
   "execution_count": 3,
   "id": "849f3634",
   "metadata": {},
   "outputs": [
    {
     "ename": "SyntaxError",
     "evalue": "'return' outside function (<ipython-input-3-f6a52ce29ff1>, line 8)",
     "output_type": "error",
     "traceback": [
      "\u001b[0;36m  File \u001b[0;32m\"<ipython-input-3-f6a52ce29ff1>\"\u001b[0;36m, line \u001b[0;32m8\u001b[0m\n\u001b[0;31m    return [i, seen[remaining]]\u001b[0m\n\u001b[0m    ^\u001b[0m\n\u001b[0;31mSyntaxError\u001b[0m\u001b[0;31m:\u001b[0m 'return' outside function\n"
     ]
    }
   ],
   "source": [
    "class Solutions:\n",
    "    #def twoSum(self, nums: List[int], target: int) -> List[int]:\n",
    "        seen = {} # create a dictionary\n",
    "        for i, value in enumerate(nums): \n",
    "            remaining = target - nums[i]\n",
    "            \n",
    "            if remaining in seen:\n",
    "                return [i, seen[remaining]]\n",
    "            else:\n",
    "                seen[value] = i"
   ]
  },
  {
   "cell_type": "markdown",
   "id": "eb039830",
   "metadata": {},
   "source": [
    "## Solution explained\n",
    "+ this is the 2nd type of the problems, where lookign for indices -- so sorting is not necesary\n",
    "+ need to go through the array, and try to find 2 integers that sum to a 'target' value\n",
    "+ most of the times, using a dictioanry is helpful\n"
   ]
  },
  {
   "cell_type": "markdown",
   "id": "f92c05aa",
   "metadata": {},
   "source": [
    "Code: start by initializing a dictioanry ('seen')\n",
    "+ the dictionary keeps track of numbers - as key, and indices -  as vlaue\n",
    "+ enumerate gives both index and value of elements in an array\n",
    "+ start at a index= 0, and figure out that that 'target = value - remainder'\n",
    "+ calcualte the remaining, and check "
   ]
  },
  {
   "cell_type": "markdown",
   "id": "1b68a969",
   "metadata": {},
   "source": [
    "## Enumerate"
   ]
  },
  {
   "cell_type": "code",
   "execution_count": 2,
   "id": "3b2c3c52",
   "metadata": {},
   "outputs": [
    {
     "name": "stdout",
     "output_type": "stream",
     "text": [
      "0 a\n",
      "1 b\n",
      "2 c\n"
     ]
    }
   ],
   "source": [
    "d1 = {'a' : 15,'b' : 18,'c' : 20}\n",
    "\n",
    "for i,j in enumerate(d1):\n",
    "    print(i,j)"
   ]
  },
  {
   "cell_type": "markdown",
   "id": "6d714618",
   "metadata": {},
   "source": [
    "## Zip"
   ]
  },
  {
   "cell_type": "markdown",
   "id": "20d8bf65",
   "metadata": {},
   "source": [
    "## set"
   ]
  },
  {
   "cell_type": "code",
   "execution_count": null,
   "id": "8cf83e2a",
   "metadata": {},
   "outputs": [],
   "source": []
  }
 ],
 "metadata": {
  "kernelspec": {
   "display_name": "Python 3",
   "language": "python",
   "name": "python3"
  },
  "language_info": {
   "codemirror_mode": {
    "name": "ipython",
    "version": 3
   },
   "file_extension": ".py",
   "mimetype": "text/x-python",
   "name": "python",
   "nbconvert_exporter": "python",
   "pygments_lexer": "ipython3",
   "version": "3.8.8"
  }
 },
 "nbformat": 4,
 "nbformat_minor": 5
}
