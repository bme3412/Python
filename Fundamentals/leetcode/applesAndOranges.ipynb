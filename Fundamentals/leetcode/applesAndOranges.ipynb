{
 "cells": [
  {
   "cell_type": "code",
   "execution_count": 1,
   "id": "40707831",
   "metadata": {},
   "outputs": [],
   "source": [
    "s = 7 # starting point of home\n",
    "t = 11 # ending point of home\n",
    "a = 5 # locatiion of apple tree\n",
    "b = 15 # locaotion of orange tree\n",
    "m = 3 # of apples\n",
    "n = 2 # of oranges\n",
    "apples = [-2, 2, 1] # distance for each apple\n",
    "oranges = [5, -6] # distance for each orange\n",
    "\n",
    "def countApplesAndOranges(s, t, a, b, apples, oranges):\n",
    "    total_apples = total_oranges = 0\n",
    "    for i in range(len(apples)): # of apples\n",
    "        if s<= a+ apples[i] <=t: \n",
    "            total_apples +=1\n",
    "            \n",
    "    for i in range(len(oranges)): # of oranges\n",
    "        if s <= b +oranges[i] <=t:\n",
    "            total_oranges +=1\n",
    "    print(total_apples)\n",
    "    print(total_oranges)\n"
   ]
  },
  {
   "cell_type": "code",
   "execution_count": 2,
   "id": "9b517bf2",
   "metadata": {},
   "outputs": [
    {
     "name": "stdout",
     "output_type": "stream",
     "text": [
      "1\n",
      "1\n"
     ]
    }
   ],
   "source": [
    "countApplesAndOranges(s, t, a, b, apples, oranges)"
   ]
  },
  {
   "cell_type": "code",
   "execution_count": 3,
   "id": "742e9a24",
   "metadata": {},
   "outputs": [
    {
     "name": "stdout",
     "output_type": "stream",
     "text": [
      "1\n",
      "1\n"
     ]
    }
   ],
   "source": [
    "def countApplesAndOranges2(s, t, a, b, apples, oranges):\n",
    "    total_apples = total_oranges = 0\n",
    "    for i in range(m): # of apples\n",
    "        if s<= a+ apples[i] <=t: \n",
    "            total_apples +=1\n",
    "            \n",
    "    for i in range(n): # of oranges\n",
    "        if s <= b +oranges[i] <=t:\n",
    "            total_oranges +=1\n",
    "    print(total_apples)\n",
    "    print(total_oranges)\n",
    "countApplesAndOranges2(s, t, a, b, apples, oranges)"
   ]
  },
  {
   "cell_type": "code",
   "execution_count": null,
   "id": "52e23fe3",
   "metadata": {},
   "outputs": [],
   "source": []
  }
 ],
 "metadata": {
  "kernelspec": {
   "display_name": "Python 3",
   "language": "python",
   "name": "python3"
  },
  "language_info": {
   "codemirror_mode": {
    "name": "ipython",
    "version": 3
   },
   "file_extension": ".py",
   "mimetype": "text/x-python",
   "name": "python",
   "nbconvert_exporter": "python",
   "pygments_lexer": "ipython3",
   "version": "3.8.8"
  }
 },
 "nbformat": 4,
 "nbformat_minor": 5
}
