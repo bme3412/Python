{
 "cells": [
  {
   "cell_type": "code",
   "execution_count": 3,
   "id": "419e6013",
   "metadata": {},
   "outputs": [],
   "source": [
    "n = 4 # # of food items\n",
    "k = 1 # the food item that anna did not eat\n",
    "bill = [3, 10, 2, 9] # the cost of each item\n",
    "b = 12 # the amount charged to anna"
   ]
  },
  {
   "cell_type": "code",
   "execution_count": 4,
   "id": "93c26aad",
   "metadata": {},
   "outputs": [
    {
     "data": {
      "text/plain": [
       "24"
      ]
     },
     "execution_count": 4,
     "metadata": {},
     "output_type": "execute_result"
    }
   ],
   "source": [
    "sum(bill)"
   ]
  },
  {
   "cell_type": "code",
   "execution_count": null,
   "id": "5c8a7a9c",
   "metadata": {},
   "outputs": [],
   "source": []
  },
  {
   "cell_type": "code",
   "execution_count": 13,
   "id": "055e43d5",
   "metadata": {},
   "outputs": [],
   "source": [
    "def bonAppetit(bill, k, b):\n",
    "    shared_bill = sum(bill)-bill[k]\n",
    "    cost_per_person = shared_bill/2\n",
    "    if b == cost_per_person:\n",
    "        print('Bon Appetit')\n",
    "    else:\n",
    "        print(b - cost_per_person)\n",
    "    \n",
    "    "
   ]
  },
  {
   "cell_type": "code",
   "execution_count": 14,
   "id": "633f9c44",
   "metadata": {},
   "outputs": [
    {
     "name": "stdout",
     "output_type": "stream",
     "text": [
      "5.0\n"
     ]
    }
   ],
   "source": [
    "bonAppetit(bill, k, b)"
   ]
  },
  {
   "cell_type": "code",
   "execution_count": null,
   "id": "2c17b47f",
   "metadata": {},
   "outputs": [],
   "source": []
  }
 ],
 "metadata": {
  "kernelspec": {
   "display_name": "Python 3",
   "language": "python",
   "name": "python3"
  },
  "language_info": {
   "codemirror_mode": {
    "name": "ipython",
    "version": 3
   },
   "file_extension": ".py",
   "mimetype": "text/x-python",
   "name": "python",
   "nbconvert_exporter": "python",
   "pygments_lexer": "ipython3",
   "version": "3.8.8"
  }
 },
 "nbformat": 4,
 "nbformat_minor": 5
}
