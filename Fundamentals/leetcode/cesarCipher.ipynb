{
 "cells": [
  {
   "cell_type": "code",
   "execution_count": 27,
   "id": "3be7b910",
   "metadata": {},
   "outputs": [],
   "source": [
    "s = 'middle-Outz'\n",
    "\n",
    "def caesarCipher(s, k):\n",
    "    alpha_dict = {}\n",
    "    string_dict = {}\n",
    "    orig_alpha = 'abcdefghijklmnopqrstuvwxyz'\n",
    "    for i, x in enumerate(orig_alpha):\n",
    "        alpha_dict[x]=i\n",
    "    #for i, x in enumerate(s):\n",
    "        #string_dict[x] = i\n",
    "    return alpha_dict #string_dict"
   ]
  },
  {
   "cell_type": "code",
   "execution_count": 28,
   "id": "3205b091",
   "metadata": {},
   "outputs": [
    {
     "data": {
      "text/plain": [
       "{'a': 0,\n",
       " 'b': 1,\n",
       " 'c': 2,\n",
       " 'd': 3,\n",
       " 'e': 4,\n",
       " 'f': 5,\n",
       " 'g': 6,\n",
       " 'h': 7,\n",
       " 'i': 8,\n",
       " 'j': 9,\n",
       " 'k': 10,\n",
       " 'l': 11,\n",
       " 'm': 12,\n",
       " 'n': 13,\n",
       " 'o': 14,\n",
       " 'p': 15,\n",
       " 'q': 16,\n",
       " 'r': 17,\n",
       " 's': 18,\n",
       " 't': 19,\n",
       " 'u': 20,\n",
       " 'v': 21,\n",
       " 'w': 22,\n",
       " 'x': 23,\n",
       " 'y': 24,\n",
       " 'z': 25}"
      ]
     },
     "execution_count": 28,
     "metadata": {},
     "output_type": "execute_result"
    }
   ],
   "source": [
    "caesarCipher(2,2)"
   ]
  },
  {
   "cell_type": "code",
   "execution_count": null,
   "id": "9ca78867",
   "metadata": {},
   "outputs": [],
   "source": [
    "# s = string\n",
    "# n = len(s)\n",
    "# k = rotate by"
   ]
  },
  {
   "cell_type": "code",
   "execution_count": null,
   "id": "dd9113d9",
   "metadata": {},
   "outputs": [],
   "source": []
  }
 ],
 "metadata": {
  "kernelspec": {
   "display_name": "Python 3",
   "language": "python",
   "name": "python3"
  },
  "language_info": {
   "codemirror_mode": {
    "name": "ipython",
    "version": 3
   },
   "file_extension": ".py",
   "mimetype": "text/x-python",
   "name": "python",
   "nbconvert_exporter": "python",
   "pygments_lexer": "ipython3",
   "version": "3.8.8"
  }
 },
 "nbformat": 4,
 "nbformat_minor": 5
}
