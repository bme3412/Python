{
 "cells": [
  {
   "cell_type": "code",
   "execution_count": 15,
   "id": "80648cdb",
   "metadata": {},
   "outputs": [
    {
     "name": "stdout",
     "output_type": "stream",
     "text": [
      "2\n",
      "shoes by size: 5 5 10\n",
      "# of customers: 2\n",
      "Shoe size and price: 5 20 \n",
      "[5, 20]\n",
      "Shoe size and price: 10 30\n",
      "[10, 30]\n"
     ]
    }
   ],
   "source": [
    "from collections import Counter\n",
    "\n",
    "X = int(input()) # of shoes\n",
    "size = [int(x) for x in input(\"shoes by size: \").split()] # array of sizes\n",
    "N = int(input('# of customers: ')) # of customers\n",
    "for i in range(N):\n",
    "    x = [int(x) for x in input(\"Shoe size and price: \").split()]\n",
    "    print(list(x))"
   ]
  },
  {
   "cell_type": "code",
   "execution_count": 19,
   "id": "059b6e20",
   "metadata": {},
   "outputs": [
    {
     "name": "stdout",
     "output_type": "stream",
     "text": [
      "enter # of shoes: 5\n",
      "enter shoes by size: 6 6 5 8 7\n",
      "enter # of customers: 5\n",
      "enter shoe size, price6 20\n",
      "enter shoe size, price6 30\n",
      "enter shoe size, price5 10\n",
      "enter shoe size, price8 40\n",
      "enter shoe size, price7 80\n",
      "180\n"
     ]
    }
   ],
   "source": [
    "import collections\n",
    "\n",
    "numShoes = int(input('enter # of shoes: '))\n",
    "shoes = collections.Counter(map(int, input('enter shoes by size: ').split()))\n",
    "numCust = int(input('enter # of customers: '))\n",
    "\n",
    "income = 0\n",
    "\n",
    "for i in range(numCust):\n",
    "    size, price = map(int, input('enter shoe size, price').split())\n",
    "    if shoes[size]: \n",
    "        income += price\n",
    "        shoes[size] -= 1\n",
    "\n",
    "print(income)"
   ]
  },
  {
   "cell_type": "code",
   "execution_count": null,
   "id": "bc111f2e",
   "metadata": {},
   "outputs": [],
   "source": []
  }
 ],
 "metadata": {
  "kernelspec": {
   "display_name": "Python 3",
   "language": "python",
   "name": "python3"
  },
  "language_info": {
   "codemirror_mode": {
    "name": "ipython",
    "version": 3
   },
   "file_extension": ".py",
   "mimetype": "text/x-python",
   "name": "python",
   "nbconvert_exporter": "python",
   "pygments_lexer": "ipython3",
   "version": "3.8.8"
  }
 },
 "nbformat": 4,
 "nbformat_minor": 5
}
