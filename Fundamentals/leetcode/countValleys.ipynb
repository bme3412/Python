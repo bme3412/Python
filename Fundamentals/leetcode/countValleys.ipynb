{
 "cells": [
  {
   "cell_type": "code",
   "execution_count": 26,
   "id": "147c0664",
   "metadata": {},
   "outputs": [],
   "source": [
    "steps = 8\n",
    "path = 'UDDDUDUU'\n"
   ]
  },
  {
   "cell_type": "code",
   "execution_count": 16,
   "id": "803184f6",
   "metadata": {},
   "outputs": [],
   "source": [
    "def countingValleys(steps, path):\n",
    "    sea_level = 0\n",
    "    for i in range(path_):\n",
    "        if path_[i] =='U':\n",
    "            sea_level +=1\n",
    "        else:\n",
    "            sea_level -=1\n",
    "    return sea_level\n"
   ]
  },
  {
   "cell_type": "code",
   "execution_count": 33,
   "id": "d4fc2e61",
   "metadata": {},
   "outputs": [],
   "source": [
    "def countingValleys2(steps, path):\n",
    "    sea_level = 0\n",
    "    valley_count = 0\n",
    "    d = {'U':1, 'D':-1}\n",
    "    for step in path:\n",
    "        sea_level += d[step]\n",
    "        if sea_level ==0 and step =='U':\n",
    "            valley_count +=1\n",
    "    return valley_count"
   ]
  },
  {
   "cell_type": "code",
   "execution_count": 34,
   "id": "72ac49d0",
   "metadata": {},
   "outputs": [
    {
     "data": {
      "text/plain": [
       "1"
      ]
     },
     "execution_count": 34,
     "metadata": {},
     "output_type": "execute_result"
    }
   ],
   "source": [
    "countingValleys2(steps, path)"
   ]
  },
  {
   "cell_type": "code",
   "execution_count": null,
   "id": "fa208d4b",
   "metadata": {},
   "outputs": [],
   "source": []
  }
 ],
 "metadata": {
  "kernelspec": {
   "display_name": "Python 3",
   "language": "python",
   "name": "python3"
  },
  "language_info": {
   "codemirror_mode": {
    "name": "ipython",
    "version": 3
   },
   "file_extension": ".py",
   "mimetype": "text/x-python",
   "name": "python",
   "nbconvert_exporter": "python",
   "pygments_lexer": "ipython3",
   "version": "3.8.8"
  }
 },
 "nbformat": 4,
 "nbformat_minor": 5
}
