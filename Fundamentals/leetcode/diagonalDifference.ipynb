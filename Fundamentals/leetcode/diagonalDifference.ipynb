{
 "cells": [
  {
   "cell_type": "code",
   "execution_count": 48,
   "id": "57cb2d92",
   "metadata": {},
   "outputs": [],
   "source": [
    "n = 3 # # of rows and columns\n",
    "arr = [[11, 12, 4], [4,5,6], [10,8,-12]]\n",
    "\n",
    "# diag_1 = arr[(n-n)][n-n] + arr[(n-1)][(n-1)] + arr[(n-2)][(n-2)]\n",
    "# diag_2"
   ]
  },
  {
   "cell_type": "code",
   "execution_count": 64,
   "id": "35da495e",
   "metadata": {},
   "outputs": [],
   "source": [
    "def diagonalDifference(arr):\n",
    "    diag_1 = arr[(n-n)][(n-n)] + arr[(n-2)][(n-2)] + arr[(n-1)][(n-1)]\n",
    "    diag_2 = arr[(n-n)][(n-1)] + arr[(n-2)][(n-2)] + arr[(n-1)][(n-n)]\n",
    "    diff = abs(diag_1-diag_2)\n",
    "    print(diff)"
   ]
  },
  {
   "cell_type": "code",
   "execution_count": 65,
   "id": "b6d10f7d",
   "metadata": {},
   "outputs": [
    {
     "name": "stdout",
     "output_type": "stream",
     "text": [
      "[[11, 12, 4], [4, 5, 6], [10, 8, -12]]\n"
     ]
    }
   ],
   "source": [
    "print(arr)"
   ]
  },
  {
   "cell_type": "code",
   "execution_count": 66,
   "id": "1c1e9971",
   "metadata": {},
   "outputs": [
    {
     "name": "stdout",
     "output_type": "stream",
     "text": [
      "15\n"
     ]
    }
   ],
   "source": [
    "diagonalDifference(arr)"
   ]
  },
  {
   "cell_type": "code",
   "execution_count": 69,
   "id": "f4c39f62",
   "metadata": {},
   "outputs": [
    {
     "data": {
      "text/plain": [
       "15"
      ]
     },
     "execution_count": 69,
     "metadata": {},
     "output_type": "execute_result"
    }
   ],
   "source": [
    "def diagonalDiff(arr):\n",
    "    a, b = 0,0\n",
    "    for i in range(len(arr)):\n",
    "        a += arr[i][i]\n",
    "        b += arr[i][-i-1]\n",
    "    return abs(a-b)\n",
    "diagonalDiff(arr)"
   ]
  },
  {
   "cell_type": "code",
   "execution_count": 74,
   "id": "7021daed",
   "metadata": {},
   "outputs": [
    {
     "data": {
      "text/plain": [
       "17"
      ]
     },
     "execution_count": 74,
     "metadata": {},
     "output_type": "execute_result"
    }
   ],
   "source": [
    "arr2 = [[11,12,4,8],[4,5,6,10],[10,8,-12,6],[5,5,6,6]]\n",
    "diagonalDiff(arr2)"
   ]
  },
  {
   "cell_type": "code",
   "execution_count": null,
   "id": "22e817e5",
   "metadata": {},
   "outputs": [],
   "source": []
  }
 ],
 "metadata": {
  "kernelspec": {
   "display_name": "Python 3",
   "language": "python",
   "name": "python3"
  },
  "language_info": {
   "codemirror_mode": {
    "name": "ipython",
    "version": 3
   },
   "file_extension": ".py",
   "mimetype": "text/x-python",
   "name": "python",
   "nbconvert_exporter": "python",
   "pygments_lexer": "ipython3",
   "version": "3.8.8"
  }
 },
 "nbformat": 4,
 "nbformat_minor": 5
}
