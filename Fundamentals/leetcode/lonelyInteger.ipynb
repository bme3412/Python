{
 "cells": [
  {
   "cell_type": "code",
   "execution_count": 18,
   "id": "17354012",
   "metadata": {},
   "outputs": [],
   "source": [
    "a = [1,2,3,4,3,2,1]\n",
    "\n",
    "def lonely_integer(a):\n",
    "    x = [i for i in a if a.count(i)==1]\n",
    "    print(x[0])\n",
    "    \n"
   ]
  },
  {
   "cell_type": "code",
   "execution_count": 19,
   "id": "7e49d178",
   "metadata": {},
   "outputs": [
    {
     "name": "stdout",
     "output_type": "stream",
     "text": [
      "4\n"
     ]
    }
   ],
   "source": [
    "lonely_integer(a)"
   ]
  },
  {
   "cell_type": "code",
   "execution_count": null,
   "id": "2a24f639",
   "metadata": {},
   "outputs": [],
   "source": []
  }
 ],
 "metadata": {
  "kernelspec": {
   "display_name": "Python 3",
   "language": "python",
   "name": "python3"
  },
  "language_info": {
   "codemirror_mode": {
    "name": "ipython",
    "version": 3
   },
   "file_extension": ".py",
   "mimetype": "text/x-python",
   "name": "python",
   "nbconvert_exporter": "python",
   "pygments_lexer": "ipython3",
   "version": "3.8.8"
  }
 },
 "nbformat": 4,
 "nbformat_minor": 5
}
