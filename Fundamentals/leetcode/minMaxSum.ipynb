{
 "cells": [
  {
   "cell_type": "code",
   "execution_count": 11,
   "id": "2ea07bdd",
   "metadata": {},
   "outputs": [],
   "source": [
    "arr = [1,3,58,7,9]\n",
    "arr_sorted = sorted(arr)\n",
    "num_1 = arr[0]"
   ]
  },
  {
   "cell_type": "code",
   "execution_count": 24,
   "id": "6399935f",
   "metadata": {},
   "outputs": [],
   "source": [
    "import math\n",
    "import os\n",
    "import random\n",
    "import re\n",
    "import sys"
   ]
  },
  {
   "cell_type": "code",
   "execution_count": 25,
   "id": "d3d2695b",
   "metadata": {},
   "outputs": [
    {
     "ename": "NameError",
     "evalue": "name 'raw_input' is not defined",
     "output_type": "error",
     "traceback": [
      "\u001b[0;31m---------------------------------------------------------------------------\u001b[0m",
      "\u001b[0;31mNameError\u001b[0m                                 Traceback (most recent call last)",
      "\u001b[0;32m<ipython-input-25-839def3704f7>\u001b[0m in \u001b[0;36m<module>\u001b[0;34m\u001b[0m\n\u001b[0;32m----> 1\u001b[0;31m \u001b[0marr\u001b[0m \u001b[0;34m=\u001b[0m \u001b[0mmap\u001b[0m\u001b[0;34m(\u001b[0m\u001b[0mint\u001b[0m\u001b[0;34m,\u001b[0m \u001b[0mraw_input\u001b[0m\u001b[0;34m(\u001b[0m\u001b[0;34m)\u001b[0m\u001b[0;34m.\u001b[0m\u001b[0mrstrip\u001b[0m\u001b[0;34m(\u001b[0m\u001b[0;34m)\u001b[0m\u001b[0;34m.\u001b[0m\u001b[0msplit\u001b[0m\u001b[0;34m(\u001b[0m\u001b[0;34m)\u001b[0m\u001b[0;34m)\u001b[0m\u001b[0;34m\u001b[0m\u001b[0;34m\u001b[0m\u001b[0m\n\u001b[0m",
      "\u001b[0;31mNameError\u001b[0m: name 'raw_input' is not defined"
     ]
    }
   ],
   "source": [
    "arr = map(int, raw_input().rstrip().split())"
   ]
  },
  {
   "cell_type": "code",
   "execution_count": 38,
   "id": "11e4e23b",
   "metadata": {},
   "outputs": [],
   "source": [
    "def minMaxSum(arr):\n",
    "    sorted_arr = sorted(arr)\n",
    "    min_sum = sum(sorted_arr[:4])\n",
    "    max_sum = sum(sorted_arr[1:])\n",
    "    print(str(min_sum) + \" \" + str(max_sum))"
   ]
  },
  {
   "cell_type": "code",
   "execution_count": 39,
   "id": "0ed7e1a4",
   "metadata": {},
   "outputs": [
    {
     "name": "stdout",
     "output_type": "stream",
     "text": [
      "20 77\n"
     ]
    }
   ],
   "source": [
    "minMaxSum(arr)"
   ]
  },
  {
   "cell_type": "code",
   "execution_count": 30,
   "id": "22b791b9",
   "metadata": {},
   "outputs": [],
   "source": [
    "def minMaxSum2(arr):\n",
    "    print(sum(arr)-max(arr), sum(arr)-min(arr))"
   ]
  },
  {
   "cell_type": "code",
   "execution_count": 31,
   "id": "0a76208d",
   "metadata": {},
   "outputs": [
    {
     "name": "stdout",
     "output_type": "stream",
     "text": [
      "20 77\n"
     ]
    }
   ],
   "source": [
    "minMaxSum2(arr)"
   ]
  },
  {
   "cell_type": "code",
   "execution_count": null,
   "id": "e66bb484",
   "metadata": {},
   "outputs": [],
   "source": []
  }
 ],
 "metadata": {
  "kernelspec": {
   "display_name": "Python 3",
   "language": "python",
   "name": "python3"
  },
  "language_info": {
   "codemirror_mode": {
    "name": "ipython",
    "version": 3
   },
   "file_extension": ".py",
   "mimetype": "text/x-python",
   "name": "python",
   "nbconvert_exporter": "python",
   "pygments_lexer": "ipython3",
   "version": "3.8.8"
  }
 },
 "nbformat": 4,
 "nbformat_minor": 5
}
