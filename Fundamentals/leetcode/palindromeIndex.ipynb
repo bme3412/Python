{
 "cells": [
  {
   "cell_type": "code",
   "execution_count": 1,
   "id": "85ae0787",
   "metadata": {},
   "outputs": [],
   "source": [
    "def palindromeIndex(s):\n",
    "    for i,j in enumerate(range(0,len(s)//2),1):\n",
    "        if s[-i] == s[j]:\n",
    "            continue\n",
    "        if s[j:-i]==s[j:-i][::-1]:\n",
    "            return len(s)-i\n",
    "        elif s[j+1:-i+1]==s[j+1:-i+1][::-1]:\n",
    "            return j\n",
    "        return -1\n",
    "    return -1\n"
   ]
  },
  {
   "cell_type": "code",
   "execution_count": 2,
   "id": "6a1e4709",
   "metadata": {},
   "outputs": [
    {
     "data": {
      "text/plain": [
       "3"
      ]
     },
     "execution_count": 2,
     "metadata": {},
     "output_type": "execute_result"
    }
   ],
   "source": [
    "s = 'aaab'\n",
    "palindromeIndex(s)"
   ]
  },
  {
   "cell_type": "code",
   "execution_count": 3,
   "id": "3703aea1",
   "metadata": {},
   "outputs": [
    {
     "data": {
      "text/plain": [
       "0"
      ]
     },
     "execution_count": 3,
     "metadata": {},
     "output_type": "execute_result"
    }
   ],
   "source": [
    "s = 'baa'\n",
    "palindromeIndex(s)"
   ]
  },
  {
   "cell_type": "code",
   "execution_count": 4,
   "id": "550d6555",
   "metadata": {},
   "outputs": [
    {
     "data": {
      "text/plain": [
       "-1"
      ]
     },
     "execution_count": 4,
     "metadata": {},
     "output_type": "execute_result"
    }
   ],
   "source": [
    "s = 'aaa'\n",
    "palindromeIndex(s)"
   ]
  },
  {
   "cell_type": "code",
   "execution_count": 5,
   "id": "ffd339d3",
   "metadata": {},
   "outputs": [],
   "source": [
    "def palindromeIndex(s):\n",
    "    l = len(s) # length of string\n",
    "    i = 0 # set i to 0\n",
    "    j = l-1 # j = length of string -1\n",
    "    while i<l: # while l (length of string) > i\n",
    "        if s[i]!=s[j]: # if value at index of the iterated string does not = the last index\n",
    "            break\n",
    "        i+=1 # add i +1 iterate\n",
    "        j-=1 # subtract from j\n",
    "    if i>j: return -1 \n",
    "    a = i+1\n",
    "    b = j\n",
    "    while a<j and b>i+1:\n",
    "        if s[a]!=s[b]:\n",
    "            return j\n",
    "        a+=1\n",
    "        b-=1\n",
    "    return i"
   ]
  },
  {
   "cell_type": "code",
   "execution_count": 6,
   "id": "c125635e",
   "metadata": {},
   "outputs": [
    {
     "data": {
      "text/plain": [
       "4"
      ]
     },
     "execution_count": 6,
     "metadata": {},
     "output_type": "execute_result"
    }
   ],
   "source": [
    "s = \"babi7loolibab\"\n",
    "palindromeIndex(s)"
   ]
  },
  {
   "cell_type": "code",
   "execution_count": null,
   "id": "046d09a3",
   "metadata": {},
   "outputs": [],
   "source": []
  }
 ],
 "metadata": {
  "kernelspec": {
   "display_name": "Python 3",
   "language": "python",
   "name": "python3"
  },
  "language_info": {
   "codemirror_mode": {
    "name": "ipython",
    "version": 3
   },
   "file_extension": ".py",
   "mimetype": "text/x-python",
   "name": "python",
   "nbconvert_exporter": "python",
   "pygments_lexer": "ipython3",
   "version": "3.8.8"
  }
 },
 "nbformat": 4,
 "nbformat_minor": 5
}
