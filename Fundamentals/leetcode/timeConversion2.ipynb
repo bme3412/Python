{
 "cells": [
  {
   "cell_type": "code",
   "execution_count": 18,
   "id": "b1860b44",
   "metadata": {},
   "outputs": [],
   "source": [
    "s = '07:15:45PM'\n",
    "def timeConverion(s):\n",
    "    meridian = s[-2:]\n",
    "    if meridian == 'PM' and s[:2] !='12': # if PM and NOT 12PM - add 12\n",
    "        s = str(12 + int(s[:2])) + s[2:]\n",
    "    if meridian =='AM' and s[:2]=='12': # if AM and EQUAL TO 12 - convert to 00\n",
    "        s = '00' + s[2:]\n",
    "    return s[:-2] #return all except for the last 2 from the right\n",
    "        "
   ]
  },
  {
   "cell_type": "code",
   "execution_count": 19,
   "id": "162e55f9",
   "metadata": {},
   "outputs": [
    {
     "data": {
      "text/plain": [
       "'19:15:45'"
      ]
     },
     "execution_count": 19,
     "metadata": {},
     "output_type": "execute_result"
    }
   ],
   "source": [
    "timeConverion(s)"
   ]
  },
  {
   "cell_type": "code",
   "execution_count": null,
   "id": "5b2d3f37",
   "metadata": {},
   "outputs": [],
   "source": [
    "# corner case\n",
    "# 12AM = 0\n",
    "#12pm = 12:00"
   ]
  }
 ],
 "metadata": {
  "kernelspec": {
   "display_name": "Python 3",
   "language": "python",
   "name": "python3"
  },
  "language_info": {
   "codemirror_mode": {
    "name": "ipython",
    "version": 3
   },
   "file_extension": ".py",
   "mimetype": "text/x-python",
   "name": "python",
   "nbconvert_exporter": "python",
   "pygments_lexer": "ipython3",
   "version": "3.8.8"
  }
 },
 "nbformat": 4,
 "nbformat_minor": 5
}
