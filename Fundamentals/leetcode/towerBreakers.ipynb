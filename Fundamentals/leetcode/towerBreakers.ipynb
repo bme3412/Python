{
 "cells": [
  {
   "cell_type": "code",
   "execution_count": 1,
   "id": "e3539664",
   "metadata": {},
   "outputs": [],
   "source": [
    "n = 2 # of towers\n",
    "m = 6 # height of each tower\n",
    "\n",
    "# players move in alternating turns - 2 players\n",
    "# module = 0 for each move\n",
    "# or final height = 1\n",
    "\n",
    "# if current playe can't move -- they lose\n",
    "# return the winner\n",
    "\n",
    "# inputs\n",
    "# t = # if test cases\n",
    "# test case i = n, m\n",
    "# test case i = n,m\n"
   ]
  },
  {
   "cell_type": "code",
   "execution_count": 3,
   "id": "eb40ab61",
   "metadata": {},
   "outputs": [
    {
     "name": "stdout",
     "output_type": "stream",
     "text": [
      "2\n",
      "2 2\n",
      "2\n",
      "1 4\n",
      "1\n"
     ]
    }
   ],
   "source": [
    "# n = # of towers - not that if even, player 2 wins; if odd; player 1 wins\n",
    "#m = height of each tower\n",
    "\n",
    "\n",
    "T = int(input())\n",
    "for t in range(T):\n",
    "    n, m = [int(x) for x in input().strip().split()]\n",
    "    if m == 1: \n",
    "        print(2)\n",
    "    else:\n",
    "        if n % 2 == 1:\n",
    "            print(1)\n",
    "        else:\n",
    "            print(2)"
   ]
  },
  {
   "cell_type": "code",
   "execution_count": null,
   "id": "0d865b30",
   "metadata": {},
   "outputs": [],
   "source": []
  }
 ],
 "metadata": {
  "kernelspec": {
   "display_name": "Python 3",
   "language": "python",
   "name": "python3"
  },
  "language_info": {
   "codemirror_mode": {
    "name": "ipython",
    "version": 3
   },
   "file_extension": ".py",
   "mimetype": "text/x-python",
   "name": "python",
   "nbconvert_exporter": "python",
   "pygments_lexer": "ipython3",
   "version": "3.8.8"
  }
 },
 "nbformat": 4,
 "nbformat_minor": 5
}
