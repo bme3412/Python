{
 "cells": [
  {
   "cell_type": "code",
   "execution_count": 3,
   "id": "ed52d7d5",
   "metadata": {},
   "outputs": [
    {
     "name": "stdout",
     "output_type": "stream",
     "text": [
      "1\n",
      "7\n",
      "1 2 3 4 5 6 7\n",
      "1 2 3 7 6 5 4\n"
     ]
    }
   ],
   "source": [
    "def findZigZagSequence(a, n):\n",
    "    a.sort()\n",
    "    mid = int((n + 1)/2)-1\n",
    "    a[mid], a[n-1] = a[n-1], a[mid]\n",
    "\n",
    "    st = mid + 1\n",
    "    ed = n - 2\n",
    "    while(st <= ed):\n",
    "        a[st], a[ed] = a[ed], a[st]\n",
    "        st = st + 1\n",
    "        ed = ed - 1\n",
    "\n",
    "    for i in range (n):\n",
    "        if i == n-1:\n",
    "            print(a[i])\n",
    "        else:\n",
    "            print(a[i], end = ' ')\n",
    "    return\n",
    "\n",
    "test_cases = int(input())\n",
    "for cs in range (test_cases):\n",
    "    n = int(input())\n",
    "    a = list(map(int, input().split()))\n",
    "    findZigZagSequence(a, n)"
   ]
  },
  {
   "cell_type": "code",
   "execution_count": null,
   "id": "ea9732f1",
   "metadata": {},
   "outputs": [],
   "source": [
    "# k = (n + 1)/2\n",
    "# in this instance, k = 4\n",
    "# so we need that the first 4 increaseing; the # last 4 decreasing\n",
    "\n",
    "# a = [1,2,3,4,5,6,7] => index[0,1,2 |3| 4,5,6]\n",
    "# n = 7\n",
    "# mid = ((7+1)/2) - 1 => changes from 4 to 3; mid = 3\n",
    "# then swap the mid with \n",
    "# then swap the midle"
   ]
  }
 ],
 "metadata": {
  "kernelspec": {
   "display_name": "Python 3",
   "language": "python",
   "name": "python3"
  },
  "language_info": {
   "codemirror_mode": {
    "name": "ipython",
    "version": 3
   },
   "file_extension": ".py",
   "mimetype": "text/x-python",
   "name": "python",
   "nbconvert_exporter": "python",
   "pygments_lexer": "ipython3",
   "version": "3.8.8"
  }
 },
 "nbformat": 4,
 "nbformat_minor": 5
}
