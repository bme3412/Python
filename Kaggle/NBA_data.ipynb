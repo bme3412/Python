{
 "cells": [
  {
   "cell_type": "code",
   "execution_count": 14,
   "id": "f6aa876c",
   "metadata": {},
   "outputs": [],
   "source": [
    "import pandas as pd\n",
    "import sqlite3"
   ]
  },
  {
   "cell_type": "code",
   "execution_count": 7,
   "id": "da0a4269",
   "metadata": {},
   "outputs": [
    {
     "name": "stdout",
     "output_type": "stream",
     "text": [
      "Connected to SQLite\n",
      "List of tables:\n",
      "\n",
      "[('PlayersBios',), ('PlayersGeneralStats',), ('PlayersGeneralUsageStats',), ('PlayersGeneralScoringStats',), ('PlayersGeneralAdvancedStats',), ('PlayersGeneralMiscStats',), ('PlayersGeneralStatsDetailed',), ('PlayersGeneralStatsClutch',), ('PlayersGeneralUsageStatsClutch',), ('PlayersGeneralScoringStatsClutch',), ('PlayersGeneralAdvancedStatsClutch',), ('PlayersGeneralMiscStatsClutch',), ('PlayersPlaytypes_Misc',), ('PlayersPlaytypes_OffRebound',), ('PlayersPlaytypes_OffScreen',), ('PlayersPlaytypes_Cut',), ('PlayersPlaytypes_Handoff',), ('PlayersPlaytypes_Spotup',), ('PlayersPlaytypes_Postup',), ('PlayersPlaytypes_PRBallHandler',), ('PlayersPlaytypes_PRRollman',), ('PlayersPlaytypes_Isolation',), ('PlayersPlaytypes_Transition',), ('PlayersTrackingDrives',), ('PlayersTrackingDefense',), ('PlayersTrackingCatchShoot',), ('PlayersTrackingPassing',), ('PlayersTrackingPossessions',), ('PlayersTrackingPullUpShot',), ('PlayersTrackingRebounding',), ('PlayersTrackingEfficiency',), ('PlayersTrackingSpeedDistance',), ('PlayersTrackingElbowTouch',), ('PlayersTrackingPostTouch',), ('PlayersTrackingPaintTouch',), ('Players3ptsDefense',), ('Players2ptsDefense',), ('PlayersPaintDefense',), ('PlayersOutsidePaintDefense',), ('PlayersFarFromBasketDefense',), ('PlayersShotOverallRange',), ('PlayersShotCandS',), ('PlayersShotPullups',), ('PlayersShot10FeetRange',), ('PlayersShot0DribbleRange',), ('PlayersShot1DribbleRange',), ('PlayersShot2DribbleRange',), ('PlayersShot3_6DribbleRange',), ('PlayersShot7DribbleRange',), ('PlayersShotTouchTimeLT2Sec',), ('PlayersShotTouchTime2_6Sec',), ('PlayersShotTouchTime6Sec',), ('PlayersCloseDefDist_0_2',), ('PlayersCloseDefDist_2_4',), ('PlayersCloseDefDist_4_6',), ('PlayersCloseDefDist_6',), ('PlayersShotLocation',), ('PlayersHustleStats',), ('TeamsTraditionalStats',), ('TeamsAdvancedStats',), ('TeamsFourFactorsStats',), ('TeamsScoringStats',), ('TeamsMiscStats',), ('TeamsOpponentStats',), ('TeamsEstimatedMetrics',), ('TeamsTraditionalClutchStats',), ('TeamsAdvancedClutchStats',), ('TeamsFourFactorsClutchStats',), ('TeamsScoringClutchStats',), ('TeamsMiscClutchStats',), ('TeamsOpponentClutchStats',), ('TeamsPlaytypes_Misc',), ('TeamsPlaytypes_OffRebound',), ('TeamsPlaytypes_OffScreen',), ('TeamsPlaytypes_Cut',), ('TeamsPlaytypes_Handoff',), ('TeamsPlaytypes_Spotup',), ('TeamsPlaytypes_Postup',), ('TeamsPlaytypes_PRBallHandler',), ('TeamsPlaytypes_PRRollman',), ('TeamsPlaytypes_Isolation',), ('TeamsPlaytypes_Transition',), ('TeamsTrackingDrives',), ('TeamsTrackingDefense',), ('TeamsTrackingCatchShoot',), ('TeamsTrackingPassing',), ('TeamsTrackingPossessions',), ('TeamsTrackingPullUpShot',), ('TeamsTrackingRebounding',), ('TeamsTrackingEfficiency',), ('TeamsTrackingSpeedDistance',), ('TeamsTrackingElbowTouch',), ('TeamsTrackingPostTouch',), ('TeamsTrackingPaintTouch',), ('Teams3ptsDefense',), ('Teams2ptsDefense',), ('TeamsPaintDefense',), ('TeamsOutsidePaintDefense',), ('TeamsFarFromBasketDefense',), ('TeamsShotOverallRange',), ('TeamsShotCandS',), ('TeamsShotPullups',), ('TeamsShot10FeetRange',), ('TeamsShot0DribbleRange',), ('TeamsShot1DribbleRange',), ('TeamsShot2DribbleRange',), ('TeamsShot3_6DribbleRange',), ('TeamsShot7DribbleRange',), ('TeamsShotTouchTimeLT2Sec',), ('TeamsShotTouchTime2_6Sec',), ('TeamsShotTouchTime6Sec',), ('TeamsCloseDefDist_0_2',), ('TeamsCloseDefDist_2_4',), ('TeamsCloseDefDist_4_6',), ('TeamsCloseDefDist_6',), ('TeamsShotLocation',), ('TeamsHustleStats',), ('Dataset_Teams',), ('Numeric_Dataset_Players',), ('Numeric_Dataset_Teams',), ('Dataset_Players',)]\n",
      "--------------------------------\n",
      "The sqlite connection is closed\n"
     ]
    }
   ],
   "source": [
    "\n",
    "# Importing Sqlite3 Module\n",
    "\n",
    " \n",
    "try:\n",
    "     \n",
    "    # Making a connection between sqlite3\n",
    "    # database and Python Program\n",
    "    sqliteConnection = sqlite3.connect('/Users/brendan/Desktop/NBA_db.db')\n",
    "     \n",
    "    # If sqlite3 makes a connection with python\n",
    "    # program then it will print \"Connected to SQLite\"\n",
    "    # Otherwise it will show errors\n",
    "    print(\"Connected to SQLite\")\n",
    " \n",
    "    # Getting all tables from sqlite_master\n",
    "    sql_query = \"\"\"SELECT name FROM sqlite_master\n",
    "    WHERE type='table';\"\"\"\n",
    " \n",
    "    # Creating cursor object using connection object\n",
    "    cursor = sqliteConnection.cursor()\n",
    "     \n",
    "    # executing our sql query\n",
    "    cursor.execute(sql_query)\n",
    "    print(\"List of tables:\\n\")\n",
    "     \n",
    "    # printing all tables list\n",
    "    print(cursor.fetchall())\n",
    " \n",
    "except sqlite3.Error as error:\n",
    "    print(\"Failed to execute the above query\", error)\n",
    "     \n",
    "finally:\n",
    "   \n",
    "    # Inside Finally Block, If connection is\n",
    "    # open, we need to close it\n",
    "    if sqliteConnection:\n",
    "         \n",
    "        # using close() method, we will close\n",
    "        # the connection\n",
    "        sqliteConnection.close()\n",
    "         \n",
    "        # After closing connection object, we\n",
    "        # will print \"the sqlite connection is\n",
    "        # closed\"\n",
    "        print('--------------------------------')\n",
    "        print(\"The sqlite connection is closed\")"
   ]
  },
  {
   "cell_type": "code",
   "execution_count": 16,
   "id": "34fa90a2",
   "metadata": {},
   "outputs": [
    {
     "name": "stdout",
     "output_type": "stream",
     "text": [
      "Connected to SQLite\n",
      "--------------------------------\n",
      "The sqlite connection is closed\n"
     ]
    }
   ],
   "source": [
    "try:\n",
    "     \n",
    "    # Making a connection between sqlite3\n",
    "    # database and Python Program\n",
    "    conn = sqlite3.connect('/Users/brendan/Desktop/NBA_db.db')\n",
    "    c = conn.cursor()\n",
    "    \n",
    "    # If sqlite3 makes a connection with python\n",
    "    # program then it will print \"Connected to SQLite\"\n",
    "    # Otherwise it will show errors\n",
    "    print(\"Connected to SQLite\")\n",
    " \n",
    "    for table in c.execute(\"SELECT name FROM sqlite_master WHERE type='table';\").fetchall():\n",
    "        t = table[0]\n",
    "        df = pd.read_sql('SELECT * from ' + t, conn)\n",
    "        df.to_csv(t + '_one_command.csv', index = False)\n",
    " \n",
    "except sqlite3.Error as error:\n",
    "    print(\"Failed to execute the above query\", error)\n",
    "     \n",
    "finally:\n",
    "   \n",
    "    # Inside Finally Block, If connection is\n",
    "    # open, we need to close it\n",
    "    if sqliteConnection:\n",
    "         \n",
    "        # using close() method, we will close\n",
    "        # the connection\n",
    "        sqliteConnection.close()\n",
    "         \n",
    "        # After closing connection object, we\n",
    "        # will print \"the sqlite connection is\n",
    "        # closed\"\n",
    "        print('--------------------------------')\n",
    "        print(\"The sqlite connection is closed\")\n"
   ]
  },
  {
   "cell_type": "code",
   "execution_count": null,
   "id": "a6fe0b74",
   "metadata": {},
   "outputs": [],
   "source": []
  }
 ],
 "metadata": {
  "kernelspec": {
   "display_name": "Python 3",
   "language": "python",
   "name": "python3"
  },
  "language_info": {
   "codemirror_mode": {
    "name": "ipython",
    "version": 3
   },
   "file_extension": ".py",
   "mimetype": "text/x-python",
   "name": "python",
   "nbconvert_exporter": "python",
   "pygments_lexer": "ipython3",
   "version": "3.8.8"
  }
 },
 "nbformat": 4,
 "nbformat_minor": 5
}
