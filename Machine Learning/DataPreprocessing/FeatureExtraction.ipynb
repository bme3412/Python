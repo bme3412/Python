{
 "cells": [
  {
   "cell_type": "markdown",
   "id": "bb663025",
   "metadata": {},
   "source": [
    "## CountVectorizer"
   ]
  },
  {
   "cell_type": "markdown",
   "id": "b1f1ce5a",
   "metadata": {},
   "source": [
    "+ CountVectorizer converts a bunch of documents to a vector so it can be used with models.\n",
    "+ it basically counts the # of times a particular word has been used"
   ]
  },
  {
   "cell_type": "code",
   "execution_count": 2,
   "id": "aa606c2d",
   "metadata": {},
   "outputs": [],
   "source": [
    "from sklearn.feature_extraction.text import CountVectorizer"
   ]
  },
  {
   "cell_type": "code",
   "execution_count": 3,
   "id": "471b837f",
   "metadata": {},
   "outputs": [
    {
     "name": "stdout",
     "output_type": "stream",
     "text": [
      "[[1 1 0 1 0 1 0 0]\n",
      " [0 1 0 1 1 0 0 1]\n",
      " [0 1 1 1 0 0 1 0]]\n",
      "{'brendan': 1, 'is': 3, 'nice': 5, 'boy': 0, 'the': 7, 'man': 4, 'python': 6, 'expert': 2}\n"
     ]
    }
   ],
   "source": [
    "docs = ['Brendan is a nice boy', 'Brendan is the man!', 'Brendan is a python expert']\n",
    "cv = CountVectorizer()\n",
    "X = cv.fit_transform(docs)\n",
    "print(X.todense())\n",
    "print(cv.vocabulary_)"
   ]
  },
  {
   "cell_type": "markdown",
   "id": "5ef57d7d",
   "metadata": {},
   "source": [
    "## DictVectorizer\n",
    "+ DictVectorizer will convert mappings to vectors\n"
   ]
  },
  {
   "cell_type": "code",
   "execution_count": 6,
   "id": "9b360532",
   "metadata": {},
   "outputs": [
    {
     "name": "stdout",
     "output_type": "stream",
     "text": [
      "[[1. 0. 0. 2. 0. 0. 0. 1. 0. 0.]\n",
      " [0. 1. 1. 0. 2. 1. 2. 0. 3. 3.]]\n"
     ]
    }
   ],
   "source": [
    "from sklearn.feature_extraction import DictVectorizer\n",
    "\n",
    "docs = [{\"Brendan\": 1, \"is\":1, \"awesome\": 2},{\"No\": 1, \"I\": 1, \"don't\":2, \"wanna\":3, \"fall\":1, \"in\":2, \"love\":3}]\n",
    "dv = DictVectorizer()\n",
    "X = dv.fit_transform(docs)\n",
    "print(X.todense())"
   ]
  },
  {
   "cell_type": "markdown",
   "id": "ffe1dcbf",
   "metadata": {},
   "source": [
    "## TfidfVectorizer"
   ]
  },
  {
   "cell_type": "code",
   "execution_count": 8,
   "id": "ae296816",
   "metadata": {},
   "outputs": [
    {
     "name": "stdout",
     "output_type": "stream",
     "text": [
      "[[0.         0.45329466 0.76749457 0.45329466 0.         0.        ]\n",
      " [0.         0.45329466 0.         0.45329466 0.76749457 0.        ]\n",
      " [0.6088451  0.35959372 0.         0.35959372 0.         0.6088451 ]]\n",
      "{'brendan': 1, 'is': 3, 'guitarist': 2, 'musician': 4, 'also': 0, 'programmer': 5}\n",
      "[[0 1 1 1 0 0]\n",
      " [0 1 0 1 1 0]\n",
      " [1 1 0 1 0 1]]\n"
     ]
    }
   ],
   "source": [
    "from sklearn.feature_extraction.text import TfidfVectorizer, CountVectorizer\n",
    "\n",
    "tfidf_vectorizer = TfidfVectorizer()\n",
    "cv_vectorizer = CountVectorizer()\n",
    "docs = ['Brendan is Guitarist', \"Brendan is Musician\", 'Brendan is also a programmer']\n",
    "X_idf = tfidf_vectorizer.fit_transform(docs)\n",
    "X_cv = cv_vectorizer.fit_transform(docs)\n",
    "print(X_idf.todense())\n",
    "print(tfidf_vectorizer.vocabulary_)\n",
    "print(X_cv.todense())"
   ]
  },
  {
   "cell_type": "code",
   "execution_count": null,
   "id": "ea41aa7e",
   "metadata": {},
   "outputs": [],
   "source": []
  }
 ],
 "metadata": {
  "kernelspec": {
   "display_name": "Python 3",
   "language": "python",
   "name": "python3"
  },
  "language_info": {
   "codemirror_mode": {
    "name": "ipython",
    "version": 3
   },
   "file_extension": ".py",
   "mimetype": "text/x-python",
   "name": "python",
   "nbconvert_exporter": "python",
   "pygments_lexer": "ipython3",
   "version": "3.8.8"
  }
 },
 "nbformat": 4,
 "nbformat_minor": 5
}
