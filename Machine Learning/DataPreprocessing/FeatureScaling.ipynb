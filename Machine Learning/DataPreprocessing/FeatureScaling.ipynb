{
 "cells": [
  {
   "cell_type": "markdown",
   "id": "be660080",
   "metadata": {},
   "source": [
    "## Feature Scaling\n",
    "+ In ML models, features are mapped into n-dimensional space\n",
    "+ so, if there are 2 variables (x,y) that are mapped in a 2D co-ordinate system\n",
    "+ if 1 variable, ex y, is very huge, while x is very small,then the bigger one will dominate the smaller one\n",
    "+ as a result, the model will see a loss in valuable information\n",
    "+ so will need feature scaling to solve this problem"
   ]
  },
  {
   "cell_type": "markdown",
   "id": "1e85dad2",
   "metadata": {},
   "source": [
    "### there are 3 most-used ways to scale features:\n"
   ]
  },
  {
   "cell_type": "markdown",
   "id": "955e61b3",
   "metadata": {},
   "source": [
    "1. **Min Max Scaling:** This will scale the input to have minimu of 0 and maximum of 1. That is, it scales the data in the range of [0,1]. This is useful when the parameters have to be on the same positive scale. But, the outliers are lost\n",
    "***\n",
    "2. **Standardization:** This will scale the input to have a mean of 0, and a variance of 1\n",
    "***\n",
    "3. **Normalizing:** This will scale the input to make the norm of 1. For instance, for 3D data the 3 independent variables will lie on a unit sphere.\n",
    "***\n",
    "4. **Log Transformation:** Taking the log of data after any of the above transformations"
   ]
  },
  {
   "cell_type": "markdown",
   "id": "c9168d18",
   "metadata": {},
   "source": [
    "**For msot applications, Standardization is recommended**\n",
    "+ Min Max Scaling is recommended for neural networks\n",
    "+ Normalizing is recommended when clustering (k-means)"
   ]
  },
  {
   "cell_type": "code",
   "execution_count": 6,
   "id": "4a0044e4",
   "metadata": {},
   "outputs": [],
   "source": [
    "import pandas as opd\n",
    "import numpy as np\n",
    "from sklearn.preprocessing import StandardScaler, Normalizer, MinMaxScaler\n",
    "\n",
    "df = pd.read_csv('euro_data.csv').dropna()\n",
    "df\n",
    "X = df[['Age', 'Salary']].values.astype(np.float64)"
   ]
  },
  {
   "cell_type": "code",
   "execution_count": 7,
   "id": "8ea80c3b",
   "metadata": {},
   "outputs": [
    {
     "name": "stdout",
     "output_type": "stream",
     "text": [
      "Standardization: \n",
      "[[ 0.69985807  0.58989097]\n",
      " [-1.51364653 -1.50749915]\n",
      " [-1.12302807 -0.98315162]\n",
      " [-0.08137885 -0.37141284]\n",
      " [-0.47199731 -0.6335866 ]\n",
      " [ 1.22068269  1.20162976]\n",
      " [ 1.48109499  1.55119478]\n",
      " [-0.211585    0.1529347 ]]\n",
      " \n",
      "Normalization: \n",
      "[[6.11110997e-04 9.99999813e-01]\n",
      " [5.62499911e-04 9.99999842e-01]\n",
      " [5.55555470e-04 9.99999846e-01]\n",
      " [6.22950699e-04 9.99999806e-01]\n",
      " [6.03448166e-04 9.99999818e-01]\n",
      " [6.07594825e-04 9.99999815e-01]\n",
      " [6.02409529e-04 9.99999819e-01]\n",
      " [5.52238722e-04 9.99999848e-01]]\n",
      " \n",
      "MinMax scaling: \n",
      "[[0.73913043 0.68571429]\n",
      " [0.         0.        ]\n",
      " [0.13043478 0.17142857]\n",
      " [0.47826087 0.37142857]\n",
      " [0.34782609 0.28571429]\n",
      " [0.91304348 0.88571429]\n",
      " [1.         1.        ]\n",
      " [0.43478261 0.54285714]]\n"
     ]
    }
   ],
   "source": [
    "standard_scaler = StandardScaler()\n",
    "normalizer = Normalizer()\n",
    "min_max_scaler = MinMaxScaler()\n",
    "\n",
    "print('Standardization: ')\n",
    "print(standard_scaler.fit_transform(X))\n",
    "print(\" \")\n",
    "print(\"Normalization: \")\n",
    "print(normalizer.fit_transform(X))\n",
    "print(\" \")\n",
    "print(\"MinMax scaling: \")\n",
    "print(min_max_scaler.fit_transform(X))"
   ]
  },
  {
   "cell_type": "code",
   "execution_count": null,
   "id": "02dc912c",
   "metadata": {},
   "outputs": [],
   "source": []
  }
 ],
 "metadata": {
  "kernelspec": {
   "display_name": "Python 3",
   "language": "python",
   "name": "python3"
  },
  "language_info": {
   "codemirror_mode": {
    "name": "ipython",
    "version": 3
   },
   "file_extension": ".py",
   "mimetype": "text/x-python",
   "name": "python",
   "nbconvert_exporter": "python",
   "pygments_lexer": "ipython3",
   "version": "3.8.8"
  }
 },
 "nbformat": 4,
 "nbformat_minor": 5
}
