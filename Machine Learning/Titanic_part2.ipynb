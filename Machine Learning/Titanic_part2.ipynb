{
 "cells": [
  {
   "cell_type": "code",
   "execution_count": 66,
   "id": "a6321da7",
   "metadata": {},
   "outputs": [],
   "source": [
    "import pandas as pd\n",
    "import numpy as np\n",
    "import matplotlib.pyplot as plt\n",
    "import seaborn as sns\n",
    "import warnings\n",
    "warnings.filterwarnings('ignore')"
   ]
  },
  {
   "cell_type": "markdown",
   "id": "54596523",
   "metadata": {},
   "source": [
    "## Load data"
   ]
  },
  {
   "cell_type": "code",
   "execution_count": 67,
   "id": "3d7334fd",
   "metadata": {},
   "outputs": [
    {
     "data": {
      "text/html": [
       "<div><div id=5394e6d3-a7dd-4673-9b5e-c06c21e1f3ab style=\"display:none; background-color:#9D6CFF; color:white; width:200px; height:30px; padding-left:5px; border-radius:4px; flex-direction:row; justify-content:space-around; align-items:center;\" onmouseover=\"this.style.backgroundColor='#BA9BF8'\" onmouseout=\"this.style.backgroundColor='#9D6CFF'\" onclick=\"window.commands?.execute('create-mitosheet-from-dataframe-output');\">See Full Dataframe in Mito</div> <script> if (window.commands.hasCommand('create-mitosheet-from-dataframe-output')) document.getElementById('5394e6d3-a7dd-4673-9b5e-c06c21e1f3ab').style.display = 'flex' </script> <table border=\"1\" class=\"dataframe\">\n",
       "  <thead>\n",
       "    <tr style=\"text-align: right;\">\n",
       "      <th></th>\n",
       "      <th>PassengerId</th>\n",
       "      <th>Survived</th>\n",
       "      <th>Pclass</th>\n",
       "      <th>Name</th>\n",
       "      <th>Sex</th>\n",
       "      <th>Age</th>\n",
       "      <th>SibSp</th>\n",
       "      <th>Parch</th>\n",
       "      <th>Ticket</th>\n",
       "      <th>Fare</th>\n",
       "      <th>Cabin</th>\n",
       "      <th>Embarked</th>\n",
       "    </tr>\n",
       "  </thead>\n",
       "  <tbody>\n",
       "    <tr>\n",
       "      <th>0</th>\n",
       "      <td>1</td>\n",
       "      <td>0</td>\n",
       "      <td>3</td>\n",
       "      <td>Braund, Mr. Owen Harris</td>\n",
       "      <td>male</td>\n",
       "      <td>22.0</td>\n",
       "      <td>1</td>\n",
       "      <td>0</td>\n",
       "      <td>A/5 21171</td>\n",
       "      <td>7.2500</td>\n",
       "      <td>NaN</td>\n",
       "      <td>S</td>\n",
       "    </tr>\n",
       "    <tr>\n",
       "      <th>1</th>\n",
       "      <td>2</td>\n",
       "      <td>1</td>\n",
       "      <td>1</td>\n",
       "      <td>Cumings, Mrs. John Bradley (Florence Briggs Thayer)</td>\n",
       "      <td>female</td>\n",
       "      <td>38.0</td>\n",
       "      <td>1</td>\n",
       "      <td>0</td>\n",
       "      <td>PC 17599</td>\n",
       "      <td>71.2833</td>\n",
       "      <td>C85</td>\n",
       "      <td>C</td>\n",
       "    </tr>\n",
       "  </tbody>\n",
       "</table></div>"
      ],
      "text/plain": [
       "   PassengerId  Survived  Pclass  \\\n",
       "0            1         0       3   \n",
       "1            2         1       1   \n",
       "\n",
       "                                                Name     Sex   Age  SibSp  \\\n",
       "0                            Braund, Mr. Owen Harris    male  22.0      1   \n",
       "1  Cumings, Mrs. John Bradley (Florence Briggs Th...  female  38.0      1   \n",
       "\n",
       "   Parch     Ticket     Fare Cabin Embarked  \n",
       "0      0  A/5 21171   7.2500   NaN        S  \n",
       "1      0   PC 17599  71.2833   C85        C  "
      ]
     },
     "execution_count": 67,
     "metadata": {},
     "output_type": "execute_result"
    }
   ],
   "source": [
    "source = 'https://www.kaggle.com/code/smorika/beginner-with-score-0-77990-improves-step-by-step/data'\n",
    "train_data = pd.read_csv('titanic_train.csv')\n",
    "train_data.head(2)"
   ]
  },
  {
   "cell_type": "code",
   "execution_count": 68,
   "id": "44a40e2f",
   "metadata": {},
   "outputs": [
    {
     "data": {
      "text/html": [
       "<div><div id=e973d556-b2d2-4b86-9e17-27ab45b4adfb style=\"display:none; background-color:#9D6CFF; color:white; width:200px; height:30px; padding-left:5px; border-radius:4px; flex-direction:row; justify-content:space-around; align-items:center;\" onmouseover=\"this.style.backgroundColor='#BA9BF8'\" onmouseout=\"this.style.backgroundColor='#9D6CFF'\" onclick=\"window.commands?.execute('create-mitosheet-from-dataframe-output');\">See Full Dataframe in Mito</div> <script> if (window.commands.hasCommand('create-mitosheet-from-dataframe-output')) document.getElementById('e973d556-b2d2-4b86-9e17-27ab45b4adfb').style.display = 'flex' </script> <table border=\"1\" class=\"dataframe\">\n",
       "  <thead>\n",
       "    <tr style=\"text-align: right;\">\n",
       "      <th></th>\n",
       "      <th>PassengerId</th>\n",
       "      <th>Pclass</th>\n",
       "      <th>Name</th>\n",
       "      <th>Sex</th>\n",
       "      <th>Age</th>\n",
       "      <th>SibSp</th>\n",
       "      <th>Parch</th>\n",
       "      <th>Ticket</th>\n",
       "      <th>Fare</th>\n",
       "      <th>Cabin</th>\n",
       "      <th>Embarked</th>\n",
       "    </tr>\n",
       "  </thead>\n",
       "  <tbody>\n",
       "    <tr>\n",
       "      <th>0</th>\n",
       "      <td>892</td>\n",
       "      <td>3</td>\n",
       "      <td>Kelly, Mr. James</td>\n",
       "      <td>male</td>\n",
       "      <td>34.5</td>\n",
       "      <td>0</td>\n",
       "      <td>0</td>\n",
       "      <td>330911</td>\n",
       "      <td>7.8292</td>\n",
       "      <td>NaN</td>\n",
       "      <td>Q</td>\n",
       "    </tr>\n",
       "    <tr>\n",
       "      <th>1</th>\n",
       "      <td>893</td>\n",
       "      <td>3</td>\n",
       "      <td>Wilkes, Mrs. James (Ellen Needs)</td>\n",
       "      <td>female</td>\n",
       "      <td>47.0</td>\n",
       "      <td>1</td>\n",
       "      <td>0</td>\n",
       "      <td>363272</td>\n",
       "      <td>7.0000</td>\n",
       "      <td>NaN</td>\n",
       "      <td>S</td>\n",
       "    </tr>\n",
       "  </tbody>\n",
       "</table></div>"
      ],
      "text/plain": [
       "   PassengerId  Pclass                              Name     Sex   Age  SibSp  \\\n",
       "0          892       3                  Kelly, Mr. James    male  34.5      0   \n",
       "1          893       3  Wilkes, Mrs. James (Ellen Needs)  female  47.0      1   \n",
       "\n",
       "   Parch  Ticket    Fare Cabin Embarked  \n",
       "0      0  330911  7.8292   NaN        Q  \n",
       "1      0  363272  7.0000   NaN        S  "
      ]
     },
     "execution_count": 68,
     "metadata": {},
     "output_type": "execute_result"
    }
   ],
   "source": [
    "test_data = pd.read_csv('titanic_test.csv')\n",
    "test_data.head(2)"
   ]
  },
  {
   "cell_type": "code",
   "execution_count": 69,
   "id": "46989da8",
   "metadata": {},
   "outputs": [],
   "source": [
    "# Need to drop survived dataset from train dataset\n",
    "# survived is an output; test dataset will not jhave this\n",
    "survived_data = train_data['Survived']\n",
    "train_data = train_data.drop('Survived', axis=1)"
   ]
  },
  {
   "cell_type": "code",
   "execution_count": 70,
   "id": "338b9314",
   "metadata": {},
   "outputs": [],
   "source": [
    "# concat train_data and test_data\n",
    "df = pd.concat([train_data,test_data], sort=False, ignore_index=True)\n",
    "df2 = df.copy()"
   ]
  },
  {
   "cell_type": "code",
   "execution_count": 71,
   "id": "9f608d5c",
   "metadata": {},
   "outputs": [
    {
     "data": {
      "text/html": [
       "<div><div id=c9076701-2e4e-48f6-ad58-9d8f333c76ac style=\"display:none; background-color:#9D6CFF; color:white; width:200px; height:30px; padding-left:5px; border-radius:4px; flex-direction:row; justify-content:space-around; align-items:center;\" onmouseover=\"this.style.backgroundColor='#BA9BF8'\" onmouseout=\"this.style.backgroundColor='#9D6CFF'\" onclick=\"window.commands?.execute('create-mitosheet-from-dataframe-output');\">See Full Dataframe in Mito</div> <script> if (window.commands.hasCommand('create-mitosheet-from-dataframe-output')) document.getElementById('c9076701-2e4e-48f6-ad58-9d8f333c76ac').style.display = 'flex' </script> <table border=\"1\" class=\"dataframe\">\n",
       "  <thead>\n",
       "    <tr style=\"text-align: right;\">\n",
       "      <th></th>\n",
       "      <th>PassengerId</th>\n",
       "      <th>Pclass</th>\n",
       "      <th>Name</th>\n",
       "      <th>Sex</th>\n",
       "      <th>Age</th>\n",
       "      <th>SibSp</th>\n",
       "      <th>Parch</th>\n",
       "      <th>Ticket</th>\n",
       "      <th>Fare</th>\n",
       "      <th>Cabin</th>\n",
       "      <th>Embarked</th>\n",
       "    </tr>\n",
       "  </thead>\n",
       "  <tbody>\n",
       "    <tr>\n",
       "      <th>1304</th>\n",
       "      <td>1305</td>\n",
       "      <td>3</td>\n",
       "      <td>Spector, Mr. Woolf</td>\n",
       "      <td>male</td>\n",
       "      <td>NaN</td>\n",
       "      <td>0</td>\n",
       "      <td>0</td>\n",
       "      <td>A.5. 3236</td>\n",
       "      <td>8.0500</td>\n",
       "      <td>NaN</td>\n",
       "      <td>S</td>\n",
       "    </tr>\n",
       "    <tr>\n",
       "      <th>1305</th>\n",
       "      <td>1306</td>\n",
       "      <td>1</td>\n",
       "      <td>Oliva y Ocana, Dona. Fermina</td>\n",
       "      <td>female</td>\n",
       "      <td>39.0</td>\n",
       "      <td>0</td>\n",
       "      <td>0</td>\n",
       "      <td>PC 17758</td>\n",
       "      <td>108.9000</td>\n",
       "      <td>C105</td>\n",
       "      <td>C</td>\n",
       "    </tr>\n",
       "    <tr>\n",
       "      <th>1306</th>\n",
       "      <td>1307</td>\n",
       "      <td>3</td>\n",
       "      <td>Saether, Mr. Simon Sivertsen</td>\n",
       "      <td>male</td>\n",
       "      <td>38.5</td>\n",
       "      <td>0</td>\n",
       "      <td>0</td>\n",
       "      <td>SOTON/O.Q. 3101262</td>\n",
       "      <td>7.2500</td>\n",
       "      <td>NaN</td>\n",
       "      <td>S</td>\n",
       "    </tr>\n",
       "    <tr>\n",
       "      <th>1307</th>\n",
       "      <td>1308</td>\n",
       "      <td>3</td>\n",
       "      <td>Ware, Mr. Frederick</td>\n",
       "      <td>male</td>\n",
       "      <td>NaN</td>\n",
       "      <td>0</td>\n",
       "      <td>0</td>\n",
       "      <td>359309</td>\n",
       "      <td>8.0500</td>\n",
       "      <td>NaN</td>\n",
       "      <td>S</td>\n",
       "    </tr>\n",
       "    <tr>\n",
       "      <th>1308</th>\n",
       "      <td>1309</td>\n",
       "      <td>3</td>\n",
       "      <td>Peter, Master. Michael J</td>\n",
       "      <td>male</td>\n",
       "      <td>NaN</td>\n",
       "      <td>1</td>\n",
       "      <td>1</td>\n",
       "      <td>2668</td>\n",
       "      <td>22.3583</td>\n",
       "      <td>NaN</td>\n",
       "      <td>C</td>\n",
       "    </tr>\n",
       "  </tbody>\n",
       "</table></div>"
      ],
      "text/plain": [
       "      PassengerId  Pclass                          Name     Sex   Age  SibSp  \\\n",
       "1304         1305       3            Spector, Mr. Woolf    male   NaN      0   \n",
       "1305         1306       1  Oliva y Ocana, Dona. Fermina  female  39.0      0   \n",
       "1306         1307       3  Saether, Mr. Simon Sivertsen    male  38.5      0   \n",
       "1307         1308       3           Ware, Mr. Frederick    male   NaN      0   \n",
       "1308         1309       3      Peter, Master. Michael J    male   NaN      1   \n",
       "\n",
       "      Parch              Ticket      Fare Cabin Embarked  \n",
       "1304      0           A.5. 3236    8.0500   NaN        S  \n",
       "1305      0            PC 17758  108.9000  C105        C  \n",
       "1306      0  SOTON/O.Q. 3101262    7.2500   NaN        S  \n",
       "1307      0              359309    8.0500   NaN        S  \n",
       "1308      1                2668   22.3583   NaN        C  "
      ]
     },
     "execution_count": 71,
     "metadata": {},
     "output_type": "execute_result"
    }
   ],
   "source": [
    "df.tail()"
   ]
  },
  {
   "cell_type": "markdown",
   "id": "45fc7796",
   "metadata": {},
   "source": [
    "## Exploratory Data Analysis"
   ]
  },
  {
   "cell_type": "code",
   "execution_count": 72,
   "id": "bca79cec",
   "metadata": {},
   "outputs": [
    {
     "data": {
      "text/plain": [
       "(1309, 11)"
      ]
     },
     "execution_count": 72,
     "metadata": {},
     "output_type": "execute_result"
    }
   ],
   "source": [
    "df.shape"
   ]
  },
  {
   "cell_type": "code",
   "execution_count": 73,
   "id": "4de8c9f8",
   "metadata": {},
   "outputs": [
    {
     "name": "stdout",
     "output_type": "stream",
     "text": [
      "<class 'pandas.core.frame.DataFrame'>\n",
      "RangeIndex: 1309 entries, 0 to 1308\n",
      "Data columns (total 11 columns):\n",
      " #   Column       Non-Null Count  Dtype  \n",
      "---  ------       --------------  -----  \n",
      " 0   PassengerId  1309 non-null   int64  \n",
      " 1   Pclass       1309 non-null   int64  \n",
      " 2   Name         1309 non-null   object \n",
      " 3   Sex          1309 non-null   object \n",
      " 4   Age          1046 non-null   float64\n",
      " 5   SibSp        1309 non-null   int64  \n",
      " 6   Parch        1309 non-null   int64  \n",
      " 7   Ticket       1309 non-null   object \n",
      " 8   Fare         1308 non-null   float64\n",
      " 9   Cabin        295 non-null    object \n",
      " 10  Embarked     1307 non-null   object \n",
      "dtypes: float64(2), int64(4), object(5)\n",
      "memory usage: 112.6+ KB\n"
     ]
    }
   ],
   "source": [
    "df.info()"
   ]
  },
  {
   "cell_type": "code",
   "execution_count": 74,
   "id": "940a84b4",
   "metadata": {},
   "outputs": [
    {
     "data": {
      "text/html": [
       "<div><div id=9309d458-8bbb-49a6-bcc3-6ad4c0d22983 style=\"display:none; background-color:#9D6CFF; color:white; width:200px; height:30px; padding-left:5px; border-radius:4px; flex-direction:row; justify-content:space-around; align-items:center;\" onmouseover=\"this.style.backgroundColor='#BA9BF8'\" onmouseout=\"this.style.backgroundColor='#9D6CFF'\" onclick=\"window.commands?.execute('create-mitosheet-from-dataframe-output');\">See Full Dataframe in Mito</div> <script> if (window.commands.hasCommand('create-mitosheet-from-dataframe-output')) document.getElementById('9309d458-8bbb-49a6-bcc3-6ad4c0d22983').style.display = 'flex' </script> <table border=\"1\" class=\"dataframe\">\n",
       "  <thead>\n",
       "    <tr style=\"text-align: right;\">\n",
       "      <th></th>\n",
       "      <th>count</th>\n",
       "      <th>mean</th>\n",
       "      <th>std</th>\n",
       "      <th>min</th>\n",
       "      <th>25%</th>\n",
       "      <th>50%</th>\n",
       "      <th>75%</th>\n",
       "      <th>max</th>\n",
       "    </tr>\n",
       "  </thead>\n",
       "  <tbody>\n",
       "    <tr>\n",
       "      <th>PassengerId</th>\n",
       "      <td>1309.0</td>\n",
       "      <td>655.000000</td>\n",
       "      <td>378.020061</td>\n",
       "      <td>1.00</td>\n",
       "      <td>328.0000</td>\n",
       "      <td>655.0000</td>\n",
       "      <td>982.000</td>\n",
       "      <td>1309.0000</td>\n",
       "    </tr>\n",
       "    <tr>\n",
       "      <th>Pclass</th>\n",
       "      <td>1309.0</td>\n",
       "      <td>2.294882</td>\n",
       "      <td>0.837836</td>\n",
       "      <td>1.00</td>\n",
       "      <td>2.0000</td>\n",
       "      <td>3.0000</td>\n",
       "      <td>3.000</td>\n",
       "      <td>3.0000</td>\n",
       "    </tr>\n",
       "    <tr>\n",
       "      <th>Age</th>\n",
       "      <td>1046.0</td>\n",
       "      <td>29.881138</td>\n",
       "      <td>14.413493</td>\n",
       "      <td>0.17</td>\n",
       "      <td>21.0000</td>\n",
       "      <td>28.0000</td>\n",
       "      <td>39.000</td>\n",
       "      <td>80.0000</td>\n",
       "    </tr>\n",
       "    <tr>\n",
       "      <th>SibSp</th>\n",
       "      <td>1309.0</td>\n",
       "      <td>0.498854</td>\n",
       "      <td>1.041658</td>\n",
       "      <td>0.00</td>\n",
       "      <td>0.0000</td>\n",
       "      <td>0.0000</td>\n",
       "      <td>1.000</td>\n",
       "      <td>8.0000</td>\n",
       "    </tr>\n",
       "    <tr>\n",
       "      <th>Parch</th>\n",
       "      <td>1309.0</td>\n",
       "      <td>0.385027</td>\n",
       "      <td>0.865560</td>\n",
       "      <td>0.00</td>\n",
       "      <td>0.0000</td>\n",
       "      <td>0.0000</td>\n",
       "      <td>0.000</td>\n",
       "      <td>9.0000</td>\n",
       "    </tr>\n",
       "    <tr>\n",
       "      <th>Fare</th>\n",
       "      <td>1308.0</td>\n",
       "      <td>33.295479</td>\n",
       "      <td>51.758668</td>\n",
       "      <td>0.00</td>\n",
       "      <td>7.8958</td>\n",
       "      <td>14.4542</td>\n",
       "      <td>31.275</td>\n",
       "      <td>512.3292</td>\n",
       "    </tr>\n",
       "  </tbody>\n",
       "</table></div>"
      ],
      "text/plain": [
       "              count        mean         std   min       25%       50%  \\\n",
       "PassengerId  1309.0  655.000000  378.020061  1.00  328.0000  655.0000   \n",
       "Pclass       1309.0    2.294882    0.837836  1.00    2.0000    3.0000   \n",
       "Age          1046.0   29.881138   14.413493  0.17   21.0000   28.0000   \n",
       "SibSp        1309.0    0.498854    1.041658  0.00    0.0000    0.0000   \n",
       "Parch        1309.0    0.385027    0.865560  0.00    0.0000    0.0000   \n",
       "Fare         1308.0   33.295479   51.758668  0.00    7.8958   14.4542   \n",
       "\n",
       "                 75%        max  \n",
       "PassengerId  982.000  1309.0000  \n",
       "Pclass         3.000     3.0000  \n",
       "Age           39.000    80.0000  \n",
       "SibSp          1.000     8.0000  \n",
       "Parch          0.000     9.0000  \n",
       "Fare          31.275   512.3292  "
      ]
     },
     "execution_count": 74,
     "metadata": {},
     "output_type": "execute_result"
    }
   ],
   "source": [
    "df.describe().T"
   ]
  },
  {
   "cell_type": "markdown",
   "id": "18eddbbd",
   "metadata": {},
   "source": [
    "# Data PreProcessing"
   ]
  },
  {
   "cell_type": "markdown",
   "id": "a3dcd68a",
   "metadata": {},
   "source": [
    "### Drop irrelevant features"
   ]
  },
  {
   "cell_type": "code",
   "execution_count": 75,
   "id": "ee00b171",
   "metadata": {},
   "outputs": [
    {
     "data": {
      "text/html": [
       "<div><div id=b6cc8c39-a747-4d93-a8ac-fb8a861c6415 style=\"display:none; background-color:#9D6CFF; color:white; width:200px; height:30px; padding-left:5px; border-radius:4px; flex-direction:row; justify-content:space-around; align-items:center;\" onmouseover=\"this.style.backgroundColor='#BA9BF8'\" onmouseout=\"this.style.backgroundColor='#9D6CFF'\" onclick=\"window.commands?.execute('create-mitosheet-from-dataframe-output');\">See Full Dataframe in Mito</div> <script> if (window.commands.hasCommand('create-mitosheet-from-dataframe-output')) document.getElementById('b6cc8c39-a747-4d93-a8ac-fb8a861c6415').style.display = 'flex' </script> <table border=\"1\" class=\"dataframe\">\n",
       "  <thead>\n",
       "    <tr style=\"text-align: right;\">\n",
       "      <th></th>\n",
       "      <th>Pclass</th>\n",
       "      <th>Sex</th>\n",
       "      <th>Age</th>\n",
       "      <th>SibSp</th>\n",
       "      <th>Parch</th>\n",
       "      <th>Fare</th>\n",
       "    </tr>\n",
       "  </thead>\n",
       "  <tbody>\n",
       "    <tr>\n",
       "      <th>0</th>\n",
       "      <td>3</td>\n",
       "      <td>male</td>\n",
       "      <td>22.0</td>\n",
       "      <td>1</td>\n",
       "      <td>0</td>\n",
       "      <td>7.2500</td>\n",
       "    </tr>\n",
       "    <tr>\n",
       "      <th>1</th>\n",
       "      <td>1</td>\n",
       "      <td>female</td>\n",
       "      <td>38.0</td>\n",
       "      <td>1</td>\n",
       "      <td>0</td>\n",
       "      <td>71.2833</td>\n",
       "    </tr>\n",
       "    <tr>\n",
       "      <th>2</th>\n",
       "      <td>3</td>\n",
       "      <td>female</td>\n",
       "      <td>26.0</td>\n",
       "      <td>0</td>\n",
       "      <td>0</td>\n",
       "      <td>7.9250</td>\n",
       "    </tr>\n",
       "    <tr>\n",
       "      <th>3</th>\n",
       "      <td>1</td>\n",
       "      <td>female</td>\n",
       "      <td>35.0</td>\n",
       "      <td>1</td>\n",
       "      <td>0</td>\n",
       "      <td>53.1000</td>\n",
       "    </tr>\n",
       "    <tr>\n",
       "      <th>4</th>\n",
       "      <td>3</td>\n",
       "      <td>male</td>\n",
       "      <td>35.0</td>\n",
       "      <td>0</td>\n",
       "      <td>0</td>\n",
       "      <td>8.0500</td>\n",
       "    </tr>\n",
       "  </tbody>\n",
       "</table></div>"
      ],
      "text/plain": [
       "   Pclass     Sex   Age  SibSp  Parch     Fare\n",
       "0       3    male  22.0      1      0   7.2500\n",
       "1       1  female  38.0      1      0  71.2833\n",
       "2       3  female  26.0      0      0   7.9250\n",
       "3       1  female  35.0      1      0  53.1000\n",
       "4       3    male  35.0      0      0   8.0500"
      ]
     },
     "execution_count": 75,
     "metadata": {},
     "output_type": "execute_result"
    }
   ],
   "source": [
    "# omit features that are not improtant\n",
    "columns_to_drop = ['PassengerId', 'Name', 'Ticket', 'Cabin','Embarked']\n",
    "\n",
    "df = df.drop(columns_to_drop,axis=1)\n",
    "df.head()"
   ]
  },
  {
   "cell_type": "code",
   "execution_count": 76,
   "id": "727cfb16",
   "metadata": {},
   "outputs": [
    {
     "name": "stdout",
     "output_type": "stream",
     "text": [
      "<class 'pandas.core.frame.DataFrame'>\n",
      "RangeIndex: 1309 entries, 0 to 1308\n",
      "Data columns (total 6 columns):\n",
      " #   Column  Non-Null Count  Dtype  \n",
      "---  ------  --------------  -----  \n",
      " 0   Pclass  1309 non-null   int64  \n",
      " 1   Sex     1309 non-null   object \n",
      " 2   Age     1046 non-null   float64\n",
      " 3   SibSp   1309 non-null   int64  \n",
      " 4   Parch   1309 non-null   int64  \n",
      " 5   Fare    1308 non-null   float64\n",
      "dtypes: float64(2), int64(3), object(1)\n",
      "memory usage: 61.5+ KB\n"
     ]
    }
   ],
   "source": [
    "df.info()"
   ]
  },
  {
   "cell_type": "markdown",
   "id": "032f1bb2",
   "metadata": {},
   "source": [
    "### Convert Sex feature to numerical"
   ]
  },
  {
   "cell_type": "code",
   "execution_count": 77,
   "id": "657d7009",
   "metadata": {},
   "outputs": [
    {
     "data": {
      "text/plain": [
       "male      843\n",
       "female    466\n",
       "Name: Sex, dtype: int64"
      ]
     },
     "execution_count": 77,
     "metadata": {},
     "output_type": "execute_result"
    }
   ],
   "source": [
    "# Need to covnert 'Sex' into numerical feature\n",
    "df['Sex'].value_counts(dropna=False)"
   ]
  },
  {
   "cell_type": "code",
   "execution_count": 78,
   "id": "5337e758",
   "metadata": {},
   "outputs": [
    {
     "data": {
      "text/plain": [
       "1    843\n",
       "0    466\n",
       "Name: Sex, dtype: int64"
      ]
     },
     "execution_count": 78,
     "metadata": {},
     "output_type": "execute_result"
    }
   ],
   "source": [
    "df['Sex'] = df['Sex'].map(lambda x: 1 if x == 'male' else 0)\n",
    "df['Sex'].value_counts()"
   ]
  },
  {
   "cell_type": "code",
   "execution_count": 79,
   "id": "15a57942",
   "metadata": {},
   "outputs": [
    {
     "name": "stdout",
     "output_type": "stream",
     "text": [
      "<class 'pandas.core.frame.DataFrame'>\n",
      "RangeIndex: 1309 entries, 0 to 1308\n",
      "Data columns (total 6 columns):\n",
      " #   Column  Non-Null Count  Dtype  \n",
      "---  ------  --------------  -----  \n",
      " 0   Pclass  1309 non-null   int64  \n",
      " 1   Sex     1309 non-null   int64  \n",
      " 2   Age     1046 non-null   float64\n",
      " 3   SibSp   1309 non-null   int64  \n",
      " 4   Parch   1309 non-null   int64  \n",
      " 5   Fare    1308 non-null   float64\n",
      "dtypes: float64(2), int64(4)\n",
      "memory usage: 61.5 KB\n"
     ]
    }
   ],
   "source": [
    "df.info()"
   ]
  },
  {
   "cell_type": "markdown",
   "id": "ee6afb04",
   "metadata": {},
   "source": [
    "### fill in missing value for Fare with mean value"
   ]
  },
  {
   "cell_type": "code",
   "execution_count": 80,
   "id": "3b80cc48",
   "metadata": {},
   "outputs": [],
   "source": [
    "# The Fare Feature has 1308 values - need to replace 1\n",
    "df['Fare'] = df['Fare'].fillna(df['Fare'].mean())"
   ]
  },
  {
   "cell_type": "code",
   "execution_count": 81,
   "id": "65155e23",
   "metadata": {},
   "outputs": [
    {
     "name": "stdout",
     "output_type": "stream",
     "text": [
      "<class 'pandas.core.frame.DataFrame'>\n",
      "RangeIndex: 1309 entries, 0 to 1308\n",
      "Data columns (total 6 columns):\n",
      " #   Column  Non-Null Count  Dtype  \n",
      "---  ------  --------------  -----  \n",
      " 0   Pclass  1309 non-null   int64  \n",
      " 1   Sex     1309 non-null   int64  \n",
      " 2   Age     1046 non-null   float64\n",
      " 3   SibSp   1309 non-null   int64  \n",
      " 4   Parch   1309 non-null   int64  \n",
      " 5   Fare    1309 non-null   float64\n",
      "dtypes: float64(2), int64(4)\n",
      "memory usage: 61.5 KB\n"
     ]
    }
   ],
   "source": [
    "df.info()"
   ]
  },
  {
   "cell_type": "markdown",
   "id": "d0b94d34",
   "metadata": {},
   "source": [
    "### use Iterative imputation with random forest for age"
   ]
  },
  {
   "cell_type": "code",
   "execution_count": 82,
   "id": "659dcee8",
   "metadata": {},
   "outputs": [
    {
     "data": {
      "text/plain": [
       "263"
      ]
     },
     "execution_count": 82,
     "metadata": {},
     "output_type": "execute_result"
    }
   ],
   "source": [
    "df['Age'].isnull().sum()"
   ]
  },
  {
   "cell_type": "code",
   "execution_count": 83,
   "id": "765f2e4e",
   "metadata": {},
   "outputs": [
    {
     "data": {
      "text/plain": [
       "count    1046.000000\n",
       "mean       29.881138\n",
       "std        14.413493\n",
       "min         0.170000\n",
       "25%        21.000000\n",
       "50%        28.000000\n",
       "75%        39.000000\n",
       "max        80.000000\n",
       "Name: Age, dtype: float64"
      ]
     },
     "execution_count": 83,
     "metadata": {},
     "output_type": "execute_result"
    }
   ],
   "source": [
    "df['Age'].describe()"
   ]
  },
  {
   "cell_type": "code",
   "execution_count": 84,
   "id": "2ede8834",
   "metadata": {},
   "outputs": [],
   "source": [
    "df_ran_for_reg = df.copy()"
   ]
  },
  {
   "cell_type": "code",
   "execution_count": 85,
   "id": "53eaa497",
   "metadata": {},
   "outputs": [
    {
     "name": "stdout",
     "output_type": "stream",
     "text": [
      "<class 'pandas.core.frame.DataFrame'>\n",
      "RangeIndex: 1309 entries, 0 to 1308\n",
      "Data columns (total 6 columns):\n",
      " #   Column  Non-Null Count  Dtype  \n",
      "---  ------  --------------  -----  \n",
      " 0   Pclass  1309 non-null   int64  \n",
      " 1   Sex     1309 non-null   int64  \n",
      " 2   Age     1046 non-null   float64\n",
      " 3   SibSp   1309 non-null   int64  \n",
      " 4   Parch   1309 non-null   int64  \n",
      " 5   Fare    1309 non-null   float64\n",
      "dtypes: float64(2), int64(4)\n",
      "memory usage: 61.5 KB\n"
     ]
    }
   ],
   "source": [
    "df_ran_for_reg.info()"
   ]
  },
  {
   "cell_type": "code",
   "execution_count": 86,
   "id": "a760450e",
   "metadata": {},
   "outputs": [],
   "source": [
    "from sklearn.ensemble import RandomForestRegressor\n",
    "\n",
    "# define features, to predict the age\n",
    "age_df = df_ran_for_reg[['Age', 'Pclass', 'Sex', 'SibSp', 'Parch']]\n",
    "\n",
    "\n",
    "# partition out null values\n",
    "has_age = age_df[age_df['Age'].notnull()].values\n",
    "no_age = age_df[age_df['Age'].isnull()].values\n",
    "\n",
    "# separate train data to X and y\n",
    "X = has_age[:,1:]\n",
    "y = has_age[:,0]"
   ]
  },
  {
   "cell_type": "code",
   "execution_count": 87,
   "id": "7ace484a",
   "metadata": {},
   "outputs": [
    {
     "data": {
      "text/plain": [
       "RandomForestRegressor(n_estimators=10, n_jobs=-1, random_state=0)"
      ]
     },
     "execution_count": 87,
     "metadata": {},
     "output_type": "execute_result"
    }
   ],
   "source": [
    "## Build age prediciton model with RF\n",
    "rand_for_reg = RandomForestRegressor(random_state=0,n_estimators=10, n_jobs=-1)\n",
    "rand_for_reg.fit(X,y)"
   ]
  },
  {
   "cell_type": "code",
   "execution_count": 88,
   "id": "c912e404",
   "metadata": {},
   "outputs": [
    {
     "data": {
      "text/plain": [
       "array([28.5, 33.5, 24.5, 28.5, 24.5, 28.5, 37.9, 24.5, 28.5, 28.5, 28.5,\n",
       "       25.9, 24.5, 27.1, 42.9, 42.9, 16.5, 28.5, 28.5, 24.5, 28.5, 28.5,\n",
       "       28.5, 28.5, 26.4, 28.5, 28.5, 16.6, 22.4, 28.5, 28.5, 13.1, 35.5,\n",
       "       42.9,  8.1, 12.9, 33.5, 42.9, 26.4, 28.5, 24.5, 13.1, 25.9, 28.5,\n",
       "        5. , 24.5, 26.4, 26.4, 28.5, 35.5, 28.5, 24.5, 42.9, 24.5, 33.5,\n",
       "       42.9, 42.9, 42.9, 24.5, 27.1, 31. , 28.5, 35.5, 13.1, 22. , 37.9,\n",
       "       28.5, 26.4, 42.9, 28.5, 24.5, 24.5, 25.9, 24.5, 24.5, 37.9, 28.5,\n",
       "       28.5,  5. , 28.5, 28.5, 33.5, 24.5, 28.5, 28.5, 28.5, 26.4, 28.5,\n",
       "       25.9, 28.5, 37.9, 28.5, 28.5, 33.5, 28.5, 28.5, 42.9, 33.5,  5. ,\n",
       "       25.9, 28.5, 28.5, 24.5, 42.9, 28.5, 28.5, 28.5, 28.5, 42.9, 28.5,\n",
       "       22.4, 28.5, 33.5, 28.5, 42.9, 28.5, 28.5, 24.5, 28.5, 24.5, 26.4,\n",
       "       28.5, 28.5, 22.4, 31. , 28.5, 28.5, 42.9, 28.5, 26.4, 28.5, 28.5,\n",
       "       42.9, 25.9, 28.5, 28.5, 28.5, 24.5, 28.5, 28.5, 37.9, 33.5, 24.5,\n",
       "       28.5, 24.5, 16.5, 42.9, 28.5, 24.5, 33.5, 28.5, 28.5, 42.9, 28.5,\n",
       "       42.9, 25.9, 28.5, 28.5, 28.5, 13.9, 28.5, 12.9, 42.9, 42.9, 28.5,\n",
       "       28.5, 28.5, 28.5, 28.5, 42.9, 13.1, 37.9, 28.5, 12.9, 28.5, 28.5,\n",
       "       21.5, 28.5, 35.5, 27.1, 21.5, 24.5, 28.5, 42.9, 28.5, 33.5, 25.9,\n",
       "       31. , 28.5, 28.5, 33.5, 25.9, 24.5, 28.5, 28.5, 28.5, 28.5, 28.5,\n",
       "       24.5, 28.5, 25.9, 28.5, 22. , 31.5, 25.9, 42.9, 42.9, 28.5, 24.5,\n",
       "       28.5, 35.5, 28.5, 28.5, 28.5, 12.9, 42.9, 24.5, 24.5, 42.9, 28.5,\n",
       "       24.5, 28.5, 22.4, 24.5, 28.5, 28.5, 13.9, 26.4, 28.5, 28.5, 28.5,\n",
       "       42.9, 28.5, 24.5, 28.5, 26.4, 28.5, 24.5, 28.5, 28.5, 28.5, 42.9,\n",
       "       28.5, 27.1, 33.5, 24.5, 28.5, 28.5, 28.5, 40.8, 16.5, 28.5, 28.5,\n",
       "       42.6, 25.9, 28.5, 24.5, 33.5, 24.5, 24.5, 28.5, 28.5, 16.5])"
      ]
     },
     "execution_count": 88,
     "metadata": {},
     "output_type": "execute_result"
    }
   ],
   "source": [
    "# use the model to predict the age for test data\n",
    "age_predicted = rand_for_reg.predict(no_age[:,1:])\n",
    "age_predicted = np.round(age_predicted,decimals=1)\n",
    "age_predicted"
   ]
  },
  {
   "cell_type": "code",
   "execution_count": 89,
   "id": "06930752",
   "metadata": {},
   "outputs": [],
   "source": [
    "# Replace missing age values with age_predicted\n",
    "df_ran_for_reg.loc[(df_ran_for_reg['Age'].isnull()), 'Age'] = age_predicted"
   ]
  },
  {
   "cell_type": "code",
   "execution_count": 90,
   "id": "270ce958",
   "metadata": {},
   "outputs": [
    {
     "data": {
      "text/plain": [
       "0"
      ]
     },
     "execution_count": 90,
     "metadata": {},
     "output_type": "execute_result"
    }
   ],
   "source": [
    "df_ran_for_reg['Age'].isnull().sum()"
   ]
  },
  {
   "cell_type": "code",
   "execution_count": 91,
   "id": "036f5fc4",
   "metadata": {},
   "outputs": [
    {
     "name": "stdout",
     "output_type": "stream",
     "text": [
      "Before imputation\n",
      "count    1046.000000\n",
      "mean       29.881138\n",
      "std        14.413493\n",
      "min         0.170000\n",
      "25%        21.000000\n",
      "50%        28.000000\n",
      "75%        39.000000\n",
      "max        80.000000\n",
      "Name: Age, dtype: float64\n",
      "0.17     1\n",
      "0.33     1\n",
      "0.42     1\n",
      "0.67     1\n",
      "0.75     3\n",
      "        ..\n",
      "70.50    1\n",
      "71.00    2\n",
      "74.00    1\n",
      "76.00    1\n",
      "80.00    1\n",
      "Name: Age, Length: 98, dtype: int64\n",
      " \n",
      "Age feature for df_rdn_for_reg\n",
      "count    1309.000000\n",
      "mean       29.633667\n",
      "std        13.285671\n",
      "min         0.170000\n",
      "25%        22.000000\n",
      "50%        28.500000\n",
      "75%        36.000000\n",
      "max        80.000000\n",
      "Name: Age, dtype: float64\n",
      "0.17     1\n",
      "0.33     1\n",
      "0.42     1\n",
      "0.67     1\n",
      "0.75     3\n",
      "        ..\n",
      "70.50    1\n",
      "71.00    2\n",
      "74.00    1\n",
      "76.00    1\n",
      "80.00    1\n",
      "Name: Age, Length: 116, dtype: int64\n"
     ]
    }
   ],
   "source": [
    "# Comapre Age feature beforem imputation, and after\n",
    "print('Before imputation')\n",
    "print(df['Age'].describe())\n",
    "print(df['Age'].value_counts().sort_index())\n",
    "print(\" \")\n",
    "\n",
    "print('Age feature for df_rdn_for_reg')\n",
    "print(df_ran_for_reg['Age'].describe())\n",
    "print(df_ran_for_reg['Age'].value_counts().sort_index())"
   ]
  },
  {
   "cell_type": "code",
   "execution_count": 92,
   "id": "08703e8a",
   "metadata": {},
   "outputs": [
    {
     "data": {
      "text/html": [
       "<div><div id=b39835a3-ad81-4cf8-9c72-f97b38edba0e style=\"display:none; background-color:#9D6CFF; color:white; width:200px; height:30px; padding-left:5px; border-radius:4px; flex-direction:row; justify-content:space-around; align-items:center;\" onmouseover=\"this.style.backgroundColor='#BA9BF8'\" onmouseout=\"this.style.backgroundColor='#9D6CFF'\" onclick=\"window.commands?.execute('create-mitosheet-from-dataframe-output');\">See Full Dataframe in Mito</div> <script> if (window.commands.hasCommand('create-mitosheet-from-dataframe-output')) document.getElementById('b39835a3-ad81-4cf8-9c72-f97b38edba0e').style.display = 'flex' </script> <table border=\"1\" class=\"dataframe\">\n",
       "  <thead>\n",
       "    <tr style=\"text-align: right;\">\n",
       "      <th></th>\n",
       "      <th>count</th>\n",
       "      <th>mean</th>\n",
       "      <th>std</th>\n",
       "      <th>min</th>\n",
       "      <th>25%</th>\n",
       "      <th>50%</th>\n",
       "      <th>75%</th>\n",
       "      <th>max</th>\n",
       "    </tr>\n",
       "  </thead>\n",
       "  <tbody>\n",
       "    <tr>\n",
       "      <th>Pclass</th>\n",
       "      <td>1309.0</td>\n",
       "      <td>2.294882</td>\n",
       "      <td>0.837836</td>\n",
       "      <td>1.00</td>\n",
       "      <td>2.0000</td>\n",
       "      <td>3.0000</td>\n",
       "      <td>3.000</td>\n",
       "      <td>3.0000</td>\n",
       "    </tr>\n",
       "    <tr>\n",
       "      <th>Sex</th>\n",
       "      <td>1309.0</td>\n",
       "      <td>0.644003</td>\n",
       "      <td>0.478997</td>\n",
       "      <td>0.00</td>\n",
       "      <td>0.0000</td>\n",
       "      <td>1.0000</td>\n",
       "      <td>1.000</td>\n",
       "      <td>1.0000</td>\n",
       "    </tr>\n",
       "    <tr>\n",
       "      <th>Age</th>\n",
       "      <td>1309.0</td>\n",
       "      <td>29.633667</td>\n",
       "      <td>13.285671</td>\n",
       "      <td>0.17</td>\n",
       "      <td>22.0000</td>\n",
       "      <td>28.5000</td>\n",
       "      <td>36.000</td>\n",
       "      <td>80.0000</td>\n",
       "    </tr>\n",
       "    <tr>\n",
       "      <th>SibSp</th>\n",
       "      <td>1309.0</td>\n",
       "      <td>0.498854</td>\n",
       "      <td>1.041658</td>\n",
       "      <td>0.00</td>\n",
       "      <td>0.0000</td>\n",
       "      <td>0.0000</td>\n",
       "      <td>1.000</td>\n",
       "      <td>8.0000</td>\n",
       "    </tr>\n",
       "    <tr>\n",
       "      <th>Parch</th>\n",
       "      <td>1309.0</td>\n",
       "      <td>0.385027</td>\n",
       "      <td>0.865560</td>\n",
       "      <td>0.00</td>\n",
       "      <td>0.0000</td>\n",
       "      <td>0.0000</td>\n",
       "      <td>0.000</td>\n",
       "      <td>9.0000</td>\n",
       "    </tr>\n",
       "    <tr>\n",
       "      <th>Fare</th>\n",
       "      <td>1309.0</td>\n",
       "      <td>33.295479</td>\n",
       "      <td>51.738879</td>\n",
       "      <td>0.00</td>\n",
       "      <td>7.8958</td>\n",
       "      <td>14.4542</td>\n",
       "      <td>31.275</td>\n",
       "      <td>512.3292</td>\n",
       "    </tr>\n",
       "  </tbody>\n",
       "</table></div>"
      ],
      "text/plain": [
       "         count       mean        std   min      25%      50%     75%       max\n",
       "Pclass  1309.0   2.294882   0.837836  1.00   2.0000   3.0000   3.000    3.0000\n",
       "Sex     1309.0   0.644003   0.478997  0.00   0.0000   1.0000   1.000    1.0000\n",
       "Age     1309.0  29.633667  13.285671  0.17  22.0000  28.5000  36.000   80.0000\n",
       "SibSp   1309.0   0.498854   1.041658  0.00   0.0000   0.0000   1.000    8.0000\n",
       "Parch   1309.0   0.385027   0.865560  0.00   0.0000   0.0000   0.000    9.0000\n",
       "Fare    1309.0  33.295479  51.738879  0.00   7.8958  14.4542  31.275  512.3292"
      ]
     },
     "execution_count": 92,
     "metadata": {},
     "output_type": "execute_result"
    }
   ],
   "source": [
    "# check if there are outliers or unkown value\n",
    "df_ran_for_reg.describe().T"
   ]
  },
  {
   "cell_type": "code",
   "execution_count": 93,
   "id": "e1f71f7d",
   "metadata": {},
   "outputs": [
    {
     "name": "stdout",
     "output_type": "stream",
     "text": [
      "Unique values for column: Pclass\n",
      "3    709\n",
      "1    323\n",
      "2    277\n",
      "Name: Pclass, dtype: int64\n",
      " \n",
      "Unique values for column: Sex\n",
      "1    843\n",
      "0    466\n",
      "Name: Sex, dtype: int64\n",
      " \n",
      "Unique values for column: Age\n",
      "28.5    119\n",
      "24.0     47\n",
      "22.0     45\n",
      "21.0     41\n",
      "30.0     40\n",
      "       ... \n",
      "16.6      1\n",
      "55.5      1\n",
      "23.5      1\n",
      "8.1       1\n",
      "38.5      1\n",
      "Name: Age, Length: 116, dtype: int64\n",
      " \n",
      "Unique values for column: SibSp\n",
      "0    891\n",
      "1    319\n",
      "2     42\n",
      "4     22\n",
      "3     20\n",
      "8      9\n",
      "5      6\n",
      "Name: SibSp, dtype: int64\n",
      " \n",
      "Unique values for column: Parch\n",
      "0    1002\n",
      "1     170\n",
      "2     113\n",
      "3       8\n",
      "5       6\n",
      "4       6\n",
      "6       2\n",
      "9       2\n",
      "Name: Parch, dtype: int64\n",
      " \n",
      "Unique values for column: Fare\n",
      "8.0500     60\n",
      "13.0000    59\n",
      "7.7500     55\n",
      "26.0000    50\n",
      "7.8958     49\n",
      "           ..\n",
      "26.2833     1\n",
      "14.0000     1\n",
      "15.0000     1\n",
      "6.2375      1\n",
      "7.7208      1\n",
      "Name: Fare, Length: 282, dtype: int64\n",
      " \n"
     ]
    }
   ],
   "source": [
    "for i in df_ran_for_reg.columns:\n",
    "    print('Unique values for column: ' + i)\n",
    "    print(df_ran_for_reg[i].value_counts(dropna=False))\n",
    "    print(\" \")"
   ]
  },
  {
   "cell_type": "code",
   "execution_count": 94,
   "id": "b2705349",
   "metadata": {},
   "outputs": [
    {
     "data": {
      "text/plain": [
       "0.0000      17\n",
       "3.1708       1\n",
       "4.0125       1\n",
       "5.0000       1\n",
       "6.2375       1\n",
       "            ..\n",
       "227.5250     5\n",
       "247.5208     3\n",
       "262.3750     7\n",
       "263.0000     6\n",
       "512.3292     4\n",
       "Name: Fare, Length: 282, dtype: int64"
      ]
     },
     "execution_count": 94,
     "metadata": {},
     "output_type": "execute_result"
    }
   ],
   "source": [
    "df_ran_for_reg['Fare'].value_counts().sort_index()"
   ]
  },
  {
   "cell_type": "code",
   "execution_count": 95,
   "id": "c04d1ab9",
   "metadata": {},
   "outputs": [
    {
     "data": {
      "text/html": [
       "<div><div id=1d484418-425c-4f79-97b0-5a84813dcb70 style=\"display:none; background-color:#9D6CFF; color:white; width:200px; height:30px; padding-left:5px; border-radius:4px; flex-direction:row; justify-content:space-around; align-items:center;\" onmouseover=\"this.style.backgroundColor='#BA9BF8'\" onmouseout=\"this.style.backgroundColor='#9D6CFF'\" onclick=\"window.commands?.execute('create-mitosheet-from-dataframe-output');\">See Full Dataframe in Mito</div> <script> if (window.commands.hasCommand('create-mitosheet-from-dataframe-output')) document.getElementById('1d484418-425c-4f79-97b0-5a84813dcb70').style.display = 'flex' </script> <table border=\"1\" class=\"dataframe\">\n",
       "  <thead>\n",
       "    <tr style=\"text-align: right;\">\n",
       "      <th></th>\n",
       "      <th>Pclass</th>\n",
       "      <th>Sex</th>\n",
       "      <th>Age</th>\n",
       "      <th>SibSp</th>\n",
       "      <th>Parch</th>\n",
       "      <th>Fare</th>\n",
       "    </tr>\n",
       "  </thead>\n",
       "  <tbody>\n",
       "    <tr>\n",
       "      <th>179</th>\n",
       "      <td>3</td>\n",
       "      <td>1</td>\n",
       "      <td>36.0</td>\n",
       "      <td>0</td>\n",
       "      <td>0</td>\n",
       "      <td>0.0</td>\n",
       "    </tr>\n",
       "    <tr>\n",
       "      <th>263</th>\n",
       "      <td>1</td>\n",
       "      <td>1</td>\n",
       "      <td>40.0</td>\n",
       "      <td>0</td>\n",
       "      <td>0</td>\n",
       "      <td>0.0</td>\n",
       "    </tr>\n",
       "    <tr>\n",
       "      <th>271</th>\n",
       "      <td>3</td>\n",
       "      <td>1</td>\n",
       "      <td>25.0</td>\n",
       "      <td>0</td>\n",
       "      <td>0</td>\n",
       "      <td>0.0</td>\n",
       "    </tr>\n",
       "    <tr>\n",
       "      <th>277</th>\n",
       "      <td>2</td>\n",
       "      <td>1</td>\n",
       "      <td>33.5</td>\n",
       "      <td>0</td>\n",
       "      <td>0</td>\n",
       "      <td>0.0</td>\n",
       "    </tr>\n",
       "    <tr>\n",
       "      <th>302</th>\n",
       "      <td>3</td>\n",
       "      <td>1</td>\n",
       "      <td>19.0</td>\n",
       "      <td>0</td>\n",
       "      <td>0</td>\n",
       "      <td>0.0</td>\n",
       "    </tr>\n",
       "    <tr>\n",
       "      <th>413</th>\n",
       "      <td>2</td>\n",
       "      <td>1</td>\n",
       "      <td>33.5</td>\n",
       "      <td>0</td>\n",
       "      <td>0</td>\n",
       "      <td>0.0</td>\n",
       "    </tr>\n",
       "    <tr>\n",
       "      <th>466</th>\n",
       "      <td>2</td>\n",
       "      <td>1</td>\n",
       "      <td>33.5</td>\n",
       "      <td>0</td>\n",
       "      <td>0</td>\n",
       "      <td>0.0</td>\n",
       "    </tr>\n",
       "    <tr>\n",
       "      <th>481</th>\n",
       "      <td>2</td>\n",
       "      <td>1</td>\n",
       "      <td>33.5</td>\n",
       "      <td>0</td>\n",
       "      <td>0</td>\n",
       "      <td>0.0</td>\n",
       "    </tr>\n",
       "    <tr>\n",
       "      <th>597</th>\n",
       "      <td>3</td>\n",
       "      <td>1</td>\n",
       "      <td>49.0</td>\n",
       "      <td>0</td>\n",
       "      <td>0</td>\n",
       "      <td>0.0</td>\n",
       "    </tr>\n",
       "    <tr>\n",
       "      <th>633</th>\n",
       "      <td>1</td>\n",
       "      <td>1</td>\n",
       "      <td>42.9</td>\n",
       "      <td>0</td>\n",
       "      <td>0</td>\n",
       "      <td>0.0</td>\n",
       "    </tr>\n",
       "    <tr>\n",
       "      <th>674</th>\n",
       "      <td>2</td>\n",
       "      <td>1</td>\n",
       "      <td>33.5</td>\n",
       "      <td>0</td>\n",
       "      <td>0</td>\n",
       "      <td>0.0</td>\n",
       "    </tr>\n",
       "    <tr>\n",
       "      <th>732</th>\n",
       "      <td>2</td>\n",
       "      <td>1</td>\n",
       "      <td>33.5</td>\n",
       "      <td>0</td>\n",
       "      <td>0</td>\n",
       "      <td>0.0</td>\n",
       "    </tr>\n",
       "    <tr>\n",
       "      <th>806</th>\n",
       "      <td>1</td>\n",
       "      <td>1</td>\n",
       "      <td>39.0</td>\n",
       "      <td>0</td>\n",
       "      <td>0</td>\n",
       "      <td>0.0</td>\n",
       "    </tr>\n",
       "    <tr>\n",
       "      <th>815</th>\n",
       "      <td>1</td>\n",
       "      <td>1</td>\n",
       "      <td>42.9</td>\n",
       "      <td>0</td>\n",
       "      <td>0</td>\n",
       "      <td>0.0</td>\n",
       "    </tr>\n",
       "    <tr>\n",
       "      <th>822</th>\n",
       "      <td>1</td>\n",
       "      <td>1</td>\n",
       "      <td>38.0</td>\n",
       "      <td>0</td>\n",
       "      <td>0</td>\n",
       "      <td>0.0</td>\n",
       "    </tr>\n",
       "    <tr>\n",
       "      <th>1157</th>\n",
       "      <td>1</td>\n",
       "      <td>1</td>\n",
       "      <td>42.9</td>\n",
       "      <td>0</td>\n",
       "      <td>0</td>\n",
       "      <td>0.0</td>\n",
       "    </tr>\n",
       "    <tr>\n",
       "      <th>1263</th>\n",
       "      <td>1</td>\n",
       "      <td>1</td>\n",
       "      <td>49.0</td>\n",
       "      <td>0</td>\n",
       "      <td>0</td>\n",
       "      <td>0.0</td>\n",
       "    </tr>\n",
       "  </tbody>\n",
       "</table></div>"
      ],
      "text/plain": [
       "      Pclass  Sex   Age  SibSp  Parch  Fare\n",
       "179        3    1  36.0      0      0   0.0\n",
       "263        1    1  40.0      0      0   0.0\n",
       "271        3    1  25.0      0      0   0.0\n",
       "277        2    1  33.5      0      0   0.0\n",
       "302        3    1  19.0      0      0   0.0\n",
       "413        2    1  33.5      0      0   0.0\n",
       "466        2    1  33.5      0      0   0.0\n",
       "481        2    1  33.5      0      0   0.0\n",
       "597        3    1  49.0      0      0   0.0\n",
       "633        1    1  42.9      0      0   0.0\n",
       "674        2    1  33.5      0      0   0.0\n",
       "732        2    1  33.5      0      0   0.0\n",
       "806        1    1  39.0      0      0   0.0\n",
       "815        1    1  42.9      0      0   0.0\n",
       "822        1    1  38.0      0      0   0.0\n",
       "1157       1    1  42.9      0      0   0.0\n",
       "1263       1    1  49.0      0      0   0.0"
      ]
     },
     "execution_count": 95,
     "metadata": {},
     "output_type": "execute_result"
    }
   ],
   "source": [
    "# the .min() value for Fare feature of 0 appears 17 times\n",
    "# so either the passenger didn't pay; or fare was unknown\n",
    "\n",
    "fare_unknown = df_ran_for_reg[df_ran_for_reg['Fare']==0]\n",
    "fare_unknown"
   ]
  },
  {
   "cell_type": "markdown",
   "id": "75ea6ff3",
   "metadata": {},
   "source": [
    "### use median of fare of Pclass and Embarked to fill in missing Fare values"
   ]
  },
  {
   "cell_type": "code",
   "execution_count": 96,
   "id": "c4121ea4",
   "metadata": {},
   "outputs": [
    {
     "data": {
      "text/plain": [
       "Int64Index([1043], dtype='int64')"
      ]
     },
     "execution_count": 96,
     "metadata": {},
     "output_type": "execute_result"
    }
   ],
   "source": [
    "# some of the passegners with 'unknown' fare are pClass1\n",
    "# very unlikely they did not pay\n",
    "# so assume how much fare they paid is unknown\n",
    "\n",
    "# now use df2\n",
    "df2[df2['Fare'].isnull()].index"
   ]
  },
  {
   "cell_type": "code",
   "execution_count": 97,
   "id": "5e783d81",
   "metadata": {},
   "outputs": [
    {
     "data": {
      "text/plain": [
       "Pclass     3.000000\n",
       "Sex        1.000000\n",
       "Age       60.500000\n",
       "SibSp      0.000000\n",
       "Parch      0.000000\n",
       "Fare      33.295479\n",
       "Name: 1043, dtype: float64"
      ]
     },
     "execution_count": 97,
     "metadata": {},
     "output_type": "execute_result"
    }
   ],
   "source": [
    "df_ran_for_reg_3 = df_ran_for_reg.copy()\n",
    "df_ran_for_reg_3.loc[1043,:]"
   ]
  },
  {
   "cell_type": "code",
   "execution_count": 98,
   "id": "440f043c",
   "metadata": {},
   "outputs": [
    {
     "data": {
      "text/plain": [
       "18"
      ]
     },
     "execution_count": 98,
     "metadata": {},
     "output_type": "execute_result"
    }
   ],
   "source": [
    "df_ran_for_reg_3.loc[1043,'Fare']=0\n",
    "len(df_ran_for_reg_3[df_ran_for_reg_3['Fare']==0])"
   ]
  },
  {
   "cell_type": "code",
   "execution_count": 99,
   "id": "266138c3",
   "metadata": {},
   "outputs": [
    {
     "data": {
      "text/html": [
       "<div><div id=736de825-be45-4a1b-a9cf-53354fbfc01d style=\"display:none; background-color:#9D6CFF; color:white; width:200px; height:30px; padding-left:5px; border-radius:4px; flex-direction:row; justify-content:space-around; align-items:center;\" onmouseover=\"this.style.backgroundColor='#BA9BF8'\" onmouseout=\"this.style.backgroundColor='#9D6CFF'\" onclick=\"window.commands?.execute('create-mitosheet-from-dataframe-output');\">See Full Dataframe in Mito</div> <script> if (window.commands.hasCommand('create-mitosheet-from-dataframe-output')) document.getElementById('736de825-be45-4a1b-a9cf-53354fbfc01d').style.display = 'flex' </script> <table border=\"1\" class=\"dataframe\">\n",
       "  <thead>\n",
       "    <tr style=\"text-align: right;\">\n",
       "      <th></th>\n",
       "      <th>Pclass</th>\n",
       "      <th>Sex</th>\n",
       "      <th>Age</th>\n",
       "      <th>SibSp</th>\n",
       "      <th>Parch</th>\n",
       "      <th>Fare</th>\n",
       "    </tr>\n",
       "  </thead>\n",
       "  <tbody>\n",
       "    <tr>\n",
       "      <th>0</th>\n",
       "      <td>3</td>\n",
       "      <td>1</td>\n",
       "      <td>22.0</td>\n",
       "      <td>1</td>\n",
       "      <td>0</td>\n",
       "      <td>7.2500</td>\n",
       "    </tr>\n",
       "    <tr>\n",
       "      <th>1</th>\n",
       "      <td>1</td>\n",
       "      <td>0</td>\n",
       "      <td>38.0</td>\n",
       "      <td>1</td>\n",
       "      <td>0</td>\n",
       "      <td>71.2833</td>\n",
       "    </tr>\n",
       "    <tr>\n",
       "      <th>2</th>\n",
       "      <td>3</td>\n",
       "      <td>0</td>\n",
       "      <td>26.0</td>\n",
       "      <td>0</td>\n",
       "      <td>0</td>\n",
       "      <td>7.9250</td>\n",
       "    </tr>\n",
       "    <tr>\n",
       "      <th>3</th>\n",
       "      <td>1</td>\n",
       "      <td>0</td>\n",
       "      <td>35.0</td>\n",
       "      <td>1</td>\n",
       "      <td>0</td>\n",
       "      <td>53.1000</td>\n",
       "    </tr>\n",
       "    <tr>\n",
       "      <th>4</th>\n",
       "      <td>3</td>\n",
       "      <td>1</td>\n",
       "      <td>35.0</td>\n",
       "      <td>0</td>\n",
       "      <td>0</td>\n",
       "      <td>8.0500</td>\n",
       "    </tr>\n",
       "  </tbody>\n",
       "</table></div>"
      ],
      "text/plain": [
       "   Pclass  Sex   Age  SibSp  Parch     Fare\n",
       "0       3    1  22.0      1      0   7.2500\n",
       "1       1    0  38.0      1      0  71.2833\n",
       "2       3    0  26.0      0      0   7.9250\n",
       "3       1    0  35.0      1      0  53.1000\n",
       "4       3    1  35.0      0      0   8.0500"
      ]
     },
     "execution_count": 99,
     "metadata": {},
     "output_type": "execute_result"
    }
   ],
   "source": [
    "# Fare is a fucntion of PClass and embarked\n",
    "# impute values using the median of Pclass and embarked\n",
    "# need to add back embarked\n",
    "df_ran_for_reg_3.head()"
   ]
  },
  {
   "cell_type": "code",
   "execution_count": 100,
   "id": "6c95ba58",
   "metadata": {},
   "outputs": [
    {
     "data": {
      "text/html": [
       "<div><div id=a6bdf0c4-0b6a-4890-85d5-a97c8f5c4280 style=\"display:none; background-color:#9D6CFF; color:white; width:200px; height:30px; padding-left:5px; border-radius:4px; flex-direction:row; justify-content:space-around; align-items:center;\" onmouseover=\"this.style.backgroundColor='#BA9BF8'\" onmouseout=\"this.style.backgroundColor='#9D6CFF'\" onclick=\"window.commands?.execute('create-mitosheet-from-dataframe-output');\">See Full Dataframe in Mito</div> <script> if (window.commands.hasCommand('create-mitosheet-from-dataframe-output')) document.getElementById('a6bdf0c4-0b6a-4890-85d5-a97c8f5c4280').style.display = 'flex' </script> <table border=\"1\" class=\"dataframe\">\n",
       "  <thead>\n",
       "    <tr style=\"text-align: right;\">\n",
       "      <th></th>\n",
       "      <th>Pclass</th>\n",
       "      <th>Sex</th>\n",
       "      <th>Age</th>\n",
       "      <th>SibSp</th>\n",
       "      <th>Parch</th>\n",
       "      <th>Fare</th>\n",
       "      <th>Embarked</th>\n",
       "    </tr>\n",
       "  </thead>\n",
       "  <tbody>\n",
       "    <tr>\n",
       "      <th>0</th>\n",
       "      <td>3</td>\n",
       "      <td>1</td>\n",
       "      <td>22.0</td>\n",
       "      <td>1</td>\n",
       "      <td>0</td>\n",
       "      <td>7.2500</td>\n",
       "      <td>S</td>\n",
       "    </tr>\n",
       "    <tr>\n",
       "      <th>1</th>\n",
       "      <td>1</td>\n",
       "      <td>0</td>\n",
       "      <td>38.0</td>\n",
       "      <td>1</td>\n",
       "      <td>0</td>\n",
       "      <td>71.2833</td>\n",
       "      <td>C</td>\n",
       "    </tr>\n",
       "    <tr>\n",
       "      <th>2</th>\n",
       "      <td>3</td>\n",
       "      <td>0</td>\n",
       "      <td>26.0</td>\n",
       "      <td>0</td>\n",
       "      <td>0</td>\n",
       "      <td>7.9250</td>\n",
       "      <td>S</td>\n",
       "    </tr>\n",
       "    <tr>\n",
       "      <th>3</th>\n",
       "      <td>1</td>\n",
       "      <td>0</td>\n",
       "      <td>35.0</td>\n",
       "      <td>1</td>\n",
       "      <td>0</td>\n",
       "      <td>53.1000</td>\n",
       "      <td>S</td>\n",
       "    </tr>\n",
       "    <tr>\n",
       "      <th>4</th>\n",
       "      <td>3</td>\n",
       "      <td>1</td>\n",
       "      <td>35.0</td>\n",
       "      <td>0</td>\n",
       "      <td>0</td>\n",
       "      <td>8.0500</td>\n",
       "      <td>S</td>\n",
       "    </tr>\n",
       "  </tbody>\n",
       "</table></div>"
      ],
      "text/plain": [
       "   Pclass  Sex   Age  SibSp  Parch     Fare Embarked\n",
       "0       3    1  22.0      1      0   7.2500        S\n",
       "1       1    0  38.0      1      0  71.2833        C\n",
       "2       3    0  26.0      0      0   7.9250        S\n",
       "3       1    0  35.0      1      0  53.1000        S\n",
       "4       3    1  35.0      0      0   8.0500        S"
      ]
     },
     "execution_count": 100,
     "metadata": {},
     "output_type": "execute_result"
    }
   ],
   "source": [
    "df_ran_for_reg_3['Embarked'] = df2['Embarked']\n",
    "df_ran_for_reg_3.head()"
   ]
  },
  {
   "cell_type": "code",
   "execution_count": 101,
   "id": "34a59c01",
   "metadata": {},
   "outputs": [
    {
     "data": {
      "text/html": [
       "<div><div id=f9e3136b-ac3b-4d52-ba40-c9bdaee8e1c0 style=\"display:none; background-color:#9D6CFF; color:white; width:200px; height:30px; padding-left:5px; border-radius:4px; flex-direction:row; justify-content:space-around; align-items:center;\" onmouseover=\"this.style.backgroundColor='#BA9BF8'\" onmouseout=\"this.style.backgroundColor='#9D6CFF'\" onclick=\"window.commands?.execute('create-mitosheet-from-dataframe-output');\">See Full Dataframe in Mito</div> <script> if (window.commands.hasCommand('create-mitosheet-from-dataframe-output')) document.getElementById('f9e3136b-ac3b-4d52-ba40-c9bdaee8e1c0').style.display = 'flex' </script> <table border=\"1\" class=\"dataframe\">\n",
       "  <thead>\n",
       "    <tr style=\"text-align: right;\">\n",
       "      <th></th>\n",
       "      <th></th>\n",
       "      <th>mean</th>\n",
       "      <th>median</th>\n",
       "      <th>count</th>\n",
       "    </tr>\n",
       "    <tr>\n",
       "      <th>Pclass</th>\n",
       "      <th>Embarked</th>\n",
       "      <th></th>\n",
       "      <th></th>\n",
       "      <th></th>\n",
       "    </tr>\n",
       "  </thead>\n",
       "  <tbody>\n",
       "    <tr>\n",
       "      <th rowspan=\"3\" valign=\"top\">1</th>\n",
       "      <th>C</th>\n",
       "      <td>106.845330</td>\n",
       "      <td>76.7292</td>\n",
       "      <td>141</td>\n",
       "    </tr>\n",
       "    <tr>\n",
       "      <th>Q</th>\n",
       "      <td>90.000000</td>\n",
       "      <td>90.0000</td>\n",
       "      <td>3</td>\n",
       "    </tr>\n",
       "    <tr>\n",
       "      <th>S</th>\n",
       "      <td>75.118898</td>\n",
       "      <td>52.2771</td>\n",
       "      <td>170</td>\n",
       "    </tr>\n",
       "    <tr>\n",
       "      <th rowspan=\"3\" valign=\"top\">2</th>\n",
       "      <th>C</th>\n",
       "      <td>23.300593</td>\n",
       "      <td>15.3146</td>\n",
       "      <td>28</td>\n",
       "    </tr>\n",
       "    <tr>\n",
       "      <th>Q</th>\n",
       "      <td>11.735114</td>\n",
       "      <td>12.3500</td>\n",
       "      <td>7</td>\n",
       "    </tr>\n",
       "    <tr>\n",
       "      <th>S</th>\n",
       "      <td>21.746081</td>\n",
       "      <td>16.0000</td>\n",
       "      <td>236</td>\n",
       "    </tr>\n",
       "    <tr>\n",
       "      <th rowspan=\"3\" valign=\"top\">3</th>\n",
       "      <th>C</th>\n",
       "      <td>11.021624</td>\n",
       "      <td>7.8958</td>\n",
       "      <td>101</td>\n",
       "    </tr>\n",
       "    <tr>\n",
       "      <th>Q</th>\n",
       "      <td>10.390820</td>\n",
       "      <td>7.7500</td>\n",
       "      <td>113</td>\n",
       "    </tr>\n",
       "    <tr>\n",
       "      <th>S</th>\n",
       "      <td>14.553262</td>\n",
       "      <td>8.0500</td>\n",
       "      <td>490</td>\n",
       "    </tr>\n",
       "  </tbody>\n",
       "</table></div>"
      ],
      "text/plain": [
       "                       mean   median  count\n",
       "Pclass Embarked                            \n",
       "1      C         106.845330  76.7292    141\n",
       "       Q          90.000000  90.0000      3\n",
       "       S          75.118898  52.2771    170\n",
       "2      C          23.300593  15.3146     28\n",
       "       Q          11.735114  12.3500      7\n",
       "       S          21.746081  16.0000    236\n",
       "3      C          11.021624   7.8958    101\n",
       "       Q          10.390820   7.7500    113\n",
       "       S          14.553262   8.0500    490"
      ]
     },
     "execution_count": 101,
     "metadata": {},
     "output_type": "execute_result"
    }
   ],
   "source": [
    "# chcek th median of Fare values by PClass and embarked\n",
    "data2 = df_ran_for_reg_3.loc[df_ran_for_reg_3['Fare'] !=0,:].groupby(['Pclass','Embarked']).agg(['mean','median','count'])['Fare']\n",
    "data2"
   ]
  },
  {
   "cell_type": "code",
   "execution_count": 102,
   "id": "f2f9aa8b",
   "metadata": {},
   "outputs": [],
   "source": [
    "for i in df_ran_for_reg_3['Pclass'].unique():\n",
    "    for location in df_ran_for_reg_3['Embarked'].unique():\n",
    "        df_ran_for_reg_3.loc[(df_ran_for_reg_3['Fare'] == 0) & (df_ran_for_reg_3['Pclass'] == i) & (df_ran_for_reg_3['Embarked'] == location), 'Fare'] = df_ran_for_reg_3.loc[(df_ran_for_reg_3['Fare'] == 0) & (df_ran_for_reg_3['Pclass'] == i) & (df_ran_for_reg_3['Embarked'] == location), 'Fare'].map(\n",
    "        lambda x: df_ran_for_reg_3[(df_ran_for_reg_3['Fare'] != 0) & (df_ran_for_reg_3['Pclass'] == i) & (df_ran_for_reg_3['Embarked'] == location)]['Fare'].median()\n",
    "    )\n",
    "            \n",
    "            "
   ]
  },
  {
   "cell_type": "code",
   "execution_count": 103,
   "id": "b2e024b0",
   "metadata": {},
   "outputs": [
    {
     "data": {
      "text/html": [
       "<div><div id=0dc3d624-0d5a-481b-8c44-69ecbb2f357b style=\"display:none; background-color:#9D6CFF; color:white; width:200px; height:30px; padding-left:5px; border-radius:4px; flex-direction:row; justify-content:space-around; align-items:center;\" onmouseover=\"this.style.backgroundColor='#BA9BF8'\" onmouseout=\"this.style.backgroundColor='#9D6CFF'\" onclick=\"window.commands?.execute('create-mitosheet-from-dataframe-output');\">See Full Dataframe in Mito</div> <script> if (window.commands.hasCommand('create-mitosheet-from-dataframe-output')) document.getElementById('0dc3d624-0d5a-481b-8c44-69ecbb2f357b').style.display = 'flex' </script> <table border=\"1\" class=\"dataframe\">\n",
       "  <thead>\n",
       "    <tr style=\"text-align: right;\">\n",
       "      <th></th>\n",
       "      <th>Pclass</th>\n",
       "      <th>Sex</th>\n",
       "      <th>Age</th>\n",
       "      <th>SibSp</th>\n",
       "      <th>Parch</th>\n",
       "      <th>Fare</th>\n",
       "      <th>Embarked</th>\n",
       "    </tr>\n",
       "  </thead>\n",
       "  <tbody>\n",
       "  </tbody>\n",
       "</table></div>"
      ],
      "text/plain": [
       "Empty DataFrame\n",
       "Columns: [Pclass, Sex, Age, SibSp, Parch, Fare, Embarked]\n",
       "Index: []"
      ]
     },
     "execution_count": 103,
     "metadata": {},
     "output_type": "execute_result"
    }
   ],
   "source": [
    "# check to see that all fares imputed\n",
    "df_ran_for_reg_3[df_ran_for_reg_3['Fare']==0]"
   ]
  },
  {
   "cell_type": "code",
   "execution_count": 104,
   "id": "bdd90582",
   "metadata": {},
   "outputs": [
    {
     "name": "stdout",
     "output_type": "stream",
     "text": [
      "Before imputation: \n",
      "                       mean   median  count\n",
      "Pclass Embarked                            \n",
      "1      C         106.845330  76.7292    141\n",
      "       Q          90.000000  90.0000      3\n",
      "       S          75.118898  52.2771    170\n",
      "2      C          23.300593  15.3146     28\n",
      "       Q          11.735114  12.3500      7\n",
      "       S          21.746081  16.0000    236\n",
      "3      C          11.021624   7.8958    101\n",
      "       Q          10.390820   7.7500    113\n",
      "       S          14.553262   8.0500    490\n",
      " \n",
      "---------------------------------------------------------------------------\n",
      " \n",
      "After imputation: \n",
      "                       mean   median  count\n",
      "Pclass Embarked                            \n",
      "1      C         106.845330  76.7292    141\n",
      "       Q          90.000000  90.0000      3\n",
      "       S          74.215550  52.2771    177\n",
      "2      C          23.300593  15.3146     28\n",
      "       Q          11.735114  12.3500      7\n",
      "       S          21.603616  16.0000    242\n",
      "3      C          11.021624   7.8958    101\n",
      "       Q          10.390820   7.7500    113\n",
      "       S          14.487573   8.0500    495\n"
     ]
    }
   ],
   "source": [
    "print('Before imputation: ')\n",
    "print(data2)\n",
    "print(\" \")\n",
    "print(\"-\"*75)\n",
    "print(\" \")\n",
    "print('After imputation: ')\n",
    "print(df_ran_for_reg_3.groupby(['Pclass','Embarked']).agg(['mean','median','count'])['Fare'])"
   ]
  },
  {
   "cell_type": "code",
   "execution_count": 105,
   "id": "7126d63a",
   "metadata": {},
   "outputs": [],
   "source": [
    "df_ran_for_reg_3 = df_ran_for_reg_3.drop(columns='Embarked',axis=1)"
   ]
  },
  {
   "cell_type": "markdown",
   "id": "5e7583b7",
   "metadata": {},
   "source": [
    "## Building the model"
   ]
  },
  {
   "cell_type": "code",
   "execution_count": 106,
   "id": "7fc38915",
   "metadata": {},
   "outputs": [
    {
     "name": "stdout",
     "output_type": "stream",
     "text": [
      "<class 'pandas.core.frame.DataFrame'>\n",
      "RangeIndex: 891 entries, 0 to 890\n",
      "Data columns (total 7 columns):\n",
      " #   Column    Non-Null Count  Dtype  \n",
      "---  ------    --------------  -----  \n",
      " 0   Pclass    891 non-null    int64  \n",
      " 1   Sex       891 non-null    int64  \n",
      " 2   Age       891 non-null    float64\n",
      " 3   SibSp     891 non-null    int64  \n",
      " 4   Parch     891 non-null    int64  \n",
      " 5   Fare      891 non-null    object \n",
      " 6   Survived  891 non-null    int64  \n",
      "dtypes: float64(1), int64(5), object(1)\n",
      "memory usage: 48.9+ KB\n"
     ]
    }
   ],
   "source": [
    "train = df_ran_for_reg_3.iloc[:891,:]\n",
    "test = df_ran_for_reg_3.iloc[891:,:]\n",
    "\n",
    "# add back the survived feature\n",
    "train[\"Survived\"] = survived_data\n",
    "train.info()"
   ]
  },
  {
   "cell_type": "code",
   "execution_count": 107,
   "id": "60f95763",
   "metadata": {},
   "outputs": [],
   "source": [
    "X = train.drop('Survived', axis=1)\n",
    "y = train['Survived']"
   ]
  },
  {
   "cell_type": "markdown",
   "id": "3ea45c58",
   "metadata": {},
   "source": [
    "### Build model with GridSearchCv"
   ]
  },
  {
   "cell_type": "code",
   "execution_count": 108,
   "id": "cdd8a397",
   "metadata": {},
   "outputs": [],
   "source": [
    "from sklearn.model_selection import train_test_split\n",
    "X_train, X_test, y_train, y_test = train_test_split(X, y, test_size=.2)\n",
    "\n",
    "from sklearn.ensemble import RandomForestClassifier\n",
    "from sklearn.model_selection import GridSearchCV\n",
    "clf = RandomForestClassifier()\n",
    "\n"
   ]
  },
  {
   "cell_type": "code",
   "execution_count": 109,
   "id": "4b8a0ef8",
   "metadata": {},
   "outputs": [
    {
     "data": {
      "text/plain": [
       "GridSearchCV(cv=3, estimator=RandomForestClassifier(),\n",
       "             param_grid=[{'criterion': ['gini', 'entropy'],\n",
       "                          'max_depth': [10, 11, 12, 13, 14],\n",
       "                          'min_samples_split': [2, 4, 10, 12, 16],\n",
       "                          'n_estimators': [10, 20, 30, 40, 50, 60, 70, 80,\n",
       "                                           90]}],\n",
       "             return_train_score=True, scoring='accuracy')"
      ]
     },
     "execution_count": 109,
     "metadata": {},
     "output_type": "execute_result"
    }
   ],
   "source": [
    "# cross validation of all combos iof the parameters\n",
    "param_grid = [\n",
    "    {'n_estimators':[i for i in range(10,100,10)],\n",
    "    'criterion':['gini','entropy'],\n",
    "    'max_depth':[i for i in range(10, 15, 1)],\n",
    "    'min_samples_split':[2,4,10,12,16]},\n",
    "]\n",
    "\n",
    "# cv = 3\n",
    "grid_search = GridSearchCV(clf, param_grid, cv=3, scoring='accuracy',\n",
    "                          return_train_score=True)\n",
    "grid_search.fit(X,y)\n",
    "\n"
   ]
  },
  {
   "cell_type": "code",
   "execution_count": 110,
   "id": "5ffe592d",
   "metadata": {},
   "outputs": [
    {
     "data": {
      "text/plain": [
       "RandomForestClassifier(criterion='entropy', max_depth=14, min_samples_split=16,\n",
       "                       n_estimators=50)"
      ]
     },
     "execution_count": 110,
     "metadata": {},
     "output_type": "execute_result"
    }
   ],
   "source": [
    "# get the combo with the bdst performing score\n",
    "final_clf = grid_search.best_estimator_\n",
    "final_clf"
   ]
  },
  {
   "cell_type": "code",
   "execution_count": 111,
   "id": "589e76dd",
   "metadata": {},
   "outputs": [
    {
     "name": "stdout",
     "output_type": "stream",
     "text": [
      "[0.8715083798882681, 0.8715083798882681, 0.8715083798882681, 0.8715083798882681, 0.8715083798882681, 0.8715083798882681, 0.8715083798882681, 0.8715083798882681, 0.8715083798882681, 0.8715083798882681, 0.8715083798882681, 0.8715083798882681, 0.8715083798882681, 0.8715083798882681, 0.8715083798882681, 0.8715083798882681, 0.8715083798882681, 0.8715083798882681, 0.8715083798882681, 0.8715083798882681]\n",
      " \n",
      "---------------------------------------------------------------------------\n",
      "MEAN SCORE: \n",
      "0.8715083798882682\n"
     ]
    }
   ],
   "source": [
    "# get the mena score of the mdoel with the bst combo of parameters\n",
    "scores = []\n",
    "\n",
    "for rs in np.arange(0, 1000, 50):\n",
    "    score  = final_clf.score(X_test, y_test)\n",
    "    scores.append(score)\n",
    "\n",
    "print(scores)\n",
    "print(\" \")\n",
    "print('-'*75)\n",
    "print(\"MEAN SCORE: \")\n",
    "print(np.array(scores).mean())"
   ]
  },
  {
   "cell_type": "markdown",
   "id": "4ae7d50e",
   "metadata": {},
   "source": [
    "### check feature importance"
   ]
  },
  {
   "cell_type": "code",
   "execution_count": 112,
   "id": "f84a946a",
   "metadata": {},
   "outputs": [
    {
     "data": {
      "text/plain": [
       "array([0.11710225, 0.33072736, 0.21706082, 0.05257652, 0.03845059,\n",
       "       0.24408246])"
      ]
     },
     "execution_count": 112,
     "metadata": {},
     "output_type": "execute_result"
    }
   ],
   "source": [
    "final_clf.feature_importances_"
   ]
  },
  {
   "cell_type": "code",
   "execution_count": 113,
   "id": "fba17c26",
   "metadata": {},
   "outputs": [
    {
     "name": "stdout",
     "output_type": "stream",
     "text": [
      "Index(['Pclass', 'Sex', 'Age', 'SibSp', 'Parch', 'Fare'], dtype='object')\n"
     ]
    }
   ],
   "source": [
    "index_list = X_train.columns\n",
    "print(index_list)"
   ]
  },
  {
   "cell_type": "code",
   "execution_count": 115,
   "id": "c7c68235",
   "metadata": {},
   "outputs": [
    {
     "data": {
      "text/html": [
       "<div><div id=79a53a85-6a3a-4ada-a4b3-8da97d5a4c41 style=\"display:none; background-color:#9D6CFF; color:white; width:200px; height:30px; padding-left:5px; border-radius:4px; flex-direction:row; justify-content:space-around; align-items:center;\" onmouseover=\"this.style.backgroundColor='#BA9BF8'\" onmouseout=\"this.style.backgroundColor='#9D6CFF'\" onclick=\"window.commands?.execute('create-mitosheet-from-dataframe-output');\">See Full Dataframe in Mito</div> <script> if (window.commands.hasCommand('create-mitosheet-from-dataframe-output')) document.getElementById('79a53a85-6a3a-4ada-a4b3-8da97d5a4c41').style.display = 'flex' </script> <table border=\"1\" class=\"dataframe\">\n",
       "  <thead>\n",
       "    <tr style=\"text-align: right;\">\n",
       "      <th></th>\n",
       "      <th>score</th>\n",
       "    </tr>\n",
       "  </thead>\n",
       "  <tbody>\n",
       "    <tr>\n",
       "      <th>Sex</th>\n",
       "      <td>0.330727</td>\n",
       "    </tr>\n",
       "    <tr>\n",
       "      <th>Fare</th>\n",
       "      <td>0.244082</td>\n",
       "    </tr>\n",
       "    <tr>\n",
       "      <th>Age</th>\n",
       "      <td>0.217061</td>\n",
       "    </tr>\n",
       "    <tr>\n",
       "      <th>Pclass</th>\n",
       "      <td>0.117102</td>\n",
       "    </tr>\n",
       "    <tr>\n",
       "      <th>SibSp</th>\n",
       "      <td>0.052577</td>\n",
       "    </tr>\n",
       "    <tr>\n",
       "      <th>Parch</th>\n",
       "      <td>0.038451</td>\n",
       "    </tr>\n",
       "  </tbody>\n",
       "</table></div>"
      ],
      "text/plain": [
       "           score\n",
       "Sex     0.330727\n",
       "Fare    0.244082\n",
       "Age     0.217061\n",
       "Pclass  0.117102\n",
       "SibSp   0.052577\n",
       "Parch   0.038451"
      ]
     },
     "execution_count": 115,
     "metadata": {},
     "output_type": "execute_result"
    }
   ],
   "source": [
    "feature_importance = pd.DataFrame({'score': final_clf.feature_importances_},\n",
    "                                 index = index_list)\n",
    "feature_importance.sort_values('score', ascending=False)"
   ]
  },
  {
   "cell_type": "markdown",
   "id": "98a094bf",
   "metadata": {},
   "source": [
    "## Predict on test dataset for submission"
   ]
  },
  {
   "cell_type": "code",
   "execution_count": 116,
   "id": "7f0d45c9",
   "metadata": {},
   "outputs": [
    {
     "data": {
      "text/html": [
       "<div><div id=ea707fe8-577b-493a-ad36-316a87354f08 style=\"display:none; background-color:#9D6CFF; color:white; width:200px; height:30px; padding-left:5px; border-radius:4px; flex-direction:row; justify-content:space-around; align-items:center;\" onmouseover=\"this.style.backgroundColor='#BA9BF8'\" onmouseout=\"this.style.backgroundColor='#9D6CFF'\" onclick=\"window.commands?.execute('create-mitosheet-from-dataframe-output');\">See Full Dataframe in Mito</div> <script> if (window.commands.hasCommand('create-mitosheet-from-dataframe-output')) document.getElementById('ea707fe8-577b-493a-ad36-316a87354f08').style.display = 'flex' </script> <table border=\"1\" class=\"dataframe\">\n",
       "  <thead>\n",
       "    <tr style=\"text-align: right;\">\n",
       "      <th></th>\n",
       "      <th>Pclass</th>\n",
       "      <th>Sex</th>\n",
       "      <th>Age</th>\n",
       "      <th>SibSp</th>\n",
       "      <th>Parch</th>\n",
       "      <th>Fare</th>\n",
       "    </tr>\n",
       "  </thead>\n",
       "  <tbody>\n",
       "    <tr>\n",
       "      <th>891</th>\n",
       "      <td>3</td>\n",
       "      <td>1</td>\n",
       "      <td>34.5</td>\n",
       "      <td>0</td>\n",
       "      <td>0</td>\n",
       "      <td>7.8292</td>\n",
       "    </tr>\n",
       "    <tr>\n",
       "      <th>892</th>\n",
       "      <td>3</td>\n",
       "      <td>0</td>\n",
       "      <td>47.0</td>\n",
       "      <td>1</td>\n",
       "      <td>0</td>\n",
       "      <td>7.0</td>\n",
       "    </tr>\n",
       "    <tr>\n",
       "      <th>893</th>\n",
       "      <td>2</td>\n",
       "      <td>1</td>\n",
       "      <td>62.0</td>\n",
       "      <td>0</td>\n",
       "      <td>0</td>\n",
       "      <td>9.6875</td>\n",
       "    </tr>\n",
       "    <tr>\n",
       "      <th>894</th>\n",
       "      <td>3</td>\n",
       "      <td>1</td>\n",
       "      <td>27.0</td>\n",
       "      <td>0</td>\n",
       "      <td>0</td>\n",
       "      <td>8.6625</td>\n",
       "    </tr>\n",
       "    <tr>\n",
       "      <th>895</th>\n",
       "      <td>3</td>\n",
       "      <td>0</td>\n",
       "      <td>22.0</td>\n",
       "      <td>1</td>\n",
       "      <td>1</td>\n",
       "      <td>12.2875</td>\n",
       "    </tr>\n",
       "  </tbody>\n",
       "</table></div>"
      ],
      "text/plain": [
       "     Pclass  Sex   Age  SibSp  Parch     Fare\n",
       "891       3    1  34.5      0      0   7.8292\n",
       "892       3    0  47.0      1      0      7.0\n",
       "893       2    1  62.0      0      0   9.6875\n",
       "894       3    1  27.0      0      0   8.6625\n",
       "895       3    0  22.0      1      1  12.2875"
      ]
     },
     "execution_count": 116,
     "metadata": {},
     "output_type": "execute_result"
    }
   ],
   "source": [
    "test = df_ran_for_reg_3.iloc[891:,:]\n",
    "test.head()"
   ]
  },
  {
   "cell_type": "code",
   "execution_count": 117,
   "id": "f9089cff",
   "metadata": {},
   "outputs": [
    {
     "name": "stdout",
     "output_type": "stream",
     "text": [
      "<class 'pandas.core.frame.DataFrame'>\n",
      "RangeIndex: 418 entries, 891 to 1308\n",
      "Data columns (total 6 columns):\n",
      " #   Column  Non-Null Count  Dtype  \n",
      "---  ------  --------------  -----  \n",
      " 0   Pclass  418 non-null    int64  \n",
      " 1   Sex     418 non-null    int64  \n",
      " 2   Age     418 non-null    float64\n",
      " 3   SibSp   418 non-null    int64  \n",
      " 4   Parch   418 non-null    int64  \n",
      " 5   Fare    418 non-null    object \n",
      "dtypes: float64(1), int64(4), object(1)\n",
      "memory usage: 19.7+ KB\n"
     ]
    }
   ],
   "source": [
    "test.info()"
   ]
  },
  {
   "cell_type": "code",
   "execution_count": 118,
   "id": "35b48206",
   "metadata": {},
   "outputs": [
    {
     "data": {
      "text/plain": [
       "0    892\n",
       "1    893\n",
       "2    894\n",
       "3    895\n",
       "4    896\n",
       "Name: PassengerId, dtype: int64"
      ]
     },
     "execution_count": 118,
     "metadata": {},
     "output_type": "execute_result"
    }
   ],
   "source": [
    "id_column = test_data['PassengerId']\n",
    "id_column.head()"
   ]
  },
  {
   "cell_type": "markdown",
   "id": "86bb6639",
   "metadata": {},
   "source": [
    "### Use the test data to make prediction"
   ]
  },
  {
   "cell_type": "code",
   "execution_count": 119,
   "id": "8a77da17",
   "metadata": {},
   "outputs": [
    {
     "data": {
      "text/plain": [
       "array([0, 0, 0, 0, 0, 0, 0, 0, 1, 0, 0, 0, 1, 0, 1, 1, 0, 0, 0, 0, 0, 0,\n",
       "       1, 0, 1, 0, 1, 0, 1, 0, 0, 0, 1, 0, 0, 0, 0, 0, 0, 1, 0, 0, 0, 1,\n",
       "       1, 0, 0, 0, 1, 1, 0, 0, 1, 1, 0, 0, 0, 0, 0, 1, 0, 0, 0, 1, 1, 1,\n",
       "       1, 0, 0, 1, 1, 0, 0, 1, 1, 0, 0, 1, 0, 1, 1, 0, 0, 0, 0, 0, 1, 0,\n",
       "       1, 1, 0, 0, 1, 0, 0, 0, 1, 0, 1, 0, 1, 0, 0, 0, 0, 0, 0, 0, 0, 0,\n",
       "       0, 1, 1, 1, 1, 0, 0, 1, 0, 1, 1, 0, 1, 0, 0, 1, 0, 1, 0, 0, 0, 0,\n",
       "       0, 0, 0, 0, 0, 0, 0, 0, 0, 1, 0, 0, 1, 0, 0, 0, 0, 0, 1, 0, 0, 0,\n",
       "       0, 0, 1, 1, 1, 1, 1, 1, 1, 0, 0, 1, 0, 0, 1, 0, 0, 0, 0, 0, 0, 1,\n",
       "       1, 0, 1, 1, 0, 0, 1, 0, 1, 0, 1, 0, 0, 0, 0, 0, 1, 0, 1, 0, 1, 1,\n",
       "       0, 0, 1, 1, 0, 1, 0, 0, 0, 0, 1, 0, 0, 0, 0, 1, 0, 0, 1, 0, 1, 0,\n",
       "       1, 0, 1, 0, 1, 0, 0, 1, 0, 0, 0, 1, 0, 0, 0, 0, 0, 0, 1, 1, 1, 1,\n",
       "       0, 0, 0, 0, 1, 0, 1, 0, 1, 0, 1, 0, 0, 0, 0, 0, 1, 0, 0, 0, 1, 1,\n",
       "       0, 0, 0, 0, 0, 0, 0, 0, 1, 1, 0, 1, 0, 0, 0, 0, 0, 1, 1, 1, 1, 0,\n",
       "       0, 0, 0, 0, 0, 0, 0, 0, 0, 0, 1, 0, 0, 0, 0, 0, 0, 0, 1, 1, 0, 1,\n",
       "       0, 0, 0, 0, 0, 0, 1, 1, 0, 0, 0, 0, 0, 0, 0, 1, 1, 0, 1, 0, 0, 0,\n",
       "       1, 0, 0, 1, 0, 0, 0, 0, 0, 0, 0, 0, 0, 1, 0, 1, 0, 0, 0, 1, 1, 0,\n",
       "       0, 0, 1, 0, 1, 0, 0, 1, 0, 1, 1, 0, 1, 0, 0, 0, 1, 0, 0, 1, 0, 0,\n",
       "       1, 1, 0, 0, 0, 0, 0, 0, 0, 1, 0, 1, 0, 0, 0, 0, 0, 1, 0, 0, 0, 1,\n",
       "       0, 1, 0, 0, 1, 0, 1, 0, 0, 0, 0, 0, 1, 1, 1, 1, 0, 0, 1, 0, 0, 0])"
      ]
     },
     "execution_count": 119,
     "metadata": {},
     "output_type": "execute_result"
    }
   ],
   "source": [
    "submission_prediction = final_clf.predict(test)\n",
    "submission_prediction"
   ]
  },
  {
   "cell_type": "markdown",
   "id": "5269a117",
   "metadata": {},
   "source": [
    "# Prediction submission"
   ]
  },
  {
   "cell_type": "code",
   "execution_count": 120,
   "id": "f4f2c950",
   "metadata": {},
   "outputs": [
    {
     "data": {
      "text/html": [
       "<div><div id=489902b7-beb8-4db4-95c4-4d82f75b02b4 style=\"display:none; background-color:#9D6CFF; color:white; width:200px; height:30px; padding-left:5px; border-radius:4px; flex-direction:row; justify-content:space-around; align-items:center;\" onmouseover=\"this.style.backgroundColor='#BA9BF8'\" onmouseout=\"this.style.backgroundColor='#9D6CFF'\" onclick=\"window.commands?.execute('create-mitosheet-from-dataframe-output');\">See Full Dataframe in Mito</div> <script> if (window.commands.hasCommand('create-mitosheet-from-dataframe-output')) document.getElementById('489902b7-beb8-4db4-95c4-4d82f75b02b4').style.display = 'flex' </script> <table border=\"1\" class=\"dataframe\">\n",
       "  <thead>\n",
       "    <tr style=\"text-align: right;\">\n",
       "      <th></th>\n",
       "      <th>PassengerId</th>\n",
       "      <th>Survived</th>\n",
       "    </tr>\n",
       "  </thead>\n",
       "  <tbody>\n",
       "    <tr>\n",
       "      <th>0</th>\n",
       "      <td>892</td>\n",
       "      <td>0</td>\n",
       "    </tr>\n",
       "    <tr>\n",
       "      <th>1</th>\n",
       "      <td>893</td>\n",
       "      <td>0</td>\n",
       "    </tr>\n",
       "    <tr>\n",
       "      <th>2</th>\n",
       "      <td>894</td>\n",
       "      <td>0</td>\n",
       "    </tr>\n",
       "    <tr>\n",
       "      <th>3</th>\n",
       "      <td>895</td>\n",
       "      <td>0</td>\n",
       "    </tr>\n",
       "    <tr>\n",
       "      <th>4</th>\n",
       "      <td>896</td>\n",
       "      <td>0</td>\n",
       "    </tr>\n",
       "  </tbody>\n",
       "</table></div>"
      ],
      "text/plain": [
       "   PassengerId  Survived\n",
       "0          892         0\n",
       "1          893         0\n",
       "2          894         0\n",
       "3          895         0\n",
       "4          896         0"
      ]
     },
     "execution_count": 120,
     "metadata": {},
     "output_type": "execute_result"
    }
   ],
   "source": [
    "final_df = pd.DataFrame(id_column)\n",
    "final_df['Survived'] = submission_prediction\n",
    "final_df.head()"
   ]
  },
  {
   "cell_type": "code",
   "execution_count": 121,
   "id": "b5e70af6",
   "metadata": {},
   "outputs": [
    {
     "name": "stdout",
     "output_type": "stream",
     "text": [
      "<class 'pandas.core.frame.DataFrame'>\n",
      "RangeIndex: 418 entries, 0 to 417\n",
      "Data columns (total 2 columns):\n",
      " #   Column       Non-Null Count  Dtype\n",
      "---  ------       --------------  -----\n",
      " 0   PassengerId  418 non-null    int64\n",
      " 1   Survived     418 non-null    int64\n",
      "dtypes: int64(2)\n",
      "memory usage: 6.7 KB\n"
     ]
    }
   ],
   "source": [
    "final_df.info()"
   ]
  },
  {
   "cell_type": "code",
   "execution_count": 122,
   "id": "153829e2",
   "metadata": {},
   "outputs": [],
   "source": [
    "final_df.to_csv('submission.csv', index=False)"
   ]
  },
  {
   "cell_type": "code",
   "execution_count": null,
   "id": "b922bfc9",
   "metadata": {},
   "outputs": [],
   "source": []
  }
 ],
 "metadata": {
  "kernelspec": {
   "display_name": "Python 3",
   "language": "python",
   "name": "python3"
  },
  "language_info": {
   "codemirror_mode": {
    "name": "ipython",
    "version": 3
   },
   "file_extension": ".py",
   "mimetype": "text/x-python",
   "name": "python",
   "nbconvert_exporter": "python",
   "pygments_lexer": "ipython3",
   "version": "3.8.8"
  }
 },
 "nbformat": 4,
 "nbformat_minor": 5
}
