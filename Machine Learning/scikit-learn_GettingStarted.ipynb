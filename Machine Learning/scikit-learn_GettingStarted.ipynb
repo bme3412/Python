{
 "cells": [
  {
   "cell_type": "markdown",
   "id": "90ae9235",
   "metadata": {},
   "source": [
    "## Intro"
   ]
  },
  {
   "cell_type": "markdown",
   "id": "c774915d",
   "metadata": {},
   "source": [
    "+ Scikit-learn is an open source machine learning library that supports supervised and unsupervised learning. \n",
    "+ It also provides various tools for model fitting, data preprocessing, model selection, model evaluation, and many other utilities.\n"
   ]
  },
  {
   "cell_type": "markdown",
   "id": "e6aeeaa1",
   "metadata": {},
   "source": [
    "## Fitting and predicting: estimator basics"
   ]
  },
  {
   "cell_type": "markdown",
   "id": "f8d00378",
   "metadata": {},
   "source": [
    "+ Scikit-learn provides dozens of built-in machine learning algorithms and models, called estimators. \n",
    "+ Each estimator can be fitted to some data using its fit method.\n",
    "+ The fit method generally accepts 2 inputs:\n",
    "    + The samples matrix (or design matrix) X. The size of X is typically (n_samples, n_features), which means that samples are represented as rows and features are represented as columns\n",
    "    + The target values y which are real numbers for regression tasks, or integers for classification (or any other discrete set of values). \n",
    "    + Once the estimator is fitted, it can be used for predicting target values of new data. \n"
   ]
  },
  {
   "cell_type": "markdown",
   "id": "20929686",
   "metadata": {},
   "source": [
    "## Transformers and pre-processors"
   ]
  },
  {
   "cell_type": "markdown",
   "id": "f0657bee",
   "metadata": {},
   "source": [
    "+  typical pipeline consists of a pre-processing step that transforms or imputes the data, and a final predictor that predicts target values\n",
    "+ The transformer objects don’t have a predict method but rather a transform method that outputs a newly transformed sample matrix X"
   ]
  },
  {
   "cell_type": "markdown",
   "id": "dc99d446",
   "metadata": {},
   "source": [
    "## Pipelines: chaining pre-processors and estimators"
   ]
  },
  {
   "cell_type": "markdown",
   "id": "2f0d1f2f",
   "metadata": {},
   "source": [
    "+ Transformers and estimators (predictors) can be combined together into a single unifying object: a Pipeline. The pipeline offers the same API as a regular estimator: it can be fitted and used for prediction with fit and predict"
   ]
  },
  {
   "cell_type": "code",
   "execution_count": 8,
   "id": "190cb0aa",
   "metadata": {},
   "outputs": [],
   "source": [
    "from sklearn.preprocessing import StandardScaler\n",
    "from sklearn.linear_model import LogisticRegression\n",
    "from sklearn.pipeline import make_pipeline\n",
    "from sklearn.datasets import load_iris\n",
    "from sklearn.model_selection import train_test_split\n",
    "from sklearn.metrics import accuracy_score\n",
    "from sklearn.pipeline import Pipeline"
   ]
  },
  {
   "cell_type": "code",
   "execution_count": 9,
   "id": "12fd005a",
   "metadata": {},
   "outputs": [],
   "source": [
    "# create a pipeline object\n",
    "pipe = make_pipeline(StandardScaler(), LogisticRegression())\n"
   ]
  },
  {
   "cell_type": "code",
   "execution_count": 10,
   "id": "d64afafb",
   "metadata": {},
   "outputs": [],
   "source": [
    "# load the iris dataset and split it into train and test sets\n",
    "X, y = load_iris(return_X_y=True)\n",
    "X_train, X_test, y_train, y_test = train_test_split(X, y, random_state=0)"
   ]
  },
  {
   "cell_type": "code",
   "execution_count": 11,
   "id": "7d984434",
   "metadata": {},
   "outputs": [
    {
     "data": {
      "text/plain": [
       "0.9736842105263158"
      ]
     },
     "execution_count": 11,
     "metadata": {},
     "output_type": "execute_result"
    }
   ],
   "source": [
    "# fit the while pipeline\n",
    "pipe.fit(X_train, y_train)\n",
    "Pipeline(steps=[('standardscaler', StandardScaler()),\n",
    "                ('logisticregression', LogisticRegression())])\n",
    "# use it like any other estimator\n",
    "accuracy_score(pipe.predict(X_test), y_test)"
   ]
  },
  {
   "cell_type": "markdown",
   "id": "5ee8a92a",
   "metadata": {},
   "source": [
    "## Model evaluation\n",
    "+ We here briefly show how to perform a 5-fold cross-validation procedure, using the cross_validate helper"
   ]
  },
  {
   "cell_type": "code",
   "execution_count": 12,
   "id": "ea3ee85c",
   "metadata": {},
   "outputs": [
    {
     "data": {
      "text/plain": [
       "array([1., 1., 1., 1., 1.])"
      ]
     },
     "execution_count": 12,
     "metadata": {},
     "output_type": "execute_result"
    }
   ],
   "source": [
    "from sklearn.datasets import make_regression\n",
    "from sklearn.linear_model import LinearRegression\n",
    "from sklearn.model_selection import cross_validate\n",
    "\n",
    "X, y = make_regression(n_samples=1000, random_state=0)\n",
    "lr = LinearRegression()\n",
    "\n",
    "result = cross_validate(lr, X, y) # defaults to a 5-fold CV\n",
    "result['test_score'] # r_squared is higg, bc data is easy"
   ]
  },
  {
   "cell_type": "markdown",
   "id": "ea23b59a",
   "metadata": {},
   "source": [
    "## Automatic parameter searches"
   ]
  },
  {
   "cell_type": "markdown",
   "id": "848782e2",
   "metadata": {},
   "source": [
    "+ All estimators have parameters (often called hyper-parameters in the literature) that can be tuned\n",
    "+ Scikit-learn provides tools to automatically find the best parameter combinations (via cross-validation)"
   ]
  },
  {
   "cell_type": "code",
   "execution_count": 13,
   "id": "b7ed05cb",
   "metadata": {},
   "outputs": [],
   "source": [
    "from sklearn.datasets import fetch_california_housing\n",
    "from sklearn.ensemble import RandomForestRegressor\n",
    "from sklearn.model_selection import RandomizedSearchCV\n",
    "from sklearn.model_selection import train_test_split\n",
    "from scipy.stats import randint"
   ]
  },
  {
   "cell_type": "code",
   "execution_count": 14,
   "id": "56fc5f7a",
   "metadata": {},
   "outputs": [
    {
     "name": "stderr",
     "output_type": "stream",
     "text": [
      "Downloading Cal. housing from https://ndownloader.figshare.com/files/5976036 to /Users/brendan/scikit_learn_data\n"
     ]
    }
   ],
   "source": [
    "X, y = fetch_california_housing(return_X_y=True)\n",
    "X_train, X_test, y_train, y_test = train_test_split(X, y, random_state=0)\n"
   ]
  },
  {
   "cell_type": "code",
   "execution_count": 25,
   "id": "fdc1237f",
   "metadata": {},
   "outputs": [],
   "source": [
    "# define the parameter space that will be searched over\n",
    "param_distributions = {'n_estimators': randint(1,5),\n",
    "                      'max_depth': randint(5,10)}"
   ]
  },
  {
   "cell_type": "code",
   "execution_count": 26,
   "id": "d784b47a",
   "metadata": {},
   "outputs": [],
   "source": [
    "# now create a searhCV object and fit it to the data\n",
    "search = RandomizedSearchCV(estimator=RandomForestRegressor(random_state=0),\n",
    "                             n_iter=5,\n",
    "                             param_distributions=param_distributions,\n",
    "                             random_state=0)"
   ]
  },
  {
   "cell_type": "code",
   "execution_count": 28,
   "id": "8b082974",
   "metadata": {},
   "outputs": [
    {
     "data": {
      "text/plain": [
       "{'max_depth': 9, 'n_estimators': 4}"
      ]
     },
     "execution_count": 28,
     "metadata": {},
     "output_type": "execute_result"
    }
   ],
   "source": [
    "search.fit(X_train, y_train)\n",
    "RandomizedSearchCV(estimator=RandomForestRegressor(random_state=0), n_iter=5,\n",
    "                   param_distributions={'max_depth': 9,\n",
    "                                        'n_estimators': 4},\n",
    "                   random_state=0)\n",
    "search.best_params_"
   ]
  },
  {
   "cell_type": "code",
   "execution_count": 29,
   "id": "fb8bf96e",
   "metadata": {},
   "outputs": [
    {
     "data": {
      "text/plain": [
       "0.735363411343253"
      ]
     },
     "execution_count": 29,
     "metadata": {},
     "output_type": "execute_result"
    }
   ],
   "source": [
    "search.score(X_test, y_test)"
   ]
  },
  {
   "cell_type": "code",
   "execution_count": null,
   "id": "c6c2148f",
   "metadata": {},
   "outputs": [],
   "source": []
  }
 ],
 "metadata": {
  "kernelspec": {
   "display_name": "Python 3",
   "language": "python",
   "name": "python3"
  },
  "language_info": {
   "codemirror_mode": {
    "name": "ipython",
    "version": 3
   },
   "file_extension": ".py",
   "mimetype": "text/x-python",
   "name": "python",
   "nbconvert_exporter": "python",
   "pygments_lexer": "ipython3",
   "version": "3.8.8"
  }
 },
 "nbformat": 4,
 "nbformat_minor": 5
}
