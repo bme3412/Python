{
 "cells": [
  {
   "cell_type": "code",
   "execution_count": 1,
   "id": "cba0997f",
   "metadata": {},
   "outputs": [],
   "source": [
    "import requests\n",
    "\n",
    "import bs4 as bs\n",
    "import pandas as pd"
   ]
  },
  {
   "cell_type": "code",
   "execution_count": 2,
   "id": "b3c466f0",
   "metadata": {},
   "outputs": [],
   "source": [
    "\n",
    "pd.set_option('display.max_rows', 500)\n",
    "pd.set_option('display.max_columns', 500)\n",
    "pd.set_option('display.min_rows', 20)"
   ]
  },
  {
   "cell_type": "code",
   "execution_count": null,
   "id": "6417234d",
   "metadata": {},
   "outputs": [],
   "source": []
  },
  {
   "cell_type": "code",
   "execution_count": 3,
   "id": "1f1a6fa2",
   "metadata": {},
   "outputs": [
    {
     "ename": "NameError",
     "evalue": "name 'BeautifulSoup' is not defined",
     "output_type": "error",
     "traceback": [
      "\u001b[0;31m---------------------------------------------------------------------------\u001b[0m",
      "\u001b[0;31mNameError\u001b[0m                                 Traceback (most recent call last)",
      "\u001b[0;32m<ipython-input-3-b32648d7f17e>\u001b[0m in \u001b[0;36m<module>\u001b[0;34m\u001b[0m\n\u001b[1;32m      1\u001b[0m \u001b[0murl\u001b[0m \u001b[0;34m=\u001b[0m \u001b[0;34m'http://insideairbnb.com/get-the-data.html'\u001b[0m\u001b[0;34m\u001b[0m\u001b[0;34m\u001b[0m\u001b[0m\n\u001b[1;32m      2\u001b[0m \u001b[0mreqs\u001b[0m \u001b[0;34m=\u001b[0m \u001b[0mrequests\u001b[0m\u001b[0;34m.\u001b[0m\u001b[0mget\u001b[0m\u001b[0;34m(\u001b[0m\u001b[0murl\u001b[0m\u001b[0;34m)\u001b[0m\u001b[0;34m\u001b[0m\u001b[0;34m\u001b[0m\u001b[0m\n\u001b[0;32m----> 3\u001b[0;31m \u001b[0msoup\u001b[0m \u001b[0;34m=\u001b[0m \u001b[0mBeautifulSoup\u001b[0m\u001b[0;34m(\u001b[0m\u001b[0mreqs\u001b[0m\u001b[0;34m.\u001b[0m\u001b[0mtext\u001b[0m\u001b[0;34m,\u001b[0m \u001b[0;34m'lxml'\u001b[0m\u001b[0;34m)\u001b[0m\u001b[0;34m\u001b[0m\u001b[0;34m\u001b[0m\u001b[0m\n\u001b[0m\u001b[1;32m      4\u001b[0m \u001b[0mprint\u001b[0m\u001b[0;34m(\u001b[0m\u001b[0;34m\"List of all the h3 :\"\u001b[0m\u001b[0;34m)\u001b[0m\u001b[0;34m\u001b[0m\u001b[0;34m\u001b[0m\u001b[0m\n\u001b[1;32m      5\u001b[0m \u001b[0;32mfor\u001b[0m \u001b[0mheading\u001b[0m \u001b[0;32min\u001b[0m \u001b[0msoup\u001b[0m\u001b[0;34m.\u001b[0m\u001b[0mfind_all\u001b[0m\u001b[0;34m(\u001b[0m\u001b[0;34m[\u001b[0m\u001b[0;34m'h3'\u001b[0m\u001b[0;34m]\u001b[0m\u001b[0;34m)\u001b[0m\u001b[0;34m:\u001b[0m\u001b[0;34m\u001b[0m\u001b[0;34m\u001b[0m\u001b[0m\n",
      "\u001b[0;31mNameError\u001b[0m: name 'BeautifulSoup' is not defined"
     ]
    }
   ],
   "source": [
    "url = 'http://insideairbnb.com/get-the-data.html'\n",
    "reqs = requests.get(url)\n",
    "soup = BeautifulSoup(reqs.text, 'lxml')\n",
    "print(\"List of all the h3 :\")\n",
    "for heading in soup.find_all(['h3']):\n",
    "    print(heading.name + ' ' + heading.text.strip())"
   ]
  },
  {
   "cell_type": "code",
   "execution_count": null,
   "id": "ee027133",
   "metadata": {},
   "outputs": [],
   "source": [
    "international = ['Amsterdam, North Holland, The Netherlands', 'Antwerp, Flemish Region, Belgium',\n",
    "                'Athens, Attica, Greece','Bangkok, Central Thailand, Thailand','Barcelona, Catalonia, Spain',\n",
    "                'Barossa Valley, South Australia, Australia','Barwon South West, Vic, Victoria, Australia',\n",
    "                'Beijing, Beijing, China','Belize, Belize, Belize','Bergamo, Lombardia, Italy','Berlin, Berlin, Germany',\n",
    "                'Bologna, Emilia-Romagna, Italy','Bordeaux, Nouvelle-Aquitaine, France','Bristol, England, United Kingdom',\n",
    "                'Brussels, Brussels, Belgium','Buenos Aires, Ciudad AutÃ³noma de Buenos Aires, Argentina',\n",
    "                'Cape Town, Western Cape, South Africa','Copenhagen, Hovedstaden, Denmark','Crete, Crete, Greece',\n",
    "                'Dublin, Leinster, Ireland','Edinburgh, Scotland, United Kingdom','Euskadi, Euskadi, Spain',\n",
    "                'Florence, Toscana, Italy','Gauteng, Gauteng, South Africa','Geneva, Geneva, Switzerland',\n",
    "                'Ghent, Flemish Region, Belgium','Girona, Catalonia, Spain','Greater Manchester, England, United Kingdom',\n",
    "                'Hong Kong, Hong Kong, China','Istanbul, Marmara, Turkey','Lisbon, Lisbon, Portugal','London, England, United Kingdom',\n",
    "                'Lyon, Auvergne-Rhone-Alpes, France','Madrid, Comunidad de Madrid, Spain','Mallorca, Islas Baleares, Spain',\n",
    "                'Melbourne, Victoria, Australia', 'Menorca, Islas Baleares, Spain','Mexico City, Distrito Federal, Mexico',\n",
    "                'Milan, Lombardy, Italy','Munich, Bavaria, Germany', 'Northern Rivers, New South Wales, Australia',\n",
    "                'Oslo, Oslo, Norway', 'Ottawa, Ontario, Canada','Paris, Ãle-de-France, France','Porto, Norte, Portugal',\n",
    "                'Prague, Prague, Czech Republic','Puglia, Puglia, Italy','Riga, Riga, Latvia','Rio de Janeiro, Rio de Janeiro, Brazil',\n",
    "                'Rome, Lazio, Italy','Sevilla, AndalucÃ­a, Spain','Shanghai, Shanghai, China','Sicily, Sicilia, Italy',\n",
    "                'Singapore, Singapore, Singapore','South Aegean, South Aegean, Greece','Stockholm, Stockholms lÃ¤n, Sweden',\n",
    "                'Sydney, New South Wales, Australia', 'Taipei, Northern Taiwan, Taiwan','Tasmania, Tasmania, Australia',\n",
    "                'Thessaloniki, Central Macedonia, Greece','Tokyo, KantÅ, Japan', 'Trentino, Trentino-Alto Adige/SÃ¼dtirol, Italy',\n",
    "                'Valencia, Valencia, Spain', 'Vaud, Vaud, Switzerland', 'Venice, Veneto, Italy','Vienna, Vienna, Austria',\n",
    "                'Western Australia, Western Australia, Australia', 'Zurich, ZÃ¼rich, Switzerland']\n",
    "type(international), len(international)"
   ]
  },
  {
   "cell_type": "code",
   "execution_count": null,
   "id": "59062c21",
   "metadata": {},
   "outputs": [],
   "source": [
    "city_list = pd.DataFrame(international, columns=['City'])\n",
    "city_list"
   ]
  },
  {
   "cell_type": "code",
   "execution_count": null,
   "id": "0668201f",
   "metadata": {},
   "outputs": [],
   "source": []
  },
  {
   "cell_type": "code",
   "execution_count": null,
   "id": "150c8fd1",
   "metadata": {},
   "outputs": [],
   "source": []
  },
  {
   "cell_type": "code",
   "execution_count": null,
   "id": "98ba2629",
   "metadata": {},
   "outputs": [],
   "source": [
    "soup = BeautifulSoup(requests.get(url).content, \"html.parser\")\n"
   ]
  },
  {
   "cell_type": "code",
   "execution_count": null,
   "id": "63621de5",
   "metadata": {},
   "outputs": [],
   "source": [
    "table = soup.find('table')\n",
    "table_rows = table.find('a')\n",
    "dfs = pd.read_html(str(table))[:]\n",
    "\n",
    "df_raw = pd.concat(dfs)\n",
    "df_raw"
   ]
  },
  {
   "cell_type": "code",
   "execution_count": null,
   "id": "363758b6",
   "metadata": {},
   "outputs": [],
   "source": [
    "# Verifying tables and their classes\n",
    "print('Classes of each table:')\n",
    "for table in soup.find_all('table'):\n",
    "    print(table.get('class'))\n"
   ]
  },
  {
   "cell_type": "code",
   "execution_count": null,
   "id": "5c58a918",
   "metadata": {},
   "outputs": [],
   "source": [
    "print(\"List of all the a :\")\n",
    "for heading in soup.find_all(['a']):\n",
    "    print(heading.name + ' ' + heading.text.strip())"
   ]
  },
  {
   "cell_type": "code",
   "execution_count": null,
   "id": "4c7072d1",
   "metadata": {},
   "outputs": [],
   "source": [
    "for a in soup.find_all('a', href=True):\n",
    "    print(\"Link\", a['href'])"
   ]
  },
  {
   "cell_type": "code",
   "execution_count": null,
   "id": "3944826c",
   "metadata": {},
   "outputs": [],
   "source": [
    "table = soup.find_all('table')\n",
    "df3 = pd.read_html(str(table))\n",
    "df3_raw = pd.DataFrame([df3])\n"
   ]
  },
  {
   "cell_type": "code",
   "execution_count": null,
   "id": "ea5f1354",
   "metadata": {},
   "outputs": [],
   "source": [
    "df3_raw.tail()"
   ]
  },
  {
   "cell_type": "code",
   "execution_count": null,
   "id": "e8e0aa27",
   "metadata": {},
   "outputs": [],
   "source": [
    "href_tags = soup.find_all(href=True)\n",
    "href_tags"
   ]
  },
  {
   "cell_type": "code",
   "execution_count": null,
   "id": "6cdab2b9",
   "metadata": {},
   "outputs": [],
   "source": [
    "soup.find('a', {'class': \"\"})['href']"
   ]
  },
  {
   "cell_type": "code",
   "execution_count": null,
   "id": "81795019",
   "metadata": {},
   "outputs": [],
   "source": [
    "for a in soup.find_all('a', href=True):\n",
    "    print(\"Link: \", a['href'])"
   ]
  },
  {
   "cell_type": "code",
   "execution_count": null,
   "id": "2920179c",
   "metadata": {},
   "outputs": [],
   "source": []
  },
  {
   "cell_type": "code",
   "execution_count": null,
   "id": "929ee428",
   "metadata": {},
   "outputs": [],
   "source": [
    "project_href = [i['href'] for i in soup.find_all('a', href=True)]\n",
    "print(project_href)"
   ]
  },
  {
   "cell_type": "code",
   "execution_count": null,
   "id": "7fa28fbc",
   "metadata": {},
   "outputs": [],
   "source": []
  },
  {
   "cell_type": "code",
   "execution_count": null,
   "id": "10ee3e66",
   "metadata": {},
   "outputs": [],
   "source": [
    "table_rows"
   ]
  },
  {
   "cell_type": "code",
   "execution_count": null,
   "id": "b1f2245c",
   "metadata": {},
   "outputs": [],
   "source": [
    "type(df)"
   ]
  },
  {
   "cell_type": "code",
   "execution_count": null,
   "id": "a2c50f3f",
   "metadata": {},
   "outputs": [],
   "source": [
    "df_raw.shape\n"
   ]
  },
  {
   "cell_type": "code",
   "execution_count": null,
   "id": "2a90b337",
   "metadata": {},
   "outputs": [],
   "source": [
    "df_raw.head()"
   ]
  },
  {
   "cell_type": "markdown",
   "id": "a704ca1a",
   "metadata": {},
   "source": [
    "## Find all cities"
   ]
  },
  {
   "cell_type": "code",
   "execution_count": null,
   "id": "68fe88e7",
   "metadata": {},
   "outputs": [],
   "source": [
    "df_raw['Country/City'].unique()"
   ]
  },
  {
   "cell_type": "code",
   "execution_count": null,
   "id": "204cf4c5",
   "metadata": {},
   "outputs": [],
   "source": [
    "df_raw['Country/City'].nunique()"
   ]
  },
  {
   "cell_type": "code",
   "execution_count": null,
   "id": "f789d484",
   "metadata": {},
   "outputs": [],
   "source": [
    "df = df_raw[df_raw['Date Compiled'].notna()]\n",
    "df.shape"
   ]
  },
  {
   "cell_type": "code",
   "execution_count": null,
   "id": "be035a39",
   "metadata": {},
   "outputs": [],
   "source": [
    "df[df['File Name']=='listings.csv.gz']"
   ]
  },
  {
   "cell_type": "code",
   "execution_count": null,
   "id": "45d81569",
   "metadata": {},
   "outputs": [],
   "source": [
    "df_listings = df.drop_duplicates(subset=['Country/City'])\n",
    "df_listings"
   ]
  },
  {
   "cell_type": "markdown",
   "id": "4e2d14bd",
   "metadata": {},
   "source": [
    "## Version 2"
   ]
  },
  {
   "cell_type": "code",
   "execution_count": null,
   "id": "f2da4d24",
   "metadata": {},
   "outputs": [],
   "source": [
    "url = 'http://insideairbnb.com/get-the-data.html'\n",
    "reqs = requests.get(url)\n",
    "soup = BeautifulSoup(reqs.text, 'lxml')\n",
    "table = soup.find('table')\n",
    "df2 = pd.read_html(table.prettify())\n",
    "df2"
   ]
  },
  {
   "cell_type": "code",
   "execution_count": null,
   "id": "4907a11b",
   "metadata": {},
   "outputs": [],
   "source": [
    "urls = [x['href'] for x in soup.select(\"td>a\")]\n",
    "urls"
   ]
  },
  {
   "cell_type": "code",
   "execution_count": null,
   "id": "cc30b25d",
   "metadata": {},
   "outputs": [],
   "source": [
    "type(urls), len(urls)"
   ]
  },
  {
   "cell_type": "code",
   "execution_count": null,
   "id": "cc5287c8",
   "metadata": {},
   "outputs": [],
   "source": [
    "table = soup.find('table')\n",
    "table_rows = table.find('a')\n",
    "dfs = pd.read_html(str(table))[:]\n",
    "\n",
    "df_raw = pd.concat(dfs)\n",
    "df_raw"
   ]
  },
  {
   "cell_type": "code",
   "execution_count": null,
   "id": "1765b6fc",
   "metadata": {},
   "outputs": [],
   "source": [
    "url2 = 'http://insideairbnb.com/get-the-data.html'\n",
    "reqs2 = requests.get(url2)\n",
    "soup2 = BeautifulSoup(reqs2.text, 'lxml')\n",
    "res = []\n",
    "for i in soup2.find_all('tr', {\"class\":\"\"}):\n",
    "    res.append(i)\n",
    "res"
   ]
  },
  {
   "cell_type": "code",
   "execution_count": null,
   "id": "bb0977f2",
   "metadata": {},
   "outputs": [],
   "source": []
  }
 ],
 "metadata": {
  "kernelspec": {
   "display_name": "Python 3",
   "language": "python",
   "name": "python3"
  },
  "language_info": {
   "codemirror_mode": {
    "name": "ipython",
    "version": 3
   },
   "file_extension": ".py",
   "mimetype": "text/x-python",
   "name": "python",
   "nbconvert_exporter": "python",
   "pygments_lexer": "ipython3",
   "version": "3.8.8"
  }
 },
 "nbformat": 4,
 "nbformat_minor": 5
}
