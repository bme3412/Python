{
 "cells": [
  {
   "cell_type": "code",
   "execution_count": 198,
   "id": "939e4b34",
   "metadata": {},
   "outputs": [],
   "source": [
    "import pandas as pd\n",
    "import numpy as np\n",
    "import matplotlib.pyplot as plt\n",
    "import matplotlib\n",
    "plt.style.use('fivethirtyeight')\n",
    "%matplotlib inline\n",
    "import seaborn as sns\n",
    "import warnings\n",
    "warnings.filterwarnings('ignore')\n",
    "from bs4 import BeautifulSoup as bs\n",
    "import requests\n",
    "import os\n",
    "import re\n",
    "import glob\n",
    "\n",
    "from datetime import datetime\n",
    "import dataframe_image as dfi\n",
    "from statsmodels.tsa.seasonal import seasonal_decompose\n",
    "import time\n",
    "\n",
    "from sklearn.preprocessing import StandardScaler, MinMaxScaler\n",
    "from sklearn.model_selection import train_test_split, cross_val_score\n",
    "from sklearn.model_selection import train_test_split, cross_val_score\n",
    "from sklearn.linear_model import LinearRegression\n",
    "from sklearn.metrics import explained_variance_score, mean_squared_error, r2_score"
   ]
  },
  {
   "cell_type": "markdown",
   "id": "f1ee7437",
   "metadata": {},
   "source": [
    "## Amsterdam"
   ]
  },
  {
   "cell_type": "code",
   "execution_count": 199,
   "id": "039aba17",
   "metadata": {},
   "outputs": [
    {
     "name": "stdout",
     "output_type": "stream",
     "text": [
      "The 12_12_2020 dataset contains 18522 AirBnb listings; the avg price is €154.0.\n",
      "The 1_9_2021 dataset contains 18395 AirBnb listings; the avg price is €152.58.\n",
      "The 2_8_2021 dataset contains 18291 AirBnb listings; the avg price is €153.06.\n",
      "The 3_4_2021 dataset contains 18201 AirBnb listings; the avg price is €153.72.\n",
      "The 4_9_2021 dataset contains 17825 AirBnb listings; the avg price is €154.5.\n",
      "The 6_3_2021 dataset contains 16973 AirBnb listings; the avg price is €154.17.\n",
      "The 7_4_2021 dataset contains 16724 AirBnb listings; the avg price is €156.16.\n",
      "The 8_6_2021 dataset contains 16478 AirBnb listings; the avg price is €156.87.\n",
      "The 9_7_2021 dataset contains 16116 AirBnb listings; the avg price is €156.91.\n",
      "The 10_6_2021 dataset contains 5389 AirBnb listings; the avg price is €166.99.\n"
     ]
    }
   ],
   "source": [
    "# create individual dataframes for each file\n",
    "# summarize each file (# of listings; avg price in euro)\n",
    "\n",
    "amsterdam_raw_df_12_12_2020 = pd.read_csv('/Users/brendan/Desktop/Python/Hustle Projects/Airbnb/data4/raw-data/amsterdam/amsterdam_2020-12.csv')\n",
    "amsterdam_raw_df_12_12_2020['Month']='12/12/2020' \n",
    "print(f\"The 12_12_2020 dataset contains {len(amsterdam_raw_df_12_12_2020)} AirBnb listings; the avg price is €{round(amsterdam_raw_df_12_12_2020['price'].mean(),2)}.\")\n",
    "\n",
    "\n",
    "amsterdam_raw_df_1_9_2021 = pd.read_csv('/Users/brendan/Desktop/Python/Hustle Projects/Airbnb/data4/raw-data/amsterdam/amsterdam_2021-01.csv')\n",
    "amsterdam_raw_df_1_9_2021['Month']='1/9/2021' \n",
    "print(f\"The 1_9_2021 dataset contains {len(amsterdam_raw_df_1_9_2021)} AirBnb listings; the avg price is €{round(amsterdam_raw_df_1_9_2021['price'].mean(),2)}.\")\n",
    "\n",
    "amsterdam_raw_df_2_8_2021 = pd.read_csv('/Users/brendan/Desktop/Python/Hustle Projects/Airbnb/data4/raw-data/amsterdam/amsterdam_2021-02.csv')\n",
    "amsterdam_raw_df_2_8_2021['Month']='2/8/2021' \n",
    "print(f\"The 2_8_2021 dataset contains {len(amsterdam_raw_df_2_8_2021)} AirBnb listings; the avg price is €{round(amsterdam_raw_df_2_8_2021['price'].mean(),2)}.\")\n",
    "\n",
    "amsterdam_raw_df_3_4_2021 = pd.read_csv('/Users/brendan/Desktop/Python/Hustle Projects/Airbnb/data4/raw-data/amsterdam/amsterdam_2021-03.csv')\n",
    "amsterdam_raw_df_3_4_2021['Month']='3/4/2021' \n",
    "print(f\"The 3_4_2021 dataset contains {len(amsterdam_raw_df_3_4_2021)} AirBnb listings; the avg price is €{round(amsterdam_raw_df_3_4_2021['price'].mean(),2)}.\")\n",
    "\n",
    "amsterdam_raw_df_4_9_2021 = pd.read_csv('/Users/brendan/Desktop/Python/Hustle Projects/Airbnb/data4/raw-data/amsterdam/amsterdam_2021-04.csv')\n",
    "amsterdam_raw_df_4_9_2021['Month']='4/9/2021'\n",
    "print(f\"The 4_9_2021 dataset contains {len(amsterdam_raw_df_4_9_2021)} AirBnb listings; the avg price is €{round(amsterdam_raw_df_4_9_2021['price'].mean(),2)}.\")\n",
    "\n",
    "#amsterdam_raw_df_5_19_2021 = pd.read_csv('/Users/brendan/Desktop/Python/Hustle Projects/Airbnb/data4/raw-data/amsterdam/amsterdam_2021-05.csv')\n",
    "#print(f\"The 5_19_2021 dataset contains {len(amsterdam_raw_df_5_19_2021)} AirBnb listings; the avg price is €{round(amsterdam_raw_df_5_19_2021['price'].mean(),2)}.\")\n",
    "\n",
    "amsterdam_raw_df_6_3_2021 = pd.read_csv('/Users/brendan/Desktop/Python/Hustle Projects/Airbnb/data4/raw-data/amsterdam/amsterdam_2021-06.csv')\n",
    "amsterdam_raw_df_6_3_2021['Month']='6/3/2021'\n",
    "print(f\"The 6_3_2021 dataset contains {len(amsterdam_raw_df_6_3_2021)} AirBnb listings; the avg price is €{round(amsterdam_raw_df_6_3_2021['price'].mean(),2)}.\")\n",
    "\n",
    "amsterdam_raw_df_7_4_2021 = pd.read_csv('/Users/brendan/Desktop/Python/Hustle Projects/Airbnb/data4/raw-data/amsterdam/amsterdam_2021-07.csv')\n",
    "amsterdam_raw_df_7_4_2021['Month']='7/4/2021'\n",
    "print(f\"The 7_4_2021 dataset contains {len(amsterdam_raw_df_7_4_2021)} AirBnb listings; the avg price is €{round(amsterdam_raw_df_7_4_2021['price'].mean(),2)}.\")\n",
    "\n",
    "amsterdam_raw_df_8_6_2021 = pd.read_csv('/Users/brendan/Desktop/Python/Hustle Projects/Airbnb/data4/raw-data/amsterdam/amsterdam_2021-08.csv')\n",
    "amsterdam_raw_df_8_6_2021['Month']='8/6/2021'\n",
    "print(f\"The 8_6_2021 dataset contains {len(amsterdam_raw_df_8_6_2021)} AirBnb listings; the avg price is €{round(amsterdam_raw_df_8_6_2021['price'].mean(),2)}.\")\n",
    "\n",
    "amsterdam_raw_df_9_7_2021 = pd.read_csv('/Users/brendan/Desktop/Python/Hustle Projects/Airbnb/data4/raw-data/amsterdam/amsterdam_2021-09.csv')\n",
    "amsterdam_raw_df_9_7_2021['Month']='9/7/2021'\n",
    "print(f\"The 9_7_2021 dataset contains {len(amsterdam_raw_df_9_7_2021)} AirBnb listings; the avg price is €{round(amsterdam_raw_df_9_7_2021['price'].mean(),2)}.\")\n",
    "\n",
    "amsterdam_raw_df_10_6_2021 = pd.read_csv('/Users/brendan/Desktop/Python/Hustle Projects/Airbnb/data4/raw-data/amsterdam/amsterdam_2021-10.csv')\n",
    "amsterdam_raw_df_10_6_2021['Month']='10/6/2021'\n",
    "print(f\"The 10_6_2021 dataset contains {len(amsterdam_raw_df_10_6_2021)} AirBnb listings; the avg price is €{round(amsterdam_raw_df_10_6_2021['price'].mean(),2)}.\")"
   ]
  },
  {
   "cell_type": "code",
   "execution_count": 200,
   "id": "6d44e36f",
   "metadata": {},
   "outputs": [
    {
     "data": {
      "text/html": [
       "<div><div id=8f0b428a-3789-46d9-9361-da8d520b7bf9 style=\"display:none; background-color:#9D6CFF; color:white; width:200px; height:30px; padding-left:5px; border-radius:4px; flex-direction:row; justify-content:space-around; align-items:center;\" onmouseover=\"this.style.backgroundColor='#BA9BF8'\" onmouseout=\"this.style.backgroundColor='#9D6CFF'\" onclick=\"window.commands?.execute('create-mitosheet-from-dataframe-output');\">See Full Dataframe in Mito</div> <script> if (window.commands.hasCommand('create-mitosheet-from-dataframe-output')) document.getElementById('8f0b428a-3789-46d9-9361-da8d520b7bf9').style.display = 'flex' </script> <table border=\"1\" class=\"dataframe\">\n",
       "  <thead>\n",
       "    <tr style=\"text-align: right;\">\n",
       "      <th></th>\n",
       "      <th>id</th>\n",
       "      <th>listing_url</th>\n",
       "      <th>scrape_id</th>\n",
       "      <th>last_scraped</th>\n",
       "      <th>name</th>\n",
       "      <th>description</th>\n",
       "      <th>neighborhood_overview</th>\n",
       "      <th>picture_url</th>\n",
       "      <th>host_id</th>\n",
       "      <th>host_url</th>\n",
       "      <th>...</th>\n",
       "      <th>review_scores_communication</th>\n",
       "      <th>review_scores_location</th>\n",
       "      <th>review_scores_value</th>\n",
       "      <th>license</th>\n",
       "      <th>instant_bookable</th>\n",
       "      <th>calculated_host_listings_count</th>\n",
       "      <th>calculated_host_listings_count_entire_homes</th>\n",
       "      <th>calculated_host_listings_count_private_rooms</th>\n",
       "      <th>calculated_host_listings_count_shared_rooms</th>\n",
       "      <th>reviews_per_month</th>\n",
       "    </tr>\n",
       "  </thead>\n",
       "  <tbody>\n",
       "    <tr>\n",
       "      <th>0</th>\n",
       "      <td>2818</td>\n",
       "      <td>https://www.airbnb.com/rooms/2818</td>\n",
       "      <td>20211104024252</td>\n",
       "      <td>2021-11-04</td>\n",
       "      <td>Quiet Garden View Room &amp; Super Fast WiFi</td>\n",
       "      <td>Quiet Garden View Room &amp; Super Fast WiFi&lt;br /&gt;&lt;br /&gt;&lt;b&gt;The space&lt;/b&gt;&lt;br /&gt;I'm renting a bedroom (room overlooking the garden) in my apartment in Amsterdam, &lt;br /&gt;&lt;br /&gt;The room is located to the east of the city centre in a quiet, typical Amsterdam neighbourhood the \"Indische Buurt\". Amsterdam’s historic centre is less than 15 minutes away by bike or tram.&lt;br /&gt;&lt;br /&gt;&lt;br /&gt;The features of the room are:&lt;br /&gt;&lt;br /&gt;- Twin beds (80 x 200 cm, down quilts and pillows) &lt;br /&gt;- 2 pure cotton towels for each guest &lt;br /&gt;- reading lamps&lt;br /&gt;- bedside table&lt;br /&gt;- wardrobe&lt;br /&gt;- table with chairs&lt;br /&gt;- tea and coffee making facilities&lt;br /&gt;- mini bar&lt;br /&gt;- alarm clock&lt;br /&gt;- Hi-Fi system with cd player, connection for mp3 player / phone&lt;br /&gt;- map of Amsterdam and public transport&lt;br /&gt;- Wi-Fi Internet connection &lt;br /&gt;&lt;br /&gt;Extra services:&lt;br /&gt;&lt;br /&gt;- Bike rental&lt;br /&gt;&lt;br /&gt;&lt;b&gt;License number&lt;/b&gt;&lt;br /&gt;0363 5F3A 5684 6750 D14D</td>\n",
       "      <td>Indische Buurt (\"Indies Neighborhood\") is a neighbourhood in the eastern portion of the city of Amsterdam, in the Dutch province of Noord-Holland. The name dates from the early 20th century and is derived from the fact that the neighbourhood's streets are named after islands and other geographical concepts in the former Dutch colony of the Dutch East Indies. The first street was named in 1902. In 2003, there were around 23,357 inhabitants. The neighbourhood is bounded on the west by the railroad Amsterdam - Hilversum (with the Muiderpoort Station), on the east side by Flevopark, on the north side by Zeeburgerdijk and on the south side by the Ringvaart Watergraafsmeer. Indische Buurt is the oldest part of the Zeeburg district and is very ethnically diverse, and a high percentage of the population is of immigrant origin (for Zeeburg this is already high at 55%, but higher in the Indische Buurt) and there are an estimated 100 languages spoken.</td>\n",
       "      <td>https://a0.muscache.com/pictures/10272854/8dcca016_original.jpg</td>\n",
       "      <td>3159</td>\n",
       "      <td>https://www.airbnb.com/users/show/3159</td>\n",
       "      <td>...</td>\n",
       "      <td>4.98</td>\n",
       "      <td>4.68</td>\n",
       "      <td>4.81</td>\n",
       "      <td>0363 5F3A 5684 6750 D14D</td>\n",
       "      <td>t</td>\n",
       "      <td>1</td>\n",
       "      <td>0</td>\n",
       "      <td>1</td>\n",
       "      <td>0</td>\n",
       "      <td>2.83</td>\n",
       "    </tr>\n",
       "    <tr>\n",
       "      <th>1</th>\n",
       "      <td>20168</td>\n",
       "      <td>https://www.airbnb.com/rooms/20168</td>\n",
       "      <td>20211104024252</td>\n",
       "      <td>2021-11-04</td>\n",
       "      <td>Studio with private bathroom in the centre 1</td>\n",
       "      <td>17th century Dutch townhouse in the heart of the city. no public transport needed! Located a stones throw from Rembrandt Square, Dam Square, Leidse Square and Flower Market. Walking distance from Central Station.&lt;br /&gt;Comfortable, cosy, lockable studio with comfortable bed and with private bathroom, double glazed windows and night blackout curtains, flat screen TV and mini fridge, Wi-Fi. No bathtub only shower. No kitchen. No curfew. You feel 100% privacy. Maximum for 2 persons!&lt;br /&gt;&lt;br /&gt;&lt;b&gt;The space&lt;/b&gt;&lt;br /&gt;For those who like all facets of city life. In the streets surrounding the house, there are lots of antique shops, and for those who are into browsing for antiques. The Rijksmuseum is a short walk away. The famous nine-streets with all its little boutique shops, cafes, restaurants and whatnot is also around the corner. The Dam Square, Leidse Square and Rembrandt Squarejust minutes to walk.&lt;br /&gt;No Curfew and you feel 100% privacy. &lt;br /&gt;Hair dryer, towels and linens are included</td>\n",
       "      <td>Located just in between famous central canals. In the streets surrounding the house, there are lots of antique shops, and for those who are into browsing for antiques. The Rijksmuseum is a short walk away. The famous nine-streets with all its little boutique shops, cafes, restaurants and whatnot is also around the corner. The Dam Square, Leidse Square and Rembrandt Squarejust minutes to walk.&lt;br /&gt;No Curfew and you feel 100% privacy. &lt;br /&gt;Hair dryer, towels and linens are included. No kitchen.&lt;br /&gt;Airport pick-up is possible at extra charge (ask for it)</td>\n",
       "      <td>https://a0.muscache.com/pictures/69979628/fd6a3a80_original.jpg</td>\n",
       "      <td>59484</td>\n",
       "      <td>https://www.airbnb.com/users/show/59484</td>\n",
       "      <td>...</td>\n",
       "      <td>4.62</td>\n",
       "      <td>4.87</td>\n",
       "      <td>4.49</td>\n",
       "      <td>0363 CBB3 2C10 0C2A 1E29</td>\n",
       "      <td>t</td>\n",
       "      <td>2</td>\n",
       "      <td>0</td>\n",
       "      <td>2</td>\n",
       "      <td>0</td>\n",
       "      <td>3.57</td>\n",
       "    </tr>\n",
       "    <tr>\n",
       "      <th>2</th>\n",
       "      <td>27886</td>\n",
       "      <td>https://www.airbnb.com/rooms/27886</td>\n",
       "      <td>20211104024252</td>\n",
       "      <td>2021-11-04</td>\n",
       "      <td>Romantic, stylish B&amp;B houseboat in canal district</td>\n",
       "      <td>Stylish and romantic houseboat on fantastic historic location with breathtaking view.  Wheelhouse, deckhouse and captains room. Central, quiet. Great breakfast, 2 vanMoof design bikes and a Canadian Canoe are included. Just read the reviews on tripadvisor for instance!&lt;br /&gt;&lt;br /&gt;&lt;b&gt;The space&lt;/b&gt;&lt;br /&gt;For a romantic couple: A beautifully restored traditional dutch barge, M.s. Luctor, with all modern comforts, your own entrance, three rooms,(sleeping room, deckhouse and wheelhouse) with two bikes and a Canadian canoe to explore the city. Have your breakfast weather permitting on the large jetty. (You  might want to give a piece of your fresh fruit to our Greek turtle...) Organic products, a variety of cheese, fresh orange juice and croisants... We are member of green-hotels (ECEAT) and care for the environment. (We just installed solar pannels! A lot of questions can be answered on our own site, there is a button with Frequently Asked Questions.) &lt;br /&gt;The location is superb, fantastic</td>\n",
       "      <td>Central, quiet, safe, clean and beautiful.</td>\n",
       "      <td>https://a0.muscache.com/pictures/02c2da9d-660e-451d-8a51-2f7a17469df7.jpg</td>\n",
       "      <td>97647</td>\n",
       "      <td>https://www.airbnb.com/users/show/97647</td>\n",
       "      <td>...</td>\n",
       "      <td>4.92</td>\n",
       "      <td>4.90</td>\n",
       "      <td>4.80</td>\n",
       "      <td>0363 974D 4986 7411 88D8</td>\n",
       "      <td>t</td>\n",
       "      <td>1</td>\n",
       "      <td>0</td>\n",
       "      <td>1</td>\n",
       "      <td>0</td>\n",
       "      <td>2.13</td>\n",
       "    </tr>\n",
       "    <tr>\n",
       "      <th>3</th>\n",
       "      <td>28871</td>\n",
       "      <td>https://www.airbnb.com/rooms/28871</td>\n",
       "      <td>20211104024252</td>\n",
       "      <td>2021-11-04</td>\n",
       "      <td>Comfortable double room</td>\n",
       "      <td>&lt;b&gt;The space&lt;/b&gt;&lt;br /&gt;In a monumental house right in the center of Amsterdam, we offer two rooms (one single room and one double room) to visitors who want to enjoy the comfort of a home-like accommodation, plus being in the middle of the historic city center, close to all important museums, shopping streets, restaurants, bars and clubs. Both rooms share a bathroom,  access to free wifi internet.&lt;br /&gt;&lt;br /&gt;We are situated in the middle of the most important nightlife area of Amsterdam, which makes it a very vibrant place, but also a noisy place.&lt;br /&gt;&lt;br /&gt;&lt;b&gt;Other things to note&lt;/b&gt;&lt;br /&gt;Washing and drying are for a flat fee of €10&lt;br /&gt;&lt;br /&gt;&lt;b&gt;License number&lt;/b&gt;&lt;br /&gt;0363 607B EA74 0BD8 2F6F</td>\n",
       "      <td>Flower market , Leidseplein , Rembrantsplein</td>\n",
       "      <td>https://a0.muscache.com/pictures/160889/362340f7_original.jpg</td>\n",
       "      <td>124245</td>\n",
       "      <td>https://www.airbnb.com/users/show/124245</td>\n",
       "      <td>...</td>\n",
       "      <td>4.94</td>\n",
       "      <td>4.97</td>\n",
       "      <td>4.82</td>\n",
       "      <td>0363 607B EA74 0BD8 2F6F</td>\n",
       "      <td>f</td>\n",
       "      <td>2</td>\n",
       "      <td>0</td>\n",
       "      <td>2</td>\n",
       "      <td>0</td>\n",
       "      <td>4.62</td>\n",
       "    </tr>\n",
       "    <tr>\n",
       "      <th>4</th>\n",
       "      <td>29051</td>\n",
       "      <td>https://www.airbnb.com/rooms/29051</td>\n",
       "      <td>20211104024252</td>\n",
       "      <td>2021-11-04</td>\n",
       "      <td>Comfortable single room</td>\n",
       "      <td>This room can also accomodate 2 people.  For an extra of €15&lt;br /&gt;&lt;br /&gt;&lt;b&gt;The space&lt;/b&gt;&lt;br /&gt;In a monumental house right in the center of Amsterdam, we offer two rooms (one single room and one double room) to visitors who want to enjoy the comfort of a home-like accommodation, plus being in the middle of the historic city center, close to all important museums, shopping streets, restaurants, bars and clubs. Both rooms share a bathroom, and access to free wifi internet. &lt;br /&gt; &lt;br /&gt;We are situated in the middle of the most important nightlife area of Amsterdam, which makes it a very vibrant place, but also a noisy place.&lt;br /&gt;&lt;br /&gt;&lt;b&gt;Other things to note&lt;/b&gt;&lt;br /&gt;No smoking and no sleepovers pls&lt;br /&gt;&lt;br /&gt;Washing and drying is for a flat fee of €10&lt;br /&gt;&lt;br /&gt;&lt;b&gt;License number&lt;/b&gt;&lt;br /&gt;0363 607B EA74 0BD8 2F6F</td>\n",
       "      <td>the street is quite lively especially on weekends when the weather is good</td>\n",
       "      <td>https://a0.muscache.com/pictures/162009/bd6be2f8_original.jpg</td>\n",
       "      <td>124245</td>\n",
       "      <td>https://www.airbnb.com/users/show/124245</td>\n",
       "      <td>...</td>\n",
       "      <td>4.90</td>\n",
       "      <td>4.86</td>\n",
       "      <td>4.75</td>\n",
       "      <td>0363 607B EA74 0BD8 2F6F</td>\n",
       "      <td>f</td>\n",
       "      <td>2</td>\n",
       "      <td>0</td>\n",
       "      <td>2</td>\n",
       "      <td>0</td>\n",
       "      <td>5.52</td>\n",
       "    </tr>\n",
       "  </tbody>\n",
       "</table></div>"
      ],
      "text/plain": [
       "      id                         listing_url       scrape_id last_scraped  \\\n",
       "0   2818   https://www.airbnb.com/rooms/2818  20211104024252   2021-11-04   \n",
       "1  20168  https://www.airbnb.com/rooms/20168  20211104024252   2021-11-04   \n",
       "2  27886  https://www.airbnb.com/rooms/27886  20211104024252   2021-11-04   \n",
       "3  28871  https://www.airbnb.com/rooms/28871  20211104024252   2021-11-04   \n",
       "4  29051  https://www.airbnb.com/rooms/29051  20211104024252   2021-11-04   \n",
       "\n",
       "                                                name  \\\n",
       "0           Quiet Garden View Room & Super Fast WiFi   \n",
       "1       Studio with private bathroom in the centre 1   \n",
       "2  Romantic, stylish B&B houseboat in canal district   \n",
       "3                            Comfortable double room   \n",
       "4                            Comfortable single room   \n",
       "\n",
       "                                         description  \\\n",
       "0  Quiet Garden View Room & Super Fast WiFi<br />...   \n",
       "1  17th century Dutch townhouse in the heart of t...   \n",
       "2  Stylish and romantic houseboat on fantastic hi...   \n",
       "3  <b>The space</b><br />In a monumental house ri...   \n",
       "4  This room can also accomodate 2 people.  For a...   \n",
       "\n",
       "                               neighborhood_overview  \\\n",
       "0  Indische Buurt (\"Indies Neighborhood\") is a ne...   \n",
       "1  Located just in between famous central canals....   \n",
       "2         Central, quiet, safe, clean and beautiful.   \n",
       "3       Flower market , Leidseplein , Rembrantsplein   \n",
       "4  the street is quite lively especially on weeke...   \n",
       "\n",
       "                                         picture_url  host_id  \\\n",
       "0  https://a0.muscache.com/pictures/10272854/8dcc...     3159   \n",
       "1  https://a0.muscache.com/pictures/69979628/fd6a...    59484   \n",
       "2  https://a0.muscache.com/pictures/02c2da9d-660e...    97647   \n",
       "3  https://a0.muscache.com/pictures/160889/362340...   124245   \n",
       "4  https://a0.muscache.com/pictures/162009/bd6be2...   124245   \n",
       "\n",
       "                                   host_url  ... review_scores_communication  \\\n",
       "0    https://www.airbnb.com/users/show/3159  ...                        4.98   \n",
       "1   https://www.airbnb.com/users/show/59484  ...                        4.62   \n",
       "2   https://www.airbnb.com/users/show/97647  ...                        4.92   \n",
       "3  https://www.airbnb.com/users/show/124245  ...                        4.94   \n",
       "4  https://www.airbnb.com/users/show/124245  ...                        4.90   \n",
       "\n",
       "  review_scores_location review_scores_value                   license  \\\n",
       "0                   4.68                4.81  0363 5F3A 5684 6750 D14D   \n",
       "1                   4.87                4.49  0363 CBB3 2C10 0C2A 1E29   \n",
       "2                   4.90                4.80  0363 974D 4986 7411 88D8   \n",
       "3                   4.97                4.82  0363 607B EA74 0BD8 2F6F   \n",
       "4                   4.86                4.75  0363 607B EA74 0BD8 2F6F   \n",
       "\n",
       "  instant_bookable calculated_host_listings_count  \\\n",
       "0                t                              1   \n",
       "1                t                              2   \n",
       "2                t                              1   \n",
       "3                f                              2   \n",
       "4                f                              2   \n",
       "\n",
       "  calculated_host_listings_count_entire_homes  \\\n",
       "0                                           0   \n",
       "1                                           0   \n",
       "2                                           0   \n",
       "3                                           0   \n",
       "4                                           0   \n",
       "\n",
       "  calculated_host_listings_count_private_rooms  \\\n",
       "0                                            1   \n",
       "1                                            2   \n",
       "2                                            1   \n",
       "3                                            2   \n",
       "4                                            2   \n",
       "\n",
       "  calculated_host_listings_count_shared_rooms reviews_per_month  \n",
       "0                                           0              2.83  \n",
       "1                                           0              3.57  \n",
       "2                                           0              2.13  \n",
       "3                                           0              4.62  \n",
       "4                                           0              5.52  \n",
       "\n",
       "[5 rows x 74 columns]"
      ]
     },
     "execution_count": 200,
     "metadata": {},
     "output_type": "execute_result"
    }
   ],
   "source": [
    "raw_df_amsterdam = pd.read_csv('/Users/brendan/Desktop/Python/Hustle Projects/Airbnb/data4/raw-data/amsterdam/amsterdam_detailed.csv')\n",
    "raw_df_amsterdam.head()\n"
   ]
  },
  {
   "cell_type": "code",
   "execution_count": 201,
   "id": "b4515ade",
   "metadata": {},
   "outputs": [],
   "source": [
    "amsterdam_list_of_df = [amsterdam_raw_df_12_12_2020, amsterdam_raw_df_1_9_2021, amsterdam_raw_df_2_8_2021, amsterdam_raw_df_3_4_2021,\n",
    "                        amsterdam_raw_df_4_9_2021, amsterdam_raw_df_6_3_2021, amsterdam_raw_df_7_4_2021, amsterdam_raw_df_8_6_2021, amsterdam_raw_df_9_7_2021]\n"
   ]
  },
  {
   "cell_type": "code",
   "execution_count": 202,
   "id": "960b9b03",
   "metadata": {},
   "outputs": [
    {
     "data": {
      "text/plain": [
       "(157525, 19)"
      ]
     },
     "execution_count": 202,
     "metadata": {},
     "output_type": "execute_result"
    }
   ],
   "source": [
    "amsterdam_df = pd.concat(amsterdam_list_of_df)\n",
    "amsterdam_df.shape"
   ]
  },
  {
   "cell_type": "code",
   "execution_count": 538,
   "id": "5afcb2fa",
   "metadata": {},
   "outputs": [
    {
     "data": {
      "text/html": [
       "<div><div id=d9c11ec9-07e9-436e-8070-1bd332e408f0 style=\"display:none; background-color:#9D6CFF; color:white; width:200px; height:30px; padding-left:5px; border-radius:4px; flex-direction:row; justify-content:space-around; align-items:center;\" onmouseover=\"this.style.backgroundColor='#BA9BF8'\" onmouseout=\"this.style.backgroundColor='#9D6CFF'\" onclick=\"window.commands?.execute('create-mitosheet-from-dataframe-output');\">See Full Dataframe in Mito</div> <script> if (window.commands.hasCommand('create-mitosheet-from-dataframe-output')) document.getElementById('d9c11ec9-07e9-436e-8070-1bd332e408f0').style.display = 'flex' </script> <table border=\"1\" class=\"dataframe\">\n",
       "  <thead>\n",
       "    <tr style=\"text-align: right;\">\n",
       "      <th></th>\n",
       "      <th>id_x</th>\n",
       "      <th>Month</th>\n",
       "      <th>property_type</th>\n",
       "      <th>room_type_x</th>\n",
       "      <th>accommodates</th>\n",
       "      <th>bedrooms</th>\n",
       "      <th>beds</th>\n",
       "      <th>price_x</th>\n",
       "      <th>availability_90</th>\n",
       "      <th>review_scores_rating</th>\n",
       "      <th>review_scores_accuracy</th>\n",
       "      <th>review_scores_cleanliness</th>\n",
       "      <th>review_scores_location</th>\n",
       "      <th>review_scores_value</th>\n",
       "      <th>city</th>\n",
       "    </tr>\n",
       "  </thead>\n",
       "  <tbody>\n",
       "    <tr>\n",
       "      <th>0</th>\n",
       "      <td>2818_amsterdam</td>\n",
       "      <td>12/12/2020</td>\n",
       "      <td>Private room in rental unit</td>\n",
       "      <td>Private room</td>\n",
       "      <td>2.0</td>\n",
       "      <td>1.0</td>\n",
       "      <td>2.0</td>\n",
       "      <td>59</td>\n",
       "      <td>33.0</td>\n",
       "      <td>4.89</td>\n",
       "      <td>4.93</td>\n",
       "      <td>5.0</td>\n",
       "      <td>4.68</td>\n",
       "      <td>4.81</td>\n",
       "      <td>Amsterdam</td>\n",
       "    </tr>\n",
       "    <tr>\n",
       "      <th>0</th>\n",
       "      <td>2818_amsterdam</td>\n",
       "      <td>1/9/2021</td>\n",
       "      <td>Private room in rental unit</td>\n",
       "      <td>Private room</td>\n",
       "      <td>2.0</td>\n",
       "      <td>1.0</td>\n",
       "      <td>2.0</td>\n",
       "      <td>59</td>\n",
       "      <td>33.0</td>\n",
       "      <td>4.89</td>\n",
       "      <td>4.93</td>\n",
       "      <td>5.0</td>\n",
       "      <td>4.68</td>\n",
       "      <td>4.81</td>\n",
       "      <td>Amsterdam</td>\n",
       "    </tr>\n",
       "    <tr>\n",
       "      <th>0</th>\n",
       "      <td>2818_amsterdam</td>\n",
       "      <td>2/8/2021</td>\n",
       "      <td>Private room in rental unit</td>\n",
       "      <td>Private room</td>\n",
       "      <td>2.0</td>\n",
       "      <td>1.0</td>\n",
       "      <td>2.0</td>\n",
       "      <td>59</td>\n",
       "      <td>33.0</td>\n",
       "      <td>4.89</td>\n",
       "      <td>4.93</td>\n",
       "      <td>5.0</td>\n",
       "      <td>4.68</td>\n",
       "      <td>4.81</td>\n",
       "      <td>Amsterdam</td>\n",
       "    </tr>\n",
       "    <tr>\n",
       "      <th>0</th>\n",
       "      <td>2818_amsterdam</td>\n",
       "      <td>3/4/2021</td>\n",
       "      <td>Private room in rental unit</td>\n",
       "      <td>Private room</td>\n",
       "      <td>2.0</td>\n",
       "      <td>1.0</td>\n",
       "      <td>2.0</td>\n",
       "      <td>59</td>\n",
       "      <td>33.0</td>\n",
       "      <td>4.89</td>\n",
       "      <td>4.93</td>\n",
       "      <td>5.0</td>\n",
       "      <td>4.68</td>\n",
       "      <td>4.81</td>\n",
       "      <td>Amsterdam</td>\n",
       "    </tr>\n",
       "    <tr>\n",
       "      <th>0</th>\n",
       "      <td>2818_amsterdam</td>\n",
       "      <td>4/9/2021</td>\n",
       "      <td>Private room in rental unit</td>\n",
       "      <td>Private room</td>\n",
       "      <td>2.0</td>\n",
       "      <td>1.0</td>\n",
       "      <td>2.0</td>\n",
       "      <td>59</td>\n",
       "      <td>33.0</td>\n",
       "      <td>4.89</td>\n",
       "      <td>4.93</td>\n",
       "      <td>5.0</td>\n",
       "      <td>4.68</td>\n",
       "      <td>4.81</td>\n",
       "      <td>Amsterdam</td>\n",
       "    </tr>\n",
       "  </tbody>\n",
       "</table></div>"
      ],
      "text/plain": [
       "             id_x       Month                property_type   room_type_x  \\\n",
       "0  2818_amsterdam  12/12/2020  Private room in rental unit  Private room   \n",
       "0  2818_amsterdam    1/9/2021  Private room in rental unit  Private room   \n",
       "0  2818_amsterdam    2/8/2021  Private room in rental unit  Private room   \n",
       "0  2818_amsterdam    3/4/2021  Private room in rental unit  Private room   \n",
       "0  2818_amsterdam    4/9/2021  Private room in rental unit  Private room   \n",
       "\n",
       "   accommodates  bedrooms  beds  price_x  availability_90  \\\n",
       "0           2.0       1.0   2.0       59             33.0   \n",
       "0           2.0       1.0   2.0       59             33.0   \n",
       "0           2.0       1.0   2.0       59             33.0   \n",
       "0           2.0       1.0   2.0       59             33.0   \n",
       "0           2.0       1.0   2.0       59             33.0   \n",
       "\n",
       "   review_scores_rating  review_scores_accuracy  review_scores_cleanliness  \\\n",
       "0                  4.89                    4.93                        5.0   \n",
       "0                  4.89                    4.93                        5.0   \n",
       "0                  4.89                    4.93                        5.0   \n",
       "0                  4.89                    4.93                        5.0   \n",
       "0                  4.89                    4.93                        5.0   \n",
       "\n",
       "   review_scores_location  review_scores_value       city  \n",
       "0                    4.68                 4.81  Amsterdam  \n",
       "0                    4.68                 4.81  Amsterdam  \n",
       "0                    4.68                 4.81  Amsterdam  \n",
       "0                    4.68                 4.81  Amsterdam  \n",
       "0                    4.68                 4.81  Amsterdam  "
      ]
     },
     "execution_count": 538,
     "metadata": {},
     "output_type": "execute_result"
    }
   ],
   "source": [
    "df_join_amsterdam = amsterdam_df.join(raw_df_amsterdam, lsuffix='_x', rsuffix='_y')\n",
    "amsterdam_df_master = df_join_amsterdam.copy()\n",
    "amsterdam_df_final = amsterdam_df_master[['id_x','Month', 'property_type', 'room_type_x', 'accommodates',\n",
    "                               'bedrooms', 'beds', 'price_x', 'availability_90','review_scores_rating',\n",
    "                               'review_scores_accuracy','review_scores_cleanliness','review_scores_location',\n",
    "                               'review_scores_value']]\n",
    "amsterdam_df_final['city']='Amsterdam'\n",
    "amsterdam_df_final['id_x'] = amsterdam_df_final['id_x'].apply(str)+'_amsterdam'\n",
    "#amsterdam_df_final= amsterdam_df_final[amsterdam_df_final['Month']=='9/7/2021']\n",
    "amsterdam_df_final.head()"
   ]
  },
  {
   "cell_type": "markdown",
   "id": "7181dc1f",
   "metadata": {},
   "source": [
    "## Antwerp"
   ]
  },
  {
   "cell_type": "code",
   "execution_count": 204,
   "id": "1ccabc9a",
   "metadata": {
    "scrolled": true
   },
   "outputs": [
    {
     "name": "stdout",
     "output_type": "stream",
     "text": [
      "The 12_12_2020 dataset contains 1751 AirBnb listings; the avg price is €94.93.\n",
      "The 1_9_2021 dataset contains 1717 AirBnb listings; the avg price is €91.93.\n",
      "The 2_8_2021 dataset contains 1716 AirBnb listings; the avg price is €91.52.\n",
      "The 3_4_2021 dataset contains 1749 AirBnb listings; the avg price is €96.45.\n",
      "The 4_9_2021 dataset contains 1739 AirBnb listings; the avg price is €99.19.\n",
      "The 6_3_2021 dataset contains 1810 AirBnb listings; the avg price is €99.63.\n",
      "The 7_4_2021 dataset contains 1843 AirBnb listings; the avg price is €100.1.\n",
      "The 8_6_2021 dataset contains 1792 AirBnb listings; the avg price is €100.99.\n",
      "The 9_7_2021 dataset contains 1776 AirBnb listings; the avg price is €103.83.\n",
      "The 10_6_2021 dataset contains 1750 AirBnb listings; the avg price is €106.99.\n"
     ]
    }
   ],
   "source": [
    "antwerp_raw_df_12_12_2020 = pd.read_csv('/Users/brendan/Desktop/Python/Hustle Projects/Airbnb/data4/raw-data/antwerp/antwerp_2020-12.csv')\n",
    "antwerp_raw_df_12_12_2020['Month']='12/12/2020' \n",
    "print(f\"The 12_12_2020 dataset contains {len(antwerp_raw_df_12_12_2020)} AirBnb listings; the avg price is €{round(antwerp_raw_df_12_12_2020['price'].mean(),2)}.\")\n",
    "\n",
    "antwerp_raw_df_1_9_2021 = pd.read_csv('/Users/brendan/Desktop/Python/Hustle Projects/Airbnb/data4/raw-data/antwerp/antwerp_2021-01.csv')\n",
    "antwerp_raw_df_1_9_2021['Month']='1/9/2021' \n",
    "print(f\"The 1_9_2021 dataset contains {len(antwerp_raw_df_1_9_2021)} AirBnb listings; the avg price is €{round(antwerp_raw_df_1_9_2021['price'].mean(),2)}.\")\n",
    "\n",
    "antwerp_raw_df_2_8_2021 = pd.read_csv('/Users/brendan/Desktop/Python/Hustle Projects/Airbnb/data4/raw-data/antwerp/antwerp_2021-02.csv')\n",
    "antwerp_raw_df_2_8_2021['Month']='2/8/2021'\n",
    "print(f\"The 2_8_2021 dataset contains {len(antwerp_raw_df_2_8_2021)} AirBnb listings; the avg price is €{round(antwerp_raw_df_2_8_2021['price'].mean(),2)}.\")\n",
    "\n",
    "antwerp_raw_df_3_4_2021 = pd.read_csv('/Users/brendan/Desktop/Python/Hustle Projects/Airbnb/data4/raw-data/antwerp/antwerp_2021-03.csv')\n",
    "antwerp_raw_df_3_4_2021['Month']='3/4/2021' \n",
    "print(f\"The 3_4_2021 dataset contains {len(antwerp_raw_df_3_4_2021)} AirBnb listings; the avg price is €{round(antwerp_raw_df_3_4_2021['price'].mean(),2)}.\")\n",
    "\n",
    "antwerp_raw_df_4_9_2021 = pd.read_csv('/Users/brendan/Desktop/Python/Hustle Projects/Airbnb/data4/raw-data/antwerp/antwerp_2021-04.csv')\n",
    "antwerp_raw_df_4_9_2021['Month']='4/9/2021'\n",
    "print(f\"The 4_9_2021 dataset contains {len(antwerp_raw_df_4_9_2021)} AirBnb listings; the avg price is €{round(antwerp_raw_df_4_9_2021['price'].mean(),2)}.\")\n",
    "\n",
    "#antwerp_raw_df_5_19_2021 = pd.read_csv('/Users/brendan/Desktop/Python/Hustle Projects/Airbnb/data4/raw-data/antwerp/antwerp_2021-05.csv')\n",
    "#print(f\"The 5_19_2021 dataset contains {len(antwerp_raw_df_5_19_2021)} AirBnb listings; the avg price is €{round(antwerp_raw_df_5_19_2021['price'].mean(),2)}.\")\n",
    "\n",
    "antwerp_raw_df_6_3_2021 = pd.read_csv('/Users/brendan/Desktop/Python/Hustle Projects/Airbnb/data4/raw-data/antwerp/antwerp_2021-06.csv')\n",
    "antwerp_raw_df_6_3_2021['Month']='6/3/2021'\n",
    "print(f\"The 6_3_2021 dataset contains {len(antwerp_raw_df_6_3_2021)} AirBnb listings; the avg price is €{round(antwerp_raw_df_6_3_2021['price'].mean(),2)}.\")\n",
    "\n",
    "antwerp_raw_df_7_4_2021 = pd.read_csv('/Users/brendan/Desktop/Python/Hustle Projects/Airbnb/data4/raw-data/antwerp/antwerp_2021-07.csv')\n",
    "antwerp_raw_df_7_4_2021['Month']='7/4/2021'\n",
    "print(f\"The 7_4_2021 dataset contains {len(antwerp_raw_df_7_4_2021)} AirBnb listings; the avg price is €{round(antwerp_raw_df_7_4_2021['price'].mean(),2)}.\")\n",
    "\n",
    "antwerp_raw_df_8_6_2021 = pd.read_csv('/Users/brendan/Desktop/Python/Hustle Projects/Airbnb/data4/raw-data/antwerp/antwerp_2021-08.csv')\n",
    "antwerp_raw_df_8_6_2021['Month']='8/6/2021'\n",
    "print(f\"The 8_6_2021 dataset contains {len(antwerp_raw_df_8_6_2021)} AirBnb listings; the avg price is €{round(antwerp_raw_df_8_6_2021['price'].mean(),2)}.\")\n",
    "\n",
    "antwerp_raw_df_9_7_2021 = pd.read_csv('/Users/brendan/Desktop/Python/Hustle Projects/Airbnb/data4/raw-data/antwerp/antwerp_2021-09.csv')\n",
    "antwerp_raw_df_9_7_2021['Month']='9/7/2021'\n",
    "print(f\"The 9_7_2021 dataset contains {len(antwerp_raw_df_9_7_2021)} AirBnb listings; the avg price is €{round(antwerp_raw_df_9_7_2021['price'].mean(),2)}.\")\n",
    "\n",
    "antwerp_raw_df_10_6_2021 = pd.read_csv('/Users/brendan/Desktop/Python/Hustle Projects/Airbnb/data4/raw-data/antwerp/antwerp_2021-10.csv')\n",
    "antwerp_raw_df_10_6_2021['Month']='10/6/2021'\n",
    "print(f\"The 10_6_2021 dataset contains {len(antwerp_raw_df_10_6_2021)} AirBnb listings; the avg price is €{round(antwerp_raw_df_10_6_2021['price'].mean(),2)}.\")"
   ]
  },
  {
   "cell_type": "code",
   "execution_count": 205,
   "id": "1f0e7cc9",
   "metadata": {},
   "outputs": [],
   "source": [
    "raw_df_antwerp = pd.read_csv('/Users/brendan/Desktop/Python/Hustle Projects/Airbnb/data4/raw-data/antwerp/antwerp_detailed.csv')\n"
   ]
  },
  {
   "cell_type": "code",
   "execution_count": 206,
   "id": "7b7080b5",
   "metadata": {},
   "outputs": [],
   "source": [
    "antwerp_list_of_df = [antwerp_raw_df_12_12_2020, antwerp_raw_df_1_9_2021, antwerp_raw_df_2_8_2021, antwerp_raw_df_3_4_2021,\n",
    "                        antwerp_raw_df_4_9_2021, antwerp_raw_df_6_3_2021, antwerp_raw_df_7_4_2021, antwerp_raw_df_8_6_2021, antwerp_raw_df_9_7_2021]\n"
   ]
  },
  {
   "cell_type": "code",
   "execution_count": 207,
   "id": "d410d576",
   "metadata": {},
   "outputs": [
    {
     "data": {
      "text/plain": [
       "(15893, 19)"
      ]
     },
     "execution_count": 207,
     "metadata": {},
     "output_type": "execute_result"
    }
   ],
   "source": [
    "antwerp_df = pd.concat(antwerp_list_of_df)\n",
    "antwerp_df.shape"
   ]
  },
  {
   "cell_type": "code",
   "execution_count": 539,
   "id": "9096d2a5",
   "metadata": {},
   "outputs": [
    {
     "data": {
      "text/plain": [
       "(15893, 15)"
      ]
     },
     "execution_count": 539,
     "metadata": {},
     "output_type": "execute_result"
    }
   ],
   "source": [
    "df_join_antwerp = antwerp_df.join(raw_df_antwerp, lsuffix='_x', rsuffix='_y')\n",
    "antwerp_df_master = df_join_antwerp.copy()\n",
    "antwerp_df_final = antwerp_df_master[['id_x','Month', 'property_type', 'room_type_x', 'accommodates',\n",
    "                               'bedrooms', 'beds', 'price_x', 'availability_90','review_scores_rating',\n",
    "                               'review_scores_accuracy','review_scores_cleanliness','review_scores_location',\n",
    "                               'review_scores_value']]\n",
    "antwerp_df_final['city']='Antwerp'\n",
    "antwerp_df_final['id_x'] = antwerp_df_final['id_x'].apply(str)+'_antwerp'\n",
    "#antwerp_df_final= antwerp_df_final[antwerp_df_final['Month']=='9/7/2021']\n",
    "antwerp_df_final.shape"
   ]
  },
  {
   "cell_type": "markdown",
   "id": "3e0c19c0",
   "metadata": {},
   "source": [
    "## Athens"
   ]
  },
  {
   "cell_type": "code",
   "execution_count": 209,
   "id": "fb69fcba",
   "metadata": {
    "scrolled": true
   },
   "outputs": [
    {
     "name": "stdout",
     "output_type": "stream",
     "text": [
      "The 12_12_2020 dataset contains 9413 AirBnb listings; the avg price is €68.86.\n",
      "The 1_9_2021 dataset contains 9482 AirBnb listings; the avg price is €74.33.\n",
      "The 2_8_2021 dataset contains 9467 AirBnb listings; the avg price is €73.43.\n",
      "The 3_4_2021 dataset contains 9510 AirBnb listings; the avg price is €74.94.\n",
      "The 4_9_2021 dataset contains 9618 AirBnb listings; the avg price is €81.68.\n",
      "The 6_3_2021 dataset contains 9584 AirBnb listings; the avg price is €86.28.\n",
      "The 7_4_2021 dataset contains 9640 AirBnb listings; the avg price is €90.54.\n",
      "The 8_6_2021 dataset contains 9773 AirBnb listings; the avg price is €84.23.\n",
      "The 9_7_2021 dataset contains 9766 AirBnb listings; the avg price is €83.34.\n",
      "The 10_6_2021 dataset contains 9582 AirBnb listings; the avg price is €83.44.\n"
     ]
    }
   ],
   "source": [
    "athens_raw_df_12_12_2020 = pd.read_csv('/Users/brendan/Desktop/Python/Hustle Projects/Airbnb/data4/raw-data/athens/athens_2020-12.csv')\n",
    "athens_raw_df_12_12_2020['Month']='12/12/2020' \n",
    "print(f\"The 12_12_2020 dataset contains {len(athens_raw_df_12_12_2020)} AirBnb listings; the avg price is €{round(athens_raw_df_12_12_2020['price'].mean(),2)}.\")\n",
    "\n",
    "athens_raw_df_1_9_2021 = pd.read_csv('/Users/brendan/Desktop/Python/Hustle Projects/Airbnb/data4/raw-data/athens/athens_2021-01.csv')\n",
    "athens_raw_df_1_9_2021['Month']='1/9/2021' \n",
    "print(f\"The 1_9_2021 dataset contains {len(athens_raw_df_1_9_2021)} AirBnb listings; the avg price is €{round(athens_raw_df_1_9_2021['price'].mean(),2)}.\")\n",
    "\n",
    "athens_raw_df_2_8_2021 = pd.read_csv('/Users/brendan/Desktop/Python/Hustle Projects/Airbnb/data4/raw-data/athens/athens_2021-02.csv')\n",
    "athens_raw_df_2_8_2021['Month']='2/8/2021'\n",
    "print(f\"The 2_8_2021 dataset contains {len(athens_raw_df_2_8_2021)} AirBnb listings; the avg price is €{round(athens_raw_df_2_8_2021['price'].mean(),2)}.\")\n",
    "\n",
    "athens_raw_df_3_4_2021 = pd.read_csv('/Users/brendan/Desktop/Python/Hustle Projects/Airbnb/data4/raw-data/athens/athens_2021-03.csv')\n",
    "athens_raw_df_3_4_2021['Month']='3/4/2021' \n",
    "print(f\"The 3_4_2021 dataset contains {len(athens_raw_df_3_4_2021)} AirBnb listings; the avg price is €{round(athens_raw_df_3_4_2021['price'].mean(),2)}.\")\n",
    "\n",
    "athens_raw_df_4_9_2021 = pd.read_csv('/Users/brendan/Desktop/Python/Hustle Projects/Airbnb/data4/raw-data/athens/athens_2021-04.csv')\n",
    "athens_raw_df_4_9_2021['Month']='4/9/2021'\n",
    "print(f\"The 4_9_2021 dataset contains {len(athens_raw_df_4_9_2021)} AirBnb listings; the avg price is €{round(athens_raw_df_4_9_2021['price'].mean(),2)}.\")\n",
    "\n",
    "#athens_raw_df_5_19_2021 = pd.read_csv('/Users/brendan/Desktop/Python/Hustle Projects/Airbnb/data4/raw-data/athens/athens_2021-05.csv')\n",
    "#print(f\"The 5_19_2021 dataset contains {len(athens_raw_df_5_19_2021)} AirBnb listings; the avg price is €{round(athens_raw_df_5_19_2021['price'].mean(),2)}.\")\n",
    "\n",
    "athens_raw_df_6_3_2021 = pd.read_csv('/Users/brendan/Desktop/Python/Hustle Projects/Airbnb/data4/raw-data/athens/athens_2021-06.csv')\n",
    "athens_raw_df_6_3_2021['Month']='6/3/2021'\n",
    "print(f\"The 6_3_2021 dataset contains {len(athens_raw_df_6_3_2021)} AirBnb listings; the avg price is €{round(athens_raw_df_6_3_2021['price'].mean(),2)}.\")\n",
    "\n",
    "athens_raw_df_7_4_2021 = pd.read_csv('/Users/brendan/Desktop/Python/Hustle Projects/Airbnb/data4/raw-data/athens/athens_2021-07.csv')\n",
    "athens_raw_df_7_4_2021['Month']='7/4/2021'\n",
    "print(f\"The 7_4_2021 dataset contains {len(athens_raw_df_7_4_2021)} AirBnb listings; the avg price is €{round(athens_raw_df_7_4_2021['price'].mean(),2)}.\")\n",
    "\n",
    "athens_raw_df_8_6_2021 = pd.read_csv('/Users/brendan/Desktop/Python/Hustle Projects/Airbnb/data4/raw-data/athens/athens_2021-08.csv')\n",
    "athens_raw_df_8_6_2021['Month']='8/6/2021'\n",
    "print(f\"The 8_6_2021 dataset contains {len(athens_raw_df_8_6_2021)} AirBnb listings; the avg price is €{round(athens_raw_df_8_6_2021['price'].mean(),2)}.\")\n",
    "\n",
    "athens_raw_df_9_7_2021 = pd.read_csv('/Users/brendan/Desktop/Python/Hustle Projects/Airbnb/data4/raw-data/athens/athens_2021-09.csv')\n",
    "athens_raw_df_9_7_2021['Month']='9/7/2021'\n",
    "print(f\"The 9_7_2021 dataset contains {len(athens_raw_df_9_7_2021)} AirBnb listings; the avg price is €{round(athens_raw_df_9_7_2021['price'].mean(),2)}.\")\n",
    "\n",
    "athens_raw_df_10_6_2021 = pd.read_csv('/Users/brendan/Desktop/Python/Hustle Projects/Airbnb/data4/raw-data/athens/athens_2021-10.csv')\n",
    "athens_raw_df_10_6_2021['Month']='10/6/2021'\n",
    "print(f\"The 10_6_2021 dataset contains {len(athens_raw_df_10_6_2021)} AirBnb listings; the avg price is €{round(athens_raw_df_10_6_2021['price'].mean(),2)}.\")"
   ]
  },
  {
   "cell_type": "code",
   "execution_count": 210,
   "id": "680a965b",
   "metadata": {},
   "outputs": [],
   "source": [
    "athens_list_of_df = [athens_raw_df_12_12_2020, athens_raw_df_1_9_2021, athens_raw_df_2_8_2021, athens_raw_df_3_4_2021,\n",
    "                        athens_raw_df_4_9_2021, athens_raw_df_6_3_2021, athens_raw_df_7_4_2021, athens_raw_df_8_6_2021, athens_raw_df_9_7_2021]\n"
   ]
  },
  {
   "cell_type": "code",
   "execution_count": 211,
   "id": "97ac6b56",
   "metadata": {},
   "outputs": [
    {
     "data": {
      "text/plain": [
       "(86253, 19)"
      ]
     },
     "execution_count": 211,
     "metadata": {},
     "output_type": "execute_result"
    }
   ],
   "source": [
    "athens_df = pd.concat(athens_list_of_df)\n",
    "athens_df.shape"
   ]
  },
  {
   "cell_type": "code",
   "execution_count": 212,
   "id": "84da8b59",
   "metadata": {},
   "outputs": [],
   "source": [
    "raw_df_athens = pd.read_csv('/Users/brendan/Desktop/Python/Hustle Projects/Airbnb/data4/raw-data/athens/athens_detailed.csv')\n"
   ]
  },
  {
   "cell_type": "code",
   "execution_count": 213,
   "id": "9c1e32fa",
   "metadata": {},
   "outputs": [],
   "source": [
    "athens_list_of_df = [athens_raw_df_12_12_2020, athens_raw_df_1_9_2021, athens_raw_df_2_8_2021, athens_raw_df_3_4_2021,\n",
    "                        athens_raw_df_4_9_2021, athens_raw_df_6_3_2021, athens_raw_df_7_4_2021, athens_raw_df_8_6_2021, athens_raw_df_9_7_2021]\n"
   ]
  },
  {
   "cell_type": "code",
   "execution_count": 214,
   "id": "7c9191c5",
   "metadata": {},
   "outputs": [
    {
     "data": {
      "text/plain": [
       "(86253, 19)"
      ]
     },
     "execution_count": 214,
     "metadata": {},
     "output_type": "execute_result"
    }
   ],
   "source": [
    "athens_df = pd.concat(athens_list_of_df)\n",
    "athens_df.shape"
   ]
  },
  {
   "cell_type": "code",
   "execution_count": 540,
   "id": "3926451f",
   "metadata": {},
   "outputs": [
    {
     "data": {
      "text/plain": [
       "(86253, 15)"
      ]
     },
     "execution_count": 540,
     "metadata": {},
     "output_type": "execute_result"
    }
   ],
   "source": [
    "df_join_athens = athens_df.join(raw_df_athens, lsuffix='_x', rsuffix='_y')\n",
    "athens_df_master = df_join_athens.copy()\n",
    "athens_df_final = athens_df_master[['id_x','Month', 'property_type', 'room_type_x', 'accommodates',\n",
    "                               'bedrooms', 'beds', 'price_x', 'availability_90','review_scores_rating',\n",
    "                               'review_scores_accuracy','review_scores_cleanliness','review_scores_location',\n",
    "                               'review_scores_value']]\n",
    "athens_df_final['city']='Athens'\n",
    "athens_df_final['id_x'] = athens_df_final['id_x'].apply(str)+'_athens'\n",
    "#athens_df_final= athens_df_final[athens_df_final['Month']=='9/7/2021']\n",
    "athens_df_final.shape"
   ]
  },
  {
   "cell_type": "code",
   "execution_count": null,
   "id": "5496523e",
   "metadata": {},
   "outputs": [],
   "source": []
  },
  {
   "cell_type": "code",
   "execution_count": null,
   "id": "01b823fb",
   "metadata": {},
   "outputs": [],
   "source": []
  },
  {
   "cell_type": "code",
   "execution_count": null,
   "id": "aa98fd3e",
   "metadata": {},
   "outputs": [],
   "source": []
  },
  {
   "cell_type": "markdown",
   "id": "39458d74",
   "metadata": {},
   "source": [
    "## Barcelona"
   ]
  },
  {
   "cell_type": "code",
   "execution_count": 216,
   "id": "8ecca3e8",
   "metadata": {
    "scrolled": false
   },
   "outputs": [
    {
     "name": "stdout",
     "output_type": "stream",
     "text": [
      "The 12_12_2020 dataset contains 19641 AirBnb listings; the avg price is €91.91.\n",
      "The 1_9_2021 dataset contains 18569 AirBnb listings; the avg price is €103.39.\n",
      "The 2_8_2021 dataset contains 18471 AirBnb listings; the avg price is €103.76.\n",
      "The 3_4_2021 dataset contains 18286 AirBnb listings; the avg price is €106.15.\n",
      "The 4_9_2021 dataset contains 18226 AirBnb listings; the avg price is €110.39.\n",
      "The 6_3_2021 dataset contains 17589 AirBnb listings; the avg price is €111.72.\n",
      "The 7_4_2021 dataset contains 17079 AirBnb listings; the avg price is €115.01.\n",
      "The 8_6_2021 dataset contains 16554 AirBnb listings; the avg price is €115.96.\n",
      "The 9_7_2021 dataset contains 16206 AirBnb listings; the avg price is €109.26.\n",
      "The 10_6_2021 dataset contains 16055 AirBnb listings; the avg price is €112.47.\n"
     ]
    }
   ],
   "source": [
    "barcelona_raw_df_12_12_2020 = pd.read_csv('/Users/brendan/Desktop/Python/Hustle Projects/Airbnb/data4/raw-data/barcelona/barcelona_2020-12.csv')\n",
    "barcelona_raw_df_12_12_2020['Month']='12/12/2020' \n",
    "print(f\"The 12_12_2020 dataset contains {len(barcelona_raw_df_12_12_2020)} AirBnb listings; the avg price is €{round(barcelona_raw_df_12_12_2020['price'].mean(),2)}.\")\n",
    "\n",
    "barcelona_raw_df_1_9_2021 = pd.read_csv('/Users/brendan/Desktop/Python/Hustle Projects/Airbnb/data4/raw-data/barcelona/barcelona_2021-01.csv')\n",
    "barcelona_raw_df_1_9_2021['Month']='1/9/2021' \n",
    "print(f\"The 1_9_2021 dataset contains {len(barcelona_raw_df_1_9_2021)} AirBnb listings; the avg price is €{round(barcelona_raw_df_1_9_2021['price'].mean(),2)}.\")\n",
    "\n",
    "barcelona_raw_df_2_8_2021 = pd.read_csv('/Users/brendan/Desktop/Python/Hustle Projects/Airbnb/data4/raw-data/barcelona/barcelona_2021-02.csv')\n",
    "barcelona_raw_df_2_8_2021['Month']='2/8/2021'\n",
    "print(f\"The 2_8_2021 dataset contains {len(barcelona_raw_df_2_8_2021)} AirBnb listings; the avg price is €{round(barcelona_raw_df_2_8_2021['price'].mean(),2)}.\")\n",
    "\n",
    "barcelona_raw_df_3_4_2021 = pd.read_csv('/Users/brendan/Desktop/Python/Hustle Projects/Airbnb/data4/raw-data/barcelona/barcelona_2021-03.csv')\n",
    "barcelona_raw_df_3_4_2021['Month']='3/4/2021' \n",
    "print(f\"The 3_4_2021 dataset contains {len(barcelona_raw_df_3_4_2021)} AirBnb listings; the avg price is €{round(barcelona_raw_df_3_4_2021['price'].mean(),2)}.\")\n",
    "\n",
    "barcelona_raw_df_4_9_2021 = pd.read_csv('/Users/brendan/Desktop/Python/Hustle Projects/Airbnb/data4/raw-data/barcelona/barcelona_2021-04.csv')\n",
    "barcelona_raw_df_4_9_2021['Month']='4/9/2021'\n",
    "print(f\"The 4_9_2021 dataset contains {len(barcelona_raw_df_4_9_2021)} AirBnb listings; the avg price is €{round(barcelona_raw_df_4_9_2021['price'].mean(),2)}.\")\n",
    "\n",
    "#barcelona_raw_df_5_19_2021 = pd.read_csv('/Users/brendan/Desktop/Python/Hustle Projects/Airbnb/data4/raw-data/barcelona/barcelona_2021-05.csv')\n",
    "#print(f\"The 5_19_2021 dataset contains {len(barcelona_raw_df_5_19_2021)} AirBnb listings; the avg price is €{round(barcelona_raw_df_5_19_2021['price'].mean(),2)}.\")\n",
    "\n",
    "barcelona_raw_df_6_3_2021 = pd.read_csv('/Users/brendan/Desktop/Python/Hustle Projects/Airbnb/data4/raw-data/barcelona/barcelona_2021-06.csv')\n",
    "barcelona_raw_df_6_3_2021['Month']='6/3/2021'\n",
    "print(f\"The 6_3_2021 dataset contains {len(barcelona_raw_df_6_3_2021)} AirBnb listings; the avg price is €{round(barcelona_raw_df_6_3_2021['price'].mean(),2)}.\")\n",
    "\n",
    "barcelona_raw_df_7_4_2021 = pd.read_csv('/Users/brendan/Desktop/Python/Hustle Projects/Airbnb/data4/raw-data/barcelona/barcelona_2021-07.csv')\n",
    "barcelona_raw_df_7_4_2021['Month']='7/4/2021'\n",
    "print(f\"The 7_4_2021 dataset contains {len(barcelona_raw_df_7_4_2021)} AirBnb listings; the avg price is €{round(barcelona_raw_df_7_4_2021['price'].mean(),2)}.\")\n",
    "\n",
    "barcelona_raw_df_8_6_2021 = pd.read_csv('/Users/brendan/Desktop/Python/Hustle Projects/Airbnb/data4/raw-data/barcelona/barcelona_2021-08.csv')\n",
    "barcelona_raw_df_8_6_2021['Month']='8/6/2021'\n",
    "print(f\"The 8_6_2021 dataset contains {len(barcelona_raw_df_8_6_2021)} AirBnb listings; the avg price is €{round(barcelona_raw_df_8_6_2021['price'].mean(),2)}.\")\n",
    "\n",
    "barcelona_raw_df_9_7_2021 = pd.read_csv('/Users/brendan/Desktop/Python/Hustle Projects/Airbnb/data4/raw-data/barcelona/barcelona_2021-09.csv')\n",
    "barcelona_raw_df_9_7_2021['Month']='9/7/2021'\n",
    "print(f\"The 9_7_2021 dataset contains {len(barcelona_raw_df_9_7_2021)} AirBnb listings; the avg price is €{round(barcelona_raw_df_9_7_2021['price'].mean(),2)}.\")\n",
    "\n",
    "barcelona_raw_df_10_6_2021 = pd.read_csv('/Users/brendan/Desktop/Python/Hustle Projects/Airbnb/data4/raw-data/barcelona/barcelona_2021-10.csv')\n",
    "barcelona_raw_df_10_6_2021['Month']='10/6/2021'\n",
    "print(f\"The 10_6_2021 dataset contains {len(barcelona_raw_df_10_6_2021)} AirBnb listings; the avg price is €{round(barcelona_raw_df_10_6_2021['price'].mean(),2)}.\")"
   ]
  },
  {
   "cell_type": "code",
   "execution_count": 217,
   "id": "5fce711a",
   "metadata": {},
   "outputs": [],
   "source": [
    "barcelona_list_of_df = [barcelona_raw_df_12_12_2020, barcelona_raw_df_1_9_2021, barcelona_raw_df_2_8_2021, barcelona_raw_df_3_4_2021,\n",
    "                        barcelona_raw_df_4_9_2021, barcelona_raw_df_6_3_2021, barcelona_raw_df_7_4_2021, barcelona_raw_df_8_6_2021, barcelona_raw_df_9_7_2021]\n"
   ]
  },
  {
   "cell_type": "code",
   "execution_count": 218,
   "id": "007dbac1",
   "metadata": {},
   "outputs": [
    {
     "data": {
      "text/plain": [
       "(160621, 19)"
      ]
     },
     "execution_count": 218,
     "metadata": {},
     "output_type": "execute_result"
    }
   ],
   "source": [
    "barcelona_df = pd.concat(barcelona_list_of_df)\n",
    "barcelona_df.shape"
   ]
  },
  {
   "cell_type": "code",
   "execution_count": 219,
   "id": "b208ea38",
   "metadata": {},
   "outputs": [],
   "source": [
    "raw_df_barcelona = pd.read_csv('/Users/brendan/Desktop/Python/Hustle Projects/Airbnb/data4/raw-data/barcelona/barcelona_detailed.csv')\n"
   ]
  },
  {
   "cell_type": "code",
   "execution_count": 220,
   "id": "aeb22692",
   "metadata": {},
   "outputs": [],
   "source": [
    "barcelona_list_of_df = [barcelona_raw_df_12_12_2020, barcelona_raw_df_1_9_2021, barcelona_raw_df_2_8_2021, barcelona_raw_df_3_4_2021,\n",
    "                        barcelona_raw_df_4_9_2021, barcelona_raw_df_6_3_2021, barcelona_raw_df_7_4_2021, barcelona_raw_df_8_6_2021, barcelona_raw_df_9_7_2021]\n"
   ]
  },
  {
   "cell_type": "code",
   "execution_count": 221,
   "id": "f4037b8e",
   "metadata": {},
   "outputs": [
    {
     "data": {
      "text/plain": [
       "(160621, 19)"
      ]
     },
     "execution_count": 221,
     "metadata": {},
     "output_type": "execute_result"
    }
   ],
   "source": [
    "barcelona_df = pd.concat(barcelona_list_of_df)\n",
    "barcelona_df.shape"
   ]
  },
  {
   "cell_type": "code",
   "execution_count": 541,
   "id": "5a1b5618",
   "metadata": {},
   "outputs": [
    {
     "data": {
      "text/plain": [
       "(160621, 15)"
      ]
     },
     "execution_count": 541,
     "metadata": {},
     "output_type": "execute_result"
    }
   ],
   "source": [
    "df_join_barcelona = barcelona_df.join(raw_df_barcelona, lsuffix='_x', rsuffix='_y')\n",
    "barcelona_df_master = df_join_barcelona.copy()\n",
    "barcelona_df_final = barcelona_df_master[['id_x','Month', 'property_type', 'room_type_x', 'accommodates',\n",
    "                               'bedrooms', 'beds', 'price_x', 'availability_90','review_scores_rating',\n",
    "                               'review_scores_accuracy','review_scores_cleanliness','review_scores_location',\n",
    "                               'review_scores_value']]\n",
    "barcelona_df_final['city']='Barcelona'\n",
    "barcelona_df_final['id_x'] = barcelona_df_final['id_x'].apply(str)+'_barcelona'\n",
    "#barcelona_df_final= barcelona_df_final[barcelona_df_final['Month']=='9/7/2021']\n",
    "barcelona_df_final.shape"
   ]
  },
  {
   "cell_type": "markdown",
   "id": "f459453a",
   "metadata": {},
   "source": [
    "## Berlin"
   ]
  },
  {
   "cell_type": "code",
   "execution_count": 223,
   "id": "ddc9aaa7",
   "metadata": {
    "scrolled": true
   },
   "outputs": [
    {
     "name": "stdout",
     "output_type": "stream",
     "text": [
      "The 12_12_2020 dataset contains 20224 AirBnb listings; the avg price is €72.95.\n",
      "The 1_9_2021 dataset contains 20050 AirBnb listings; the avg price is €70.29.\n",
      "The 2_8_2021 dataset contains 19978 AirBnb listings; the avg price is €70.56.\n",
      "The 3_4_2021 dataset contains 19858 AirBnb listings; the avg price is €70.78.\n",
      "The 4_9_2021 dataset contains 19752 AirBnb listings; the avg price is €72.55.\n",
      "The 6_3_2021 dataset contains 18978 AirBnb listings; the avg price is €73.54.\n",
      "The 7_4_2021 dataset contains 19095 AirBnb listings; the avg price is €73.3.\n",
      "The 8_6_2021 dataset contains 18547 AirBnb listings; the avg price is €74.48.\n",
      "The 9_7_2021 dataset contains 18288 AirBnb listings; the avg price is €75.19.\n",
      "The 10_6_2021 dataset contains 17500 AirBnb listings; the avg price is €74.9.\n"
     ]
    }
   ],
   "source": [
    "berlin_raw_df_12_12_2020 = pd.read_csv('/Users/brendan/Desktop/Python/Hustle Projects/Airbnb/data4/raw-data/berlin/berlin_2020-12.csv')\n",
    "berlin_raw_df_12_12_2020['Month']='12/12/2020' \n",
    "print(f\"The 12_12_2020 dataset contains {len(berlin_raw_df_12_12_2020)} AirBnb listings; the avg price is €{round(berlin_raw_df_12_12_2020['price'].mean(),2)}.\")\n",
    "\n",
    "berlin_raw_df_1_9_2021 = pd.read_csv('/Users/brendan/Desktop/Python/Hustle Projects/Airbnb/data4/raw-data/berlin/berlin_2021-01.csv')\n",
    "berlin_raw_df_1_9_2021['Month']='1/9/2021' \n",
    "print(f\"The 1_9_2021 dataset contains {len(berlin_raw_df_1_9_2021)} AirBnb listings; the avg price is €{round(berlin_raw_df_1_9_2021['price'].mean(),2)}.\")\n",
    "\n",
    "berlin_raw_df_2_8_2021 = pd.read_csv('/Users/brendan/Desktop/Python/Hustle Projects/Airbnb/data4/raw-data/berlin/berlin_2021-02.csv')\n",
    "berlin_raw_df_2_8_2021['Month']='2/8/2021'\n",
    "print(f\"The 2_8_2021 dataset contains {len(berlin_raw_df_2_8_2021)} AirBnb listings; the avg price is €{round(berlin_raw_df_2_8_2021['price'].mean(),2)}.\")\n",
    "\n",
    "berlin_raw_df_3_4_2021 = pd.read_csv('/Users/brendan/Desktop/Python/Hustle Projects/Airbnb/data4/raw-data/berlin/berlin_2021-03.csv')\n",
    "berlin_raw_df_3_4_2021['Month']='3/4/2021' \n",
    "print(f\"The 3_4_2021 dataset contains {len(berlin_raw_df_3_4_2021)} AirBnb listings; the avg price is €{round(berlin_raw_df_3_4_2021['price'].mean(),2)}.\")\n",
    "\n",
    "berlin_raw_df_4_9_2021 = pd.read_csv('/Users/brendan/Desktop/Python/Hustle Projects/Airbnb/data4/raw-data/berlin/berlin_2021-04.csv')\n",
    "berlin_raw_df_4_9_2021['Month']='4/9/2021'\n",
    "print(f\"The 4_9_2021 dataset contains {len(berlin_raw_df_4_9_2021)} AirBnb listings; the avg price is €{round(berlin_raw_df_4_9_2021['price'].mean(),2)}.\")\n",
    "\n",
    "#berlin_raw_df_5_19_2021 = pd.read_csv('/Users/brendan/Desktop/Python/Hustle Projects/Airbnb/data4/raw-data/berlin/berlin_2021-05.csv')\n",
    "#print(f\"The 5_19_2021 dataset contains {len(berlin_raw_df_5_19_2021)} AirBnb listings; the avg price is €{round(berlin_raw_df_5_19_2021['price'].mean(),2)}.\")\n",
    "\n",
    "berlin_raw_df_6_3_2021 = pd.read_csv('/Users/brendan/Desktop/Python/Hustle Projects/Airbnb/data4/raw-data/berlin/berlin_2021-06.csv')\n",
    "berlin_raw_df_6_3_2021['Month']='6/3/2021'\n",
    "print(f\"The 6_3_2021 dataset contains {len(berlin_raw_df_6_3_2021)} AirBnb listings; the avg price is €{round(berlin_raw_df_6_3_2021['price'].mean(),2)}.\")\n",
    "\n",
    "berlin_raw_df_7_4_2021 = pd.read_csv('/Users/brendan/Desktop/Python/Hustle Projects/Airbnb/data4/raw-data/berlin/berlin_2021-07.csv')\n",
    "berlin_raw_df_7_4_2021['Month']='7/4/2021'\n",
    "print(f\"The 7_4_2021 dataset contains {len(berlin_raw_df_7_4_2021)} AirBnb listings; the avg price is €{round(berlin_raw_df_7_4_2021['price'].mean(),2)}.\")\n",
    "\n",
    "berlin_raw_df_8_6_2021 = pd.read_csv('/Users/brendan/Desktop/Python/Hustle Projects/Airbnb/data4/raw-data/berlin/berlin_2021-08.csv')\n",
    "berlin_raw_df_8_6_2021['Month']='8/6/2021'\n",
    "print(f\"The 8_6_2021 dataset contains {len(berlin_raw_df_8_6_2021)} AirBnb listings; the avg price is €{round(berlin_raw_df_8_6_2021['price'].mean(),2)}.\")\n",
    "\n",
    "berlin_raw_df_9_7_2021 = pd.read_csv('/Users/brendan/Desktop/Python/Hustle Projects/Airbnb/data4/raw-data/berlin/berlin_2021-09.csv')\n",
    "berlin_raw_df_9_7_2021['Month']='9/7/2021'\n",
    "print(f\"The 9_7_2021 dataset contains {len(berlin_raw_df_9_7_2021)} AirBnb listings; the avg price is €{round(berlin_raw_df_9_7_2021['price'].mean(),2)}.\")\n",
    "\n",
    "berlin_raw_df_10_6_2021 = pd.read_csv('/Users/brendan/Desktop/Python/Hustle Projects/Airbnb/data4/raw-data/berlin/berlin_2021-10.csv')\n",
    "berlin_raw_df_10_6_2021['Month']='10/6/2021'\n",
    "print(f\"The 10_6_2021 dataset contains {len(berlin_raw_df_10_6_2021)} AirBnb listings; the avg price is €{round(berlin_raw_df_10_6_2021['price'].mean(),2)}.\")"
   ]
  },
  {
   "cell_type": "code",
   "execution_count": 224,
   "id": "8d56c30b",
   "metadata": {},
   "outputs": [],
   "source": [
    "berlin_list_of_df = [berlin_raw_df_12_12_2020, berlin_raw_df_1_9_2021, berlin_raw_df_2_8_2021, berlin_raw_df_3_4_2021,\n",
    "                        berlin_raw_df_4_9_2021, berlin_raw_df_6_3_2021, berlin_raw_df_7_4_2021, berlin_raw_df_8_6_2021, berlin_raw_df_9_7_2021]\n"
   ]
  },
  {
   "cell_type": "code",
   "execution_count": 225,
   "id": "6adad6d3",
   "metadata": {
    "scrolled": true
   },
   "outputs": [
    {
     "data": {
      "text/plain": [
       "(174770, 19)"
      ]
     },
     "execution_count": 225,
     "metadata": {},
     "output_type": "execute_result"
    }
   ],
   "source": [
    "berlin_df = pd.concat(berlin_list_of_df)\n",
    "berlin_df.shape"
   ]
  },
  {
   "cell_type": "code",
   "execution_count": 226,
   "id": "50bceade",
   "metadata": {},
   "outputs": [],
   "source": [
    "raw_df_berlin = pd.read_csv('/Users/brendan/Desktop/Python/Hustle Projects/Airbnb/data4/raw-data/berlin/berlin_detailed.csv')\n"
   ]
  },
  {
   "cell_type": "code",
   "execution_count": 227,
   "id": "b07d1920",
   "metadata": {},
   "outputs": [],
   "source": [
    "berlin_list_of_df = [berlin_raw_df_12_12_2020, berlin_raw_df_1_9_2021, berlin_raw_df_2_8_2021, berlin_raw_df_3_4_2021,\n",
    "                        berlin_raw_df_4_9_2021, berlin_raw_df_6_3_2021, berlin_raw_df_7_4_2021, berlin_raw_df_8_6_2021, berlin_raw_df_9_7_2021]\n"
   ]
  },
  {
   "cell_type": "code",
   "execution_count": 228,
   "id": "9d31dd3e",
   "metadata": {},
   "outputs": [
    {
     "data": {
      "text/plain": [
       "(174770, 19)"
      ]
     },
     "execution_count": 228,
     "metadata": {},
     "output_type": "execute_result"
    }
   ],
   "source": [
    "berlin_df = pd.concat(berlin_list_of_df)\n",
    "berlin_df.shape"
   ]
  },
  {
   "cell_type": "code",
   "execution_count": 542,
   "id": "8e9e8394",
   "metadata": {},
   "outputs": [
    {
     "data": {
      "text/plain": [
       "(174770, 15)"
      ]
     },
     "execution_count": 542,
     "metadata": {},
     "output_type": "execute_result"
    }
   ],
   "source": [
    "df_join_berlin = berlin_df.join(raw_df_berlin, lsuffix='_x', rsuffix='_y')\n",
    "berlin_df_master = df_join_berlin.copy()\n",
    "berlin_df_final = berlin_df_master[['id_x','Month', 'property_type', 'room_type_x', 'accommodates',\n",
    "                               'bedrooms', 'beds', 'price_x', 'availability_90','review_scores_rating',\n",
    "                               'review_scores_accuracy','review_scores_cleanliness','review_scores_location',\n",
    "                               'review_scores_value']]\n",
    "berlin_df_final['city']='Berlin'\n",
    "berlin_df_final['id_x'] = berlin_df_final['id_x'].apply(str)+'_berlin'\n",
    "#berlin_df_final= berlin_df_final[berlin_df_final['Month']=='9/7/2021']\n",
    "berlin_df_final.shape"
   ]
  },
  {
   "cell_type": "markdown",
   "id": "ffb6d74d",
   "metadata": {},
   "source": [
    "## Bordeaux"
   ]
  },
  {
   "cell_type": "code",
   "execution_count": 230,
   "id": "ac1e1e71",
   "metadata": {
    "scrolled": false
   },
   "outputs": [
    {
     "name": "stdout",
     "output_type": "stream",
     "text": [
      "The 12_12_2020 dataset contains 10562 AirBnb listings; the avg price is €89.18.\n",
      "The 1_9_2021 dataset contains 10615 AirBnb listings; the avg price is €87.85.\n",
      "The 2_8_2021 dataset contains 10590 AirBnb listings; the avg price is €89.51.\n",
      "The 3_4_2021 dataset contains 10466 AirBnb listings; the avg price is €89.95.\n",
      "The 4_9_2021 dataset contains 10567 AirBnb listings; the avg price is €91.56.\n",
      "The 6_3_2021 dataset contains 10496 AirBnb listings; the avg price is €94.35.\n",
      "The 7_4_2021 dataset contains 10616 AirBnb listings; the avg price is €95.36.\n",
      "The 8_6_2021 dataset contains 9663 AirBnb listings; the avg price is €98.91.\n",
      "The 9_7_2021 dataset contains 9440 AirBnb listings; the avg price is €96.77.\n",
      "The 10_6_2021 dataset contains 9424 AirBnb listings; the avg price is €96.95.\n"
     ]
    }
   ],
   "source": [
    "bordeaux_raw_df_12_12_2020 = pd.read_csv('/Users/brendan/Desktop/Python/Hustle Projects/Airbnb/data4/raw-data/bordeaux/bordeaux_2020-12.csv')\n",
    "bordeaux_raw_df_12_12_2020['Month']='12/12/2020' \n",
    "print(f\"The 12_12_2020 dataset contains {len(bordeaux_raw_df_12_12_2020)} AirBnb listings; the avg price is €{round(bordeaux_raw_df_12_12_2020['price'].mean(),2)}.\")\n",
    "\n",
    "bordeaux_raw_df_1_9_2021 = pd.read_csv('/Users/brendan/Desktop/Python/Hustle Projects/Airbnb/data4/raw-data/bordeaux/bordeaux_2021-01.csv')\n",
    "bordeaux_raw_df_1_9_2021['Month']='1/9/2021' \n",
    "print(f\"The 1_9_2021 dataset contains {len(bordeaux_raw_df_1_9_2021)} AirBnb listings; the avg price is €{round(bordeaux_raw_df_1_9_2021['price'].mean(),2)}.\")\n",
    "\n",
    "bordeaux_raw_df_2_8_2021 = pd.read_csv('/Users/brendan/Desktop/Python/Hustle Projects/Airbnb/data4/raw-data/bordeaux/bordeaux_2021-02.csv')\n",
    "bordeaux_raw_df_2_8_2021['Month']='2/8/2021'\n",
    "print(f\"The 2_8_2021 dataset contains {len(bordeaux_raw_df_2_8_2021)} AirBnb listings; the avg price is €{round(bordeaux_raw_df_2_8_2021['price'].mean(),2)}.\")\n",
    "\n",
    "bordeaux_raw_df_3_4_2021 = pd.read_csv('/Users/brendan/Desktop/Python/Hustle Projects/Airbnb/data4/raw-data/bordeaux/bordeaux_2021-03.csv')\n",
    "bordeaux_raw_df_3_4_2021['Month']='3/4/2021' \n",
    "print(f\"The 3_4_2021 dataset contains {len(bordeaux_raw_df_3_4_2021)} AirBnb listings; the avg price is €{round(bordeaux_raw_df_3_4_2021['price'].mean(),2)}.\")\n",
    "\n",
    "bordeaux_raw_df_4_9_2021 = pd.read_csv('/Users/brendan/Desktop/Python/Hustle Projects/Airbnb/data4/raw-data/bordeaux/bordeaux_2021-04.csv')\n",
    "bordeaux_raw_df_4_9_2021['Month']='4/9/2021'\n",
    "print(f\"The 4_9_2021 dataset contains {len(bordeaux_raw_df_4_9_2021)} AirBnb listings; the avg price is €{round(bordeaux_raw_df_4_9_2021['price'].mean(),2)}.\")\n",
    "\n",
    "#bordeaux_raw_df_5_19_2021 = pd.read_csv('/Users/brendan/Desktop/Python/Hustle Projects/Airbnb/data4/raw-data/bordeaux/bordeaux_2021-05.csv')\n",
    "#print(f\"The 5_19_2021 dataset contains {len(bordeaux_raw_df_5_19_2021)} AirBnb listings; the avg price is €{round(bordeaux_raw_df_5_19_2021['price'].mean(),2)}.\")\n",
    "\n",
    "bordeaux_raw_df_6_3_2021 = pd.read_csv('/Users/brendan/Desktop/Python/Hustle Projects/Airbnb/data4/raw-data/bordeaux/bordeaux_2021-06.csv')\n",
    "bordeaux_raw_df_6_3_2021['Month']='6/3/2021'\n",
    "print(f\"The 6_3_2021 dataset contains {len(bordeaux_raw_df_6_3_2021)} AirBnb listings; the avg price is €{round(bordeaux_raw_df_6_3_2021['price'].mean(),2)}.\")\n",
    "\n",
    "bordeaux_raw_df_7_4_2021 = pd.read_csv('/Users/brendan/Desktop/Python/Hustle Projects/Airbnb/data4/raw-data/bordeaux/bordeaux_2021-07.csv')\n",
    "bordeaux_raw_df_7_4_2021['Month']='7/4/2021'\n",
    "print(f\"The 7_4_2021 dataset contains {len(bordeaux_raw_df_7_4_2021)} AirBnb listings; the avg price is €{round(bordeaux_raw_df_7_4_2021['price'].mean(),2)}.\")\n",
    "\n",
    "bordeaux_raw_df_8_6_2021 = pd.read_csv('/Users/brendan/Desktop/Python/Hustle Projects/Airbnb/data4/raw-data/bordeaux/bordeaux_2021-08.csv')\n",
    "bordeaux_raw_df_8_6_2021['Month']='8/6/2021'\n",
    "print(f\"The 8_6_2021 dataset contains {len(bordeaux_raw_df_8_6_2021)} AirBnb listings; the avg price is €{round(bordeaux_raw_df_8_6_2021['price'].mean(),2)}.\")\n",
    "\n",
    "bordeaux_raw_df_9_7_2021 = pd.read_csv('/Users/brendan/Desktop/Python/Hustle Projects/Airbnb/data4/raw-data/bordeaux/bordeaux_2021-09.csv')\n",
    "bordeaux_raw_df_9_7_2021['Month']='9/7/2021'\n",
    "print(f\"The 9_7_2021 dataset contains {len(bordeaux_raw_df_9_7_2021)} AirBnb listings; the avg price is €{round(bordeaux_raw_df_9_7_2021['price'].mean(),2)}.\")\n",
    "\n",
    "bordeaux_raw_df_10_6_2021 = pd.read_csv('/Users/brendan/Desktop/Python/Hustle Projects/Airbnb/data4/raw-data/bordeaux/bordeaux_2021-10.csv')\n",
    "bordeaux_raw_df_10_6_2021['Month']='10/6/2021'\n",
    "print(f\"The 10_6_2021 dataset contains {len(bordeaux_raw_df_10_6_2021)} AirBnb listings; the avg price is €{round(bordeaux_raw_df_10_6_2021['price'].mean(),2)}.\")"
   ]
  },
  {
   "cell_type": "code",
   "execution_count": 231,
   "id": "631139c8",
   "metadata": {},
   "outputs": [],
   "source": [
    "bordeaux_list_of_df = [bordeaux_raw_df_12_12_2020, bordeaux_raw_df_1_9_2021, bordeaux_raw_df_2_8_2021, bordeaux_raw_df_3_4_2021,\n",
    "                        bordeaux_raw_df_4_9_2021, bordeaux_raw_df_6_3_2021, bordeaux_raw_df_7_4_2021, bordeaux_raw_df_8_6_2021, bordeaux_raw_df_9_7_2021]\n"
   ]
  },
  {
   "cell_type": "code",
   "execution_count": 232,
   "id": "8429c8dd",
   "metadata": {},
   "outputs": [
    {
     "data": {
      "text/plain": [
       "(93015, 19)"
      ]
     },
     "execution_count": 232,
     "metadata": {},
     "output_type": "execute_result"
    }
   ],
   "source": [
    "bordeaux_df = pd.concat(bordeaux_list_of_df)\n",
    "bordeaux_df.shape"
   ]
  },
  {
   "cell_type": "code",
   "execution_count": 233,
   "id": "913efd1d",
   "metadata": {},
   "outputs": [],
   "source": [
    "raw_df_bordeaux = pd.read_csv('/Users/brendan/Desktop/Python/Hustle Projects/Airbnb/data4/raw-data/bordeaux/bordeaux_detailed.csv')\n"
   ]
  },
  {
   "cell_type": "code",
   "execution_count": 234,
   "id": "3766e81b",
   "metadata": {},
   "outputs": [],
   "source": [
    "bordeaux_list_of_df = [bordeaux_raw_df_12_12_2020, bordeaux_raw_df_1_9_2021, bordeaux_raw_df_2_8_2021, bordeaux_raw_df_3_4_2021,\n",
    "                        bordeaux_raw_df_4_9_2021, bordeaux_raw_df_6_3_2021, bordeaux_raw_df_7_4_2021, bordeaux_raw_df_8_6_2021, bordeaux_raw_df_9_7_2021]\n"
   ]
  },
  {
   "cell_type": "code",
   "execution_count": 235,
   "id": "fdbf7320",
   "metadata": {},
   "outputs": [
    {
     "data": {
      "text/plain": [
       "(93015, 19)"
      ]
     },
     "execution_count": 235,
     "metadata": {},
     "output_type": "execute_result"
    }
   ],
   "source": [
    "bordeaux_df = pd.concat(bordeaux_list_of_df)\n",
    "bordeaux_df.shape"
   ]
  },
  {
   "cell_type": "code",
   "execution_count": 543,
   "id": "e1c25e79",
   "metadata": {},
   "outputs": [
    {
     "data": {
      "text/plain": [
       "(93015, 15)"
      ]
     },
     "execution_count": 543,
     "metadata": {},
     "output_type": "execute_result"
    }
   ],
   "source": [
    "df_join_bordeaux = bordeaux_df.join(raw_df_bordeaux, lsuffix='_x', rsuffix='_y')\n",
    "bordeaux_df_master = df_join_bordeaux.copy()\n",
    "bordeaux_df_final = bordeaux_df_master[['id_x','Month', 'property_type', 'room_type_x', 'accommodates',\n",
    "                               'bedrooms', 'beds', 'price_x', 'availability_90','review_scores_rating',\n",
    "                               'review_scores_accuracy','review_scores_cleanliness','review_scores_location',\n",
    "                               'review_scores_value']]\n",
    "bordeaux_df_final['city']='Bordeaux'\n",
    "bordeaux_df_final['id_x'] = bordeaux_df_final['id_x'].apply(str)+'_bordeaux'\n",
    "#bordeaux_df_final= bordeaux_df_final[bordeaux_df_final['Month']=='9/7/2021']\n",
    "bordeaux_df_final.shape"
   ]
  },
  {
   "cell_type": "markdown",
   "id": "1c2d7224",
   "metadata": {},
   "source": [
    "## Brussels"
   ]
  },
  {
   "cell_type": "code",
   "execution_count": 237,
   "id": "ad83851d",
   "metadata": {
    "scrolled": true
   },
   "outputs": [
    {
     "name": "stdout",
     "output_type": "stream",
     "text": [
      "The 12_12_2020 dataset contains 5614 AirBnb listings; the avg price is €82.81.\n",
      "The 1_9_2021 dataset contains 5557 AirBnb listings; the avg price is €77.53.\n",
      "The 2_8_2021 dataset contains 5507 AirBnb listings; the avg price is €79.5.\n",
      "The 3_4_2021 dataset contains 5453 AirBnb listings; the avg price is €79.04.\n",
      "The 4_9_2021 dataset contains 5537 AirBnb listings; the avg price is €79.75.\n",
      "The 6_3_2021 dataset contains 5642 AirBnb listings; the avg price is €84.2.\n",
      "The 7_4_2021 dataset contains 5718 AirBnb listings; the avg price is €83.65.\n",
      "The 8_6_2021 dataset contains 5531 AirBnb listings; the avg price is €85.18.\n",
      "The 9_7_2021 dataset contains 5443 AirBnb listings; the avg price is €87.12.\n",
      "The 10_6_2021 dataset contains 5336 AirBnb listings; the avg price is €90.94.\n"
     ]
    }
   ],
   "source": [
    "brussels_raw_df_12_12_2020 = pd.read_csv('/Users/brendan/Desktop/Python/Hustle Projects/Airbnb/data4/raw-data/brussels/brussels_2020-12.csv')\n",
    "brussels_raw_df_12_12_2020['Month']='12/12/2020' \n",
    "print(f\"The 12_12_2020 dataset contains {len(brussels_raw_df_12_12_2020)} AirBnb listings; the avg price is €{round(brussels_raw_df_12_12_2020['price'].mean(),2)}.\")\n",
    "\n",
    "brussels_raw_df_1_9_2021 = pd.read_csv('/Users/brendan/Desktop/Python/Hustle Projects/Airbnb/data4/raw-data/brussels/brussels_2021-01.csv')\n",
    "brussels_raw_df_1_9_2021['Month']='1/9/2021' \n",
    "print(f\"The 1_9_2021 dataset contains {len(brussels_raw_df_1_9_2021)} AirBnb listings; the avg price is €{round(brussels_raw_df_1_9_2021['price'].mean(),2)}.\")\n",
    "\n",
    "brussels_raw_df_2_8_2021 = pd.read_csv('/Users/brendan/Desktop/Python/Hustle Projects/Airbnb/data4/raw-data/brussels/brussels_2021-02.csv')\n",
    "brussels_raw_df_2_8_2021['Month']='2/8/2021'\n",
    "print(f\"The 2_8_2021 dataset contains {len(brussels_raw_df_2_8_2021)} AirBnb listings; the avg price is €{round(brussels_raw_df_2_8_2021['price'].mean(),2)}.\")\n",
    "\n",
    "brussels_raw_df_3_4_2021 = pd.read_csv('/Users/brendan/Desktop/Python/Hustle Projects/Airbnb/data4/raw-data/brussels/brussels_2021-03.csv')\n",
    "brussels_raw_df_3_4_2021['Month']='3/4/2021' \n",
    "print(f\"The 3_4_2021 dataset contains {len(brussels_raw_df_3_4_2021)} AirBnb listings; the avg price is €{round(brussels_raw_df_3_4_2021['price'].mean(),2)}.\")\n",
    "\n",
    "brussels_raw_df_4_9_2021 = pd.read_csv('/Users/brendan/Desktop/Python/Hustle Projects/Airbnb/data4/raw-data/brussels/brussels_2021-04.csv')\n",
    "brussels_raw_df_4_9_2021['Month']='4/9/2021'\n",
    "print(f\"The 4_9_2021 dataset contains {len(brussels_raw_df_4_9_2021)} AirBnb listings; the avg price is €{round(brussels_raw_df_4_9_2021['price'].mean(),2)}.\")\n",
    "\n",
    "#brussels_raw_df_5_19_2021 = pd.read_csv('/Users/brendan/Desktop/Python/Hustle Projects/Airbnb/data4/raw-data/brussels/brussels_2021-05.csv')\n",
    "#print(f\"The 5_19_2021 dataset contains {len(brussels_raw_df_5_19_2021)} AirBnb listings; the avg price is €{round(brussels_raw_df_5_19_2021['price'].mean(),2)}.\")\n",
    "\n",
    "brussels_raw_df_6_3_2021 = pd.read_csv('/Users/brendan/Desktop/Python/Hustle Projects/Airbnb/data4/raw-data/brussels/brussels_2021-06.csv')\n",
    "brussels_raw_df_6_3_2021['Month']='6/3/2021'\n",
    "print(f\"The 6_3_2021 dataset contains {len(brussels_raw_df_6_3_2021)} AirBnb listings; the avg price is €{round(brussels_raw_df_6_3_2021['price'].mean(),2)}.\")\n",
    "\n",
    "brussels_raw_df_7_4_2021 = pd.read_csv('/Users/brendan/Desktop/Python/Hustle Projects/Airbnb/data4/raw-data/brussels/brussels_2021-07.csv')\n",
    "brussels_raw_df_7_4_2021['Month']='7/4/2021'\n",
    "print(f\"The 7_4_2021 dataset contains {len(brussels_raw_df_7_4_2021)} AirBnb listings; the avg price is €{round(brussels_raw_df_7_4_2021['price'].mean(),2)}.\")\n",
    "\n",
    "brussels_raw_df_8_6_2021 = pd.read_csv('/Users/brendan/Desktop/Python/Hustle Projects/Airbnb/data4/raw-data/brussels/brussels_2021-08.csv')\n",
    "brussels_raw_df_8_6_2021['Month']='8/6/2021'\n",
    "print(f\"The 8_6_2021 dataset contains {len(brussels_raw_df_8_6_2021)} AirBnb listings; the avg price is €{round(brussels_raw_df_8_6_2021['price'].mean(),2)}.\")\n",
    "\n",
    "brussels_raw_df_9_7_2021 = pd.read_csv('/Users/brendan/Desktop/Python/Hustle Projects/Airbnb/data4/raw-data/brussels/brussels_2021-09.csv')\n",
    "brussels_raw_df_9_7_2021['Month']='9/7/2021'\n",
    "print(f\"The 9_7_2021 dataset contains {len(brussels_raw_df_9_7_2021)} AirBnb listings; the avg price is €{round(brussels_raw_df_9_7_2021['price'].mean(),2)}.\")\n",
    "\n",
    "brussels_raw_df_10_6_2021 = pd.read_csv('/Users/brendan/Desktop/Python/Hustle Projects/Airbnb/data4/raw-data/brussels/brussels_2021-10.csv')\n",
    "brussels_raw_df_10_6_2021['Month']='10/6/2021'\n",
    "print(f\"The 10_6_2021 dataset contains {len(brussels_raw_df_10_6_2021)} AirBnb listings; the avg price is €{round(brussels_raw_df_10_6_2021['price'].mean(),2)}.\")"
   ]
  },
  {
   "cell_type": "code",
   "execution_count": 238,
   "id": "528637b6",
   "metadata": {},
   "outputs": [],
   "source": [
    "brussels_list_of_df = [brussels_raw_df_12_12_2020, brussels_raw_df_1_9_2021, brussels_raw_df_2_8_2021, brussels_raw_df_3_4_2021,\n",
    "                        brussels_raw_df_4_9_2021, brussels_raw_df_6_3_2021, brussels_raw_df_7_4_2021, brussels_raw_df_8_6_2021, brussels_raw_df_9_7_2021]\n"
   ]
  },
  {
   "cell_type": "code",
   "execution_count": 239,
   "id": "c5cfd24c",
   "metadata": {},
   "outputs": [
    {
     "data": {
      "text/plain": [
       "(50002, 19)"
      ]
     },
     "execution_count": 239,
     "metadata": {},
     "output_type": "execute_result"
    }
   ],
   "source": [
    "brussels_df = pd.concat(brussels_list_of_df)\n",
    "brussels_df.shape"
   ]
  },
  {
   "cell_type": "code",
   "execution_count": 240,
   "id": "e334437c",
   "metadata": {},
   "outputs": [],
   "source": [
    "raw_df_brussels = pd.read_csv('/Users/brendan/Desktop/Python/Hustle Projects/Airbnb/data4/raw-data/brussels/brussels_detailed.csv')\n"
   ]
  },
  {
   "cell_type": "code",
   "execution_count": 241,
   "id": "3b3a2a0d",
   "metadata": {},
   "outputs": [],
   "source": [
    "brussels_list_of_df = [brussels_raw_df_12_12_2020, brussels_raw_df_1_9_2021, brussels_raw_df_2_8_2021, brussels_raw_df_3_4_2021,\n",
    "                        brussels_raw_df_4_9_2021, brussels_raw_df_6_3_2021, brussels_raw_df_7_4_2021, brussels_raw_df_8_6_2021, brussels_raw_df_9_7_2021]\n"
   ]
  },
  {
   "cell_type": "code",
   "execution_count": 242,
   "id": "2f1803ae",
   "metadata": {},
   "outputs": [
    {
     "data": {
      "text/plain": [
       "(50002, 19)"
      ]
     },
     "execution_count": 242,
     "metadata": {},
     "output_type": "execute_result"
    }
   ],
   "source": [
    "brussels_df = pd.concat(brussels_list_of_df)\n",
    "brussels_df.shape"
   ]
  },
  {
   "cell_type": "code",
   "execution_count": 544,
   "id": "3a2bbcf7",
   "metadata": {},
   "outputs": [
    {
     "data": {
      "text/plain": [
       "(50002, 15)"
      ]
     },
     "execution_count": 544,
     "metadata": {},
     "output_type": "execute_result"
    }
   ],
   "source": [
    "df_join_brussels = brussels_df.join(raw_df_brussels, lsuffix='_x', rsuffix='_y')\n",
    "brussels_df_master = df_join_brussels.copy()\n",
    "brussels_df_final = brussels_df_master[['id_x','Month', 'property_type', 'room_type_x', 'accommodates',\n",
    "                               'bedrooms', 'beds', 'price_x', 'availability_90','review_scores_rating',\n",
    "                               'review_scores_accuracy','review_scores_cleanliness','review_scores_location',\n",
    "                               'review_scores_value']]\n",
    "brussels_df_final['city']='Brussels'\n",
    "brussels_df_final['id_x'] = brussels_df_final['id_x'].apply(str)+'_brussels'\n",
    "#brussels_df_final= brussels_df_final[brussels_df_final['Month']=='9/7/2021']\n",
    "brussels_df_final.shape"
   ]
  },
  {
   "cell_type": "markdown",
   "id": "b9786f6d",
   "metadata": {},
   "source": [
    "## Crete"
   ]
  },
  {
   "cell_type": "code",
   "execution_count": 244,
   "id": "e24cb28a",
   "metadata": {
    "scrolled": false
   },
   "outputs": [
    {
     "name": "stdout",
     "output_type": "stream",
     "text": [
      "The 12_12_2020 dataset contains 18091 AirBnb listings; the avg price is €268.73.\n",
      "The 1_9_2021 dataset contains 18316 AirBnb listings; the avg price is €279.93.\n",
      "The 2_8_2021 dataset contains 18521 AirBnb listings; the avg price is €279.71.\n",
      "The 3_4_2021 dataset contains 18915 AirBnb listings; the avg price is €280.21.\n",
      "The 4_9_2021 dataset contains 19431 AirBnb listings; the avg price is €173.43.\n",
      "The 7_4_2021 dataset contains 19673 AirBnb listings; the avg price is €208.33.\n",
      "The 8_6_2021 dataset contains 20056 AirBnb listings; the avg price is €195.98.\n",
      "The 9_7_2021 dataset contains 20301 AirBnb listings; the avg price is €165.7.\n",
      "The 10_6_2021 dataset contains 20180 AirBnb listings; the avg price is €225.38.\n"
     ]
    }
   ],
   "source": [
    "crete_raw_df_12_12_2020 = pd.read_csv('/Users/brendan/Desktop/Python/Hustle Projects/Airbnb/data4/raw-data/crete/crete_2020-12.csv')\n",
    "crete_raw_df_12_12_2020['Month']='12/12/2020' \n",
    "print(f\"The 12_12_2020 dataset contains {len(crete_raw_df_12_12_2020)} AirBnb listings; the avg price is €{round(crete_raw_df_12_12_2020['price'].mean(),2)}.\")\n",
    "\n",
    "crete_raw_df_1_9_2021 = pd.read_csv('/Users/brendan/Desktop/Python/Hustle Projects/Airbnb/data4/raw-data/crete/crete_2021-01.csv')\n",
    "crete_raw_df_1_9_2021['Month']='1/9/2021' \n",
    "print(f\"The 1_9_2021 dataset contains {len(crete_raw_df_1_9_2021)} AirBnb listings; the avg price is €{round(crete_raw_df_1_9_2021['price'].mean(),2)}.\")\n",
    "\n",
    "crete_raw_df_2_8_2021 = pd.read_csv('/Users/brendan/Desktop/Python/Hustle Projects/Airbnb/data4/raw-data/crete/crete_2021-02.csv')\n",
    "crete_raw_df_2_8_2021['Month']='2/8/2021'\n",
    "print(f\"The 2_8_2021 dataset contains {len(crete_raw_df_2_8_2021)} AirBnb listings; the avg price is €{round(crete_raw_df_2_8_2021['price'].mean(),2)}.\")\n",
    "\n",
    "crete_raw_df_3_4_2021 = pd.read_csv('/Users/brendan/Desktop/Python/Hustle Projects/Airbnb/data4/raw-data/crete/crete_2021-03.csv')\n",
    "crete_raw_df_3_4_2021['Month']='3/4/2021' \n",
    "print(f\"The 3_4_2021 dataset contains {len(crete_raw_df_3_4_2021)} AirBnb listings; the avg price is €{round(crete_raw_df_3_4_2021['price'].mean(),2)}.\")\n",
    "\n",
    "crete_raw_df_4_9_2021 = pd.read_csv('/Users/brendan/Desktop/Python/Hustle Projects/Airbnb/data4/raw-data/crete/crete_2021-04.csv')\n",
    "crete_raw_df_4_9_2021['Month']='4/9/2021'\n",
    "print(f\"The 4_9_2021 dataset contains {len(crete_raw_df_4_9_2021)} AirBnb listings; the avg price is €{round(crete_raw_df_4_9_2021['price'].mean(),2)}.\")\n",
    "\n",
    "#crete_raw_df_5_19_2021 = pd.read_csv('/Users/brendan/Desktop/Python/Hustle Projects/Airbnb/data4/raw-data/crete/crete_2021-05.csv')\n",
    "#print(f\"The 5_19_2021 dataset contains {len(crete_raw_df_5_19_2021)} AirBnb listings; the avg price is €{round(crete_raw_df_5_19_2021['price'].mean(),2)}.\")\n",
    "\n",
    "#crete_raw_df_6_3_2021 = pd.read_csv('/Users/brendan/Desktop/Python/Hustle Projects/Airbnb/data4/raw-data/crete/crete_2021-06.csv')\n",
    "#crete_raw_df_6_3_2021['Month']='6/3/2021'\n",
    "#print(f\"The 6_3_2021 dataset contains {len(crete_raw_df_6_3_2021)} AirBnb listings; the avg price is €{round(crete_raw_df_6_3_2021['price'].mean(),2)}.\")\n",
    "\n",
    "crete_raw_df_7_4_2021 = pd.read_csv('/Users/brendan/Desktop/Python/Hustle Projects/Airbnb/data4/raw-data/crete/crete_2021-07.csv')\n",
    "crete_raw_df_7_4_2021['Month']='7/4/2021'\n",
    "print(f\"The 7_4_2021 dataset contains {len(crete_raw_df_7_4_2021)} AirBnb listings; the avg price is €{round(crete_raw_df_7_4_2021['price'].mean(),2)}.\")\n",
    "\n",
    "crete_raw_df_8_6_2021 = pd.read_csv('/Users/brendan/Desktop/Python/Hustle Projects/Airbnb/data4/raw-data/crete/crete_2021-08.csv')\n",
    "crete_raw_df_8_6_2021['Month']='8/6/2021'\n",
    "print(f\"The 8_6_2021 dataset contains {len(crete_raw_df_8_6_2021)} AirBnb listings; the avg price is €{round(crete_raw_df_8_6_2021['price'].mean(),2)}.\")\n",
    "\n",
    "crete_raw_df_9_7_2021 = pd.read_csv('/Users/brendan/Desktop/Python/Hustle Projects/Airbnb/data4/raw-data/crete/crete_2021-09.csv')\n",
    "crete_raw_df_9_7_2021['Month']='9/7/2021'\n",
    "print(f\"The 9_7_2021 dataset contains {len(crete_raw_df_9_7_2021)} AirBnb listings; the avg price is €{round(crete_raw_df_9_7_2021['price'].mean(),2)}.\")\n",
    "\n",
    "crete_raw_df_10_6_2021 = pd.read_csv('/Users/brendan/Desktop/Python/Hustle Projects/Airbnb/data4/raw-data/crete/crete_2021-10.csv')\n",
    "crete_raw_df_10_6_2021['Month']='10/6/2021'\n",
    "print(f\"The 10_6_2021 dataset contains {len(crete_raw_df_10_6_2021)} AirBnb listings; the avg price is €{round(crete_raw_df_10_6_2021['price'].mean(),2)}.\")"
   ]
  },
  {
   "cell_type": "code",
   "execution_count": 411,
   "id": "b074505e",
   "metadata": {},
   "outputs": [],
   "source": [
    "crete_list_of_df = [crete_raw_df_12_12_2020, crete_raw_df_1_9_2021, crete_raw_df_2_8_2021, crete_raw_df_3_4_2021,\n",
    "                        crete_raw_df_4_9_2021, crete_raw_df_7_4_2021, crete_raw_df_8_6_2021, crete_raw_df_9_7_2021]\n"
   ]
  },
  {
   "cell_type": "code",
   "execution_count": 246,
   "id": "0a607f3a",
   "metadata": {},
   "outputs": [
    {
     "data": {
      "text/plain": [
       "(153304, 19)"
      ]
     },
     "execution_count": 246,
     "metadata": {},
     "output_type": "execute_result"
    }
   ],
   "source": [
    "crete_df = pd.concat(crete_list_of_df)\n",
    "crete_df.shape"
   ]
  },
  {
   "cell_type": "code",
   "execution_count": 247,
   "id": "f7140271",
   "metadata": {},
   "outputs": [],
   "source": [
    "raw_df_crete = pd.read_csv('/Users/brendan/Desktop/Python/Hustle Projects/Airbnb/data4/raw-data/crete/crete_detailed.csv')\n"
   ]
  },
  {
   "cell_type": "code",
   "execution_count": 248,
   "id": "505f9a3f",
   "metadata": {},
   "outputs": [],
   "source": [
    "crete_list_of_df = [crete_raw_df_12_12_2020, crete_raw_df_1_9_2021, crete_raw_df_2_8_2021, crete_raw_df_3_4_2021,\n",
    "                        crete_raw_df_4_9_2021,  crete_raw_df_7_4_2021, crete_raw_df_8_6_2021, crete_raw_df_9_7_2021]\n"
   ]
  },
  {
   "cell_type": "code",
   "execution_count": 249,
   "id": "fdf91509",
   "metadata": {},
   "outputs": [
    {
     "data": {
      "text/plain": [
       "(153304, 19)"
      ]
     },
     "execution_count": 249,
     "metadata": {},
     "output_type": "execute_result"
    }
   ],
   "source": [
    "crete_df = pd.concat(crete_list_of_df)\n",
    "crete_df.shape"
   ]
  },
  {
   "cell_type": "code",
   "execution_count": 545,
   "id": "80ca39e4",
   "metadata": {},
   "outputs": [
    {
     "data": {
      "text/plain": [
       "(153304, 15)"
      ]
     },
     "execution_count": 545,
     "metadata": {},
     "output_type": "execute_result"
    }
   ],
   "source": [
    "df_join_crete = crete_df.join(raw_df_crete, lsuffix='_x', rsuffix='_y')\n",
    "crete_df_master = df_join_crete.copy()\n",
    "crete_df_final = crete_df_master[['id_x','Month', 'property_type', 'room_type_x', 'accommodates',\n",
    "                               'bedrooms', 'beds', 'price_x', 'availability_90','review_scores_rating',\n",
    "                               'review_scores_accuracy','review_scores_cleanliness','review_scores_location',\n",
    "                               'review_scores_value']]\n",
    "crete_df_final['city']='Crete'\n",
    "crete_df_final['id_x'] = crete_df_final['id_x'].apply(str)+'_crete'\n",
    "#crete_df_final= crete_df_final[crete_df_final['Month']=='9/7/2021']\n",
    "crete_df_final.shape"
   ]
  },
  {
   "cell_type": "markdown",
   "id": "8bb496c0",
   "metadata": {},
   "source": [
    "## Florence"
   ]
  },
  {
   "cell_type": "code",
   "execution_count": 251,
   "id": "d1878841",
   "metadata": {
    "scrolled": false
   },
   "outputs": [
    {
     "name": "stdout",
     "output_type": "stream",
     "text": [
      "The 12_12_2020 dataset contains 11632 AirBnb listings; the avg price is €112.77.\n",
      "The 1_9_2021 dataset contains 11527 AirBnb listings; the avg price is €103.19.\n",
      "The 2_8_2021 dataset contains 11436 AirBnb listings; the avg price is €103.06.\n",
      "The 3_4_2021 dataset contains 11322 AirBnb listings; the avg price is €105.43.\n",
      "The 4_9_2021 dataset contains 11311 AirBnb listings; the avg price is €110.93.\n",
      "The 6_3_2021 dataset contains 11209 AirBnb listings; the avg price is €121.39.\n",
      "The 7_4_2021 dataset contains 11364 AirBnb listings; the avg price is €123.61.\n",
      "The 8_6_2021 dataset contains 11035 AirBnb listings; the avg price is €125.61.\n",
      "The 9_7_2021 dataset contains 10793 AirBnb listings; the avg price is €122.85.\n",
      "The 10_6_2021 dataset contains 10548 AirBnb listings; the avg price is €123.17.\n"
     ]
    }
   ],
   "source": [
    "florence_raw_df_12_12_2020 = pd.read_csv('/Users/brendan/Desktop/Python/Hustle Projects/Airbnb/data4/raw-data/florence/florence_2020-12.csv')\n",
    "florence_raw_df_12_12_2020['Month']='12/12/2020' \n",
    "print(f\"The 12_12_2020 dataset contains {len(florence_raw_df_12_12_2020)} AirBnb listings; the avg price is €{round(florence_raw_df_12_12_2020['price'].mean(),2)}.\")\n",
    "\n",
    "florence_raw_df_1_9_2021 = pd.read_csv('/Users/brendan/Desktop/Python/Hustle Projects/Airbnb/data4/raw-data/florence/florence_2021-01.csv')\n",
    "florence_raw_df_1_9_2021['Month']='1/9/2021' \n",
    "print(f\"The 1_9_2021 dataset contains {len(florence_raw_df_1_9_2021)} AirBnb listings; the avg price is €{round(florence_raw_df_1_9_2021['price'].mean(),2)}.\")\n",
    "\n",
    "florence_raw_df_2_8_2021 = pd.read_csv('/Users/brendan/Desktop/Python/Hustle Projects/Airbnb/data4/raw-data/florence/florence_2021-02.csv')\n",
    "florence_raw_df_2_8_2021['Month']='2/8/2021'\n",
    "print(f\"The 2_8_2021 dataset contains {len(florence_raw_df_2_8_2021)} AirBnb listings; the avg price is €{round(florence_raw_df_2_8_2021['price'].mean(),2)}.\")\n",
    "\n",
    "florence_raw_df_3_4_2021 = pd.read_csv('/Users/brendan/Desktop/Python/Hustle Projects/Airbnb/data4/raw-data/florence/florence_2021-03.csv')\n",
    "florence_raw_df_3_4_2021['Month']='3/4/2021' \n",
    "print(f\"The 3_4_2021 dataset contains {len(florence_raw_df_3_4_2021)} AirBnb listings; the avg price is €{round(florence_raw_df_3_4_2021['price'].mean(),2)}.\")\n",
    "\n",
    "florence_raw_df_4_9_2021 = pd.read_csv('/Users/brendan/Desktop/Python/Hustle Projects/Airbnb/data4/raw-data/florence/florence_2021-04.csv')\n",
    "florence_raw_df_4_9_2021['Month']='4/9/2021'\n",
    "print(f\"The 4_9_2021 dataset contains {len(florence_raw_df_4_9_2021)} AirBnb listings; the avg price is €{round(florence_raw_df_4_9_2021['price'].mean(),2)}.\")\n",
    "\n",
    "#florence_raw_df_5_19_2021 = pd.read_csv('/Users/brendan/Desktop/Python/Hustle Projects/Airbnb/data4/raw-data/florence/florence_2021-05.csv')\n",
    "#print(f\"The 5_19_2021 dataset contains {len(florence_raw_df_5_19_2021)} AirBnb listings; the avg price is €{round(florence_raw_df_5_19_2021['price'].mean(),2)}.\")\n",
    "\n",
    "florence_raw_df_6_3_2021 = pd.read_csv('/Users/brendan/Desktop/Python/Hustle Projects/Airbnb/data4/raw-data/florence/florence_2021-06.csv')\n",
    "florence_raw_df_6_3_2021['Month']='6/3/2021'\n",
    "print(f\"The 6_3_2021 dataset contains {len(florence_raw_df_6_3_2021)} AirBnb listings; the avg price is €{round(florence_raw_df_6_3_2021['price'].mean(),2)}.\")\n",
    "\n",
    "florence_raw_df_7_4_2021 = pd.read_csv('/Users/brendan/Desktop/Python/Hustle Projects/Airbnb/data4/raw-data/florence/florence_2021-07.csv')\n",
    "florence_raw_df_7_4_2021['Month']='7/4/2021'\n",
    "print(f\"The 7_4_2021 dataset contains {len(florence_raw_df_7_4_2021)} AirBnb listings; the avg price is €{round(florence_raw_df_7_4_2021['price'].mean(),2)}.\")\n",
    "\n",
    "florence_raw_df_8_6_2021 = pd.read_csv('/Users/brendan/Desktop/Python/Hustle Projects/Airbnb/data4/raw-data/florence/florence_2021-08.csv')\n",
    "florence_raw_df_8_6_2021['Month']='8/6/2021'\n",
    "print(f\"The 8_6_2021 dataset contains {len(florence_raw_df_8_6_2021)} AirBnb listings; the avg price is €{round(florence_raw_df_8_6_2021['price'].mean(),2)}.\")\n",
    "\n",
    "florence_raw_df_9_7_2021 = pd.read_csv('/Users/brendan/Desktop/Python/Hustle Projects/Airbnb/data4/raw-data/florence/florence_2021-09.csv')\n",
    "florence_raw_df_9_7_2021['Month']='9/7/2021'\n",
    "print(f\"The 9_7_2021 dataset contains {len(florence_raw_df_9_7_2021)} AirBnb listings; the avg price is €{round(florence_raw_df_9_7_2021['price'].mean(),2)}.\")\n",
    "\n",
    "florence_raw_df_10_6_2021 = pd.read_csv('/Users/brendan/Desktop/Python/Hustle Projects/Airbnb/data4/raw-data/florence/florence_2021-10.csv')\n",
    "florence_raw_df_10_6_2021['Month']='10/6/2021'\n",
    "print(f\"The 10_6_2021 dataset contains {len(florence_raw_df_10_6_2021)} AirBnb listings; the avg price is €{round(florence_raw_df_10_6_2021['price'].mean(),2)}.\")"
   ]
  },
  {
   "cell_type": "code",
   "execution_count": 252,
   "id": "74e76a9e",
   "metadata": {},
   "outputs": [],
   "source": [
    "florence_list_of_df = [florence_raw_df_12_12_2020, florence_raw_df_1_9_2021, florence_raw_df_2_8_2021, florence_raw_df_3_4_2021,\n",
    "                        florence_raw_df_4_9_2021, florence_raw_df_6_3_2021, florence_raw_df_7_4_2021, florence_raw_df_8_6_2021, florence_raw_df_9_7_2021]\n"
   ]
  },
  {
   "cell_type": "code",
   "execution_count": 253,
   "id": "129d957b",
   "metadata": {},
   "outputs": [
    {
     "data": {
      "text/plain": [
       "(101629, 19)"
      ]
     },
     "execution_count": 253,
     "metadata": {},
     "output_type": "execute_result"
    }
   ],
   "source": [
    "florence_df = pd.concat(florence_list_of_df)\n",
    "florence_df.shape"
   ]
  },
  {
   "cell_type": "code",
   "execution_count": 254,
   "id": "8b114ddb",
   "metadata": {},
   "outputs": [],
   "source": [
    "raw_df_florence = pd.read_csv('/Users/brendan/Desktop/Python/Hustle Projects/Airbnb/data4/raw-data/florence/florence_detailed.csv')\n"
   ]
  },
  {
   "cell_type": "code",
   "execution_count": 255,
   "id": "9459641c",
   "metadata": {},
   "outputs": [],
   "source": [
    "florence_list_of_df = [florence_raw_df_12_12_2020, florence_raw_df_1_9_2021, florence_raw_df_2_8_2021, florence_raw_df_3_4_2021,\n",
    "                        florence_raw_df_4_9_2021, florence_raw_df_6_3_2021, florence_raw_df_7_4_2021, florence_raw_df_8_6_2021, florence_raw_df_9_7_2021]\n"
   ]
  },
  {
   "cell_type": "code",
   "execution_count": 256,
   "id": "849c266c",
   "metadata": {},
   "outputs": [
    {
     "data": {
      "text/plain": [
       "(101629, 19)"
      ]
     },
     "execution_count": 256,
     "metadata": {},
     "output_type": "execute_result"
    }
   ],
   "source": [
    "florence_df = pd.concat(florence_list_of_df)\n",
    "florence_df.shape"
   ]
  },
  {
   "cell_type": "code",
   "execution_count": 546,
   "id": "6c786e64",
   "metadata": {
    "scrolled": true
   },
   "outputs": [
    {
     "data": {
      "text/plain": [
       "(101629, 15)"
      ]
     },
     "execution_count": 546,
     "metadata": {},
     "output_type": "execute_result"
    }
   ],
   "source": [
    "df_join_florence = florence_df.join(raw_df_florence, lsuffix='_x', rsuffix='_y')\n",
    "florence_df_master = df_join_florence.copy()\n",
    "florence_df_final = florence_df_master[['id_x','Month', 'property_type', 'room_type_x', 'accommodates',\n",
    "                               'bedrooms', 'beds', 'price_x', 'availability_90','review_scores_rating',\n",
    "                               'review_scores_accuracy','review_scores_cleanliness','review_scores_location',\n",
    "                               'review_scores_value']]\n",
    "florence_df_final['city']='Florence'\n",
    "florence_df_final['id_x'] = florence_df_final['id_x'].apply(str)+'_florence'\n",
    "\n",
    "#florence_df_final= florence_df_final[florence_df_final['Month']=='9/7/2021']\n",
    "florence_df_final.shape"
   ]
  },
  {
   "cell_type": "markdown",
   "id": "845f3a07",
   "metadata": {},
   "source": [
    "## Lisbon"
   ]
  },
  {
   "cell_type": "code",
   "execution_count": 258,
   "id": "f34953a0",
   "metadata": {
    "scrolled": true
   },
   "outputs": [
    {
     "name": "stdout",
     "output_type": "stream",
     "text": [
      "The 12_12_2020 dataset contains 20141 AirBnb listings; the avg price is €103.15.\n",
      "The 1_9_2021 dataset contains 20057 AirBnb listings; the avg price is €96.05.\n",
      "The 2_8_2021 dataset contains 19877 AirBnb listings; the avg price is €95.25.\n",
      "The 3_4_2021 dataset contains 19804 AirBnb listings; the avg price is €95.45.\n",
      "The 4_9_2021 dataset contains 19819 AirBnb listings; the avg price is €97.42.\n",
      "The 6_3_2021 dataset contains 19281 AirBnb listings; the avg price is €106.87.\n",
      "The 7_4_2021 dataset contains 19458 AirBnb listings; the avg price is €108.3.\n",
      "The 8_6_2021 dataset contains 19339 AirBnb listings; the avg price is €110.56.\n",
      "The 9_7_2021 dataset contains 19106 AirBnb listings; the avg price is €106.12.\n",
      "The 10_6_2021 dataset contains 18761 AirBnb listings; the avg price is €104.58.\n"
     ]
    }
   ],
   "source": [
    "lisbon_raw_df_12_12_2020 = pd.read_csv('/Users/brendan/Desktop/Python/Hustle Projects/Airbnb/data4/raw-data/lisbon/lisbon_2020-12.csv')\n",
    "lisbon_raw_df_12_12_2020['Month']='12/12/2020' \n",
    "print(f\"The 12_12_2020 dataset contains {len(lisbon_raw_df_12_12_2020)} AirBnb listings; the avg price is €{round(lisbon_raw_df_12_12_2020['price'].mean(),2)}.\")\n",
    "\n",
    "lisbon_raw_df_1_9_2021 = pd.read_csv('/Users/brendan/Desktop/Python/Hustle Projects/Airbnb/data4/raw-data/lisbon/lisbon_2021-01.csv')\n",
    "lisbon_raw_df_1_9_2021['Month']='1/9/2021' \n",
    "print(f\"The 1_9_2021 dataset contains {len(lisbon_raw_df_1_9_2021)} AirBnb listings; the avg price is €{round(lisbon_raw_df_1_9_2021['price'].mean(),2)}.\")\n",
    "\n",
    "lisbon_raw_df_2_8_2021 = pd.read_csv('/Users/brendan/Desktop/Python/Hustle Projects/Airbnb/data4/raw-data/lisbon/lisbon_2021-02.csv')\n",
    "lisbon_raw_df_2_8_2021['Month']='2/8/2021'\n",
    "print(f\"The 2_8_2021 dataset contains {len(lisbon_raw_df_2_8_2021)} AirBnb listings; the avg price is €{round(lisbon_raw_df_2_8_2021['price'].mean(),2)}.\")\n",
    "\n",
    "lisbon_raw_df_3_4_2021 = pd.read_csv('/Users/brendan/Desktop/Python/Hustle Projects/Airbnb/data4/raw-data/lisbon/lisbon_2021-03.csv')\n",
    "lisbon_raw_df_3_4_2021['Month']='3/4/2021' \n",
    "print(f\"The 3_4_2021 dataset contains {len(lisbon_raw_df_3_4_2021)} AirBnb listings; the avg price is €{round(lisbon_raw_df_3_4_2021['price'].mean(),2)}.\")\n",
    "\n",
    "lisbon_raw_df_4_9_2021 = pd.read_csv('/Users/brendan/Desktop/Python/Hustle Projects/Airbnb/data4/raw-data/lisbon/lisbon_2021-04.csv')\n",
    "lisbon_raw_df_4_9_2021['Month']='4/9/2021'\n",
    "print(f\"The 4_9_2021 dataset contains {len(lisbon_raw_df_4_9_2021)} AirBnb listings; the avg price is €{round(lisbon_raw_df_4_9_2021['price'].mean(),2)}.\")\n",
    "\n",
    "#lisbon_raw_df_5_19_2021 = pd.read_csv('/Users/brendan/Desktop/Python/Hustle Projects/Airbnb/data4/raw-data/lisbon/lisbon_2021-05.csv')\n",
    "#print(f\"The 5_19_2021 dataset contains {len(lisbon_raw_df_5_19_2021)} AirBnb listings; the avg price is €{round(lisbon_raw_df_5_19_2021['price'].mean(),2)}.\")\n",
    "\n",
    "lisbon_raw_df_6_3_2021 = pd.read_csv('/Users/brendan/Desktop/Python/Hustle Projects/Airbnb/data4/raw-data/lisbon/lisbon_2021-06.csv')\n",
    "lisbon_raw_df_6_3_2021['Month']='6/3/2021'\n",
    "print(f\"The 6_3_2021 dataset contains {len(lisbon_raw_df_6_3_2021)} AirBnb listings; the avg price is €{round(lisbon_raw_df_6_3_2021['price'].mean(),2)}.\")\n",
    "\n",
    "lisbon_raw_df_7_4_2021 = pd.read_csv('/Users/brendan/Desktop/Python/Hustle Projects/Airbnb/data4/raw-data/lisbon/lisbon_2021-07.csv')\n",
    "lisbon_raw_df_7_4_2021['Month']='7/4/2021'\n",
    "print(f\"The 7_4_2021 dataset contains {len(lisbon_raw_df_7_4_2021)} AirBnb listings; the avg price is €{round(lisbon_raw_df_7_4_2021['price'].mean(),2)}.\")\n",
    "\n",
    "lisbon_raw_df_8_6_2021 = pd.read_csv('/Users/brendan/Desktop/Python/Hustle Projects/Airbnb/data4/raw-data/lisbon/lisbon_2021-08.csv')\n",
    "lisbon_raw_df_8_6_2021['Month']='8/6/2021'\n",
    "print(f\"The 8_6_2021 dataset contains {len(lisbon_raw_df_8_6_2021)} AirBnb listings; the avg price is €{round(lisbon_raw_df_8_6_2021['price'].mean(),2)}.\")\n",
    "\n",
    "lisbon_raw_df_9_7_2021 = pd.read_csv('/Users/brendan/Desktop/Python/Hustle Projects/Airbnb/data4/raw-data/lisbon/lisbon_2021-09.csv')\n",
    "lisbon_raw_df_9_7_2021['Month']='9/7/2021'\n",
    "print(f\"The 9_7_2021 dataset contains {len(lisbon_raw_df_9_7_2021)} AirBnb listings; the avg price is €{round(lisbon_raw_df_9_7_2021['price'].mean(),2)}.\")\n",
    "\n",
    "lisbon_raw_df_10_6_2021 = pd.read_csv('/Users/brendan/Desktop/Python/Hustle Projects/Airbnb/data4/raw-data/lisbon/lisbon_2021-10.csv')\n",
    "lisbon_raw_df_10_6_2021['Month']='10/6/2021'\n",
    "print(f\"The 10_6_2021 dataset contains {len(lisbon_raw_df_10_6_2021)} AirBnb listings; the avg price is €{round(lisbon_raw_df_10_6_2021['price'].mean(),2)}.\")"
   ]
  },
  {
   "cell_type": "code",
   "execution_count": 259,
   "id": "997bdd94",
   "metadata": {},
   "outputs": [],
   "source": [
    "lisbon_list_of_df = [lisbon_raw_df_12_12_2020, lisbon_raw_df_1_9_2021, lisbon_raw_df_2_8_2021, lisbon_raw_df_3_4_2021,\n",
    "                        lisbon_raw_df_4_9_2021, lisbon_raw_df_6_3_2021, lisbon_raw_df_7_4_2021, lisbon_raw_df_8_6_2021, lisbon_raw_df_9_7_2021]\n"
   ]
  },
  {
   "cell_type": "code",
   "execution_count": 260,
   "id": "ae32ff9f",
   "metadata": {},
   "outputs": [
    {
     "data": {
      "text/plain": [
       "(176882, 19)"
      ]
     },
     "execution_count": 260,
     "metadata": {},
     "output_type": "execute_result"
    }
   ],
   "source": [
    "lisbon_df = pd.concat(lisbon_list_of_df)\n",
    "lisbon_df.shape"
   ]
  },
  {
   "cell_type": "code",
   "execution_count": 261,
   "id": "14cb5955",
   "metadata": {},
   "outputs": [],
   "source": [
    "raw_df_lisbon = pd.read_csv('/Users/brendan/Desktop/Python/Hustle Projects/Airbnb/data4/raw-data/lisbon/lisbon_detailed.csv')\n"
   ]
  },
  {
   "cell_type": "code",
   "execution_count": 262,
   "id": "df4ab498",
   "metadata": {},
   "outputs": [],
   "source": [
    "lisbon_list_of_df = [lisbon_raw_df_12_12_2020, lisbon_raw_df_1_9_2021, lisbon_raw_df_2_8_2021, lisbon_raw_df_3_4_2021,\n",
    "                        lisbon_raw_df_4_9_2021, lisbon_raw_df_6_3_2021, lisbon_raw_df_7_4_2021, lisbon_raw_df_8_6_2021, lisbon_raw_df_9_7_2021]\n"
   ]
  },
  {
   "cell_type": "code",
   "execution_count": 263,
   "id": "8f0d2d3a",
   "metadata": {},
   "outputs": [
    {
     "data": {
      "text/plain": [
       "(176882, 19)"
      ]
     },
     "execution_count": 263,
     "metadata": {},
     "output_type": "execute_result"
    }
   ],
   "source": [
    "lisbon_df = pd.concat(lisbon_list_of_df)\n",
    "lisbon_df.shape"
   ]
  },
  {
   "cell_type": "code",
   "execution_count": 416,
   "id": "70214d86",
   "metadata": {
    "scrolled": true
   },
   "outputs": [
    {
     "data": {
      "text/plain": [
       "(19106, 15)"
      ]
     },
     "execution_count": 416,
     "metadata": {},
     "output_type": "execute_result"
    }
   ],
   "source": [
    "df_join_lisbon = lisbon_df.join(raw_df_lisbon, lsuffix='_x', rsuffix='_y')\n",
    "lisbon_df_master = df_join_lisbon.copy()\n",
    "lisbon_df_final = lisbon_df_master[['id_x','Month', 'property_type', 'room_type_x', 'accommodates',\n",
    "                               'bedrooms', 'beds', 'price_x', 'availability_90','review_scores_rating',\n",
    "                               'review_scores_accuracy','review_scores_cleanliness','review_scores_location',\n",
    "                               'review_scores_value']]\n",
    "lisbon_df_final['city']='lisbon'\n",
    "lisbon_df_final['id_x'] = lisbon_df_final['id_x'].apply(str)+'_lisbon'\n",
    "lisbon_df_final= lisbon_df_final[lisbon_df_final['Month']=='9/7/2021']\n",
    "lisbon_df_final.shape"
   ]
  },
  {
   "cell_type": "markdown",
   "id": "972e3e78",
   "metadata": {},
   "source": [
    "## Madrid"
   ]
  },
  {
   "cell_type": "code",
   "execution_count": 265,
   "id": "e1cfa7b3",
   "metadata": {
    "scrolled": true
   },
   "outputs": [
    {
     "name": "stdout",
     "output_type": "stream",
     "text": [
      "The 12_12_2020 dataset contains 20352 AirBnb listings; the avg price is €115.76.\n",
      "The 1_9_2021 dataset contains 20151 AirBnb listings; the avg price is €123.1.\n",
      "The 2_8_2021 dataset contains 20156 AirBnb listings; the avg price is €127.07.\n",
      "The 3_4_2021 dataset contains 20007 AirBnb listings; the avg price is €126.28.\n",
      "The 4_9_2021 dataset contains 19618 AirBnb listings; the avg price is €129.27.\n",
      "The 6_3_2021 dataset contains 19478 AirBnb listings; the avg price is €129.88.\n",
      "The 7_4_2021 dataset contains 19612 AirBnb listings; the avg price is €128.04.\n",
      "The 8_6_2021 dataset contains 19664 AirBnb listings; the avg price is €124.3.\n",
      "The 9_7_2021 dataset contains 18909 AirBnb listings; the avg price is €129.57.\n",
      "The 10_6_2021 dataset contains 17989 AirBnb listings; the avg price is €135.09.\n"
     ]
    }
   ],
   "source": [
    "madrid_raw_df_12_12_2020 = pd.read_csv('/Users/brendan/Desktop/Python/Hustle Projects/Airbnb/data4/raw-data/madrid/madrid_2020-12.csv')\n",
    "madrid_raw_df_12_12_2020['Month']='12/12/2020' \n",
    "print(f\"The 12_12_2020 dataset contains {len(madrid_raw_df_12_12_2020)} AirBnb listings; the avg price is €{round(madrid_raw_df_12_12_2020['price'].mean(),2)}.\")\n",
    "\n",
    "madrid_raw_df_1_9_2021 = pd.read_csv('/Users/brendan/Desktop/Python/Hustle Projects/Airbnb/data4/raw-data/madrid/madrid_2021-01.csv')\n",
    "madrid_raw_df_1_9_2021['Month']='1/9/2021' \n",
    "print(f\"The 1_9_2021 dataset contains {len(madrid_raw_df_1_9_2021)} AirBnb listings; the avg price is €{round(madrid_raw_df_1_9_2021['price'].mean(),2)}.\")\n",
    "\n",
    "madrid_raw_df_2_8_2021 = pd.read_csv('/Users/brendan/Desktop/Python/Hustle Projects/Airbnb/data4/raw-data/madrid/madrid_2021-02.csv')\n",
    "madrid_raw_df_2_8_2021['Month']='2/8/2021'\n",
    "print(f\"The 2_8_2021 dataset contains {len(madrid_raw_df_2_8_2021)} AirBnb listings; the avg price is €{round(madrid_raw_df_2_8_2021['price'].mean(),2)}.\")\n",
    "\n",
    "madrid_raw_df_3_4_2021 = pd.read_csv('/Users/brendan/Desktop/Python/Hustle Projects/Airbnb/data4/raw-data/madrid/madrid_2021-03.csv')\n",
    "madrid_raw_df_3_4_2021['Month']='3/4/2021' \n",
    "print(f\"The 3_4_2021 dataset contains {len(madrid_raw_df_3_4_2021)} AirBnb listings; the avg price is €{round(madrid_raw_df_3_4_2021['price'].mean(),2)}.\")\n",
    "\n",
    "madrid_raw_df_4_9_2021 = pd.read_csv('/Users/brendan/Desktop/Python/Hustle Projects/Airbnb/data4/raw-data/madrid/madrid_2021-04.csv')\n",
    "madrid_raw_df_4_9_2021['Month']='4/9/2021'\n",
    "print(f\"The 4_9_2021 dataset contains {len(madrid_raw_df_4_9_2021)} AirBnb listings; the avg price is €{round(madrid_raw_df_4_9_2021['price'].mean(),2)}.\")\n",
    "\n",
    "#madrid_raw_df_5_19_2021 = pd.read_csv('/Users/brendan/Desktop/Python/Hustle Projects/Airbnb/data4/raw-data/madrid/madrid_2021-05.csv')\n",
    "#print(f\"The 5_19_2021 dataset contains {len(madrid_raw_df_5_19_2021)} AirBnb listings; the avg price is €{round(madrid_raw_df_5_19_2021['price'].mean(),2)}.\")\n",
    "\n",
    "madrid_raw_df_6_3_2021 = pd.read_csv('/Users/brendan/Desktop/Python/Hustle Projects/Airbnb/data4/raw-data/madrid/madrid_2021-06.csv')\n",
    "madrid_raw_df_6_3_2021['Month']='6/3/2021'\n",
    "print(f\"The 6_3_2021 dataset contains {len(madrid_raw_df_6_3_2021)} AirBnb listings; the avg price is €{round(madrid_raw_df_6_3_2021['price'].mean(),2)}.\")\n",
    "\n",
    "madrid_raw_df_7_4_2021 = pd.read_csv('/Users/brendan/Desktop/Python/Hustle Projects/Airbnb/data4/raw-data/madrid/madrid_2021-07.csv')\n",
    "madrid_raw_df_7_4_2021['Month']='7/4/2021'\n",
    "print(f\"The 7_4_2021 dataset contains {len(madrid_raw_df_7_4_2021)} AirBnb listings; the avg price is €{round(madrid_raw_df_7_4_2021['price'].mean(),2)}.\")\n",
    "\n",
    "madrid_raw_df_8_6_2021 = pd.read_csv('/Users/brendan/Desktop/Python/Hustle Projects/Airbnb/data4/raw-data/madrid/madrid_2021-08.csv')\n",
    "madrid_raw_df_8_6_2021['Month']='8/6/2021'\n",
    "print(f\"The 8_6_2021 dataset contains {len(madrid_raw_df_8_6_2021)} AirBnb listings; the avg price is €{round(madrid_raw_df_8_6_2021['price'].mean(),2)}.\")\n",
    "\n",
    "madrid_raw_df_9_7_2021 = pd.read_csv('/Users/brendan/Desktop/Python/Hustle Projects/Airbnb/data4/raw-data/madrid/madrid_2021-09.csv')\n",
    "madrid_raw_df_9_7_2021['Month']='9/7/2021'\n",
    "print(f\"The 9_7_2021 dataset contains {len(madrid_raw_df_9_7_2021)} AirBnb listings; the avg price is €{round(madrid_raw_df_9_7_2021['price'].mean(),2)}.\")\n",
    "\n",
    "madrid_raw_df_10_6_2021 = pd.read_csv('/Users/brendan/Desktop/Python/Hustle Projects/Airbnb/data4/raw-data/madrid/madrid_2021-10.csv')\n",
    "madrid_raw_df_10_6_2021['Month']='10/6/2021'\n",
    "print(f\"The 10_6_2021 dataset contains {len(madrid_raw_df_10_6_2021)} AirBnb listings; the avg price is €{round(madrid_raw_df_10_6_2021['price'].mean(),2)}.\")"
   ]
  },
  {
   "cell_type": "code",
   "execution_count": 266,
   "id": "771bdd0b",
   "metadata": {},
   "outputs": [],
   "source": [
    "madrid_list_of_df = [madrid_raw_df_12_12_2020, madrid_raw_df_1_9_2021, madrid_raw_df_2_8_2021, madrid_raw_df_3_4_2021,\n",
    "                        madrid_raw_df_4_9_2021, madrid_raw_df_6_3_2021, madrid_raw_df_7_4_2021, madrid_raw_df_8_6_2021, madrid_raw_df_9_7_2021]\n"
   ]
  },
  {
   "cell_type": "code",
   "execution_count": 267,
   "id": "3d044b11",
   "metadata": {},
   "outputs": [
    {
     "data": {
      "text/plain": [
       "(177947, 19)"
      ]
     },
     "execution_count": 267,
     "metadata": {},
     "output_type": "execute_result"
    }
   ],
   "source": [
    "madrid_df = pd.concat(madrid_list_of_df)\n",
    "madrid_df.shape"
   ]
  },
  {
   "cell_type": "code",
   "execution_count": 268,
   "id": "424f92c8",
   "metadata": {},
   "outputs": [],
   "source": [
    "raw_df_madrid = pd.read_csv('/Users/brendan/Desktop/Python/Hustle Projects/Airbnb/data4/raw-data/madrid/madrid_detailed.csv')\n"
   ]
  },
  {
   "cell_type": "code",
   "execution_count": 269,
   "id": "b41107f2",
   "metadata": {},
   "outputs": [],
   "source": [
    "madrid_list_of_df = [madrid_raw_df_12_12_2020, madrid_raw_df_1_9_2021, madrid_raw_df_2_8_2021, madrid_raw_df_3_4_2021,\n",
    "                        madrid_raw_df_4_9_2021, madrid_raw_df_6_3_2021, madrid_raw_df_7_4_2021, madrid_raw_df_8_6_2021, madrid_raw_df_9_7_2021]\n"
   ]
  },
  {
   "cell_type": "code",
   "execution_count": 270,
   "id": "9d8feb02",
   "metadata": {},
   "outputs": [
    {
     "data": {
      "text/plain": [
       "(177947, 19)"
      ]
     },
     "execution_count": 270,
     "metadata": {},
     "output_type": "execute_result"
    }
   ],
   "source": [
    "madrid_df = pd.concat(madrid_list_of_df)\n",
    "madrid_df.shape"
   ]
  },
  {
   "cell_type": "code",
   "execution_count": 547,
   "id": "de108832",
   "metadata": {
    "scrolled": true
   },
   "outputs": [
    {
     "data": {
      "text/plain": [
       "(177947, 15)"
      ]
     },
     "execution_count": 547,
     "metadata": {},
     "output_type": "execute_result"
    }
   ],
   "source": [
    "df_join_madrid = madrid_df.join(raw_df_madrid, lsuffix='_x', rsuffix='_y')\n",
    "madrid_df_master = df_join_madrid.copy()\n",
    "madrid_df_final = madrid_df_master[['id_x','Month', 'property_type', 'room_type_x', 'accommodates',\n",
    "                               'bedrooms', 'beds', 'price_x', 'availability_90','review_scores_rating',\n",
    "                               'review_scores_accuracy','review_scores_cleanliness','review_scores_location',\n",
    "                               'review_scores_value']]\n",
    "madrid_df_final['city']='Madrid'\n",
    "madrid_df_final['id_x'] = madrid_df_final['id_x'].apply(str)+'_madrid'\n",
    "#madrid_df_final= madrid_df_final[madrid_df_final['Month']=='9/7/2021']\n",
    "madrid_df_final.shape"
   ]
  },
  {
   "cell_type": "markdown",
   "id": "91a87f0c",
   "metadata": {},
   "source": [
    "## Lyon"
   ]
  },
  {
   "cell_type": "code",
   "execution_count": 272,
   "id": "d18d587a",
   "metadata": {
    "scrolled": false
   },
   "outputs": [
    {
     "name": "stdout",
     "output_type": "stream",
     "text": [
      "The 12_12_2020 dataset contains 11496 AirBnb listings; the avg price is €92.6.\n",
      "The 1_9_2021 dataset contains 11404 AirBnb listings; the avg price is €92.25.\n",
      "The 2_8_2021 dataset contains 11376 AirBnb listings; the avg price is €91.55.\n",
      "The 3_4_2021 dataset contains 11199 AirBnb listings; the avg price is €92.14.\n",
      "The 4_9_2021 dataset contains 11195 AirBnb listings; the avg price is €92.81.\n",
      "The 6_3_2021 dataset contains 10985 AirBnb listings; the avg price is €94.23.\n",
      "The 7_4_2021 dataset contains 10921 AirBnb listings; the avg price is €95.03.\n",
      "The 8_6_2021 dataset contains 10880 AirBnb listings; the avg price is €94.01.\n",
      "The 9_7_2021 dataset contains 10420 AirBnb listings; the avg price is €95.03.\n",
      "The 10_6_2021 dataset contains 8304 AirBnb listings; the avg price is €91.59.\n"
     ]
    }
   ],
   "source": [
    "lyon_raw_df_12_12_2020 = pd.read_csv('/Users/brendan/Desktop/Python/Hustle Projects/Airbnb/data4/raw-data/lyon/lyon_2020-12.csv')\n",
    "lyon_raw_df_12_12_2020['Month']='12/12/2020' \n",
    "print(f\"The 12_12_2020 dataset contains {len(lyon_raw_df_12_12_2020)} AirBnb listings; the avg price is €{round(lyon_raw_df_12_12_2020['price'].mean(),2)}.\")\n",
    "\n",
    "lyon_raw_df_1_9_2021 = pd.read_csv('/Users/brendan/Desktop/Python/Hustle Projects/Airbnb/data4/raw-data/lyon/lyon_2021-01.csv')\n",
    "lyon_raw_df_1_9_2021['Month']='1/9/2021' \n",
    "print(f\"The 1_9_2021 dataset contains {len(lyon_raw_df_1_9_2021)} AirBnb listings; the avg price is €{round(lyon_raw_df_1_9_2021['price'].mean(),2)}.\")\n",
    "\n",
    "lyon_raw_df_2_8_2021 = pd.read_csv('/Users/brendan/Desktop/Python/Hustle Projects/Airbnb/data4/raw-data/lyon/lyon_2021-02.csv')\n",
    "lyon_raw_df_2_8_2021['Month']='2/8/2021'\n",
    "print(f\"The 2_8_2021 dataset contains {len(lyon_raw_df_2_8_2021)} AirBnb listings; the avg price is €{round(lyon_raw_df_2_8_2021['price'].mean(),2)}.\")\n",
    "\n",
    "lyon_raw_df_3_4_2021 = pd.read_csv('/Users/brendan/Desktop/Python/Hustle Projects/Airbnb/data4/raw-data/lyon/lyon_2021-03.csv')\n",
    "lyon_raw_df_3_4_2021['Month']='3/4/2021' \n",
    "print(f\"The 3_4_2021 dataset contains {len(lyon_raw_df_3_4_2021)} AirBnb listings; the avg price is €{round(lyon_raw_df_3_4_2021['price'].mean(),2)}.\")\n",
    "\n",
    "lyon_raw_df_4_9_2021 = pd.read_csv('/Users/brendan/Desktop/Python/Hustle Projects/Airbnb/data4/raw-data/lyon/lyon_2021-04.csv')\n",
    "lyon_raw_df_4_9_2021['Month']='4/9/2021'\n",
    "print(f\"The 4_9_2021 dataset contains {len(lyon_raw_df_4_9_2021)} AirBnb listings; the avg price is €{round(lyon_raw_df_4_9_2021['price'].mean(),2)}.\")\n",
    "\n",
    "#lyon_raw_df_5_19_2021 = pd.read_csv('/Users/brendan/Desktop/Python/Hustle Projects/Airbnb/data4/raw-data/lyon/lyon_2021-05.csv')\n",
    "#print(f\"The 5_19_2021 dataset contains {len(lyon_raw_df_5_19_2021)} AirBnb listings; the avg price is €{round(lyon_raw_df_5_19_2021['price'].mean(),2)}.\")\n",
    "\n",
    "lyon_raw_df_6_3_2021 = pd.read_csv('/Users/brendan/Desktop/Python/Hustle Projects/Airbnb/data4/raw-data/lyon/lyon_2021-06.csv')\n",
    "lyon_raw_df_6_3_2021['Month']='6/3/2021'\n",
    "print(f\"The 6_3_2021 dataset contains {len(lyon_raw_df_6_3_2021)} AirBnb listings; the avg price is €{round(lyon_raw_df_6_3_2021['price'].mean(),2)}.\")\n",
    "\n",
    "lyon_raw_df_7_4_2021 = pd.read_csv('/Users/brendan/Desktop/Python/Hustle Projects/Airbnb/data4/raw-data/lyon/lyon_2021-07.csv')\n",
    "lyon_raw_df_7_4_2021['Month']='7/4/2021'\n",
    "print(f\"The 7_4_2021 dataset contains {len(lyon_raw_df_7_4_2021)} AirBnb listings; the avg price is €{round(lyon_raw_df_7_4_2021['price'].mean(),2)}.\")\n",
    "\n",
    "lyon_raw_df_8_6_2021 = pd.read_csv('/Users/brendan/Desktop/Python/Hustle Projects/Airbnb/data4/raw-data/lyon/lyon_2021-08.csv')\n",
    "lyon_raw_df_8_6_2021['Month']='8/6/2021'\n",
    "print(f\"The 8_6_2021 dataset contains {len(lyon_raw_df_8_6_2021)} AirBnb listings; the avg price is €{round(lyon_raw_df_8_6_2021['price'].mean(),2)}.\")\n",
    "\n",
    "lyon_raw_df_9_7_2021 = pd.read_csv('/Users/brendan/Desktop/Python/Hustle Projects/Airbnb/data4/raw-data/lyon/lyon_2021-09.csv')\n",
    "lyon_raw_df_9_7_2021['Month']='9/7/2021'\n",
    "print(f\"The 9_7_2021 dataset contains {len(lyon_raw_df_9_7_2021)} AirBnb listings; the avg price is €{round(lyon_raw_df_9_7_2021['price'].mean(),2)}.\")\n",
    "\n",
    "lyon_raw_df_10_6_2021 = pd.read_csv('/Users/brendan/Desktop/Python/Hustle Projects/Airbnb/data4/raw-data/lyon/lyon_2021-10.csv')\n",
    "lyon_raw_df_10_6_2021['Month']='10/6/2021'\n",
    "print(f\"The 10_6_2021 dataset contains {len(lyon_raw_df_10_6_2021)} AirBnb listings; the avg price is €{round(lyon_raw_df_10_6_2021['price'].mean(),2)}.\")"
   ]
  },
  {
   "cell_type": "code",
   "execution_count": 273,
   "id": "0aba6caf",
   "metadata": {},
   "outputs": [],
   "source": [
    "lyon_list_of_df = [lyon_raw_df_12_12_2020, lyon_raw_df_1_9_2021, lyon_raw_df_2_8_2021, lyon_raw_df_3_4_2021,\n",
    "                        lyon_raw_df_4_9_2021, lyon_raw_df_6_3_2021, lyon_raw_df_7_4_2021, lyon_raw_df_8_6_2021, lyon_raw_df_9_7_2021]\n"
   ]
  },
  {
   "cell_type": "code",
   "execution_count": 274,
   "id": "1beb57fd",
   "metadata": {},
   "outputs": [
    {
     "data": {
      "text/plain": [
       "(99876, 19)"
      ]
     },
     "execution_count": 274,
     "metadata": {},
     "output_type": "execute_result"
    }
   ],
   "source": [
    "lyon_df = pd.concat(lyon_list_of_df)\n",
    "lyon_df.shape"
   ]
  },
  {
   "cell_type": "code",
   "execution_count": 275,
   "id": "c37dd4b5",
   "metadata": {},
   "outputs": [],
   "source": [
    "raw_df_lyon = pd.read_csv('/Users/brendan/Desktop/Python/Hustle Projects/Airbnb/data4/raw-data/lyon/lyon_detailed.csv')\n"
   ]
  },
  {
   "cell_type": "code",
   "execution_count": 276,
   "id": "53cbe35b",
   "metadata": {},
   "outputs": [],
   "source": [
    "lyon_list_of_df = [lyon_raw_df_12_12_2020, lyon_raw_df_1_9_2021, lyon_raw_df_2_8_2021, lyon_raw_df_3_4_2021,\n",
    "                        lyon_raw_df_4_9_2021, lyon_raw_df_6_3_2021, lyon_raw_df_7_4_2021, lyon_raw_df_8_6_2021, lyon_raw_df_9_7_2021]\n"
   ]
  },
  {
   "cell_type": "code",
   "execution_count": 277,
   "id": "65c54b43",
   "metadata": {},
   "outputs": [
    {
     "data": {
      "text/plain": [
       "(99876, 19)"
      ]
     },
     "execution_count": 277,
     "metadata": {},
     "output_type": "execute_result"
    }
   ],
   "source": [
    "lyon_df = pd.concat(lyon_list_of_df)\n",
    "lyon_df.shape"
   ]
  },
  {
   "cell_type": "code",
   "execution_count": 548,
   "id": "0f2760de",
   "metadata": {
    "scrolled": false
   },
   "outputs": [
    {
     "data": {
      "text/plain": [
       "(99876, 15)"
      ]
     },
     "execution_count": 548,
     "metadata": {},
     "output_type": "execute_result"
    }
   ],
   "source": [
    "df_join_lyon = lyon_df.join(raw_df_lyon, lsuffix='_x', rsuffix='_y')\n",
    "lyon_df_master = df_join_lyon.copy()\n",
    "lyon_df_final = lyon_df_master[['id_x','Month', 'property_type', 'room_type_x', 'accommodates',\n",
    "                               'bedrooms', 'beds', 'price_x', 'availability_90','review_scores_rating',\n",
    "                               'review_scores_accuracy','review_scores_cleanliness','review_scores_location',\n",
    "                               'review_scores_value']]\n",
    "lyon_df_final['city']='Lyon'\n",
    "lyon_df_final['id_x'] = lyon_df_final['id_x'].apply(str)+'_lyon'\n",
    "#lyon_df_final= lyon_df_final[lyon_df_final['Month']=='9/7/2021']\n",
    "lyon_df_final.shape"
   ]
  },
  {
   "cell_type": "markdown",
   "id": "b5673c8d",
   "metadata": {},
   "source": [
    "## Milan"
   ]
  },
  {
   "cell_type": "code",
   "execution_count": 279,
   "id": "f6af6109",
   "metadata": {
    "scrolled": true
   },
   "outputs": [
    {
     "name": "stdout",
     "output_type": "stream",
     "text": [
      "The 12_12_2020 dataset contains 18659 AirBnb listings; the avg price is €112.84.\n",
      "The 1_9_2021 dataset contains 18572 AirBnb listings; the avg price is €112.05.\n",
      "The 2_8_2021 dataset contains 18367 AirBnb listings; the avg price is €115.4.\n",
      "The 3_4_2021 dataset contains 18160 AirBnb listings; the avg price is €113.68.\n",
      "The 4_9_2021 dataset contains 18582 AirBnb listings; the avg price is €116.48.\n",
      "The 6_3_2021 dataset contains 18029 AirBnb listings; the avg price is €116.37.\n",
      "The 7_4_2021 dataset contains 18322 AirBnb listings; the avg price is €115.09.\n",
      "The 8_6_2021 dataset contains 18282 AirBnb listings; the avg price is €118.93.\n",
      "The 9_7_2021 dataset contains 17705 AirBnb listings; the avg price is €124.73.\n",
      "The 10_6_2021 dataset contains 17231 AirBnb listings; the avg price is €126.6.\n"
     ]
    }
   ],
   "source": [
    "milan_raw_df_12_12_2020 = pd.read_csv('/Users/brendan/Desktop/Python/Hustle Projects/Airbnb/data4/raw-data/milan/milan_2020-12.csv')\n",
    "milan_raw_df_12_12_2020['Month']='12/12/2020' \n",
    "print(f\"The 12_12_2020 dataset contains {len(milan_raw_df_12_12_2020)} AirBnb listings; the avg price is €{round(milan_raw_df_12_12_2020['price'].mean(),2)}.\")\n",
    "\n",
    "milan_raw_df_1_9_2021 = pd.read_csv('/Users/brendan/Desktop/Python/Hustle Projects/Airbnb/data4/raw-data/milan/milan_2021-01.csv')\n",
    "milan_raw_df_1_9_2021['Month']='1/9/2021' \n",
    "print(f\"The 1_9_2021 dataset contains {len(milan_raw_df_1_9_2021)} AirBnb listings; the avg price is €{round(milan_raw_df_1_9_2021['price'].mean(),2)}.\")\n",
    "\n",
    "milan_raw_df_2_8_2021 = pd.read_csv('/Users/brendan/Desktop/Python/Hustle Projects/Airbnb/data4/raw-data/milan/milan_2021-02.csv')\n",
    "milan_raw_df_2_8_2021['Month']='2/8/2021'\n",
    "print(f\"The 2_8_2021 dataset contains {len(milan_raw_df_2_8_2021)} AirBnb listings; the avg price is €{round(milan_raw_df_2_8_2021['price'].mean(),2)}.\")\n",
    "\n",
    "milan_raw_df_3_4_2021 = pd.read_csv('/Users/brendan/Desktop/Python/Hustle Projects/Airbnb/data4/raw-data/milan/milan_2021-03.csv')\n",
    "milan_raw_df_3_4_2021['Month']='3/4/2021' \n",
    "print(f\"The 3_4_2021 dataset contains {len(milan_raw_df_3_4_2021)} AirBnb listings; the avg price is €{round(milan_raw_df_3_4_2021['price'].mean(),2)}.\")\n",
    "\n",
    "milan_raw_df_4_9_2021 = pd.read_csv('/Users/brendan/Desktop/Python/Hustle Projects/Airbnb/data4/raw-data/milan/milan_2021-04.csv')\n",
    "milan_raw_df_4_9_2021['Month']='4/9/2021'\n",
    "print(f\"The 4_9_2021 dataset contains {len(milan_raw_df_4_9_2021)} AirBnb listings; the avg price is €{round(milan_raw_df_4_9_2021['price'].mean(),2)}.\")\n",
    "\n",
    "#milan_raw_df_5_19_2021 = pd.read_csv('/Users/brendan/Desktop/Python/Hustle Projects/Airbnb/data4/raw-data/milan/milan_2021-05.csv')\n",
    "#print(f\"The 5_19_2021 dataset contains {len(milan_raw_df_5_19_2021)} AirBnb listings; the avg price is €{round(milan_raw_df_5_19_2021['price'].mean(),2)}.\")\n",
    "\n",
    "milan_raw_df_6_3_2021 = pd.read_csv('/Users/brendan/Desktop/Python/Hustle Projects/Airbnb/data4/raw-data/milan/milan_2021-06.csv')\n",
    "milan_raw_df_6_3_2021['Month']='6/3/2021'\n",
    "print(f\"The 6_3_2021 dataset contains {len(milan_raw_df_6_3_2021)} AirBnb listings; the avg price is €{round(milan_raw_df_6_3_2021['price'].mean(),2)}.\")\n",
    "\n",
    "milan_raw_df_7_4_2021 = pd.read_csv('/Users/brendan/Desktop/Python/Hustle Projects/Airbnb/data4/raw-data/milan/milan_2021-07.csv')\n",
    "milan_raw_df_7_4_2021['Month']='7/4/2021'\n",
    "print(f\"The 7_4_2021 dataset contains {len(milan_raw_df_7_4_2021)} AirBnb listings; the avg price is €{round(milan_raw_df_7_4_2021['price'].mean(),2)}.\")\n",
    "\n",
    "milan_raw_df_8_6_2021 = pd.read_csv('/Users/brendan/Desktop/Python/Hustle Projects/Airbnb/data4/raw-data/milan/milan_2021-08.csv')\n",
    "milan_raw_df_8_6_2021['Month']='8/6/2021'\n",
    "print(f\"The 8_6_2021 dataset contains {len(milan_raw_df_8_6_2021)} AirBnb listings; the avg price is €{round(milan_raw_df_8_6_2021['price'].mean(),2)}.\")\n",
    "\n",
    "milan_raw_df_9_7_2021 = pd.read_csv('/Users/brendan/Desktop/Python/Hustle Projects/Airbnb/data4/raw-data/milan/milan_2021-09.csv')\n",
    "milan_raw_df_9_7_2021['Month']='9/7/2021'\n",
    "print(f\"The 9_7_2021 dataset contains {len(milan_raw_df_9_7_2021)} AirBnb listings; the avg price is €{round(milan_raw_df_9_7_2021['price'].mean(),2)}.\")\n",
    "\n",
    "milan_raw_df_10_6_2021 = pd.read_csv('/Users/brendan/Desktop/Python/Hustle Projects/Airbnb/data4/raw-data/milan/milan_2021-10.csv')\n",
    "milan_raw_df_10_6_2021['Month']='10/6/2021'\n",
    "print(f\"The 10_6_2021 dataset contains {len(milan_raw_df_10_6_2021)} AirBnb listings; the avg price is €{round(milan_raw_df_10_6_2021['price'].mean(),2)}.\")"
   ]
  },
  {
   "cell_type": "code",
   "execution_count": 280,
   "id": "a78be322",
   "metadata": {},
   "outputs": [],
   "source": [
    "milan_list_of_df = [milan_raw_df_12_12_2020, milan_raw_df_1_9_2021, milan_raw_df_2_8_2021, milan_raw_df_3_4_2021,\n",
    "                        milan_raw_df_4_9_2021, milan_raw_df_6_3_2021, milan_raw_df_7_4_2021, milan_raw_df_8_6_2021, milan_raw_df_9_7_2021]\n"
   ]
  },
  {
   "cell_type": "code",
   "execution_count": 281,
   "id": "8d3825f6",
   "metadata": {},
   "outputs": [
    {
     "data": {
      "text/plain": [
       "(164678, 19)"
      ]
     },
     "execution_count": 281,
     "metadata": {},
     "output_type": "execute_result"
    }
   ],
   "source": [
    "milan_df = pd.concat(milan_list_of_df)\n",
    "milan_df.shape"
   ]
  },
  {
   "cell_type": "code",
   "execution_count": 282,
   "id": "a76f1938",
   "metadata": {},
   "outputs": [],
   "source": [
    "raw_df_milan = pd.read_csv('/Users/brendan/Desktop/Python/Hustle Projects/Airbnb/data4/raw-data/milan/milan_detailed.csv')\n"
   ]
  },
  {
   "cell_type": "code",
   "execution_count": 283,
   "id": "95c7524e",
   "metadata": {},
   "outputs": [],
   "source": [
    "milan_list_of_df = [milan_raw_df_12_12_2020, milan_raw_df_1_9_2021, milan_raw_df_2_8_2021, milan_raw_df_3_4_2021,\n",
    "                        milan_raw_df_4_9_2021, milan_raw_df_6_3_2021, milan_raw_df_7_4_2021, milan_raw_df_8_6_2021, milan_raw_df_9_7_2021]\n"
   ]
  },
  {
   "cell_type": "code",
   "execution_count": 284,
   "id": "6e79ddc3",
   "metadata": {},
   "outputs": [
    {
     "data": {
      "text/plain": [
       "(164678, 19)"
      ]
     },
     "execution_count": 284,
     "metadata": {},
     "output_type": "execute_result"
    }
   ],
   "source": [
    "milan_df = pd.concat(milan_list_of_df)\n",
    "milan_df.shape"
   ]
  },
  {
   "cell_type": "code",
   "execution_count": 549,
   "id": "d830bb48",
   "metadata": {
    "scrolled": false
   },
   "outputs": [
    {
     "data": {
      "text/plain": [
       "(164678, 15)"
      ]
     },
     "execution_count": 549,
     "metadata": {},
     "output_type": "execute_result"
    }
   ],
   "source": [
    "df_join_milan = milan_df.join(raw_df_milan, lsuffix='_x', rsuffix='_y')\n",
    "milan_df_master = df_join_milan.copy()\n",
    "milan_df_final = milan_df_master[['id_x','Month', 'property_type', 'room_type_x', 'accommodates',\n",
    "                               'bedrooms', 'beds', 'price_x', 'availability_90','review_scores_rating',\n",
    "                               'review_scores_accuracy','review_scores_cleanliness','review_scores_location',\n",
    "                               'review_scores_value']]\n",
    "milan_df_final['city']='Milan'\n",
    "milan_df_final['id_x'] = milan_df_final['id_x'].apply(str)+'_milan'\n",
    "#milan_df_final= milan_df_final[milan_df_final['Month']=='9/7/2021']\n",
    "milan_df_final.shape"
   ]
  },
  {
   "cell_type": "markdown",
   "id": "9dd68350",
   "metadata": {},
   "source": [
    "## Munich"
   ]
  },
  {
   "cell_type": "code",
   "execution_count": 286,
   "id": "9de63b7d",
   "metadata": {
    "scrolled": false
   },
   "outputs": [
    {
     "name": "stdout",
     "output_type": "stream",
     "text": [
      "The 12_12_2020 dataset contains 4815 AirBnb listings; the avg price is €113.06.\n",
      "The 1_9_2021 dataset contains 5106 AirBnb listings; the avg price is €112.5.\n",
      "The 2_8_2021 dataset contains 5126 AirBnb listings; the avg price is €112.06.\n",
      "The 3_4_2021 dataset contains 5073 AirBnb listings; the avg price is €113.46.\n",
      "The 4_9_2021 dataset contains 5103 AirBnb listings; the avg price is €114.77.\n",
      "The 6_3_2021 dataset contains 5039 AirBnb listings; the avg price is €118.55.\n",
      "The 7_4_2021 dataset contains 5098 AirBnb listings; the avg price is €116.98.\n",
      "The 8_6_2021 dataset contains 5115 AirBnb listings; the avg price is €118.56.\n",
      "The 9_7_2021 dataset contains 4964 AirBnb listings; the avg price is €125.17.\n",
      "The 10_6_2021 dataset contains 4914 AirBnb listings; the avg price is €120.75.\n"
     ]
    }
   ],
   "source": [
    "munich_raw_df_12_12_2020 = pd.read_csv('/Users/brendan/Desktop/Python/Hustle Projects/Airbnb/data4/raw-data/munich/munich_2020-12.csv')\n",
    "munich_raw_df_12_12_2020['Month']='12/12/2020' \n",
    "print(f\"The 12_12_2020 dataset contains {len(munich_raw_df_12_12_2020)} AirBnb listings; the avg price is €{round(munich_raw_df_12_12_2020['price'].mean(),2)}.\")\n",
    "\n",
    "munich_raw_df_1_9_2021 = pd.read_csv('/Users/brendan/Desktop/Python/Hustle Projects/Airbnb/data4/raw-data/munich/munich_2021-01.csv')\n",
    "munich_raw_df_1_9_2021['Month']='1/9/2021' \n",
    "print(f\"The 1_9_2021 dataset contains {len(munich_raw_df_1_9_2021)} AirBnb listings; the avg price is €{round(munich_raw_df_1_9_2021['price'].mean(),2)}.\")\n",
    "\n",
    "munich_raw_df_2_8_2021 = pd.read_csv('/Users/brendan/Desktop/Python/Hustle Projects/Airbnb/data4/raw-data/munich/munich_2021-02.csv')\n",
    "munich_raw_df_2_8_2021['Month']='2/8/2021'\n",
    "print(f\"The 2_8_2021 dataset contains {len(munich_raw_df_2_8_2021)} AirBnb listings; the avg price is €{round(munich_raw_df_2_8_2021['price'].mean(),2)}.\")\n",
    "\n",
    "munich_raw_df_3_4_2021 = pd.read_csv('/Users/brendan/Desktop/Python/Hustle Projects/Airbnb/data4/raw-data/munich/munich_2021-03.csv')\n",
    "munich_raw_df_3_4_2021['Month']='3/4/2021' \n",
    "print(f\"The 3_4_2021 dataset contains {len(munich_raw_df_3_4_2021)} AirBnb listings; the avg price is €{round(munich_raw_df_3_4_2021['price'].mean(),2)}.\")\n",
    "\n",
    "munich_raw_df_4_9_2021 = pd.read_csv('/Users/brendan/Desktop/Python/Hustle Projects/Airbnb/data4/raw-data/munich/munich_2021-04.csv')\n",
    "munich_raw_df_4_9_2021['Month']='4/9/2021'\n",
    "print(f\"The 4_9_2021 dataset contains {len(munich_raw_df_4_9_2021)} AirBnb listings; the avg price is €{round(munich_raw_df_4_9_2021['price'].mean(),2)}.\")\n",
    "\n",
    "#munich_raw_df_5_19_2021 = pd.read_csv('/Users/brendan/Desktop/Python/Hustle Projects/Airbnb/data4/raw-data/munich/munich_2021-05.csv')\n",
    "#print(f\"The 5_19_2021 dataset contains {len(munich_raw_df_5_19_2021)} AirBnb listings; the avg price is €{round(munich_raw_df_5_19_2021['price'].mean(),2)}.\")\n",
    "\n",
    "munich_raw_df_6_3_2021 = pd.read_csv('/Users/brendan/Desktop/Python/Hustle Projects/Airbnb/data4/raw-data/munich/munich_2021-06.csv')\n",
    "munich_raw_df_6_3_2021['Month']='6/3/2021'\n",
    "print(f\"The 6_3_2021 dataset contains {len(munich_raw_df_6_3_2021)} AirBnb listings; the avg price is €{round(munich_raw_df_6_3_2021['price'].mean(),2)}.\")\n",
    "\n",
    "munich_raw_df_7_4_2021 = pd.read_csv('/Users/brendan/Desktop/Python/Hustle Projects/Airbnb/data4/raw-data/munich/munich_2021-07.csv')\n",
    "munich_raw_df_7_4_2021['Month']='7/4/2021'\n",
    "print(f\"The 7_4_2021 dataset contains {len(munich_raw_df_7_4_2021)} AirBnb listings; the avg price is €{round(munich_raw_df_7_4_2021['price'].mean(),2)}.\")\n",
    "\n",
    "munich_raw_df_8_6_2021 = pd.read_csv('/Users/brendan/Desktop/Python/Hustle Projects/Airbnb/data4/raw-data/munich/munich_2021-08.csv')\n",
    "munich_raw_df_8_6_2021['Month']='8/6/2021'\n",
    "print(f\"The 8_6_2021 dataset contains {len(munich_raw_df_8_6_2021)} AirBnb listings; the avg price is €{round(munich_raw_df_8_6_2021['price'].mean(),2)}.\")\n",
    "\n",
    "munich_raw_df_9_7_2021 = pd.read_csv('/Users/brendan/Desktop/Python/Hustle Projects/Airbnb/data4/raw-data/munich/munich_2021-09.csv')\n",
    "munich_raw_df_9_7_2021['Month']='9/7/2021'\n",
    "print(f\"The 9_7_2021 dataset contains {len(munich_raw_df_9_7_2021)} AirBnb listings; the avg price is €{round(munich_raw_df_9_7_2021['price'].mean(),2)}.\")\n",
    "\n",
    "munich_raw_df_10_6_2021 = pd.read_csv('/Users/brendan/Desktop/Python/Hustle Projects/Airbnb/data4/raw-data/munich/munich_2021-10.csv')\n",
    "munich_raw_df_10_6_2021['Month']='10/6/2021'\n",
    "print(f\"The 10_6_2021 dataset contains {len(munich_raw_df_10_6_2021)} AirBnb listings; the avg price is €{round(munich_raw_df_10_6_2021['price'].mean(),2)}.\")"
   ]
  },
  {
   "cell_type": "code",
   "execution_count": 287,
   "id": "79788665",
   "metadata": {},
   "outputs": [],
   "source": [
    "munich_list_of_df = [munich_raw_df_12_12_2020, munich_raw_df_1_9_2021, munich_raw_df_2_8_2021, munich_raw_df_3_4_2021,\n",
    "                        munich_raw_df_4_9_2021, munich_raw_df_6_3_2021, munich_raw_df_7_4_2021, munich_raw_df_8_6_2021, munich_raw_df_9_7_2021]\n"
   ]
  },
  {
   "cell_type": "code",
   "execution_count": 288,
   "id": "f55a07c2",
   "metadata": {},
   "outputs": [
    {
     "data": {
      "text/plain": [
       "(45439, 19)"
      ]
     },
     "execution_count": 288,
     "metadata": {},
     "output_type": "execute_result"
    }
   ],
   "source": [
    "munich_df = pd.concat(munich_list_of_df)\n",
    "munich_df.shape"
   ]
  },
  {
   "cell_type": "code",
   "execution_count": 289,
   "id": "a767abed",
   "metadata": {},
   "outputs": [],
   "source": [
    "raw_df_munich = pd.read_csv('/Users/brendan/Desktop/Python/Hustle Projects/Airbnb/data4/raw-data/munich/munich_detailed.csv')\n"
   ]
  },
  {
   "cell_type": "code",
   "execution_count": 290,
   "id": "465adbbc",
   "metadata": {},
   "outputs": [],
   "source": [
    "munich_list_of_df = [munich_raw_df_12_12_2020, munich_raw_df_1_9_2021, munich_raw_df_2_8_2021, munich_raw_df_3_4_2021,\n",
    "                        munich_raw_df_4_9_2021, munich_raw_df_6_3_2021, munich_raw_df_7_4_2021, munich_raw_df_8_6_2021, munich_raw_df_9_7_2021]\n"
   ]
  },
  {
   "cell_type": "code",
   "execution_count": 291,
   "id": "98e29b76",
   "metadata": {},
   "outputs": [
    {
     "data": {
      "text/plain": [
       "(45439, 19)"
      ]
     },
     "execution_count": 291,
     "metadata": {},
     "output_type": "execute_result"
    }
   ],
   "source": [
    "munich_df = pd.concat(munich_list_of_df)\n",
    "munich_df.shape"
   ]
  },
  {
   "cell_type": "code",
   "execution_count": 550,
   "id": "58438623",
   "metadata": {
    "scrolled": false
   },
   "outputs": [
    {
     "data": {
      "text/plain": [
       "(45439, 15)"
      ]
     },
     "execution_count": 550,
     "metadata": {},
     "output_type": "execute_result"
    }
   ],
   "source": [
    "df_join_munich = munich_df.join(raw_df_munich, lsuffix='_x', rsuffix='_y')\n",
    "munich_df_master = df_join_munich.copy()\n",
    "munich_df_final = munich_df_master[['id_x','Month', 'property_type', 'room_type_x', 'accommodates',\n",
    "                               'bedrooms', 'beds', 'price_x', 'availability_90','review_scores_rating',\n",
    "                               'review_scores_accuracy','review_scores_cleanliness','review_scores_location',\n",
    "                               'review_scores_value']]\n",
    "munich_df_final['city']='Munich'\n",
    "munich_df_final['id_x'] = munich_df_final['id_x'].apply(str)+'_munich'\n",
    "#munich_df_final= munich_df_final[munich_df_final['Month']=='9/7/2021']\n",
    "munich_df_final.shape"
   ]
  },
  {
   "cell_type": "markdown",
   "id": "84e95b14",
   "metadata": {},
   "source": [
    "## Naples"
   ]
  },
  {
   "cell_type": "code",
   "execution_count": 293,
   "id": "e851fed9",
   "metadata": {
    "scrolled": false
   },
   "outputs": [
    {
     "name": "stdout",
     "output_type": "stream",
     "text": [
      "The 12_12_2020 dataset contains 8084 AirBnb listings; the avg price is €78.08.\n",
      "The 1_9_2021 dataset contains 8039 AirBnb listings; the avg price is €71.68.\n",
      "The 2_8_2021 dataset contains 7997 AirBnb listings; the avg price is €72.29.\n",
      "The 3_4_2021 dataset contains 8030 AirBnb listings; the avg price is €73.04.\n",
      "The 4_9_2021 dataset contains 7961 AirBnb listings; the avg price is €74.74.\n",
      "The 6_3_2021 dataset contains 7909 AirBnb listings; the avg price is €77.02.\n",
      "The 7_4_2021 dataset contains 7957 AirBnb listings; the avg price is €84.45.\n",
      "The 8_6_2021 dataset contains 7311 AirBnb listings; the avg price is €90.63.\n",
      "The 9_7_2021 dataset contains 7202 AirBnb listings; the avg price is €83.77.\n",
      "The 10_6_2021 dataset contains 7142 AirBnb listings; the avg price is €88.39.\n"
     ]
    }
   ],
   "source": [
    "naples_raw_df_12_12_2020 = pd.read_csv('/Users/brendan/Desktop/Python/Hustle Projects/Airbnb/data4/raw-data/naples/naples_2020-12.csv')\n",
    "naples_raw_df_12_12_2020['Month']='12/12/2020' \n",
    "print(f\"The 12_12_2020 dataset contains {len(naples_raw_df_12_12_2020)} AirBnb listings; the avg price is €{round(naples_raw_df_12_12_2020['price'].mean(),2)}.\")\n",
    "\n",
    "naples_raw_df_1_9_2021 = pd.read_csv('/Users/brendan/Desktop/Python/Hustle Projects/Airbnb/data4/raw-data/naples/naples_2021-01.csv')\n",
    "naples_raw_df_1_9_2021['Month']='1/9/2021' \n",
    "print(f\"The 1_9_2021 dataset contains {len(naples_raw_df_1_9_2021)} AirBnb listings; the avg price is €{round(naples_raw_df_1_9_2021['price'].mean(),2)}.\")\n",
    "\n",
    "naples_raw_df_2_8_2021 = pd.read_csv('/Users/brendan/Desktop/Python/Hustle Projects/Airbnb/data4/raw-data/naples/naples_2021-02.csv')\n",
    "naples_raw_df_2_8_2021['Month']='2/8/2021'\n",
    "print(f\"The 2_8_2021 dataset contains {len(naples_raw_df_2_8_2021)} AirBnb listings; the avg price is €{round(naples_raw_df_2_8_2021['price'].mean(),2)}.\")\n",
    "\n",
    "naples_raw_df_3_4_2021 = pd.read_csv('/Users/brendan/Desktop/Python/Hustle Projects/Airbnb/data4/raw-data/naples/naples_2021-03.csv')\n",
    "naples_raw_df_3_4_2021['Month']='3/4/2021' \n",
    "print(f\"The 3_4_2021 dataset contains {len(naples_raw_df_3_4_2021)} AirBnb listings; the avg price is €{round(naples_raw_df_3_4_2021['price'].mean(),2)}.\")\n",
    "\n",
    "naples_raw_df_4_9_2021 = pd.read_csv('/Users/brendan/Desktop/Python/Hustle Projects/Airbnb/data4/raw-data/naples/naples_2021-04.csv')\n",
    "naples_raw_df_4_9_2021['Month']='4/9/2021'\n",
    "print(f\"The 4_9_2021 dataset contains {len(naples_raw_df_4_9_2021)} AirBnb listings; the avg price is €{round(naples_raw_df_4_9_2021['price'].mean(),2)}.\")\n",
    "\n",
    "#naples_raw_df_5_19_2021 = pd.read_csv('/Users/brendan/Desktop/Python/Hustle Projects/Airbnb/data4/raw-data/naples/naples_2021-05.csv')\n",
    "#print(f\"The 5_19_2021 dataset contains {len(naples_raw_df_5_19_2021)} AirBnb listings; the avg price is €{round(naples_raw_df_5_19_2021['price'].mean(),2)}.\")\n",
    "\n",
    "naples_raw_df_6_3_2021 = pd.read_csv('/Users/brendan/Desktop/Python/Hustle Projects/Airbnb/data4/raw-data/naples/naples_2021-06.csv')\n",
    "naples_raw_df_6_3_2021['Month']='6/3/2021'\n",
    "print(f\"The 6_3_2021 dataset contains {len(naples_raw_df_6_3_2021)} AirBnb listings; the avg price is €{round(naples_raw_df_6_3_2021['price'].mean(),2)}.\")\n",
    "\n",
    "naples_raw_df_7_4_2021 = pd.read_csv('/Users/brendan/Desktop/Python/Hustle Projects/Airbnb/data4/raw-data/naples/naples_2021-07.csv')\n",
    "naples_raw_df_7_4_2021['Month']='7/4/2021'\n",
    "print(f\"The 7_4_2021 dataset contains {len(naples_raw_df_7_4_2021)} AirBnb listings; the avg price is €{round(naples_raw_df_7_4_2021['price'].mean(),2)}.\")\n",
    "\n",
    "naples_raw_df_8_6_2021 = pd.read_csv('/Users/brendan/Desktop/Python/Hustle Projects/Airbnb/data4/raw-data/naples/naples_2021-08.csv')\n",
    "naples_raw_df_8_6_2021['Month']='8/6/2021'\n",
    "print(f\"The 8_6_2021 dataset contains {len(naples_raw_df_8_6_2021)} AirBnb listings; the avg price is €{round(naples_raw_df_8_6_2021['price'].mean(),2)}.\")\n",
    "\n",
    "naples_raw_df_9_7_2021 = pd.read_csv('/Users/brendan/Desktop/Python/Hustle Projects/Airbnb/data4/raw-data/naples/naples_2021-09.csv')\n",
    "naples_raw_df_9_7_2021['Month']='9/7/2021'\n",
    "print(f\"The 9_7_2021 dataset contains {len(naples_raw_df_9_7_2021)} AirBnb listings; the avg price is €{round(naples_raw_df_9_7_2021['price'].mean(),2)}.\")\n",
    "\n",
    "naples_raw_df_10_6_2021 = pd.read_csv('/Users/brendan/Desktop/Python/Hustle Projects/Airbnb/data4/raw-data/naples/naples_2021-10.csv')\n",
    "naples_raw_df_10_6_2021['Month']='10/6/2021'\n",
    "print(f\"The 10_6_2021 dataset contains {len(naples_raw_df_10_6_2021)} AirBnb listings; the avg price is €{round(naples_raw_df_10_6_2021['price'].mean(),2)}.\")"
   ]
  },
  {
   "cell_type": "code",
   "execution_count": 294,
   "id": "9e9049f0",
   "metadata": {},
   "outputs": [],
   "source": [
    "naples_list_of_df = [naples_raw_df_12_12_2020, naples_raw_df_1_9_2021, naples_raw_df_2_8_2021, naples_raw_df_3_4_2021,\n",
    "                        naples_raw_df_4_9_2021, naples_raw_df_6_3_2021, naples_raw_df_7_4_2021, naples_raw_df_8_6_2021, naples_raw_df_9_7_2021]\n"
   ]
  },
  {
   "cell_type": "code",
   "execution_count": 295,
   "id": "b7ffa8db",
   "metadata": {},
   "outputs": [
    {
     "data": {
      "text/plain": [
       "(70490, 19)"
      ]
     },
     "execution_count": 295,
     "metadata": {},
     "output_type": "execute_result"
    }
   ],
   "source": [
    "naples_df = pd.concat(naples_list_of_df)\n",
    "naples_df.shape"
   ]
  },
  {
   "cell_type": "code",
   "execution_count": 296,
   "id": "e2f7eeb6",
   "metadata": {},
   "outputs": [],
   "source": [
    "raw_df_naples = pd.read_csv('/Users/brendan/Desktop/Python/Hustle Projects/Airbnb/data4/raw-data/naples/naples_detailed.csv')\n"
   ]
  },
  {
   "cell_type": "code",
   "execution_count": 297,
   "id": "0d1a71af",
   "metadata": {},
   "outputs": [],
   "source": [
    "naples_list_of_df = [naples_raw_df_12_12_2020, naples_raw_df_1_9_2021, naples_raw_df_2_8_2021, naples_raw_df_3_4_2021,\n",
    "                        naples_raw_df_4_9_2021, naples_raw_df_6_3_2021, naples_raw_df_7_4_2021, naples_raw_df_8_6_2021, naples_raw_df_9_7_2021]\n"
   ]
  },
  {
   "cell_type": "code",
   "execution_count": 298,
   "id": "e5f2c031",
   "metadata": {},
   "outputs": [
    {
     "data": {
      "text/plain": [
       "(70490, 19)"
      ]
     },
     "execution_count": 298,
     "metadata": {},
     "output_type": "execute_result"
    }
   ],
   "source": [
    "naples_df = pd.concat(naples_list_of_df)\n",
    "naples_df.shape"
   ]
  },
  {
   "cell_type": "code",
   "execution_count": 551,
   "id": "0973ce79",
   "metadata": {
    "scrolled": true
   },
   "outputs": [
    {
     "data": {
      "text/plain": [
       "(70490, 15)"
      ]
     },
     "execution_count": 551,
     "metadata": {},
     "output_type": "execute_result"
    }
   ],
   "source": [
    "df_join_naples = naples_df.join(raw_df_naples, lsuffix='_x', rsuffix='_y')\n",
    "naples_df_master = df_join_naples.copy()\n",
    "naples_df_final = naples_df_master[['id_x','Month', 'property_type', 'room_type_x', 'accommodates',\n",
    "                               'bedrooms', 'beds', 'price_x', 'availability_90','review_scores_rating',\n",
    "                               'review_scores_accuracy','review_scores_cleanliness','review_scores_location',\n",
    "                               'review_scores_value']]\n",
    "naples_df_final['city']='Naples'\n",
    "naples_df_final['id_x'] = naples_df_final['id_x'].apply(str)+'_naples'\n",
    "#naples_df_final= naples_df_final[naples_df_final['Month']=='9/7/2021']\n",
    "naples_df_final.shape"
   ]
  },
  {
   "cell_type": "markdown",
   "id": "092f4798",
   "metadata": {},
   "source": [
    "## Paris"
   ]
  },
  {
   "cell_type": "code",
   "execution_count": 300,
   "id": "c17fafd8",
   "metadata": {
    "scrolled": true
   },
   "outputs": [
    {
     "name": "stdout",
     "output_type": "stream",
     "text": [
      "The 12_12_2020 dataset contains 65917 AirBnb listings; the avg price is €114.28.\n",
      "The 1_9_2021 dataset contains 65256 AirBnb listings; the avg price is €112.89.\n",
      "The 2_8_2021 dataset contains 64690 AirBnb listings; the avg price is €113.1.\n",
      "The 3_4_2021 dataset contains 64347 AirBnb listings; the avg price is €112.39.\n",
      "The 4_9_2021 dataset contains 63090 AirBnb listings; the avg price is €112.92.\n",
      "The 6_3_2021 dataset contains 61105 AirBnb listings; the avg price is €117.4.\n",
      "The 7_4_2021 dataset contains 51040 AirBnb listings; the avg price is €124.53.\n",
      "The 8_6_2021 dataset contains 51354 AirBnb listings; the avg price is €123.43.\n",
      "The 9_7_2021 dataset contains 50133 AirBnb listings; the avg price is €125.89.\n",
      "The 10_6_2021 dataset contains 49634 AirBnb listings; the avg price is €130.2.\n"
     ]
    }
   ],
   "source": [
    "paris_raw_df_12_12_2020 = pd.read_csv('/Users/brendan/Desktop/Python/Hustle Projects/Airbnb/data4/raw-data/paris/paris_2020-12.csv')\n",
    "paris_raw_df_12_12_2020['Month']='12/12/2020' \n",
    "print(f\"The 12_12_2020 dataset contains {len(paris_raw_df_12_12_2020)} AirBnb listings; the avg price is €{round(paris_raw_df_12_12_2020['price'].mean(),2)}.\")\n",
    "\n",
    "paris_raw_df_1_9_2021 = pd.read_csv('/Users/brendan/Desktop/Python/Hustle Projects/Airbnb/data4/raw-data/paris/paris_2021-01.csv')\n",
    "paris_raw_df_1_9_2021['Month']='1/9/2021' \n",
    "print(f\"The 1_9_2021 dataset contains {len(paris_raw_df_1_9_2021)} AirBnb listings; the avg price is €{round(paris_raw_df_1_9_2021['price'].mean(),2)}.\")\n",
    "\n",
    "paris_raw_df_2_8_2021 = pd.read_csv('/Users/brendan/Desktop/Python/Hustle Projects/Airbnb/data4/raw-data/paris/paris_2021-02.csv')\n",
    "paris_raw_df_2_8_2021['Month']='2/8/2021'\n",
    "print(f\"The 2_8_2021 dataset contains {len(paris_raw_df_2_8_2021)} AirBnb listings; the avg price is €{round(paris_raw_df_2_8_2021['price'].mean(),2)}.\")\n",
    "\n",
    "paris_raw_df_3_4_2021 = pd.read_csv('/Users/brendan/Desktop/Python/Hustle Projects/Airbnb/data4/raw-data/paris/paris_2021-03.csv')\n",
    "paris_raw_df_3_4_2021['Month']='3/4/2021' \n",
    "print(f\"The 3_4_2021 dataset contains {len(paris_raw_df_3_4_2021)} AirBnb listings; the avg price is €{round(paris_raw_df_3_4_2021['price'].mean(),2)}.\")\n",
    "\n",
    "paris_raw_df_4_9_2021 = pd.read_csv('/Users/brendan/Desktop/Python/Hustle Projects/Airbnb/data4/raw-data/paris/paris_2021-04.csv')\n",
    "paris_raw_df_4_9_2021['Month']='4/9/2021'\n",
    "print(f\"The 4_9_2021 dataset contains {len(paris_raw_df_4_9_2021)} AirBnb listings; the avg price is €{round(paris_raw_df_4_9_2021['price'].mean(),2)}.\")\n",
    "\n",
    "#paris_raw_df_5_19_2021 = pd.read_csv('/Users/brendan/Desktop/Python/Hustle Projects/Airbnb/data4/raw-data/paris/paris_2021-05.csv')\n",
    "#print(f\"The 5_19_2021 dataset contains {len(paris_raw_df_5_19_2021)} AirBnb listings; the avg price is €{round(paris_raw_df_5_19_2021['price'].mean(),2)}.\")\n",
    "\n",
    "paris_raw_df_6_3_2021 = pd.read_csv('/Users/brendan/Desktop/Python/Hustle Projects/Airbnb/data4/raw-data/paris/paris_2021-06.csv')\n",
    "paris_raw_df_6_3_2021['Month']='6/3/2021'\n",
    "print(f\"The 6_3_2021 dataset contains {len(paris_raw_df_6_3_2021)} AirBnb listings; the avg price is €{round(paris_raw_df_6_3_2021['price'].mean(),2)}.\")\n",
    "\n",
    "paris_raw_df_7_4_2021 = pd.read_csv('/Users/brendan/Desktop/Python/Hustle Projects/Airbnb/data4/raw-data/paris/paris_2021-07.csv')\n",
    "paris_raw_df_7_4_2021['Month']='7/4/2021'\n",
    "print(f\"The 7_4_2021 dataset contains {len(paris_raw_df_7_4_2021)} AirBnb listings; the avg price is €{round(paris_raw_df_7_4_2021['price'].mean(),2)}.\")\n",
    "\n",
    "paris_raw_df_8_6_2021 = pd.read_csv('/Users/brendan/Desktop/Python/Hustle Projects/Airbnb/data4/raw-data/paris/paris_2021-08.csv')\n",
    "paris_raw_df_8_6_2021['Month']='8/6/2021'\n",
    "print(f\"The 8_6_2021 dataset contains {len(paris_raw_df_8_6_2021)} AirBnb listings; the avg price is €{round(paris_raw_df_8_6_2021['price'].mean(),2)}.\")\n",
    "\n",
    "paris_raw_df_9_7_2021 = pd.read_csv('/Users/brendan/Desktop/Python/Hustle Projects/Airbnb/data4/raw-data/paris/paris_2021-09.csv')\n",
    "paris_raw_df_9_7_2021['Month']='9/7/2021'\n",
    "print(f\"The 9_7_2021 dataset contains {len(paris_raw_df_9_7_2021)} AirBnb listings; the avg price is €{round(paris_raw_df_9_7_2021['price'].mean(),2)}.\")\n",
    "\n",
    "paris_raw_df_10_6_2021 = pd.read_csv('/Users/brendan/Desktop/Python/Hustle Projects/Airbnb/data4/raw-data/paris/paris_2021-10.csv')\n",
    "paris_raw_df_10_6_2021['Month']='10/6/2021'\n",
    "print(f\"The 10_6_2021 dataset contains {len(paris_raw_df_10_6_2021)} AirBnb listings; the avg price is €{round(paris_raw_df_10_6_2021['price'].mean(),2)}.\")"
   ]
  },
  {
   "cell_type": "code",
   "execution_count": 301,
   "id": "0fc89b33",
   "metadata": {},
   "outputs": [],
   "source": [
    "paris_list_of_df = [paris_raw_df_12_12_2020, paris_raw_df_1_9_2021, paris_raw_df_2_8_2021, paris_raw_df_3_4_2021,\n",
    "                        paris_raw_df_4_9_2021, paris_raw_df_6_3_2021, paris_raw_df_7_4_2021, paris_raw_df_8_6_2021, paris_raw_df_9_7_2021]\n"
   ]
  },
  {
   "cell_type": "code",
   "execution_count": 302,
   "id": "f1a71eed",
   "metadata": {},
   "outputs": [
    {
     "data": {
      "text/plain": [
       "(536932, 19)"
      ]
     },
     "execution_count": 302,
     "metadata": {},
     "output_type": "execute_result"
    }
   ],
   "source": [
    "paris_df = pd.concat(paris_list_of_df)\n",
    "paris_df.shape"
   ]
  },
  {
   "cell_type": "code",
   "execution_count": 303,
   "id": "555b84a5",
   "metadata": {},
   "outputs": [],
   "source": [
    "raw_df_paris = pd.read_csv('/Users/brendan/Desktop/Python/Hustle Projects/Airbnb/data4/raw-data/paris/paris_detailed.csv')\n"
   ]
  },
  {
   "cell_type": "code",
   "execution_count": 304,
   "id": "6ccf4aee",
   "metadata": {},
   "outputs": [],
   "source": [
    "paris_list_of_df = [paris_raw_df_12_12_2020, paris_raw_df_1_9_2021, paris_raw_df_2_8_2021, paris_raw_df_3_4_2021,\n",
    "                        paris_raw_df_4_9_2021, paris_raw_df_6_3_2021, paris_raw_df_7_4_2021, paris_raw_df_8_6_2021, paris_raw_df_9_7_2021]\n"
   ]
  },
  {
   "cell_type": "code",
   "execution_count": 305,
   "id": "9bb7c11e",
   "metadata": {},
   "outputs": [
    {
     "data": {
      "text/plain": [
       "(536932, 19)"
      ]
     },
     "execution_count": 305,
     "metadata": {},
     "output_type": "execute_result"
    }
   ],
   "source": [
    "paris_df = pd.concat(paris_list_of_df)\n",
    "paris_df.shape"
   ]
  },
  {
   "cell_type": "code",
   "execution_count": 552,
   "id": "55492c2c",
   "metadata": {
    "scrolled": false
   },
   "outputs": [
    {
     "data": {
      "text/plain": [
       "(536932, 15)"
      ]
     },
     "execution_count": 552,
     "metadata": {},
     "output_type": "execute_result"
    }
   ],
   "source": [
    "df_join_paris = paris_df.join(raw_df_paris, lsuffix='_x', rsuffix='_y')\n",
    "paris_df_master = df_join_paris.copy()\n",
    "paris_df_final = paris_df_master[['id_x','Month', 'property_type', 'room_type_x', 'accommodates',\n",
    "                               'bedrooms', 'beds', 'price_x', 'availability_90','review_scores_rating',\n",
    "                               'review_scores_accuracy','review_scores_cleanliness','review_scores_location',\n",
    "                               'review_scores_value']]\n",
    "paris_df_final['city']='Paris'\n",
    "paris_df_final['id_x'] = paris_df_final['id_x'].apply(str)+'_paris'\n",
    "#paris_df_final= paris_df_final[paris_df_final['Month']=='9/7/2021']\n",
    "paris_df_final.shape"
   ]
  },
  {
   "cell_type": "markdown",
   "id": "a6ee6d1c",
   "metadata": {},
   "source": [
    "## Rome"
   ]
  },
  {
   "cell_type": "code",
   "execution_count": 307,
   "id": "8e25beeb",
   "metadata": {
    "scrolled": false
   },
   "outputs": [
    {
     "name": "stdout",
     "output_type": "stream",
     "text": [
      "The 12_12_2020 dataset contains 28151 AirBnb listings; the avg price is €108.71.\n",
      "The 1_9_2021 dataset contains 28024 AirBnb listings; the avg price is €105.14.\n",
      "The 2_8_2021 dataset contains 27647 AirBnb listings; the avg price is €105.11.\n",
      "The 3_4_2021 dataset contains 27433 AirBnb listings; the avg price is €109.61.\n",
      "The 4_9_2021 dataset contains 27518 AirBnb listings; the avg price is €113.53.\n",
      "The 6_3_2021 dataset contains 27126 AirBnb listings; the avg price is €116.16.\n",
      "The 7_4_2021 dataset contains 27213 AirBnb listings; the avg price is €120.82.\n",
      "The 8_6_2021 dataset contains 26877 AirBnb listings; the avg price is €122.9.\n",
      "The 9_7_2021 dataset contains 26098 AirBnb listings; the avg price is €123.84.\n",
      "The 10_6_2021 dataset contains 25490 AirBnb listings; the avg price is €127.01.\n"
     ]
    }
   ],
   "source": [
    "rome_raw_df_12_12_2020 = pd.read_csv('/Users/brendan/Desktop/Python/Hustle Projects/Airbnb/data4/raw-data/rome/rome_2020-12.csv')\n",
    "rome_raw_df_12_12_2020['Month']='12/12/2020' \n",
    "print(f\"The 12_12_2020 dataset contains {len(rome_raw_df_12_12_2020)} AirBnb listings; the avg price is €{round(rome_raw_df_12_12_2020['price'].mean(),2)}.\")\n",
    "\n",
    "rome_raw_df_1_9_2021 = pd.read_csv('/Users/brendan/Desktop/Python/Hustle Projects/Airbnb/data4/raw-data/rome/rome_2021-01.csv')\n",
    "rome_raw_df_1_9_2021['Month']='1/9/2021' \n",
    "print(f\"The 1_9_2021 dataset contains {len(rome_raw_df_1_9_2021)} AirBnb listings; the avg price is €{round(rome_raw_df_1_9_2021['price'].mean(),2)}.\")\n",
    "\n",
    "rome_raw_df_2_8_2021 = pd.read_csv('/Users/brendan/Desktop/Python/Hustle Projects/Airbnb/data4/raw-data/rome/rome_2021-02.csv')\n",
    "rome_raw_df_2_8_2021['Month']='2/8/2021'\n",
    "print(f\"The 2_8_2021 dataset contains {len(rome_raw_df_2_8_2021)} AirBnb listings; the avg price is €{round(rome_raw_df_2_8_2021['price'].mean(),2)}.\")\n",
    "\n",
    "rome_raw_df_3_4_2021 = pd.read_csv('/Users/brendan/Desktop/Python/Hustle Projects/Airbnb/data4/raw-data/rome/rome_2021-03.csv')\n",
    "rome_raw_df_3_4_2021['Month']='3/4/2021' \n",
    "print(f\"The 3_4_2021 dataset contains {len(rome_raw_df_3_4_2021)} AirBnb listings; the avg price is €{round(rome_raw_df_3_4_2021['price'].mean(),2)}.\")\n",
    "\n",
    "rome_raw_df_4_9_2021 = pd.read_csv('/Users/brendan/Desktop/Python/Hustle Projects/Airbnb/data4/raw-data/rome/rome_2021-04.csv')\n",
    "rome_raw_df_4_9_2021['Month']='4/9/2021'\n",
    "print(f\"The 4_9_2021 dataset contains {len(rome_raw_df_4_9_2021)} AirBnb listings; the avg price is €{round(rome_raw_df_4_9_2021['price'].mean(),2)}.\")\n",
    "\n",
    "#rome_raw_df_5_19_2021 = pd.read_csv('/Users/brendan/Desktop/Python/Hustle Projects/Airbnb/data4/raw-data/rome/rome_2021-05.csv')\n",
    "#print(f\"The 5_19_2021 dataset contains {len(rome_raw_df_5_19_2021)} AirBnb listings; the avg price is €{round(rome_raw_df_5_19_2021['price'].mean(),2)}.\")\n",
    "\n",
    "rome_raw_df_6_3_2021 = pd.read_csv('/Users/brendan/Desktop/Python/Hustle Projects/Airbnb/data4/raw-data/rome/rome_2021-06.csv')\n",
    "rome_raw_df_6_3_2021['Month']='6/3/2021'\n",
    "print(f\"The 6_3_2021 dataset contains {len(rome_raw_df_6_3_2021)} AirBnb listings; the avg price is €{round(rome_raw_df_6_3_2021['price'].mean(),2)}.\")\n",
    "\n",
    "rome_raw_df_7_4_2021 = pd.read_csv('/Users/brendan/Desktop/Python/Hustle Projects/Airbnb/data4/raw-data/rome/rome_2021-07.csv')\n",
    "rome_raw_df_7_4_2021['Month']='7/4/2021'\n",
    "print(f\"The 7_4_2021 dataset contains {len(rome_raw_df_7_4_2021)} AirBnb listings; the avg price is €{round(rome_raw_df_7_4_2021['price'].mean(),2)}.\")\n",
    "\n",
    "rome_raw_df_8_6_2021 = pd.read_csv('/Users/brendan/Desktop/Python/Hustle Projects/Airbnb/data4/raw-data/rome/rome_2021-08.csv')\n",
    "rome_raw_df_8_6_2021['Month']='8/6/2021'\n",
    "print(f\"The 8_6_2021 dataset contains {len(rome_raw_df_8_6_2021)} AirBnb listings; the avg price is €{round(rome_raw_df_8_6_2021['price'].mean(),2)}.\")\n",
    "\n",
    "rome_raw_df_9_7_2021 = pd.read_csv('/Users/brendan/Desktop/Python/Hustle Projects/Airbnb/data4/raw-data/rome/rome_2021-09.csv')\n",
    "rome_raw_df_9_7_2021['Month']='9/7/2021'\n",
    "print(f\"The 9_7_2021 dataset contains {len(rome_raw_df_9_7_2021)} AirBnb listings; the avg price is €{round(rome_raw_df_9_7_2021['price'].mean(),2)}.\")\n",
    "\n",
    "rome_raw_df_10_6_2021 = pd.read_csv('/Users/brendan/Desktop/Python/Hustle Projects/Airbnb/data4/raw-data/rome/rome_2021-10.csv')\n",
    "rome_raw_df_10_6_2021['Month']='10/6/2021'\n",
    "print(f\"The 10_6_2021 dataset contains {len(rome_raw_df_10_6_2021)} AirBnb listings; the avg price is €{round(rome_raw_df_10_6_2021['price'].mean(),2)}.\")"
   ]
  },
  {
   "cell_type": "code",
   "execution_count": 308,
   "id": "17c6a4a9",
   "metadata": {},
   "outputs": [],
   "source": [
    "rome_list_of_df = [rome_raw_df_12_12_2020, rome_raw_df_1_9_2021, rome_raw_df_2_8_2021, rome_raw_df_3_4_2021,\n",
    "                        rome_raw_df_4_9_2021, rome_raw_df_6_3_2021, rome_raw_df_7_4_2021, rome_raw_df_8_6_2021, rome_raw_df_9_7_2021]\n"
   ]
  },
  {
   "cell_type": "code",
   "execution_count": 309,
   "id": "f860136e",
   "metadata": {},
   "outputs": [
    {
     "data": {
      "text/plain": [
       "(246087, 19)"
      ]
     },
     "execution_count": 309,
     "metadata": {},
     "output_type": "execute_result"
    }
   ],
   "source": [
    "rome_df = pd.concat(rome_list_of_df)\n",
    "rome_df.shape"
   ]
  },
  {
   "cell_type": "code",
   "execution_count": 310,
   "id": "277dbbe8",
   "metadata": {},
   "outputs": [],
   "source": [
    "raw_df_rome = pd.read_csv('/Users/brendan/Desktop/Python/Hustle Projects/Airbnb/data4/raw-data/rome/rome_detailed.csv')\n"
   ]
  },
  {
   "cell_type": "code",
   "execution_count": 311,
   "id": "4dbaee16",
   "metadata": {},
   "outputs": [],
   "source": [
    "rome_list_of_df = [rome_raw_df_12_12_2020, rome_raw_df_1_9_2021, rome_raw_df_2_8_2021, rome_raw_df_3_4_2021,\n",
    "                        rome_raw_df_4_9_2021, rome_raw_df_6_3_2021, rome_raw_df_7_4_2021, rome_raw_df_8_6_2021, rome_raw_df_9_7_2021]\n"
   ]
  },
  {
   "cell_type": "code",
   "execution_count": 312,
   "id": "6eb80a7a",
   "metadata": {},
   "outputs": [
    {
     "data": {
      "text/plain": [
       "(246087, 19)"
      ]
     },
     "execution_count": 312,
     "metadata": {},
     "output_type": "execute_result"
    }
   ],
   "source": [
    "rome_df = pd.concat(rome_list_of_df)\n",
    "rome_df.shape"
   ]
  },
  {
   "cell_type": "code",
   "execution_count": 553,
   "id": "ac571e1b",
   "metadata": {
    "scrolled": true
   },
   "outputs": [
    {
     "data": {
      "text/plain": [
       "(246087, 15)"
      ]
     },
     "execution_count": 553,
     "metadata": {},
     "output_type": "execute_result"
    }
   ],
   "source": [
    "df_join_rome = rome_df.join(raw_df_rome, lsuffix='_x', rsuffix='_y')\n",
    "rome_df_master = df_join_rome.copy()\n",
    "rome_df_final = rome_df_master[['id_x','Month', 'property_type', 'room_type_x', 'accommodates',\n",
    "                               'bedrooms', 'beds', 'price_x', 'availability_90','review_scores_rating',\n",
    "                               'review_scores_accuracy','review_scores_cleanliness','review_scores_location',\n",
    "                               'review_scores_value']]\n",
    "rome_df_final['city']='Rome'\n",
    "rome_df_final['id_x'] = rome_df_final['id_x'].apply(str)+'_rome'\n",
    "#rome_df_final= rome_df_final[rome_df_final['Month']=='9/7/2021']\n",
    "rome_df_final.shape"
   ]
  },
  {
   "cell_type": "markdown",
   "id": "3c8f01b2",
   "metadata": {},
   "source": [
    "## Sicily"
   ]
  },
  {
   "cell_type": "code",
   "execution_count": 314,
   "id": "46e937cd",
   "metadata": {
    "scrolled": false
   },
   "outputs": [
    {
     "name": "stdout",
     "output_type": "stream",
     "text": [
      "The 1_9_2021 dataset contains 49235 AirBnb listings; the avg price is €95.01.\n",
      "The 2_8_2021 dataset contains 49678 AirBnb listings; the avg price is €93.36.\n",
      "The 3_4_2021 dataset contains 49659 AirBnb listings; the avg price is €93.21.\n",
      "The 4_9_2021 dataset contains 50202 AirBnb listings; the avg price is €95.62.\n",
      "The 7_4_2021 dataset contains 49266 AirBnb listings; the avg price is €122.97.\n",
      "The 8_6_2021 dataset contains 47876 AirBnb listings; the avg price is €111.35.\n",
      "The 9_7_2021 dataset contains 47925 AirBnb listings; the avg price is €99.32.\n",
      "The 10_6_2021 dataset contains 48096 AirBnb listings; the avg price is €100.18.\n"
     ]
    }
   ],
   "source": [
    "#sicily_raw_df_12_12_2020 = pd.read_csv('/Users/brendan/Desktop/Python/Hustle Projects/Airbnb/data4/raw-data/sicily/sicily_2020-12.csv')\n",
    "#sicily_raw_df_12_12_2020['Month']='12/12/2020' \n",
    "#print(f\"The 12_12_2020 dataset contains {len(sicily_raw_df_12_12_2020)} AirBnb listings; the avg price is €{round(sicily_raw_df_12_12_2020['price'].mean(),2)}.\")\n",
    "\n",
    "sicily_raw_df_1_9_2021 = pd.read_csv('/Users/brendan/Desktop/Python/Hustle Projects/Airbnb/data4/raw-data/sicily/sicily_2021-01.csv')\n",
    "sicily_raw_df_1_9_2021['Month']='1/9/2021' \n",
    "print(f\"The 1_9_2021 dataset contains {len(sicily_raw_df_1_9_2021)} AirBnb listings; the avg price is €{round(sicily_raw_df_1_9_2021['price'].mean(),2)}.\")\n",
    "\n",
    "sicily_raw_df_2_8_2021 = pd.read_csv('/Users/brendan/Desktop/Python/Hustle Projects/Airbnb/data4/raw-data/sicily/sicily_2021-02.csv')\n",
    "sicily_raw_df_2_8_2021['Month']='2/8/2021'\n",
    "print(f\"The 2_8_2021 dataset contains {len(sicily_raw_df_2_8_2021)} AirBnb listings; the avg price is €{round(sicily_raw_df_2_8_2021['price'].mean(),2)}.\")\n",
    "\n",
    "sicily_raw_df_3_4_2021 = pd.read_csv('/Users/brendan/Desktop/Python/Hustle Projects/Airbnb/data4/raw-data/sicily/sicily_2021-03.csv')\n",
    "sicily_raw_df_3_4_2021['Month']='3/4/2021' \n",
    "print(f\"The 3_4_2021 dataset contains {len(sicily_raw_df_3_4_2021)} AirBnb listings; the avg price is €{round(sicily_raw_df_3_4_2021['price'].mean(),2)}.\")\n",
    "\n",
    "sicily_raw_df_4_9_2021 = pd.read_csv('/Users/brendan/Desktop/Python/Hustle Projects/Airbnb/data4/raw-data/sicily/sicily_2021-04.csv')\n",
    "sicily_raw_df_4_9_2021['Month']='4/9/2021'\n",
    "print(f\"The 4_9_2021 dataset contains {len(sicily_raw_df_4_9_2021)} AirBnb listings; the avg price is €{round(sicily_raw_df_4_9_2021['price'].mean(),2)}.\")\n",
    "\n",
    "#sicily_raw_df_5_19_2021 = pd.read_csv('/Users/brendan/Desktop/Python/Hustle Projects/Airbnb/data4/raw-data/sicily/sicily_2021-05.csv')\n",
    "#print(f\"The 5_19_2021 dataset contains {len(sicily_raw_df_5_19_2021)} AirBnb listings; the avg price is €{round(sicily_raw_df_5_19_2021['price'].mean(),2)}.\")\n",
    "\n",
    "#sicily_raw_df_6_3_2021 = pd.read_csv('/Users/brendan/Desktop/Python/Hustle Projects/Airbnb/data4/raw-data/sicily/sicily_2021-06.csv')\n",
    "#sicily_raw_df_6_3_2021['Month']='6/3/2021'\n",
    "#print(f\"The 6_3_2021 dataset contains {len(sicily_raw_df_6_3_2021)} AirBnb listings; the avg price is €{round(sicily_raw_df_6_3_2021['price'].mean(),2)}.\")\n",
    "\n",
    "sicily_raw_df_7_4_2021 = pd.read_csv('/Users/brendan/Desktop/Python/Hustle Projects/Airbnb/data4/raw-data/sicily/sicily_2021-07.csv')\n",
    "sicily_raw_df_7_4_2021['Month']='7/4/2021'\n",
    "print(f\"The 7_4_2021 dataset contains {len(sicily_raw_df_7_4_2021)} AirBnb listings; the avg price is €{round(sicily_raw_df_7_4_2021['price'].mean(),2)}.\")\n",
    "\n",
    "sicily_raw_df_8_6_2021 = pd.read_csv('/Users/brendan/Desktop/Python/Hustle Projects/Airbnb/data4/raw-data/sicily/sicily_2021-08.csv')\n",
    "sicily_raw_df_8_6_2021['Month']='8/6/2021'\n",
    "print(f\"The 8_6_2021 dataset contains {len(sicily_raw_df_8_6_2021)} AirBnb listings; the avg price is €{round(sicily_raw_df_8_6_2021['price'].mean(),2)}.\")\n",
    "\n",
    "sicily_raw_df_9_7_2021 = pd.read_csv('/Users/brendan/Desktop/Python/Hustle Projects/Airbnb/data4/raw-data/sicily/sicily_2021-09.csv')\n",
    "sicily_raw_df_9_7_2021['Month']='9/7/2021'\n",
    "print(f\"The 9_7_2021 dataset contains {len(sicily_raw_df_9_7_2021)} AirBnb listings; the avg price is €{round(sicily_raw_df_9_7_2021['price'].mean(),2)}.\")\n",
    "\n",
    "sicily_raw_df_10_6_2021 = pd.read_csv('/Users/brendan/Desktop/Python/Hustle Projects/Airbnb/data4/raw-data/sicily/sicily_2021-10.csv')\n",
    "sicily_raw_df_10_6_2021['Month']='10/6/2021'\n",
    "print(f\"The 10_6_2021 dataset contains {len(sicily_raw_df_10_6_2021)} AirBnb listings; the avg price is €{round(sicily_raw_df_10_6_2021['price'].mean(),2)}.\")"
   ]
  },
  {
   "cell_type": "code",
   "execution_count": 315,
   "id": "096483ce",
   "metadata": {},
   "outputs": [],
   "source": [
    "sicily_list_of_df = [sicily_raw_df_1_9_2021, sicily_raw_df_2_8_2021, sicily_raw_df_3_4_2021,\n",
    "                        sicily_raw_df_4_9_2021, sicily_raw_df_7_4_2021, sicily_raw_df_8_6_2021, sicily_raw_df_9_7_2021]\n"
   ]
  },
  {
   "cell_type": "code",
   "execution_count": 316,
   "id": "e911613f",
   "metadata": {},
   "outputs": [
    {
     "data": {
      "text/plain": [
       "(343841, 19)"
      ]
     },
     "execution_count": 316,
     "metadata": {},
     "output_type": "execute_result"
    }
   ],
   "source": [
    "sicily_df = pd.concat(sicily_list_of_df)\n",
    "sicily_df.shape"
   ]
  },
  {
   "cell_type": "code",
   "execution_count": 317,
   "id": "1164c4e6",
   "metadata": {},
   "outputs": [],
   "source": [
    "raw_df_sicily = pd.read_csv('/Users/brendan/Desktop/Python/Hustle Projects/Airbnb/data4/raw-data/sicily/sicily_detailed.csv')\n"
   ]
  },
  {
   "cell_type": "code",
   "execution_count": 318,
   "id": "085c7fde",
   "metadata": {},
   "outputs": [],
   "source": [
    "sicily_list_of_df = [sicily_raw_df_1_9_2021, sicily_raw_df_2_8_2021, sicily_raw_df_3_4_2021,\n",
    "                        sicily_raw_df_4_9_2021, sicily_raw_df_7_4_2021, sicily_raw_df_8_6_2021, sicily_raw_df_9_7_2021]\n"
   ]
  },
  {
   "cell_type": "code",
   "execution_count": 319,
   "id": "8b1db6d2",
   "metadata": {},
   "outputs": [
    {
     "data": {
      "text/plain": [
       "(343841, 19)"
      ]
     },
     "execution_count": 319,
     "metadata": {},
     "output_type": "execute_result"
    }
   ],
   "source": [
    "sicily_df = pd.concat(sicily_list_of_df)\n",
    "sicily_df.shape"
   ]
  },
  {
   "cell_type": "code",
   "execution_count": 554,
   "id": "988d6694",
   "metadata": {
    "scrolled": false
   },
   "outputs": [
    {
     "data": {
      "text/plain": [
       "(343841, 15)"
      ]
     },
     "execution_count": 554,
     "metadata": {},
     "output_type": "execute_result"
    }
   ],
   "source": [
    "df_join_sicily = sicily_df.join(raw_df_sicily, lsuffix='_x', rsuffix='_y')\n",
    "sicily_df_master = df_join_sicily.copy()\n",
    "sicily_df_final = sicily_df_master[['id_x','Month', 'property_type', 'room_type_x', 'accommodates',\n",
    "                               'bedrooms', 'beds', 'price_x', 'availability_90','review_scores_rating',\n",
    "                               'review_scores_accuracy','review_scores_cleanliness','review_scores_location',\n",
    "                               'review_scores_value']]\n",
    "sicily_df_final['city']='Sicily'\n",
    "sicily_df_final['id_x'] = sicily_df_final['id_x'].apply(str)+'_sicily'\n",
    "#sicily_df_final= sicily_df_final[sicily_df_final['Month']=='9/7/2021']\n",
    "sicily_df_final.shape"
   ]
  },
  {
   "cell_type": "markdown",
   "id": "f475274f",
   "metadata": {},
   "source": [
    "## Venice"
   ]
  },
  {
   "cell_type": "code",
   "execution_count": 321,
   "id": "75554f3f",
   "metadata": {
    "scrolled": true
   },
   "outputs": [
    {
     "name": "stdout",
     "output_type": "stream",
     "text": [
      "The 12_12_2020 dataset contains 8090 AirBnb listings; the avg price is €124.89.\n",
      "The 1_9_2021 dataset contains 8074 AirBnb listings; the avg price is €132.38.\n",
      "The 2_8_2021 dataset contains 7951 AirBnb listings; the avg price is €136.15.\n",
      "The 3_4_2021 dataset contains 7917 AirBnb listings; the avg price is €129.93.\n",
      "The 4_9_2021 dataset contains 7823 AirBnb listings; the avg price is €137.06.\n",
      "The 6_3_2021 dataset contains 7707 AirBnb listings; the avg price is €139.5.\n",
      "The 7_4_2021 dataset contains 7934 AirBnb listings; the avg price is €150.21.\n",
      "The 8_6_2021 dataset contains 7947 AirBnb listings; the avg price is €153.62.\n",
      "The 9_7_2021 dataset contains 7631 AirBnb listings; the avg price is €153.0.\n",
      "The 10_6_2021 dataset contains 7568 AirBnb listings; the avg price is €143.29.\n"
     ]
    }
   ],
   "source": [
    "venice_raw_df_12_12_2020 = pd.read_csv('/Users/brendan/Desktop/Python/Hustle Projects/Airbnb/data4/raw-data/venice/venice_2020-12.csv')\n",
    "venice_raw_df_12_12_2020['Month']='12/12/2020' \n",
    "print(f\"The 12_12_2020 dataset contains {len(venice_raw_df_12_12_2020)} AirBnb listings; the avg price is €{round(venice_raw_df_12_12_2020['price'].mean(),2)}.\")\n",
    "\n",
    "venice_raw_df_1_9_2021 = pd.read_csv('/Users/brendan/Desktop/Python/Hustle Projects/Airbnb/data4/raw-data/venice/venice_2021-01.csv')\n",
    "venice_raw_df_1_9_2021['Month']='1/9/2021' \n",
    "print(f\"The 1_9_2021 dataset contains {len(venice_raw_df_1_9_2021)} AirBnb listings; the avg price is €{round(venice_raw_df_1_9_2021['price'].mean(),2)}.\")\n",
    "\n",
    "venice_raw_df_2_8_2021 = pd.read_csv('/Users/brendan/Desktop/Python/Hustle Projects/Airbnb/data4/raw-data/venice/venice_2021-02.csv')\n",
    "venice_raw_df_2_8_2021['Month']='2/8/2021'\n",
    "print(f\"The 2_8_2021 dataset contains {len(venice_raw_df_2_8_2021)} AirBnb listings; the avg price is €{round(venice_raw_df_2_8_2021['price'].mean(),2)}.\")\n",
    "\n",
    "venice_raw_df_3_4_2021 = pd.read_csv('/Users/brendan/Desktop/Python/Hustle Projects/Airbnb/data4/raw-data/venice/venice_2021-03.csv')\n",
    "venice_raw_df_3_4_2021['Month']='3/4/2021' \n",
    "print(f\"The 3_4_2021 dataset contains {len(venice_raw_df_3_4_2021)} AirBnb listings; the avg price is €{round(venice_raw_df_3_4_2021['price'].mean(),2)}.\")\n",
    "\n",
    "venice_raw_df_4_9_2021 = pd.read_csv('/Users/brendan/Desktop/Python/Hustle Projects/Airbnb/data4/raw-data/venice/venice_2021-04.csv')\n",
    "venice_raw_df_4_9_2021['Month']='4/9/2021'\n",
    "print(f\"The 4_9_2021 dataset contains {len(venice_raw_df_4_9_2021)} AirBnb listings; the avg price is €{round(venice_raw_df_4_9_2021['price'].mean(),2)}.\")\n",
    "\n",
    "#venice_raw_df_5_19_2021 = pd.read_csv('/Users/brendan/Desktop/Python/Hustle Projects/Airbnb/data4/raw-data/venice/venice_2021-05.csv')\n",
    "#print(f\"The 5_19_2021 dataset contains {len(venice_raw_df_5_19_2021)} AirBnb listings; the avg price is €{round(venice_raw_df_5_19_2021['price'].mean(),2)}.\")\n",
    "\n",
    "venice_raw_df_6_3_2021 = pd.read_csv('/Users/brendan/Desktop/Python/Hustle Projects/Airbnb/data4/raw-data/venice/venice_2021-06.csv')\n",
    "venice_raw_df_6_3_2021['Month']='6/3/2021'\n",
    "print(f\"The 6_3_2021 dataset contains {len(venice_raw_df_6_3_2021)} AirBnb listings; the avg price is €{round(venice_raw_df_6_3_2021['price'].mean(),2)}.\")\n",
    "\n",
    "venice_raw_df_7_4_2021 = pd.read_csv('/Users/brendan/Desktop/Python/Hustle Projects/Airbnb/data4/raw-data/venice/venice_2021-07.csv')\n",
    "venice_raw_df_7_4_2021['Month']='7/4/2021'\n",
    "print(f\"The 7_4_2021 dataset contains {len(venice_raw_df_7_4_2021)} AirBnb listings; the avg price is €{round(venice_raw_df_7_4_2021['price'].mean(),2)}.\")\n",
    "\n",
    "venice_raw_df_8_6_2021 = pd.read_csv('/Users/brendan/Desktop/Python/Hustle Projects/Airbnb/data4/raw-data/venice/venice_2021-08.csv')\n",
    "venice_raw_df_8_6_2021['Month']='8/6/2021'\n",
    "print(f\"The 8_6_2021 dataset contains {len(venice_raw_df_8_6_2021)} AirBnb listings; the avg price is €{round(venice_raw_df_8_6_2021['price'].mean(),2)}.\")\n",
    "\n",
    "venice_raw_df_9_7_2021 = pd.read_csv('/Users/brendan/Desktop/Python/Hustle Projects/Airbnb/data4/raw-data/venice/venice_2021-09.csv')\n",
    "venice_raw_df_9_7_2021['Month']='9/7/2021'\n",
    "print(f\"The 9_7_2021 dataset contains {len(venice_raw_df_9_7_2021)} AirBnb listings; the avg price is €{round(venice_raw_df_9_7_2021['price'].mean(),2)}.\")\n",
    "\n",
    "venice_raw_df_10_6_2021 = pd.read_csv('/Users/brendan/Desktop/Python/Hustle Projects/Airbnb/data4/raw-data/venice/venice_2021-10.csv')\n",
    "venice_raw_df_10_6_2021['Month']='10/6/2021'\n",
    "print(f\"The 10_6_2021 dataset contains {len(venice_raw_df_10_6_2021)} AirBnb listings; the avg price is €{round(venice_raw_df_10_6_2021['price'].mean(),2)}.\")"
   ]
  },
  {
   "cell_type": "code",
   "execution_count": 322,
   "id": "de425d14",
   "metadata": {},
   "outputs": [],
   "source": [
    "venice_list_of_df = [venice_raw_df_12_12_2020, venice_raw_df_1_9_2021, venice_raw_df_2_8_2021, venice_raw_df_3_4_2021,\n",
    "                        venice_raw_df_4_9_2021, venice_raw_df_6_3_2021, venice_raw_df_7_4_2021, venice_raw_df_8_6_2021, venice_raw_df_9_7_2021]\n"
   ]
  },
  {
   "cell_type": "code",
   "execution_count": 323,
   "id": "dfbc2a31",
   "metadata": {
    "scrolled": true
   },
   "outputs": [
    {
     "data": {
      "text/plain": [
       "(71074, 19)"
      ]
     },
     "execution_count": 323,
     "metadata": {},
     "output_type": "execute_result"
    }
   ],
   "source": [
    "venice_df = pd.concat(venice_list_of_df)\n",
    "venice_df.shape"
   ]
  },
  {
   "cell_type": "code",
   "execution_count": 324,
   "id": "1c771ada",
   "metadata": {},
   "outputs": [],
   "source": [
    "raw_df_venice = pd.read_csv('/Users/brendan/Desktop/Python/Hustle Projects/Airbnb/data4/raw-data/venice/venice_detailed.csv')\n"
   ]
  },
  {
   "cell_type": "code",
   "execution_count": 325,
   "id": "3739c708",
   "metadata": {},
   "outputs": [],
   "source": [
    "venice_list_of_df = [venice_raw_df_12_12_2020, venice_raw_df_1_9_2021, venice_raw_df_2_8_2021, venice_raw_df_3_4_2021,\n",
    "                        venice_raw_df_4_9_2021, venice_raw_df_6_3_2021, venice_raw_df_7_4_2021, venice_raw_df_8_6_2021, venice_raw_df_9_7_2021]\n"
   ]
  },
  {
   "cell_type": "code",
   "execution_count": 326,
   "id": "8b784ba5",
   "metadata": {},
   "outputs": [
    {
     "data": {
      "text/plain": [
       "(71074, 19)"
      ]
     },
     "execution_count": 326,
     "metadata": {},
     "output_type": "execute_result"
    }
   ],
   "source": [
    "venice_df = pd.concat(venice_list_of_df)\n",
    "venice_df.shape"
   ]
  },
  {
   "cell_type": "code",
   "execution_count": 555,
   "id": "e5cc469a",
   "metadata": {
    "scrolled": true
   },
   "outputs": [
    {
     "data": {
      "text/plain": [
       "(71074, 15)"
      ]
     },
     "execution_count": 555,
     "metadata": {},
     "output_type": "execute_result"
    }
   ],
   "source": [
    "df_join_venice = venice_df.join(raw_df_venice, lsuffix='_x', rsuffix='_y')\n",
    "venice_df_master = df_join_venice.copy()\n",
    "venice_df_final = venice_df_master[['id_x','Month', 'property_type', 'room_type_x', 'accommodates',\n",
    "                               'bedrooms', 'beds', 'price_x', 'availability_90','review_scores_rating',\n",
    "                               'review_scores_accuracy','review_scores_cleanliness','review_scores_location',\n",
    "                               'review_scores_value']]\n",
    "venice_df_final['city']='Venice'\n",
    "venice_df_final['id_x'] = venice_df_final['id_x'].apply(str)+'_venice'\n",
    "#venice_df_final= venice_df_final[venice_df_final['Month']=='9/7/2021']\n",
    "venice_df_final.shape"
   ]
  },
  {
   "cell_type": "markdown",
   "id": "8f1d384d",
   "metadata": {},
   "source": [
    "## Vienna"
   ]
  },
  {
   "cell_type": "code",
   "execution_count": 328,
   "id": "b7ccd7f7",
   "metadata": {
    "scrolled": false
   },
   "outputs": [
    {
     "name": "stdout",
     "output_type": "stream",
     "text": [
      "The 12_12_2020 dataset contains 12052 AirBnb listings; the avg price is €82.66.\n",
      "The 1_9_2021 dataset contains 11667 AirBnb listings; the avg price is €77.63.\n",
      "The 2_8_2021 dataset contains 11496 AirBnb listings; the avg price is €86.12.\n",
      "The 3_4_2021 dataset contains 11432 AirBnb listings; the avg price is €87.15.\n",
      "The 4_9_2021 dataset contains 11477 AirBnb listings; the avg price is €83.13.\n",
      "The 6_3_2021 dataset contains 11567 AirBnb listings; the avg price is €77.15.\n",
      "The 7_4_2021 dataset contains 11689 AirBnb listings; the avg price is €77.13.\n",
      "The 8_6_2021 dataset contains 11625 AirBnb listings; the avg price is €79.18.\n",
      "The 9_7_2021 dataset contains 11583 AirBnb listings; the avg price is €80.37.\n",
      "The 10_6_2021 dataset contains 11294 AirBnb listings; the avg price is €81.1.\n"
     ]
    }
   ],
   "source": [
    "vienna_raw_df_12_12_2020 = pd.read_csv('/Users/brendan/Desktop/Python/Hustle Projects/Airbnb/data4/raw-data/vienna/vienna_2020-12.csv')\n",
    "vienna_raw_df_12_12_2020['Month']='12/12/2020' \n",
    "print(f\"The 12_12_2020 dataset contains {len(vienna_raw_df_12_12_2020)} AirBnb listings; the avg price is €{round(vienna_raw_df_12_12_2020['price'].mean(),2)}.\")\n",
    "\n",
    "vienna_raw_df_1_9_2021 = pd.read_csv('/Users/brendan/Desktop/Python/Hustle Projects/Airbnb/data4/raw-data/vienna/vienna_2021-01.csv')\n",
    "vienna_raw_df_1_9_2021['Month']='1/9/2021' \n",
    "print(f\"The 1_9_2021 dataset contains {len(vienna_raw_df_1_9_2021)} AirBnb listings; the avg price is €{round(vienna_raw_df_1_9_2021['price'].mean(),2)}.\")\n",
    "\n",
    "vienna_raw_df_2_8_2021 = pd.read_csv('/Users/brendan/Desktop/Python/Hustle Projects/Airbnb/data4/raw-data/vienna/vienna_2021-02.csv')\n",
    "vienna_raw_df_2_8_2021['Month']='2/8/2021'\n",
    "print(f\"The 2_8_2021 dataset contains {len(vienna_raw_df_2_8_2021)} AirBnb listings; the avg price is €{round(vienna_raw_df_2_8_2021['price'].mean(),2)}.\")\n",
    "\n",
    "vienna_raw_df_3_4_2021 = pd.read_csv('/Users/brendan/Desktop/Python/Hustle Projects/Airbnb/data4/raw-data/vienna/vienna_2021-03.csv')\n",
    "vienna_raw_df_3_4_2021['Month']='3/4/2021' \n",
    "print(f\"The 3_4_2021 dataset contains {len(vienna_raw_df_3_4_2021)} AirBnb listings; the avg price is €{round(vienna_raw_df_3_4_2021['price'].mean(),2)}.\")\n",
    "\n",
    "vienna_raw_df_4_9_2021 = pd.read_csv('/Users/brendan/Desktop/Python/Hustle Projects/Airbnb/data4/raw-data/vienna/vienna_2021-04.csv')\n",
    "vienna_raw_df_4_9_2021['Month']='4/9/2021'\n",
    "print(f\"The 4_9_2021 dataset contains {len(vienna_raw_df_4_9_2021)} AirBnb listings; the avg price is €{round(vienna_raw_df_4_9_2021['price'].mean(),2)}.\")\n",
    "\n",
    "#vienna_raw_df_5_19_2021 = pd.read_csv('/Users/brendan/Desktop/Python/Hustle Projects/Airbnb/data4/raw-data/vienna/vienna_2021-05.csv')\n",
    "#print(f\"The 5_19_2021 dataset contains {len(vienna_raw_df_5_19_2021)} AirBnb listings; the avg price is €{round(vienna_raw_df_5_19_2021['price'].mean(),2)}.\")\n",
    "\n",
    "vienna_raw_df_6_3_2021 = pd.read_csv('/Users/brendan/Desktop/Python/Hustle Projects/Airbnb/data4/raw-data/vienna/vienna_2021-06.csv')\n",
    "vienna_raw_df_6_3_2021['Month']='6/3/2021'\n",
    "print(f\"The 6_3_2021 dataset contains {len(vienna_raw_df_6_3_2021)} AirBnb listings; the avg price is €{round(vienna_raw_df_6_3_2021['price'].mean(),2)}.\")\n",
    "\n",
    "vienna_raw_df_7_4_2021 = pd.read_csv('/Users/brendan/Desktop/Python/Hustle Projects/Airbnb/data4/raw-data/vienna/vienna_2021-07.csv')\n",
    "vienna_raw_df_7_4_2021['Month']='7/4/2021'\n",
    "print(f\"The 7_4_2021 dataset contains {len(vienna_raw_df_7_4_2021)} AirBnb listings; the avg price is €{round(vienna_raw_df_7_4_2021['price'].mean(),2)}.\")\n",
    "\n",
    "vienna_raw_df_8_6_2021 = pd.read_csv('/Users/brendan/Desktop/Python/Hustle Projects/Airbnb/data4/raw-data/vienna/vienna_2021-08.csv')\n",
    "vienna_raw_df_8_6_2021['Month']='8/6/2021'\n",
    "print(f\"The 8_6_2021 dataset contains {len(vienna_raw_df_8_6_2021)} AirBnb listings; the avg price is €{round(vienna_raw_df_8_6_2021['price'].mean(),2)}.\")\n",
    "\n",
    "vienna_raw_df_9_7_2021 = pd.read_csv('/Users/brendan/Desktop/Python/Hustle Projects/Airbnb/data4/raw-data/vienna/vienna_2021-09.csv')\n",
    "vienna_raw_df_9_7_2021['Month']='9/7/2021'\n",
    "print(f\"The 9_7_2021 dataset contains {len(vienna_raw_df_9_7_2021)} AirBnb listings; the avg price is €{round(vienna_raw_df_9_7_2021['price'].mean(),2)}.\")\n",
    "\n",
    "vienna_raw_df_10_6_2021 = pd.read_csv('/Users/brendan/Desktop/Python/Hustle Projects/Airbnb/data4/raw-data/vienna/vienna_2021-10.csv')\n",
    "vienna_raw_df_10_6_2021['Month']='10/6/2021'\n",
    "print(f\"The 10_6_2021 dataset contains {len(vienna_raw_df_10_6_2021)} AirBnb listings; the avg price is €{round(vienna_raw_df_10_6_2021['price'].mean(),2)}.\")"
   ]
  },
  {
   "cell_type": "code",
   "execution_count": 329,
   "id": "f346e4a7",
   "metadata": {},
   "outputs": [],
   "source": [
    "vienna_list_of_df = [vienna_raw_df_12_12_2020, vienna_raw_df_1_9_2021, vienna_raw_df_2_8_2021, vienna_raw_df_3_4_2021,\n",
    "                        vienna_raw_df_4_9_2021, vienna_raw_df_6_3_2021, vienna_raw_df_7_4_2021, vienna_raw_df_8_6_2021, vienna_raw_df_9_7_2021]\n"
   ]
  },
  {
   "cell_type": "code",
   "execution_count": 330,
   "id": "7825f0d0",
   "metadata": {},
   "outputs": [
    {
     "data": {
      "text/plain": [
       "(104588, 19)"
      ]
     },
     "execution_count": 330,
     "metadata": {},
     "output_type": "execute_result"
    }
   ],
   "source": [
    "vienna_df = pd.concat(vienna_list_of_df)\n",
    "vienna_df.shape"
   ]
  },
  {
   "cell_type": "code",
   "execution_count": 331,
   "id": "db76d0f9",
   "metadata": {},
   "outputs": [],
   "source": [
    "raw_df_vienna = pd.read_csv('/Users/brendan/Desktop/Python/Hustle Projects/Airbnb/data4/raw-data/vienna/vienna_detailed.csv')\n"
   ]
  },
  {
   "cell_type": "code",
   "execution_count": 332,
   "id": "1f13eeb6",
   "metadata": {},
   "outputs": [],
   "source": [
    "vienna_list_of_df = [vienna_raw_df_12_12_2020, vienna_raw_df_1_9_2021, vienna_raw_df_2_8_2021, vienna_raw_df_3_4_2021,\n",
    "                        vienna_raw_df_4_9_2021, vienna_raw_df_6_3_2021, vienna_raw_df_7_4_2021, vienna_raw_df_8_6_2021, vienna_raw_df_9_7_2021]\n"
   ]
  },
  {
   "cell_type": "code",
   "execution_count": 333,
   "id": "c9ce4c33",
   "metadata": {},
   "outputs": [
    {
     "data": {
      "text/plain": [
       "(104588, 19)"
      ]
     },
     "execution_count": 333,
     "metadata": {},
     "output_type": "execute_result"
    }
   ],
   "source": [
    "vienna_df = pd.concat(vienna_list_of_df)\n",
    "vienna_df.shape"
   ]
  },
  {
   "cell_type": "code",
   "execution_count": 556,
   "id": "4b4005d9",
   "metadata": {
    "scrolled": true
   },
   "outputs": [
    {
     "data": {
      "text/plain": [
       "(104588, 13)"
      ]
     },
     "execution_count": 556,
     "metadata": {},
     "output_type": "execute_result"
    }
   ],
   "source": [
    "df_join_vienna = vienna_df.join(raw_df_vienna, lsuffix='_x', rsuffix='_y')\n",
    "vienna_df_master = df_join_vienna.copy()\n",
    "vienna_df_final = vienna_df_master[['id_x','Month', 'property_type', 'room_type_x', 'accommodates',\n",
    "                                'price_x', 'availability_90','review_scores_rating',\n",
    "                               'review_scores_accuracy','review_scores_cleanliness','review_scores_location',\n",
    "                               'review_scores_value']]\n",
    "vienna_df_final['city']='Vienna'\n",
    "vienna_df_final['id_x'] = vienna_df_final['id_x'].apply(str)+'_vienna'\n",
    "#vienna_df_final= vienna_df_final[vienna_df_final['Month']=='9/7/2021']\n",
    "vienna_df_final.shape"
   ]
  },
  {
   "cell_type": "code",
   "execution_count": null,
   "id": "eee1f873",
   "metadata": {},
   "outputs": [],
   "source": []
  },
  {
   "cell_type": "code",
   "execution_count": 557,
   "id": "5361fa91",
   "metadata": {},
   "outputs": [
    {
     "data": {
      "text/plain": [
       "id_x                              0\n",
       "Month                             0\n",
       "property_type                342522\n",
       "room_type_x                       0\n",
       "accommodates                 342522\n",
       "bedrooms                     639465\n",
       "beds                         491059\n",
       "price_x                           0\n",
       "availability_90              342522\n",
       "review_scores_rating         888383\n",
       "review_scores_accuracy       915270\n",
       "review_scores_cleanliness    915003\n",
       "review_scores_location       915788\n",
       "review_scores_value          915893\n",
       "city                              0\n",
       "dtype: int64"
      ]
     },
     "execution_count": 557,
     "metadata": {},
     "output_type": "execute_result"
    }
   ],
   "source": [
    "list_of_city_master_df = [amsterdam_df_final, antwerp_df_final, barcelona_df_final, berlin_df_final, bordeaux_df_final, \n",
    "                          brussels_df_final,crete_df_final, florence_df_final, lisbon_df_final, lyon_df_final, \n",
    "                          madrid_df_final, milan_df_final, munich_df_final, naples_df_final, paris_df_final, \n",
    "                          rome_df_final, sicily_df_final, venice_df_final, vienna_df_final]\n",
    "euro_df_raw = pd.concat(list_of_city_master_df)\n",
    "euro_df_raw.isna().sum()"
   ]
  },
  {
   "cell_type": "code",
   "execution_count": 558,
   "id": "6036a8cc",
   "metadata": {},
   "outputs": [
    {
     "data": {
      "text/plain": [
       "Index(['id_x', 'Month', 'property_type', 'room_type_x', 'accommodates',\n",
       "       'bedrooms', 'beds', 'price_x', 'availability_90',\n",
       "       'review_scores_rating', 'review_scores_accuracy',\n",
       "       'review_scores_cleanliness', 'review_scores_location',\n",
       "       'review_scores_value', 'city'],\n",
       "      dtype='object')"
      ]
     },
     "execution_count": 558,
     "metadata": {},
     "output_type": "execute_result"
    }
   ],
   "source": [
    "euro_df_raw.columns"
   ]
  },
  {
   "cell_type": "code",
   "execution_count": 559,
   "id": "e751fb7e",
   "metadata": {},
   "outputs": [
    {
     "data": {
      "text/plain": [
       "id_x                              0\n",
       "Month                             0\n",
       "property_type                 39746\n",
       "room_type_x                       0\n",
       "accommodates                  39746\n",
       "bedrooms                      84458\n",
       "beds                          61835\n",
       "price_x                           0\n",
       "availability_90               39746\n",
       "review_scores_rating         128101\n",
       "review_scores_accuracy       132143\n",
       "review_scores_cleanliness    132105\n",
       "review_scores_location       132228\n",
       "review_scores_value          132241\n",
       "city                              0\n",
       "dtype: int64"
      ]
     },
     "execution_count": 559,
     "metadata": {},
     "output_type": "execute_result"
    }
   ],
   "source": [
    "euro_df = euro_df_raw.copy()\n",
    "euro_df_final = euro_df.drop_duplicates(subset='id_x')\n",
    "#euro_df_final = euro_df.copy()\n",
    "euro_df_final.isna().sum()\n",
    "#euro_df_final.shape"
   ]
  },
  {
   "cell_type": "code",
   "execution_count": 560,
   "id": "2a0b5b86",
   "metadata": {},
   "outputs": [
    {
     "data": {
      "text/plain": [
       "((292797, 15),\n",
       " id_x                             0\n",
       " Month                            0\n",
       " property_type                    0\n",
       " room_type_x                      0\n",
       " accommodates                     0\n",
       " bedrooms                     34422\n",
       " beds                         15407\n",
       " price_x                          0\n",
       " availability_90                  0\n",
       " review_scores_rating             0\n",
       " review_scores_accuracy           0\n",
       " review_scores_cleanliness        0\n",
       " review_scores_location           0\n",
       " review_scores_value              0\n",
       " city                             0\n",
       " dtype: int64)"
      ]
     },
     "execution_count": 560,
     "metadata": {},
     "output_type": "execute_result"
    }
   ],
   "source": [
    "euro_df_final = euro_df_final.dropna(subset = ['review_scores_rating', 'review_scores_accuracy',\n",
    "       'review_scores_cleanliness','review_scores_location',\n",
    "       'review_scores_value'])\n",
    "#euro_df_final = euro_df_final.drop(['bedrooms', 'beds'],axis=1)\n",
    "euro_df_final.shape, euro_df_final.isna().sum()"
   ]
  },
  {
   "cell_type": "code",
   "execution_count": 561,
   "id": "69d0e327",
   "metadata": {},
   "outputs": [
    {
     "data": {
      "text/html": [
       "<div><div id=b97351d0-2d1f-4cb5-a1d9-6be691b62baa style=\"display:none; background-color:#9D6CFF; color:white; width:200px; height:30px; padding-left:5px; border-radius:4px; flex-direction:row; justify-content:space-around; align-items:center;\" onmouseover=\"this.style.backgroundColor='#BA9BF8'\" onmouseout=\"this.style.backgroundColor='#9D6CFF'\" onclick=\"window.commands?.execute('create-mitosheet-from-dataframe-output');\">See Full Dataframe in Mito</div> <script> if (window.commands.hasCommand('create-mitosheet-from-dataframe-output')) document.getElementById('b97351d0-2d1f-4cb5-a1d9-6be691b62baa').style.display = 'flex' </script> <table border=\"1\" class=\"dataframe\">\n",
       "  <thead>\n",
       "    <tr style=\"text-align: right;\">\n",
       "      <th></th>\n",
       "      <th>id_x</th>\n",
       "      <th>Month</th>\n",
       "      <th>property_type</th>\n",
       "      <th>room_type_x</th>\n",
       "      <th>accommodates</th>\n",
       "      <th>bedrooms</th>\n",
       "      <th>beds</th>\n",
       "      <th>price_x</th>\n",
       "      <th>availability_90</th>\n",
       "      <th>review_scores_rating</th>\n",
       "      <th>review_scores_accuracy</th>\n",
       "      <th>review_scores_cleanliness</th>\n",
       "      <th>review_scores_location</th>\n",
       "      <th>review_scores_value</th>\n",
       "      <th>city</th>\n",
       "    </tr>\n",
       "  </thead>\n",
       "  <tbody>\n",
       "    <tr>\n",
       "      <th>11370</th>\n",
       "      <td>49710700_vienna</td>\n",
       "      <td>6/3/2021</td>\n",
       "      <td>Entire rental unit</td>\n",
       "      <td>Entire home/apt</td>\n",
       "      <td>4.0</td>\n",
       "      <td>NaN</td>\n",
       "      <td>NaN</td>\n",
       "      <td>63</td>\n",
       "      <td>8.0</td>\n",
       "      <td>5.0</td>\n",
       "      <td>5.0</td>\n",
       "      <td>5.0</td>\n",
       "      <td>5.0</td>\n",
       "      <td>5.0</td>\n",
       "      <td>Vienna</td>\n",
       "    </tr>\n",
       "    <tr>\n",
       "      <th>11370</th>\n",
       "      <td>51623094_vienna</td>\n",
       "      <td>9/7/2021</td>\n",
       "      <td>Entire rental unit</td>\n",
       "      <td>Entire home/apt</td>\n",
       "      <td>4.0</td>\n",
       "      <td>NaN</td>\n",
       "      <td>NaN</td>\n",
       "      <td>45</td>\n",
       "      <td>8.0</td>\n",
       "      <td>5.0</td>\n",
       "      <td>5.0</td>\n",
       "      <td>5.0</td>\n",
       "      <td>5.0</td>\n",
       "      <td>5.0</td>\n",
       "      <td>Vienna</td>\n",
       "    </tr>\n",
       "  </tbody>\n",
       "</table></div>"
      ],
      "text/plain": [
       "                  id_x     Month       property_type      room_type_x  \\\n",
       "11370  49710700_vienna  6/3/2021  Entire rental unit  Entire home/apt   \n",
       "11370  51623094_vienna  9/7/2021  Entire rental unit  Entire home/apt   \n",
       "\n",
       "       accommodates  bedrooms  beds  price_x  availability_90  \\\n",
       "11370           4.0       NaN   NaN       63              8.0   \n",
       "11370           4.0       NaN   NaN       45              8.0   \n",
       "\n",
       "       review_scores_rating  review_scores_accuracy  \\\n",
       "11370                   5.0                     5.0   \n",
       "11370                   5.0                     5.0   \n",
       "\n",
       "       review_scores_cleanliness  review_scores_location  review_scores_value  \\\n",
       "11370                        5.0                     5.0                  5.0   \n",
       "11370                        5.0                     5.0                  5.0   \n",
       "\n",
       "         city  \n",
       "11370  Vienna  \n",
       "11370  Vienna  "
      ]
     },
     "execution_count": 561,
     "metadata": {},
     "output_type": "execute_result"
    }
   ],
   "source": [
    "euro_df_final.tail(2)"
   ]
  },
  {
   "cell_type": "markdown",
   "id": "37c3b1eb",
   "metadata": {},
   "source": [
    "## Regression"
   ]
  },
  {
   "cell_type": "code",
   "execution_count": 562,
   "id": "260f26fa",
   "metadata": {},
   "outputs": [
    {
     "name": "stdout",
     "output_type": "stream",
     "text": [
      "There is 292797 to be regressed\n"
     ]
    }
   ],
   "source": [
    "df_regression = euro_df_final.copy()\n",
    "df_regression_euro = df_regression[['id_x', 'property_type',  'accommodates',\n",
    "                                'price_x', 'availability_90','review_scores_rating',\n",
    "                               'review_scores_accuracy','review_scores_cleanliness','review_scores_location',\n",
    "                               'review_scores_value',]]\n",
    "\n",
    "df_regression_euro['price_x'] = pd.to_numeric(df_regression_euro['price_x'])\n",
    "df_regression_euro.isna().sum()\n",
    "\n",
    "df_regression_euro = df_regression_euro.fillna(df_regression_euro.mean())\n",
    "#df_regression_euro = df_regression_euro[df_regression_euro['accommodates']<=euro]\n",
    "\n",
    "#print(f'There is {len(df_reviews_)} in the entire data set')\n",
    "print(f'There is {len(df_regression_euro)} to be regressed')"
   ]
  },
  {
   "cell_type": "code",
   "execution_count": 563,
   "id": "42b79df3",
   "metadata": {},
   "outputs": [
    {
     "data": {
      "text/html": [
       "<div><div id=fe9271c3-af9b-47ee-af69-08606078cf79 style=\"display:none; background-color:#9D6CFF; color:white; width:200px; height:30px; padding-left:5px; border-radius:4px; flex-direction:row; justify-content:space-around; align-items:center;\" onmouseover=\"this.style.backgroundColor='#BA9BF8'\" onmouseout=\"this.style.backgroundColor='#9D6CFF'\" onclick=\"window.commands?.execute('create-mitosheet-from-dataframe-output');\">See Full Dataframe in Mito</div> <script> if (window.commands.hasCommand('create-mitosheet-from-dataframe-output')) document.getElementById('fe9271c3-af9b-47ee-af69-08606078cf79').style.display = 'flex' </script> <table border=\"1\" class=\"dataframe\">\n",
       "  <thead>\n",
       "    <tr style=\"text-align: right;\">\n",
       "      <th></th>\n",
       "      <th>price_x</th>\n",
       "    </tr>\n",
       "  </thead>\n",
       "  <tbody>\n",
       "    <tr>\n",
       "      <th>50</th>\n",
       "      <td>12405</td>\n",
       "    </tr>\n",
       "    <tr>\n",
       "      <th>60</th>\n",
       "      <td>11031</td>\n",
       "    </tr>\n",
       "    <tr>\n",
       "      <th>70</th>\n",
       "      <td>9315</td>\n",
       "    </tr>\n",
       "    <tr>\n",
       "      <th>80</th>\n",
       "      <td>9224</td>\n",
       "    </tr>\n",
       "    <tr>\n",
       "      <th>40</th>\n",
       "      <td>8518</td>\n",
       "    </tr>\n",
       "    <tr>\n",
       "      <th>100</th>\n",
       "      <td>8471</td>\n",
       "    </tr>\n",
       "    <tr>\n",
       "      <th>45</th>\n",
       "      <td>7296</td>\n",
       "    </tr>\n",
       "    <tr>\n",
       "      <th>90</th>\n",
       "      <td>6674</td>\n",
       "    </tr>\n",
       "    <tr>\n",
       "      <th>55</th>\n",
       "      <td>6380</td>\n",
       "    </tr>\n",
       "    <tr>\n",
       "      <th>65</th>\n",
       "      <td>6179</td>\n",
       "    </tr>\n",
       "    <tr>\n",
       "      <th>35</th>\n",
       "      <td>6074</td>\n",
       "    </tr>\n",
       "    <tr>\n",
       "      <th>30</th>\n",
       "      <td>5795</td>\n",
       "    </tr>\n",
       "    <tr>\n",
       "      <th>75</th>\n",
       "      <td>5763</td>\n",
       "    </tr>\n",
       "    <tr>\n",
       "      <th>120</th>\n",
       "      <td>5118</td>\n",
       "    </tr>\n",
       "    <tr>\n",
       "      <th>150</th>\n",
       "      <td>4546</td>\n",
       "    </tr>\n",
       "    <tr>\n",
       "      <th>85</th>\n",
       "      <td>3982</td>\n",
       "    </tr>\n",
       "    <tr>\n",
       "      <th>25</th>\n",
       "      <td>3907</td>\n",
       "    </tr>\n",
       "    <tr>\n",
       "      <th>110</th>\n",
       "      <td>3381</td>\n",
       "    </tr>\n",
       "    <tr>\n",
       "      <th>95</th>\n",
       "      <td>3020</td>\n",
       "    </tr>\n",
       "    <tr>\n",
       "      <th>49</th>\n",
       "      <td>2921</td>\n",
       "    </tr>\n",
       "    <tr>\n",
       "      <th>200</th>\n",
       "      <td>2752</td>\n",
       "    </tr>\n",
       "    <tr>\n",
       "      <th>59</th>\n",
       "      <td>2751</td>\n",
       "    </tr>\n",
       "    <tr>\n",
       "      <th>69</th>\n",
       "      <td>2561</td>\n",
       "    </tr>\n",
       "    <tr>\n",
       "      <th>130</th>\n",
       "      <td>2553</td>\n",
       "    </tr>\n",
       "    <tr>\n",
       "      <th>20</th>\n",
       "      <td>2315</td>\n",
       "    </tr>\n",
       "    <tr>\n",
       "      <th>39</th>\n",
       "      <td>2256</td>\n",
       "    </tr>\n",
       "    <tr>\n",
       "      <th>99</th>\n",
       "      <td>2219</td>\n",
       "    </tr>\n",
       "    <tr>\n",
       "      <th>79</th>\n",
       "      <td>2154</td>\n",
       "    </tr>\n",
       "    <tr>\n",
       "      <th>48</th>\n",
       "      <td>2014</td>\n",
       "    </tr>\n",
       "    <tr>\n",
       "      <th>140</th>\n",
       "      <td>1972</td>\n",
       "    </tr>\n",
       "    <tr>\n",
       "      <th>...</th>\n",
       "      <td>...</td>\n",
       "    </tr>\n",
       "    <tr>\n",
       "      <th>951</th>\n",
       "      <td>1</td>\n",
       "    </tr>\n",
       "    <tr>\n",
       "      <th>3228</th>\n",
       "      <td>1</td>\n",
       "    </tr>\n",
       "    <tr>\n",
       "      <th>1058</th>\n",
       "      <td>1</td>\n",
       "    </tr>\n",
       "    <tr>\n",
       "      <th>1744</th>\n",
       "      <td>1</td>\n",
       "    </tr>\n",
       "    <tr>\n",
       "      <th>1684</th>\n",
       "      <td>1</td>\n",
       "    </tr>\n",
       "    <tr>\n",
       "      <th>6999</th>\n",
       "      <td>1</td>\n",
       "    </tr>\n",
       "    <tr>\n",
       "      <th>2579</th>\n",
       "      <td>1</td>\n",
       "    </tr>\n",
       "    <tr>\n",
       "      <th>9243</th>\n",
       "      <td>1</td>\n",
       "    </tr>\n",
       "    <tr>\n",
       "      <th>5571</th>\n",
       "      <td>1</td>\n",
       "    </tr>\n",
       "    <tr>\n",
       "      <th>1158</th>\n",
       "      <td>1</td>\n",
       "    </tr>\n",
       "    <tr>\n",
       "      <th>2029</th>\n",
       "      <td>1</td>\n",
       "    </tr>\n",
       "    <tr>\n",
       "      <th>776</th>\n",
       "      <td>1</td>\n",
       "    </tr>\n",
       "    <tr>\n",
       "      <th>3818</th>\n",
       "      <td>1</td>\n",
       "    </tr>\n",
       "    <tr>\n",
       "      <th>3140</th>\n",
       "      <td>1</td>\n",
       "    </tr>\n",
       "    <tr>\n",
       "      <th>1588</th>\n",
       "      <td>1</td>\n",
       "    </tr>\n",
       "    <tr>\n",
       "      <th>1372</th>\n",
       "      <td>1</td>\n",
       "    </tr>\n",
       "    <tr>\n",
       "      <th>1371</th>\n",
       "      <td>1</td>\n",
       "    </tr>\n",
       "    <tr>\n",
       "      <th>1671</th>\n",
       "      <td>1</td>\n",
       "    </tr>\n",
       "    <tr>\n",
       "      <th>2360</th>\n",
       "      <td>1</td>\n",
       "    </tr>\n",
       "    <tr>\n",
       "      <th>3740</th>\n",
       "      <td>1</td>\n",
       "    </tr>\n",
       "    <tr>\n",
       "      <th>1042</th>\n",
       "      <td>1</td>\n",
       "    </tr>\n",
       "    <tr>\n",
       "      <th>1006</th>\n",
       "      <td>1</td>\n",
       "    </tr>\n",
       "    <tr>\n",
       "      <th>661</th>\n",
       "      <td>1</td>\n",
       "    </tr>\n",
       "    <tr>\n",
       "      <th>1202</th>\n",
       "      <td>1</td>\n",
       "    </tr>\n",
       "    <tr>\n",
       "      <th>9600</th>\n",
       "      <td>1</td>\n",
       "    </tr>\n",
       "    <tr>\n",
       "      <th>2364</th>\n",
       "      <td>1</td>\n",
       "    </tr>\n",
       "    <tr>\n",
       "      <th>3264</th>\n",
       "      <td>1</td>\n",
       "    </tr>\n",
       "    <tr>\n",
       "      <th>1876</th>\n",
       "      <td>1</td>\n",
       "    </tr>\n",
       "    <tr>\n",
       "      <th>2512</th>\n",
       "      <td>1</td>\n",
       "    </tr>\n",
       "    <tr>\n",
       "      <th>8299</th>\n",
       "      <td>1</td>\n",
       "    </tr>\n",
       "  </tbody>\n",
       "</table></div>"
      ],
      "text/plain": [
       "      price_x\n",
       "50      12405\n",
       "60      11031\n",
       "70       9315\n",
       "80       9224\n",
       "40       8518\n",
       "...       ...\n",
       "2364        1\n",
       "3264        1\n",
       "1876        1\n",
       "2512        1\n",
       "8299        1\n",
       "\n",
       "[1399 rows x 1 columns]"
      ]
     },
     "execution_count": 563,
     "metadata": {},
     "output_type": "execute_result"
    }
   ],
   "source": [
    "df_regression_euro['price_x'].value_counts().to_frame()"
   ]
  },
  {
   "cell_type": "code",
   "execution_count": 564,
   "id": "18fee285",
   "metadata": {},
   "outputs": [
    {
     "name": "stdout",
     "output_type": "stream",
     "text": [
      "Intercept:  106.53194003068138\n",
      "Coefficients:  [ 1.12326522  2.15155887 -7.0681211   2.73400119  2.50193463  0.49862057]\n",
      "LinearRegression()\n"
     ]
    }
   ],
   "source": [
    "X_euro = df_regression_euro[['accommodates',\n",
    "        'review_scores_rating','review_scores_accuracy','review_scores_cleanliness','review_scores_location',\n",
    "                               'review_scores_value']]\n",
    "\n",
    "y_euro = df_regression_euro['price_x'].replace({'\\$':''}, regex = True)\n",
    "Y_euro = y_euro.replace({',':''}, regex=True)\n",
    "\n",
    "# with sklearn\n",
    "regr_euro = LinearRegression()\n",
    "regr_euro.fit(X_euro, Y_euro)\n",
    "\n",
    "print('Intercept: ', regr_euro.intercept_)\n",
    "print('Coefficients: ', regr_euro.coef_)\n",
    "\n",
    "print (regr_euro)\n",
    "\n"
   ]
  },
  {
   "cell_type": "code",
   "execution_count": 565,
   "id": "aa8b9eb8",
   "metadata": {},
   "outputs": [],
   "source": [
    "y_pred_euro = regr_euro.predict(X_euro)\n"
   ]
  },
  {
   "cell_type": "code",
   "execution_count": 566,
   "id": "2fe4ec59",
   "metadata": {},
   "outputs": [],
   "source": [
    "df_mult_euro= pd.DataFrame({'Actual': Y_euro, 'abnb_index':df_regression_euro['id_x'], 'Predicted': y_pred_euro.flatten()})\n",
    "df_mult_euro['Diff'] = df_mult_euro['Predicted'] - df_mult_euro['Actual']\n",
    "df_mult_sort_euro = df_mult_euro.sort_values(by=['Diff'])\n",
    "#df_result = (df_mult_sort_euro[df_mult_sort_euro['Actual'] >=75]) & (df_mult_sort_euro[df_mult_sort_euro['Actual'] <=300])\n",
    "df_result_euro = df_mult_sort_euro.query('Actual >= 50')\n"
   ]
  },
  {
   "cell_type": "code",
   "execution_count": 567,
   "id": "bdf8052c",
   "metadata": {},
   "outputs": [
    {
     "data": {
      "text/plain": [
       "(220430, 4)"
      ]
     },
     "execution_count": 567,
     "metadata": {},
     "output_type": "execute_result"
    }
   ],
   "source": [
    "df_euro_filter = df_result_euro[df_result_euro['Actual']>0]\n",
    "df_euro_filter.shape"
   ]
  },
  {
   "cell_type": "code",
   "execution_count": 568,
   "id": "7de64d37",
   "metadata": {},
   "outputs": [
    {
     "data": {
      "text/plain": [
       "((292797, 15), (220430, 4))"
      ]
     },
     "execution_count": 568,
     "metadata": {},
     "output_type": "execute_result"
    }
   ],
   "source": [
    "euro_df_final.shape, df_euro_filter.shape"
   ]
  },
  {
   "cell_type": "code",
   "execution_count": 569,
   "id": "a7913441",
   "metadata": {},
   "outputs": [
    {
     "data": {
      "text/plain": [
       "(292797, 15)"
      ]
     },
     "execution_count": 569,
     "metadata": {},
     "output_type": "execute_result"
    }
   ],
   "source": [
    "euro_df_final.shape"
   ]
  },
  {
   "cell_type": "code",
   "execution_count": 570,
   "id": "202c6649",
   "metadata": {},
   "outputs": [
    {
     "data": {
      "text/html": [
       "<div><div id=a09a8196-bf12-410f-96c7-63c22fd84c8e style=\"display:none; background-color:#9D6CFF; color:white; width:200px; height:30px; padding-left:5px; border-radius:4px; flex-direction:row; justify-content:space-around; align-items:center;\" onmouseover=\"this.style.backgroundColor='#BA9BF8'\" onmouseout=\"this.style.backgroundColor='#9D6CFF'\" onclick=\"window.commands?.execute('create-mitosheet-from-dataframe-output');\">See Full Dataframe in Mito</div> <script> if (window.commands.hasCommand('create-mitosheet-from-dataframe-output')) document.getElementById('a09a8196-bf12-410f-96c7-63c22fd84c8e').style.display = 'flex' </script> <table border=\"1\" class=\"dataframe\">\n",
       "  <thead>\n",
       "    <tr style=\"text-align: right;\">\n",
       "      <th></th>\n",
       "      <th>id_x</th>\n",
       "      <th>Month</th>\n",
       "      <th>property_type</th>\n",
       "      <th>room_type_x</th>\n",
       "      <th>accommodates</th>\n",
       "      <th>bedrooms</th>\n",
       "      <th>beds</th>\n",
       "      <th>price_x</th>\n",
       "      <th>availability_90</th>\n",
       "      <th>review_scores_rating</th>\n",
       "      <th>review_scores_accuracy</th>\n",
       "      <th>review_scores_cleanliness</th>\n",
       "      <th>review_scores_location</th>\n",
       "      <th>review_scores_value</th>\n",
       "      <th>city</th>\n",
       "    </tr>\n",
       "  </thead>\n",
       "  <tbody>\n",
       "    <tr>\n",
       "      <th>0</th>\n",
       "      <td>2818_amsterdam</td>\n",
       "      <td>12/12/2020</td>\n",
       "      <td>Private room in rental unit</td>\n",
       "      <td>Private room</td>\n",
       "      <td>2.0</td>\n",
       "      <td>1.0</td>\n",
       "      <td>2.0</td>\n",
       "      <td>59</td>\n",
       "      <td>33.0</td>\n",
       "      <td>4.89</td>\n",
       "      <td>4.93</td>\n",
       "      <td>5.00</td>\n",
       "      <td>4.68</td>\n",
       "      <td>4.81</td>\n",
       "      <td>Amsterdam</td>\n",
       "    </tr>\n",
       "    <tr>\n",
       "      <th>1</th>\n",
       "      <td>20168_amsterdam</td>\n",
       "      <td>12/12/2020</td>\n",
       "      <td>Private room in townhouse</td>\n",
       "      <td>Private room</td>\n",
       "      <td>2.0</td>\n",
       "      <td>1.0</td>\n",
       "      <td>1.0</td>\n",
       "      <td>236</td>\n",
       "      <td>0.0</td>\n",
       "      <td>4.44</td>\n",
       "      <td>4.69</td>\n",
       "      <td>4.79</td>\n",
       "      <td>4.87</td>\n",
       "      <td>4.49</td>\n",
       "      <td>Amsterdam</td>\n",
       "    </tr>\n",
       "    <tr>\n",
       "      <th>1</th>\n",
       "      <td>9693_amsterdam</td>\n",
       "      <td>6/3/2021</td>\n",
       "      <td>Private room in townhouse</td>\n",
       "      <td>Entire home/apt</td>\n",
       "      <td>2.0</td>\n",
       "      <td>1.0</td>\n",
       "      <td>1.0</td>\n",
       "      <td>128</td>\n",
       "      <td>0.0</td>\n",
       "      <td>4.44</td>\n",
       "      <td>4.69</td>\n",
       "      <td>4.79</td>\n",
       "      <td>4.87</td>\n",
       "      <td>4.49</td>\n",
       "      <td>Amsterdam</td>\n",
       "    </tr>\n",
       "    <tr>\n",
       "      <th>2</th>\n",
       "      <td>25428_amsterdam</td>\n",
       "      <td>12/12/2020</td>\n",
       "      <td>Private room in houseboat</td>\n",
       "      <td>Entire home/apt</td>\n",
       "      <td>2.0</td>\n",
       "      <td>1.0</td>\n",
       "      <td>1.0</td>\n",
       "      <td>125</td>\n",
       "      <td>22.0</td>\n",
       "      <td>4.95</td>\n",
       "      <td>4.93</td>\n",
       "      <td>4.96</td>\n",
       "      <td>4.90</td>\n",
       "      <td>4.80</td>\n",
       "      <td>Amsterdam</td>\n",
       "    </tr>\n",
       "    <tr>\n",
       "      <th>3</th>\n",
       "      <td>27886_amsterdam</td>\n",
       "      <td>12/12/2020</td>\n",
       "      <td>Private room in rental unit</td>\n",
       "      <td>Private room</td>\n",
       "      <td>2.0</td>\n",
       "      <td>1.0</td>\n",
       "      <td>1.0</td>\n",
       "      <td>135</td>\n",
       "      <td>43.0</td>\n",
       "      <td>4.88</td>\n",
       "      <td>4.94</td>\n",
       "      <td>4.89</td>\n",
       "      <td>4.97</td>\n",
       "      <td>4.82</td>\n",
       "      <td>Amsterdam</td>\n",
       "    </tr>\n",
       "  </tbody>\n",
       "</table></div>"
      ],
      "text/plain": [
       "              id_x       Month                property_type      room_type_x  \\\n",
       "0   2818_amsterdam  12/12/2020  Private room in rental unit     Private room   \n",
       "1  20168_amsterdam  12/12/2020    Private room in townhouse     Private room   \n",
       "1   9693_amsterdam    6/3/2021    Private room in townhouse  Entire home/apt   \n",
       "2  25428_amsterdam  12/12/2020    Private room in houseboat  Entire home/apt   \n",
       "3  27886_amsterdam  12/12/2020  Private room in rental unit     Private room   \n",
       "\n",
       "   accommodates  bedrooms  beds  price_x  availability_90  \\\n",
       "0           2.0       1.0   2.0       59             33.0   \n",
       "1           2.0       1.0   1.0      236              0.0   \n",
       "1           2.0       1.0   1.0      128              0.0   \n",
       "2           2.0       1.0   1.0      125             22.0   \n",
       "3           2.0       1.0   1.0      135             43.0   \n",
       "\n",
       "   review_scores_rating  review_scores_accuracy  review_scores_cleanliness  \\\n",
       "0                  4.89                    4.93                       5.00   \n",
       "1                  4.44                    4.69                       4.79   \n",
       "1                  4.44                    4.69                       4.79   \n",
       "2                  4.95                    4.93                       4.96   \n",
       "3                  4.88                    4.94                       4.89   \n",
       "\n",
       "   review_scores_location  review_scores_value       city  \n",
       "0                    4.68                 4.81  Amsterdam  \n",
       "1                    4.87                 4.49  Amsterdam  \n",
       "1                    4.87                 4.49  Amsterdam  \n",
       "2                    4.90                 4.80  Amsterdam  \n",
       "3                    4.97                 4.82  Amsterdam  "
      ]
     },
     "execution_count": 570,
     "metadata": {},
     "output_type": "execute_result"
    }
   ],
   "source": [
    "euro_df_final.head()"
   ]
  },
  {
   "cell_type": "code",
   "execution_count": 571,
   "id": "8cc63e0d",
   "metadata": {},
   "outputs": [
    {
     "data": {
      "text/html": [
       "<div><div id=36816978-1e1a-42fe-8550-8cdaa22dbf99 style=\"display:none; background-color:#9D6CFF; color:white; width:200px; height:30px; padding-left:5px; border-radius:4px; flex-direction:row; justify-content:space-around; align-items:center;\" onmouseover=\"this.style.backgroundColor='#BA9BF8'\" onmouseout=\"this.style.backgroundColor='#9D6CFF'\" onclick=\"window.commands?.execute('create-mitosheet-from-dataframe-output');\">See Full Dataframe in Mito</div> <script> if (window.commands.hasCommand('create-mitosheet-from-dataframe-output')) document.getElementById('36816978-1e1a-42fe-8550-8cdaa22dbf99').style.display = 'flex' </script> <table border=\"1\" class=\"dataframe\">\n",
       "  <thead>\n",
       "    <tr style=\"text-align: right;\">\n",
       "      <th></th>\n",
       "      <th>Actual</th>\n",
       "      <th>abnb_index</th>\n",
       "      <th>Predicted</th>\n",
       "      <th>Diff</th>\n",
       "    </tr>\n",
       "  </thead>\n",
       "  <tbody>\n",
       "    <tr>\n",
       "      <th>17097</th>\n",
       "      <td>21000</td>\n",
       "      <td>48376638_crete</td>\n",
       "      <td>88.829784</td>\n",
       "      <td>-20911.170216</td>\n",
       "    </tr>\n",
       "    <tr>\n",
       "      <th>43532</th>\n",
       "      <td>21000</td>\n",
       "      <td>48438091_sicily</td>\n",
       "      <td>111.356088</td>\n",
       "      <td>-20888.643912</td>\n",
       "    </tr>\n",
       "    <tr>\n",
       "      <th>43531</th>\n",
       "      <td>21000</td>\n",
       "      <td>48438084_sicily</td>\n",
       "      <td>111.767590</td>\n",
       "      <td>-20888.232410</td>\n",
       "    </tr>\n",
       "    <tr>\n",
       "      <th>17060</th>\n",
       "      <td>21000</td>\n",
       "      <td>48376388_crete</td>\n",
       "      <td>112.231638</td>\n",
       "      <td>-20887.768362</td>\n",
       "    </tr>\n",
       "    <tr>\n",
       "      <th>17032</th>\n",
       "      <td>21000</td>\n",
       "      <td>48376220_crete</td>\n",
       "      <td>112.443112</td>\n",
       "      <td>-20887.556888</td>\n",
       "    </tr>\n",
       "  </tbody>\n",
       "</table></div>"
      ],
      "text/plain": [
       "       Actual       abnb_index   Predicted          Diff\n",
       "17097   21000   48376638_crete   88.829784 -20911.170216\n",
       "43532   21000  48438091_sicily  111.356088 -20888.643912\n",
       "43531   21000  48438084_sicily  111.767590 -20888.232410\n",
       "17060   21000   48376388_crete  112.231638 -20887.768362\n",
       "17032   21000   48376220_crete  112.443112 -20887.556888"
      ]
     },
     "execution_count": 571,
     "metadata": {},
     "output_type": "execute_result"
    }
   ],
   "source": [
    "df_euro_filter.head()"
   ]
  },
  {
   "cell_type": "code",
   "execution_count": 572,
   "id": "e4c2aa2e",
   "metadata": {},
   "outputs": [
    {
     "data": {
      "text/plain": [
       "(292797, 15)"
      ]
     },
     "execution_count": 572,
     "metadata": {},
     "output_type": "execute_result"
    }
   ],
   "source": [
    "#euro_df_final = euro_df_final.rename(columns={'id_x':'index'}).reset_index()\n",
    "#euro_df_final = euro_df_final.rename(columns={'id_x':'index'}).head()\n",
    "euro_df_final.shape"
   ]
  },
  {
   "cell_type": "code",
   "execution_count": 573,
   "id": "2d1b306d",
   "metadata": {},
   "outputs": [
    {
     "data": {
      "text/plain": [
       "Index(['id_x', 'Month', 'property_type', 'room_type_x', 'accommodates',\n",
       "       'bedrooms', 'beds', 'price_x', 'availability_90',\n",
       "       'review_scores_rating', 'review_scores_accuracy',\n",
       "       'review_scores_cleanliness', 'review_scores_location',\n",
       "       'review_scores_value', 'city', 'Actual', 'abnb_index', 'Predicted',\n",
       "       'Diff'],\n",
       "      dtype='object')"
      ]
     },
     "execution_count": 573,
     "metadata": {},
     "output_type": "execute_result"
    }
   ],
   "source": [
    "merged_df.columns"
   ]
  },
  {
   "cell_type": "code",
   "execution_count": 574,
   "id": "01ce5980",
   "metadata": {},
   "outputs": [
    {
     "data": {
      "text/plain": [
       "(183466, 13)"
      ]
     },
     "execution_count": 574,
     "metadata": {},
     "output_type": "execute_result"
    }
   ],
   "source": [
    "merged_df = euro_df_final.merge(df_euro_filter, how='inner', left_on=[\"id_x\", \"price_x\"], right_on=[\"abnb_index\",\"Actual\"])\n",
    "merged_df_final = merged_df[['city', 'id_x', 'Month', 'price_x', 'Predicted', 'Diff','room_type_x', 'accommodates', \n",
    "                            'review_scores_rating', 'review_scores_accuracy',\n",
    "       'review_scores_cleanliness', 'review_scores_location',\n",
    "       'review_scores_value']]\n",
    "merged_df_final = merged_df_final[merged_df_final['room_type_x']=='Entire home/apt']\n",
    "merged_df_print = merged_df_final.sort_values(by=['review_scores_rating'], ascending=False)\n",
    "merged_df_print.shape\n"
   ]
  },
  {
   "cell_type": "markdown",
   "id": "ac822aa8",
   "metadata": {},
   "source": [
    "## need to match on aribnb id, and month"
   ]
  },
  {
   "cell_type": "code",
   "execution_count": 587,
   "id": "1fbb7790",
   "metadata": {},
   "outputs": [
    {
     "data": {
      "text/html": [
       "<div><div id=fe97bfbc-9100-4f52-b4cd-67e74c525f73 style=\"display:none; background-color:#9D6CFF; color:white; width:200px; height:30px; padding-left:5px; border-radius:4px; flex-direction:row; justify-content:space-around; align-items:center;\" onmouseover=\"this.style.backgroundColor='#BA9BF8'\" onmouseout=\"this.style.backgroundColor='#9D6CFF'\" onclick=\"window.commands?.execute('create-mitosheet-from-dataframe-output');\">See Full Dataframe in Mito</div> <script> if (window.commands.hasCommand('create-mitosheet-from-dataframe-output')) document.getElementById('fe97bfbc-9100-4f52-b4cd-67e74c525f73').style.display = 'flex' </script> <table border=\"1\" class=\"dataframe\">\n",
       "  <thead>\n",
       "    <tr style=\"text-align: right;\">\n",
       "      <th></th>\n",
       "      <th>city</th>\n",
       "      <th>id_x</th>\n",
       "      <th>Month</th>\n",
       "      <th>price_x</th>\n",
       "      <th>Predicted</th>\n",
       "      <th>Diff</th>\n",
       "      <th>room_type_x</th>\n",
       "      <th>accommodates</th>\n",
       "      <th>review_scores_rating</th>\n",
       "      <th>review_scores_accuracy</th>\n",
       "      <th>review_scores_cleanliness</th>\n",
       "      <th>review_scores_location</th>\n",
       "      <th>review_scores_value</th>\n",
       "      <th>Market value</th>\n",
       "    </tr>\n",
       "  </thead>\n",
       "  <tbody>\n",
       "    <tr>\n",
       "      <th>220429</th>\n",
       "      <td>Vienna</td>\n",
       "      <td>49710700_vienna</td>\n",
       "      <td>6/3/2021</td>\n",
       "      <td>63</td>\n",
       "      <td>115.114972</td>\n",
       "      <td>52.114972</td>\n",
       "      <td>Entire home/apt</td>\n",
       "      <td>4.0</td>\n",
       "      <td>5.0</td>\n",
       "      <td>5.0</td>\n",
       "      <td>5.0</td>\n",
       "      <td>5.00</td>\n",
       "      <td>5.00</td>\n",
       "      <td>1890</td>\n",
       "    </tr>\n",
       "    <tr>\n",
       "      <th>180927</th>\n",
       "      <td>Sicily</td>\n",
       "      <td>6931294_sicily</td>\n",
       "      <td>9/7/2021</td>\n",
       "      <td>100</td>\n",
       "      <td>116.238237</td>\n",
       "      <td>16.238237</td>\n",
       "      <td>Entire home/apt</td>\n",
       "      <td>5.0</td>\n",
       "      <td>5.0</td>\n",
       "      <td>5.0</td>\n",
       "      <td>5.0</td>\n",
       "      <td>5.00</td>\n",
       "      <td>5.00</td>\n",
       "      <td>3000</td>\n",
       "    </tr>\n",
       "    <tr>\n",
       "      <th>180953</th>\n",
       "      <td>Sicily</td>\n",
       "      <td>6957427_sicily</td>\n",
       "      <td>9/7/2021</td>\n",
       "      <td>100</td>\n",
       "      <td>115.447679</td>\n",
       "      <td>15.447679</td>\n",
       "      <td>Entire home/apt</td>\n",
       "      <td>5.0</td>\n",
       "      <td>5.0</td>\n",
       "      <td>5.0</td>\n",
       "      <td>5.0</td>\n",
       "      <td>4.69</td>\n",
       "      <td>4.97</td>\n",
       "      <td>3000</td>\n",
       "    </tr>\n",
       "    <tr>\n",
       "      <th>180952</th>\n",
       "      <td>Sicily</td>\n",
       "      <td>6955399_sicily</td>\n",
       "      <td>9/7/2021</td>\n",
       "      <td>90</td>\n",
       "      <td>115.114972</td>\n",
       "      <td>25.114972</td>\n",
       "      <td>Entire home/apt</td>\n",
       "      <td>4.0</td>\n",
       "      <td>5.0</td>\n",
       "      <td>5.0</td>\n",
       "      <td>5.0</td>\n",
       "      <td>5.00</td>\n",
       "      <td>5.00</td>\n",
       "      <td>2700</td>\n",
       "    </tr>\n",
       "    <tr>\n",
       "      <th>180951</th>\n",
       "      <td>Sicily</td>\n",
       "      <td>6916646_sicily</td>\n",
       "      <td>8/6/2021</td>\n",
       "      <td>50</td>\n",
       "      <td>115.114972</td>\n",
       "      <td>65.114972</td>\n",
       "      <td>Entire home/apt</td>\n",
       "      <td>4.0</td>\n",
       "      <td>5.0</td>\n",
       "      <td>5.0</td>\n",
       "      <td>5.0</td>\n",
       "      <td>5.00</td>\n",
       "      <td>5.00</td>\n",
       "      <td>1500</td>\n",
       "    </tr>\n",
       "  </tbody>\n",
       "</table></div>"
      ],
      "text/plain": [
       "          city             id_x     Month  price_x   Predicted       Diff  \\\n",
       "220429  Vienna  49710700_vienna  6/3/2021       63  115.114972  52.114972   \n",
       "180927  Sicily   6931294_sicily  9/7/2021      100  116.238237  16.238237   \n",
       "180953  Sicily   6957427_sicily  9/7/2021      100  115.447679  15.447679   \n",
       "180952  Sicily   6955399_sicily  9/7/2021       90  115.114972  25.114972   \n",
       "180951  Sicily   6916646_sicily  8/6/2021       50  115.114972  65.114972   \n",
       "\n",
       "            room_type_x  accommodates  review_scores_rating  \\\n",
       "220429  Entire home/apt           4.0                   5.0   \n",
       "180927  Entire home/apt           5.0                   5.0   \n",
       "180953  Entire home/apt           5.0                   5.0   \n",
       "180952  Entire home/apt           4.0                   5.0   \n",
       "180951  Entire home/apt           4.0                   5.0   \n",
       "\n",
       "        review_scores_accuracy  review_scores_cleanliness  \\\n",
       "220429                     5.0                        5.0   \n",
       "180927                     5.0                        5.0   \n",
       "180953                     5.0                        5.0   \n",
       "180952                     5.0                        5.0   \n",
       "180951                     5.0                        5.0   \n",
       "\n",
       "        review_scores_location  review_scores_value  Market value  \n",
       "220429                    5.00                 5.00          1890  \n",
       "180927                    5.00                 5.00          3000  \n",
       "180953                    4.69                 4.97          3000  \n",
       "180952                    5.00                 5.00          2700  \n",
       "180951                    5.00                 5.00          1500  "
      ]
     },
     "execution_count": 587,
     "metadata": {},
     "output_type": "execute_result"
    }
   ],
   "source": [
    "merged_df_value= merged_df_print.copy()\n",
    "merged_df_value['Market value'] = merged_df_value['price_x']*30\n",
    "merged_df_value.head()"
   ]
  },
  {
   "cell_type": "code",
   "execution_count": 596,
   "id": "482c0a85",
   "metadata": {},
   "outputs": [
    {
     "data": {
      "image/png": "[encoded data removed]",
      "text/plain": [
       "<Figure size 432x288 with 25 Axes>"
      ]
     },
     "metadata": {
      "needs_background": "light"
     },
     "output_type": "display_data"
    }
   ],
   "source": [
    "market_val_df = merged_df_value.groupby(['Month','city']).agg({'Market value':'sum'})\n",
    "ax = market_val_df.unstack(level=1).plot(kind='area', subplots=True,layout=(5,5))"
   ]
  },
  {
   "cell_type": "code",
   "execution_count": 597,
   "id": "b3871834",
   "metadata": {},
   "outputs": [
    {
     "data": {
      "text/html": [
       "<div><div id=95637d10-2dbd-480d-937b-0e10899d1e41 style=\"display:none; background-color:#9D6CFF; color:white; width:200px; height:30px; padding-left:5px; border-radius:4px; flex-direction:row; justify-content:space-around; align-items:center;\" onmouseover=\"this.style.backgroundColor='#BA9BF8'\" onmouseout=\"this.style.backgroundColor='#9D6CFF'\" onclick=\"window.commands?.execute('create-mitosheet-from-dataframe-output');\">See Full Dataframe in Mito</div> <script> if (window.commands.hasCommand('create-mitosheet-from-dataframe-output')) document.getElementById('95637d10-2dbd-480d-937b-0e10899d1e41').style.display = 'flex' </script> <table border=\"1\" class=\"dataframe\">\n",
       "  <thead>\n",
       "    <tr style=\"text-align: right;\">\n",
       "      <th></th>\n",
       "      <th></th>\n",
       "      <th>Market value</th>\n",
       "    </tr>\n",
       "    <tr>\n",
       "      <th>Month</th>\n",
       "      <th>city</th>\n",
       "      <th></th>\n",
       "    </tr>\n",
       "  </thead>\n",
       "  <tbody>\n",
       "    <tr>\n",
       "      <th rowspan=\"18\" valign=\"top\">1/9/2021</th>\n",
       "      <th>Amsterdam</th>\n",
       "      <td>365490</td>\n",
       "    </tr>\n",
       "    <tr>\n",
       "      <th>Antwerp</th>\n",
       "      <td>131130</td>\n",
       "    </tr>\n",
       "    <tr>\n",
       "      <th>Barcelona</th>\n",
       "      <td>403110</td>\n",
       "    </tr>\n",
       "    <tr>\n",
       "      <th>Berlin</th>\n",
       "      <td>336180</td>\n",
       "    </tr>\n",
       "    <tr>\n",
       "      <th>Bordeaux</th>\n",
       "      <td>173130</td>\n",
       "    </tr>\n",
       "    <tr>\n",
       "      <th>Brussels</th>\n",
       "      <td>218640</td>\n",
       "    </tr>\n",
       "    <tr>\n",
       "      <th>Crete</th>\n",
       "      <td>200520</td>\n",
       "    </tr>\n",
       "    <tr>\n",
       "      <th>Florence</th>\n",
       "      <td>405540</td>\n",
       "    </tr>\n",
       "    <tr>\n",
       "      <th>Lyon</th>\n",
       "      <td>487380</td>\n",
       "    </tr>\n",
       "    <tr>\n",
       "      <th>Madrid</th>\n",
       "      <td>867900</td>\n",
       "    </tr>\n",
       "    <tr>\n",
       "      <th>Milan</th>\n",
       "      <td>652830</td>\n",
       "    </tr>\n",
       "    <tr>\n",
       "      <th>Munich</th>\n",
       "      <td>24630</td>\n",
       "    </tr>\n",
       "    <tr>\n",
       "      <th>Naples</th>\n",
       "      <td>70050</td>\n",
       "    </tr>\n",
       "    <tr>\n",
       "      <th>Paris</th>\n",
       "      <td>1590690</td>\n",
       "    </tr>\n",
       "    <tr>\n",
       "      <th>Rome</th>\n",
       "      <td>857490</td>\n",
       "    </tr>\n",
       "    <tr>\n",
       "      <th>Sicily</th>\n",
       "      <td>1428180</td>\n",
       "    </tr>\n",
       "    <tr>\n",
       "      <th>Venice</th>\n",
       "      <td>439200</td>\n",
       "    </tr>\n",
       "    <tr>\n",
       "      <th>Vienna</th>\n",
       "      <td>499320</td>\n",
       "    </tr>\n",
       "    <tr>\n",
       "      <th rowspan=\"12\" valign=\"top\">12/12/2020</th>\n",
       "      <th>Amsterdam</th>\n",
       "      <td>244530</td>\n",
       "    </tr>\n",
       "    <tr>\n",
       "      <th>Antwerp</th>\n",
       "      <td>116250</td>\n",
       "    </tr>\n",
       "    <tr>\n",
       "      <th>Barcelona</th>\n",
       "      <td>1226700</td>\n",
       "    </tr>\n",
       "    <tr>\n",
       "      <th>Berlin</th>\n",
       "      <td>513540</td>\n",
       "    </tr>\n",
       "    <tr>\n",
       "      <th>Bordeaux</th>\n",
       "      <td>322260</td>\n",
       "    </tr>\n",
       "    <tr>\n",
       "      <th>Brussels</th>\n",
       "      <td>363240</td>\n",
       "    </tr>\n",
       "    <tr>\n",
       "      <th>Crete</th>\n",
       "      <td>6327000</td>\n",
       "    </tr>\n",
       "    <tr>\n",
       "      <th>Florence</th>\n",
       "      <td>418440</td>\n",
       "    </tr>\n",
       "    <tr>\n",
       "      <th>Lyon</th>\n",
       "      <td>176220</td>\n",
       "    </tr>\n",
       "    <tr>\n",
       "      <th>Madrid</th>\n",
       "      <td>992400</td>\n",
       "    </tr>\n",
       "    <tr>\n",
       "      <th>Milan</th>\n",
       "      <td>369750</td>\n",
       "    </tr>\n",
       "    <tr>\n",
       "      <th>Munich</th>\n",
       "      <td>1442790</td>\n",
       "    </tr>\n",
       "    <tr>\n",
       "      <th>...</th>\n",
       "      <th>...</th>\n",
       "      <td>...</td>\n",
       "    </tr>\n",
       "    <tr>\n",
       "      <th rowspan=\"11\" valign=\"top\">8/6/2021</th>\n",
       "      <th>Florence</th>\n",
       "      <td>1013730</td>\n",
       "    </tr>\n",
       "    <tr>\n",
       "      <th>Lyon</th>\n",
       "      <td>651600</td>\n",
       "    </tr>\n",
       "    <tr>\n",
       "      <th>Madrid</th>\n",
       "      <td>1993920</td>\n",
       "    </tr>\n",
       "    <tr>\n",
       "      <th>Milan</th>\n",
       "      <td>1659510</td>\n",
       "    </tr>\n",
       "    <tr>\n",
       "      <th>Munich</th>\n",
       "      <td>505800</td>\n",
       "    </tr>\n",
       "    <tr>\n",
       "      <th>Naples</th>\n",
       "      <td>1321800</td>\n",
       "    </tr>\n",
       "    <tr>\n",
       "      <th>Paris</th>\n",
       "      <td>5573700</td>\n",
       "    </tr>\n",
       "    <tr>\n",
       "      <th>Rome</th>\n",
       "      <td>1671690</td>\n",
       "    </tr>\n",
       "    <tr>\n",
       "      <th>Sicily</th>\n",
       "      <td>3766170</td>\n",
       "    </tr>\n",
       "    <tr>\n",
       "      <th>Venice</th>\n",
       "      <td>1728390</td>\n",
       "    </tr>\n",
       "    <tr>\n",
       "      <th>Vienna</th>\n",
       "      <td>1864410</td>\n",
       "    </tr>\n",
       "    <tr>\n",
       "      <th rowspan=\"19\" valign=\"top\">9/7/2021</th>\n",
       "      <th>Amsterdam</th>\n",
       "      <td>19656000</td>\n",
       "    </tr>\n",
       "    <tr>\n",
       "      <th>Antwerp</th>\n",
       "      <td>3542160</td>\n",
       "    </tr>\n",
       "    <tr>\n",
       "      <th>Barcelona</th>\n",
       "      <td>26431380</td>\n",
       "    </tr>\n",
       "    <tr>\n",
       "      <th>Berlin</th>\n",
       "      <td>20189850</td>\n",
       "    </tr>\n",
       "    <tr>\n",
       "      <th>Bordeaux</th>\n",
       "      <td>18467040</td>\n",
       "    </tr>\n",
       "    <tr>\n",
       "      <th>Brussels</th>\n",
       "      <td>8370570</td>\n",
       "    </tr>\n",
       "    <tr>\n",
       "      <th>Crete</th>\n",
       "      <td>3853110</td>\n",
       "    </tr>\n",
       "    <tr>\n",
       "      <th>Florence</th>\n",
       "      <td>24589680</td>\n",
       "    </tr>\n",
       "    <tr>\n",
       "      <th>Lyon</th>\n",
       "      <td>14768640</td>\n",
       "    </tr>\n",
       "    <tr>\n",
       "      <th>Madrid</th>\n",
       "      <td>36392280</td>\n",
       "    </tr>\n",
       "    <tr>\n",
       "      <th>Milan</th>\n",
       "      <td>37008960</td>\n",
       "    </tr>\n",
       "    <tr>\n",
       "      <th>Munich</th>\n",
       "      <td>9702150</td>\n",
       "    </tr>\n",
       "    <tr>\n",
       "      <th>Naples</th>\n",
       "      <td>6404160</td>\n",
       "    </tr>\n",
       "    <tr>\n",
       "      <th>Paris</th>\n",
       "      <td>115789290</td>\n",
       "    </tr>\n",
       "    <tr>\n",
       "      <th>Rome</th>\n",
       "      <td>46741950</td>\n",
       "    </tr>\n",
       "    <tr>\n",
       "      <th>Sicily</th>\n",
       "      <td>74224680</td>\n",
       "    </tr>\n",
       "    <tr>\n",
       "      <th>Venice</th>\n",
       "      <td>22858770</td>\n",
       "    </tr>\n",
       "    <tr>\n",
       "      <th>Vienna</th>\n",
       "      <td>14738760</td>\n",
       "    </tr>\n",
       "    <tr>\n",
       "      <th>lisbon</th>\n",
       "      <td>41399190</td>\n",
       "    </tr>\n",
       "  </tbody>\n",
       "</table></div>"
      ],
      "text/plain": [
       "                    Market value\n",
       "Month    city                   \n",
       "1/9/2021 Amsterdam        365490\n",
       "         Antwerp          131130\n",
       "         Barcelona        403110\n",
       "         Berlin           336180\n",
       "         Bordeaux         173130\n",
       "...                          ...\n",
       "9/7/2021 Rome           46741950\n",
       "         Sicily         74224680\n",
       "         Venice         22858770\n",
       "         Vienna         14738760\n",
       "         lisbon         41399190\n",
       "\n",
       "[160 rows x 1 columns]"
      ]
     },
     "execution_count": 597,
     "metadata": {},
     "output_type": "execute_result"
    }
   ],
   "source": [
    "market_val_df"
   ]
  },
  {
   "cell_type": "code",
   "execution_count": null,
   "id": "3871fe0d",
   "metadata": {},
   "outputs": [],
   "source": []
  }
 ],
 "metadata": {
  "kernelspec": {
   "display_name": "Python 3",
   "language": "python",
   "name": "python3"
  },
  "language_info": {
   "codemirror_mode": {
    "name": "ipython",
    "version": 3
   },
   "file_extension": ".py",
   "mimetype": "text/x-python",
   "name": "python",
   "nbconvert_exporter": "python",
   "pygments_lexer": "ipython3",
   "version": "3.8.8"
  }
 },
 "nbformat": 4,
 "nbformat_minor": 5
}
