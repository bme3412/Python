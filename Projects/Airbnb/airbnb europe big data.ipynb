{
 "cells": [
  {
   "cell_type": "code",
   "execution_count": 1,
   "id": "10369df3",
   "metadata": {},
   "outputs": [],
   "source": [
    "import pandas as pd\n",
    "import numpy as np\n",
    "import matplotlib.pyplot as plt\n",
    "import matplotlib\n",
    "plt.style.use('fivethirtyeight')\n",
    "%matplotlib inline\n",
    "import seaborn as sns\n",
    "import warnings\n",
    "warnings.filterwarnings('ignore')\n",
    "from bs4 import BeautifulSoup as bs\n",
    "import requests\n",
    "import os\n",
    "import re\n",
    "import glob\n",
    "\n",
    "from datetime import datetime\n",
    "import dataframe_image as dfi\n",
    "from statsmodels.tsa.seasonal import seasonal_decompose\n",
    "import time\n",
    "\n",
    "from sklearn.preprocessing import StandardScaler, MinMaxScaler\n",
    "from sklearn.model_selection import train_test_split, cross_val_score\n",
    "from sklearn.model_selection import train_test_split, cross_val_score\n",
    "from sklearn.linear_model import LinearRegression\n",
    "from sklearn.metrics import explained_variance_score, mean_squared_error, r2_score"
   ]
  },
  {
   "cell_type": "markdown",
   "id": "ec6f683e",
   "metadata": {},
   "source": [
    "## Amsterdam"
   ]
  },
  {
   "cell_type": "code",
   "execution_count": 15,
   "id": "b8ea5121",
   "metadata": {},
   "outputs": [
    {
     "name": "stdout",
     "output_type": "stream",
     "text": [
      "The 12_12_2020 dataset contains 18522 AirBnb listings; the avg price is €154.0.\n",
      "The 1_9_2021 dataset contains 18395 AirBnb listings; the avg price is €152.58.\n",
      "The 2_8_2021 dataset contains 18291 AirBnb listings; the avg price is €153.06.\n",
      "The 3_4_2021 dataset contains 18201 AirBnb listings; the avg price is €153.72.\n",
      "The 4_9_2021 dataset contains 17825 AirBnb listings; the avg price is €154.5.\n",
      "The 6_3_2021 dataset contains 16973 AirBnb listings; the avg price is €154.17.\n",
      "The 7_4_2021 dataset contains 16724 AirBnb listings; the avg price is €156.16.\n",
      "The 8_6_2021 dataset contains 16478 AirBnb listings; the avg price is €156.87.\n",
      "The 9_7_2021 dataset contains 16116 AirBnb listings; the avg price is €156.91.\n",
      "The 10_6_2021 dataset contains 5389 AirBnb listings; the avg price is €166.99.\n"
     ]
    }
   ],
   "source": [
    "# create individual dataframes for each file\n",
    "# summarize each file (# of listings; avg price in euro)\n",
    "\n",
    "amsterdam_raw_df_12_12_2020 = pd.read_csv('/Users/brendan/Desktop/Python/Hustle Projects/Airbnb/data4/raw-data/amsterdam/amsterdam_2020-12.csv')\n",
    "amsterdam_raw_df_12_12_2020['Month']='12/12/2020' \n",
    "print(f\"The 12_12_2020 dataset contains {len(amsterdam_raw_df_12_12_2020)} AirBnb listings; the avg price is €{round(amsterdam_raw_df_12_12_2020['price'].mean(),2)}.\")\n",
    "\n",
    "\n",
    "amsterdam_raw_df_1_9_2021 = pd.read_csv('/Users/brendan/Desktop/Python/Hustle Projects/Airbnb/data4/raw-data/amsterdam/amsterdam_2021-01.csv')\n",
    "amsterdam_raw_df_1_9_2021['Month']='1/9/2021' \n",
    "print(f\"The 1_9_2021 dataset contains {len(amsterdam_raw_df_1_9_2021)} AirBnb listings; the avg price is €{round(amsterdam_raw_df_1_9_2021['price'].mean(),2)}.\")\n",
    "\n",
    "amsterdam_raw_df_2_8_2021 = pd.read_csv('/Users/brendan/Desktop/Python/Hustle Projects/Airbnb/data4/raw-data/amsterdam/amsterdam_2021-02.csv')\n",
    "amsterdam_raw_df_2_8_2021['Month']='2/8/2021' \n",
    "print(f\"The 2_8_2021 dataset contains {len(amsterdam_raw_df_2_8_2021)} AirBnb listings; the avg price is €{round(amsterdam_raw_df_2_8_2021['price'].mean(),2)}.\")\n",
    "\n",
    "amsterdam_raw_df_3_4_2021 = pd.read_csv('/Users/brendan/Desktop/Python/Hustle Projects/Airbnb/data4/raw-data/amsterdam/amsterdam_2021-03.csv')\n",
    "amsterdam_raw_df_3_4_2021['Month']='3/4/2021' \n",
    "print(f\"The 3_4_2021 dataset contains {len(amsterdam_raw_df_3_4_2021)} AirBnb listings; the avg price is €{round(amsterdam_raw_df_3_4_2021['price'].mean(),2)}.\")\n",
    "\n",
    "amsterdam_raw_df_4_9_2021 = pd.read_csv('/Users/brendan/Desktop/Python/Hustle Projects/Airbnb/data4/raw-data/amsterdam/amsterdam_2021-04.csv')\n",
    "amsterdam_raw_df_4_9_2021['Month']='4/9/2021'\n",
    "print(f\"The 4_9_2021 dataset contains {len(amsterdam_raw_df_4_9_2021)} AirBnb listings; the avg price is €{round(amsterdam_raw_df_4_9_2021['price'].mean(),2)}.\")\n",
    "\n",
    "#amsterdam_raw_df_5_19_2021 = pd.read_csv('/Users/brendan/Desktop/Python/Hustle Projects/Airbnb/data4/raw-data/amsterdam/amsterdam_2021-05.csv')\n",
    "#print(f\"The 5_19_2021 dataset contains {len(amsterdam_raw_df_5_19_2021)} AirBnb listings; the avg price is €{round(amsterdam_raw_df_5_19_2021['price'].mean(),2)}.\")\n",
    "\n",
    "amsterdam_raw_df_6_3_2021 = pd.read_csv('/Users/brendan/Desktop/Python/Hustle Projects/Airbnb/data4/raw-data/amsterdam/amsterdam_2021-06.csv')\n",
    "amsterdam_raw_df_6_3_2021['Month']='6/3/2021'\n",
    "print(f\"The 6_3_2021 dataset contains {len(amsterdam_raw_df_6_3_2021)} AirBnb listings; the avg price is €{round(amsterdam_raw_df_6_3_2021['price'].mean(),2)}.\")\n",
    "\n",
    "amsterdam_raw_df_7_4_2021 = pd.read_csv('/Users/brendan/Desktop/Python/Hustle Projects/Airbnb/data4/raw-data/amsterdam/amsterdam_2021-07.csv')\n",
    "amsterdam_raw_df_7_4_2021['Month']='7/4/2021'\n",
    "print(f\"The 7_4_2021 dataset contains {len(amsterdam_raw_df_7_4_2021)} AirBnb listings; the avg price is €{round(amsterdam_raw_df_7_4_2021['price'].mean(),2)}.\")\n",
    "\n",
    "amsterdam_raw_df_8_6_2021 = pd.read_csv('/Users/brendan/Desktop/Python/Hustle Projects/Airbnb/data4/raw-data/amsterdam/amsterdam_2021-08.csv')\n",
    "amsterdam_raw_df_8_6_2021['Month']='8/6/2021'\n",
    "print(f\"The 8_6_2021 dataset contains {len(amsterdam_raw_df_8_6_2021)} AirBnb listings; the avg price is €{round(amsterdam_raw_df_8_6_2021['price'].mean(),2)}.\")\n",
    "\n",
    "amsterdam_raw_df_9_7_2021 = pd.read_csv('/Users/brendan/Desktop/Python/Hustle Projects/Airbnb/data4/raw-data/amsterdam/amsterdam_2021-09.csv')\n",
    "amsterdam_raw_df_9_7_2021['Month']='9/7/2021'\n",
    "print(f\"The 9_7_2021 dataset contains {len(amsterdam_raw_df_9_7_2021)} AirBnb listings; the avg price is €{round(amsterdam_raw_df_9_7_2021['price'].mean(),2)}.\")\n",
    "\n",
    "amsterdam_raw_df_10_6_2021 = pd.read_csv('/Users/brendan/Desktop/Python/Hustle Projects/Airbnb/data4/raw-data/amsterdam/amsterdam_2021-10.csv')\n",
    "amsterdam_raw_df_10_6_2021['Month']='10/6/2021'\n",
    "print(f\"The 10_6_2021 dataset contains {len(amsterdam_raw_df_10_6_2021)} AirBnb listings; the avg price is €{round(amsterdam_raw_df_10_6_2021['price'].mean(),2)}.\")"
   ]
  },
  {
   "cell_type": "code",
   "execution_count": 96,
   "id": "e56b0d23",
   "metadata": {},
   "outputs": [],
   "source": [
    "raw_df_amsterdam = pd.read_csv('/Users/brendan/Desktop/Python/Hustle Projects/Airbnb/data4/raw-data/amsterdam/amsterdam_detailed.csv')\n"
   ]
  },
  {
   "cell_type": "code",
   "execution_count": 16,
   "id": "1fa80442",
   "metadata": {},
   "outputs": [],
   "source": [
    "amsterdam_list_of_df = [amsterdam_raw_df_12_12_2020, amsterdam_raw_df_1_9_2021, amsterdam_raw_df_2_8_2021, amsterdam_raw_df_3_4_2021,\n",
    "                        amsterdam_raw_df_4_9_2021, amsterdam_raw_df_6_3_2021, amsterdam_raw_df_7_4_2021, amsterdam_raw_df_8_6_2021, amsterdam_raw_df_9_7_2021]\n"
   ]
  },
  {
   "cell_type": "code",
   "execution_count": 107,
   "id": "3a5919a6",
   "metadata": {},
   "outputs": [
    {
     "data": {
      "text/plain": [
       "(157525, 19)"
      ]
     },
     "execution_count": 107,
     "metadata": {},
     "output_type": "execute_result"
    }
   ],
   "source": [
    "amsterdam_df = pd.concat(amsterdam_list_of_df)\n",
    "amsterdam_df.shape"
   ]
  },
  {
   "cell_type": "code",
   "execution_count": 259,
   "id": "0883730f",
   "metadata": {},
   "outputs": [
    {
     "data": {
      "text/html": [
       "<div><div id=8e3cf56d-679a-403a-8293-8d6e17016280 style=\"display:none; background-color:#9D6CFF; color:white; width:200px; height:30px; padding-left:5px; border-radius:4px; flex-direction:row; justify-content:space-around; align-items:center;\" onmouseover=\"this.style.backgroundColor='#BA9BF8'\" onmouseout=\"this.style.backgroundColor='#9D6CFF'\" onclick=\"window.commands?.execute('create-mitosheet-from-dataframe-output');\">See Full Dataframe in Mito</div> <script> if (window.commands.hasCommand('create-mitosheet-from-dataframe-output')) document.getElementById('8e3cf56d-679a-403a-8293-8d6e17016280').style.display = 'flex' </script> <table border=\"1\" class=\"dataframe\">\n",
       "  <thead>\n",
       "    <tr style=\"text-align: right;\">\n",
       "      <th></th>\n",
       "      <th>id_x</th>\n",
       "      <th>Month</th>\n",
       "      <th>property_type</th>\n",
       "      <th>room_type_x</th>\n",
       "      <th>accommodates</th>\n",
       "      <th>bedrooms</th>\n",
       "      <th>beds</th>\n",
       "      <th>price_x</th>\n",
       "      <th>availability_90</th>\n",
       "      <th>review_scores_rating</th>\n",
       "      <th>review_scores_accuracy</th>\n",
       "      <th>review_scores_cleanliness</th>\n",
       "      <th>review_scores_location</th>\n",
       "      <th>review_scores_value</th>\n",
       "      <th>city</th>\n",
       "    </tr>\n",
       "  </thead>\n",
       "  <tbody>\n",
       "    <tr>\n",
       "      <th>0</th>\n",
       "      <td>2818</td>\n",
       "      <td>12/12/2020</td>\n",
       "      <td>Private room in rental unit</td>\n",
       "      <td>Private room</td>\n",
       "      <td>2.0</td>\n",
       "      <td>1.0</td>\n",
       "      <td>2.0</td>\n",
       "      <td>59</td>\n",
       "      <td>33.0</td>\n",
       "      <td>4.89</td>\n",
       "      <td>4.93</td>\n",
       "      <td>5.0</td>\n",
       "      <td>4.68</td>\n",
       "      <td>4.81</td>\n",
       "      <td>Amsterdam</td>\n",
       "    </tr>\n",
       "    <tr>\n",
       "      <th>0</th>\n",
       "      <td>2818</td>\n",
       "      <td>1/9/2021</td>\n",
       "      <td>Private room in rental unit</td>\n",
       "      <td>Private room</td>\n",
       "      <td>2.0</td>\n",
       "      <td>1.0</td>\n",
       "      <td>2.0</td>\n",
       "      <td>59</td>\n",
       "      <td>33.0</td>\n",
       "      <td>4.89</td>\n",
       "      <td>4.93</td>\n",
       "      <td>5.0</td>\n",
       "      <td>4.68</td>\n",
       "      <td>4.81</td>\n",
       "      <td>Amsterdam</td>\n",
       "    </tr>\n",
       "  </tbody>\n",
       "</table></div>"
      ],
      "text/plain": [
       "   id_x       Month                property_type   room_type_x  accommodates  \\\n",
       "0  2818  12/12/2020  Private room in rental unit  Private room           2.0   \n",
       "0  2818    1/9/2021  Private room in rental unit  Private room           2.0   \n",
       "\n",
       "   bedrooms  beds  price_x  availability_90  review_scores_rating  \\\n",
       "0       1.0   2.0       59             33.0                  4.89   \n",
       "0       1.0   2.0       59             33.0                  4.89   \n",
       "\n",
       "   review_scores_accuracy  review_scores_cleanliness  review_scores_location  \\\n",
       "0                    4.93                        5.0                    4.68   \n",
       "0                    4.93                        5.0                    4.68   \n",
       "\n",
       "   review_scores_value       city  \n",
       "0                 4.81  Amsterdam  \n",
       "0                 4.81  Amsterdam  "
      ]
     },
     "execution_count": 259,
     "metadata": {},
     "output_type": "execute_result"
    }
   ],
   "source": [
    "df_join_amsterdam = amsterdam_df.join(raw_df_amsterdam, lsuffix='_x', rsuffix='_y')\n",
    "amsterdam_df_master = df_join_amsterdam.copy()\n",
    "amsterdam_df_final = amsterdam_df_master[['id_x','Month', 'property_type', 'room_type_x', 'accommodates',\n",
    "                               'bedrooms', 'beds', 'price_x', 'availability_90','review_scores_rating',\n",
    "                               'review_scores_accuracy','review_scores_cleanliness','review_scores_location',\n",
    "                               'review_scores_value']]\n",
    "amsterdam_df_final['city']='Amsterdam'\n",
    "amsterdam_df_final.head(2)"
   ]
  },
  {
   "cell_type": "markdown",
   "id": "dee8b930",
   "metadata": {},
   "source": [
    "## Antwerp"
   ]
  },
  {
   "cell_type": "code",
   "execution_count": 19,
   "id": "2d893885",
   "metadata": {
    "scrolled": true
   },
   "outputs": [
    {
     "name": "stdout",
     "output_type": "stream",
     "text": [
      "The 12_12_2020 dataset contains 1751 AirBnb listings; the avg price is €94.93.\n",
      "The 1_9_2021 dataset contains 1717 AirBnb listings; the avg price is €91.93.\n",
      "The 2_8_2021 dataset contains 1716 AirBnb listings; the avg price is €91.52.\n",
      "The 3_4_2021 dataset contains 1749 AirBnb listings; the avg price is €96.45.\n",
      "The 4_9_2021 dataset contains 1739 AirBnb listings; the avg price is €99.19.\n",
      "The 6_3_2021 dataset contains 1810 AirBnb listings; the avg price is €99.63.\n",
      "The 7_4_2021 dataset contains 1843 AirBnb listings; the avg price is €100.1.\n",
      "The 8_6_2021 dataset contains 1792 AirBnb listings; the avg price is €100.99.\n",
      "The 9_7_2021 dataset contains 1776 AirBnb listings; the avg price is €103.83.\n",
      "The 10_6_2021 dataset contains 1750 AirBnb listings; the avg price is €106.99.\n"
     ]
    }
   ],
   "source": [
    "antwerp_raw_df_12_12_2020 = pd.read_csv('/Users/brendan/Desktop/Python/Hustle Projects/Airbnb/data4/raw-data/antwerp/antwerp_2020-12.csv')\n",
    "antwerp_raw_df_12_12_2020['Month']='12/12/2020' \n",
    "print(f\"The 12_12_2020 dataset contains {len(antwerp_raw_df_12_12_2020)} AirBnb listings; the avg price is €{round(antwerp_raw_df_12_12_2020['price'].mean(),2)}.\")\n",
    "\n",
    "antwerp_raw_df_1_9_2021 = pd.read_csv('/Users/brendan/Desktop/Python/Hustle Projects/Airbnb/data4/raw-data/antwerp/antwerp_2021-01.csv')\n",
    "antwerp_raw_df_1_9_2021['Month']='1/9/2021' \n",
    "print(f\"The 1_9_2021 dataset contains {len(antwerp_raw_df_1_9_2021)} AirBnb listings; the avg price is €{round(antwerp_raw_df_1_9_2021['price'].mean(),2)}.\")\n",
    "\n",
    "antwerp_raw_df_2_8_2021 = pd.read_csv('/Users/brendan/Desktop/Python/Hustle Projects/Airbnb/data4/raw-data/antwerp/antwerp_2021-02.csv')\n",
    "antwerp_raw_df_2_8_2021['Month']='2/8/2021'\n",
    "print(f\"The 2_8_2021 dataset contains {len(antwerp_raw_df_2_8_2021)} AirBnb listings; the avg price is €{round(antwerp_raw_df_2_8_2021['price'].mean(),2)}.\")\n",
    "\n",
    "antwerp_raw_df_3_4_2021 = pd.read_csv('/Users/brendan/Desktop/Python/Hustle Projects/Airbnb/data4/raw-data/antwerp/antwerp_2021-03.csv')\n",
    "antwerp_raw_df_3_4_2021['Month']='3/4/2021' \n",
    "print(f\"The 3_4_2021 dataset contains {len(antwerp_raw_df_3_4_2021)} AirBnb listings; the avg price is €{round(antwerp_raw_df_3_4_2021['price'].mean(),2)}.\")\n",
    "\n",
    "antwerp_raw_df_4_9_2021 = pd.read_csv('/Users/brendan/Desktop/Python/Hustle Projects/Airbnb/data4/raw-data/antwerp/antwerp_2021-04.csv')\n",
    "antwerp_raw_df_4_9_2021['Month']='4/9/2021'\n",
    "print(f\"The 4_9_2021 dataset contains {len(antwerp_raw_df_4_9_2021)} AirBnb listings; the avg price is €{round(antwerp_raw_df_4_9_2021['price'].mean(),2)}.\")\n",
    "\n",
    "#antwerp_raw_df_5_19_2021 = pd.read_csv('/Users/brendan/Desktop/Python/Hustle Projects/Airbnb/data4/raw-data/antwerp/antwerp_2021-05.csv')\n",
    "#print(f\"The 5_19_2021 dataset contains {len(antwerp_raw_df_5_19_2021)} AirBnb listings; the avg price is €{round(antwerp_raw_df_5_19_2021['price'].mean(),2)}.\")\n",
    "\n",
    "antwerp_raw_df_6_3_2021 = pd.read_csv('/Users/brendan/Desktop/Python/Hustle Projects/Airbnb/data4/raw-data/antwerp/antwerp_2021-06.csv')\n",
    "antwerp_raw_df_6_3_2021['Month']='6/3/2021'\n",
    "print(f\"The 6_3_2021 dataset contains {len(antwerp_raw_df_6_3_2021)} AirBnb listings; the avg price is €{round(antwerp_raw_df_6_3_2021['price'].mean(),2)}.\")\n",
    "\n",
    "antwerp_raw_df_7_4_2021 = pd.read_csv('/Users/brendan/Desktop/Python/Hustle Projects/Airbnb/data4/raw-data/antwerp/antwerp_2021-07.csv')\n",
    "antwerp_raw_df_7_4_2021['Month']='7/4/2021'\n",
    "print(f\"The 7_4_2021 dataset contains {len(antwerp_raw_df_7_4_2021)} AirBnb listings; the avg price is €{round(antwerp_raw_df_7_4_2021['price'].mean(),2)}.\")\n",
    "\n",
    "antwerp_raw_df_8_6_2021 = pd.read_csv('/Users/brendan/Desktop/Python/Hustle Projects/Airbnb/data4/raw-data/antwerp/antwerp_2021-08.csv')\n",
    "antwerp_raw_df_8_6_2021['Month']='8/6/2021'\n",
    "print(f\"The 8_6_2021 dataset contains {len(antwerp_raw_df_8_6_2021)} AirBnb listings; the avg price is €{round(antwerp_raw_df_8_6_2021['price'].mean(),2)}.\")\n",
    "\n",
    "antwerp_raw_df_9_7_2021 = pd.read_csv('/Users/brendan/Desktop/Python/Hustle Projects/Airbnb/data4/raw-data/antwerp/antwerp_2021-09.csv')\n",
    "antwerp_raw_df_9_7_2021['Month']='9/7/2021'\n",
    "print(f\"The 9_7_2021 dataset contains {len(antwerp_raw_df_9_7_2021)} AirBnb listings; the avg price is €{round(antwerp_raw_df_9_7_2021['price'].mean(),2)}.\")\n",
    "\n",
    "antwerp_raw_df_10_6_2021 = pd.read_csv('/Users/brendan/Desktop/Python/Hustle Projects/Airbnb/data4/raw-data/antwerp/antwerp_2021-10.csv')\n",
    "antwerp_raw_df_10_6_2021['Month']='10/6/2021'\n",
    "print(f\"The 10_6_2021 dataset contains {len(antwerp_raw_df_10_6_2021)} AirBnb listings; the avg price is €{round(antwerp_raw_df_10_6_2021['price'].mean(),2)}.\")"
   ]
  },
  {
   "cell_type": "code",
   "execution_count": 123,
   "id": "bb90d19d",
   "metadata": {},
   "outputs": [],
   "source": [
    "raw_df_antwerp = pd.read_csv('/Users/brendan/Desktop/Python/Hustle Projects/Airbnb/data4/raw-data/antwerp/antwerp_detailed.csv')\n"
   ]
  },
  {
   "cell_type": "code",
   "execution_count": 124,
   "id": "2d86d8a0",
   "metadata": {},
   "outputs": [],
   "source": [
    "antwerp_list_of_df = [antwerp_raw_df_12_12_2020, antwerp_raw_df_1_9_2021, antwerp_raw_df_2_8_2021, antwerp_raw_df_3_4_2021,\n",
    "                        antwerp_raw_df_4_9_2021, antwerp_raw_df_6_3_2021, antwerp_raw_df_7_4_2021, antwerp_raw_df_8_6_2021, antwerp_raw_df_9_7_2021]\n"
   ]
  },
  {
   "cell_type": "code",
   "execution_count": 125,
   "id": "2f8c5a7b",
   "metadata": {},
   "outputs": [
    {
     "data": {
      "text/plain": [
       "(15893, 19)"
      ]
     },
     "execution_count": 125,
     "metadata": {},
     "output_type": "execute_result"
    }
   ],
   "source": [
    "antwerp_df = pd.concat(antwerp_list_of_df)\n",
    "antwerp_df.shape"
   ]
  },
  {
   "cell_type": "code",
   "execution_count": 260,
   "id": "a44b90d0",
   "metadata": {},
   "outputs": [
    {
     "data": {
      "text/html": [
       "<div><div id=46b258d6-2400-45bb-a15e-db908f876690 style=\"display:none; background-color:#9D6CFF; color:white; width:200px; height:30px; padding-left:5px; border-radius:4px; flex-direction:row; justify-content:space-around; align-items:center;\" onmouseover=\"this.style.backgroundColor='#BA9BF8'\" onmouseout=\"this.style.backgroundColor='#9D6CFF'\" onclick=\"window.commands?.execute('create-mitosheet-from-dataframe-output');\">See Full Dataframe in Mito</div> <script> if (window.commands.hasCommand('create-mitosheet-from-dataframe-output')) document.getElementById('46b258d6-2400-45bb-a15e-db908f876690').style.display = 'flex' </script> <table border=\"1\" class=\"dataframe\">\n",
       "  <thead>\n",
       "    <tr style=\"text-align: right;\">\n",
       "      <th></th>\n",
       "      <th>id_x</th>\n",
       "      <th>Month</th>\n",
       "      <th>property_type</th>\n",
       "      <th>room_type_x</th>\n",
       "      <th>accommodates</th>\n",
       "      <th>bedrooms</th>\n",
       "      <th>beds</th>\n",
       "      <th>price_x</th>\n",
       "      <th>availability_90</th>\n",
       "      <th>review_scores_rating</th>\n",
       "      <th>review_scores_accuracy</th>\n",
       "      <th>review_scores_cleanliness</th>\n",
       "      <th>review_scores_location</th>\n",
       "      <th>review_scores_value</th>\n",
       "      <th>city</th>\n",
       "    </tr>\n",
       "  </thead>\n",
       "  <tbody>\n",
       "    <tr>\n",
       "      <th>0</th>\n",
       "      <td>50904</td>\n",
       "      <td>12/12/2020</td>\n",
       "      <td>Room in boutique hotel</td>\n",
       "      <td>Hotel room</td>\n",
       "      <td>2.0</td>\n",
       "      <td>1.0</td>\n",
       "      <td>1.0</td>\n",
       "      <td>158</td>\n",
       "      <td>75.0</td>\n",
       "      <td>5.0</td>\n",
       "      <td>5.0</td>\n",
       "      <td>5.0</td>\n",
       "      <td>5.0</td>\n",
       "      <td>5.0</td>\n",
       "      <td>Antwerp</td>\n",
       "    </tr>\n",
       "    <tr>\n",
       "      <th>0</th>\n",
       "      <td>50904</td>\n",
       "      <td>1/9/2021</td>\n",
       "      <td>Room in boutique hotel</td>\n",
       "      <td>Hotel room</td>\n",
       "      <td>2.0</td>\n",
       "      <td>1.0</td>\n",
       "      <td>1.0</td>\n",
       "      <td>145</td>\n",
       "      <td>75.0</td>\n",
       "      <td>5.0</td>\n",
       "      <td>5.0</td>\n",
       "      <td>5.0</td>\n",
       "      <td>5.0</td>\n",
       "      <td>5.0</td>\n",
       "      <td>Antwerp</td>\n",
       "    </tr>\n",
       "  </tbody>\n",
       "</table></div>"
      ],
      "text/plain": [
       "    id_x       Month           property_type room_type_x  accommodates  \\\n",
       "0  50904  12/12/2020  Room in boutique hotel  Hotel room           2.0   \n",
       "0  50904    1/9/2021  Room in boutique hotel  Hotel room           2.0   \n",
       "\n",
       "   bedrooms  beds  price_x  availability_90  review_scores_rating  \\\n",
       "0       1.0   1.0      158             75.0                   5.0   \n",
       "0       1.0   1.0      145             75.0                   5.0   \n",
       "\n",
       "   review_scores_accuracy  review_scores_cleanliness  review_scores_location  \\\n",
       "0                     5.0                        5.0                     5.0   \n",
       "0                     5.0                        5.0                     5.0   \n",
       "\n",
       "   review_scores_value     city  \n",
       "0                  5.0  Antwerp  \n",
       "0                  5.0  Antwerp  "
      ]
     },
     "execution_count": 260,
     "metadata": {},
     "output_type": "execute_result"
    }
   ],
   "source": [
    "df_join_antwerp = antwerp_df.join(raw_df_antwerp, lsuffix='_x', rsuffix='_y')\n",
    "antwerp_df_master = df_join_antwerp.copy()\n",
    "antwerp_df_final = antwerp_df_master[['id_x','Month', 'property_type', 'room_type_x', 'accommodates',\n",
    "                               'bedrooms', 'beds', 'price_x', 'availability_90','review_scores_rating',\n",
    "                               'review_scores_accuracy','review_scores_cleanliness','review_scores_location',\n",
    "                               'review_scores_value']]\n",
    "antwerp_df_final['city']='Antwerp'\n",
    "antwerp_df_final.head(2)"
   ]
  },
  {
   "cell_type": "markdown",
   "id": "9f3ead84",
   "metadata": {},
   "source": [
    "## Athens"
   ]
  },
  {
   "cell_type": "code",
   "execution_count": 22,
   "id": "0264dd95",
   "metadata": {
    "scrolled": true
   },
   "outputs": [
    {
     "name": "stdout",
     "output_type": "stream",
     "text": [
      "The 12_12_2020 dataset contains 9413 AirBnb listings; the avg price is €68.86.\n",
      "The 1_9_2021 dataset contains 9482 AirBnb listings; the avg price is €74.33.\n",
      "The 2_8_2021 dataset contains 9467 AirBnb listings; the avg price is €73.43.\n",
      "The 3_4_2021 dataset contains 9510 AirBnb listings; the avg price is €74.94.\n",
      "The 4_9_2021 dataset contains 9618 AirBnb listings; the avg price is €81.68.\n",
      "The 6_3_2021 dataset contains 9584 AirBnb listings; the avg price is €86.28.\n",
      "The 7_4_2021 dataset contains 9640 AirBnb listings; the avg price is €90.54.\n",
      "The 8_6_2021 dataset contains 9773 AirBnb listings; the avg price is €84.23.\n",
      "The 9_7_2021 dataset contains 9766 AirBnb listings; the avg price is €83.34.\n",
      "The 10_6_2021 dataset contains 9582 AirBnb listings; the avg price is €83.44.\n"
     ]
    }
   ],
   "source": [
    "athens_raw_df_12_12_2020 = pd.read_csv('/Users/brendan/Desktop/Python/Hustle Projects/Airbnb/data4/raw-data/athens/athens_2020-12.csv')\n",
    "athens_raw_df_12_12_2020['Month']='12/12/2020' \n",
    "print(f\"The 12_12_2020 dataset contains {len(athens_raw_df_12_12_2020)} AirBnb listings; the avg price is €{round(athens_raw_df_12_12_2020['price'].mean(),2)}.\")\n",
    "\n",
    "athens_raw_df_1_9_2021 = pd.read_csv('/Users/brendan/Desktop/Python/Hustle Projects/Airbnb/data4/raw-data/athens/athens_2021-01.csv')\n",
    "athens_raw_df_1_9_2021['Month']='1/9/2021' \n",
    "print(f\"The 1_9_2021 dataset contains {len(athens_raw_df_1_9_2021)} AirBnb listings; the avg price is €{round(athens_raw_df_1_9_2021['price'].mean(),2)}.\")\n",
    "\n",
    "athens_raw_df_2_8_2021 = pd.read_csv('/Users/brendan/Desktop/Python/Hustle Projects/Airbnb/data4/raw-data/athens/athens_2021-02.csv')\n",
    "athens_raw_df_2_8_2021['Month']='2/8/2021'\n",
    "print(f\"The 2_8_2021 dataset contains {len(athens_raw_df_2_8_2021)} AirBnb listings; the avg price is €{round(athens_raw_df_2_8_2021['price'].mean(),2)}.\")\n",
    "\n",
    "athens_raw_df_3_4_2021 = pd.read_csv('/Users/brendan/Desktop/Python/Hustle Projects/Airbnb/data4/raw-data/athens/athens_2021-03.csv')\n",
    "athens_raw_df_3_4_2021['Month']='3/4/2021' \n",
    "print(f\"The 3_4_2021 dataset contains {len(athens_raw_df_3_4_2021)} AirBnb listings; the avg price is €{round(athens_raw_df_3_4_2021['price'].mean(),2)}.\")\n",
    "\n",
    "athens_raw_df_4_9_2021 = pd.read_csv('/Users/brendan/Desktop/Python/Hustle Projects/Airbnb/data4/raw-data/athens/athens_2021-04.csv')\n",
    "athens_raw_df_4_9_2021['Month']='4/9/2021'\n",
    "print(f\"The 4_9_2021 dataset contains {len(athens_raw_df_4_9_2021)} AirBnb listings; the avg price is €{round(athens_raw_df_4_9_2021['price'].mean(),2)}.\")\n",
    "\n",
    "#athens_raw_df_5_19_2021 = pd.read_csv('/Users/brendan/Desktop/Python/Hustle Projects/Airbnb/data4/raw-data/athens/athens_2021-05.csv')\n",
    "#print(f\"The 5_19_2021 dataset contains {len(athens_raw_df_5_19_2021)} AirBnb listings; the avg price is €{round(athens_raw_df_5_19_2021['price'].mean(),2)}.\")\n",
    "\n",
    "athens_raw_df_6_3_2021 = pd.read_csv('/Users/brendan/Desktop/Python/Hustle Projects/Airbnb/data4/raw-data/athens/athens_2021-06.csv')\n",
    "athens_raw_df_6_3_2021['Month']='6/3/2021'\n",
    "print(f\"The 6_3_2021 dataset contains {len(athens_raw_df_6_3_2021)} AirBnb listings; the avg price is €{round(athens_raw_df_6_3_2021['price'].mean(),2)}.\")\n",
    "\n",
    "athens_raw_df_7_4_2021 = pd.read_csv('/Users/brendan/Desktop/Python/Hustle Projects/Airbnb/data4/raw-data/athens/athens_2021-07.csv')\n",
    "athens_raw_df_7_4_2021['Month']='7/4/2021'\n",
    "print(f\"The 7_4_2021 dataset contains {len(athens_raw_df_7_4_2021)} AirBnb listings; the avg price is €{round(athens_raw_df_7_4_2021['price'].mean(),2)}.\")\n",
    "\n",
    "athens_raw_df_8_6_2021 = pd.read_csv('/Users/brendan/Desktop/Python/Hustle Projects/Airbnb/data4/raw-data/athens/athens_2021-08.csv')\n",
    "athens_raw_df_8_6_2021['Month']='8/6/2021'\n",
    "print(f\"The 8_6_2021 dataset contains {len(athens_raw_df_8_6_2021)} AirBnb listings; the avg price is €{round(athens_raw_df_8_6_2021['price'].mean(),2)}.\")\n",
    "\n",
    "athens_raw_df_9_7_2021 = pd.read_csv('/Users/brendan/Desktop/Python/Hustle Projects/Airbnb/data4/raw-data/athens/athens_2021-09.csv')\n",
    "athens_raw_df_9_7_2021['Month']='9/7/2021'\n",
    "print(f\"The 9_7_2021 dataset contains {len(athens_raw_df_9_7_2021)} AirBnb listings; the avg price is €{round(athens_raw_df_9_7_2021['price'].mean(),2)}.\")\n",
    "\n",
    "athens_raw_df_10_6_2021 = pd.read_csv('/Users/brendan/Desktop/Python/Hustle Projects/Airbnb/data4/raw-data/athens/athens_2021-10.csv')\n",
    "athens_raw_df_10_6_2021['Month']='10/6/2021'\n",
    "print(f\"The 10_6_2021 dataset contains {len(athens_raw_df_10_6_2021)} AirBnb listings; the avg price is €{round(athens_raw_df_10_6_2021['price'].mean(),2)}.\")"
   ]
  },
  {
   "cell_type": "code",
   "execution_count": 127,
   "id": "95e0299c",
   "metadata": {},
   "outputs": [],
   "source": [
    "athens_list_of_df = [athens_raw_df_12_12_2020, athens_raw_df_1_9_2021, athens_raw_df_2_8_2021, athens_raw_df_3_4_2021,\n",
    "                        athens_raw_df_4_9_2021, athens_raw_df_6_3_2021, athens_raw_df_7_4_2021, athens_raw_df_8_6_2021, athens_raw_df_9_7_2021]\n"
   ]
  },
  {
   "cell_type": "code",
   "execution_count": 128,
   "id": "9b7c67bc",
   "metadata": {},
   "outputs": [
    {
     "data": {
      "text/plain": [
       "(86253, 19)"
      ]
     },
     "execution_count": 128,
     "metadata": {},
     "output_type": "execute_result"
    }
   ],
   "source": [
    "athens_df = pd.concat(athens_list_of_df)\n",
    "athens_df.shape"
   ]
  },
  {
   "cell_type": "code",
   "execution_count": 129,
   "id": "b2c9a39e",
   "metadata": {},
   "outputs": [],
   "source": [
    "raw_df_athens = pd.read_csv('/Users/brendan/Desktop/Python/Hustle Projects/Airbnb/data4/raw-data/athens/athens_detailed.csv')\n"
   ]
  },
  {
   "cell_type": "code",
   "execution_count": 130,
   "id": "6356f3da",
   "metadata": {},
   "outputs": [],
   "source": [
    "athens_list_of_df = [athens_raw_df_12_12_2020, athens_raw_df_1_9_2021, athens_raw_df_2_8_2021, athens_raw_df_3_4_2021,\n",
    "                        athens_raw_df_4_9_2021, athens_raw_df_6_3_2021, athens_raw_df_7_4_2021, athens_raw_df_8_6_2021, athens_raw_df_9_7_2021]\n"
   ]
  },
  {
   "cell_type": "code",
   "execution_count": 131,
   "id": "f0af9f59",
   "metadata": {},
   "outputs": [
    {
     "data": {
      "text/plain": [
       "(86253, 19)"
      ]
     },
     "execution_count": 131,
     "metadata": {},
     "output_type": "execute_result"
    }
   ],
   "source": [
    "athens_df = pd.concat(athens_list_of_df)\n",
    "athens_df.shape"
   ]
  },
  {
   "cell_type": "code",
   "execution_count": 261,
   "id": "5daf3626",
   "metadata": {},
   "outputs": [
    {
     "data": {
      "text/html": [
       "<div><div id=06b46f48-059f-4006-8e2a-ae0a637412e1 style=\"display:none; background-color:#9D6CFF; color:white; width:200px; height:30px; padding-left:5px; border-radius:4px; flex-direction:row; justify-content:space-around; align-items:center;\" onmouseover=\"this.style.backgroundColor='#BA9BF8'\" onmouseout=\"this.style.backgroundColor='#9D6CFF'\" onclick=\"window.commands?.execute('create-mitosheet-from-dataframe-output');\">See Full Dataframe in Mito</div> <script> if (window.commands.hasCommand('create-mitosheet-from-dataframe-output')) document.getElementById('06b46f48-059f-4006-8e2a-ae0a637412e1').style.display = 'flex' </script> <table border=\"1\" class=\"dataframe\">\n",
       "  <thead>\n",
       "    <tr style=\"text-align: right;\">\n",
       "      <th></th>\n",
       "      <th>id_x</th>\n",
       "      <th>Month</th>\n",
       "      <th>property_type</th>\n",
       "      <th>room_type_x</th>\n",
       "      <th>accommodates</th>\n",
       "      <th>bedrooms</th>\n",
       "      <th>beds</th>\n",
       "      <th>price_x</th>\n",
       "      <th>availability_90</th>\n",
       "      <th>review_scores_rating</th>\n",
       "      <th>review_scores_accuracy</th>\n",
       "      <th>review_scores_cleanliness</th>\n",
       "      <th>review_scores_location</th>\n",
       "      <th>review_scores_value</th>\n",
       "      <th>city</th>\n",
       "    </tr>\n",
       "  </thead>\n",
       "  <tbody>\n",
       "    <tr>\n",
       "      <th>0</th>\n",
       "      <td>10595</td>\n",
       "      <td>12/12/2020</td>\n",
       "      <td>Entire rental unit</td>\n",
       "      <td>Entire home/apt</td>\n",
       "      <td>8.0</td>\n",
       "      <td>3.0</td>\n",
       "      <td>5.0</td>\n",
       "      <td>77</td>\n",
       "      <td>79.0</td>\n",
       "      <td>4.77</td>\n",
       "      <td>4.81</td>\n",
       "      <td>4.75</td>\n",
       "      <td>4.5</td>\n",
       "      <td>4.66</td>\n",
       "      <td>Athens</td>\n",
       "    </tr>\n",
       "    <tr>\n",
       "      <th>0</th>\n",
       "      <td>10595</td>\n",
       "      <td>1/9/2021</td>\n",
       "      <td>Entire rental unit</td>\n",
       "      <td>Entire home/apt</td>\n",
       "      <td>8.0</td>\n",
       "      <td>3.0</td>\n",
       "      <td>5.0</td>\n",
       "      <td>57</td>\n",
       "      <td>79.0</td>\n",
       "      <td>4.77</td>\n",
       "      <td>4.81</td>\n",
       "      <td>4.75</td>\n",
       "      <td>4.5</td>\n",
       "      <td>4.66</td>\n",
       "      <td>Athens</td>\n",
       "    </tr>\n",
       "  </tbody>\n",
       "</table></div>"
      ],
      "text/plain": [
       "    id_x       Month       property_type      room_type_x  accommodates  \\\n",
       "0  10595  12/12/2020  Entire rental unit  Entire home/apt           8.0   \n",
       "0  10595    1/9/2021  Entire rental unit  Entire home/apt           8.0   \n",
       "\n",
       "   bedrooms  beds  price_x  availability_90  review_scores_rating  \\\n",
       "0       3.0   5.0       77             79.0                  4.77   \n",
       "0       3.0   5.0       57             79.0                  4.77   \n",
       "\n",
       "   review_scores_accuracy  review_scores_cleanliness  review_scores_location  \\\n",
       "0                    4.81                       4.75                     4.5   \n",
       "0                    4.81                       4.75                     4.5   \n",
       "\n",
       "   review_scores_value    city  \n",
       "0                 4.66  Athens  \n",
       "0                 4.66  Athens  "
      ]
     },
     "execution_count": 261,
     "metadata": {},
     "output_type": "execute_result"
    }
   ],
   "source": [
    "df_join_athens = athens_df.join(raw_df_athens, lsuffix='_x', rsuffix='_y')\n",
    "athens_df_master = df_join_athens.copy()\n",
    "athens_df_final = athens_df_master[['id_x','Month', 'property_type', 'room_type_x', 'accommodates',\n",
    "                               'bedrooms', 'beds', 'price_x', 'availability_90','review_scores_rating',\n",
    "                               'review_scores_accuracy','review_scores_cleanliness','review_scores_location',\n",
    "                               'review_scores_value']]\n",
    "athens_df_final['city']='Athens'\n",
    "athens_df_final.head(2)"
   ]
  },
  {
   "cell_type": "code",
   "execution_count": null,
   "id": "abfd56e2",
   "metadata": {},
   "outputs": [],
   "source": []
  },
  {
   "cell_type": "code",
   "execution_count": null,
   "id": "c78a997e",
   "metadata": {},
   "outputs": [],
   "source": []
  },
  {
   "cell_type": "code",
   "execution_count": null,
   "id": "cc61ed40",
   "metadata": {},
   "outputs": [],
   "source": []
  },
  {
   "cell_type": "markdown",
   "id": "b9639f82",
   "metadata": {},
   "source": [
    "## Barcelona"
   ]
  },
  {
   "cell_type": "code",
   "execution_count": 25,
   "id": "36889547",
   "metadata": {
    "scrolled": false
   },
   "outputs": [
    {
     "name": "stdout",
     "output_type": "stream",
     "text": [
      "The 12_12_2020 dataset contains 19641 AirBnb listings; the avg price is €91.91.\n",
      "The 1_9_2021 dataset contains 18569 AirBnb listings; the avg price is €103.39.\n",
      "The 2_8_2021 dataset contains 18471 AirBnb listings; the avg price is €103.76.\n",
      "The 3_4_2021 dataset contains 18286 AirBnb listings; the avg price is €106.15.\n",
      "The 4_9_2021 dataset contains 18226 AirBnb listings; the avg price is €110.39.\n",
      "The 6_3_2021 dataset contains 17589 AirBnb listings; the avg price is €111.72.\n",
      "The 7_4_2021 dataset contains 17079 AirBnb listings; the avg price is €115.01.\n",
      "The 8_6_2021 dataset contains 16554 AirBnb listings; the avg price is €115.96.\n",
      "The 9_7_2021 dataset contains 16206 AirBnb listings; the avg price is €109.26.\n",
      "The 10_6_2021 dataset contains 16055 AirBnb listings; the avg price is €112.47.\n"
     ]
    }
   ],
   "source": [
    "barcelona_raw_df_12_12_2020 = pd.read_csv('/Users/brendan/Desktop/Python/Hustle Projects/Airbnb/data4/raw-data/barcelona/barcelona_2020-12.csv')\n",
    "barcelona_raw_df_12_12_2020['Month']='12/12/2020' \n",
    "print(f\"The 12_12_2020 dataset contains {len(barcelona_raw_df_12_12_2020)} AirBnb listings; the avg price is €{round(barcelona_raw_df_12_12_2020['price'].mean(),2)}.\")\n",
    "\n",
    "barcelona_raw_df_1_9_2021 = pd.read_csv('/Users/brendan/Desktop/Python/Hustle Projects/Airbnb/data4/raw-data/barcelona/barcelona_2021-01.csv')\n",
    "barcelona_raw_df_1_9_2021['Month']='1/9/2021' \n",
    "print(f\"The 1_9_2021 dataset contains {len(barcelona_raw_df_1_9_2021)} AirBnb listings; the avg price is €{round(barcelona_raw_df_1_9_2021['price'].mean(),2)}.\")\n",
    "\n",
    "barcelona_raw_df_2_8_2021 = pd.read_csv('/Users/brendan/Desktop/Python/Hustle Projects/Airbnb/data4/raw-data/barcelona/barcelona_2021-02.csv')\n",
    "barcelona_raw_df_2_8_2021['Month']='2/8/2021'\n",
    "print(f\"The 2_8_2021 dataset contains {len(barcelona_raw_df_2_8_2021)} AirBnb listings; the avg price is €{round(barcelona_raw_df_2_8_2021['price'].mean(),2)}.\")\n",
    "\n",
    "barcelona_raw_df_3_4_2021 = pd.read_csv('/Users/brendan/Desktop/Python/Hustle Projects/Airbnb/data4/raw-data/barcelona/barcelona_2021-03.csv')\n",
    "barcelona_raw_df_3_4_2021['Month']='3/4/2021' \n",
    "print(f\"The 3_4_2021 dataset contains {len(barcelona_raw_df_3_4_2021)} AirBnb listings; the avg price is €{round(barcelona_raw_df_3_4_2021['price'].mean(),2)}.\")\n",
    "\n",
    "barcelona_raw_df_4_9_2021 = pd.read_csv('/Users/brendan/Desktop/Python/Hustle Projects/Airbnb/data4/raw-data/barcelona/barcelona_2021-04.csv')\n",
    "barcelona_raw_df_4_9_2021['Month']='4/9/2021'\n",
    "print(f\"The 4_9_2021 dataset contains {len(barcelona_raw_df_4_9_2021)} AirBnb listings; the avg price is €{round(barcelona_raw_df_4_9_2021['price'].mean(),2)}.\")\n",
    "\n",
    "#barcelona_raw_df_5_19_2021 = pd.read_csv('/Users/brendan/Desktop/Python/Hustle Projects/Airbnb/data4/raw-data/barcelona/barcelona_2021-05.csv')\n",
    "#print(f\"The 5_19_2021 dataset contains {len(barcelona_raw_df_5_19_2021)} AirBnb listings; the avg price is €{round(barcelona_raw_df_5_19_2021['price'].mean(),2)}.\")\n",
    "\n",
    "barcelona_raw_df_6_3_2021 = pd.read_csv('/Users/brendan/Desktop/Python/Hustle Projects/Airbnb/data4/raw-data/barcelona/barcelona_2021-06.csv')\n",
    "barcelona_raw_df_6_3_2021['Month']='6/3/2021'\n",
    "print(f\"The 6_3_2021 dataset contains {len(barcelona_raw_df_6_3_2021)} AirBnb listings; the avg price is €{round(barcelona_raw_df_6_3_2021['price'].mean(),2)}.\")\n",
    "\n",
    "barcelona_raw_df_7_4_2021 = pd.read_csv('/Users/brendan/Desktop/Python/Hustle Projects/Airbnb/data4/raw-data/barcelona/barcelona_2021-07.csv')\n",
    "barcelona_raw_df_7_4_2021['Month']='7/4/2021'\n",
    "print(f\"The 7_4_2021 dataset contains {len(barcelona_raw_df_7_4_2021)} AirBnb listings; the avg price is €{round(barcelona_raw_df_7_4_2021['price'].mean(),2)}.\")\n",
    "\n",
    "barcelona_raw_df_8_6_2021 = pd.read_csv('/Users/brendan/Desktop/Python/Hustle Projects/Airbnb/data4/raw-data/barcelona/barcelona_2021-08.csv')\n",
    "barcelona_raw_df_8_6_2021['Month']='8/6/2021'\n",
    "print(f\"The 8_6_2021 dataset contains {len(barcelona_raw_df_8_6_2021)} AirBnb listings; the avg price is €{round(barcelona_raw_df_8_6_2021['price'].mean(),2)}.\")\n",
    "\n",
    "barcelona_raw_df_9_7_2021 = pd.read_csv('/Users/brendan/Desktop/Python/Hustle Projects/Airbnb/data4/raw-data/barcelona/barcelona_2021-09.csv')\n",
    "barcelona_raw_df_9_7_2021['Month']='9/7/2021'\n",
    "print(f\"The 9_7_2021 dataset contains {len(barcelona_raw_df_9_7_2021)} AirBnb listings; the avg price is €{round(barcelona_raw_df_9_7_2021['price'].mean(),2)}.\")\n",
    "\n",
    "barcelona_raw_df_10_6_2021 = pd.read_csv('/Users/brendan/Desktop/Python/Hustle Projects/Airbnb/data4/raw-data/barcelona/barcelona_2021-10.csv')\n",
    "barcelona_raw_df_10_6_2021['Month']='10/6/2021'\n",
    "print(f\"The 10_6_2021 dataset contains {len(barcelona_raw_df_10_6_2021)} AirBnb listings; the avg price is €{round(barcelona_raw_df_10_6_2021['price'].mean(),2)}.\")"
   ]
  },
  {
   "cell_type": "code",
   "execution_count": 26,
   "id": "626c1be3",
   "metadata": {},
   "outputs": [],
   "source": [
    "barcelona_list_of_df = [barcelona_raw_df_12_12_2020, barcelona_raw_df_1_9_2021, barcelona_raw_df_2_8_2021, barcelona_raw_df_3_4_2021,\n",
    "                        barcelona_raw_df_4_9_2021, barcelona_raw_df_6_3_2021, barcelona_raw_df_7_4_2021, barcelona_raw_df_8_6_2021, barcelona_raw_df_9_7_2021]\n"
   ]
  },
  {
   "cell_type": "code",
   "execution_count": 133,
   "id": "4ca758fe",
   "metadata": {},
   "outputs": [
    {
     "data": {
      "text/plain": [
       "(160621, 19)"
      ]
     },
     "execution_count": 133,
     "metadata": {},
     "output_type": "execute_result"
    }
   ],
   "source": [
    "barcelona_df = pd.concat(barcelona_list_of_df)\n",
    "barcelona_df.shape"
   ]
  },
  {
   "cell_type": "code",
   "execution_count": 134,
   "id": "7fe8d3f4",
   "metadata": {},
   "outputs": [],
   "source": [
    "raw_df_barcelona = pd.read_csv('/Users/brendan/Desktop/Python/Hustle Projects/Airbnb/data4/raw-data/barcelona/barcelona_detailed.csv')\n"
   ]
  },
  {
   "cell_type": "code",
   "execution_count": 135,
   "id": "6874052d",
   "metadata": {},
   "outputs": [],
   "source": [
    "barcelona_list_of_df = [barcelona_raw_df_12_12_2020, barcelona_raw_df_1_9_2021, barcelona_raw_df_2_8_2021, barcelona_raw_df_3_4_2021,\n",
    "                        barcelona_raw_df_4_9_2021, barcelona_raw_df_6_3_2021, barcelona_raw_df_7_4_2021, barcelona_raw_df_8_6_2021, barcelona_raw_df_9_7_2021]\n"
   ]
  },
  {
   "cell_type": "code",
   "execution_count": 136,
   "id": "d7c44076",
   "metadata": {},
   "outputs": [
    {
     "data": {
      "text/plain": [
       "(160621, 19)"
      ]
     },
     "execution_count": 136,
     "metadata": {},
     "output_type": "execute_result"
    }
   ],
   "source": [
    "barcelona_df = pd.concat(barcelona_list_of_df)\n",
    "barcelona_df.shape"
   ]
  },
  {
   "cell_type": "code",
   "execution_count": 262,
   "id": "714725a0",
   "metadata": {},
   "outputs": [
    {
     "data": {
      "text/html": [
       "<div><div id=da019452-7380-42b5-ad9a-ec9ae555fdb2 style=\"display:none; background-color:#9D6CFF; color:white; width:200px; height:30px; padding-left:5px; border-radius:4px; flex-direction:row; justify-content:space-around; align-items:center;\" onmouseover=\"this.style.backgroundColor='#BA9BF8'\" onmouseout=\"this.style.backgroundColor='#9D6CFF'\" onclick=\"window.commands?.execute('create-mitosheet-from-dataframe-output');\">See Full Dataframe in Mito</div> <script> if (window.commands.hasCommand('create-mitosheet-from-dataframe-output')) document.getElementById('da019452-7380-42b5-ad9a-ec9ae555fdb2').style.display = 'flex' </script> <table border=\"1\" class=\"dataframe\">\n",
       "  <thead>\n",
       "    <tr style=\"text-align: right;\">\n",
       "      <th></th>\n",
       "      <th>id_x</th>\n",
       "      <th>Month</th>\n",
       "      <th>property_type</th>\n",
       "      <th>room_type_x</th>\n",
       "      <th>accommodates</th>\n",
       "      <th>bedrooms</th>\n",
       "      <th>beds</th>\n",
       "      <th>price_x</th>\n",
       "      <th>availability_90</th>\n",
       "      <th>review_scores_rating</th>\n",
       "      <th>review_scores_accuracy</th>\n",
       "      <th>review_scores_cleanliness</th>\n",
       "      <th>review_scores_location</th>\n",
       "      <th>review_scores_value</th>\n",
       "      <th>city</th>\n",
       "    </tr>\n",
       "  </thead>\n",
       "  <tbody>\n",
       "    <tr>\n",
       "      <th>0</th>\n",
       "      <td>21974</td>\n",
       "      <td>12/12/2020</td>\n",
       "      <td>Entire rental unit</td>\n",
       "      <td>Private room</td>\n",
       "      <td>8.0</td>\n",
       "      <td>3.0</td>\n",
       "      <td>6.0</td>\n",
       "      <td>80</td>\n",
       "      <td>47.0</td>\n",
       "      <td>4.4</td>\n",
       "      <td>4.55</td>\n",
       "      <td>4.75</td>\n",
       "      <td>4.75</td>\n",
       "      <td>4.3</td>\n",
       "      <td>Barcelona</td>\n",
       "    </tr>\n",
       "    <tr>\n",
       "      <th>0</th>\n",
       "      <td>21974</td>\n",
       "      <td>1/9/2021</td>\n",
       "      <td>Entire rental unit</td>\n",
       "      <td>Private room</td>\n",
       "      <td>8.0</td>\n",
       "      <td>3.0</td>\n",
       "      <td>6.0</td>\n",
       "      <td>80</td>\n",
       "      <td>47.0</td>\n",
       "      <td>4.4</td>\n",
       "      <td>4.55</td>\n",
       "      <td>4.75</td>\n",
       "      <td>4.75</td>\n",
       "      <td>4.3</td>\n",
       "      <td>Barcelona</td>\n",
       "    </tr>\n",
       "  </tbody>\n",
       "</table></div>"
      ],
      "text/plain": [
       "    id_x       Month       property_type   room_type_x  accommodates  \\\n",
       "0  21974  12/12/2020  Entire rental unit  Private room           8.0   \n",
       "0  21974    1/9/2021  Entire rental unit  Private room           8.0   \n",
       "\n",
       "   bedrooms  beds  price_x  availability_90  review_scores_rating  \\\n",
       "0       3.0   6.0       80             47.0                   4.4   \n",
       "0       3.0   6.0       80             47.0                   4.4   \n",
       "\n",
       "   review_scores_accuracy  review_scores_cleanliness  review_scores_location  \\\n",
       "0                    4.55                       4.75                    4.75   \n",
       "0                    4.55                       4.75                    4.75   \n",
       "\n",
       "   review_scores_value       city  \n",
       "0                  4.3  Barcelona  \n",
       "0                  4.3  Barcelona  "
      ]
     },
     "execution_count": 262,
     "metadata": {},
     "output_type": "execute_result"
    }
   ],
   "source": [
    "df_join_barcelona = barcelona_df.join(raw_df_barcelona, lsuffix='_x', rsuffix='_y')\n",
    "barcelona_df_master = df_join_barcelona.copy()\n",
    "barcelona_df_final = barcelona_df_master[['id_x','Month', 'property_type', 'room_type_x', 'accommodates',\n",
    "                               'bedrooms', 'beds', 'price_x', 'availability_90','review_scores_rating',\n",
    "                               'review_scores_accuracy','review_scores_cleanliness','review_scores_location',\n",
    "                               'review_scores_value']]\n",
    "barcelona_df_final['city']='Barcelona'\n",
    "barcelona_df_final.head(2)"
   ]
  },
  {
   "cell_type": "markdown",
   "id": "5398153c",
   "metadata": {},
   "source": [
    "## Berlin"
   ]
  },
  {
   "cell_type": "code",
   "execution_count": 28,
   "id": "e148595a",
   "metadata": {
    "scrolled": true
   },
   "outputs": [
    {
     "name": "stdout",
     "output_type": "stream",
     "text": [
      "The 12_12_2020 dataset contains 20224 AirBnb listings; the avg price is €72.95.\n",
      "The 1_9_2021 dataset contains 20050 AirBnb listings; the avg price is €70.29.\n",
      "The 2_8_2021 dataset contains 19978 AirBnb listings; the avg price is €70.56.\n",
      "The 3_4_2021 dataset contains 19858 AirBnb listings; the avg price is €70.78.\n",
      "The 4_9_2021 dataset contains 19752 AirBnb listings; the avg price is €72.55.\n",
      "The 6_3_2021 dataset contains 18978 AirBnb listings; the avg price is €73.54.\n",
      "The 7_4_2021 dataset contains 19095 AirBnb listings; the avg price is €73.3.\n",
      "The 8_6_2021 dataset contains 18547 AirBnb listings; the avg price is €74.48.\n",
      "The 9_7_2021 dataset contains 18288 AirBnb listings; the avg price is €75.19.\n",
      "The 10_6_2021 dataset contains 17500 AirBnb listings; the avg price is €74.9.\n"
     ]
    }
   ],
   "source": [
    "berlin_raw_df_12_12_2020 = pd.read_csv('/Users/brendan/Desktop/Python/Hustle Projects/Airbnb/data4/raw-data/berlin/berlin_2020-12.csv')\n",
    "berlin_raw_df_12_12_2020['Month']='12/12/2020' \n",
    "print(f\"The 12_12_2020 dataset contains {len(berlin_raw_df_12_12_2020)} AirBnb listings; the avg price is €{round(berlin_raw_df_12_12_2020['price'].mean(),2)}.\")\n",
    "\n",
    "berlin_raw_df_1_9_2021 = pd.read_csv('/Users/brendan/Desktop/Python/Hustle Projects/Airbnb/data4/raw-data/berlin/berlin_2021-01.csv')\n",
    "berlin_raw_df_1_9_2021['Month']='1/9/2021' \n",
    "print(f\"The 1_9_2021 dataset contains {len(berlin_raw_df_1_9_2021)} AirBnb listings; the avg price is €{round(berlin_raw_df_1_9_2021['price'].mean(),2)}.\")\n",
    "\n",
    "berlin_raw_df_2_8_2021 = pd.read_csv('/Users/brendan/Desktop/Python/Hustle Projects/Airbnb/data4/raw-data/berlin/berlin_2021-02.csv')\n",
    "berlin_raw_df_2_8_2021['Month']='2/8/2021'\n",
    "print(f\"The 2_8_2021 dataset contains {len(berlin_raw_df_2_8_2021)} AirBnb listings; the avg price is €{round(berlin_raw_df_2_8_2021['price'].mean(),2)}.\")\n",
    "\n",
    "berlin_raw_df_3_4_2021 = pd.read_csv('/Users/brendan/Desktop/Python/Hustle Projects/Airbnb/data4/raw-data/berlin/berlin_2021-03.csv')\n",
    "berlin_raw_df_3_4_2021['Month']='3/4/2021' \n",
    "print(f\"The 3_4_2021 dataset contains {len(berlin_raw_df_3_4_2021)} AirBnb listings; the avg price is €{round(berlin_raw_df_3_4_2021['price'].mean(),2)}.\")\n",
    "\n",
    "berlin_raw_df_4_9_2021 = pd.read_csv('/Users/brendan/Desktop/Python/Hustle Projects/Airbnb/data4/raw-data/berlin/berlin_2021-04.csv')\n",
    "berlin_raw_df_4_9_2021['Month']='4/9/2021'\n",
    "print(f\"The 4_9_2021 dataset contains {len(berlin_raw_df_4_9_2021)} AirBnb listings; the avg price is €{round(berlin_raw_df_4_9_2021['price'].mean(),2)}.\")\n",
    "\n",
    "#berlin_raw_df_5_19_2021 = pd.read_csv('/Users/brendan/Desktop/Python/Hustle Projects/Airbnb/data4/raw-data/berlin/berlin_2021-05.csv')\n",
    "#print(f\"The 5_19_2021 dataset contains {len(berlin_raw_df_5_19_2021)} AirBnb listings; the avg price is €{round(berlin_raw_df_5_19_2021['price'].mean(),2)}.\")\n",
    "\n",
    "berlin_raw_df_6_3_2021 = pd.read_csv('/Users/brendan/Desktop/Python/Hustle Projects/Airbnb/data4/raw-data/berlin/berlin_2021-06.csv')\n",
    "berlin_raw_df_6_3_2021['Month']='6/3/2021'\n",
    "print(f\"The 6_3_2021 dataset contains {len(berlin_raw_df_6_3_2021)} AirBnb listings; the avg price is €{round(berlin_raw_df_6_3_2021['price'].mean(),2)}.\")\n",
    "\n",
    "berlin_raw_df_7_4_2021 = pd.read_csv('/Users/brendan/Desktop/Python/Hustle Projects/Airbnb/data4/raw-data/berlin/berlin_2021-07.csv')\n",
    "berlin_raw_df_7_4_2021['Month']='7/4/2021'\n",
    "print(f\"The 7_4_2021 dataset contains {len(berlin_raw_df_7_4_2021)} AirBnb listings; the avg price is €{round(berlin_raw_df_7_4_2021['price'].mean(),2)}.\")\n",
    "\n",
    "berlin_raw_df_8_6_2021 = pd.read_csv('/Users/brendan/Desktop/Python/Hustle Projects/Airbnb/data4/raw-data/berlin/berlin_2021-08.csv')\n",
    "berlin_raw_df_8_6_2021['Month']='8/6/2021'\n",
    "print(f\"The 8_6_2021 dataset contains {len(berlin_raw_df_8_6_2021)} AirBnb listings; the avg price is €{round(berlin_raw_df_8_6_2021['price'].mean(),2)}.\")\n",
    "\n",
    "berlin_raw_df_9_7_2021 = pd.read_csv('/Users/brendan/Desktop/Python/Hustle Projects/Airbnb/data4/raw-data/berlin/berlin_2021-09.csv')\n",
    "berlin_raw_df_9_7_2021['Month']='9/7/2021'\n",
    "print(f\"The 9_7_2021 dataset contains {len(berlin_raw_df_9_7_2021)} AirBnb listings; the avg price is €{round(berlin_raw_df_9_7_2021['price'].mean(),2)}.\")\n",
    "\n",
    "berlin_raw_df_10_6_2021 = pd.read_csv('/Users/brendan/Desktop/Python/Hustle Projects/Airbnb/data4/raw-data/berlin/berlin_2021-10.csv')\n",
    "berlin_raw_df_10_6_2021['Month']='10/6/2021'\n",
    "print(f\"The 10_6_2021 dataset contains {len(berlin_raw_df_10_6_2021)} AirBnb listings; the avg price is €{round(berlin_raw_df_10_6_2021['price'].mean(),2)}.\")"
   ]
  },
  {
   "cell_type": "code",
   "execution_count": 29,
   "id": "cf4bbea4",
   "metadata": {},
   "outputs": [],
   "source": [
    "berlin_list_of_df = [berlin_raw_df_12_12_2020, berlin_raw_df_1_9_2021, berlin_raw_df_2_8_2021, berlin_raw_df_3_4_2021,\n",
    "                        berlin_raw_df_4_9_2021, berlin_raw_df_6_3_2021, berlin_raw_df_7_4_2021, berlin_raw_df_8_6_2021, berlin_raw_df_9_7_2021]\n"
   ]
  },
  {
   "cell_type": "code",
   "execution_count": 30,
   "id": "29c8836a",
   "metadata": {
    "scrolled": true
   },
   "outputs": [
    {
     "data": {
      "text/plain": [
       "(174770, 19)"
      ]
     },
     "execution_count": 30,
     "metadata": {},
     "output_type": "execute_result"
    }
   ],
   "source": [
    "berlin_df = pd.concat(berlin_list_of_df)\n",
    "berlin_df.shape"
   ]
  },
  {
   "cell_type": "code",
   "execution_count": 138,
   "id": "0bd7040d",
   "metadata": {},
   "outputs": [],
   "source": [
    "raw_df_berlin = pd.read_csv('/Users/brendan/Desktop/Python/Hustle Projects/Airbnb/data4/raw-data/berlin/berlin_detailed.csv')\n"
   ]
  },
  {
   "cell_type": "code",
   "execution_count": 139,
   "id": "59053aab",
   "metadata": {},
   "outputs": [],
   "source": [
    "berlin_list_of_df = [berlin_raw_df_12_12_2020, berlin_raw_df_1_9_2021, berlin_raw_df_2_8_2021, berlin_raw_df_3_4_2021,\n",
    "                        berlin_raw_df_4_9_2021, berlin_raw_df_6_3_2021, berlin_raw_df_7_4_2021, berlin_raw_df_8_6_2021, berlin_raw_df_9_7_2021]\n"
   ]
  },
  {
   "cell_type": "code",
   "execution_count": 140,
   "id": "1985a29a",
   "metadata": {},
   "outputs": [
    {
     "data": {
      "text/plain": [
       "(174770, 19)"
      ]
     },
     "execution_count": 140,
     "metadata": {},
     "output_type": "execute_result"
    }
   ],
   "source": [
    "berlin_df = pd.concat(berlin_list_of_df)\n",
    "berlin_df.shape"
   ]
  },
  {
   "cell_type": "code",
   "execution_count": 263,
   "id": "c5c11196",
   "metadata": {},
   "outputs": [
    {
     "data": {
      "text/html": [
       "<div><div id=62062d7f-f147-4699-9436-7d39d90e8fa5 style=\"display:none; background-color:#9D6CFF; color:white; width:200px; height:30px; padding-left:5px; border-radius:4px; flex-direction:row; justify-content:space-around; align-items:center;\" onmouseover=\"this.style.backgroundColor='#BA9BF8'\" onmouseout=\"this.style.backgroundColor='#9D6CFF'\" onclick=\"window.commands?.execute('create-mitosheet-from-dataframe-output');\">See Full Dataframe in Mito</div> <script> if (window.commands.hasCommand('create-mitosheet-from-dataframe-output')) document.getElementById('62062d7f-f147-4699-9436-7d39d90e8fa5').style.display = 'flex' </script> <table border=\"1\" class=\"dataframe\">\n",
       "  <thead>\n",
       "    <tr style=\"text-align: right;\">\n",
       "      <th></th>\n",
       "      <th>id_x</th>\n",
       "      <th>Month</th>\n",
       "      <th>property_type</th>\n",
       "      <th>room_type_x</th>\n",
       "      <th>accommodates</th>\n",
       "      <th>bedrooms</th>\n",
       "      <th>beds</th>\n",
       "      <th>price_x</th>\n",
       "      <th>availability_90</th>\n",
       "      <th>review_scores_rating</th>\n",
       "      <th>review_scores_accuracy</th>\n",
       "      <th>review_scores_cleanliness</th>\n",
       "      <th>review_scores_location</th>\n",
       "      <th>review_scores_value</th>\n",
       "      <th>city</th>\n",
       "    </tr>\n",
       "  </thead>\n",
       "  <tbody>\n",
       "    <tr>\n",
       "      <th>0</th>\n",
       "      <td>2015</td>\n",
       "      <td>12/12/2020</td>\n",
       "      <td>Entire rental unit</td>\n",
       "      <td>Entire home/apt</td>\n",
       "      <td>4.0</td>\n",
       "      <td>1.0</td>\n",
       "      <td>2.0</td>\n",
       "      <td>42</td>\n",
       "      <td>0.0</td>\n",
       "      <td>4.63</td>\n",
       "      <td>4.68</td>\n",
       "      <td>4.53</td>\n",
       "      <td>4.92</td>\n",
       "      <td>4.63</td>\n",
       "      <td>Berlin</td>\n",
       "    </tr>\n",
       "    <tr>\n",
       "      <th>0</th>\n",
       "      <td>2015</td>\n",
       "      <td>1/9/2021</td>\n",
       "      <td>Entire rental unit</td>\n",
       "      <td>Entire home/apt</td>\n",
       "      <td>4.0</td>\n",
       "      <td>1.0</td>\n",
       "      <td>2.0</td>\n",
       "      <td>89</td>\n",
       "      <td>0.0</td>\n",
       "      <td>4.63</td>\n",
       "      <td>4.68</td>\n",
       "      <td>4.53</td>\n",
       "      <td>4.92</td>\n",
       "      <td>4.63</td>\n",
       "      <td>Berlin</td>\n",
       "    </tr>\n",
       "  </tbody>\n",
       "</table></div>"
      ],
      "text/plain": [
       "   id_x       Month       property_type      room_type_x  accommodates  \\\n",
       "0  2015  12/12/2020  Entire rental unit  Entire home/apt           4.0   \n",
       "0  2015    1/9/2021  Entire rental unit  Entire home/apt           4.0   \n",
       "\n",
       "   bedrooms  beds  price_x  availability_90  review_scores_rating  \\\n",
       "0       1.0   2.0       42              0.0                  4.63   \n",
       "0       1.0   2.0       89              0.0                  4.63   \n",
       "\n",
       "   review_scores_accuracy  review_scores_cleanliness  review_scores_location  \\\n",
       "0                    4.68                       4.53                    4.92   \n",
       "0                    4.68                       4.53                    4.92   \n",
       "\n",
       "   review_scores_value    city  \n",
       "0                 4.63  Berlin  \n",
       "0                 4.63  Berlin  "
      ]
     },
     "execution_count": 263,
     "metadata": {},
     "output_type": "execute_result"
    }
   ],
   "source": [
    "df_join_berlin = berlin_df.join(raw_df_berlin, lsuffix='_x', rsuffix='_y')\n",
    "berlin_df_master = df_join_berlin.copy()\n",
    "berlin_df_final = berlin_df_master[['id_x','Month', 'property_type', 'room_type_x', 'accommodates',\n",
    "                               'bedrooms', 'beds', 'price_x', 'availability_90','review_scores_rating',\n",
    "                               'review_scores_accuracy','review_scores_cleanliness','review_scores_location',\n",
    "                               'review_scores_value']]\n",
    "berlin_df_final['city']='Berlin'\n",
    "berlin_df_final.head(2)"
   ]
  },
  {
   "cell_type": "markdown",
   "id": "a8111830",
   "metadata": {},
   "source": [
    "## Bordeaux"
   ]
  },
  {
   "cell_type": "code",
   "execution_count": 31,
   "id": "a8a0258f",
   "metadata": {
    "scrolled": false
   },
   "outputs": [
    {
     "name": "stdout",
     "output_type": "stream",
     "text": [
      "The 12_12_2020 dataset contains 10562 AirBnb listings; the avg price is €89.18.\n",
      "The 1_9_2021 dataset contains 10615 AirBnb listings; the avg price is €87.85.\n",
      "The 2_8_2021 dataset contains 10590 AirBnb listings; the avg price is €89.51.\n",
      "The 3_4_2021 dataset contains 10466 AirBnb listings; the avg price is €89.95.\n",
      "The 4_9_2021 dataset contains 10567 AirBnb listings; the avg price is €91.56.\n",
      "The 6_3_2021 dataset contains 10496 AirBnb listings; the avg price is €94.35.\n",
      "The 7_4_2021 dataset contains 10616 AirBnb listings; the avg price is €95.36.\n",
      "The 8_6_2021 dataset contains 9663 AirBnb listings; the avg price is €98.91.\n",
      "The 9_7_2021 dataset contains 9440 AirBnb listings; the avg price is €96.77.\n",
      "The 10_6_2021 dataset contains 9424 AirBnb listings; the avg price is €96.95.\n"
     ]
    }
   ],
   "source": [
    "bordeaux_raw_df_12_12_2020 = pd.read_csv('/Users/brendan/Desktop/Python/Hustle Projects/Airbnb/data4/raw-data/bordeaux/bordeaux_2020-12.csv')\n",
    "bordeaux_raw_df_12_12_2020['Month']='12/12/2020' \n",
    "print(f\"The 12_12_2020 dataset contains {len(bordeaux_raw_df_12_12_2020)} AirBnb listings; the avg price is €{round(bordeaux_raw_df_12_12_2020['price'].mean(),2)}.\")\n",
    "\n",
    "bordeaux_raw_df_1_9_2021 = pd.read_csv('/Users/brendan/Desktop/Python/Hustle Projects/Airbnb/data4/raw-data/bordeaux/bordeaux_2021-01.csv')\n",
    "bordeaux_raw_df_1_9_2021['Month']='1/9/2021' \n",
    "print(f\"The 1_9_2021 dataset contains {len(bordeaux_raw_df_1_9_2021)} AirBnb listings; the avg price is €{round(bordeaux_raw_df_1_9_2021['price'].mean(),2)}.\")\n",
    "\n",
    "bordeaux_raw_df_2_8_2021 = pd.read_csv('/Users/brendan/Desktop/Python/Hustle Projects/Airbnb/data4/raw-data/bordeaux/bordeaux_2021-02.csv')\n",
    "bordeaux_raw_df_2_8_2021['Month']='2/8/2021'\n",
    "print(f\"The 2_8_2021 dataset contains {len(bordeaux_raw_df_2_8_2021)} AirBnb listings; the avg price is €{round(bordeaux_raw_df_2_8_2021['price'].mean(),2)}.\")\n",
    "\n",
    "bordeaux_raw_df_3_4_2021 = pd.read_csv('/Users/brendan/Desktop/Python/Hustle Projects/Airbnb/data4/raw-data/bordeaux/bordeaux_2021-03.csv')\n",
    "bordeaux_raw_df_3_4_2021['Month']='3/4/2021' \n",
    "print(f\"The 3_4_2021 dataset contains {len(bordeaux_raw_df_3_4_2021)} AirBnb listings; the avg price is €{round(bordeaux_raw_df_3_4_2021['price'].mean(),2)}.\")\n",
    "\n",
    "bordeaux_raw_df_4_9_2021 = pd.read_csv('/Users/brendan/Desktop/Python/Hustle Projects/Airbnb/data4/raw-data/bordeaux/bordeaux_2021-04.csv')\n",
    "bordeaux_raw_df_4_9_2021['Month']='4/9/2021'\n",
    "print(f\"The 4_9_2021 dataset contains {len(bordeaux_raw_df_4_9_2021)} AirBnb listings; the avg price is €{round(bordeaux_raw_df_4_9_2021['price'].mean(),2)}.\")\n",
    "\n",
    "#bordeaux_raw_df_5_19_2021 = pd.read_csv('/Users/brendan/Desktop/Python/Hustle Projects/Airbnb/data4/raw-data/bordeaux/bordeaux_2021-05.csv')\n",
    "#print(f\"The 5_19_2021 dataset contains {len(bordeaux_raw_df_5_19_2021)} AirBnb listings; the avg price is €{round(bordeaux_raw_df_5_19_2021['price'].mean(),2)}.\")\n",
    "\n",
    "bordeaux_raw_df_6_3_2021 = pd.read_csv('/Users/brendan/Desktop/Python/Hustle Projects/Airbnb/data4/raw-data/bordeaux/bordeaux_2021-06.csv')\n",
    "bordeaux_raw_df_6_3_2021['Month']='6/3/2021'\n",
    "print(f\"The 6_3_2021 dataset contains {len(bordeaux_raw_df_6_3_2021)} AirBnb listings; the avg price is €{round(bordeaux_raw_df_6_3_2021['price'].mean(),2)}.\")\n",
    "\n",
    "bordeaux_raw_df_7_4_2021 = pd.read_csv('/Users/brendan/Desktop/Python/Hustle Projects/Airbnb/data4/raw-data/bordeaux/bordeaux_2021-07.csv')\n",
    "bordeaux_raw_df_7_4_2021['Month']='7/4/2021'\n",
    "print(f\"The 7_4_2021 dataset contains {len(bordeaux_raw_df_7_4_2021)} AirBnb listings; the avg price is €{round(bordeaux_raw_df_7_4_2021['price'].mean(),2)}.\")\n",
    "\n",
    "bordeaux_raw_df_8_6_2021 = pd.read_csv('/Users/brendan/Desktop/Python/Hustle Projects/Airbnb/data4/raw-data/bordeaux/bordeaux_2021-08.csv')\n",
    "bordeaux_raw_df_8_6_2021['Month']='8/6/2021'\n",
    "print(f\"The 8_6_2021 dataset contains {len(bordeaux_raw_df_8_6_2021)} AirBnb listings; the avg price is €{round(bordeaux_raw_df_8_6_2021['price'].mean(),2)}.\")\n",
    "\n",
    "bordeaux_raw_df_9_7_2021 = pd.read_csv('/Users/brendan/Desktop/Python/Hustle Projects/Airbnb/data4/raw-data/bordeaux/bordeaux_2021-09.csv')\n",
    "bordeaux_raw_df_9_7_2021['Month']='9/7/2021'\n",
    "print(f\"The 9_7_2021 dataset contains {len(bordeaux_raw_df_9_7_2021)} AirBnb listings; the avg price is €{round(bordeaux_raw_df_9_7_2021['price'].mean(),2)}.\")\n",
    "\n",
    "bordeaux_raw_df_10_6_2021 = pd.read_csv('/Users/brendan/Desktop/Python/Hustle Projects/Airbnb/data4/raw-data/bordeaux/bordeaux_2021-10.csv')\n",
    "bordeaux_raw_df_10_6_2021['Month']='10/6/2021'\n",
    "print(f\"The 10_6_2021 dataset contains {len(bordeaux_raw_df_10_6_2021)} AirBnb listings; the avg price is €{round(bordeaux_raw_df_10_6_2021['price'].mean(),2)}.\")"
   ]
  },
  {
   "cell_type": "code",
   "execution_count": 32,
   "id": "7c52b02a",
   "metadata": {},
   "outputs": [],
   "source": [
    "bordeaux_list_of_df = [bordeaux_raw_df_12_12_2020, bordeaux_raw_df_1_9_2021, bordeaux_raw_df_2_8_2021, bordeaux_raw_df_3_4_2021,\n",
    "                        bordeaux_raw_df_4_9_2021, bordeaux_raw_df_6_3_2021, bordeaux_raw_df_7_4_2021, bordeaux_raw_df_8_6_2021, bordeaux_raw_df_9_7_2021]\n"
   ]
  },
  {
   "cell_type": "code",
   "execution_count": 142,
   "id": "e36f0d60",
   "metadata": {},
   "outputs": [
    {
     "data": {
      "text/plain": [
       "(93015, 19)"
      ]
     },
     "execution_count": 142,
     "metadata": {},
     "output_type": "execute_result"
    }
   ],
   "source": [
    "bordeaux_df = pd.concat(bordeaux_list_of_df)\n",
    "bordeaux_df.shape"
   ]
  },
  {
   "cell_type": "code",
   "execution_count": 143,
   "id": "c365dccb",
   "metadata": {},
   "outputs": [],
   "source": [
    "raw_df_bordeaux = pd.read_csv('/Users/brendan/Desktop/Python/Hustle Projects/Airbnb/data4/raw-data/bordeaux/bordeaux_detailed.csv')\n"
   ]
  },
  {
   "cell_type": "code",
   "execution_count": 144,
   "id": "1cb38cbc",
   "metadata": {},
   "outputs": [],
   "source": [
    "bordeaux_list_of_df = [bordeaux_raw_df_12_12_2020, bordeaux_raw_df_1_9_2021, bordeaux_raw_df_2_8_2021, bordeaux_raw_df_3_4_2021,\n",
    "                        bordeaux_raw_df_4_9_2021, bordeaux_raw_df_6_3_2021, bordeaux_raw_df_7_4_2021, bordeaux_raw_df_8_6_2021, bordeaux_raw_df_9_7_2021]\n"
   ]
  },
  {
   "cell_type": "code",
   "execution_count": 145,
   "id": "f1343085",
   "metadata": {},
   "outputs": [
    {
     "data": {
      "text/plain": [
       "(93015, 19)"
      ]
     },
     "execution_count": 145,
     "metadata": {},
     "output_type": "execute_result"
    }
   ],
   "source": [
    "bordeaux_df = pd.concat(bordeaux_list_of_df)\n",
    "bordeaux_df.shape"
   ]
  },
  {
   "cell_type": "code",
   "execution_count": 264,
   "id": "d55a3c12",
   "metadata": {},
   "outputs": [
    {
     "data": {
      "text/html": [
       "<div><div id=b2131391-d713-49e5-8671-77f56840476f style=\"display:none; background-color:#9D6CFF; color:white; width:200px; height:30px; padding-left:5px; border-radius:4px; flex-direction:row; justify-content:space-around; align-items:center;\" onmouseover=\"this.style.backgroundColor='#BA9BF8'\" onmouseout=\"this.style.backgroundColor='#9D6CFF'\" onclick=\"window.commands?.execute('create-mitosheet-from-dataframe-output');\">See Full Dataframe in Mito</div> <script> if (window.commands.hasCommand('create-mitosheet-from-dataframe-output')) document.getElementById('b2131391-d713-49e5-8671-77f56840476f').style.display = 'flex' </script> <table border=\"1\" class=\"dataframe\">\n",
       "  <thead>\n",
       "    <tr style=\"text-align: right;\">\n",
       "      <th></th>\n",
       "      <th>id_x</th>\n",
       "      <th>Month</th>\n",
       "      <th>property_type</th>\n",
       "      <th>room_type_x</th>\n",
       "      <th>accommodates</th>\n",
       "      <th>bedrooms</th>\n",
       "      <th>beds</th>\n",
       "      <th>price_x</th>\n",
       "      <th>availability_90</th>\n",
       "      <th>review_scores_rating</th>\n",
       "      <th>review_scores_accuracy</th>\n",
       "      <th>review_scores_cleanliness</th>\n",
       "      <th>review_scores_location</th>\n",
       "      <th>review_scores_value</th>\n",
       "      <th>city</th>\n",
       "    </tr>\n",
       "  </thead>\n",
       "  <tbody>\n",
       "    <tr>\n",
       "      <th>0</th>\n",
       "      <td>28925</td>\n",
       "      <td>12/12/2020</td>\n",
       "      <td>Entire residential home</td>\n",
       "      <td>Entire home/apt</td>\n",
       "      <td>12.0</td>\n",
       "      <td>6.0</td>\n",
       "      <td>14.0</td>\n",
       "      <td>350</td>\n",
       "      <td>0.0</td>\n",
       "      <td>5.0</td>\n",
       "      <td>5.0</td>\n",
       "      <td>4.5</td>\n",
       "      <td>5.0</td>\n",
       "      <td>4.5</td>\n",
       "      <td>Bordeaux</td>\n",
       "    </tr>\n",
       "    <tr>\n",
       "      <th>0</th>\n",
       "      <td>28925</td>\n",
       "      <td>1/9/2021</td>\n",
       "      <td>Entire residential home</td>\n",
       "      <td>Entire home/apt</td>\n",
       "      <td>12.0</td>\n",
       "      <td>6.0</td>\n",
       "      <td>14.0</td>\n",
       "      <td>350</td>\n",
       "      <td>0.0</td>\n",
       "      <td>5.0</td>\n",
       "      <td>5.0</td>\n",
       "      <td>4.5</td>\n",
       "      <td>5.0</td>\n",
       "      <td>4.5</td>\n",
       "      <td>Bordeaux</td>\n",
       "    </tr>\n",
       "  </tbody>\n",
       "</table></div>"
      ],
      "text/plain": [
       "    id_x       Month            property_type      room_type_x  accommodates  \\\n",
       "0  28925  12/12/2020  Entire residential home  Entire home/apt          12.0   \n",
       "0  28925    1/9/2021  Entire residential home  Entire home/apt          12.0   \n",
       "\n",
       "   bedrooms  beds  price_x  availability_90  review_scores_rating  \\\n",
       "0       6.0  14.0      350              0.0                   5.0   \n",
       "0       6.0  14.0      350              0.0                   5.0   \n",
       "\n",
       "   review_scores_accuracy  review_scores_cleanliness  review_scores_location  \\\n",
       "0                     5.0                        4.5                     5.0   \n",
       "0                     5.0                        4.5                     5.0   \n",
       "\n",
       "   review_scores_value      city  \n",
       "0                  4.5  Bordeaux  \n",
       "0                  4.5  Bordeaux  "
      ]
     },
     "execution_count": 264,
     "metadata": {},
     "output_type": "execute_result"
    }
   ],
   "source": [
    "df_join_bordeaux = bordeaux_df.join(raw_df_bordeaux, lsuffix='_x', rsuffix='_y')\n",
    "bordeaux_df_master = df_join_bordeaux.copy()\n",
    "bordeaux_df_final = bordeaux_df_master[['id_x','Month', 'property_type', 'room_type_x', 'accommodates',\n",
    "                               'bedrooms', 'beds', 'price_x', 'availability_90','review_scores_rating',\n",
    "                               'review_scores_accuracy','review_scores_cleanliness','review_scores_location',\n",
    "                               'review_scores_value']]\n",
    "bordeaux_df_final['city']='Bordeaux'\n",
    "bordeaux_df_final.head(2)"
   ]
  },
  {
   "cell_type": "markdown",
   "id": "3728f788",
   "metadata": {},
   "source": [
    "## Brussels"
   ]
  },
  {
   "cell_type": "code",
   "execution_count": 34,
   "id": "67077042",
   "metadata": {
    "scrolled": true
   },
   "outputs": [
    {
     "name": "stdout",
     "output_type": "stream",
     "text": [
      "The 12_12_2020 dataset contains 5614 AirBnb listings; the avg price is €82.81.\n",
      "The 1_9_2021 dataset contains 5557 AirBnb listings; the avg price is €77.53.\n",
      "The 2_8_2021 dataset contains 5507 AirBnb listings; the avg price is €79.5.\n",
      "The 3_4_2021 dataset contains 5453 AirBnb listings; the avg price is €79.04.\n",
      "The 4_9_2021 dataset contains 5537 AirBnb listings; the avg price is €79.75.\n",
      "The 6_3_2021 dataset contains 5642 AirBnb listings; the avg price is €84.2.\n",
      "The 7_4_2021 dataset contains 5718 AirBnb listings; the avg price is €83.65.\n",
      "The 8_6_2021 dataset contains 5531 AirBnb listings; the avg price is €85.18.\n",
      "The 9_7_2021 dataset contains 5443 AirBnb listings; the avg price is €87.12.\n",
      "The 10_6_2021 dataset contains 5336 AirBnb listings; the avg price is €90.94.\n"
     ]
    }
   ],
   "source": [
    "brussels_raw_df_12_12_2020 = pd.read_csv('/Users/brendan/Desktop/Python/Hustle Projects/Airbnb/data4/raw-data/brussels/brussels_2020-12.csv')\n",
    "brussels_raw_df_12_12_2020['Month']='12/12/2020' \n",
    "print(f\"The 12_12_2020 dataset contains {len(brussels_raw_df_12_12_2020)} AirBnb listings; the avg price is €{round(brussels_raw_df_12_12_2020['price'].mean(),2)}.\")\n",
    "\n",
    "brussels_raw_df_1_9_2021 = pd.read_csv('/Users/brendan/Desktop/Python/Hustle Projects/Airbnb/data4/raw-data/brussels/brussels_2021-01.csv')\n",
    "brussels_raw_df_1_9_2021['Month']='1/9/2021' \n",
    "print(f\"The 1_9_2021 dataset contains {len(brussels_raw_df_1_9_2021)} AirBnb listings; the avg price is €{round(brussels_raw_df_1_9_2021['price'].mean(),2)}.\")\n",
    "\n",
    "brussels_raw_df_2_8_2021 = pd.read_csv('/Users/brendan/Desktop/Python/Hustle Projects/Airbnb/data4/raw-data/brussels/brussels_2021-02.csv')\n",
    "brussels_raw_df_2_8_2021['Month']='2/8/2021'\n",
    "print(f\"The 2_8_2021 dataset contains {len(brussels_raw_df_2_8_2021)} AirBnb listings; the avg price is €{round(brussels_raw_df_2_8_2021['price'].mean(),2)}.\")\n",
    "\n",
    "brussels_raw_df_3_4_2021 = pd.read_csv('/Users/brendan/Desktop/Python/Hustle Projects/Airbnb/data4/raw-data/brussels/brussels_2021-03.csv')\n",
    "brussels_raw_df_3_4_2021['Month']='3/4/2021' \n",
    "print(f\"The 3_4_2021 dataset contains {len(brussels_raw_df_3_4_2021)} AirBnb listings; the avg price is €{round(brussels_raw_df_3_4_2021['price'].mean(),2)}.\")\n",
    "\n",
    "brussels_raw_df_4_9_2021 = pd.read_csv('/Users/brendan/Desktop/Python/Hustle Projects/Airbnb/data4/raw-data/brussels/brussels_2021-04.csv')\n",
    "brussels_raw_df_4_9_2021['Month']='4/9/2021'\n",
    "print(f\"The 4_9_2021 dataset contains {len(brussels_raw_df_4_9_2021)} AirBnb listings; the avg price is €{round(brussels_raw_df_4_9_2021['price'].mean(),2)}.\")\n",
    "\n",
    "#brussels_raw_df_5_19_2021 = pd.read_csv('/Users/brendan/Desktop/Python/Hustle Projects/Airbnb/data4/raw-data/brussels/brussels_2021-05.csv')\n",
    "#print(f\"The 5_19_2021 dataset contains {len(brussels_raw_df_5_19_2021)} AirBnb listings; the avg price is €{round(brussels_raw_df_5_19_2021['price'].mean(),2)}.\")\n",
    "\n",
    "brussels_raw_df_6_3_2021 = pd.read_csv('/Users/brendan/Desktop/Python/Hustle Projects/Airbnb/data4/raw-data/brussels/brussels_2021-06.csv')\n",
    "brussels_raw_df_6_3_2021['Month']='6/3/2021'\n",
    "print(f\"The 6_3_2021 dataset contains {len(brussels_raw_df_6_3_2021)} AirBnb listings; the avg price is €{round(brussels_raw_df_6_3_2021['price'].mean(),2)}.\")\n",
    "\n",
    "brussels_raw_df_7_4_2021 = pd.read_csv('/Users/brendan/Desktop/Python/Hustle Projects/Airbnb/data4/raw-data/brussels/brussels_2021-07.csv')\n",
    "brussels_raw_df_7_4_2021['Month']='7/4/2021'\n",
    "print(f\"The 7_4_2021 dataset contains {len(brussels_raw_df_7_4_2021)} AirBnb listings; the avg price is €{round(brussels_raw_df_7_4_2021['price'].mean(),2)}.\")\n",
    "\n",
    "brussels_raw_df_8_6_2021 = pd.read_csv('/Users/brendan/Desktop/Python/Hustle Projects/Airbnb/data4/raw-data/brussels/brussels_2021-08.csv')\n",
    "brussels_raw_df_8_6_2021['Month']='8/6/2021'\n",
    "print(f\"The 8_6_2021 dataset contains {len(brussels_raw_df_8_6_2021)} AirBnb listings; the avg price is €{round(brussels_raw_df_8_6_2021['price'].mean(),2)}.\")\n",
    "\n",
    "brussels_raw_df_9_7_2021 = pd.read_csv('/Users/brendan/Desktop/Python/Hustle Projects/Airbnb/data4/raw-data/brussels/brussels_2021-09.csv')\n",
    "brussels_raw_df_9_7_2021['Month']='9/7/2021'\n",
    "print(f\"The 9_7_2021 dataset contains {len(brussels_raw_df_9_7_2021)} AirBnb listings; the avg price is €{round(brussels_raw_df_9_7_2021['price'].mean(),2)}.\")\n",
    "\n",
    "brussels_raw_df_10_6_2021 = pd.read_csv('/Users/brendan/Desktop/Python/Hustle Projects/Airbnb/data4/raw-data/brussels/brussels_2021-10.csv')\n",
    "brussels_raw_df_10_6_2021['Month']='10/6/2021'\n",
    "print(f\"The 10_6_2021 dataset contains {len(brussels_raw_df_10_6_2021)} AirBnb listings; the avg price is €{round(brussels_raw_df_10_6_2021['price'].mean(),2)}.\")"
   ]
  },
  {
   "cell_type": "code",
   "execution_count": 35,
   "id": "65fed31f",
   "metadata": {},
   "outputs": [],
   "source": [
    "brussels_list_of_df = [brussels_raw_df_12_12_2020, brussels_raw_df_1_9_2021, brussels_raw_df_2_8_2021, brussels_raw_df_3_4_2021,\n",
    "                        brussels_raw_df_4_9_2021, brussels_raw_df_6_3_2021, brussels_raw_df_7_4_2021, brussels_raw_df_8_6_2021, brussels_raw_df_9_7_2021]\n"
   ]
  },
  {
   "cell_type": "code",
   "execution_count": 36,
   "id": "e9d3ef46",
   "metadata": {},
   "outputs": [
    {
     "data": {
      "text/plain": [
       "(50002, 19)"
      ]
     },
     "execution_count": 36,
     "metadata": {},
     "output_type": "execute_result"
    }
   ],
   "source": [
    "brussels_df = pd.concat(brussels_list_of_df)\n",
    "brussels_df.shape"
   ]
  },
  {
   "cell_type": "code",
   "execution_count": 147,
   "id": "f6318bc0",
   "metadata": {},
   "outputs": [],
   "source": [
    "raw_df_brussels = pd.read_csv('/Users/brendan/Desktop/Python/Hustle Projects/Airbnb/data4/raw-data/brussels/brussels_detailed.csv')\n"
   ]
  },
  {
   "cell_type": "code",
   "execution_count": 148,
   "id": "ca44a678",
   "metadata": {},
   "outputs": [],
   "source": [
    "brussels_list_of_df = [brussels_raw_df_12_12_2020, brussels_raw_df_1_9_2021, brussels_raw_df_2_8_2021, brussels_raw_df_3_4_2021,\n",
    "                        brussels_raw_df_4_9_2021, brussels_raw_df_6_3_2021, brussels_raw_df_7_4_2021, brussels_raw_df_8_6_2021, brussels_raw_df_9_7_2021]\n"
   ]
  },
  {
   "cell_type": "code",
   "execution_count": 149,
   "id": "cc9d2ea8",
   "metadata": {},
   "outputs": [
    {
     "data": {
      "text/plain": [
       "(50002, 19)"
      ]
     },
     "execution_count": 149,
     "metadata": {},
     "output_type": "execute_result"
    }
   ],
   "source": [
    "brussels_df = pd.concat(brussels_list_of_df)\n",
    "brussels_df.shape"
   ]
  },
  {
   "cell_type": "code",
   "execution_count": 266,
   "id": "bd5b7f9a",
   "metadata": {},
   "outputs": [
    {
     "data": {
      "text/html": [
       "<div><div id=ccb00f73-6ebd-4d50-815c-9d35fbdb755f style=\"display:none; background-color:#9D6CFF; color:white; width:200px; height:30px; padding-left:5px; border-radius:4px; flex-direction:row; justify-content:space-around; align-items:center;\" onmouseover=\"this.style.backgroundColor='#BA9BF8'\" onmouseout=\"this.style.backgroundColor='#9D6CFF'\" onclick=\"window.commands?.execute('create-mitosheet-from-dataframe-output');\">See Full Dataframe in Mito</div> <script> if (window.commands.hasCommand('create-mitosheet-from-dataframe-output')) document.getElementById('ccb00f73-6ebd-4d50-815c-9d35fbdb755f').style.display = 'flex' </script> <table border=\"1\" class=\"dataframe\">\n",
       "  <thead>\n",
       "    <tr style=\"text-align: right;\">\n",
       "      <th></th>\n",
       "      <th>id_x</th>\n",
       "      <th>Month</th>\n",
       "      <th>property_type</th>\n",
       "      <th>room_type_x</th>\n",
       "      <th>accommodates</th>\n",
       "      <th>bedrooms</th>\n",
       "      <th>beds</th>\n",
       "      <th>price_x</th>\n",
       "      <th>availability_90</th>\n",
       "      <th>review_scores_rating</th>\n",
       "      <th>review_scores_accuracy</th>\n",
       "      <th>review_scores_cleanliness</th>\n",
       "      <th>review_scores_location</th>\n",
       "      <th>review_scores_value</th>\n",
       "      <th>city</th>\n",
       "    </tr>\n",
       "  </thead>\n",
       "  <tbody>\n",
       "    <tr>\n",
       "      <th>0</th>\n",
       "      <td>2352</td>\n",
       "      <td>12/12/2020</td>\n",
       "      <td>Entire rental unit</td>\n",
       "      <td>Entire home/apt</td>\n",
       "      <td>5.0</td>\n",
       "      <td>2.0</td>\n",
       "      <td>2.0</td>\n",
       "      <td>93</td>\n",
       "      <td>57.0</td>\n",
       "      <td>4.47</td>\n",
       "      <td>4.65</td>\n",
       "      <td>4.71</td>\n",
       "      <td>4.06</td>\n",
       "      <td>4.47</td>\n",
       "      <td>Brussels</td>\n",
       "    </tr>\n",
       "    <tr>\n",
       "      <th>0</th>\n",
       "      <td>2352</td>\n",
       "      <td>1/9/2021</td>\n",
       "      <td>Entire rental unit</td>\n",
       "      <td>Entire home/apt</td>\n",
       "      <td>5.0</td>\n",
       "      <td>2.0</td>\n",
       "      <td>2.0</td>\n",
       "      <td>91</td>\n",
       "      <td>57.0</td>\n",
       "      <td>4.47</td>\n",
       "      <td>4.65</td>\n",
       "      <td>4.71</td>\n",
       "      <td>4.06</td>\n",
       "      <td>4.47</td>\n",
       "      <td>Brussels</td>\n",
       "    </tr>\n",
       "  </tbody>\n",
       "</table></div>"
      ],
      "text/plain": [
       "   id_x       Month       property_type      room_type_x  accommodates  \\\n",
       "0  2352  12/12/2020  Entire rental unit  Entire home/apt           5.0   \n",
       "0  2352    1/9/2021  Entire rental unit  Entire home/apt           5.0   \n",
       "\n",
       "   bedrooms  beds  price_x  availability_90  review_scores_rating  \\\n",
       "0       2.0   2.0       93             57.0                  4.47   \n",
       "0       2.0   2.0       91             57.0                  4.47   \n",
       "\n",
       "   review_scores_accuracy  review_scores_cleanliness  review_scores_location  \\\n",
       "0                    4.65                       4.71                    4.06   \n",
       "0                    4.65                       4.71                    4.06   \n",
       "\n",
       "   review_scores_value      city  \n",
       "0                 4.47  Brussels  \n",
       "0                 4.47  Brussels  "
      ]
     },
     "execution_count": 266,
     "metadata": {},
     "output_type": "execute_result"
    }
   ],
   "source": [
    "df_join_brussels = brussels_df.join(raw_df_brussels, lsuffix='_x', rsuffix='_y')\n",
    "brussels_df_master = df_join_brussels.copy()\n",
    "brussels_df_final = brussels_df_master[['id_x','Month', 'property_type', 'room_type_x', 'accommodates',\n",
    "                               'bedrooms', 'beds', 'price_x', 'availability_90','review_scores_rating',\n",
    "                               'review_scores_accuracy','review_scores_cleanliness','review_scores_location',\n",
    "                               'review_scores_value']]\n",
    "brussels_df_final['city']='Brussels'\n",
    "brussels_df_final.head(2)"
   ]
  },
  {
   "cell_type": "markdown",
   "id": "d2dd43bb",
   "metadata": {},
   "source": [
    "## Crete"
   ]
  },
  {
   "cell_type": "code",
   "execution_count": 40,
   "id": "81a8383c",
   "metadata": {
    "scrolled": false
   },
   "outputs": [
    {
     "name": "stdout",
     "output_type": "stream",
     "text": [
      "The 12_12_2020 dataset contains 18091 AirBnb listings; the avg price is €268.73.\n",
      "The 1_9_2021 dataset contains 18316 AirBnb listings; the avg price is €279.93.\n",
      "The 2_8_2021 dataset contains 18521 AirBnb listings; the avg price is €279.71.\n",
      "The 3_4_2021 dataset contains 18915 AirBnb listings; the avg price is €280.21.\n",
      "The 4_9_2021 dataset contains 19431 AirBnb listings; the avg price is €173.43.\n",
      "The 7_4_2021 dataset contains 19673 AirBnb listings; the avg price is €208.33.\n",
      "The 8_6_2021 dataset contains 20056 AirBnb listings; the avg price is €195.98.\n",
      "The 9_7_2021 dataset contains 20301 AirBnb listings; the avg price is €165.7.\n",
      "The 10_6_2021 dataset contains 20180 AirBnb listings; the avg price is €225.38.\n"
     ]
    }
   ],
   "source": [
    "crete_raw_df_12_12_2020 = pd.read_csv('/Users/brendan/Desktop/Python/Hustle Projects/Airbnb/data4/raw-data/crete/crete_2020-12.csv')\n",
    "crete_raw_df_12_12_2020['Month']='12/12/2020' \n",
    "print(f\"The 12_12_2020 dataset contains {len(crete_raw_df_12_12_2020)} AirBnb listings; the avg price is €{round(crete_raw_df_12_12_2020['price'].mean(),2)}.\")\n",
    "\n",
    "crete_raw_df_1_9_2021 = pd.read_csv('/Users/brendan/Desktop/Python/Hustle Projects/Airbnb/data4/raw-data/crete/crete_2021-01.csv')\n",
    "crete_raw_df_1_9_2021['Month']='1/9/2021' \n",
    "print(f\"The 1_9_2021 dataset contains {len(crete_raw_df_1_9_2021)} AirBnb listings; the avg price is €{round(crete_raw_df_1_9_2021['price'].mean(),2)}.\")\n",
    "\n",
    "crete_raw_df_2_8_2021 = pd.read_csv('/Users/brendan/Desktop/Python/Hustle Projects/Airbnb/data4/raw-data/crete/crete_2021-02.csv')\n",
    "crete_raw_df_2_8_2021['Month']='2/8/2021'\n",
    "print(f\"The 2_8_2021 dataset contains {len(crete_raw_df_2_8_2021)} AirBnb listings; the avg price is €{round(crete_raw_df_2_8_2021['price'].mean(),2)}.\")\n",
    "\n",
    "crete_raw_df_3_4_2021 = pd.read_csv('/Users/brendan/Desktop/Python/Hustle Projects/Airbnb/data4/raw-data/crete/crete_2021-03.csv')\n",
    "crete_raw_df_3_4_2021['Month']='3/4/2021' \n",
    "print(f\"The 3_4_2021 dataset contains {len(crete_raw_df_3_4_2021)} AirBnb listings; the avg price is €{round(crete_raw_df_3_4_2021['price'].mean(),2)}.\")\n",
    "\n",
    "crete_raw_df_4_9_2021 = pd.read_csv('/Users/brendan/Desktop/Python/Hustle Projects/Airbnb/data4/raw-data/crete/crete_2021-04.csv')\n",
    "crete_raw_df_4_9_2021['Month']='4/9/2021'\n",
    "print(f\"The 4_9_2021 dataset contains {len(crete_raw_df_4_9_2021)} AirBnb listings; the avg price is €{round(crete_raw_df_4_9_2021['price'].mean(),2)}.\")\n",
    "\n",
    "#crete_raw_df_5_19_2021 = pd.read_csv('/Users/brendan/Desktop/Python/Hustle Projects/Airbnb/data4/raw-data/crete/crete_2021-05.csv')\n",
    "#print(f\"The 5_19_2021 dataset contains {len(crete_raw_df_5_19_2021)} AirBnb listings; the avg price is €{round(crete_raw_df_5_19_2021['price'].mean(),2)}.\")\n",
    "\n",
    "#crete_raw_df_6_3_2021 = pd.read_csv('/Users/brendan/Desktop/Python/Hustle Projects/Airbnb/data4/raw-data/crete/crete_2021-06.csv')\n",
    "#crete_raw_df_6_3_2021['Month']='6/3/2021'\n",
    "#print(f\"The 6_3_2021 dataset contains {len(crete_raw_df_6_3_2021)} AirBnb listings; the avg price is €{round(crete_raw_df_6_3_2021['price'].mean(),2)}.\")\n",
    "\n",
    "crete_raw_df_7_4_2021 = pd.read_csv('/Users/brendan/Desktop/Python/Hustle Projects/Airbnb/data4/raw-data/crete/crete_2021-07.csv')\n",
    "crete_raw_df_7_4_2021['Month']='7/4/2021'\n",
    "print(f\"The 7_4_2021 dataset contains {len(crete_raw_df_7_4_2021)} AirBnb listings; the avg price is €{round(crete_raw_df_7_4_2021['price'].mean(),2)}.\")\n",
    "\n",
    "crete_raw_df_8_6_2021 = pd.read_csv('/Users/brendan/Desktop/Python/Hustle Projects/Airbnb/data4/raw-data/crete/crete_2021-08.csv')\n",
    "crete_raw_df_8_6_2021['Month']='8/6/2021'\n",
    "print(f\"The 8_6_2021 dataset contains {len(crete_raw_df_8_6_2021)} AirBnb listings; the avg price is €{round(crete_raw_df_8_6_2021['price'].mean(),2)}.\")\n",
    "\n",
    "crete_raw_df_9_7_2021 = pd.read_csv('/Users/brendan/Desktop/Python/Hustle Projects/Airbnb/data4/raw-data/crete/crete_2021-09.csv')\n",
    "crete_raw_df_9_7_2021['Month']='9/7/2021'\n",
    "print(f\"The 9_7_2021 dataset contains {len(crete_raw_df_9_7_2021)} AirBnb listings; the avg price is €{round(crete_raw_df_9_7_2021['price'].mean(),2)}.\")\n",
    "\n",
    "crete_raw_df_10_6_2021 = pd.read_csv('/Users/brendan/Desktop/Python/Hustle Projects/Airbnb/data4/raw-data/crete/crete_2021-10.csv')\n",
    "crete_raw_df_10_6_2021['Month']='10/6/2021'\n",
    "print(f\"The 10_6_2021 dataset contains {len(crete_raw_df_10_6_2021)} AirBnb listings; the avg price is €{round(crete_raw_df_10_6_2021['price'].mean(),2)}.\")"
   ]
  },
  {
   "cell_type": "code",
   "execution_count": 42,
   "id": "d31cc98c",
   "metadata": {},
   "outputs": [],
   "source": [
    "crete_list_of_df = [crete_raw_df_12_12_2020, crete_raw_df_1_9_2021, crete_raw_df_2_8_2021, crete_raw_df_3_4_2021,\n",
    "                        crete_raw_df_4_9_2021, crete_raw_df_7_4_2021, crete_raw_df_8_6_2021, crete_raw_df_9_7_2021]\n"
   ]
  },
  {
   "cell_type": "code",
   "execution_count": 43,
   "id": "8ccc7f56",
   "metadata": {},
   "outputs": [
    {
     "data": {
      "text/plain": [
       "(153304, 19)"
      ]
     },
     "execution_count": 43,
     "metadata": {},
     "output_type": "execute_result"
    }
   ],
   "source": [
    "crete_df = pd.concat(crete_list_of_df)\n",
    "crete_df.shape"
   ]
  },
  {
   "cell_type": "code",
   "execution_count": 151,
   "id": "2389ffe3",
   "metadata": {},
   "outputs": [],
   "source": [
    "raw_df_crete = pd.read_csv('/Users/brendan/Desktop/Python/Hustle Projects/Airbnb/data4/raw-data/crete/crete_detailed.csv')\n"
   ]
  },
  {
   "cell_type": "code",
   "execution_count": 153,
   "id": "60d1b2d6",
   "metadata": {},
   "outputs": [],
   "source": [
    "crete_list_of_df = [crete_raw_df_12_12_2020, crete_raw_df_1_9_2021, crete_raw_df_2_8_2021, crete_raw_df_3_4_2021,\n",
    "                        crete_raw_df_4_9_2021,  crete_raw_df_7_4_2021, crete_raw_df_8_6_2021, crete_raw_df_9_7_2021]\n"
   ]
  },
  {
   "cell_type": "code",
   "execution_count": 154,
   "id": "0362c3e7",
   "metadata": {},
   "outputs": [
    {
     "data": {
      "text/plain": [
       "(153304, 19)"
      ]
     },
     "execution_count": 154,
     "metadata": {},
     "output_type": "execute_result"
    }
   ],
   "source": [
    "crete_df = pd.concat(crete_list_of_df)\n",
    "crete_df.shape"
   ]
  },
  {
   "cell_type": "code",
   "execution_count": 267,
   "id": "ead371b0",
   "metadata": {},
   "outputs": [
    {
     "data": {
      "text/html": [
       "<div><div id=4921043e-f6c3-4e19-9508-08d86dae35c9 style=\"display:none; background-color:#9D6CFF; color:white; width:200px; height:30px; padding-left:5px; border-radius:4px; flex-direction:row; justify-content:space-around; align-items:center;\" onmouseover=\"this.style.backgroundColor='#BA9BF8'\" onmouseout=\"this.style.backgroundColor='#9D6CFF'\" onclick=\"window.commands?.execute('create-mitosheet-from-dataframe-output');\">See Full Dataframe in Mito</div> <script> if (window.commands.hasCommand('create-mitosheet-from-dataframe-output')) document.getElementById('4921043e-f6c3-4e19-9508-08d86dae35c9').style.display = 'flex' </script> <table border=\"1\" class=\"dataframe\">\n",
       "  <thead>\n",
       "    <tr style=\"text-align: right;\">\n",
       "      <th></th>\n",
       "      <th>id_x</th>\n",
       "      <th>Month</th>\n",
       "      <th>property_type</th>\n",
       "      <th>room_type_x</th>\n",
       "      <th>accommodates</th>\n",
       "      <th>bedrooms</th>\n",
       "      <th>beds</th>\n",
       "      <th>price_x</th>\n",
       "      <th>availability_90</th>\n",
       "      <th>review_scores_rating</th>\n",
       "      <th>review_scores_accuracy</th>\n",
       "      <th>review_scores_cleanliness</th>\n",
       "      <th>review_scores_location</th>\n",
       "      <th>review_scores_value</th>\n",
       "      <th>city</th>\n",
       "    </tr>\n",
       "  </thead>\n",
       "  <tbody>\n",
       "    <tr>\n",
       "      <th>0</th>\n",
       "      <td>27966</td>\n",
       "      <td>12/12/2020</td>\n",
       "      <td>Entire rental unit</td>\n",
       "      <td>Entire home/apt</td>\n",
       "      <td>3.0</td>\n",
       "      <td>1.0</td>\n",
       "      <td>1.0</td>\n",
       "      <td>45</td>\n",
       "      <td>90.0</td>\n",
       "      <td>4.9</td>\n",
       "      <td>4.93</td>\n",
       "      <td>4.89</td>\n",
       "      <td>4.6</td>\n",
       "      <td>4.91</td>\n",
       "      <td>Crete</td>\n",
       "    </tr>\n",
       "    <tr>\n",
       "      <th>0</th>\n",
       "      <td>27966</td>\n",
       "      <td>1/9/2021</td>\n",
       "      <td>Entire rental unit</td>\n",
       "      <td>Entire home/apt</td>\n",
       "      <td>3.0</td>\n",
       "      <td>1.0</td>\n",
       "      <td>1.0</td>\n",
       "      <td>45</td>\n",
       "      <td>90.0</td>\n",
       "      <td>4.9</td>\n",
       "      <td>4.93</td>\n",
       "      <td>4.89</td>\n",
       "      <td>4.6</td>\n",
       "      <td>4.91</td>\n",
       "      <td>Crete</td>\n",
       "    </tr>\n",
       "  </tbody>\n",
       "</table></div>"
      ],
      "text/plain": [
       "    id_x       Month       property_type      room_type_x  accommodates  \\\n",
       "0  27966  12/12/2020  Entire rental unit  Entire home/apt           3.0   \n",
       "0  27966    1/9/2021  Entire rental unit  Entire home/apt           3.0   \n",
       "\n",
       "   bedrooms  beds  price_x  availability_90  review_scores_rating  \\\n",
       "0       1.0   1.0       45             90.0                   4.9   \n",
       "0       1.0   1.0       45             90.0                   4.9   \n",
       "\n",
       "   review_scores_accuracy  review_scores_cleanliness  review_scores_location  \\\n",
       "0                    4.93                       4.89                     4.6   \n",
       "0                    4.93                       4.89                     4.6   \n",
       "\n",
       "   review_scores_value   city  \n",
       "0                 4.91  Crete  \n",
       "0                 4.91  Crete  "
      ]
     },
     "execution_count": 267,
     "metadata": {},
     "output_type": "execute_result"
    }
   ],
   "source": [
    "df_join_crete = crete_df.join(raw_df_crete, lsuffix='_x', rsuffix='_y')\n",
    "crete_df_master = df_join_crete.copy()\n",
    "crete_df_final = crete_df_master[['id_x','Month', 'property_type', 'room_type_x', 'accommodates',\n",
    "                               'bedrooms', 'beds', 'price_x', 'availability_90','review_scores_rating',\n",
    "                               'review_scores_accuracy','review_scores_cleanliness','review_scores_location',\n",
    "                               'review_scores_value']]\n",
    "crete_df_final['city']='Crete'\n",
    "crete_df_final.head(2)"
   ]
  },
  {
   "cell_type": "markdown",
   "id": "8c58cde1",
   "metadata": {},
   "source": [
    "## Florence"
   ]
  },
  {
   "cell_type": "code",
   "execution_count": 47,
   "id": "a5d41870",
   "metadata": {
    "scrolled": false
   },
   "outputs": [
    {
     "name": "stdout",
     "output_type": "stream",
     "text": [
      "The 12_12_2020 dataset contains 11632 AirBnb listings; the avg price is €112.77.\n",
      "The 1_9_2021 dataset contains 11527 AirBnb listings; the avg price is €103.19.\n",
      "The 2_8_2021 dataset contains 11436 AirBnb listings; the avg price is €103.06.\n",
      "The 3_4_2021 dataset contains 11322 AirBnb listings; the avg price is €105.43.\n",
      "The 4_9_2021 dataset contains 11311 AirBnb listings; the avg price is €110.93.\n",
      "The 6_3_2021 dataset contains 11209 AirBnb listings; the avg price is €121.39.\n",
      "The 7_4_2021 dataset contains 11364 AirBnb listings; the avg price is €123.61.\n",
      "The 8_6_2021 dataset contains 11035 AirBnb listings; the avg price is €125.61.\n",
      "The 9_7_2021 dataset contains 10793 AirBnb listings; the avg price is €122.85.\n",
      "The 10_6_2021 dataset contains 10548 AirBnb listings; the avg price is €123.17.\n"
     ]
    }
   ],
   "source": [
    "florence_raw_df_12_12_2020 = pd.read_csv('/Users/brendan/Desktop/Python/Hustle Projects/Airbnb/data4/raw-data/florence/florence_2020-12.csv')\n",
    "florence_raw_df_12_12_2020['Month']='12/12/2020' \n",
    "print(f\"The 12_12_2020 dataset contains {len(florence_raw_df_12_12_2020)} AirBnb listings; the avg price is €{round(florence_raw_df_12_12_2020['price'].mean(),2)}.\")\n",
    "\n",
    "florence_raw_df_1_9_2021 = pd.read_csv('/Users/brendan/Desktop/Python/Hustle Projects/Airbnb/data4/raw-data/florence/florence_2021-01.csv')\n",
    "florence_raw_df_1_9_2021['Month']='1/9/2021' \n",
    "print(f\"The 1_9_2021 dataset contains {len(florence_raw_df_1_9_2021)} AirBnb listings; the avg price is €{round(florence_raw_df_1_9_2021['price'].mean(),2)}.\")\n",
    "\n",
    "florence_raw_df_2_8_2021 = pd.read_csv('/Users/brendan/Desktop/Python/Hustle Projects/Airbnb/data4/raw-data/florence/florence_2021-02.csv')\n",
    "florence_raw_df_2_8_2021['Month']='2/8/2021'\n",
    "print(f\"The 2_8_2021 dataset contains {len(florence_raw_df_2_8_2021)} AirBnb listings; the avg price is €{round(florence_raw_df_2_8_2021['price'].mean(),2)}.\")\n",
    "\n",
    "florence_raw_df_3_4_2021 = pd.read_csv('/Users/brendan/Desktop/Python/Hustle Projects/Airbnb/data4/raw-data/florence/florence_2021-03.csv')\n",
    "florence_raw_df_3_4_2021['Month']='3/4/2021' \n",
    "print(f\"The 3_4_2021 dataset contains {len(florence_raw_df_3_4_2021)} AirBnb listings; the avg price is €{round(florence_raw_df_3_4_2021['price'].mean(),2)}.\")\n",
    "\n",
    "florence_raw_df_4_9_2021 = pd.read_csv('/Users/brendan/Desktop/Python/Hustle Projects/Airbnb/data4/raw-data/florence/florence_2021-04.csv')\n",
    "florence_raw_df_4_9_2021['Month']='4/9/2021'\n",
    "print(f\"The 4_9_2021 dataset contains {len(florence_raw_df_4_9_2021)} AirBnb listings; the avg price is €{round(florence_raw_df_4_9_2021['price'].mean(),2)}.\")\n",
    "\n",
    "#florence_raw_df_5_19_2021 = pd.read_csv('/Users/brendan/Desktop/Python/Hustle Projects/Airbnb/data4/raw-data/florence/florence_2021-05.csv')\n",
    "#print(f\"The 5_19_2021 dataset contains {len(florence_raw_df_5_19_2021)} AirBnb listings; the avg price is €{round(florence_raw_df_5_19_2021['price'].mean(),2)}.\")\n",
    "\n",
    "florence_raw_df_6_3_2021 = pd.read_csv('/Users/brendan/Desktop/Python/Hustle Projects/Airbnb/data4/raw-data/florence/florence_2021-06.csv')\n",
    "florence_raw_df_6_3_2021['Month']='6/3/2021'\n",
    "print(f\"The 6_3_2021 dataset contains {len(florence_raw_df_6_3_2021)} AirBnb listings; the avg price is €{round(florence_raw_df_6_3_2021['price'].mean(),2)}.\")\n",
    "\n",
    "florence_raw_df_7_4_2021 = pd.read_csv('/Users/brendan/Desktop/Python/Hustle Projects/Airbnb/data4/raw-data/florence/florence_2021-07.csv')\n",
    "florence_raw_df_7_4_2021['Month']='7/4/2021'\n",
    "print(f\"The 7_4_2021 dataset contains {len(florence_raw_df_7_4_2021)} AirBnb listings; the avg price is €{round(florence_raw_df_7_4_2021['price'].mean(),2)}.\")\n",
    "\n",
    "florence_raw_df_8_6_2021 = pd.read_csv('/Users/brendan/Desktop/Python/Hustle Projects/Airbnb/data4/raw-data/florence/florence_2021-08.csv')\n",
    "florence_raw_df_8_6_2021['Month']='8/6/2021'\n",
    "print(f\"The 8_6_2021 dataset contains {len(florence_raw_df_8_6_2021)} AirBnb listings; the avg price is €{round(florence_raw_df_8_6_2021['price'].mean(),2)}.\")\n",
    "\n",
    "florence_raw_df_9_7_2021 = pd.read_csv('/Users/brendan/Desktop/Python/Hustle Projects/Airbnb/data4/raw-data/florence/florence_2021-09.csv')\n",
    "florence_raw_df_9_7_2021['Month']='9/7/2021'\n",
    "print(f\"The 9_7_2021 dataset contains {len(florence_raw_df_9_7_2021)} AirBnb listings; the avg price is €{round(florence_raw_df_9_7_2021['price'].mean(),2)}.\")\n",
    "\n",
    "florence_raw_df_10_6_2021 = pd.read_csv('/Users/brendan/Desktop/Python/Hustle Projects/Airbnb/data4/raw-data/florence/florence_2021-10.csv')\n",
    "florence_raw_df_10_6_2021['Month']='10/6/2021'\n",
    "print(f\"The 10_6_2021 dataset contains {len(florence_raw_df_10_6_2021)} AirBnb listings; the avg price is €{round(florence_raw_df_10_6_2021['price'].mean(),2)}.\")"
   ]
  },
  {
   "cell_type": "code",
   "execution_count": 50,
   "id": "4b48bcfd",
   "metadata": {},
   "outputs": [],
   "source": [
    "florence_list_of_df = [florence_raw_df_12_12_2020, florence_raw_df_1_9_2021, florence_raw_df_2_8_2021, florence_raw_df_3_4_2021,\n",
    "                        florence_raw_df_4_9_2021, florence_raw_df_6_3_2021, florence_raw_df_7_4_2021, florence_raw_df_8_6_2021, florence_raw_df_9_7_2021]\n"
   ]
  },
  {
   "cell_type": "code",
   "execution_count": 51,
   "id": "8bbded4d",
   "metadata": {},
   "outputs": [
    {
     "data": {
      "text/plain": [
       "(101629, 19)"
      ]
     },
     "execution_count": 51,
     "metadata": {},
     "output_type": "execute_result"
    }
   ],
   "source": [
    "florence_df = pd.concat(florence_list_of_df)\n",
    "florence_df.shape"
   ]
  },
  {
   "cell_type": "code",
   "execution_count": 156,
   "id": "b361066b",
   "metadata": {},
   "outputs": [],
   "source": [
    "raw_df_florence = pd.read_csv('/Users/brendan/Desktop/Python/Hustle Projects/Airbnb/data4/raw-data/florence/florence_detailed.csv')\n"
   ]
  },
  {
   "cell_type": "code",
   "execution_count": 157,
   "id": "1d7390ef",
   "metadata": {},
   "outputs": [],
   "source": [
    "florence_list_of_df = [florence_raw_df_12_12_2020, florence_raw_df_1_9_2021, florence_raw_df_2_8_2021, florence_raw_df_3_4_2021,\n",
    "                        florence_raw_df_4_9_2021, florence_raw_df_6_3_2021, florence_raw_df_7_4_2021, florence_raw_df_8_6_2021, florence_raw_df_9_7_2021]\n"
   ]
  },
  {
   "cell_type": "code",
   "execution_count": 158,
   "id": "8a9676fd",
   "metadata": {},
   "outputs": [
    {
     "data": {
      "text/plain": [
       "(101629, 19)"
      ]
     },
     "execution_count": 158,
     "metadata": {},
     "output_type": "execute_result"
    }
   ],
   "source": [
    "florence_df = pd.concat(florence_list_of_df)\n",
    "florence_df.shape"
   ]
  },
  {
   "cell_type": "code",
   "execution_count": 268,
   "id": "d1be9ae9",
   "metadata": {
    "scrolled": true
   },
   "outputs": [
    {
     "data": {
      "text/html": [
       "<div><div id=c85c43fd-6da0-4710-a597-f6e6d6a475ad style=\"display:none; background-color:#9D6CFF; color:white; width:200px; height:30px; padding-left:5px; border-radius:4px; flex-direction:row; justify-content:space-around; align-items:center;\" onmouseover=\"this.style.backgroundColor='#BA9BF8'\" onmouseout=\"this.style.backgroundColor='#9D6CFF'\" onclick=\"window.commands?.execute('create-mitosheet-from-dataframe-output');\">See Full Dataframe in Mito</div> <script> if (window.commands.hasCommand('create-mitosheet-from-dataframe-output')) document.getElementById('c85c43fd-6da0-4710-a597-f6e6d6a475ad').style.display = 'flex' </script> <table border=\"1\" class=\"dataframe\">\n",
       "  <thead>\n",
       "    <tr style=\"text-align: right;\">\n",
       "      <th></th>\n",
       "      <th>id_x</th>\n",
       "      <th>Month</th>\n",
       "      <th>property_type</th>\n",
       "      <th>room_type_x</th>\n",
       "      <th>accommodates</th>\n",
       "      <th>bedrooms</th>\n",
       "      <th>beds</th>\n",
       "      <th>price_x</th>\n",
       "      <th>availability_90</th>\n",
       "      <th>review_scores_rating</th>\n",
       "      <th>review_scores_accuracy</th>\n",
       "      <th>review_scores_cleanliness</th>\n",
       "      <th>review_scores_location</th>\n",
       "      <th>review_scores_value</th>\n",
       "      <th>city</th>\n",
       "    </tr>\n",
       "  </thead>\n",
       "  <tbody>\n",
       "    <tr>\n",
       "      <th>0</th>\n",
       "      <td>24469</td>\n",
       "      <td>12/12/2020</td>\n",
       "      <td>Entire rental unit</td>\n",
       "      <td>Entire home/apt</td>\n",
       "      <td>4.0</td>\n",
       "      <td>1.0</td>\n",
       "      <td>1.0</td>\n",
       "      <td>70</td>\n",
       "      <td>78.0</td>\n",
       "      <td>5.0</td>\n",
       "      <td>5.0</td>\n",
       "      <td>5.0</td>\n",
       "      <td>4.0</td>\n",
       "      <td>5.0</td>\n",
       "      <td>Florence</td>\n",
       "    </tr>\n",
       "    <tr>\n",
       "      <th>0</th>\n",
       "      <td>24469</td>\n",
       "      <td>1/9/2021</td>\n",
       "      <td>Entire rental unit</td>\n",
       "      <td>Entire home/apt</td>\n",
       "      <td>4.0</td>\n",
       "      <td>1.0</td>\n",
       "      <td>1.0</td>\n",
       "      <td>70</td>\n",
       "      <td>78.0</td>\n",
       "      <td>5.0</td>\n",
       "      <td>5.0</td>\n",
       "      <td>5.0</td>\n",
       "      <td>4.0</td>\n",
       "      <td>5.0</td>\n",
       "      <td>Florence</td>\n",
       "    </tr>\n",
       "  </tbody>\n",
       "</table></div>"
      ],
      "text/plain": [
       "    id_x       Month       property_type      room_type_x  accommodates  \\\n",
       "0  24469  12/12/2020  Entire rental unit  Entire home/apt           4.0   \n",
       "0  24469    1/9/2021  Entire rental unit  Entire home/apt           4.0   \n",
       "\n",
       "   bedrooms  beds  price_x  availability_90  review_scores_rating  \\\n",
       "0       1.0   1.0       70             78.0                   5.0   \n",
       "0       1.0   1.0       70             78.0                   5.0   \n",
       "\n",
       "   review_scores_accuracy  review_scores_cleanliness  review_scores_location  \\\n",
       "0                     5.0                        5.0                     4.0   \n",
       "0                     5.0                        5.0                     4.0   \n",
       "\n",
       "   review_scores_value      city  \n",
       "0                  5.0  Florence  \n",
       "0                  5.0  Florence  "
      ]
     },
     "execution_count": 268,
     "metadata": {},
     "output_type": "execute_result"
    }
   ],
   "source": [
    "df_join_florence = florence_df.join(raw_df_florence, lsuffix='_x', rsuffix='_y')\n",
    "florence_df_master = df_join_florence.copy()\n",
    "florence_df_final = florence_df_master[['id_x','Month', 'property_type', 'room_type_x', 'accommodates',\n",
    "                               'bedrooms', 'beds', 'price_x', 'availability_90','review_scores_rating',\n",
    "                               'review_scores_accuracy','review_scores_cleanliness','review_scores_location',\n",
    "                               'review_scores_value']]\n",
    "florence_df_final['city']='Florence'\n",
    "florence_df_final.head(2)"
   ]
  },
  {
   "cell_type": "markdown",
   "id": "45d71ced",
   "metadata": {},
   "source": [
    "## Lisbon"
   ]
  },
  {
   "cell_type": "code",
   "execution_count": 52,
   "id": "2bd447df",
   "metadata": {
    "scrolled": true
   },
   "outputs": [
    {
     "name": "stdout",
     "output_type": "stream",
     "text": [
      "The 12_12_2020 dataset contains 20141 AirBnb listings; the avg price is €103.15.\n",
      "The 1_9_2021 dataset contains 20057 AirBnb listings; the avg price is €96.05.\n",
      "The 2_8_2021 dataset contains 19877 AirBnb listings; the avg price is €95.25.\n",
      "The 3_4_2021 dataset contains 19804 AirBnb listings; the avg price is €95.45.\n",
      "The 4_9_2021 dataset contains 19819 AirBnb listings; the avg price is €97.42.\n",
      "The 6_3_2021 dataset contains 19281 AirBnb listings; the avg price is €106.87.\n",
      "The 7_4_2021 dataset contains 19458 AirBnb listings; the avg price is €108.3.\n",
      "The 8_6_2021 dataset contains 19339 AirBnb listings; the avg price is €110.56.\n",
      "The 9_7_2021 dataset contains 19106 AirBnb listings; the avg price is €106.12.\n",
      "The 10_6_2021 dataset contains 18761 AirBnb listings; the avg price is €104.58.\n"
     ]
    }
   ],
   "source": [
    "lisbon_raw_df_12_12_2020 = pd.read_csv('/Users/brendan/Desktop/Python/Hustle Projects/Airbnb/data4/raw-data/lisbon/lisbon_2020-12.csv')\n",
    "lisbon_raw_df_12_12_2020['Month']='12/12/2020' \n",
    "print(f\"The 12_12_2020 dataset contains {len(lisbon_raw_df_12_12_2020)} AirBnb listings; the avg price is €{round(lisbon_raw_df_12_12_2020['price'].mean(),2)}.\")\n",
    "\n",
    "lisbon_raw_df_1_9_2021 = pd.read_csv('/Users/brendan/Desktop/Python/Hustle Projects/Airbnb/data4/raw-data/lisbon/lisbon_2021-01.csv')\n",
    "lisbon_raw_df_1_9_2021['Month']='1/9/2021' \n",
    "print(f\"The 1_9_2021 dataset contains {len(lisbon_raw_df_1_9_2021)} AirBnb listings; the avg price is €{round(lisbon_raw_df_1_9_2021['price'].mean(),2)}.\")\n",
    "\n",
    "lisbon_raw_df_2_8_2021 = pd.read_csv('/Users/brendan/Desktop/Python/Hustle Projects/Airbnb/data4/raw-data/lisbon/lisbon_2021-02.csv')\n",
    "lisbon_raw_df_2_8_2021['Month']='2/8/2021'\n",
    "print(f\"The 2_8_2021 dataset contains {len(lisbon_raw_df_2_8_2021)} AirBnb listings; the avg price is €{round(lisbon_raw_df_2_8_2021['price'].mean(),2)}.\")\n",
    "\n",
    "lisbon_raw_df_3_4_2021 = pd.read_csv('/Users/brendan/Desktop/Python/Hustle Projects/Airbnb/data4/raw-data/lisbon/lisbon_2021-03.csv')\n",
    "lisbon_raw_df_3_4_2021['Month']='3/4/2021' \n",
    "print(f\"The 3_4_2021 dataset contains {len(lisbon_raw_df_3_4_2021)} AirBnb listings; the avg price is €{round(lisbon_raw_df_3_4_2021['price'].mean(),2)}.\")\n",
    "\n",
    "lisbon_raw_df_4_9_2021 = pd.read_csv('/Users/brendan/Desktop/Python/Hustle Projects/Airbnb/data4/raw-data/lisbon/lisbon_2021-04.csv')\n",
    "lisbon_raw_df_4_9_2021['Month']='4/9/2021'\n",
    "print(f\"The 4_9_2021 dataset contains {len(lisbon_raw_df_4_9_2021)} AirBnb listings; the avg price is €{round(lisbon_raw_df_4_9_2021['price'].mean(),2)}.\")\n",
    "\n",
    "#lisbon_raw_df_5_19_2021 = pd.read_csv('/Users/brendan/Desktop/Python/Hustle Projects/Airbnb/data4/raw-data/lisbon/lisbon_2021-05.csv')\n",
    "#print(f\"The 5_19_2021 dataset contains {len(lisbon_raw_df_5_19_2021)} AirBnb listings; the avg price is €{round(lisbon_raw_df_5_19_2021['price'].mean(),2)}.\")\n",
    "\n",
    "lisbon_raw_df_6_3_2021 = pd.read_csv('/Users/brendan/Desktop/Python/Hustle Projects/Airbnb/data4/raw-data/lisbon/lisbon_2021-06.csv')\n",
    "lisbon_raw_df_6_3_2021['Month']='6/3/2021'\n",
    "print(f\"The 6_3_2021 dataset contains {len(lisbon_raw_df_6_3_2021)} AirBnb listings; the avg price is €{round(lisbon_raw_df_6_3_2021['price'].mean(),2)}.\")\n",
    "\n",
    "lisbon_raw_df_7_4_2021 = pd.read_csv('/Users/brendan/Desktop/Python/Hustle Projects/Airbnb/data4/raw-data/lisbon/lisbon_2021-07.csv')\n",
    "lisbon_raw_df_7_4_2021['Month']='7/4/2021'\n",
    "print(f\"The 7_4_2021 dataset contains {len(lisbon_raw_df_7_4_2021)} AirBnb listings; the avg price is €{round(lisbon_raw_df_7_4_2021['price'].mean(),2)}.\")\n",
    "\n",
    "lisbon_raw_df_8_6_2021 = pd.read_csv('/Users/brendan/Desktop/Python/Hustle Projects/Airbnb/data4/raw-data/lisbon/lisbon_2021-08.csv')\n",
    "lisbon_raw_df_8_6_2021['Month']='8/6/2021'\n",
    "print(f\"The 8_6_2021 dataset contains {len(lisbon_raw_df_8_6_2021)} AirBnb listings; the avg price is €{round(lisbon_raw_df_8_6_2021['price'].mean(),2)}.\")\n",
    "\n",
    "lisbon_raw_df_9_7_2021 = pd.read_csv('/Users/brendan/Desktop/Python/Hustle Projects/Airbnb/data4/raw-data/lisbon/lisbon_2021-09.csv')\n",
    "lisbon_raw_df_9_7_2021['Month']='9/7/2021'\n",
    "print(f\"The 9_7_2021 dataset contains {len(lisbon_raw_df_9_7_2021)} AirBnb listings; the avg price is €{round(lisbon_raw_df_9_7_2021['price'].mean(),2)}.\")\n",
    "\n",
    "lisbon_raw_df_10_6_2021 = pd.read_csv('/Users/brendan/Desktop/Python/Hustle Projects/Airbnb/data4/raw-data/lisbon/lisbon_2021-10.csv')\n",
    "lisbon_raw_df_10_6_2021['Month']='10/6/2021'\n",
    "print(f\"The 10_6_2021 dataset contains {len(lisbon_raw_df_10_6_2021)} AirBnb listings; the avg price is €{round(lisbon_raw_df_10_6_2021['price'].mean(),2)}.\")"
   ]
  },
  {
   "cell_type": "code",
   "execution_count": 53,
   "id": "bc66dc45",
   "metadata": {},
   "outputs": [],
   "source": [
    "lisbon_list_of_df = [lisbon_raw_df_12_12_2020, lisbon_raw_df_1_9_2021, lisbon_raw_df_2_8_2021, lisbon_raw_df_3_4_2021,\n",
    "                        lisbon_raw_df_4_9_2021, lisbon_raw_df_6_3_2021, lisbon_raw_df_7_4_2021, lisbon_raw_df_8_6_2021, lisbon_raw_df_9_7_2021]\n"
   ]
  },
  {
   "cell_type": "code",
   "execution_count": 54,
   "id": "6d7fb324",
   "metadata": {},
   "outputs": [
    {
     "data": {
      "text/plain": [
       "(176882, 19)"
      ]
     },
     "execution_count": 54,
     "metadata": {},
     "output_type": "execute_result"
    }
   ],
   "source": [
    "lisbon_df = pd.concat(lisbon_list_of_df)\n",
    "lisbon_df.shape"
   ]
  },
  {
   "cell_type": "code",
   "execution_count": 160,
   "id": "87cf43bc",
   "metadata": {},
   "outputs": [],
   "source": [
    "raw_df_lisbon = pd.read_csv('/Users/brendan/Desktop/Python/Hustle Projects/Airbnb/data4/raw-data/lisbon/lisbon_detailed.csv')\n"
   ]
  },
  {
   "cell_type": "code",
   "execution_count": 161,
   "id": "9da0a7cf",
   "metadata": {},
   "outputs": [],
   "source": [
    "lisbon_list_of_df = [lisbon_raw_df_12_12_2020, lisbon_raw_df_1_9_2021, lisbon_raw_df_2_8_2021, lisbon_raw_df_3_4_2021,\n",
    "                        lisbon_raw_df_4_9_2021, lisbon_raw_df_6_3_2021, lisbon_raw_df_7_4_2021, lisbon_raw_df_8_6_2021, lisbon_raw_df_9_7_2021]\n"
   ]
  },
  {
   "cell_type": "code",
   "execution_count": 162,
   "id": "a99ec380",
   "metadata": {},
   "outputs": [
    {
     "data": {
      "text/plain": [
       "(176882, 19)"
      ]
     },
     "execution_count": 162,
     "metadata": {},
     "output_type": "execute_result"
    }
   ],
   "source": [
    "lisbon_df = pd.concat(lisbon_list_of_df)\n",
    "lisbon_df.shape"
   ]
  },
  {
   "cell_type": "code",
   "execution_count": 269,
   "id": "3e98d98d",
   "metadata": {
    "scrolled": true
   },
   "outputs": [
    {
     "data": {
      "text/html": [
       "<div><div id=86a66e02-d237-4c55-b6fc-4d65ac42229b style=\"display:none; background-color:#9D6CFF; color:white; width:200px; height:30px; padding-left:5px; border-radius:4px; flex-direction:row; justify-content:space-around; align-items:center;\" onmouseover=\"this.style.backgroundColor='#BA9BF8'\" onmouseout=\"this.style.backgroundColor='#9D6CFF'\" onclick=\"window.commands?.execute('create-mitosheet-from-dataframe-output');\">See Full Dataframe in Mito</div> <script> if (window.commands.hasCommand('create-mitosheet-from-dataframe-output')) document.getElementById('86a66e02-d237-4c55-b6fc-4d65ac42229b').style.display = 'flex' </script> <table border=\"1\" class=\"dataframe\">\n",
       "  <thead>\n",
       "    <tr style=\"text-align: right;\">\n",
       "      <th></th>\n",
       "      <th>id_x</th>\n",
       "      <th>Month</th>\n",
       "      <th>property_type</th>\n",
       "      <th>room_type_x</th>\n",
       "      <th>accommodates</th>\n",
       "      <th>bedrooms</th>\n",
       "      <th>beds</th>\n",
       "      <th>price_x</th>\n",
       "      <th>availability_90</th>\n",
       "      <th>review_scores_rating</th>\n",
       "      <th>review_scores_accuracy</th>\n",
       "      <th>review_scores_cleanliness</th>\n",
       "      <th>review_scores_location</th>\n",
       "      <th>review_scores_value</th>\n",
       "      <th>city</th>\n",
       "    </tr>\n",
       "  </thead>\n",
       "  <tbody>\n",
       "    <tr>\n",
       "      <th>0</th>\n",
       "      <td>6499</td>\n",
       "      <td>12/12/2020</td>\n",
       "      <td>Entire rental unit</td>\n",
       "      <td>Entire home/apt</td>\n",
       "      <td>4.0</td>\n",
       "      <td>1.0</td>\n",
       "      <td>1.0</td>\n",
       "      <td>79</td>\n",
       "      <td>22.0</td>\n",
       "      <td>4.5</td>\n",
       "      <td>4.38</td>\n",
       "      <td>4.33</td>\n",
       "      <td>4.86</td>\n",
       "      <td>4.52</td>\n",
       "      <td>Lisbon</td>\n",
       "    </tr>\n",
       "    <tr>\n",
       "      <th>0</th>\n",
       "      <td>6499</td>\n",
       "      <td>1/9/2021</td>\n",
       "      <td>Entire rental unit</td>\n",
       "      <td>Entire home/apt</td>\n",
       "      <td>4.0</td>\n",
       "      <td>1.0</td>\n",
       "      <td>1.0</td>\n",
       "      <td>40</td>\n",
       "      <td>22.0</td>\n",
       "      <td>4.5</td>\n",
       "      <td>4.38</td>\n",
       "      <td>4.33</td>\n",
       "      <td>4.86</td>\n",
       "      <td>4.52</td>\n",
       "      <td>Lisbon</td>\n",
       "    </tr>\n",
       "  </tbody>\n",
       "</table></div>"
      ],
      "text/plain": [
       "   id_x       Month       property_type      room_type_x  accommodates  \\\n",
       "0  6499  12/12/2020  Entire rental unit  Entire home/apt           4.0   \n",
       "0  6499    1/9/2021  Entire rental unit  Entire home/apt           4.0   \n",
       "\n",
       "   bedrooms  beds  price_x  availability_90  review_scores_rating  \\\n",
       "0       1.0   1.0       79             22.0                   4.5   \n",
       "0       1.0   1.0       40             22.0                   4.5   \n",
       "\n",
       "   review_scores_accuracy  review_scores_cleanliness  review_scores_location  \\\n",
       "0                    4.38                       4.33                    4.86   \n",
       "0                    4.38                       4.33                    4.86   \n",
       "\n",
       "   review_scores_value    city  \n",
       "0                 4.52  Lisbon  \n",
       "0                 4.52  Lisbon  "
      ]
     },
     "execution_count": 269,
     "metadata": {},
     "output_type": "execute_result"
    }
   ],
   "source": [
    "df_join_lisbon = lisbon_df.join(raw_df_lisbon, lsuffix='_x', rsuffix='_y')\n",
    "lisbon_df_master = df_join_lisbon.copy()\n",
    "lisbon_df_final = lisbon_df_master[['id_x','Month', 'property_type', 'room_type_x', 'accommodates',\n",
    "                               'bedrooms', 'beds', 'price_x', 'availability_90','review_scores_rating',\n",
    "                               'review_scores_accuracy','review_scores_cleanliness','review_scores_location',\n",
    "                               'review_scores_value']]\n",
    "lisbon_df_final['city']='Lisbon'\n",
    "lisbon_df_final.head(2)"
   ]
  },
  {
   "cell_type": "markdown",
   "id": "72ccf2e9",
   "metadata": {},
   "source": [
    "## Madrid"
   ]
  },
  {
   "cell_type": "code",
   "execution_count": 55,
   "id": "b8d6f51d",
   "metadata": {
    "scrolled": true
   },
   "outputs": [
    {
     "name": "stdout",
     "output_type": "stream",
     "text": [
      "The 12_12_2020 dataset contains 20352 AirBnb listings; the avg price is €115.76.\n",
      "The 1_9_2021 dataset contains 20151 AirBnb listings; the avg price is €123.1.\n",
      "The 2_8_2021 dataset contains 20156 AirBnb listings; the avg price is €127.07.\n",
      "The 3_4_2021 dataset contains 20007 AirBnb listings; the avg price is €126.28.\n",
      "The 4_9_2021 dataset contains 19618 AirBnb listings; the avg price is €129.27.\n",
      "The 6_3_2021 dataset contains 19478 AirBnb listings; the avg price is €129.88.\n",
      "The 7_4_2021 dataset contains 19612 AirBnb listings; the avg price is €128.04.\n",
      "The 8_6_2021 dataset contains 19664 AirBnb listings; the avg price is €124.3.\n",
      "The 9_7_2021 dataset contains 18909 AirBnb listings; the avg price is €129.57.\n",
      "The 10_6_2021 dataset contains 17989 AirBnb listings; the avg price is €135.09.\n"
     ]
    }
   ],
   "source": [
    "madrid_raw_df_12_12_2020 = pd.read_csv('/Users/brendan/Desktop/Python/Hustle Projects/Airbnb/data4/raw-data/madrid/madrid_2020-12.csv')\n",
    "madrid_raw_df_12_12_2020['Month']='12/12/2020' \n",
    "print(f\"The 12_12_2020 dataset contains {len(madrid_raw_df_12_12_2020)} AirBnb listings; the avg price is €{round(madrid_raw_df_12_12_2020['price'].mean(),2)}.\")\n",
    "\n",
    "madrid_raw_df_1_9_2021 = pd.read_csv('/Users/brendan/Desktop/Python/Hustle Projects/Airbnb/data4/raw-data/madrid/madrid_2021-01.csv')\n",
    "madrid_raw_df_1_9_2021['Month']='1/9/2021' \n",
    "print(f\"The 1_9_2021 dataset contains {len(madrid_raw_df_1_9_2021)} AirBnb listings; the avg price is €{round(madrid_raw_df_1_9_2021['price'].mean(),2)}.\")\n",
    "\n",
    "madrid_raw_df_2_8_2021 = pd.read_csv('/Users/brendan/Desktop/Python/Hustle Projects/Airbnb/data4/raw-data/madrid/madrid_2021-02.csv')\n",
    "madrid_raw_df_2_8_2021['Month']='2/8/2021'\n",
    "print(f\"The 2_8_2021 dataset contains {len(madrid_raw_df_2_8_2021)} AirBnb listings; the avg price is €{round(madrid_raw_df_2_8_2021['price'].mean(),2)}.\")\n",
    "\n",
    "madrid_raw_df_3_4_2021 = pd.read_csv('/Users/brendan/Desktop/Python/Hustle Projects/Airbnb/data4/raw-data/madrid/madrid_2021-03.csv')\n",
    "madrid_raw_df_3_4_2021['Month']='3/4/2021' \n",
    "print(f\"The 3_4_2021 dataset contains {len(madrid_raw_df_3_4_2021)} AirBnb listings; the avg price is €{round(madrid_raw_df_3_4_2021['price'].mean(),2)}.\")\n",
    "\n",
    "madrid_raw_df_4_9_2021 = pd.read_csv('/Users/brendan/Desktop/Python/Hustle Projects/Airbnb/data4/raw-data/madrid/madrid_2021-04.csv')\n",
    "madrid_raw_df_4_9_2021['Month']='4/9/2021'\n",
    "print(f\"The 4_9_2021 dataset contains {len(madrid_raw_df_4_9_2021)} AirBnb listings; the avg price is €{round(madrid_raw_df_4_9_2021['price'].mean(),2)}.\")\n",
    "\n",
    "#madrid_raw_df_5_19_2021 = pd.read_csv('/Users/brendan/Desktop/Python/Hustle Projects/Airbnb/data4/raw-data/madrid/madrid_2021-05.csv')\n",
    "#print(f\"The 5_19_2021 dataset contains {len(madrid_raw_df_5_19_2021)} AirBnb listings; the avg price is €{round(madrid_raw_df_5_19_2021['price'].mean(),2)}.\")\n",
    "\n",
    "madrid_raw_df_6_3_2021 = pd.read_csv('/Users/brendan/Desktop/Python/Hustle Projects/Airbnb/data4/raw-data/madrid/madrid_2021-06.csv')\n",
    "madrid_raw_df_6_3_2021['Month']='6/3/2021'\n",
    "print(f\"The 6_3_2021 dataset contains {len(madrid_raw_df_6_3_2021)} AirBnb listings; the avg price is €{round(madrid_raw_df_6_3_2021['price'].mean(),2)}.\")\n",
    "\n",
    "madrid_raw_df_7_4_2021 = pd.read_csv('/Users/brendan/Desktop/Python/Hustle Projects/Airbnb/data4/raw-data/madrid/madrid_2021-07.csv')\n",
    "madrid_raw_df_7_4_2021['Month']='7/4/2021'\n",
    "print(f\"The 7_4_2021 dataset contains {len(madrid_raw_df_7_4_2021)} AirBnb listings; the avg price is €{round(madrid_raw_df_7_4_2021['price'].mean(),2)}.\")\n",
    "\n",
    "madrid_raw_df_8_6_2021 = pd.read_csv('/Users/brendan/Desktop/Python/Hustle Projects/Airbnb/data4/raw-data/madrid/madrid_2021-08.csv')\n",
    "madrid_raw_df_8_6_2021['Month']='8/6/2021'\n",
    "print(f\"The 8_6_2021 dataset contains {len(madrid_raw_df_8_6_2021)} AirBnb listings; the avg price is €{round(madrid_raw_df_8_6_2021['price'].mean(),2)}.\")\n",
    "\n",
    "madrid_raw_df_9_7_2021 = pd.read_csv('/Users/brendan/Desktop/Python/Hustle Projects/Airbnb/data4/raw-data/madrid/madrid_2021-09.csv')\n",
    "madrid_raw_df_9_7_2021['Month']='9/7/2021'\n",
    "print(f\"The 9_7_2021 dataset contains {len(madrid_raw_df_9_7_2021)} AirBnb listings; the avg price is €{round(madrid_raw_df_9_7_2021['price'].mean(),2)}.\")\n",
    "\n",
    "madrid_raw_df_10_6_2021 = pd.read_csv('/Users/brendan/Desktop/Python/Hustle Projects/Airbnb/data4/raw-data/madrid/madrid_2021-10.csv')\n",
    "madrid_raw_df_10_6_2021['Month']='10/6/2021'\n",
    "print(f\"The 10_6_2021 dataset contains {len(madrid_raw_df_10_6_2021)} AirBnb listings; the avg price is €{round(madrid_raw_df_10_6_2021['price'].mean(),2)}.\")"
   ]
  },
  {
   "cell_type": "code",
   "execution_count": 56,
   "id": "e4dd202d",
   "metadata": {},
   "outputs": [],
   "source": [
    "madrid_list_of_df = [madrid_raw_df_12_12_2020, madrid_raw_df_1_9_2021, madrid_raw_df_2_8_2021, madrid_raw_df_3_4_2021,\n",
    "                        madrid_raw_df_4_9_2021, madrid_raw_df_6_3_2021, madrid_raw_df_7_4_2021, madrid_raw_df_8_6_2021, madrid_raw_df_9_7_2021]\n"
   ]
  },
  {
   "cell_type": "code",
   "execution_count": 57,
   "id": "36947848",
   "metadata": {},
   "outputs": [
    {
     "data": {
      "text/plain": [
       "(177947, 19)"
      ]
     },
     "execution_count": 57,
     "metadata": {},
     "output_type": "execute_result"
    }
   ],
   "source": [
    "madrid_df = pd.concat(madrid_list_of_df)\n",
    "madrid_df.shape"
   ]
  },
  {
   "cell_type": "code",
   "execution_count": 164,
   "id": "9ef339bb",
   "metadata": {},
   "outputs": [],
   "source": [
    "raw_df_madrid = pd.read_csv('/Users/brendan/Desktop/Python/Hustle Projects/Airbnb/data4/raw-data/madrid/madrid_detailed.csv')\n"
   ]
  },
  {
   "cell_type": "code",
   "execution_count": 165,
   "id": "1e92c21a",
   "metadata": {},
   "outputs": [],
   "source": [
    "madrid_list_of_df = [madrid_raw_df_12_12_2020, madrid_raw_df_1_9_2021, madrid_raw_df_2_8_2021, madrid_raw_df_3_4_2021,\n",
    "                        madrid_raw_df_4_9_2021, madrid_raw_df_6_3_2021, madrid_raw_df_7_4_2021, madrid_raw_df_8_6_2021, madrid_raw_df_9_7_2021]\n"
   ]
  },
  {
   "cell_type": "code",
   "execution_count": 166,
   "id": "9659309d",
   "metadata": {},
   "outputs": [
    {
     "data": {
      "text/plain": [
       "(177947, 19)"
      ]
     },
     "execution_count": 166,
     "metadata": {},
     "output_type": "execute_result"
    }
   ],
   "source": [
    "madrid_df = pd.concat(madrid_list_of_df)\n",
    "madrid_df.shape"
   ]
  },
  {
   "cell_type": "code",
   "execution_count": 270,
   "id": "bb65f07c",
   "metadata": {
    "scrolled": true
   },
   "outputs": [
    {
     "data": {
      "text/html": [
       "<div><div id=5bc213fa-229f-412b-9524-ddcff8628d91 style=\"display:none; background-color:#9D6CFF; color:white; width:200px; height:30px; padding-left:5px; border-radius:4px; flex-direction:row; justify-content:space-around; align-items:center;\" onmouseover=\"this.style.backgroundColor='#BA9BF8'\" onmouseout=\"this.style.backgroundColor='#9D6CFF'\" onclick=\"window.commands?.execute('create-mitosheet-from-dataframe-output');\">See Full Dataframe in Mito</div> <script> if (window.commands.hasCommand('create-mitosheet-from-dataframe-output')) document.getElementById('5bc213fa-229f-412b-9524-ddcff8628d91').style.display = 'flex' </script> <table border=\"1\" class=\"dataframe\">\n",
       "  <thead>\n",
       "    <tr style=\"text-align: right;\">\n",
       "      <th></th>\n",
       "      <th>id_x</th>\n",
       "      <th>Month</th>\n",
       "      <th>property_type</th>\n",
       "      <th>room_type_x</th>\n",
       "      <th>accommodates</th>\n",
       "      <th>bedrooms</th>\n",
       "      <th>beds</th>\n",
       "      <th>price_x</th>\n",
       "      <th>availability_90</th>\n",
       "      <th>review_scores_rating</th>\n",
       "      <th>review_scores_accuracy</th>\n",
       "      <th>review_scores_cleanliness</th>\n",
       "      <th>review_scores_location</th>\n",
       "      <th>review_scores_value</th>\n",
       "      <th>city</th>\n",
       "    </tr>\n",
       "  </thead>\n",
       "  <tbody>\n",
       "    <tr>\n",
       "      <th>0</th>\n",
       "      <td>6369</td>\n",
       "      <td>12/12/2020</td>\n",
       "      <td>Private room in rental unit</td>\n",
       "      <td>Private room</td>\n",
       "      <td>2.0</td>\n",
       "      <td>1.0</td>\n",
       "      <td>1.0</td>\n",
       "      <td>60</td>\n",
       "      <td>65.0</td>\n",
       "      <td>4.87</td>\n",
       "      <td>4.91</td>\n",
       "      <td>4.81</td>\n",
       "      <td>4.77</td>\n",
       "      <td>4.85</td>\n",
       "      <td>Madrid</td>\n",
       "    </tr>\n",
       "    <tr>\n",
       "      <th>0</th>\n",
       "      <td>6369</td>\n",
       "      <td>1/9/2021</td>\n",
       "      <td>Private room in rental unit</td>\n",
       "      <td>Private room</td>\n",
       "      <td>2.0</td>\n",
       "      <td>1.0</td>\n",
       "      <td>1.0</td>\n",
       "      <td>60</td>\n",
       "      <td>65.0</td>\n",
       "      <td>4.87</td>\n",
       "      <td>4.91</td>\n",
       "      <td>4.81</td>\n",
       "      <td>4.77</td>\n",
       "      <td>4.85</td>\n",
       "      <td>Madrid</td>\n",
       "    </tr>\n",
       "  </tbody>\n",
       "</table></div>"
      ],
      "text/plain": [
       "   id_x       Month                property_type   room_type_x  accommodates  \\\n",
       "0  6369  12/12/2020  Private room in rental unit  Private room           2.0   \n",
       "0  6369    1/9/2021  Private room in rental unit  Private room           2.0   \n",
       "\n",
       "   bedrooms  beds  price_x  availability_90  review_scores_rating  \\\n",
       "0       1.0   1.0       60             65.0                  4.87   \n",
       "0       1.0   1.0       60             65.0                  4.87   \n",
       "\n",
       "   review_scores_accuracy  review_scores_cleanliness  review_scores_location  \\\n",
       "0                    4.91                       4.81                    4.77   \n",
       "0                    4.91                       4.81                    4.77   \n",
       "\n",
       "   review_scores_value    city  \n",
       "0                 4.85  Madrid  \n",
       "0                 4.85  Madrid  "
      ]
     },
     "execution_count": 270,
     "metadata": {},
     "output_type": "execute_result"
    }
   ],
   "source": [
    "df_join_madrid = madrid_df.join(raw_df_madrid, lsuffix='_x', rsuffix='_y')\n",
    "madrid_df_master = df_join_madrid.copy()\n",
    "madrid_df_final = madrid_df_master[['id_x','Month', 'property_type', 'room_type_x', 'accommodates',\n",
    "                               'bedrooms', 'beds', 'price_x', 'availability_90','review_scores_rating',\n",
    "                               'review_scores_accuracy','review_scores_cleanliness','review_scores_location',\n",
    "                               'review_scores_value']]\n",
    "madrid_df_final['city']='Madrid'\n",
    "madrid_df_final.head(2)"
   ]
  },
  {
   "cell_type": "markdown",
   "id": "ef205967",
   "metadata": {},
   "source": [
    "## Lyon"
   ]
  },
  {
   "cell_type": "code",
   "execution_count": 58,
   "id": "90a99b1f",
   "metadata": {
    "scrolled": false
   },
   "outputs": [
    {
     "name": "stdout",
     "output_type": "stream",
     "text": [
      "The 12_12_2020 dataset contains 11496 AirBnb listings; the avg price is €92.6.\n",
      "The 1_9_2021 dataset contains 11404 AirBnb listings; the avg price is €92.25.\n",
      "The 2_8_2021 dataset contains 11376 AirBnb listings; the avg price is €91.55.\n",
      "The 3_4_2021 dataset contains 11199 AirBnb listings; the avg price is €92.14.\n",
      "The 4_9_2021 dataset contains 11195 AirBnb listings; the avg price is €92.81.\n",
      "The 6_3_2021 dataset contains 10985 AirBnb listings; the avg price is €94.23.\n",
      "The 7_4_2021 dataset contains 10921 AirBnb listings; the avg price is €95.03.\n",
      "The 8_6_2021 dataset contains 10880 AirBnb listings; the avg price is €94.01.\n",
      "The 9_7_2021 dataset contains 10420 AirBnb listings; the avg price is €95.03.\n",
      "The 10_6_2021 dataset contains 8304 AirBnb listings; the avg price is €91.59.\n"
     ]
    }
   ],
   "source": [
    "lyon_raw_df_12_12_2020 = pd.read_csv('/Users/brendan/Desktop/Python/Hustle Projects/Airbnb/data4/raw-data/lyon/lyon_2020-12.csv')\n",
    "lyon_raw_df_12_12_2020['Month']='12/12/2020' \n",
    "print(f\"The 12_12_2020 dataset contains {len(lyon_raw_df_12_12_2020)} AirBnb listings; the avg price is €{round(lyon_raw_df_12_12_2020['price'].mean(),2)}.\")\n",
    "\n",
    "lyon_raw_df_1_9_2021 = pd.read_csv('/Users/brendan/Desktop/Python/Hustle Projects/Airbnb/data4/raw-data/lyon/lyon_2021-01.csv')\n",
    "lyon_raw_df_1_9_2021['Month']='1/9/2021' \n",
    "print(f\"The 1_9_2021 dataset contains {len(lyon_raw_df_1_9_2021)} AirBnb listings; the avg price is €{round(lyon_raw_df_1_9_2021['price'].mean(),2)}.\")\n",
    "\n",
    "lyon_raw_df_2_8_2021 = pd.read_csv('/Users/brendan/Desktop/Python/Hustle Projects/Airbnb/data4/raw-data/lyon/lyon_2021-02.csv')\n",
    "lyon_raw_df_2_8_2021['Month']='2/8/2021'\n",
    "print(f\"The 2_8_2021 dataset contains {len(lyon_raw_df_2_8_2021)} AirBnb listings; the avg price is €{round(lyon_raw_df_2_8_2021['price'].mean(),2)}.\")\n",
    "\n",
    "lyon_raw_df_3_4_2021 = pd.read_csv('/Users/brendan/Desktop/Python/Hustle Projects/Airbnb/data4/raw-data/lyon/lyon_2021-03.csv')\n",
    "lyon_raw_df_3_4_2021['Month']='3/4/2021' \n",
    "print(f\"The 3_4_2021 dataset contains {len(lyon_raw_df_3_4_2021)} AirBnb listings; the avg price is €{round(lyon_raw_df_3_4_2021['price'].mean(),2)}.\")\n",
    "\n",
    "lyon_raw_df_4_9_2021 = pd.read_csv('/Users/brendan/Desktop/Python/Hustle Projects/Airbnb/data4/raw-data/lyon/lyon_2021-04.csv')\n",
    "lyon_raw_df_4_9_2021['Month']='4/9/2021'\n",
    "print(f\"The 4_9_2021 dataset contains {len(lyon_raw_df_4_9_2021)} AirBnb listings; the avg price is €{round(lyon_raw_df_4_9_2021['price'].mean(),2)}.\")\n",
    "\n",
    "#lyon_raw_df_5_19_2021 = pd.read_csv('/Users/brendan/Desktop/Python/Hustle Projects/Airbnb/data4/raw-data/lyon/lyon_2021-05.csv')\n",
    "#print(f\"The 5_19_2021 dataset contains {len(lyon_raw_df_5_19_2021)} AirBnb listings; the avg price is €{round(lyon_raw_df_5_19_2021['price'].mean(),2)}.\")\n",
    "\n",
    "lyon_raw_df_6_3_2021 = pd.read_csv('/Users/brendan/Desktop/Python/Hustle Projects/Airbnb/data4/raw-data/lyon/lyon_2021-06.csv')\n",
    "lyon_raw_df_6_3_2021['Month']='6/3/2021'\n",
    "print(f\"The 6_3_2021 dataset contains {len(lyon_raw_df_6_3_2021)} AirBnb listings; the avg price is €{round(lyon_raw_df_6_3_2021['price'].mean(),2)}.\")\n",
    "\n",
    "lyon_raw_df_7_4_2021 = pd.read_csv('/Users/brendan/Desktop/Python/Hustle Projects/Airbnb/data4/raw-data/lyon/lyon_2021-07.csv')\n",
    "lyon_raw_df_7_4_2021['Month']='7/4/2021'\n",
    "print(f\"The 7_4_2021 dataset contains {len(lyon_raw_df_7_4_2021)} AirBnb listings; the avg price is €{round(lyon_raw_df_7_4_2021['price'].mean(),2)}.\")\n",
    "\n",
    "lyon_raw_df_8_6_2021 = pd.read_csv('/Users/brendan/Desktop/Python/Hustle Projects/Airbnb/data4/raw-data/lyon/lyon_2021-08.csv')\n",
    "lyon_raw_df_8_6_2021['Month']='8/6/2021'\n",
    "print(f\"The 8_6_2021 dataset contains {len(lyon_raw_df_8_6_2021)} AirBnb listings; the avg price is €{round(lyon_raw_df_8_6_2021['price'].mean(),2)}.\")\n",
    "\n",
    "lyon_raw_df_9_7_2021 = pd.read_csv('/Users/brendan/Desktop/Python/Hustle Projects/Airbnb/data4/raw-data/lyon/lyon_2021-09.csv')\n",
    "lyon_raw_df_9_7_2021['Month']='9/7/2021'\n",
    "print(f\"The 9_7_2021 dataset contains {len(lyon_raw_df_9_7_2021)} AirBnb listings; the avg price is €{round(lyon_raw_df_9_7_2021['price'].mean(),2)}.\")\n",
    "\n",
    "lyon_raw_df_10_6_2021 = pd.read_csv('/Users/brendan/Desktop/Python/Hustle Projects/Airbnb/data4/raw-data/lyon/lyon_2021-10.csv')\n",
    "lyon_raw_df_10_6_2021['Month']='10/6/2021'\n",
    "print(f\"The 10_6_2021 dataset contains {len(lyon_raw_df_10_6_2021)} AirBnb listings; the avg price is €{round(lyon_raw_df_10_6_2021['price'].mean(),2)}.\")"
   ]
  },
  {
   "cell_type": "code",
   "execution_count": 59,
   "id": "b3b2504e",
   "metadata": {},
   "outputs": [],
   "source": [
    "lyon_list_of_df = [lyon_raw_df_12_12_2020, lyon_raw_df_1_9_2021, lyon_raw_df_2_8_2021, lyon_raw_df_3_4_2021,\n",
    "                        lyon_raw_df_4_9_2021, lyon_raw_df_6_3_2021, lyon_raw_df_7_4_2021, lyon_raw_df_8_6_2021, lyon_raw_df_9_7_2021]\n"
   ]
  },
  {
   "cell_type": "code",
   "execution_count": 60,
   "id": "b3cd4c72",
   "metadata": {},
   "outputs": [
    {
     "data": {
      "text/plain": [
       "(99876, 19)"
      ]
     },
     "execution_count": 60,
     "metadata": {},
     "output_type": "execute_result"
    }
   ],
   "source": [
    "lyon_df = pd.concat(lyon_list_of_df)\n",
    "lyon_df.shape"
   ]
  },
  {
   "cell_type": "code",
   "execution_count": 168,
   "id": "c87f4693",
   "metadata": {},
   "outputs": [],
   "source": [
    "raw_df_lyon = pd.read_csv('/Users/brendan/Desktop/Python/Hustle Projects/Airbnb/data4/raw-data/lyon/lyon_detailed.csv')\n"
   ]
  },
  {
   "cell_type": "code",
   "execution_count": 169,
   "id": "bebb7422",
   "metadata": {},
   "outputs": [],
   "source": [
    "lyon_list_of_df = [lyon_raw_df_12_12_2020, lyon_raw_df_1_9_2021, lyon_raw_df_2_8_2021, lyon_raw_df_3_4_2021,\n",
    "                        lyon_raw_df_4_9_2021, lyon_raw_df_6_3_2021, lyon_raw_df_7_4_2021, lyon_raw_df_8_6_2021, lyon_raw_df_9_7_2021]\n"
   ]
  },
  {
   "cell_type": "code",
   "execution_count": 170,
   "id": "e31ec3ca",
   "metadata": {},
   "outputs": [
    {
     "data": {
      "text/plain": [
       "(99876, 19)"
      ]
     },
     "execution_count": 170,
     "metadata": {},
     "output_type": "execute_result"
    }
   ],
   "source": [
    "lyon_df = pd.concat(lyon_list_of_df)\n",
    "lyon_df.shape"
   ]
  },
  {
   "cell_type": "code",
   "execution_count": 271,
   "id": "6fb4cfa7",
   "metadata": {
    "scrolled": false
   },
   "outputs": [
    {
     "data": {
      "text/html": [
       "<div><div id=4904211c-6b08-4069-8ddf-1ab5b6f9cdc3 style=\"display:none; background-color:#9D6CFF; color:white; width:200px; height:30px; padding-left:5px; border-radius:4px; flex-direction:row; justify-content:space-around; align-items:center;\" onmouseover=\"this.style.backgroundColor='#BA9BF8'\" onmouseout=\"this.style.backgroundColor='#9D6CFF'\" onclick=\"window.commands?.execute('create-mitosheet-from-dataframe-output');\">See Full Dataframe in Mito</div> <script> if (window.commands.hasCommand('create-mitosheet-from-dataframe-output')) document.getElementById('4904211c-6b08-4069-8ddf-1ab5b6f9cdc3').style.display = 'flex' </script> <table border=\"1\" class=\"dataframe\">\n",
       "  <thead>\n",
       "    <tr style=\"text-align: right;\">\n",
       "      <th></th>\n",
       "      <th>id_x</th>\n",
       "      <th>Month</th>\n",
       "      <th>property_type</th>\n",
       "      <th>room_type_x</th>\n",
       "      <th>accommodates</th>\n",
       "      <th>bedrooms</th>\n",
       "      <th>beds</th>\n",
       "      <th>price_x</th>\n",
       "      <th>availability_90</th>\n",
       "      <th>review_scores_rating</th>\n",
       "      <th>review_scores_accuracy</th>\n",
       "      <th>review_scores_cleanliness</th>\n",
       "      <th>review_scores_location</th>\n",
       "      <th>review_scores_value</th>\n",
       "      <th>city</th>\n",
       "    </tr>\n",
       "  </thead>\n",
       "  <tbody>\n",
       "    <tr>\n",
       "      <th>0</th>\n",
       "      <td>56766</td>\n",
       "      <td>12/12/2020</td>\n",
       "      <td>Entire rental unit</td>\n",
       "      <td>Entire home/apt</td>\n",
       "      <td>6.0</td>\n",
       "      <td>3.0</td>\n",
       "      <td>4.0</td>\n",
       "      <td>250</td>\n",
       "      <td>36.0</td>\n",
       "      <td>4.69</td>\n",
       "      <td>4.72</td>\n",
       "      <td>4.7</td>\n",
       "      <td>4.86</td>\n",
       "      <td>4.59</td>\n",
       "      <td>Lyon</td>\n",
       "    </tr>\n",
       "    <tr>\n",
       "      <th>0</th>\n",
       "      <td>56766</td>\n",
       "      <td>1/9/2021</td>\n",
       "      <td>Entire rental unit</td>\n",
       "      <td>Entire home/apt</td>\n",
       "      <td>6.0</td>\n",
       "      <td>3.0</td>\n",
       "      <td>4.0</td>\n",
       "      <td>250</td>\n",
       "      <td>36.0</td>\n",
       "      <td>4.69</td>\n",
       "      <td>4.72</td>\n",
       "      <td>4.7</td>\n",
       "      <td>4.86</td>\n",
       "      <td>4.59</td>\n",
       "      <td>Lyon</td>\n",
       "    </tr>\n",
       "  </tbody>\n",
       "</table></div>"
      ],
      "text/plain": [
       "    id_x       Month       property_type      room_type_x  accommodates  \\\n",
       "0  56766  12/12/2020  Entire rental unit  Entire home/apt           6.0   \n",
       "0  56766    1/9/2021  Entire rental unit  Entire home/apt           6.0   \n",
       "\n",
       "   bedrooms  beds  price_x  availability_90  review_scores_rating  \\\n",
       "0       3.0   4.0      250             36.0                  4.69   \n",
       "0       3.0   4.0      250             36.0                  4.69   \n",
       "\n",
       "   review_scores_accuracy  review_scores_cleanliness  review_scores_location  \\\n",
       "0                    4.72                        4.7                    4.86   \n",
       "0                    4.72                        4.7                    4.86   \n",
       "\n",
       "   review_scores_value  city  \n",
       "0                 4.59  Lyon  \n",
       "0                 4.59  Lyon  "
      ]
     },
     "execution_count": 271,
     "metadata": {},
     "output_type": "execute_result"
    }
   ],
   "source": [
    "df_join_lyon = lyon_df.join(raw_df_lyon, lsuffix='_x', rsuffix='_y')\n",
    "lyon_df_master = df_join_lyon.copy()\n",
    "lyon_df_final = lyon_df_master[['id_x','Month', 'property_type', 'room_type_x', 'accommodates',\n",
    "                               'bedrooms', 'beds', 'price_x', 'availability_90','review_scores_rating',\n",
    "                               'review_scores_accuracy','review_scores_cleanliness','review_scores_location',\n",
    "                               'review_scores_value']]\n",
    "lyon_df_final['city']='Lyon'\n",
    "lyon_df_final.head(2)"
   ]
  },
  {
   "cell_type": "markdown",
   "id": "8a4c69a3",
   "metadata": {},
   "source": [
    "## Milan"
   ]
  },
  {
   "cell_type": "code",
   "execution_count": 61,
   "id": "70636ee8",
   "metadata": {
    "scrolled": true
   },
   "outputs": [
    {
     "name": "stdout",
     "output_type": "stream",
     "text": [
      "The 12_12_2020 dataset contains 18659 AirBnb listings; the avg price is €112.84.\n",
      "The 1_9_2021 dataset contains 18572 AirBnb listings; the avg price is €112.05.\n",
      "The 2_8_2021 dataset contains 18367 AirBnb listings; the avg price is €115.4.\n",
      "The 3_4_2021 dataset contains 18160 AirBnb listings; the avg price is €113.68.\n",
      "The 4_9_2021 dataset contains 18582 AirBnb listings; the avg price is €116.48.\n",
      "The 6_3_2021 dataset contains 18029 AirBnb listings; the avg price is €116.37.\n",
      "The 7_4_2021 dataset contains 18322 AirBnb listings; the avg price is €115.09.\n",
      "The 8_6_2021 dataset contains 18282 AirBnb listings; the avg price is €118.93.\n",
      "The 9_7_2021 dataset contains 17705 AirBnb listings; the avg price is €124.73.\n",
      "The 10_6_2021 dataset contains 17231 AirBnb listings; the avg price is €126.6.\n"
     ]
    }
   ],
   "source": [
    "milan_raw_df_12_12_2020 = pd.read_csv('/Users/brendan/Desktop/Python/Hustle Projects/Airbnb/data4/raw-data/milan/milan_2020-12.csv')\n",
    "milan_raw_df_12_12_2020['Month']='12/12/2020' \n",
    "print(f\"The 12_12_2020 dataset contains {len(milan_raw_df_12_12_2020)} AirBnb listings; the avg price is €{round(milan_raw_df_12_12_2020['price'].mean(),2)}.\")\n",
    "\n",
    "milan_raw_df_1_9_2021 = pd.read_csv('/Users/brendan/Desktop/Python/Hustle Projects/Airbnb/data4/raw-data/milan/milan_2021-01.csv')\n",
    "milan_raw_df_1_9_2021['Month']='1/9/2021' \n",
    "print(f\"The 1_9_2021 dataset contains {len(milan_raw_df_1_9_2021)} AirBnb listings; the avg price is €{round(milan_raw_df_1_9_2021['price'].mean(),2)}.\")\n",
    "\n",
    "milan_raw_df_2_8_2021 = pd.read_csv('/Users/brendan/Desktop/Python/Hustle Projects/Airbnb/data4/raw-data/milan/milan_2021-02.csv')\n",
    "milan_raw_df_2_8_2021['Month']='2/8/2021'\n",
    "print(f\"The 2_8_2021 dataset contains {len(milan_raw_df_2_8_2021)} AirBnb listings; the avg price is €{round(milan_raw_df_2_8_2021['price'].mean(),2)}.\")\n",
    "\n",
    "milan_raw_df_3_4_2021 = pd.read_csv('/Users/brendan/Desktop/Python/Hustle Projects/Airbnb/data4/raw-data/milan/milan_2021-03.csv')\n",
    "milan_raw_df_3_4_2021['Month']='3/4/2021' \n",
    "print(f\"The 3_4_2021 dataset contains {len(milan_raw_df_3_4_2021)} AirBnb listings; the avg price is €{round(milan_raw_df_3_4_2021['price'].mean(),2)}.\")\n",
    "\n",
    "milan_raw_df_4_9_2021 = pd.read_csv('/Users/brendan/Desktop/Python/Hustle Projects/Airbnb/data4/raw-data/milan/milan_2021-04.csv')\n",
    "milan_raw_df_4_9_2021['Month']='4/9/2021'\n",
    "print(f\"The 4_9_2021 dataset contains {len(milan_raw_df_4_9_2021)} AirBnb listings; the avg price is €{round(milan_raw_df_4_9_2021['price'].mean(),2)}.\")\n",
    "\n",
    "#milan_raw_df_5_19_2021 = pd.read_csv('/Users/brendan/Desktop/Python/Hustle Projects/Airbnb/data4/raw-data/milan/milan_2021-05.csv')\n",
    "#print(f\"The 5_19_2021 dataset contains {len(milan_raw_df_5_19_2021)} AirBnb listings; the avg price is €{round(milan_raw_df_5_19_2021['price'].mean(),2)}.\")\n",
    "\n",
    "milan_raw_df_6_3_2021 = pd.read_csv('/Users/brendan/Desktop/Python/Hustle Projects/Airbnb/data4/raw-data/milan/milan_2021-06.csv')\n",
    "milan_raw_df_6_3_2021['Month']='6/3/2021'\n",
    "print(f\"The 6_3_2021 dataset contains {len(milan_raw_df_6_3_2021)} AirBnb listings; the avg price is €{round(milan_raw_df_6_3_2021['price'].mean(),2)}.\")\n",
    "\n",
    "milan_raw_df_7_4_2021 = pd.read_csv('/Users/brendan/Desktop/Python/Hustle Projects/Airbnb/data4/raw-data/milan/milan_2021-07.csv')\n",
    "milan_raw_df_7_4_2021['Month']='7/4/2021'\n",
    "print(f\"The 7_4_2021 dataset contains {len(milan_raw_df_7_4_2021)} AirBnb listings; the avg price is €{round(milan_raw_df_7_4_2021['price'].mean(),2)}.\")\n",
    "\n",
    "milan_raw_df_8_6_2021 = pd.read_csv('/Users/brendan/Desktop/Python/Hustle Projects/Airbnb/data4/raw-data/milan/milan_2021-08.csv')\n",
    "milan_raw_df_8_6_2021['Month']='8/6/2021'\n",
    "print(f\"The 8_6_2021 dataset contains {len(milan_raw_df_8_6_2021)} AirBnb listings; the avg price is €{round(milan_raw_df_8_6_2021['price'].mean(),2)}.\")\n",
    "\n",
    "milan_raw_df_9_7_2021 = pd.read_csv('/Users/brendan/Desktop/Python/Hustle Projects/Airbnb/data4/raw-data/milan/milan_2021-09.csv')\n",
    "milan_raw_df_9_7_2021['Month']='9/7/2021'\n",
    "print(f\"The 9_7_2021 dataset contains {len(milan_raw_df_9_7_2021)} AirBnb listings; the avg price is €{round(milan_raw_df_9_7_2021['price'].mean(),2)}.\")\n",
    "\n",
    "milan_raw_df_10_6_2021 = pd.read_csv('/Users/brendan/Desktop/Python/Hustle Projects/Airbnb/data4/raw-data/milan/milan_2021-10.csv')\n",
    "milan_raw_df_10_6_2021['Month']='10/6/2021'\n",
    "print(f\"The 10_6_2021 dataset contains {len(milan_raw_df_10_6_2021)} AirBnb listings; the avg price is €{round(milan_raw_df_10_6_2021['price'].mean(),2)}.\")"
   ]
  },
  {
   "cell_type": "code",
   "execution_count": 62,
   "id": "81f111fe",
   "metadata": {},
   "outputs": [],
   "source": [
    "milan_list_of_df = [milan_raw_df_12_12_2020, milan_raw_df_1_9_2021, milan_raw_df_2_8_2021, milan_raw_df_3_4_2021,\n",
    "                        milan_raw_df_4_9_2021, milan_raw_df_6_3_2021, milan_raw_df_7_4_2021, milan_raw_df_8_6_2021, milan_raw_df_9_7_2021]\n"
   ]
  },
  {
   "cell_type": "code",
   "execution_count": 63,
   "id": "791057e1",
   "metadata": {},
   "outputs": [
    {
     "data": {
      "text/plain": [
       "(164678, 19)"
      ]
     },
     "execution_count": 63,
     "metadata": {},
     "output_type": "execute_result"
    }
   ],
   "source": [
    "milan_df = pd.concat(milan_list_of_df)\n",
    "milan_df.shape"
   ]
  },
  {
   "cell_type": "code",
   "execution_count": 172,
   "id": "be509d30",
   "metadata": {},
   "outputs": [],
   "source": [
    "raw_df_milan = pd.read_csv('/Users/brendan/Desktop/Python/Hustle Projects/Airbnb/data4/raw-data/milan/milan_detailed.csv')\n"
   ]
  },
  {
   "cell_type": "code",
   "execution_count": 173,
   "id": "7b4ddd2a",
   "metadata": {},
   "outputs": [],
   "source": [
    "milan_list_of_df = [milan_raw_df_12_12_2020, milan_raw_df_1_9_2021, milan_raw_df_2_8_2021, milan_raw_df_3_4_2021,\n",
    "                        milan_raw_df_4_9_2021, milan_raw_df_6_3_2021, milan_raw_df_7_4_2021, milan_raw_df_8_6_2021, milan_raw_df_9_7_2021]\n"
   ]
  },
  {
   "cell_type": "code",
   "execution_count": 174,
   "id": "f541b459",
   "metadata": {},
   "outputs": [
    {
     "data": {
      "text/plain": [
       "(164678, 19)"
      ]
     },
     "execution_count": 174,
     "metadata": {},
     "output_type": "execute_result"
    }
   ],
   "source": [
    "milan_df = pd.concat(milan_list_of_df)\n",
    "milan_df.shape"
   ]
  },
  {
   "cell_type": "code",
   "execution_count": 272,
   "id": "b036a8b0",
   "metadata": {
    "scrolled": false
   },
   "outputs": [
    {
     "data": {
      "text/html": [
       "<div><div id=64e16ebb-6ee0-43fc-bd04-55c22eefc506 style=\"display:none; background-color:#9D6CFF; color:white; width:200px; height:30px; padding-left:5px; border-radius:4px; flex-direction:row; justify-content:space-around; align-items:center;\" onmouseover=\"this.style.backgroundColor='#BA9BF8'\" onmouseout=\"this.style.backgroundColor='#9D6CFF'\" onclick=\"window.commands?.execute('create-mitosheet-from-dataframe-output');\">See Full Dataframe in Mito</div> <script> if (window.commands.hasCommand('create-mitosheet-from-dataframe-output')) document.getElementById('64e16ebb-6ee0-43fc-bd04-55c22eefc506').style.display = 'flex' </script> <table border=\"1\" class=\"dataframe\">\n",
       "  <thead>\n",
       "    <tr style=\"text-align: right;\">\n",
       "      <th></th>\n",
       "      <th>id_x</th>\n",
       "      <th>Month</th>\n",
       "      <th>property_type</th>\n",
       "      <th>room_type_x</th>\n",
       "      <th>accommodates</th>\n",
       "      <th>bedrooms</th>\n",
       "      <th>beds</th>\n",
       "      <th>price_x</th>\n",
       "      <th>availability_90</th>\n",
       "      <th>review_scores_rating</th>\n",
       "      <th>review_scores_accuracy</th>\n",
       "      <th>review_scores_cleanliness</th>\n",
       "      <th>review_scores_location</th>\n",
       "      <th>review_scores_value</th>\n",
       "      <th>city</th>\n",
       "    </tr>\n",
       "  </thead>\n",
       "  <tbody>\n",
       "    <tr>\n",
       "      <th>0</th>\n",
       "      <td>6400</td>\n",
       "      <td>12/12/2020</td>\n",
       "      <td>Private room in rental unit</td>\n",
       "      <td>Private room</td>\n",
       "      <td>1.0</td>\n",
       "      <td>3.0</td>\n",
       "      <td>1.0</td>\n",
       "      <td>100</td>\n",
       "      <td>83.0</td>\n",
       "      <td>4.89</td>\n",
       "      <td>5.0</td>\n",
       "      <td>5.0</td>\n",
       "      <td>4.56</td>\n",
       "      <td>4.67</td>\n",
       "      <td>Milan</td>\n",
       "    </tr>\n",
       "    <tr>\n",
       "      <th>0</th>\n",
       "      <td>6400</td>\n",
       "      <td>1/9/2021</td>\n",
       "      <td>Private room in rental unit</td>\n",
       "      <td>Private room</td>\n",
       "      <td>1.0</td>\n",
       "      <td>3.0</td>\n",
       "      <td>1.0</td>\n",
       "      <td>100</td>\n",
       "      <td>83.0</td>\n",
       "      <td>4.89</td>\n",
       "      <td>5.0</td>\n",
       "      <td>5.0</td>\n",
       "      <td>4.56</td>\n",
       "      <td>4.67</td>\n",
       "      <td>Milan</td>\n",
       "    </tr>\n",
       "  </tbody>\n",
       "</table></div>"
      ],
      "text/plain": [
       "   id_x       Month                property_type   room_type_x  accommodates  \\\n",
       "0  6400  12/12/2020  Private room in rental unit  Private room           1.0   \n",
       "0  6400    1/9/2021  Private room in rental unit  Private room           1.0   \n",
       "\n",
       "   bedrooms  beds  price_x  availability_90  review_scores_rating  \\\n",
       "0       3.0   1.0      100             83.0                  4.89   \n",
       "0       3.0   1.0      100             83.0                  4.89   \n",
       "\n",
       "   review_scores_accuracy  review_scores_cleanliness  review_scores_location  \\\n",
       "0                     5.0                        5.0                    4.56   \n",
       "0                     5.0                        5.0                    4.56   \n",
       "\n",
       "   review_scores_value   city  \n",
       "0                 4.67  Milan  \n",
       "0                 4.67  Milan  "
      ]
     },
     "execution_count": 272,
     "metadata": {},
     "output_type": "execute_result"
    }
   ],
   "source": [
    "df_join_milan = milan_df.join(raw_df_milan, lsuffix='_x', rsuffix='_y')\n",
    "milan_df_master = df_join_milan.copy()\n",
    "milan_df_final = milan_df_master[['id_x','Month', 'property_type', 'room_type_x', 'accommodates',\n",
    "                               'bedrooms', 'beds', 'price_x', 'availability_90','review_scores_rating',\n",
    "                               'review_scores_accuracy','review_scores_cleanliness','review_scores_location',\n",
    "                               'review_scores_value']]\n",
    "milan_df_final['city']='Milan'\n",
    "milan_df_final.head(2)"
   ]
  },
  {
   "cell_type": "markdown",
   "id": "91d71fed",
   "metadata": {},
   "source": [
    "## Munich"
   ]
  },
  {
   "cell_type": "code",
   "execution_count": 64,
   "id": "c15a8c91",
   "metadata": {
    "scrolled": false
   },
   "outputs": [
    {
     "name": "stdout",
     "output_type": "stream",
     "text": [
      "The 12_12_2020 dataset contains 4815 AirBnb listings; the avg price is €113.06.\n",
      "The 1_9_2021 dataset contains 5106 AirBnb listings; the avg price is €112.5.\n",
      "The 2_8_2021 dataset contains 5126 AirBnb listings; the avg price is €112.06.\n",
      "The 3_4_2021 dataset contains 5073 AirBnb listings; the avg price is €113.46.\n",
      "The 4_9_2021 dataset contains 5103 AirBnb listings; the avg price is €114.77.\n",
      "The 6_3_2021 dataset contains 5039 AirBnb listings; the avg price is €118.55.\n",
      "The 7_4_2021 dataset contains 5098 AirBnb listings; the avg price is €116.98.\n",
      "The 8_6_2021 dataset contains 5115 AirBnb listings; the avg price is €118.56.\n",
      "The 9_7_2021 dataset contains 4964 AirBnb listings; the avg price is €125.17.\n",
      "The 10_6_2021 dataset contains 4914 AirBnb listings; the avg price is €120.75.\n"
     ]
    }
   ],
   "source": [
    "munich_raw_df_12_12_2020 = pd.read_csv('/Users/brendan/Desktop/Python/Hustle Projects/Airbnb/data4/raw-data/munich/munich_2020-12.csv')\n",
    "munich_raw_df_12_12_2020['Month']='12/12/2020' \n",
    "print(f\"The 12_12_2020 dataset contains {len(munich_raw_df_12_12_2020)} AirBnb listings; the avg price is €{round(munich_raw_df_12_12_2020['price'].mean(),2)}.\")\n",
    "\n",
    "munich_raw_df_1_9_2021 = pd.read_csv('/Users/brendan/Desktop/Python/Hustle Projects/Airbnb/data4/raw-data/munich/munich_2021-01.csv')\n",
    "munich_raw_df_1_9_2021['Month']='1/9/2021' \n",
    "print(f\"The 1_9_2021 dataset contains {len(munich_raw_df_1_9_2021)} AirBnb listings; the avg price is €{round(munich_raw_df_1_9_2021['price'].mean(),2)}.\")\n",
    "\n",
    "munich_raw_df_2_8_2021 = pd.read_csv('/Users/brendan/Desktop/Python/Hustle Projects/Airbnb/data4/raw-data/munich/munich_2021-02.csv')\n",
    "munich_raw_df_2_8_2021['Month']='2/8/2021'\n",
    "print(f\"The 2_8_2021 dataset contains {len(munich_raw_df_2_8_2021)} AirBnb listings; the avg price is €{round(munich_raw_df_2_8_2021['price'].mean(),2)}.\")\n",
    "\n",
    "munich_raw_df_3_4_2021 = pd.read_csv('/Users/brendan/Desktop/Python/Hustle Projects/Airbnb/data4/raw-data/munich/munich_2021-03.csv')\n",
    "munich_raw_df_3_4_2021['Month']='3/4/2021' \n",
    "print(f\"The 3_4_2021 dataset contains {len(munich_raw_df_3_4_2021)} AirBnb listings; the avg price is €{round(munich_raw_df_3_4_2021['price'].mean(),2)}.\")\n",
    "\n",
    "munich_raw_df_4_9_2021 = pd.read_csv('/Users/brendan/Desktop/Python/Hustle Projects/Airbnb/data4/raw-data/munich/munich_2021-04.csv')\n",
    "munich_raw_df_4_9_2021['Month']='4/9/2021'\n",
    "print(f\"The 4_9_2021 dataset contains {len(munich_raw_df_4_9_2021)} AirBnb listings; the avg price is €{round(munich_raw_df_4_9_2021['price'].mean(),2)}.\")\n",
    "\n",
    "#munich_raw_df_5_19_2021 = pd.read_csv('/Users/brendan/Desktop/Python/Hustle Projects/Airbnb/data4/raw-data/munich/munich_2021-05.csv')\n",
    "#print(f\"The 5_19_2021 dataset contains {len(munich_raw_df_5_19_2021)} AirBnb listings; the avg price is €{round(munich_raw_df_5_19_2021['price'].mean(),2)}.\")\n",
    "\n",
    "munich_raw_df_6_3_2021 = pd.read_csv('/Users/brendan/Desktop/Python/Hustle Projects/Airbnb/data4/raw-data/munich/munich_2021-06.csv')\n",
    "munich_raw_df_6_3_2021['Month']='6/3/2021'\n",
    "print(f\"The 6_3_2021 dataset contains {len(munich_raw_df_6_3_2021)} AirBnb listings; the avg price is €{round(munich_raw_df_6_3_2021['price'].mean(),2)}.\")\n",
    "\n",
    "munich_raw_df_7_4_2021 = pd.read_csv('/Users/brendan/Desktop/Python/Hustle Projects/Airbnb/data4/raw-data/munich/munich_2021-07.csv')\n",
    "munich_raw_df_7_4_2021['Month']='7/4/2021'\n",
    "print(f\"The 7_4_2021 dataset contains {len(munich_raw_df_7_4_2021)} AirBnb listings; the avg price is €{round(munich_raw_df_7_4_2021['price'].mean(),2)}.\")\n",
    "\n",
    "munich_raw_df_8_6_2021 = pd.read_csv('/Users/brendan/Desktop/Python/Hustle Projects/Airbnb/data4/raw-data/munich/munich_2021-08.csv')\n",
    "munich_raw_df_8_6_2021['Month']='8/6/2021'\n",
    "print(f\"The 8_6_2021 dataset contains {len(munich_raw_df_8_6_2021)} AirBnb listings; the avg price is €{round(munich_raw_df_8_6_2021['price'].mean(),2)}.\")\n",
    "\n",
    "munich_raw_df_9_7_2021 = pd.read_csv('/Users/brendan/Desktop/Python/Hustle Projects/Airbnb/data4/raw-data/munich/munich_2021-09.csv')\n",
    "munich_raw_df_9_7_2021['Month']='9/7/2021'\n",
    "print(f\"The 9_7_2021 dataset contains {len(munich_raw_df_9_7_2021)} AirBnb listings; the avg price is €{round(munich_raw_df_9_7_2021['price'].mean(),2)}.\")\n",
    "\n",
    "munich_raw_df_10_6_2021 = pd.read_csv('/Users/brendan/Desktop/Python/Hustle Projects/Airbnb/data4/raw-data/munich/munich_2021-10.csv')\n",
    "munich_raw_df_10_6_2021['Month']='10/6/2021'\n",
    "print(f\"The 10_6_2021 dataset contains {len(munich_raw_df_10_6_2021)} AirBnb listings; the avg price is €{round(munich_raw_df_10_6_2021['price'].mean(),2)}.\")"
   ]
  },
  {
   "cell_type": "code",
   "execution_count": 65,
   "id": "f8d6d3fe",
   "metadata": {},
   "outputs": [],
   "source": [
    "munich_list_of_df = [munich_raw_df_12_12_2020, munich_raw_df_1_9_2021, munich_raw_df_2_8_2021, munich_raw_df_3_4_2021,\n",
    "                        munich_raw_df_4_9_2021, munich_raw_df_6_3_2021, munich_raw_df_7_4_2021, munich_raw_df_8_6_2021, munich_raw_df_9_7_2021]\n"
   ]
  },
  {
   "cell_type": "code",
   "execution_count": 66,
   "id": "c7c46d94",
   "metadata": {},
   "outputs": [
    {
     "data": {
      "text/plain": [
       "(45439, 19)"
      ]
     },
     "execution_count": 66,
     "metadata": {},
     "output_type": "execute_result"
    }
   ],
   "source": [
    "munich_df = pd.concat(munich_list_of_df)\n",
    "munich_df.shape"
   ]
  },
  {
   "cell_type": "code",
   "execution_count": 176,
   "id": "948ff51c",
   "metadata": {},
   "outputs": [],
   "source": [
    "raw_df_munich = pd.read_csv('/Users/brendan/Desktop/Python/Hustle Projects/Airbnb/data4/raw-data/munich/munich_detailed.csv')\n"
   ]
  },
  {
   "cell_type": "code",
   "execution_count": 177,
   "id": "7d665072",
   "metadata": {},
   "outputs": [],
   "source": [
    "munich_list_of_df = [munich_raw_df_12_12_2020, munich_raw_df_1_9_2021, munich_raw_df_2_8_2021, munich_raw_df_3_4_2021,\n",
    "                        munich_raw_df_4_9_2021, munich_raw_df_6_3_2021, munich_raw_df_7_4_2021, munich_raw_df_8_6_2021, munich_raw_df_9_7_2021]\n"
   ]
  },
  {
   "cell_type": "code",
   "execution_count": 178,
   "id": "53896591",
   "metadata": {},
   "outputs": [
    {
     "data": {
      "text/plain": [
       "(45439, 19)"
      ]
     },
     "execution_count": 178,
     "metadata": {},
     "output_type": "execute_result"
    }
   ],
   "source": [
    "munich_df = pd.concat(munich_list_of_df)\n",
    "munich_df.shape"
   ]
  },
  {
   "cell_type": "code",
   "execution_count": 273,
   "id": "e23d4e0b",
   "metadata": {
    "scrolled": false
   },
   "outputs": [
    {
     "data": {
      "text/html": [
       "<div><div id=84b69012-3e9e-44c3-aef5-c59157605e23 style=\"display:none; background-color:#9D6CFF; color:white; width:200px; height:30px; padding-left:5px; border-radius:4px; flex-direction:row; justify-content:space-around; align-items:center;\" onmouseover=\"this.style.backgroundColor='#BA9BF8'\" onmouseout=\"this.style.backgroundColor='#9D6CFF'\" onclick=\"window.commands?.execute('create-mitosheet-from-dataframe-output');\">See Full Dataframe in Mito</div> <script> if (window.commands.hasCommand('create-mitosheet-from-dataframe-output')) document.getElementById('84b69012-3e9e-44c3-aef5-c59157605e23').style.display = 'flex' </script> <table border=\"1\" class=\"dataframe\">\n",
       "  <thead>\n",
       "    <tr style=\"text-align: right;\">\n",
       "      <th></th>\n",
       "      <th>id_x</th>\n",
       "      <th>Month</th>\n",
       "      <th>property_type</th>\n",
       "      <th>room_type_x</th>\n",
       "      <th>accommodates</th>\n",
       "      <th>bedrooms</th>\n",
       "      <th>beds</th>\n",
       "      <th>price_x</th>\n",
       "      <th>availability_90</th>\n",
       "      <th>review_scores_rating</th>\n",
       "      <th>review_scores_accuracy</th>\n",
       "      <th>review_scores_cleanliness</th>\n",
       "      <th>review_scores_location</th>\n",
       "      <th>review_scores_value</th>\n",
       "      <th>city</th>\n",
       "    </tr>\n",
       "  </thead>\n",
       "  <tbody>\n",
       "    <tr>\n",
       "      <th>0</th>\n",
       "      <td>97945</td>\n",
       "      <td>12/12/2020</td>\n",
       "      <td>Entire rental unit</td>\n",
       "      <td>Entire home/apt</td>\n",
       "      <td>2.0</td>\n",
       "      <td>1.0</td>\n",
       "      <td>1.0</td>\n",
       "      <td>80</td>\n",
       "      <td>0.0</td>\n",
       "      <td>4.84</td>\n",
       "      <td>4.89</td>\n",
       "      <td>4.82</td>\n",
       "      <td>4.78</td>\n",
       "      <td>4.73</td>\n",
       "      <td>Munich</td>\n",
       "    </tr>\n",
       "    <tr>\n",
       "      <th>0</th>\n",
       "      <td>97945</td>\n",
       "      <td>1/9/2021</td>\n",
       "      <td>Entire rental unit</td>\n",
       "      <td>Entire home/apt</td>\n",
       "      <td>2.0</td>\n",
       "      <td>1.0</td>\n",
       "      <td>1.0</td>\n",
       "      <td>80</td>\n",
       "      <td>0.0</td>\n",
       "      <td>4.84</td>\n",
       "      <td>4.89</td>\n",
       "      <td>4.82</td>\n",
       "      <td>4.78</td>\n",
       "      <td>4.73</td>\n",
       "      <td>Munich</td>\n",
       "    </tr>\n",
       "  </tbody>\n",
       "</table></div>"
      ],
      "text/plain": [
       "    id_x       Month       property_type      room_type_x  accommodates  \\\n",
       "0  97945  12/12/2020  Entire rental unit  Entire home/apt           2.0   \n",
       "0  97945    1/9/2021  Entire rental unit  Entire home/apt           2.0   \n",
       "\n",
       "   bedrooms  beds  price_x  availability_90  review_scores_rating  \\\n",
       "0       1.0   1.0       80              0.0                  4.84   \n",
       "0       1.0   1.0       80              0.0                  4.84   \n",
       "\n",
       "   review_scores_accuracy  review_scores_cleanliness  review_scores_location  \\\n",
       "0                    4.89                       4.82                    4.78   \n",
       "0                    4.89                       4.82                    4.78   \n",
       "\n",
       "   review_scores_value    city  \n",
       "0                 4.73  Munich  \n",
       "0                 4.73  Munich  "
      ]
     },
     "execution_count": 273,
     "metadata": {},
     "output_type": "execute_result"
    }
   ],
   "source": [
    "df_join_munich = munich_df.join(raw_df_munich, lsuffix='_x', rsuffix='_y')\n",
    "munich_df_master = df_join_munich.copy()\n",
    "munich_df_final = munich_df_master[['id_x','Month', 'property_type', 'room_type_x', 'accommodates',\n",
    "                               'bedrooms', 'beds', 'price_x', 'availability_90','review_scores_rating',\n",
    "                               'review_scores_accuracy','review_scores_cleanliness','review_scores_location',\n",
    "                               'review_scores_value']]\n",
    "munich_df_final['city']='Munich'\n",
    "munich_df_final.head(2)"
   ]
  },
  {
   "cell_type": "markdown",
   "id": "ad60b451",
   "metadata": {},
   "source": [
    "## Naples"
   ]
  },
  {
   "cell_type": "code",
   "execution_count": 67,
   "id": "cc3a1a07",
   "metadata": {
    "scrolled": false
   },
   "outputs": [
    {
     "name": "stdout",
     "output_type": "stream",
     "text": [
      "The 12_12_2020 dataset contains 8084 AirBnb listings; the avg price is €78.08.\n",
      "The 1_9_2021 dataset contains 8039 AirBnb listings; the avg price is €71.68.\n",
      "The 2_8_2021 dataset contains 7997 AirBnb listings; the avg price is €72.29.\n",
      "The 3_4_2021 dataset contains 8030 AirBnb listings; the avg price is €73.04.\n",
      "The 4_9_2021 dataset contains 7961 AirBnb listings; the avg price is €74.74.\n",
      "The 6_3_2021 dataset contains 7909 AirBnb listings; the avg price is €77.02.\n",
      "The 7_4_2021 dataset contains 7957 AirBnb listings; the avg price is €84.45.\n",
      "The 8_6_2021 dataset contains 7311 AirBnb listings; the avg price is €90.63.\n",
      "The 9_7_2021 dataset contains 7202 AirBnb listings; the avg price is €83.77.\n",
      "The 10_6_2021 dataset contains 7142 AirBnb listings; the avg price is €88.39.\n"
     ]
    }
   ],
   "source": [
    "naples_raw_df_12_12_2020 = pd.read_csv('/Users/brendan/Desktop/Python/Hustle Projects/Airbnb/data4/raw-data/naples/naples_2020-12.csv')\n",
    "naples_raw_df_12_12_2020['Month']='12/12/2020' \n",
    "print(f\"The 12_12_2020 dataset contains {len(naples_raw_df_12_12_2020)} AirBnb listings; the avg price is €{round(naples_raw_df_12_12_2020['price'].mean(),2)}.\")\n",
    "\n",
    "naples_raw_df_1_9_2021 = pd.read_csv('/Users/brendan/Desktop/Python/Hustle Projects/Airbnb/data4/raw-data/naples/naples_2021-01.csv')\n",
    "naples_raw_df_1_9_2021['Month']='1/9/2021' \n",
    "print(f\"The 1_9_2021 dataset contains {len(naples_raw_df_1_9_2021)} AirBnb listings; the avg price is €{round(naples_raw_df_1_9_2021['price'].mean(),2)}.\")\n",
    "\n",
    "naples_raw_df_2_8_2021 = pd.read_csv('/Users/brendan/Desktop/Python/Hustle Projects/Airbnb/data4/raw-data/naples/naples_2021-02.csv')\n",
    "naples_raw_df_2_8_2021['Month']='2/8/2021'\n",
    "print(f\"The 2_8_2021 dataset contains {len(naples_raw_df_2_8_2021)} AirBnb listings; the avg price is €{round(naples_raw_df_2_8_2021['price'].mean(),2)}.\")\n",
    "\n",
    "naples_raw_df_3_4_2021 = pd.read_csv('/Users/brendan/Desktop/Python/Hustle Projects/Airbnb/data4/raw-data/naples/naples_2021-03.csv')\n",
    "naples_raw_df_3_4_2021['Month']='3/4/2021' \n",
    "print(f\"The 3_4_2021 dataset contains {len(naples_raw_df_3_4_2021)} AirBnb listings; the avg price is €{round(naples_raw_df_3_4_2021['price'].mean(),2)}.\")\n",
    "\n",
    "naples_raw_df_4_9_2021 = pd.read_csv('/Users/brendan/Desktop/Python/Hustle Projects/Airbnb/data4/raw-data/naples/naples_2021-04.csv')\n",
    "naples_raw_df_4_9_2021['Month']='4/9/2021'\n",
    "print(f\"The 4_9_2021 dataset contains {len(naples_raw_df_4_9_2021)} AirBnb listings; the avg price is €{round(naples_raw_df_4_9_2021['price'].mean(),2)}.\")\n",
    "\n",
    "#naples_raw_df_5_19_2021 = pd.read_csv('/Users/brendan/Desktop/Python/Hustle Projects/Airbnb/data4/raw-data/naples/naples_2021-05.csv')\n",
    "#print(f\"The 5_19_2021 dataset contains {len(naples_raw_df_5_19_2021)} AirBnb listings; the avg price is €{round(naples_raw_df_5_19_2021['price'].mean(),2)}.\")\n",
    "\n",
    "naples_raw_df_6_3_2021 = pd.read_csv('/Users/brendan/Desktop/Python/Hustle Projects/Airbnb/data4/raw-data/naples/naples_2021-06.csv')\n",
    "naples_raw_df_6_3_2021['Month']='6/3/2021'\n",
    "print(f\"The 6_3_2021 dataset contains {len(naples_raw_df_6_3_2021)} AirBnb listings; the avg price is €{round(naples_raw_df_6_3_2021['price'].mean(),2)}.\")\n",
    "\n",
    "naples_raw_df_7_4_2021 = pd.read_csv('/Users/brendan/Desktop/Python/Hustle Projects/Airbnb/data4/raw-data/naples/naples_2021-07.csv')\n",
    "naples_raw_df_7_4_2021['Month']='7/4/2021'\n",
    "print(f\"The 7_4_2021 dataset contains {len(naples_raw_df_7_4_2021)} AirBnb listings; the avg price is €{round(naples_raw_df_7_4_2021['price'].mean(),2)}.\")\n",
    "\n",
    "naples_raw_df_8_6_2021 = pd.read_csv('/Users/brendan/Desktop/Python/Hustle Projects/Airbnb/data4/raw-data/naples/naples_2021-08.csv')\n",
    "naples_raw_df_8_6_2021['Month']='8/6/2021'\n",
    "print(f\"The 8_6_2021 dataset contains {len(naples_raw_df_8_6_2021)} AirBnb listings; the avg price is €{round(naples_raw_df_8_6_2021['price'].mean(),2)}.\")\n",
    "\n",
    "naples_raw_df_9_7_2021 = pd.read_csv('/Users/brendan/Desktop/Python/Hustle Projects/Airbnb/data4/raw-data/naples/naples_2021-09.csv')\n",
    "naples_raw_df_9_7_2021['Month']='9/7/2021'\n",
    "print(f\"The 9_7_2021 dataset contains {len(naples_raw_df_9_7_2021)} AirBnb listings; the avg price is €{round(naples_raw_df_9_7_2021['price'].mean(),2)}.\")\n",
    "\n",
    "naples_raw_df_10_6_2021 = pd.read_csv('/Users/brendan/Desktop/Python/Hustle Projects/Airbnb/data4/raw-data/naples/naples_2021-10.csv')\n",
    "naples_raw_df_10_6_2021['Month']='10/6/2021'\n",
    "print(f\"The 10_6_2021 dataset contains {len(naples_raw_df_10_6_2021)} AirBnb listings; the avg price is €{round(naples_raw_df_10_6_2021['price'].mean(),2)}.\")"
   ]
  },
  {
   "cell_type": "code",
   "execution_count": 68,
   "id": "0d19283d",
   "metadata": {},
   "outputs": [],
   "source": [
    "naples_list_of_df = [naples_raw_df_12_12_2020, naples_raw_df_1_9_2021, naples_raw_df_2_8_2021, naples_raw_df_3_4_2021,\n",
    "                        naples_raw_df_4_9_2021, naples_raw_df_6_3_2021, naples_raw_df_7_4_2021, naples_raw_df_8_6_2021, naples_raw_df_9_7_2021]\n"
   ]
  },
  {
   "cell_type": "code",
   "execution_count": 69,
   "id": "5a425673",
   "metadata": {},
   "outputs": [
    {
     "data": {
      "text/plain": [
       "(70490, 19)"
      ]
     },
     "execution_count": 69,
     "metadata": {},
     "output_type": "execute_result"
    }
   ],
   "source": [
    "naples_df = pd.concat(naples_list_of_df)\n",
    "naples_df.shape"
   ]
  },
  {
   "cell_type": "code",
   "execution_count": 180,
   "id": "584a1e4c",
   "metadata": {},
   "outputs": [],
   "source": [
    "raw_df_naples = pd.read_csv('/Users/brendan/Desktop/Python/Hustle Projects/Airbnb/data4/raw-data/naples/naples_detailed.csv')\n"
   ]
  },
  {
   "cell_type": "code",
   "execution_count": 181,
   "id": "a7a558d4",
   "metadata": {},
   "outputs": [],
   "source": [
    "naples_list_of_df = [naples_raw_df_12_12_2020, naples_raw_df_1_9_2021, naples_raw_df_2_8_2021, naples_raw_df_3_4_2021,\n",
    "                        naples_raw_df_4_9_2021, naples_raw_df_6_3_2021, naples_raw_df_7_4_2021, naples_raw_df_8_6_2021, naples_raw_df_9_7_2021]\n"
   ]
  },
  {
   "cell_type": "code",
   "execution_count": 182,
   "id": "78c39544",
   "metadata": {},
   "outputs": [
    {
     "data": {
      "text/plain": [
       "(70490, 19)"
      ]
     },
     "execution_count": 182,
     "metadata": {},
     "output_type": "execute_result"
    }
   ],
   "source": [
    "naples_df = pd.concat(naples_list_of_df)\n",
    "naples_df.shape"
   ]
  },
  {
   "cell_type": "code",
   "execution_count": 274,
   "id": "48a519b5",
   "metadata": {
    "scrolled": true
   },
   "outputs": [
    {
     "data": {
      "text/html": [
       "<div><div id=1eb7302a-6baf-4d9e-8919-7f9f7a659f08 style=\"display:none; background-color:#9D6CFF; color:white; width:200px; height:30px; padding-left:5px; border-radius:4px; flex-direction:row; justify-content:space-around; align-items:center;\" onmouseover=\"this.style.backgroundColor='#BA9BF8'\" onmouseout=\"this.style.backgroundColor='#9D6CFF'\" onclick=\"window.commands?.execute('create-mitosheet-from-dataframe-output');\">See Full Dataframe in Mito</div> <script> if (window.commands.hasCommand('create-mitosheet-from-dataframe-output')) document.getElementById('1eb7302a-6baf-4d9e-8919-7f9f7a659f08').style.display = 'flex' </script> <table border=\"1\" class=\"dataframe\">\n",
       "  <thead>\n",
       "    <tr style=\"text-align: right;\">\n",
       "      <th></th>\n",
       "      <th>id_x</th>\n",
       "      <th>Month</th>\n",
       "      <th>property_type</th>\n",
       "      <th>room_type_x</th>\n",
       "      <th>accommodates</th>\n",
       "      <th>bedrooms</th>\n",
       "      <th>beds</th>\n",
       "      <th>price_x</th>\n",
       "      <th>availability_90</th>\n",
       "      <th>review_scores_rating</th>\n",
       "      <th>review_scores_accuracy</th>\n",
       "      <th>review_scores_cleanliness</th>\n",
       "      <th>review_scores_location</th>\n",
       "      <th>review_scores_value</th>\n",
       "      <th>city</th>\n",
       "    </tr>\n",
       "  </thead>\n",
       "  <tbody>\n",
       "    <tr>\n",
       "      <th>0</th>\n",
       "      <td>24398</td>\n",
       "      <td>12/12/2020</td>\n",
       "      <td>Private room in bed and breakfast</td>\n",
       "      <td>Entire home/apt</td>\n",
       "      <td>2.0</td>\n",
       "      <td>1.0</td>\n",
       "      <td>1.0</td>\n",
       "      <td>159</td>\n",
       "      <td>89.0</td>\n",
       "      <td>NaN</td>\n",
       "      <td>NaN</td>\n",
       "      <td>NaN</td>\n",
       "      <td>NaN</td>\n",
       "      <td>NaN</td>\n",
       "      <td>Naples</td>\n",
       "    </tr>\n",
       "    <tr>\n",
       "      <th>0</th>\n",
       "      <td>24398</td>\n",
       "      <td>1/9/2021</td>\n",
       "      <td>Private room in bed and breakfast</td>\n",
       "      <td>Entire home/apt</td>\n",
       "      <td>2.0</td>\n",
       "      <td>1.0</td>\n",
       "      <td>1.0</td>\n",
       "      <td>159</td>\n",
       "      <td>89.0</td>\n",
       "      <td>NaN</td>\n",
       "      <td>NaN</td>\n",
       "      <td>NaN</td>\n",
       "      <td>NaN</td>\n",
       "      <td>NaN</td>\n",
       "      <td>Naples</td>\n",
       "    </tr>\n",
       "  </tbody>\n",
       "</table></div>"
      ],
      "text/plain": [
       "    id_x       Month                      property_type      room_type_x  \\\n",
       "0  24398  12/12/2020  Private room in bed and breakfast  Entire home/apt   \n",
       "0  24398    1/9/2021  Private room in bed and breakfast  Entire home/apt   \n",
       "\n",
       "   accommodates  bedrooms  beds  price_x  availability_90  \\\n",
       "0           2.0       1.0   1.0      159             89.0   \n",
       "0           2.0       1.0   1.0      159             89.0   \n",
       "\n",
       "   review_scores_rating  review_scores_accuracy  review_scores_cleanliness  \\\n",
       "0                   NaN                     NaN                        NaN   \n",
       "0                   NaN                     NaN                        NaN   \n",
       "\n",
       "   review_scores_location  review_scores_value    city  \n",
       "0                     NaN                  NaN  Naples  \n",
       "0                     NaN                  NaN  Naples  "
      ]
     },
     "execution_count": 274,
     "metadata": {},
     "output_type": "execute_result"
    }
   ],
   "source": [
    "df_join_naples = naples_df.join(raw_df_naples, lsuffix='_x', rsuffix='_y')\n",
    "naples_df_master = df_join_naples.copy()\n",
    "naples_df_final = naples_df_master[['id_x','Month', 'property_type', 'room_type_x', 'accommodates',\n",
    "                               'bedrooms', 'beds', 'price_x', 'availability_90','review_scores_rating',\n",
    "                               'review_scores_accuracy','review_scores_cleanliness','review_scores_location',\n",
    "                               'review_scores_value']]\n",
    "naples_df_final['city']='Naples'\n",
    "naples_df_final.head(2)"
   ]
  },
  {
   "cell_type": "markdown",
   "id": "548ee4f2",
   "metadata": {},
   "source": [
    "## Paris"
   ]
  },
  {
   "cell_type": "code",
   "execution_count": 70,
   "id": "3e43485f",
   "metadata": {
    "scrolled": true
   },
   "outputs": [
    {
     "name": "stdout",
     "output_type": "stream",
     "text": [
      "The 12_12_2020 dataset contains 65917 AirBnb listings; the avg price is €114.28.\n",
      "The 1_9_2021 dataset contains 65256 AirBnb listings; the avg price is €112.89.\n",
      "The 2_8_2021 dataset contains 64690 AirBnb listings; the avg price is €113.1.\n",
      "The 3_4_2021 dataset contains 64347 AirBnb listings; the avg price is €112.39.\n",
      "The 4_9_2021 dataset contains 63090 AirBnb listings; the avg price is €112.92.\n",
      "The 6_3_2021 dataset contains 61105 AirBnb listings; the avg price is €117.4.\n",
      "The 7_4_2021 dataset contains 51040 AirBnb listings; the avg price is €124.53.\n",
      "The 8_6_2021 dataset contains 51354 AirBnb listings; the avg price is €123.43.\n",
      "The 9_7_2021 dataset contains 50133 AirBnb listings; the avg price is €125.89.\n",
      "The 10_6_2021 dataset contains 49634 AirBnb listings; the avg price is €130.2.\n"
     ]
    }
   ],
   "source": [
    "paris_raw_df_12_12_2020 = pd.read_csv('/Users/brendan/Desktop/Python/Hustle Projects/Airbnb/data4/raw-data/paris/paris_2020-12.csv')\n",
    "paris_raw_df_12_12_2020['Month']='12/12/2020' \n",
    "print(f\"The 12_12_2020 dataset contains {len(paris_raw_df_12_12_2020)} AirBnb listings; the avg price is €{round(paris_raw_df_12_12_2020['price'].mean(),2)}.\")\n",
    "\n",
    "paris_raw_df_1_9_2021 = pd.read_csv('/Users/brendan/Desktop/Python/Hustle Projects/Airbnb/data4/raw-data/paris/paris_2021-01.csv')\n",
    "paris_raw_df_1_9_2021['Month']='1/9/2021' \n",
    "print(f\"The 1_9_2021 dataset contains {len(paris_raw_df_1_9_2021)} AirBnb listings; the avg price is €{round(paris_raw_df_1_9_2021['price'].mean(),2)}.\")\n",
    "\n",
    "paris_raw_df_2_8_2021 = pd.read_csv('/Users/brendan/Desktop/Python/Hustle Projects/Airbnb/data4/raw-data/paris/paris_2021-02.csv')\n",
    "paris_raw_df_2_8_2021['Month']='2/8/2021'\n",
    "print(f\"The 2_8_2021 dataset contains {len(paris_raw_df_2_8_2021)} AirBnb listings; the avg price is €{round(paris_raw_df_2_8_2021['price'].mean(),2)}.\")\n",
    "\n",
    "paris_raw_df_3_4_2021 = pd.read_csv('/Users/brendan/Desktop/Python/Hustle Projects/Airbnb/data4/raw-data/paris/paris_2021-03.csv')\n",
    "paris_raw_df_3_4_2021['Month']='3/4/2021' \n",
    "print(f\"The 3_4_2021 dataset contains {len(paris_raw_df_3_4_2021)} AirBnb listings; the avg price is €{round(paris_raw_df_3_4_2021['price'].mean(),2)}.\")\n",
    "\n",
    "paris_raw_df_4_9_2021 = pd.read_csv('/Users/brendan/Desktop/Python/Hustle Projects/Airbnb/data4/raw-data/paris/paris_2021-04.csv')\n",
    "paris_raw_df_4_9_2021['Month']='4/9/2021'\n",
    "print(f\"The 4_9_2021 dataset contains {len(paris_raw_df_4_9_2021)} AirBnb listings; the avg price is €{round(paris_raw_df_4_9_2021['price'].mean(),2)}.\")\n",
    "\n",
    "#paris_raw_df_5_19_2021 = pd.read_csv('/Users/brendan/Desktop/Python/Hustle Projects/Airbnb/data4/raw-data/paris/paris_2021-05.csv')\n",
    "#print(f\"The 5_19_2021 dataset contains {len(paris_raw_df_5_19_2021)} AirBnb listings; the avg price is €{round(paris_raw_df_5_19_2021['price'].mean(),2)}.\")\n",
    "\n",
    "paris_raw_df_6_3_2021 = pd.read_csv('/Users/brendan/Desktop/Python/Hustle Projects/Airbnb/data4/raw-data/paris/paris_2021-06.csv')\n",
    "paris_raw_df_6_3_2021['Month']='6/3/2021'\n",
    "print(f\"The 6_3_2021 dataset contains {len(paris_raw_df_6_3_2021)} AirBnb listings; the avg price is €{round(paris_raw_df_6_3_2021['price'].mean(),2)}.\")\n",
    "\n",
    "paris_raw_df_7_4_2021 = pd.read_csv('/Users/brendan/Desktop/Python/Hustle Projects/Airbnb/data4/raw-data/paris/paris_2021-07.csv')\n",
    "paris_raw_df_7_4_2021['Month']='7/4/2021'\n",
    "print(f\"The 7_4_2021 dataset contains {len(paris_raw_df_7_4_2021)} AirBnb listings; the avg price is €{round(paris_raw_df_7_4_2021['price'].mean(),2)}.\")\n",
    "\n",
    "paris_raw_df_8_6_2021 = pd.read_csv('/Users/brendan/Desktop/Python/Hustle Projects/Airbnb/data4/raw-data/paris/paris_2021-08.csv')\n",
    "paris_raw_df_8_6_2021['Month']='8/6/2021'\n",
    "print(f\"The 8_6_2021 dataset contains {len(paris_raw_df_8_6_2021)} AirBnb listings; the avg price is €{round(paris_raw_df_8_6_2021['price'].mean(),2)}.\")\n",
    "\n",
    "paris_raw_df_9_7_2021 = pd.read_csv('/Users/brendan/Desktop/Python/Hustle Projects/Airbnb/data4/raw-data/paris/paris_2021-09.csv')\n",
    "paris_raw_df_9_7_2021['Month']='9/7/2021'\n",
    "print(f\"The 9_7_2021 dataset contains {len(paris_raw_df_9_7_2021)} AirBnb listings; the avg price is €{round(paris_raw_df_9_7_2021['price'].mean(),2)}.\")\n",
    "\n",
    "paris_raw_df_10_6_2021 = pd.read_csv('/Users/brendan/Desktop/Python/Hustle Projects/Airbnb/data4/raw-data/paris/paris_2021-10.csv')\n",
    "paris_raw_df_10_6_2021['Month']='10/6/2021'\n",
    "print(f\"The 10_6_2021 dataset contains {len(paris_raw_df_10_6_2021)} AirBnb listings; the avg price is €{round(paris_raw_df_10_6_2021['price'].mean(),2)}.\")"
   ]
  },
  {
   "cell_type": "code",
   "execution_count": 71,
   "id": "68d37db5",
   "metadata": {},
   "outputs": [],
   "source": [
    "paris_list_of_df = [paris_raw_df_12_12_2020, paris_raw_df_1_9_2021, paris_raw_df_2_8_2021, paris_raw_df_3_4_2021,\n",
    "                        paris_raw_df_4_9_2021, paris_raw_df_6_3_2021, paris_raw_df_7_4_2021, paris_raw_df_8_6_2021, paris_raw_df_9_7_2021]\n"
   ]
  },
  {
   "cell_type": "code",
   "execution_count": 72,
   "id": "5cc03337",
   "metadata": {},
   "outputs": [
    {
     "data": {
      "text/plain": [
       "(536932, 19)"
      ]
     },
     "execution_count": 72,
     "metadata": {},
     "output_type": "execute_result"
    }
   ],
   "source": [
    "paris_df = pd.concat(paris_list_of_df)\n",
    "paris_df.shape"
   ]
  },
  {
   "cell_type": "code",
   "execution_count": 184,
   "id": "f8f33c5e",
   "metadata": {},
   "outputs": [],
   "source": [
    "raw_df_paris = pd.read_csv('/Users/brendan/Desktop/Python/Hustle Projects/Airbnb/data4/raw-data/paris/paris_detailed.csv')\n"
   ]
  },
  {
   "cell_type": "code",
   "execution_count": 185,
   "id": "7b1818dc",
   "metadata": {},
   "outputs": [],
   "source": [
    "paris_list_of_df = [paris_raw_df_12_12_2020, paris_raw_df_1_9_2021, paris_raw_df_2_8_2021, paris_raw_df_3_4_2021,\n",
    "                        paris_raw_df_4_9_2021, paris_raw_df_6_3_2021, paris_raw_df_7_4_2021, paris_raw_df_8_6_2021, paris_raw_df_9_7_2021]\n"
   ]
  },
  {
   "cell_type": "code",
   "execution_count": 186,
   "id": "42b3ba6a",
   "metadata": {},
   "outputs": [
    {
     "data": {
      "text/plain": [
       "(536932, 19)"
      ]
     },
     "execution_count": 186,
     "metadata": {},
     "output_type": "execute_result"
    }
   ],
   "source": [
    "paris_df = pd.concat(paris_list_of_df)\n",
    "paris_df.shape"
   ]
  },
  {
   "cell_type": "code",
   "execution_count": 275,
   "id": "0876266b",
   "metadata": {
    "scrolled": false
   },
   "outputs": [
    {
     "data": {
      "text/html": [
       "<div><div id=e3a4d174-c89a-45da-8e66-36ebcdbce305 style=\"display:none; background-color:#9D6CFF; color:white; width:200px; height:30px; padding-left:5px; border-radius:4px; flex-direction:row; justify-content:space-around; align-items:center;\" onmouseover=\"this.style.backgroundColor='#BA9BF8'\" onmouseout=\"this.style.backgroundColor='#9D6CFF'\" onclick=\"window.commands?.execute('create-mitosheet-from-dataframe-output');\">See Full Dataframe in Mito</div> <script> if (window.commands.hasCommand('create-mitosheet-from-dataframe-output')) document.getElementById('e3a4d174-c89a-45da-8e66-36ebcdbce305').style.display = 'flex' </script> <table border=\"1\" class=\"dataframe\">\n",
       "  <thead>\n",
       "    <tr style=\"text-align: right;\">\n",
       "      <th></th>\n",
       "      <th>id_x</th>\n",
       "      <th>Month</th>\n",
       "      <th>property_type</th>\n",
       "      <th>room_type_x</th>\n",
       "      <th>accommodates</th>\n",
       "      <th>bedrooms</th>\n",
       "      <th>beds</th>\n",
       "      <th>price_x</th>\n",
       "      <th>availability_90</th>\n",
       "      <th>review_scores_rating</th>\n",
       "      <th>review_scores_accuracy</th>\n",
       "      <th>review_scores_cleanliness</th>\n",
       "      <th>review_scores_location</th>\n",
       "      <th>review_scores_value</th>\n",
       "      <th>city</th>\n",
       "    </tr>\n",
       "  </thead>\n",
       "  <tbody>\n",
       "    <tr>\n",
       "      <th>0</th>\n",
       "      <td>2577</td>\n",
       "      <td>12/12/2020</td>\n",
       "      <td>Entire rental unit</td>\n",
       "      <td>Entire home/apt</td>\n",
       "      <td>2.0</td>\n",
       "      <td>NaN</td>\n",
       "      <td>1.0</td>\n",
       "      <td>125</td>\n",
       "      <td>55.0</td>\n",
       "      <td>4.51</td>\n",
       "      <td>4.55</td>\n",
       "      <td>4.47</td>\n",
       "      <td>4.96</td>\n",
       "      <td>4.53</td>\n",
       "      <td>Paris</td>\n",
       "    </tr>\n",
       "    <tr>\n",
       "      <th>0</th>\n",
       "      <td>2577</td>\n",
       "      <td>1/9/2021</td>\n",
       "      <td>Entire rental unit</td>\n",
       "      <td>Entire home/apt</td>\n",
       "      <td>2.0</td>\n",
       "      <td>NaN</td>\n",
       "      <td>1.0</td>\n",
       "      <td>125</td>\n",
       "      <td>55.0</td>\n",
       "      <td>4.51</td>\n",
       "      <td>4.55</td>\n",
       "      <td>4.47</td>\n",
       "      <td>4.96</td>\n",
       "      <td>4.53</td>\n",
       "      <td>Paris</td>\n",
       "    </tr>\n",
       "  </tbody>\n",
       "</table></div>"
      ],
      "text/plain": [
       "   id_x       Month       property_type      room_type_x  accommodates  \\\n",
       "0  2577  12/12/2020  Entire rental unit  Entire home/apt           2.0   \n",
       "0  2577    1/9/2021  Entire rental unit  Entire home/apt           2.0   \n",
       "\n",
       "   bedrooms  beds  price_x  availability_90  review_scores_rating  \\\n",
       "0       NaN   1.0      125             55.0                  4.51   \n",
       "0       NaN   1.0      125             55.0                  4.51   \n",
       "\n",
       "   review_scores_accuracy  review_scores_cleanliness  review_scores_location  \\\n",
       "0                    4.55                       4.47                    4.96   \n",
       "0                    4.55                       4.47                    4.96   \n",
       "\n",
       "   review_scores_value   city  \n",
       "0                 4.53  Paris  \n",
       "0                 4.53  Paris  "
      ]
     },
     "execution_count": 275,
     "metadata": {},
     "output_type": "execute_result"
    }
   ],
   "source": [
    "df_join_paris = paris_df.join(raw_df_paris, lsuffix='_x', rsuffix='_y')\n",
    "paris_df_master = df_join_paris.copy()\n",
    "paris_df_final = paris_df_master[['id_x','Month', 'property_type', 'room_type_x', 'accommodates',\n",
    "                               'bedrooms', 'beds', 'price_x', 'availability_90','review_scores_rating',\n",
    "                               'review_scores_accuracy','review_scores_cleanliness','review_scores_location',\n",
    "                               'review_scores_value']]\n",
    "paris_df_final['city']='Paris'\n",
    "paris_df_final.head(2)"
   ]
  },
  {
   "cell_type": "markdown",
   "id": "d822f40d",
   "metadata": {},
   "source": [
    "## Rome"
   ]
  },
  {
   "cell_type": "code",
   "execution_count": 73,
   "id": "a708eef8",
   "metadata": {
    "scrolled": false
   },
   "outputs": [
    {
     "name": "stdout",
     "output_type": "stream",
     "text": [
      "The 12_12_2020 dataset contains 28151 AirBnb listings; the avg price is €108.71.\n",
      "The 1_9_2021 dataset contains 28024 AirBnb listings; the avg price is €105.14.\n",
      "The 2_8_2021 dataset contains 27647 AirBnb listings; the avg price is €105.11.\n",
      "The 3_4_2021 dataset contains 27433 AirBnb listings; the avg price is €109.61.\n",
      "The 4_9_2021 dataset contains 27518 AirBnb listings; the avg price is €113.53.\n",
      "The 6_3_2021 dataset contains 27126 AirBnb listings; the avg price is €116.16.\n",
      "The 7_4_2021 dataset contains 27213 AirBnb listings; the avg price is €120.82.\n",
      "The 8_6_2021 dataset contains 26877 AirBnb listings; the avg price is €122.9.\n",
      "The 9_7_2021 dataset contains 26098 AirBnb listings; the avg price is €123.84.\n",
      "The 10_6_2021 dataset contains 25490 AirBnb listings; the avg price is €127.01.\n"
     ]
    }
   ],
   "source": [
    "rome_raw_df_12_12_2020 = pd.read_csv('/Users/brendan/Desktop/Python/Hustle Projects/Airbnb/data4/raw-data/rome/rome_2020-12.csv')\n",
    "rome_raw_df_12_12_2020['Month']='12/12/2020' \n",
    "print(f\"The 12_12_2020 dataset contains {len(rome_raw_df_12_12_2020)} AirBnb listings; the avg price is €{round(rome_raw_df_12_12_2020['price'].mean(),2)}.\")\n",
    "\n",
    "rome_raw_df_1_9_2021 = pd.read_csv('/Users/brendan/Desktop/Python/Hustle Projects/Airbnb/data4/raw-data/rome/rome_2021-01.csv')\n",
    "rome_raw_df_1_9_2021['Month']='1/9/2021' \n",
    "print(f\"The 1_9_2021 dataset contains {len(rome_raw_df_1_9_2021)} AirBnb listings; the avg price is €{round(rome_raw_df_1_9_2021['price'].mean(),2)}.\")\n",
    "\n",
    "rome_raw_df_2_8_2021 = pd.read_csv('/Users/brendan/Desktop/Python/Hustle Projects/Airbnb/data4/raw-data/rome/rome_2021-02.csv')\n",
    "rome_raw_df_2_8_2021['Month']='2/8/2021'\n",
    "print(f\"The 2_8_2021 dataset contains {len(rome_raw_df_2_8_2021)} AirBnb listings; the avg price is €{round(rome_raw_df_2_8_2021['price'].mean(),2)}.\")\n",
    "\n",
    "rome_raw_df_3_4_2021 = pd.read_csv('/Users/brendan/Desktop/Python/Hustle Projects/Airbnb/data4/raw-data/rome/rome_2021-03.csv')\n",
    "rome_raw_df_3_4_2021['Month']='3/4/2021' \n",
    "print(f\"The 3_4_2021 dataset contains {len(rome_raw_df_3_4_2021)} AirBnb listings; the avg price is €{round(rome_raw_df_3_4_2021['price'].mean(),2)}.\")\n",
    "\n",
    "rome_raw_df_4_9_2021 = pd.read_csv('/Users/brendan/Desktop/Python/Hustle Projects/Airbnb/data4/raw-data/rome/rome_2021-04.csv')\n",
    "rome_raw_df_4_9_2021['Month']='4/9/2021'\n",
    "print(f\"The 4_9_2021 dataset contains {len(rome_raw_df_4_9_2021)} AirBnb listings; the avg price is €{round(rome_raw_df_4_9_2021['price'].mean(),2)}.\")\n",
    "\n",
    "#rome_raw_df_5_19_2021 = pd.read_csv('/Users/brendan/Desktop/Python/Hustle Projects/Airbnb/data4/raw-data/rome/rome_2021-05.csv')\n",
    "#print(f\"The 5_19_2021 dataset contains {len(rome_raw_df_5_19_2021)} AirBnb listings; the avg price is €{round(rome_raw_df_5_19_2021['price'].mean(),2)}.\")\n",
    "\n",
    "rome_raw_df_6_3_2021 = pd.read_csv('/Users/brendan/Desktop/Python/Hustle Projects/Airbnb/data4/raw-data/rome/rome_2021-06.csv')\n",
    "rome_raw_df_6_3_2021['Month']='6/3/2021'\n",
    "print(f\"The 6_3_2021 dataset contains {len(rome_raw_df_6_3_2021)} AirBnb listings; the avg price is €{round(rome_raw_df_6_3_2021['price'].mean(),2)}.\")\n",
    "\n",
    "rome_raw_df_7_4_2021 = pd.read_csv('/Users/brendan/Desktop/Python/Hustle Projects/Airbnb/data4/raw-data/rome/rome_2021-07.csv')\n",
    "rome_raw_df_7_4_2021['Month']='7/4/2021'\n",
    "print(f\"The 7_4_2021 dataset contains {len(rome_raw_df_7_4_2021)} AirBnb listings; the avg price is €{round(rome_raw_df_7_4_2021['price'].mean(),2)}.\")\n",
    "\n",
    "rome_raw_df_8_6_2021 = pd.read_csv('/Users/brendan/Desktop/Python/Hustle Projects/Airbnb/data4/raw-data/rome/rome_2021-08.csv')\n",
    "rome_raw_df_8_6_2021['Month']='8/6/2021'\n",
    "print(f\"The 8_6_2021 dataset contains {len(rome_raw_df_8_6_2021)} AirBnb listings; the avg price is €{round(rome_raw_df_8_6_2021['price'].mean(),2)}.\")\n",
    "\n",
    "rome_raw_df_9_7_2021 = pd.read_csv('/Users/brendan/Desktop/Python/Hustle Projects/Airbnb/data4/raw-data/rome/rome_2021-09.csv')\n",
    "rome_raw_df_9_7_2021['Month']='9/7/2021'\n",
    "print(f\"The 9_7_2021 dataset contains {len(rome_raw_df_9_7_2021)} AirBnb listings; the avg price is €{round(rome_raw_df_9_7_2021['price'].mean(),2)}.\")\n",
    "\n",
    "rome_raw_df_10_6_2021 = pd.read_csv('/Users/brendan/Desktop/Python/Hustle Projects/Airbnb/data4/raw-data/rome/rome_2021-10.csv')\n",
    "rome_raw_df_10_6_2021['Month']='10/6/2021'\n",
    "print(f\"The 10_6_2021 dataset contains {len(rome_raw_df_10_6_2021)} AirBnb listings; the avg price is €{round(rome_raw_df_10_6_2021['price'].mean(),2)}.\")"
   ]
  },
  {
   "cell_type": "code",
   "execution_count": 74,
   "id": "ceb63f2d",
   "metadata": {},
   "outputs": [],
   "source": [
    "rome_list_of_df = [rome_raw_df_12_12_2020, rome_raw_df_1_9_2021, rome_raw_df_2_8_2021, rome_raw_df_3_4_2021,\n",
    "                        rome_raw_df_4_9_2021, rome_raw_df_6_3_2021, rome_raw_df_7_4_2021, rome_raw_df_8_6_2021, rome_raw_df_9_7_2021]\n"
   ]
  },
  {
   "cell_type": "code",
   "execution_count": 75,
   "id": "d2181fb8",
   "metadata": {},
   "outputs": [
    {
     "data": {
      "text/plain": [
       "(246087, 19)"
      ]
     },
     "execution_count": 75,
     "metadata": {},
     "output_type": "execute_result"
    }
   ],
   "source": [
    "rome_df = pd.concat(rome_list_of_df)\n",
    "rome_df.shape"
   ]
  },
  {
   "cell_type": "code",
   "execution_count": 188,
   "id": "b116cfe1",
   "metadata": {},
   "outputs": [],
   "source": [
    "raw_df_rome = pd.read_csv('/Users/brendan/Desktop/Python/Hustle Projects/Airbnb/data4/raw-data/rome/rome_detailed.csv')\n"
   ]
  },
  {
   "cell_type": "code",
   "execution_count": 189,
   "id": "64a52512",
   "metadata": {},
   "outputs": [],
   "source": [
    "rome_list_of_df = [rome_raw_df_12_12_2020, rome_raw_df_1_9_2021, rome_raw_df_2_8_2021, rome_raw_df_3_4_2021,\n",
    "                        rome_raw_df_4_9_2021, rome_raw_df_6_3_2021, rome_raw_df_7_4_2021, rome_raw_df_8_6_2021, rome_raw_df_9_7_2021]\n"
   ]
  },
  {
   "cell_type": "code",
   "execution_count": 190,
   "id": "262b1689",
   "metadata": {},
   "outputs": [
    {
     "data": {
      "text/plain": [
       "(246087, 19)"
      ]
     },
     "execution_count": 190,
     "metadata": {},
     "output_type": "execute_result"
    }
   ],
   "source": [
    "rome_df = pd.concat(rome_list_of_df)\n",
    "rome_df.shape"
   ]
  },
  {
   "cell_type": "code",
   "execution_count": 276,
   "id": "0322fff2",
   "metadata": {
    "scrolled": true
   },
   "outputs": [
    {
     "data": {
      "text/html": [
       "<div><div id=47118dd1-b4b6-42c1-97b0-02ea9a970e1b style=\"display:none; background-color:#9D6CFF; color:white; width:200px; height:30px; padding-left:5px; border-radius:4px; flex-direction:row; justify-content:space-around; align-items:center;\" onmouseover=\"this.style.backgroundColor='#BA9BF8'\" onmouseout=\"this.style.backgroundColor='#9D6CFF'\" onclick=\"window.commands?.execute('create-mitosheet-from-dataframe-output');\">See Full Dataframe in Mito</div> <script> if (window.commands.hasCommand('create-mitosheet-from-dataframe-output')) document.getElementById('47118dd1-b4b6-42c1-97b0-02ea9a970e1b').style.display = 'flex' </script> <table border=\"1\" class=\"dataframe\">\n",
       "  <thead>\n",
       "    <tr style=\"text-align: right;\">\n",
       "      <th></th>\n",
       "      <th>id_x</th>\n",
       "      <th>Month</th>\n",
       "      <th>property_type</th>\n",
       "      <th>room_type_x</th>\n",
       "      <th>accommodates</th>\n",
       "      <th>bedrooms</th>\n",
       "      <th>beds</th>\n",
       "      <th>price_x</th>\n",
       "      <th>availability_90</th>\n",
       "      <th>review_scores_rating</th>\n",
       "      <th>review_scores_accuracy</th>\n",
       "      <th>review_scores_cleanliness</th>\n",
       "      <th>review_scores_location</th>\n",
       "      <th>review_scores_value</th>\n",
       "      <th>city</th>\n",
       "    </tr>\n",
       "  </thead>\n",
       "  <tbody>\n",
       "    <tr>\n",
       "      <th>0</th>\n",
       "      <td>2737</td>\n",
       "      <td>12/12/2020</td>\n",
       "      <td>Private room</td>\n",
       "      <td>Private room</td>\n",
       "      <td>1.0</td>\n",
       "      <td>1.0</td>\n",
       "      <td>0.0</td>\n",
       "      <td>21</td>\n",
       "      <td>90.0</td>\n",
       "      <td>4.8</td>\n",
       "      <td>4.6</td>\n",
       "      <td>4.6</td>\n",
       "      <td>4.4</td>\n",
       "      <td>4.4</td>\n",
       "      <td>Rome</td>\n",
       "    </tr>\n",
       "    <tr>\n",
       "      <th>0</th>\n",
       "      <td>2737</td>\n",
       "      <td>1/9/2021</td>\n",
       "      <td>Private room</td>\n",
       "      <td>Private room</td>\n",
       "      <td>1.0</td>\n",
       "      <td>1.0</td>\n",
       "      <td>0.0</td>\n",
       "      <td>21</td>\n",
       "      <td>90.0</td>\n",
       "      <td>4.8</td>\n",
       "      <td>4.6</td>\n",
       "      <td>4.6</td>\n",
       "      <td>4.4</td>\n",
       "      <td>4.4</td>\n",
       "      <td>Rome</td>\n",
       "    </tr>\n",
       "  </tbody>\n",
       "</table></div>"
      ],
      "text/plain": [
       "   id_x       Month property_type   room_type_x  accommodates  bedrooms  beds  \\\n",
       "0  2737  12/12/2020  Private room  Private room           1.0       1.0   0.0   \n",
       "0  2737    1/9/2021  Private room  Private room           1.0       1.0   0.0   \n",
       "\n",
       "   price_x  availability_90  review_scores_rating  review_scores_accuracy  \\\n",
       "0       21             90.0                   4.8                     4.6   \n",
       "0       21             90.0                   4.8                     4.6   \n",
       "\n",
       "   review_scores_cleanliness  review_scores_location  review_scores_value  \\\n",
       "0                        4.6                     4.4                  4.4   \n",
       "0                        4.6                     4.4                  4.4   \n",
       "\n",
       "   city  \n",
       "0  Rome  \n",
       "0  Rome  "
      ]
     },
     "execution_count": 276,
     "metadata": {},
     "output_type": "execute_result"
    }
   ],
   "source": [
    "df_join_rome = rome_df.join(raw_df_rome, lsuffix='_x', rsuffix='_y')\n",
    "rome_df_master = df_join_rome.copy()\n",
    "rome_df_final = rome_df_master[['id_x','Month', 'property_type', 'room_type_x', 'accommodates',\n",
    "                               'bedrooms', 'beds', 'price_x', 'availability_90','review_scores_rating',\n",
    "                               'review_scores_accuracy','review_scores_cleanliness','review_scores_location',\n",
    "                               'review_scores_value']]\n",
    "rome_df_final['city']='Rome'\n",
    "rome_df_final.head(2)"
   ]
  },
  {
   "cell_type": "markdown",
   "id": "4e0564b4",
   "metadata": {},
   "source": [
    "## Sicily"
   ]
  },
  {
   "cell_type": "code",
   "execution_count": 78,
   "id": "fbd5ab1e",
   "metadata": {
    "scrolled": false
   },
   "outputs": [
    {
     "name": "stdout",
     "output_type": "stream",
     "text": [
      "The 1_9_2021 dataset contains 49235 AirBnb listings; the avg price is €95.01.\n",
      "The 2_8_2021 dataset contains 49678 AirBnb listings; the avg price is €93.36.\n",
      "The 3_4_2021 dataset contains 49659 AirBnb listings; the avg price is €93.21.\n",
      "The 4_9_2021 dataset contains 50202 AirBnb listings; the avg price is €95.62.\n",
      "The 7_4_2021 dataset contains 49266 AirBnb listings; the avg price is €122.97.\n",
      "The 8_6_2021 dataset contains 47876 AirBnb listings; the avg price is €111.35.\n",
      "The 9_7_2021 dataset contains 47925 AirBnb listings; the avg price is €99.32.\n",
      "The 10_6_2021 dataset contains 48096 AirBnb listings; the avg price is €100.18.\n"
     ]
    }
   ],
   "source": [
    "#sicily_raw_df_12_12_2020 = pd.read_csv('/Users/brendan/Desktop/Python/Hustle Projects/Airbnb/data4/raw-data/sicily/sicily_2020-12.csv')\n",
    "#sicily_raw_df_12_12_2020['Month']='12/12/2020' \n",
    "#print(f\"The 12_12_2020 dataset contains {len(sicily_raw_df_12_12_2020)} AirBnb listings; the avg price is €{round(sicily_raw_df_12_12_2020['price'].mean(),2)}.\")\n",
    "\n",
    "sicily_raw_df_1_9_2021 = pd.read_csv('/Users/brendan/Desktop/Python/Hustle Projects/Airbnb/data4/raw-data/sicily/sicily_2021-01.csv')\n",
    "sicily_raw_df_1_9_2021['Month']='1/9/2021' \n",
    "print(f\"The 1_9_2021 dataset contains {len(sicily_raw_df_1_9_2021)} AirBnb listings; the avg price is €{round(sicily_raw_df_1_9_2021['price'].mean(),2)}.\")\n",
    "\n",
    "sicily_raw_df_2_8_2021 = pd.read_csv('/Users/brendan/Desktop/Python/Hustle Projects/Airbnb/data4/raw-data/sicily/sicily_2021-02.csv')\n",
    "sicily_raw_df_2_8_2021['Month']='2/8/2021'\n",
    "print(f\"The 2_8_2021 dataset contains {len(sicily_raw_df_2_8_2021)} AirBnb listings; the avg price is €{round(sicily_raw_df_2_8_2021['price'].mean(),2)}.\")\n",
    "\n",
    "sicily_raw_df_3_4_2021 = pd.read_csv('/Users/brendan/Desktop/Python/Hustle Projects/Airbnb/data4/raw-data/sicily/sicily_2021-03.csv')\n",
    "sicily_raw_df_3_4_2021['Month']='3/4/2021' \n",
    "print(f\"The 3_4_2021 dataset contains {len(sicily_raw_df_3_4_2021)} AirBnb listings; the avg price is €{round(sicily_raw_df_3_4_2021['price'].mean(),2)}.\")\n",
    "\n",
    "sicily_raw_df_4_9_2021 = pd.read_csv('/Users/brendan/Desktop/Python/Hustle Projects/Airbnb/data4/raw-data/sicily/sicily_2021-04.csv')\n",
    "sicily_raw_df_4_9_2021['Month']='4/9/2021'\n",
    "print(f\"The 4_9_2021 dataset contains {len(sicily_raw_df_4_9_2021)} AirBnb listings; the avg price is €{round(sicily_raw_df_4_9_2021['price'].mean(),2)}.\")\n",
    "\n",
    "#sicily_raw_df_5_19_2021 = pd.read_csv('/Users/brendan/Desktop/Python/Hustle Projects/Airbnb/data4/raw-data/sicily/sicily_2021-05.csv')\n",
    "#print(f\"The 5_19_2021 dataset contains {len(sicily_raw_df_5_19_2021)} AirBnb listings; the avg price is €{round(sicily_raw_df_5_19_2021['price'].mean(),2)}.\")\n",
    "\n",
    "#sicily_raw_df_6_3_2021 = pd.read_csv('/Users/brendan/Desktop/Python/Hustle Projects/Airbnb/data4/raw-data/sicily/sicily_2021-06.csv')\n",
    "#sicily_raw_df_6_3_2021['Month']='6/3/2021'\n",
    "#print(f\"The 6_3_2021 dataset contains {len(sicily_raw_df_6_3_2021)} AirBnb listings; the avg price is €{round(sicily_raw_df_6_3_2021['price'].mean(),2)}.\")\n",
    "\n",
    "sicily_raw_df_7_4_2021 = pd.read_csv('/Users/brendan/Desktop/Python/Hustle Projects/Airbnb/data4/raw-data/sicily/sicily_2021-07.csv')\n",
    "sicily_raw_df_7_4_2021['Month']='7/4/2021'\n",
    "print(f\"The 7_4_2021 dataset contains {len(sicily_raw_df_7_4_2021)} AirBnb listings; the avg price is €{round(sicily_raw_df_7_4_2021['price'].mean(),2)}.\")\n",
    "\n",
    "sicily_raw_df_8_6_2021 = pd.read_csv('/Users/brendan/Desktop/Python/Hustle Projects/Airbnb/data4/raw-data/sicily/sicily_2021-08.csv')\n",
    "sicily_raw_df_8_6_2021['Month']='8/6/2021'\n",
    "print(f\"The 8_6_2021 dataset contains {len(sicily_raw_df_8_6_2021)} AirBnb listings; the avg price is €{round(sicily_raw_df_8_6_2021['price'].mean(),2)}.\")\n",
    "\n",
    "sicily_raw_df_9_7_2021 = pd.read_csv('/Users/brendan/Desktop/Python/Hustle Projects/Airbnb/data4/raw-data/sicily/sicily_2021-09.csv')\n",
    "sicily_raw_df_9_7_2021['Month']='9/7/2021'\n",
    "print(f\"The 9_7_2021 dataset contains {len(sicily_raw_df_9_7_2021)} AirBnb listings; the avg price is €{round(sicily_raw_df_9_7_2021['price'].mean(),2)}.\")\n",
    "\n",
    "sicily_raw_df_10_6_2021 = pd.read_csv('/Users/brendan/Desktop/Python/Hustle Projects/Airbnb/data4/raw-data/sicily/sicily_2021-10.csv')\n",
    "sicily_raw_df_10_6_2021['Month']='10/6/2021'\n",
    "print(f\"The 10_6_2021 dataset contains {len(sicily_raw_df_10_6_2021)} AirBnb listings; the avg price is €{round(sicily_raw_df_10_6_2021['price'].mean(),2)}.\")"
   ]
  },
  {
   "cell_type": "code",
   "execution_count": 79,
   "id": "9f4576df",
   "metadata": {},
   "outputs": [],
   "source": [
    "sicily_list_of_df = [sicily_raw_df_1_9_2021, sicily_raw_df_2_8_2021, sicily_raw_df_3_4_2021,\n",
    "                        sicily_raw_df_4_9_2021, sicily_raw_df_7_4_2021, sicily_raw_df_8_6_2021, sicily_raw_df_9_7_2021]\n"
   ]
  },
  {
   "cell_type": "code",
   "execution_count": 80,
   "id": "ba3f2cb9",
   "metadata": {},
   "outputs": [
    {
     "data": {
      "text/plain": [
       "(343841, 19)"
      ]
     },
     "execution_count": 80,
     "metadata": {},
     "output_type": "execute_result"
    }
   ],
   "source": [
    "sicily_df = pd.concat(sicily_list_of_df)\n",
    "sicily_df.shape"
   ]
  },
  {
   "cell_type": "code",
   "execution_count": 192,
   "id": "8bb40cb0",
   "metadata": {},
   "outputs": [],
   "source": [
    "raw_df_sicily = pd.read_csv('/Users/brendan/Desktop/Python/Hustle Projects/Airbnb/data4/raw-data/sicily/sicily_detailed.csv')\n"
   ]
  },
  {
   "cell_type": "code",
   "execution_count": 194,
   "id": "2aaf16d5",
   "metadata": {},
   "outputs": [],
   "source": [
    "sicily_list_of_df = [sicily_raw_df_1_9_2021, sicily_raw_df_2_8_2021, sicily_raw_df_3_4_2021,\n",
    "                        sicily_raw_df_4_9_2021, sicily_raw_df_7_4_2021, sicily_raw_df_8_6_2021, sicily_raw_df_9_7_2021]\n"
   ]
  },
  {
   "cell_type": "code",
   "execution_count": 195,
   "id": "86edbebf",
   "metadata": {},
   "outputs": [
    {
     "data": {
      "text/plain": [
       "(343841, 19)"
      ]
     },
     "execution_count": 195,
     "metadata": {},
     "output_type": "execute_result"
    }
   ],
   "source": [
    "sicily_df = pd.concat(sicily_list_of_df)\n",
    "sicily_df.shape"
   ]
  },
  {
   "cell_type": "code",
   "execution_count": 277,
   "id": "73f3c03e",
   "metadata": {
    "scrolled": false
   },
   "outputs": [
    {
     "data": {
      "text/html": [
       "<div><div id=c7c0f2a9-55b0-4344-8a90-94ff5bebdda5 style=\"display:none; background-color:#9D6CFF; color:white; width:200px; height:30px; padding-left:5px; border-radius:4px; flex-direction:row; justify-content:space-around; align-items:center;\" onmouseover=\"this.style.backgroundColor='#BA9BF8'\" onmouseout=\"this.style.backgroundColor='#9D6CFF'\" onclick=\"window.commands?.execute('create-mitosheet-from-dataframe-output');\">See Full Dataframe in Mito</div> <script> if (window.commands.hasCommand('create-mitosheet-from-dataframe-output')) document.getElementById('c7c0f2a9-55b0-4344-8a90-94ff5bebdda5').style.display = 'flex' </script> <table border=\"1\" class=\"dataframe\">\n",
       "  <thead>\n",
       "    <tr style=\"text-align: right;\">\n",
       "      <th></th>\n",
       "      <th>id_x</th>\n",
       "      <th>Month</th>\n",
       "      <th>property_type</th>\n",
       "      <th>room_type_x</th>\n",
       "      <th>accommodates</th>\n",
       "      <th>bedrooms</th>\n",
       "      <th>beds</th>\n",
       "      <th>price_x</th>\n",
       "      <th>availability_90</th>\n",
       "      <th>review_scores_rating</th>\n",
       "      <th>review_scores_accuracy</th>\n",
       "      <th>review_scores_cleanliness</th>\n",
       "      <th>review_scores_location</th>\n",
       "      <th>review_scores_value</th>\n",
       "      <th>city</th>\n",
       "    </tr>\n",
       "  </thead>\n",
       "  <tbody>\n",
       "    <tr>\n",
       "      <th>0</th>\n",
       "      <td>7011</td>\n",
       "      <td>1/9/2021</td>\n",
       "      <td>Entire residential home</td>\n",
       "      <td>Entire home/apt</td>\n",
       "      <td>6.0</td>\n",
       "      <td>3.0</td>\n",
       "      <td>4.0</td>\n",
       "      <td>150</td>\n",
       "      <td>31.0</td>\n",
       "      <td>4.67</td>\n",
       "      <td>4.67</td>\n",
       "      <td>4.85</td>\n",
       "      <td>4.59</td>\n",
       "      <td>4.56</td>\n",
       "      <td>Sicily</td>\n",
       "    </tr>\n",
       "    <tr>\n",
       "      <th>0</th>\n",
       "      <td>7011</td>\n",
       "      <td>2/8/2021</td>\n",
       "      <td>Entire residential home</td>\n",
       "      <td>Entire home/apt</td>\n",
       "      <td>6.0</td>\n",
       "      <td>3.0</td>\n",
       "      <td>4.0</td>\n",
       "      <td>150</td>\n",
       "      <td>31.0</td>\n",
       "      <td>4.67</td>\n",
       "      <td>4.67</td>\n",
       "      <td>4.85</td>\n",
       "      <td>4.59</td>\n",
       "      <td>4.56</td>\n",
       "      <td>Sicily</td>\n",
       "    </tr>\n",
       "  </tbody>\n",
       "</table></div>"
      ],
      "text/plain": [
       "   id_x     Month            property_type      room_type_x  accommodates  \\\n",
       "0  7011  1/9/2021  Entire residential home  Entire home/apt           6.0   \n",
       "0  7011  2/8/2021  Entire residential home  Entire home/apt           6.0   \n",
       "\n",
       "   bedrooms  beds  price_x  availability_90  review_scores_rating  \\\n",
       "0       3.0   4.0      150             31.0                  4.67   \n",
       "0       3.0   4.0      150             31.0                  4.67   \n",
       "\n",
       "   review_scores_accuracy  review_scores_cleanliness  review_scores_location  \\\n",
       "0                    4.67                       4.85                    4.59   \n",
       "0                    4.67                       4.85                    4.59   \n",
       "\n",
       "   review_scores_value    city  \n",
       "0                 4.56  Sicily  \n",
       "0                 4.56  Sicily  "
      ]
     },
     "execution_count": 277,
     "metadata": {},
     "output_type": "execute_result"
    }
   ],
   "source": [
    "df_join_sicily = sicily_df.join(raw_df_sicily, lsuffix='_x', rsuffix='_y')\n",
    "sicily_df_master = df_join_sicily.copy()\n",
    "sicily_df_final = sicily_df_master[['id_x','Month', 'property_type', 'room_type_x', 'accommodates',\n",
    "                               'bedrooms', 'beds', 'price_x', 'availability_90','review_scores_rating',\n",
    "                               'review_scores_accuracy','review_scores_cleanliness','review_scores_location',\n",
    "                               'review_scores_value']]\n",
    "sicily_df_final['city']='Sicily'\n",
    "sicily_df_final.head(2)"
   ]
  },
  {
   "cell_type": "markdown",
   "id": "942515cc",
   "metadata": {},
   "source": [
    "## Venice"
   ]
  },
  {
   "cell_type": "code",
   "execution_count": 81,
   "id": "336b6429",
   "metadata": {
    "scrolled": true
   },
   "outputs": [
    {
     "name": "stdout",
     "output_type": "stream",
     "text": [
      "The 12_12_2020 dataset contains 8090 AirBnb listings; the avg price is €124.89.\n",
      "The 1_9_2021 dataset contains 8074 AirBnb listings; the avg price is €132.38.\n",
      "The 2_8_2021 dataset contains 7951 AirBnb listings; the avg price is €136.15.\n",
      "The 3_4_2021 dataset contains 7917 AirBnb listings; the avg price is €129.93.\n",
      "The 4_9_2021 dataset contains 7823 AirBnb listings; the avg price is €137.06.\n",
      "The 6_3_2021 dataset contains 7707 AirBnb listings; the avg price is €139.5.\n",
      "The 7_4_2021 dataset contains 7934 AirBnb listings; the avg price is €150.21.\n",
      "The 8_6_2021 dataset contains 7947 AirBnb listings; the avg price is €153.62.\n",
      "The 9_7_2021 dataset contains 7631 AirBnb listings; the avg price is €153.0.\n",
      "The 10_6_2021 dataset contains 7568 AirBnb listings; the avg price is €143.29.\n"
     ]
    }
   ],
   "source": [
    "venice_raw_df_12_12_2020 = pd.read_csv('/Users/brendan/Desktop/Python/Hustle Projects/Airbnb/data4/raw-data/venice/venice_2020-12.csv')\n",
    "venice_raw_df_12_12_2020['Month']='12/12/2020' \n",
    "print(f\"The 12_12_2020 dataset contains {len(venice_raw_df_12_12_2020)} AirBnb listings; the avg price is €{round(venice_raw_df_12_12_2020['price'].mean(),2)}.\")\n",
    "\n",
    "venice_raw_df_1_9_2021 = pd.read_csv('/Users/brendan/Desktop/Python/Hustle Projects/Airbnb/data4/raw-data/venice/venice_2021-01.csv')\n",
    "venice_raw_df_1_9_2021['Month']='1/9/2021' \n",
    "print(f\"The 1_9_2021 dataset contains {len(venice_raw_df_1_9_2021)} AirBnb listings; the avg price is €{round(venice_raw_df_1_9_2021['price'].mean(),2)}.\")\n",
    "\n",
    "venice_raw_df_2_8_2021 = pd.read_csv('/Users/brendan/Desktop/Python/Hustle Projects/Airbnb/data4/raw-data/venice/venice_2021-02.csv')\n",
    "venice_raw_df_2_8_2021['Month']='2/8/2021'\n",
    "print(f\"The 2_8_2021 dataset contains {len(venice_raw_df_2_8_2021)} AirBnb listings; the avg price is €{round(venice_raw_df_2_8_2021['price'].mean(),2)}.\")\n",
    "\n",
    "venice_raw_df_3_4_2021 = pd.read_csv('/Users/brendan/Desktop/Python/Hustle Projects/Airbnb/data4/raw-data/venice/venice_2021-03.csv')\n",
    "venice_raw_df_3_4_2021['Month']='3/4/2021' \n",
    "print(f\"The 3_4_2021 dataset contains {len(venice_raw_df_3_4_2021)} AirBnb listings; the avg price is €{round(venice_raw_df_3_4_2021['price'].mean(),2)}.\")\n",
    "\n",
    "venice_raw_df_4_9_2021 = pd.read_csv('/Users/brendan/Desktop/Python/Hustle Projects/Airbnb/data4/raw-data/venice/venice_2021-04.csv')\n",
    "venice_raw_df_4_9_2021['Month']='4/9/2021'\n",
    "print(f\"The 4_9_2021 dataset contains {len(venice_raw_df_4_9_2021)} AirBnb listings; the avg price is €{round(venice_raw_df_4_9_2021['price'].mean(),2)}.\")\n",
    "\n",
    "#venice_raw_df_5_19_2021 = pd.read_csv('/Users/brendan/Desktop/Python/Hustle Projects/Airbnb/data4/raw-data/venice/venice_2021-05.csv')\n",
    "#print(f\"The 5_19_2021 dataset contains {len(venice_raw_df_5_19_2021)} AirBnb listings; the avg price is €{round(venice_raw_df_5_19_2021['price'].mean(),2)}.\")\n",
    "\n",
    "venice_raw_df_6_3_2021 = pd.read_csv('/Users/brendan/Desktop/Python/Hustle Projects/Airbnb/data4/raw-data/venice/venice_2021-06.csv')\n",
    "venice_raw_df_6_3_2021['Month']='6/3/2021'\n",
    "print(f\"The 6_3_2021 dataset contains {len(venice_raw_df_6_3_2021)} AirBnb listings; the avg price is €{round(venice_raw_df_6_3_2021['price'].mean(),2)}.\")\n",
    "\n",
    "venice_raw_df_7_4_2021 = pd.read_csv('/Users/brendan/Desktop/Python/Hustle Projects/Airbnb/data4/raw-data/venice/venice_2021-07.csv')\n",
    "venice_raw_df_7_4_2021['Month']='7/4/2021'\n",
    "print(f\"The 7_4_2021 dataset contains {len(venice_raw_df_7_4_2021)} AirBnb listings; the avg price is €{round(venice_raw_df_7_4_2021['price'].mean(),2)}.\")\n",
    "\n",
    "venice_raw_df_8_6_2021 = pd.read_csv('/Users/brendan/Desktop/Python/Hustle Projects/Airbnb/data4/raw-data/venice/venice_2021-08.csv')\n",
    "venice_raw_df_8_6_2021['Month']='8/6/2021'\n",
    "print(f\"The 8_6_2021 dataset contains {len(venice_raw_df_8_6_2021)} AirBnb listings; the avg price is €{round(venice_raw_df_8_6_2021['price'].mean(),2)}.\")\n",
    "\n",
    "venice_raw_df_9_7_2021 = pd.read_csv('/Users/brendan/Desktop/Python/Hustle Projects/Airbnb/data4/raw-data/venice/venice_2021-09.csv')\n",
    "venice_raw_df_9_7_2021['Month']='9/7/2021'\n",
    "print(f\"The 9_7_2021 dataset contains {len(venice_raw_df_9_7_2021)} AirBnb listings; the avg price is €{round(venice_raw_df_9_7_2021['price'].mean(),2)}.\")\n",
    "\n",
    "venice_raw_df_10_6_2021 = pd.read_csv('/Users/brendan/Desktop/Python/Hustle Projects/Airbnb/data4/raw-data/venice/venice_2021-10.csv')\n",
    "venice_raw_df_10_6_2021['Month']='10/6/2021'\n",
    "print(f\"The 10_6_2021 dataset contains {len(venice_raw_df_10_6_2021)} AirBnb listings; the avg price is €{round(venice_raw_df_10_6_2021['price'].mean(),2)}.\")"
   ]
  },
  {
   "cell_type": "code",
   "execution_count": 82,
   "id": "b3f6bb0f",
   "metadata": {},
   "outputs": [],
   "source": [
    "venice_list_of_df = [venice_raw_df_12_12_2020, venice_raw_df_1_9_2021, venice_raw_df_2_8_2021, venice_raw_df_3_4_2021,\n",
    "                        venice_raw_df_4_9_2021, venice_raw_df_6_3_2021, venice_raw_df_7_4_2021, venice_raw_df_8_6_2021, venice_raw_df_9_7_2021]\n"
   ]
  },
  {
   "cell_type": "code",
   "execution_count": 83,
   "id": "031c720b",
   "metadata": {
    "scrolled": true
   },
   "outputs": [
    {
     "data": {
      "text/plain": [
       "(71074, 19)"
      ]
     },
     "execution_count": 83,
     "metadata": {},
     "output_type": "execute_result"
    }
   ],
   "source": [
    "venice_df = pd.concat(venice_list_of_df)\n",
    "venice_df.shape"
   ]
  },
  {
   "cell_type": "code",
   "execution_count": 200,
   "id": "61c23cf6",
   "metadata": {},
   "outputs": [],
   "source": [
    "raw_df_venice = pd.read_csv('/Users/brendan/Desktop/Python/Hustle Projects/Airbnb/data4/raw-data/venice/venice_detailed.csv')\n"
   ]
  },
  {
   "cell_type": "code",
   "execution_count": 201,
   "id": "a9a4185d",
   "metadata": {},
   "outputs": [],
   "source": [
    "venice_list_of_df = [venice_raw_df_12_12_2020, venice_raw_df_1_9_2021, venice_raw_df_2_8_2021, venice_raw_df_3_4_2021,\n",
    "                        venice_raw_df_4_9_2021, venice_raw_df_6_3_2021, venice_raw_df_7_4_2021, venice_raw_df_8_6_2021, venice_raw_df_9_7_2021]\n"
   ]
  },
  {
   "cell_type": "code",
   "execution_count": 202,
   "id": "b77e8f99",
   "metadata": {},
   "outputs": [
    {
     "data": {
      "text/plain": [
       "(71074, 19)"
      ]
     },
     "execution_count": 202,
     "metadata": {},
     "output_type": "execute_result"
    }
   ],
   "source": [
    "venice_df = pd.concat(venice_list_of_df)\n",
    "venice_df.shape"
   ]
  },
  {
   "cell_type": "code",
   "execution_count": 278,
   "id": "d5b37dee",
   "metadata": {
    "scrolled": true
   },
   "outputs": [
    {
     "data": {
      "text/html": [
       "<div><div id=75f9ffd8-94fd-4563-a8df-c281fe3174c0 style=\"display:none; background-color:#9D6CFF; color:white; width:200px; height:30px; padding-left:5px; border-radius:4px; flex-direction:row; justify-content:space-around; align-items:center;\" onmouseover=\"this.style.backgroundColor='#BA9BF8'\" onmouseout=\"this.style.backgroundColor='#9D6CFF'\" onclick=\"window.commands?.execute('create-mitosheet-from-dataframe-output');\">See Full Dataframe in Mito</div> <script> if (window.commands.hasCommand('create-mitosheet-from-dataframe-output')) document.getElementById('75f9ffd8-94fd-4563-a8df-c281fe3174c0').style.display = 'flex' </script> <table border=\"1\" class=\"dataframe\">\n",
       "  <thead>\n",
       "    <tr style=\"text-align: right;\">\n",
       "      <th></th>\n",
       "      <th>id_x</th>\n",
       "      <th>Month</th>\n",
       "      <th>property_type</th>\n",
       "      <th>room_type_x</th>\n",
       "      <th>accommodates</th>\n",
       "      <th>bedrooms</th>\n",
       "      <th>beds</th>\n",
       "      <th>price_x</th>\n",
       "      <th>availability_90</th>\n",
       "      <th>review_scores_rating</th>\n",
       "      <th>review_scores_accuracy</th>\n",
       "      <th>review_scores_cleanliness</th>\n",
       "      <th>review_scores_location</th>\n",
       "      <th>review_scores_value</th>\n",
       "      <th>city</th>\n",
       "    </tr>\n",
       "  </thead>\n",
       "  <tbody>\n",
       "    <tr>\n",
       "      <th>0</th>\n",
       "      <td>6623</td>\n",
       "      <td>12/12/2020</td>\n",
       "      <td>Entire rental unit</td>\n",
       "      <td>Entire home/apt</td>\n",
       "      <td>4.0</td>\n",
       "      <td>2.0</td>\n",
       "      <td>4.0</td>\n",
       "      <td>225</td>\n",
       "      <td>89.0</td>\n",
       "      <td>4.94</td>\n",
       "      <td>4.96</td>\n",
       "      <td>4.99</td>\n",
       "      <td>4.96</td>\n",
       "      <td>4.92</td>\n",
       "      <td>Venice</td>\n",
       "    </tr>\n",
       "    <tr>\n",
       "      <th>0</th>\n",
       "      <td>6623</td>\n",
       "      <td>1/9/2021</td>\n",
       "      <td>Entire rental unit</td>\n",
       "      <td>Entire home/apt</td>\n",
       "      <td>4.0</td>\n",
       "      <td>2.0</td>\n",
       "      <td>4.0</td>\n",
       "      <td>225</td>\n",
       "      <td>89.0</td>\n",
       "      <td>4.94</td>\n",
       "      <td>4.96</td>\n",
       "      <td>4.99</td>\n",
       "      <td>4.96</td>\n",
       "      <td>4.92</td>\n",
       "      <td>Venice</td>\n",
       "    </tr>\n",
       "  </tbody>\n",
       "</table></div>"
      ],
      "text/plain": [
       "   id_x       Month       property_type      room_type_x  accommodates  \\\n",
       "0  6623  12/12/2020  Entire rental unit  Entire home/apt           4.0   \n",
       "0  6623    1/9/2021  Entire rental unit  Entire home/apt           4.0   \n",
       "\n",
       "   bedrooms  beds  price_x  availability_90  review_scores_rating  \\\n",
       "0       2.0   4.0      225             89.0                  4.94   \n",
       "0       2.0   4.0      225             89.0                  4.94   \n",
       "\n",
       "   review_scores_accuracy  review_scores_cleanliness  review_scores_location  \\\n",
       "0                    4.96                       4.99                    4.96   \n",
       "0                    4.96                       4.99                    4.96   \n",
       "\n",
       "   review_scores_value    city  \n",
       "0                 4.92  Venice  \n",
       "0                 4.92  Venice  "
      ]
     },
     "execution_count": 278,
     "metadata": {},
     "output_type": "execute_result"
    }
   ],
   "source": [
    "df_join_venice = venice_df.join(raw_df_venice, lsuffix='_x', rsuffix='_y')\n",
    "venice_df_master = df_join_venice.copy()\n",
    "venice_df_final = venice_df_master[['id_x','Month', 'property_type', 'room_type_x', 'accommodates',\n",
    "                               'bedrooms', 'beds', 'price_x', 'availability_90','review_scores_rating',\n",
    "                               'review_scores_accuracy','review_scores_cleanliness','review_scores_location',\n",
    "                               'review_scores_value']]\n",
    "venice_df_final['city']='Venice'\n",
    "venice_df_final.head(2)"
   ]
  },
  {
   "cell_type": "markdown",
   "id": "9d3396ee",
   "metadata": {},
   "source": [
    "## Vienna"
   ]
  },
  {
   "cell_type": "code",
   "execution_count": 84,
   "id": "0dfdb2b9",
   "metadata": {
    "scrolled": false
   },
   "outputs": [
    {
     "name": "stdout",
     "output_type": "stream",
     "text": [
      "The 12_12_2020 dataset contains 12052 AirBnb listings; the avg price is €82.66.\n",
      "The 1_9_2021 dataset contains 11667 AirBnb listings; the avg price is €77.63.\n",
      "The 2_8_2021 dataset contains 11496 AirBnb listings; the avg price is €86.12.\n",
      "The 3_4_2021 dataset contains 11432 AirBnb listings; the avg price is €87.15.\n",
      "The 4_9_2021 dataset contains 11477 AirBnb listings; the avg price is €83.13.\n",
      "The 6_3_2021 dataset contains 11567 AirBnb listings; the avg price is €77.15.\n",
      "The 7_4_2021 dataset contains 11689 AirBnb listings; the avg price is €77.13.\n",
      "The 8_6_2021 dataset contains 11625 AirBnb listings; the avg price is €79.18.\n",
      "The 9_7_2021 dataset contains 11583 AirBnb listings; the avg price is €80.37.\n",
      "The 10_6_2021 dataset contains 11294 AirBnb listings; the avg price is €81.1.\n"
     ]
    }
   ],
   "source": [
    "vienna_raw_df_12_12_2020 = pd.read_csv('/Users/brendan/Desktop/Python/Hustle Projects/Airbnb/data4/raw-data/vienna/vienna_2020-12.csv')\n",
    "vienna_raw_df_12_12_2020['Month']='12/12/2020' \n",
    "print(f\"The 12_12_2020 dataset contains {len(vienna_raw_df_12_12_2020)} AirBnb listings; the avg price is €{round(vienna_raw_df_12_12_2020['price'].mean(),2)}.\")\n",
    "\n",
    "vienna_raw_df_1_9_2021 = pd.read_csv('/Users/brendan/Desktop/Python/Hustle Projects/Airbnb/data4/raw-data/vienna/vienna_2021-01.csv')\n",
    "vienna_raw_df_1_9_2021['Month']='1/9/2021' \n",
    "print(f\"The 1_9_2021 dataset contains {len(vienna_raw_df_1_9_2021)} AirBnb listings; the avg price is €{round(vienna_raw_df_1_9_2021['price'].mean(),2)}.\")\n",
    "\n",
    "vienna_raw_df_2_8_2021 = pd.read_csv('/Users/brendan/Desktop/Python/Hustle Projects/Airbnb/data4/raw-data/vienna/vienna_2021-02.csv')\n",
    "vienna_raw_df_2_8_2021['Month']='2/8/2021'\n",
    "print(f\"The 2_8_2021 dataset contains {len(vienna_raw_df_2_8_2021)} AirBnb listings; the avg price is €{round(vienna_raw_df_2_8_2021['price'].mean(),2)}.\")\n",
    "\n",
    "vienna_raw_df_3_4_2021 = pd.read_csv('/Users/brendan/Desktop/Python/Hustle Projects/Airbnb/data4/raw-data/vienna/vienna_2021-03.csv')\n",
    "vienna_raw_df_3_4_2021['Month']='3/4/2021' \n",
    "print(f\"The 3_4_2021 dataset contains {len(vienna_raw_df_3_4_2021)} AirBnb listings; the avg price is €{round(vienna_raw_df_3_4_2021['price'].mean(),2)}.\")\n",
    "\n",
    "vienna_raw_df_4_9_2021 = pd.read_csv('/Users/brendan/Desktop/Python/Hustle Projects/Airbnb/data4/raw-data/vienna/vienna_2021-04.csv')\n",
    "vienna_raw_df_4_9_2021['Month']='4/9/2021'\n",
    "print(f\"The 4_9_2021 dataset contains {len(vienna_raw_df_4_9_2021)} AirBnb listings; the avg price is €{round(vienna_raw_df_4_9_2021['price'].mean(),2)}.\")\n",
    "\n",
    "#vienna_raw_df_5_19_2021 = pd.read_csv('/Users/brendan/Desktop/Python/Hustle Projects/Airbnb/data4/raw-data/vienna/vienna_2021-05.csv')\n",
    "#print(f\"The 5_19_2021 dataset contains {len(vienna_raw_df_5_19_2021)} AirBnb listings; the avg price is €{round(vienna_raw_df_5_19_2021['price'].mean(),2)}.\")\n",
    "\n",
    "vienna_raw_df_6_3_2021 = pd.read_csv('/Users/brendan/Desktop/Python/Hustle Projects/Airbnb/data4/raw-data/vienna/vienna_2021-06.csv')\n",
    "vienna_raw_df_6_3_2021['Month']='6/3/2021'\n",
    "print(f\"The 6_3_2021 dataset contains {len(vienna_raw_df_6_3_2021)} AirBnb listings; the avg price is €{round(vienna_raw_df_6_3_2021['price'].mean(),2)}.\")\n",
    "\n",
    "vienna_raw_df_7_4_2021 = pd.read_csv('/Users/brendan/Desktop/Python/Hustle Projects/Airbnb/data4/raw-data/vienna/vienna_2021-07.csv')\n",
    "vienna_raw_df_7_4_2021['Month']='7/4/2021'\n",
    "print(f\"The 7_4_2021 dataset contains {len(vienna_raw_df_7_4_2021)} AirBnb listings; the avg price is €{round(vienna_raw_df_7_4_2021['price'].mean(),2)}.\")\n",
    "\n",
    "vienna_raw_df_8_6_2021 = pd.read_csv('/Users/brendan/Desktop/Python/Hustle Projects/Airbnb/data4/raw-data/vienna/vienna_2021-08.csv')\n",
    "vienna_raw_df_8_6_2021['Month']='8/6/2021'\n",
    "print(f\"The 8_6_2021 dataset contains {len(vienna_raw_df_8_6_2021)} AirBnb listings; the avg price is €{round(vienna_raw_df_8_6_2021['price'].mean(),2)}.\")\n",
    "\n",
    "vienna_raw_df_9_7_2021 = pd.read_csv('/Users/brendan/Desktop/Python/Hustle Projects/Airbnb/data4/raw-data/vienna/vienna_2021-09.csv')\n",
    "vienna_raw_df_9_7_2021['Month']='9/7/2021'\n",
    "print(f\"The 9_7_2021 dataset contains {len(vienna_raw_df_9_7_2021)} AirBnb listings; the avg price is €{round(vienna_raw_df_9_7_2021['price'].mean(),2)}.\")\n",
    "\n",
    "vienna_raw_df_10_6_2021 = pd.read_csv('/Users/brendan/Desktop/Python/Hustle Projects/Airbnb/data4/raw-data/vienna/vienna_2021-10.csv')\n",
    "vienna_raw_df_10_6_2021['Month']='10/6/2021'\n",
    "print(f\"The 10_6_2021 dataset contains {len(vienna_raw_df_10_6_2021)} AirBnb listings; the avg price is €{round(vienna_raw_df_10_6_2021['price'].mean(),2)}.\")"
   ]
  },
  {
   "cell_type": "code",
   "execution_count": 85,
   "id": "95507158",
   "metadata": {},
   "outputs": [],
   "source": [
    "vienna_list_of_df = [vienna_raw_df_12_12_2020, vienna_raw_df_1_9_2021, vienna_raw_df_2_8_2021, vienna_raw_df_3_4_2021,\n",
    "                        vienna_raw_df_4_9_2021, vienna_raw_df_6_3_2021, vienna_raw_df_7_4_2021, vienna_raw_df_8_6_2021, vienna_raw_df_9_7_2021]\n"
   ]
  },
  {
   "cell_type": "code",
   "execution_count": 205,
   "id": "85d052d4",
   "metadata": {},
   "outputs": [
    {
     "data": {
      "text/plain": [
       "(104588, 19)"
      ]
     },
     "execution_count": 205,
     "metadata": {},
     "output_type": "execute_result"
    }
   ],
   "source": [
    "vienna_df = pd.concat(vienna_list_of_df)\n",
    "vienna_df.shape"
   ]
  },
  {
   "cell_type": "code",
   "execution_count": 206,
   "id": "8ed29376",
   "metadata": {},
   "outputs": [],
   "source": [
    "raw_df_vienna = pd.read_csv('/Users/brendan/Desktop/Python/Hustle Projects/Airbnb/data4/raw-data/vienna/vienna_detailed.csv')\n"
   ]
  },
  {
   "cell_type": "code",
   "execution_count": 207,
   "id": "11220ca3",
   "metadata": {},
   "outputs": [],
   "source": [
    "vienna_list_of_df = [vienna_raw_df_12_12_2020, vienna_raw_df_1_9_2021, vienna_raw_df_2_8_2021, vienna_raw_df_3_4_2021,\n",
    "                        vienna_raw_df_4_9_2021, vienna_raw_df_6_3_2021, vienna_raw_df_7_4_2021, vienna_raw_df_8_6_2021, vienna_raw_df_9_7_2021]\n"
   ]
  },
  {
   "cell_type": "code",
   "execution_count": 208,
   "id": "89dfbaed",
   "metadata": {},
   "outputs": [
    {
     "data": {
      "text/plain": [
       "(104588, 19)"
      ]
     },
     "execution_count": 208,
     "metadata": {},
     "output_type": "execute_result"
    }
   ],
   "source": [
    "vienna_df = pd.concat(vienna_list_of_df)\n",
    "vienna_df.shape"
   ]
  },
  {
   "cell_type": "code",
   "execution_count": 279,
   "id": "3044a9bc",
   "metadata": {
    "scrolled": true
   },
   "outputs": [
    {
     "data": {
      "text/plain": [
       "id_x                             0\n",
       "Month                            0\n",
       "property_type                 1907\n",
       "room_type_x                      0\n",
       "accommodates                  1907\n",
       "price_x                          0\n",
       "availability_90               1907\n",
       "review_scores_rating         22850\n",
       "review_scores_accuracy       23840\n",
       "review_scores_cleanliness    23840\n",
       "review_scores_location       23849\n",
       "review_scores_value          23858\n",
       "city                             0\n",
       "dtype: int64"
      ]
     },
     "execution_count": 279,
     "metadata": {},
     "output_type": "execute_result"
    }
   ],
   "source": [
    "df_join_vienna = vienna_df.join(raw_df_vienna, lsuffix='_x', rsuffix='_y')\n",
    "vienna_df_master = df_join_vienna.copy()\n",
    "vienna_df_final = vienna_df_master[['id_x','Month', 'property_type', 'room_type_x', 'accommodates',\n",
    "                                'price_x', 'availability_90','review_scores_rating',\n",
    "                               'review_scores_accuracy','review_scores_cleanliness','review_scores_location',\n",
    "                               'review_scores_value']]\n",
    "vienna_df_final['city']='Vienna'\n",
    "vienna_df_final.head(2)\n",
    "vienna_df_final.isna().sum()"
   ]
  },
  {
   "cell_type": "code",
   "execution_count": null,
   "id": "87c74864",
   "metadata": {},
   "outputs": [],
   "source": []
  },
  {
   "cell_type": "code",
   "execution_count": 280,
   "id": "f020e1b4",
   "metadata": {},
   "outputs": [
    {
     "data": {
      "text/plain": [
       "id_x                              0\n",
       "Month                             0\n",
       "property_type                350218\n",
       "room_type_x                       0\n",
       "accommodates                 350218\n",
       "bedrooms                     655105\n",
       "beds                         500267\n",
       "price_x                           0\n",
       "availability_90              350218\n",
       "review_scores_rating         918063\n",
       "review_scores_accuracy       945790\n",
       "review_scores_cleanliness    945507\n",
       "review_scores_location       946324\n",
       "review_scores_value          946421\n",
       "city                              0\n",
       "dtype: int64"
      ]
     },
     "execution_count": 280,
     "metadata": {},
     "output_type": "execute_result"
    }
   ],
   "source": [
    "list_of_city_master_df = [amsterdam_df_final, antwerp_df_final, barcelona_df_final, berlin_df_final, bordeaux_df_final, \n",
    "                          brussels_df_final,crete_df_final, florence_df_final, lisbon_df_final, lyon_df_final, \n",
    "                          madrid_df_final, milan_df_final, munich_df_final, naples_df_final, paris_df_final, \n",
    "                          rome_df_final, sicily_df_final, venice_df_final, vienna_df_final]\n",
    "euro_df_raw = pd.concat(list_of_city_master_df)\n",
    "euro_df_raw.isna().sum()"
   ]
  },
  {
   "cell_type": "code",
   "execution_count": 281,
   "id": "21c2354a",
   "metadata": {},
   "outputs": [
    {
     "data": {
      "text/plain": [
       "Index(['id_x', 'Month', 'property_type', 'room_type_x', 'accommodates',\n",
       "       'bedrooms', 'beds', 'price_x', 'availability_90',\n",
       "       'review_scores_rating', 'review_scores_accuracy',\n",
       "       'review_scores_cleanliness', 'review_scores_location',\n",
       "       'review_scores_value', 'city'],\n",
       "      dtype='object')"
      ]
     },
     "execution_count": 281,
     "metadata": {},
     "output_type": "execute_result"
    }
   ],
   "source": [
    "euro_df_raw.columns"
   ]
  },
  {
   "cell_type": "code",
   "execution_count": 282,
   "id": "556682fd",
   "metadata": {},
   "outputs": [
    {
     "data": {
      "text/plain": [
       "id_x                              0\n",
       "Month                             0\n",
       "property_type                 40218\n",
       "room_type_x                       0\n",
       "accommodates                  40218\n",
       "bedrooms                      85184\n",
       "beds                          62342\n",
       "price_x                           0\n",
       "availability_90               40218\n",
       "review_scores_rating         129295\n",
       "review_scores_accuracy       133370\n",
       "review_scores_cleanliness    133331\n",
       "review_scores_location       133455\n",
       "review_scores_value          133466\n",
       "city                              0\n",
       "dtype: int64"
      ]
     },
     "execution_count": 282,
     "metadata": {},
     "output_type": "execute_result"
    }
   ],
   "source": [
    "euro_df = euro_df_raw.copy()\n",
    "euro_df_final = euro_df.drop_duplicates(subset='id_x')\n",
    "#euro_df_final = euro_df.copy()\n",
    "euro_df_final.isna().sum()\n",
    "#euro_df_final.shape"
   ]
  },
  {
   "cell_type": "code",
   "execution_count": 283,
   "id": "ed2a314f",
   "metadata": {},
   "outputs": [
    {
     "data": {
      "text/plain": [
       "((296533, 13),\n",
       " id_x                         0\n",
       " Month                        0\n",
       " property_type                0\n",
       " room_type_x                  0\n",
       " accommodates                 0\n",
       " price_x                      0\n",
       " availability_90              0\n",
       " review_scores_rating         0\n",
       " review_scores_accuracy       0\n",
       " review_scores_cleanliness    0\n",
       " review_scores_location       0\n",
       " review_scores_value          0\n",
       " city                         0\n",
       " dtype: int64)"
      ]
     },
     "execution_count": 283,
     "metadata": {},
     "output_type": "execute_result"
    }
   ],
   "source": [
    "euro_df_final = euro_df_final.dropna(subset = ['review_scores_rating', 'review_scores_accuracy',\n",
    "       'review_scores_cleanliness','review_scores_location',\n",
    "       'review_scores_value'])\n",
    "euro_df_final = euro_df_final.drop(['bedrooms', 'beds'],axis=1)\n",
    "euro_df_final.shape, euro_df_final.isna().sum()"
   ]
  },
  {
   "cell_type": "code",
   "execution_count": 284,
   "id": "9ee10e78",
   "metadata": {},
   "outputs": [
    {
     "data": {
      "text/html": [
       "<div><div id=4f3841c6-2f09-4f1d-9852-6f03fb7467f8 style=\"display:none; background-color:#9D6CFF; color:white; width:200px; height:30px; padding-left:5px; border-radius:4px; flex-direction:row; justify-content:space-around; align-items:center;\" onmouseover=\"this.style.backgroundColor='#BA9BF8'\" onmouseout=\"this.style.backgroundColor='#9D6CFF'\" onclick=\"window.commands?.execute('create-mitosheet-from-dataframe-output');\">See Full Dataframe in Mito</div> <script> if (window.commands.hasCommand('create-mitosheet-from-dataframe-output')) document.getElementById('4f3841c6-2f09-4f1d-9852-6f03fb7467f8').style.display = 'flex' </script> <table border=\"1\" class=\"dataframe\">\n",
       "  <thead>\n",
       "    <tr style=\"text-align: right;\">\n",
       "      <th></th>\n",
       "      <th>id_x</th>\n",
       "      <th>Month</th>\n",
       "      <th>property_type</th>\n",
       "      <th>room_type_x</th>\n",
       "      <th>accommodates</th>\n",
       "      <th>price_x</th>\n",
       "      <th>availability_90</th>\n",
       "      <th>review_scores_rating</th>\n",
       "      <th>review_scores_accuracy</th>\n",
       "      <th>review_scores_cleanliness</th>\n",
       "      <th>review_scores_location</th>\n",
       "      <th>review_scores_value</th>\n",
       "      <th>city</th>\n",
       "    </tr>\n",
       "  </thead>\n",
       "  <tbody>\n",
       "    <tr>\n",
       "      <th>11370</th>\n",
       "      <td>49710700</td>\n",
       "      <td>6/3/2021</td>\n",
       "      <td>Entire rental unit</td>\n",
       "      <td>Entire home/apt</td>\n",
       "      <td>4.0</td>\n",
       "      <td>63</td>\n",
       "      <td>8.0</td>\n",
       "      <td>5.0</td>\n",
       "      <td>5.0</td>\n",
       "      <td>5.0</td>\n",
       "      <td>5.0</td>\n",
       "      <td>5.0</td>\n",
       "      <td>Vienna</td>\n",
       "    </tr>\n",
       "    <tr>\n",
       "      <th>11370</th>\n",
       "      <td>51623094</td>\n",
       "      <td>9/7/2021</td>\n",
       "      <td>Entire rental unit</td>\n",
       "      <td>Entire home/apt</td>\n",
       "      <td>4.0</td>\n",
       "      <td>45</td>\n",
       "      <td>8.0</td>\n",
       "      <td>5.0</td>\n",
       "      <td>5.0</td>\n",
       "      <td>5.0</td>\n",
       "      <td>5.0</td>\n",
       "      <td>5.0</td>\n",
       "      <td>Vienna</td>\n",
       "    </tr>\n",
       "  </tbody>\n",
       "</table></div>"
      ],
      "text/plain": [
       "           id_x     Month       property_type      room_type_x  accommodates  \\\n",
       "11370  49710700  6/3/2021  Entire rental unit  Entire home/apt           4.0   \n",
       "11370  51623094  9/7/2021  Entire rental unit  Entire home/apt           4.0   \n",
       "\n",
       "       price_x  availability_90  review_scores_rating  review_scores_accuracy  \\\n",
       "11370       63              8.0                   5.0                     5.0   \n",
       "11370       45              8.0                   5.0                     5.0   \n",
       "\n",
       "       review_scores_cleanliness  review_scores_location  review_scores_value  \\\n",
       "11370                        5.0                     5.0                  5.0   \n",
       "11370                        5.0                     5.0                  5.0   \n",
       "\n",
       "         city  \n",
       "11370  Vienna  \n",
       "11370  Vienna  "
      ]
     },
     "execution_count": 284,
     "metadata": {},
     "output_type": "execute_result"
    }
   ],
   "source": [
    "euro_df_final.tail(2)"
   ]
  },
  {
   "cell_type": "markdown",
   "id": "7534a033",
   "metadata": {},
   "source": [
    "## Regression"
   ]
  },
  {
   "cell_type": "code",
   "execution_count": 285,
   "id": "c6687bb6",
   "metadata": {},
   "outputs": [
    {
     "name": "stdout",
     "output_type": "stream",
     "text": [
      "There is 296533 to be regressed\n"
     ]
    }
   ],
   "source": [
    "df_regression = euro_df_final.copy()\n",
    "df_regression_euro = df_regression[['id_x', 'property_type',  'accommodates',\n",
    "                                'price_x', 'availability_90','review_scores_rating',\n",
    "                               'review_scores_accuracy','review_scores_cleanliness','review_scores_location',\n",
    "                               'review_scores_value',]]\n",
    "\n",
    "df_regression_euro['price_x'] = pd.to_numeric(df_regression_euro['price_x'])\n",
    "df_regression_euro.isna().sum()\n",
    "\n",
    "df_regression_euro = df_regression_euro.fillna(df_regression_euro.mean())\n",
    "#df_regression_euro = df_regression_euro[df_regression_euro['accommodates']<=euro]\n",
    "\n",
    "#print(f'There is {len(df_reviews_)} in the entire data set')\n",
    "print(f'There is {len(df_regression_euro)} to be regressed')"
   ]
  },
  {
   "cell_type": "code",
   "execution_count": 286,
   "id": "2c423bec",
   "metadata": {},
   "outputs": [
    {
     "name": "stdout",
     "output_type": "stream",
     "text": [
      "Intercept:  102.77527821772803\n",
      "Coefficients:  [ 1.03460036  0.05253004  1.57590971 -6.03915763  2.32054398  2.91658998\n",
      "  0.47795003]\n",
      "LinearRegression()\n"
     ]
    }
   ],
   "source": [
    "X_euro = df_regression_euro[['accommodates',\n",
    "        'availability_90','review_scores_rating','review_scores_accuracy','review_scores_cleanliness','review_scores_location',\n",
    "                               'review_scores_value']]\n",
    "\n",
    "y_euro = df_regression_euro['price_x'].replace({'\\$':''}, regex = True)\n",
    "Y_euro = y_euro.replace({',':''}, regex=True)\n",
    "\n",
    "# with sklearn\n",
    "regr_euro = LinearRegression()\n",
    "regr_euro.fit(X_euro, Y_euro)\n",
    "\n",
    "print('Intercept: ', regr_euro.intercept_)\n",
    "print('Coefficients: ', regr_euro.coef_)\n",
    "\n",
    "print (regr_euro)"
   ]
  },
  {
   "cell_type": "code",
   "execution_count": 287,
   "id": "19b37caa",
   "metadata": {},
   "outputs": [],
   "source": [
    "y_pred_euro = regr_euro.predict(X_euro)"
   ]
  },
  {
   "cell_type": "code",
   "execution_count": 315,
   "id": "fbc13fda",
   "metadata": {},
   "outputs": [],
   "source": [
    "df_mult_euro= pd.DataFrame({'Actual': Y_euro, 'Predicted': y_pred_euro.flatten()})\n",
    "df_mult_euro['Diff'] = df_mult_euro['Predicted'] - df_mult_euro['Actual']\n",
    "df_mult_sort_euro = df_mult_euro.sort_values(by=['Diff'])\n",
    "#df_result = (df_mult_sort_euro[df_mult_sort_euro['Actual'] >=75]) & (df_mult_sort_euro[df_mult_sort_euro['Actual'] <=300])\n",
    "df_result_euro = df_mult_sort_euro.query('Actual >= 50')\n"
   ]
  },
  {
   "cell_type": "code",
   "execution_count": 370,
   "id": "19f63346",
   "metadata": {},
   "outputs": [],
   "source": [
    "df_euro_filter = df_result_euro[df_result_euro['Actual']<=1000]\n",
    "df_euro_reset = df_euro_filter.copy()\n",
    "df_euro_reset = df_euro_reset.rename(columns={'index':'id_x'})\n"
   ]
  },
  {
   "cell_type": "code",
   "execution_count": 371,
   "id": "865f92af",
   "metadata": {},
   "outputs": [
    {
     "data": {
      "text/plain": [
       "((296533, 12), (221651, 3))"
      ]
     },
     "execution_count": 371,
     "metadata": {},
     "output_type": "execute_result"
    }
   ],
   "source": [
    "euro_df_final.shape, df_euro_reset.shape"
   ]
  },
  {
   "cell_type": "code",
   "execution_count": 372,
   "id": "03b8fb81",
   "metadata": {},
   "outputs": [
    {
     "data": {
      "text/html": [
       "<div><div id=54d8cf92-b4d2-45f1-bac5-23c43a823fa9 style=\"display:none; background-color:#9D6CFF; color:white; width:200px; height:30px; padding-left:5px; border-radius:4px; flex-direction:row; justify-content:space-around; align-items:center;\" onmouseover=\"this.style.backgroundColor='#BA9BF8'\" onmouseout=\"this.style.backgroundColor='#9D6CFF'\" onclick=\"window.commands?.execute('create-mitosheet-from-dataframe-output');\">See Full Dataframe in Mito</div> <script> if (window.commands.hasCommand('create-mitosheet-from-dataframe-output')) document.getElementById('54d8cf92-b4d2-45f1-bac5-23c43a823fa9').style.display = 'flex' </script> <table border=\"1\" class=\"dataframe\">\n",
       "  <thead>\n",
       "    <tr style=\"text-align: right;\">\n",
       "      <th></th>\n",
       "      <th>id_x</th>\n",
       "      <th>Month</th>\n",
       "      <th>property_type</th>\n",
       "      <th>room_type_x</th>\n",
       "      <th>accommodates</th>\n",
       "      <th>price_x</th>\n",
       "      <th>availability_90</th>\n",
       "      <th>review_scores_rating</th>\n",
       "      <th>review_scores_accuracy</th>\n",
       "      <th>review_scores_cleanliness</th>\n",
       "      <th>review_scores_location</th>\n",
       "      <th>review_scores_value</th>\n",
       "      <th>city</th>\n",
       "    </tr>\n",
       "  </thead>\n",
       "  <tbody>\n",
       "    <tr>\n",
       "      <th>0</th>\n",
       "      <td>2818</td>\n",
       "      <td>12/12/2020</td>\n",
       "      <td>Private room in rental unit</td>\n",
       "      <td>Private room</td>\n",
       "      <td>2.0</td>\n",
       "      <td>59</td>\n",
       "      <td>33.0</td>\n",
       "      <td>4.89</td>\n",
       "      <td>4.93</td>\n",
       "      <td>5.00</td>\n",
       "      <td>4.68</td>\n",
       "      <td>4.81</td>\n",
       "      <td>Amsterdam</td>\n",
       "    </tr>\n",
       "    <tr>\n",
       "      <th>1</th>\n",
       "      <td>20168</td>\n",
       "      <td>12/12/2020</td>\n",
       "      <td>Private room in townhouse</td>\n",
       "      <td>Private room</td>\n",
       "      <td>2.0</td>\n",
       "      <td>236</td>\n",
       "      <td>0.0</td>\n",
       "      <td>4.44</td>\n",
       "      <td>4.69</td>\n",
       "      <td>4.79</td>\n",
       "      <td>4.87</td>\n",
       "      <td>4.49</td>\n",
       "      <td>Amsterdam</td>\n",
       "    </tr>\n",
       "    <tr>\n",
       "      <th>2</th>\n",
       "      <td>9693</td>\n",
       "      <td>6/3/2021</td>\n",
       "      <td>Private room in townhouse</td>\n",
       "      <td>Entire home/apt</td>\n",
       "      <td>2.0</td>\n",
       "      <td>128</td>\n",
       "      <td>0.0</td>\n",
       "      <td>4.44</td>\n",
       "      <td>4.69</td>\n",
       "      <td>4.79</td>\n",
       "      <td>4.87</td>\n",
       "      <td>4.49</td>\n",
       "      <td>Amsterdam</td>\n",
       "    </tr>\n",
       "    <tr>\n",
       "      <th>3</th>\n",
       "      <td>25428</td>\n",
       "      <td>12/12/2020</td>\n",
       "      <td>Private room in houseboat</td>\n",
       "      <td>Entire home/apt</td>\n",
       "      <td>2.0</td>\n",
       "      <td>125</td>\n",
       "      <td>22.0</td>\n",
       "      <td>4.95</td>\n",
       "      <td>4.93</td>\n",
       "      <td>4.96</td>\n",
       "      <td>4.90</td>\n",
       "      <td>4.80</td>\n",
       "      <td>Amsterdam</td>\n",
       "    </tr>\n",
       "    <tr>\n",
       "      <th>4</th>\n",
       "      <td>27886</td>\n",
       "      <td>12/12/2020</td>\n",
       "      <td>Private room in rental unit</td>\n",
       "      <td>Private room</td>\n",
       "      <td>2.0</td>\n",
       "      <td>135</td>\n",
       "      <td>43.0</td>\n",
       "      <td>4.88</td>\n",
       "      <td>4.94</td>\n",
       "      <td>4.89</td>\n",
       "      <td>4.97</td>\n",
       "      <td>4.82</td>\n",
       "      <td>Amsterdam</td>\n",
       "    </tr>\n",
       "  </tbody>\n",
       "</table></div>"
      ],
      "text/plain": [
       "    id_x       Month                property_type      room_type_x  \\\n",
       "0   2818  12/12/2020  Private room in rental unit     Private room   \n",
       "1  20168  12/12/2020    Private room in townhouse     Private room   \n",
       "2   9693    6/3/2021    Private room in townhouse  Entire home/apt   \n",
       "3  25428  12/12/2020    Private room in houseboat  Entire home/apt   \n",
       "4  27886  12/12/2020  Private room in rental unit     Private room   \n",
       "\n",
       "   accommodates  price_x  availability_90  review_scores_rating  \\\n",
       "0           2.0       59             33.0                  4.89   \n",
       "1           2.0      236              0.0                  4.44   \n",
       "2           2.0      128              0.0                  4.44   \n",
       "3           2.0      125             22.0                  4.95   \n",
       "4           2.0      135             43.0                  4.88   \n",
       "\n",
       "   review_scores_accuracy  review_scores_cleanliness  review_scores_location  \\\n",
       "0                    4.93                       5.00                    4.68   \n",
       "1                    4.69                       4.79                    4.87   \n",
       "2                    4.69                       4.79                    4.87   \n",
       "3                    4.93                       4.96                    4.90   \n",
       "4                    4.94                       4.89                    4.97   \n",
       "\n",
       "   review_scores_value       city  \n",
       "0                 4.81  Amsterdam  \n",
       "1                 4.49  Amsterdam  \n",
       "2                 4.49  Amsterdam  \n",
       "3                 4.80  Amsterdam  \n",
       "4                 4.82  Amsterdam  "
      ]
     },
     "execution_count": 372,
     "metadata": {},
     "output_type": "execute_result"
    }
   ],
   "source": [
    "euro_df_final.reset_index().head()"
   ]
  },
  {
   "cell_type": "code",
   "execution_count": 373,
   "id": "94ac5f32",
   "metadata": {},
   "outputs": [],
   "source": [
    "df_euro_reset = df_euro_reset.reset_index().head()"
   ]
  },
  {
   "cell_type": "code",
   "execution_count": 374,
   "id": "6eff2738",
   "metadata": {},
   "outputs": [
    {
     "data": {
      "text/html": [
       "<div><div id=c972ca73-783f-4048-84d2-2bcf62aa1497 style=\"display:none; background-color:#9D6CFF; color:white; width:200px; height:30px; padding-left:5px; border-radius:4px; flex-direction:row; justify-content:space-around; align-items:center;\" onmouseover=\"this.style.backgroundColor='#BA9BF8'\" onmouseout=\"this.style.backgroundColor='#9D6CFF'\" onclick=\"window.commands?.execute('create-mitosheet-from-dataframe-output');\">See Full Dataframe in Mito</div> <script> if (window.commands.hasCommand('create-mitosheet-from-dataframe-output')) document.getElementById('c972ca73-783f-4048-84d2-2bcf62aa1497').style.display = 'flex' </script> <table border=\"1\" class=\"dataframe\">\n",
       "  <thead>\n",
       "    <tr style=\"text-align: right;\">\n",
       "      <th></th>\n",
       "      <th>index</th>\n",
       "      <th>Actual</th>\n",
       "      <th>Predicted</th>\n",
       "      <th>Diff</th>\n",
       "    </tr>\n",
       "  </thead>\n",
       "  <tbody>\n",
       "    <tr>\n",
       "      <th>0</th>\n",
       "      <td>15114</td>\n",
       "      <td>999</td>\n",
       "      <td>101.055228</td>\n",
       "      <td>-897.944772</td>\n",
       "    </tr>\n",
       "    <tr>\n",
       "      <th>1</th>\n",
       "      <td>12686</td>\n",
       "      <td>1000</td>\n",
       "      <td>105.065857</td>\n",
       "      <td>-894.934143</td>\n",
       "    </tr>\n",
       "    <tr>\n",
       "      <th>2</th>\n",
       "      <td>13415</td>\n",
       "      <td>1000</td>\n",
       "      <td>105.093121</td>\n",
       "      <td>-894.906879</td>\n",
       "    </tr>\n",
       "    <tr>\n",
       "      <th>3</th>\n",
       "      <td>13310</td>\n",
       "      <td>1000</td>\n",
       "      <td>105.282822</td>\n",
       "      <td>-894.717178</td>\n",
       "    </tr>\n",
       "    <tr>\n",
       "      <th>4</th>\n",
       "      <td>25287</td>\n",
       "      <td>999</td>\n",
       "      <td>105.501879</td>\n",
       "      <td>-893.498121</td>\n",
       "    </tr>\n",
       "  </tbody>\n",
       "</table></div>"
      ],
      "text/plain": [
       "   index  Actual   Predicted        Diff\n",
       "0  15114     999  101.055228 -897.944772\n",
       "1  12686    1000  105.065857 -894.934143\n",
       "2  13415    1000  105.093121 -894.906879\n",
       "3  13310    1000  105.282822 -894.717178\n",
       "4  25287     999  105.501879 -893.498121"
      ]
     },
     "execution_count": 374,
     "metadata": {},
     "output_type": "execute_result"
    }
   ],
   "source": [
    "df_euro_reset.head()"
   ]
  },
  {
   "cell_type": "code",
   "execution_count": 384,
   "id": "d81fd52e",
   "metadata": {},
   "outputs": [
    {
     "data": {
      "text/html": [
       "<div><div id=47ec9c08-91c5-4ec6-a788-eb0b842122f8 style=\"display:none; background-color:#9D6CFF; color:white; width:200px; height:30px; padding-left:5px; border-radius:4px; flex-direction:row; justify-content:space-around; align-items:center;\" onmouseover=\"this.style.backgroundColor='#BA9BF8'\" onmouseout=\"this.style.backgroundColor='#9D6CFF'\" onclick=\"window.commands?.execute('create-mitosheet-from-dataframe-output');\">See Full Dataframe in Mito</div> <script> if (window.commands.hasCommand('create-mitosheet-from-dataframe-output')) document.getElementById('47ec9c08-91c5-4ec6-a788-eb0b842122f8').style.display = 'flex' </script> <table border=\"1\" class=\"dataframe\">\n",
       "  <thead>\n",
       "    <tr style=\"text-align: right;\">\n",
       "      <th></th>\n",
       "      <th>level_0</th>\n",
       "      <th>index</th>\n",
       "      <th>Month</th>\n",
       "      <th>property_type</th>\n",
       "      <th>room_type_x</th>\n",
       "      <th>accommodates</th>\n",
       "      <th>price_x</th>\n",
       "      <th>availability_90</th>\n",
       "      <th>review_scores_rating</th>\n",
       "      <th>review_scores_accuracy</th>\n",
       "      <th>review_scores_cleanliness</th>\n",
       "      <th>review_scores_location</th>\n",
       "      <th>review_scores_value</th>\n",
       "      <th>city</th>\n",
       "    </tr>\n",
       "  </thead>\n",
       "  <tbody>\n",
       "    <tr>\n",
       "      <th>0</th>\n",
       "      <td>0</td>\n",
       "      <td>2818</td>\n",
       "      <td>12/12/2020</td>\n",
       "      <td>Private room in rental unit</td>\n",
       "      <td>Private room</td>\n",
       "      <td>2.0</td>\n",
       "      <td>59</td>\n",
       "      <td>33.0</td>\n",
       "      <td>4.89</td>\n",
       "      <td>4.93</td>\n",
       "      <td>5.00</td>\n",
       "      <td>4.68</td>\n",
       "      <td>4.81</td>\n",
       "      <td>Amsterdam</td>\n",
       "    </tr>\n",
       "    <tr>\n",
       "      <th>1</th>\n",
       "      <td>1</td>\n",
       "      <td>20168</td>\n",
       "      <td>12/12/2020</td>\n",
       "      <td>Private room in townhouse</td>\n",
       "      <td>Private room</td>\n",
       "      <td>2.0</td>\n",
       "      <td>236</td>\n",
       "      <td>0.0</td>\n",
       "      <td>4.44</td>\n",
       "      <td>4.69</td>\n",
       "      <td>4.79</td>\n",
       "      <td>4.87</td>\n",
       "      <td>4.49</td>\n",
       "      <td>Amsterdam</td>\n",
       "    </tr>\n",
       "    <tr>\n",
       "      <th>2</th>\n",
       "      <td>2</td>\n",
       "      <td>9693</td>\n",
       "      <td>6/3/2021</td>\n",
       "      <td>Private room in townhouse</td>\n",
       "      <td>Entire home/apt</td>\n",
       "      <td>2.0</td>\n",
       "      <td>128</td>\n",
       "      <td>0.0</td>\n",
       "      <td>4.44</td>\n",
       "      <td>4.69</td>\n",
       "      <td>4.79</td>\n",
       "      <td>4.87</td>\n",
       "      <td>4.49</td>\n",
       "      <td>Amsterdam</td>\n",
       "    </tr>\n",
       "    <tr>\n",
       "      <th>3</th>\n",
       "      <td>3</td>\n",
       "      <td>25428</td>\n",
       "      <td>12/12/2020</td>\n",
       "      <td>Private room in houseboat</td>\n",
       "      <td>Entire home/apt</td>\n",
       "      <td>2.0</td>\n",
       "      <td>125</td>\n",
       "      <td>22.0</td>\n",
       "      <td>4.95</td>\n",
       "      <td>4.93</td>\n",
       "      <td>4.96</td>\n",
       "      <td>4.90</td>\n",
       "      <td>4.80</td>\n",
       "      <td>Amsterdam</td>\n",
       "    </tr>\n",
       "    <tr>\n",
       "      <th>4</th>\n",
       "      <td>4</td>\n",
       "      <td>27886</td>\n",
       "      <td>12/12/2020</td>\n",
       "      <td>Private room in rental unit</td>\n",
       "      <td>Private room</td>\n",
       "      <td>2.0</td>\n",
       "      <td>135</td>\n",
       "      <td>43.0</td>\n",
       "      <td>4.88</td>\n",
       "      <td>4.94</td>\n",
       "      <td>4.89</td>\n",
       "      <td>4.97</td>\n",
       "      <td>4.82</td>\n",
       "      <td>Amsterdam</td>\n",
       "    </tr>\n",
       "  </tbody>\n",
       "</table></div>"
      ],
      "text/plain": [
       "   level_0  index       Month                property_type      room_type_x  \\\n",
       "0        0   2818  12/12/2020  Private room in rental unit     Private room   \n",
       "1        1  20168  12/12/2020    Private room in townhouse     Private room   \n",
       "2        2   9693    6/3/2021    Private room in townhouse  Entire home/apt   \n",
       "3        3  25428  12/12/2020    Private room in houseboat  Entire home/apt   \n",
       "4        4  27886  12/12/2020  Private room in rental unit     Private room   \n",
       "\n",
       "   accommodates  price_x  availability_90  review_scores_rating  \\\n",
       "0           2.0       59             33.0                  4.89   \n",
       "1           2.0      236              0.0                  4.44   \n",
       "2           2.0      128              0.0                  4.44   \n",
       "3           2.0      125             22.0                  4.95   \n",
       "4           2.0      135             43.0                  4.88   \n",
       "\n",
       "   review_scores_accuracy  review_scores_cleanliness  review_scores_location  \\\n",
       "0                    4.93                       5.00                    4.68   \n",
       "1                    4.69                       4.79                    4.87   \n",
       "2                    4.69                       4.79                    4.87   \n",
       "3                    4.93                       4.96                    4.90   \n",
       "4                    4.94                       4.89                    4.97   \n",
       "\n",
       "   review_scores_value       city  \n",
       "0                 4.81  Amsterdam  \n",
       "1                 4.49  Amsterdam  \n",
       "2                 4.49  Amsterdam  \n",
       "3                 4.80  Amsterdam  \n",
       "4                 4.82  Amsterdam  "
      ]
     },
     "execution_count": 384,
     "metadata": {},
     "output_type": "execute_result"
    }
   ],
   "source": [
    "#euro_df_final = euro_df_final.rename(columns={'id_x':'index'}).reset_index()\n",
    "euro_df_final = euro_df_final.rename(columns={'id_x':'index'}).head()\n",
    "euro_df_final.head()"
   ]
  },
  {
   "cell_type": "code",
   "execution_count": 390,
   "id": "bbbe884f",
   "metadata": {},
   "outputs": [
    {
     "data": {
      "text/html": [
       "<div><div id=7d5aad76-0bd1-4741-b792-2418c4b96979 style=\"display:none; background-color:#9D6CFF; color:white; width:200px; height:30px; padding-left:5px; border-radius:4px; flex-direction:row; justify-content:space-around; align-items:center;\" onmouseover=\"this.style.backgroundColor='#BA9BF8'\" onmouseout=\"this.style.backgroundColor='#9D6CFF'\" onclick=\"window.commands?.execute('create-mitosheet-from-dataframe-output');\">See Full Dataframe in Mito</div> <script> if (window.commands.hasCommand('create-mitosheet-from-dataframe-output')) document.getElementById('7d5aad76-0bd1-4741-b792-2418c4b96979').style.display = 'flex' </script> <table border=\"1\" class=\"dataframe\">\n",
       "  <thead>\n",
       "    <tr style=\"text-align: right;\">\n",
       "      <th></th>\n",
       "      <th>level_0</th>\n",
       "      <th>index</th>\n",
       "      <th>Month</th>\n",
       "      <th>property_type</th>\n",
       "      <th>room_type_x</th>\n",
       "      <th>accommodates</th>\n",
       "      <th>price_x</th>\n",
       "      <th>availability_90</th>\n",
       "      <th>review_scores_rating</th>\n",
       "      <th>review_scores_accuracy</th>\n",
       "      <th>review_scores_cleanliness</th>\n",
       "      <th>review_scores_location</th>\n",
       "      <th>review_scores_value</th>\n",
       "      <th>city</th>\n",
       "      <th>index</th>\n",
       "      <th>Actual</th>\n",
       "      <th>Predicted</th>\n",
       "      <th>Diff</th>\n",
       "    </tr>\n",
       "  </thead>\n",
       "  <tbody>\n",
       "    <tr>\n",
       "      <th>0</th>\n",
       "      <td>0</td>\n",
       "      <td>2818</td>\n",
       "      <td>12/12/2020</td>\n",
       "      <td>Private room in rental unit</td>\n",
       "      <td>Private room</td>\n",
       "      <td>2.0</td>\n",
       "      <td>59</td>\n",
       "      <td>33.0</td>\n",
       "      <td>4.89</td>\n",
       "      <td>4.93</td>\n",
       "      <td>5.00</td>\n",
       "      <td>4.68</td>\n",
       "      <td>4.81</td>\n",
       "      <td>Amsterdam</td>\n",
       "      <td>15114</td>\n",
       "      <td>999</td>\n",
       "      <td>101.055228</td>\n",
       "      <td>-897.944772</td>\n",
       "    </tr>\n",
       "    <tr>\n",
       "      <th>1</th>\n",
       "      <td>1</td>\n",
       "      <td>20168</td>\n",
       "      <td>12/12/2020</td>\n",
       "      <td>Private room in townhouse</td>\n",
       "      <td>Private room</td>\n",
       "      <td>2.0</td>\n",
       "      <td>236</td>\n",
       "      <td>0.0</td>\n",
       "      <td>4.44</td>\n",
       "      <td>4.69</td>\n",
       "      <td>4.79</td>\n",
       "      <td>4.87</td>\n",
       "      <td>4.49</td>\n",
       "      <td>Amsterdam</td>\n",
       "      <td>12686</td>\n",
       "      <td>1000</td>\n",
       "      <td>105.065857</td>\n",
       "      <td>-894.934143</td>\n",
       "    </tr>\n",
       "    <tr>\n",
       "      <th>2</th>\n",
       "      <td>2</td>\n",
       "      <td>9693</td>\n",
       "      <td>6/3/2021</td>\n",
       "      <td>Private room in townhouse</td>\n",
       "      <td>Entire home/apt</td>\n",
       "      <td>2.0</td>\n",
       "      <td>128</td>\n",
       "      <td>0.0</td>\n",
       "      <td>4.44</td>\n",
       "      <td>4.69</td>\n",
       "      <td>4.79</td>\n",
       "      <td>4.87</td>\n",
       "      <td>4.49</td>\n",
       "      <td>Amsterdam</td>\n",
       "      <td>13415</td>\n",
       "      <td>1000</td>\n",
       "      <td>105.093121</td>\n",
       "      <td>-894.906879</td>\n",
       "    </tr>\n",
       "    <tr>\n",
       "      <th>3</th>\n",
       "      <td>3</td>\n",
       "      <td>25428</td>\n",
       "      <td>12/12/2020</td>\n",
       "      <td>Private room in houseboat</td>\n",
       "      <td>Entire home/apt</td>\n",
       "      <td>2.0</td>\n",
       "      <td>125</td>\n",
       "      <td>22.0</td>\n",
       "      <td>4.95</td>\n",
       "      <td>4.93</td>\n",
       "      <td>4.96</td>\n",
       "      <td>4.90</td>\n",
       "      <td>4.80</td>\n",
       "      <td>Amsterdam</td>\n",
       "      <td>13310</td>\n",
       "      <td>1000</td>\n",
       "      <td>105.282822</td>\n",
       "      <td>-894.717178</td>\n",
       "    </tr>\n",
       "    <tr>\n",
       "      <th>4</th>\n",
       "      <td>4</td>\n",
       "      <td>27886</td>\n",
       "      <td>12/12/2020</td>\n",
       "      <td>Private room in rental unit</td>\n",
       "      <td>Private room</td>\n",
       "      <td>2.0</td>\n",
       "      <td>135</td>\n",
       "      <td>43.0</td>\n",
       "      <td>4.88</td>\n",
       "      <td>4.94</td>\n",
       "      <td>4.89</td>\n",
       "      <td>4.97</td>\n",
       "      <td>4.82</td>\n",
       "      <td>Amsterdam</td>\n",
       "      <td>25287</td>\n",
       "      <td>999</td>\n",
       "      <td>105.501879</td>\n",
       "      <td>-893.498121</td>\n",
       "    </tr>\n",
       "  </tbody>\n",
       "</table></div>"
      ],
      "text/plain": [
       "   level_0  index       Month                property_type      room_type_x  \\\n",
       "0        0   2818  12/12/2020  Private room in rental unit     Private room   \n",
       "1        1  20168  12/12/2020    Private room in townhouse     Private room   \n",
       "2        2   9693    6/3/2021    Private room in townhouse  Entire home/apt   \n",
       "3        3  25428  12/12/2020    Private room in houseboat  Entire home/apt   \n",
       "4        4  27886  12/12/2020  Private room in rental unit     Private room   \n",
       "\n",
       "   accommodates  price_x  availability_90  review_scores_rating  \\\n",
       "0           2.0       59             33.0                  4.89   \n",
       "1           2.0      236              0.0                  4.44   \n",
       "2           2.0      128              0.0                  4.44   \n",
       "3           2.0      125             22.0                  4.95   \n",
       "4           2.0      135             43.0                  4.88   \n",
       "\n",
       "   review_scores_accuracy  review_scores_cleanliness  review_scores_location  \\\n",
       "0                    4.93                       5.00                    4.68   \n",
       "1                    4.69                       4.79                    4.87   \n",
       "2                    4.69                       4.79                    4.87   \n",
       "3                    4.93                       4.96                    4.90   \n",
       "4                    4.94                       4.89                    4.97   \n",
       "\n",
       "   review_scores_value       city  index  Actual   Predicted        Diff  \n",
       "0                 4.81  Amsterdam  15114     999  101.055228 -897.944772  \n",
       "1                 4.49  Amsterdam  12686    1000  105.065857 -894.934143  \n",
       "2                 4.49  Amsterdam  13415    1000  105.093121 -894.906879  \n",
       "3                 4.80  Amsterdam  13310    1000  105.282822 -894.717178  \n",
       "4                 4.82  Amsterdam  25287     999  105.501879 -893.498121  "
      ]
     },
     "execution_count": 390,
     "metadata": {},
     "output_type": "execute_result"
    }
   ],
   "source": [
    "merged_df = pd.concat(([euro_df_final, df_euro_reset]),axis=1)\n",
    "merged_df.head()"
   ]
  },
  {
   "cell_type": "markdown",
   "id": "8149f9eb",
   "metadata": {},
   "source": [
    "## need to match on aribnb id, and month"
   ]
  },
  {
   "cell_type": "code",
   "execution_count": null,
   "id": "16e0f8bc",
   "metadata": {},
   "outputs": [],
   "source": []
  }
 ],
 "metadata": {
  "kernelspec": {
   "display_name": "Python 3",
   "language": "python",
   "name": "python3"
  },
  "language_info": {
   "codemirror_mode": {
    "name": "ipython",
    "version": 3
   },
   "file_extension": ".py",
   "mimetype": "text/x-python",
   "name": "python",
   "nbconvert_exporter": "python",
   "pygments_lexer": "ipython3",
   "version": "3.8.8"
  }
 },
 "nbformat": 4,
 "nbformat_minor": 5
}
