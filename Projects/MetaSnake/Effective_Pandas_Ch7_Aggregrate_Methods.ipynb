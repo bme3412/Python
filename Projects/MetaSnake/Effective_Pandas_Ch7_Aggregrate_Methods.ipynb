{
 "cells": [
  {
   "cell_type": "code",
   "execution_count": 2,
   "id": "096da123",
   "metadata": {},
   "outputs": [],
   "source": [
    "import pandas as pd\n",
    "url = 'https://github.com/mattharrison/datasets/raw/master/data/vehicles.csv.zip'\n",
    "df = pd.read_csv(url, low_memory=False)\n",
    "city_mpg = df['city08']\n",
    "highway_mpg = df['highway08']"
   ]
  },
  {
   "cell_type": "markdown",
   "id": "9d63b070",
   "metadata": {},
   "source": [
    "## Aggregrate Methods\n",
    "+ Aggregate methods collapse the values of a series down to a scalar. Aggregations are the numbers that your boss wants to be reported\n",
    "+ Aggregations allow you to take detailed data and collapse it to a single value"
   ]
  },
  {
   "cell_type": "code",
   "execution_count": 3,
   "id": "349815c1",
   "metadata": {},
   "outputs": [
    {
     "data": {
      "text/plain": [
       "18.369045304297103"
      ]
     },
     "execution_count": 3,
     "metadata": {},
     "output_type": "execute_result"
    }
   ],
   "source": [
    "# calculate the mean value of a series\n",
    "city_mpg.mean()"
   ]
  },
  {
   "cell_type": "code",
   "execution_count": 4,
   "id": "034eaff2",
   "metadata": {},
   "outputs": [
    {
     "data": {
      "text/plain": [
       "False"
      ]
     },
     "execution_count": 4,
     "metadata": {},
     "output_type": "execute_result"
    }
   ],
   "source": [
    "# Aggregrate Properties\n",
    "city_mpg.is_unique"
   ]
  },
  {
   "cell_type": "code",
   "execution_count": 5,
   "id": "8c90c458",
   "metadata": {},
   "outputs": [
    {
     "data": {
      "text/plain": [
       "False"
      ]
     },
     "execution_count": 5,
     "metadata": {},
     "output_type": "execute_result"
    }
   ],
   "source": [
    "city_mpg.is_monotonic_increasing"
   ]
  },
  {
   "cell_type": "code",
   "execution_count": 8,
   "id": "c005478a",
   "metadata": {},
   "outputs": [
    {
     "data": {
      "text/plain": [
       "21.0"
      ]
     },
     "execution_count": 8,
     "metadata": {},
     "output_type": "execute_result"
    }
   ],
   "source": [
    "## Quantile - returns a scalar\n",
    "city_mpg.quantile(.8)"
   ]
  },
  {
   "cell_type": "code",
   "execution_count": 9,
   "id": "93a7d77e",
   "metadata": {},
   "outputs": [
    {
     "data": {
      "text/plain": [
       "0.10    13.0\n",
       "0.80    21.0\n",
       "0.99    40.0\n",
       "Name: city08, dtype: float64"
      ]
     },
     "execution_count": 9,
     "metadata": {},
     "output_type": "execute_result"
    }
   ],
   "source": [
    "## Quantile - returns a series\n",
    "city_mpg.quantile([.1, .8, .99])"
   ]
  },
  {
   "cell_type": "markdown",
   "id": "e4d97666",
   "metadata": {},
   "source": [
    "## Count and Mean of an Attribute"
   ]
  },
  {
   "cell_type": "code",
   "execution_count": 10,
   "id": "32c78c4e",
   "metadata": {},
   "outputs": [
    {
     "data": {
      "text/plain": [
       "10272"
      ]
     },
     "execution_count": 10,
     "metadata": {},
     "output_type": "execute_result"
    }
   ],
   "source": [
    "# Get the count and % of cars with mileage > 20\n",
    "(city_mpg\n",
    ".gt(20)\n",
    ".sum())"
   ]
  },
  {
   "cell_type": "code",
   "execution_count": 11,
   "id": "dfef29e9",
   "metadata": {},
   "outputs": [
    {
     "data": {
      "text/plain": [
       "24.965973167412017"
      ]
     },
     "execution_count": 11,
     "metadata": {},
     "output_type": "execute_result"
    }
   ],
   "source": [
    "# get the % of values that meet criteria\n",
    "(city_mpg\n",
    ".gt(20)\n",
    ".mul(100)\n",
    ".mean())"
   ]
  },
  {
   "cell_type": "markdown",
   "id": "e7849b8e",
   "metadata": {},
   "source": [
    "## .agg and Aggregration Strings"
   ]
  },
  {
   "cell_type": "code",
   "execution_count": 12,
   "id": "e252c665",
   "metadata": {},
   "outputs": [
    {
     "data": {
      "text/plain": [
       "18.369045304297103"
      ]
     },
     "execution_count": 12,
     "metadata": {},
     "output_type": "execute_result"
    }
   ],
   "source": [
    "# the .agg method does aggregations \n",
    "# But it transforms the data in other ways depending on how it is called\n",
    "city_mpg.agg('mean')"
   ]
  },
  {
   "cell_type": "code",
   "execution_count": 13,
   "id": "7facd72c",
   "metadata": {},
   "outputs": [],
   "source": [
    "# Where .agg shines is in the ability to perform multiple aggregations\n",
    "import numpy as np\n",
    "def second_to_last(s):\n",
    "    return s.iloc[-2]"
   ]
  },
  {
   "cell_type": "code",
   "execution_count": 14,
   "id": "6fc72c39",
   "metadata": {},
   "outputs": [
    {
     "data": {
      "text/plain": [
       "mean               18.369045\n",
       "var                62.503036\n",
       "max               150.000000\n",
       "second_to_last     18.000000\n",
       "Name: city08, dtype: float64"
      ]
     },
     "execution_count": 14,
     "metadata": {},
     "output_type": "execute_result"
    }
   ],
   "source": [
    "city_mpg.agg(['mean', np.var, max, second_to_last])"
   ]
  },
  {
   "cell_type": "code",
   "execution_count": null,
   "id": "5a4dc437",
   "metadata": {},
   "outputs": [],
   "source": []
  }
 ],
 "metadata": {
  "kernelspec": {
   "display_name": "Python 3",
   "language": "python",
   "name": "python3"
  },
  "language_info": {
   "codemirror_mode": {
    "name": "ipython",
    "version": 3
   },
   "file_extension": ".py",
   "mimetype": "text/x-python",
   "name": "python",
   "nbconvert_exporter": "python",
   "pygments_lexer": "ipython3",
   "version": "3.8.8"
  }
 },
 "nbformat": 4,
 "nbformat_minor": 5
}
