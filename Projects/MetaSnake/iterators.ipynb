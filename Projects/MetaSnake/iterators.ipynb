{
 "cells": [
  {
   "cell_type": "code",
   "execution_count": 1,
   "id": "e47aaf26",
   "metadata": {},
   "outputs": [
    {
     "name": "stdout",
     "output_type": "stream",
     "text": [
      "1\n",
      "2\n",
      "3\n"
     ]
    }
   ],
   "source": [
    "# lists\n",
    "for x in [1, 2, 3]:\n",
    "    print(x)"
   ]
  },
  {
   "cell_type": "code",
   "execution_count": 2,
   "id": "5c072fae",
   "metadata": {},
   "outputs": [
    {
     "name": "stdout",
     "output_type": "stream",
     "text": [
      "George\n",
      "Paul\n"
     ]
    }
   ],
   "source": [
    "# dictionaries\n",
    "for x in{'George': 'H', 'Paul':'M'}:\n",
    "    print(x)"
   ]
  },
  {
   "cell_type": "code",
   "execution_count": 3,
   "id": "eb61c626",
   "metadata": {},
   "outputs": [
    {
     "name": "stdout",
     "output_type": "stream",
     "text": [
      "r\n",
      "e\n",
      "s\n",
      "u\n",
      "m\n",
      "e\n",
      ".\n",
      "p\n",
      "d\n",
      "f\n"
     ]
    }
   ],
   "source": [
    "# strings\n",
    "for name in 'resume.pdf':\n",
    "    print(name)"
   ]
  },
  {
   "cell_type": "markdown",
   "id": "152a438c",
   "metadata": {},
   "source": [
    "## Illustrating the iterator protocl"
   ]
  },
  {
   "cell_type": "code",
   "execution_count": 5,
   "id": "f2802c22",
   "metadata": {},
   "outputs": [
    {
     "name": "stdout",
     "output_type": "stream",
     "text": [
      "<list_iterator object at 0x7fb44c519cd0>\n"
     ]
    }
   ],
   "source": [
    "## on a list\n",
    "sequence = ['foo', 'bar']\n",
    "seq_iter = iter(sequence)\n",
    "print(seq_iter)"
   ]
  },
  {
   "cell_type": "code",
   "execution_count": 6,
   "id": "bdfbb8c3",
   "metadata": {},
   "outputs": [
    {
     "data": {
      "text/plain": [
       "'foo'"
      ]
     },
     "execution_count": 6,
     "metadata": {},
     "output_type": "execute_result"
    }
   ],
   "source": [
    "next(seq_iter)"
   ]
  },
  {
   "cell_type": "code",
   "execution_count": 7,
   "id": "b83d4813",
   "metadata": {},
   "outputs": [
    {
     "data": {
      "text/plain": [
       "'bar'"
      ]
     },
     "execution_count": 7,
     "metadata": {},
     "output_type": "execute_result"
    }
   ],
   "source": [
    "next(seq_iter)"
   ]
  },
  {
   "cell_type": "code",
   "execution_count": 8,
   "id": "7d4ce39d",
   "metadata": {},
   "outputs": [
    {
     "ename": "StopIteration",
     "evalue": "",
     "output_type": "error",
     "traceback": [
      "\u001b[0;31m---------------------------------------------------------------------------\u001b[0m",
      "\u001b[0;31mStopIteration\u001b[0m                             Traceback (most recent call last)",
      "\u001b[0;32m<ipython-input-8-3e7e725cc25f>\u001b[0m in \u001b[0;36m<module>\u001b[0;34m\u001b[0m\n\u001b[0;32m----> 1\u001b[0;31m \u001b[0mnext\u001b[0m\u001b[0;34m(\u001b[0m\u001b[0mseq_iter\u001b[0m\u001b[0;34m)\u001b[0m\u001b[0;34m\u001b[0m\u001b[0;34m\u001b[0m\u001b[0m\n\u001b[0m",
      "\u001b[0;31mStopIteration\u001b[0m: "
     ]
    }
   ],
   "source": [
    "next(seq_iter)"
   ]
  },
  {
   "cell_type": "code",
   "execution_count": 9,
   "id": "20631851",
   "metadata": {},
   "outputs": [
    {
     "name": "stdout",
     "output_type": "stream",
     "text": [
      "<str_iterator object at 0x7fb44c25adf0>\n"
     ]
    }
   ],
   "source": [
    "## on strings\n",
    "seq2 = 'foo'\n",
    "seq2_iter = iter(seq2)\n",
    "print(seq2_iter)"
   ]
  },
  {
   "cell_type": "code",
   "execution_count": 10,
   "id": "d2c978bc",
   "metadata": {},
   "outputs": [
    {
     "data": {
      "text/plain": [
       "'f'"
      ]
     },
     "execution_count": 10,
     "metadata": {},
     "output_type": "execute_result"
    }
   ],
   "source": [
    "next(seq2_iter)"
   ]
  },
  {
   "cell_type": "code",
   "execution_count": 11,
   "id": "c98959cc",
   "metadata": {},
   "outputs": [
    {
     "data": {
      "text/plain": [
       "'o'"
      ]
     },
     "execution_count": 11,
     "metadata": {},
     "output_type": "execute_result"
    }
   ],
   "source": [
    "next(seq2_iter)"
   ]
  },
  {
   "cell_type": "code",
   "execution_count": 12,
   "id": "9d583986",
   "metadata": {},
   "outputs": [
    {
     "data": {
      "text/plain": [
       "'o'"
      ]
     },
     "execution_count": 12,
     "metadata": {},
     "output_type": "execute_result"
    }
   ],
   "source": [
    "next(seq2_iter)"
   ]
  },
  {
   "cell_type": "markdown",
   "id": "5988e3b9",
   "metadata": {},
   "source": [
    "## Iteration with csv.DictReader"
   ]
  },
  {
   "cell_type": "code",
   "execution_count": 15,
   "id": "891aa3ca",
   "metadata": {},
   "outputs": [],
   "source": [
    "class DictReader:\n",
    "    def __iter__(self):\n",
    "        return self\n",
    "\n",
    "    def __next__(self):\n",
    "        if self.line_num == 0:\n",
    "            # used only foir its side effect\n",
    "            self.fieldnames\n",
    "        row = next(self.reader)\n",
    "        self.line_num = self.reader.line_num\n",
    "        \n",
    "        while row == []:\n",
    "            row = next(self.reader)\n",
    "        d = dict(zip(self.fieldnames, row))\n",
    "        lf = len(self.fieldnames)\n",
    "        lr = len(row)\n",
    "        if lf < lr:\n",
    "            d[self.restkey] = row[lf:]\n",
    "        elif lf > lr:\n",
    "            for key in self.fieldnames[lr:]:\n",
    "                d[ley] = self.restval\n",
    "        return d"
   ]
  },
  {
   "cell_type": "code",
   "execution_count": 16,
   "id": "b1adf0be",
   "metadata": {},
   "outputs": [
    {
     "name": "stdout",
     "output_type": "stream",
     "text": [
      "1 1\n",
      "1 2\n",
      "1 3\n",
      "2 1\n",
      "2 2\n",
      "2 3\n"
     ]
    }
   ],
   "source": [
    "r2 = range(1,3)\n",
    "r3 = range(1,4)\n",
    "for x in r2:\n",
    "    for y in r3:\n",
    "        print(x,y)"
   ]
  },
  {
   "cell_type": "code",
   "execution_count": null,
   "id": "50b34d0f",
   "metadata": {},
   "outputs": [],
   "source": []
  }
 ],
 "metadata": {
  "kernelspec": {
   "display_name": "Python 3",
   "language": "python",
   "name": "python3"
  },
  "language_info": {
   "codemirror_mode": {
    "name": "ipython",
    "version": 3
   },
   "file_extension": ".py",
   "mimetype": "text/x-python",
   "name": "python",
   "nbconvert_exporter": "python",
   "pygments_lexer": "ipython3",
   "version": "3.8.8"
  }
 },
 "nbformat": 4,
 "nbformat_minor": 5
}
