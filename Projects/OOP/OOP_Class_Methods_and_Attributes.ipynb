{
 "cells": [
  {
   "cell_type": "code",
   "execution_count": 15,
   "id": "3ba7de86",
   "metadata": {},
   "outputs": [],
   "source": [
    "# a class method is specific to the actual class\n",
    "# and not realted to the different class instances\n"
   ]
  },
  {
   "cell_type": "markdown",
   "id": "9739b18e",
   "metadata": {},
   "source": [
    "## Class Attributes"
   ]
  },
  {
   "cell_type": "code",
   "execution_count": 16,
   "id": "485978f1",
   "metadata": {},
   "outputs": [],
   "source": [
    "class Car:\n",
    "    number_of_cars = 0 # this a class attribute\n",
    "    \n",
    "    def __init__(self, make, model): # self refers to the instance\n",
    "        self.make = make\n",
    "        self.model = model\n",
    "        self.number_of_cars = 1\n",
    "\n",
    "        "
   ]
  },
  {
   "cell_type": "code",
   "execution_count": 17,
   "id": "af4287a5",
   "metadata": {},
   "outputs": [
    {
     "name": "stdout",
     "output_type": "stream",
     "text": [
      "3\n",
      "1\n",
      "3\n"
     ]
    }
   ],
   "source": [
    "Car.number_of_cars += 3\n",
    "\n",
    "c1 = Car(\"Ford\",'Edge')\n",
    "c2 = Car(\"Mazda\", '3')\n",
    "\n",
    "print(Car.number_of_cars) # access the class attribute\n",
    "print(c1.number_of_cars)\n",
    "print(c2.number_of_cars)"
   ]
  },
  {
   "cell_type": "code",
   "execution_count": 18,
   "id": "96b034fd",
   "metadata": {},
   "outputs": [
    {
     "name": "stdout",
     "output_type": "stream",
     "text": [
      "2\n",
      "2\n",
      "2\n"
     ]
    }
   ],
   "source": [
    "class Car:\n",
    "    number_of_cars = 0 # this a class attribute\n",
    "    wheels = 4 # all instances of car have 4 wheels - this for the whole class\n",
    "    \n",
    "    def __init__(self, make, model): # self refers to the instance\n",
    "        self.make = make\n",
    "        self.model = model\n",
    "        Car.number_of_cars +=1\n",
    "\n",
    "c1 = Car(\"Ford\",'Edge')\n",
    "c2 = Car(\"Mazda\", '3')\n",
    "\n",
    "print(c1.number_of_cars)\n",
    "print(c2.number_of_cars)\n",
    "print(Car.number_of_cars)"
   ]
  },
  {
   "cell_type": "markdown",
   "id": "cd3237d4",
   "metadata": {},
   "source": [
    "## Class Methods"
   ]
  },
  {
   "cell_type": "code",
   "execution_count": 19,
   "id": "f2780c18",
   "metadata": {},
   "outputs": [
    {
     "name": "stdout",
     "output_type": "stream",
     "text": [
      "run\n",
      "10\n",
      "10\n",
      "10\n"
     ]
    }
   ],
   "source": [
    "class Car1:\n",
    "    number_of_cars = 0 # this a class attribute\n",
    "    \n",
    "    def __init__(self, make, model): # self refers to the instance\n",
    "        self.make = make\n",
    "        self.model = model\n",
    "        Car1.number_of_cars +=1\n",
    "    \n",
    "    @classmethod\n",
    "    def update_number_of_cars(cls, cars):\n",
    "        cls.number_of_cars = cars\n",
    "        print('run')\n",
    "    \n",
    "c1 = Car1(\"Ford\",'Edge')\n",
    "c2 = Car1(\"Mazda\", '3')\n",
    "\n",
    "Car1.update_number_of_cars(10)\n",
    "\n",
    "print(c1.number_of_cars)\n",
    "print(c2.number_of_cars)\n",
    "print(Car1.number_of_cars)"
   ]
  },
  {
   "cell_type": "code",
   "execution_count": 22,
   "id": "8d5ffd26",
   "metadata": {},
   "outputs": [
    {
     "name": "stdout",
     "output_type": "stream",
     "text": [
      "run\n",
      "5\n",
      "5\n",
      "5\n"
     ]
    }
   ],
   "source": [
    "class Car_2:\n",
    "    number_of_cars = 0 # this a class attribute\n",
    "    \n",
    "    def __init__(self, make, model): # self refers to the instance\n",
    "        self.make = make\n",
    "        self.model = model\n",
    "        Car_2.number_of_cars +=1\n",
    "    \n",
    "    @classmethod\n",
    "    def update_number_of_cars(cls):\n",
    "        cls.number_of_cars = 5\n",
    "        print('run')\n",
    "    \n",
    "c1 = Car_2(\"Ford\",'Edge')\n",
    "c2 = Car_2(\"Mazda\", '3')\n",
    "\n",
    "c2.update_number_of_cars()\n",
    "\n",
    "print(c1.number_of_cars)\n",
    "print(c2.number_of_cars)\n",
    "print(Car_2.number_of_cars)"
   ]
  },
  {
   "cell_type": "markdown",
   "id": "f9f17694",
   "metadata": {},
   "source": [
    "## Example"
   ]
  },
  {
   "cell_type": "code",
   "execution_count": 23,
   "id": "ac80e3b6",
   "metadata": {},
   "outputs": [],
   "source": [
    "class Circle:\n",
    "    pi = 3.14\n",
    "    \n",
    "    @classmethod\n",
    "    def area(cls, radius):\n",
    "        return cls.pi * (radius**2)\n",
    "    \n",
    "    @classmethod\n",
    "    def perimeter(cls, radius):\n",
    "        return 2 * cls.pi * radius\n",
    "    \n",
    "    @classmethod\n",
    "    def get_area_and_perimeter(cls, radius):\n",
    "        return cls.area(radius), cls.perimeter(radius)\n"
   ]
  },
  {
   "cell_type": "code",
   "execution_count": 27,
   "id": "6f3291b3",
   "metadata": {},
   "outputs": [
    {
     "name": "stdout",
     "output_type": "stream",
     "text": [
      "12.56\n",
      "25.12\n",
      "(78.5, 31.400000000000002)\n"
     ]
    },
    {
     "data": {
      "text/plain": [
       "(None, None, None)"
      ]
     },
     "execution_count": 27,
     "metadata": {},
     "output_type": "execute_result"
    }
   ],
   "source": [
    "print(Circle.area(2)), print(Circle.perimeter(4)), print(Circle.get_area_and_perimeter(5))"
   ]
  },
  {
   "cell_type": "code",
   "execution_count": null,
   "id": "66d06bdf",
   "metadata": {},
   "outputs": [],
   "source": []
  }
 ],
 "metadata": {
  "kernelspec": {
   "display_name": "Python 3",
   "language": "python",
   "name": "python3"
  },
  "language_info": {
   "codemirror_mode": {
    "name": "ipython",
    "version": 3
   },
   "file_extension": ".py",
   "mimetype": "text/x-python",
   "name": "python",
   "nbconvert_exporter": "python",
   "pygments_lexer": "ipython3",
   "version": "3.8.8"
  }
 },
 "nbformat": 4,
 "nbformat_minor": 5
}
