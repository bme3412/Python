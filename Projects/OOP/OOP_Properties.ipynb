{
 "cells": [
  {
   "cell_type": "code",
   "execution_count": 9,
   "id": "321b8257",
   "metadata": {},
   "outputs": [],
   "source": [
    "class Person:\n",
    "    def __init__(self, name):\n",
    "        self.name = name\n",
    "        self._salary = 0 # private asset with underscore\n",
    "    \n",
    "    def set_salary(self, salary):\n",
    "        if salary < 0:\n",
    "            raise ValueError(\"Hey this is invalid!\")\n",
    "        self._salary = salary\n",
    "        \n",
    "    def get_salary(self):\n",
    "        return round(self._salary)\n",
    "    \n",
    "    salary = property(get_salary, set_salary)"
   ]
  },
  {
   "cell_type": "code",
   "execution_count": 12,
   "id": "ac63f0cb",
   "metadata": {},
   "outputs": [
    {
     "name": "stdout",
     "output_type": "stream",
     "text": [
      "101\n"
     ]
    }
   ],
   "source": [
    "p = Person('Lionel')\n",
    "#p.salary= -100 # should not have a negative salary\n",
    "#p.set_salary(100)\n",
    "p.salary = 101.111\n",
    "print(p.salary)"
   ]
  },
  {
   "cell_type": "code",
   "execution_count": 15,
   "id": "10cb3a99",
   "metadata": {},
   "outputs": [],
   "source": [
    "# with property decorator\n",
    "\n",
    "class Person1:\n",
    "    def __init__(self, name):\n",
    "        self.name = name\n",
    "        self._salary = 0 # private asset with underscore\n",
    "    \n",
    "    @property # define proprty\n",
    "    def salary(self):\n",
    "        return round(self._salary)\n",
    "    \n",
    "    @salary.setter #define setter for property\n",
    "    def salary(self, salary):\n",
    "        if salary < 0:\n",
    "            raise ValueError(\"Hey this is invalid!\")\n",
    "        self._salary = salary\n",
    "        \n",
    "    def get_salary(self):\n",
    "        return round(self._salary)\n",
    "    \n",
    "    #salary = property(get_salary, set_salary)"
   ]
  },
  {
   "cell_type": "code",
   "execution_count": 16,
   "id": "254e24f0",
   "metadata": {},
   "outputs": [
    {
     "name": "stdout",
     "output_type": "stream",
     "text": [
      "102\n"
     ]
    }
   ],
   "source": [
    "p1 = Person(\"bronty\")\n",
    "p1.salary = 102.111\n",
    "print(p1.salary)"
   ]
  },
  {
   "cell_type": "code",
   "execution_count": 17,
   "id": "bd1c8df6",
   "metadata": {},
   "outputs": [],
   "source": [
    "class Time:\n",
    "    def __init__(self, second):\n",
    "        self._second = second\n",
    "    \n",
    "    @property\n",
    "    def second(self):\n",
    "        return self._second\n",
    "    \n",
    "    @second.setter\n",
    "    def second(self, second):\n",
    "        if second < 0 or second > 60:\n",
    "            raise ValueError('Invalid!')\n",
    "        self._second = second\n",
    "        "
   ]
  },
  {
   "cell_type": "code",
   "execution_count": 19,
   "id": "0495bb89",
   "metadata": {},
   "outputs": [
    {
     "ename": "ValueError",
     "evalue": "Invalid!",
     "output_type": "error",
     "traceback": [
      "\u001b[0;31m---------------------------------------------------------------------------\u001b[0m",
      "\u001b[0;31mValueError\u001b[0m                                Traceback (most recent call last)",
      "Input \u001b[0;32mIn [19]\u001b[0m, in \u001b[0;36m<cell line: 2>\u001b[0;34m()\u001b[0m\n\u001b[1;32m      1\u001b[0m t \u001b[38;5;241m=\u001b[39m Time(\u001b[38;5;241m54\u001b[39m)\n\u001b[0;32m----> 2\u001b[0m t\u001b[38;5;241m.\u001b[39msecond \u001b[38;5;241m=\u001b[39m \u001b[38;5;241m100\u001b[39m\n",
      "Input \u001b[0;32mIn [17]\u001b[0m, in \u001b[0;36mTime.second\u001b[0;34m(self, second)\u001b[0m\n\u001b[1;32m      9\u001b[0m \u001b[38;5;129m@second\u001b[39m\u001b[38;5;241m.\u001b[39msetter\n\u001b[1;32m     10\u001b[0m \u001b[38;5;28;01mdef\u001b[39;00m \u001b[38;5;21msecond\u001b[39m(\u001b[38;5;28mself\u001b[39m, second):\n\u001b[1;32m     11\u001b[0m     \u001b[38;5;28;01mif\u001b[39;00m second \u001b[38;5;241m<\u001b[39m \u001b[38;5;241m0\u001b[39m \u001b[38;5;129;01mor\u001b[39;00m second \u001b[38;5;241m>\u001b[39m \u001b[38;5;241m60\u001b[39m:\n\u001b[0;32m---> 12\u001b[0m         \u001b[38;5;28;01mraise\u001b[39;00m \u001b[38;5;167;01mValueError\u001b[39;00m(\u001b[38;5;124m'\u001b[39m\u001b[38;5;124mInvalid!\u001b[39m\u001b[38;5;124m'\u001b[39m)\n\u001b[1;32m     13\u001b[0m     \u001b[38;5;28mself\u001b[39m\u001b[38;5;241m.\u001b[39m_second \u001b[38;5;241m=\u001b[39m second\n",
      "\u001b[0;31mValueError\u001b[0m: Invalid!"
     ]
    }
   ],
   "source": [
    "t = Time(54)\n",
    "t.second = 100"
   ]
  },
  {
   "cell_type": "code",
   "execution_count": null,
   "id": "9cc5f0d5",
   "metadata": {},
   "outputs": [],
   "source": []
  }
 ],
 "metadata": {
  "kernelspec": {
   "display_name": "Python 3",
   "language": "python",
   "name": "python3"
  },
  "language_info": {
   "codemirror_mode": {
    "name": "ipython",
    "version": 3
   },
   "file_extension": ".py",
   "mimetype": "text/x-python",
   "name": "python",
   "nbconvert_exporter": "python",
   "pygments_lexer": "ipython3",
   "version": "3.8.8"
  }
 },
 "nbformat": 4,
 "nbformat_minor": 5
}
