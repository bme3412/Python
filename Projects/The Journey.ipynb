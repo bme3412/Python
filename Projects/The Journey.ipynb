{
 "cells": [
  {
   "cell_type": "code",
   "execution_count": 1,
   "id": "d86ed395",
   "metadata": {},
   "outputs": [],
   "source": [
    "# import all libraries\n",
    "import glob\n",
    "import os\n",
    "import time\n",
    "import pandas as pd\n",
    "import datetime as dt\n",
    "import pathlib\n",
    "import datetime\n",
    "import matplotlib.pyplot as plt\n",
    "import matplotlib.dates as mdates\n",
    "%matplotlib inline\n",
    "import seaborn as sns\n",
    "from pathlib import Path\n",
    "import qgrid\n",
    "import numpy as np\n",
    "import warnings\n",
    "import warnings\n",
    "warnings.filterwarnings('ignore')"
   ]
  },
  {
   "cell_type": "code",
   "execution_count": 2,
   "id": "92daa55c",
   "metadata": {},
   "outputs": [],
   "source": [
    "dir_name = '/Users/brendan/Library/Mobile Documents/com~apple~CloudDocs/Desktop/Data Science'\n"
   ]
  },
  {
   "cell_type": "code",
   "execution_count": 3,
   "id": "5fd78a3c",
   "metadata": {},
   "outputs": [],
   "source": [
    "# get list of all filies only in the given diretory\n",
    "list_of_files = filter(os.path.isfile, glob.glob(dir_name + '/**/*'))"
   ]
  },
  {
   "cell_type": "code",
   "execution_count": 4,
   "id": "a7df4248",
   "metadata": {},
   "outputs": [],
   "source": [
    "# sort list of files based on last modification time\n",
    "list_of_files = sorted(list_of_files, key=os.path.getmtime)"
   ]
  },
  {
   "cell_type": "code",
   "execution_count": 5,
   "id": "94cd314c",
   "metadata": {},
   "outputs": [
    {
     "name": "stdout",
     "output_type": "stream",
     "text": [
      "11/18/2020 :: 01:55:44  --> /Users/brendan/Library/Mobile Documents/com~apple~CloudDocs/Desktop/Data Science/Bokeh/widgets.py\n",
      "11/18/2020 :: 23:28:45  --> /Users/brendan/Library/Mobile Documents/com~apple~CloudDocs/Desktop/Data Science/Bokeh/widgets_interactive.py\n",
      "11/19/2020 :: 00:13:59  --> /Users/brendan/Library/Mobile Documents/com~apple~CloudDocs/Desktop/Data Science/Bokeh/labels.py\n",
      "11/22/2020 :: 20:16:56  --> /Users/brendan/Library/Mobile Documents/com~apple~CloudDocs/Desktop/Data Science/Bokeh/exercise_8.py\n",
      "11/22/2020 :: 20:39:04  --> /Users/brendan/Library/Mobile Documents/com~apple~CloudDocs/Desktop/Data Science/Bokeh/labels_radio_buttons.py\n",
      "11/27/2020 :: 23:57:27  --> /Users/brendan/Library/Mobile Documents/com~apple~CloudDocs/Desktop/Data Science/Bokeh/filtering_glyphs.py\n",
      "12/05/2020 :: 19:49:52  --> /Users/brendan/Library/Mobile Documents/com~apple~CloudDocs/Desktop/Data Science/Bokeh/bitcoin_streaming_webscrapping.py\n",
      "12/05/2020 :: 20:26:15  --> /Users/brendan/Library/Mobile Documents/com~apple~CloudDocs/Desktop/Data Science/Bokeh/random_graphing.py\n",
      "12/07/2020 :: 03:30:00  --> /Users/brendan/Library/Mobile Documents/com~apple~CloudDocs/Desktop/Data Science/insty/11788939_10101414218421757_535490599_n.mp4\n",
      "07/04/2021 :: 01:45:52  --> /Users/brendan/Library/Mobile Documents/com~apple~CloudDocs/Desktop/Data Science/Bokeh/bokeh_static.py\n",
      "07/04/2021 :: 01:53:14  --> /Users/brendan/Library/Mobile Documents/com~apple~CloudDocs/Desktop/Data Science/Bokeh/bokeh_static.ipynb\n",
      "07/17/2021 :: 19:49:51  --> /Users/brendan/Library/Mobile Documents/com~apple~CloudDocs/Desktop/Data Science/Python/Untitled.ipynb\n"
     ]
    }
   ],
   "source": [
    "# iterate over sorted list of files and print file path\n",
    "# along with last modidicaiton date time\n",
    "for file_path in list_of_files:\n",
    "    time_stamp_str = time.strftime('%m/%d/%Y :: %H:%M:%S',\n",
    "                                  time.gmtime(os.path.getmtime(file_path)))\n",
    "    print(time_stamp_str, ' -->', file_path)"
   ]
  },
  {
   "cell_type": "code",
   "execution_count": 6,
   "id": "51ea9049",
   "metadata": {},
   "outputs": [
    {
     "data": {
      "text/plain": [
       "'07/17/2021 :: 19:49:51'"
      ]
     },
     "execution_count": 6,
     "metadata": {},
     "output_type": "execute_result"
    }
   ],
   "source": [
    "time_stamp_str"
   ]
  },
  {
   "cell_type": "markdown",
   "id": "ced7d1c0",
   "metadata": {},
   "source": [
    "## try 2"
   ]
  },
  {
   "cell_type": "code",
   "execution_count": 7,
   "id": "f87c0976",
   "metadata": {},
   "outputs": [
    {
     "data": {
      "text/plain": [
       "'/Users/brendan/Library/Mobile Documents/com~apple~CloudDocs/Desktop/Data Science'"
      ]
     },
     "execution_count": 7,
     "metadata": {},
     "output_type": "execute_result"
    }
   ],
   "source": [
    "dir_name"
   ]
  },
  {
   "cell_type": "code",
   "execution_count": 8,
   "id": "f90575ed",
   "metadata": {},
   "outputs": [],
   "source": [
    "filelist = []"
   ]
  },
  {
   "cell_type": "code",
   "execution_count": 9,
   "id": "16d23340",
   "metadata": {},
   "outputs": [],
   "source": [
    "for root, dirs, files in os.walk(dir_name):\n",
    "    for file in files:\n",
    "        # append the file name to the list\n",
    "        filelist.append(os.path.join(root,file))\n",
    "    \n",
    "# print all the file names\n",
    "#for name in filelist:\n",
    "    #print(name)"
   ]
  },
  {
   "cell_type": "code",
   "execution_count": 10,
   "id": "bf225e2c",
   "metadata": {},
   "outputs": [],
   "source": [
    "#type(name)"
   ]
  },
  {
   "cell_type": "code",
   "execution_count": 11,
   "id": "7a7c7c6a",
   "metadata": {},
   "outputs": [
    {
     "data": {
      "text/plain": [
       "list"
      ]
     },
     "execution_count": 11,
     "metadata": {},
     "output_type": "execute_result"
    }
   ],
   "source": [
    "type(filelist)"
   ]
  },
  {
   "cell_type": "code",
   "execution_count": 12,
   "id": "625aefdb",
   "metadata": {},
   "outputs": [],
   "source": [
    "df = pd.DataFrame(filelist, columns=['FileName'])\n",
    "df.to_csv('files.csv',index=False)"
   ]
  },
  {
   "cell_type": "markdown",
   "id": "fdbe7ef9",
   "metadata": {},
   "source": [
    "# sept 4"
   ]
  },
  {
   "cell_type": "code",
   "execution_count": 13,
   "id": "edf7a1eb",
   "metadata": {},
   "outputs": [],
   "source": [
    "fname = pathlib.Path(dir_name)"
   ]
  },
  {
   "cell_type": "code",
   "execution_count": 14,
   "id": "21a1a88a",
   "metadata": {},
   "outputs": [],
   "source": [
    "assert fname.exists(), f'No such file: {fname}'"
   ]
  },
  {
   "cell_type": "code",
   "execution_count": 15,
   "id": "9e833a35",
   "metadata": {},
   "outputs": [
    {
     "name": "stdout",
     "output_type": "stream",
     "text": [
      "os.stat_result(st_mode=16877, st_ino=287493, st_dev=16777230, st_nlink=12, st_uid=501, st_gid=20, st_size=384, st_atime=1630768229, st_mtime=1630545088, st_ctime=1630545089)\n"
     ]
    }
   ],
   "source": [
    "print(fname.stat())"
   ]
  },
  {
   "cell_type": "code",
   "execution_count": 16,
   "id": "6120cfac",
   "metadata": {},
   "outputs": [
    {
     "name": "stdout",
     "output_type": "stream",
     "text": [
      "2021-09-01 21:11:28\n"
     ]
    }
   ],
   "source": [
    "mtime = datetime.datetime.fromtimestamp(fname.stat().st_mtime)\n",
    "print(mtime)"
   ]
  },
  {
   "cell_type": "code",
   "execution_count": 17,
   "id": "6705d93f",
   "metadata": {},
   "outputs": [],
   "source": [
    "\n",
    "root = dir_name\n",
    "for item in os.listdir(root):\n",
    "    if not item.startswith('.') and os.path.isfile(os.path.join(root, item)):\n",
    "        print(item)"
   ]
  },
  {
   "cell_type": "code",
   "execution_count": 18,
   "id": "6da6f817",
   "metadata": {},
   "outputs": [
    {
     "data": {
      "text/plain": [
       "['/Users/brendan/Library/Mobile Documents/com~apple~CloudDocs/Desktop/Data Science/Bokeh',\n",
       " '/Users/brendan/Library/Mobile Documents/com~apple~CloudDocs/Desktop/Data Science/Udemy',\n",
       " '/Users/brendan/Library/Mobile Documents/com~apple~CloudDocs/Desktop/Data Science/Tableau',\n",
       " '/Users/brendan/Library/Mobile Documents/com~apple~CloudDocs/Desktop/Data Science/Python',\n",
       " '/Users/brendan/Library/Mobile Documents/com~apple~CloudDocs/Desktop/Data Science/insty',\n",
       " '/Users/brendan/Library/Mobile Documents/com~apple~CloudDocs/Desktop/Data Science/13F',\n",
       " '/Users/brendan/Library/Mobile Documents/com~apple~CloudDocs/Desktop/Data Science/Udemy-BT']"
      ]
     },
     "execution_count": 18,
     "metadata": {},
     "output_type": "execute_result"
    }
   ],
   "source": [
    "filesglob = glob.glob('/Users/brendan/Library/Mobile Documents/com~apple~CloudDocs/Desktop/Data Science/[!.DS_Store]*')\n",
    "filesglob"
   ]
  },
  {
   "cell_type": "code",
   "execution_count": 19,
   "id": "0ff10cd8",
   "metadata": {},
   "outputs": [
    {
     "data": {
      "text/plain": [
       "<generator object Path.glob at 0x7fcfd31a9430>"
      ]
     },
     "execution_count": 19,
     "metadata": {},
     "output_type": "execute_result"
    }
   ],
   "source": [
    "p = Path('/Users/brendan/Library/Mobile Documents/com~apple~CloudDocs/Desktop/Data Science'\n",
    ").glob('')\n",
    "p"
   ]
  },
  {
   "cell_type": "code",
   "execution_count": 20,
   "id": "7749d0f1",
   "metadata": {},
   "outputs": [],
   "source": [
    "def getListOfFiles(dirName):\n",
    "    # create a list of file and sub directories \n",
    "    # names in the given directory \n",
    "    listOfFile = os.listdir(dirName)\n",
    "    allFiles = list()\n",
    "    # Iterate over all the entries\n",
    "    for entry in listOfFile:\n",
    "        # Create full path\n",
    "        fullPath = os.path.join(dirName, entry)\n",
    "        # If entry is a directory then get the list of files in this directory \n",
    "        if os.path.isdir(fullPath):\n",
    "            allFiles = allFiles + getListOfFiles(fullPath)\n",
    "        else:\n",
    "            allFiles.append(fullPath)\n",
    "       \n",
    "                \n",
    "    return allFiles\n",
    "\n",
    "dirName = dir_name;\n",
    "# Get the list of all files in directory tree at given path\n",
    "listOfFiles = getListOfFiles(dirName)\n",
    "#listOfFiles"
   ]
  },
  {
   "cell_type": "code",
   "execution_count": 21,
   "id": "b82961f0",
   "metadata": {},
   "outputs": [],
   "source": [
    "d_ext_desc = {'csv':'CSV file',\n",
    "              'css' : 'CSS Styling',\n",
    "              'db':'Thumbnail',\n",
    "              'doc':'Microsoft Word Document',\n",
    "              'docx':'Microsoft Word Document',\n",
    "              'GIF':'GIF Image file',\n",
    "              'html':'HTML file',\n",
    "              'ico':'Icon Image file',\n",
    "              'ipynb': 'Jupyter Notebook',\n",
    "              '.ipynb':'Jupyter',\n",
    "              'ipynb.icloud': 'Jupyter',\n",
    "              'html': 'HTML',\n",
    "              'jpg':'JPG Image file',\n",
    "              'JPEG':'JPEG Image file',\n",
    "              'js': 'Javascript',\n",
    "              'json':'JSON file',\n",
    "              'lnk':'Shortcut file',\n",
    "              'msg':'Microsoft Outlook Message file',\n",
    "              'pdf':'PDF file',\n",
    "              'pkl':'Pickle (python) file',\n",
    "              'png':'PNG Image file',\n",
    "              'ppt':'Microsoft Powerpoint file',\n",
    "              'pptx':'Microsoft Powerpoint file',\n",
    "              'pst':'Microsoft Outlook Data file',\n",
    "              'py':'Python file',\n",
    "              'pyc':'Python file (compiled)',\n",
    "              'rtf':'Rich Text Format',\n",
    "              'svg':'SVG Image file',\n",
    "              'txt':'Text document',\n",
    "              'url':'Hyperlink',\n",
    "              'vsd':'Microsoft Visio file',\n",
    "              'xls':'Microsoft Excel file',\n",
    "              'xlsb':'Microsoft Excel file',\n",
    "              'xlsm':'Microsoft Excel (Macro-enabled) file',\n",
    "              'xlsx':'Microsoft Excel file',\n",
    "              'yml':'Requirements file (python)',\n",
    "              'zip':'ZIP file'}\n",
    "\n",
    "def ext_desc(ext):\n",
    "    try:\n",
    "        desc = d_ext_desc[ext]\n",
    "    except KeyError:\n",
    "        desc = ''\n",
    "    else:\n",
    "        pass\n",
    "    return desc\n",
    "\n",
    "\n",
    "def generate_index(path=None, max=0):\n",
    "    # stops generating index whenever there are more than 500 records, to test if the script works\n",
    "    # use 'max=0' to generate the full index\n",
    "    \n",
    "    path = dir_name\n",
    "\n",
    "    df = pd.DataFrame(columns=['File','File Type','Folder Location','Date','Path'])\n",
    "    for root, _ , files in os.walk(path):\n",
    "        files = [f for f in files if not f.startswith('~') and f!='Thumbs.db']\n",
    "        paths = [os.path.join(root, f) for f in files]\n",
    "        exts = [os.path.splitext(f)[1][1:].lower() for f in files]\n",
    "        filetypes = [ext_desc(ext) for ext in exts]\n",
    "        file_links = ['=HYPERLINK(\"{}\",\"link\")'.format(p) if len(p) < 256 else '' for p in paths]\n",
    "        folders = [os.path.dirname(p) for p in paths]\n",
    "        time_stamp_str = [time.strftime('%m/%d/%Y :: %H:%M:%S',\n",
    "                                  time.gmtime(os.path.getmtime(p))) for p in paths]\n",
    "        df1 = pd.DataFrame({'File': files,\n",
    "                            'File Type': filetypes,\n",
    "                            'Folder Location': folders,\n",
    "                            'Date': time_stamp_str,\n",
    "                            'Path': paths})\n",
    "        df = df.append(df1)\n",
    "        if max and (df.shape[0]>max):\n",
    "            break\n",
    "    df = df.reset_index(drop=True)\n",
    "    return df"
   ]
  },
  {
   "cell_type": "code",
   "execution_count": 22,
   "id": "2e96fe7e",
   "metadata": {},
   "outputs": [
    {
     "data": {
      "text/html": [
       "<div>\n",
       "<style scoped>\n",
       "    .dataframe tbody tr th:only-of-type {\n",
       "        vertical-align: middle;\n",
       "    }\n",
       "\n",
       "    .dataframe tbody tr th {\n",
       "        vertical-align: top;\n",
       "    }\n",
       "\n",
       "    .dataframe thead th {\n",
       "        text-align: right;\n",
       "    }\n",
       "</style>\n",
       "<table border=\"1\" class=\"dataframe\">\n",
       "  <thead>\n",
       "    <tr style=\"text-align: right;\">\n",
       "      <th></th>\n",
       "      <th>File</th>\n",
       "      <th>File Type</th>\n",
       "      <th>Folder Location</th>\n",
       "      <th>Date</th>\n",
       "      <th>Path</th>\n",
       "    </tr>\n",
       "  </thead>\n",
       "  <tbody>\n",
       "    <tr>\n",
       "      <th>0</th>\n",
       "      <td>.DS_Store</td>\n",
       "      <td></td>\n",
       "      <td>/Users/brendan/Library/Mobile Documents/com~ap...</td>\n",
       "      <td>09/13/2021 :: 00:07:51</td>\n",
       "      <td>/Users/brendan/Library/Mobile Documents/com~ap...</td>\n",
       "    </tr>\n",
       "    <tr>\n",
       "      <th>1</th>\n",
       "      <td>.simple_bokeh.html.icloud</td>\n",
       "      <td></td>\n",
       "      <td>/Users/brendan/Library/Mobile Documents/com~ap...</td>\n",
       "      <td>11/18/2020 :: 01:55:53</td>\n",
       "      <td>/Users/brendan/Library/Mobile Documents/com~ap...</td>\n",
       "    </tr>\n",
       "    <tr>\n",
       "      <th>2</th>\n",
       "      <td>labels.py</td>\n",
       "      <td>Python file</td>\n",
       "      <td>/Users/brendan/Library/Mobile Documents/com~ap...</td>\n",
       "      <td>11/19/2020 :: 00:13:59</td>\n",
       "      <td>/Users/brendan/Library/Mobile Documents/com~ap...</td>\n",
       "    </tr>\n",
       "    <tr>\n",
       "      <th>3</th>\n",
       "      <td>exercise_8.py</td>\n",
       "      <td>Python file</td>\n",
       "      <td>/Users/brendan/Library/Mobile Documents/com~ap...</td>\n",
       "      <td>11/22/2020 :: 20:16:56</td>\n",
       "      <td>/Users/brendan/Library/Mobile Documents/com~ap...</td>\n",
       "    </tr>\n",
       "    <tr>\n",
       "      <th>4</th>\n",
       "      <td>.DS_Store</td>\n",
       "      <td></td>\n",
       "      <td>/Users/brendan/Library/Mobile Documents/com~ap...</td>\n",
       "      <td>09/04/2021 :: 15:11:01</td>\n",
       "      <td>/Users/brendan/Library/Mobile Documents/com~ap...</td>\n",
       "    </tr>\n",
       "  </tbody>\n",
       "</table>\n",
       "</div>"
      ],
      "text/plain": [
       "                        File    File Type  \\\n",
       "0                  .DS_Store                \n",
       "1  .simple_bokeh.html.icloud                \n",
       "2                  labels.py  Python file   \n",
       "3              exercise_8.py  Python file   \n",
       "4                  .DS_Store                \n",
       "\n",
       "                                     Folder Location                    Date  \\\n",
       "0  /Users/brendan/Library/Mobile Documents/com~ap...  09/13/2021 :: 00:07:51   \n",
       "1  /Users/brendan/Library/Mobile Documents/com~ap...  11/18/2020 :: 01:55:53   \n",
       "2  /Users/brendan/Library/Mobile Documents/com~ap...  11/19/2020 :: 00:13:59   \n",
       "3  /Users/brendan/Library/Mobile Documents/com~ap...  11/22/2020 :: 20:16:56   \n",
       "4  /Users/brendan/Library/Mobile Documents/com~ap...  09/04/2021 :: 15:11:01   \n",
       "\n",
       "                                                Path  \n",
       "0  /Users/brendan/Library/Mobile Documents/com~ap...  \n",
       "1  /Users/brendan/Library/Mobile Documents/com~ap...  \n",
       "2  /Users/brendan/Library/Mobile Documents/com~ap...  \n",
       "3  /Users/brendan/Library/Mobile Documents/com~ap...  \n",
       "4  /Users/brendan/Library/Mobile Documents/com~ap...  "
      ]
     },
     "execution_count": 22,
     "metadata": {},
     "output_type": "execute_result"
    }
   ],
   "source": [
    "raw_df = generate_index(dir_name)\n",
    "raw_df['File']=raw_df['File'].str.replace('.ipynb.icloud', '.ipynb')\n",
    "raw_df.loc[raw_df['File'].str.contains('ipynb'), 'File Type'] = 'Jupyter Notebook'\n",
    "raw_df.head()\n"
   ]
  },
  {
   "cell_type": "code",
   "execution_count": 23,
   "id": "b9e7b955",
   "metadata": {},
   "outputs": [
    {
     "data": {
      "text/plain": [
       "(15476, 5)"
      ]
     },
     "execution_count": 23,
     "metadata": {},
     "output_type": "execute_result"
    }
   ],
   "source": [
    "raw_df.shape"
   ]
  },
  {
   "cell_type": "code",
   "execution_count": 24,
   "id": "9f9b7c2f",
   "metadata": {},
   "outputs": [
    {
     "data": {
      "text/html": [
       "<div>\n",
       "<style scoped>\n",
       "    .dataframe tbody tr th:only-of-type {\n",
       "        vertical-align: middle;\n",
       "    }\n",
       "\n",
       "    .dataframe tbody tr th {\n",
       "        vertical-align: top;\n",
       "    }\n",
       "\n",
       "    .dataframe thead th {\n",
       "        text-align: right;\n",
       "    }\n",
       "</style>\n",
       "<table border=\"1\" class=\"dataframe\">\n",
       "  <thead>\n",
       "    <tr style=\"text-align: right;\">\n",
       "      <th></th>\n",
       "      <th>File</th>\n",
       "      <th>File Type</th>\n",
       "      <th>Folder Location</th>\n",
       "      <th>Date</th>\n",
       "      <th>Path</th>\n",
       "    </tr>\n",
       "  </thead>\n",
       "  <tbody>\n",
       "    <tr>\n",
       "      <th>0</th>\n",
       "      <td>.DS_Store</td>\n",
       "      <td></td>\n",
       "      <td>/Users/brendan/Library/Mobile Documents/com~ap...</td>\n",
       "      <td>09/13/2021 :: 00:07:51</td>\n",
       "      <td>/Users/brendan/Library/Mobile Documents/com~ap...</td>\n",
       "    </tr>\n",
       "    <tr>\n",
       "      <th>1</th>\n",
       "      <td>.simple_bokeh.html.icloud</td>\n",
       "      <td></td>\n",
       "      <td>/Users/brendan/Library/Mobile Documents/com~ap...</td>\n",
       "      <td>11/18/2020 :: 01:55:53</td>\n",
       "      <td>/Users/brendan/Library/Mobile Documents/com~ap...</td>\n",
       "    </tr>\n",
       "    <tr>\n",
       "      <th>2</th>\n",
       "      <td>labels.py</td>\n",
       "      <td>Python file</td>\n",
       "      <td>/Users/brendan/Library/Mobile Documents/com~ap...</td>\n",
       "      <td>11/19/2020 :: 00:13:59</td>\n",
       "      <td>/Users/brendan/Library/Mobile Documents/com~ap...</td>\n",
       "    </tr>\n",
       "    <tr>\n",
       "      <th>3</th>\n",
       "      <td>exercise_8.py</td>\n",
       "      <td>Python file</td>\n",
       "      <td>/Users/brendan/Library/Mobile Documents/com~ap...</td>\n",
       "      <td>11/22/2020 :: 20:16:56</td>\n",
       "      <td>/Users/brendan/Library/Mobile Documents/com~ap...</td>\n",
       "    </tr>\n",
       "    <tr>\n",
       "      <th>4</th>\n",
       "      <td>.DS_Store</td>\n",
       "      <td></td>\n",
       "      <td>/Users/brendan/Library/Mobile Documents/com~ap...</td>\n",
       "      <td>09/04/2021 :: 15:11:01</td>\n",
       "      <td>/Users/brendan/Library/Mobile Documents/com~ap...</td>\n",
       "    </tr>\n",
       "    <tr>\n",
       "      <th>5</th>\n",
       "      <td>widgets_interactive.py</td>\n",
       "      <td>Python file</td>\n",
       "      <td>/Users/brendan/Library/Mobile Documents/com~ap...</td>\n",
       "      <td>11/18/2020 :: 23:28:45</td>\n",
       "      <td>/Users/brendan/Library/Mobile Documents/com~ap...</td>\n",
       "    </tr>\n",
       "    <tr>\n",
       "      <th>6</th>\n",
       "      <td>filtering_glyphs.py</td>\n",
       "      <td>Python file</td>\n",
       "      <td>/Users/brendan/Library/Mobile Documents/com~ap...</td>\n",
       "      <td>11/27/2020 :: 23:57:27</td>\n",
       "      <td>/Users/brendan/Library/Mobile Documents/com~ap...</td>\n",
       "    </tr>\n",
       "  </tbody>\n",
       "</table>\n",
       "</div>"
      ],
      "text/plain": [
       "                        File    File Type  \\\n",
       "0                  .DS_Store                \n",
       "1  .simple_bokeh.html.icloud                \n",
       "2                  labels.py  Python file   \n",
       "3              exercise_8.py  Python file   \n",
       "4                  .DS_Store                \n",
       "5     widgets_interactive.py  Python file   \n",
       "6        filtering_glyphs.py  Python file   \n",
       "\n",
       "                                     Folder Location                    Date  \\\n",
       "0  /Users/brendan/Library/Mobile Documents/com~ap...  09/13/2021 :: 00:07:51   \n",
       "1  /Users/brendan/Library/Mobile Documents/com~ap...  11/18/2020 :: 01:55:53   \n",
       "2  /Users/brendan/Library/Mobile Documents/com~ap...  11/19/2020 :: 00:13:59   \n",
       "3  /Users/brendan/Library/Mobile Documents/com~ap...  11/22/2020 :: 20:16:56   \n",
       "4  /Users/brendan/Library/Mobile Documents/com~ap...  09/04/2021 :: 15:11:01   \n",
       "5  /Users/brendan/Library/Mobile Documents/com~ap...  11/18/2020 :: 23:28:45   \n",
       "6  /Users/brendan/Library/Mobile Documents/com~ap...  11/27/2020 :: 23:57:27   \n",
       "\n",
       "                                                Path  \n",
       "0  /Users/brendan/Library/Mobile Documents/com~ap...  \n",
       "1  /Users/brendan/Library/Mobile Documents/com~ap...  \n",
       "2  /Users/brendan/Library/Mobile Documents/com~ap...  \n",
       "3  /Users/brendan/Library/Mobile Documents/com~ap...  \n",
       "4  /Users/brendan/Library/Mobile Documents/com~ap...  \n",
       "5  /Users/brendan/Library/Mobile Documents/com~ap...  \n",
       "6  /Users/brendan/Library/Mobile Documents/com~ap...  "
      ]
     },
     "execution_count": 24,
     "metadata": {},
     "output_type": "execute_result"
    }
   ],
   "source": [
    "raw_df['File']=raw_df['File'].str.replace('.ipynb.icloud', '.ipynb')\n",
    "raw_df.loc[raw_df['File'].str.contains('ipynb'), 'File Type'] = 'Jupyter Notebook'\n",
    "raw_df.head(7)"
   ]
  },
  {
   "cell_type": "code",
   "execution_count": 25,
   "id": "9b7b42db",
   "metadata": {},
   "outputs": [
    {
     "data": {
      "text/plain": [
       "Date\n",
       "10/26/1985 :: 08:15:00    5449\n",
       "08/26/2018 :: 00:52:52    1576\n",
       "09/21/2019 :: 02:56:04     536\n",
       "08/10/2018 :: 02:01:48     411\n",
       "09/21/2019 :: 02:56:02     390\n",
       "                          ... \n",
       "07/26/2020 :: 21:24:21       1\n",
       "07/25/2018 :: 20:35:43       1\n",
       "07/25/2017 :: 13:41:32       1\n",
       "07/24/2020 :: 01:45:00       1\n",
       "12/31/2020 :: 22:09:58       1\n",
       "Length: 2208, dtype: int64"
      ]
     },
     "execution_count": 25,
     "metadata": {},
     "output_type": "execute_result"
    }
   ],
   "source": [
    "raw_df.value_counts('Date')"
   ]
  },
  {
   "cell_type": "code",
   "execution_count": 26,
   "id": "05329ebb",
   "metadata": {},
   "outputs": [
    {
     "data": {
      "text/plain": [
       "File Type\n",
       "                          6624\n",
       "Javascript                5261\n",
       "Python file               1085\n",
       "JSON file                  635\n",
       "Jupyter Notebook           548\n",
       "JPG Image file             502\n",
       "SVG Image file             298\n",
       "PNG Image file             288\n",
       "Text document              152\n",
       "PDF file                    40\n",
       "Python file (compiled)      14\n",
       "HTML                        10\n",
       "Thumbnail                    7\n",
       "CSS Styling                  6\n",
       "Icon Image file              4\n",
       "CSV file                     2\n",
       "dtype: int64"
      ]
     },
     "execution_count": 26,
     "metadata": {},
     "output_type": "execute_result"
    }
   ],
   "source": [
    "raw_df.value_counts('File Type')"
   ]
  },
  {
   "cell_type": "code",
   "execution_count": 27,
   "id": "34827c90",
   "metadata": {},
   "outputs": [
    {
     "data": {
      "text/plain": [
       "(15476, 5)"
      ]
     },
     "execution_count": 27,
     "metadata": {},
     "output_type": "execute_result"
    }
   ],
   "source": [
    "raw_df.shape"
   ]
  },
  {
   "cell_type": "code",
   "execution_count": null,
   "id": "c40f2d9f",
   "metadata": {},
   "outputs": [],
   "source": []
  },
  {
   "cell_type": "code",
   "execution_count": 28,
   "id": "a4bf6e6b",
   "metadata": {},
   "outputs": [
    {
     "data": {
      "text/html": [
       "<div>\n",
       "<style scoped>\n",
       "    .dataframe tbody tr th:only-of-type {\n",
       "        vertical-align: middle;\n",
       "    }\n",
       "\n",
       "    .dataframe tbody tr th {\n",
       "        vertical-align: top;\n",
       "    }\n",
       "\n",
       "    .dataframe thead th {\n",
       "        text-align: right;\n",
       "    }\n",
       "</style>\n",
       "<table border=\"1\" class=\"dataframe\">\n",
       "  <thead>\n",
       "    <tr style=\"text-align: right;\">\n",
       "      <th></th>\n",
       "      <th>File</th>\n",
       "      <th>File Type</th>\n",
       "      <th>Folder Location</th>\n",
       "      <th>Date</th>\n",
       "      <th>Path</th>\n",
       "    </tr>\n",
       "  </thead>\n",
       "  <tbody>\n",
       "    <tr>\n",
       "      <th>0</th>\n",
       "      <td>.DS_Store</td>\n",
       "      <td></td>\n",
       "      <td>/Users/brendan/Library/Mobile Documents/com~ap...</td>\n",
       "      <td>09/13/2021 :: 00:07:51</td>\n",
       "      <td>/Users/brendan/Library/Mobile Documents/com~ap...</td>\n",
       "    </tr>\n",
       "    <tr>\n",
       "      <th>1</th>\n",
       "      <td>.simple_bokeh.html.icloud</td>\n",
       "      <td></td>\n",
       "      <td>/Users/brendan/Library/Mobile Documents/com~ap...</td>\n",
       "      <td>11/18/2020 :: 01:55:53</td>\n",
       "      <td>/Users/brendan/Library/Mobile Documents/com~ap...</td>\n",
       "    </tr>\n",
       "    <tr>\n",
       "      <th>2</th>\n",
       "      <td>labels.py</td>\n",
       "      <td>Python file</td>\n",
       "      <td>/Users/brendan/Library/Mobile Documents/com~ap...</td>\n",
       "      <td>11/19/2020 :: 00:13:59</td>\n",
       "      <td>/Users/brendan/Library/Mobile Documents/com~ap...</td>\n",
       "    </tr>\n",
       "    <tr>\n",
       "      <th>3</th>\n",
       "      <td>exercise_8.py</td>\n",
       "      <td>Python file</td>\n",
       "      <td>/Users/brendan/Library/Mobile Documents/com~ap...</td>\n",
       "      <td>11/22/2020 :: 20:16:56</td>\n",
       "      <td>/Users/brendan/Library/Mobile Documents/com~ap...</td>\n",
       "    </tr>\n",
       "    <tr>\n",
       "      <th>4</th>\n",
       "      <td>.DS_Store</td>\n",
       "      <td></td>\n",
       "      <td>/Users/brendan/Library/Mobile Documents/com~ap...</td>\n",
       "      <td>09/04/2021 :: 15:11:01</td>\n",
       "      <td>/Users/brendan/Library/Mobile Documents/com~ap...</td>\n",
       "    </tr>\n",
       "  </tbody>\n",
       "</table>\n",
       "</div>"
      ],
      "text/plain": [
       "                        File    File Type  \\\n",
       "0                  .DS_Store                \n",
       "1  .simple_bokeh.html.icloud                \n",
       "2                  labels.py  Python file   \n",
       "3              exercise_8.py  Python file   \n",
       "4                  .DS_Store                \n",
       "\n",
       "                                     Folder Location                    Date  \\\n",
       "0  /Users/brendan/Library/Mobile Documents/com~ap...  09/13/2021 :: 00:07:51   \n",
       "1  /Users/brendan/Library/Mobile Documents/com~ap...  11/18/2020 :: 01:55:53   \n",
       "2  /Users/brendan/Library/Mobile Documents/com~ap...  11/19/2020 :: 00:13:59   \n",
       "3  /Users/brendan/Library/Mobile Documents/com~ap...  11/22/2020 :: 20:16:56   \n",
       "4  /Users/brendan/Library/Mobile Documents/com~ap...  09/04/2021 :: 15:11:01   \n",
       "\n",
       "                                                Path  \n",
       "0  /Users/brendan/Library/Mobile Documents/com~ap...  \n",
       "1  /Users/brendan/Library/Mobile Documents/com~ap...  \n",
       "2  /Users/brendan/Library/Mobile Documents/com~ap...  \n",
       "3  /Users/brendan/Library/Mobile Documents/com~ap...  \n",
       "4  /Users/brendan/Library/Mobile Documents/com~ap...  "
      ]
     },
     "execution_count": 28,
     "metadata": {},
     "output_type": "execute_result"
    }
   ],
   "source": [
    "\n",
    "qgrid_widget_10_26_85  = qgrid.show_grid(raw_df, show_toolbar = True)\n",
    "df_10_26_1985_filtered = qgrid_widget_10_26_85.get_changed_df()\n",
    "df_10_26_1985_filtered.head()\n"
   ]
  },
  {
   "cell_type": "code",
   "execution_count": 29,
   "id": "71ba6e80",
   "metadata": {},
   "outputs": [
    {
     "data": {
      "text/html": [
       "<div>\n",
       "<style scoped>\n",
       "    .dataframe tbody tr th:only-of-type {\n",
       "        vertical-align: middle;\n",
       "    }\n",
       "\n",
       "    .dataframe tbody tr th {\n",
       "        vertical-align: top;\n",
       "    }\n",
       "\n",
       "    .dataframe thead th {\n",
       "        text-align: right;\n",
       "    }\n",
       "</style>\n",
       "<table border=\"1\" class=\"dataframe\">\n",
       "  <thead>\n",
       "    <tr style=\"text-align: right;\">\n",
       "      <th></th>\n",
       "      <th>File</th>\n",
       "      <th>File Type</th>\n",
       "      <th>Folder Location</th>\n",
       "      <th>Date</th>\n",
       "      <th>Path</th>\n",
       "    </tr>\n",
       "  </thead>\n",
       "  <tbody>\n",
       "    <tr>\n",
       "      <th>0</th>\n",
       "      <td>.DS_Store</td>\n",
       "      <td></td>\n",
       "      <td>/Users/brendan/Library/Mobile Documents/com~ap...</td>\n",
       "      <td>09/13/2021 :: 00:07:51</td>\n",
       "      <td>/Users/brendan/Library/Mobile Documents/com~ap...</td>\n",
       "    </tr>\n",
       "    <tr>\n",
       "      <th>1</th>\n",
       "      <td>.simple_bokeh.html.icloud</td>\n",
       "      <td></td>\n",
       "      <td>/Users/brendan/Library/Mobile Documents/com~ap...</td>\n",
       "      <td>11/18/2020 :: 01:55:53</td>\n",
       "      <td>/Users/brendan/Library/Mobile Documents/com~ap...</td>\n",
       "    </tr>\n",
       "    <tr>\n",
       "      <th>2</th>\n",
       "      <td>labels.py</td>\n",
       "      <td>Python file</td>\n",
       "      <td>/Users/brendan/Library/Mobile Documents/com~ap...</td>\n",
       "      <td>11/19/2020 :: 00:13:59</td>\n",
       "      <td>/Users/brendan/Library/Mobile Documents/com~ap...</td>\n",
       "    </tr>\n",
       "    <tr>\n",
       "      <th>3</th>\n",
       "      <td>exercise_8.py</td>\n",
       "      <td>Python file</td>\n",
       "      <td>/Users/brendan/Library/Mobile Documents/com~ap...</td>\n",
       "      <td>11/22/2020 :: 20:16:56</td>\n",
       "      <td>/Users/brendan/Library/Mobile Documents/com~ap...</td>\n",
       "    </tr>\n",
       "    <tr>\n",
       "      <th>4</th>\n",
       "      <td>.DS_Store</td>\n",
       "      <td></td>\n",
       "      <td>/Users/brendan/Library/Mobile Documents/com~ap...</td>\n",
       "      <td>09/04/2021 :: 15:11:01</td>\n",
       "      <td>/Users/brendan/Library/Mobile Documents/com~ap...</td>\n",
       "    </tr>\n",
       "    <tr>\n",
       "      <th>5</th>\n",
       "      <td>widgets_interactive.py</td>\n",
       "      <td>Python file</td>\n",
       "      <td>/Users/brendan/Library/Mobile Documents/com~ap...</td>\n",
       "      <td>11/18/2020 :: 23:28:45</td>\n",
       "      <td>/Users/brendan/Library/Mobile Documents/com~ap...</td>\n",
       "    </tr>\n",
       "    <tr>\n",
       "      <th>6</th>\n",
       "      <td>filtering_glyphs.py</td>\n",
       "      <td>Python file</td>\n",
       "      <td>/Users/brendan/Library/Mobile Documents/com~ap...</td>\n",
       "      <td>11/27/2020 :: 23:57:27</td>\n",
       "      <td>/Users/brendan/Library/Mobile Documents/com~ap...</td>\n",
       "    </tr>\n",
       "    <tr>\n",
       "      <th>7</th>\n",
       "      <td>widgets.py</td>\n",
       "      <td>Python file</td>\n",
       "      <td>/Users/brendan/Library/Mobile Documents/com~ap...</td>\n",
       "      <td>11/18/2020 :: 01:55:44</td>\n",
       "      <td>/Users/brendan/Library/Mobile Documents/com~ap...</td>\n",
       "    </tr>\n",
       "    <tr>\n",
       "      <th>8</th>\n",
       "      <td>.Untitled.ipynb</td>\n",
       "      <td>Jupyter Notebook</td>\n",
       "      <td>/Users/brendan/Library/Mobile Documents/com~ap...</td>\n",
       "      <td>12/05/2020 :: 20:01:10</td>\n",
       "      <td>/Users/brendan/Library/Mobile Documents/com~ap...</td>\n",
       "    </tr>\n",
       "    <tr>\n",
       "      <th>9</th>\n",
       "      <td>bokeh_static.ipynb</td>\n",
       "      <td>Jupyter Notebook</td>\n",
       "      <td>/Users/brendan/Library/Mobile Documents/com~ap...</td>\n",
       "      <td>07/04/2021 :: 01:53:14</td>\n",
       "      <td>/Users/brendan/Library/Mobile Documents/com~ap...</td>\n",
       "    </tr>\n",
       "    <tr>\n",
       "      <th>10</th>\n",
       "      <td>bitcoin_streaming_webscrapping.py</td>\n",
       "      <td>Python file</td>\n",
       "      <td>/Users/brendan/Library/Mobile Documents/com~ap...</td>\n",
       "      <td>12/05/2020 :: 19:49:52</td>\n",
       "      <td>/Users/brendan/Library/Mobile Documents/com~ap...</td>\n",
       "    </tr>\n",
       "    <tr>\n",
       "      <th>11</th>\n",
       "      <td>bokeh_static.py</td>\n",
       "      <td>Python file</td>\n",
       "      <td>/Users/brendan/Library/Mobile Documents/com~ap...</td>\n",
       "      <td>07/04/2021 :: 01:45:52</td>\n",
       "      <td>/Users/brendan/Library/Mobile Documents/com~ap...</td>\n",
       "    </tr>\n",
       "    <tr>\n",
       "      <th>12</th>\n",
       "      <td>labels_radio_buttons.py</td>\n",
       "      <td>Python file</td>\n",
       "      <td>/Users/brendan/Library/Mobile Documents/com~ap...</td>\n",
       "      <td>11/22/2020 :: 20:39:04</td>\n",
       "      <td>/Users/brendan/Library/Mobile Documents/com~ap...</td>\n",
       "    </tr>\n",
       "    <tr>\n",
       "      <th>13</th>\n",
       "      <td>random_graphing.py</td>\n",
       "      <td>Python file</td>\n",
       "      <td>/Users/brendan/Library/Mobile Documents/com~ap...</td>\n",
       "      <td>12/05/2020 :: 20:26:15</td>\n",
       "      <td>/Users/brendan/Library/Mobile Documents/com~ap...</td>\n",
       "    </tr>\n",
       "    <tr>\n",
       "      <th>14</th>\n",
       "      <td>.random_graphing.cpython-37.pyc.icloud</td>\n",
       "      <td></td>\n",
       "      <td>/Users/brendan/Library/Mobile Documents/com~ap...</td>\n",
       "      <td>12/05/2020 :: 20:12:25</td>\n",
       "      <td>/Users/brendan/Library/Mobile Documents/com~ap...</td>\n",
       "    </tr>\n",
       "    <tr>\n",
       "      <th>15</th>\n",
       "      <td>bokeh_static-checkpoint.ipynb</td>\n",
       "      <td>Jupyter Notebook</td>\n",
       "      <td>/Users/brendan/Library/Mobile Documents/com~ap...</td>\n",
       "      <td>07/04/2021 :: 01:53:14</td>\n",
       "      <td>/Users/brendan/Library/Mobile Documents/com~ap...</td>\n",
       "    </tr>\n",
       "    <tr>\n",
       "      <th>16</th>\n",
       "      <td>.Untitled-checkpoint.ipynb</td>\n",
       "      <td>Jupyter Notebook</td>\n",
       "      <td>/Users/brendan/Library/Mobile Documents/com~ap...</td>\n",
       "      <td>12/05/2020 :: 19:53:08</td>\n",
       "      <td>/Users/brendan/Library/Mobile Documents/com~ap...</td>\n",
       "    </tr>\n",
       "    <tr>\n",
       "      <th>17</th>\n",
       "      <td>settings.json</td>\n",
       "      <td>JSON file</td>\n",
       "      <td>/Users/brendan/Library/Mobile Documents/com~ap...</td>\n",
       "      <td>11/22/2020 :: 20:53:32</td>\n",
       "      <td>/Users/brendan/Library/Mobile Documents/com~ap...</td>\n",
       "    </tr>\n",
       "    <tr>\n",
       "      <th>18</th>\n",
       "      <td>.DS_Store</td>\n",
       "      <td></td>\n",
       "      <td>/Users/brendan/Library/Mobile Documents/com~ap...</td>\n",
       "      <td>09/06/2021 :: 00:46:16</td>\n",
       "      <td>/Users/brendan/Library/Mobile Documents/com~ap...</td>\n",
       "    </tr>\n",
       "    <tr>\n",
       "      <th>19</th>\n",
       "      <td>.05 Matplotlib Lecture.ipynb</td>\n",
       "      <td>Jupyter Notebook</td>\n",
       "      <td>/Users/brendan/Library/Mobile Documents/com~ap...</td>\n",
       "      <td>12/27/2020 :: 14:23:29</td>\n",
       "      <td>/Users/brendan/Library/Mobile Documents/com~ap...</td>\n",
       "    </tr>\n",
       "    <tr>\n",
       "      <th>20</th>\n",
       "      <td>.08 Plotly Lecture.ipynb</td>\n",
       "      <td>Jupyter Notebook</td>\n",
       "      <td>/Users/brendan/Library/Mobile Documents/com~ap...</td>\n",
       "      <td>12/27/2020 :: 22:04:05</td>\n",
       "      <td>/Users/brendan/Library/Mobile Documents/com~ap...</td>\n",
       "    </tr>\n",
       "    <tr>\n",
       "      <th>21</th>\n",
       "      <td>.14 KNN Lecture.ipynb</td>\n",
       "      <td>Jupyter Notebook</td>\n",
       "      <td>/Users/brendan/Library/Mobile Documents/com~ap...</td>\n",
       "      <td>12/29/2020 :: 20:21:42</td>\n",
       "      <td>/Users/brendan/Library/Mobile Documents/com~ap...</td>\n",
       "    </tr>\n",
       "    <tr>\n",
       "      <th>22</th>\n",
       "      <td>.01 Python Crash Course Lecture.ipynb</td>\n",
       "      <td>Jupyter Notebook</td>\n",
       "      <td>/Users/brendan/Library/Mobile Documents/com~ap...</td>\n",
       "      <td>12/26/2020 :: 02:04:50</td>\n",
       "      <td>/Users/brendan/Library/Mobile Documents/com~ap...</td>\n",
       "    </tr>\n",
       "    <tr>\n",
       "      <th>23</th>\n",
       "      <td>.02 Numpy Lecture.ipynb</td>\n",
       "      <td>Jupyter Notebook</td>\n",
       "      <td>/Users/brendan/Library/Mobile Documents/com~ap...</td>\n",
       "      <td>12/26/2020 :: 03:02:42</td>\n",
       "      <td>/Users/brendan/Library/Mobile Documents/com~ap...</td>\n",
       "    </tr>\n",
       "    <tr>\n",
       "      <th>24</th>\n",
       "      <td>.13 Logistic Regression Lecture.ipynb</td>\n",
       "      <td>Jupyter Notebook</td>\n",
       "      <td>/Users/brendan/Library/Mobile Documents/com~ap...</td>\n",
       "      <td>12/29/2020 :: 17:52:06</td>\n",
       "      <td>/Users/brendan/Library/Mobile Documents/com~ap...</td>\n",
       "    </tr>\n",
       "    <tr>\n",
       "      <th>25</th>\n",
       "      <td>.07 Pandas Visualization lecture.ipynb</td>\n",
       "      <td>Jupyter Notebook</td>\n",
       "      <td>/Users/brendan/Library/Mobile Documents/com~ap...</td>\n",
       "      <td>01/01/2021 :: 04:38:43</td>\n",
       "      <td>/Users/brendan/Library/Mobile Documents/com~ap...</td>\n",
       "    </tr>\n",
       "    <tr>\n",
       "      <th>26</th>\n",
       "      <td>.11 Linear Regression lecture.ipynb</td>\n",
       "      <td>Jupyter Notebook</td>\n",
       "      <td>/Users/brendan/Library/Mobile Documents/com~ap...</td>\n",
       "      <td>12/28/2020 :: 21:42:48</td>\n",
       "      <td>/Users/brendan/Library/Mobile Documents/com~ap...</td>\n",
       "    </tr>\n",
       "    <tr>\n",
       "      <th>27</th>\n",
       "      <td>.15 Decision Trees lecture.ipynb</td>\n",
       "      <td>Jupyter Notebook</td>\n",
       "      <td>/Users/brendan/Library/Mobile Documents/com~ap...</td>\n",
       "      <td>12/30/2020 :: 01:28:02</td>\n",
       "      <td>/Users/brendan/Library/Mobile Documents/com~ap...</td>\n",
       "    </tr>\n",
       "    <tr>\n",
       "      <th>28</th>\n",
       "      <td>.16 Support Vector Machines lecture.ipynb</td>\n",
       "      <td>Jupyter Notebook</td>\n",
       "      <td>/Users/brendan/Library/Mobile Documents/com~ap...</td>\n",
       "      <td>12/30/2020 :: 15:54:15</td>\n",
       "      <td>/Users/brendan/Library/Mobile Documents/com~ap...</td>\n",
       "    </tr>\n",
       "    <tr>\n",
       "      <th>29</th>\n",
       "      <td>.06 Seaborn Lecture.ipynb</td>\n",
       "      <td>Jupyter Notebook</td>\n",
       "      <td>/Users/brendan/Library/Mobile Documents/com~ap...</td>\n",
       "      <td>12/29/2020 :: 18:14:15</td>\n",
       "      <td>/Users/brendan/Library/Mobile Documents/com~ap...</td>\n",
       "    </tr>\n",
       "    <tr>\n",
       "      <th>30</th>\n",
       "      <td>.03 Pandas Lecture.ipynb</td>\n",
       "      <td>Jupyter Notebook</td>\n",
       "      <td>/Users/brendan/Library/Mobile Documents/com~ap...</td>\n",
       "      <td>12/27/2020 :: 15:27:59</td>\n",
       "      <td>/Users/brendan/Library/Mobile Documents/com~ap...</td>\n",
       "    </tr>\n",
       "    <tr>\n",
       "      <th>31</th>\n",
       "      <td>Bias Variance Trade-Off.pdf</td>\n",
       "      <td>PDF file</td>\n",
       "      <td>/Users/brendan/Library/Mobile Documents/com~ap...</td>\n",
       "      <td>12/21/2016 :: 05:37:49</td>\n",
       "      <td>/Users/brendan/Library/Mobile Documents/com~ap...</td>\n",
       "    </tr>\n",
       "    <tr>\n",
       "      <th>32</th>\n",
       "      <td>Intro to Logistic Regression.pdf</td>\n",
       "      <td>PDF file</td>\n",
       "      <td>/Users/brendan/Library/Mobile Documents/com~ap...</td>\n",
       "      <td>12/21/2016 :: 05:56:21</td>\n",
       "      <td>/Users/brendan/Library/Mobile Documents/com~ap...</td>\n",
       "    </tr>\n",
       "    <tr>\n",
       "      <th>33</th>\n",
       "      <td>Principal Component Analysis.pdf</td>\n",
       "      <td>PDF file</td>\n",
       "      <td>/Users/brendan/Library/Mobile Documents/com~ap...</td>\n",
       "      <td>12/21/2016 :: 05:35:32</td>\n",
       "      <td>/Users/brendan/Library/Mobile Documents/com~ap...</td>\n",
       "    </tr>\n",
       "    <tr>\n",
       "      <th>34</th>\n",
       "      <td>Intro to Natural Language Processing.pdf</td>\n",
       "      <td>PDF file</td>\n",
       "      <td>/Users/brendan/Library/Mobile Documents/com~ap...</td>\n",
       "      <td>12/21/2016 :: 05:34:12</td>\n",
       "      <td>/Users/brendan/Library/Mobile Documents/com~ap...</td>\n",
       "    </tr>\n",
       "    <tr>\n",
       "      <th>35</th>\n",
       "      <td>Intro to Machine Learning.pdf</td>\n",
       "      <td>PDF file</td>\n",
       "      <td>/Users/brendan/Library/Mobile Documents/com~ap...</td>\n",
       "      <td>12/21/2016 :: 05:30:30</td>\n",
       "      <td>/Users/brendan/Library/Mobile Documents/com~ap...</td>\n",
       "    </tr>\n",
       "    <tr>\n",
       "      <th>36</th>\n",
       "      <td>Intro to K Nearest Neighbors.pdf</td>\n",
       "      <td>PDF file</td>\n",
       "      <td>/Users/brendan/Library/Mobile Documents/com~ap...</td>\n",
       "      <td>12/21/2016 :: 05:37:12</td>\n",
       "      <td>/Users/brendan/Library/Mobile Documents/com~ap...</td>\n",
       "    </tr>\n",
       "    <tr>\n",
       "      <th>37</th>\n",
       "      <td>Intro to Tree Methods.pdf</td>\n",
       "      <td>PDF file</td>\n",
       "      <td>/Users/brendan/Library/Mobile Documents/com~ap...</td>\n",
       "      <td>12/21/2016 :: 05:33:31</td>\n",
       "      <td>/Users/brendan/Library/Mobile Documents/com~ap...</td>\n",
       "    </tr>\n",
       "    <tr>\n",
       "      <th>38</th>\n",
       "      <td>Python - Intro to Linear Regression.pdf</td>\n",
       "      <td>PDF file</td>\n",
       "      <td>/Users/brendan/Library/Mobile Documents/com~ap...</td>\n",
       "      <td>12/21/2016 :: 05:32:38</td>\n",
       "      <td>/Users/brendan/Library/Mobile Documents/com~ap...</td>\n",
       "    </tr>\n",
       "    <tr>\n",
       "      <th>39</th>\n",
       "      <td>Intro to K Means Clustering.pdf</td>\n",
       "      <td>PDF file</td>\n",
       "      <td>/Users/brendan/Library/Mobile Documents/com~ap...</td>\n",
       "      <td>12/21/2016 :: 05:36:36</td>\n",
       "      <td>/Users/brendan/Library/Mobile Documents/com~ap...</td>\n",
       "    </tr>\n",
       "    <tr>\n",
       "      <th>40</th>\n",
       "      <td>Intro to Neural Nets.pdf</td>\n",
       "      <td>PDF file</td>\n",
       "      <td>/Users/brendan/Library/Mobile Documents/com~ap...</td>\n",
       "      <td>12/21/2016 :: 05:36:09</td>\n",
       "      <td>/Users/brendan/Library/Mobile Documents/com~ap...</td>\n",
       "    </tr>\n",
       "    <tr>\n",
       "      <th>41</th>\n",
       "      <td>.10  Finance Project.ipynb</td>\n",
       "      <td>Jupyter Notebook</td>\n",
       "      <td>/Users/brendan/Library/Mobile Documents/com~ap...</td>\n",
       "      <td>12/30/2020 :: 14:24:25</td>\n",
       "      <td>/Users/brendan/Library/Mobile Documents/com~ap...</td>\n",
       "    </tr>\n",
       "    <tr>\n",
       "      <th>42</th>\n",
       "      <td>.16 Support Vector Machines Project.ipynb</td>\n",
       "      <td>Jupyter Notebook</td>\n",
       "      <td>/Users/brendan/Library/Mobile Documents/com~ap...</td>\n",
       "      <td>12/30/2020 :: 16:04:45</td>\n",
       "      <td>/Users/brendan/Library/Mobile Documents/com~ap...</td>\n",
       "    </tr>\n",
       "    <tr>\n",
       "      <th>43</th>\n",
       "      <td>.11 Linear Regression Project.ipynb</td>\n",
       "      <td>Jupyter Notebook</td>\n",
       "      <td>/Users/brendan/Library/Mobile Documents/com~ap...</td>\n",
       "      <td>12/28/2020 :: 21:57:56</td>\n",
       "      <td>/Users/brendan/Library/Mobile Documents/com~ap...</td>\n",
       "    </tr>\n",
       "    <tr>\n",
       "      <th>44</th>\n",
       "      <td>.01-Python Crash Course Project.ipynb</td>\n",
       "      <td>Jupyter Notebook</td>\n",
       "      <td>/Users/brendan/Library/Mobile Documents/com~ap...</td>\n",
       "      <td>08/30/2018 :: 18:54:18</td>\n",
       "      <td>/Users/brendan/Library/Mobile Documents/com~ap...</td>\n",
       "    </tr>\n",
       "    <tr>\n",
       "      <th>45</th>\n",
       "      <td>.13 Logistic Regression Project.ipynb</td>\n",
       "      <td>Jupyter Notebook</td>\n",
       "      <td>/Users/brendan/Library/Mobile Documents/com~ap...</td>\n",
       "      <td>12/29/2020 :: 18:30:40</td>\n",
       "      <td>/Users/brendan/Library/Mobile Documents/com~ap...</td>\n",
       "    </tr>\n",
       "    <tr>\n",
       "      <th>46</th>\n",
       "      <td>.02 Numpy Project.ipynb</td>\n",
       "      <td>Jupyter Notebook</td>\n",
       "      <td>/Users/brendan/Library/Mobile Documents/com~ap...</td>\n",
       "      <td>08/30/2018 :: 18:54:18</td>\n",
       "      <td>/Users/brendan/Library/Mobile Documents/com~ap...</td>\n",
       "    </tr>\n",
       "    <tr>\n",
       "      <th>47</th>\n",
       "      <td>.15 Decision Trees and Random Forest Project.i...</td>\n",
       "      <td>Jupyter Notebook</td>\n",
       "      <td>/Users/brendan/Library/Mobile Documents/com~ap...</td>\n",
       "      <td>12/30/2020 :: 02:50:05</td>\n",
       "      <td>/Users/brendan/Library/Mobile Documents/com~ap...</td>\n",
       "    </tr>\n",
       "    <tr>\n",
       "      <th>48</th>\n",
       "      <td>.13 Logistic Regression Project-checkpoint.ipynb</td>\n",
       "      <td>Jupyter Notebook</td>\n",
       "      <td>/Users/brendan/Library/Mobile Documents/com~ap...</td>\n",
       "      <td>12/29/2020 :: 18:06:40</td>\n",
       "      <td>/Users/brendan/Library/Mobile Documents/com~ap...</td>\n",
       "    </tr>\n",
       "    <tr>\n",
       "      <th>49</th>\n",
       "      <td>.11 Linear Regression Project-checkpoint.ipynb</td>\n",
       "      <td>Jupyter Notebook</td>\n",
       "      <td>/Users/brendan/Library/Mobile Documents/com~ap...</td>\n",
       "      <td>12/28/2020 :: 21:57:56</td>\n",
       "      <td>/Users/brendan/Library/Mobile Documents/com~ap...</td>\n",
       "    </tr>\n",
       "  </tbody>\n",
       "</table>\n",
       "</div>"
      ],
      "text/plain": [
       "                                                 File         File Type  \\\n",
       "0                                           .DS_Store                     \n",
       "1                           .simple_bokeh.html.icloud                     \n",
       "2                                           labels.py       Python file   \n",
       "3                                       exercise_8.py       Python file   \n",
       "4                                           .DS_Store                     \n",
       "5                              widgets_interactive.py       Python file   \n",
       "6                                 filtering_glyphs.py       Python file   \n",
       "7                                          widgets.py       Python file   \n",
       "8                                     .Untitled.ipynb  Jupyter Notebook   \n",
       "9                                  bokeh_static.ipynb  Jupyter Notebook   \n",
       "10                  bitcoin_streaming_webscrapping.py       Python file   \n",
       "11                                    bokeh_static.py       Python file   \n",
       "12                            labels_radio_buttons.py       Python file   \n",
       "13                                 random_graphing.py       Python file   \n",
       "14             .random_graphing.cpython-37.pyc.icloud                     \n",
       "15                      bokeh_static-checkpoint.ipynb  Jupyter Notebook   \n",
       "16                         .Untitled-checkpoint.ipynb  Jupyter Notebook   \n",
       "17                                      settings.json         JSON file   \n",
       "18                                          .DS_Store                     \n",
       "19                       .05 Matplotlib Lecture.ipynb  Jupyter Notebook   \n",
       "20                           .08 Plotly Lecture.ipynb  Jupyter Notebook   \n",
       "21                              .14 KNN Lecture.ipynb  Jupyter Notebook   \n",
       "22              .01 Python Crash Course Lecture.ipynb  Jupyter Notebook   \n",
       "23                            .02 Numpy Lecture.ipynb  Jupyter Notebook   \n",
       "24              .13 Logistic Regression Lecture.ipynb  Jupyter Notebook   \n",
       "25             .07 Pandas Visualization lecture.ipynb  Jupyter Notebook   \n",
       "26                .11 Linear Regression lecture.ipynb  Jupyter Notebook   \n",
       "27                   .15 Decision Trees lecture.ipynb  Jupyter Notebook   \n",
       "28          .16 Support Vector Machines lecture.ipynb  Jupyter Notebook   \n",
       "29                          .06 Seaborn Lecture.ipynb  Jupyter Notebook   \n",
       "30                           .03 Pandas Lecture.ipynb  Jupyter Notebook   \n",
       "31                        Bias Variance Trade-Off.pdf          PDF file   \n",
       "32                   Intro to Logistic Regression.pdf          PDF file   \n",
       "33                   Principal Component Analysis.pdf          PDF file   \n",
       "34           Intro to Natural Language Processing.pdf          PDF file   \n",
       "35                      Intro to Machine Learning.pdf          PDF file   \n",
       "36                   Intro to K Nearest Neighbors.pdf          PDF file   \n",
       "37                          Intro to Tree Methods.pdf          PDF file   \n",
       "38            Python - Intro to Linear Regression.pdf          PDF file   \n",
       "39                    Intro to K Means Clustering.pdf          PDF file   \n",
       "40                           Intro to Neural Nets.pdf          PDF file   \n",
       "41                         .10  Finance Project.ipynb  Jupyter Notebook   \n",
       "42          .16 Support Vector Machines Project.ipynb  Jupyter Notebook   \n",
       "43                .11 Linear Regression Project.ipynb  Jupyter Notebook   \n",
       "44              .01-Python Crash Course Project.ipynb  Jupyter Notebook   \n",
       "45              .13 Logistic Regression Project.ipynb  Jupyter Notebook   \n",
       "46                            .02 Numpy Project.ipynb  Jupyter Notebook   \n",
       "47  .15 Decision Trees and Random Forest Project.i...  Jupyter Notebook   \n",
       "48   .13 Logistic Regression Project-checkpoint.ipynb  Jupyter Notebook   \n",
       "49     .11 Linear Regression Project-checkpoint.ipynb  Jupyter Notebook   \n",
       "\n",
       "                                      Folder Location                    Date  \\\n",
       "0   /Users/brendan/Library/Mobile Documents/com~ap...  09/13/2021 :: 00:07:51   \n",
       "1   /Users/brendan/Library/Mobile Documents/com~ap...  11/18/2020 :: 01:55:53   \n",
       "2   /Users/brendan/Library/Mobile Documents/com~ap...  11/19/2020 :: 00:13:59   \n",
       "3   /Users/brendan/Library/Mobile Documents/com~ap...  11/22/2020 :: 20:16:56   \n",
       "4   /Users/brendan/Library/Mobile Documents/com~ap...  09/04/2021 :: 15:11:01   \n",
       "5   /Users/brendan/Library/Mobile Documents/com~ap...  11/18/2020 :: 23:28:45   \n",
       "6   /Users/brendan/Library/Mobile Documents/com~ap...  11/27/2020 :: 23:57:27   \n",
       "7   /Users/brendan/Library/Mobile Documents/com~ap...  11/18/2020 :: 01:55:44   \n",
       "8   /Users/brendan/Library/Mobile Documents/com~ap...  12/05/2020 :: 20:01:10   \n",
       "9   /Users/brendan/Library/Mobile Documents/com~ap...  07/04/2021 :: 01:53:14   \n",
       "10  /Users/brendan/Library/Mobile Documents/com~ap...  12/05/2020 :: 19:49:52   \n",
       "11  /Users/brendan/Library/Mobile Documents/com~ap...  07/04/2021 :: 01:45:52   \n",
       "12  /Users/brendan/Library/Mobile Documents/com~ap...  11/22/2020 :: 20:39:04   \n",
       "13  /Users/brendan/Library/Mobile Documents/com~ap...  12/05/2020 :: 20:26:15   \n",
       "14  /Users/brendan/Library/Mobile Documents/com~ap...  12/05/2020 :: 20:12:25   \n",
       "15  /Users/brendan/Library/Mobile Documents/com~ap...  07/04/2021 :: 01:53:14   \n",
       "16  /Users/brendan/Library/Mobile Documents/com~ap...  12/05/2020 :: 19:53:08   \n",
       "17  /Users/brendan/Library/Mobile Documents/com~ap...  11/22/2020 :: 20:53:32   \n",
       "18  /Users/brendan/Library/Mobile Documents/com~ap...  09/06/2021 :: 00:46:16   \n",
       "19  /Users/brendan/Library/Mobile Documents/com~ap...  12/27/2020 :: 14:23:29   \n",
       "20  /Users/brendan/Library/Mobile Documents/com~ap...  12/27/2020 :: 22:04:05   \n",
       "21  /Users/brendan/Library/Mobile Documents/com~ap...  12/29/2020 :: 20:21:42   \n",
       "22  /Users/brendan/Library/Mobile Documents/com~ap...  12/26/2020 :: 02:04:50   \n",
       "23  /Users/brendan/Library/Mobile Documents/com~ap...  12/26/2020 :: 03:02:42   \n",
       "24  /Users/brendan/Library/Mobile Documents/com~ap...  12/29/2020 :: 17:52:06   \n",
       "25  /Users/brendan/Library/Mobile Documents/com~ap...  01/01/2021 :: 04:38:43   \n",
       "26  /Users/brendan/Library/Mobile Documents/com~ap...  12/28/2020 :: 21:42:48   \n",
       "27  /Users/brendan/Library/Mobile Documents/com~ap...  12/30/2020 :: 01:28:02   \n",
       "28  /Users/brendan/Library/Mobile Documents/com~ap...  12/30/2020 :: 15:54:15   \n",
       "29  /Users/brendan/Library/Mobile Documents/com~ap...  12/29/2020 :: 18:14:15   \n",
       "30  /Users/brendan/Library/Mobile Documents/com~ap...  12/27/2020 :: 15:27:59   \n",
       "31  /Users/brendan/Library/Mobile Documents/com~ap...  12/21/2016 :: 05:37:49   \n",
       "32  /Users/brendan/Library/Mobile Documents/com~ap...  12/21/2016 :: 05:56:21   \n",
       "33  /Users/brendan/Library/Mobile Documents/com~ap...  12/21/2016 :: 05:35:32   \n",
       "34  /Users/brendan/Library/Mobile Documents/com~ap...  12/21/2016 :: 05:34:12   \n",
       "35  /Users/brendan/Library/Mobile Documents/com~ap...  12/21/2016 :: 05:30:30   \n",
       "36  /Users/brendan/Library/Mobile Documents/com~ap...  12/21/2016 :: 05:37:12   \n",
       "37  /Users/brendan/Library/Mobile Documents/com~ap...  12/21/2016 :: 05:33:31   \n",
       "38  /Users/brendan/Library/Mobile Documents/com~ap...  12/21/2016 :: 05:32:38   \n",
       "39  /Users/brendan/Library/Mobile Documents/com~ap...  12/21/2016 :: 05:36:36   \n",
       "40  /Users/brendan/Library/Mobile Documents/com~ap...  12/21/2016 :: 05:36:09   \n",
       "41  /Users/brendan/Library/Mobile Documents/com~ap...  12/30/2020 :: 14:24:25   \n",
       "42  /Users/brendan/Library/Mobile Documents/com~ap...  12/30/2020 :: 16:04:45   \n",
       "43  /Users/brendan/Library/Mobile Documents/com~ap...  12/28/2020 :: 21:57:56   \n",
       "44  /Users/brendan/Library/Mobile Documents/com~ap...  08/30/2018 :: 18:54:18   \n",
       "45  /Users/brendan/Library/Mobile Documents/com~ap...  12/29/2020 :: 18:30:40   \n",
       "46  /Users/brendan/Library/Mobile Documents/com~ap...  08/30/2018 :: 18:54:18   \n",
       "47  /Users/brendan/Library/Mobile Documents/com~ap...  12/30/2020 :: 02:50:05   \n",
       "48  /Users/brendan/Library/Mobile Documents/com~ap...  12/29/2020 :: 18:06:40   \n",
       "49  /Users/brendan/Library/Mobile Documents/com~ap...  12/28/2020 :: 21:57:56   \n",
       "\n",
       "                                                 Path  \n",
       "0   /Users/brendan/Library/Mobile Documents/com~ap...  \n",
       "1   /Users/brendan/Library/Mobile Documents/com~ap...  \n",
       "2   /Users/brendan/Library/Mobile Documents/com~ap...  \n",
       "3   /Users/brendan/Library/Mobile Documents/com~ap...  \n",
       "4   /Users/brendan/Library/Mobile Documents/com~ap...  \n",
       "5   /Users/brendan/Library/Mobile Documents/com~ap...  \n",
       "6   /Users/brendan/Library/Mobile Documents/com~ap...  \n",
       "7   /Users/brendan/Library/Mobile Documents/com~ap...  \n",
       "8   /Users/brendan/Library/Mobile Documents/com~ap...  \n",
       "9   /Users/brendan/Library/Mobile Documents/com~ap...  \n",
       "10  /Users/brendan/Library/Mobile Documents/com~ap...  \n",
       "11  /Users/brendan/Library/Mobile Documents/com~ap...  \n",
       "12  /Users/brendan/Library/Mobile Documents/com~ap...  \n",
       "13  /Users/brendan/Library/Mobile Documents/com~ap...  \n",
       "14  /Users/brendan/Library/Mobile Documents/com~ap...  \n",
       "15  /Users/brendan/Library/Mobile Documents/com~ap...  \n",
       "16  /Users/brendan/Library/Mobile Documents/com~ap...  \n",
       "17  /Users/brendan/Library/Mobile Documents/com~ap...  \n",
       "18  /Users/brendan/Library/Mobile Documents/com~ap...  \n",
       "19  /Users/brendan/Library/Mobile Documents/com~ap...  \n",
       "20  /Users/brendan/Library/Mobile Documents/com~ap...  \n",
       "21  /Users/brendan/Library/Mobile Documents/com~ap...  \n",
       "22  /Users/brendan/Library/Mobile Documents/com~ap...  \n",
       "23  /Users/brendan/Library/Mobile Documents/com~ap...  \n",
       "24  /Users/brendan/Library/Mobile Documents/com~ap...  \n",
       "25  /Users/brendan/Library/Mobile Documents/com~ap...  \n",
       "26  /Users/brendan/Library/Mobile Documents/com~ap...  \n",
       "27  /Users/brendan/Library/Mobile Documents/com~ap...  \n",
       "28  /Users/brendan/Library/Mobile Documents/com~ap...  \n",
       "29  /Users/brendan/Library/Mobile Documents/com~ap...  \n",
       "30  /Users/brendan/Library/Mobile Documents/com~ap...  \n",
       "31  /Users/brendan/Library/Mobile Documents/com~ap...  \n",
       "32  /Users/brendan/Library/Mobile Documents/com~ap...  \n",
       "33  /Users/brendan/Library/Mobile Documents/com~ap...  \n",
       "34  /Users/brendan/Library/Mobile Documents/com~ap...  \n",
       "35  /Users/brendan/Library/Mobile Documents/com~ap...  \n",
       "36  /Users/brendan/Library/Mobile Documents/com~ap...  \n",
       "37  /Users/brendan/Library/Mobile Documents/com~ap...  \n",
       "38  /Users/brendan/Library/Mobile Documents/com~ap...  \n",
       "39  /Users/brendan/Library/Mobile Documents/com~ap...  \n",
       "40  /Users/brendan/Library/Mobile Documents/com~ap...  \n",
       "41  /Users/brendan/Library/Mobile Documents/com~ap...  \n",
       "42  /Users/brendan/Library/Mobile Documents/com~ap...  \n",
       "43  /Users/brendan/Library/Mobile Documents/com~ap...  \n",
       "44  /Users/brendan/Library/Mobile Documents/com~ap...  \n",
       "45  /Users/brendan/Library/Mobile Documents/com~ap...  \n",
       "46  /Users/brendan/Library/Mobile Documents/com~ap...  \n",
       "47  /Users/brendan/Library/Mobile Documents/com~ap...  \n",
       "48  /Users/brendan/Library/Mobile Documents/com~ap...  \n",
       "49  /Users/brendan/Library/Mobile Documents/com~ap...  "
      ]
     },
     "execution_count": 29,
     "metadata": {},
     "output_type": "execute_result"
    }
   ],
   "source": [
    "# filter for all files with the data that matches '10/26/1985 :: 08:15:00'\n",
    "df_10_26_1985_filtered_vs = raw_df.loc[(raw_df['File Type'] == 'Python file') & \n",
    "                                       (raw_df['Date'] == '10/26/1985 :: 08:15:00')]\n",
    "df_10_26_1985_filtered_jupyter = raw_df.loc[(raw_df['File Type'] == 'Jupyter Notebook') \n",
    "                                             & (raw_df['Date'] == '10/26/1985 :: 08:15:00')]\n",
    "df_10_26_1985_filtered.head(50)"
   ]
  },
  {
   "cell_type": "code",
   "execution_count": 30,
   "id": "bf0d1281",
   "metadata": {},
   "outputs": [
    {
     "data": {
      "text/html": [
       "<div>\n",
       "<style scoped>\n",
       "    .dataframe tbody tr th:only-of-type {\n",
       "        vertical-align: middle;\n",
       "    }\n",
       "\n",
       "    .dataframe tbody tr th {\n",
       "        vertical-align: top;\n",
       "    }\n",
       "\n",
       "    .dataframe thead th {\n",
       "        text-align: right;\n",
       "    }\n",
       "</style>\n",
       "<table border=\"1\" class=\"dataframe\">\n",
       "  <thead>\n",
       "    <tr style=\"text-align: right;\">\n",
       "      <th></th>\n",
       "      <th>File</th>\n",
       "      <th>File Type</th>\n",
       "      <th>Folder Location</th>\n",
       "      <th>Date</th>\n",
       "      <th>Path</th>\n",
       "    </tr>\n",
       "  </thead>\n",
       "  <tbody>\n",
       "  </tbody>\n",
       "</table>\n",
       "</div>"
      ],
      "text/plain": [
       "Empty DataFrame\n",
       "Columns: [File, File Type, Folder Location, Date, Path]\n",
       "Index: []"
      ]
     },
     "execution_count": 30,
     "metadata": {},
     "output_type": "execute_result"
    }
   ],
   "source": [
    "df_10_26_1985_filtered_jupyter = raw_df.loc[(raw_df['File Type'] == 'Jupyter Notebook') & (raw_df['Date'] == '10/26/1985 :: 08:15:00')]\n",
    "df_10_26_1985_filtered_jupyter"
   ]
  },
  {
   "cell_type": "code",
   "execution_count": 31,
   "id": "41b1d411",
   "metadata": {},
   "outputs": [
    {
     "name": "stdout",
     "output_type": "stream",
     "text": [
      "<class 'pandas.core.frame.DataFrame'>\n",
      "Int64Index: 147 entries, 8306 to 14288\n",
      "Data columns (total 5 columns):\n",
      " #   Column           Non-Null Count  Dtype \n",
      "---  ------           --------------  ----- \n",
      " 0   File             147 non-null    object\n",
      " 1   File Type        147 non-null    object\n",
      " 2   Folder Location  147 non-null    object\n",
      " 3   Date             147 non-null    object\n",
      " 4   Path             147 non-null    object\n",
      "dtypes: object(5)\n",
      "memory usage: 6.9+ KB\n"
     ]
    }
   ],
   "source": [
    "df_10_26_1985_filtered_vs.info()"
   ]
  },
  {
   "cell_type": "code",
   "execution_count": 32,
   "id": "0db7f038",
   "metadata": {},
   "outputs": [
    {
     "data": {
      "text/html": [
       "<div>\n",
       "<style scoped>\n",
       "    .dataframe tbody tr th:only-of-type {\n",
       "        vertical-align: middle;\n",
       "    }\n",
       "\n",
       "    .dataframe tbody tr th {\n",
       "        vertical-align: top;\n",
       "    }\n",
       "\n",
       "    .dataframe thead th {\n",
       "        text-align: right;\n",
       "    }\n",
       "</style>\n",
       "<table border=\"1\" class=\"dataframe\">\n",
       "  <thead>\n",
       "    <tr style=\"text-align: right;\">\n",
       "      <th></th>\n",
       "      <th>File</th>\n",
       "      <th>File Type</th>\n",
       "      <th>Folder Location</th>\n",
       "      <th>Date</th>\n",
       "      <th>Path</th>\n",
       "    </tr>\n",
       "  </thead>\n",
       "  <tbody>\n",
       "  </tbody>\n",
       "</table>\n",
       "</div>"
      ],
      "text/plain": [
       "Empty DataFrame\n",
       "Columns: [File, File Type, Folder Location, Date, Path]\n",
       "Index: []"
      ]
     },
     "execution_count": 32,
     "metadata": {},
     "output_type": "execute_result"
    }
   ],
   "source": [
    "# filter for all files with the data that matches '08/26/2018 :: 00:52:52'\n",
    "df_8_26_2018_filtered_vs = raw_df.loc[(raw_df['File Type'] == 'Python file') & \n",
    "                                       (raw_df['Date'] == '08/26/2018 :: 00:52:52')]\n",
    "df_8_26_2018_filtered_jupyter = raw_df.loc[(raw_df['File Type'] == 'Jupyter Notebook') \n",
    "                                             & (raw_df['Date'] == '08/26/2018 :: 00:52:52')]\n",
    "df_8_26_2018_filtered_vs.head()\n"
   ]
  },
  {
   "cell_type": "code",
   "execution_count": 33,
   "id": "4be715ac",
   "metadata": {},
   "outputs": [
    {
     "data": {
      "text/html": [
       "<div>\n",
       "<style scoped>\n",
       "    .dataframe tbody tr th:only-of-type {\n",
       "        vertical-align: middle;\n",
       "    }\n",
       "\n",
       "    .dataframe tbody tr th {\n",
       "        vertical-align: top;\n",
       "    }\n",
       "\n",
       "    .dataframe thead th {\n",
       "        text-align: right;\n",
       "    }\n",
       "</style>\n",
       "<table border=\"1\" class=\"dataframe\">\n",
       "  <thead>\n",
       "    <tr style=\"text-align: right;\">\n",
       "      <th></th>\n",
       "      <th>File</th>\n",
       "      <th>File Type</th>\n",
       "      <th>Folder Location</th>\n",
       "      <th>Date</th>\n",
       "      <th>Path</th>\n",
       "    </tr>\n",
       "  </thead>\n",
       "  <tbody>\n",
       "  </tbody>\n",
       "</table>\n",
       "</div>"
      ],
      "text/plain": [
       "Empty DataFrame\n",
       "Columns: [File, File Type, Folder Location, Date, Path]\n",
       "Index: []"
      ]
     },
     "execution_count": 33,
     "metadata": {},
     "output_type": "execute_result"
    }
   ],
   "source": [
    "df_8_26_2018_filtered_jupyter.head()"
   ]
  },
  {
   "cell_type": "code",
   "execution_count": 34,
   "id": "62a14b49",
   "metadata": {},
   "outputs": [
    {
     "data": {
      "text/plain": [
       "'08/10/2018 :: 02:01:48'"
      ]
     },
     "execution_count": 34,
     "metadata": {},
     "output_type": "execute_result"
    }
   ],
   "source": [
    "'08/10/2018 :: 02:01:48'"
   ]
  },
  {
   "cell_type": "code",
   "execution_count": 35,
   "id": "5ec4082e",
   "metadata": {},
   "outputs": [
    {
     "data": {
      "text/html": [
       "<div>\n",
       "<style scoped>\n",
       "    .dataframe tbody tr th:only-of-type {\n",
       "        vertical-align: middle;\n",
       "    }\n",
       "\n",
       "    .dataframe tbody tr th {\n",
       "        vertical-align: top;\n",
       "    }\n",
       "\n",
       "    .dataframe thead th {\n",
       "        text-align: right;\n",
       "    }\n",
       "</style>\n",
       "<table border=\"1\" class=\"dataframe\">\n",
       "  <thead>\n",
       "    <tr style=\"text-align: right;\">\n",
       "      <th></th>\n",
       "      <th>File</th>\n",
       "      <th>File Type</th>\n",
       "      <th>Folder Location</th>\n",
       "      <th>Date</th>\n",
       "      <th>Path</th>\n",
       "    </tr>\n",
       "  </thead>\n",
       "  <tbody>\n",
       "    <tr>\n",
       "      <th>5890</th>\n",
       "      <td>formatted_name.py</td>\n",
       "      <td>Python file</td>\n",
       "      <td>/Users/brendan/Library/Mobile Documents/com~ap...</td>\n",
       "      <td>08/10/2018 :: 02:01:48</td>\n",
       "      <td>/Users/brendan/Library/Mobile Documents/com~ap...</td>\n",
       "    </tr>\n",
       "    <tr>\n",
       "      <th>5891</th>\n",
       "      <td>person.py</td>\n",
       "      <td>Python file</td>\n",
       "      <td>/Users/brendan/Library/Mobile Documents/com~ap...</td>\n",
       "      <td>08/10/2018 :: 02:01:48</td>\n",
       "      <td>/Users/brendan/Library/Mobile Documents/com~ap...</td>\n",
       "    </tr>\n",
       "    <tr>\n",
       "      <th>5892</th>\n",
       "      <td>printing_models.py</td>\n",
       "      <td>Python file</td>\n",
       "      <td>/Users/brendan/Library/Mobile Documents/com~ap...</td>\n",
       "      <td>08/10/2018 :: 02:01:48</td>\n",
       "      <td>/Users/brendan/Library/Mobile Documents/com~ap...</td>\n",
       "    </tr>\n",
       "    <tr>\n",
       "      <th>5893</th>\n",
       "      <td>pizza.py</td>\n",
       "      <td>Python file</td>\n",
       "      <td>/Users/brendan/Library/Mobile Documents/com~ap...</td>\n",
       "      <td>08/10/2018 :: 02:01:48</td>\n",
       "      <td>/Users/brendan/Library/Mobile Documents/com~ap...</td>\n",
       "    </tr>\n",
       "    <tr>\n",
       "      <th>5894</th>\n",
       "      <td>pets.py</td>\n",
       "      <td>Python file</td>\n",
       "      <td>/Users/brendan/Library/Mobile Documents/com~ap...</td>\n",
       "      <td>08/10/2018 :: 02:01:48</td>\n",
       "      <td>/Users/brendan/Library/Mobile Documents/com~ap...</td>\n",
       "    </tr>\n",
       "  </tbody>\n",
       "</table>\n",
       "</div>"
      ],
      "text/plain": [
       "                    File    File Type  \\\n",
       "5890   formatted_name.py  Python file   \n",
       "5891           person.py  Python file   \n",
       "5892  printing_models.py  Python file   \n",
       "5893            pizza.py  Python file   \n",
       "5894             pets.py  Python file   \n",
       "\n",
       "                                        Folder Location  \\\n",
       "5890  /Users/brendan/Library/Mobile Documents/com~ap...   \n",
       "5891  /Users/brendan/Library/Mobile Documents/com~ap...   \n",
       "5892  /Users/brendan/Library/Mobile Documents/com~ap...   \n",
       "5893  /Users/brendan/Library/Mobile Documents/com~ap...   \n",
       "5894  /Users/brendan/Library/Mobile Documents/com~ap...   \n",
       "\n",
       "                        Date  \\\n",
       "5890  08/10/2018 :: 02:01:48   \n",
       "5891  08/10/2018 :: 02:01:48   \n",
       "5892  08/10/2018 :: 02:01:48   \n",
       "5893  08/10/2018 :: 02:01:48   \n",
       "5894  08/10/2018 :: 02:01:48   \n",
       "\n",
       "                                                   Path  \n",
       "5890  /Users/brendan/Library/Mobile Documents/com~ap...  \n",
       "5891  /Users/brendan/Library/Mobile Documents/com~ap...  \n",
       "5892  /Users/brendan/Library/Mobile Documents/com~ap...  \n",
       "5893  /Users/brendan/Library/Mobile Documents/com~ap...  \n",
       "5894  /Users/brendan/Library/Mobile Documents/com~ap...  "
      ]
     },
     "execution_count": 35,
     "metadata": {},
     "output_type": "execute_result"
    }
   ],
   "source": [
    "# filter for all files with the data that matches '08/10/2018 :: 02:01:48'\n",
    "df_8_10_2018_filtered_vs = raw_df.loc[(raw_df['File Type'] == 'Python file') & \n",
    "                                       (raw_df['Date'] == '08/10/2018 :: 02:01:48')]\n",
    "df_8_10_2018_filtered_jupyter = raw_df.loc[(raw_df['File Type'] == 'Jupyter Notebook') \n",
    "                                             & (raw_df['Date'] == '08/10/2018 :: 02:01:48')]\n",
    "\n",
    "df_8_10_2018_filtered_vs.head()"
   ]
  },
  {
   "cell_type": "code",
   "execution_count": 36,
   "id": "bc93a17f",
   "metadata": {},
   "outputs": [
    {
     "name": "stdout",
     "output_type": "stream",
     "text": [
      "<class 'pandas.core.frame.DataFrame'>\n",
      "Int64Index: 215 entries, 5890 to 6297\n",
      "Data columns (total 5 columns):\n",
      " #   Column           Non-Null Count  Dtype \n",
      "---  ------           --------------  ----- \n",
      " 0   File             215 non-null    object\n",
      " 1   File Type        215 non-null    object\n",
      " 2   Folder Location  215 non-null    object\n",
      " 3   Date             215 non-null    object\n",
      " 4   Path             215 non-null    object\n",
      "dtypes: object(5)\n",
      "memory usage: 10.1+ KB\n"
     ]
    }
   ],
   "source": [
    "df_8_10_2018_filtered_vs.info()"
   ]
  },
  {
   "cell_type": "code",
   "execution_count": 37,
   "id": "fd516e4c",
   "metadata": {},
   "outputs": [
    {
     "data": {
      "text/plain": [
       "'09/21/2019 :: 02:56:04'"
      ]
     },
     "execution_count": 37,
     "metadata": {},
     "output_type": "execute_result"
    }
   ],
   "source": [
    "'09/21/2019 :: 02:56:04'"
   ]
  },
  {
   "cell_type": "code",
   "execution_count": 38,
   "id": "64a8da45",
   "metadata": {},
   "outputs": [
    {
     "data": {
      "text/html": [
       "<div>\n",
       "<style scoped>\n",
       "    .dataframe tbody tr th:only-of-type {\n",
       "        vertical-align: middle;\n",
       "    }\n",
       "\n",
       "    .dataframe tbody tr th {\n",
       "        vertical-align: top;\n",
       "    }\n",
       "\n",
       "    .dataframe thead th {\n",
       "        text-align: right;\n",
       "    }\n",
       "</style>\n",
       "<table border=\"1\" class=\"dataframe\">\n",
       "  <thead>\n",
       "    <tr style=\"text-align: right;\">\n",
       "      <th></th>\n",
       "      <th>File</th>\n",
       "      <th>File Type</th>\n",
       "      <th>Folder Location</th>\n",
       "      <th>Date</th>\n",
       "      <th>Path</th>\n",
       "    </tr>\n",
       "  </thead>\n",
       "  <tbody>\n",
       "  </tbody>\n",
       "</table>\n",
       "</div>"
      ],
      "text/plain": [
       "Empty DataFrame\n",
       "Columns: [File, File Type, Folder Location, Date, Path]\n",
       "Index: []"
      ]
     },
     "execution_count": 38,
     "metadata": {},
     "output_type": "execute_result"
    }
   ],
   "source": [
    "# filter for all files with the data that matches '09/21/2019 :: 02:56:02'\n",
    "df_9_21_2019_filtered_vs = raw_df.loc[(raw_df['File Type'] == 'Python file') & \n",
    "                                       (raw_df['Date'] == '09/21/2019 :: 02:56:02')]\n",
    "df_9_21_2019_filtered_jupyter = raw_df.loc[(raw_df['File Type'] == 'Jupyter Notebook') \n",
    "                                             & (raw_df['Date'] == '09/21/2019 :: 02:56:02')]\n",
    "\n",
    "df_9_21_2019_filtered_vs.head()\n",
    "df_9_21_2019_filtered_jupyter.head()"
   ]
  },
  {
   "cell_type": "code",
   "execution_count": 39,
   "id": "7ec05976",
   "metadata": {},
   "outputs": [
    {
     "name": "stdout",
     "output_type": "stream",
     "text": [
      "<class 'pandas.core.frame.DataFrame'>\n",
      "Int64Index: 2 entries, 4966 to 6715\n",
      "Data columns (total 5 columns):\n",
      " #   Column           Non-Null Count  Dtype \n",
      "---  ------           --------------  ----- \n",
      " 0   File             2 non-null      object\n",
      " 1   File Type        2 non-null      object\n",
      " 2   Folder Location  2 non-null      object\n",
      " 3   Date             2 non-null      object\n",
      " 4   Path             2 non-null      object\n",
      "dtypes: object(5)\n",
      "memory usage: 96.0+ bytes\n",
      "<class 'pandas.core.frame.DataFrame'>\n",
      "Int64Index: 0 entries\n",
      "Data columns (total 5 columns):\n",
      " #   Column           Non-Null Count  Dtype \n",
      "---  ------           --------------  ----- \n",
      " 0   File             0 non-null      object\n",
      " 1   File Type        0 non-null      object\n",
      " 2   Folder Location  0 non-null      object\n",
      " 3   Date             0 non-null      object\n",
      " 4   Path             0 non-null      object\n",
      "dtypes: object(5)\n",
      "memory usage: 0.0+ bytes\n"
     ]
    }
   ],
   "source": [
    "df_9_21_2019_filtered_vs.info()\n",
    "df_9_21_2019_filtered_jupyter.info()"
   ]
  },
  {
   "cell_type": "code",
   "execution_count": null,
   "id": "7c9efc53",
   "metadata": {},
   "outputs": [],
   "source": []
  },
  {
   "cell_type": "code",
   "execution_count": 40,
   "id": "22de167c",
   "metadata": {},
   "outputs": [
    {
     "name": "stdout",
     "output_type": "stream",
     "text": [
      "<class 'pandas.core.frame.DataFrame'>\n",
      "Int64Index: 938 entries, 2 to 8875\n",
      "Data columns (total 5 columns):\n",
      " #   Column           Non-Null Count  Dtype \n",
      "---  ------           --------------  ----- \n",
      " 0   File             938 non-null    object\n",
      " 1   File Type        938 non-null    object\n",
      " 2   Folder Location  938 non-null    object\n",
      " 3   Date             938 non-null    object\n",
      " 4   Path             938 non-null    object\n",
      "dtypes: object(5)\n",
      "memory usage: 44.0+ KB\n"
     ]
    }
   ],
   "source": [
    "raw_df_filtered = raw_df.loc[(raw_df['Date']!='10/26/1985 :: 08:15:00')]\n",
    "raw_df_filtered2 = raw_df_filtered.loc[(raw_df_filtered['Date']!='09/21/2019 :: 02:56:04')]\n",
    "raw_df_filtered3 = raw_df_filtered2.loc[(raw_df_filtered2['Date']!='08/26/2018 :: 00:52:52')]\n",
    "raw_df_filtered_vs = raw_df_filtered3[(raw_df_filtered3['File Type'] == 'Python file')]\n",
    "raw_df_filtered_vs.info()"
   ]
  },
  {
   "cell_type": "code",
   "execution_count": 41,
   "id": "ff8ec4fc",
   "metadata": {},
   "outputs": [
    {
     "name": "stdout",
     "output_type": "stream",
     "text": [
      "<class 'pandas.core.frame.DataFrame'>\n",
      "Int64Index: 548 entries, 8 to 7445\n",
      "Data columns (total 5 columns):\n",
      " #   Column           Non-Null Count  Dtype \n",
      "---  ------           --------------  ----- \n",
      " 0   File             548 non-null    object\n",
      " 1   File Type        548 non-null    object\n",
      " 2   Folder Location  548 non-null    object\n",
      " 3   Date             548 non-null    object\n",
      " 4   Path             548 non-null    object\n",
      "dtypes: object(5)\n",
      "memory usage: 25.7+ KB\n"
     ]
    }
   ],
   "source": [
    "raw_df_filtered_jupyter = raw_df_filtered3[(raw_df_filtered3['File Type'] == 'Jupyter Notebook')]\n",
    "raw_df_filtered_jupyter.info()\n"
   ]
  },
  {
   "cell_type": "code",
   "execution_count": 42,
   "id": "08aeff99",
   "metadata": {},
   "outputs": [
    {
     "data": {
      "text/plain": [
       "(File Type\n",
       " Jupyter Notebook    548\n",
       " dtype: int64,\n",
       " File Type\n",
       " Python file    938\n",
       " dtype: int64)"
      ]
     },
     "execution_count": 42,
     "metadata": {},
     "output_type": "execute_result"
    }
   ],
   "source": [
    "raw_df_filtered_jupyter.value_counts('File Type'), raw_df_filtered_vs.value_counts('File Type')"
   ]
  },
  {
   "cell_type": "code",
   "execution_count": 43,
   "id": "77bb2bbb",
   "metadata": {},
   "outputs": [
    {
     "data": {
      "text/plain": [
       "File Type\n",
       "                          4165\n",
       "Python file                938\n",
       "Javascript                 794\n",
       "Jupyter Notebook           548\n",
       "JSON file                  529\n",
       "JPG Image file             473\n",
       "PNG Image file             288\n",
       "Text document               61\n",
       "PDF file                    40\n",
       "SVG Image file              36\n",
       "Python file (compiled)      14\n",
       "HTML                        10\n",
       "Thumbnail                    7\n",
       "CSS Styling                  6\n",
       "Icon Image file              4\n",
       "CSV file                     2\n",
       "dtype: int64"
      ]
     },
     "execution_count": 43,
     "metadata": {},
     "output_type": "execute_result"
    }
   ],
   "source": [
    "raw_df_filtered3.value_counts('File Type')"
   ]
  },
  {
   "cell_type": "code",
   "execution_count": 44,
   "id": "433434ba",
   "metadata": {},
   "outputs": [
    {
     "data": {
      "text/plain": [
       "Date\n",
       "08/10/2018 :: 02:01:48    411\n",
       "09/21/2019 :: 02:56:02    390\n",
       "08/26/2018 :: 00:56:42    220\n",
       "08/21/2018 :: 18:21:08    162\n",
       "11/14/2020 :: 21:38:22    150\n",
       "                         ... \n",
       "07/26/2020 :: 21:24:21      1\n",
       "07/25/2018 :: 20:35:43      1\n",
       "07/25/2017 :: 13:41:32      1\n",
       "07/24/2020 :: 01:45:00      1\n",
       "12/31/2020 :: 22:09:58      1\n",
       "Length: 2205, dtype: int64"
      ]
     },
     "execution_count": 44,
     "metadata": {},
     "output_type": "execute_result"
    }
   ],
   "source": [
    "raw_df_filtered3.value_counts('Date')"
   ]
  },
  {
   "cell_type": "code",
   "execution_count": 45,
   "id": "01c0be90",
   "metadata": {},
   "outputs": [
    {
     "data": {
      "application/vnd.jupyter.widget-view+json": {
       "model_id": "e71ccee0eba145408c215c70770329d2",
       "version_major": 2,
       "version_minor": 0
      },
      "text/plain": [
       "QgridWidget(grid_options={'fullWidthRows': True, 'syncColumnCellResize': True, 'forceFitColumns': True, 'defau…"
      ]
     },
     "metadata": {},
     "output_type": "display_data"
    }
   ],
   "source": [
    "qgrid_widget = qgrid.show_grid(raw_df_filtered3, show_toolbar = True)\n",
    "qgrid_widget"
   ]
  },
  {
   "cell_type": "code",
   "execution_count": 46,
   "id": "08d83ef1",
   "metadata": {},
   "outputs": [
    {
     "data": {
      "text/plain": [
       "pandas.core.series.Series"
      ]
     },
     "execution_count": 46,
     "metadata": {},
     "output_type": "execute_result"
    }
   ],
   "source": [
    "type(raw_df_filtered3['Date'])"
   ]
  },
  {
   "cell_type": "markdown",
   "id": "88a2ae0a",
   "metadata": {},
   "source": [
    "## File type = .py"
   ]
  },
  {
   "cell_type": "code",
   "execution_count": 47,
   "id": "af8fb848",
   "metadata": {},
   "outputs": [
    {
     "data": {
      "text/plain": [
       "(File Type\n",
       " Jupyter Notebook    548\n",
       " dtype: int64,\n",
       " File Type\n",
       " Python file    938\n",
       " dtype: int64)"
      ]
     },
     "execution_count": 47,
     "metadata": {},
     "output_type": "execute_result"
    }
   ],
   "source": [
    "# the 'Date' variable in each dataframe needs to be converted to datetime\n",
    "raw_df_filtered_vs_ = raw_df_filtered_vs.copy()\n",
    "raw_df_filtered_jupyter_ = raw_df_filtered_jupyter.copy()\n",
    "\n",
    "raw_df_filtered_vs_['Date'] = pd.to_datetime(raw_df_filtered_vs_['Date'], format = '%m/%d/%Y :: %H:%M:%S')\n",
    "raw_df_filtered_jupyter_ ['Date']= pd.to_datetime(raw_df_filtered_jupyter_['Date'], format = '%m/%d/%Y :: %H:%M:%S')\n",
    "\n",
    "raw_df_filtered_jupyter_.value_counts('File Type'), raw_df_filtered_vs_.value_counts('File Type')\n"
   ]
  },
  {
   "cell_type": "code",
   "execution_count": 48,
   "id": "605a315b",
   "metadata": {},
   "outputs": [
    {
     "ename": "NameError",
     "evalue": "name 'df_python' is not defined",
     "output_type": "error",
     "traceback": [
      "\u001b[0;31m---------------------------------------------------------------------------\u001b[0m",
      "\u001b[0;31mNameError\u001b[0m                                 Traceback (most recent call last)",
      "\u001b[0;32m<ipython-input-48-8095d53e949d>\u001b[0m in \u001b[0;36m<module>\u001b[0;34m\u001b[0m\n\u001b[0;32m----> 1\u001b[0;31m \u001b[0mdf_python_\u001b[0m \u001b[0;34m=\u001b[0m \u001b[0mdf_python\u001b[0m\u001b[0;34m.\u001b[0m\u001b[0mcopy\u001b[0m\u001b[0;34m(\u001b[0m\u001b[0;34m)\u001b[0m\u001b[0;34m\u001b[0m\u001b[0;34m\u001b[0m\u001b[0m\n\u001b[0m\u001b[1;32m      2\u001b[0m \u001b[0mdf_python_\u001b[0m\u001b[0;34m[\u001b[0m\u001b[0;34m'Date'\u001b[0m\u001b[0;34m]\u001b[0m \u001b[0;34m=\u001b[0m \u001b[0mpd\u001b[0m\u001b[0;34m.\u001b[0m\u001b[0mto_datetime\u001b[0m\u001b[0;34m(\u001b[0m\u001b[0mdf_python\u001b[0m\u001b[0;34m[\u001b[0m\u001b[0;34m\"Date\"\u001b[0m\u001b[0;34m]\u001b[0m\u001b[0;34m,\u001b[0m \u001b[0mformat\u001b[0m \u001b[0;34m=\u001b[0m \u001b[0;34m'%m/%d/%Y :: %H:%M:%S'\u001b[0m\u001b[0;34m)\u001b[0m\u001b[0;34m\u001b[0m\u001b[0;34m\u001b[0m\u001b[0m\n\u001b[1;32m      3\u001b[0m \u001b[0mdf_python_\u001b[0m\u001b[0;34m.\u001b[0m\u001b[0msort_values\u001b[0m\u001b[0;34m(\u001b[0m\u001b[0mby\u001b[0m\u001b[0;34m=\u001b[0m\u001b[0;34m[\u001b[0m\u001b[0;34m'Date'\u001b[0m\u001b[0;34m]\u001b[0m\u001b[0;34m)\u001b[0m\u001b[0;34m\u001b[0m\u001b[0;34m\u001b[0m\u001b[0m\n",
      "\u001b[0;31mNameError\u001b[0m: name 'df_python' is not defined"
     ]
    }
   ],
   "source": [
    "df_python_ = df_python.copy()\n",
    "df_python_['Date'] = pd.to_datetime(df_python[\"Date\"], format = '%m/%d/%Y :: %H:%M:%S')\n",
    "df_python_.sort_values(by=['Date'])"
   ]
  },
  {
   "cell_type": "code",
   "execution_count": 49,
   "id": "b2eaae6a",
   "metadata": {},
   "outputs": [
    {
     "ename": "NameError",
     "evalue": "name 'df_python_' is not defined",
     "output_type": "error",
     "traceback": [
      "\u001b[0;31m---------------------------------------------------------------------------\u001b[0m",
      "\u001b[0;31mNameError\u001b[0m                                 Traceback (most recent call last)",
      "\u001b[0;32m<ipython-input-49-935fe6f3795a>\u001b[0m in \u001b[0;36m<module>\u001b[0;34m\u001b[0m\n\u001b[0;32m----> 1\u001b[0;31m \u001b[0mdf_python_\u001b[0m\u001b[0;34m.\u001b[0m\u001b[0mvalue_counts\u001b[0m\u001b[0;34m(\u001b[0m\u001b[0;34m'Date'\u001b[0m\u001b[0;34m)\u001b[0m\u001b[0;34m\u001b[0m\u001b[0;34m\u001b[0m\u001b[0m\n\u001b[0m",
      "\u001b[0;31mNameError\u001b[0m: name 'df_python_' is not defined"
     ]
    }
   ],
   "source": [
    "df_python_.value_counts('Date')"
   ]
  },
  {
   "cell_type": "code",
   "execution_count": null,
   "id": "b0fc97bd",
   "metadata": {},
   "outputs": [],
   "source": [
    "df_python_widget = qgrid.show_grid(df_python_, show_toolbar = True)\n",
    "df_python_widget"
   ]
  },
  {
   "cell_type": "code",
   "execution_count": null,
   "id": "021512f4",
   "metadata": {},
   "outputs": [],
   "source": [
    "df_python_vs = df_python_[df_python_['Date']>'2019-08-31 00:00:00']"
   ]
  },
  {
   "cell_type": "markdown",
   "id": "f6c64e00",
   "metadata": {},
   "source": [
    "# File type = .ipynb"
   ]
  },
  {
   "cell_type": "code",
   "execution_count": null,
   "id": "a361fccf",
   "metadata": {},
   "outputs": [],
   "source": [
    "df_python_jupyter = raw_df_filtered3[raw_df_filtered3['File Type'] == 'Jupyter Notebook']\n",
    "df_python_jupyter"
   ]
  },
  {
   "cell_type": "code",
   "execution_count": null,
   "id": "7363e7de",
   "metadata": {},
   "outputs": [],
   "source": [
    "df_python_jupyter_ = df_python_jupyter.copy()\n",
    "df_python_jupyter_['Date'] = pd.to_datetime(df_python_jupyter_[\"Date\"], format = '%m/%d/%Y :: %H:%M:%S')\n",
    "df_python_jupyter_.sort_values(by=['Date'])"
   ]
  },
  {
   "cell_type": "markdown",
   "id": "b8ce7c7e",
   "metadata": {},
   "source": [
    "## File type = ipynb.cloud"
   ]
  },
  {
   "cell_type": "code",
   "execution_count": null,
   "id": "66377dd6",
   "metadata": {},
   "outputs": [],
   "source": [
    "df_python_jupyter_ = df_python_jupyter_[df_python_jupyter_['Date']>'2019-08-31 00:00:00']"
   ]
  },
  {
   "cell_type": "code",
   "execution_count": null,
   "id": "565d75d5",
   "metadata": {},
   "outputs": [],
   "source": []
  },
  {
   "cell_type": "code",
   "execution_count": null,
   "id": "4bfec3a4",
   "metadata": {},
   "outputs": [],
   "source": [
    "plt.figure(figsize=(15,10))\n",
    "plt.style.use('fivethirtyeight')\n",
    "plt.title(\"Python Files over time\")\n",
    "plt.xlabel(\"Date\")\n",
    "plt.ylabel('# of Python files on VS Code or Jupyter')\n",
    "plt.legend(['Visual Studio', 'Jupyter'], loc='upper right')\n",
    "s = df_python_vs['Date'].value_counts().sort_index()\n",
    "j = df_python_jupyter_['Date'].value_counts().sort_index()\n",
    "plt.plot(s, label='Visual Studio Code')\n",
    "plt.plot(j, label='Jupyter Notebook')\n",
    "plt.legend()"
   ]
  },
  {
   "cell_type": "code",
   "execution_count": null,
   "id": "f5324edd",
   "metadata": {},
   "outputs": [],
   "source": []
  },
  {
   "cell_type": "code",
   "execution_count": null,
   "id": "c24755ce",
   "metadata": {},
   "outputs": [],
   "source": [
    "df_python_jupyter_['File Type'].value_counts(), df_python_vs['File Type'].value_counts()"
   ]
  },
  {
   "cell_type": "code",
   "execution_count": null,
   "id": "6eb56826",
   "metadata": {},
   "outputs": [],
   "source": [
    "df_python_jupyter_['Date'].value_counts()"
   ]
  },
  {
   "cell_type": "code",
   "execution_count": null,
   "id": "701abc6b",
   "metadata": {},
   "outputs": [],
   "source": [
    "df_python_vs['Date'].value_counts()"
   ]
  },
  {
   "cell_type": "code",
   "execution_count": null,
   "id": "0a4fb3ff",
   "metadata": {},
   "outputs": [],
   "source": [
    "raw_df['File Type'].value_counts()"
   ]
  },
  {
   "cell_type": "code",
   "execution_count": null,
   "id": "68e40e51",
   "metadata": {},
   "outputs": [],
   "source": [
    "raw_df['Date'].value_counts()"
   ]
  },
  {
   "cell_type": "markdown",
   "id": "0a50bbff",
   "metadata": {},
   "source": [
    "## Sorting by dates"
   ]
  },
  {
   "cell_type": "markdown",
   "id": "5df19f85",
   "metadata": {},
   "source": [
    "### For Python-Jupyter first"
   ]
  },
  {
   "cell_type": "code",
   "execution_count": 50,
   "id": "c570d7bc",
   "metadata": {},
   "outputs": [
    {
     "data": {
      "text/html": [
       "<div>\n",
       "<style scoped>\n",
       "    .dataframe tbody tr th:only-of-type {\n",
       "        vertical-align: middle;\n",
       "    }\n",
       "\n",
       "    .dataframe tbody tr th {\n",
       "        vertical-align: top;\n",
       "    }\n",
       "\n",
       "    .dataframe thead th {\n",
       "        text-align: right;\n",
       "    }\n",
       "</style>\n",
       "<table border=\"1\" class=\"dataframe\">\n",
       "  <thead>\n",
       "    <tr style=\"text-align: right;\">\n",
       "      <th></th>\n",
       "      <th>File</th>\n",
       "      <th>File Type</th>\n",
       "      <th>Folder Location</th>\n",
       "      <th>Date</th>\n",
       "      <th>Path</th>\n",
       "    </tr>\n",
       "  </thead>\n",
       "  <tbody>\n",
       "    <tr>\n",
       "      <th>8</th>\n",
       "      <td>.Untitled.ipynb</td>\n",
       "      <td>Jupyter Notebook</td>\n",
       "      <td>/Users/brendan/Library/Mobile Documents/com~ap...</td>\n",
       "      <td>2020-12-05 20:01:10</td>\n",
       "      <td>/Users/brendan/Library/Mobile Documents/com~ap...</td>\n",
       "    </tr>\n",
       "    <tr>\n",
       "      <th>9</th>\n",
       "      <td>bokeh_static.ipynb</td>\n",
       "      <td>Jupyter Notebook</td>\n",
       "      <td>/Users/brendan/Library/Mobile Documents/com~ap...</td>\n",
       "      <td>2021-07-04 01:53:14</td>\n",
       "      <td>/Users/brendan/Library/Mobile Documents/com~ap...</td>\n",
       "    </tr>\n",
       "    <tr>\n",
       "      <th>15</th>\n",
       "      <td>bokeh_static-checkpoint.ipynb</td>\n",
       "      <td>Jupyter Notebook</td>\n",
       "      <td>/Users/brendan/Library/Mobile Documents/com~ap...</td>\n",
       "      <td>2021-07-04 01:53:14</td>\n",
       "      <td>/Users/brendan/Library/Mobile Documents/com~ap...</td>\n",
       "    </tr>\n",
       "    <tr>\n",
       "      <th>16</th>\n",
       "      <td>.Untitled-checkpoint.ipynb</td>\n",
       "      <td>Jupyter Notebook</td>\n",
       "      <td>/Users/brendan/Library/Mobile Documents/com~ap...</td>\n",
       "      <td>2020-12-05 19:53:08</td>\n",
       "      <td>/Users/brendan/Library/Mobile Documents/com~ap...</td>\n",
       "    </tr>\n",
       "    <tr>\n",
       "      <th>19</th>\n",
       "      <td>.05 Matplotlib Lecture.ipynb</td>\n",
       "      <td>Jupyter Notebook</td>\n",
       "      <td>/Users/brendan/Library/Mobile Documents/com~ap...</td>\n",
       "      <td>2020-12-27 14:23:29</td>\n",
       "      <td>/Users/brendan/Library/Mobile Documents/com~ap...</td>\n",
       "    </tr>\n",
       "  </tbody>\n",
       "</table>\n",
       "</div>"
      ],
      "text/plain": [
       "                             File         File Type  \\\n",
       "8                 .Untitled.ipynb  Jupyter Notebook   \n",
       "9              bokeh_static.ipynb  Jupyter Notebook   \n",
       "15  bokeh_static-checkpoint.ipynb  Jupyter Notebook   \n",
       "16     .Untitled-checkpoint.ipynb  Jupyter Notebook   \n",
       "19   .05 Matplotlib Lecture.ipynb  Jupyter Notebook   \n",
       "\n",
       "                                      Folder Location                Date  \\\n",
       "8   /Users/brendan/Library/Mobile Documents/com~ap... 2020-12-05 20:01:10   \n",
       "9   /Users/brendan/Library/Mobile Documents/com~ap... 2021-07-04 01:53:14   \n",
       "15  /Users/brendan/Library/Mobile Documents/com~ap... 2021-07-04 01:53:14   \n",
       "16  /Users/brendan/Library/Mobile Documents/com~ap... 2020-12-05 19:53:08   \n",
       "19  /Users/brendan/Library/Mobile Documents/com~ap... 2020-12-27 14:23:29   \n",
       "\n",
       "                                                 Path  \n",
       "8   /Users/brendan/Library/Mobile Documents/com~ap...  \n",
       "9   /Users/brendan/Library/Mobile Documents/com~ap...  \n",
       "15  /Users/brendan/Library/Mobile Documents/com~ap...  \n",
       "16  /Users/brendan/Library/Mobile Documents/com~ap...  \n",
       "19  /Users/brendan/Library/Mobile Documents/com~ap...  "
      ]
     },
     "execution_count": 50,
     "metadata": {},
     "output_type": "execute_result"
    }
   ],
   "source": [
    "raw_df_filtered_vs_.head()\n",
    "raw_df_filtered_jupyter_.head()"
   ]
  },
  {
   "cell_type": "code",
   "execution_count": 51,
   "id": "9c727ce5",
   "metadata": {},
   "outputs": [
    {
     "data": {
      "text/html": [
       "<div>\n",
       "<style scoped>\n",
       "    .dataframe tbody tr th:only-of-type {\n",
       "        vertical-align: middle;\n",
       "    }\n",
       "\n",
       "    .dataframe tbody tr th {\n",
       "        vertical-align: top;\n",
       "    }\n",
       "\n",
       "    .dataframe thead th {\n",
       "        text-align: right;\n",
       "    }\n",
       "</style>\n",
       "<table border=\"1\" class=\"dataframe\">\n",
       "  <thead>\n",
       "    <tr style=\"text-align: right;\">\n",
       "      <th></th>\n",
       "      <th>File</th>\n",
       "      <th>File Type</th>\n",
       "      <th>Date</th>\n",
       "    </tr>\n",
       "  </thead>\n",
       "  <tbody>\n",
       "    <tr>\n",
       "      <th>8</th>\n",
       "      <td>.Untitled.ipynb</td>\n",
       "      <td>Jupyter Notebook</td>\n",
       "      <td>2020-12-05 20:01:10</td>\n",
       "    </tr>\n",
       "    <tr>\n",
       "      <th>9</th>\n",
       "      <td>bokeh_static.ipynb</td>\n",
       "      <td>Jupyter Notebook</td>\n",
       "      <td>2021-07-04 01:53:14</td>\n",
       "    </tr>\n",
       "    <tr>\n",
       "      <th>15</th>\n",
       "      <td>bokeh_static-checkpoint.ipynb</td>\n",
       "      <td>Jupyter Notebook</td>\n",
       "      <td>2021-07-04 01:53:14</td>\n",
       "    </tr>\n",
       "    <tr>\n",
       "      <th>16</th>\n",
       "      <td>.Untitled-checkpoint.ipynb</td>\n",
       "      <td>Jupyter Notebook</td>\n",
       "      <td>2020-12-05 19:53:08</td>\n",
       "    </tr>\n",
       "    <tr>\n",
       "      <th>19</th>\n",
       "      <td>.05 Matplotlib Lecture.ipynb</td>\n",
       "      <td>Jupyter Notebook</td>\n",
       "      <td>2020-12-27 14:23:29</td>\n",
       "    </tr>\n",
       "    <tr>\n",
       "      <th>...</th>\n",
       "      <td>...</td>\n",
       "      <td>...</td>\n",
       "      <td>...</td>\n",
       "    </tr>\n",
       "    <tr>\n",
       "      <th>7433</th>\n",
       "      <td>.Matrix_capital.ipynb</td>\n",
       "      <td>Jupyter Notebook</td>\n",
       "      <td>2020-08-08 04:22:56</td>\n",
       "    </tr>\n",
       "    <tr>\n",
       "      <th>7442</th>\n",
       "      <td>.Coatue-checkpoint.ipynb</td>\n",
       "      <td>Jupyter Notebook</td>\n",
       "      <td>2020-08-08 23:02:20</td>\n",
       "    </tr>\n",
       "    <tr>\n",
       "      <th>7443</th>\n",
       "      <td>.Tiger Global-checkpoint.ipynb</td>\n",
       "      <td>Jupyter Notebook</td>\n",
       "      <td>2020-08-16 01:25:32</td>\n",
       "    </tr>\n",
       "    <tr>\n",
       "      <th>7444</th>\n",
       "      <td>.Matrix_capital-checkpoint.ipynb</td>\n",
       "      <td>Jupyter Notebook</td>\n",
       "      <td>2020-08-06 00:57:09</td>\n",
       "    </tr>\n",
       "    <tr>\n",
       "      <th>7445</th>\n",
       "      <td>.whale_rock-checkpoint.ipynb</td>\n",
       "      <td>Jupyter Notebook</td>\n",
       "      <td>2020-08-06 01:24:15</td>\n",
       "    </tr>\n",
       "  </tbody>\n",
       "</table>\n",
       "<p>548 rows × 3 columns</p>\n",
       "</div>"
      ],
      "text/plain": [
       "                                  File         File Type                Date\n",
       "8                      .Untitled.ipynb  Jupyter Notebook 2020-12-05 20:01:10\n",
       "9                   bokeh_static.ipynb  Jupyter Notebook 2021-07-04 01:53:14\n",
       "15       bokeh_static-checkpoint.ipynb  Jupyter Notebook 2021-07-04 01:53:14\n",
       "16          .Untitled-checkpoint.ipynb  Jupyter Notebook 2020-12-05 19:53:08\n",
       "19        .05 Matplotlib Lecture.ipynb  Jupyter Notebook 2020-12-27 14:23:29\n",
       "...                                ...               ...                 ...\n",
       "7433             .Matrix_capital.ipynb  Jupyter Notebook 2020-08-08 04:22:56\n",
       "7442          .Coatue-checkpoint.ipynb  Jupyter Notebook 2020-08-08 23:02:20\n",
       "7443    .Tiger Global-checkpoint.ipynb  Jupyter Notebook 2020-08-16 01:25:32\n",
       "7444  .Matrix_capital-checkpoint.ipynb  Jupyter Notebook 2020-08-06 00:57:09\n",
       "7445      .whale_rock-checkpoint.ipynb  Jupyter Notebook 2020-08-06 01:24:15\n",
       "\n",
       "[548 rows x 3 columns]"
      ]
     },
     "execution_count": 51,
     "metadata": {},
     "output_type": "execute_result"
    }
   ],
   "source": [
    "df_python_jupyter_dates = raw_df_filtered_jupyter_[['File', 'File Type', 'Date']]\n",
    "df_python_vs_dates = raw_df_filtered_vs_[['File', 'File Type', 'Date']]\n",
    "df_python_jupyter_dates"
   ]
  },
  {
   "cell_type": "code",
   "execution_count": 52,
   "id": "fde82941",
   "metadata": {},
   "outputs": [
    {
     "data": {
      "text/html": [
       "<div>\n",
       "<style scoped>\n",
       "    .dataframe tbody tr th:only-of-type {\n",
       "        vertical-align: middle;\n",
       "    }\n",
       "\n",
       "    .dataframe tbody tr th {\n",
       "        vertical-align: top;\n",
       "    }\n",
       "\n",
       "    .dataframe thead th {\n",
       "        text-align: right;\n",
       "    }\n",
       "</style>\n",
       "<table border=\"1\" class=\"dataframe\">\n",
       "  <thead>\n",
       "    <tr style=\"text-align: right;\">\n",
       "      <th></th>\n",
       "      <th>File</th>\n",
       "      <th>File Type</th>\n",
       "      <th>Date</th>\n",
       "    </tr>\n",
       "  </thead>\n",
       "  <tbody>\n",
       "    <tr>\n",
       "      <th>97</th>\n",
       "      <td>.01-NLP (Natural Language Processing) with Pyt...</td>\n",
       "      <td>Jupyter Notebook</td>\n",
       "      <td>2018-08-30 18:54:18</td>\n",
       "    </tr>\n",
       "    <tr>\n",
       "      <th>103</th>\n",
       "      <td>.01-Matplotlib Concepts Lecture.ipynb</td>\n",
       "      <td>Jupyter Notebook</td>\n",
       "      <td>2018-08-30 18:54:18</td>\n",
       "    </tr>\n",
       "    <tr>\n",
       "      <th>102</th>\n",
       "      <td>.04-Advanced Matplotlib Concepts.ipynb</td>\n",
       "      <td>Jupyter Notebook</td>\n",
       "      <td>2018-08-30 18:54:18</td>\n",
       "    </tr>\n",
       "    <tr>\n",
       "      <th>101</th>\n",
       "      <td>.03-Matplotlib Exercises - Solutions.ipynb</td>\n",
       "      <td>Jupyter Notebook</td>\n",
       "      <td>2018-08-30 18:54:18</td>\n",
       "    </tr>\n",
       "    <tr>\n",
       "      <th>98</th>\n",
       "      <td>.03-NLP Project - Solutions.ipynb</td>\n",
       "      <td>Jupyter Notebook</td>\n",
       "      <td>2018-08-30 18:54:18</td>\n",
       "    </tr>\n",
       "    <tr>\n",
       "      <th>...</th>\n",
       "      <td>...</td>\n",
       "      <td>...</td>\n",
       "      <td>...</td>\n",
       "    </tr>\n",
       "    <tr>\n",
       "      <th>5525</th>\n",
       "      <td>goodreads.ipynb</td>\n",
       "      <td>Jupyter Notebook</td>\n",
       "      <td>2021-07-15 07:05:08</td>\n",
       "    </tr>\n",
       "    <tr>\n",
       "      <th>421</th>\n",
       "      <td>ISS_sky-checkpoint.ipynb</td>\n",
       "      <td>Jupyter Notebook</td>\n",
       "      <td>2021-07-15 11:44:57</td>\n",
       "    </tr>\n",
       "    <tr>\n",
       "      <th>418</th>\n",
       "      <td>ISS_sky.ipynb</td>\n",
       "      <td>Jupyter Notebook</td>\n",
       "      <td>2021-07-15 11:44:57</td>\n",
       "    </tr>\n",
       "    <tr>\n",
       "      <th>6638</th>\n",
       "      <td>Untitled-checkpoint.ipynb</td>\n",
       "      <td>Jupyter Notebook</td>\n",
       "      <td>2021-07-17 19:47:48</td>\n",
       "    </tr>\n",
       "    <tr>\n",
       "      <th>4919</th>\n",
       "      <td>Untitled.ipynb</td>\n",
       "      <td>Jupyter Notebook</td>\n",
       "      <td>2021-07-17 19:49:51</td>\n",
       "    </tr>\n",
       "  </tbody>\n",
       "</table>\n",
       "<p>548 rows × 3 columns</p>\n",
       "</div>"
      ],
      "text/plain": [
       "                                                   File         File Type  \\\n",
       "97    .01-NLP (Natural Language Processing) with Pyt...  Jupyter Notebook   \n",
       "103               .01-Matplotlib Concepts Lecture.ipynb  Jupyter Notebook   \n",
       "102              .04-Advanced Matplotlib Concepts.ipynb  Jupyter Notebook   \n",
       "101          .03-Matplotlib Exercises - Solutions.ipynb  Jupyter Notebook   \n",
       "98                    .03-NLP Project - Solutions.ipynb  Jupyter Notebook   \n",
       "...                                                 ...               ...   \n",
       "5525                                    goodreads.ipynb  Jupyter Notebook   \n",
       "421                            ISS_sky-checkpoint.ipynb  Jupyter Notebook   \n",
       "418                                       ISS_sky.ipynb  Jupyter Notebook   \n",
       "6638                          Untitled-checkpoint.ipynb  Jupyter Notebook   \n",
       "4919                                     Untitled.ipynb  Jupyter Notebook   \n",
       "\n",
       "                    Date  \n",
       "97   2018-08-30 18:54:18  \n",
       "103  2018-08-30 18:54:18  \n",
       "102  2018-08-30 18:54:18  \n",
       "101  2018-08-30 18:54:18  \n",
       "98   2018-08-30 18:54:18  \n",
       "...                  ...  \n",
       "5525 2021-07-15 07:05:08  \n",
       "421  2021-07-15 11:44:57  \n",
       "418  2021-07-15 11:44:57  \n",
       "6638 2021-07-17 19:47:48  \n",
       "4919 2021-07-17 19:49:51  \n",
       "\n",
       "[548 rows x 3 columns]"
      ]
     },
     "execution_count": 52,
     "metadata": {},
     "output_type": "execute_result"
    }
   ],
   "source": [
    "df_python_jupyter_dates_sorted = df_python_jupyter_dates.sort_values(by=['Date'])\n",
    "df_python_vs_dates_sorted = df_python_vs_dates.sort_values(by=['Date'])\n",
    "\n",
    "df_python_vs_dates_sorted\n",
    "df_python_jupyter_dates_sorted"
   ]
  },
  {
   "cell_type": "code",
   "execution_count": 53,
   "id": "a831be1c",
   "metadata": {},
   "outputs": [
    {
     "data": {
      "text/html": [
       "<div>\n",
       "<style scoped>\n",
       "    .dataframe tbody tr th:only-of-type {\n",
       "        vertical-align: middle;\n",
       "    }\n",
       "\n",
       "    .dataframe tbody tr th {\n",
       "        vertical-align: top;\n",
       "    }\n",
       "\n",
       "    .dataframe thead th {\n",
       "        text-align: right;\n",
       "    }\n",
       "</style>\n",
       "<table border=\"1\" class=\"dataframe\">\n",
       "  <thead>\n",
       "    <tr style=\"text-align: right;\">\n",
       "      <th></th>\n",
       "      <th>File</th>\n",
       "      <th>File Type</th>\n",
       "    </tr>\n",
       "    <tr>\n",
       "      <th>Date</th>\n",
       "      <th></th>\n",
       "      <th></th>\n",
       "    </tr>\n",
       "  </thead>\n",
       "  <tbody>\n",
       "    <tr>\n",
       "      <th>2015-03-30 13:51:24</th>\n",
       "      <td>characterCount.py</td>\n",
       "      <td>Python file</td>\n",
       "    </tr>\n",
       "    <tr>\n",
       "      <th>2015-03-30 13:51:24</th>\n",
       "      <td>birthdays.py</td>\n",
       "      <td>Python file</td>\n",
       "    </tr>\n",
       "    <tr>\n",
       "      <th>2015-03-30 13:51:24</th>\n",
       "      <td>errorExample.py</td>\n",
       "      <td>Python file</td>\n",
       "    </tr>\n",
       "    <tr>\n",
       "      <th>2015-03-30 13:51:24</th>\n",
       "      <td>buggyAddingProgram.py</td>\n",
       "      <td>Python file</td>\n",
       "    </tr>\n",
       "    <tr>\n",
       "      <th>2015-03-30 13:51:24</th>\n",
       "      <td>coinFlip.py</td>\n",
       "      <td>Python file</td>\n",
       "    </tr>\n",
       "    <tr>\n",
       "      <th>...</th>\n",
       "      <td>...</td>\n",
       "      <td>...</td>\n",
       "    </tr>\n",
       "    <tr>\n",
       "      <th>2021-07-10 13:35:28</th>\n",
       "      <td>quotes_app.py</td>\n",
       "      <td>Python file</td>\n",
       "    </tr>\n",
       "    <tr>\n",
       "      <th>2021-07-11 17:38:28</th>\n",
       "      <td>main.py</td>\n",
       "      <td>Python file</td>\n",
       "    </tr>\n",
       "    <tr>\n",
       "      <th>2021-07-17 19:10:12</th>\n",
       "      <td>data.py</td>\n",
       "      <td>Python file</td>\n",
       "    </tr>\n",
       "    <tr>\n",
       "      <th>2021-07-17 19:17:25</th>\n",
       "      <td>ui.py</td>\n",
       "      <td>Python file</td>\n",
       "    </tr>\n",
       "    <tr>\n",
       "      <th>2021-07-17 19:18:22</th>\n",
       "      <td>main.py</td>\n",
       "      <td>Python file</td>\n",
       "    </tr>\n",
       "  </tbody>\n",
       "</table>\n",
       "<p>938 rows × 2 columns</p>\n",
       "</div>"
      ],
      "text/plain": [
       "                                      File    File Type\n",
       "Date                                                   \n",
       "2015-03-30 13:51:24      characterCount.py  Python file\n",
       "2015-03-30 13:51:24           birthdays.py  Python file\n",
       "2015-03-30 13:51:24        errorExample.py  Python file\n",
       "2015-03-30 13:51:24  buggyAddingProgram.py  Python file\n",
       "2015-03-30 13:51:24            coinFlip.py  Python file\n",
       "...                                    ...          ...\n",
       "2021-07-10 13:35:28          quotes_app.py  Python file\n",
       "2021-07-11 17:38:28                main.py  Python file\n",
       "2021-07-17 19:10:12                data.py  Python file\n",
       "2021-07-17 19:17:25                  ui.py  Python file\n",
       "2021-07-17 19:18:22                main.py  Python file\n",
       "\n",
       "[938 rows x 2 columns]"
      ]
     },
     "execution_count": 53,
     "metadata": {},
     "output_type": "execute_result"
    }
   ],
   "source": [
    "df_python_jupyter_dates_sorted.set_index('Date')\n",
    "df_python_vs_dates_sorted.set_index('Date')"
   ]
  },
  {
   "cell_type": "code",
   "execution_count": null,
   "id": "e537cce9",
   "metadata": {},
   "outputs": [],
   "source": []
  },
  {
   "cell_type": "code",
   "execution_count": 54,
   "id": "53c55240",
   "metadata": {},
   "outputs": [
    {
     "data": {
      "text/html": [
       "<div>\n",
       "<style scoped>\n",
       "    .dataframe tbody tr th:only-of-type {\n",
       "        vertical-align: middle;\n",
       "    }\n",
       "\n",
       "    .dataframe tbody tr th {\n",
       "        vertical-align: top;\n",
       "    }\n",
       "\n",
       "    .dataframe thead th {\n",
       "        text-align: right;\n",
       "    }\n",
       "</style>\n",
       "<table border=\"1\" class=\"dataframe\">\n",
       "  <thead>\n",
       "    <tr style=\"text-align: right;\">\n",
       "      <th></th>\n",
       "      <th>File</th>\n",
       "      <th>File Type</th>\n",
       "      <th>Date</th>\n",
       "    </tr>\n",
       "  </thead>\n",
       "  <tbody>\n",
       "    <tr>\n",
       "      <th>97</th>\n",
       "      <td>.01-NLP (Natural Language Processing) with Pyt...</td>\n",
       "      <td>Jupyter Notebook</td>\n",
       "      <td>2018-08-30 18:54:18</td>\n",
       "    </tr>\n",
       "    <tr>\n",
       "      <th>103</th>\n",
       "      <td>.01-Matplotlib Concepts Lecture.ipynb</td>\n",
       "      <td>Jupyter Notebook</td>\n",
       "      <td>2018-08-30 18:54:18</td>\n",
       "    </tr>\n",
       "    <tr>\n",
       "      <th>102</th>\n",
       "      <td>.04-Advanced Matplotlib Concepts.ipynb</td>\n",
       "      <td>Jupyter Notebook</td>\n",
       "      <td>2018-08-30 18:54:18</td>\n",
       "    </tr>\n",
       "    <tr>\n",
       "      <th>101</th>\n",
       "      <td>.03-Matplotlib Exercises - Solutions.ipynb</td>\n",
       "      <td>Jupyter Notebook</td>\n",
       "      <td>2018-08-30 18:54:18</td>\n",
       "    </tr>\n",
       "    <tr>\n",
       "      <th>98</th>\n",
       "      <td>.03-NLP Project - Solutions.ipynb</td>\n",
       "      <td>Jupyter Notebook</td>\n",
       "      <td>2018-08-30 18:54:18</td>\n",
       "    </tr>\n",
       "    <tr>\n",
       "      <th>...</th>\n",
       "      <td>...</td>\n",
       "      <td>...</td>\n",
       "      <td>...</td>\n",
       "    </tr>\n",
       "    <tr>\n",
       "      <th>5525</th>\n",
       "      <td>goodreads.ipynb</td>\n",
       "      <td>Jupyter Notebook</td>\n",
       "      <td>2021-07-15 07:05:08</td>\n",
       "    </tr>\n",
       "    <tr>\n",
       "      <th>421</th>\n",
       "      <td>ISS_sky-checkpoint.ipynb</td>\n",
       "      <td>Jupyter Notebook</td>\n",
       "      <td>2021-07-15 11:44:57</td>\n",
       "    </tr>\n",
       "    <tr>\n",
       "      <th>418</th>\n",
       "      <td>ISS_sky.ipynb</td>\n",
       "      <td>Jupyter Notebook</td>\n",
       "      <td>2021-07-15 11:44:57</td>\n",
       "    </tr>\n",
       "    <tr>\n",
       "      <th>6638</th>\n",
       "      <td>Untitled-checkpoint.ipynb</td>\n",
       "      <td>Jupyter Notebook</td>\n",
       "      <td>2021-07-17 19:47:48</td>\n",
       "    </tr>\n",
       "    <tr>\n",
       "      <th>4919</th>\n",
       "      <td>Untitled.ipynb</td>\n",
       "      <td>Jupyter Notebook</td>\n",
       "      <td>2021-07-17 19:49:51</td>\n",
       "    </tr>\n",
       "  </tbody>\n",
       "</table>\n",
       "<p>548 rows × 3 columns</p>\n",
       "</div>"
      ],
      "text/plain": [
       "                                                   File         File Type  \\\n",
       "97    .01-NLP (Natural Language Processing) with Pyt...  Jupyter Notebook   \n",
       "103               .01-Matplotlib Concepts Lecture.ipynb  Jupyter Notebook   \n",
       "102              .04-Advanced Matplotlib Concepts.ipynb  Jupyter Notebook   \n",
       "101          .03-Matplotlib Exercises - Solutions.ipynb  Jupyter Notebook   \n",
       "98                    .03-NLP Project - Solutions.ipynb  Jupyter Notebook   \n",
       "...                                                 ...               ...   \n",
       "5525                                    goodreads.ipynb  Jupyter Notebook   \n",
       "421                            ISS_sky-checkpoint.ipynb  Jupyter Notebook   \n",
       "418                                       ISS_sky.ipynb  Jupyter Notebook   \n",
       "6638                          Untitled-checkpoint.ipynb  Jupyter Notebook   \n",
       "4919                                     Untitled.ipynb  Jupyter Notebook   \n",
       "\n",
       "                    Date  \n",
       "97   2018-08-30 18:54:18  \n",
       "103  2018-08-30 18:54:18  \n",
       "102  2018-08-30 18:54:18  \n",
       "101  2018-08-30 18:54:18  \n",
       "98   2018-08-30 18:54:18  \n",
       "...                  ...  \n",
       "5525 2021-07-15 07:05:08  \n",
       "421  2021-07-15 11:44:57  \n",
       "418  2021-07-15 11:44:57  \n",
       "6638 2021-07-17 19:47:48  \n",
       "4919 2021-07-17 19:49:51  \n",
       "\n",
       "[548 rows x 3 columns]"
      ]
     },
     "execution_count": 54,
     "metadata": {},
     "output_type": "execute_result"
    }
   ],
   "source": [
    "df_python_vs_dates_sorted\n",
    "df_python_jupyter_dates_sorted"
   ]
  },
  {
   "cell_type": "code",
   "execution_count": 55,
   "id": "fbf61ca5",
   "metadata": {},
   "outputs": [],
   "source": [
    "# First, reformat the Date variable so it reads month/day/Year\n",
    "df_python_jupyter_dates_sorted['Date'] = pd.to_datetime(df_python_jupyter_dates_sorted['Date'].dt.strftime('%m/%d/%Y'))\n",
    "df_python_vs_dates_sorted['Date'] = pd.to_datetime(df_python_vs_dates_sorted['Date'].dt.strftime('%m/%d/%Y'))\n"
   ]
  },
  {
   "cell_type": "code",
   "execution_count": 56,
   "id": "56457e43",
   "metadata": {},
   "outputs": [],
   "source": [
    "# Then call value_counts and convert this to a new DataFrame\n",
    "\n",
    "df_python_vs_dates_sorted['Date'] = pd.to_datetime(df_python_vs_dates_sorted['Date'].dt.strftime('%m/%d/%Y'))\n",
    "df_python_vs_dates_sorted_toframe = df_python_vs_dates_sorted['Date'].value_counts().to_frame()\n",
    "\n",
    "df_python_jupyter_dates_sorted['Date'] = pd.to_datetime(df_python_jupyter_dates_sorted['Date'].dt.strftime('%m/%d/%Y'))\n",
    "df_python_jupyter_dates_sorted_toframe = df_python_jupyter_dates_sorted['Date'].value_counts().to_frame()\n"
   ]
  },
  {
   "cell_type": "code",
   "execution_count": 57,
   "id": "bd6c2678",
   "metadata": {},
   "outputs": [],
   "source": [
    "# Then I reset the index and rename the labels\n",
    "df_jupyter_raw = df_python_jupyter_dates_sorted_toframe.reset_index()\n",
    "df_vs_raw = df_python_vs_dates_sorted_toframe.reset_index()"
   ]
  },
  {
   "cell_type": "code",
   "execution_count": 58,
   "id": "c269a528",
   "metadata": {},
   "outputs": [],
   "source": [
    "# And rename the column labels\n",
    "df_jupyter = df_jupyter_raw.rename(columns={'index':'Date', 'Date':'Files'})\n",
    "df_jupyter_output = df_jupyter.sort_values(by='Date')\n",
    "\n",
    "df_vs = df_vs_raw.rename(columns={'index':'Date', 'Date':'Files'})\n",
    "df_vs_output = df_vs.sort_values(by='Date')\n",
    "df_vs_output_ = df_vs_output[df_vs_output['Date'] > '2018-08-27']"
   ]
  },
  {
   "cell_type": "code",
   "execution_count": 59,
   "id": "d56a03e5",
   "metadata": {},
   "outputs": [
    {
     "data": {
      "text/html": [
       "<div>\n",
       "<style scoped>\n",
       "    .dataframe tbody tr th:only-of-type {\n",
       "        vertical-align: middle;\n",
       "    }\n",
       "\n",
       "    .dataframe tbody tr th {\n",
       "        vertical-align: top;\n",
       "    }\n",
       "\n",
       "    .dataframe thead th {\n",
       "        text-align: right;\n",
       "    }\n",
       "</style>\n",
       "<table border=\"1\" class=\"dataframe\">\n",
       "  <thead>\n",
       "    <tr style=\"text-align: right;\">\n",
       "      <th></th>\n",
       "      <th>Date</th>\n",
       "      <th>Files</th>\n",
       "    </tr>\n",
       "  </thead>\n",
       "  <tbody>\n",
       "    <tr>\n",
       "      <th>0</th>\n",
       "      <td>2018-08-30</td>\n",
       "      <td>69</td>\n",
       "    </tr>\n",
       "    <tr>\n",
       "      <th>7</th>\n",
       "      <td>2018-11-14</td>\n",
       "      <td>10</td>\n",
       "    </tr>\n",
       "    <tr>\n",
       "      <th>105</th>\n",
       "      <td>2019-09-01</td>\n",
       "      <td>1</td>\n",
       "    </tr>\n",
       "    <tr>\n",
       "      <th>46</th>\n",
       "      <td>2019-09-02</td>\n",
       "      <td>3</td>\n",
       "    </tr>\n",
       "    <tr>\n",
       "      <th>27</th>\n",
       "      <td>2019-09-07</td>\n",
       "      <td>5</td>\n",
       "    </tr>\n",
       "  </tbody>\n",
       "</table>\n",
       "</div>"
      ],
      "text/plain": [
       "          Date  Files\n",
       "0   2018-08-30     69\n",
       "7   2018-11-14     10\n",
       "105 2019-09-01      1\n",
       "46  2019-09-02      3\n",
       "27  2019-09-07      5"
      ]
     },
     "execution_count": 59,
     "metadata": {},
     "output_type": "execute_result"
    }
   ],
   "source": [
    "# DataFrame to be used for visualization\n",
    "df_jupyter_output.head()"
   ]
  },
  {
   "cell_type": "code",
   "execution_count": 60,
   "id": "d7f75a71",
   "metadata": {},
   "outputs": [
    {
     "data": {
      "text/html": [
       "<div>\n",
       "<style scoped>\n",
       "    .dataframe tbody tr th:only-of-type {\n",
       "        vertical-align: middle;\n",
       "    }\n",
       "\n",
       "    .dataframe tbody tr th {\n",
       "        vertical-align: top;\n",
       "    }\n",
       "\n",
       "    .dataframe thead th {\n",
       "        text-align: right;\n",
       "    }\n",
       "</style>\n",
       "<table border=\"1\" class=\"dataframe\">\n",
       "  <thead>\n",
       "    <tr style=\"text-align: right;\">\n",
       "      <th></th>\n",
       "      <th>Date</th>\n",
       "      <th>Files</th>\n",
       "    </tr>\n",
       "  </thead>\n",
       "  <tbody>\n",
       "    <tr>\n",
       "      <th>15</th>\n",
       "      <td>2018-09-27</td>\n",
       "      <td>10</td>\n",
       "    </tr>\n",
       "    <tr>\n",
       "      <th>7</th>\n",
       "      <td>2018-10-04</td>\n",
       "      <td>14</td>\n",
       "    </tr>\n",
       "    <tr>\n",
       "      <th>10</th>\n",
       "      <td>2018-10-05</td>\n",
       "      <td>12</td>\n",
       "    </tr>\n",
       "    <tr>\n",
       "      <th>34</th>\n",
       "      <td>2019-09-21</td>\n",
       "      <td>2</td>\n",
       "    </tr>\n",
       "    <tr>\n",
       "      <th>33</th>\n",
       "      <td>2019-10-17</td>\n",
       "      <td>2</td>\n",
       "    </tr>\n",
       "  </tbody>\n",
       "</table>\n",
       "</div>"
      ],
      "text/plain": [
       "         Date  Files\n",
       "15 2018-09-27     10\n",
       "7  2018-10-04     14\n",
       "10 2018-10-05     12\n",
       "34 2019-09-21      2\n",
       "33 2019-10-17      2"
      ]
     },
     "execution_count": 60,
     "metadata": {},
     "output_type": "execute_result"
    }
   ],
   "source": [
    "df_vs_output_.head()"
   ]
  },
  {
   "cell_type": "code",
   "execution_count": 115,
   "id": "65ab211a",
   "metadata": {},
   "outputs": [
    {
     "data": {
      "text/html": [
       "<div>\n",
       "<style scoped>\n",
       "    .dataframe tbody tr th:only-of-type {\n",
       "        vertical-align: middle;\n",
       "    }\n",
       "\n",
       "    .dataframe tbody tr th {\n",
       "        vertical-align: top;\n",
       "    }\n",
       "\n",
       "    .dataframe thead th {\n",
       "        text-align: right;\n",
       "    }\n",
       "</style>\n",
       "<table border=\"1\" class=\"dataframe\">\n",
       "  <thead>\n",
       "    <tr style=\"text-align: right;\">\n",
       "      <th></th>\n",
       "      <th>Date</th>\n",
       "      <th>Files</th>\n",
       "    </tr>\n",
       "  </thead>\n",
       "  <tbody>\n",
       "    <tr>\n",
       "      <th>0</th>\n",
       "      <td>2018-08-30</td>\n",
       "      <td>69</td>\n",
       "    </tr>\n",
       "    <tr>\n",
       "      <th>7</th>\n",
       "      <td>2018-11-14</td>\n",
       "      <td>10</td>\n",
       "    </tr>\n",
       "    <tr>\n",
       "      <th>105</th>\n",
       "      <td>2019-09-01</td>\n",
       "      <td>1</td>\n",
       "    </tr>\n",
       "    <tr>\n",
       "      <th>46</th>\n",
       "      <td>2019-09-02</td>\n",
       "      <td>3</td>\n",
       "    </tr>\n",
       "    <tr>\n",
       "      <th>27</th>\n",
       "      <td>2019-09-07</td>\n",
       "      <td>5</td>\n",
       "    </tr>\n",
       "  </tbody>\n",
       "</table>\n",
       "</div>"
      ],
      "text/plain": [
       "          Date  Files\n",
       "0   2018-08-30     69\n",
       "7   2018-11-14     10\n",
       "105 2019-09-01      1\n",
       "46  2019-09-02      3\n",
       "27  2019-09-07      5"
      ]
     },
     "execution_count": 115,
     "metadata": {},
     "output_type": "execute_result"
    }
   ],
   "source": [
    "df_python_jupyter_dates_sorted['Date'] = pd.to_datetime(df_python_jupyter_dates_sorted['Date'].dt.strftime('%m/%d/%Y'))\n",
    "df_python_jupyter_dates_sorted.head(10)\n",
    "\n",
    "df_jupyter_dates_frame = df_python_jupyter_dates_sorted['Date'].value_counts().to_frame()\n",
    "df_jupyter_raw = df_jupyter_dates_frame.reset_index()\n",
    "df_jupyter_raw\n",
    "\n",
    "df_jupyter = df_jupyter_raw.rename(columns={'index':'Date', 'Date':'Files'})\n",
    "df_jupyter_output = df_jupyter.sort_values(by='Date')\n",
    "df_jupyter_output.head()\n"
   ]
  },
  {
   "cell_type": "code",
   "execution_count": 116,
   "id": "364b2753",
   "metadata": {},
   "outputs": [
    {
     "data": {
      "text/plain": [
       "((119, 2), (55, 2))"
      ]
     },
     "execution_count": 116,
     "metadata": {},
     "output_type": "execute_result"
    }
   ],
   "source": [
    "df_jupyter_output.shape, df_vs_output.shape"
   ]
  },
  {
   "cell_type": "code",
   "execution_count": 117,
   "id": "a3efc6d3",
   "metadata": {},
   "outputs": [
    {
     "data": {
      "text/html": [
       "<div>\n",
       "<style scoped>\n",
       "    .dataframe tbody tr th:only-of-type {\n",
       "        vertical-align: middle;\n",
       "    }\n",
       "\n",
       "    .dataframe tbody tr th {\n",
       "        vertical-align: top;\n",
       "    }\n",
       "\n",
       "    .dataframe thead th {\n",
       "        text-align: right;\n",
       "    }\n",
       "</style>\n",
       "<table border=\"1\" class=\"dataframe\">\n",
       "  <thead>\n",
       "    <tr style=\"text-align: right;\">\n",
       "      <th></th>\n",
       "      <th>Date</th>\n",
       "      <th>Files</th>\n",
       "    </tr>\n",
       "  </thead>\n",
       "  <tbody>\n",
       "    <tr>\n",
       "      <th>15</th>\n",
       "      <td>2018-09-27</td>\n",
       "      <td>10</td>\n",
       "    </tr>\n",
       "    <tr>\n",
       "      <th>7</th>\n",
       "      <td>2018-10-04</td>\n",
       "      <td>14</td>\n",
       "    </tr>\n",
       "    <tr>\n",
       "      <th>10</th>\n",
       "      <td>2018-10-05</td>\n",
       "      <td>12</td>\n",
       "    </tr>\n",
       "    <tr>\n",
       "      <th>34</th>\n",
       "      <td>2019-09-21</td>\n",
       "      <td>2</td>\n",
       "    </tr>\n",
       "    <tr>\n",
       "      <th>33</th>\n",
       "      <td>2019-10-17</td>\n",
       "      <td>2</td>\n",
       "    </tr>\n",
       "  </tbody>\n",
       "</table>\n",
       "</div>"
      ],
      "text/plain": [
       "         Date  Files\n",
       "15 2018-09-27     10\n",
       "7  2018-10-04     14\n",
       "10 2018-10-05     12\n",
       "34 2019-09-21      2\n",
       "33 2019-10-17      2"
      ]
     },
     "execution_count": 117,
     "metadata": {},
     "output_type": "execute_result"
    }
   ],
   "source": [
    "df_jupyter_output.head()\n",
    "df_vs_output_.head()"
   ]
  },
  {
   "cell_type": "code",
   "execution_count": 70,
   "id": "220a9d00",
   "metadata": {},
   "outputs": [
    {
     "data": {
      "image/png": "[encoded data removed]",
      "text/plain": [
       "<Figure size 1080x720 with 1 Axes>"
      ]
     },
     "metadata": {},
     "output_type": "display_data"
    }
   ],
   "source": [
    "# Graph Jupyter files\n",
    "fig = plt.figure(figsize=(15,10))\n",
    "ax = plt.subplot(111)\n",
    "ax.bar(df_jupyter_output['Date'], df_jupyter_output['Files'], width=7, ec='black')\n",
    "ax.xaxis_date()\n",
    "\n",
    "plt.xlabel('Date')\n",
    "plt.ylabel('# of Files uploaded')\n",
    "plt.title('# of Python Files Uploaded (Jupyter Notebook) during the Pandemic')\n",
    "plt.savefig('jupyter_graph.png')\n",
    "plt.show()\n"
   ]
  },
  {
   "cell_type": "code",
   "execution_count": null,
   "id": "eceb5faa",
   "metadata": {},
   "outputs": [],
   "source": [
    "# \n"
   ]
  },
  {
   "cell_type": "code",
   "execution_count": 75,
   "id": "cd8164f3",
   "metadata": {},
   "outputs": [
    {
     "data": {
      "image/png": "[encoded data removed]",
      "text/plain": [
       "<Figure size 1080x720 with 1 Axes>"
      ]
     },
     "metadata": {},
     "output_type": "display_data"
    }
   ],
   "source": [
    "# Combine the two plots\n",
    "plt.style.use('fivethirtyeight')\n",
    "fig = plt.figure(figsize=(15,10))\n",
    "ax = plt.subplot(111)\n",
    "ax.bar(df_vs_output_['Date'], df_vs_output_['Files'], width=7, ec='black', color='red')\n",
    "ax.bar(df_jupyter_output['Date'], df_jupyter_output['Files'], width=7, ec='black', color='blue')\n",
    "ax.xaxis_date()\n",
    "\n",
    "\n",
    "plt.xlabel('Date')\n",
    "plt.ylabel('# of Files uploaded')\n",
    "plt.title('# of Python Files Uploaded (Visual Studio Code & Jupyter Notebook) during the Pandemic')\n",
    "plt.savefig('python_graph.png')\n",
    "plt.show()\n"
   ]
  },
  {
   "cell_type": "code",
   "execution_count": 87,
   "id": "416c0640",
   "metadata": {},
   "outputs": [
    {
     "data": {
      "text/plain": [
       "(12, 2)"
      ]
     },
     "execution_count": 87,
     "metadata": {},
     "output_type": "execute_result"
    }
   ],
   "source": [
    "# Visual Studio Code - count # of files pre and post 3/12\n",
    "df_vs_output_.head()\n",
    "df_vs_output_pre = df_vs_output_.copy()\n",
    "df_vs_output_pre = df_vs_output_pre[df_vs_output_pre['Date'] <='2020-03-12'] # files pre-COVID\n",
    "df_vs_output_pre.shape"
   ]
  },
  {
   "cell_type": "code",
   "execution_count": 89,
   "id": "72aa3df3",
   "metadata": {},
   "outputs": [
    {
     "data": {
      "text/plain": [
       "(38, 2)"
      ]
     },
     "execution_count": 89,
     "metadata": {},
     "output_type": "execute_result"
    }
   ],
   "source": [
    "df_vs_output_post = df_vs_output_.copy()\n",
    "df_vs_output_post = df_vs_output_post[df_vs_output_post['Date'] > '2020-03-12']\n",
    "df_vs_output_post.shape"
   ]
  },
  {
   "cell_type": "code",
   "execution_count": 110,
   "id": "dbd192c3",
   "metadata": {},
   "outputs": [
    {
     "data": {
      "text/plain": [
       "(48, 2)"
      ]
     },
     "execution_count": 110,
     "metadata": {},
     "output_type": "execute_result"
    }
   ],
   "source": [
    "# Jupyter Notebook - count # of files pre and post 3/12\n",
    "df_jupyter.head()\n",
    "df_jupyter_output_pre = df_jupyter_output.copy()\n",
    "df_jupyter_output_pre = df_jupyter_output_pre[df_jupyter_output_pre['Date'] <='2020-03-12'] # files pre-COVID\n",
    "df_jupyter_output_pre.shape"
   ]
  },
  {
   "cell_type": "code",
   "execution_count": 111,
   "id": "43b1f8de",
   "metadata": {},
   "outputs": [
    {
     "data": {
      "text/plain": [
       "(71, 2)"
      ]
     },
     "execution_count": 111,
     "metadata": {},
     "output_type": "execute_result"
    }
   ],
   "source": [
    "# Jupyter Notebook - count # of files pre and post 3/12\n",
    "df_jupyter.head()\n",
    "df_jupyter_output_post = df_jupyter_output.copy()\n",
    "df_jupyter_output_post = df_jupyter_output_post[df_jupyter_output_post['Date'] >'2020-03-12'] # files pre-COVID\n",
    "df_jupyter_output_post.shape"
   ]
  },
  {
   "cell_type": "code",
   "execution_count": 112,
   "id": "2cea1719",
   "metadata": {},
   "outputs": [
    {
     "name": "stdout",
     "output_type": "stream",
     "text": [
      "Jupyter Files, pre 3/12/20210:  286\n",
      "Jupyter Files, post 3/12/2020:  262\n",
      "VS Code Files, pre 3/12/20210:  119\n",
      "VS Code Files, post 3/12/2020:  181\n"
     ]
    }
   ],
   "source": [
    "# 4 dataframes, 1 each for pre and post '3/12/2020' for VS Code and Jupyter Notebook\n",
    "df_jupyter_output_pre_files = df_jupyter_output_pre['Files'].sum()\n",
    "df_jupyter_output_post_files = df_jupyter_output_post['Files'].sum()\n",
    "\n",
    "df_vs_output_pre_files = df_vs_output_pre['Files'].sum()\n",
    "df_vs_output_post_files = df_vs_output_post['Files'].sum()\n",
    "\n",
    "print('Jupyter Files, pre 3/12/20210: ', df_jupyter_output_pre_files)\n",
    "print('Jupyter Files, post 3/12/2020: ', df_jupyter_output_post_files)\n",
    "print('VS Code Files, pre 3/12/20210: ', df_vs_output_pre_files)\n",
    "print('VS Code Files, post 3/12/2020: ', df_vs_output_post_files)"
   ]
  },
  {
   "cell_type": "code",
   "execution_count": null,
   "id": "f88aa5b6",
   "metadata": {},
   "outputs": [],
   "source": []
  },
  {
   "cell_type": "code",
   "execution_count": 64,
   "id": "a75d46fa",
   "metadata": {},
   "outputs": [
    {
     "data": {
      "image/png": "[encoded data removed]",
      "text/plain": [
       "<Figure size 1080x720 with 1 Axes>"
      ]
     },
     "metadata": {
      "needs_background": "light"
     },
     "output_type": "display_data"
    }
   ],
   "source": [
    "# Graph VS files\n",
    "fig = plt.figure(figsize=(15,10))\n",
    "ax = plt.subplot(111)\n",
    "ax.bar(df_vs_output_['Date'], df_vs_output_['Files'], width=7, ec='black', color='red')\n",
    "ax.xaxis_date()\n",
    "\n",
    "plt.xlabel('Date')\n",
    "plt.ylabel('# of Files uploaded')\n",
    "plt.title('# of Python Files Uploaded (Visual Studio Code) during the Pandemic')\n",
    "plt.savefig('vs_graph.png')\n",
    "plt.show()\n"
   ]
  },
  {
   "cell_type": "code",
   "execution_count": null,
   "id": "f6c1bce8",
   "metadata": {},
   "outputs": [],
   "source": []
  },
  {
   "cell_type": "code",
   "execution_count": null,
   "id": "1210b593",
   "metadata": {},
   "outputs": [],
   "source": []
  },
  {
   "cell_type": "code",
   "execution_count": 65,
   "id": "ecd9eb00",
   "metadata": {},
   "outputs": [
    {
     "data": {
      "image/png": "[encoded data removed]",
      "text/plain": [
       "<Figure size 1080x720 with 1 Axes>"
      ]
     },
     "metadata": {
      "needs_background": "light"
     },
     "output_type": "display_data"
    }
   ],
   "source": [
    "fig = plt.figure(figsize=(15,10))\n",
    "ax = plt.subplot(111)\n",
    "ax.bar(df_jupyter_output['Date'], df_jupyter_output['Files'], width=7, ec='black')\n",
    "ax.xaxis_date()\n",
    "plt.xlabel('Date')\n",
    "plt.ylabel('# of Files uploaded')\n",
    "plt.title('# of Python Files Uploaded to Jupyter Notebook during the Pandemic')\n",
    "plt.show()"
   ]
  },
  {
   "cell_type": "code",
   "execution_count": null,
   "id": "184cba2d",
   "metadata": {},
   "outputs": [],
   "source": [
    "    # split the date by date and time\n",
    "# then count frequyency by day"
   ]
  },
  {
   "cell_type": "markdown",
   "id": "b3f84364",
   "metadata": {},
   "source": [
    "### For Python - VS Code next"
   ]
  },
  {
   "cell_type": "code",
   "execution_count": null,
   "id": "48565ae6",
   "metadata": {},
   "outputs": [],
   "source": [
    "df_python_vs_dates = df_python_vs[['File', 'File Type', 'Date']]\n",
    "df_python_vs_dates"
   ]
  },
  {
   "cell_type": "code",
   "execution_count": null,
   "id": "9baf4b70",
   "metadata": {},
   "outputs": [],
   "source": [
    "df_python_vs_dates_sorted = df_python_vs_dates.sort_values(by=['Date'])\n",
    "df_python_vs_dates_sorted['Date'] = pd.to_datetime(df_python_vs_dates_sorted['Date'].dt.strftime('%m/%d/%Y'))\n",
    "df_python_vs_dates_sorted.head(10)"
   ]
  },
  {
   "cell_type": "code",
   "execution_count": null,
   "id": "f399b2a0",
   "metadata": {},
   "outputs": [],
   "source": [
    "df_python_vs_dates_sorted['Date'] = pd.to_datetime(df_python_vs_dates_sorted['Date'].dt.strftime('%m/%d/%Y'))\n",
    "df_python_vs_dates_sorted.head(10)\n",
    "\n",
    "df_vs_dates_frame = df_python_vs_dates_sorted['Date'].value_counts().to_frame()\n",
    "#df_jupyter_dates_frame_sorted = df_jupyter_dates_frame.sort_values(by='Date')\n",
    "\n",
    "#df_vs = df_vs_dates_frame.rename(columns={'index':'Date', 'Date':'Files'})\n",
    "#df_vs_output = df_vs.sort_values(by='Date')\n",
    "df_vs_raw = df_vs_dates_frame.reset_index()\n",
    "df_vs_raw\n",
    "\n",
    "df_vs = df_vs_raw.rename(columns={'index':'Date', 'Date':'Files'})\n",
    "df_vs_output = df_vs.sort_values(by='Date')\n",
    "df_vs_output.head()"
   ]
  },
  {
   "cell_type": "code",
   "execution_count": null,
   "id": "de82eaab",
   "metadata": {},
   "outputs": [],
   "source": [
    "fig = plt.figure(figsize=(15,10))\n",
    "ax = plt.subplot(111)\n",
    "ax.bar(df_vs_output['Date'], df_vs_output['Files'], width=7, ec='black', color='red')\n",
    "ax.xaxis_date()\n",
    "plt.xlabel('Date')\n",
    "plt.ylabel('# of Files uploaded')\n",
    "plt.title('# of Python Files Uploaded to Visual Studio during the Pandemic')\n",
    "plt.show()"
   ]
  },
  {
   "cell_type": "code",
   "execution_count": null,
   "id": "3c7dd350",
   "metadata": {},
   "outputs": [],
   "source": [
    "fig = plt.figure(figsize=(10,7))\n",
    "ax = plt.subplot(111)\n",
    "ax.bar(df_jupyter_output['Date'], df_jupyter_output['Files'], width=7, ec='black')\n",
    "ax.bar(df_vs_output['Date'], df_vs_output['Files'], width=7, ec='black', color='red')\n",
    "ax.xaxis_date()\n",
    "\n",
    "ax.xaxis.set_major_locator(mdates.MonthLocator(interval=1))\n",
    "plt.xlabel('Date')\n",
    "plt.xticks(rotation=45, fontsize=8)\n",
    "plt.ylabel('# of Files uploaded')\n",
    "plt.title('# of Python Files Uploaded (Daily) during the Pandemic')\n",
    "plt.legend(['Jupyter', 'Visual Code'])\n",
    "plt.savefig('python_files.jpg')\n",
    "plt.show()\n"
   ]
  },
  {
   "cell_type": "code",
   "execution_count": null,
   "id": "c6f989b9",
   "metadata": {},
   "outputs": [],
   "source": []
  }
 ],
 "metadata": {
  "kernelspec": {
   "display_name": "Python 3",
   "language": "python",
   "name": "python3"
  },
  "language_info": {
   "codemirror_mode": {
    "name": "ipython",
    "version": 3
   },
   "file_extension": ".py",
   "mimetype": "text/x-python",
   "name": "python",
   "nbconvert_exporter": "python",
   "pygments_lexer": "ipython3",
   "version": "3.8.8"
  }
 },
 "nbformat": 4,
 "nbformat_minor": 5
}
