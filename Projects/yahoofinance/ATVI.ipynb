{
 "cells": [
  {
   "cell_type": "code",
   "execution_count": 1,
   "id": "a64c5159",
   "metadata": {},
   "outputs": [],
   "source": [
    "import pandas as pd"
   ]
  },
  {
   "cell_type": "code",
   "execution_count": 2,
   "id": "fcfb8459",
   "metadata": {},
   "outputs": [],
   "source": [
    "df_ATVI = pd.read_csv('ATVI.csv')"
   ]
  },
  {
   "cell_type": "code",
   "execution_count": 4,
   "id": "c72cd032",
   "metadata": {},
   "outputs": [],
   "source": [
    "valuation_cols = ['symbol', 'marketCap','enterpriseValue','currentPrice', 'fiftyTwoWeekHigh', 'fiftyTwoWeekLow','earningsGrowth','enterpriseToRevenue', 'enterpriseToEbitda',\n",
    "                  'forwardEps','trailingEps',  'priceToSalesTrailing12Months', \n",
    "                  'forwardPE', 'trailingPE', 'dividendYield']\n"
   ]
  },
  {
   "cell_type": "code",
   "execution_count": 6,
   "id": "7262aee0",
   "metadata": {},
   "outputs": [],
   "source": [
    "ATVI_val = df_ATVI[valuation_cols]"
   ]
  },
  {
   "cell_type": "code",
   "execution_count": 7,
   "id": "c87c5284",
   "metadata": {},
   "outputs": [
    {
     "data": {
      "text/html": [
       "<div><div id=4d379a5d-968f-454c-8604-4afeca70d1fe style=\"display:none; background-color:#9D6CFF; color:white; width:200px; height:30px; padding-left:5px; border-radius:4px; flex-direction:row; justify-content:space-around; align-items:center;\" onmouseover=\"this.style.backgroundColor='#BA9BF8'\" onmouseout=\"this.style.backgroundColor='#9D6CFF'\" onclick=\"window.commands?.execute('create-mitosheet-from-dataframe-output');\">See Full Dataframe in Mito</div> <script> if (window.commands.hasCommand('create-mitosheet-from-dataframe-output')) document.getElementById('4d379a5d-968f-454c-8604-4afeca70d1fe').style.display = 'flex' </script> <table border=\"1\" class=\"dataframe\">\n",
       "  <thead>\n",
       "    <tr style=\"text-align: right;\">\n",
       "      <th></th>\n",
       "      <th>symbol</th>\n",
       "      <th>marketCap</th>\n",
       "      <th>enterpriseValue</th>\n",
       "      <th>currentPrice</th>\n",
       "      <th>fiftyTwoWeekHigh</th>\n",
       "      <th>fiftyTwoWeekLow</th>\n",
       "      <th>earningsGrowth</th>\n",
       "      <th>enterpriseToRevenue</th>\n",
       "      <th>enterpriseToEbitda</th>\n",
       "      <th>forwardEps</th>\n",
       "      <th>trailingEps</th>\n",
       "      <th>priceToSalesTrailing12Months</th>\n",
       "      <th>forwardPE</th>\n",
       "      <th>trailingPE</th>\n",
       "      <th>dividendYield</th>\n",
       "    </tr>\n",
       "  </thead>\n",
       "  <tbody>\n",
       "    <tr>\n",
       "      <th>0</th>\n",
       "      <td>ATVI</td>\n",
       "      <td>60478496768</td>\n",
       "      <td>52990627840</td>\n",
       "      <td>77.35</td>\n",
       "      <td>99.46</td>\n",
       "      <td>56.4</td>\n",
       "      <td>-0.367</td>\n",
       "      <td>6.387</td>\n",
       "      <td>16.946</td>\n",
       "      <td>3.93</td>\n",
       "      <td>3.149</td>\n",
       "      <td>7.290079</td>\n",
       "      <td>19.681932</td>\n",
       "      <td>24.563353</td>\n",
       "      <td>0.0061</td>\n",
       "    </tr>\n",
       "  </tbody>\n",
       "</table></div>"
      ],
      "text/plain": [
       "  symbol    marketCap  enterpriseValue  currentPrice  fiftyTwoWeekHigh  \\\n",
       "0   ATVI  60478496768      52990627840         77.35             99.46   \n",
       "\n",
       "   fiftyTwoWeekLow  earningsGrowth  enterpriseToRevenue  enterpriseToEbitda  \\\n",
       "0             56.4          -0.367                6.387              16.946   \n",
       "\n",
       "   forwardEps  trailingEps  priceToSalesTrailing12Months  forwardPE  \\\n",
       "0        3.93        3.149                      7.290079  19.681932   \n",
       "\n",
       "   trailingPE  dividendYield  \n",
       "0   24.563353         0.0061  "
      ]
     },
     "execution_count": 7,
     "metadata": {},
     "output_type": "execute_result"
    }
   ],
   "source": [
    "ATVI_val"
   ]
  },
  {
   "cell_type": "code",
   "execution_count": null,
   "id": "a1a55974",
   "metadata": {},
   "outputs": [],
   "source": []
  }
 ],
 "metadata": {
  "kernelspec": {
   "display_name": "Python 3",
   "language": "python",
   "name": "python3"
  },
  "language_info": {
   "codemirror_mode": {
    "name": "ipython",
    "version": 3
   },
   "file_extension": ".py",
   "mimetype": "text/x-python",
   "name": "python",
   "nbconvert_exporter": "python",
   "pygments_lexer": "ipython3",
   "version": "3.8.8"
  }
 },
 "nbformat": 4,
 "nbformat_minor": 5
}
