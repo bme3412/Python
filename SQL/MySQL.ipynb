{
 "cells": [
  {
   "cell_type": "code",
   "execution_count": 1,
   "id": "1575b5bd",
   "metadata": {},
   "outputs": [],
   "source": [
    "import mysql.connector\n",
    "from mysql.connector import Error\n",
    "import pandas as pd"
   ]
  },
  {
   "cell_type": "code",
   "execution_count": null,
   "id": "0ba6a239",
   "metadata": {},
   "outputs": [],
   "source": [
    "# from 'https://www.freecodecamp.org/news/connect-python-with-sql/'"
   ]
  },
  {
   "cell_type": "code",
   "execution_count": 2,
   "id": "a91bb3ec",
   "metadata": {},
   "outputs": [],
   "source": [
    "def create_server_connection(host_name, user_name, user_password):\n",
    "    connection = None\n",
    "    try:\n",
    "        connection = mysql.connector.connect(\n",
    "            host = host_name,\n",
    "            user = user_name,\n",
    "            passwd = user_password\n",
    "        )\n",
    "        print(\"MySQL Database connection successful\")\n",
    "    except Error as err:\n",
    "        print(f\"Error: '{err}'\")\n",
    "    \n",
    "    return connection"
   ]
  },
  {
   "cell_type": "code",
   "execution_count": 3,
   "id": "9a6ed6c9",
   "metadata": {},
   "outputs": [
    {
     "name": "stdout",
     "output_type": "stream",
     "text": [
      "MySQL Database connection successful\n"
     ]
    }
   ],
   "source": [
    "pw = \"Cotuit1429$$\"\n",
    "connection=create_server_connection(\"localhost\",\"root\", pw)"
   ]
  },
  {
   "cell_type": "markdown",
   "id": "26851c61",
   "metadata": {},
   "source": [
    "## Creating a new Database"
   ]
  },
  {
   "cell_type": "code",
   "execution_count": 4,
   "id": "12b96626",
   "metadata": {},
   "outputs": [
    {
     "name": "stdout",
     "output_type": "stream",
     "text": [
      "Datbase created successfully\n"
     ]
    }
   ],
   "source": [
    "def create_database(connection, query):\n",
    "    cursor = connection.cursor()\n",
    "    try:\n",
    "        cursor.execute(query)\n",
    "        print(\"Datbase created successfully\")\n",
    "    except Error as err:\n",
    "        print(f\"Error: '{err}'\")\n",
    "\n",
    "create_database_query = \"CREATE DATABASE school\"\n",
    "create_database(connection, create_database_query)"
   ]
  },
  {
   "cell_type": "markdown",
   "id": "adabcab7",
   "metadata": {},
   "source": [
    "## Connecting to the database"
   ]
  },
  {
   "cell_type": "code",
   "execution_count": null,
   "id": "268139d5",
   "metadata": {},
   "outputs": [],
   "source": [
    "def create_db_connection(host_name, user_name, user_password, db_name):\n",
    "    connection = None\n",
    "    try:\n",
    "        connection = mysql.connector.connect(\n",
    "            host = host_name,\n",
    "            user= user_name,\n",
    "            passwd = user_password,\n",
    "            database = db_name)\n",
    "        print(\"MySQL Datbaase connection successful\")\n",
    "    except Error as err:\n",
    "        print(f\"Error: '{err}'\")\n",
    "    \n",
    "    return connection"
   ]
  }
 ],
 "metadata": {
  "kernelspec": {
   "display_name": "Python 3",
   "language": "python",
   "name": "python3"
  },
  "language_info": {
   "codemirror_mode": {
    "name": "ipython",
    "version": 3
   },
   "file_extension": ".py",
   "mimetype": "text/x-python",
   "name": "python",
   "nbconvert_exporter": "python",
   "pygments_lexer": "ipython3",
   "version": "3.8.8"
  }
 },
 "nbformat": 4,
 "nbformat_minor": 5
}
