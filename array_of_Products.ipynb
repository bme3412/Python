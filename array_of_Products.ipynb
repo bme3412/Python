{
 "cells": [
  {
   "cell_type": "markdown",
   "id": "ac40da1b",
   "metadata": {},
   "source": [
    "Write a function that takes in a non-empty array of integers and returns an array of the same length, where each element in the output array is equal to the product of every other number in the input array.\n",
    "\n",
    "In other words, the value at output[i] is equal to the product of every # in the input array, otehr than input[i]"
   ]
  },
  {
   "cell_type": "code",
   "execution_count": 3,
   "id": "4c34c6ab",
   "metadata": {},
   "outputs": [],
   "source": [
    "array = [5, 1, 4, 2]\n",
    "\n"
   ]
  },
  {
   "cell_type": "code",
   "execution_count": 4,
   "id": "da5b9464",
   "metadata": {},
   "outputs": [],
   "source": [
    "def arrayOfProducts(array):\n",
    "    len_ = len(array)\n",
    "    new_array = []\n",
    "    indices = range(0, len_)\n",
    "    for i in array:\n",
    "        if i != indices[i]:\n",
    "            new_array *=array[i]\n",
    "    return new_array"
   ]
  },
  {
   "cell_type": "code",
   "execution_count": 5,
   "id": "f4dc30bc",
   "metadata": {},
   "outputs": [],
   "source": [
    "def arrayOfProducts(array):\n",
    "    new_array = []\n",
    "    for i, el in enumerate(array):\n",
    "        new_array.append(reduce(lambda x, y: x*y, array[:1] + array[i+1]))\n",
    "    return new_array"
   ]
  },
  {
   "cell_type": "code",
   "execution_count": 6,
   "id": "d380159c",
   "metadata": {},
   "outputs": [
    {
     "ename": "NameError",
     "evalue": "name 'reduce' is not defined",
     "output_type": "error",
     "traceback": [
      "\u001b[0;31m---------------------------------------------------------------------------\u001b[0m",
      "\u001b[0;31mNameError\u001b[0m                                 Traceback (most recent call last)",
      "Input \u001b[0;32mIn [6]\u001b[0m, in \u001b[0;36m<cell line: 1>\u001b[0;34m()\u001b[0m\n\u001b[0;32m----> 1\u001b[0m \u001b[43marrayOfProducts\u001b[49m\u001b[43m(\u001b[49m\u001b[43marray\u001b[49m\u001b[43m)\u001b[49m\n",
      "Input \u001b[0;32mIn [5]\u001b[0m, in \u001b[0;36marrayOfProducts\u001b[0;34m(array)\u001b[0m\n\u001b[1;32m      2\u001b[0m new_array \u001b[38;5;241m=\u001b[39m []\n\u001b[1;32m      3\u001b[0m \u001b[38;5;28;01mfor\u001b[39;00m i, el \u001b[38;5;129;01min\u001b[39;00m \u001b[38;5;28menumerate\u001b[39m(array):\n\u001b[0;32m----> 4\u001b[0m     new_array\u001b[38;5;241m.\u001b[39mappend(\u001b[43mreduce\u001b[49m(\u001b[38;5;28;01mlambda\u001b[39;00m x, y: x\u001b[38;5;241m*\u001b[39my, array[:\u001b[38;5;241m1\u001b[39m] \u001b[38;5;241m+\u001b[39m array[i\u001b[38;5;241m+\u001b[39m\u001b[38;5;241m1\u001b[39m]))\n\u001b[1;32m      5\u001b[0m \u001b[38;5;28;01mreturn\u001b[39;00m new_array\n",
      "\u001b[0;31mNameError\u001b[0m: name 'reduce' is not defined"
     ]
    }
   ],
   "source": [
    "arrayOfProducts(array)"
   ]
  },
  {
   "cell_type": "code",
   "execution_count": 7,
   "id": "8cb2fcb7",
   "metadata": {},
   "outputs": [],
   "source": [
    "import numpy as np\n",
    "    \n",
    "def remainingProduct(array):\n",
    "    a = array\n",
    "    list1 = []\n",
    "    n = len(array)\n",
    "    for i in range(0, n):\n",
    "        b = a[0]\n",
    "        a.remove(a[0])\n",
    "        c = np.prod(a)\n",
    "        list1.append(c)\n",
    "        a.append(b)\n",
    "    return list1"
   ]
  },
  {
   "cell_type": "code",
   "execution_count": 8,
   "id": "ecd425a6",
   "metadata": {},
   "outputs": [
    {
     "data": {
      "text/plain": [
       "[8, 40, 10, 20]"
      ]
     },
     "execution_count": 8,
     "metadata": {},
     "output_type": "execute_result"
    }
   ],
   "source": [
    "remainingProduct(array)"
   ]
  },
  {
   "cell_type": "code",
   "execution_count": 79,
   "id": "c5221329",
   "metadata": {},
   "outputs": [],
   "source": [
    "def arrayOfProducts(array):\n",
    "    a = array\n",
    "    list_1 = []\n",
    "    result = 1\n",
    "    n = len(array)\n",
    "    for i in range(0, n):\n",
    "        b = a[0]\n",
    "        a.remove(a[0])\n",
    "        print(a)\n",
    "        for i in a:\n",
    "            result *=i\n",
    "    return result\n",
    "        "
   ]
  },
  {
   "cell_type": "code",
   "execution_count": 80,
   "id": "279b416c",
   "metadata": {},
   "outputs": [
    {
     "data": {
      "text/plain": [
       "1"
      ]
     },
     "execution_count": 80,
     "metadata": {},
     "output_type": "execute_result"
    }
   ],
   "source": [
    "arrayOfProducts(array)"
   ]
  },
  {
   "cell_type": "code",
   "execution_count": null,
   "id": "ff48be47",
   "metadata": {},
   "outputs": [],
   "source": []
  }
 ],
 "metadata": {
  "kernelspec": {
   "display_name": "Python 3",
   "language": "python",
   "name": "python3"
  },
  "language_info": {
   "codemirror_mode": {
    "name": "ipython",
    "version": 3
   },
   "file_extension": ".py",
   "mimetype": "text/x-python",
   "name": "python",
   "nbconvert_exporter": "python",
   "pygments_lexer": "ipython3",
   "version": "3.8.8"
  }
 },
 "nbformat": 4,
 "nbformat_minor": 5
}
