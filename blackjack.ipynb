{
 "cells": [
  {
   "cell_type": "code",
   "execution_count": 1,
   "id": "afc261bf",
   "metadata": {},
   "outputs": [],
   "source": [
    "def blackjack_hand_greater_than(hand_1, hand_2):\n",
    "    \"\"\"\n",
    "    Return True if hand_1 beats hand_2, and False otherwise.\n",
    "    \n",
    "    In order for hand_1 to beat hand_2 the following must be true:\n",
    "    - The total of hand_1 must not exceed 21\n",
    "    - The total of hand_1 must exceed the total of hand_2 OR hand_2's total must exceed 21\n",
    "    \n",
    "    Hands are represented as a list of cards. Each card is represented by a string.\n",
    "    \n",
    "    When adding up a hand's total, cards with numbers count for that many points. Face\n",
    "    cards ('J', 'Q', and 'K') are worth 10 points. 'A' can count for 1 or 11.\n",
    "    \n",
    "    When determining a hand's total, you should try to count aces in the way that \n",
    "    maximizes the hand's total without going over 21. e.g. the total of ['A', 'A', '9'] is 21,\n",
    "    the total of ['A', 'A', '9', '3'] is 14.\n",
    "    \n",
    "    Examples:\n",
    "    >>> blackjack_hand_greater_than(['K'], ['3', '4'])\n",
    "    True\n",
    "    >>> blackjack_hand_greater_than(['K'], ['10'])\n",
    "    False\n",
    "    >>> blackjack_hand_greater_than(['K', 'K', '2'], ['3'])\n",
    "    False\n",
    "    \"\"\"\n",
    "    hand_1 = {}\n",
    "    hand_2 = {}\n",
    "    for item in hand_1:\n",
    "        hand_1_sum = hand_1[item]\n",
    "        return hand_1_sum\n",
    "        "
   ]
  },
  {
   "cell_type": "code",
   "execution_count": 103,
   "id": "f21bdee6",
   "metadata": {},
   "outputs": [],
   "source": [
    "def string_to_int(hand):\n",
    "    for i in range(len(hand)):\n",
    "        # The i'th racer dictionary\n",
    "        if hand[i] == 'K':\n",
    "            hand[i]=int(10)\n",
    "        if hand[i]=='Q':\n",
    "            hand[i]=int(10)\n",
    "        if hand[i]=='J':\n",
    "            hand[i]=int(10)\n",
    "    return hand\n",
    "\n",
    "hand1 = string_to_int(['K', 'J'])\n",
    "\n",
    "def sum_cards(hand1):\n",
    "    #cards = [int(item) for item in hand]\n",
    "    #return cards\n",
    "    #sum_cards = sum(cards)\n",
    "    return sum(hand1)"
   ]
  },
  {
   "cell_type": "code",
   "execution_count": 106,
   "id": "8a4768bb",
   "metadata": {},
   "outputs": [
    {
     "data": {
      "text/plain": [
       "[10, 10]"
      ]
     },
     "execution_count": 106,
     "metadata": {},
     "output_type": "execute_result"
    }
   ],
   "source": [
    "hand1"
   ]
  },
  {
   "cell_type": "code",
   "execution_count": 105,
   "id": "b8c67955",
   "metadata": {},
   "outputs": [
    {
     "ename": "RecursionError",
     "evalue": "maximum recursion depth exceeded while calling a Python object",
     "output_type": "error",
     "traceback": [
      "\u001b[0;31m---------------------------------------------------------------------------\u001b[0m",
      "\u001b[0;31mRecursionError\u001b[0m                            Traceback (most recent call last)",
      "Input \u001b[0;32mIn [105]\u001b[0m, in \u001b[0;36m<cell line: 1>\u001b[0;34m()\u001b[0m\n\u001b[0;32m----> 1\u001b[0m \u001b[43msum_cards\u001b[49m\u001b[43m(\u001b[49m\u001b[43mhand1\u001b[49m\u001b[43m)\u001b[49m\n",
      "Input \u001b[0;32mIn [103]\u001b[0m, in \u001b[0;36msum_cards\u001b[0;34m(hand1)\u001b[0m\n\u001b[1;32m     14\u001b[0m \u001b[38;5;28;01mdef\u001b[39;00m \u001b[38;5;21msum_cards\u001b[39m(hand1):\n\u001b[1;32m     15\u001b[0m     \u001b[38;5;66;03m#cards = [int(item) for item in hand]\u001b[39;00m\n\u001b[1;32m     16\u001b[0m     \u001b[38;5;66;03m#return cards\u001b[39;00m\n\u001b[1;32m     17\u001b[0m     \u001b[38;5;66;03m#sum_cards = sum(cards)\u001b[39;00m\n\u001b[0;32m---> 18\u001b[0m     \u001b[38;5;28;01mreturn\u001b[39;00m \u001b[38;5;28;43msum\u001b[39;49m\u001b[43m(\u001b[49m\u001b[43mhand1\u001b[49m\u001b[43m)\u001b[49m\n",
      "Input \u001b[0;32mIn [67]\u001b[0m, in \u001b[0;36msum\u001b[0;34m(hand)\u001b[0m\n\u001b[1;32m     14\u001b[0m \u001b[38;5;28;01mdef\u001b[39;00m \u001b[38;5;21msum\u001b[39m(hand):\n\u001b[1;32m     15\u001b[0m     cards \u001b[38;5;241m=\u001b[39m [\u001b[38;5;28mint\u001b[39m(i) \u001b[38;5;28;01mfor\u001b[39;00m i \u001b[38;5;129;01min\u001b[39;00m hand]\n\u001b[0;32m---> 16\u001b[0m     sum_cards \u001b[38;5;241m=\u001b[39m \u001b[38;5;28;43msum\u001b[39;49m\u001b[43m(\u001b[49m\u001b[43mcards\u001b[49m\u001b[43m)\u001b[49m\n\u001b[1;32m     17\u001b[0m     \u001b[38;5;28;01mreturn\u001b[39;00m sum_cards\n",
      "Input \u001b[0;32mIn [67]\u001b[0m, in \u001b[0;36msum\u001b[0;34m(hand)\u001b[0m\n\u001b[1;32m     14\u001b[0m \u001b[38;5;28;01mdef\u001b[39;00m \u001b[38;5;21msum\u001b[39m(hand):\n\u001b[1;32m     15\u001b[0m     cards \u001b[38;5;241m=\u001b[39m [\u001b[38;5;28mint\u001b[39m(i) \u001b[38;5;28;01mfor\u001b[39;00m i \u001b[38;5;129;01min\u001b[39;00m hand]\n\u001b[0;32m---> 16\u001b[0m     sum_cards \u001b[38;5;241m=\u001b[39m \u001b[38;5;28;43msum\u001b[39;49m\u001b[43m(\u001b[49m\u001b[43mcards\u001b[49m\u001b[43m)\u001b[49m\n\u001b[1;32m     17\u001b[0m     \u001b[38;5;28;01mreturn\u001b[39;00m sum_cards\n",
      "    \u001b[0;31m[... skipping similar frames: sum at line 16 (2953 times)]\u001b[0m\n",
      "Input \u001b[0;32mIn [67]\u001b[0m, in \u001b[0;36msum\u001b[0;34m(hand)\u001b[0m\n\u001b[1;32m     14\u001b[0m \u001b[38;5;28;01mdef\u001b[39;00m \u001b[38;5;21msum\u001b[39m(hand):\n\u001b[1;32m     15\u001b[0m     cards \u001b[38;5;241m=\u001b[39m [\u001b[38;5;28mint\u001b[39m(i) \u001b[38;5;28;01mfor\u001b[39;00m i \u001b[38;5;129;01min\u001b[39;00m hand]\n\u001b[0;32m---> 16\u001b[0m     sum_cards \u001b[38;5;241m=\u001b[39m \u001b[38;5;28;43msum\u001b[39;49m\u001b[43m(\u001b[49m\u001b[43mcards\u001b[49m\u001b[43m)\u001b[49m\n\u001b[1;32m     17\u001b[0m     \u001b[38;5;28;01mreturn\u001b[39;00m sum_cards\n",
      "Input \u001b[0;32mIn [67]\u001b[0m, in \u001b[0;36msum\u001b[0;34m(hand)\u001b[0m\n\u001b[1;32m     14\u001b[0m \u001b[38;5;28;01mdef\u001b[39;00m \u001b[38;5;21msum\u001b[39m(hand):\n\u001b[0;32m---> 15\u001b[0m     cards \u001b[38;5;241m=\u001b[39m [\u001b[38;5;28mint\u001b[39m(i) \u001b[38;5;28;01mfor\u001b[39;00m i \u001b[38;5;129;01min\u001b[39;00m hand]\n\u001b[1;32m     16\u001b[0m     sum_cards \u001b[38;5;241m=\u001b[39m \u001b[38;5;28msum\u001b[39m(cards)\n\u001b[1;32m     17\u001b[0m     \u001b[38;5;28;01mreturn\u001b[39;00m sum_cards\n",
      "Input \u001b[0;32mIn [67]\u001b[0m, in \u001b[0;36m<listcomp>\u001b[0;34m(.0)\u001b[0m\n\u001b[1;32m     14\u001b[0m \u001b[38;5;28;01mdef\u001b[39;00m \u001b[38;5;21msum\u001b[39m(hand):\n\u001b[0;32m---> 15\u001b[0m     cards \u001b[38;5;241m=\u001b[39m [\u001b[38;5;28;43mint\u001b[39;49m\u001b[43m(\u001b[49m\u001b[43mi\u001b[49m\u001b[43m)\u001b[49m \u001b[38;5;28;01mfor\u001b[39;00m i \u001b[38;5;129;01min\u001b[39;00m hand]\n\u001b[1;32m     16\u001b[0m     sum_cards \u001b[38;5;241m=\u001b[39m \u001b[38;5;28msum\u001b[39m(cards)\n\u001b[1;32m     17\u001b[0m     \u001b[38;5;28;01mreturn\u001b[39;00m sum_cards\n",
      "\u001b[0;31mRecursionError\u001b[0m: maximum recursion depth exceeded while calling a Python object"
     ]
    }
   ],
   "source": [
    "sum_cards(hand1)"
   ]
  },
  {
   "cell_type": "code",
   "execution_count": 110,
   "id": "b4df62a7",
   "metadata": {},
   "outputs": [],
   "source": [
    "def hand_total(hand):\n",
    "    total = 0\n",
    "    # Count the number of aces and deal with how to apply them at the end.\n",
    "    aces = 0\n",
    "    for card in hand:\n",
    "        if card in ['J', 'Q', 'K']:\n",
    "            total += 10\n",
    "        elif card == 'A':\n",
    "            aces += 1\n",
    "        else:\n",
    "            # Convert number cards (e.g. '7') to ints\n",
    "            total += int(card)\n",
    "    # At this point, total is the sum of this hand's cards *not counting aces*.\n",
    "\n",
    "    # Add aces, counting them as 1 for now. This is the smallest total we can make from this hand\n",
    "    total += aces\n",
    "    # \"Upgrade\" aces from 1 to 11 as long as it helps us get closer to 21\n",
    "    # without busting\n",
    "    while total + 10 <= 21 and aces > 0:\n",
    "        # Upgrade an ace from 1 to 11\n",
    "        total += 10\n",
    "        aces -= 1\n",
    "    return total\n",
    "\n",
    "def blackjack_hand_greater_than(hand_1, hand_2):\n",
    "    total_1 = hand_total(hand_1)\n",
    "    total_2 = hand_total(hand_2)\n",
    "    return total_1 <= 21 and (total_1 > total_2 or total_2 > 21)"
   ]
  },
  {
   "cell_type": "code",
   "execution_count": null,
   "id": "26ec8880",
   "metadata": {},
   "outputs": [],
   "source": []
  }
 ],
 "metadata": {
  "kernelspec": {
   "display_name": "Python 3",
   "language": "python",
   "name": "python3"
  },
  "language_info": {
   "codemirror_mode": {
    "name": "ipython",
    "version": 3
   },
   "file_extension": ".py",
   "mimetype": "text/x-python",
   "name": "python",
   "nbconvert_exporter": "python",
   "pygments_lexer": "ipython3",
   "version": "3.8.8"
  }
 },
 "nbformat": 4,
 "nbformat_minor": 5
}
