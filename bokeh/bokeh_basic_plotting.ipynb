{
 "cells": [
  {
   "cell_type": "code",
   "execution_count": 7,
   "id": "597221ec",
   "metadata": {},
   "outputs": [],
   "source": [
    "import numpy as np\n",
    "\n",
    "from bokeh.io import output_file, output_notebook,show\n",
    "from bokeh.plotting import figure"
   ]
  },
  {
   "cell_type": "code",
   "execution_count": 8,
   "id": "6c67c394",
   "metadata": {},
   "outputs": [
    {
     "data": {
      "text/html": [
       "\n",
       "    <div class=\"bk-root\">\n",
       "        <a href=\"https://bokeh.org\" target=\"_blank\" class=\"bk-logo bk-logo-small bk-logo-notebook\"></a>\n",
       "        <span id=\"1107\">Loading BokehJS ...</span>\n",
       "    </div>"
      ]
     },
     "metadata": {},
     "output_type": "display_data"
    },
    {
     "data": {
      "application/javascript": [
       "\n",
       "(function(root) {\n",
       "  function now() {\n",
       "    return new Date();\n",
       "  }\n",
       "\n",
       "  const force = true;\n",
       "\n",
       "  if (typeof root._bokeh_onload_callbacks === \"undefined\" || force === true) {\n",
       "    root._bokeh_onload_callbacks = [];\n",
       "    root._bokeh_is_loading = undefined;\n",
       "  }\n",
       "\n",
       "  var JS_MIME_TYPE = 'application/javascript';\n",
       "  var HTML_MIME_TYPE = 'text/html';\n",
       "  var EXEC_MIME_TYPE = 'application/vnd.bokehjs_exec.v0+json';\n",
       "  var CLASS_NAME = 'output_bokeh rendered_html';\n",
       "\n",
       "  /**\n",
       "   * Render data to the DOM node\n",
       "   */\n",
       "  function render(props, node) {\n",
       "    var script = document.createElement(\"script\");\n",
       "    node.appendChild(script);\n",
       "  }\n",
       "\n",
       "  /**\n",
       "   * Handle when an output is cleared or removed\n",
       "   */\n",
       "  function handleClearOutput(event, handle) {\n",
       "    var cell = handle.cell;\n",
       "\n",
       "    var id = cell.output_area._bokeh_element_id;\n",
       "    var server_id = cell.output_area._bokeh_server_id;\n",
       "    // Clean up Bokeh references\n",
       "    if (id != null && id in Bokeh.index) {\n",
       "      Bokeh.index[id].model.document.clear();\n",
       "      delete Bokeh.index[id];\n",
       "    }\n",
       "\n",
       "    if (server_id !== undefined) {\n",
       "      // Clean up Bokeh references\n",
       "      var cmd = \"from bokeh.io.state import curstate; print(curstate().uuid_to_server['\" + server_id + \"'].get_sessions()[0].document.roots[0]._id)\";\n",
       "      cell.notebook.kernel.execute(cmd, {\n",
       "        iopub: {\n",
       "          output: function(msg) {\n",
       "            var id = msg.content.text.trim();\n",
       "            if (id in Bokeh.index) {\n",
       "              Bokeh.index[id].model.document.clear();\n",
       "              delete Bokeh.index[id];\n",
       "            }\n",
       "          }\n",
       "        }\n",
       "      });\n",
       "      // Destroy server and session\n",
       "      var cmd = \"import bokeh.io.notebook as ion; ion.destroy_server('\" + server_id + \"')\";\n",
       "      cell.notebook.kernel.execute(cmd);\n",
       "    }\n",
       "  }\n",
       "\n",
       "  /**\n",
       "   * Handle when a new output is added\n",
       "   */\n",
       "  function handleAddOutput(event, handle) {\n",
       "    var output_area = handle.output_area;\n",
       "    var output = handle.output;\n",
       "\n",
       "    // limit handleAddOutput to display_data with EXEC_MIME_TYPE content only\n",
       "    if ((output.output_type != \"display_data\") || (!Object.prototype.hasOwnProperty.call(output.data, EXEC_MIME_TYPE))) {\n",
       "      return\n",
       "    }\n",
       "\n",
       "    var toinsert = output_area.element.find(\".\" + CLASS_NAME.split(' ')[0]);\n",
       "\n",
       "    if (output.metadata[EXEC_MIME_TYPE][\"id\"] !== undefined) {\n",
       "      toinsert[toinsert.length - 1].firstChild.textContent = output.data[JS_MIME_TYPE];\n",
       "      // store reference to embed id on output_area\n",
       "      output_area._bokeh_element_id = output.metadata[EXEC_MIME_TYPE][\"id\"];\n",
       "    }\n",
       "    if (output.metadata[EXEC_MIME_TYPE][\"server_id\"] !== undefined) {\n",
       "      var bk_div = document.createElement(\"div\");\n",
       "      bk_div.innerHTML = output.data[HTML_MIME_TYPE];\n",
       "      var script_attrs = bk_div.children[0].attributes;\n",
       "      for (var i = 0; i < script_attrs.length; i++) {\n",
       "        toinsert[toinsert.length - 1].firstChild.setAttribute(script_attrs[i].name, script_attrs[i].value);\n",
       "        toinsert[toinsert.length - 1].firstChild.textContent = bk_div.children[0].textContent\n",
       "      }\n",
       "      // store reference to server id on output_area\n",
       "      output_area._bokeh_server_id = output.metadata[EXEC_MIME_TYPE][\"server_id\"];\n",
       "    }\n",
       "  }\n",
       "\n",
       "  function register_renderer(events, OutputArea) {\n",
       "\n",
       "    function append_mime(data, metadata, element) {\n",
       "      // create a DOM node to render to\n",
       "      var toinsert = this.create_output_subarea(\n",
       "        metadata,\n",
       "        CLASS_NAME,\n",
       "        EXEC_MIME_TYPE\n",
       "      );\n",
       "      this.keyboard_manager.register_events(toinsert);\n",
       "      // Render to node\n",
       "      var props = {data: data, metadata: metadata[EXEC_MIME_TYPE]};\n",
       "      render(props, toinsert[toinsert.length - 1]);\n",
       "      element.append(toinsert);\n",
       "      return toinsert\n",
       "    }\n",
       "\n",
       "    /* Handle when an output is cleared or removed */\n",
       "    events.on('clear_output.CodeCell', handleClearOutput);\n",
       "    events.on('delete.Cell', handleClearOutput);\n",
       "\n",
       "    /* Handle when a new output is added */\n",
       "    events.on('output_added.OutputArea', handleAddOutput);\n",
       "\n",
       "    /**\n",
       "     * Register the mime type and append_mime function with output_area\n",
       "     */\n",
       "    OutputArea.prototype.register_mime_type(EXEC_MIME_TYPE, append_mime, {\n",
       "      /* Is output safe? */\n",
       "      safe: true,\n",
       "      /* Index of renderer in `output_area.display_order` */\n",
       "      index: 0\n",
       "    });\n",
       "  }\n",
       "\n",
       "  // register the mime type if in Jupyter Notebook environment and previously unregistered\n",
       "  if (root.Jupyter !== undefined) {\n",
       "    var events = require('base/js/events');\n",
       "    var OutputArea = require('notebook/js/outputarea').OutputArea;\n",
       "\n",
       "    if (OutputArea.prototype.mime_types().indexOf(EXEC_MIME_TYPE) == -1) {\n",
       "      register_renderer(events, OutputArea);\n",
       "    }\n",
       "  }\n",
       "\n",
       "  \n",
       "  if (typeof (root._bokeh_timeout) === \"undefined\" || force === true) {\n",
       "    root._bokeh_timeout = Date.now() + 5000;\n",
       "    root._bokeh_failed_load = false;\n",
       "  }\n",
       "\n",
       "  var NB_LOAD_WARNING = {'data': {'text/html':\n",
       "     \"<div style='background-color: #fdd'>\\n\"+\n",
       "     \"<p>\\n\"+\n",
       "     \"BokehJS does not appear to have successfully loaded. If loading BokehJS from CDN, this \\n\"+\n",
       "     \"may be due to a slow or bad network connection. Possible fixes:\\n\"+\n",
       "     \"</p>\\n\"+\n",
       "     \"<ul>\\n\"+\n",
       "     \"<li>re-rerun `output_notebook()` to attempt to load from CDN again, or</li>\\n\"+\n",
       "     \"<li>use INLINE resources instead, as so:</li>\\n\"+\n",
       "     \"</ul>\\n\"+\n",
       "     \"<code>\\n\"+\n",
       "     \"from bokeh.resources import INLINE\\n\"+\n",
       "     \"output_notebook(resources=INLINE)\\n\"+\n",
       "     \"</code>\\n\"+\n",
       "     \"</div>\"}};\n",
       "\n",
       "  function display_loaded() {\n",
       "    var el = document.getElementById(\"1107\");\n",
       "    if (el != null) {\n",
       "      el.textContent = \"BokehJS is loading...\";\n",
       "    }\n",
       "    if (root.Bokeh !== undefined) {\n",
       "      if (el != null) {\n",
       "        el.textContent = \"BokehJS \" + root.Bokeh.version + \" successfully loaded.\";\n",
       "      }\n",
       "    } else if (Date.now() < root._bokeh_timeout) {\n",
       "      setTimeout(display_loaded, 100)\n",
       "    }\n",
       "  }\n",
       "\n",
       "\n",
       "  function run_callbacks() {\n",
       "    try {\n",
       "      root._bokeh_onload_callbacks.forEach(function(callback) {\n",
       "        if (callback != null)\n",
       "          callback();\n",
       "      });\n",
       "    } finally {\n",
       "      delete root._bokeh_onload_callbacks\n",
       "    }\n",
       "    console.debug(\"Bokeh: all callbacks have finished\");\n",
       "  }\n",
       "\n",
       "  function load_libs(css_urls, js_urls, callback) {\n",
       "    if (css_urls == null) css_urls = [];\n",
       "    if (js_urls == null) js_urls = [];\n",
       "\n",
       "    root._bokeh_onload_callbacks.push(callback);\n",
       "    if (root._bokeh_is_loading > 0) {\n",
       "      console.debug(\"Bokeh: BokehJS is being loaded, scheduling callback at\", now());\n",
       "      return null;\n",
       "    }\n",
       "    if (js_urls == null || js_urls.length === 0) {\n",
       "      run_callbacks();\n",
       "      return null;\n",
       "    }\n",
       "    console.debug(\"Bokeh: BokehJS not loaded, scheduling load and callback at\", now());\n",
       "    root._bokeh_is_loading = css_urls.length + js_urls.length;\n",
       "\n",
       "    function on_load() {\n",
       "      root._bokeh_is_loading--;\n",
       "      if (root._bokeh_is_loading === 0) {\n",
       "        console.debug(\"Bokeh: all BokehJS libraries/stylesheets loaded\");\n",
       "        run_callbacks()\n",
       "      }\n",
       "    }\n",
       "\n",
       "    function on_error(url) {\n",
       "      console.error(\"failed to load \" + url);\n",
       "    }\n",
       "\n",
       "    for (let i = 0; i < css_urls.length; i++) {\n",
       "      const url = css_urls[i];\n",
       "      const element = document.createElement(\"link\");\n",
       "      element.onload = on_load;\n",
       "      element.onerror = on_error.bind(null, url);\n",
       "      element.rel = \"stylesheet\";\n",
       "      element.type = \"text/css\";\n",
       "      element.href = url;\n",
       "      console.debug(\"Bokeh: injecting link tag for BokehJS stylesheet: \", url);\n",
       "      document.body.appendChild(element);\n",
       "    }\n",
       "\n",
       "    for (let i = 0; i < js_urls.length; i++) {\n",
       "      const url = js_urls[i];\n",
       "      const element = document.createElement('script');\n",
       "      element.onload = on_load;\n",
       "      element.onerror = on_error.bind(null, url);\n",
       "      element.async = false;\n",
       "      element.src = url;\n",
       "      console.debug(\"Bokeh: injecting script tag for BokehJS library: \", url);\n",
       "      document.head.appendChild(element);\n",
       "    }\n",
       "  };\n",
       "\n",
       "  function inject_raw_css(css) {\n",
       "    const element = document.createElement(\"style\");\n",
       "    element.appendChild(document.createTextNode(css));\n",
       "    document.body.appendChild(element);\n",
       "  }\n",
       "\n",
       "  \n",
       "  const js_urls = [\"https://cdn.bokeh.org/bokeh/release/bokeh-2.3.2.min.js\", \"https://cdn.bokeh.org/bokeh/release/bokeh-widgets-2.3.2.min.js\", \"https://cdn.bokeh.org/bokeh/release/bokeh-tables-2.3.2.min.js\"];\n",
       "  const css_urls = [];\n",
       "  \n",
       "\n",
       "  const inline_js = [\n",
       "    function(Bokeh) {\n",
       "      Bokeh.set_log_level(\"info\");\n",
       "    },\n",
       "    function(Bokeh) {\n",
       "    \n",
       "    \n",
       "    }\n",
       "  ];\n",
       "\n",
       "  function run_inline_js() {\n",
       "    \n",
       "    if (root.Bokeh !== undefined || force === true) {\n",
       "      \n",
       "    for (let i = 0; i < inline_js.length; i++) {\n",
       "      inline_js[i].call(root, root.Bokeh);\n",
       "    }\n",
       "    if (force === true) {\n",
       "        display_loaded();\n",
       "      }} else if (Date.now() < root._bokeh_timeout) {\n",
       "      setTimeout(run_inline_js, 100);\n",
       "    } else if (!root._bokeh_failed_load) {\n",
       "      console.log(\"Bokeh: BokehJS failed to load within specified timeout.\");\n",
       "      root._bokeh_failed_load = true;\n",
       "    } else if (force !== true) {\n",
       "      var cell = $(document.getElementById(\"1107\")).parents('.cell').data().cell;\n",
       "      cell.output_area.append_execute_result(NB_LOAD_WARNING)\n",
       "    }\n",
       "\n",
       "  }\n",
       "\n",
       "  if (root._bokeh_is_loading === 0) {\n",
       "    console.debug(\"Bokeh: BokehJS loaded, going straight to plotting\");\n",
       "    run_inline_js();\n",
       "  } else {\n",
       "    load_libs(css_urls, js_urls, function() {\n",
       "      console.debug(\"Bokeh: BokehJS plotting callback run at\", now());\n",
       "      run_inline_js();\n",
       "    });\n",
       "  }\n",
       "}(window));"
      ],
      "application/vnd.bokehjs_load.v0+json": "\n(function(root) {\n  function now() {\n    return new Date();\n  }\n\n  const force = true;\n\n  if (typeof root._bokeh_onload_callbacks === \"undefined\" || force === true) {\n    root._bokeh_onload_callbacks = [];\n    root._bokeh_is_loading = undefined;\n  }\n\n  \n\n  \n  if (typeof (root._bokeh_timeout) === \"undefined\" || force === true) {\n    root._bokeh_timeout = Date.now() + 5000;\n    root._bokeh_failed_load = false;\n  }\n\n  var NB_LOAD_WARNING = {'data': {'text/html':\n     \"<div style='background-color: #fdd'>\\n\"+\n     \"<p>\\n\"+\n     \"BokehJS does not appear to have successfully loaded. If loading BokehJS from CDN, this \\n\"+\n     \"may be due to a slow or bad network connection. Possible fixes:\\n\"+\n     \"</p>\\n\"+\n     \"<ul>\\n\"+\n     \"<li>re-rerun `output_notebook()` to attempt to load from CDN again, or</li>\\n\"+\n     \"<li>use INLINE resources instead, as so:</li>\\n\"+\n     \"</ul>\\n\"+\n     \"<code>\\n\"+\n     \"from bokeh.resources import INLINE\\n\"+\n     \"output_notebook(resources=INLINE)\\n\"+\n     \"</code>\\n\"+\n     \"</div>\"}};\n\n  function display_loaded() {\n    var el = document.getElementById(\"1107\");\n    if (el != null) {\n      el.textContent = \"BokehJS is loading...\";\n    }\n    if (root.Bokeh !== undefined) {\n      if (el != null) {\n        el.textContent = \"BokehJS \" + root.Bokeh.version + \" successfully loaded.\";\n      }\n    } else if (Date.now() < root._bokeh_timeout) {\n      setTimeout(display_loaded, 100)\n    }\n  }\n\n\n  function run_callbacks() {\n    try {\n      root._bokeh_onload_callbacks.forEach(function(callback) {\n        if (callback != null)\n          callback();\n      });\n    } finally {\n      delete root._bokeh_onload_callbacks\n    }\n    console.debug(\"Bokeh: all callbacks have finished\");\n  }\n\n  function load_libs(css_urls, js_urls, callback) {\n    if (css_urls == null) css_urls = [];\n    if (js_urls == null) js_urls = [];\n\n    root._bokeh_onload_callbacks.push(callback);\n    if (root._bokeh_is_loading > 0) {\n      console.debug(\"Bokeh: BokehJS is being loaded, scheduling callback at\", now());\n      return null;\n    }\n    if (js_urls == null || js_urls.length === 0) {\n      run_callbacks();\n      return null;\n    }\n    console.debug(\"Bokeh: BokehJS not loaded, scheduling load and callback at\", now());\n    root._bokeh_is_loading = css_urls.length + js_urls.length;\n\n    function on_load() {\n      root._bokeh_is_loading--;\n      if (root._bokeh_is_loading === 0) {\n        console.debug(\"Bokeh: all BokehJS libraries/stylesheets loaded\");\n        run_callbacks()\n      }\n    }\n\n    function on_error(url) {\n      console.error(\"failed to load \" + url);\n    }\n\n    for (let i = 0; i < css_urls.length; i++) {\n      const url = css_urls[i];\n      const element = document.createElement(\"link\");\n      element.onload = on_load;\n      element.onerror = on_error.bind(null, url);\n      element.rel = \"stylesheet\";\n      element.type = \"text/css\";\n      element.href = url;\n      console.debug(\"Bokeh: injecting link tag for BokehJS stylesheet: \", url);\n      document.body.appendChild(element);\n    }\n\n    for (let i = 0; i < js_urls.length; i++) {\n      const url = js_urls[i];\n      const element = document.createElement('script');\n      element.onload = on_load;\n      element.onerror = on_error.bind(null, url);\n      element.async = false;\n      element.src = url;\n      console.debug(\"Bokeh: injecting script tag for BokehJS library: \", url);\n      document.head.appendChild(element);\n    }\n  };\n\n  function inject_raw_css(css) {\n    const element = document.createElement(\"style\");\n    element.appendChild(document.createTextNode(css));\n    document.body.appendChild(element);\n  }\n\n  \n  const js_urls = [\"https://cdn.bokeh.org/bokeh/release/bokeh-2.3.2.min.js\", \"https://cdn.bokeh.org/bokeh/release/bokeh-widgets-2.3.2.min.js\", \"https://cdn.bokeh.org/bokeh/release/bokeh-tables-2.3.2.min.js\"];\n  const css_urls = [];\n  \n\n  const inline_js = [\n    function(Bokeh) {\n      Bokeh.set_log_level(\"info\");\n    },\n    function(Bokeh) {\n    \n    \n    }\n  ];\n\n  function run_inline_js() {\n    \n    if (root.Bokeh !== undefined || force === true) {\n      \n    for (let i = 0; i < inline_js.length; i++) {\n      inline_js[i].call(root, root.Bokeh);\n    }\n    if (force === true) {\n        display_loaded();\n      }} else if (Date.now() < root._bokeh_timeout) {\n      setTimeout(run_inline_js, 100);\n    } else if (!root._bokeh_failed_load) {\n      console.log(\"Bokeh: BokehJS failed to load within specified timeout.\");\n      root._bokeh_failed_load = true;\n    } else if (force !== true) {\n      var cell = $(document.getElementById(\"1107\")).parents('.cell').data().cell;\n      cell.output_area.append_execute_result(NB_LOAD_WARNING)\n    }\n\n  }\n\n  if (root._bokeh_is_loading === 0) {\n    console.debug(\"Bokeh: BokehJS loaded, going straight to plotting\");\n    run_inline_js();\n  } else {\n    load_libs(css_urls, js_urls, function() {\n      console.debug(\"Bokeh: BokehJS plotting callback run at\", now());\n      run_inline_js();\n    });\n  }\n}(window));"
     },
     "metadata": {},
     "output_type": "display_data"
    }
   ],
   "source": [
    "output_notebook()\n"
   ]
  },
  {
   "cell_type": "code",
   "execution_count": 9,
   "id": "0191f9cc",
   "metadata": {},
   "outputs": [
    {
     "name": "stdout",
     "output_type": "stream",
     "text": [
      "Using data directory: /Users/brendan/.bokeh/data\n",
      "Skipping 'CGM.csv' (checksum match)\n",
      "Skipping 'US_Counties.zip' (checksum match)\n",
      "Skipping 'us_cities.json' (checksum match)\n",
      "Skipping 'unemployment09.csv' (checksum match)\n",
      "Skipping 'AAPL.csv' (checksum match)\n",
      "Skipping 'FB.csv' (checksum match)\n",
      "Skipping 'GOOG.csv' (checksum match)\n",
      "Skipping 'IBM.csv' (checksum match)\n",
      "Skipping 'MSFT.csv' (checksum match)\n",
      "Skipping 'WPP2012_SA_DB03_POPULATION_QUINQUENNIAL.zip' (checksum match)\n",
      "Skipping 'gapminder_fertility.csv' (checksum match)\n",
      "Skipping 'gapminder_population.csv' (checksum match)\n",
      "Skipping 'gapminder_life_expectancy.csv' (checksum match)\n",
      "Skipping 'gapminder_regions.csv' (checksum match)\n",
      "Skipping 'world_cities.zip' (checksum match)\n",
      "Skipping 'airports.json' (checksum match)\n",
      "Skipping 'movies.db.zip' (checksum match)\n",
      "Skipping 'airports.csv' (checksum match)\n",
      "Skipping 'routes.csv' (checksum match)\n",
      "Skipping 'haarcascade_frontalface_default.xml' (checksum match)\n"
     ]
    }
   ],
   "source": [
    "import bokeh.sampledata\n",
    "bokeh.sampledata.download()"
   ]
  },
  {
   "cell_type": "code",
   "execution_count": 10,
   "id": "ea1eea98",
   "metadata": {},
   "outputs": [
    {
     "data": {
      "text/html": [
       "\n",
       "\n",
       "\n",
       "\n",
       "\n",
       "\n",
       "  <div class=\"bk-root\" id=\"eb0501cd-3fc0-4ae7-89fe-a025b04f4de3\" data-root-id=\"1108\"></div>\n"
      ]
     },
     "metadata": {},
     "output_type": "display_data"
    },
    {
     "data": {
      "application/javascript": [
       "(function(root) {\n",
       "  function embed_document(root) {\n",
       "    \n",
       "  var docs_json = {\"d31ce6ba-9899-4881-8b09-0641c3e78b8a\":{\"defs\":[],\"roots\":{\"references\":[{\"attributes\":{\"below\":[{\"id\":\"1117\"}],\"center\":[{\"id\":\"1120\"},{\"id\":\"1124\"}],\"height\":400,\"left\":[{\"id\":\"1121\"}],\"renderers\":[{\"id\":\"1142\"}],\"title\":{\"id\":\"1156\"},\"toolbar\":{\"id\":\"1132\"},\"width\":400,\"x_range\":{\"id\":\"1109\"},\"x_scale\":{\"id\":\"1113\"},\"y_range\":{\"id\":\"1111\"},\"y_scale\":{\"id\":\"1115\"}},\"id\":\"1108\",\"subtype\":\"Figure\",\"type\":\"Plot\"},{\"attributes\":{},\"id\":\"1160\",\"type\":\"AllLabels\"},{\"attributes\":{},\"id\":\"1161\",\"type\":\"BasicTickFormatter\"},{\"attributes\":{},\"id\":\"1109\",\"type\":\"DataRange1d\"},{\"attributes\":{},\"id\":\"1156\",\"type\":\"Title\"},{\"attributes\":{},\"id\":\"1111\",\"type\":\"DataRange1d\"},{\"attributes\":{\"source\":{\"id\":\"1139\"}},\"id\":\"1143\",\"type\":\"CDSView\"},{\"attributes\":{\"bottom_units\":\"screen\",\"fill_alpha\":0.5,\"fill_color\":\"lightgrey\",\"left_units\":\"screen\",\"level\":\"overlay\",\"line_alpha\":1.0,\"line_color\":\"black\",\"line_dash\":[4,4],\"line_width\":2,\"right_units\":\"screen\",\"syncable\":false,\"top_units\":\"screen\"},\"id\":\"1131\",\"type\":\"BoxAnnotation\"},{\"attributes\":{},\"id\":\"1113\",\"type\":\"LinearScale\"},{\"attributes\":{\"formatter\":{\"id\":\"1161\"},\"major_label_policy\":{\"id\":\"1160\"},\"ticker\":{\"id\":\"1118\"}},\"id\":\"1117\",\"type\":\"LinearAxis\"},{\"attributes\":{\"formatter\":{\"id\":\"1158\"},\"major_label_policy\":{\"id\":\"1157\"},\"ticker\":{\"id\":\"1122\"}},\"id\":\"1121\",\"type\":\"LinearAxis\"},{\"attributes\":{},\"id\":\"1115\",\"type\":\"LinearScale\"},{\"attributes\":{},\"id\":\"1130\",\"type\":\"HelpTool\"},{\"attributes\":{},\"id\":\"1118\",\"type\":\"BasicTicker\"},{\"attributes\":{\"axis\":{\"id\":\"1117\"},\"ticker\":null},\"id\":\"1120\",\"type\":\"Grid\"},{\"attributes\":{},\"id\":\"1165\",\"type\":\"UnionRenderers\"},{\"attributes\":{\"axis\":{\"id\":\"1121\"},\"dimension\":1,\"ticker\":null},\"id\":\"1124\",\"type\":\"Grid\"},{\"attributes\":{},\"id\":\"1122\",\"type\":\"BasicTicker\"},{\"attributes\":{\"fill_alpha\":{\"value\":0.5},\"fill_color\":{\"value\":\"orange\"},\"line_color\":{\"value\":\"navy\"},\"size\":{\"value\":15},\"x\":{\"field\":\"x\"},\"y\":{\"field\":\"y\"}},\"id\":\"1140\",\"type\":\"Circle\"},{\"attributes\":{},\"id\":\"1158\",\"type\":\"BasicTickFormatter\"},{\"attributes\":{},\"id\":\"1126\",\"type\":\"WheelZoomTool\"},{\"attributes\":{\"active_multi\":null,\"tools\":[{\"id\":\"1125\"},{\"id\":\"1126\"},{\"id\":\"1127\"},{\"id\":\"1128\"},{\"id\":\"1129\"},{\"id\":\"1130\"}]},\"id\":\"1132\",\"type\":\"Toolbar\"},{\"attributes\":{},\"id\":\"1157\",\"type\":\"AllLabels\"},{\"attributes\":{},\"id\":\"1125\",\"type\":\"PanTool\"},{\"attributes\":{\"overlay\":{\"id\":\"1131\"}},\"id\":\"1127\",\"type\":\"BoxZoomTool\"},{\"attributes\":{},\"id\":\"1128\",\"type\":\"SaveTool\"},{\"attributes\":{},\"id\":\"1129\",\"type\":\"ResetTool\"},{\"attributes\":{\"data_source\":{\"id\":\"1139\"},\"glyph\":{\"id\":\"1140\"},\"hover_glyph\":null,\"muted_glyph\":null,\"nonselection_glyph\":{\"id\":\"1141\"},\"view\":{\"id\":\"1143\"}},\"id\":\"1142\",\"type\":\"GlyphRenderer\"},{\"attributes\":{},\"id\":\"1164\",\"type\":\"Selection\"},{\"attributes\":{\"fill_alpha\":{\"value\":0.1},\"fill_color\":{\"value\":\"orange\"},\"line_alpha\":{\"value\":0.1},\"line_color\":{\"value\":\"navy\"},\"size\":{\"value\":15},\"x\":{\"field\":\"x\"},\"y\":{\"field\":\"y\"}},\"id\":\"1141\",\"type\":\"Circle\"},{\"attributes\":{\"data\":{\"x\":[1,2,3,4,5],\"y\":[6,7,2,4,5]},\"selected\":{\"id\":\"1164\"},\"selection_policy\":{\"id\":\"1165\"}},\"id\":\"1139\",\"type\":\"ColumnDataSource\"}],\"root_ids\":[\"1108\"]},\"title\":\"Bokeh Application\",\"version\":\"2.3.2\"}};\n",
       "  var render_items = [{\"docid\":\"d31ce6ba-9899-4881-8b09-0641c3e78b8a\",\"root_ids\":[\"1108\"],\"roots\":{\"1108\":\"eb0501cd-3fc0-4ae7-89fe-a025b04f4de3\"}}];\n",
       "  root.Bokeh.embed.embed_items_notebook(docs_json, render_items);\n",
       "\n",
       "  }\n",
       "  if (root.Bokeh !== undefined) {\n",
       "    embed_document(root);\n",
       "  } else {\n",
       "    let attempts = 0;\n",
       "    const timer = setInterval(function(root) {\n",
       "      if (root.Bokeh !== undefined) {\n",
       "        clearInterval(timer);\n",
       "        embed_document(root);\n",
       "      } else {\n",
       "        attempts++;\n",
       "        if (attempts > 100) {\n",
       "          clearInterval(timer);\n",
       "          console.log(\"Bokeh: ERROR: Unable to run BokehJS code because BokehJS library is missing\");\n",
       "        }\n",
       "      }\n",
       "    }, 10, root)\n",
       "  }\n",
       "})(window);"
      ],
      "application/vnd.bokehjs_exec.v0+json": ""
     },
     "metadata": {
      "application/vnd.bokehjs_exec.v0+json": {
       "id": "1108"
      }
     },
     "output_type": "display_data"
    }
   ],
   "source": [
    "# create a new plot with default tools, using figure\n",
    "p = figure(plot_width=400, plot_height=400)\n",
    "\n",
    "# add a circle renderer with x and ycoords\n",
    "p.circle([1,2,3,4,5], [6,7,2,4,5], size=15, line_color='navy', fill_color='orange', fill_alpha=0.5)\n",
    "show(p)"
   ]
  },
  {
   "cell_type": "code",
   "execution_count": 14,
   "id": "9333b65a",
   "metadata": {},
   "outputs": [
    {
     "data": {
      "text/html": [
       "\n",
       "\n",
       "\n",
       "\n",
       "\n",
       "\n",
       "  <div class=\"bk-root\" id=\"dea6b910-511c-4350-b0c3-c0572994654c\" data-root-id=\"1254\"></div>\n"
      ]
     },
     "metadata": {},
     "output_type": "display_data"
    },
    {
     "data": {
      "application/javascript": [
       "(function(root) {\n",
       "  function embed_document(root) {\n",
       "    \n",
       "  var docs_json = {\"b11b2177-a49f-4304-a497-9e4b98882be7\":{\"defs\":[],\"roots\":{\"references\":[{\"attributes\":{\"below\":[{\"id\":\"1263\"}],\"center\":[{\"id\":\"1266\"},{\"id\":\"1270\"}],\"height\":400,\"left\":[{\"id\":\"1267\"}],\"renderers\":[{\"id\":\"1288\"}],\"title\":{\"id\":\"1313\"},\"toolbar\":{\"id\":\"1278\"},\"width\":400,\"x_range\":{\"id\":\"1255\"},\"x_scale\":{\"id\":\"1259\"},\"y_range\":{\"id\":\"1257\"},\"y_scale\":{\"id\":\"1261\"}},\"id\":\"1254\",\"subtype\":\"Figure\",\"type\":\"Plot\"},{\"attributes\":{},\"id\":\"1318\",\"type\":\"BasicTickFormatter\"},{\"attributes\":{},\"id\":\"1317\",\"type\":\"AllLabels\"},{\"attributes\":{\"source\":{\"id\":\"1285\"}},\"id\":\"1289\",\"type\":\"CDSView\"},{\"attributes\":{},\"id\":\"1315\",\"type\":\"BasicTickFormatter\"},{\"attributes\":{},\"id\":\"1272\",\"type\":\"WheelZoomTool\"},{\"attributes\":{\"data\":{\"size\":[10,15,20,25,30],\"x\":[1,2,3,4,5],\"y\":[6,7,2,4,5]},\"selected\":{\"id\":\"1321\"},\"selection_policy\":{\"id\":\"1322\"}},\"id\":\"1285\",\"type\":\"ColumnDataSource\"},{\"attributes\":{},\"id\":\"1321\",\"type\":\"Selection\"},{\"attributes\":{\"fill_alpha\":{\"value\":0.1},\"fill_color\":{\"value\":\"firebrick\"},\"line_alpha\":{\"value\":0.1},\"line_color\":{\"value\":\"firebrick\"},\"marker\":{\"value\":\"square\"},\"size\":{\"field\":\"size\"},\"x\":{\"field\":\"x\"},\"y\":{\"field\":\"y\"}},\"id\":\"1287\",\"type\":\"Scatter\"},{\"attributes\":{},\"id\":\"1322\",\"type\":\"UnionRenderers\"},{\"attributes\":{},\"id\":\"1255\",\"type\":\"DataRange1d\"},{\"attributes\":{},\"id\":\"1257\",\"type\":\"DataRange1d\"},{\"attributes\":{\"formatter\":{\"id\":\"1315\"},\"major_label_policy\":{\"id\":\"1314\"},\"ticker\":{\"id\":\"1268\"}},\"id\":\"1267\",\"type\":\"LinearAxis\"},{\"attributes\":{\"overlay\":{\"id\":\"1277\"}},\"id\":\"1273\",\"type\":\"BoxZoomTool\"},{\"attributes\":{\"formatter\":{\"id\":\"1318\"},\"major_label_policy\":{\"id\":\"1317\"},\"ticker\":{\"id\":\"1264\"}},\"id\":\"1263\",\"type\":\"LinearAxis\"},{\"attributes\":{},\"id\":\"1261\",\"type\":\"LinearScale\"},{\"attributes\":{},\"id\":\"1259\",\"type\":\"LinearScale\"},{\"attributes\":{\"bottom_units\":\"screen\",\"fill_alpha\":0.5,\"fill_color\":\"lightgrey\",\"left_units\":\"screen\",\"level\":\"overlay\",\"line_alpha\":1.0,\"line_color\":\"black\",\"line_dash\":[4,4],\"line_width\":2,\"right_units\":\"screen\",\"syncable\":false,\"top_units\":\"screen\"},\"id\":\"1277\",\"type\":\"BoxAnnotation\"},{\"attributes\":{},\"id\":\"1274\",\"type\":\"SaveTool\"},{\"attributes\":{},\"id\":\"1264\",\"type\":\"BasicTicker\"},{\"attributes\":{\"axis\":{\"id\":\"1263\"},\"ticker\":null},\"id\":\"1266\",\"type\":\"Grid\"},{\"attributes\":{\"fill_alpha\":{\"value\":0.6},\"fill_color\":{\"value\":\"firebrick\"},\"line_alpha\":{\"value\":0.6},\"line_color\":{\"value\":\"firebrick\"},\"marker\":{\"value\":\"square\"},\"size\":{\"field\":\"size\"},\"x\":{\"field\":\"x\"},\"y\":{\"field\":\"y\"}},\"id\":\"1286\",\"type\":\"Scatter\"},{\"attributes\":{\"data_source\":{\"id\":\"1285\"},\"glyph\":{\"id\":\"1286\"},\"hover_glyph\":null,\"muted_glyph\":null,\"nonselection_glyph\":{\"id\":\"1287\"},\"view\":{\"id\":\"1289\"}},\"id\":\"1288\",\"type\":\"GlyphRenderer\"},{\"attributes\":{\"axis\":{\"id\":\"1267\"},\"dimension\":1,\"ticker\":null},\"id\":\"1270\",\"type\":\"Grid\"},{\"attributes\":{},\"id\":\"1271\",\"type\":\"PanTool\"},{\"attributes\":{},\"id\":\"1268\",\"type\":\"BasicTicker\"},{\"attributes\":{},\"id\":\"1313\",\"type\":\"Title\"},{\"attributes\":{},\"id\":\"1276\",\"type\":\"HelpTool\"},{\"attributes\":{\"active_multi\":null,\"tools\":[{\"id\":\"1271\"},{\"id\":\"1272\"},{\"id\":\"1273\"},{\"id\":\"1274\"},{\"id\":\"1275\"},{\"id\":\"1276\"}]},\"id\":\"1278\",\"type\":\"Toolbar\"},{\"attributes\":{},\"id\":\"1275\",\"type\":\"ResetTool\"},{\"attributes\":{},\"id\":\"1314\",\"type\":\"AllLabels\"}],\"root_ids\":[\"1254\"]},\"title\":\"Bokeh Application\",\"version\":\"2.3.2\"}};\n",
       "  var render_items = [{\"docid\":\"b11b2177-a49f-4304-a497-9e4b98882be7\",\"root_ids\":[\"1254\"],\"roots\":{\"1254\":\"dea6b910-511c-4350-b0c3-c0572994654c\"}}];\n",
       "  root.Bokeh.embed.embed_items_notebook(docs_json, render_items);\n",
       "\n",
       "  }\n",
       "  if (root.Bokeh !== undefined) {\n",
       "    embed_document(root);\n",
       "  } else {\n",
       "    let attempts = 0;\n",
       "    const timer = setInterval(function(root) {\n",
       "      if (root.Bokeh !== undefined) {\n",
       "        clearInterval(timer);\n",
       "        embed_document(root);\n",
       "      } else {\n",
       "        attempts++;\n",
       "        if (attempts > 100) {\n",
       "          clearInterval(timer);\n",
       "          console.log(\"Bokeh: ERROR: Unable to run BokehJS code because BokehJS library is missing\");\n",
       "        }\n",
       "      }\n",
       "    }, 10, root)\n",
       "  }\n",
       "})(window);"
      ],
      "application/vnd.bokehjs_exec.v0+json": ""
     },
     "metadata": {
      "application/vnd.bokehjs_exec.v0+json": {
       "id": "1254"
      }
     },
     "output_type": "display_data"
    }
   ],
   "source": [
    "# to add square markers\n",
    "p = figure(plot_width=400, plot_height=400)\n",
    "\n",
    "p.square([1,2,3,4,5], [6,7,2,4,5], size=[10,15,20,25,30], color='firebrick',alpha=0.6)\n",
    "show(p)"
   ]
  },
  {
   "cell_type": "code",
   "execution_count": 16,
   "id": "b59f1498",
   "metadata": {},
   "outputs": [
    {
     "data": {
      "text/html": [
       "\n",
       "\n",
       "\n",
       "\n",
       "\n",
       "\n",
       "  <div class=\"bk-root\" id=\"acf56882-6bcf-4b27-9dca-c5341cb45dd3\" data-root-id=\"1409\"></div>\n"
      ]
     },
     "metadata": {},
     "output_type": "display_data"
    },
    {
     "data": {
      "application/javascript": [
       "(function(root) {\n",
       "  function embed_document(root) {\n",
       "    \n",
       "  var docs_json = {\"f2cf5416-394e-4d31-9d14-40b38b36e497\":{\"defs\":[],\"roots\":{\"references\":[{\"attributes\":{\"below\":[{\"id\":\"1418\"}],\"center\":[{\"id\":\"1421\"},{\"id\":\"1425\"}],\"height\":400,\"left\":[{\"id\":\"1422\"}],\"renderers\":[{\"id\":\"1443\"}],\"title\":{\"id\":\"1479\"},\"toolbar\":{\"id\":\"1433\"},\"width\":400,\"x_range\":{\"id\":\"1410\"},\"x_scale\":{\"id\":\"1414\"},\"y_range\":{\"id\":\"1412\"},\"y_scale\":{\"id\":\"1416\"}},\"id\":\"1409\",\"subtype\":\"Figure\",\"type\":\"Plot\"},{\"attributes\":{},\"id\":\"1416\",\"type\":\"LinearScale\"},{\"attributes\":{},\"id\":\"1487\",\"type\":\"Selection\"},{\"attributes\":{\"data\":{\"size\":[10,15,20,25,30],\"x\":[1,2,3,4,5],\"y\":[6,7,2,4,5]},\"selected\":{\"id\":\"1487\"},\"selection_policy\":{\"id\":\"1488\"}},\"id\":\"1440\",\"type\":\"ColumnDataSource\"},{\"attributes\":{},\"id\":\"1426\",\"type\":\"PanTool\"},{\"attributes\":{\"fill_alpha\":{\"value\":0.6},\"fill_color\":{\"value\":\"firebrick\"},\"line_alpha\":{\"value\":0.6},\"line_color\":{\"value\":\"firebrick\"},\"marker\":{\"value\":\"asterisk\"},\"size\":{\"field\":\"size\"},\"x\":{\"field\":\"x\"},\"y\":{\"field\":\"y\"}},\"id\":\"1441\",\"type\":\"Scatter\"},{\"attributes\":{\"fill_alpha\":{\"value\":0.1},\"fill_color\":{\"value\":\"firebrick\"},\"line_alpha\":{\"value\":0.1},\"line_color\":{\"value\":\"firebrick\"},\"marker\":{\"value\":\"asterisk\"},\"size\":{\"field\":\"size\"},\"x\":{\"field\":\"x\"},\"y\":{\"field\":\"y\"}},\"id\":\"1442\",\"type\":\"Scatter\"},{\"attributes\":{\"data_source\":{\"id\":\"1440\"},\"glyph\":{\"id\":\"1441\"},\"hover_glyph\":null,\"muted_glyph\":null,\"nonselection_glyph\":{\"id\":\"1442\"},\"view\":{\"id\":\"1444\"}},\"id\":\"1443\",\"type\":\"GlyphRenderer\"},{\"attributes\":{\"source\":{\"id\":\"1440\"}},\"id\":\"1444\",\"type\":\"CDSView\"},{\"attributes\":{},\"id\":\"1488\",\"type\":\"UnionRenderers\"},{\"attributes\":{},\"id\":\"1414\",\"type\":\"LinearScale\"},{\"attributes\":{},\"id\":\"1412\",\"type\":\"DataRange1d\"},{\"attributes\":{},\"id\":\"1479\",\"type\":\"Title\"},{\"attributes\":{\"bottom_units\":\"screen\",\"fill_alpha\":0.5,\"fill_color\":\"lightgrey\",\"left_units\":\"screen\",\"level\":\"overlay\",\"line_alpha\":1.0,\"line_color\":\"black\",\"line_dash\":[4,4],\"line_width\":2,\"right_units\":\"screen\",\"syncable\":false,\"top_units\":\"screen\"},\"id\":\"1432\",\"type\":\"BoxAnnotation\"},{\"attributes\":{},\"id\":\"1410\",\"type\":\"DataRange1d\"},{\"attributes\":{\"formatter\":{\"id\":\"1484\"},\"major_label_policy\":{\"id\":\"1483\"},\"ticker\":{\"id\":\"1419\"}},\"id\":\"1418\",\"type\":\"LinearAxis\"},{\"attributes\":{\"formatter\":{\"id\":\"1481\"},\"major_label_policy\":{\"id\":\"1480\"},\"ticker\":{\"id\":\"1423\"}},\"id\":\"1422\",\"type\":\"LinearAxis\"},{\"attributes\":{\"axis\":{\"id\":\"1418\"},\"ticker\":null},\"id\":\"1421\",\"type\":\"Grid\"},{\"attributes\":{},\"id\":\"1423\",\"type\":\"BasicTicker\"},{\"attributes\":{},\"id\":\"1430\",\"type\":\"ResetTool\"},{\"attributes\":{},\"id\":\"1484\",\"type\":\"BasicTickFormatter\"},{\"attributes\":{},\"id\":\"1427\",\"type\":\"WheelZoomTool\"},{\"attributes\":{},\"id\":\"1480\",\"type\":\"AllLabels\"},{\"attributes\":{\"axis\":{\"id\":\"1422\"},\"dimension\":1,\"ticker\":null},\"id\":\"1425\",\"type\":\"Grid\"},{\"attributes\":{\"overlay\":{\"id\":\"1432\"}},\"id\":\"1428\",\"type\":\"BoxZoomTool\"},{\"attributes\":{},\"id\":\"1481\",\"type\":\"BasicTickFormatter\"},{\"attributes\":{},\"id\":\"1429\",\"type\":\"SaveTool\"},{\"attributes\":{},\"id\":\"1419\",\"type\":\"BasicTicker\"},{\"attributes\":{\"active_multi\":null,\"tools\":[{\"id\":\"1426\"},{\"id\":\"1427\"},{\"id\":\"1428\"},{\"id\":\"1429\"},{\"id\":\"1430\"},{\"id\":\"1431\"}]},\"id\":\"1433\",\"type\":\"Toolbar\"},{\"attributes\":{},\"id\":\"1431\",\"type\":\"HelpTool\"},{\"attributes\":{},\"id\":\"1483\",\"type\":\"AllLabels\"}],\"root_ids\":[\"1409\"]},\"title\":\"Bokeh Application\",\"version\":\"2.3.2\"}};\n",
       "  var render_items = [{\"docid\":\"f2cf5416-394e-4d31-9d14-40b38b36e497\",\"root_ids\":[\"1409\"],\"roots\":{\"1409\":\"acf56882-6bcf-4b27-9dca-c5341cb45dd3\"}}];\n",
       "  root.Bokeh.embed.embed_items_notebook(docs_json, render_items);\n",
       "\n",
       "  }\n",
       "  if (root.Bokeh !== undefined) {\n",
       "    embed_document(root);\n",
       "  } else {\n",
       "    let attempts = 0;\n",
       "    const timer = setInterval(function(root) {\n",
       "      if (root.Bokeh !== undefined) {\n",
       "        clearInterval(timer);\n",
       "        embed_document(root);\n",
       "      } else {\n",
       "        attempts++;\n",
       "        if (attempts > 100) {\n",
       "          clearInterval(timer);\n",
       "          console.log(\"Bokeh: ERROR: Unable to run BokehJS code because BokehJS library is missing\");\n",
       "        }\n",
       "      }\n",
       "    }, 10, root)\n",
       "  }\n",
       "})(window);"
      ],
      "application/vnd.bokehjs_exec.v0+json": ""
     },
     "metadata": {
      "application/vnd.bokehjs_exec.v0+json": {
       "id": "1409"
      }
     },
     "output_type": "display_data"
    }
   ],
   "source": [
    "p = figure(plot_width=400, plot_height=400)\n",
    "\n",
    "p.asterisk([1,2,3,4,5], [6,7,2,4,5], size=[10,15,20,25,30], color='firebrick',alpha=0.6)\n",
    "show(p)"
   ]
  },
  {
   "cell_type": "code",
   "execution_count": 18,
   "id": "97850013",
   "metadata": {},
   "outputs": [
    {
     "data": {
      "text/html": [
       "\n",
       "\n",
       "\n",
       "\n",
       "\n",
       "\n",
       "  <div class=\"bk-root\" id=\"58609832-79b4-452b-9021-c4066741fbfc\" data-root-id=\"1575\"></div>\n"
      ]
     },
     "metadata": {},
     "output_type": "display_data"
    },
    {
     "data": {
      "application/javascript": [
       "(function(root) {\n",
       "  function embed_document(root) {\n",
       "    \n",
       "  var docs_json = {\"d1ede3db-3e2d-46b7-8213-c195375ebf7a\":{\"defs\":[],\"roots\":{\"references\":[{\"attributes\":{\"below\":[{\"id\":\"1584\"}],\"center\":[{\"id\":\"1587\"},{\"id\":\"1591\"}],\"height\":400,\"left\":[{\"id\":\"1588\"}],\"renderers\":[{\"id\":\"1609\"}],\"title\":{\"id\":\"1656\"},\"toolbar\":{\"id\":\"1599\"},\"width\":400,\"x_range\":{\"id\":\"1576\"},\"x_scale\":{\"id\":\"1580\"},\"y_range\":{\"id\":\"1578\"},\"y_scale\":{\"id\":\"1582\"}},\"id\":\"1575\",\"subtype\":\"Figure\",\"type\":\"Plot\"},{\"attributes\":{\"formatter\":{\"id\":\"1658\"},\"major_label_policy\":{\"id\":\"1657\"},\"ticker\":{\"id\":\"1589\"}},\"id\":\"1588\",\"type\":\"LinearAxis\"},{\"attributes\":{\"active_multi\":null,\"tools\":[{\"id\":\"1592\"},{\"id\":\"1593\"},{\"id\":\"1594\"},{\"id\":\"1595\"},{\"id\":\"1596\"},{\"id\":\"1597\"}]},\"id\":\"1599\",\"type\":\"Toolbar\"},{\"attributes\":{},\"id\":\"1580\",\"type\":\"LinearScale\"},{\"attributes\":{},\"id\":\"1657\",\"type\":\"AllLabels\"},{\"attributes\":{},\"id\":\"1656\",\"type\":\"Title\"},{\"attributes\":{\"bottom_units\":\"screen\",\"fill_alpha\":0.5,\"fill_color\":\"lightgrey\",\"left_units\":\"screen\",\"level\":\"overlay\",\"line_alpha\":1.0,\"line_color\":\"black\",\"line_dash\":[4,4],\"line_width\":2,\"right_units\":\"screen\",\"syncable\":false,\"top_units\":\"screen\"},\"id\":\"1598\",\"type\":\"BoxAnnotation\"},{\"attributes\":{},\"id\":\"1595\",\"type\":\"SaveTool\"},{\"attributes\":{},\"id\":\"1585\",\"type\":\"BasicTicker\"},{\"attributes\":{},\"id\":\"1592\",\"type\":\"PanTool\"},{\"attributes\":{},\"id\":\"1597\",\"type\":\"HelpTool\"},{\"attributes\":{},\"id\":\"1589\",\"type\":\"BasicTicker\"},{\"attributes\":{},\"id\":\"1582\",\"type\":\"LinearScale\"},{\"attributes\":{\"source\":{\"id\":\"1606\"}},\"id\":\"1610\",\"type\":\"CDSView\"},{\"attributes\":{},\"id\":\"1593\",\"type\":\"WheelZoomTool\"},{\"attributes\":{},\"id\":\"1658\",\"type\":\"BasicTickFormatter\"},{\"attributes\":{\"axis\":{\"id\":\"1588\"},\"dimension\":1,\"ticker\":null},\"id\":\"1591\",\"type\":\"Grid\"},{\"attributes\":{},\"id\":\"1665\",\"type\":\"UnionRenderers\"},{\"attributes\":{\"overlay\":{\"id\":\"1598\"}},\"id\":\"1594\",\"type\":\"BoxZoomTool\"},{\"attributes\":{},\"id\":\"1664\",\"type\":\"Selection\"},{\"attributes\":{},\"id\":\"1596\",\"type\":\"ResetTool\"},{\"attributes\":{},\"id\":\"1661\",\"type\":\"BasicTickFormatter\"},{\"attributes\":{\"fill_alpha\":{\"value\":0.1},\"fill_color\":{\"value\":\"firebrick\"},\"line_alpha\":{\"value\":0.1},\"line_color\":{\"value\":\"firebrick\"},\"marker\":{\"value\":\"circle_cross\"},\"size\":{\"field\":\"size\"},\"x\":{\"field\":\"x\"},\"y\":{\"field\":\"y\"}},\"id\":\"1608\",\"type\":\"Scatter\"},{\"attributes\":{},\"id\":\"1576\",\"type\":\"DataRange1d\"},{\"attributes\":{\"axis\":{\"id\":\"1584\"},\"ticker\":null},\"id\":\"1587\",\"type\":\"Grid\"},{\"attributes\":{},\"id\":\"1660\",\"type\":\"AllLabels\"},{\"attributes\":{},\"id\":\"1578\",\"type\":\"DataRange1d\"},{\"attributes\":{\"fill_alpha\":{\"value\":0.6},\"fill_color\":{\"value\":\"firebrick\"},\"line_alpha\":{\"value\":0.6},\"line_color\":{\"value\":\"firebrick\"},\"marker\":{\"value\":\"circle_cross\"},\"size\":{\"field\":\"size\"},\"x\":{\"field\":\"x\"},\"y\":{\"field\":\"y\"}},\"id\":\"1607\",\"type\":\"Scatter\"},{\"attributes\":{\"formatter\":{\"id\":\"1661\"},\"major_label_policy\":{\"id\":\"1660\"},\"ticker\":{\"id\":\"1585\"}},\"id\":\"1584\",\"type\":\"LinearAxis\"},{\"attributes\":{\"data\":{\"size\":[10,15,20,25,30],\"x\":[1,2,3,4,5],\"y\":[6,7,2,4,5]},\"selected\":{\"id\":\"1664\"},\"selection_policy\":{\"id\":\"1665\"}},\"id\":\"1606\",\"type\":\"ColumnDataSource\"},{\"attributes\":{\"data_source\":{\"id\":\"1606\"},\"glyph\":{\"id\":\"1607\"},\"hover_glyph\":null,\"muted_glyph\":null,\"nonselection_glyph\":{\"id\":\"1608\"},\"view\":{\"id\":\"1610\"}},\"id\":\"1609\",\"type\":\"GlyphRenderer\"}],\"root_ids\":[\"1575\"]},\"title\":\"Bokeh Application\",\"version\":\"2.3.2\"}};\n",
       "  var render_items = [{\"docid\":\"d1ede3db-3e2d-46b7-8213-c195375ebf7a\",\"root_ids\":[\"1575\"],\"roots\":{\"1575\":\"58609832-79b4-452b-9021-c4066741fbfc\"}}];\n",
       "  root.Bokeh.embed.embed_items_notebook(docs_json, render_items);\n",
       "\n",
       "  }\n",
       "  if (root.Bokeh !== undefined) {\n",
       "    embed_document(root);\n",
       "  } else {\n",
       "    let attempts = 0;\n",
       "    const timer = setInterval(function(root) {\n",
       "      if (root.Bokeh !== undefined) {\n",
       "        clearInterval(timer);\n",
       "        embed_document(root);\n",
       "      } else {\n",
       "        attempts++;\n",
       "        if (attempts > 100) {\n",
       "          clearInterval(timer);\n",
       "          console.log(\"Bokeh: ERROR: Unable to run BokehJS code because BokehJS library is missing\");\n",
       "        }\n",
       "      }\n",
       "    }, 10, root)\n",
       "  }\n",
       "})(window);"
      ],
      "application/vnd.bokehjs_exec.v0+json": ""
     },
     "metadata": {
      "application/vnd.bokehjs_exec.v0+json": {
       "id": "1575"
      }
     },
     "output_type": "display_data"
    }
   ],
   "source": [
    "p = figure(plot_width=400, plot_height=400)\n",
    "\n",
    "p.circle_cross([1,2,3,4,5], [6,7,2,4,5], size=[10,15,20,25,30], color='firebrick',alpha=0.6)\n",
    "show(p)"
   ]
  },
  {
   "cell_type": "code",
   "execution_count": 19,
   "id": "50a52dce",
   "metadata": {},
   "outputs": [
    {
     "data": {
      "text/html": [
       "\n",
       "\n",
       "\n",
       "\n",
       "\n",
       "\n",
       "  <div class=\"bk-root\" id=\"c307fca5-9be0-472f-b67a-08d57197b01b\" data-root-id=\"1721\"></div>\n"
      ]
     },
     "metadata": {},
     "output_type": "display_data"
    },
    {
     "data": {
      "application/javascript": [
       "(function(root) {\n",
       "  function embed_document(root) {\n",
       "    \n",
       "  var docs_json = {\"f62dbe1b-eb32-4086-87c3-21a92b47c7f0\":{\"defs\":[],\"roots\":{\"references\":[{\"attributes\":{\"below\":[{\"id\":\"1730\"}],\"center\":[{\"id\":\"1733\"},{\"id\":\"1737\"}],\"height\":400,\"left\":[{\"id\":\"1734\"}],\"renderers\":[{\"id\":\"1755\"}],\"title\":{\"id\":\"1813\"},\"toolbar\":{\"id\":\"1745\"},\"width\":400,\"x_range\":{\"id\":\"1722\"},\"x_scale\":{\"id\":\"1726\"},\"y_range\":{\"id\":\"1724\"},\"y_scale\":{\"id\":\"1728\"}},\"id\":\"1721\",\"subtype\":\"Figure\",\"type\":\"Plot\"},{\"attributes\":{},\"id\":\"1722\",\"type\":\"DataRange1d\"},{\"attributes\":{},\"id\":\"1742\",\"type\":\"ResetTool\"},{\"attributes\":{},\"id\":\"1741\",\"type\":\"SaveTool\"},{\"attributes\":{\"axis\":{\"id\":\"1730\"},\"ticker\":null},\"id\":\"1733\",\"type\":\"Grid\"},{\"attributes\":{},\"id\":\"1724\",\"type\":\"DataRange1d\"},{\"attributes\":{},\"id\":\"1814\",\"type\":\"AllLabels\"},{\"attributes\":{},\"id\":\"1739\",\"type\":\"WheelZoomTool\"},{\"attributes\":{\"source\":{\"id\":\"1752\"}},\"id\":\"1756\",\"type\":\"CDSView\"},{\"attributes\":{},\"id\":\"1735\",\"type\":\"BasicTicker\"},{\"attributes\":{},\"id\":\"1817\",\"type\":\"AllLabels\"},{\"attributes\":{},\"id\":\"1815\",\"type\":\"BasicTickFormatter\"},{\"attributes\":{\"active_multi\":null,\"tools\":[{\"id\":\"1738\"},{\"id\":\"1739\"},{\"id\":\"1740\"},{\"id\":\"1741\"},{\"id\":\"1742\"},{\"id\":\"1743\"}]},\"id\":\"1745\",\"type\":\"Toolbar\"},{\"attributes\":{\"fill_alpha\":{\"value\":0.1},\"fill_color\":{\"value\":\"firebrick\"},\"line_alpha\":{\"value\":0.1},\"line_color\":{\"value\":\"firebrick\"},\"marker\":{\"value\":\"circle_x\"},\"size\":{\"field\":\"size\"},\"x\":{\"field\":\"x\"},\"y\":{\"field\":\"y\"}},\"id\":\"1754\",\"type\":\"Scatter\"},{\"attributes\":{},\"id\":\"1738\",\"type\":\"PanTool\"},{\"attributes\":{\"bottom_units\":\"screen\",\"fill_alpha\":0.5,\"fill_color\":\"lightgrey\",\"left_units\":\"screen\",\"level\":\"overlay\",\"line_alpha\":1.0,\"line_color\":\"black\",\"line_dash\":[4,4],\"line_width\":2,\"right_units\":\"screen\",\"syncable\":false,\"top_units\":\"screen\"},\"id\":\"1744\",\"type\":\"BoxAnnotation\"},{\"attributes\":{\"formatter\":{\"id\":\"1818\"},\"major_label_policy\":{\"id\":\"1817\"},\"ticker\":{\"id\":\"1731\"}},\"id\":\"1730\",\"type\":\"LinearAxis\"},{\"attributes\":{\"axis\":{\"id\":\"1734\"},\"dimension\":1,\"ticker\":null},\"id\":\"1737\",\"type\":\"Grid\"},{\"attributes\":{\"data\":{\"size\":[10,15,20,25,30],\"x\":[1,2,3,4,5],\"y\":[6,7,2,4,5]},\"selected\":{\"id\":\"1821\"},\"selection_policy\":{\"id\":\"1822\"}},\"id\":\"1752\",\"type\":\"ColumnDataSource\"},{\"attributes\":{},\"id\":\"1726\",\"type\":\"LinearScale\"},{\"attributes\":{},\"id\":\"1728\",\"type\":\"LinearScale\"},{\"attributes\":{},\"id\":\"1818\",\"type\":\"BasicTickFormatter\"},{\"attributes\":{},\"id\":\"1813\",\"type\":\"Title\"},{\"attributes\":{\"data_source\":{\"id\":\"1752\"},\"glyph\":{\"id\":\"1753\"},\"hover_glyph\":null,\"muted_glyph\":null,\"nonselection_glyph\":{\"id\":\"1754\"},\"view\":{\"id\":\"1756\"}},\"id\":\"1755\",\"type\":\"GlyphRenderer\"},{\"attributes\":{},\"id\":\"1821\",\"type\":\"Selection\"},{\"attributes\":{},\"id\":\"1822\",\"type\":\"UnionRenderers\"},{\"attributes\":{},\"id\":\"1743\",\"type\":\"HelpTool\"},{\"attributes\":{\"overlay\":{\"id\":\"1744\"}},\"id\":\"1740\",\"type\":\"BoxZoomTool\"},{\"attributes\":{},\"id\":\"1731\",\"type\":\"BasicTicker\"},{\"attributes\":{\"formatter\":{\"id\":\"1815\"},\"major_label_policy\":{\"id\":\"1814\"},\"ticker\":{\"id\":\"1735\"}},\"id\":\"1734\",\"type\":\"LinearAxis\"},{\"attributes\":{\"fill_alpha\":{\"value\":0.6},\"fill_color\":{\"value\":\"firebrick\"},\"line_alpha\":{\"value\":0.6},\"line_color\":{\"value\":\"firebrick\"},\"marker\":{\"value\":\"circle_x\"},\"size\":{\"field\":\"size\"},\"x\":{\"field\":\"x\"},\"y\":{\"field\":\"y\"}},\"id\":\"1753\",\"type\":\"Scatter\"}],\"root_ids\":[\"1721\"]},\"title\":\"Bokeh Application\",\"version\":\"2.3.2\"}};\n",
       "  var render_items = [{\"docid\":\"f62dbe1b-eb32-4086-87c3-21a92b47c7f0\",\"root_ids\":[\"1721\"],\"roots\":{\"1721\":\"c307fca5-9be0-472f-b67a-08d57197b01b\"}}];\n",
       "  root.Bokeh.embed.embed_items_notebook(docs_json, render_items);\n",
       "\n",
       "  }\n",
       "  if (root.Bokeh !== undefined) {\n",
       "    embed_document(root);\n",
       "  } else {\n",
       "    let attempts = 0;\n",
       "    const timer = setInterval(function(root) {\n",
       "      if (root.Bokeh !== undefined) {\n",
       "        clearInterval(timer);\n",
       "        embed_document(root);\n",
       "      } else {\n",
       "        attempts++;\n",
       "        if (attempts > 100) {\n",
       "          clearInterval(timer);\n",
       "          console.log(\"Bokeh: ERROR: Unable to run BokehJS code because BokehJS library is missing\");\n",
       "        }\n",
       "      }\n",
       "    }, 10, root)\n",
       "  }\n",
       "})(window);"
      ],
      "application/vnd.bokehjs_exec.v0+json": ""
     },
     "metadata": {
      "application/vnd.bokehjs_exec.v0+json": {
       "id": "1721"
      }
     },
     "output_type": "display_data"
    }
   ],
   "source": [
    "p = figure(plot_width=400, plot_height=400)\n",
    "\n",
    "p.circle_x([1,2,3,4,5], [6,7,2,4,5], size=[10,15,20,25,30], color='firebrick',alpha=0.6)\n",
    "show(p)"
   ]
  },
  {
   "cell_type": "code",
   "execution_count": 20,
   "id": "b799e076",
   "metadata": {},
   "outputs": [
    {
     "data": {
      "text/html": [
       "\n",
       "\n",
       "\n",
       "\n",
       "\n",
       "\n",
       "  <div class=\"bk-root\" id=\"d4a6ec81-2cb6-4b77-9292-c15bd22f5eb0\" data-root-id=\"1878\"></div>\n"
      ]
     },
     "metadata": {},
     "output_type": "display_data"
    },
    {
     "data": {
      "application/javascript": [
       "(function(root) {\n",
       "  function embed_document(root) {\n",
       "    \n",
       "  var docs_json = {\"933b77db-2ced-4057-9310-f76e9e64e7a1\":{\"defs\":[],\"roots\":{\"references\":[{\"attributes\":{\"below\":[{\"id\":\"1887\"}],\"center\":[{\"id\":\"1890\"},{\"id\":\"1894\"}],\"height\":400,\"left\":[{\"id\":\"1891\"}],\"renderers\":[{\"id\":\"1912\"}],\"title\":{\"id\":\"1981\"},\"toolbar\":{\"id\":\"1902\"},\"width\":400,\"x_range\":{\"id\":\"1879\"},\"x_scale\":{\"id\":\"1883\"},\"y_range\":{\"id\":\"1881\"},\"y_scale\":{\"id\":\"1885\"}},\"id\":\"1878\",\"subtype\":\"Figure\",\"type\":\"Plot\"},{\"attributes\":{\"formatter\":{\"id\":\"1983\"},\"major_label_policy\":{\"id\":\"1982\"},\"ticker\":{\"id\":\"1892\"}},\"id\":\"1891\",\"type\":\"LinearAxis\"},{\"attributes\":{},\"id\":\"1981\",\"type\":\"Title\"},{\"attributes\":{},\"id\":\"1892\",\"type\":\"BasicTicker\"},{\"attributes\":{},\"id\":\"1881\",\"type\":\"DataRange1d\"},{\"attributes\":{},\"id\":\"1982\",\"type\":\"AllLabels\"},{\"attributes\":{},\"id\":\"1990\",\"type\":\"UnionRenderers\"},{\"attributes\":{},\"id\":\"1879\",\"type\":\"DataRange1d\"},{\"attributes\":{},\"id\":\"1895\",\"type\":\"PanTool\"},{\"attributes\":{\"data\":{\"size\":[10,15,20,25,30],\"x\":[1,2,3,4,5],\"y\":[6,7,2,4,5]},\"selected\":{\"id\":\"1989\"},\"selection_policy\":{\"id\":\"1990\"}},\"id\":\"1909\",\"type\":\"ColumnDataSource\"},{\"attributes\":{\"axis\":{\"id\":\"1887\"},\"ticker\":null},\"id\":\"1890\",\"type\":\"Grid\"},{\"attributes\":{\"data_source\":{\"id\":\"1909\"},\"glyph\":{\"id\":\"1910\"},\"hover_glyph\":null,\"muted_glyph\":null,\"nonselection_glyph\":{\"id\":\"1911\"},\"view\":{\"id\":\"1913\"}},\"id\":\"1912\",\"type\":\"GlyphRenderer\"},{\"attributes\":{},\"id\":\"1885\",\"type\":\"LinearScale\"},{\"attributes\":{},\"id\":\"1986\",\"type\":\"BasicTickFormatter\"},{\"attributes\":{},\"id\":\"1989\",\"type\":\"Selection\"},{\"attributes\":{},\"id\":\"1899\",\"type\":\"ResetTool\"},{\"attributes\":{\"overlay\":{\"id\":\"1901\"}},\"id\":\"1897\",\"type\":\"BoxZoomTool\"},{\"attributes\":{\"bottom_units\":\"screen\",\"fill_alpha\":0.5,\"fill_color\":\"lightgrey\",\"left_units\":\"screen\",\"level\":\"overlay\",\"line_alpha\":1.0,\"line_color\":\"black\",\"line_dash\":[4,4],\"line_width\":2,\"right_units\":\"screen\",\"syncable\":false,\"top_units\":\"screen\"},\"id\":\"1901\",\"type\":\"BoxAnnotation\"},{\"attributes\":{},\"id\":\"1898\",\"type\":\"SaveTool\"},{\"attributes\":{},\"id\":\"1900\",\"type\":\"HelpTool\"},{\"attributes\":{\"source\":{\"id\":\"1909\"}},\"id\":\"1913\",\"type\":\"CDSView\"},{\"attributes\":{},\"id\":\"1985\",\"type\":\"AllLabels\"},{\"attributes\":{},\"id\":\"1896\",\"type\":\"WheelZoomTool\"},{\"attributes\":{\"fill_alpha\":{\"value\":0.6},\"fill_color\":{\"value\":\"firebrick\"},\"line_alpha\":{\"value\":0.6},\"line_color\":{\"value\":\"firebrick\"},\"marker\":{\"value\":\"cross\"},\"size\":{\"field\":\"size\"},\"x\":{\"field\":\"x\"},\"y\":{\"field\":\"y\"}},\"id\":\"1910\",\"type\":\"Scatter\"},{\"attributes\":{\"fill_alpha\":{\"value\":0.1},\"fill_color\":{\"value\":\"firebrick\"},\"line_alpha\":{\"value\":0.1},\"line_color\":{\"value\":\"firebrick\"},\"marker\":{\"value\":\"cross\"},\"size\":{\"field\":\"size\"},\"x\":{\"field\":\"x\"},\"y\":{\"field\":\"y\"}},\"id\":\"1911\",\"type\":\"Scatter\"},{\"attributes\":{},\"id\":\"1983\",\"type\":\"BasicTickFormatter\"},{\"attributes\":{},\"id\":\"1883\",\"type\":\"LinearScale\"},{\"attributes\":{\"active_multi\":null,\"tools\":[{\"id\":\"1895\"},{\"id\":\"1896\"},{\"id\":\"1897\"},{\"id\":\"1898\"},{\"id\":\"1899\"},{\"id\":\"1900\"}]},\"id\":\"1902\",\"type\":\"Toolbar\"},{\"attributes\":{},\"id\":\"1888\",\"type\":\"BasicTicker\"},{\"attributes\":{\"formatter\":{\"id\":\"1986\"},\"major_label_policy\":{\"id\":\"1985\"},\"ticker\":{\"id\":\"1888\"}},\"id\":\"1887\",\"type\":\"LinearAxis\"},{\"attributes\":{\"axis\":{\"id\":\"1891\"},\"dimension\":1,\"ticker\":null},\"id\":\"1894\",\"type\":\"Grid\"}],\"root_ids\":[\"1878\"]},\"title\":\"Bokeh Application\",\"version\":\"2.3.2\"}};\n",
       "  var render_items = [{\"docid\":\"933b77db-2ced-4057-9310-f76e9e64e7a1\",\"root_ids\":[\"1878\"],\"roots\":{\"1878\":\"d4a6ec81-2cb6-4b77-9292-c15bd22f5eb0\"}}];\n",
       "  root.Bokeh.embed.embed_items_notebook(docs_json, render_items);\n",
       "\n",
       "  }\n",
       "  if (root.Bokeh !== undefined) {\n",
       "    embed_document(root);\n",
       "  } else {\n",
       "    let attempts = 0;\n",
       "    const timer = setInterval(function(root) {\n",
       "      if (root.Bokeh !== undefined) {\n",
       "        clearInterval(timer);\n",
       "        embed_document(root);\n",
       "      } else {\n",
       "        attempts++;\n",
       "        if (attempts > 100) {\n",
       "          clearInterval(timer);\n",
       "          console.log(\"Bokeh: ERROR: Unable to run BokehJS code because BokehJS library is missing\");\n",
       "        }\n",
       "      }\n",
       "    }, 10, root)\n",
       "  }\n",
       "})(window);"
      ],
      "application/vnd.bokehjs_exec.v0+json": ""
     },
     "metadata": {
      "application/vnd.bokehjs_exec.v0+json": {
       "id": "1878"
      }
     },
     "output_type": "display_data"
    }
   ],
   "source": [
    "p = figure(plot_width=400, plot_height=400)\n",
    "\n",
    "p.cross([1,2,3,4,5], [6,7,2,4,5], size=[10,15,20,25,30], color='firebrick',alpha=0.6)\n",
    "show(p)"
   ]
  },
  {
   "cell_type": "code",
   "execution_count": 21,
   "id": "84fa9a1a",
   "metadata": {},
   "outputs": [
    {
     "data": {
      "text/html": [
       "\n",
       "\n",
       "\n",
       "\n",
       "\n",
       "\n",
       "  <div class=\"bk-root\" id=\"e41cfc94-5fff-485b-a28c-58bd27880200\" data-root-id=\"2046\"></div>\n"
      ]
     },
     "metadata": {},
     "output_type": "display_data"
    },
    {
     "data": {
      "application/javascript": [
       "(function(root) {\n",
       "  function embed_document(root) {\n",
       "    \n",
       "  var docs_json = {\"6cdb7cc6-04a5-4280-aa7c-9cc7d3f27289\":{\"defs\":[],\"roots\":{\"references\":[{\"attributes\":{\"below\":[{\"id\":\"2055\"}],\"center\":[{\"id\":\"2058\"},{\"id\":\"2062\"}],\"height\":400,\"left\":[{\"id\":\"2059\"}],\"renderers\":[{\"id\":\"2080\"}],\"title\":{\"id\":\"2160\"},\"toolbar\":{\"id\":\"2070\"},\"width\":400,\"x_range\":{\"id\":\"2047\"},\"x_scale\":{\"id\":\"2051\"},\"y_range\":{\"id\":\"2049\"},\"y_scale\":{\"id\":\"2053\"}},\"id\":\"2046\",\"subtype\":\"Figure\",\"type\":\"Plot\"},{\"attributes\":{},\"id\":\"2047\",\"type\":\"DataRange1d\"},{\"attributes\":{},\"id\":\"2160\",\"type\":\"Title\"},{\"attributes\":{},\"id\":\"2051\",\"type\":\"LinearScale\"},{\"attributes\":{},\"id\":\"2161\",\"type\":\"AllLabels\"},{\"attributes\":{\"data_source\":{\"id\":\"2077\"},\"glyph\":{\"id\":\"2078\"},\"hover_glyph\":null,\"muted_glyph\":null,\"nonselection_glyph\":{\"id\":\"2079\"},\"view\":{\"id\":\"2081\"}},\"id\":\"2080\",\"type\":\"GlyphRenderer\"},{\"attributes\":{},\"id\":\"2162\",\"type\":\"BasicTickFormatter\"},{\"attributes\":{},\"id\":\"2164\",\"type\":\"AllLabels\"},{\"attributes\":{\"formatter\":{\"id\":\"2162\"},\"major_label_policy\":{\"id\":\"2161\"},\"ticker\":{\"id\":\"2060\"}},\"id\":\"2059\",\"type\":\"LinearAxis\"},{\"attributes\":{},\"id\":\"2056\",\"type\":\"BasicTicker\"},{\"attributes\":{},\"id\":\"2064\",\"type\":\"WheelZoomTool\"},{\"attributes\":{\"source\":{\"id\":\"2077\"}},\"id\":\"2081\",\"type\":\"CDSView\"},{\"attributes\":{},\"id\":\"2165\",\"type\":\"BasicTickFormatter\"},{\"attributes\":{},\"id\":\"2068\",\"type\":\"HelpTool\"},{\"attributes\":{},\"id\":\"2049\",\"type\":\"DataRange1d\"},{\"attributes\":{},\"id\":\"2066\",\"type\":\"SaveTool\"},{\"attributes\":{\"axis\":{\"id\":\"2055\"},\"ticker\":null},\"id\":\"2058\",\"type\":\"Grid\"},{\"attributes\":{\"overlay\":{\"id\":\"2069\"}},\"id\":\"2065\",\"type\":\"BoxZoomTool\"},{\"attributes\":{},\"id\":\"2067\",\"type\":\"ResetTool\"},{\"attributes\":{\"fill_alpha\":{\"value\":0.6},\"fill_color\":{\"value\":\"firebrick\"},\"line_alpha\":{\"value\":0.6},\"line_color\":{\"value\":\"firebrick\"},\"marker\":{\"value\":\"diamond\"},\"size\":{\"field\":\"size\"},\"x\":{\"field\":\"x\"},\"y\":{\"field\":\"y\"}},\"id\":\"2078\",\"type\":\"Scatter\"},{\"attributes\":{},\"id\":\"2053\",\"type\":\"LinearScale\"},{\"attributes\":{\"axis\":{\"id\":\"2059\"},\"dimension\":1,\"ticker\":null},\"id\":\"2062\",\"type\":\"Grid\"},{\"attributes\":{\"formatter\":{\"id\":\"2165\"},\"major_label_policy\":{\"id\":\"2164\"},\"ticker\":{\"id\":\"2056\"}},\"id\":\"2055\",\"type\":\"LinearAxis\"},{\"attributes\":{\"active_multi\":null,\"tools\":[{\"id\":\"2063\"},{\"id\":\"2064\"},{\"id\":\"2065\"},{\"id\":\"2066\"},{\"id\":\"2067\"},{\"id\":\"2068\"}]},\"id\":\"2070\",\"type\":\"Toolbar\"},{\"attributes\":{},\"id\":\"2060\",\"type\":\"BasicTicker\"},{\"attributes\":{\"data\":{\"size\":[10,15,20,25,30],\"x\":[1,2,3,4,5],\"y\":[6,7,2,4,5]},\"selected\":{\"id\":\"2168\"},\"selection_policy\":{\"id\":\"2169\"}},\"id\":\"2077\",\"type\":\"ColumnDataSource\"},{\"attributes\":{\"bottom_units\":\"screen\",\"fill_alpha\":0.5,\"fill_color\":\"lightgrey\",\"left_units\":\"screen\",\"level\":\"overlay\",\"line_alpha\":1.0,\"line_color\":\"black\",\"line_dash\":[4,4],\"line_width\":2,\"right_units\":\"screen\",\"syncable\":false,\"top_units\":\"screen\"},\"id\":\"2069\",\"type\":\"BoxAnnotation\"},{\"attributes\":{\"fill_alpha\":{\"value\":0.1},\"fill_color\":{\"value\":\"firebrick\"},\"line_alpha\":{\"value\":0.1},\"line_color\":{\"value\":\"firebrick\"},\"marker\":{\"value\":\"diamond\"},\"size\":{\"field\":\"size\"},\"x\":{\"field\":\"x\"},\"y\":{\"field\":\"y\"}},\"id\":\"2079\",\"type\":\"Scatter\"},{\"attributes\":{},\"id\":\"2063\",\"type\":\"PanTool\"},{\"attributes\":{},\"id\":\"2168\",\"type\":\"Selection\"},{\"attributes\":{},\"id\":\"2169\",\"type\":\"UnionRenderers\"}],\"root_ids\":[\"2046\"]},\"title\":\"Bokeh Application\",\"version\":\"2.3.2\"}};\n",
       "  var render_items = [{\"docid\":\"6cdb7cc6-04a5-4280-aa7c-9cc7d3f27289\",\"root_ids\":[\"2046\"],\"roots\":{\"2046\":\"e41cfc94-5fff-485b-a28c-58bd27880200\"}}];\n",
       "  root.Bokeh.embed.embed_items_notebook(docs_json, render_items);\n",
       "\n",
       "  }\n",
       "  if (root.Bokeh !== undefined) {\n",
       "    embed_document(root);\n",
       "  } else {\n",
       "    let attempts = 0;\n",
       "    const timer = setInterval(function(root) {\n",
       "      if (root.Bokeh !== undefined) {\n",
       "        clearInterval(timer);\n",
       "        embed_document(root);\n",
       "      } else {\n",
       "        attempts++;\n",
       "        if (attempts > 100) {\n",
       "          clearInterval(timer);\n",
       "          console.log(\"Bokeh: ERROR: Unable to run BokehJS code because BokehJS library is missing\");\n",
       "        }\n",
       "      }\n",
       "    }, 10, root)\n",
       "  }\n",
       "})(window);"
      ],
      "application/vnd.bokehjs_exec.v0+json": ""
     },
     "metadata": {
      "application/vnd.bokehjs_exec.v0+json": {
       "id": "2046"
      }
     },
     "output_type": "display_data"
    }
   ],
   "source": [
    "p = figure(plot_width=400, plot_height=400)\n",
    "\n",
    "p.diamond([1,2,3,4,5], [6,7,2,4,5], size=[10,15,20,25,30], color='firebrick',alpha=0.6)\n",
    "show(p)"
   ]
  },
  {
   "cell_type": "code",
   "execution_count": 22,
   "id": "8fff73f3",
   "metadata": {},
   "outputs": [
    {
     "data": {
      "text/html": [
       "\n",
       "\n",
       "\n",
       "\n",
       "\n",
       "\n",
       "  <div class=\"bk-root\" id=\"e20aa4a5-d38e-4735-bb41-c0a8c114e792\" data-root-id=\"2225\"></div>\n"
      ]
     },
     "metadata": {},
     "output_type": "display_data"
    },
    {
     "data": {
      "application/javascript": [
       "(function(root) {\n",
       "  function embed_document(root) {\n",
       "    \n",
       "  var docs_json = {\"ddf33ab1-6468-46da-a4a3-bb0c360c21a4\":{\"defs\":[],\"roots\":{\"references\":[{\"attributes\":{\"below\":[{\"id\":\"2234\"}],\"center\":[{\"id\":\"2237\"},{\"id\":\"2241\"}],\"height\":400,\"left\":[{\"id\":\"2238\"}],\"renderers\":[{\"id\":\"2259\"}],\"title\":{\"id\":\"2350\"},\"toolbar\":{\"id\":\"2249\"},\"width\":400,\"x_range\":{\"id\":\"2226\"},\"x_scale\":{\"id\":\"2230\"},\"y_range\":{\"id\":\"2228\"},\"y_scale\":{\"id\":\"2232\"}},\"id\":\"2225\",\"subtype\":\"Figure\",\"type\":\"Plot\"},{\"attributes\":{},\"id\":\"2358\",\"type\":\"Selection\"},{\"attributes\":{},\"id\":\"2235\",\"type\":\"BasicTicker\"},{\"attributes\":{},\"id\":\"2232\",\"type\":\"LinearScale\"},{\"attributes\":{},\"id\":\"2230\",\"type\":\"LinearScale\"},{\"attributes\":{},\"id\":\"2228\",\"type\":\"DataRange1d\"},{\"attributes\":{\"formatter\":{\"id\":\"2355\"},\"major_label_policy\":{\"id\":\"2354\"},\"ticker\":{\"id\":\"2235\"}},\"id\":\"2234\",\"type\":\"LinearAxis\"},{\"attributes\":{\"axis\":{\"id\":\"2238\"},\"dimension\":1,\"ticker\":null},\"id\":\"2241\",\"type\":\"Grid\"},{\"attributes\":{},\"id\":\"2355\",\"type\":\"BasicTickFormatter\"},{\"attributes\":{\"formatter\":{\"id\":\"2352\"},\"major_label_policy\":{\"id\":\"2351\"},\"ticker\":{\"id\":\"2239\"}},\"id\":\"2238\",\"type\":\"LinearAxis\"},{\"attributes\":{\"data\":{\"size\":[10,15,20,25,30],\"x\":[1,2,3,4,5],\"y\":[6,7,2,4,5]},\"selected\":{\"id\":\"2358\"},\"selection_policy\":{\"id\":\"2359\"}},\"id\":\"2256\",\"type\":\"ColumnDataSource\"},{\"attributes\":{},\"id\":\"2352\",\"type\":\"BasicTickFormatter\"},{\"attributes\":{\"axis\":{\"id\":\"2234\"},\"ticker\":null},\"id\":\"2237\",\"type\":\"Grid\"},{\"attributes\":{},\"id\":\"2243\",\"type\":\"WheelZoomTool\"},{\"attributes\":{},\"id\":\"2351\",\"type\":\"AllLabels\"},{\"attributes\":{\"bottom_units\":\"screen\",\"fill_alpha\":0.5,\"fill_color\":\"lightgrey\",\"left_units\":\"screen\",\"level\":\"overlay\",\"line_alpha\":1.0,\"line_color\":\"black\",\"line_dash\":[4,4],\"line_width\":2,\"right_units\":\"screen\",\"syncable\":false,\"top_units\":\"screen\"},\"id\":\"2248\",\"type\":\"BoxAnnotation\"},{\"attributes\":{},\"id\":\"2247\",\"type\":\"HelpTool\"},{\"attributes\":{\"overlay\":{\"id\":\"2248\"}},\"id\":\"2244\",\"type\":\"BoxZoomTool\"},{\"attributes\":{},\"id\":\"2226\",\"type\":\"DataRange1d\"},{\"attributes\":{},\"id\":\"2350\",\"type\":\"Title\"},{\"attributes\":{\"fill_alpha\":{\"value\":0.6},\"fill_color\":{\"value\":\"firebrick\"},\"line_alpha\":{\"value\":0.6},\"line_color\":{\"value\":\"firebrick\"},\"marker\":{\"value\":\"hex\"},\"size\":{\"field\":\"size\"},\"x\":{\"field\":\"x\"},\"y\":{\"field\":\"y\"}},\"id\":\"2257\",\"type\":\"Scatter\"},{\"attributes\":{},\"id\":\"2354\",\"type\":\"AllLabels\"},{\"attributes\":{\"source\":{\"id\":\"2256\"}},\"id\":\"2260\",\"type\":\"CDSView\"},{\"attributes\":{\"fill_alpha\":{\"value\":0.1},\"fill_color\":{\"value\":\"firebrick\"},\"line_alpha\":{\"value\":0.1},\"line_color\":{\"value\":\"firebrick\"},\"marker\":{\"value\":\"hex\"},\"size\":{\"field\":\"size\"},\"x\":{\"field\":\"x\"},\"y\":{\"field\":\"y\"}},\"id\":\"2258\",\"type\":\"Scatter\"},{\"attributes\":{},\"id\":\"2245\",\"type\":\"SaveTool\"},{\"attributes\":{},\"id\":\"2239\",\"type\":\"BasicTicker\"},{\"attributes\":{},\"id\":\"2242\",\"type\":\"PanTool\"},{\"attributes\":{\"data_source\":{\"id\":\"2256\"},\"glyph\":{\"id\":\"2257\"},\"hover_glyph\":null,\"muted_glyph\":null,\"nonselection_glyph\":{\"id\":\"2258\"},\"view\":{\"id\":\"2260\"}},\"id\":\"2259\",\"type\":\"GlyphRenderer\"},{\"attributes\":{},\"id\":\"2359\",\"type\":\"UnionRenderers\"},{\"attributes\":{},\"id\":\"2246\",\"type\":\"ResetTool\"},{\"attributes\":{\"active_multi\":null,\"tools\":[{\"id\":\"2242\"},{\"id\":\"2243\"},{\"id\":\"2244\"},{\"id\":\"2245\"},{\"id\":\"2246\"},{\"id\":\"2247\"}]},\"id\":\"2249\",\"type\":\"Toolbar\"}],\"root_ids\":[\"2225\"]},\"title\":\"Bokeh Application\",\"version\":\"2.3.2\"}};\n",
       "  var render_items = [{\"docid\":\"ddf33ab1-6468-46da-a4a3-bb0c360c21a4\",\"root_ids\":[\"2225\"],\"roots\":{\"2225\":\"e20aa4a5-d38e-4735-bb41-c0a8c114e792\"}}];\n",
       "  root.Bokeh.embed.embed_items_notebook(docs_json, render_items);\n",
       "\n",
       "  }\n",
       "  if (root.Bokeh !== undefined) {\n",
       "    embed_document(root);\n",
       "  } else {\n",
       "    let attempts = 0;\n",
       "    const timer = setInterval(function(root) {\n",
       "      if (root.Bokeh !== undefined) {\n",
       "        clearInterval(timer);\n",
       "        embed_document(root);\n",
       "      } else {\n",
       "        attempts++;\n",
       "        if (attempts > 100) {\n",
       "          clearInterval(timer);\n",
       "          console.log(\"Bokeh: ERROR: Unable to run BokehJS code because BokehJS library is missing\");\n",
       "        }\n",
       "      }\n",
       "    }, 10, root)\n",
       "  }\n",
       "})(window);"
      ],
      "application/vnd.bokehjs_exec.v0+json": ""
     },
     "metadata": {
      "application/vnd.bokehjs_exec.v0+json": {
       "id": "2225"
      }
     },
     "output_type": "display_data"
    }
   ],
   "source": [
    "p = figure(plot_width=400, plot_height=400)\n",
    "\n",
    "p.hex([1,2,3,4,5], [6,7,2,4,5], size=[10,15,20,25,30], color='firebrick',alpha=0.6)\n",
    "show(p)"
   ]
  },
  {
   "cell_type": "code",
   "execution_count": 23,
   "id": "3fdebfc8",
   "metadata": {},
   "outputs": [
    {
     "data": {
      "text/html": [
       "\n",
       "\n",
       "\n",
       "\n",
       "\n",
       "\n",
       "  <div class=\"bk-root\" id=\"a0be18d0-6277-47c2-8510-00afd534d876\" data-root-id=\"2415\"></div>\n"
      ]
     },
     "metadata": {},
     "output_type": "display_data"
    },
    {
     "data": {
      "application/javascript": [
       "(function(root) {\n",
       "  function embed_document(root) {\n",
       "    \n",
       "  var docs_json = {\"f1d7a063-cc79-4463-87d8-c71396b80654\":{\"defs\":[],\"roots\":{\"references\":[{\"attributes\":{\"below\":[{\"id\":\"2424\"}],\"center\":[{\"id\":\"2427\"},{\"id\":\"2431\"}],\"height\":400,\"left\":[{\"id\":\"2428\"}],\"renderers\":[{\"id\":\"2449\"}],\"title\":{\"id\":\"2551\"},\"toolbar\":{\"id\":\"2439\"},\"width\":400,\"x_range\":{\"id\":\"2416\"},\"x_scale\":{\"id\":\"2420\"},\"y_range\":{\"id\":\"2418\"},\"y_scale\":{\"id\":\"2422\"}},\"id\":\"2415\",\"subtype\":\"Figure\",\"type\":\"Plot\"},{\"attributes\":{},\"id\":\"2422\",\"type\":\"LinearScale\"},{\"attributes\":{},\"id\":\"2556\",\"type\":\"BasicTickFormatter\"},{\"attributes\":{\"overlay\":{\"id\":\"2438\"}},\"id\":\"2434\",\"type\":\"BoxZoomTool\"},{\"attributes\":{},\"id\":\"2420\",\"type\":\"LinearScale\"},{\"attributes\":{\"fill_alpha\":{\"value\":0.1},\"fill_color\":{\"value\":\"firebrick\"},\"line_alpha\":{\"value\":0.1},\"line_color\":{\"value\":\"firebrick\"},\"marker\":{\"value\":\"x\"},\"size\":{\"field\":\"size\"},\"x\":{\"field\":\"x\"},\"y\":{\"field\":\"y\"}},\"id\":\"2448\",\"type\":\"Scatter\"},{\"attributes\":{},\"id\":\"2416\",\"type\":\"DataRange1d\"},{\"attributes\":{\"source\":{\"id\":\"2446\"}},\"id\":\"2450\",\"type\":\"CDSView\"},{\"attributes\":{\"data_source\":{\"id\":\"2446\"},\"glyph\":{\"id\":\"2447\"},\"hover_glyph\":null,\"muted_glyph\":null,\"nonselection_glyph\":{\"id\":\"2448\"},\"view\":{\"id\":\"2450\"}},\"id\":\"2449\",\"type\":\"GlyphRenderer\"},{\"attributes\":{},\"id\":\"2433\",\"type\":\"WheelZoomTool\"},{\"attributes\":{},\"id\":\"2436\",\"type\":\"ResetTool\"},{\"attributes\":{},\"id\":\"2435\",\"type\":\"SaveTool\"},{\"attributes\":{},\"id\":\"2551\",\"type\":\"Title\"},{\"attributes\":{},\"id\":\"2552\",\"type\":\"AllLabels\"},{\"attributes\":{\"fill_alpha\":{\"value\":0.6},\"fill_color\":{\"value\":\"firebrick\"},\"line_alpha\":{\"value\":0.6},\"line_color\":{\"value\":\"firebrick\"},\"marker\":{\"value\":\"x\"},\"size\":{\"field\":\"size\"},\"x\":{\"field\":\"x\"},\"y\":{\"field\":\"y\"}},\"id\":\"2447\",\"type\":\"Scatter\"},{\"attributes\":{\"active_multi\":null,\"tools\":[{\"id\":\"2432\"},{\"id\":\"2433\"},{\"id\":\"2434\"},{\"id\":\"2435\"},{\"id\":\"2436\"},{\"id\":\"2437\"}]},\"id\":\"2439\",\"type\":\"Toolbar\"},{\"attributes\":{},\"id\":\"2560\",\"type\":\"UnionRenderers\"},{\"attributes\":{},\"id\":\"2555\",\"type\":\"AllLabels\"},{\"attributes\":{\"formatter\":{\"id\":\"2553\"},\"major_label_policy\":{\"id\":\"2552\"},\"ticker\":{\"id\":\"2429\"}},\"id\":\"2428\",\"type\":\"LinearAxis\"},{\"attributes\":{},\"id\":\"2425\",\"type\":\"BasicTicker\"},{\"attributes\":{},\"id\":\"2429\",\"type\":\"BasicTicker\"},{\"attributes\":{\"axis\":{\"id\":\"2428\"},\"dimension\":1,\"ticker\":null},\"id\":\"2431\",\"type\":\"Grid\"},{\"attributes\":{},\"id\":\"2418\",\"type\":\"DataRange1d\"},{\"attributes\":{},\"id\":\"2559\",\"type\":\"Selection\"},{\"attributes\":{\"formatter\":{\"id\":\"2556\"},\"major_label_policy\":{\"id\":\"2555\"},\"ticker\":{\"id\":\"2425\"}},\"id\":\"2424\",\"type\":\"LinearAxis\"},{\"attributes\":{\"axis\":{\"id\":\"2424\"},\"ticker\":null},\"id\":\"2427\",\"type\":\"Grid\"},{\"attributes\":{},\"id\":\"2432\",\"type\":\"PanTool\"},{\"attributes\":{},\"id\":\"2437\",\"type\":\"HelpTool\"},{\"attributes\":{\"bottom_units\":\"screen\",\"fill_alpha\":0.5,\"fill_color\":\"lightgrey\",\"left_units\":\"screen\",\"level\":\"overlay\",\"line_alpha\":1.0,\"line_color\":\"black\",\"line_dash\":[4,4],\"line_width\":2,\"right_units\":\"screen\",\"syncable\":false,\"top_units\":\"screen\"},\"id\":\"2438\",\"type\":\"BoxAnnotation\"},{\"attributes\":{},\"id\":\"2553\",\"type\":\"BasicTickFormatter\"},{\"attributes\":{\"data\":{\"size\":[10,15,20,25,30],\"x\":[1,2,3,4,5],\"y\":[6,7,2,4,5]},\"selected\":{\"id\":\"2559\"},\"selection_policy\":{\"id\":\"2560\"}},\"id\":\"2446\",\"type\":\"ColumnDataSource\"}],\"root_ids\":[\"2415\"]},\"title\":\"Bokeh Application\",\"version\":\"2.3.2\"}};\n",
       "  var render_items = [{\"docid\":\"f1d7a063-cc79-4463-87d8-c71396b80654\",\"root_ids\":[\"2415\"],\"roots\":{\"2415\":\"a0be18d0-6277-47c2-8510-00afd534d876\"}}];\n",
       "  root.Bokeh.embed.embed_items_notebook(docs_json, render_items);\n",
       "\n",
       "  }\n",
       "  if (root.Bokeh !== undefined) {\n",
       "    embed_document(root);\n",
       "  } else {\n",
       "    let attempts = 0;\n",
       "    const timer = setInterval(function(root) {\n",
       "      if (root.Bokeh !== undefined) {\n",
       "        clearInterval(timer);\n",
       "        embed_document(root);\n",
       "      } else {\n",
       "        attempts++;\n",
       "        if (attempts > 100) {\n",
       "          clearInterval(timer);\n",
       "          console.log(\"Bokeh: ERROR: Unable to run BokehJS code because BokehJS library is missing\");\n",
       "        }\n",
       "      }\n",
       "    }, 10, root)\n",
       "  }\n",
       "})(window);"
      ],
      "application/vnd.bokehjs_exec.v0+json": ""
     },
     "metadata": {
      "application/vnd.bokehjs_exec.v0+json": {
       "id": "2415"
      }
     },
     "output_type": "display_data"
    }
   ],
   "source": [
    "p = figure(plot_width=400, plot_height=400)\n",
    "\n",
    "p.x([1,2,3,4,5], [6,7,2,4,5], size=[10,15,20,25,30], color='firebrick',alpha=0.6)\n",
    "show(p)"
   ]
  },
  {
   "cell_type": "code",
   "execution_count": 24,
   "id": "b1822c68",
   "metadata": {},
   "outputs": [],
   "source": [
    "from bokeh.sampledata.autompg import autompg as df"
   ]
  },
  {
   "cell_type": "markdown",
   "id": "9e2f2d15",
   "metadata": {},
   "source": [
    "## Line"
   ]
  },
  {
   "cell_type": "code",
   "execution_count": 25,
   "id": "d282ca71",
   "metadata": {},
   "outputs": [
    {
     "data": {
      "text/html": [
       "\n",
       "\n",
       "\n",
       "\n",
       "\n",
       "\n",
       "  <div class=\"bk-root\" id=\"dbcd85aa-9cc2-41e8-a1ab-10246cce5f82\" data-root-id=\"2616\"></div>\n"
      ]
     },
     "metadata": {},
     "output_type": "display_data"
    },
    {
     "data": {
      "application/javascript": [
       "(function(root) {\n",
       "  function embed_document(root) {\n",
       "    \n",
       "  var docs_json = {\"ce87fb53-4d1d-498e-b6f5-db89c9d2710f\":{\"defs\":[],\"roots\":{\"references\":[{\"attributes\":{\"below\":[{\"id\":\"2625\"}],\"center\":[{\"id\":\"2628\"},{\"id\":\"2632\"}],\"height\":400,\"left\":[{\"id\":\"2629\"}],\"renderers\":[{\"id\":\"2650\"}],\"title\":{\"id\":\"2763\"},\"toolbar\":{\"id\":\"2640\"},\"width\":400,\"x_range\":{\"id\":\"2617\"},\"x_scale\":{\"id\":\"2621\"},\"y_range\":{\"id\":\"2619\"},\"y_scale\":{\"id\":\"2623\"}},\"id\":\"2616\",\"subtype\":\"Figure\",\"type\":\"Plot\"},{\"attributes\":{},\"id\":\"2638\",\"type\":\"HelpTool\"},{\"attributes\":{},\"id\":\"2626\",\"type\":\"BasicTicker\"},{\"attributes\":{},\"id\":\"2768\",\"type\":\"BasicTickFormatter\"},{\"attributes\":{\"formatter\":{\"id\":\"2765\"},\"major_label_policy\":{\"id\":\"2764\"},\"ticker\":{\"id\":\"2630\"}},\"id\":\"2629\",\"type\":\"LinearAxis\"},{\"attributes\":{},\"id\":\"2623\",\"type\":\"LinearScale\"},{\"attributes\":{\"active_multi\":null,\"tools\":[{\"id\":\"2633\"},{\"id\":\"2634\"},{\"id\":\"2635\"},{\"id\":\"2636\"},{\"id\":\"2637\"},{\"id\":\"2638\"}]},\"id\":\"2640\",\"type\":\"Toolbar\"},{\"attributes\":{\"axis\":{\"id\":\"2625\"},\"ticker\":null},\"id\":\"2628\",\"type\":\"Grid\"},{\"attributes\":{},\"id\":\"2630\",\"type\":\"BasicTicker\"},{\"attributes\":{},\"id\":\"2634\",\"type\":\"WheelZoomTool\"},{\"attributes\":{},\"id\":\"2772\",\"type\":\"UnionRenderers\"},{\"attributes\":{},\"id\":\"2763\",\"type\":\"Title\"},{\"attributes\":{},\"id\":\"2617\",\"type\":\"DataRange1d\"},{\"attributes\":{},\"id\":\"2621\",\"type\":\"LinearScale\"},{\"attributes\":{\"data\":{\"x\":[1,2,3,4,5],\"y\":[6,7,2,4,5]},\"selected\":{\"id\":\"2771\"},\"selection_policy\":{\"id\":\"2772\"}},\"id\":\"2647\",\"type\":\"ColumnDataSource\"},{\"attributes\":{},\"id\":\"2633\",\"type\":\"PanTool\"},{\"attributes\":{\"source\":{\"id\":\"2647\"}},\"id\":\"2651\",\"type\":\"CDSView\"},{\"attributes\":{\"bottom_units\":\"screen\",\"fill_alpha\":0.5,\"fill_color\":\"lightgrey\",\"left_units\":\"screen\",\"level\":\"overlay\",\"line_alpha\":1.0,\"line_color\":\"black\",\"line_dash\":[4,4],\"line_width\":2,\"right_units\":\"screen\",\"syncable\":false,\"top_units\":\"screen\"},\"id\":\"2639\",\"type\":\"BoxAnnotation\"},{\"attributes\":{},\"id\":\"2765\",\"type\":\"BasicTickFormatter\"},{\"attributes\":{\"line_alpha\":0.1,\"line_color\":\"#1f77b4\",\"line_width\":2,\"x\":{\"field\":\"x\"},\"y\":{\"field\":\"y\"}},\"id\":\"2649\",\"type\":\"Line\"},{\"attributes\":{\"line_color\":\"#1f77b4\",\"line_width\":2,\"x\":{\"field\":\"x\"},\"y\":{\"field\":\"y\"}},\"id\":\"2648\",\"type\":\"Line\"},{\"attributes\":{},\"id\":\"2764\",\"type\":\"AllLabels\"},{\"attributes\":{},\"id\":\"2619\",\"type\":\"DataRange1d\"},{\"attributes\":{\"formatter\":{\"id\":\"2768\"},\"major_label_policy\":{\"id\":\"2767\"},\"ticker\":{\"id\":\"2626\"}},\"id\":\"2625\",\"type\":\"LinearAxis\"},{\"attributes\":{},\"id\":\"2637\",\"type\":\"ResetTool\"},{\"attributes\":{\"axis\":{\"id\":\"2629\"},\"dimension\":1,\"ticker\":null},\"id\":\"2632\",\"type\":\"Grid\"},{\"attributes\":{},\"id\":\"2767\",\"type\":\"AllLabels\"},{\"attributes\":{},\"id\":\"2636\",\"type\":\"SaveTool\"},{\"attributes\":{\"data_source\":{\"id\":\"2647\"},\"glyph\":{\"id\":\"2648\"},\"hover_glyph\":null,\"muted_glyph\":null,\"nonselection_glyph\":{\"id\":\"2649\"},\"view\":{\"id\":\"2651\"}},\"id\":\"2650\",\"type\":\"GlyphRenderer\"},{\"attributes\":{\"overlay\":{\"id\":\"2639\"}},\"id\":\"2635\",\"type\":\"BoxZoomTool\"},{\"attributes\":{},\"id\":\"2771\",\"type\":\"Selection\"}],\"root_ids\":[\"2616\"]},\"title\":\"Bokeh Application\",\"version\":\"2.3.2\"}};\n",
       "  var render_items = [{\"docid\":\"ce87fb53-4d1d-498e-b6f5-db89c9d2710f\",\"root_ids\":[\"2616\"],\"roots\":{\"2616\":\"dbcd85aa-9cc2-41e8-a1ab-10246cce5f82\"}}];\n",
       "  root.Bokeh.embed.embed_items_notebook(docs_json, render_items);\n",
       "\n",
       "  }\n",
       "  if (root.Bokeh !== undefined) {\n",
       "    embed_document(root);\n",
       "  } else {\n",
       "    let attempts = 0;\n",
       "    const timer = setInterval(function(root) {\n",
       "      if (root.Bokeh !== undefined) {\n",
       "        clearInterval(timer);\n",
       "        embed_document(root);\n",
       "      } else {\n",
       "        attempts++;\n",
       "        if (attempts > 100) {\n",
       "          clearInterval(timer);\n",
       "          console.log(\"Bokeh: ERROR: Unable to run BokehJS code because BokehJS library is missing\");\n",
       "        }\n",
       "      }\n",
       "    }, 10, root)\n",
       "  }\n",
       "})(window);"
      ],
      "application/vnd.bokehjs_exec.v0+json": ""
     },
     "metadata": {
      "application/vnd.bokehjs_exec.v0+json": {
       "id": "2616"
      }
     },
     "output_type": "display_data"
    }
   ],
   "source": [
    "p = figure(plot_width=400, plot_height=400)\n",
    "\n",
    "# add a line renderer\n",
    "p.line([1,2,3,4,5],[6,7,2,4,5], line_width=2)\n",
    "\n",
    "show(p)"
   ]
  },
  {
   "cell_type": "markdown",
   "id": "386de320",
   "metadata": {},
   "source": [
    "## Datetime axes"
   ]
  },
  {
   "cell_type": "code",
   "execution_count": 26,
   "id": "e2360013",
   "metadata": {},
   "outputs": [
    {
     "data": {
      "text/html": [
       "<div><div id=42bcd73b-bf94-4416-b1ba-ef438c407502 style=\"display:none; background-color:#9D6CFF; color:white; width:200px; height:30px; padding-left:5px; border-radius:4px; flex-direction:row; justify-content:space-around; align-items:center;\" onmouseover=\"this.style.backgroundColor='#BA9BF8'\" onmouseout=\"this.style.backgroundColor='#9D6CFF'\" onclick=\"window.commands?.execute('create-mitosheet-from-dataframe-output');\">See Full Dataframe in Mito</div> <script> if (window.commands.hasCommand('create-mitosheet-from-dataframe-output')) document.getElementById('42bcd73b-bf94-4416-b1ba-ef438c407502').style.display = 'flex' </script> <table border=\"1\" class=\"dataframe\">\n",
       "  <thead>\n",
       "    <tr style=\"text-align: right;\">\n",
       "      <th></th>\n",
       "      <th>isig</th>\n",
       "      <th>glucose</th>\n",
       "    </tr>\n",
       "    <tr>\n",
       "      <th>datetime</th>\n",
       "      <th></th>\n",
       "      <th></th>\n",
       "    </tr>\n",
       "  </thead>\n",
       "  <tbody>\n",
       "    <tr>\n",
       "      <th>2010-03-24 09:51:00</th>\n",
       "      <td>22.59</td>\n",
       "      <td>258</td>\n",
       "    </tr>\n",
       "    <tr>\n",
       "      <th>2010-03-24 09:56:00</th>\n",
       "      <td>22.52</td>\n",
       "      <td>260</td>\n",
       "    </tr>\n",
       "    <tr>\n",
       "      <th>2010-03-24 10:01:00</th>\n",
       "      <td>22.23</td>\n",
       "      <td>258</td>\n",
       "    </tr>\n",
       "    <tr>\n",
       "      <th>2010-03-24 10:06:00</th>\n",
       "      <td>21.56</td>\n",
       "      <td>254</td>\n",
       "    </tr>\n",
       "    <tr>\n",
       "      <th>2010-03-24 10:11:00</th>\n",
       "      <td>20.79</td>\n",
       "      <td>246</td>\n",
       "    </tr>\n",
       "  </tbody>\n",
       "</table></div>"
      ],
      "text/plain": [
       "                      isig  glucose\n",
       "datetime                           \n",
       "2010-03-24 09:51:00  22.59      258\n",
       "2010-03-24 09:56:00  22.52      260\n",
       "2010-03-24 10:01:00  22.23      258\n",
       "2010-03-24 10:06:00  21.56      254\n",
       "2010-03-24 10:11:00  20.79      246"
      ]
     },
     "execution_count": 26,
     "metadata": {},
     "output_type": "execute_result"
    }
   ],
   "source": [
    "from bokeh.sampledata.glucose import data\n",
    "data.head()"
   ]
  },
  {
   "cell_type": "code",
   "execution_count": 28,
   "id": "cbc00acd",
   "metadata": {},
   "outputs": [
    {
     "data": {
      "text/html": [
       "\n",
       "\n",
       "\n",
       "\n",
       "\n",
       "\n",
       "  <div class=\"bk-root\" id=\"bb1542fa-8bd2-4e87-a161-c177f6eb717e\" data-root-id=\"2828\"></div>\n"
      ]
     },
     "metadata": {},
     "output_type": "display_data"
    },
    {
     "data": {
      "application/javascript": [
       "(function(root) {\n",
       "  function embed_document(root) {\n",
       "    \n",
       "  var docs_json = {\"15f759dc-6580-4719-96a0-04a52c9a42de\":{\"defs\":[],\"roots\":{\"references\":[{\"attributes\":{\"below\":[{\"id\":\"2839\"}],\"center\":[{\"id\":\"2842\"},{\"id\":\"2846\"}],\"height\":350,\"left\":[{\"id\":\"2843\"}],\"renderers\":[{\"id\":\"2864\"}],\"title\":{\"id\":\"2829\"},\"toolbar\":{\"id\":\"2854\"},\"width\":800,\"x_range\":{\"id\":\"2831\"},\"x_scale\":{\"id\":\"2835\"},\"y_range\":{\"id\":\"2833\"},\"y_scale\":{\"id\":\"2837\"}},\"id\":\"2828\",\"subtype\":\"Figure\",\"type\":\"Plot\"},{\"attributes\":{\"active_multi\":null,\"tools\":[{\"id\":\"2847\"},{\"id\":\"2848\"},{\"id\":\"2849\"},{\"id\":\"2850\"},{\"id\":\"2851\"},{\"id\":\"2852\"}]},\"id\":\"2854\",\"type\":\"Toolbar\"},{\"attributes\":{},\"id\":\"2833\",\"type\":\"DataRange1d\"},{\"attributes\":{\"days\":[1,2,3,4,5,6,7,8,9,10,11,12,13,14,15,16,17,18,19,20,21,22,23,24,25,26,27,28,29,30,31]},\"id\":\"3000\",\"type\":\"DaysTicker\"},{\"attributes\":{\"text\":\"Glucose Range\"},\"id\":\"2829\",\"type\":\"Title\"},{\"attributes\":{\"base\":24,\"mantissas\":[1,2,4,6,8,12],\"max_interval\":43200000.0,\"min_interval\":3600000.0,\"num_minor_ticks\":0},\"id\":\"2999\",\"type\":\"AdaptiveTicker\"},{\"attributes\":{\"num_minor_ticks\":5,\"tickers\":[{\"id\":\"2997\"},{\"id\":\"2998\"},{\"id\":\"2999\"},{\"id\":\"3000\"},{\"id\":\"3001\"},{\"id\":\"3002\"},{\"id\":\"3003\"},{\"id\":\"3004\"},{\"id\":\"3005\"},{\"id\":\"3006\"},{\"id\":\"3007\"},{\"id\":\"3008\"}]},\"id\":\"2840\",\"type\":\"DatetimeTicker\"},{\"attributes\":{\"data\":{\"x\":{\"__ndarray__\":\"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\",\"dtype\":\"float64\",\"order\":\"little\",\"shape\":[2217]},\"y\":[92,100,108,115,120,124,128,133,137,142,147,152,157,162,167,171,175,179,185,192,200,207,212,215,217,219,218,219,217,216,216,216,215,214,212,211,209,207,204,203,203,203,203,204,203,202,201,200,199,199,197,193,189,185,182,182,183,184,184,182,177,174,172,170,168,167,166,164,162,160,158,155,152,150,147,140,131,124,120,116,114,114,116,118,119,120,120,120,119,117,114,112,112,111,111,112,111,111,110,108,106,106,106,106,104,101,101,103,102,100,99,100,100,99,99,99,100,99,98,97,97,96,92,90,89,86,85,85,84,84,81,80,81,86,99,115,125,130,129,128,123,118,113,111,112,111,109,108,105,101,100,102,107,113,119,125,129,131,129,128,127,127,127,125,122,117,113,108,103,98,93,89,86,85,83,82,81,82,84,87,92,99,107,121,133,142,146,149,150,151,151,152,152,150,148,161,160,158,157,157,157,156,153,149,147,145,144,145,149,154,159,163,164,164,164,163,162,158,154,153,154,155,157,159,158,156,152,148,144,139,134,128,123,121,119,117,115,115,112,109,106,105,103,101,97,93,89,86,85,88,93,100,106,113,119,125,131,137,142,149,159,172,186,197,204,207,208,207,205,202,199,197,193,185,176,178,177,177,176,173,171,170,169,167,166,165,163,163,162,160,156,150,150,150,151,150,150,150,149,149,148,149,147,145,143,139,141,145,147,147,146,145,141,138,136,135,134,133,132,129,124,120,118,112,114,119,123,125,126,127,128,135,143,148,151,153,154,155,156,156,157,157,156,155,154,147,137,131,128,129,131,132,133,135,135,133,131,132,135,138,139,138,136,132,128,126,125,120,113,108,106,105,108,111,113,116,120,120,120,119,118,118,118,118,117,116,113,106,98,93,97,107,115,122,120,113,102,94,95,96,90,88,83,83,85,90,97,98,99,94,89,95,105,111,113,106,95,90,91,96,101,104,109,112,120,123,118,115,123,130,128,130,136,131,121,113,110,108,109,111,115,120,115,108,105,105,104,106,110,111,115,115,117,114,111,107,105,109,111,110,111,115,121,126,135,142,145,147,150,153,156,160,162,161,160,160,159,157,154,152,152,150,143,138,132,128,124,119,112,105,98,92,94,98,106,118,126,128,127,123,123,121,118,115,112,112,114,113,105,78,209,204,214,252,282,290,295,292,284,268,263,262,263,263,262,258,249,236,179,165,157,152,150,149,150,154,158,163,166,166,163,159,158,161,170,176,178,174,170,166,160,156,151,148,147,145,142,141,145,144,144,153,155,152,147,143,145,152,156,157,156,155,155,156,158,158,158,156,152,146,139,139,141,143,145,147,148,149,149,149,148,147,144,140,139,139,138,137,136,135,134,133,134,136,137,136,134,135,139,142,143,141,138,141,145,148,151,152,154,156,155,155,159,163,166,166,166,164,162,160,158,157,155,153,150,150,149,149,149,149,150,152,154,155,155,156,156,157,160,163,165,165,164,163,121,119,117,114,113,112,113,113,113,113,112,113,113,113,114,112,110,109,109,109,108,108,90,90,94,99,107,116,125,130,132,130,124,117,110,103,95,88,81,77,75,63,65,70,73,78,80,80,79,80,83,86,89,94,96,98,104,105,106,106,107,107,109,114,118,121,123,124,123,122,122,123,123,123,124,123,123,124,127,132,137,139,140,140,142,147,152,156,160,165,168,169,169,165,162,160,158,156,154,150,146,144,141,138,136,133,129,124,118,112,107,106,107,108,109,110,111,112,112,113,114,115,116,117,118,119,122,125,128,130,130,131,130,128,126,123,120,116,93,89,86,84,82,79,76,74,72,71,69,70,68,67,66,67,68,69,69,69,68,68,67,66,65,64,63,61,61,60,60,61,63,64,64,64,63,64,65,66,67,67,66,66,67,68,69,71,73,72,71,70,71,72,74,75,76,78,79,80,81,82,84,86,88,88,87,86,85,86,86,86,86,87,87,88,88,88,89,87,83,79,78,82,85,87,88,89,89,89,87,86,88,89,90,89,90,92,91,90,89,88,87,87,89,90,91,92,94,108,110,110,111,111,111,112,113,114,116,116,116,117,119,121,124,127,131,138,145,150,155,161,165,169,173,177,182,185,185,184,189,193,195,198,198,197,196,196,199,202,202,201,202,204,205,205,203,202,201,197,197,198,199,200,199,195,190,184,180,178,179,180,179,176,175,174,172,169,168,167,170,180,191,203,214,219,219,222,227,228,226,223,221,219,219,218,218,219,218,216,214,214,211,208,207,206,206,205,202,199,193,190,187,182,179,176,173,170,167,163,158,152,146,141,135,129,122,114,108,102,97,90,85,81,77,73,68,65,62,61,61,61,61,61,60,59,59,60,61,64,69,75,82,92,104,117,128,137,144,149,153,156,160,164,169,175,180,184,188,191,193,195,196,200,203,207,212,218,223,228,231,234,235,236,327,327,330,333,328,321,316,308,298,287,274,263,255,249,243,239,234,230,225,220,215,210,206,204,204,199,195,190,185,181,177,175,173,171,170,169,169,168,167,166,166,166,163,161,159,158,157,156,154,152,150,149,149,150,150,151,151,152,153,153,153,154,154,154,154,153,152,152,150,149,148,146,145,144,144,143,142,142,141,140,139,137,137,138,136,137,137,136,137,136,134,133,132,132,132,132,132,134,136,138,141,142,142,143,145,150,154,156,158,160,162,164,167,169,172,175,176,175,174,172,170,171,173,178,185,191,198,210,223,235,244,254,265,273,283,290,296,302,307,309,313,316,318,320,322,320,319,317,313,311,306,300,297,294,293,290,287,286,285,282,279,274,271,270,270,269,274,271,267,264,262,259,255,250,244,237,232,227,223,220,215,210,205,199,195,193,197,206,221,239,258,276,291,302,311,318,323,324,322,320,319,320,319,317,314,311,307,302,294,286,280,276,272,267,259,251,245,241,241,241,242,244,245,245,242,237,232,228,225,216,215,216,217,217,215,211,206,202,200,201,203,201,196,188,176,163,149,138,129,119,108,98,89,79,71,66,66,67,67,68,69,71,74,77,79,81,85,91,99,109,119,132,145,157,168,175,179,183,185,188,188,187,184,179,172,163,159,157,155,153,151,149,148,148,148,147,146,145,145,144,143,143,143,144,145,146,145,144,143,142,140,140,140,140,140,143,147,150,152,152,152,154,155,142,140,138,134,131,130,128,127,126,126,126,126,127,129,131,132,134,136,136,136,136,135,134,132,130,130,130,129,128,127,125,124,123,123,122,121,120,118,115,112,111,111,110,110,109,108,107,107,107,108,107,105,105,105,105,104,103,102,99,97,96,94,94,93,93,92,91,92,94,95,96,97,99,102,104,112,112,112,111,110,107,104,105,105,103,99,96,94,95,102,114,128,144,160,173,185,196,205,209,214,219,226,234,241,248,255,260,265,268,270,272,271,271,268,265,261,256,253,250,246,244,241,237,233,229,225,222,204,200,197,193,190,186,182,179,175,171,168,164,158,154,151,148,145,141,133,139,152,173,196,217,233,244,249,250,253,256,260,263,265,265,264,260,254,246,234,217,200,188,181,175,169,164,159,154,147,138,132,129,127,123,117,111,106,104,103,100,94,88,83,78,75,73,71,69,68,67,67,68,70,71,71,70,69,68,67,67,67,66,67,69,71,74,76,78,80,80,80,80,80,80,82,84,87,90,92,87,87,86,86,86,86,87,87,87,85,83,82,83,87,95,107,118,130,141,149,172,179,187,201,214,221,225,230,232,230,223,216,208,199,191,185,181,177,176,177,176,173,171,169,163,154,152,153,154,154,153,151,150,150,150,152,149,147,148,150,152,152,152,151,151,150,149,147,146,143,140,138,136,137,138,140,138,135,132,130,129,129,129,130,130,129,128,128,128,129,129,128,127,126,125,125,125,125,124,124,121,120,120,123,124,123,122,120,115,113,114,114,115,116,115,112,111,111,109,108,107,107,110,113,114,115,115,115,114,113,113,116,119,120,121,121,122,123,124,125,126,126,126,126,126,127,127,125,122,118,115,111,112,115,117,120,124,127,131,137,143,148,153,159,166,172,178,184,191,199,206,212,217,223,229,232,233,235,237,240,241,243,246,247,246,243,240,234,229,225,221,217,216,215,215,215,212,208,203,199,196,194,190,185,180,177,163,158,152,149,153,163,174,182,188,192,195,197,201,204,205,203,199,195,189,184,176,169,162,150,138,128,119,110,100,90,80,73,68,64,63,63,66,68,70,71,72,74,80,94,116,141,164,183,198,210,220,228,233,237,241,247,252,256,260,259,258,256,251,245,238,234,227,221,215,208,207,207,203,201,201,199,179,176,171,163,152,137,119,98,77,61,50,45,47,59,71,86,99,109,116,117,115,111,107,102,96,91,90,94,97,97,95,92,87,84,84,83,84,86,86,86,84,82,82,81,81,82,84,87,89,91,92,94,93,93,94,96,100,101,99,97,96,96,97,97,98,99,101,102,106,114,121,127,130,124,105,109,119,127,129,132,129,126,126,126,126,126,125,124,125,130,130,128,126,126,126,126,126,126,126,127,128,129,129,127,128,136,141,143,141,138,131,129,133,134,130,129,134,137,139,138,130,122,118,115,114,113,113,112,112,117,118,117,118,118,117,117,114,112,115,118,124,126,119,121,122,274,285,293,297,298,298,296,293,289,282,275,267,256,249,242,233,225,217,217,215,203,190,185,193,202,202,194,182,170,143,130,120,110,102,93,80,67,57,52,50,49,49,54,72,93,104,114,125,134,140,145,145,141,136,130,124,118,116,114,112,108,105,102,99,95,91,88,85,83,82,80,79,79,83,86,87,88,89,89,88,88,90,92,88,86,86,86,84,82,84,88,90,94,99,104,107,107,105,104,103,95,94,93,93,93,93,93,94,99,109,122,172,169,164,156,147,137,126,115,104,99,99,103,106,111,115,117,118,120,120,120,120,119,119,118,118,117,116,115,115,116,116,115,115,114,112,109,110,111,111,110,109,109,109,108,107,106,105,101,100,99,99,98,97,97]},\"selected\":{\"id\":\"2995\"},\"selection_policy\":{\"id\":\"2996\"}},\"id\":\"2861\",\"type\":\"ColumnDataSource\"},{\"attributes\":{\"months\":[0,1,2,3,4,5,6,7,8,9,10,11]},\"id\":\"3004\",\"type\":\"MonthsTicker\"},{\"attributes\":{\"base\":60,\"mantissas\":[1,2,5,10,15,20,30],\"max_interval\":1800000.0,\"min_interval\":1000.0,\"num_minor_ticks\":0},\"id\":\"2998\",\"type\":\"AdaptiveTicker\"},{\"attributes\":{\"months\":[0,2,4,6,8,10]},\"id\":\"3005\",\"type\":\"MonthsTicker\"},{\"attributes\":{},\"id\":\"3008\",\"type\":\"YearsTicker\"},{\"attributes\":{\"axis_label\":\"Value\",\"formatter\":{\"id\":\"2989\"},\"major_label_policy\":{\"id\":\"2988\"},\"ticker\":{\"id\":\"2844\"}},\"id\":\"2843\",\"type\":\"LinearAxis\"},{\"attributes\":{},\"id\":\"2852\",\"type\":\"HelpTool\"},{\"attributes\":{\"days\":[1,4,7,10,13,16,19,22,25,28]},\"id\":\"3001\",\"type\":\"DaysTicker\"},{\"attributes\":{\"days\":[1,15]},\"id\":\"3003\",\"type\":\"DaysTicker\"},{\"attributes\":{\"months\":[0,6]},\"id\":\"3007\",\"type\":\"MonthsTicker\"},{\"attributes\":{},\"id\":\"2992\",\"type\":\"DatetimeTickFormatter\"},{\"attributes\":{},\"id\":\"2995\",\"type\":\"Selection\"},{\"attributes\":{\"axis\":{\"id\":\"2839\"},\"grid_line_color\":null,\"ticker\":null},\"id\":\"2842\",\"type\":\"Grid\"},{\"attributes\":{},\"id\":\"2848\",\"type\":\"WheelZoomTool\"},{\"attributes\":{},\"id\":\"2844\",\"type\":\"BasicTicker\"},{\"attributes\":{\"axis\":{\"id\":\"2843\"},\"dimension\":1,\"grid_line_alpha\":0.5,\"ticker\":null},\"id\":\"2846\",\"type\":\"Grid\"},{\"attributes\":{\"line_alpha\":0.1,\"line_color\":\"#1f77b4\",\"x\":{\"field\":\"x\"},\"y\":{\"field\":\"y\"}},\"id\":\"2863\",\"type\":\"Line\"},{\"attributes\":{},\"id\":\"2996\",\"type\":\"UnionRenderers\"},{\"attributes\":{\"overlay\":{\"id\":\"2853\"}},\"id\":\"2849\",\"type\":\"BoxZoomTool\"},{\"attributes\":{\"bottom_units\":\"screen\",\"fill_alpha\":0.5,\"fill_color\":\"lightgrey\",\"left_units\":\"screen\",\"level\":\"overlay\",\"line_alpha\":1.0,\"line_color\":\"black\",\"line_dash\":[4,4],\"line_width\":2,\"right_units\":\"screen\",\"syncable\":false,\"top_units\":\"screen\"},\"id\":\"2853\",\"type\":\"BoxAnnotation\"},{\"attributes\":{\"formatter\":{\"id\":\"2992\"},\"major_label_policy\":{\"id\":\"2991\"},\"ticker\":{\"id\":\"2840\"}},\"id\":\"2839\",\"type\":\"DatetimeAxis\"},{\"attributes\":{\"line_color\":\"#1f77b4\",\"x\":{\"field\":\"x\"},\"y\":{\"field\":\"y\"}},\"id\":\"2862\",\"type\":\"Line\"},{\"attributes\":{},\"id\":\"2835\",\"type\":\"LinearScale\"},{\"attributes\":{},\"id\":\"2847\",\"type\":\"PanTool\"},{\"attributes\":{},\"id\":\"2989\",\"type\":\"BasicTickFormatter\"},{\"attributes\":{\"source\":{\"id\":\"2861\"}},\"id\":\"2865\",\"type\":\"CDSView\"},{\"attributes\":{\"mantissas\":[1,2,5],\"max_interval\":500.0,\"num_minor_ticks\":0},\"id\":\"2997\",\"type\":\"AdaptiveTicker\"},{\"attributes\":{\"days\":[1,8,15,22]},\"id\":\"3002\",\"type\":\"DaysTicker\"},{\"attributes\":{},\"id\":\"2988\",\"type\":\"AllLabels\"},{\"attributes\":{\"data_source\":{\"id\":\"2861\"},\"glyph\":{\"id\":\"2862\"},\"hover_glyph\":null,\"muted_glyph\":null,\"nonselection_glyph\":{\"id\":\"2863\"},\"view\":{\"id\":\"2865\"}},\"id\":\"2864\",\"type\":\"GlyphRenderer\"},{\"attributes\":{},\"id\":\"2837\",\"type\":\"LinearScale\"},{\"attributes\":{\"months\":[0,4,8]},\"id\":\"3006\",\"type\":\"MonthsTicker\"},{\"attributes\":{},\"id\":\"2991\",\"type\":\"AllLabels\"},{\"attributes\":{},\"id\":\"2850\",\"type\":\"SaveTool\"},{\"attributes\":{},\"id\":\"2851\",\"type\":\"ResetTool\"},{\"attributes\":{},\"id\":\"2831\",\"type\":\"DataRange1d\"}],\"root_ids\":[\"2828\"]},\"title\":\"Bokeh Application\",\"version\":\"2.3.2\"}};\n",
       "  var render_items = [{\"docid\":\"15f759dc-6580-4719-96a0-04a52c9a42de\",\"root_ids\":[\"2828\"],\"roots\":{\"2828\":\"bb1542fa-8bd2-4e87-a161-c177f6eb717e\"}}];\n",
       "  root.Bokeh.embed.embed_items_notebook(docs_json, render_items);\n",
       "\n",
       "  }\n",
       "  if (root.Bokeh !== undefined) {\n",
       "    embed_document(root);\n",
       "  } else {\n",
       "    let attempts = 0;\n",
       "    const timer = setInterval(function(root) {\n",
       "      if (root.Bokeh !== undefined) {\n",
       "        clearInterval(timer);\n",
       "        embed_document(root);\n",
       "      } else {\n",
       "        attempts++;\n",
       "        if (attempts > 100) {\n",
       "          clearInterval(timer);\n",
       "          console.log(\"Bokeh: ERROR: Unable to run BokehJS code because BokehJS library is missing\");\n",
       "        }\n",
       "      }\n",
       "    }, 10, root)\n",
       "  }\n",
       "})(window);"
      ],
      "application/vnd.bokehjs_exec.v0+json": ""
     },
     "metadata": {
      "application/vnd.bokehjs_exec.v0+json": {
       "id": "2828"
      }
     },
     "output_type": "display_data"
    }
   ],
   "source": [
    "# reduce data size to 1 week\n",
    "week = data.loc['2010-10-01':'2010-10-08']\n",
    "\n",
    "p = figure(x_axis_type='datetime', title='Glucose Range', plot_height=350, plot_width=800)\n",
    "p.xgrid.grid_line_color=None\n",
    "p.ygrid.grid_line_alpha=0.5\n",
    "p.yaxis.axis_label = 'Time'\n",
    "p.yaxis.axis_label='Value'\n",
    "\n",
    "p.line(week.index, week.glucose)\n",
    "\n",
    "show(p)"
   ]
  },
  {
   "cell_type": "code",
   "execution_count": 37,
   "id": "072ada5e",
   "metadata": {},
   "outputs": [
    {
     "data": {
      "text/html": [
       "\n",
       "\n",
       "\n",
       "\n",
       "\n",
       "\n",
       "  <div class=\"bk-root\" id=\"6455cc72-95a0-4734-bdc5-5b36a7f770b2\" data-root-id=\"3329\"></div>\n"
      ]
     },
     "metadata": {},
     "output_type": "display_data"
    },
    {
     "data": {
      "application/javascript": [
       "(function(root) {\n",
       "  function embed_document(root) {\n",
       "    \n",
       "  var docs_json = {\"8fc1abb4-b06c-4883-a820-b6722e30fba5\":{\"defs\":[],\"roots\":{\"references\":[{\"attributes\":{\"below\":[{\"id\":\"3340\"}],\"center\":[{\"id\":\"3343\"},{\"id\":\"3347\"}],\"left\":[{\"id\":\"3344\"}],\"renderers\":[{\"id\":\"3365\"}],\"title\":{\"id\":\"3330\"},\"toolbar\":{\"id\":\"3355\"},\"x_range\":{\"id\":\"3332\"},\"x_scale\":{\"id\":\"3336\"},\"y_range\":{\"id\":\"3334\"},\"y_scale\":{\"id\":\"3338\"}},\"id\":\"3329\",\"subtype\":\"Figure\",\"type\":\"Plot\"},{\"attributes\":{\"months\":[0,4,8]},\"id\":\"3529\",\"type\":\"MonthsTicker\"},{\"attributes\":{},\"id\":\"3345\",\"type\":\"BasicTicker\"},{\"attributes\":{},\"id\":\"3519\",\"type\":\"UnionRenderers\"},{\"attributes\":{},\"id\":\"3514\",\"type\":\"AllLabels\"},{\"attributes\":{\"source\":{\"id\":\"3362\"}},\"id\":\"3366\",\"type\":\"CDSView\"},{\"attributes\":{},\"id\":\"3349\",\"type\":\"WheelZoomTool\"},{\"attributes\":{\"num_minor_ticks\":5,\"tickers\":[{\"id\":\"3520\"},{\"id\":\"3521\"},{\"id\":\"3522\"},{\"id\":\"3523\"},{\"id\":\"3524\"},{\"id\":\"3525\"},{\"id\":\"3526\"},{\"id\":\"3527\"},{\"id\":\"3528\"},{\"id\":\"3529\"},{\"id\":\"3530\"},{\"id\":\"3531\"}]},\"id\":\"3341\",\"type\":\"DatetimeTicker\"},{\"attributes\":{},\"id\":\"3348\",\"type\":\"PanTool\"},{\"attributes\":{\"base\":24,\"mantissas\":[1,2,4,6,8,12],\"max_interval\":43200000.0,\"min_interval\":3600000.0,\"num_minor_ticks\":0},\"id\":\"3522\",\"type\":\"AdaptiveTicker\"},{\"attributes\":{\"days\":[1,4,7,10,13,16,19,22,25,28]},\"id\":\"3524\",\"type\":\"DaysTicker\"},{\"attributes\":{\"months\":[0,1,2,3,4,5,6,7,8,9,10,11]},\"id\":\"3527\",\"type\":\"MonthsTicker\"},{\"attributes\":{\"overlay\":{\"id\":\"3354\"}},\"id\":\"3350\",\"type\":\"BoxZoomTool\"},{\"attributes\":{\"axis\":{\"id\":\"3340\"},\"grid_line_color\":\"blue\",\"ticker\":null},\"id\":\"3343\",\"type\":\"Grid\"},{\"attributes\":{},\"id\":\"3515\",\"type\":\"DatetimeTickFormatter\"},{\"attributes\":{},\"id\":\"3334\",\"type\":\"DataRange1d\"},{\"attributes\":{},\"id\":\"3518\",\"type\":\"Selection\"},{\"attributes\":{\"months\":[0,6]},\"id\":\"3530\",\"type\":\"MonthsTicker\"},{\"attributes\":{},\"id\":\"3351\",\"type\":\"SaveTool\"},{\"attributes\":{},\"id\":\"3336\",\"type\":\"LinearScale\"},{\"attributes\":{\"data_source\":{\"id\":\"3362\"},\"glyph\":{\"id\":\"3363\"},\"hover_glyph\":null,\"muted_glyph\":null,\"nonselection_glyph\":{\"id\":\"3364\"},\"view\":{\"id\":\"3366\"}},\"id\":\"3365\",\"type\":\"GlyphRenderer\"},{\"attributes\":{},\"id\":\"3511\",\"type\":\"AllLabels\"},{\"attributes\":{\"bottom_units\":\"screen\",\"fill_alpha\":0.5,\"fill_color\":\"lightgrey\",\"left_units\":\"screen\",\"level\":\"overlay\",\"line_alpha\":1.0,\"line_color\":\"black\",\"line_dash\":[4,4],\"line_width\":2,\"right_units\":\"screen\",\"syncable\":false,\"top_units\":\"screen\"},\"id\":\"3354\",\"type\":\"BoxAnnotation\"},{\"attributes\":{\"days\":[1,2,3,4,5,6,7,8,9,10,11,12,13,14,15,16,17,18,19,20,21,22,23,24,25,26,27,28,29,30,31]},\"id\":\"3523\",\"type\":\"DaysTicker\"},{\"attributes\":{},\"id\":\"3352\",\"type\":\"ResetTool\"},{\"attributes\":{\"data\":{\"x\":[\"2000-03-01\",\"2000-03-02\",\"2000-03-03\",\"2000-03-06\",\"2000-03-07\",\"2000-03-08\",\"2000-03-09\",\"2000-03-10\",\"2000-03-13\",\"2000-03-14\",\"2000-03-15\",\"2000-03-16\",\"2000-03-17\",\"2000-03-20\",\"2000-03-21\",\"2000-03-22\",\"2000-03-23\",\"2000-03-24\",\"2000-03-27\",\"2000-03-28\",\"2000-03-29\",\"2000-03-30\",\"2000-03-31\",\"2000-04-03\",\"2000-04-04\",\"2000-04-05\",\"2000-04-06\",\"2000-04-07\",\"2000-04-10\",\"2000-04-11\",\"2000-04-12\",\"2000-04-13\",\"2000-04-14\",\"2000-04-17\",\"2000-04-18\",\"2000-04-19\",\"2000-04-20\",\"2000-04-24\",\"2000-04-25\",\"2000-04-26\",\"2000-04-27\",\"2000-04-28\",\"2000-05-01\",\"2000-05-02\",\"2000-05-03\",\"2000-05-04\",\"2000-05-05\",\"2000-05-08\",\"2000-05-09\",\"2000-05-10\",\"2000-05-11\",\"2000-05-12\",\"2000-05-15\",\"2000-05-16\",\"2000-05-17\",\"2000-05-18\",\"2000-05-19\",\"2000-05-22\",\"2000-05-23\",\"2000-05-24\",\"2000-05-25\",\"2000-05-26\",\"2000-05-30\",\"2000-05-31\",\"2000-06-01\",\"2000-06-02\",\"2000-06-05\",\"2000-06-06\",\"2000-06-07\",\"2000-06-08\",\"2000-06-09\",\"2000-06-12\",\"2000-06-13\",\"2000-06-14\",\"2000-06-15\",\"2000-06-16\",\"2000-06-19\",\"2000-06-20\",\"2000-06-21\",\"2000-06-22\",\"2000-06-23\",\"2000-06-26\",\"2000-06-27\",\"2000-06-28\",\"2000-06-29\",\"2000-06-30\",\"2000-07-03\",\"2000-07-05\",\"2000-07-06\",\"2000-07-07\",\"2000-07-10\",\"2000-07-11\",\"2000-07-12\",\"2000-07-13\",\"2000-07-14\",\"2000-07-17\",\"2000-07-18\",\"2000-07-19\",\"2000-07-20\",\"2000-07-21\",\"2000-07-24\",\"2000-07-25\",\"2000-07-26\",\"2000-07-27\",\"2000-07-28\",\"2000-07-31\",\"2000-08-01\",\"2000-08-02\",\"2000-08-03\",\"2000-08-04\",\"2000-08-07\",\"2000-08-08\",\"2000-08-09\",\"2000-08-10\",\"2000-08-11\",\"2000-08-14\",\"2000-08-15\",\"2000-08-16\",\"2000-08-17\",\"2000-08-18\",\"2000-08-21\",\"2000-08-22\",\"2000-08-23\",\"2000-08-24\",\"2000-08-25\",\"2000-08-28\",\"2000-08-29\",\"2000-08-30\",\"2000-08-31\",\"2000-09-01\",\"2000-09-05\",\"2000-09-06\",\"2000-09-07\",\"2000-09-08\",\"2000-09-11\",\"2000-09-12\",\"2000-09-13\",\"2000-09-14\",\"2000-09-15\",\"2000-09-18\",\"2000-09-19\",\"2000-09-20\",\"2000-09-21\",\"2000-09-22\",\"2000-09-25\",\"2000-09-26\",\"2000-09-27\",\"2000-09-28\",\"2000-09-29\",\"2000-10-02\",\"2000-10-03\",\"2000-10-04\",\"2000-10-05\",\"2000-10-06\",\"2000-10-09\",\"2000-10-10\",\"2000-10-11\",\"2000-10-12\",\"2000-10-13\",\"2000-10-16\",\"2000-10-17\",\"2000-10-18\",\"2000-10-19\",\"2000-10-20\",\"2000-10-23\",\"2000-10-24\",\"2000-10-25\",\"2000-10-26\",\"2000-10-27\",\"2000-10-30\",\"2000-10-31\",\"2000-11-01\",\"2000-11-02\",\"2000-11-03\",\"2000-11-06\",\"2000-11-07\",\"2000-11-08\",\"2000-11-09\",\"2000-11-10\",\"2000-11-13\",\"2000-11-14\",\"2000-11-15\",\"2000-11-16\",\"2000-11-17\",\"2000-11-20\",\"2000-11-21\",\"2000-11-22\",\"2000-11-24\",\"2000-11-27\",\"2000-11-28\",\"2000-11-29\",\"2000-11-30\",\"2000-12-01\",\"2000-12-04\",\"2000-12-05\",\"2000-12-06\",\"2000-12-07\",\"2000-12-08\",\"2000-12-11\",\"2000-12-12\",\"2000-12-13\",\"2000-12-14\",\"2000-12-15\",\"2000-12-18\",\"2000-12-19\",\"2000-12-20\",\"2000-12-21\",\"2000-12-22\",\"2000-12-26\",\"2000-12-27\",\"2000-12-28\",\"2000-12-29\",\"2001-01-02\",\"2001-01-03\",\"2001-01-04\",\"2001-01-05\",\"2001-01-08\",\"2001-01-09\",\"2001-01-10\",\"2001-01-11\",\"2001-01-12\",\"2001-01-16\",\"2001-01-17\",\"2001-01-18\",\"2001-01-19\",\"2001-01-22\",\"2001-01-23\",\"2001-01-24\",\"2001-01-25\",\"2001-01-26\",\"2001-01-29\",\"2001-01-30\",\"2001-01-31\",\"2001-02-01\",\"2001-02-02\",\"2001-02-05\",\"2001-02-06\",\"2001-02-07\",\"2001-02-08\",\"2001-02-09\",\"2001-02-12\",\"2001-02-13\",\"2001-02-14\",\"2001-02-15\",\"2001-02-16\",\"2001-02-20\",\"2001-02-21\",\"2001-02-22\",\"2001-02-23\",\"2001-02-26\",\"2001-02-27\",\"2001-02-28\",\"2001-03-01\",\"2001-03-02\",\"2001-03-05\",\"2001-03-06\",\"2001-03-07\",\"2001-03-08\",\"2001-03-09\",\"2001-03-12\",\"2001-03-13\",\"2001-03-14\",\"2001-03-15\",\"2001-03-16\",\"2001-03-19\",\"2001-03-20\",\"2001-03-21\",\"2001-03-22\",\"2001-03-23\",\"2001-03-26\",\"2001-03-27\",\"2001-03-28\",\"2001-03-29\",\"2001-03-30\",\"2001-04-02\",\"2001-04-03\",\"2001-04-04\",\"2001-04-05\",\"2001-04-06\",\"2001-04-09\",\"2001-04-10\",\"2001-04-11\",\"2001-04-12\",\"2001-04-16\",\"2001-04-17\",\"2001-04-18\",\"2001-04-19\",\"2001-04-20\",\"2001-04-23\",\"2001-04-24\",\"2001-04-25\",\"2001-04-26\",\"2001-04-27\",\"2001-04-30\",\"2001-05-01\",\"2001-05-02\",\"2001-05-03\",\"2001-05-04\",\"2001-05-07\",\"2001-05-08\",\"2001-05-09\",\"2001-05-10\",\"2001-05-11\",\"2001-05-14\",\"2001-05-15\",\"2001-05-16\",\"2001-05-17\",\"2001-05-18\",\"2001-05-21\",\"2001-05-22\",\"2001-05-23\",\"2001-05-24\",\"2001-05-25\",\"2001-05-29\",\"2001-05-30\",\"2001-05-31\",\"2001-06-01\",\"2001-06-04\",\"2001-06-05\",\"2001-06-06\",\"2001-06-07\",\"2001-06-08\",\"2001-06-11\",\"2001-06-12\",\"2001-06-13\",\"2001-06-14\",\"2001-06-15\",\"2001-06-18\",\"2001-06-19\",\"2001-06-20\",\"2001-06-21\",\"2001-06-22\",\"2001-06-25\",\"2001-06-26\",\"2001-06-27\",\"2001-06-28\",\"2001-06-29\",\"2001-07-02\",\"2001-07-03\",\"2001-07-05\",\"2001-07-06\",\"2001-07-09\",\"2001-07-10\",\"2001-07-11\",\"2001-07-12\",\"2001-07-13\",\"2001-07-16\",\"2001-07-17\",\"2001-07-18\",\"2001-07-19\",\"2001-07-20\",\"2001-07-23\",\"2001-07-24\",\"2001-07-25\",\"2001-07-26\",\"2001-07-27\",\"2001-07-30\",\"2001-07-31\",\"2001-08-01\",\"2001-08-02\",\"2001-08-03\",\"2001-08-06\",\"2001-08-07\",\"2001-08-08\",\"2001-08-09\",\"2001-08-10\",\"2001-08-13\",\"2001-08-14\",\"2001-08-15\",\"2001-08-16\",\"2001-08-17\",\"2001-08-20\",\"2001-08-21\",\"2001-08-22\",\"2001-08-23\",\"2001-08-24\",\"2001-08-27\",\"2001-08-28\",\"2001-08-29\",\"2001-08-30\",\"2001-08-31\",\"2001-09-04\",\"2001-09-05\",\"2001-09-06\",\"2001-09-07\",\"2001-09-10\",\"2001-09-17\",\"2001-09-18\",\"2001-09-19\",\"2001-09-20\",\"2001-09-21\",\"2001-09-24\",\"2001-09-25\",\"2001-09-26\",\"2001-09-27\",\"2001-09-28\",\"2001-10-01\",\"2001-10-02\",\"2001-10-03\",\"2001-10-04\",\"2001-10-05\",\"2001-10-08\",\"2001-10-09\",\"2001-10-10\",\"2001-10-11\",\"2001-10-12\",\"2001-10-15\",\"2001-10-16\",\"2001-10-17\",\"2001-10-18\",\"2001-10-19\",\"2001-10-22\",\"2001-10-23\",\"2001-10-24\",\"2001-10-25\",\"2001-10-26\",\"2001-10-29\",\"2001-10-30\",\"2001-10-31\",\"2001-11-01\",\"2001-11-02\",\"2001-11-05\",\"2001-11-06\",\"2001-11-07\",\"2001-11-08\",\"2001-11-09\",\"2001-11-12\",\"2001-11-13\",\"2001-11-14\",\"2001-11-15\",\"2001-11-16\",\"2001-11-19\",\"2001-11-20\",\"2001-11-21\",\"2001-11-23\",\"2001-11-26\",\"2001-11-27\",\"2001-11-28\",\"2001-11-29\",\"2001-11-30\",\"2001-12-03\",\"2001-12-04\",\"2001-12-05\",\"2001-12-06\",\"2001-12-07\",\"2001-12-10\",\"2001-12-11\",\"2001-12-12\",\"2001-12-13\",\"2001-12-14\",\"2001-12-17\",\"2001-12-18\",\"2001-12-19\",\"2001-12-20\",\"2001-12-21\",\"2001-12-24\",\"2001-12-26\",\"2001-12-27\",\"2001-12-28\",\"2001-12-31\",\"2002-01-02\",\"2002-01-03\",\"2002-01-04\",\"2002-01-07\",\"2002-01-08\",\"2002-01-09\",\"2002-01-10\",\"2002-01-11\",\"2002-01-14\",\"2002-01-15\",\"2002-01-16\",\"2002-01-17\",\"2002-01-18\",\"2002-01-22\",\"2002-01-23\",\"2002-01-24\",\"2002-01-25\",\"2002-01-28\",\"2002-01-29\",\"2002-01-30\",\"2002-01-31\",\"2002-02-01\",\"2002-02-04\",\"2002-02-05\",\"2002-02-06\",\"2002-02-07\",\"2002-02-08\",\"2002-02-11\",\"2002-02-12\",\"2002-02-13\",\"2002-02-14\",\"2002-02-15\",\"2002-02-19\",\"2002-02-20\",\"2002-02-21\",\"2002-02-22\",\"2002-02-25\",\"2002-02-26\",\"2002-02-27\",\"2002-02-28\",\"2002-03-01\",\"2002-03-04\",\"2002-03-05\",\"2002-03-06\",\"2002-03-07\",\"2002-03-08\",\"2002-03-11\",\"2002-03-12\",\"2002-03-13\",\"2002-03-14\",\"2002-03-15\",\"2002-03-18\",\"2002-03-19\",\"2002-03-20\",\"2002-03-21\",\"2002-03-22\",\"2002-03-25\",\"2002-03-26\",\"2002-03-27\",\"2002-03-28\",\"2002-04-01\",\"2002-04-02\",\"2002-04-03\",\"2002-04-04\",\"2002-04-05\",\"2002-04-08\",\"2002-04-09\",\"2002-04-10\",\"2002-04-11\",\"2002-04-12\",\"2002-04-15\",\"2002-04-16\",\"2002-04-17\",\"2002-04-18\",\"2002-04-19\",\"2002-04-22\",\"2002-04-23\",\"2002-04-24\",\"2002-04-25\",\"2002-04-26\",\"2002-04-29\",\"2002-04-30\",\"2002-05-01\",\"2002-05-02\",\"2002-05-03\",\"2002-05-06\",\"2002-05-07\",\"2002-05-08\",\"2002-05-09\",\"2002-05-10\",\"2002-05-13\",\"2002-05-14\",\"2002-05-15\",\"2002-05-16\",\"2002-05-17\",\"2002-05-20\",\"2002-05-21\",\"2002-05-22\",\"2002-05-23\",\"2002-05-24\",\"2002-05-28\",\"2002-05-29\",\"2002-05-30\",\"2002-05-31\",\"2002-06-03\",\"2002-06-04\",\"2002-06-05\",\"2002-06-06\",\"2002-06-07\",\"2002-06-10\",\"2002-06-11\",\"2002-06-12\",\"2002-06-13\",\"2002-06-14\",\"2002-06-17\",\"2002-06-18\",\"2002-06-19\",\"2002-06-20\",\"2002-06-21\",\"2002-06-24\",\"2002-06-25\",\"2002-06-26\",\"2002-06-27\",\"2002-06-28\",\"2002-07-01\",\"2002-07-02\",\"2002-07-03\",\"2002-07-05\",\"2002-07-08\",\"2002-07-09\",\"2002-07-10\",\"2002-07-11\",\"2002-07-12\",\"2002-07-15\",\"2002-07-16\",\"2002-07-17\",\"2002-07-18\",\"2002-07-19\",\"2002-07-22\",\"2002-07-23\",\"2002-07-24\",\"2002-07-25\",\"2002-07-26\",\"2002-07-29\",\"2002-07-30\",\"2002-07-31\",\"2002-08-01\",\"2002-08-02\",\"2002-08-05\",\"2002-08-06\",\"2002-08-07\",\"2002-08-08\",\"2002-08-09\",\"2002-08-12\",\"2002-08-13\",\"2002-08-14\",\"2002-08-15\",\"2002-08-16\",\"2002-08-19\",\"2002-08-20\",\"2002-08-21\",\"2002-08-22\",\"2002-08-23\",\"2002-08-26\",\"2002-08-27\",\"2002-08-28\",\"2002-08-29\",\"2002-08-30\",\"2002-09-03\",\"2002-09-04\",\"2002-09-05\",\"2002-09-06\",\"2002-09-09\",\"2002-09-10\",\"2002-09-11\",\"2002-09-12\",\"2002-09-13\",\"2002-09-16\",\"2002-09-17\",\"2002-09-18\",\"2002-09-19\",\"2002-09-20\",\"2002-09-23\",\"2002-09-24\",\"2002-09-25\",\"2002-09-26\",\"2002-09-27\",\"2002-09-30\",\"2002-10-01\",\"2002-10-02\",\"2002-10-03\",\"2002-10-04\",\"2002-10-07\",\"2002-10-08\",\"2002-10-09\",\"2002-10-10\",\"2002-10-11\",\"2002-10-14\",\"2002-10-15\",\"2002-10-16\",\"2002-10-17\",\"2002-10-18\",\"2002-10-21\",\"2002-10-22\",\"2002-10-23\",\"2002-10-24\",\"2002-10-25\",\"2002-10-28\",\"2002-10-29\",\"2002-10-30\",\"2002-10-31\",\"2002-11-01\",\"2002-11-04\",\"2002-11-05\",\"2002-11-06\",\"2002-11-07\",\"2002-11-08\",\"2002-11-11\",\"2002-11-12\",\"2002-11-13\",\"2002-11-14\",\"2002-11-15\",\"2002-11-18\",\"2002-11-19\",\"2002-11-20\",\"2002-11-21\",\"2002-11-22\",\"2002-11-25\",\"2002-11-26\",\"2002-11-27\",\"2002-11-29\",\"2002-12-02\",\"2002-12-03\",\"2002-12-04\",\"2002-12-05\",\"2002-12-06\",\"2002-12-09\",\"2002-12-10\",\"2002-12-11\",\"2002-12-12\",\"2002-12-13\",\"2002-12-16\",\"2002-12-17\",\"2002-12-18\",\"2002-12-19\",\"2002-12-20\",\"2002-12-23\",\"2002-12-24\",\"2002-12-26\",\"2002-12-27\",\"2002-12-30\",\"2002-12-31\",\"2003-01-02\",\"2003-01-03\",\"2003-01-06\",\"2003-01-07\",\"2003-01-08\",\"2003-01-09\",\"2003-01-10\",\"2003-01-13\",\"2003-01-14\",\"2003-01-15\",\"2003-01-16\",\"2003-01-17\",\"2003-01-21\",\"2003-01-22\",\"2003-01-23\",\"2003-01-24\",\"2003-01-27\",\"2003-01-28\",\"2003-01-29\",\"2003-01-30\",\"2003-01-31\",\"2003-02-03\",\"2003-02-04\",\"2003-02-05\",\"2003-02-06\",\"2003-02-07\",\"2003-02-10\",\"2003-02-11\",\"2003-02-12\",\"2003-02-13\",\"2003-02-14\",\"2003-02-18\",\"2003-02-19\",\"2003-02-20\",\"2003-02-21\",\"2003-02-24\",\"2003-02-25\",\"2003-02-26\",\"2003-02-27\",\"2003-02-28\",\"2003-03-03\",\"2003-03-04\",\"2003-03-05\",\"2003-03-06\",\"2003-03-07\",\"2003-03-10\",\"2003-03-11\",\"2003-03-12\",\"2003-03-13\",\"2003-03-14\",\"2003-03-17\",\"2003-03-18\",\"2003-03-19\",\"2003-03-20\",\"2003-03-21\",\"2003-03-24\",\"2003-03-25\",\"2003-03-26\",\"2003-03-27\",\"2003-03-28\",\"2003-03-31\",\"2003-04-01\",\"2003-04-02\",\"2003-04-03\",\"2003-04-04\",\"2003-04-07\",\"2003-04-08\",\"2003-04-09\",\"2003-04-10\",\"2003-04-11\",\"2003-04-14\",\"2003-04-15\",\"2003-04-16\",\"2003-04-17\",\"2003-04-21\",\"2003-04-22\",\"2003-04-23\",\"2003-04-24\",\"2003-04-25\",\"2003-04-28\",\"2003-04-29\",\"2003-04-30\",\"2003-05-01\",\"2003-05-02\",\"2003-05-05\",\"2003-05-06\",\"2003-05-07\",\"2003-05-08\",\"2003-05-09\",\"2003-05-12\",\"2003-05-13\",\"2003-05-14\",\"2003-05-15\",\"2003-05-16\",\"2003-05-19\",\"2003-05-20\",\"2003-05-21\",\"2003-05-22\",\"2003-05-23\",\"2003-05-27\",\"2003-05-28\",\"2003-05-29\",\"2003-05-30\",\"2003-06-02\",\"2003-06-03\",\"2003-06-04\",\"2003-06-05\",\"2003-06-06\",\"2003-06-09\",\"2003-06-10\",\"2003-06-11\",\"2003-06-12\",\"2003-06-13\",\"2003-06-16\",\"2003-06-17\",\"2003-06-18\",\"2003-06-19\",\"2003-06-20\",\"2003-06-23\",\"2003-06-24\",\"2003-06-25\",\"2003-06-26\",\"2003-06-27\",\"2003-06-30\",\"2003-07-01\",\"2003-07-02\",\"2003-07-03\",\"2003-07-07\",\"2003-07-08\",\"2003-07-09\",\"2003-07-10\",\"2003-07-11\",\"2003-07-14\",\"2003-07-15\",\"2003-07-16\",\"2003-07-17\",\"2003-07-18\",\"2003-07-21\",\"2003-07-22\",\"2003-07-23\",\"2003-07-24\",\"2003-07-25\",\"2003-07-28\",\"2003-07-29\",\"2003-07-30\",\"2003-07-31\",\"2003-08-01\",\"2003-08-04\",\"2003-08-05\",\"2003-08-06\",\"2003-08-07\",\"2003-08-08\",\"2003-08-11\",\"2003-08-12\",\"2003-08-13\",\"2003-08-14\",\"2003-08-15\",\"2003-08-18\",\"2003-08-19\",\"2003-08-20\",\"2003-08-21\",\"2003-08-22\",\"2003-08-25\",\"2003-08-26\",\"2003-08-27\",\"2003-08-28\",\"2003-08-29\",\"2003-09-02\",\"2003-09-03\",\"2003-09-04\",\"2003-09-05\",\"2003-09-08\",\"2003-09-09\",\"2003-09-10\",\"2003-09-11\",\"2003-09-12\",\"2003-09-15\",\"2003-09-16\",\"2003-09-17\",\"2003-09-18\",\"2003-09-19\",\"2003-09-22\",\"2003-09-23\",\"2003-09-24\",\"2003-09-25\",\"2003-09-26\",\"2003-09-29\",\"2003-09-30\",\"2003-10-01\",\"2003-10-02\",\"2003-10-03\",\"2003-10-06\",\"2003-10-07\",\"2003-10-08\",\"2003-10-09\",\"2003-10-10\",\"2003-10-13\",\"2003-10-14\",\"2003-10-15\",\"2003-10-16\",\"2003-10-17\",\"2003-10-20\",\"2003-10-21\",\"2003-10-22\",\"2003-10-23\",\"2003-10-24\",\"2003-10-27\",\"2003-10-28\",\"2003-10-29\",\"2003-10-30\",\"2003-10-31\",\"2003-11-03\",\"2003-11-04\",\"2003-11-05\",\"2003-11-06\",\"2003-11-07\",\"2003-11-10\",\"2003-11-11\",\"2003-11-12\",\"2003-11-13\",\"2003-11-14\",\"2003-11-17\",\"2003-11-18\",\"2003-11-19\",\"2003-11-20\",\"2003-11-21\",\"2003-11-24\",\"2003-11-25\",\"2003-11-26\",\"2003-11-28\",\"2003-12-01\",\"2003-12-02\",\"2003-12-03\",\"2003-12-04\",\"2003-12-05\",\"2003-12-08\",\"2003-12-09\",\"2003-12-10\",\"2003-12-11\",\"2003-12-12\",\"2003-12-15\",\"2003-12-16\",\"2003-12-17\",\"2003-12-18\",\"2003-12-19\",\"2003-12-22\",\"2003-12-23\",\"2003-12-24\",\"2003-12-26\",\"2003-12-29\",\"2003-12-30\",\"2003-12-31\",\"2004-01-02\",\"2004-01-05\",\"2004-01-06\",\"2004-01-07\",\"2004-01-08\",\"2004-01-09\",\"2004-01-12\",\"2004-01-13\",\"2004-01-14\",\"2004-01-15\",\"2004-01-16\",\"2004-01-20\",\"2004-01-21\",\"2004-01-22\",\"2004-01-23\",\"2004-01-26\",\"2004-01-27\",\"2004-01-28\",\"2004-01-29\",\"2004-01-30\",\"2004-02-02\",\"2004-02-03\",\"2004-02-04\",\"2004-02-05\",\"2004-02-06\",\"2004-02-09\",\"2004-02-10\",\"2004-02-11\",\"2004-02-12\",\"2004-02-13\",\"2004-02-17\",\"2004-02-18\",\"2004-02-19\",\"2004-02-20\",\"2004-02-23\",\"2004-02-24\",\"2004-02-25\",\"2004-02-26\",\"2004-02-27\",\"2004-03-01\",\"2004-03-02\",\"2004-03-03\",\"2004-03-04\",\"2004-03-05\",\"2004-03-08\",\"2004-03-09\",\"2004-03-10\",\"2004-03-11\",\"2004-03-12\",\"2004-03-15\",\"2004-03-16\",\"2004-03-17\",\"2004-03-18\",\"2004-03-19\",\"2004-03-22\",\"2004-03-23\",\"2004-03-24\",\"2004-03-25\",\"2004-03-26\",\"2004-03-29\",\"2004-03-30\",\"2004-03-31\",\"2004-04-01\",\"2004-04-02\",\"2004-04-05\",\"2004-04-06\",\"2004-04-07\",\"2004-04-08\",\"2004-04-12\",\"2004-04-13\",\"2004-04-14\",\"2004-04-15\",\"2004-04-16\",\"2004-04-19\",\"2004-04-20\",\"2004-04-21\",\"2004-04-22\",\"2004-04-23\",\"2004-04-26\",\"2004-04-27\",\"2004-04-28\",\"2004-04-29\",\"2004-04-30\",\"2004-05-03\",\"2004-05-04\",\"2004-05-05\",\"2004-05-06\",\"2004-05-07\",\"2004-05-10\",\"2004-05-11\",\"2004-05-12\",\"2004-05-13\",\"2004-05-14\",\"2004-05-17\",\"2004-05-18\",\"2004-05-19\",\"2004-05-20\",\"2004-05-21\",\"2004-05-24\",\"2004-05-25\",\"2004-05-26\",\"2004-05-27\",\"2004-05-28\",\"2004-06-01\",\"2004-06-02\",\"2004-06-03\",\"2004-06-04\",\"2004-06-07\",\"2004-06-08\",\"2004-06-09\",\"2004-06-10\",\"2004-06-14\",\"2004-06-15\",\"2004-06-16\",\"2004-06-17\",\"2004-06-18\",\"2004-06-21\",\"2004-06-22\",\"2004-06-23\",\"2004-06-24\",\"2004-06-25\",\"2004-06-28\",\"2004-06-29\",\"2004-06-30\",\"2004-07-01\",\"2004-07-02\",\"2004-07-06\",\"2004-07-07\",\"2004-07-08\",\"2004-07-09\",\"2004-07-12\",\"2004-07-13\",\"2004-07-14\",\"2004-07-15\",\"2004-07-16\",\"2004-07-19\",\"2004-07-20\",\"2004-07-21\",\"2004-07-22\",\"2004-07-23\",\"2004-07-26\",\"2004-07-27\",\"2004-07-28\",\"2004-07-29\",\"2004-07-30\",\"2004-08-02\",\"2004-08-03\",\"2004-08-04\",\"2004-08-05\",\"2004-08-06\",\"2004-08-09\",\"2004-08-10\",\"2004-08-11\",\"2004-08-12\",\"2004-08-13\",\"2004-08-16\",\"2004-08-17\",\"2004-08-18\",\"2004-08-19\",\"2004-08-20\",\"2004-08-23\",\"2004-08-24\",\"2004-08-25\",\"2004-08-26\",\"2004-08-27\",\"2004-08-30\",\"2004-08-31\",\"2004-09-01\",\"2004-09-02\",\"2004-09-03\",\"2004-09-07\",\"2004-09-08\",\"2004-09-09\",\"2004-09-10\",\"2004-09-13\",\"2004-09-14\",\"2004-09-15\",\"2004-09-16\",\"2004-09-17\",\"2004-09-20\",\"2004-09-21\",\"2004-09-22\",\"2004-09-23\",\"2004-09-24\",\"2004-09-27\",\"2004-09-28\",\"2004-09-29\",\"2004-09-30\",\"2004-10-01\",\"2004-10-04\",\"2004-10-05\",\"2004-10-06\",\"2004-10-07\",\"2004-10-08\",\"2004-10-11\",\"2004-10-12\",\"2004-10-13\",\"2004-10-14\",\"2004-10-15\",\"2004-10-18\",\"2004-10-19\",\"2004-10-20\",\"2004-10-21\",\"2004-10-22\",\"2004-10-25\",\"2004-10-26\",\"2004-10-27\",\"2004-10-28\",\"2004-10-29\",\"2004-11-01\",\"2004-11-02\",\"2004-11-03\",\"2004-11-04\",\"2004-11-05\",\"2004-11-08\",\"2004-11-09\",\"2004-11-10\",\"2004-11-11\",\"2004-11-12\",\"2004-11-15\",\"2004-11-16\",\"2004-11-17\",\"2004-11-18\",\"2004-11-19\",\"2004-11-22\",\"2004-11-23\",\"2004-11-24\",\"2004-11-26\",\"2004-11-29\",\"2004-11-30\",\"2004-12-01\",\"2004-12-02\",\"2004-12-03\",\"2004-12-06\",\"2004-12-07\",\"2004-12-08\",\"2004-12-09\",\"2004-12-10\",\"2004-12-13\",\"2004-12-14\",\"2004-12-15\",\"2004-12-16\",\"2004-12-17\",\"2004-12-20\",\"2004-12-21\",\"2004-12-22\",\"2004-12-23\",\"2004-12-27\",\"2004-12-28\",\"2004-12-29\",\"2004-12-30\",\"2004-12-31\",\"2005-01-03\",\"2005-01-04\",\"2005-01-05\",\"2005-01-06\",\"2005-01-07\",\"2005-01-10\",\"2005-01-11\",\"2005-01-12\",\"2005-01-13\",\"2005-01-14\",\"2005-01-18\",\"2005-01-19\",\"2005-01-20\",\"2005-01-21\",\"2005-01-24\",\"2005-01-25\",\"2005-01-26\",\"2005-01-27\",\"2005-01-28\",\"2005-01-31\",\"2005-02-01\",\"2005-02-02\",\"2005-02-03\",\"2005-02-04\",\"2005-02-07\",\"2005-02-08\",\"2005-02-09\",\"2005-02-10\",\"2005-02-11\",\"2005-02-14\",\"2005-02-15\",\"2005-02-16\",\"2005-02-17\",\"2005-02-18\",\"2005-02-22\",\"2005-02-23\",\"2005-02-24\",\"2005-02-25\",\"2005-02-28\",\"2005-03-01\",\"2005-03-02\",\"2005-03-03\",\"2005-03-04\",\"2005-03-07\",\"2005-03-08\",\"2005-03-09\",\"2005-03-10\",\"2005-03-11\",\"2005-03-14\",\"2005-03-15\",\"2005-03-16\",\"2005-03-17\",\"2005-03-18\",\"2005-03-21\",\"2005-03-22\",\"2005-03-23\",\"2005-03-24\",\"2005-03-28\",\"2005-03-29\",\"2005-03-30\",\"2005-03-31\",\"2005-04-01\",\"2005-04-04\",\"2005-04-05\",\"2005-04-06\",\"2005-04-07\",\"2005-04-08\",\"2005-04-11\",\"2005-04-12\",\"2005-04-13\",\"2005-04-14\",\"2005-04-15\",\"2005-04-18\",\"2005-04-19\",\"2005-04-20\",\"2005-04-21\",\"2005-04-22\",\"2005-04-25\",\"2005-04-26\",\"2005-04-27\",\"2005-04-28\",\"2005-04-29\",\"2005-05-02\",\"2005-05-03\",\"2005-05-04\",\"2005-05-05\",\"2005-05-06\",\"2005-05-09\",\"2005-05-10\",\"2005-05-11\",\"2005-05-12\",\"2005-05-13\",\"2005-05-16\",\"2005-05-17\",\"2005-05-18\",\"2005-05-19\",\"2005-05-20\",\"2005-05-23\",\"2005-05-24\",\"2005-05-25\",\"2005-05-26\",\"2005-05-27\",\"2005-05-31\",\"2005-06-01\",\"2005-06-02\",\"2005-06-03\",\"2005-06-06\",\"2005-06-07\",\"2005-06-08\",\"2005-06-09\",\"2005-06-10\",\"2005-06-13\",\"2005-06-14\",\"2005-06-15\",\"2005-06-16\",\"2005-06-17\",\"2005-06-20\",\"2005-06-21\",\"2005-06-22\",\"2005-06-23\",\"2005-06-24\",\"2005-06-27\",\"2005-06-28\",\"2005-06-29\",\"2005-06-30\",\"2005-07-01\",\"2005-07-05\",\"2005-07-06\",\"2005-07-07\",\"2005-07-08\",\"2005-07-11\",\"2005-07-12\",\"2005-07-13\",\"2005-07-14\",\"2005-07-15\",\"2005-07-18\",\"2005-07-19\",\"2005-07-20\",\"2005-07-21\",\"2005-07-22\",\"2005-07-25\",\"2005-07-26\",\"2005-07-27\",\"2005-07-28\",\"2005-07-29\",\"2005-08-01\",\"2005-08-02\",\"2005-08-03\",\"2005-08-04\",\"2005-08-05\",\"2005-08-08\",\"2005-08-09\",\"2005-08-10\",\"2005-08-11\",\"2005-08-12\",\"2005-08-15\",\"2005-08-16\",\"2005-08-17\",\"2005-08-18\",\"2005-08-19\",\"2005-08-22\",\"2005-08-23\",\"2005-08-24\",\"2005-08-25\",\"2005-08-26\",\"2005-08-29\",\"2005-08-30\",\"2005-08-31\",\"2005-09-01\",\"2005-09-02\",\"2005-09-06\",\"2005-09-07\",\"2005-09-08\",\"2005-09-09\",\"2005-09-12\",\"2005-09-13\",\"2005-09-14\",\"2005-09-15\",\"2005-09-16\",\"2005-09-19\",\"2005-09-20\",\"2005-09-21\",\"2005-09-22\",\"2005-09-23\",\"2005-09-26\",\"2005-09-27\",\"2005-09-28\",\"2005-09-29\",\"2005-09-30\",\"2005-10-03\",\"2005-10-04\",\"2005-10-05\",\"2005-10-06\",\"2005-10-07\",\"2005-10-10\",\"2005-10-11\",\"2005-10-12\",\"2005-10-13\",\"2005-10-14\",\"2005-10-17\",\"2005-10-18\",\"2005-10-19\",\"2005-10-20\",\"2005-10-21\",\"2005-10-24\",\"2005-10-25\",\"2005-10-26\",\"2005-10-27\",\"2005-10-28\",\"2005-10-31\",\"2005-11-01\",\"2005-11-02\",\"2005-11-03\",\"2005-11-04\",\"2005-11-07\",\"2005-11-08\",\"2005-11-09\",\"2005-11-10\",\"2005-11-11\",\"2005-11-14\",\"2005-11-15\",\"2005-11-16\",\"2005-11-17\",\"2005-11-18\",\"2005-11-21\",\"2005-11-22\",\"2005-11-23\",\"2005-11-25\",\"2005-11-28\",\"2005-11-29\",\"2005-11-30\",\"2005-12-01\",\"2005-12-02\",\"2005-12-05\",\"2005-12-06\",\"2005-12-07\",\"2005-12-08\",\"2005-12-09\",\"2005-12-12\",\"2005-12-13\",\"2005-12-14\",\"2005-12-15\",\"2005-12-16\",\"2005-12-19\",\"2005-12-20\",\"2005-12-21\",\"2005-12-22\",\"2005-12-23\",\"2005-12-27\",\"2005-12-28\",\"2005-12-29\",\"2005-12-30\",\"2006-01-03\",\"2006-01-04\",\"2006-01-05\",\"2006-01-06\",\"2006-01-09\",\"2006-01-10\",\"2006-01-11\",\"2006-01-12\",\"2006-01-13\",\"2006-01-17\",\"2006-01-18\",\"2006-01-19\",\"2006-01-20\",\"2006-01-23\",\"2006-01-24\",\"2006-01-25\",\"2006-01-26\",\"2006-01-27\",\"2006-01-30\",\"2006-01-31\",\"2006-02-01\",\"2006-02-02\",\"2006-02-03\",\"2006-02-06\",\"2006-02-07\",\"2006-02-08\",\"2006-02-09\",\"2006-02-10\",\"2006-02-13\",\"2006-02-14\",\"2006-02-15\",\"2006-02-16\",\"2006-02-17\",\"2006-02-21\",\"2006-02-22\",\"2006-02-23\",\"2006-02-24\",\"2006-02-27\",\"2006-02-28\",\"2006-03-01\",\"2006-03-02\",\"2006-03-03\",\"2006-03-06\",\"2006-03-07\",\"2006-03-08\",\"2006-03-09\",\"2006-03-10\",\"2006-03-13\",\"2006-03-14\",\"2006-03-15\",\"2006-03-16\",\"2006-03-17\",\"2006-03-20\",\"2006-03-21\",\"2006-03-22\",\"2006-03-23\",\"2006-03-24\",\"2006-03-27\",\"2006-03-28\",\"2006-03-29\",\"2006-03-30\",\"2006-03-31\",\"2006-04-03\",\"2006-04-04\",\"2006-04-05\",\"2006-04-06\",\"2006-04-07\",\"2006-04-10\",\"2006-04-11\",\"2006-04-12\",\"2006-04-13\",\"2006-04-17\",\"2006-04-18\",\"2006-04-19\",\"2006-04-20\",\"2006-04-21\",\"2006-04-24\",\"2006-04-25\",\"2006-04-26\",\"2006-04-27\",\"2006-04-28\",\"2006-05-01\",\"2006-05-02\",\"2006-05-03\",\"2006-05-04\",\"2006-05-05\",\"2006-05-08\",\"2006-05-09\",\"2006-05-10\",\"2006-05-11\",\"2006-05-12\",\"2006-05-15\",\"2006-05-16\",\"2006-05-17\",\"2006-05-18\",\"2006-05-19\",\"2006-05-22\",\"2006-05-23\",\"2006-05-24\",\"2006-05-25\",\"2006-05-26\",\"2006-05-30\",\"2006-05-31\",\"2006-06-01\",\"2006-06-02\",\"2006-06-05\",\"2006-06-06\",\"2006-06-07\",\"2006-06-08\",\"2006-06-09\",\"2006-06-12\",\"2006-06-13\",\"2006-06-14\",\"2006-06-15\",\"2006-06-16\",\"2006-06-19\",\"2006-06-20\",\"2006-06-21\",\"2006-06-22\",\"2006-06-23\",\"2006-06-26\",\"2006-06-27\",\"2006-06-28\",\"2006-06-29\",\"2006-06-30\",\"2006-07-03\",\"2006-07-05\",\"2006-07-06\",\"2006-07-07\",\"2006-07-10\",\"2006-07-11\",\"2006-07-12\",\"2006-07-13\",\"2006-07-14\",\"2006-07-17\",\"2006-07-18\",\"2006-07-19\",\"2006-07-20\",\"2006-07-21\",\"2006-07-24\",\"2006-07-25\",\"2006-07-26\",\"2006-07-27\",\"2006-07-28\",\"2006-07-31\",\"2006-08-01\",\"2006-08-02\",\"2006-08-03\",\"2006-08-04\",\"2006-08-07\",\"2006-08-08\",\"2006-08-09\",\"2006-08-10\",\"2006-08-11\",\"2006-08-14\",\"2006-08-15\",\"2006-08-16\",\"2006-08-17\",\"2006-08-18\",\"2006-08-21\",\"2006-08-22\",\"2006-08-23\",\"2006-08-24\",\"2006-08-25\",\"2006-08-28\",\"2006-08-29\",\"2006-08-30\",\"2006-08-31\",\"2006-09-01\",\"2006-09-05\",\"2006-09-06\",\"2006-09-07\",\"2006-09-08\",\"2006-09-11\",\"2006-09-12\",\"2006-09-13\",\"2006-09-14\",\"2006-09-15\",\"2006-09-18\",\"2006-09-19\",\"2006-09-20\",\"2006-09-21\",\"2006-09-22\",\"2006-09-25\",\"2006-09-26\",\"2006-09-27\",\"2006-09-28\",\"2006-09-29\",\"2006-10-02\",\"2006-10-03\",\"2006-10-04\",\"2006-10-05\",\"2006-10-06\",\"2006-10-09\",\"2006-10-10\",\"2006-10-11\",\"2006-10-12\",\"2006-10-13\",\"2006-10-16\",\"2006-10-17\",\"2006-10-18\",\"2006-10-19\",\"2006-10-20\",\"2006-10-23\",\"2006-10-24\",\"2006-10-25\",\"2006-10-26\",\"2006-10-27\",\"2006-10-30\",\"2006-10-31\",\"2006-11-01\",\"2006-11-02\",\"2006-11-03\",\"2006-11-06\",\"2006-11-07\",\"2006-11-08\",\"2006-11-09\",\"2006-11-10\",\"2006-11-13\",\"2006-11-14\",\"2006-11-15\",\"2006-11-16\",\"2006-11-17\",\"2006-11-20\",\"2006-11-21\",\"2006-11-22\",\"2006-11-24\",\"2006-11-27\",\"2006-11-28\",\"2006-11-29\",\"2006-11-30\",\"2006-12-01\",\"2006-12-04\",\"2006-12-05\",\"2006-12-06\",\"2006-12-07\",\"2006-12-08\",\"2006-12-11\",\"2006-12-12\",\"2006-12-13\",\"2006-12-14\",\"2006-12-15\",\"2006-12-18\",\"2006-12-19\",\"2006-12-20\",\"2006-12-21\",\"2006-12-22\",\"2006-12-26\",\"2006-12-27\",\"2006-12-28\",\"2006-12-29\",\"2007-01-03\",\"2007-01-04\",\"2007-01-05\",\"2007-01-08\",\"2007-01-09\",\"2007-01-10\",\"2007-01-11\",\"2007-01-12\",\"2007-01-16\",\"2007-01-17\",\"2007-01-18\",\"2007-01-19\",\"2007-01-22\",\"2007-01-23\",\"2007-01-24\",\"2007-01-25\",\"2007-01-26\",\"2007-01-29\",\"2007-01-30\",\"2007-01-31\",\"2007-02-01\",\"2007-02-02\",\"2007-02-05\",\"2007-02-06\",\"2007-02-07\",\"2007-02-08\",\"2007-02-09\",\"2007-02-12\",\"2007-02-13\",\"2007-02-14\",\"2007-02-15\",\"2007-02-16\",\"2007-02-20\",\"2007-02-21\",\"2007-02-22\",\"2007-02-23\",\"2007-02-26\",\"2007-02-27\",\"2007-02-28\",\"2007-03-01\",\"2007-03-02\",\"2007-03-05\",\"2007-03-06\",\"2007-03-07\",\"2007-03-08\",\"2007-03-09\",\"2007-03-12\",\"2007-03-13\",\"2007-03-14\",\"2007-03-15\",\"2007-03-16\",\"2007-03-19\",\"2007-03-20\",\"2007-03-21\",\"2007-03-22\",\"2007-03-23\",\"2007-03-26\",\"2007-03-27\",\"2007-03-28\",\"2007-03-29\",\"2007-03-30\",\"2007-04-02\",\"2007-04-03\",\"2007-04-04\",\"2007-04-05\",\"2007-04-09\",\"2007-04-10\",\"2007-04-11\",\"2007-04-12\",\"2007-04-13\",\"2007-04-16\",\"2007-04-17\",\"2007-04-18\",\"2007-04-19\",\"2007-04-20\",\"2007-04-23\",\"2007-04-24\",\"2007-04-25\",\"2007-04-26\",\"2007-04-27\",\"2007-04-30\",\"2007-05-01\",\"2007-05-02\",\"2007-05-03\",\"2007-05-04\",\"2007-05-07\",\"2007-05-08\",\"2007-05-09\",\"2007-05-10\",\"2007-05-11\",\"2007-05-14\",\"2007-05-15\",\"2007-05-16\",\"2007-05-17\",\"2007-05-18\",\"2007-05-21\",\"2007-05-22\",\"2007-05-23\",\"2007-05-24\",\"2007-05-25\",\"2007-05-29\",\"2007-05-30\",\"2007-05-31\",\"2007-06-01\",\"2007-06-04\",\"2007-06-05\",\"2007-06-06\",\"2007-06-07\",\"2007-06-08\",\"2007-06-11\",\"2007-06-12\",\"2007-06-13\",\"2007-06-14\",\"2007-06-15\",\"2007-06-18\",\"2007-06-19\",\"2007-06-20\",\"2007-06-21\",\"2007-06-22\",\"2007-06-25\",\"2007-06-26\",\"2007-06-27\",\"2007-06-28\",\"2007-06-29\",\"2007-07-02\",\"2007-07-03\",\"2007-07-05\",\"2007-07-06\",\"2007-07-09\",\"2007-07-10\",\"2007-07-11\",\"2007-07-12\",\"2007-07-13\",\"2007-07-16\",\"2007-07-17\",\"2007-07-18\",\"2007-07-19\",\"2007-07-20\",\"2007-07-23\",\"2007-07-24\",\"2007-07-25\",\"2007-07-26\",\"2007-07-27\",\"2007-07-30\",\"2007-07-31\",\"2007-08-01\",\"2007-08-02\",\"2007-08-03\",\"2007-08-06\",\"2007-08-07\",\"2007-08-08\",\"2007-08-09\",\"2007-08-10\",\"2007-08-13\",\"2007-08-14\",\"2007-08-15\",\"2007-08-16\",\"2007-08-17\",\"2007-08-20\",\"2007-08-21\",\"2007-08-22\",\"2007-08-23\",\"2007-08-24\",\"2007-08-27\",\"2007-08-28\",\"2007-08-29\",\"2007-08-30\",\"2007-08-31\",\"2007-09-04\",\"2007-09-05\",\"2007-09-06\",\"2007-09-07\",\"2007-09-10\",\"2007-09-11\",\"2007-09-12\",\"2007-09-13\",\"2007-09-14\",\"2007-09-17\",\"2007-09-18\",\"2007-09-19\",\"2007-09-20\",\"2007-09-21\",\"2007-09-24\",\"2007-09-25\",\"2007-09-26\",\"2007-09-27\",\"2007-09-28\",\"2007-10-01\",\"2007-10-02\",\"2007-10-03\",\"2007-10-04\",\"2007-10-05\",\"2007-10-08\",\"2007-10-09\",\"2007-10-10\",\"2007-10-11\",\"2007-10-12\",\"2007-10-15\",\"2007-10-16\",\"2007-10-17\",\"2007-10-18\",\"2007-10-19\",\"2007-10-22\",\"2007-10-23\",\"2007-10-24\",\"2007-10-25\",\"2007-10-26\",\"2007-10-29\",\"2007-10-30\",\"2007-10-31\",\"2007-11-01\",\"2007-11-02\",\"2007-11-05\",\"2007-11-06\",\"2007-11-07\",\"2007-11-08\",\"2007-11-09\",\"2007-11-12\",\"2007-11-13\",\"2007-11-14\",\"2007-11-15\",\"2007-11-16\",\"2007-11-19\",\"2007-11-20\",\"2007-11-21\",\"2007-11-23\",\"2007-11-26\",\"2007-11-27\",\"2007-11-28\",\"2007-11-29\",\"2007-11-30\",\"2007-12-03\",\"2007-12-04\",\"2007-12-05\",\"2007-12-06\",\"2007-12-07\",\"2007-12-10\",\"2007-12-11\",\"2007-12-12\",\"2007-12-13\",\"2007-12-14\",\"2007-12-17\",\"2007-12-18\",\"2007-12-19\",\"2007-12-20\",\"2007-12-21\",\"2007-12-24\",\"2007-12-26\",\"2007-12-27\",\"2007-12-28\",\"2007-12-31\",\"2008-01-02\",\"2008-01-03\",\"2008-01-04\",\"2008-01-07\",\"2008-01-08\",\"2008-01-09\",\"2008-01-10\",\"2008-01-11\",\"2008-01-14\",\"2008-01-15\",\"2008-01-16\",\"2008-01-17\",\"2008-01-18\",\"2008-01-22\",\"2008-01-23\",\"2008-01-24\",\"2008-01-25\",\"2008-01-28\",\"2008-01-29\",\"2008-01-30\",\"2008-01-31\",\"2008-02-01\",\"2008-02-04\",\"2008-02-05\",\"2008-02-06\",\"2008-02-07\",\"2008-02-08\",\"2008-02-11\",\"2008-02-12\",\"2008-02-13\",\"2008-02-14\",\"2008-02-15\",\"2008-02-19\",\"2008-02-20\",\"2008-02-21\",\"2008-02-22\",\"2008-02-25\",\"2008-02-26\",\"2008-02-27\",\"2008-02-28\",\"2008-02-29\",\"2008-03-03\",\"2008-03-04\",\"2008-03-05\",\"2008-03-06\",\"2008-03-07\",\"2008-03-10\",\"2008-03-11\",\"2008-03-12\",\"2008-03-13\",\"2008-03-14\",\"2008-03-17\",\"2008-03-18\",\"2008-03-19\",\"2008-03-20\",\"2008-03-24\",\"2008-03-25\",\"2008-03-26\",\"2008-03-27\",\"2008-03-28\",\"2008-03-31\",\"2008-04-01\",\"2008-04-02\",\"2008-04-03\",\"2008-04-04\",\"2008-04-07\",\"2008-04-08\",\"2008-04-09\",\"2008-04-10\",\"2008-04-11\",\"2008-04-14\",\"2008-04-15\",\"2008-04-16\",\"2008-04-17\",\"2008-04-18\",\"2008-04-21\",\"2008-04-22\",\"2008-04-23\",\"2008-04-24\",\"2008-04-25\",\"2008-04-28\",\"2008-04-29\",\"2008-04-30\",\"2008-05-01\",\"2008-05-02\",\"2008-05-05\",\"2008-05-06\",\"2008-05-07\",\"2008-05-08\",\"2008-05-09\",\"2008-05-12\",\"2008-05-13\",\"2008-05-14\",\"2008-05-15\",\"2008-05-16\",\"2008-05-19\",\"2008-05-20\",\"2008-05-21\",\"2008-05-22\",\"2008-05-23\",\"2008-05-27\",\"2008-05-28\",\"2008-05-29\",\"2008-05-30\",\"2008-06-02\",\"2008-06-03\",\"2008-06-04\",\"2008-06-05\",\"2008-06-06\",\"2008-06-09\",\"2008-06-10\",\"2008-06-11\",\"2008-06-12\",\"2008-06-13\",\"2008-06-16\",\"2008-06-17\",\"2008-06-18\",\"2008-06-19\",\"2008-06-20\",\"2008-06-23\",\"2008-06-24\",\"2008-06-25\",\"2008-06-26\",\"2008-06-27\",\"2008-06-30\",\"2008-07-01\",\"2008-07-02\",\"2008-07-03\",\"2008-07-07\",\"2008-07-08\",\"2008-07-09\",\"2008-07-10\",\"2008-07-11\",\"2008-07-14\",\"2008-07-15\",\"2008-07-16\",\"2008-07-17\",\"2008-07-18\",\"2008-07-21\",\"2008-07-22\",\"2008-07-23\",\"2008-07-24\",\"2008-07-25\",\"2008-07-28\",\"2008-07-29\",\"2008-07-30\",\"2008-07-31\",\"2008-08-01\",\"2008-08-04\",\"2008-08-05\",\"2008-08-06\",\"2008-08-07\",\"2008-08-08\",\"2008-08-11\",\"2008-08-12\",\"2008-08-13\",\"2008-08-14\",\"2008-08-15\",\"2008-08-18\",\"2008-08-19\",\"2008-08-20\",\"2008-08-21\",\"2008-08-22\",\"2008-08-25\",\"2008-08-26\",\"2008-08-27\",\"2008-08-28\",\"2008-08-29\",\"2008-09-02\",\"2008-09-03\",\"2008-09-04\",\"2008-09-05\",\"2008-09-08\",\"2008-09-09\",\"2008-09-10\",\"2008-09-11\",\"2008-09-12\",\"2008-09-15\",\"2008-09-16\",\"2008-09-17\",\"2008-09-18\",\"2008-09-19\",\"2008-09-22\",\"2008-09-23\",\"2008-09-24\",\"2008-09-25\",\"2008-09-26\",\"2008-09-29\",\"2008-09-30\",\"2008-10-01\",\"2008-10-02\",\"2008-10-03\",\"2008-10-06\",\"2008-10-07\",\"2008-10-08\",\"2008-10-09\",\"2008-10-10\",\"2008-10-13\",\"2008-10-14\",\"2008-10-15\",\"2008-10-16\",\"2008-10-17\",\"2008-10-20\",\"2008-10-21\",\"2008-10-22\",\"2008-10-23\",\"2008-10-24\",\"2008-10-27\",\"2008-10-28\",\"2008-10-29\",\"2008-10-30\",\"2008-10-31\",\"2008-11-03\",\"2008-11-04\",\"2008-11-05\",\"2008-11-06\",\"2008-11-07\",\"2008-11-10\",\"2008-11-11\",\"2008-11-12\",\"2008-11-13\",\"2008-11-14\",\"2008-11-17\",\"2008-11-18\",\"2008-11-19\",\"2008-11-20\",\"2008-11-21\",\"2008-11-24\",\"2008-11-25\",\"2008-11-26\",\"2008-11-28\",\"2008-12-01\",\"2008-12-02\",\"2008-12-03\",\"2008-12-04\",\"2008-12-05\",\"2008-12-08\",\"2008-12-09\",\"2008-12-10\",\"2008-12-11\",\"2008-12-12\",\"2008-12-15\",\"2008-12-16\",\"2008-12-17\",\"2008-12-18\",\"2008-12-19\",\"2008-12-22\",\"2008-12-23\",\"2008-12-24\",\"2008-12-26\",\"2008-12-29\",\"2008-12-30\",\"2008-12-31\",\"2009-01-02\",\"2009-01-05\",\"2009-01-06\",\"2009-01-07\",\"2009-01-08\",\"2009-01-09\",\"2009-01-12\",\"2009-01-13\",\"2009-01-14\",\"2009-01-15\",\"2009-01-16\",\"2009-01-20\",\"2009-01-21\",\"2009-01-22\",\"2009-01-23\",\"2009-01-26\",\"2009-01-27\",\"2009-01-28\",\"2009-01-29\",\"2009-01-30\",\"2009-02-02\",\"2009-02-03\",\"2009-02-04\",\"2009-02-05\",\"2009-02-06\",\"2009-02-09\",\"2009-02-10\",\"2009-02-11\",\"2009-02-12\",\"2009-02-13\",\"2009-02-17\",\"2009-02-18\",\"2009-02-19\",\"2009-02-20\",\"2009-02-23\",\"2009-02-24\",\"2009-02-25\",\"2009-02-26\",\"2009-02-27\",\"2009-03-02\",\"2009-03-03\",\"2009-03-04\",\"2009-03-05\",\"2009-03-06\",\"2009-03-09\",\"2009-03-10\",\"2009-03-11\",\"2009-03-12\",\"2009-03-13\",\"2009-03-16\",\"2009-03-17\",\"2009-03-18\",\"2009-03-19\",\"2009-03-20\",\"2009-03-23\",\"2009-03-24\",\"2009-03-25\",\"2009-03-26\",\"2009-03-27\",\"2009-03-30\",\"2009-03-31\",\"2009-04-01\",\"2009-04-02\",\"2009-04-03\",\"2009-04-06\",\"2009-04-07\",\"2009-04-08\",\"2009-04-09\",\"2009-04-13\",\"2009-04-14\",\"2009-04-15\",\"2009-04-16\",\"2009-04-17\",\"2009-04-20\",\"2009-04-21\",\"2009-04-22\",\"2009-04-23\",\"2009-04-24\",\"2009-04-27\",\"2009-04-28\",\"2009-04-29\",\"2009-04-30\",\"2009-05-01\",\"2009-05-04\",\"2009-05-05\",\"2009-05-06\",\"2009-05-07\",\"2009-05-08\",\"2009-05-11\",\"2009-05-12\",\"2009-05-13\",\"2009-05-14\",\"2009-05-15\",\"2009-05-18\",\"2009-05-19\",\"2009-05-20\",\"2009-05-21\",\"2009-05-22\",\"2009-05-26\",\"2009-05-27\",\"2009-05-28\",\"2009-05-29\",\"2009-06-01\",\"2009-06-02\",\"2009-06-03\",\"2009-06-04\",\"2009-06-05\",\"2009-06-08\",\"2009-06-09\",\"2009-06-10\",\"2009-06-11\",\"2009-06-12\",\"2009-06-15\",\"2009-06-16\",\"2009-06-17\",\"2009-06-18\",\"2009-06-19\",\"2009-06-22\",\"2009-06-23\",\"2009-06-24\",\"2009-06-25\",\"2009-06-26\",\"2009-06-29\",\"2009-06-30\",\"2009-07-01\",\"2009-07-02\",\"2009-07-06\",\"2009-07-07\",\"2009-07-08\",\"2009-07-09\",\"2009-07-10\",\"2009-07-13\",\"2009-07-14\",\"2009-07-15\",\"2009-07-16\",\"2009-07-17\",\"2009-07-20\",\"2009-07-21\",\"2009-07-22\",\"2009-07-23\",\"2009-07-24\",\"2009-07-27\",\"2009-07-28\",\"2009-07-29\",\"2009-07-30\",\"2009-07-31\",\"2009-08-03\",\"2009-08-04\",\"2009-08-05\",\"2009-08-06\",\"2009-08-07\",\"2009-08-10\",\"2009-08-11\",\"2009-08-12\",\"2009-08-13\",\"2009-08-14\",\"2009-08-17\",\"2009-08-18\",\"2009-08-19\",\"2009-08-20\",\"2009-08-21\",\"2009-08-24\",\"2009-08-25\",\"2009-08-26\",\"2009-08-27\",\"2009-08-28\",\"2009-08-31\",\"2009-09-01\",\"2009-09-02\",\"2009-09-03\",\"2009-09-04\",\"2009-09-08\",\"2009-09-09\",\"2009-09-10\",\"2009-09-11\",\"2009-09-14\",\"2009-09-15\",\"2009-09-16\",\"2009-09-17\",\"2009-09-18\",\"2009-09-21\",\"2009-09-22\",\"2009-09-23\",\"2009-09-24\",\"2009-09-25\",\"2009-09-28\",\"2009-09-29\",\"2009-09-30\",\"2009-10-01\",\"2009-10-02\",\"2009-10-05\",\"2009-10-06\",\"2009-10-07\",\"2009-10-08\",\"2009-10-09\",\"2009-10-12\",\"2009-10-13\",\"2009-10-14\",\"2009-10-15\",\"2009-10-16\",\"2009-10-19\",\"2009-10-20\",\"2009-10-21\",\"2009-10-22\",\"2009-10-23\",\"2009-10-26\",\"2009-10-27\",\"2009-10-28\",\"2009-10-29\",\"2009-10-30\",\"2009-11-02\",\"2009-11-03\",\"2009-11-04\",\"2009-11-05\",\"2009-11-06\",\"2009-11-09\",\"2009-11-10\",\"2009-11-11\",\"2009-11-12\",\"2009-11-13\",\"2009-11-16\",\"2009-11-17\",\"2009-11-18\",\"2009-11-19\",\"2009-11-20\",\"2009-11-23\",\"2009-11-24\",\"2009-11-25\",\"2009-11-27\",\"2009-11-30\",\"2009-12-01\",\"2009-12-02\",\"2009-12-03\",\"2009-12-04\",\"2009-12-07\",\"2009-12-08\",\"2009-12-09\",\"2009-12-10\",\"2009-12-11\",\"2009-12-14\",\"2009-12-15\",\"2009-12-16\",\"2009-12-17\",\"2009-12-18\",\"2009-12-21\",\"2009-12-22\",\"2009-12-23\",\"2009-12-24\",\"2009-12-28\",\"2009-12-29\",\"2009-12-30\",\"2009-12-31\",\"2010-01-04\",\"2010-01-05\",\"2010-01-06\",\"2010-01-07\",\"2010-01-08\",\"2010-01-11\",\"2010-01-12\",\"2010-01-13\",\"2010-01-14\",\"2010-01-15\",\"2010-01-19\",\"2010-01-20\",\"2010-01-21\",\"2010-01-22\",\"2010-01-25\",\"2010-01-26\",\"2010-01-27\",\"2010-01-28\",\"2010-01-29\",\"2010-02-01\",\"2010-02-02\",\"2010-02-03\",\"2010-02-04\",\"2010-02-05\",\"2010-02-08\",\"2010-02-09\",\"2010-02-10\",\"2010-02-11\",\"2010-02-12\",\"2010-02-16\",\"2010-02-17\",\"2010-02-18\",\"2010-02-19\",\"2010-02-22\",\"2010-02-23\",\"2010-02-24\",\"2010-02-25\",\"2010-02-26\",\"2010-03-01\",\"2010-03-02\",\"2010-03-03\",\"2010-03-04\",\"2010-03-05\",\"2010-03-08\",\"2010-03-09\",\"2010-03-10\",\"2010-03-11\",\"2010-03-12\",\"2010-03-15\",\"2010-03-16\",\"2010-03-17\",\"2010-03-18\",\"2010-03-19\",\"2010-03-22\",\"2010-03-23\",\"2010-03-24\",\"2010-03-25\",\"2010-03-26\",\"2010-03-29\",\"2010-03-30\",\"2010-03-31\",\"2010-04-01\",\"2010-04-05\",\"2010-04-06\",\"2010-04-07\",\"2010-04-08\",\"2010-04-09\",\"2010-04-12\",\"2010-04-13\",\"2010-04-14\",\"2010-04-15\",\"2010-04-16\",\"2010-04-19\",\"2010-04-20\",\"2010-04-21\",\"2010-04-22\",\"2010-04-23\",\"2010-04-26\",\"2010-04-27\",\"2010-04-28\",\"2010-04-29\",\"2010-04-30\",\"2010-05-03\",\"2010-05-04\",\"2010-05-05\",\"2010-05-06\",\"2010-05-07\",\"2010-05-10\",\"2010-05-11\",\"2010-05-12\",\"2010-05-13\",\"2010-05-14\",\"2010-05-17\",\"2010-05-18\",\"2010-05-19\",\"2010-05-20\",\"2010-05-21\",\"2010-05-24\",\"2010-05-25\",\"2010-05-26\",\"2010-05-27\",\"2010-05-28\",\"2010-06-01\",\"2010-06-02\",\"2010-06-03\",\"2010-06-04\",\"2010-06-07\",\"2010-06-08\",\"2010-06-09\",\"2010-06-10\",\"2010-06-11\",\"2010-06-14\",\"2010-06-15\",\"2010-06-16\",\"2010-06-17\",\"2010-06-18\",\"2010-06-21\",\"2010-06-22\",\"2010-06-23\",\"2010-06-24\",\"2010-06-25\",\"2010-06-28\",\"2010-06-29\",\"2010-06-30\",\"2010-07-01\",\"2010-07-02\",\"2010-07-06\",\"2010-07-07\",\"2010-07-08\",\"2010-07-09\",\"2010-07-12\",\"2010-07-13\",\"2010-07-14\",\"2010-07-15\",\"2010-07-16\",\"2010-07-19\",\"2010-07-20\",\"2010-07-21\",\"2010-07-22\",\"2010-07-23\",\"2010-07-26\",\"2010-07-27\",\"2010-07-28\",\"2010-07-29\",\"2010-07-30\",\"2010-08-02\",\"2010-08-03\",\"2010-08-04\",\"2010-08-05\",\"2010-08-06\",\"2010-08-09\",\"2010-08-10\",\"2010-08-11\",\"2010-08-12\",\"2010-08-13\",\"2010-08-16\",\"2010-08-17\",\"2010-08-18\",\"2010-08-19\",\"2010-08-20\",\"2010-08-23\",\"2010-08-24\",\"2010-08-25\",\"2010-08-26\",\"2010-08-27\",\"2010-08-30\",\"2010-08-31\",\"2010-09-01\",\"2010-09-02\",\"2010-09-03\",\"2010-09-07\",\"2010-09-08\",\"2010-09-09\",\"2010-09-10\",\"2010-09-13\",\"2010-09-14\",\"2010-09-15\",\"2010-09-16\",\"2010-09-17\",\"2010-09-20\",\"2010-09-21\",\"2010-09-22\",\"2010-09-23\",\"2010-09-24\",\"2010-09-27\",\"2010-09-28\",\"2010-09-29\",\"2010-09-30\",\"2010-10-01\",\"2010-10-04\",\"2010-10-05\",\"2010-10-06\",\"2010-10-07\",\"2010-10-08\",\"2010-10-11\",\"2010-10-12\",\"2010-10-13\",\"2010-10-14\",\"2010-10-15\",\"2010-10-18\",\"2010-10-19\",\"2010-10-20\",\"2010-10-21\",\"2010-10-22\",\"2010-10-25\",\"2010-10-26\",\"2010-10-27\",\"2010-10-28\",\"2010-10-29\",\"2010-11-01\",\"2010-11-02\",\"2010-11-03\",\"2010-11-04\",\"2010-11-05\",\"2010-11-08\",\"2010-11-09\",\"2010-11-10\",\"2010-11-11\",\"2010-11-12\",\"2010-11-15\",\"2010-11-16\",\"2010-11-17\",\"2010-11-18\",\"2010-11-19\",\"2010-11-22\",\"2010-11-23\",\"2010-11-24\",\"2010-11-26\",\"2010-11-29\",\"2010-11-30\",\"2010-12-01\",\"2010-12-02\",\"2010-12-03\",\"2010-12-06\",\"2010-12-07\",\"2010-12-08\",\"2010-12-09\",\"2010-12-10\",\"2010-12-13\",\"2010-12-14\",\"2010-12-15\",\"2010-12-16\",\"2010-12-17\",\"2010-12-20\",\"2010-12-21\",\"2010-12-22\",\"2010-12-23\",\"2010-12-27\",\"2010-12-28\",\"2010-12-29\",\"2010-12-30\",\"2010-12-31\",\"2011-01-03\",\"2011-01-04\",\"2011-01-05\",\"2011-01-06\",\"2011-01-07\",\"2011-01-10\",\"2011-01-11\",\"2011-01-12\",\"2011-01-13\",\"2011-01-14\",\"2011-01-18\",\"2011-01-19\",\"2011-01-20\",\"2011-01-21\",\"2011-01-24\",\"2011-01-25\",\"2011-01-26\",\"2011-01-27\",\"2011-01-28\",\"2011-01-31\",\"2011-02-01\",\"2011-02-02\",\"2011-02-03\",\"2011-02-04\",\"2011-02-07\",\"2011-02-08\",\"2011-02-09\",\"2011-02-10\",\"2011-02-11\",\"2011-02-14\",\"2011-02-15\",\"2011-02-16\",\"2011-02-17\",\"2011-02-18\",\"2011-02-22\",\"2011-02-23\",\"2011-02-24\",\"2011-02-25\",\"2011-02-28\",\"2011-03-01\",\"2011-03-02\",\"2011-03-03\",\"2011-03-04\",\"2011-03-07\",\"2011-03-08\",\"2011-03-09\",\"2011-03-10\",\"2011-03-11\",\"2011-03-14\",\"2011-03-15\",\"2011-03-16\",\"2011-03-17\",\"2011-03-18\",\"2011-03-21\",\"2011-03-22\",\"2011-03-23\",\"2011-03-24\",\"2011-03-25\",\"2011-03-28\",\"2011-03-29\",\"2011-03-30\",\"2011-03-31\",\"2011-04-01\",\"2011-04-04\",\"2011-04-05\",\"2011-04-06\",\"2011-04-07\",\"2011-04-08\",\"2011-04-11\",\"2011-04-12\",\"2011-04-13\",\"2011-04-14\",\"2011-04-15\",\"2011-04-18\",\"2011-04-19\",\"2011-04-20\",\"2011-04-21\",\"2011-04-25\",\"2011-04-26\",\"2011-04-27\",\"2011-04-28\",\"2011-04-29\",\"2011-05-02\",\"2011-05-03\",\"2011-05-04\",\"2011-05-05\",\"2011-05-06\",\"2011-05-09\",\"2011-05-10\",\"2011-05-11\",\"2011-05-12\",\"2011-05-13\",\"2011-05-16\",\"2011-05-17\",\"2011-05-18\",\"2011-05-19\",\"2011-05-20\",\"2011-05-23\",\"2011-05-24\",\"2011-05-25\",\"2011-05-26\",\"2011-05-27\",\"2011-05-31\",\"2011-06-01\",\"2011-06-02\",\"2011-06-03\",\"2011-06-06\",\"2011-06-07\",\"2011-06-08\",\"2011-06-09\",\"2011-06-10\",\"2011-06-13\",\"2011-06-14\",\"2011-06-15\",\"2011-06-16\",\"2011-06-17\",\"2011-06-20\",\"2011-06-21\",\"2011-06-22\",\"2011-06-23\",\"2011-06-24\",\"2011-06-27\",\"2011-06-28\",\"2011-06-29\",\"2011-06-30\",\"2011-07-01\",\"2011-07-05\",\"2011-07-06\",\"2011-07-07\",\"2011-07-08\",\"2011-07-11\",\"2011-07-12\",\"2011-07-13\",\"2011-07-14\",\"2011-07-15\",\"2011-07-18\",\"2011-07-19\",\"2011-07-20\",\"2011-07-21\",\"2011-07-22\",\"2011-07-25\",\"2011-07-26\",\"2011-07-27\",\"2011-07-28\",\"2011-07-29\",\"2011-08-01\",\"2011-08-02\",\"2011-08-03\",\"2011-08-04\",\"2011-08-05\",\"2011-08-08\",\"2011-08-09\",\"2011-08-10\",\"2011-08-11\",\"2011-08-12\",\"2011-08-15\",\"2011-08-16\",\"2011-08-17\",\"2011-08-18\",\"2011-08-19\",\"2011-08-22\",\"2011-08-23\",\"2011-08-24\",\"2011-08-25\",\"2011-08-26\",\"2011-08-29\",\"2011-08-30\",\"2011-08-31\",\"2011-09-01\",\"2011-09-02\",\"2011-09-06\",\"2011-09-07\",\"2011-09-08\",\"2011-09-09\",\"2011-09-12\",\"2011-09-13\",\"2011-09-14\",\"2011-09-15\",\"2011-09-16\",\"2011-09-19\",\"2011-09-20\",\"2011-09-21\",\"2011-09-22\",\"2011-09-23\",\"2011-09-26\",\"2011-09-27\",\"2011-09-28\",\"2011-09-29\",\"2011-09-30\",\"2011-10-03\",\"2011-10-04\",\"2011-10-05\",\"2011-10-06\",\"2011-10-07\",\"2011-10-10\",\"2011-10-11\",\"2011-10-12\",\"2011-10-13\",\"2011-10-14\",\"2011-10-17\",\"2011-10-18\",\"2011-10-19\",\"2011-10-20\",\"2011-10-21\",\"2011-10-24\",\"2011-10-25\",\"2011-10-26\",\"2011-10-27\",\"2011-10-28\",\"2011-10-31\",\"2011-11-01\",\"2011-11-02\",\"2011-11-03\",\"2011-11-04\",\"2011-11-07\",\"2011-11-08\",\"2011-11-09\",\"2011-11-10\",\"2011-11-11\",\"2011-11-14\",\"2011-11-15\",\"2011-11-16\",\"2011-11-17\",\"2011-11-18\",\"2011-11-21\",\"2011-11-22\",\"2011-11-23\",\"2011-11-25\",\"2011-11-28\",\"2011-11-29\",\"2011-11-30\",\"2011-12-01\",\"2011-12-02\",\"2011-12-05\",\"2011-12-06\",\"2011-12-07\",\"2011-12-08\",\"2011-12-09\",\"2011-12-12\",\"2011-12-13\",\"2011-12-14\",\"2011-12-15\",\"2011-12-16\",\"2011-12-19\",\"2011-12-20\",\"2011-12-21\",\"2011-12-22\",\"2011-12-23\",\"2011-12-27\",\"2011-12-28\",\"2011-12-29\",\"2011-12-30\",\"2012-01-03\",\"2012-01-04\",\"2012-01-05\",\"2012-01-06\",\"2012-01-09\",\"2012-01-10\",\"2012-01-11\",\"2012-01-12\",\"2012-01-13\",\"2012-01-17\",\"2012-01-18\",\"2012-01-19\",\"2012-01-20\",\"2012-01-23\",\"2012-01-24\",\"2012-01-25\",\"2012-01-26\",\"2012-01-27\",\"2012-01-30\",\"2012-01-31\",\"2012-02-01\",\"2012-02-02\",\"2012-02-03\",\"2012-02-06\",\"2012-02-07\",\"2012-02-08\",\"2012-02-09\",\"2012-02-10\",\"2012-02-13\",\"2012-02-14\",\"2012-02-15\",\"2012-02-16\",\"2012-02-17\",\"2012-02-21\",\"2012-02-22\",\"2012-02-23\",\"2012-02-24\",\"2012-02-27\",\"2012-02-28\",\"2012-02-29\",\"2012-03-01\",\"2012-03-02\",\"2012-03-05\",\"2012-03-06\",\"2012-03-07\",\"2012-03-08\",\"2012-03-09\",\"2012-03-12\",\"2012-03-13\",\"2012-03-14\",\"2012-03-15\",\"2012-03-16\",\"2012-03-19\",\"2012-03-20\",\"2012-03-21\",\"2012-03-22\",\"2012-03-23\",\"2012-03-26\",\"2012-03-27\",\"2012-03-28\",\"2012-03-29\",\"2012-03-30\",\"2012-04-02\",\"2012-04-03\",\"2012-04-04\",\"2012-04-05\",\"2012-04-09\",\"2012-04-10\",\"2012-04-11\",\"2012-04-12\",\"2012-04-13\",\"2012-04-16\",\"2012-04-17\",\"2012-04-18\",\"2012-04-19\",\"2012-04-20\",\"2012-04-23\",\"2012-04-24\",\"2012-04-25\",\"2012-04-26\",\"2012-04-27\",\"2012-04-30\",\"2012-05-01\",\"2012-05-02\",\"2012-05-03\",\"2012-05-04\",\"2012-05-07\",\"2012-05-08\",\"2012-05-09\",\"2012-05-10\",\"2012-05-11\",\"2012-05-14\",\"2012-05-15\",\"2012-05-16\",\"2012-05-17\",\"2012-05-18\",\"2012-05-21\",\"2012-05-22\",\"2012-05-23\",\"2012-05-24\",\"2012-05-25\",\"2012-05-29\",\"2012-05-30\",\"2012-05-31\",\"2012-06-01\",\"2012-06-04\",\"2012-06-05\",\"2012-06-06\",\"2012-06-07\",\"2012-06-08\",\"2012-06-11\",\"2012-06-12\",\"2012-06-13\",\"2012-06-14\",\"2012-06-15\",\"2012-06-18\",\"2012-06-19\",\"2012-06-20\",\"2012-06-21\",\"2012-06-22\",\"2012-06-25\",\"2012-06-26\",\"2012-06-27\",\"2012-06-28\",\"2012-06-29\",\"2012-07-02\",\"2012-07-03\",\"2012-07-05\",\"2012-07-06\",\"2012-07-09\",\"2012-07-10\",\"2012-07-11\",\"2012-07-12\",\"2012-07-13\",\"2012-07-16\",\"2012-07-17\",\"2012-07-18\",\"2012-07-19\",\"2012-07-20\",\"2012-07-23\",\"2012-07-24\",\"2012-07-25\",\"2012-07-26\",\"2012-07-27\",\"2012-07-30\",\"2012-07-31\",\"2012-08-01\",\"2012-08-02\",\"2012-08-03\",\"2012-08-06\",\"2012-08-07\",\"2012-08-08\",\"2012-08-09\",\"2012-08-10\",\"2012-08-13\",\"2012-08-14\",\"2012-08-15\",\"2012-08-16\",\"2012-08-17\",\"2012-08-20\",\"2012-08-21\",\"2012-08-22\",\"2012-08-23\",\"2012-08-24\",\"2012-08-27\",\"2012-08-28\",\"2012-08-29\",\"2012-08-30\",\"2012-08-31\",\"2012-09-04\",\"2012-09-05\",\"2012-09-06\",\"2012-09-07\",\"2012-09-10\",\"2012-09-11\",\"2012-09-12\",\"2012-09-13\",\"2012-09-14\",\"2012-09-17\",\"2012-09-18\",\"2012-09-19\",\"2012-09-20\",\"2012-09-21\",\"2012-09-24\",\"2012-09-25\",\"2012-09-26\",\"2012-09-27\",\"2012-09-28\",\"2012-10-01\",\"2012-10-02\",\"2012-10-03\",\"2012-10-04\",\"2012-10-05\",\"2012-10-08\",\"2012-10-09\",\"2012-10-10\",\"2012-10-11\",\"2012-10-12\",\"2012-10-15\",\"2012-10-16\",\"2012-10-17\",\"2012-10-18\",\"2012-10-19\",\"2012-10-22\",\"2012-10-23\",\"2012-10-24\",\"2012-10-25\",\"2012-10-26\",\"2012-10-31\",\"2012-11-01\",\"2012-11-02\",\"2012-11-05\",\"2012-11-06\",\"2012-11-07\",\"2012-11-08\",\"2012-11-09\",\"2012-11-12\",\"2012-11-13\",\"2012-11-14\",\"2012-11-15\",\"2012-11-16\",\"2012-11-19\",\"2012-11-20\",\"2012-11-21\",\"2012-11-23\",\"2012-11-26\",\"2012-11-27\",\"2012-11-28\",\"2012-11-29\",\"2012-11-30\",\"2012-12-03\",\"2012-12-04\",\"2012-12-05\",\"2012-12-06\",\"2012-12-07\",\"2012-12-10\",\"2012-12-11\",\"2012-12-12\",\"2012-12-13\",\"2012-12-14\",\"2012-12-17\",\"2012-12-18\",\"2012-12-19\",\"2012-12-20\",\"2012-12-21\",\"2012-12-24\",\"2012-12-26\",\"2012-12-27\",\"2012-12-28\",\"2012-12-31\",\"2013-01-02\",\"2013-01-03\",\"2013-01-04\",\"2013-01-07\",\"2013-01-08\",\"2013-01-09\",\"2013-01-10\",\"2013-01-11\",\"2013-01-14\",\"2013-01-15\",\"2013-01-16\",\"2013-01-17\",\"2013-01-18\",\"2013-01-22\",\"2013-01-23\",\"2013-01-24\",\"2013-01-25\",\"2013-01-28\",\"2013-01-29\",\"2013-01-30\",\"2013-01-31\",\"2013-02-01\",\"2013-02-04\",\"2013-02-05\",\"2013-02-06\",\"2013-02-07\",\"2013-02-08\",\"2013-02-11\",\"2013-02-12\",\"2013-02-13\",\"2013-02-14\",\"2013-02-15\",\"2013-02-19\",\"2013-02-20\",\"2013-02-21\",\"2013-02-22\",\"2013-02-25\",\"2013-02-26\",\"2013-02-27\",\"2013-02-28\",\"2013-03-01\"],\"y\":[130.31,122.0,128.0,125.69,122.87,122.0,122.25,125.75,121.31,114.25,116.25,121.56,125.0,123.0,134.94,144.19,141.31,138.69,139.56,139.13,135.94,125.75,135.81,133.31,127.31,130.38,125.19,131.75,125.0,119.44,109.25,113.81,111.87,123.87,126.87,121.12,118.87,120.5,128.31,121.31,126.75,124.06,124.31,117.87,115.06,110.69,113.12,110.12,105.44,99.31,102.81,107.62,101.0,105.69,101.37,100.75,94.0,89.94,85.81,87.69,87.27,86.37,87.56,84.0,89.12,92.56,91.31,92.87,96.56,94.81,95.75,91.19,94.5,90.44,92.37,91.19,96.62,101.25,55.63,53.75,51.69,54.13,51.75,54.44,51.25,52.38,53.31,51.63,51.81,54.44,57.13,56.94,58.88,56.5,57.69,58.31,57.25,52.69,55.13,53.56,48.69,50.06,50.06,52.0,48.31,50.81,49.31,47.25,48.0,47.38,47.94,46.75,47.5,47.56,47.69,47.06,46.69,48.5,51.44,50.0,50.5,51.69,54.31,56.11,56.81,58.06,59.19,59.5,60.94,63.44,62.44,58.44,62.0,58.88,58.44,57.75,58.0,56.86,55.23,60.66,59.94,61.05,56.69,52.19,53.5,51.44,48.94,53.5,25.75,24.25,22.31,23.62,22.06,22.19,21.75,20.87,19.62,20.0,22.06,21.5,20.12,20.12,18.94,19.5,20.37,18.87,18.5,18.5,18.56,19.31,19.56,20.5,22.31,22.25,21.44,21.31,20.06,20.19,19.06,19.37,20.25,19.87,19.0,18.5,18.94,18.81,18.5,19.31,18.69,18.03,17.56,16.5,17.06,16.69,17.0,14.31,14.31,15.06,15.19,15.38,15.0,14.44,14.06,14.25,14.0,14.38,14.06,15.0,14.69,14.81,14.81,14.88,14.88,16.37,17.06,16.37,16.56,17.19,16.56,18.0,17.19,17.12,16.81,18.69,19.5,19.25,20.5,20.5,19.94,19.56,21.69,21.75,21.62,21.12,20.62,20.19,21.12,20.75,20.75,19.12,19.69,19.12,19.5,20.06,19.0,18.31,18.87,18.81,18.81,19.5,19.37,18.25,18.75,19.25,20.37,21.5,21.25,20.81,20.25,18.62,19.56,20.44,19.69,19.62,20.56,19.69,20.12,21.62,23.0,21.78,22.87,22.17,22.53,22.07,21.59,20.24,19.5,20.87,20.59,20.54,22.04,21.8,22.42,21.44,20.4,22.79,25.72,25.04,24.25,24.03,24.72,24.69,26.2,25.49,25.93,26.59,24.96,25.75,24.96,24.57,23.98,23.0,22.85,23.29,23.18,24.1,23.55,23.53,23.56,23.5,23.23,23.2,22.76,21.47,19.78,19.95,20.89,20.66,20.94,20.73,21.66,21.32,20.04,20.31,20.47,19.88,20.44,20.33,20.19,21.67,22.49,22.26,23.99,23.75,23.34,23.54,23.25,23.9,23.84,23.19,22.03,22.7,21.14,22.54,24.36,24.85,23.96,25.1,20.79,19.96,19.98,19.54,19.09,18.47,18.59,18.96,18.93,18.79,19.06,19.82,19.5,19.13,19.25,18.9,19.05,19.02,19.09,18.73,18.44,18.65,18.07,18.12,17.92,18.21,17.81,18.57,18.92,18.4,17.83,17.83,18.55,18.25,18.55,17.72,17.28,17.37,16.99,16.28,17.02,15.68,15.73,16.45,15.54,15.15,15.51,15.51,15.54,15.05,14.98,15.88,16.14,16.2,16.0,16.82,17.74,18.01,17.99,18.01,16.99,18.0,18.3,19.02,18.14,18.95,19.19,18.67,17.63,17.6,17.56,18.59,18.57,19.07,19.57,19.59,18.71,18.71,18.75,19.37,19.61,19.45,18.97,20.0,19.53,19.68,19.84,21.37,21.0,20.53,20.42,21.3,21.05,22.4,23.76,22.78,22.54,22.54,21.78,21.49,21.0,20.39,20.62,21.01,21.62,20.67,21.0,21.36,21.49,22.07,22.43,21.9,23.3,23.58,23.69,22.9,22.61,21.65,21.23,21.05,21.15,21.7,20.78,22.48,22.17,21.82,23.02,23.21,23.25,23.27,23.07,24.09,24.72,24.41,25.35,25.45,24.67,24.3,24.03,24.98,24.71,25.01,24.6,23.9,22.62,23.13,21.5,22.74,23.81,23.67,21.96,21.7,23.45,24.29,23.53,24.07,24.38,24.66,25.06,24.72,24.49,24.43,24.95,24.74,24.85,24.92,24.27,24.09,23.35,23.46,23.47,23.67,24.46,24.07,23.75,24.9,24.74,24.56,24.1,24.66,24.86,25.06,25.0,25.74,26.11,25.41,24.98,24.53,24.25,23.77,24.12,23.01,23.96,24.27,23.98,23.69,23.51,22.65,22.47,24.37,24.19,23.32,23.94,25.61,25.28,25.21,25.01,24.74,23.46,24.32,25.18,24.15,23.98,23.98,24.2,23.3,22.91,22.78,22.72,22.16,21.4,21.48,20.46,20.09,19.54,20.1,20.54,20.15,17.12,17.11,16.85,17.27,17.14,16.55,17.06,17.72,17.06,16.94,17.55,18.74,18.01,17.53,17.32,18.3,17.51,18.23,17.86,15.63,14.99,14.96,14.92,14.47,15.2,14.36,14.34,15.02,15.43,15.26,14.8,14.45,13.99,14.74,15.03,15.3,15.0,14.99,14.59,15.17,15.61,15.81,15.98,15.91,16.12,15.97,15.73,15.53,14.85,14.7,14.7,14.75,14.05,14.48,14.18,14.38,14.37,14.33,14.29,14.14,14.17,14.5,14.8,15.02,14.58,14.87,14.85,14.64,14.93,14.7,14.72,14.5,14.51,14.17,14.3,14.03,13.77,13.68,13.59,14.11,14.51,14.77,15.16,14.56,14.11,14.34,14.56,14.7,14.88,14.69,15.42,15.61,15.44,15.98,16.07,16.36,16.89,16.9,17.22,16.0,15.84,15.16,15.64,15.59,16.3,15.95,15.65,15.27,15.53,16.35,16.01,15.97,15.41,15.72,15.5,15.18,15.16,14.97,14.63,14.95,14.75,15.28,15.49,15.19,14.79,14.85,15.08,14.57,14.2,14.14,14.49,14.36,14.4,14.06,14.07,14.33,14.8,14.9,14.9,14.85,14.55,14.68,14.72,14.63,14.61,14.43,14.62,14.1,14.02,13.88,14.17,13.8,14.13,14.58,14.93,14.32,14.36,14.66,14.6,14.45,14.43,14.15,14.35,14.35,14.39,14.54,14.67,15.27,14.85,14.77,15.0,14.74,15.02,14.5,14.86,15.01,14.65,14.56,14.62,14.56,14.53,14.37,14.23,14.22,14.72,14.78,15.01,15.0,14.95,14.91,15.0,14.37,14.55,14.41,14.49,14.57,14.14,14.16,14.6,14.46,14.41,14.49,14.45,14.19,14.37,13.2,13.58,13.39,13.24,13.12,13.14,13.51,13.58,13.44,13.35,13.86,14.06,14.22,14.36,14.45,16.09,17.5,17.65,18.0,18.3,18.56,18.67,18.55,18.73,18.8,18.1,17.79,17.85,18.24,18.32,18.88,18.28,18.1,17.95,17.45,17.31,17.6,17.64,17.15,16.79,17.18,17.45,17.77,17.42,18.27,18.19,19.12,19.14,19.2,19.06,18.78,19.09,19.29,18.73,19.06,19.09,19.27,19.13,19.87,20.4,19.89,19.58,19.85,19.9,19.61,19.87,20.9,20.86,20.61,20.8,20.79,20.51,21.54,20.99,20.72,20.28,21.08,20.73,21.21,20.38,19.63,19.93,19.64,19.66,19.7,20.18,19.97,19.71,20.34,20.32,21.01,21.68,20.88,20.86,21.05,21.48,22.19,22.61,22.85,22.95,22.83,22.5,22.74,22.37,22.18,22.56,23.1,22.21,22.36,22.12,22.88,22.58,22.08,22.43,21.32,20.43,20.69,21.3,20.72,20.79,20.57,21.69,22.29,23.22,23.06,23.45,23.68,24.35,24.55,24.82,23.25,22.75,23.22,23.18,22.76,22.99,22.6,22.6,23.72,23.69,23.09,22.89,23.15,22.91,23.03,23.12,22.5,21.9,21.54,22.33,22.42,21.46,21.13,20.41,20.42,20.38,20.28,21.15,20.68,20.72,20.91,21.71,21.54,21.03,21.15,20.85,21.05,20.45,20.38,21.21,20.89,20.17,20.12,19.88,20.04,19.7,19.85,19.81,20.41,20.78,21.15,21.28,21.37,21.28,22.17,22.09,22.59,23.36,23.0,23.73,24.12,24.2,22.85,22.72,22.73,22.61,22.18,22.56,23.01,23.07,22.52,22.68,22.56,22.32,22.26,21.79,22.42,22.71,22.67,22.98,23.8,23.73,23.0,23.16,23.26,22.47,22.4,22.19,22.36,22.81,23.04,23.92,24.02,23.81,23.92,25.16,26.74,26.0,27.1,27.68,27.15,27.56,26.45,25.82,26.19,25.67,25.86,25.86,25.29,25.5,26.87,27.04,27.91,27.92,27.04,27.11,27.5,28.32,27.83,27.31,27.53,28.04,26.93,26.64,29.3,29.18,28.35,27.73,27.73,27.78,27.7,27.13,26.94,26.45,26.77,25.78,26.07,26.14,26.65,26.58,26.67,26.28,27.14,27.3,27.19,27.06,26.64,27.06,26.47,26.71,27.11,27.34,28.41,28.51,28.17,28.06,28.06,28.92,28.4,28.78,29.81,30.35,30.2,30.74,30.12,30.69,32.74,32.81,32.91,32.33,33.0,33.7,33.18,33.7,32.49,32.5,32.54,32.3,31.08,30.95,30.39,30.14,30.03,29.14,29.22,29.58,32.93,32.2,31.97,32.2,31.62,31.68,30.7,31.26,32.43,32.27,32.64,32.34,31.58,31.29,31.79,31.39,29.78,30.3,31.52,31.01,30.37,30.84,30.78,30.87,31.74,30.71,30.8,31.08,31.95,33.05,34.66,34.35,34.12,34.49,35.86,35.66,35.23,35.76,36.35,35.7,35.87,35.59,35.49,35.2,36.35,37.14,37.71,38.01,36.92,37.27,37.29,37.53,38.04,38.68,38.75,38.67,38.79,39.37,40.64,39.62,39.06,38.59,38.29,39.75,44.98,45.5,47.75,47.42,47.47,47.94,47.41,47.55,47.97,50.3,52.19,52.4,52.45,53.5,55.31,54.45,54.72,54.38,54.05,54.75,55.3,55.5,55.24,54.94,54.9,55.39,55.17,61.35,61.27,64.05,64.55,68.44,67.05,67.79,65.21,62.68,65.78,62.89,63.28,63.99,65.15,64.91,65.29,65.26,66.6,64.99,62.72,63.69,63.75,64.01,63.16,64.18,64.44,64.8,64.4,63.29,63.94,64.5,64.55,69.25,68.96,64.56,65.46,69.8,70.2,70.65,69.88,70.46,70.49,70.76,72.05,72.25,72.64,73.98,76.9,77.53,79.63,77.81,78.84,78.94,80.9,78.74,78.36,81.21,84.63,88.41,90.13,87.81,86.81,85.29,88.23,88.93,88.99,44.86,44.5,44.12,41.79,42.81,42.75,40.53,39.35,39.83,40.27,40.32,40.96,41.18,42.25,42.96,43.7,42.83,42.55,42.5,42.53,41.75,42.8,41.67,40.89,41.09,41.89,42.33,43.56,43.74,41.92,42.66,41.04,37.26,35.35,35.62,37.09,35.51,37.18,35.5,36.98,36.19,35.95,35.54,36.06,36.43,36.21,37.15,36.68,37.24,36.97,36.42,35.61,34.13,34.77,35.55,35.36,35.84,37.55,37.55,39.76,39.7,39.78,40.74,40.56,39.76,40.3,40.04,38.24,37.92,36.54,36.92,37.65,35.81,35.9,36.0,37.13,37.98,38.31,37.61,37.86,38.55,38.89,37.76,37.1,37.31,36.37,36.81,36.5,37.98,37.39,37.63,38.25,38.1,38.24,38.35,40.75,41.55,41.49,43.19,43.63,43.29,44.0,43.81,43.63,43.99,43.8,42.65,42.75,43.19,43.22,42.71,42.99,42.65,43.82,43.38,44.0,46.1,47.68,46.25,47.15,46.3,45.83,45.87,45.74,45.77,46.06,45.74,45.84,46.57,46.89,46.26,46.22,48.8,48.68,49.78,51.31,51.4,50.82,49.61,49.87,51.21,52.64,53.19,52.11,51.9,53.2,53.84,53.44,51.08,52.34,53.61,54.44,53.75,52.78,51.7,51.3,50.37,51.59,49.25,53.74,54.0,53.44,52.21,54.94,56.14,55.66,56.79,56.1,57.03,55.41,54.47,57.59,57.5,59.95,61.85,61.15,60.23,59.9,60.11,61.18,61.54,61.45,62.28,64.95,64.52,64.56,64.96,66.52,67.11,69.34,69.66,68.1,67.82,71.6,72.63,71.82,74.05,73.95,74.08,74.33,74.91,74.98,72.01,72.18,71.11,71.38,72.11,73.5,74.02,73.35,74.23,73.57,71.45,71.89,74.75,74.97,74.38,76.3,76.05,80.86,83.9,84.29,85.59,84.71,82.49,79.04,76.09,77.67,76.04,74.2,72.33,72.03,75.0,75.51,75.42,72.1,71.85,67.3,67.6,68.81,64.95,67.31,64.71,67.64,69.22,70.57,70.29,69.08,71.32,71.75,71.46,70.99,68.49,69.1,69.61,67.72,65.48,66.31,65.66,63.93,63.19,65.68,67.32,66.23,64.31,64.66,63.99,61.81,61.67,60.16,59.96,59.51,58.71,62.33,62.75,62.72,62.65,61.17,67.21,71.24,69.79,68.67,67.99,66.71,66.47,64.81,66.22,65.65,67.63,67.04,65.75,66.17,68.15,69.36,70.39,69.6,71.62,71.14,71.13,71.89,71.89,71.03,70.6,68.15,67.7,67.79,64.98,65.26,63.18,64.51,63.38,63.15,63.34,64.33,63.55,61.22,59.77,62.17,61.66,60.0,59.72,58.56,60.76,59.24,57.0,58.33,57.61,59.38,57.56,57.2,57.47,57.86,59.58,58.83,58.99,57.43,56.02,58.97,57.27,57.95,57.0,55.77,55.4,55.0,55.65,52.96,52.25,50.67,52.37,52.9,54.1,60.5,60.72,61.42,61.93,63.87,63.4,65.59,67.96,67.18,68.16,69.59,68.3,67.21,64.78,63.59,64.07,63.65,63.94,66.45,67.98,67.59,67.91,66.56,67.62,67.31,67.81,68.75,66.98,66.48,66.96,67.85,68.38,71.48,70.03,72.8,72.52,72.5,72.63,74.2,74.17,74.1,73.89,73.77,75.26,74.65,73.0,75.75,77.61,76.41,77.01,76.98,74.86,74.08,75.38,74.83,74.22,74.63,73.81,73.23,75.26,75.02,75.4,74.29,74.53,78.99,79.95,81.46,81.05,81.68,82.19,80.41,80.42,81.08,79.16,78.98,78.29,79.71,80.51,82.45,83.34,83.12,84.35,85.0,84.05,85.61,85.85,86.47,88.6,90.31,91.63,89.54,91.81,91.8,91.66,91.32,91.12,91.27,89.83,87.04,88.26,88.75,86.14,89.05,88.55,87.72,85.47,86.31,84.76,82.9,82.2,81.51,81.52,80.87,84.84,83.8,85.66,85.05,85.47,92.57,97.0,95.8,94.62,97.1,94.95,89.07,88.5,86.79,85.7,86.7,86.25,85.38,85.94,85.55,85.73,84.74,84.75,83.94,84.15,86.15,86.18,83.27,84.88,84.7,85.3,85.21,84.83,85.9,89.2,89.51,89.07,88.51,83.93,84.61,87.06,85.41,86.32,88.19,87.72,88.0,87.97,89.87,88.4,90.0,89.57,89.59,91.13,91.48,93.87,93.96,93.52,95.85,95.46,93.24,93.75,92.91,93.65,94.5,94.27,94.68,93.65,94.25,92.59,92.19,90.24,91.43,90.35,90.4,90.27,90.97,93.51,93.24,95.35,98.84,99.92,99.8,99.47,100.39,100.4,100.81,103.92,105.06,106.88,107.34,108.74,109.36,107.52,107.34,109.44,110.02,111.98,113.54,112.89,110.69,113.62,114.35,118.77,121.19,118.4,121.33,122.67,123.64,124.07,124.49,120.19,120.38,117.5,118.75,120.5,125.09,123.66,121.55,123.9,123.0,122.34,119.65,121.89,120.56,122.04,121.26,127.17,132.75,132.3,130.33,132.35,132.39,134.07,137.73,138.1,138.91,138.12,140.0,143.75,143.7,134.89,137.26,146.0,143.85,141.43,131.76,135.0,136.49,131.85,135.25,135.03,134.01,126.39,125.0,127.79,124.03,119.9,117.05,122.06,122.22,127.57,132.51,131.07,135.3,132.25,126.82,134.08,136.25,138.48,144.16,136.76,135.01,131.77,136.71,135.49,136.85,137.2,138.81,138.41,140.92,140.77,140.31,144.15,148.28,153.18,152.77,154.5,153.47,156.34,158.45,157.92,156.24,161.45,167.91,167.86,166.79,162.23,167.25,166.98,169.58,172.75,173.5,170.42,174.36,186.16,185.93,182.78,184.7,185.09,187.0,189.95,187.44,187.87,186.18,191.79,186.3,175.47,165.37,153.76,169.96,166.11,164.3,166.39,163.95,168.85,168.46,171.54,172.54,174.81,180.22,184.29,182.22,178.86,179.81,185.5,189.95,194.3,194.21,188.54,190.86,191.83,190.39,184.4,182.98,183.12,187.21,193.91,198.8,198.95,198.57,199.83,198.08,194.84,194.93,180.05,177.64,171.25,179.4,178.02,172.69,178.78,169.04,159.64,160.89,161.36,155.64,139.07,135.6,130.01,130.01,131.54,132.18,135.36,133.75,131.65,129.36,122.0,121.24,125.48,129.45,124.86,129.4,127.46,124.63,122.18,123.82,121.54,119.46,119.74,119.15,122.96,129.91,125.02,121.73,124.62,124.49,120.93,122.25,119.69,127.35,126.03,127.94,126.61,126.73,132.82,129.67,133.27,139.53,140.98,145.06,140.25,143.01,143.5,149.53,147.49,151.61,153.08,155.89,152.84,151.44,154.55,147.14,147.78,148.38,153.7,154.49,161.04,168.16,160.2,162.89,168.94,169.73,172.24,175.05,173.95,180.0,180.94,184.73,186.66,182.59,185.06,183.45,188.16,189.96,186.26,189.73,187.62,183.6,185.9,178.19,177.05,181.17,186.43,187.01,186.69,188.75,186.1,185.37,185.19,189.43,185.64,181.61,185.64,180.81,173.26,172.37,176.84,181.43,178.75,180.9,175.27,173.16,173.25,177.39,168.26,170.09,167.44,174.68,168.18,170.12,175.16,179.55,174.25,176.63,172.58,173.88,169.64,172.81,171.81,165.15,166.29,162.02,166.26,159.03,162.12,154.4,157.08,159.88,158.95,156.66,153.23,160.64,164.19,163.57,169.55,173.56,176.73,179.3,179.32,175.74,175.39,173.53,175.84,174.29,176.79,172.55,173.64,174.67,173.74,169.53,166.19,166.96,161.22,160.18,157.92,151.68,151.61,152.65,148.94,140.36,139.88,127.83,134.09,140.91,131.05,126.84,128.71,131.93,128.24,105.26,113.66,109.12,100.1,97.07,98.14,89.16,89.79,88.74,96.8,110.26,104.08,97.95,101.89,97.4,98.44,91.49,96.87,98.23,96.38,92.09,99.91,104.55,111.04,107.59,106.96,110.99,103.3,99.1,98.24,95.88,94.77,90.12,96.44,90.24,88.14,89.91,86.29,80.49,82.58,92.95,90.8,95.0,92.67,88.93,92.47,95.9,91.41,94.0,99.72,100.06,98.21,95.0,98.27,94.75,95.43,89.16,89.43,90.0,85.74,86.38,85.04,85.81,86.61,86.29,85.35,90.75,94.58,93.02,91.01,92.7,90.58,88.66,87.71,85.33,83.38,82.33,78.2,82.83,88.36,88.36,89.64,90.73,94.2,93.0,90.13,91.51,92.98,93.55,96.46,99.72,102.51,97.83,96.82,99.27,99.16,94.53,94.37,90.64,91.2,86.95,90.25,91.16,89.19,89.31,87.94,88.37,91.17,88.84,85.3,83.11,88.63,92.68,96.35,95.93,95.42,99.66,101.52,101.62,101.59,107.66,106.5,106.49,109.87,106.85,104.49,105.12,108.69,112.71,115.99,118.45,115.0,116.32,119.57,120.22,118.31,117.64,121.45,123.42,120.5,121.76,121.51,125.4,123.9,124.73,123.9,125.14,125.83,127.24,132.07,132.71,132.5,129.06,129.19,129.57,124.42,119.49,122.95,122.42,126.65,127.45,125.87,124.18,122.5,130.78,133.05,135.07,135.81,139.35,139.49,140.95,143.74,144.67,143.85,142.72,140.25,139.95,136.97,136.09,136.35,135.58,135.88,139.48,137.37,134.01,136.22,139.86,142.44,141.97,142.43,142.83,140.02,138.61,135.4,137.22,136.36,138.52,142.34,142.27,146.88,147.52,151.75,152.91,151.51,156.74,157.82,159.99,160.1,160.0,160.03,162.79,163.39,166.43,165.55,165.11,163.91,165.51,164.72,162.83,165.31,168.42,166.78,159.59,164.0,164.6,166.33,169.22,169.06,169.4,167.41,169.45,170.05,168.21,165.3,165.18,166.55,170.31,172.93,171.14,172.56,172.16,173.72,175.16,181.87,184.55,185.02,184.02,184.48,185.5,183.82,182.37,186.15,185.38,185.35,180.86,184.9,186.02,190.01,190.25,189.27,190.47,190.81,190.02,191.29,190.56,188.05,189.86,198.76,204.92,205.2,203.94,202.48,197.37,192.4,196.35,188.5,189.31,188.75,190.81,194.03,194.34,201.46,202.98,203.25,201.99,204.45,206.63,207.0,205.96,200.51,199.92,205.88,204.44,204.19,200.59,199.91,196.97,196.23,196.48,193.32,188.95,189.87,197.8,196.43,194.67,196.98,194.17,195.03,191.86,195.43,198.23,200.36,202.1,209.04,211.61,209.1,211.64,210.73,214.01,214.38,210.97,210.58,211.98,210.11,207.72,210.65,209.43,205.93,215.04,211.73,208.07,197.75,203.07,205.94,207.88,199.29,192.06,194.73,195.86,199.23,192.05,195.46,194.12,196.19,195.12,198.67,200.38,203.4,202.55,202.93,201.67,200.42,197.06,200.66,202.0,204.62,208.99,208.85,209.33,210.71,218.95,219.08,223.02,224.84,225.5,226.6,223.84,224.45,224.12,224.65,222.25,224.75,228.36,229.37,226.65,230.9,232.39,235.85,235.0,235.97,238.49,239.54,240.6,239.95,241.79,242.29,242.43,245.69,248.92,247.4,247.07,244.59,259.22,266.47,270.83,269.5,262.04,261.6,268.64,261.09,266.35,258.68,255.99,246.25,235.86,253.99,256.52,262.09,258.36,253.82,254.22,252.36,248.34,237.76,242.32,246.76,245.22,244.11,253.35,256.88,260.83,263.95,263.12,255.96,250.94,249.33,243.2,250.51,253.51,254.28,259.69,267.25,271.87,274.07,270.17,273.85,270.97,269.0,266.7,268.3,256.17,251.53,248.48,246.94,248.63,258.67,258.09,259.62,257.29,251.8,252.73,251.45,249.9,245.58,251.89,254.24,259.02,259.94,259.28,264.08,260.96,258.11,257.25,261.85,261.93,262.98,261.7,260.09,261.75,259.41,250.19,251.79,249.1,247.64,251.97,253.07,249.88,249.64,245.8,239.93,242.89,240.28,241.62,242.5,243.1,250.33,252.17,258.77,257.81,262.92,263.07,263.41,267.04,268.06,270.22,276.57,275.37,283.23,283.77,287.75,288.92,292.32,291.16,286.86,287.37,283.75,282.52,278.64,288.94,289.19,289.22,294.07,295.36,298.54,300.14,302.31,314.74,318.0,309.49,310.53,309.52,307.47,308.84,308.05,307.83,305.24,300.98,304.18,309.36,312.8,318.27,317.13,318.62,316.08,318.03,316.65,308.03,307.04,301.59,300.5,308.43,306.73,313.36,308.73,314.8,315.0,316.87,311.15,316.4,318.15,317.44,320.15,318.21,321.01,319.76,320.56,321.67,320.29,320.36,321.25,320.61,322.21,324.2,325.16,323.6,324.68,325.47,325.29,323.66,322.56,329.57,331.29,334.0,333.73,336.12,342.45,341.64,344.42,345.68,348.48,340.65,338.84,332.68,326.72,337.45,341.4,343.85,343.21,336.1,339.32,345.03,344.32,343.44,346.5,351.88,355.2,358.16,354.54,356.85,359.18,359.9,363.13,358.3,350.56,338.61,342.62,342.88,348.16,353.21,349.31,352.12,359.56,360.0,355.36,355.76,352.47,346.67,351.99,353.56,345.43,330.01,334.64,330.67,339.3,341.2,339.19,344.97,351.54,350.44,350.96,348.63,348.51,344.56,341.19,338.89,338.04,338.08,335.06,330.8,332.4,336.13,332.42,327.46,331.85,337.86,342.41,350.7,353.01,350.42,350.15,346.75,350.13,346.28,348.2,349.57,346.75,346.66,347.6,349.45,347.23,346.57,340.5,333.3,336.14,339.87,340.53,335.22,334.4,332.19,336.78,335.0,337.41,347.83,345.51,346.1,343.44,338.04,332.04,332.24,331.49,325.9,326.6,332.44,326.75,325.16,320.26,315.32,325.3,322.61,331.23,326.35,332.04,335.26,334.04,335.67,343.26,349.43,351.76,357.2,359.71,354.0,353.75,358.02,357.77,364.92,373.8,376.85,386.9,387.29,393.3,398.5,403.41,392.59,391.82,390.48,396.75,388.91,392.57,377.37,373.62,353.21,374.01,363.69,373.7,376.99,383.41,380.48,380.44,366.05,356.03,356.44,373.6,376.18,373.72,383.58,389.97,389.99,384.83,381.03,374.05,379.74,383.93,384.14,377.48,379.94,384.62,389.3,392.96,400.5,411.63,413.45,412.14,401.82,404.3,403.17,399.26,397.01,390.57,381.32,374.6,372.5,378.25,377.37,369.8,388.81,400.29,402.19,408.43,422.0,419.99,422.24,398.62,395.31,392.87,405.77,397.77,400.6,404.69,404.95,404.78,396.51,397.41,403.07,400.24,399.73,406.23,395.28,385.22,384.62,379.26,388.83,384.77,377.41,374.94,369.01,376.51,366.99,363.57,376.12,373.2,382.2,387.93,389.7,393.01,390.95,389.09,390.66,393.62,391.84,388.81,380.19,378.94,381.02,382.21,395.95,396.45,398.55,403.33,406.53,402.64,405.12,405.0,411.23,413.44,418.03,422.4,421.73,423.24,422.55,421.39,419.81,424.7,429.11,427.75,420.3,427.41,420.41,446.66,444.63,447.28,453.01,456.48,456.19,455.12,459.68,463.97,468.83,476.68,493.17,493.42,502.6,509.46,497.67,502.21,502.12,514.85,513.04,516.39,522.41,525.76,535.41,542.44,544.47,545.18,533.16,530.26,530.69,541.99,545.17,552.0,568.1,589.58,585.56,585.57,601.1,605.96,602.5,599.34,596.05,606.98,614.48,617.62,609.86,599.55,618.63,629.32,624.31,633.68,636.23,628.44,626.2,622.77,605.23,580.13,609.7,608.34,587.44,572.98,571.7,560.28,610.0,607.7,603.0,583.98,582.13,585.98,581.82,565.25,569.48,568.18,569.18,570.52,566.71,558.22,553.17,546.08,530.12,530.38,561.28,556.97,570.56,565.32,562.29,572.27,579.17,577.73,560.99,564.29,562.83,571.46,571.72,580.32,571.17,576.16,572.16,571.53,574.13,585.78,587.41,585.74,577.67,582.1,570.77,572.03,574.5,569.05,584.0,592.52,599.41,609.94,605.88,613.89,608.21,604.43,598.9,604.97,606.91,606.94,606.26,614.32,604.3,603.83,600.92,574.97,574.88,585.16,595.03,610.76,606.81,607.79,615.7,622.55,620.91,619.86,620.73,621.7,630.0,631.69,630.83,636.34,648.11,665.15,656.06,668.87,662.63,663.22,675.68,674.8,673.47,663.87,665.24,674.97,670.23,676.27,680.44,662.74,660.59,669.79,682.98,691.28,699.78,701.91,702.1,698.7,700.09,690.79,673.54,665.18,681.32,667.1,659.39,661.31,671.45,666.8,652.59,638.17,635.85,640.91,628.1,629.71,634.76,649.79,644.61,632.64,609.84,634.03,613.36,616.83,609.54,604.0,595.32,596.54,576.8,584.62,582.85,558.0,537.75,547.06,542.83,542.9,536.88,525.62,527.68,565.73,560.91,561.7,571.5,589.53,584.78,582.94,589.36,585.28,586.19,575.85,538.79,547.24,533.25,529.82,541.39,539.0,529.69,509.79,518.83,533.9,526.31,521.73,519.33,520.17,513.0,515.06,509.59,532.17,549.03,542.1,527.0,523.9,525.31,517.1,523.51,520.3,501.75,485.92,506.09,502.68,500.0,504.77,514.01,450.5,439.88,449.83,458.27,456.83,455.49,453.62,442.32,457.84,457.35,468.22,474.98,479.93,467.9,467.01,466.59,460.16,459.99,448.85,446.06,450.81,442.8,448.97,444.57,441.4,430.47]},\"selected\":{\"id\":\"3518\"},\"selection_policy\":{\"id\":\"3519\"}},\"id\":\"3362\",\"type\":\"ColumnDataSource\"},{\"attributes\":{\"text\":\"AAPL\"},\"id\":\"3330\",\"type\":\"Title\"},{\"attributes\":{\"months\":[0,2,4,6,8,10]},\"id\":\"3528\",\"type\":\"MonthsTicker\"},{\"attributes\":{},\"id\":\"3338\",\"type\":\"LinearScale\"},{\"attributes\":{},\"id\":\"3512\",\"type\":\"BasicTickFormatter\"},{\"attributes\":{},\"id\":\"3332\",\"type\":\"DataRange1d\"},{\"attributes\":{\"line_color\":\"#1f77b4\",\"x\":{\"field\":\"x\"},\"y\":{\"field\":\"y\"}},\"id\":\"3363\",\"type\":\"Line\"},{\"attributes\":{\"mantissas\":[1,2,5],\"max_interval\":500.0,\"num_minor_ticks\":0},\"id\":\"3520\",\"type\":\"AdaptiveTicker\"},{\"attributes\":{},\"id\":\"3353\",\"type\":\"HelpTool\"},{\"attributes\":{\"active_multi\":null,\"tools\":[{\"id\":\"3348\"},{\"id\":\"3349\"},{\"id\":\"3350\"},{\"id\":\"3351\"},{\"id\":\"3352\"},{\"id\":\"3353\"}]},\"id\":\"3355\",\"type\":\"Toolbar\"},{\"attributes\":{\"axis_label\":\"Time\",\"formatter\":{\"id\":\"3515\"},\"major_label_policy\":{\"id\":\"3514\"},\"ticker\":{\"id\":\"3341\"}},\"id\":\"3340\",\"type\":\"DatetimeAxis\"},{\"attributes\":{\"days\":[1,8,15,22]},\"id\":\"3525\",\"type\":\"DaysTicker\"},{\"attributes\":{\"line_alpha\":0.1,\"line_color\":\"#1f77b4\",\"x\":{\"field\":\"x\"},\"y\":{\"field\":\"y\"}},\"id\":\"3364\",\"type\":\"Line\"},{\"attributes\":{\"days\":[1,15]},\"id\":\"3526\",\"type\":\"DaysTicker\"},{\"attributes\":{},\"id\":\"3531\",\"type\":\"YearsTicker\"},{\"attributes\":{\"axis\":{\"id\":\"3344\"},\"dimension\":1,\"grid_line_alpha\":0.5,\"ticker\":null},\"id\":\"3347\",\"type\":\"Grid\"},{\"attributes\":{\"axis_label\":\"Value\",\"formatter\":{\"id\":\"3512\"},\"major_label_policy\":{\"id\":\"3511\"},\"ticker\":{\"id\":\"3345\"}},\"id\":\"3344\",\"type\":\"LinearAxis\"},{\"attributes\":{\"base\":60,\"mantissas\":[1,2,5,10,15,20,30],\"max_interval\":1800000.0,\"min_interval\":1000.0,\"num_minor_ticks\":0},\"id\":\"3521\",\"type\":\"AdaptiveTicker\"}],\"root_ids\":[\"3329\"]},\"title\":\"Bokeh Application\",\"version\":\"2.3.2\"}};\n",
       "  var render_items = [{\"docid\":\"8fc1abb4-b06c-4883-a820-b6722e30fba5\",\"root_ids\":[\"3329\"],\"roots\":{\"3329\":\"6455cc72-95a0-4734-bdc5-5b36a7f770b2\"}}];\n",
       "  root.Bokeh.embed.embed_items_notebook(docs_json, render_items);\n",
       "\n",
       "  }\n",
       "  if (root.Bokeh !== undefined) {\n",
       "    embed_document(root);\n",
       "  } else {\n",
       "    let attempts = 0;\n",
       "    const timer = setInterval(function(root) {\n",
       "      if (root.Bokeh !== undefined) {\n",
       "        clearInterval(timer);\n",
       "        embed_document(root);\n",
       "      } else {\n",
       "        attempts++;\n",
       "        if (attempts > 100) {\n",
       "          clearInterval(timer);\n",
       "          console.log(\"Bokeh: ERROR: Unable to run BokehJS code because BokehJS library is missing\");\n",
       "        }\n",
       "      }\n",
       "    }, 10, root)\n",
       "  }\n",
       "})(window);"
      ],
      "application/vnd.bokehjs_exec.v0+json": ""
     },
     "metadata": {
      "application/vnd.bokehjs_exec.v0+json": {
       "id": "3329"
      }
     },
     "output_type": "display_data"
    }
   ],
   "source": [
    "from bokeh.sampledata.stocks import AAPL\n",
    "\n",
    "\n",
    "\n",
    "dates = np.array(AAPL['date'], dtype=np.datetime64)\n",
    "\n",
    "p = figure(x_axis_type='datetime', title='AAPL')\n",
    "p.xgrid.grid_line_color='blue'\n",
    "p.ygrid.grid_line_alpha=0.5\n",
    "p.xaxis.axis_label = 'Time'\n",
    "p.yaxis.axis_label = 'Value'\n",
    "\n",
    "p.line(AAPL['date'], AAPL['close'])\n",
    "show(p)"
   ]
  },
  {
   "cell_type": "code",
   "execution_count": null,
   "id": "0a2a0ed5",
   "metadata": {},
   "outputs": [],
   "source": []
  }
 ],
 "metadata": {
  "kernelspec": {
   "display_name": "Python 3",
   "language": "python",
   "name": "python3"
  },
  "language_info": {
   "codemirror_mode": {
    "name": "ipython",
    "version": 3
   },
   "file_extension": ".py",
   "mimetype": "text/x-python",
   "name": "python",
   "nbconvert_exporter": "python",
   "pygments_lexer": "ipython3",
   "version": "3.8.8"
  }
 },
 "nbformat": 4,
 "nbformat_minor": 5
}
