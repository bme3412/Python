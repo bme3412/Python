{
 "cells": [
  {
   "cell_type": "code",
   "execution_count": 1,
   "id": "e8334442",
   "metadata": {},
   "outputs": [],
   "source": [
    "import pandas as pd\n",
    "import glob \n",
    "import os\n",
    "pd.options.display.float_format = '{:,.0f}'.format"
   ]
  },
  {
   "cell_type": "code",
   "execution_count": 2,
   "id": "21e4b361",
   "metadata": {},
   "outputs": [
    {
     "data": {
      "text/plain": [
       "['W.csv',\n",
       " 'V.csv',\n",
       " 'A.csv',\n",
       " 'C.csv',\n",
       " 'T.csv',\n",
       " 'U.csv',\n",
       " 'B.csv',\n",
       " '#.csv',\n",
       " 'Q.csv',\n",
       " 'F.csv',\n",
       " 'G.csv',\n",
       " 'P.csv',\n",
       " 'R.csv',\n",
       " 'E.csv',\n",
       " 'D.csv',\n",
       " 'S.csv',\n",
       " 'I.csv',\n",
       " 'H.csv',\n",
       " 'J.csv',\n",
       " 'K.csv',\n",
       " 'O.csv',\n",
       " 'X.csv',\n",
       " 'Y.csv',\n",
       " 'N.csv',\n",
       " 'L.csv',\n",
       " 'Z.csv',\n",
       " 'M.csv']"
      ]
     },
     "execution_count": 2,
     "metadata": {},
     "output_type": "execute_result"
    }
   ],
   "source": [
    "extension = 'csv'\n",
    "result = glob.glob('*.{}'.format(extension))\n",
    "result"
   ]
  },
  {
   "cell_type": "code",
   "execution_count": 3,
   "id": "d0338ce1",
   "metadata": {},
   "outputs": [
    {
     "name": "stderr",
     "output_type": "stream",
     "text": [
      "<ipython-input-3-479b2c367944>:4: FutureWarning: The frame.append method is deprecated and will be removed from pandas in a future version. Use pandas.concat instead.\n",
      "  master_df = master_df.append(file_df)\n",
      "<ipython-input-3-479b2c367944>:4: FutureWarning: The frame.append method is deprecated and will be removed from pandas in a future version. Use pandas.concat instead.\n",
      "  master_df = master_df.append(file_df)\n",
      "<ipython-input-3-479b2c367944>:4: FutureWarning: The frame.append method is deprecated and will be removed from pandas in a future version. Use pandas.concat instead.\n",
      "  master_df = master_df.append(file_df)\n",
      "<ipython-input-3-479b2c367944>:4: FutureWarning: The frame.append method is deprecated and will be removed from pandas in a future version. Use pandas.concat instead.\n",
      "  master_df = master_df.append(file_df)\n",
      "<ipython-input-3-479b2c367944>:4: FutureWarning: The frame.append method is deprecated and will be removed from pandas in a future version. Use pandas.concat instead.\n",
      "  master_df = master_df.append(file_df)\n",
      "<ipython-input-3-479b2c367944>:4: FutureWarning: The frame.append method is deprecated and will be removed from pandas in a future version. Use pandas.concat instead.\n",
      "  master_df = master_df.append(file_df)\n",
      "<ipython-input-3-479b2c367944>:4: FutureWarning: The frame.append method is deprecated and will be removed from pandas in a future version. Use pandas.concat instead.\n",
      "  master_df = master_df.append(file_df)\n",
      "<ipython-input-3-479b2c367944>:4: FutureWarning: The frame.append method is deprecated and will be removed from pandas in a future version. Use pandas.concat instead.\n",
      "  master_df = master_df.append(file_df)\n",
      "<ipython-input-3-479b2c367944>:4: FutureWarning: The frame.append method is deprecated and will be removed from pandas in a future version. Use pandas.concat instead.\n",
      "  master_df = master_df.append(file_df)\n",
      "<ipython-input-3-479b2c367944>:4: FutureWarning: The frame.append method is deprecated and will be removed from pandas in a future version. Use pandas.concat instead.\n",
      "  master_df = master_df.append(file_df)\n",
      "<ipython-input-3-479b2c367944>:4: FutureWarning: The frame.append method is deprecated and will be removed from pandas in a future version. Use pandas.concat instead.\n",
      "  master_df = master_df.append(file_df)\n",
      "<ipython-input-3-479b2c367944>:4: FutureWarning: The frame.append method is deprecated and will be removed from pandas in a future version. Use pandas.concat instead.\n",
      "  master_df = master_df.append(file_df)\n",
      "<ipython-input-3-479b2c367944>:4: FutureWarning: The frame.append method is deprecated and will be removed from pandas in a future version. Use pandas.concat instead.\n",
      "  master_df = master_df.append(file_df)\n",
      "<ipython-input-3-479b2c367944>:4: FutureWarning: The frame.append method is deprecated and will be removed from pandas in a future version. Use pandas.concat instead.\n",
      "  master_df = master_df.append(file_df)\n",
      "<ipython-input-3-479b2c367944>:4: FutureWarning: The frame.append method is deprecated and will be removed from pandas in a future version. Use pandas.concat instead.\n",
      "  master_df = master_df.append(file_df)\n",
      "<ipython-input-3-479b2c367944>:4: FutureWarning: The frame.append method is deprecated and will be removed from pandas in a future version. Use pandas.concat instead.\n",
      "  master_df = master_df.append(file_df)\n",
      "<ipython-input-3-479b2c367944>:4: FutureWarning: The frame.append method is deprecated and will be removed from pandas in a future version. Use pandas.concat instead.\n",
      "  master_df = master_df.append(file_df)\n",
      "<ipython-input-3-479b2c367944>:4: FutureWarning: The frame.append method is deprecated and will be removed from pandas in a future version. Use pandas.concat instead.\n",
      "  master_df = master_df.append(file_df)\n",
      "<ipython-input-3-479b2c367944>:4: FutureWarning: The frame.append method is deprecated and will be removed from pandas in a future version. Use pandas.concat instead.\n",
      "  master_df = master_df.append(file_df)\n",
      "<ipython-input-3-479b2c367944>:4: FutureWarning: The frame.append method is deprecated and will be removed from pandas in a future version. Use pandas.concat instead.\n",
      "  master_df = master_df.append(file_df)\n",
      "<ipython-input-3-479b2c367944>:4: FutureWarning: The frame.append method is deprecated and will be removed from pandas in a future version. Use pandas.concat instead.\n",
      "  master_df = master_df.append(file_df)\n",
      "<ipython-input-3-479b2c367944>:4: FutureWarning: The frame.append method is deprecated and will be removed from pandas in a future version. Use pandas.concat instead.\n",
      "  master_df = master_df.append(file_df)\n",
      "<ipython-input-3-479b2c367944>:4: FutureWarning: The frame.append method is deprecated and will be removed from pandas in a future version. Use pandas.concat instead.\n",
      "  master_df = master_df.append(file_df)\n",
      "<ipython-input-3-479b2c367944>:4: FutureWarning: The frame.append method is deprecated and will be removed from pandas in a future version. Use pandas.concat instead.\n",
      "  master_df = master_df.append(file_df)\n",
      "<ipython-input-3-479b2c367944>:4: FutureWarning: The frame.append method is deprecated and will be removed from pandas in a future version. Use pandas.concat instead.\n",
      "  master_df = master_df.append(file_df)\n",
      "<ipython-input-3-479b2c367944>:4: FutureWarning: The frame.append method is deprecated and will be removed from pandas in a future version. Use pandas.concat instead.\n",
      "  master_df = master_df.append(file_df)\n",
      "<ipython-input-3-479b2c367944>:4: FutureWarning: The frame.append method is deprecated and will be removed from pandas in a future version. Use pandas.concat instead.\n",
      "  master_df = master_df.append(file_df)\n"
     ]
    }
   ],
   "source": [
    "master_df = pd.DataFrame()\n",
    "for file in result:\n",
    "    file_df = pd.read_csv(file).reset_index()\n",
    "    master_df = master_df.append(file_df)\n",
    "master_df = master_df[['Section', 'Brand', 'bn_id', 'Total Count']]\n"
   ]
  },
  {
   "cell_type": "code",
   "execution_count": 9,
   "id": "fa45a5a6",
   "metadata": {},
   "outputs": [
    {
     "data": {
      "text/html": [
       "<div><div id=1b1e235b-e3a5-4f36-8e7e-cd2cba82ec18 style=\"display:none; background-color:#9D6CFF; color:white; width:200px; height:30px; padding-left:5px; border-radius:4px; flex-direction:row; justify-content:space-around; align-items:center;\" onmouseover=\"this.style.backgroundColor='#BA9BF8'\" onmouseout=\"this.style.backgroundColor='#9D6CFF'\" onclick=\"window.commands?.execute('create-mitosheet-from-dataframe-output');\">See Full Dataframe in Mito</div> <script> if (window.commands.hasCommand('create-mitosheet-from-dataframe-output')) document.getElementById('1b1e235b-e3a5-4f36-8e7e-cd2cba82ec18').style.display = 'flex' </script> <table border=\"1\" class=\"dataframe\">\n",
       "  <thead>\n",
       "    <tr style=\"text-align: right;\">\n",
       "      <th></th>\n",
       "      <th>Section</th>\n",
       "      <th>Brand</th>\n",
       "      <th>bn_id</th>\n",
       "      <th>Total Count</th>\n",
       "    </tr>\n",
       "  </thead>\n",
       "  <tbody>\n",
       "    <tr>\n",
       "      <th>79</th>\n",
       "      <td>O</td>\n",
       "      <td>Origins</td>\n",
       "      <td>https://www.ebay.com/b/Origins/bn_21832319</td>\n",
       "      <td>8,600,000</td>\n",
       "    </tr>\n",
       "    <tr>\n",
       "      <th>181</th>\n",
       "      <td>B</td>\n",
       "      <td>Blank</td>\n",
       "      <td>https://www.ebay.com/b/Blank/bn_7117225020</td>\n",
       "      <td>6,600,000</td>\n",
       "    </tr>\n",
       "    <tr>\n",
       "      <th>75</th>\n",
       "      <td>W</td>\n",
       "      <td>Whiting &amp; Davis</td>\n",
       "      <td>https://www.ebay.com/b/Whiting-Davis/bn_21838499</td>\n",
       "      <td>6,100,000</td>\n",
       "    </tr>\n",
       "    <tr>\n",
       "      <th>79</th>\n",
       "      <td>R</td>\n",
       "      <td>Red</td>\n",
       "      <td>https://www.ebay.com/b/Red/bn_7064026954</td>\n",
       "      <td>4,100,000</td>\n",
       "    </tr>\n",
       "    <tr>\n",
       "      <th>323</th>\n",
       "      <td>S</td>\n",
       "      <td>Springs</td>\n",
       "      <td>https://www.ebay.com/b/Springs/bn_7064045397</td>\n",
       "      <td>3,800,000</td>\n",
       "    </tr>\n",
       "  </tbody>\n",
       "</table></div>"
      ],
      "text/plain": [
       "    Section            Brand  \\\n",
       "79        O          Origins   \n",
       "181       B            Blank   \n",
       "75        W  Whiting & Davis   \n",
       "79        R              Red   \n",
       "323       S          Springs   \n",
       "\n",
       "                                                bn_id  Total Count  \n",
       "79         https://www.ebay.com/b/Origins/bn_21832319    8,600,000  \n",
       "181        https://www.ebay.com/b/Blank/bn_7117225020    6,600,000  \n",
       "75   https://www.ebay.com/b/Whiting-Davis/bn_21838499    6,100,000  \n",
       "79           https://www.ebay.com/b/Red/bn_7064026954    4,100,000  \n",
       "323      https://www.ebay.com/b/Springs/bn_7064045397    3,800,000  "
      ]
     },
     "execution_count": 9,
     "metadata": {},
     "output_type": "execute_result"
    }
   ],
   "source": [
    "master_df_sort = master_df.sort_values(by=['Total Count'], ascending=False)\n",
    "master_df_sort = master_df_sort.replace(',','', regex=True)\n",
    "master_df_sort['Total Count'] = pd.to_numeric(master_df_sort['Total Count'])\n",
    "master_df_sort.sort_values('Total Count', ascending=False)\n",
    "master_df_sort_ = master_df_sort.sort_values('Total Count', ascending=False)\n",
    "master_df_sort_.head()"
   ]
  },
  {
   "cell_type": "code",
   "execution_count": 10,
   "id": "48d0320d",
   "metadata": {},
   "outputs": [
    {
     "data": {
      "text/plain": [
       "Section         object\n",
       "Brand           object\n",
       "bn_id           object\n",
       "Total Count    float64\n",
       "dtype: object"
      ]
     },
     "execution_count": 10,
     "metadata": {},
     "output_type": "execute_result"
    }
   ],
   "source": [
    "master_df_sort_.dtypes"
   ]
  },
  {
   "cell_type": "code",
   "execution_count": 14,
   "id": "ee3691e2",
   "metadata": {},
   "outputs": [
    {
     "data": {
      "text/plain": [
       "131"
      ]
     },
     "execution_count": 14,
     "metadata": {},
     "output_type": "execute_result"
    }
   ],
   "source": [
    "master_df_sort_['Total Count'].isna().sum()"
   ]
  },
  {
   "cell_type": "code",
   "execution_count": 22,
   "id": "31fe37e6",
   "metadata": {},
   "outputs": [
    {
     "data": {
      "text/html": [
       "<div><div id=da103f47-b4b3-4ead-949e-54b97fa1470e style=\"display:none; background-color:#9D6CFF; color:white; width:200px; height:30px; padding-left:5px; border-radius:4px; flex-direction:row; justify-content:space-around; align-items:center;\" onmouseover=\"this.style.backgroundColor='#BA9BF8'\" onmouseout=\"this.style.backgroundColor='#9D6CFF'\" onclick=\"window.commands?.execute('create-mitosheet-from-dataframe-output');\">See Full Dataframe in Mito</div> <script> if (window.commands.hasCommand('create-mitosheet-from-dataframe-output')) document.getElementById('da103f47-b4b3-4ead-949e-54b97fa1470e').style.display = 'flex' </script> <table border=\"1\" class=\"dataframe\">\n",
       "  <thead>\n",
       "    <tr style=\"text-align: right;\">\n",
       "      <th></th>\n",
       "      <th>Section</th>\n",
       "      <th>Brand</th>\n",
       "      <th>bn_id</th>\n",
       "      <th>Total Count</th>\n",
       "    </tr>\n",
       "  </thead>\n",
       "  <tbody>\n",
       "    <tr>\n",
       "      <th>79</th>\n",
       "      <td>O</td>\n",
       "      <td>Origins</td>\n",
       "      <td>https://www.ebay.com/b/Origins/bn_21832319</td>\n",
       "      <td>8,600,000</td>\n",
       "    </tr>\n",
       "    <tr>\n",
       "      <th>181</th>\n",
       "      <td>B</td>\n",
       "      <td>Blank</td>\n",
       "      <td>https://www.ebay.com/b/Blank/bn_7117225020</td>\n",
       "      <td>6,600,000</td>\n",
       "    </tr>\n",
       "    <tr>\n",
       "      <th>75</th>\n",
       "      <td>W</td>\n",
       "      <td>Whiting &amp; Davis</td>\n",
       "      <td>https://www.ebay.com/b/Whiting-Davis/bn_21838499</td>\n",
       "      <td>6,100,000</td>\n",
       "    </tr>\n",
       "    <tr>\n",
       "      <th>79</th>\n",
       "      <td>R</td>\n",
       "      <td>Red</td>\n",
       "      <td>https://www.ebay.com/b/Red/bn_7064026954</td>\n",
       "      <td>4,100,000</td>\n",
       "    </tr>\n",
       "    <tr>\n",
       "      <th>323</th>\n",
       "      <td>S</td>\n",
       "      <td>Springs</td>\n",
       "      <td>https://www.ebay.com/b/Springs/bn_7064045397</td>\n",
       "      <td>3,800,000</td>\n",
       "    </tr>\n",
       "  </tbody>\n",
       "</table></div>"
      ],
      "text/plain": [
       "    Section            Brand  \\\n",
       "79        O          Origins   \n",
       "181       B            Blank   \n",
       "75        W  Whiting & Davis   \n",
       "79        R              Red   \n",
       "323       S          Springs   \n",
       "\n",
       "                                                bn_id  Total Count  \n",
       "79         https://www.ebay.com/b/Origins/bn_21832319    8,600,000  \n",
       "181        https://www.ebay.com/b/Blank/bn_7117225020    6,600,000  \n",
       "75   https://www.ebay.com/b/Whiting-Davis/bn_21838499    6,100,000  \n",
       "79           https://www.ebay.com/b/Red/bn_7064026954    4,100,000  \n",
       "323      https://www.ebay.com/b/Springs/bn_7064045397    3,800,000  "
      ]
     },
     "execution_count": 22,
     "metadata": {},
     "output_type": "execute_result"
    }
   ],
   "source": [
    "master_df_ = master_df_sort_.dropna()\n",
    "master_df_.head()\n"
   ]
  },
  {
   "cell_type": "code",
   "execution_count": 43,
   "id": "5dd52b7a",
   "metadata": {},
   "outputs": [
    {
     "data": {
      "text/plain": [
       "128268429"
      ]
     },
     "execution_count": 43,
     "metadata": {},
     "output_type": "execute_result"
    }
   ],
   "source": [
    "total_sold = int((master_df_['Total Count'].sum()))\n",
    "#total_sold = total_sold.astype(float)\n",
    "total_sold"
   ]
  },
  {
   "cell_type": "code",
   "execution_count": 51,
   "id": "4bdc0b09",
   "metadata": {},
   "outputs": [
    {
     "data": {
      "text/plain": [
       "'128,268,429'"
      ]
     },
     "execution_count": 51,
     "metadata": {},
     "output_type": "execute_result"
    }
   ],
   "source": [
    "count = '{:,.0f}'.format(total_sold)\n",
    "count"
   ]
  },
  {
   "cell_type": "code",
   "execution_count": 46,
   "id": "48fdccb5",
   "metadata": {},
   "outputs": [
    {
     "data": {
      "text/plain": [
       "int"
      ]
     },
     "execution_count": 46,
     "metadata": {},
     "output_type": "execute_result"
    }
   ],
   "source": [
    "type(total_sold)"
   ]
  },
  {
   "cell_type": "code",
   "execution_count": 52,
   "id": "8434ebbf",
   "metadata": {},
   "outputs": [
    {
     "data": {
      "text/plain": [
       "4713"
      ]
     },
     "execution_count": 52,
     "metadata": {},
     "output_type": "execute_result"
    }
   ],
   "source": [
    "len(master_df_sort)"
   ]
  },
  {
   "cell_type": "code",
   "execution_count": null,
   "id": "8f66bd73",
   "metadata": {},
   "outputs": [],
   "source": []
  }
 ],
 "metadata": {
  "kernelspec": {
   "display_name": "Python 3",
   "language": "python",
   "name": "python3"
  },
  "language_info": {
   "codemirror_mode": {
    "name": "ipython",
    "version": 3
   },
   "file_extension": ".py",
   "mimetype": "text/x-python",
   "name": "python",
   "nbconvert_exporter": "python",
   "pygments_lexer": "ipython3",
   "version": "3.8.8"
  }
 },
 "nbformat": 4,
 "nbformat_minor": 5
}
