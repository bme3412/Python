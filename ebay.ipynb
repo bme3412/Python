{
 "cells": [
  {
   "cell_type": "code",
   "execution_count": 3,
   "id": "71624b6a",
   "metadata": {},
   "outputs": [],
   "source": [
    "import requests\n",
    "from bs4 import BeautifulSoup\n",
    "import pandas as pd"
   ]
  },
  {
   "cell_type": "code",
   "execution_count": 11,
   "id": "277ba589",
   "metadata": {},
   "outputs": [],
   "source": [
    "url = 'https://www.ebay.com/sch/i.html?_from=R40&_nkw=iphone+12&_sacat=0&rt=nc&LH_Sold=1&LH_Complete=1&_ipg=240'\n"
   ]
  },
  {
   "cell_type": "code",
   "execution_count": 12,
   "id": "09598c33",
   "metadata": {},
   "outputs": [],
   "source": [
    "def get_data(url):\n",
    "    r = requests.get(url)\n",
    "    soup = BeautifulSoup(r.text, 'html.parser')\n",
    "    return soup"
   ]
  },
  {
   "cell_type": "code",
   "execution_count": 47,
   "id": "315fb9ae",
   "metadata": {},
   "outputs": [
    {
     "data": {
      "text/plain": [
       "'Shop on eBayOpens in a new window or tabBrand New$20.00or Best Offer \\u200bSponsored'"
      ]
     },
     "execution_count": 47,
     "metadata": {},
     "output_type": "execute_result"
    }
   ],
   "source": [
    "offerta = soup.find('div', {'class':'s-item__info clearfix'}).get_text()\n",
    "offerta"
   ]
  },
  {
   "cell_type": "code",
   "execution_count": 48,
   "id": "9136b112",
   "metadata": {},
   "outputs": [],
   "source": [
    "def parse(soup):\n",
    "    results = soup.find_all('div', {'class': 's-item__info clearfix'})\n",
    "    for item in results:\n",
    "        products = {\n",
    "            'title': item.find('div', {'class':'s-item__title s-item__title--has-tags'}).text,\n",
    "            #'soldPrice':\n",
    "            #'solddate':\n",
    "            #'bids':\n",
    "            #'link':\n",
    "        }\n",
    "\n",
    "    return"
   ]
  },
  {
   "cell_type": "code",
   "execution_count": 49,
   "id": "21a596b9",
   "metadata": {},
   "outputs": [
    {
     "ename": "AttributeError",
     "evalue": "'NoneType' object has no attribute 'text'",
     "output_type": "error",
     "traceback": [
      "\u001b[0;31m---------------------------------------------------------------------------\u001b[0m",
      "\u001b[0;31mAttributeError\u001b[0m                            Traceback (most recent call last)",
      "Input \u001b[0;32mIn [49]\u001b[0m, in \u001b[0;36m<cell line: 2>\u001b[0;34m()\u001b[0m\n\u001b[1;32m      1\u001b[0m soup \u001b[38;5;241m=\u001b[39m get_data(url)\n\u001b[0;32m----> 2\u001b[0m \u001b[43mparse\u001b[49m\u001b[43m(\u001b[49m\u001b[43msoup\u001b[49m\u001b[43m)\u001b[49m\n",
      "Input \u001b[0;32mIn [48]\u001b[0m, in \u001b[0;36mparse\u001b[0;34m(soup)\u001b[0m\n\u001b[1;32m      2\u001b[0m results \u001b[38;5;241m=\u001b[39m soup\u001b[38;5;241m.\u001b[39mfind_all(\u001b[38;5;124m'\u001b[39m\u001b[38;5;124mdiv\u001b[39m\u001b[38;5;124m'\u001b[39m, {\u001b[38;5;124m'\u001b[39m\u001b[38;5;124mclass\u001b[39m\u001b[38;5;124m'\u001b[39m: \u001b[38;5;124m'\u001b[39m\u001b[38;5;124ms-item__info clearfix\u001b[39m\u001b[38;5;124m'\u001b[39m})\n\u001b[1;32m      3\u001b[0m \u001b[38;5;28;01mfor\u001b[39;00m item \u001b[38;5;129;01min\u001b[39;00m results:\n\u001b[1;32m      4\u001b[0m     products \u001b[38;5;241m=\u001b[39m {\n\u001b[0;32m----> 5\u001b[0m         \u001b[38;5;124m'\u001b[39m\u001b[38;5;124mtitle\u001b[39m\u001b[38;5;124m'\u001b[39m: \u001b[43mitem\u001b[49m\u001b[38;5;241;43m.\u001b[39;49m\u001b[43mfind\u001b[49m\u001b[43m(\u001b[49m\u001b[38;5;124;43m'\u001b[39;49m\u001b[38;5;124;43mdiv\u001b[39;49m\u001b[38;5;124;43m'\u001b[39;49m\u001b[43m,\u001b[49m\u001b[43m \u001b[49m\u001b[43m{\u001b[49m\u001b[38;5;124;43m'\u001b[39;49m\u001b[38;5;124;43mclass\u001b[39;49m\u001b[38;5;124;43m'\u001b[39;49m\u001b[43m:\u001b[49m\u001b[38;5;124;43m'\u001b[39;49m\u001b[38;5;124;43ms-item__title s-item__title--has-tags\u001b[39;49m\u001b[38;5;124;43m'\u001b[39;49m\u001b[43m}\u001b[49m\u001b[43m)\u001b[49m\u001b[38;5;241;43m.\u001b[39;49m\u001b[43mtext\u001b[49m,\n\u001b[1;32m      6\u001b[0m         \u001b[38;5;66;03m#'soldPrice':\u001b[39;00m\n\u001b[1;32m      7\u001b[0m         \u001b[38;5;66;03m#'solddate':\u001b[39;00m\n\u001b[1;32m      8\u001b[0m         \u001b[38;5;66;03m#'bids':\u001b[39;00m\n\u001b[1;32m      9\u001b[0m         \u001b[38;5;66;03m#'link':\u001b[39;00m\n\u001b[1;32m     10\u001b[0m     }\n\u001b[1;32m     12\u001b[0m \u001b[38;5;28;01mreturn\u001b[39;00m\n",
      "\u001b[0;31mAttributeError\u001b[0m: 'NoneType' object has no attribute 'text'"
     ]
    }
   ],
   "source": [
    "soup = get_data(url)\n",
    "parse(soup)"
   ]
  },
  {
   "cell_type": "code",
   "execution_count": null,
   "id": "05082765",
   "metadata": {},
   "outputs": [],
   "source": []
  }
 ],
 "metadata": {
  "kernelspec": {
   "display_name": "Python 3",
   "language": "python",
   "name": "python3"
  },
  "language_info": {
   "codemirror_mode": {
    "name": "ipython",
    "version": 3
   },
   "file_extension": ".py",
   "mimetype": "text/x-python",
   "name": "python",
   "nbconvert_exporter": "python",
   "pygments_lexer": "ipython3",
   "version": "3.8.8"
  }
 },
 "nbformat": 4,
 "nbformat_minor": 5
}
