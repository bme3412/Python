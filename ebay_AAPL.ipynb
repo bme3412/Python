{
 "cells": [
  {
   "cell_type": "code",
   "execution_count": 200,
   "id": "fe15773a",
   "metadata": {},
   "outputs": [],
   "source": [
    "import pandas as pd\n",
    "import glob \n",
    "import os\n",
    "import requests\n",
    "from bs4 import BeautifulSoup as bs\n",
    "pd.options.display.float_format = '{:,.0f}'.format"
   ]
  },
  {
   "cell_type": "code",
   "execution_count": 201,
   "id": "1ad4bc30",
   "metadata": {},
   "outputs": [],
   "source": [
    "# AAPL\n",
    "html = 'https://web.archive.org/web/20220916075337/https://www.ebay.com/b/Apple/bn_21819543'\n",
    "page = requests.get(html)\n",
    "soup = bs(page.content, \"lxml\")"
   ]
  },
  {
   "cell_type": "code",
   "execution_count": 202,
   "id": "eaeb2e24",
   "metadata": {},
   "outputs": [],
   "source": [
    "#soup.prettify()"
   ]
  },
  {
   "cell_type": "code",
   "execution_count": 203,
   "id": "ab5afd4c",
   "metadata": {},
   "outputs": [],
   "source": [
    "data = soup.find('div', attrs ={'class','dialog__cell'})\n",
    "#data"
   ]
  },
  {
   "cell_type": "code",
   "execution_count": 204,
   "id": "aa1c5e70",
   "metadata": {},
   "outputs": [
    {
     "data": {
      "text/plain": [
       "('Cell Phones, Smart Watches & Accessories',\n",
       " 'https://web.archive.org/web/20220916075337/https://www.ebay.com/b/Apple-Cell-Phones-Smartphones/9355/bn_319682')"
      ]
     },
     "execution_count": 204,
     "metadata": {},
     "output_type": "execute_result"
    }
   ],
   "source": [
    "title = soup.find('div', attrs ={'class','dialog__cell'}).find('li').text\n",
    "title\n",
    "link = [a['href'] for a in soup.find_all('a', attrs ={'class','b-textlink b-textlink--sibling'},href=True)][0]\n",
    "title, link\n"
   ]
  },
  {
   "cell_type": "code",
   "execution_count": 205,
   "id": "c76c71ac",
   "metadata": {},
   "outputs": [
    {
     "data": {
      "text/plain": [
       "(72, 72, 72, 72)"
      ]
     },
     "execution_count": 205,
     "metadata": {},
     "output_type": "execute_result"
    }
   ],
   "source": [
    "company = [] # fill in manual\n",
    "category = []\n",
    "category_id = []\n",
    "bn_id = []\n",
    "link = []\n",
    "count = []\n",
    "\n",
    "data = soup.find_all('div', attrs ={'class','dialog__cell'})[0]\n",
    "for li in data:\n",
    "    listings = data.find_all('li')\n",
    "    #print(listings)\n",
    "    for l in listings:\n",
    "        category.append(l.string)\n",
    "        links = l.find_all('a')\n",
    "        for a in links:\n",
    "            link.append(a['href'])\n",
    "            bn_id_str = str(link)\n",
    "            bn_id_ = bn_id_str.rsplit('/', 1)[-1]\n",
    "            bn_id.extend([bn_id_])\n",
    "            category_id_str = str(a['href'])\n",
    "            #print(category_id_str)\n",
    "            category_id_ = category_id_str.rsplit('/',maxsplit=2)[-2]\n",
    "            #cat_ids = [val[-1] for val in category_id_str.rsplit(maxsplit=5)]\n",
    "            category_id.append(category_id_)\n",
    "\n",
    " \n",
    "        \n",
    "            \n",
    "len(category), len(bn_id), len(link), len(bn_id)"
   ]
  },
  {
   "cell_type": "code",
   "execution_count": 206,
   "id": "00a9af91",
   "metadata": {},
   "outputs": [
    {
     "data": {
      "text/plain": [
       "'9355'"
      ]
     },
     "execution_count": 206,
     "metadata": {},
     "output_type": "execute_result"
    }
   ],
   "source": [
    "#link\n",
    "#category[0]\n",
    "#bn_id[0]\n",
    "category_id[1]"
   ]
  },
  {
   "cell_type": "code",
   "execution_count": null,
   "id": "c68333a2",
   "metadata": {},
   "outputs": [],
   "source": []
  },
  {
   "cell_type": "code",
   "execution_count": 207,
   "id": "ca968dd4",
   "metadata": {},
   "outputs": [
    {
     "name": "stderr",
     "output_type": "stream",
     "text": [
      "<ipython-input-207-d00e1c08ad02>:2: FutureWarning: The default value of regex will change from True to False in a future version.\n",
      "  df['bn_id'] = df['bn_id'].str.replace(\"']\",\"\")\n"
     ]
    },
    {
     "data": {
      "text/html": [
       "<div><div id=c70ad069-a66e-430f-97a1-912241ada1de style=\"display:none; background-color:#9D6CFF; color:white; width:200px; height:30px; padding-left:5px; border-radius:4px; flex-direction:row; justify-content:space-around; align-items:center;\" onmouseover=\"this.style.backgroundColor='#BA9BF8'\" onmouseout=\"this.style.backgroundColor='#9D6CFF'\" onclick=\"window.commands?.execute('create-mitosheet-from-dataframe-output');\">See Full Dataframe in Mito</div> <script> if (window.commands.hasCommand('create-mitosheet-from-dataframe-output')) document.getElementById('c70ad069-a66e-430f-97a1-912241ada1de').style.display = 'flex' </script> <table border=\"1\" class=\"dataframe\">\n",
       "  <thead>\n",
       "    <tr style=\"text-align: right;\">\n",
       "      <th></th>\n",
       "      <th>Category</th>\n",
       "      <th>Category_id</th>\n",
       "      <th>bn_id</th>\n",
       "      <th>Link</th>\n",
       "    </tr>\n",
       "  </thead>\n",
       "  <tbody>\n",
       "    <tr>\n",
       "      <th>1</th>\n",
       "      <td>Apple Cell Phones &amp; Smartphones</td>\n",
       "      <td>9355</td>\n",
       "      <td>bn_319682</td>\n",
       "      <td>https://web.archive.org/web/20220916075337/https://www.ebay.com/b/Apple-Cell-Phones-Smartphones/9355/bn_319682</td>\n",
       "    </tr>\n",
       "    <tr>\n",
       "      <th>2</th>\n",
       "      <td>Apple Cell Phone Cases and Covers</td>\n",
       "      <td>20349</td>\n",
       "      <td>bn_319677</td>\n",
       "      <td>https://web.archive.org/web/20220916075337/https://www.ebay.com/b/Apple-Cell-Phone-Cases-and-Covers/20349/bn_319677</td>\n",
       "    </tr>\n",
       "    <tr>\n",
       "      <th>3</th>\n",
       "      <td>Apple Watches</td>\n",
       "      <td>178893</td>\n",
       "      <td>bn_152159</td>\n",
       "      <td>https://web.archive.org/web/20220916075337/https://www.ebay.com/b/Apple-Watches/178893/bn_152159</td>\n",
       "    </tr>\n",
       "    <tr>\n",
       "      <th>4</th>\n",
       "      <td>Apple Cell Phone Headsets</td>\n",
       "      <td>80077</td>\n",
       "      <td>bn_320622</td>\n",
       "      <td>https://web.archive.org/web/20220916075337/https://www.ebay.com/b/Apple-Cell-Phone-Headsets/80077/bn_320622</td>\n",
       "    </tr>\n",
       "    <tr>\n",
       "      <th>5</th>\n",
       "      <td>Apple Other Cell Phone Accessories</td>\n",
       "      <td>42425</td>\n",
       "      <td>bn_77672418</td>\n",
       "      <td>https://web.archive.org/web/20220916075337/https://www.ebay.com/b/Apple-Other-Cell-Phone-Accessories/42425/bn_77672418</td>\n",
       "    </tr>\n",
       "  </tbody>\n",
       "</table></div>"
      ],
      "text/plain": [
       "                             Category Category_id        bn_id  \\\n",
       "1     Apple Cell Phones & Smartphones        9355    bn_319682   \n",
       "2   Apple Cell Phone Cases and Covers       20349    bn_319677   \n",
       "3                       Apple Watches      178893    bn_152159   \n",
       "4           Apple Cell Phone Headsets       80077    bn_320622   \n",
       "5  Apple Other Cell Phone Accessories       42425  bn_77672418   \n",
       "\n",
       "                                                Link  \n",
       "1  https://web.archive.org/web/20220916075337/htt...  \n",
       "2  https://web.archive.org/web/20220916075337/htt...  \n",
       "3  https://web.archive.org/web/20220916075337/htt...  \n",
       "4  https://web.archive.org/web/20220916075337/htt...  \n",
       "5  https://web.archive.org/web/20220916075337/htt...  "
      ]
     },
     "execution_count": 207,
     "metadata": {},
     "output_type": "execute_result"
    }
   ],
   "source": [
    "df = pd.DataFrame({'Category':category,'Category_id': category_id,'bn_id':bn_id,'Link':link})\n",
    "df['bn_id'] = df['bn_id'].str.replace(\"']\",\"\")\n",
    "df_AAPL = df[df[\"bn_id\"].str.contains(\"i.html\")==False]\n",
    "df_AAPL.head(5)\n"
   ]
  },
  {
   "cell_type": "code",
   "execution_count": 208,
   "id": "f0f38a6a",
   "metadata": {},
   "outputs": [
    {
     "data": {
      "text/html": [
       "<div><div id=9cf17db1-fb20-47f7-b72b-cf85e7921c9e style=\"display:none; background-color:#9D6CFF; color:white; width:200px; height:30px; padding-left:5px; border-radius:4px; flex-direction:row; justify-content:space-around; align-items:center;\" onmouseover=\"this.style.backgroundColor='#BA9BF8'\" onmouseout=\"this.style.backgroundColor='#9D6CFF'\" onclick=\"window.commands?.execute('create-mitosheet-from-dataframe-output');\">See Full Dataframe in Mito</div> <script> if (window.commands.hasCommand('create-mitosheet-from-dataframe-output')) document.getElementById('9cf17db1-fb20-47f7-b72b-cf85e7921c9e').style.display = 'flex' </script> <table border=\"1\" class=\"dataframe\">\n",
       "  <thead>\n",
       "    <tr style=\"text-align: right;\">\n",
       "      <th></th>\n",
       "      <th>Category</th>\n",
       "      <th>Category_id</th>\n",
       "      <th>bn_id</th>\n",
       "      <th>Link</th>\n",
       "    </tr>\n",
       "  </thead>\n",
       "  <tbody>\n",
       "    <tr>\n",
       "      <th>1</th>\n",
       "      <td>Apple Cell Phones &amp; Smartphones</td>\n",
       "      <td>9355</td>\n",
       "      <td>bn_319682</td>\n",
       "      <td>https://web.archive.org/web/20220916075337/https://www.ebay.com/b/Apple-Cell-Phones-Smartphones/9355/bn_319682</td>\n",
       "    </tr>\n",
       "    <tr>\n",
       "      <th>2</th>\n",
       "      <td>Apple Cell Phone Cases and Covers</td>\n",
       "      <td>20349</td>\n",
       "      <td>bn_319677</td>\n",
       "      <td>https://web.archive.org/web/20220916075337/https://www.ebay.com/b/Apple-Cell-Phone-Cases-and-Covers/20349/bn_319677</td>\n",
       "    </tr>\n",
       "    <tr>\n",
       "      <th>3</th>\n",
       "      <td>Apple Watches</td>\n",
       "      <td>178893</td>\n",
       "      <td>bn_152159</td>\n",
       "      <td>https://web.archive.org/web/20220916075337/https://www.ebay.com/b/Apple-Watches/178893/bn_152159</td>\n",
       "    </tr>\n",
       "    <tr>\n",
       "      <th>4</th>\n",
       "      <td>Apple Cell Phone Headsets</td>\n",
       "      <td>80077</td>\n",
       "      <td>bn_320622</td>\n",
       "      <td>https://web.archive.org/web/20220916075337/https://www.ebay.com/b/Apple-Cell-Phone-Headsets/80077/bn_320622</td>\n",
       "    </tr>\n",
       "    <tr>\n",
       "      <th>5</th>\n",
       "      <td>Apple Other Cell Phone Accessories</td>\n",
       "      <td>42425</td>\n",
       "      <td>bn_77672418</td>\n",
       "      <td>https://web.archive.org/web/20220916075337/https://www.ebay.com/b/Apple-Other-Cell-Phone-Accessories/42425/bn_77672418</td>\n",
       "    </tr>\n",
       "    <tr>\n",
       "      <th>6</th>\n",
       "      <td>Apple Cell Phone Parts</td>\n",
       "      <td>43304</td>\n",
       "      <td>bn_152160</td>\n",
       "      <td>https://web.archive.org/web/20220916075337/https://www.ebay.com/b/Apple-Cell-Phone-Parts/43304/bn_152160</td>\n",
       "    </tr>\n",
       "    <tr>\n",
       "      <th>7</th>\n",
       "      <td>Apple Cell Phone Accessories</td>\n",
       "      <td>9394</td>\n",
       "      <td>bn_319683</td>\n",
       "      <td>https://web.archive.org/web/20220916075337/https://www.ebay.com/b/Apple-Cell-Phone-Accessories/9394/bn_319683</td>\n",
       "    </tr>\n",
       "    <tr>\n",
       "      <th>8</th>\n",
       "      <td>Apple Cell Phone Screen Protectors</td>\n",
       "      <td>58540</td>\n",
       "      <td>bn_592916</td>\n",
       "      <td>https://web.archive.org/web/20220916075337/https://www.ebay.com/b/Apple-Cell-Phone-Screen-Protectors/58540/bn_592916</td>\n",
       "    </tr>\n",
       "    <tr>\n",
       "      <th>9</th>\n",
       "      <td>Apple Computers, Tablets &amp; Network Hardware</td>\n",
       "      <td>58058</td>\n",
       "      <td>bn_87878995</td>\n",
       "      <td>https://web.archive.org/web/20220916075337/https://www.ebay.com/b/Apple-Computers-Tablets-Network-Hardware/58058/bn_87878995</td>\n",
       "    </tr>\n",
       "    <tr>\n",
       "      <th>10</th>\n",
       "      <td>Apple Apple Laptops</td>\n",
       "      <td>111422</td>\n",
       "      <td>bn_7117377231</td>\n",
       "      <td>https://web.archive.org/web/20220916075337/https://www.ebay.com/b/Apple-Apple-Laptops/111422/bn_7117377231</td>\n",
       "    </tr>\n",
       "    <tr>\n",
       "      <th>11</th>\n",
       "      <td>Apple Tablets &amp; eReaders</td>\n",
       "      <td>171485</td>\n",
       "      <td>bn_319675</td>\n",
       "      <td>https://web.archive.org/web/20220916075337/https://www.ebay.com/b/Apple-Tablets-eReaders/171485/bn_319675</td>\n",
       "    </tr>\n",
       "    <tr>\n",
       "      <th>12</th>\n",
       "      <td>Apple iPad Cases, Covers and Keyboard Folios</td>\n",
       "      <td>176973</td>\n",
       "      <td>bn_738573</td>\n",
       "      <td>https://web.archive.org/web/20220916075337/https://www.ebay.com/b/Apple-iPad-Cases-Covers-and-Keyboard-Folios/176973/bn_738573</td>\n",
       "    </tr>\n",
       "    <tr>\n",
       "      <th>13</th>\n",
       "      <td>Apple Vintage Computers and Mainframes</td>\n",
       "      <td>162075</td>\n",
       "      <td>bn_1857705</td>\n",
       "      <td>https://web.archive.org/web/20220916075337/https://www.ebay.com/b/Apple-Vintage-Computers-and-Mainframes/162075/bn_1857705</td>\n",
       "    </tr>\n",
       "    <tr>\n",
       "      <th>14</th>\n",
       "      <td>Apple 8GB Apple Desktops &amp; All-In-One Computers</td>\n",
       "      <td>111418</td>\n",
       "      <td>bn_7111920455</td>\n",
       "      <td>https://web.archive.org/web/20220916075337/https://www.ebay.com/b/Apple-8GB-Apple-Desktops-All-In-One-Computers/111418/bn_7111920455</td>\n",
       "    </tr>\n",
       "    <tr>\n",
       "      <th>15</th>\n",
       "      <td>Apple Vintage Computer Parts and Accessories</td>\n",
       "      <td>175690</td>\n",
       "      <td>bn_1858948</td>\n",
       "      <td>https://web.archive.org/web/20220916075337/https://www.ebay.com/b/Apple-Vintage-Computer-Parts-and-Accessories/175690/bn_1858948</td>\n",
       "    </tr>\n",
       "    <tr>\n",
       "      <th>16</th>\n",
       "      <td>Apple Laptop Cases &amp; Bags</td>\n",
       "      <td>31519</td>\n",
       "      <td>bn_7114641287</td>\n",
       "      <td>https://web.archive.org/web/20220916075337/https://www.ebay.com/b/Apple-Laptop-Cases-Bags/31519/bn_7114641287</td>\n",
       "    </tr>\n",
       "    <tr>\n",
       "      <th>17</th>\n",
       "      <td>Apple Laptop Replacement Parts</td>\n",
       "      <td>182089</td>\n",
       "      <td>bn_2786312</td>\n",
       "      <td>https://web.archive.org/web/20220916075337/https://www.ebay.com/b/Apple-Laptop-Replacement-Parts/182089/bn_2786312</td>\n",
       "    </tr>\n",
       "    <tr>\n",
       "      <th>19</th>\n",
       "      <td>Apple Wristwatch Bands</td>\n",
       "      <td>98624</td>\n",
       "      <td>bn_2175748</td>\n",
       "      <td>https://web.archive.org/web/20220916075337/https://www.ebay.com/b/Apple-Wristwatch-Bands/98624/bn_2175748</td>\n",
       "    </tr>\n",
       "    <tr>\n",
       "      <th>20</th>\n",
       "      <td>Apple Consumer Electronics</td>\n",
       "      <td>293</td>\n",
       "      <td>bn_88413762</td>\n",
       "      <td>https://web.archive.org/web/20220916075337/https://www.ebay.com/b/Apple-Consumer-Electronics/293/bn_88413762</td>\n",
       "    </tr>\n",
       "    <tr>\n",
       "      <th>21</th>\n",
       "      <td>Apple iPod</td>\n",
       "      <td>73839</td>\n",
       "      <td>bn_880344</td>\n",
       "      <td>https://web.archive.org/web/20220916075337/https://www.ebay.com/b/Apple-iPod/73839/bn_880344</td>\n",
       "    </tr>\n",
       "    <tr>\n",
       "      <th>22</th>\n",
       "      <td>Apple Audio Player Cases, Covers &amp; Skins</td>\n",
       "      <td>56170</td>\n",
       "      <td>bn_7112315719</td>\n",
       "      <td>https://web.archive.org/web/20220916075337/https://www.ebay.com/b/Apple-Audio-Player-Cases-Covers-Skins/56170/bn_7112315719</td>\n",
       "    </tr>\n",
       "  </tbody>\n",
       "</table></div>"
      ],
      "text/plain": [
       "                                           Category Category_id  \\\n",
       "1                   Apple Cell Phones & Smartphones        9355   \n",
       "2                 Apple Cell Phone Cases and Covers       20349   \n",
       "3                                     Apple Watches      178893   \n",
       "4                         Apple Cell Phone Headsets       80077   \n",
       "5                Apple Other Cell Phone Accessories       42425   \n",
       "6                            Apple Cell Phone Parts       43304   \n",
       "7                      Apple Cell Phone Accessories        9394   \n",
       "8                Apple Cell Phone Screen Protectors       58540   \n",
       "9       Apple Computers, Tablets & Network Hardware       58058   \n",
       "10                              Apple Apple Laptops      111422   \n",
       "11                         Apple Tablets & eReaders      171485   \n",
       "12     Apple iPad Cases, Covers and Keyboard Folios      176973   \n",
       "13           Apple Vintage Computers and Mainframes      162075   \n",
       "14  Apple 8GB Apple Desktops & All-In-One Computers      111418   \n",
       "15     Apple Vintage Computer Parts and Accessories      175690   \n",
       "16                        Apple Laptop Cases & Bags       31519   \n",
       "17                   Apple Laptop Replacement Parts      182089   \n",
       "19                           Apple Wristwatch Bands       98624   \n",
       "20                       Apple Consumer Electronics         293   \n",
       "21                                       Apple iPod       73839   \n",
       "22         Apple Audio Player Cases, Covers & Skins       56170   \n",
       "\n",
       "            bn_id                                               Link  \n",
       "1       bn_319682  https://web.archive.org/web/20220916075337/htt...  \n",
       "2       bn_319677  https://web.archive.org/web/20220916075337/htt...  \n",
       "3       bn_152159  https://web.archive.org/web/20220916075337/htt...  \n",
       "4       bn_320622  https://web.archive.org/web/20220916075337/htt...  \n",
       "5     bn_77672418  https://web.archive.org/web/20220916075337/htt...  \n",
       "6       bn_152160  https://web.archive.org/web/20220916075337/htt...  \n",
       "7       bn_319683  https://web.archive.org/web/20220916075337/htt...  \n",
       "8       bn_592916  https://web.archive.org/web/20220916075337/htt...  \n",
       "9     bn_87878995  https://web.archive.org/web/20220916075337/htt...  \n",
       "10  bn_7117377231  https://web.archive.org/web/20220916075337/htt...  \n",
       "11      bn_319675  https://web.archive.org/web/20220916075337/htt...  \n",
       "12      bn_738573  https://web.archive.org/web/20220916075337/htt...  \n",
       "13     bn_1857705  https://web.archive.org/web/20220916075337/htt...  \n",
       "14  bn_7111920455  https://web.archive.org/web/20220916075337/htt...  \n",
       "15     bn_1858948  https://web.archive.org/web/20220916075337/htt...  \n",
       "16  bn_7114641287  https://web.archive.org/web/20220916075337/htt...  \n",
       "17     bn_2786312  https://web.archive.org/web/20220916075337/htt...  \n",
       "19     bn_2175748  https://web.archive.org/web/20220916075337/htt...  \n",
       "20    bn_88413762  https://web.archive.org/web/20220916075337/htt...  \n",
       "21      bn_880344  https://web.archive.org/web/20220916075337/htt...  \n",
       "22  bn_7112315719  https://web.archive.org/web/20220916075337/htt...  "
      ]
     },
     "execution_count": 208,
     "metadata": {},
     "output_type": "execute_result"
    }
   ],
   "source": [
    "df_AAPL_ = df_AAPL.copy()\n",
    "df_AAPL_ = df_AAPL_.drop_duplicates()\n",
    "df_AAPL_"
   ]
  },
  {
   "cell_type": "code",
   "execution_count": null,
   "id": "021a2bb4",
   "metadata": {},
   "outputs": [],
   "source": []
  },
  {
   "cell_type": "code",
   "execution_count": 209,
   "id": "c5af93ee",
   "metadata": {},
   "outputs": [
    {
     "data": {
      "text/plain": [
       "'https://web.archive.org/web/20220916061759/https://www.ebay.com/b/Apple-Cell-Phones-Smartphones/9355/bn_319682?rt=nc&LH_BIN=1'"
      ]
     },
     "execution_count": 209,
     "metadata": {},
     "output_type": "execute_result"
    }
   ],
   "source": [
    "iphone = 'https://web.archive.org/web/20220916061759/https://www.ebay.com/b/Apple-Cell-Phones-Smartphones/9355/bn_319682'\n",
    "buy_it_now = iphone+'?rt=nc&LH_BIN=1'\n",
    "buy_it_now"
   ]
  },
  {
   "cell_type": "code",
   "execution_count": 210,
   "id": "371ea7f3",
   "metadata": {},
   "outputs": [],
   "source": [
    "category = []\n",
    "category_id = []\n",
    "bn_id = []\n",
    "\n",
    "\n",
    "def get_count(category, category_id, bn_id):\n",
    "    url = f'https://web.archive.org/web/20220916061759/https://www.ebay.com/b/{category}/{category_id}/{bn_id}'\n",
    "    buy_it_now = '?rt=nc&LH_BIN=1'\n",
    "    url_sold = url+buy_it_now \n",
    "    page = requests.get(url_sold)\n",
    "    soup = bs(page.content, \"lxml\")\n",
    "    count= soup.find_all('h2', class_=\"srp-controls__count-heading\")[0].get_text()\n",
    "    count_ = count.replace(\" Results\",\"\")\n",
    "    print(count_)\n",
    "\n",
    "    "
   ]
  },
  {
   "cell_type": "code",
   "execution_count": 211,
   "id": "f77a3348",
   "metadata": {},
   "outputs": [
    {
     "name": "stdout",
     "output_type": "stream",
     "text": [
      "10,449\n"
     ]
    }
   ],
   "source": [
    "get_count('Apple Watches','178893','bn_152159')"
   ]
  },
  {
   "cell_type": "code",
   "execution_count": 222,
   "id": "78757a95",
   "metadata": {},
   "outputs": [],
   "source": [
    "def get_count2(category):\n",
    "    #category_id = df(df_AAPL_.loc[df_AAPL_['Category']==category]['Category_id'])\n",
    "    category_id = df_AAPL_.loc[df_AAPL_.Category == category, 'Category_id'].iloc[0] \n",
    "    bn_id = df_AAPL_.loc[df_AAPL_.Category == category, 'bn_id'].iloc[0]\n",
    "    url = f'https://web.archive.org/web/20220916061759/https://www.ebay.com/b/{category}/{category_id}/{bn_id}'\n",
    "    buy_it_now = '?rt=nc&LH_BIN=1'\n",
    "    url_sold = url+buy_it_now \n",
    "    page = requests.get(url_sold)\n",
    "    soup = bs(page.content, \"lxml\")\n",
    "    count= soup.find_all('h2', class_=\"srp-controls__count-heading\")[0].get_text()\n",
    "    count_ = count.replace(\" Results\",\"\")\n",
    "    return count_\n",
    "\n",
    "    "
   ]
  },
  {
   "cell_type": "code",
   "execution_count": 223,
   "id": "cba1cd63",
   "metadata": {},
   "outputs": [
    {
     "data": {
      "text/plain": [
       "'10,449'"
      ]
     },
     "execution_count": 223,
     "metadata": {},
     "output_type": "execute_result"
    }
   ],
   "source": [
    "get_count2('Apple Watches')"
   ]
  },
  {
   "cell_type": "code",
   "execution_count": 224,
   "id": "7f41b5d6",
   "metadata": {},
   "outputs": [],
   "source": [
    "df_AAPL_['Count'] = [get_count2(i) for i in df_AAPL_['Category']]"
   ]
  },
  {
   "cell_type": "code",
   "execution_count": 226,
   "id": "652a4173",
   "metadata": {},
   "outputs": [
    {
     "data": {
      "text/html": [
       "<div><div id=458de060-8a38-4367-a74a-5a3f3fc35d73 style=\"display:none; background-color:#9D6CFF; color:white; width:200px; height:30px; padding-left:5px; border-radius:4px; flex-direction:row; justify-content:space-around; align-items:center;\" onmouseover=\"this.style.backgroundColor='#BA9BF8'\" onmouseout=\"this.style.backgroundColor='#9D6CFF'\" onclick=\"window.commands?.execute('create-mitosheet-from-dataframe-output');\">See Full Dataframe in Mito</div> <script> if (window.commands.hasCommand('create-mitosheet-from-dataframe-output')) document.getElementById('458de060-8a38-4367-a74a-5a3f3fc35d73').style.display = 'flex' </script> <table border=\"1\" class=\"dataframe\">\n",
       "  <thead>\n",
       "    <tr style=\"text-align: right;\">\n",
       "      <th></th>\n",
       "      <th>Category</th>\n",
       "      <th>Category_id</th>\n",
       "      <th>bn_id</th>\n",
       "      <th>Link</th>\n",
       "      <th>Count</th>\n",
       "    </tr>\n",
       "  </thead>\n",
       "  <tbody>\n",
       "    <tr>\n",
       "      <th>1</th>\n",
       "      <td>Apple Cell Phones &amp; Smartphones</td>\n",
       "      <td>9355</td>\n",
       "      <td>bn_319682</td>\n",
       "      <td>https://web.archive.org/web/20220916075337/https://www.ebay.com/b/Apple-Cell-Phones-Smartphones/9355/bn_319682</td>\n",
       "      <td>73,931</td>\n",
       "    </tr>\n",
       "    <tr>\n",
       "      <th>2</th>\n",
       "      <td>Apple Cell Phone Cases and Covers</td>\n",
       "      <td>20349</td>\n",
       "      <td>bn_319677</td>\n",
       "      <td>https://web.archive.org/web/20220916075337/https://www.ebay.com/b/Apple-Cell-Phone-Cases-and-Covers/20349/bn_319677</td>\n",
       "      <td>70,734</td>\n",
       "    </tr>\n",
       "    <tr>\n",
       "      <th>3</th>\n",
       "      <td>Apple Watches</td>\n",
       "      <td>178893</td>\n",
       "      <td>bn_152159</td>\n",
       "      <td>https://web.archive.org/web/20220916075337/https://www.ebay.com/b/Apple-Watches/178893/bn_152159</td>\n",
       "      <td>10,449</td>\n",
       "    </tr>\n",
       "    <tr>\n",
       "      <th>4</th>\n",
       "      <td>Apple Cell Phone Headsets</td>\n",
       "      <td>80077</td>\n",
       "      <td>bn_320622</td>\n",
       "      <td>https://web.archive.org/web/20220916075337/https://www.ebay.com/b/Apple-Cell-Phone-Headsets/80077/bn_320622</td>\n",
       "      <td>8,350</td>\n",
       "    </tr>\n",
       "    <tr>\n",
       "      <th>5</th>\n",
       "      <td>Apple Other Cell Phone Accessories</td>\n",
       "      <td>42425</td>\n",
       "      <td>bn_77672418</td>\n",
       "      <td>https://web.archive.org/web/20220916075337/https://www.ebay.com/b/Apple-Other-Cell-Phone-Accessories/42425/bn_77672418</td>\n",
       "      <td>10,695</td>\n",
       "    </tr>\n",
       "  </tbody>\n",
       "</table></div>"
      ],
      "text/plain": [
       "                             Category Category_id        bn_id  \\\n",
       "1     Apple Cell Phones & Smartphones        9355    bn_319682   \n",
       "2   Apple Cell Phone Cases and Covers       20349    bn_319677   \n",
       "3                       Apple Watches      178893    bn_152159   \n",
       "4           Apple Cell Phone Headsets       80077    bn_320622   \n",
       "5  Apple Other Cell Phone Accessories       42425  bn_77672418   \n",
       "\n",
       "                                                Link   Count  \n",
       "1  https://web.archive.org/web/20220916075337/htt...  73,931  \n",
       "2  https://web.archive.org/web/20220916075337/htt...  70,734  \n",
       "3  https://web.archive.org/web/20220916075337/htt...  10,449  \n",
       "4  https://web.archive.org/web/20220916075337/htt...   8,350  \n",
       "5  https://web.archive.org/web/20220916075337/htt...  10,695  "
      ]
     },
     "execution_count": 226,
     "metadata": {},
     "output_type": "execute_result"
    }
   ],
   "source": [
    "df_AAPL_.head()"
   ]
  },
  {
   "cell_type": "code",
   "execution_count": 288,
   "id": "8826d871",
   "metadata": {},
   "outputs": [],
   "source": [
    "product_title = []\n",
    "prices = []\n",
    "\n",
    "\n",
    "def get_prices(category):\n",
    "    category_id = df_AAPL_.loc[df_AAPL_.Category == category, 'Category_id'].iloc[0] \n",
    "    bn_id = df_AAPL_.loc[df_AAPL_.Category == category, 'bn_id'].iloc[0]\n",
    "    url = f'https://web.archive.org/web/20220916061759/https://www.ebay.com/b/{category}/{category_id}/{bn_id}'\n",
    "    buy_it_now = '?rt=nc&LH_BIN=1'\n",
    "    url_sold = url+buy_it_now \n",
    "    page = requests.get(url_sold)\n",
    "    soup = bs(page.content, \"lxml\")\n",
    "    items = soup.find_all('li', class_='s-item s-item--large')\n",
    "    #print(items)\n",
    "    for item in items:\n",
    "        title_all = soup.find_all('h3', class_='s-item__title')\n",
    "        for title in title_all:\n",
    "            product_title.append(title.text)\n",
    "        price_all = soup.find_all('span', class_=\"s-item__price\")\n",
    "        for price in price_all:\n",
    "            prices.append(price.text)\n",
    "    #return product_title, prices"
   ]
  },
  {
   "cell_type": "code",
   "execution_count": 289,
   "id": "bb1bd3f7",
   "metadata": {},
   "outputs": [
    {
     "ename": "ConnectionError",
     "evalue": "HTTPSConnectionPool(host='web.archive.org', port=443): Max retries exceeded with url: /web/20220916061759/https://www.ebay.com/b/Apple%20Cell%20Phone%20Headsets/80077/bn_320622?rt=nc&LH_BIN=1 (Caused by NewConnectionError('<urllib3.connection.HTTPSConnection object at 0x7fb3452aa640>: Failed to establish a new connection: [Errno 61] Connection refused'))",
     "output_type": "error",
     "traceback": [
      "\u001b[0;31m---------------------------------------------------------------------------\u001b[0m",
      "\u001b[0;31mConnectionRefusedError\u001b[0m                    Traceback (most recent call last)",
      "File \u001b[0;32m~/opt/anaconda3/lib/python3.8/site-packages/urllib3/connection.py:174\u001b[0m, in \u001b[0;36mHTTPConnection._new_conn\u001b[0;34m(self)\u001b[0m\n\u001b[1;32m    173\u001b[0m \u001b[38;5;28;01mtry\u001b[39;00m:\n\u001b[0;32m--> 174\u001b[0m     conn \u001b[38;5;241m=\u001b[39m \u001b[43mconnection\u001b[49m\u001b[38;5;241;43m.\u001b[39;49m\u001b[43mcreate_connection\u001b[49m\u001b[43m(\u001b[49m\n\u001b[1;32m    175\u001b[0m \u001b[43m        \u001b[49m\u001b[43m(\u001b[49m\u001b[38;5;28;43mself\u001b[39;49m\u001b[38;5;241;43m.\u001b[39;49m\u001b[43m_dns_host\u001b[49m\u001b[43m,\u001b[49m\u001b[43m \u001b[49m\u001b[38;5;28;43mself\u001b[39;49m\u001b[38;5;241;43m.\u001b[39;49m\u001b[43mport\u001b[49m\u001b[43m)\u001b[49m\u001b[43m,\u001b[49m\u001b[43m \u001b[49m\u001b[38;5;28;43mself\u001b[39;49m\u001b[38;5;241;43m.\u001b[39;49m\u001b[43mtimeout\u001b[49m\u001b[43m,\u001b[49m\u001b[43m \u001b[49m\u001b[38;5;241;43m*\u001b[39;49m\u001b[38;5;241;43m*\u001b[39;49m\u001b[43mextra_kw\u001b[49m\n\u001b[1;32m    176\u001b[0m \u001b[43m    \u001b[49m\u001b[43m)\u001b[49m\n\u001b[1;32m    178\u001b[0m \u001b[38;5;28;01mexcept\u001b[39;00m SocketTimeout:\n",
      "File \u001b[0;32m~/opt/anaconda3/lib/python3.8/site-packages/urllib3/util/connection.py:95\u001b[0m, in \u001b[0;36mcreate_connection\u001b[0;34m(address, timeout, source_address, socket_options)\u001b[0m\n\u001b[1;32m     94\u001b[0m \u001b[38;5;28;01mif\u001b[39;00m err \u001b[38;5;129;01mis\u001b[39;00m \u001b[38;5;129;01mnot\u001b[39;00m \u001b[38;5;28;01mNone\u001b[39;00m:\n\u001b[0;32m---> 95\u001b[0m     \u001b[38;5;28;01mraise\u001b[39;00m err\n\u001b[1;32m     97\u001b[0m \u001b[38;5;28;01mraise\u001b[39;00m socket\u001b[38;5;241m.\u001b[39merror(\u001b[38;5;124m\"\u001b[39m\u001b[38;5;124mgetaddrinfo returns an empty list\u001b[39m\u001b[38;5;124m\"\u001b[39m)\n",
      "File \u001b[0;32m~/opt/anaconda3/lib/python3.8/site-packages/urllib3/util/connection.py:85\u001b[0m, in \u001b[0;36mcreate_connection\u001b[0;34m(address, timeout, source_address, socket_options)\u001b[0m\n\u001b[1;32m     84\u001b[0m     sock\u001b[38;5;241m.\u001b[39mbind(source_address)\n\u001b[0;32m---> 85\u001b[0m \u001b[43msock\u001b[49m\u001b[38;5;241;43m.\u001b[39;49m\u001b[43mconnect\u001b[49m\u001b[43m(\u001b[49m\u001b[43msa\u001b[49m\u001b[43m)\u001b[49m\n\u001b[1;32m     86\u001b[0m \u001b[38;5;28;01mreturn\u001b[39;00m sock\n",
      "\u001b[0;31mConnectionRefusedError\u001b[0m: [Errno 61] Connection refused",
      "\nDuring handling of the above exception, another exception occurred:\n",
      "\u001b[0;31mNewConnectionError\u001b[0m                        Traceback (most recent call last)",
      "File \u001b[0;32m~/opt/anaconda3/lib/python3.8/site-packages/urllib3/connectionpool.py:703\u001b[0m, in \u001b[0;36mHTTPConnectionPool.urlopen\u001b[0;34m(self, method, url, body, headers, retries, redirect, assert_same_host, timeout, pool_timeout, release_conn, chunked, body_pos, **response_kw)\u001b[0m\n\u001b[1;32m    702\u001b[0m \u001b[38;5;66;03m# Make the request on the httplib connection object.\u001b[39;00m\n\u001b[0;32m--> 703\u001b[0m httplib_response \u001b[38;5;241m=\u001b[39m \u001b[38;5;28;43mself\u001b[39;49m\u001b[38;5;241;43m.\u001b[39;49m\u001b[43m_make_request\u001b[49m\u001b[43m(\u001b[49m\n\u001b[1;32m    704\u001b[0m \u001b[43m    \u001b[49m\u001b[43mconn\u001b[49m\u001b[43m,\u001b[49m\n\u001b[1;32m    705\u001b[0m \u001b[43m    \u001b[49m\u001b[43mmethod\u001b[49m\u001b[43m,\u001b[49m\n\u001b[1;32m    706\u001b[0m \u001b[43m    \u001b[49m\u001b[43murl\u001b[49m\u001b[43m,\u001b[49m\n\u001b[1;32m    707\u001b[0m \u001b[43m    \u001b[49m\u001b[43mtimeout\u001b[49m\u001b[38;5;241;43m=\u001b[39;49m\u001b[43mtimeout_obj\u001b[49m\u001b[43m,\u001b[49m\n\u001b[1;32m    708\u001b[0m \u001b[43m    \u001b[49m\u001b[43mbody\u001b[49m\u001b[38;5;241;43m=\u001b[39;49m\u001b[43mbody\u001b[49m\u001b[43m,\u001b[49m\n\u001b[1;32m    709\u001b[0m \u001b[43m    \u001b[49m\u001b[43mheaders\u001b[49m\u001b[38;5;241;43m=\u001b[39;49m\u001b[43mheaders\u001b[49m\u001b[43m,\u001b[49m\n\u001b[1;32m    710\u001b[0m \u001b[43m    \u001b[49m\u001b[43mchunked\u001b[49m\u001b[38;5;241;43m=\u001b[39;49m\u001b[43mchunked\u001b[49m\u001b[43m,\u001b[49m\n\u001b[1;32m    711\u001b[0m \u001b[43m\u001b[49m\u001b[43m)\u001b[49m\n\u001b[1;32m    713\u001b[0m \u001b[38;5;66;03m# If we're going to release the connection in ``finally:``, then\u001b[39;00m\n\u001b[1;32m    714\u001b[0m \u001b[38;5;66;03m# the response doesn't need to know about the connection. Otherwise\u001b[39;00m\n\u001b[1;32m    715\u001b[0m \u001b[38;5;66;03m# it will also try to release it and we'll have a double-release\u001b[39;00m\n\u001b[1;32m    716\u001b[0m \u001b[38;5;66;03m# mess.\u001b[39;00m\n",
      "File \u001b[0;32m~/opt/anaconda3/lib/python3.8/site-packages/urllib3/connectionpool.py:386\u001b[0m, in \u001b[0;36mHTTPConnectionPool._make_request\u001b[0;34m(self, conn, method, url, timeout, chunked, **httplib_request_kw)\u001b[0m\n\u001b[1;32m    385\u001b[0m \u001b[38;5;28;01mtry\u001b[39;00m:\n\u001b[0;32m--> 386\u001b[0m     \u001b[38;5;28;43mself\u001b[39;49m\u001b[38;5;241;43m.\u001b[39;49m\u001b[43m_validate_conn\u001b[49m\u001b[43m(\u001b[49m\u001b[43mconn\u001b[49m\u001b[43m)\u001b[49m\n\u001b[1;32m    387\u001b[0m \u001b[38;5;28;01mexcept\u001b[39;00m (SocketTimeout, BaseSSLError) \u001b[38;5;28;01mas\u001b[39;00m e:\n\u001b[1;32m    388\u001b[0m     \u001b[38;5;66;03m# Py2 raises this as a BaseSSLError, Py3 raises it as socket timeout.\u001b[39;00m\n",
      "File \u001b[0;32m~/opt/anaconda3/lib/python3.8/site-packages/urllib3/connectionpool.py:1040\u001b[0m, in \u001b[0;36mHTTPSConnectionPool._validate_conn\u001b[0;34m(self, conn)\u001b[0m\n\u001b[1;32m   1039\u001b[0m \u001b[38;5;28;01mif\u001b[39;00m \u001b[38;5;129;01mnot\u001b[39;00m \u001b[38;5;28mgetattr\u001b[39m(conn, \u001b[38;5;124m\"\u001b[39m\u001b[38;5;124msock\u001b[39m\u001b[38;5;124m\"\u001b[39m, \u001b[38;5;28;01mNone\u001b[39;00m):  \u001b[38;5;66;03m# AppEngine might not have  `.sock`\u001b[39;00m\n\u001b[0;32m-> 1040\u001b[0m     \u001b[43mconn\u001b[49m\u001b[38;5;241;43m.\u001b[39;49m\u001b[43mconnect\u001b[49m\u001b[43m(\u001b[49m\u001b[43m)\u001b[49m\n\u001b[1;32m   1042\u001b[0m \u001b[38;5;28;01mif\u001b[39;00m \u001b[38;5;129;01mnot\u001b[39;00m conn\u001b[38;5;241m.\u001b[39mis_verified:\n",
      "File \u001b[0;32m~/opt/anaconda3/lib/python3.8/site-packages/urllib3/connection.py:358\u001b[0m, in \u001b[0;36mHTTPSConnection.connect\u001b[0;34m(self)\u001b[0m\n\u001b[1;32m    356\u001b[0m \u001b[38;5;28;01mdef\u001b[39;00m \u001b[38;5;21mconnect\u001b[39m(\u001b[38;5;28mself\u001b[39m):\n\u001b[1;32m    357\u001b[0m     \u001b[38;5;66;03m# Add certificate verification\u001b[39;00m\n\u001b[0;32m--> 358\u001b[0m     \u001b[38;5;28mself\u001b[39m\u001b[38;5;241m.\u001b[39msock \u001b[38;5;241m=\u001b[39m conn \u001b[38;5;241m=\u001b[39m \u001b[38;5;28;43mself\u001b[39;49m\u001b[38;5;241;43m.\u001b[39;49m\u001b[43m_new_conn\u001b[49m\u001b[43m(\u001b[49m\u001b[43m)\u001b[49m\n\u001b[1;32m    359\u001b[0m     hostname \u001b[38;5;241m=\u001b[39m \u001b[38;5;28mself\u001b[39m\u001b[38;5;241m.\u001b[39mhost\n",
      "File \u001b[0;32m~/opt/anaconda3/lib/python3.8/site-packages/urllib3/connection.py:186\u001b[0m, in \u001b[0;36mHTTPConnection._new_conn\u001b[0;34m(self)\u001b[0m\n\u001b[1;32m    185\u001b[0m \u001b[38;5;28;01mexcept\u001b[39;00m SocketError \u001b[38;5;28;01mas\u001b[39;00m e:\n\u001b[0;32m--> 186\u001b[0m     \u001b[38;5;28;01mraise\u001b[39;00m NewConnectionError(\n\u001b[1;32m    187\u001b[0m         \u001b[38;5;28mself\u001b[39m, \u001b[38;5;124m\"\u001b[39m\u001b[38;5;124mFailed to establish a new connection: \u001b[39m\u001b[38;5;132;01m%s\u001b[39;00m\u001b[38;5;124m\"\u001b[39m \u001b[38;5;241m%\u001b[39m e\n\u001b[1;32m    188\u001b[0m     )\n\u001b[1;32m    190\u001b[0m \u001b[38;5;28;01mreturn\u001b[39;00m conn\n",
      "\u001b[0;31mNewConnectionError\u001b[0m: <urllib3.connection.HTTPSConnection object at 0x7fb3452aa640>: Failed to establish a new connection: [Errno 61] Connection refused",
      "\nDuring handling of the above exception, another exception occurred:\n",
      "\u001b[0;31mMaxRetryError\u001b[0m                             Traceback (most recent call last)",
      "File \u001b[0;32m~/opt/anaconda3/lib/python3.8/site-packages/requests/adapters.py:440\u001b[0m, in \u001b[0;36mHTTPAdapter.send\u001b[0;34m(self, request, stream, timeout, verify, cert, proxies)\u001b[0m\n\u001b[1;32m    439\u001b[0m \u001b[38;5;28;01mif\u001b[39;00m \u001b[38;5;129;01mnot\u001b[39;00m chunked:\n\u001b[0;32m--> 440\u001b[0m     resp \u001b[38;5;241m=\u001b[39m \u001b[43mconn\u001b[49m\u001b[38;5;241;43m.\u001b[39;49m\u001b[43murlopen\u001b[49m\u001b[43m(\u001b[49m\n\u001b[1;32m    441\u001b[0m \u001b[43m        \u001b[49m\u001b[43mmethod\u001b[49m\u001b[38;5;241;43m=\u001b[39;49m\u001b[43mrequest\u001b[49m\u001b[38;5;241;43m.\u001b[39;49m\u001b[43mmethod\u001b[49m\u001b[43m,\u001b[49m\n\u001b[1;32m    442\u001b[0m \u001b[43m        \u001b[49m\u001b[43murl\u001b[49m\u001b[38;5;241;43m=\u001b[39;49m\u001b[43murl\u001b[49m\u001b[43m,\u001b[49m\n\u001b[1;32m    443\u001b[0m \u001b[43m        \u001b[49m\u001b[43mbody\u001b[49m\u001b[38;5;241;43m=\u001b[39;49m\u001b[43mrequest\u001b[49m\u001b[38;5;241;43m.\u001b[39;49m\u001b[43mbody\u001b[49m\u001b[43m,\u001b[49m\n\u001b[1;32m    444\u001b[0m \u001b[43m        \u001b[49m\u001b[43mheaders\u001b[49m\u001b[38;5;241;43m=\u001b[39;49m\u001b[43mrequest\u001b[49m\u001b[38;5;241;43m.\u001b[39;49m\u001b[43mheaders\u001b[49m\u001b[43m,\u001b[49m\n\u001b[1;32m    445\u001b[0m \u001b[43m        \u001b[49m\u001b[43mredirect\u001b[49m\u001b[38;5;241;43m=\u001b[39;49m\u001b[38;5;28;43;01mFalse\u001b[39;49;00m\u001b[43m,\u001b[49m\n\u001b[1;32m    446\u001b[0m \u001b[43m        \u001b[49m\u001b[43massert_same_host\u001b[49m\u001b[38;5;241;43m=\u001b[39;49m\u001b[38;5;28;43;01mFalse\u001b[39;49;00m\u001b[43m,\u001b[49m\n\u001b[1;32m    447\u001b[0m \u001b[43m        \u001b[49m\u001b[43mpreload_content\u001b[49m\u001b[38;5;241;43m=\u001b[39;49m\u001b[38;5;28;43;01mFalse\u001b[39;49;00m\u001b[43m,\u001b[49m\n\u001b[1;32m    448\u001b[0m \u001b[43m        \u001b[49m\u001b[43mdecode_content\u001b[49m\u001b[38;5;241;43m=\u001b[39;49m\u001b[38;5;28;43;01mFalse\u001b[39;49;00m\u001b[43m,\u001b[49m\n\u001b[1;32m    449\u001b[0m \u001b[43m        \u001b[49m\u001b[43mretries\u001b[49m\u001b[38;5;241;43m=\u001b[39;49m\u001b[38;5;28;43mself\u001b[39;49m\u001b[38;5;241;43m.\u001b[39;49m\u001b[43mmax_retries\u001b[49m\u001b[43m,\u001b[49m\n\u001b[1;32m    450\u001b[0m \u001b[43m        \u001b[49m\u001b[43mtimeout\u001b[49m\u001b[38;5;241;43m=\u001b[39;49m\u001b[43mtimeout\u001b[49m\n\u001b[1;32m    451\u001b[0m \u001b[43m    \u001b[49m\u001b[43m)\u001b[49m\n\u001b[1;32m    453\u001b[0m \u001b[38;5;66;03m# Send the request.\u001b[39;00m\n\u001b[1;32m    454\u001b[0m \u001b[38;5;28;01melse\u001b[39;00m:\n",
      "File \u001b[0;32m~/opt/anaconda3/lib/python3.8/site-packages/urllib3/connectionpool.py:785\u001b[0m, in \u001b[0;36mHTTPConnectionPool.urlopen\u001b[0;34m(self, method, url, body, headers, retries, redirect, assert_same_host, timeout, pool_timeout, release_conn, chunked, body_pos, **response_kw)\u001b[0m\n\u001b[1;32m    783\u001b[0m     e \u001b[38;5;241m=\u001b[39m ProtocolError(\u001b[38;5;124m\"\u001b[39m\u001b[38;5;124mConnection aborted.\u001b[39m\u001b[38;5;124m\"\u001b[39m, e)\n\u001b[0;32m--> 785\u001b[0m retries \u001b[38;5;241m=\u001b[39m \u001b[43mretries\u001b[49m\u001b[38;5;241;43m.\u001b[39;49m\u001b[43mincrement\u001b[49m\u001b[43m(\u001b[49m\n\u001b[1;32m    786\u001b[0m \u001b[43m    \u001b[49m\u001b[43mmethod\u001b[49m\u001b[43m,\u001b[49m\u001b[43m \u001b[49m\u001b[43murl\u001b[49m\u001b[43m,\u001b[49m\u001b[43m \u001b[49m\u001b[43merror\u001b[49m\u001b[38;5;241;43m=\u001b[39;49m\u001b[43me\u001b[49m\u001b[43m,\u001b[49m\u001b[43m \u001b[49m\u001b[43m_pool\u001b[49m\u001b[38;5;241;43m=\u001b[39;49m\u001b[38;5;28;43mself\u001b[39;49m\u001b[43m,\u001b[49m\u001b[43m \u001b[49m\u001b[43m_stacktrace\u001b[49m\u001b[38;5;241;43m=\u001b[39;49m\u001b[43msys\u001b[49m\u001b[38;5;241;43m.\u001b[39;49m\u001b[43mexc_info\u001b[49m\u001b[43m(\u001b[49m\u001b[43m)\u001b[49m\u001b[43m[\u001b[49m\u001b[38;5;241;43m2\u001b[39;49m\u001b[43m]\u001b[49m\n\u001b[1;32m    787\u001b[0m \u001b[43m\u001b[49m\u001b[43m)\u001b[49m\n\u001b[1;32m    788\u001b[0m retries\u001b[38;5;241m.\u001b[39msleep()\n",
      "File \u001b[0;32m~/opt/anaconda3/lib/python3.8/site-packages/urllib3/util/retry.py:592\u001b[0m, in \u001b[0;36mRetry.increment\u001b[0;34m(self, method, url, response, error, _pool, _stacktrace)\u001b[0m\n\u001b[1;32m    591\u001b[0m \u001b[38;5;28;01mif\u001b[39;00m new_retry\u001b[38;5;241m.\u001b[39mis_exhausted():\n\u001b[0;32m--> 592\u001b[0m     \u001b[38;5;28;01mraise\u001b[39;00m MaxRetryError(_pool, url, error \u001b[38;5;129;01mor\u001b[39;00m ResponseError(cause))\n\u001b[1;32m    594\u001b[0m log\u001b[38;5;241m.\u001b[39mdebug(\u001b[38;5;124m\"\u001b[39m\u001b[38;5;124mIncremented Retry for (url=\u001b[39m\u001b[38;5;124m'\u001b[39m\u001b[38;5;132;01m%s\u001b[39;00m\u001b[38;5;124m'\u001b[39m\u001b[38;5;124m): \u001b[39m\u001b[38;5;132;01m%r\u001b[39;00m\u001b[38;5;124m\"\u001b[39m, url, new_retry)\n",
      "\u001b[0;31mMaxRetryError\u001b[0m: HTTPSConnectionPool(host='web.archive.org', port=443): Max retries exceeded with url: /web/20220916061759/https://www.ebay.com/b/Apple%20Cell%20Phone%20Headsets/80077/bn_320622?rt=nc&LH_BIN=1 (Caused by NewConnectionError('<urllib3.connection.HTTPSConnection object at 0x7fb3452aa640>: Failed to establish a new connection: [Errno 61] Connection refused'))",
      "\nDuring handling of the above exception, another exception occurred:\n",
      "\u001b[0;31mConnectionError\u001b[0m                           Traceback (most recent call last)",
      "Input \u001b[0;32mIn [289]\u001b[0m, in \u001b[0;36m<cell line: 1>\u001b[0;34m()\u001b[0m\n\u001b[0;32m----> 1\u001b[0m \u001b[43mget_prices\u001b[49m\u001b[43m(\u001b[49m\u001b[38;5;124;43m'\u001b[39;49m\u001b[38;5;124;43mApple Cell Phone Headsets\u001b[39;49m\u001b[38;5;124;43m'\u001b[39;49m\u001b[43m)\u001b[49m\n",
      "Input \u001b[0;32mIn [288]\u001b[0m, in \u001b[0;36mget_prices\u001b[0;34m(category)\u001b[0m\n\u001b[1;32m      9\u001b[0m buy_it_now \u001b[38;5;241m=\u001b[39m \u001b[38;5;124m'\u001b[39m\u001b[38;5;124m?rt=nc&LH_BIN=1\u001b[39m\u001b[38;5;124m'\u001b[39m\n\u001b[1;32m     10\u001b[0m url_sold \u001b[38;5;241m=\u001b[39m url\u001b[38;5;241m+\u001b[39mbuy_it_now \n\u001b[0;32m---> 11\u001b[0m page \u001b[38;5;241m=\u001b[39m \u001b[43mrequests\u001b[49m\u001b[38;5;241;43m.\u001b[39;49m\u001b[43mget\u001b[49m\u001b[43m(\u001b[49m\u001b[43murl_sold\u001b[49m\u001b[43m)\u001b[49m\n\u001b[1;32m     12\u001b[0m soup \u001b[38;5;241m=\u001b[39m bs(page\u001b[38;5;241m.\u001b[39mcontent, \u001b[38;5;124m\"\u001b[39m\u001b[38;5;124mlxml\u001b[39m\u001b[38;5;124m\"\u001b[39m)\n\u001b[1;32m     13\u001b[0m items \u001b[38;5;241m=\u001b[39m soup\u001b[38;5;241m.\u001b[39mfind_all(\u001b[38;5;124m'\u001b[39m\u001b[38;5;124mli\u001b[39m\u001b[38;5;124m'\u001b[39m, class_\u001b[38;5;241m=\u001b[39m\u001b[38;5;124m'\u001b[39m\u001b[38;5;124ms-item s-item--large\u001b[39m\u001b[38;5;124m'\u001b[39m)\n",
      "File \u001b[0;32m~/opt/anaconda3/lib/python3.8/site-packages/requests/api.py:75\u001b[0m, in \u001b[0;36mget\u001b[0;34m(url, params, **kwargs)\u001b[0m\n\u001b[1;32m     64\u001b[0m \u001b[38;5;28;01mdef\u001b[39;00m \u001b[38;5;21mget\u001b[39m(url, params\u001b[38;5;241m=\u001b[39m\u001b[38;5;28;01mNone\u001b[39;00m, \u001b[38;5;241m*\u001b[39m\u001b[38;5;241m*\u001b[39mkwargs):\n\u001b[1;32m     65\u001b[0m     \u001b[38;5;124mr\u001b[39m\u001b[38;5;124;03m\"\"\"Sends a GET request.\u001b[39;00m\n\u001b[1;32m     66\u001b[0m \n\u001b[1;32m     67\u001b[0m \u001b[38;5;124;03m    :param url: URL for the new :class:`Request` object.\u001b[39;00m\n\u001b[0;32m   (...)\u001b[0m\n\u001b[1;32m     72\u001b[0m \u001b[38;5;124;03m    :rtype: requests.Response\u001b[39;00m\n\u001b[1;32m     73\u001b[0m \u001b[38;5;124;03m    \"\"\"\u001b[39;00m\n\u001b[0;32m---> 75\u001b[0m     \u001b[38;5;28;01mreturn\u001b[39;00m \u001b[43mrequest\u001b[49m\u001b[43m(\u001b[49m\u001b[38;5;124;43m'\u001b[39;49m\u001b[38;5;124;43mget\u001b[39;49m\u001b[38;5;124;43m'\u001b[39;49m\u001b[43m,\u001b[49m\u001b[43m \u001b[49m\u001b[43murl\u001b[49m\u001b[43m,\u001b[49m\u001b[43m \u001b[49m\u001b[43mparams\u001b[49m\u001b[38;5;241;43m=\u001b[39;49m\u001b[43mparams\u001b[49m\u001b[43m,\u001b[49m\u001b[43m \u001b[49m\u001b[38;5;241;43m*\u001b[39;49m\u001b[38;5;241;43m*\u001b[39;49m\u001b[43mkwargs\u001b[49m\u001b[43m)\u001b[49m\n",
      "File \u001b[0;32m~/opt/anaconda3/lib/python3.8/site-packages/requests/api.py:61\u001b[0m, in \u001b[0;36mrequest\u001b[0;34m(method, url, **kwargs)\u001b[0m\n\u001b[1;32m     57\u001b[0m \u001b[38;5;66;03m# By using the 'with' statement we are sure the session is closed, thus we\u001b[39;00m\n\u001b[1;32m     58\u001b[0m \u001b[38;5;66;03m# avoid leaving sockets open which can trigger a ResourceWarning in some\u001b[39;00m\n\u001b[1;32m     59\u001b[0m \u001b[38;5;66;03m# cases, and look like a memory leak in others.\u001b[39;00m\n\u001b[1;32m     60\u001b[0m \u001b[38;5;28;01mwith\u001b[39;00m sessions\u001b[38;5;241m.\u001b[39mSession() \u001b[38;5;28;01mas\u001b[39;00m session:\n\u001b[0;32m---> 61\u001b[0m     \u001b[38;5;28;01mreturn\u001b[39;00m \u001b[43msession\u001b[49m\u001b[38;5;241;43m.\u001b[39;49m\u001b[43mrequest\u001b[49m\u001b[43m(\u001b[49m\u001b[43mmethod\u001b[49m\u001b[38;5;241;43m=\u001b[39;49m\u001b[43mmethod\u001b[49m\u001b[43m,\u001b[49m\u001b[43m \u001b[49m\u001b[43murl\u001b[49m\u001b[38;5;241;43m=\u001b[39;49m\u001b[43murl\u001b[49m\u001b[43m,\u001b[49m\u001b[43m \u001b[49m\u001b[38;5;241;43m*\u001b[39;49m\u001b[38;5;241;43m*\u001b[39;49m\u001b[43mkwargs\u001b[49m\u001b[43m)\u001b[49m\n",
      "File \u001b[0;32m~/opt/anaconda3/lib/python3.8/site-packages/requests/sessions.py:529\u001b[0m, in \u001b[0;36mSession.request\u001b[0;34m(self, method, url, params, data, headers, cookies, files, auth, timeout, allow_redirects, proxies, hooks, stream, verify, cert, json)\u001b[0m\n\u001b[1;32m    524\u001b[0m send_kwargs \u001b[38;5;241m=\u001b[39m {\n\u001b[1;32m    525\u001b[0m     \u001b[38;5;124m'\u001b[39m\u001b[38;5;124mtimeout\u001b[39m\u001b[38;5;124m'\u001b[39m: timeout,\n\u001b[1;32m    526\u001b[0m     \u001b[38;5;124m'\u001b[39m\u001b[38;5;124mallow_redirects\u001b[39m\u001b[38;5;124m'\u001b[39m: allow_redirects,\n\u001b[1;32m    527\u001b[0m }\n\u001b[1;32m    528\u001b[0m send_kwargs\u001b[38;5;241m.\u001b[39mupdate(settings)\n\u001b[0;32m--> 529\u001b[0m resp \u001b[38;5;241m=\u001b[39m \u001b[38;5;28;43mself\u001b[39;49m\u001b[38;5;241;43m.\u001b[39;49m\u001b[43msend\u001b[49m\u001b[43m(\u001b[49m\u001b[43mprep\u001b[49m\u001b[43m,\u001b[49m\u001b[43m \u001b[49m\u001b[38;5;241;43m*\u001b[39;49m\u001b[38;5;241;43m*\u001b[39;49m\u001b[43msend_kwargs\u001b[49m\u001b[43m)\u001b[49m\n\u001b[1;32m    531\u001b[0m \u001b[38;5;28;01mreturn\u001b[39;00m resp\n",
      "File \u001b[0;32m~/opt/anaconda3/lib/python3.8/site-packages/requests/sessions.py:645\u001b[0m, in \u001b[0;36mSession.send\u001b[0;34m(self, request, **kwargs)\u001b[0m\n\u001b[1;32m    642\u001b[0m start \u001b[38;5;241m=\u001b[39m preferred_clock()\n\u001b[1;32m    644\u001b[0m \u001b[38;5;66;03m# Send the request\u001b[39;00m\n\u001b[0;32m--> 645\u001b[0m r \u001b[38;5;241m=\u001b[39m \u001b[43madapter\u001b[49m\u001b[38;5;241;43m.\u001b[39;49m\u001b[43msend\u001b[49m\u001b[43m(\u001b[49m\u001b[43mrequest\u001b[49m\u001b[43m,\u001b[49m\u001b[43m \u001b[49m\u001b[38;5;241;43m*\u001b[39;49m\u001b[38;5;241;43m*\u001b[39;49m\u001b[43mkwargs\u001b[49m\u001b[43m)\u001b[49m\n\u001b[1;32m    647\u001b[0m \u001b[38;5;66;03m# Total elapsed time of the request (approximately)\u001b[39;00m\n\u001b[1;32m    648\u001b[0m elapsed \u001b[38;5;241m=\u001b[39m preferred_clock() \u001b[38;5;241m-\u001b[39m start\n",
      "File \u001b[0;32m~/opt/anaconda3/lib/python3.8/site-packages/requests/adapters.py:519\u001b[0m, in \u001b[0;36mHTTPAdapter.send\u001b[0;34m(self, request, stream, timeout, verify, cert, proxies)\u001b[0m\n\u001b[1;32m    515\u001b[0m     \u001b[38;5;28;01mif\u001b[39;00m \u001b[38;5;28misinstance\u001b[39m(e\u001b[38;5;241m.\u001b[39mreason, _SSLError):\n\u001b[1;32m    516\u001b[0m         \u001b[38;5;66;03m# This branch is for urllib3 v1.22 and later.\u001b[39;00m\n\u001b[1;32m    517\u001b[0m         \u001b[38;5;28;01mraise\u001b[39;00m SSLError(e, request\u001b[38;5;241m=\u001b[39mrequest)\n\u001b[0;32m--> 519\u001b[0m     \u001b[38;5;28;01mraise\u001b[39;00m \u001b[38;5;167;01mConnectionError\u001b[39;00m(e, request\u001b[38;5;241m=\u001b[39mrequest)\n\u001b[1;32m    521\u001b[0m \u001b[38;5;28;01mexcept\u001b[39;00m ClosedPoolError \u001b[38;5;28;01mas\u001b[39;00m e:\n\u001b[1;32m    522\u001b[0m     \u001b[38;5;28;01mraise\u001b[39;00m \u001b[38;5;167;01mConnectionError\u001b[39;00m(e, request\u001b[38;5;241m=\u001b[39mrequest)\n",
      "\u001b[0;31mConnectionError\u001b[0m: HTTPSConnectionPool(host='web.archive.org', port=443): Max retries exceeded with url: /web/20220916061759/https://www.ebay.com/b/Apple%20Cell%20Phone%20Headsets/80077/bn_320622?rt=nc&LH_BIN=1 (Caused by NewConnectionError('<urllib3.connection.HTTPSConnection object at 0x7fb3452aa640>: Failed to establish a new connection: [Errno 61] Connection refused'))"
     ]
    }
   ],
   "source": [
    "get_prices('Apple Cell Phone Headsets')\n"
   ]
  },
  {
   "cell_type": "code",
   "execution_count": null,
   "id": "6e4df445",
   "metadata": {},
   "outputs": [],
   "source": [
    "product_title"
   ]
  },
  {
   "cell_type": "code",
   "execution_count": null,
   "id": "254acc33",
   "metadata": {},
   "outputs": [],
   "source": []
  }
 ],
 "metadata": {
  "kernelspec": {
   "display_name": "Python 3",
   "language": "python",
   "name": "python3"
  },
  "language_info": {
   "codemirror_mode": {
    "name": "ipython",
    "version": 3
   },
   "file_extension": ".py",
   "mimetype": "text/x-python",
   "name": "python",
   "nbconvert_exporter": "python",
   "pygments_lexer": "ipython3",
   "version": "3.8.8"
  }
 },
 "nbformat": 4,
 "nbformat_minor": 5
}
