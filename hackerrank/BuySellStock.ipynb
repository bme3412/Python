{
 "cells": [
  {
   "cell_type": "code",
   "execution_count": 1,
   "id": "c10fddb9",
   "metadata": {},
   "outputs": [],
   "source": [
    "prices = [7,1,5,3,6,4]"
   ]
  },
  {
   "cell_type": "code",
   "execution_count": 58,
   "id": "da294f76",
   "metadata": {},
   "outputs": [],
   "source": [
    "def maxProfit(prices):\n",
    "    for i in range(len(prices)-1):\n",
    "        min_price = min(prices)\n",
    "        max_price = max(prices)\n",
    "        if prices[min_price] < prices[max_price]:\n",
    "            return max_price - min_price\n",
    "        else:\n",
    "            return 0\n"
   ]
  },
  {
   "cell_type": "code",
   "execution_count": 60,
   "id": "610406a2",
   "metadata": {},
   "outputs": [],
   "source": [
    "def maxProfit2(prices):\n",
    "    if len(prices) <= 0:\n",
    "        return 0\n",
    "    days = len(prices)\n",
    "    currmin = prices[0]\n",
    "    diff = 0\n",
    "    for i in range(1, days):\n",
    "        if prices[i] < currmin:\n",
    "            currmin = prices[i]\n",
    "        else:\n",
    "            diff = max(prices[i] - currmin, diff)\n",
    "    return diff"
   ]
  },
  {
   "cell_type": "code",
   "execution_count": 61,
   "id": "2dddcdfa",
   "metadata": {},
   "outputs": [
    {
     "data": {
      "text/plain": [
       "5"
      ]
     },
     "execution_count": 61,
     "metadata": {},
     "output_type": "execute_result"
    }
   ],
   "source": [
    "maxProfit2(prices)"
   ]
  },
  {
   "cell_type": "code",
   "execution_count": null,
   "id": "32b8f139",
   "metadata": {},
   "outputs": [],
   "source": []
  }
 ],
 "metadata": {
  "kernelspec": {
   "display_name": "Python 3",
   "language": "python",
   "name": "python3"
  },
  "language_info": {
   "codemirror_mode": {
    "name": "ipython",
    "version": 3
   },
   "file_extension": ".py",
   "mimetype": "text/x-python",
   "name": "python",
   "nbconvert_exporter": "python",
   "pygments_lexer": "ipython3",
   "version": "3.8.8"
  }
 },
 "nbformat": 4,
 "nbformat_minor": 5
}
