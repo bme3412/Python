{
 "cells": [
  {
   "cell_type": "code",
   "execution_count": 1,
   "id": "4b328f4d",
   "metadata": {},
   "outputs": [],
   "source": [
    "arr = [[1,2,3], #0\n",
    "       [4,5,6], #1\n",
    "       [9,8,9]] #2\n",
    "\n",
    "def diagonalDifference(arr):\n",
    "   pass "
   ]
  },
  {
   "cell_type": "code",
   "execution_count": 2,
   "id": "e22db720",
   "metadata": {},
   "outputs": [
    {
     "data": {
      "text/plain": [
       "[[1, 2, 3], [4, 5, 6], [9, 8, 9]]"
      ]
     },
     "execution_count": 2,
     "metadata": {},
     "output_type": "execute_result"
    }
   ],
   "source": [
    "arr"
   ]
  },
  {
   "cell_type": "code",
   "execution_count": 4,
   "id": "24c1a824",
   "metadata": {},
   "outputs": [
    {
     "data": {
      "text/plain": [
       "3"
      ]
     },
     "execution_count": 4,
     "metadata": {},
     "output_type": "execute_result"
    }
   ],
   "source": [
    "n = len(arr)\n",
    "n"
   ]
  },
  {
   "cell_type": "code",
   "execution_count": null,
   "id": "08cdfaf0",
   "metadata": {},
   "outputs": [],
   "source": [
    "#i = row\n",
    "#j = integer"
   ]
  },
  {
   "cell_type": "code",
   "execution_count": 27,
   "id": "1a4626f3",
   "metadata": {},
   "outputs": [],
   "source": [
    "def diagonalDifference(arr):\n",
    "    n = len(arr)\n",
    "    for i in range(0, n):\n",
    "        sum_1 = arr[i][i] + arr[i+1][i+1] + arr[i+2][i+2]\n",
    "        sum_2 = arr[i][n-1] + arr[n-2-i][i+1]+ arr[n-1][i]\n",
    "        return abs(sum_1 - sum_2)"
   ]
  },
  {
   "cell_type": "code",
   "execution_count": 28,
   "id": "e7140d58",
   "metadata": {},
   "outputs": [
    {
     "data": {
      "text/plain": [
       "2"
      ]
     },
     "execution_count": 28,
     "metadata": {},
     "output_type": "execute_result"
    }
   ],
   "source": [
    "diagonalDifference(arr)"
   ]
  },
  {
   "cell_type": "markdown",
   "id": "4b983a69",
   "metadata": {},
   "source": [
    "## Solution"
   ]
  },
  {
   "cell_type": "code",
   "execution_count": 31,
   "id": "a912d0a1",
   "metadata": {},
   "outputs": [],
   "source": [
    "arr_2 = [[11,2,4],\n",
    "        [4,5,6],\n",
    "        [10,8,-12]]"
   ]
  },
  {
   "cell_type": "code",
   "execution_count": 32,
   "id": "9a4e8df2",
   "metadata": {},
   "outputs": [],
   "source": [
    "def diagonal_difference(arr):\n",
    "    num = len(arr_2)\n",
    "    first = 0\n",
    "    second = 0\n",
    "    for i in range(0, num):\n",
    "        first += arr_2[i][i]\n",
    "        second += arr_2[i][num - i - 1]\n",
    "        return abs(first - second)"
   ]
  },
  {
   "cell_type": "code",
   "execution_count": 33,
   "id": "72aa47ec",
   "metadata": {},
   "outputs": [
    {
     "data": {
      "text/plain": [
       "7"
      ]
     },
     "execution_count": 33,
     "metadata": {},
     "output_type": "execute_result"
    }
   ],
   "source": [
    "diagonal_difference(arr_2)"
   ]
  },
  {
   "cell_type": "markdown",
   "id": "e110e5e0",
   "metadata": {},
   "source": [
    "## SOlution 2"
   ]
  },
  {
   "cell_type": "code",
   "execution_count": 34,
   "id": "2e17b188",
   "metadata": {},
   "outputs": [],
   "source": [
    "def diagonal_difference_3(arr):\n",
    "    end = len(arr) - 1\n",
    "    diag_diff = 0\n",
    "    for i in range(len(arr)):\n",
    "        diag_diff += arr[i][i] - arr[i][end-i]\n",
    "    return abs(diag_diff)"
   ]
  },
  {
   "cell_type": "code",
   "execution_count": 35,
   "id": "d59eecd6",
   "metadata": {},
   "outputs": [
    {
     "data": {
      "text/plain": [
       "2"
      ]
     },
     "execution_count": 35,
     "metadata": {},
     "output_type": "execute_result"
    }
   ],
   "source": [
    "diagonal_difference_3(arr)"
   ]
  },
  {
   "cell_type": "code",
   "execution_count": 36,
   "id": "6884dbfc",
   "metadata": {},
   "outputs": [
    {
     "data": {
      "text/plain": [
       "15"
      ]
     },
     "execution_count": 36,
     "metadata": {},
     "output_type": "execute_result"
    }
   ],
   "source": [
    "diagonal_difference_3(arr_2)"
   ]
  },
  {
   "cell_type": "code",
   "execution_count": null,
   "id": "c4dcec56",
   "metadata": {},
   "outputs": [],
   "source": []
  }
 ],
 "metadata": {
  "kernelspec": {
   "display_name": "Python 3",
   "language": "python",
   "name": "python3"
  },
  "language_info": {
   "codemirror_mode": {
    "name": "ipython",
    "version": 3
   },
   "file_extension": ".py",
   "mimetype": "text/x-python",
   "name": "python",
   "nbconvert_exporter": "python",
   "pygments_lexer": "ipython3",
   "version": "3.8.8"
  }
 },
 "nbformat": 4,
 "nbformat_minor": 5
}
