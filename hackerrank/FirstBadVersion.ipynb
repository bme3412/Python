{
 "cells": [
  {
   "cell_type": "code",
   "execution_count": 34,
   "id": "c1ef884f",
   "metadata": {},
   "outputs": [],
   "source": [
    "n = 5\n",
    "bad = 3"
   ]
  },
  {
   "cell_type": "code",
   "execution_count": 35,
   "id": "e8fbdeb6",
   "metadata": {},
   "outputs": [],
   "source": [
    "def firstBadVersion(n):\n",
    "    for i in range(0,n):\n",
    "        if i != bad:\n",
    "            i+=1\n",
    "        elif i == bad:\n",
    "            return i\n",
    "        else:\n",
    "            return False"
   ]
  },
  {
   "cell_type": "code",
   "execution_count": 36,
   "id": "15c240a8",
   "metadata": {},
   "outputs": [
    {
     "data": {
      "text/plain": [
       "3"
      ]
     },
     "execution_count": 36,
     "metadata": {},
     "output_type": "execute_result"
    }
   ],
   "source": [
    "firstBadVersion(5)"
   ]
  },
  {
   "cell_type": "code",
   "execution_count": null,
   "id": "8688ee98",
   "metadata": {},
   "outputs": [],
   "source": []
  }
 ],
 "metadata": {
  "kernelspec": {
   "display_name": "Python 3",
   "language": "python",
   "name": "python3"
  },
  "language_info": {
   "codemirror_mode": {
    "name": "ipython",
    "version": 3
   },
   "file_extension": ".py",
   "mimetype": "text/x-python",
   "name": "python",
   "nbconvert_exporter": "python",
   "pygments_lexer": "ipython3",
   "version": "3.8.8"
  }
 },
 "nbformat": 4,
 "nbformat_minor": 5
}
