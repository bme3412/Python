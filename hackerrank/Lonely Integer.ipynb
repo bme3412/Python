{
 "cells": [
  {
   "cell_type": "code",
   "execution_count": 1,
   "id": "ee2db2ec",
   "metadata": {},
   "outputs": [],
   "source": [
    "a = [1,2,3,4,3,2,1]\n",
    "# the unique element is 4"
   ]
  },
  {
   "cell_type": "code",
   "execution_count": 34,
   "id": "9542a32f",
   "metadata": {},
   "outputs": [],
   "source": [
    "def lonelyinteger(a):\n",
    "    dictionary = {}\n",
    "    for item in a:\n",
    "        dictionary[item] = dictionary.get(item,0)+1\n",
    "    #lonely_int = [i for i in dictionary if dictionary[i]==1]\n",
    "    return dictionary"
   ]
  },
  {
   "cell_type": "code",
   "execution_count": 35,
   "id": "83a281e6",
   "metadata": {},
   "outputs": [
    {
     "data": {
      "text/plain": [
       "{1: 2, 2: 2, 3: 2, 4: 1}"
      ]
     },
     "execution_count": 35,
     "metadata": {},
     "output_type": "execute_result"
    }
   ],
   "source": [
    "lonelyinteger(a)"
   ]
  },
  {
   "cell_type": "code",
   "execution_count": 38,
   "id": "3b888425",
   "metadata": {},
   "outputs": [],
   "source": [
    "def lonely_integer_1(a):\n",
    "    return 2 * (sum(set(a))) -sum(a)"
   ]
  },
  {
   "cell_type": "code",
   "execution_count": 39,
   "id": "c1a6847f",
   "metadata": {},
   "outputs": [
    {
     "data": {
      "text/plain": [
       "4"
      ]
     },
     "execution_count": 39,
     "metadata": {},
     "output_type": "execute_result"
    }
   ],
   "source": [
    "lonely_integer_1(a)"
   ]
  },
  {
   "cell_type": "code",
   "execution_count": 42,
   "id": "b84349ea",
   "metadata": {},
   "outputs": [],
   "source": [
    "def lonely_integer_2(a):\n",
    "    result = []\n",
    "    answer = 0\n",
    "    for item in a:\n",
    "        result.append(a.count(item))\n",
    "    answer = result.index(1)\n",
    "    return a[answer]\n"
   ]
  },
  {
   "cell_type": "code",
   "execution_count": 43,
   "id": "dca9bf67",
   "metadata": {},
   "outputs": [
    {
     "data": {
      "text/plain": [
       "4"
      ]
     },
     "execution_count": 43,
     "metadata": {},
     "output_type": "execute_result"
    }
   ],
   "source": [
    "lonely_integer_2(a)"
   ]
  },
  {
   "cell_type": "code",
   "execution_count": null,
   "id": "c2471fe7",
   "metadata": {},
   "outputs": [],
   "source": []
  }
 ],
 "metadata": {
  "kernelspec": {
   "display_name": "Python 3",
   "language": "python",
   "name": "python3"
  },
  "language_info": {
   "codemirror_mode": {
    "name": "ipython",
    "version": 3
   },
   "file_extension": ".py",
   "mimetype": "text/x-python",
   "name": "python",
   "nbconvert_exporter": "python",
   "pygments_lexer": "ipython3",
   "version": "3.8.8"
  }
 },
 "nbformat": 4,
 "nbformat_minor": 5
}
