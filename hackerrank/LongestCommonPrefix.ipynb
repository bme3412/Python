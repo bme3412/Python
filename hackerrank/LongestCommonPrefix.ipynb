{
 "cells": [
  {
   "cell_type": "code",
   "execution_count": 1,
   "id": "38614eb7",
   "metadata": {},
   "outputs": [],
   "source": [
    "strs = ['flower', 'flow', 'flight']\n",
    "strs2 = ['dog', 'racecar','car']"
   ]
  },
  {
   "cell_type": "code",
   "execution_count": 19,
   "id": "e5fdddff",
   "metadata": {},
   "outputs": [],
   "source": [
    "def longestCommonPrefix(strs):\n",
    "    letter = []\n",
    "    for i in strs: # i = word\n",
    "        for j in range(len(i)): # j = letter in word\n",
    "            if i[j]==[i+1][j]:\n",
    "                j.append(letter)\n",
    "            return letter\n",
    "                \n",
    "\n",
    "        "
   ]
  },
  {
   "cell_type": "code",
   "execution_count": 20,
   "id": "66d3e9dc",
   "metadata": {},
   "outputs": [
    {
     "ename": "TypeError",
     "evalue": "can only concatenate str (not \"int\") to str",
     "output_type": "error",
     "traceback": [
      "\u001b[0;31m---------------------------------------------------------------------------\u001b[0m",
      "\u001b[0;31mTypeError\u001b[0m                                 Traceback (most recent call last)",
      "Input \u001b[0;32mIn [20]\u001b[0m, in \u001b[0;36m<cell line: 1>\u001b[0;34m()\u001b[0m\n\u001b[0;32m----> 1\u001b[0m \u001b[43mlongestCommonPrefix\u001b[49m\u001b[43m(\u001b[49m\u001b[43mstrs\u001b[49m\u001b[43m)\u001b[49m\n",
      "Input \u001b[0;32mIn [19]\u001b[0m, in \u001b[0;36mlongestCommonPrefix\u001b[0;34m(strs)\u001b[0m\n\u001b[1;32m      3\u001b[0m \u001b[38;5;28;01mfor\u001b[39;00m i \u001b[38;5;129;01min\u001b[39;00m strs: \u001b[38;5;66;03m# i = word\u001b[39;00m\n\u001b[1;32m      4\u001b[0m     \u001b[38;5;28;01mfor\u001b[39;00m j \u001b[38;5;129;01min\u001b[39;00m \u001b[38;5;28mrange\u001b[39m(\u001b[38;5;28mlen\u001b[39m(i)): \u001b[38;5;66;03m# j = letter in word\u001b[39;00m\n\u001b[0;32m----> 5\u001b[0m         \u001b[38;5;28;01mif\u001b[39;00m i[j]\u001b[38;5;241m==\u001b[39m[\u001b[43mi\u001b[49m\u001b[38;5;241;43m+\u001b[39;49m\u001b[38;5;241;43m1\u001b[39;49m][j]:\n\u001b[1;32m      6\u001b[0m             j\u001b[38;5;241m.\u001b[39mappend(letter)\n\u001b[1;32m      7\u001b[0m         \u001b[38;5;28;01mreturn\u001b[39;00m letter\n",
      "\u001b[0;31mTypeError\u001b[0m: can only concatenate str (not \"int\") to str"
     ]
    }
   ],
   "source": [
    "longestCommonPrefix(strs)"
   ]
  },
  {
   "cell_type": "code",
   "execution_count": 21,
   "id": "07b4f2ca",
   "metadata": {},
   "outputs": [],
   "source": [
    "def longestCommonPrefix2(strs):\n",
    "    for i in range(0,len(strs[0])):\n",
    "        \n",
    "        tmp = strs[0][i]\n",
    "        \n",
    "        for j in range(0,len(strs)):\n",
    "            if (len(strs[j])==i or strs[j][i] != tmp):\n",
    "                return strs[0][:i]\n",
    "        \n",
    "        return strs[0]"
   ]
  },
  {
   "cell_type": "code",
   "execution_count": 23,
   "id": "1b7801af",
   "metadata": {},
   "outputs": [
    {
     "data": {
      "text/plain": [
       "('flower', '')"
      ]
     },
     "execution_count": 23,
     "metadata": {},
     "output_type": "execute_result"
    }
   ],
   "source": [
    "longestCommonPrefix2(strs), longestCommonPrefix2(strs2)"
   ]
  },
  {
   "cell_type": "code",
   "execution_count": 24,
   "id": "b0d5b431",
   "metadata": {},
   "outputs": [],
   "source": [
    "def longestCommonPrefix3(strs):\n",
    "    res = strs[0]\n",
    "    \n",
    "    for i in range(1, len(strs)):\n",
    "        while(True):\n",
    "            if(strs[i].startswith(res)):\n",
    "                break\n",
    "            else:\n",
    "                if(len(res)==1):\n",
    "                    return \"\"\n",
    "                res = res[:len(res)-1]\n",
    "    return res"
   ]
  },
  {
   "cell_type": "code",
   "execution_count": 25,
   "id": "68fbc382",
   "metadata": {},
   "outputs": [
    {
     "data": {
      "text/plain": [
       "('fl', '')"
      ]
     },
     "execution_count": 25,
     "metadata": {},
     "output_type": "execute_result"
    }
   ],
   "source": [
    "longestCommonPrefix3(strs), longestCommonPrefix3(strs2)"
   ]
  },
  {
   "cell_type": "code",
   "execution_count": null,
   "id": "6bdc530e",
   "metadata": {},
   "outputs": [],
   "source": []
  }
 ],
 "metadata": {
  "kernelspec": {
   "display_name": "Python 3",
   "language": "python",
   "name": "python3"
  },
  "language_info": {
   "codemirror_mode": {
    "name": "ipython",
    "version": 3
   },
   "file_extension": ".py",
   "mimetype": "text/x-python",
   "name": "python",
   "nbconvert_exporter": "python",
   "pygments_lexer": "ipython3",
   "version": "3.8.8"
  }
 },
 "nbformat": 4,
 "nbformat_minor": 5
}
