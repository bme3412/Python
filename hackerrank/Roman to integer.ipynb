{
 "cells": [
  {
   "cell_type": "code",
   "execution_count": 1,
   "id": "2dc7d03f",
   "metadata": {},
   "outputs": [],
   "source": [
    "def romanToInt(s):\n",
    "    num = 0\n",
    "    for x in s:\n",
    "        if x == 'I':\n",
    "            num +=1\n",
    "        elif x == 'V':\n",
    "            num +=5\n",
    "        elif x == 'X':\n",
    "            num +=10\n",
    "        elif x == 'L':\n",
    "            num +=50\n",
    "        elif x == 'C':\n",
    "            num +=100\n",
    "        elif x == 'D':\n",
    "            num += 500\n",
    "        elif x == 'M':\n",
    "            num += 1000\n",
    "    return num"
   ]
  },
  {
   "cell_type": "code",
   "execution_count": 3,
   "id": "ab346100",
   "metadata": {},
   "outputs": [
    {
     "data": {
      "text/plain": [
       "58"
      ]
     },
     "execution_count": 3,
     "metadata": {},
     "output_type": "execute_result"
    }
   ],
   "source": [
    "romanToInt('LVIII')"
   ]
  },
  {
   "cell_type": "code",
   "execution_count": 4,
   "id": "dd872ae0",
   "metadata": {},
   "outputs": [],
   "source": [
    "def romanToInt2(s):\n",
    "    \"\"\"Roman numerals are usually written largest to smallest from left to right. However, \n",
    "        the numeral for four is not IIII. Instead, the number four is written as IV. Because \n",
    "        the one is before the five we subtract it making four. The same principle applies to \n",
    "        the number nine, which is written as IX. There are six instances where subtraction is used:\n",
    "\n",
    "        I can be placed before V (5) and X (10) to make 4 and 9. \n",
    "        X can be placed before L (50) and C (100) to make 40 and 90. \n",
    "        C can be placed before D (500) and M (1000) to make 400 and 900.\n",
    "        Given a roman numeral, convert it to an integer.\n",
    "        \n",
    "        Symbol       Value\n",
    "        I             1\n",
    "        V             5\n",
    "        X             10\n",
    "        L             50\n",
    "        C             100\n",
    "        D             500\n",
    "        M             1000\n",
    "        \"\"\"\n",
    "\n",
    "    returnVal = 0\n",
    "    for i in range(len(s)):\n",
    "        ## C exception where C = 100\n",
    "        if s[i]=='M':\n",
    "            # checks to see if C before M\n",
    "            # if so, adds 800 -< M - (C + C)\n",
    "            if i >0 and s[i-1]=='C':\n",
    "                returnVal +=800\n",
    "            else:\n",
    "                returnVal +=1000\n",
    "        \n",
    "        if s[i]=='D':\n",
    "        \n",
    "            if i > 0 and s[i-1]=='C':\n",
    "                returnVal +=300\n",
    "            else:\n",
    "                returnVal +=500\n",
    "        \n",
    "        ## X exception, before C and L\n",
    "        if s[i]=='C':\n",
    "            if i > 0 and s[i-1]=='X':\n",
    "                returnVal += 80\n",
    "            else:\n",
    "                returnVal +=100\n",
    "        \n",
    "        if s[i]=='L':\n",
    "            if i > 0 and s[i-1]=='X':\n",
    "                returnVal +=30\n",
    "            else:\n",
    "                returnVal +=50\n",
    "                \n",
    "        ## I exception, before V and X\n",
    "        \n",
    "        if s[i]=='X':\n",
    "            if i > 0 and s[i-1]=='I':\n",
    "                returnVal +=8\n",
    "            else:\n",
    "                returnVal +=10\n",
    "        \n",
    "        if s[i]=='V':\n",
    "            if i > 0 and s[i-1]=='I':\n",
    "                returnVal +=3\n",
    "            else:\n",
    "                returnVal +=5\n",
    "            \n",
    "        # I by itself,  no exceptions\n",
    "        if s[i]=='I':\n",
    "            returnVal +=1\n",
    "    \n",
    "    return returnVal"
   ]
  },
  {
   "cell_type": "code",
   "execution_count": 5,
   "id": "832233e3",
   "metadata": {},
   "outputs": [
    {
     "data": {
      "text/plain": [
       "1994"
      ]
     },
     "execution_count": 5,
     "metadata": {},
     "output_type": "execute_result"
    }
   ],
   "source": [
    "romanToInt2('MCMXCIV')"
   ]
  },
  {
   "cell_type": "code",
   "execution_count": null,
   "id": "31a97f47",
   "metadata": {},
   "outputs": [],
   "source": []
  }
 ],
 "metadata": {
  "kernelspec": {
   "display_name": "Python 3",
   "language": "python",
   "name": "python3"
  },
  "language_info": {
   "codemirror_mode": {
    "name": "ipython",
    "version": 3
   },
   "file_extension": ".py",
   "mimetype": "text/x-python",
   "name": "python",
   "nbconvert_exporter": "python",
   "pygments_lexer": "ipython3",
   "version": "3.8.8"
  }
 },
 "nbformat": 4,
 "nbformat_minor": 5
}
