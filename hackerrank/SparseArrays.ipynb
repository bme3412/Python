{
 "cells": [
  {
   "cell_type": "code",
   "execution_count": 14,
   "id": "5023cf1c",
   "metadata": {},
   "outputs": [],
   "source": [
    "n = 4 # size of strigns\n",
    "strings = ['aba','baba','aba','xzxb']\n",
    "q = 3\n",
    "queries = ['aba','xzxb','ab']\n"
   ]
  },
  {
   "cell_type": "code",
   "execution_count": 15,
   "id": "db824fdc",
   "metadata": {},
   "outputs": [],
   "source": [
    "def matchingStrings(strings, queries):\n",
    "    count_strings= dict()\n",
    "    for i in strings:\n",
    "        count_strings[i] = count_strings.get(i,0)+1\n",
    "    count_queries = dict()\n",
    "    for i in queries:\n",
    "        count_queries[i] = count_queries.get(i,0)+1\n",
    "    return count_strings, count_queries"
   ]
  },
  {
   "cell_type": "code",
   "execution_count": 16,
   "id": "a645c2ff",
   "metadata": {},
   "outputs": [
    {
     "data": {
      "text/plain": [
       "({'aba': 2, 'baba': 1, 'xzxb': 1}, {'aba': 1, 'xzxb': 1, 'ab': 1})"
      ]
     },
     "execution_count": 16,
     "metadata": {},
     "output_type": "execute_result"
    }
   ],
   "source": [
    "matchingStrings(strings, queries)"
   ]
  },
  {
   "cell_type": "markdown",
   "id": "70a1ddff",
   "metadata": {},
   "source": [
    "## Solution\n"
   ]
  },
  {
   "cell_type": "code",
   "execution_count": 17,
   "id": "f0989232",
   "metadata": {},
   "outputs": [
    {
     "name": "stdout",
     "output_type": "stream",
     "text": [
      "4\n",
      "aba\n",
      "baba\n",
      "aba\n",
      "xzxb\n",
      "3\n",
      "aba\n",
      "xzxb\n",
      "ab\n",
      "2\n",
      "1\n",
      "0\n"
     ]
    }
   ],
   "source": [
    "from collections import Counter\n",
    "\n",
    "def matchingStrings(strings, queries):\n",
    "    c = Counter(strings)\n",
    "    return (c[i] for i in queries)\n",
    "\n",
    "n = int(input())\n",
    "strings = [input() for _ in range(n)]\n",
    "q = int(input())\n",
    "queries = [input() for _ in range(q)]\n",
    "print(*matchingStrings(strings, queries),sep=\"\\n\")"
   ]
  },
  {
   "cell_type": "code",
   "execution_count": null,
   "id": "2d58a345",
   "metadata": {},
   "outputs": [],
   "source": []
  }
 ],
 "metadata": {
  "kernelspec": {
   "display_name": "Python 3",
   "language": "python",
   "name": "python3"
  },
  "language_info": {
   "codemirror_mode": {
    "name": "ipython",
    "version": 3
   },
   "file_extension": ".py",
   "mimetype": "text/x-python",
   "name": "python",
   "nbconvert_exporter": "python",
   "pygments_lexer": "ipython3",
   "version": "3.8.8"
  }
 },
 "nbformat": 4,
 "nbformat_minor": 5
}
