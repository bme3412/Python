{
 "cells": [
  {
   "cell_type": "markdown",
   "id": "1799250d",
   "metadata": {},
   "source": [
    "### Prompt:\n",
    "+ Given a time in 12-hour AM/PM format, convert it to 24-hr time\n",
    "+ the function should return a new string representing the input time in 24-hour format\n",
    "+ the input is: a single string s that represents a time in 12-hr clock format"
   ]
  },
  {
   "cell_type": "code",
   "execution_count": 1,
   "id": "4cf4007b",
   "metadata": {},
   "outputs": [],
   "source": [
    "# complete function timeCOnversion that takes in 's'"
   ]
  },
  {
   "cell_type": "code",
   "execution_count": 2,
   "id": "2a70d74d",
   "metadata": {},
   "outputs": [],
   "source": [
    "s = '07:05:45PM'"
   ]
  },
  {
   "cell_type": "markdown",
   "id": "1fcd9260",
   "metadata": {},
   "source": [
    "### Thoughts\n",
    "+ need to account for 12 and dual values - could either be 12AM or 12PM - so need to write an if statement\n",
    "+ it is a string so can use location-based slicing\n",
    "+ could also use an f-string, but location-based slicing is prob easier\n",
    "+ the input string will always have the same pattern - in terms of # of values and separation by :"
   ]
  },
  {
   "cell_type": "markdown",
   "id": "80b57f18",
   "metadata": {},
   "source": [
    "#### Method 1: if/statements followed by slicing"
   ]
  },
  {
   "cell_type": "code",
   "execution_count": 3,
   "id": "65636a62",
   "metadata": {},
   "outputs": [],
   "source": [
    "def timeConversion(s):\n",
    "    if s[-2:] == 'PM' and s[:2] == '12': # if string = 12PM, return 0 and add from index 2 to -2\n",
    "        return(\"00\" + s[2:-2])\n",
    "    elif s[-2:] == 'PM' and s[0:2] == '12' or s[-2:] =='AM':\n",
    "        return(str(s[:-2])) # return stirng and cut off PM/AM\n",
    "    elif s[-2:]=='PM':\n",
    "        return(str(int(s[:2])+12)+s[2:-2])"
   ]
  },
  {
   "cell_type": "code",
   "execution_count": 4,
   "id": "c1d07bbf",
   "metadata": {},
   "outputs": [
    {
     "data": {
      "text/plain": [
       "'19:05:45'"
      ]
     },
     "execution_count": 4,
     "metadata": {},
     "output_type": "execute_result"
    }
   ],
   "source": [
    "timeConversion(s)"
   ]
  },
  {
   "cell_type": "markdown",
   "id": "ac9a9f2d",
   "metadata": {},
   "source": [
    "### Method 2: convert to int and % 12, then f-string"
   ]
  },
  {
   "cell_type": "code",
   "execution_count": 12,
   "id": "ed553ce5",
   "metadata": {},
   "outputs": [],
   "source": [
    "def timeConversion2(s):\n",
    "    result = int(s[:2]) % 12\n",
    "    if s[-2]=='P':\n",
    "        result +=12\n",
    "    return f'{result:02}{s[2:-2]}'"
   ]
  },
  {
   "cell_type": "code",
   "execution_count": 13,
   "id": "9a61d79d",
   "metadata": {},
   "outputs": [
    {
     "data": {
      "text/plain": [
       "'19:05:45'"
      ]
     },
     "execution_count": 13,
     "metadata": {},
     "output_type": "execute_result"
    }
   ],
   "source": [
    "timeConversion2(s)"
   ]
  },
  {
   "cell_type": "code",
   "execution_count": null,
   "id": "e912c811",
   "metadata": {},
   "outputs": [],
   "source": []
  }
 ],
 "metadata": {
  "kernelspec": {
   "display_name": "Python 3",
   "language": "python",
   "name": "python3"
  },
  "language_info": {
   "codemirror_mode": {
    "name": "ipython",
    "version": 3
   },
   "file_extension": ".py",
   "mimetype": "text/x-python",
   "name": "python",
   "nbconvert_exporter": "python",
   "pygments_lexer": "ipython3",
   "version": "3.8.8"
  }
 },
 "nbformat": 4,
 "nbformat_minor": 5
}
