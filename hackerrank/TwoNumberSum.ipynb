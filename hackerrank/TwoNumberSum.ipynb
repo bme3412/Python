{
 "cells": [
  {
   "cell_type": "code",
   "execution_count": 1,
   "id": "08ca578a",
   "metadata": {},
   "outputs": [],
   "source": [
    "array = [3,5,-4,8,11,1,-1,6]\n",
    "targetSum = 10\n",
    "# find if there is a pair of 2 numbers that sum up to targetSum\n",
    "# need to implement an algo that to traverse the array and find the solution"
   ]
  },
  {
   "cell_type": "code",
   "execution_count": 3,
   "id": "286d71f4",
   "metadata": {},
   "outputs": [],
   "source": [
    "def twoNumberSum(array, targetSum):\n",
    "    for i in range(len(array)-1): # zero-based indexing, starta at 0\n",
    "        firstNum = array[i]\n",
    "        for j in range(i+1, len(array)): # i+1 so that its 1 more than i\n",
    "            secondNum = array[j]\n",
    "            if firstNum + secondNum == targetSum:\n",
    "                return [firstNum, secondNum]\n",
    "    return []\n",
    "            "
   ]
  },
  {
   "cell_type": "code",
   "execution_count": 4,
   "id": "5e06e8be",
   "metadata": {},
   "outputs": [
    {
     "data": {
      "text/plain": [
       "[11, -1]"
      ]
     },
     "execution_count": 4,
     "metadata": {},
     "output_type": "execute_result"
    }
   ],
   "source": [
    "twoNumberSum(array, targetSum)"
   ]
  },
  {
   "cell_type": "code",
   "execution_count": 6,
   "id": "61225dcf",
   "metadata": {},
   "outputs": [
    {
     "data": {
      "text/plain": [
       "8"
      ]
     },
     "execution_count": 6,
     "metadata": {},
     "output_type": "execute_result"
    }
   ],
   "source": [
    "len(array)"
   ]
  },
  {
   "cell_type": "code",
   "execution_count": 10,
   "id": "636d93db",
   "metadata": {},
   "outputs": [],
   "source": [
    "## hash table\n",
    "def twoNumberSum_dict(array, targetSum):\n",
    "    nums = {} # initialize\n",
    "    for num in array:\n",
    "        if targetSum - num in nums:\n",
    "            return [targetSum - num, num]\n",
    "        else: \n",
    "            nums[num] = True\n",
    "    return []"
   ]
  },
  {
   "cell_type": "code",
   "execution_count": 11,
   "id": "0b06f62f",
   "metadata": {},
   "outputs": [
    {
     "data": {
      "text/plain": [
       "[11, -1]"
      ]
     },
     "execution_count": 11,
     "metadata": {},
     "output_type": "execute_result"
    }
   ],
   "source": [
    "twoNumberSum_dict(array, targetSum)"
   ]
  },
  {
   "cell_type": "code",
   "execution_count": 12,
   "id": "e9362649",
   "metadata": {},
   "outputs": [],
   "source": [
    "def twoNumberSum_sort(array, targetSum):\n",
    "    array.sort()\n",
    "    left = 0\n",
    "    right = len(array)-1\n",
    "    while left < right:\n",
    "        currentSum = array[left] +array[right]\n",
    "        if currentSum == targetSum:\n",
    "            return [array[left], array[right]]\n",
    "        elif currentSum < targetSum:\n",
    "            left +=1\n",
    "        elif currentSum > targetSum:\n",
    "            right -=1\n",
    "    return []"
   ]
  },
  {
   "cell_type": "code",
   "execution_count": 13,
   "id": "1a49f22b",
   "metadata": {},
   "outputs": [
    {
     "data": {
      "text/plain": [
       "[-1, 11]"
      ]
     },
     "execution_count": 13,
     "metadata": {},
     "output_type": "execute_result"
    }
   ],
   "source": [
    "twoNumberSum_sort(array, targetSum)"
   ]
  },
  {
   "cell_type": "code",
   "execution_count": null,
   "id": "0e37f948",
   "metadata": {},
   "outputs": [],
   "source": []
  }
 ],
 "metadata": {
  "kernelspec": {
   "display_name": "Python 3",
   "language": "python",
   "name": "python3"
  },
  "language_info": {
   "codemirror_mode": {
    "name": "ipython",
    "version": 3
   },
   "file_extension": ".py",
   "mimetype": "text/x-python",
   "name": "python",
   "nbconvert_exporter": "python",
   "pygments_lexer": "ipython3",
   "version": "3.8.8"
  }
 },
 "nbformat": 4,
 "nbformat_minor": 5
}
