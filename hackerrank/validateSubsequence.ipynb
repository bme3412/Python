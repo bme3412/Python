{
 "cells": [
  {
   "cell_type": "code",
   "execution_count": 3,
   "id": "177e13a7",
   "metadata": {},
   "outputs": [],
   "source": [
    "array = [5,1,22,25,6,-1,8,10]\n",
    "sequence = [1,6,-1,10]"
   ]
  },
  {
   "cell_type": "code",
   "execution_count": 7,
   "id": "b67a478b",
   "metadata": {},
   "outputs": [],
   "source": [
    "def isValidSubsequence(array, sequence):\n",
    "    arrIdx = 0\n",
    "    seqIdx = 0\n",
    "    while arrIdx < len(array) and seqIdx < len(sequence):\n",
    "        if array[arrIdx] == sequence[seqIdx]:\n",
    "            seqIdx +=1\n",
    "        arrIdx +=1\n",
    "    return seqIdx == len(sequence)"
   ]
  },
  {
   "cell_type": "code",
   "execution_count": 8,
   "id": "99ab06db",
   "metadata": {},
   "outputs": [
    {
     "data": {
      "text/plain": [
       "True"
      ]
     },
     "execution_count": 8,
     "metadata": {},
     "output_type": "execute_result"
    }
   ],
   "source": [
    "isValidSubsequence(array,sequence)"
   ]
  },
  {
   "cell_type": "code",
   "execution_count": 9,
   "id": "0a4551ff",
   "metadata": {},
   "outputs": [],
   "source": [
    "# for loop\n",
    "def isValidSubsequence_for(array, sequence):\n",
    "    seqIdx = 0\n",
    "    for value in array:\n",
    "        if seqIdx == len(sequence):\n",
    "            break\n",
    "        if sequence[seqIdx]== value:\n",
    "            seqIdx +=1\n",
    "    return seqIdx == len(sequence)"
   ]
  },
  {
   "cell_type": "code",
   "execution_count": 10,
   "id": "1ed7f39e",
   "metadata": {},
   "outputs": [
    {
     "data": {
      "text/plain": [
       "True"
      ]
     },
     "execution_count": 10,
     "metadata": {},
     "output_type": "execute_result"
    }
   ],
   "source": [
    "isValidSubsequence_for(array, sequence)"
   ]
  },
  {
   "cell_type": "code",
   "execution_count": null,
   "id": "16713412",
   "metadata": {},
   "outputs": [],
   "source": []
  }
 ],
 "metadata": {
  "kernelspec": {
   "display_name": "Python 3",
   "language": "python",
   "name": "python3"
  },
  "language_info": {
   "codemirror_mode": {
    "name": "ipython",
    "version": 3
   },
   "file_extension": ".py",
   "mimetype": "text/x-python",
   "name": "python",
   "nbconvert_exporter": "python",
   "pygments_lexer": "ipython3",
   "version": "3.8.8"
  }
 },
 "nbformat": 4,
 "nbformat_minor": 5
}
