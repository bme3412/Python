{
 "cells": [
  {
   "cell_type": "code",
   "execution_count": 84,
   "id": "5cfbb591",
   "metadata": {},
   "outputs": [],
   "source": [
    "import numpy as np\n",
    "\n",
    "meals=['Spam', 'Eggs', 'Bacon', 'Spam']\n",
    "meals2=['Spam', 'Eggs', 'Spam', 'Spam', 'Bacon', 'Spam']"
   ]
  },
  {
   "cell_type": "code",
   "execution_count": 76,
   "id": "45b3ec25",
   "metadata": {},
   "outputs": [],
   "source": [
    "def menu_is_boring(meals):\n",
    "    \"\"\"Given a list of meals served over some period of time, return True if the\n",
    "    same meal has ever been served two days in a row, and False otherwise.\n",
    "    \"\"\"\n",
    "    for i in range(0, len(meals)-1):\n",
    "        j = i-1\n",
    "        if meals[i]==meals[i+1]:\n",
    "            return True\n",
    "        \n",
    "    return False"
   ]
  },
  {
   "cell_type": "code",
   "execution_count": 79,
   "id": "43f5bd95",
   "metadata": {},
   "outputs": [
    {
     "data": {
      "text/plain": [
       "False"
      ]
     },
     "execution_count": 79,
     "metadata": {},
     "output_type": "execute_result"
    }
   ],
   "source": [
    "menu_is_boring(meals)"
   ]
  },
  {
   "cell_type": "code",
   "execution_count": 88,
   "id": "91f3217d",
   "metadata": {},
   "outputs": [
    {
     "data": {
      "text/plain": [
       "array([-0.55, -0.69, -0.19, -0.28, -0.18, -0.56, -0.32, -1.38,  0.48,\n",
       "       -0.47,  0.26,  0.05,  0.47,  0.67,  0.01,  0.84, -0.06, -0.55,\n",
       "       -0.33,  0.03,  0.15, -0.5 ,  0.07,  0.26,  0.74, -0.09, -1.1 ,\n",
       "        0.75, -0.42,  0.93,  0.01,  0.55,  0.12,  0.44, -0.82,  0.81,\n",
       "        0.39, -0.04, -0.51,  0.84, -0.11,  0.11, -0.52, -0.54, -0.31,\n",
       "       -0.09,  1.01, -0.71,  0.43, -1.15,  0.56, -0.22,  0.7 , -0.12,\n",
       "        0.7 , -0.39,  0.34, -0.21, -0.25, -1.32, -0.29, -0.45,  0.39,\n",
       "       -0.41, -0.15, -0.4 , -0.63, -0.35,  0.89, -0.08, -0.71, -1.4 ,\n",
       "       -0.09,  0.83, -0.09,  0.41, -0.36, -0.85,  0.2 ,  0.75, -0.3 ,\n",
       "        0.58,  0.59,  0.7 , -0.3 , -0.87, -0.  ,  0.17, -0.03,  0.61,\n",
       "       -0.36,  0.12, -0.25, -0.04,  0.1 ,  0.24, -0.56,  0.52,  0.43,\n",
       "        0.23, -0.34,  0.02,  0.36,  0.23, -0.3 ,  0.46,  0.12, -0.44,\n",
       "        0.2 , -0.07, -0.15,  0.36,  0.09,  0.48, -0.57,  0.54,  0.05,\n",
       "       -0.62, -0.05,  0.35, -1.08, -0.12, -0.29,  0.23,  0.41,  0.59,\n",
       "        0.59, -0.03,  0.25, -0.16, -0.09, -0.41, -0.02, -0.74, -0.82,\n",
       "       -0.16, -0.64, -0.27,  0.48, -0.01,  0.05,  0.79,  0.8 ,  0.29,\n",
       "       -1.01,  0.62,  0.55, -0.02,  0.4 ,  0.41,  0.68, -0.71, -0.14,\n",
       "        0.31, -0.26, -0.18,  0.63, -0.32, -1.33,  0.52,  0.02, -0.48,\n",
       "        0.14,  0.12,  0.05,  0.29, -0.25,  0.05, -0.68, -0.59,  0.21,\n",
       "       -0.32,  1.02,  0.51, -0.33, -1.08, -0.41, -0.44, -0.35, -0.23,\n",
       "       -0.16, -0.33,  0.03, -0.46, -0.45, -0.28,  0.17,  0.04,  0.1 ,\n",
       "        0.3 ,  0.57, -0.52,  0.46, -0.19,  0.42, -0.07, -0.82,  0.75,\n",
       "       -0.9 ,  0.31, -0.8 , -0.68,  0.1 , -0.03, -0.88, -0.66,  0.48,\n",
       "       -0.9 , -0.91,  0.01,  0.15, -0.41,  0.  ,  0.43, -0.8 ,  0.05,\n",
       "        0.23, -0.32, -0.19,  0.23,  0.14,  0.62, -0.43,  0.15, -0.04,\n",
       "        0.4 , -0.8 , -0.23,  0.41,  0.42,  0.38,  0.45,  0.25,  0.4 ,\n",
       "       -0.46,  0.27,  0.07,  0.12,  0.28,  0.43, -1.05,  0.32, -0.34,\n",
       "        1.33, -0.19, -0.43, -0.26,  0.1 , -0.54, -0.4 , -0.21,  0.46,\n",
       "       -0.56, -0.84,  0.24, -0.34,  0.83,  0.51, -0.56, -0.11,  0.28,\n",
       "       -0.48, -0.48,  0.15, -0.31,  0.32,  0.11, -0.85,  0.27, -0.3 ,\n",
       "        0.64,  0.03,  0.64,  0.26,  0.45,  0.51, -0.29,  0.17, -0.3 ,\n",
       "       -0.66,  0.47,  0.88,  0.03, -0.12,  0.19,  0.96, -0.28,  0.96,\n",
       "       -0.62, -0.3 , -0.29,  0.58,  0.37, -0.22,  0.14, -0.15, -0.58,\n",
       "        0.13, -0.04,  0.06,  0.66,  0.59, -0.27,  0.24,  0.03,  0.22,\n",
       "        0.14,  0.43, -1.33,  0.86,  0.81, -0.11, -0.6 , -0.18,  0.47,\n",
       "       -0.26, -0.05,  0.17, -0.34, -1.06, -0.12, -0.27,  0.15, -0.19,\n",
       "       -0.16,  0.01,  0.6 , -0.35, -0.71,  0.21, -0.58,  0.08,  0.37,\n",
       "        0.51,  0.53, -0.25, -0.25,  0.44, -0.39, -0.79,  0.01, -0.  ,\n",
       "       -0.67,  0.33, -0.07,  0.3 ,  0.27,  0.69,  1.44, -0.71,  0.57,\n",
       "        0.52,  0.41,  0.61,  0.58,  0.2 , -0.92, -0.35, -0.12, -0.8 ,\n",
       "       -0.46,  0.49, -0.1 ,  0.2 , -0.31,  0.1 ,  0.39, -0.24, -1.21,\n",
       "       -1.07,  0.1 , -0.29,  0.35, -0.12,  0.22,  0.28,  0.43,  0.71,\n",
       "        0.31, -0.12, -0.49, -0.44,  0.11, -0.56, -0.21, -1.03,  1.8 ,\n",
       "       -0.08,  0.17, -0.6 , -0.17,  0.49,  0.04, -0.1 , -0.25, -0.79,\n",
       "       -0.61, -0.62, -0.52,  0.5 ,  0.58,  0.63, -0.3 ,  0.17, -0.1 ,\n",
       "        0.05, -0.08,  0.07, -0.09, -0.53,  0.02,  0.18,  0.66, -0.14,\n",
       "       -0.43,  1.04, -0.28,  0.09, -0.52, -0.65, -0.01, -0.38,  0.2 ,\n",
       "       -0.71, -0.45, -0.15, -0.57, -0.67,  0.25,  0.88,  0.09, -0.07,\n",
       "       -0.23,  0.12,  0.31,  0.42,  0.64, -0.4 , -0.02,  0.06, -0.14,\n",
       "        0.36,  0.3 ,  0.16,  0.19, -0.04,  0.61,  0.13,  0.43,  0.13,\n",
       "        0.17, -0.12,  0.2 , -0.22, -0.38,  0.14, -0.12,  0.39,  0.13,\n",
       "        0.95,  0.23, -0.21, -1.02,  0.1 ,  0.01, -0.48,  0.26, -0.23,\n",
       "        0.05,  0.24, -0.88, -0.42, -0.72,  0.33, -0.64, -0.14, -0.5 ,\n",
       "       -0.12, -0.4 , -0.5 ,  0.65, -0.03,  0.75,  0.19,  0.77,  0.09,\n",
       "       -1.02, -0.24, -0.12,  0.83,  0.72, -0.21,  0.43,  0.64, -1.09,\n",
       "       -0.04,  0.43,  0.67, -0.71,  0.68])"
      ]
     },
     "execution_count": 88,
     "metadata": {},
     "output_type": "execute_result"
    }
   ],
   "source": [
    "avg = 0\n",
    "std_dev = .5\n",
    "num_reps = 500\n",
    "pct_to_target = np.random.normal(avg, std_dev, num_reps).round(2)\n",
    "pct_to_target"
   ]
  },
  {
   "cell_type": "code",
   "execution_count": 89,
   "id": "7ac00fd7",
   "metadata": {},
   "outputs": [],
   "source": [
    "def estimate_average_slot_payout(n_runs):\n",
    "    # Play slot machine n_runs times, calculate payout of each\n",
    "    payouts = [play_slot_machine()-1 for i in range(n_runs)]\n",
    "    # Calculate the average value\n",
    "    avg_payout = sum(payouts) / n_runs\n",
    "    return avg_payout"
   ]
  },
  {
   "cell_type": "code",
   "execution_count": 90,
   "id": "779e6493",
   "metadata": {},
   "outputs": [
    {
     "ename": "NameError",
     "evalue": "name 'play_slot_machine' is not defined",
     "output_type": "error",
     "traceback": [
      "\u001b[0;31m---------------------------------------------------------------------------\u001b[0m",
      "\u001b[0;31mNameError\u001b[0m                                 Traceback (most recent call last)",
      "Input \u001b[0;32mIn [90]\u001b[0m, in \u001b[0;36m<cell line: 1>\u001b[0;34m()\u001b[0m\n\u001b[0;32m----> 1\u001b[0m \u001b[43mestimate_average_slot_payout\u001b[49m\u001b[43m(\u001b[49m\u001b[38;5;241;43m1000\u001b[39;49m\u001b[43m)\u001b[49m\n",
      "Input \u001b[0;32mIn [89]\u001b[0m, in \u001b[0;36mestimate_average_slot_payout\u001b[0;34m(n_runs)\u001b[0m\n\u001b[1;32m      1\u001b[0m \u001b[38;5;28;01mdef\u001b[39;00m \u001b[38;5;21mestimate_average_slot_payout\u001b[39m(n_runs):\n\u001b[1;32m      2\u001b[0m     \u001b[38;5;66;03m# Play slot machine n_runs times, calculate payout of each\u001b[39;00m\n\u001b[0;32m----> 3\u001b[0m     payouts \u001b[38;5;241m=\u001b[39m [play_slot_machine()\u001b[38;5;241m-\u001b[39m\u001b[38;5;241m1\u001b[39m \u001b[38;5;28;01mfor\u001b[39;00m i \u001b[38;5;129;01min\u001b[39;00m \u001b[38;5;28mrange\u001b[39m(n_runs)]\n\u001b[1;32m      4\u001b[0m     \u001b[38;5;66;03m# Calculate the average value\u001b[39;00m\n\u001b[1;32m      5\u001b[0m     avg_payout \u001b[38;5;241m=\u001b[39m \u001b[38;5;28msum\u001b[39m(payouts) \u001b[38;5;241m/\u001b[39m n_runs\n",
      "Input \u001b[0;32mIn [89]\u001b[0m, in \u001b[0;36m<listcomp>\u001b[0;34m(.0)\u001b[0m\n\u001b[1;32m      1\u001b[0m \u001b[38;5;28;01mdef\u001b[39;00m \u001b[38;5;21mestimate_average_slot_payout\u001b[39m(n_runs):\n\u001b[1;32m      2\u001b[0m     \u001b[38;5;66;03m# Play slot machine n_runs times, calculate payout of each\u001b[39;00m\n\u001b[0;32m----> 3\u001b[0m     payouts \u001b[38;5;241m=\u001b[39m [\u001b[43mplay_slot_machine\u001b[49m()\u001b[38;5;241m-\u001b[39m\u001b[38;5;241m1\u001b[39m \u001b[38;5;28;01mfor\u001b[39;00m i \u001b[38;5;129;01min\u001b[39;00m \u001b[38;5;28mrange\u001b[39m(n_runs)]\n\u001b[1;32m      4\u001b[0m     \u001b[38;5;66;03m# Calculate the average value\u001b[39;00m\n\u001b[1;32m      5\u001b[0m     avg_payout \u001b[38;5;241m=\u001b[39m \u001b[38;5;28msum\u001b[39m(payouts) \u001b[38;5;241m/\u001b[39m n_runs\n",
      "\u001b[0;31mNameError\u001b[0m: name 'play_slot_machine' is not defined"
     ]
    }
   ],
   "source": [
    "estimate_average_slot_payout(1000)"
   ]
  },
  {
   "cell_type": "code",
   "execution_count": null,
   "id": "4c232934",
   "metadata": {},
   "outputs": [],
   "source": []
  }
 ],
 "metadata": {
  "kernelspec": {
   "display_name": "Python 3",
   "language": "python",
   "name": "python3"
  },
  "language_info": {
   "codemirror_mode": {
    "name": "ipython",
    "version": 3
   },
   "file_extension": ".py",
   "mimetype": "text/x-python",
   "name": "python",
   "nbconvert_exporter": "python",
   "pygments_lexer": "ipython3",
   "version": "3.8.8"
  }
 },
 "nbformat": 4,
 "nbformat_minor": 5
}
