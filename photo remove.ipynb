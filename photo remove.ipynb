{
 "cells": [
  {
   "cell_type": "code",
   "execution_count": 2,
   "id": "57bfbd20",
   "metadata": {},
   "outputs": [],
   "source": [
    "from rembg import remove\n",
    "from PIL import Image"
   ]
  },
  {
   "cell_type": "code",
   "execution_count": 4,
   "id": "2fb383a1",
   "metadata": {},
   "outputs": [
    {
     "name": "stderr",
     "output_type": "stream",
     "text": [
      "Downloading...\n",
      "From: https://drive.google.com/uc?id=1tCU5MM1LhRgGou5OpmpjBQbSrYIUoYab\n",
      "To: /Users/brendan/.u2net/u2net.onnx\n",
      "100%|████████████████████████████████████████| 176M/176M [00:17<00:00, 10.4MB/s]\n"
     ]
    }
   ],
   "source": [
    "input_path = '/Users/brendan/Desktop/forrest.png'\n",
    "output_path = '/Users/brendan/Desktop/jedi.png'\n",
    "\n",
    "input = Image.open(input_path)\n",
    "output = remove(input)\n",
    "output.save(output_path)"
   ]
  },
  {
   "cell_type": "code",
   "execution_count": 12,
   "id": "42d30236",
   "metadata": {},
   "outputs": [],
   "source": [
    "input_path2 = '/Users/brendan/Desktop/r2d2.png'\n",
    "output_path2 = '/Users/brendan/Desktop/r2d2_solo.png'\n",
    "\n",
    "input = Image.open(input_path2)\n",
    "output = remove(input)\n",
    "output.save(output_path2)"
   ]
  },
  {
   "cell_type": "code",
   "execution_count": null,
   "id": "c39fc4fe",
   "metadata": {},
   "outputs": [],
   "source": []
  }
 ],
 "metadata": {
  "kernelspec": {
   "display_name": "py39",
   "language": "python",
   "name": "py39"
  },
  "language_info": {
   "codemirror_mode": {
    "name": "ipython",
    "version": 3
   },
   "file_extension": ".py",
   "mimetype": "text/x-python",
   "name": "python",
   "nbconvert_exporter": "python",
   "pygments_lexer": "ipython3",
   "version": "3.9.13"
  }
 },
 "nbformat": 4,
 "nbformat_minor": 5
}
