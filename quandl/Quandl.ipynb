{
 "cells": [
  {
   "cell_type": "code",
   "execution_count": 45,
   "id": "74c98899",
   "metadata": {},
   "outputs": [],
   "source": [
    "\n",
    "#API = 'Hu3ZHysZhH1VrPCHA6ym'"
   ]
  },
  {
   "cell_type": "code",
   "execution_count": 54,
   "id": "31da7e9f",
   "metadata": {},
   "outputs": [],
   "source": [
    "from datetime import date\n",
    "import quandl\n",
    "import numpy as np\n",
    "import pandas as pd\n",
    "quandl.ApiConfig.api_key = 'Hu3ZHysZhH1VrPCHA6ym'"
   ]
  },
  {
   "cell_type": "code",
   "execution_count": 42,
   "id": "7cd09a1e",
   "metadata": {},
   "outputs": [],
   "source": [
    "df = pd.read_csv('SHARADAR_SF1.csv')"
   ]
  },
  {
   "cell_type": "code",
   "execution_count": 44,
   "id": "e9a28515",
   "metadata": {},
   "outputs": [
    {
     "data": {
      "text/plain": [
       "526311"
      ]
     },
     "execution_count": 44,
     "metadata": {},
     "output_type": "execute_result"
    }
   ],
   "source": [
    "len(df)"
   ]
  },
  {
   "cell_type": "code",
   "execution_count": 46,
   "id": "e6704fea",
   "metadata": {},
   "outputs": [
    {
     "data": {
      "text/html": [
       "<div><div id=acb05111-df51-4cdb-aa9c-568f61918ab2 style=\"display:none; background-color:#9D6CFF; color:white; width:200px; height:30px; padding-left:5px; border-radius:4px; flex-direction:row; justify-content:space-around; align-items:center;\" onmouseover=\"this.style.backgroundColor='#BA9BF8'\" onmouseout=\"this.style.backgroundColor='#9D6CFF'\" onclick=\"window.commands?.execute('create-mitosheet-from-dataframe-output');\">See Full Dataframe in Mito</div> <script> if (window.commands.hasCommand('create-mitosheet-from-dataframe-output')) document.getElementById('acb05111-df51-4cdb-aa9c-568f61918ab2').style.display = 'flex' </script> <table border=\"1\" class=\"dataframe\">\n",
       "  <thead>\n",
       "    <tr style=\"text-align: right;\">\n",
       "      <th></th>\n",
       "      <th>ticker</th>\n",
       "      <th>dimension</th>\n",
       "      <th>calendardate</th>\n",
       "      <th>datekey</th>\n",
       "      <th>reportperiod</th>\n",
       "      <th>lastupdated</th>\n",
       "      <th>accoci</th>\n",
       "      <th>assets</th>\n",
       "      <th>assetsavg</th>\n",
       "      <th>assetsc</th>\n",
       "      <th>...</th>\n",
       "      <th>sharesbas</th>\n",
       "      <th>shareswa</th>\n",
       "      <th>shareswadil</th>\n",
       "      <th>sps</th>\n",
       "      <th>tangibles</th>\n",
       "      <th>taxassets</th>\n",
       "      <th>taxexp</th>\n",
       "      <th>taxliabilities</th>\n",
       "      <th>tbvps</th>\n",
       "      <th>workingcapital</th>\n",
       "    </tr>\n",
       "  </thead>\n",
       "  <tbody>\n",
       "    <tr>\n",
       "      <th>0</th>\n",
       "      <td>A</td>\n",
       "      <td>ARQ</td>\n",
       "      <td>2017-03-31</td>\n",
       "      <td>2017-06-06</td>\n",
       "      <td>2017-04-30</td>\n",
       "      <td>2022-03-03</td>\n",
       "      <td>-477000000.0</td>\n",
       "      <td>8.016000e+09</td>\n",
       "      <td>NaN</td>\n",
       "      <td>3.800000e+09</td>\n",
       "      <td>...</td>\n",
       "      <td>321337443.0</td>\n",
       "      <td>321000000.0</td>\n",
       "      <td>325000000.0</td>\n",
       "      <td>3.433</td>\n",
       "      <td>5.075000e+09</td>\n",
       "      <td>0.0</td>\n",
       "      <td>27000000.0</td>\n",
       "      <td>0.0</td>\n",
       "      <td>15.810</td>\n",
       "      <td>2.613000e+09</td>\n",
       "    </tr>\n",
       "    <tr>\n",
       "      <th>1</th>\n",
       "      <td>A</td>\n",
       "      <td>ARQ</td>\n",
       "      <td>2017-06-30</td>\n",
       "      <td>2017-09-06</td>\n",
       "      <td>2017-07-31</td>\n",
       "      <td>2022-03-03</td>\n",
       "      <td>-417000000.0</td>\n",
       "      <td>8.261000e+09</td>\n",
       "      <td>NaN</td>\n",
       "      <td>3.996000e+09</td>\n",
       "      <td>...</td>\n",
       "      <td>321828003.0</td>\n",
       "      <td>321000000.0</td>\n",
       "      <td>326000000.0</td>\n",
       "      <td>3.470</td>\n",
       "      <td>5.274000e+09</td>\n",
       "      <td>0.0</td>\n",
       "      <td>18000000.0</td>\n",
       "      <td>0.0</td>\n",
       "      <td>16.430</td>\n",
       "      <td>2.755000e+09</td>\n",
       "    </tr>\n",
       "    <tr>\n",
       "      <th>2</th>\n",
       "      <td>A</td>\n",
       "      <td>ARQ</td>\n",
       "      <td>2017-09-30</td>\n",
       "      <td>2017-12-21</td>\n",
       "      <td>2017-10-31</td>\n",
       "      <td>2022-03-03</td>\n",
       "      <td>-346000000.0</td>\n",
       "      <td>8.426000e+09</td>\n",
       "      <td>NaN</td>\n",
       "      <td>4.169000e+09</td>\n",
       "      <td>...</td>\n",
       "      <td>323018027.0</td>\n",
       "      <td>322000000.0</td>\n",
       "      <td>329000000.0</td>\n",
       "      <td>3.693</td>\n",
       "      <td>5.458000e+09</td>\n",
       "      <td>0.0</td>\n",
       "      <td>49000000.0</td>\n",
       "      <td>0.0</td>\n",
       "      <td>16.950</td>\n",
       "      <td>2.906000e+09</td>\n",
       "    </tr>\n",
       "    <tr>\n",
       "      <th>3</th>\n",
       "      <td>A</td>\n",
       "      <td>ARQ</td>\n",
       "      <td>2017-12-31</td>\n",
       "      <td>2018-03-06</td>\n",
       "      <td>2018-01-31</td>\n",
       "      <td>2022-03-03</td>\n",
       "      <td>-269000000.0</td>\n",
       "      <td>8.698000e+09</td>\n",
       "      <td>NaN</td>\n",
       "      <td>4.397000e+09</td>\n",
       "      <td>...</td>\n",
       "      <td>322476579.0</td>\n",
       "      <td>323000000.0</td>\n",
       "      <td>323000000.0</td>\n",
       "      <td>3.749</td>\n",
       "      <td>5.724000e+09</td>\n",
       "      <td>0.0</td>\n",
       "      <td>553000000.0</td>\n",
       "      <td>0.0</td>\n",
       "      <td>17.721</td>\n",
       "      <td>3.036000e+09</td>\n",
       "    </tr>\n",
       "    <tr>\n",
       "      <th>4</th>\n",
       "      <td>A</td>\n",
       "      <td>ARQ</td>\n",
       "      <td>2018-03-31</td>\n",
       "      <td>2018-05-31</td>\n",
       "      <td>2018-04-30</td>\n",
       "      <td>2022-03-03</td>\n",
       "      <td>-310000000.0</td>\n",
       "      <td>8.784000e+09</td>\n",
       "      <td>NaN</td>\n",
       "      <td>4.525000e+09</td>\n",
       "      <td>...</td>\n",
       "      <td>319952126.0</td>\n",
       "      <td>322000000.0</td>\n",
       "      <td>326000000.0</td>\n",
       "      <td>3.745</td>\n",
       "      <td>5.852000e+09</td>\n",
       "      <td>0.0</td>\n",
       "      <td>22000000.0</td>\n",
       "      <td>0.0</td>\n",
       "      <td>18.174</td>\n",
       "      <td>3.160000e+09</td>\n",
       "    </tr>\n",
       "  </tbody>\n",
       "</table></div>"
      ],
      "text/plain": [
       "  ticker dimension calendardate     datekey reportperiod lastupdated  \\\n",
       "0      A       ARQ   2017-03-31  2017-06-06   2017-04-30  2022-03-03   \n",
       "1      A       ARQ   2017-06-30  2017-09-06   2017-07-31  2022-03-03   \n",
       "2      A       ARQ   2017-09-30  2017-12-21   2017-10-31  2022-03-03   \n",
       "3      A       ARQ   2017-12-31  2018-03-06   2018-01-31  2022-03-03   \n",
       "4      A       ARQ   2018-03-31  2018-05-31   2018-04-30  2022-03-03   \n",
       "\n",
       "        accoci        assets  assetsavg       assetsc  ...    sharesbas  \\\n",
       "0 -477000000.0  8.016000e+09        NaN  3.800000e+09  ...  321337443.0   \n",
       "1 -417000000.0  8.261000e+09        NaN  3.996000e+09  ...  321828003.0   \n",
       "2 -346000000.0  8.426000e+09        NaN  4.169000e+09  ...  323018027.0   \n",
       "3 -269000000.0  8.698000e+09        NaN  4.397000e+09  ...  322476579.0   \n",
       "4 -310000000.0  8.784000e+09        NaN  4.525000e+09  ...  319952126.0   \n",
       "\n",
       "      shareswa  shareswadil    sps     tangibles  taxassets       taxexp  \\\n",
       "0  321000000.0  325000000.0  3.433  5.075000e+09        0.0   27000000.0   \n",
       "1  321000000.0  326000000.0  3.470  5.274000e+09        0.0   18000000.0   \n",
       "2  322000000.0  329000000.0  3.693  5.458000e+09        0.0   49000000.0   \n",
       "3  323000000.0  323000000.0  3.749  5.724000e+09        0.0  553000000.0   \n",
       "4  322000000.0  326000000.0  3.745  5.852000e+09        0.0   22000000.0   \n",
       "\n",
       "   taxliabilities   tbvps  workingcapital  \n",
       "0             0.0  15.810    2.613000e+09  \n",
       "1             0.0  16.430    2.755000e+09  \n",
       "2             0.0  16.950    2.906000e+09  \n",
       "3             0.0  17.721    3.036000e+09  \n",
       "4             0.0  18.174    3.160000e+09  \n",
       "\n",
       "[5 rows x 111 columns]"
      ]
     },
     "execution_count": 46,
     "metadata": {},
     "output_type": "execute_result"
    }
   ],
   "source": [
    "df.head()"
   ]
  },
  {
   "cell_type": "code",
   "execution_count": 47,
   "id": "03b0aea2",
   "metadata": {},
   "outputs": [
    {
     "data": {
      "text/plain": [
       "Index(['ticker', 'dimension', 'calendardate', 'datekey', 'reportperiod',\n",
       "       'lastupdated', 'accoci', 'assets', 'assetsavg', 'assetsc',\n",
       "       ...\n",
       "       'sharesbas', 'shareswa', 'shareswadil', 'sps', 'tangibles', 'taxassets',\n",
       "       'taxexp', 'taxliabilities', 'tbvps', 'workingcapital'],\n",
       "      dtype='object', length=111)"
      ]
     },
     "execution_count": 47,
     "metadata": {},
     "output_type": "execute_result"
    }
   ],
   "source": [
    "df.columns"
   ]
  },
  {
   "cell_type": "code",
   "execution_count": 50,
   "id": "cf595aa1",
   "metadata": {},
   "outputs": [
    {
     "data": {
      "text/plain": [
       "7787"
      ]
     },
     "execution_count": 50,
     "metadata": {},
     "output_type": "execute_result"
    }
   ],
   "source": [
    "len(df['ticker'].unique())"
   ]
  },
  {
   "cell_type": "code",
   "execution_count": 51,
   "id": "dd79a1f3",
   "metadata": {},
   "outputs": [],
   "source": [
    "df_daily = pd.read_csv('SHARADAR_EQUITY_DAILY.csv')"
   ]
  },
  {
   "cell_type": "code",
   "execution_count": 52,
   "id": "264ded70",
   "metadata": {},
   "outputs": [
    {
     "data": {
      "text/html": [
       "<div><div id=b40dd843-7027-4297-8abe-a9e40e05af20 style=\"display:none; background-color:#9D6CFF; color:white; width:200px; height:30px; padding-left:5px; border-radius:4px; flex-direction:row; justify-content:space-around; align-items:center;\" onmouseover=\"this.style.backgroundColor='#BA9BF8'\" onmouseout=\"this.style.backgroundColor='#9D6CFF'\" onclick=\"window.commands?.execute('create-mitosheet-from-dataframe-output');\">See Full Dataframe in Mito</div> <script> if (window.commands.hasCommand('create-mitosheet-from-dataframe-output')) document.getElementById('b40dd843-7027-4297-8abe-a9e40e05af20').style.display = 'flex' </script> <table border=\"1\" class=\"dataframe\">\n",
       "  <thead>\n",
       "    <tr style=\"text-align: right;\">\n",
       "      <th></th>\n",
       "      <th>ticker</th>\n",
       "      <th>date</th>\n",
       "      <th>open</th>\n",
       "      <th>high</th>\n",
       "      <th>low</th>\n",
       "      <th>close</th>\n",
       "      <th>volume</th>\n",
       "      <th>closeadj</th>\n",
       "      <th>closeunadj</th>\n",
       "      <th>lastupdated</th>\n",
       "    </tr>\n",
       "  </thead>\n",
       "  <tbody>\n",
       "    <tr>\n",
       "      <th>0</th>\n",
       "      <td>ABILF</td>\n",
       "      <td>2021-11-09</td>\n",
       "      <td>0.30</td>\n",
       "      <td>0.33</td>\n",
       "      <td>0.30</td>\n",
       "      <td>0.33</td>\n",
       "      <td>7500.0</td>\n",
       "      <td>0.33</td>\n",
       "      <td>0.33</td>\n",
       "      <td>2021-11-09</td>\n",
       "    </tr>\n",
       "    <tr>\n",
       "      <th>1</th>\n",
       "      <td>ABILF</td>\n",
       "      <td>2021-11-08</td>\n",
       "      <td>0.35</td>\n",
       "      <td>0.35</td>\n",
       "      <td>0.35</td>\n",
       "      <td>0.35</td>\n",
       "      <td>0.0</td>\n",
       "      <td>0.35</td>\n",
       "      <td>0.35</td>\n",
       "      <td>2021-11-09</td>\n",
       "    </tr>\n",
       "    <tr>\n",
       "      <th>2</th>\n",
       "      <td>AAC</td>\n",
       "      <td>2021-09-24</td>\n",
       "      <td>9.74</td>\n",
       "      <td>9.75</td>\n",
       "      <td>9.73</td>\n",
       "      <td>9.75</td>\n",
       "      <td>38502.0</td>\n",
       "      <td>9.75</td>\n",
       "      <td>9.75</td>\n",
       "      <td>2021-09-24</td>\n",
       "    </tr>\n",
       "    <tr>\n",
       "      <th>3</th>\n",
       "      <td>AAC.U</td>\n",
       "      <td>2021-09-24</td>\n",
       "      <td>9.95</td>\n",
       "      <td>9.95</td>\n",
       "      <td>9.90</td>\n",
       "      <td>9.90</td>\n",
       "      <td>2692.0</td>\n",
       "      <td>9.90</td>\n",
       "      <td>9.90</td>\n",
       "      <td>2021-09-24</td>\n",
       "    </tr>\n",
       "    <tr>\n",
       "      <th>4</th>\n",
       "      <td>AAC.WS</td>\n",
       "      <td>2021-09-24</td>\n",
       "      <td>0.92</td>\n",
       "      <td>0.92</td>\n",
       "      <td>0.87</td>\n",
       "      <td>0.89</td>\n",
       "      <td>38784.0</td>\n",
       "      <td>0.89</td>\n",
       "      <td>0.89</td>\n",
       "      <td>2021-09-24</td>\n",
       "    </tr>\n",
       "  </tbody>\n",
       "</table></div>"
      ],
      "text/plain": [
       "   ticker        date  open  high   low  close   volume  closeadj  closeunadj  \\\n",
       "0   ABILF  2021-11-09  0.30  0.33  0.30   0.33   7500.0      0.33        0.33   \n",
       "1   ABILF  2021-11-08  0.35  0.35  0.35   0.35      0.0      0.35        0.35   \n",
       "2     AAC  2021-09-24  9.74  9.75  9.73   9.75  38502.0      9.75        9.75   \n",
       "3   AAC.U  2021-09-24  9.95  9.95  9.90   9.90   2692.0      9.90        9.90   \n",
       "4  AAC.WS  2021-09-24  0.92  0.92  0.87   0.89  38784.0      0.89        0.89   \n",
       "\n",
       "  lastupdated  \n",
       "0  2021-11-09  \n",
       "1  2021-11-09  \n",
       "2  2021-09-24  \n",
       "3  2021-09-24  \n",
       "4  2021-09-24  "
      ]
     },
     "execution_count": 52,
     "metadata": {},
     "output_type": "execute_result"
    }
   ],
   "source": [
    "df_daily.head()"
   ]
  },
  {
   "cell_type": "code",
   "execution_count": 55,
   "id": "9cea1849",
   "metadata": {},
   "outputs": [
    {
     "ename": "LimitExceededError",
     "evalue": "This call exceeds the amount of data that quandl.get_table() allows.         Please use the following link in your browser, which will download the full results as         a CSV file: https://www.quandl.com/api/v3/datatables/SHARADAR/DAILY?qopts.export=true&api_key=Hu3ZHysZhH1VrPCHA6ym . See         our API documentation for more info:         https://docs.quandl.com/docs/in-depth-usage-1#section-download-an-entire-table",
     "output_type": "error",
     "traceback": [
      "\u001b[0;31m---------------------------------------------------------------------------\u001b[0m",
      "\u001b[0;31mLimitExceededError\u001b[0m                        Traceback (most recent call last)",
      "Input \u001b[0;32mIn [55]\u001b[0m, in \u001b[0;36m<cell line: 1>\u001b[0;34m()\u001b[0m\n\u001b[0;32m----> 1\u001b[0m data \u001b[38;5;241m=\u001b[39m \u001b[43mquandl\u001b[49m\u001b[38;5;241;43m.\u001b[39;49m\u001b[43mget_table\u001b[49m\u001b[43m(\u001b[49m\u001b[38;5;124;43m\"\u001b[39;49m\u001b[38;5;124;43mSHARADAR/DAILY\u001b[39;49m\u001b[38;5;124;43m\"\u001b[39;49m\u001b[43m,\u001b[49m\u001b[43m \u001b[49m\u001b[43mpaginate\u001b[49m\u001b[38;5;241;43m=\u001b[39;49m\u001b[38;5;28;43;01mTrue\u001b[39;49;00m\u001b[43m)\u001b[49m\n",
      "File \u001b[0;32m~/opt/anaconda3/lib/python3.8/site-packages/quandl/get_table.py:27\u001b[0m, in \u001b[0;36mget_table\u001b[0;34m(datatable_code, **options)\u001b[0m\n\u001b[1;32m     24\u001b[0m     data\u001b[38;5;241m.\u001b[39mextend(next_data)\n\u001b[1;32m     26\u001b[0m \u001b[38;5;28;01mif\u001b[39;00m page_count \u001b[38;5;241m>\u001b[39m\u001b[38;5;241m=\u001b[39m ApiConfig\u001b[38;5;241m.\u001b[39mpage_limit:\n\u001b[0;32m---> 27\u001b[0m     \u001b[38;5;28;01mraise\u001b[39;00m LimitExceededError(\n\u001b[1;32m     28\u001b[0m         Message\u001b[38;5;241m.\u001b[39mWARN_DATA_LIMIT_EXCEEDED \u001b[38;5;241m%\u001b[39m (datatable_code,\n\u001b[1;32m     29\u001b[0m                                             ApiConfig\u001b[38;5;241m.\u001b[39mapi_key\n\u001b[1;32m     30\u001b[0m                                             )\n\u001b[1;32m     31\u001b[0m     )\n\u001b[1;32m     33\u001b[0m next_cursor_id \u001b[38;5;241m=\u001b[39m next_data\u001b[38;5;241m.\u001b[39mmeta[\u001b[38;5;124m'\u001b[39m\u001b[38;5;124mnext_cursor_id\u001b[39m\u001b[38;5;124m'\u001b[39m]\n\u001b[1;32m     35\u001b[0m \u001b[38;5;28;01mif\u001b[39;00m next_cursor_id \u001b[38;5;129;01mis\u001b[39;00m \u001b[38;5;28;01mNone\u001b[39;00m:\n",
      "\u001b[0;31mLimitExceededError\u001b[0m: This call exceeds the amount of data that quandl.get_table() allows.         Please use the following link in your browser, which will download the full results as         a CSV file: https://www.quandl.com/api/v3/datatables/SHARADAR/DAILY?qopts.export=true&api_key=Hu3ZHysZhH1VrPCHA6ym . See         our API documentation for more info:         https://docs.quandl.com/docs/in-depth-usage-1#section-download-an-entire-table"
     ]
    }
   ],
   "source": [
    "data = quandl.get_table(\"SHARADAR/DAILY\", paginate=True)"
   ]
  },
  {
   "cell_type": "code",
   "execution_count": 59,
   "id": "4fd29f59",
   "metadata": {},
   "outputs": [],
   "source": [
    "df_raw = pd.read_csv('SHARADAR_DAILY_3_mcap.csv')\n"
   ]
  },
  {
   "cell_type": "code",
   "execution_count": 61,
   "id": "ba9c0937",
   "metadata": {},
   "outputs": [
    {
     "data": {
      "text/html": [
       "<div><div id=d04102f4-5a38-4eb0-91f0-a978a4b25e6e style=\"display:none; background-color:#9D6CFF; color:white; width:200px; height:30px; padding-left:5px; border-radius:4px; flex-direction:row; justify-content:space-around; align-items:center;\" onmouseover=\"this.style.backgroundColor='#BA9BF8'\" onmouseout=\"this.style.backgroundColor='#9D6CFF'\" onclick=\"window.commands?.execute('create-mitosheet-from-dataframe-output');\">See Full Dataframe in Mito</div> <script> if (window.commands.hasCommand('create-mitosheet-from-dataframe-output')) document.getElementById('d04102f4-5a38-4eb0-91f0-a978a4b25e6e').style.display = 'flex' </script> <table border=\"1\" class=\"dataframe\">\n",
       "  <thead>\n",
       "    <tr style=\"text-align: right;\">\n",
       "      <th></th>\n",
       "      <th>ticker</th>\n",
       "      <th>date</th>\n",
       "      <th>lastupdated</th>\n",
       "      <th>ev</th>\n",
       "      <th>evebit</th>\n",
       "      <th>evebitda</th>\n",
       "      <th>marketcap</th>\n",
       "      <th>pb</th>\n",
       "      <th>pe</th>\n",
       "      <th>ps</th>\n",
       "    </tr>\n",
       "  </thead>\n",
       "  <tbody>\n",
       "    <tr>\n",
       "      <th>7485591</th>\n",
       "      <td>WSCRF</td>\n",
       "      <td>2022-05-27</td>\n",
       "      <td>2022-05-30</td>\n",
       "      <td>60.9</td>\n",
       "      <td>-19.2</td>\n",
       "      <td>-19.2</td>\n",
       "      <td>62.5</td>\n",
       "      <td>1.9</td>\n",
       "      <td>-19.7</td>\n",
       "      <td>NaN</td>\n",
       "    </tr>\n",
       "    <tr>\n",
       "      <th>7485592</th>\n",
       "      <td>WSTL</td>\n",
       "      <td>2022-05-27</td>\n",
       "      <td>2022-05-30</td>\n",
       "      <td>0.2</td>\n",
       "      <td>-0.1</td>\n",
       "      <td>-0.1</td>\n",
       "      <td>13.6</td>\n",
       "      <td>0.6</td>\n",
       "      <td>-5.0</td>\n",
       "      <td>0.5</td>\n",
       "    </tr>\n",
       "    <tr>\n",
       "      <th>7485593</th>\n",
       "      <td>YAYO</td>\n",
       "      <td>2022-05-27</td>\n",
       "      <td>2022-05-30</td>\n",
       "      <td>27.7</td>\n",
       "      <td>-3.9</td>\n",
       "      <td>-5.4</td>\n",
       "      <td>28.6</td>\n",
       "      <td>3.6</td>\n",
       "      <td>-2.4</td>\n",
       "      <td>2.7</td>\n",
       "    </tr>\n",
       "    <tr>\n",
       "      <th>7485594</th>\n",
       "      <td>YGYI</td>\n",
       "      <td>2022-05-27</td>\n",
       "      <td>2022-05-30</td>\n",
       "      <td>26.6</td>\n",
       "      <td>-0.5</td>\n",
       "      <td>-0.6</td>\n",
       "      <td>5.8</td>\n",
       "      <td>0.2</td>\n",
       "      <td>-0.1</td>\n",
       "      <td>0.0</td>\n",
       "    </tr>\n",
       "    <tr>\n",
       "      <th>7485595</th>\n",
       "      <td>ZNOG</td>\n",
       "      <td>2022-05-27</td>\n",
       "      <td>2022-05-30</td>\n",
       "      <td>108.8</td>\n",
       "      <td>-10.6</td>\n",
       "      <td>-11.5</td>\n",
       "      <td>117.3</td>\n",
       "      <td>1.8</td>\n",
       "      <td>-11.4</td>\n",
       "      <td>NaN</td>\n",
       "    </tr>\n",
       "  </tbody>\n",
       "</table></div>"
      ],
      "text/plain": [
       "        ticker        date lastupdated     ev  evebit  evebitda  marketcap  \\\n",
       "7485591  WSCRF  2022-05-27  2022-05-30   60.9   -19.2     -19.2       62.5   \n",
       "7485592   WSTL  2022-05-27  2022-05-30    0.2    -0.1      -0.1       13.6   \n",
       "7485593   YAYO  2022-05-27  2022-05-30   27.7    -3.9      -5.4       28.6   \n",
       "7485594   YGYI  2022-05-27  2022-05-30   26.6    -0.5      -0.6        5.8   \n",
       "7485595   ZNOG  2022-05-27  2022-05-30  108.8   -10.6     -11.5      117.3   \n",
       "\n",
       "          pb    pe   ps  \n",
       "7485591  1.9 -19.7  NaN  \n",
       "7485592  0.6  -5.0  0.5  \n",
       "7485593  3.6  -2.4  2.7  \n",
       "7485594  0.2  -0.1  0.0  \n",
       "7485595  1.8 -11.4  NaN  "
      ]
     },
     "execution_count": 61,
     "metadata": {},
     "output_type": "execute_result"
    }
   ],
   "source": [
    "df_raw.tail()"
   ]
  },
  {
   "cell_type": "code",
   "execution_count": null,
   "id": "9781095c",
   "metadata": {},
   "outputs": [],
   "source": []
  }
 ],
 "metadata": {
  "kernelspec": {
   "display_name": "Python 3",
   "language": "python",
   "name": "python3"
  },
  "language_info": {
   "codemirror_mode": {
    "name": "ipython",
    "version": 3
   },
   "file_extension": ".py",
   "mimetype": "text/x-python",
   "name": "python",
   "nbconvert_exporter": "python",
   "pygments_lexer": "ipython3",
   "version": "3.8.8"
  }
 },
 "nbformat": 4,
 "nbformat_minor": 5
}
