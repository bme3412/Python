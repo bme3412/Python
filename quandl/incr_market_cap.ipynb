{
 "cells": [
  {
   "cell_type": "code",
   "execution_count": 268,
   "id": "9cbd545a",
   "metadata": {},
   "outputs": [],
   "source": [
    "import pandas as pd"
   ]
  },
  {
   "cell_type": "code",
   "execution_count": 269,
   "id": "dd22aba8",
   "metadata": {},
   "outputs": [],
   "source": [
    "df_raw = pd.read_csv('SP500_2019.csv')"
   ]
  },
  {
   "cell_type": "code",
   "execution_count": 270,
   "id": "986c112a",
   "metadata": {},
   "outputs": [],
   "source": [
    "df_raw['date'] = pd.to_datetime(df_raw['date'])"
   ]
  },
  {
   "cell_type": "code",
   "execution_count": 271,
   "id": "f74d4f8c",
   "metadata": {},
   "outputs": [],
   "source": [
    "df_raw['EPS'] = df_raw['close']/df_raw['pe']\n",
    "\n",
    "#df_raw['chg marketCap'] = df_raw.groupby('ticker')['marketcap'].diff().fillna(0)"
   ]
  },
  {
   "cell_type": "code",
   "execution_count": 272,
   "id": "36f1eac1",
   "metadata": {},
   "outputs": [],
   "source": [
    "#df_raw = df_raw[df_raw.columns[::-1]]"
   ]
  },
  {
   "cell_type": "code",
   "execution_count": 273,
   "id": "10051812",
   "metadata": {},
   "outputs": [],
   "source": [
    "df_AAPL = df_raw[df_raw['ticker']=='AAPL']\n",
    "df_AAPL = df_AAPL.sort_values('date')\n",
    "df_AAPL['chg_mCap'] = df_AAPL['marketcap'].diff()"
   ]
  },
  {
   "cell_type": "code",
   "execution_count": 274,
   "id": "547a0615",
   "metadata": {},
   "outputs": [
    {
     "data": {
      "text/html": [
       "<div><div id=5897869b-766e-4826-8072-0bd8a9d1c943 style=\"display:none; background-color:#9D6CFF; color:white; width:200px; height:30px; padding-left:5px; border-radius:4px; flex-direction:row; justify-content:space-around; align-items:center;\" onmouseover=\"this.style.backgroundColor='#BA9BF8'\" onmouseout=\"this.style.backgroundColor='#9D6CFF'\" onclick=\"window.commands?.execute('create-mitosheet-from-dataframe-output');\">See Full Dataframe in Mito</div> <script> if (window.commands.hasCommand('create-mitosheet-from-dataframe-output')) document.getElementById('5897869b-766e-4826-8072-0bd8a9d1c943').style.display = 'flex' </script> <table border=\"1\" class=\"dataframe\">\n",
       "  <thead>\n",
       "    <tr style=\"text-align: right;\">\n",
       "      <th></th>\n",
       "      <th>ticker</th>\n",
       "      <th>date</th>\n",
       "      <th>marketcap</th>\n",
       "      <th>ev</th>\n",
       "      <th>evebitda</th>\n",
       "      <th>pe</th>\n",
       "      <th>close</th>\n",
       "      <th>EPS</th>\n",
       "      <th>chg_mCap</th>\n",
       "    </tr>\n",
       "  </thead>\n",
       "  <tbody>\n",
       "    <tr>\n",
       "      <th>23966</th>\n",
       "      <td>AAPL</td>\n",
       "      <td>2019-01-02</td>\n",
       "      <td>749393.3</td>\n",
       "      <td>837963.3</td>\n",
       "      <td>9.6</td>\n",
       "      <td>12.6</td>\n",
       "      <td>39.480</td>\n",
       "      <td>3.133333</td>\n",
       "      <td>NaN</td>\n",
       "    </tr>\n",
       "    <tr>\n",
       "      <th>29565</th>\n",
       "      <td>AAPL</td>\n",
       "      <td>2019-01-03</td>\n",
       "      <td>674738.7</td>\n",
       "      <td>763308.7</td>\n",
       "      <td>8.8</td>\n",
       "      <td>11.3</td>\n",
       "      <td>35.547</td>\n",
       "      <td>3.145752</td>\n",
       "      <td>-74654.6</td>\n",
       "    </tr>\n",
       "    <tr>\n",
       "      <th>53241</th>\n",
       "      <td>AAPL</td>\n",
       "      <td>2019-01-04</td>\n",
       "      <td>703552.7</td>\n",
       "      <td>792122.7</td>\n",
       "      <td>9.1</td>\n",
       "      <td>11.8</td>\n",
       "      <td>37.065</td>\n",
       "      <td>3.141102</td>\n",
       "      <td>28814.0</td>\n",
       "    </tr>\n",
       "    <tr>\n",
       "      <th>32325</th>\n",
       "      <td>AAPL</td>\n",
       "      <td>2019-01-07</td>\n",
       "      <td>701996.2</td>\n",
       "      <td>790566.2</td>\n",
       "      <td>9.1</td>\n",
       "      <td>11.8</td>\n",
       "      <td>36.983</td>\n",
       "      <td>3.134153</td>\n",
       "      <td>-1556.5</td>\n",
       "    </tr>\n",
       "    <tr>\n",
       "      <th>84978</th>\n",
       "      <td>AAPL</td>\n",
       "      <td>2019-01-08</td>\n",
       "      <td>715378.2</td>\n",
       "      <td>803948.2</td>\n",
       "      <td>9.2</td>\n",
       "      <td>12.0</td>\n",
       "      <td>37.688</td>\n",
       "      <td>3.140667</td>\n",
       "      <td>13382.0</td>\n",
       "    </tr>\n",
       "  </tbody>\n",
       "</table></div>"
      ],
      "text/plain": [
       "      ticker       date  marketcap        ev  evebitda    pe   close  \\\n",
       "23966   AAPL 2019-01-02   749393.3  837963.3       9.6  12.6  39.480   \n",
       "29565   AAPL 2019-01-03   674738.7  763308.7       8.8  11.3  35.547   \n",
       "53241   AAPL 2019-01-04   703552.7  792122.7       9.1  11.8  37.065   \n",
       "32325   AAPL 2019-01-07   701996.2  790566.2       9.1  11.8  36.983   \n",
       "84978   AAPL 2019-01-08   715378.2  803948.2       9.2  12.0  37.688   \n",
       "\n",
       "            EPS  chg_mCap  \n",
       "23966  3.133333       NaN  \n",
       "29565  3.145752  -74654.6  \n",
       "53241  3.141102   28814.0  \n",
       "32325  3.134153   -1556.5  \n",
       "84978  3.140667   13382.0  "
      ]
     },
     "execution_count": 274,
     "metadata": {},
     "output_type": "execute_result"
    }
   ],
   "source": [
    "df_AAPL.head()"
   ]
  },
  {
   "cell_type": "code",
   "execution_count": 275,
   "id": "67710760",
   "metadata": {},
   "outputs": [],
   "source": [
    "\n",
    "df_raw = df_raw.sort_values('date')\n",
    "df_raw['chgMCap'] = df_raw.groupby('ticker')['marketcap'].diff().fillna(0)"
   ]
  },
  {
   "cell_type": "code",
   "execution_count": 276,
   "id": "ffd46a50",
   "metadata": {},
   "outputs": [],
   "source": [
    "amzn_raw = df_raw[df_raw['ticker']=='AMZN'].head()"
   ]
  },
  {
   "cell_type": "code",
   "execution_count": 277,
   "id": "252a5592",
   "metadata": {},
   "outputs": [
    {
     "data": {
      "text/html": [
       "<div><div id=80dff6ab-c31d-4782-ac9a-0df479bc3692 style=\"display:none; background-color:#9D6CFF; color:white; width:200px; height:30px; padding-left:5px; border-radius:4px; flex-direction:row; justify-content:space-around; align-items:center;\" onmouseover=\"this.style.backgroundColor='#BA9BF8'\" onmouseout=\"this.style.backgroundColor='#9D6CFF'\" onclick=\"window.commands?.execute('create-mitosheet-from-dataframe-output');\">See Full Dataframe in Mito</div> <script> if (window.commands.hasCommand('create-mitosheet-from-dataframe-output')) document.getElementById('80dff6ab-c31d-4782-ac9a-0df479bc3692').style.display = 'flex' </script> <table border=\"1\" class=\"dataframe\">\n",
       "  <thead>\n",
       "    <tr style=\"text-align: right;\">\n",
       "      <th></th>\n",
       "      <th>ticker</th>\n",
       "      <th>date</th>\n",
       "      <th>marketcap</th>\n",
       "      <th>ev</th>\n",
       "      <th>evebitda</th>\n",
       "      <th>pe</th>\n",
       "      <th>close</th>\n",
       "      <th>EPS</th>\n",
       "      <th>chgMCap</th>\n",
       "    </tr>\n",
       "  </thead>\n",
       "  <tbody>\n",
       "    <tr>\n",
       "      <th>28585</th>\n",
       "      <td>AMZN</td>\n",
       "      <td>2019-01-02</td>\n",
       "      <td>752586.3</td>\n",
       "      <td>756845.3</td>\n",
       "      <td>29.4</td>\n",
       "      <td>84.5</td>\n",
       "      <td>1539.13</td>\n",
       "      <td>18.214556</td>\n",
       "      <td>0.0</td>\n",
       "    </tr>\n",
       "    <tr>\n",
       "      <th>4268</th>\n",
       "      <td>GNRC</td>\n",
       "      <td>2019-01-02</td>\n",
       "      <td>3164.4</td>\n",
       "      <td>3937.7</td>\n",
       "      <td>10.3</td>\n",
       "      <td>13.0</td>\n",
       "      <td>50.99</td>\n",
       "      <td>3.922308</td>\n",
       "      <td>0.0</td>\n",
       "    </tr>\n",
       "    <tr>\n",
       "      <th>106595</th>\n",
       "      <td>ABMD</td>\n",
       "      <td>2019-01-02</td>\n",
       "      <td>13960.5</td>\n",
       "      <td>13884.1</td>\n",
       "      <td>67.2</td>\n",
       "      <td>73.3</td>\n",
       "      <td>309.96</td>\n",
       "      <td>4.228649</td>\n",
       "      <td>0.0</td>\n",
       "    </tr>\n",
       "    <tr>\n",
       "      <th>106596</th>\n",
       "      <td>ALLE</td>\n",
       "      <td>2019-01-02</td>\n",
       "      <td>7704.3</td>\n",
       "      <td>8960.5</td>\n",
       "      <td>14.9</td>\n",
       "      <td>24.7</td>\n",
       "      <td>81.05</td>\n",
       "      <td>3.281377</td>\n",
       "      <td>0.0</td>\n",
       "    </tr>\n",
       "    <tr>\n",
       "      <th>106597</th>\n",
       "      <td>ODFL</td>\n",
       "      <td>2019-01-02</td>\n",
       "      <td>10089.6</td>\n",
       "      <td>9957.1</td>\n",
       "      <td>10.3</td>\n",
       "      <td>15.7</td>\n",
       "      <td>82.28</td>\n",
       "      <td>5.240764</td>\n",
       "      <td>0.0</td>\n",
       "    </tr>\n",
       "  </tbody>\n",
       "</table></div>"
      ],
      "text/plain": [
       "       ticker       date  marketcap        ev  evebitda    pe    close  \\\n",
       "28585    AMZN 2019-01-02   752586.3  756845.3      29.4  84.5  1539.13   \n",
       "4268     GNRC 2019-01-02     3164.4    3937.7      10.3  13.0    50.99   \n",
       "106595   ABMD 2019-01-02    13960.5   13884.1      67.2  73.3   309.96   \n",
       "106596   ALLE 2019-01-02     7704.3    8960.5      14.9  24.7    81.05   \n",
       "106597   ODFL 2019-01-02    10089.6    9957.1      10.3  15.7    82.28   \n",
       "\n",
       "              EPS  chgMCap  \n",
       "28585   18.214556      0.0  \n",
       "4268     3.922308      0.0  \n",
       "106595   4.228649      0.0  \n",
       "106596   3.281377      0.0  \n",
       "106597   5.240764      0.0  "
      ]
     },
     "execution_count": 277,
     "metadata": {},
     "output_type": "execute_result"
    }
   ],
   "source": [
    "df_raw.head()"
   ]
  },
  {
   "cell_type": "code",
   "execution_count": 278,
   "id": "97d7e74e",
   "metadata": {},
   "outputs": [
    {
     "data": {
      "text/html": [
       "<div><div id=320f384a-1ca8-45f0-8144-15c18979a32c style=\"display:none; background-color:#9D6CFF; color:white; width:200px; height:30px; padding-left:5px; border-radius:4px; flex-direction:row; justify-content:space-around; align-items:center;\" onmouseover=\"this.style.backgroundColor='#BA9BF8'\" onmouseout=\"this.style.backgroundColor='#9D6CFF'\" onclick=\"window.commands?.execute('create-mitosheet-from-dataframe-output');\">See Full Dataframe in Mito</div> <script> if (window.commands.hasCommand('create-mitosheet-from-dataframe-output')) document.getElementById('320f384a-1ca8-45f0-8144-15c18979a32c').style.display = 'flex' </script> <table border=\"1\" class=\"dataframe\">\n",
       "  <thead>\n",
       "    <tr style=\"text-align: right;\">\n",
       "      <th></th>\n",
       "      <th>ticker</th>\n",
       "      <th>date</th>\n",
       "      <th>marketcap</th>\n",
       "      <th>ev</th>\n",
       "      <th>evebitda</th>\n",
       "      <th>pe</th>\n",
       "      <th>close</th>\n",
       "      <th>EPS</th>\n",
       "      <th>chgMCap</th>\n",
       "      <th>mCap_cumsum</th>\n",
       "    </tr>\n",
       "  </thead>\n",
       "  <tbody>\n",
       "    <tr>\n",
       "      <th>28585</th>\n",
       "      <td>AMZN</td>\n",
       "      <td>2019-01-02</td>\n",
       "      <td>752586.3</td>\n",
       "      <td>756845.3</td>\n",
       "      <td>29.4</td>\n",
       "      <td>84.5</td>\n",
       "      <td>1539.13</td>\n",
       "      <td>18.214556</td>\n",
       "      <td>0.0</td>\n",
       "      <td>0.0</td>\n",
       "    </tr>\n",
       "    <tr>\n",
       "      <th>4268</th>\n",
       "      <td>GNRC</td>\n",
       "      <td>2019-01-02</td>\n",
       "      <td>3164.4</td>\n",
       "      <td>3937.7</td>\n",
       "      <td>10.3</td>\n",
       "      <td>13.0</td>\n",
       "      <td>50.99</td>\n",
       "      <td>3.922308</td>\n",
       "      <td>0.0</td>\n",
       "      <td>0.0</td>\n",
       "    </tr>\n",
       "    <tr>\n",
       "      <th>106595</th>\n",
       "      <td>ABMD</td>\n",
       "      <td>2019-01-02</td>\n",
       "      <td>13960.5</td>\n",
       "      <td>13884.1</td>\n",
       "      <td>67.2</td>\n",
       "      <td>73.3</td>\n",
       "      <td>309.96</td>\n",
       "      <td>4.228649</td>\n",
       "      <td>0.0</td>\n",
       "      <td>0.0</td>\n",
       "    </tr>\n",
       "    <tr>\n",
       "      <th>106596</th>\n",
       "      <td>ALLE</td>\n",
       "      <td>2019-01-02</td>\n",
       "      <td>7704.3</td>\n",
       "      <td>8960.5</td>\n",
       "      <td>14.9</td>\n",
       "      <td>24.7</td>\n",
       "      <td>81.05</td>\n",
       "      <td>3.281377</td>\n",
       "      <td>0.0</td>\n",
       "      <td>0.0</td>\n",
       "    </tr>\n",
       "    <tr>\n",
       "      <th>106597</th>\n",
       "      <td>ODFL</td>\n",
       "      <td>2019-01-02</td>\n",
       "      <td>10089.6</td>\n",
       "      <td>9957.1</td>\n",
       "      <td>10.3</td>\n",
       "      <td>15.7</td>\n",
       "      <td>82.28</td>\n",
       "      <td>5.240764</td>\n",
       "      <td>0.0</td>\n",
       "      <td>0.0</td>\n",
       "    </tr>\n",
       "  </tbody>\n",
       "</table></div>"
      ],
      "text/plain": [
       "       ticker       date  marketcap        ev  evebitda    pe    close  \\\n",
       "28585    AMZN 2019-01-02   752586.3  756845.3      29.4  84.5  1539.13   \n",
       "4268     GNRC 2019-01-02     3164.4    3937.7      10.3  13.0    50.99   \n",
       "106595   ABMD 2019-01-02    13960.5   13884.1      67.2  73.3   309.96   \n",
       "106596   ALLE 2019-01-02     7704.3    8960.5      14.9  24.7    81.05   \n",
       "106597   ODFL 2019-01-02    10089.6    9957.1      10.3  15.7    82.28   \n",
       "\n",
       "              EPS  chgMCap  mCap_cumsum  \n",
       "28585   18.214556      0.0          0.0  \n",
       "4268     3.922308      0.0          0.0  \n",
       "106595   4.228649      0.0          0.0  \n",
       "106596   3.281377      0.0          0.0  \n",
       "106597   5.240764      0.0          0.0  "
      ]
     },
     "execution_count": 278,
     "metadata": {},
     "output_type": "execute_result"
    }
   ],
   "source": [
    "df_raw['mCap_cumsum'] = df_raw.groupby(['ticker'])['chgMCap'].cumsum()\n",
    "\n",
    "#df_raw['mCap_ytd'] = df_raw['chgMCap']/df_raw.groupby('ticker')['marketcap'][0]\n",
    "df_raw.head()"
   ]
  },
  {
   "cell_type": "code",
   "execution_count": null,
   "id": "16aed36d",
   "metadata": {},
   "outputs": [],
   "source": [
    "\n"
   ]
  },
  {
   "cell_type": "code",
   "execution_count": 279,
   "id": "ee7341e4",
   "metadata": {},
   "outputs": [],
   "source": [
    "df_raw['mCap_ytd'] = (df_raw['mCap_cumsum']/df_raw['marketcap'].iloc[0])*100"
   ]
  },
  {
   "cell_type": "code",
   "execution_count": 280,
   "id": "d080f5e0",
   "metadata": {},
   "outputs": [],
   "source": [
    "df_ytd = df_raw[df_raw['date']=='2019-12-31'].sort_values('mCap_ytd',ascending=False)\n",
    "df_ytd_all = df_raw.sort_values(['date','mCap_ytd'],ascending=[False,False])"
   ]
  },
  {
   "cell_type": "code",
   "execution_count": 281,
   "id": "61298d2d",
   "metadata": {},
   "outputs": [
    {
     "data": {
      "text/html": [
       "<div><div id=da46bf62-cced-474a-9cc6-a036d1c15765 style=\"display:none; background-color:#9D6CFF; color:white; width:200px; height:30px; padding-left:5px; border-radius:4px; flex-direction:row; justify-content:space-around; align-items:center;\" onmouseover=\"this.style.backgroundColor='#BA9BF8'\" onmouseout=\"this.style.backgroundColor='#9D6CFF'\" onclick=\"window.commands?.execute('create-mitosheet-from-dataframe-output');\">See Full Dataframe in Mito</div> <script> if (window.commands.hasCommand('create-mitosheet-from-dataframe-output')) document.getElementById('da46bf62-cced-474a-9cc6-a036d1c15765').style.display = 'flex' </script> <table border=\"1\" class=\"dataframe\">\n",
       "  <thead>\n",
       "    <tr style=\"text-align: right;\">\n",
       "      <th></th>\n",
       "      <th>ticker</th>\n",
       "      <th>date</th>\n",
       "      <th>marketcap</th>\n",
       "      <th>ev</th>\n",
       "      <th>evebitda</th>\n",
       "      <th>pe</th>\n",
       "      <th>close</th>\n",
       "      <th>EPS</th>\n",
       "      <th>chgMCap</th>\n",
       "      <th>mCap_cumsum</th>\n",
       "      <th>mCap_ytd</th>\n",
       "    </tr>\n",
       "  </thead>\n",
       "  <tbody>\n",
       "    <tr>\n",
       "      <th>9</th>\n",
       "      <td>AAPL</td>\n",
       "      <td>2019-12-31</td>\n",
       "      <td>1304755.9</td>\n",
       "      <td>1363958.9</td>\n",
       "      <td>16.7</td>\n",
       "      <td>23.6</td>\n",
       "      <td>73.412</td>\n",
       "      <td>3.110678</td>\n",
       "      <td>9455.3</td>\n",
       "      <td>555362.6</td>\n",
       "      <td>73.793876</td>\n",
       "    </tr>\n",
       "    <tr>\n",
       "      <th>225</th>\n",
       "      <td>MSFT</td>\n",
       "      <td>2019-12-31</td>\n",
       "      <td>1203062.6</td>\n",
       "      <td>1142580.6</td>\n",
       "      <td>18.8</td>\n",
       "      <td>29.3</td>\n",
       "      <td>157.700</td>\n",
       "      <td>5.382253</td>\n",
       "      <td>839.1</td>\n",
       "      <td>426843.4</td>\n",
       "      <td>56.716871</td>\n",
       "    </tr>\n",
       "    <tr>\n",
       "      <th>121</th>\n",
       "      <td>FB</td>\n",
       "      <td>2019-12-31</td>\n",
       "      <td>585321.0</td>\n",
       "      <td>578474.0</td>\n",
       "      <td>19.9</td>\n",
       "      <td>32.5</td>\n",
       "      <td>205.250</td>\n",
       "      <td>6.315385</td>\n",
       "      <td>2395.5</td>\n",
       "      <td>195405.5</td>\n",
       "      <td>25.964531</td>\n",
       "    </tr>\n",
       "    <tr>\n",
       "      <th>142</th>\n",
       "      <td>GOOGL</td>\n",
       "      <td>2019-12-31</td>\n",
       "      <td>923760.5</td>\n",
       "      <td>921476.5</td>\n",
       "      <td>18.4</td>\n",
       "      <td>28.3</td>\n",
       "      <td>1339.390</td>\n",
       "      <td>47.328269</td>\n",
       "      <td>-220.7</td>\n",
       "      <td>190266.4</td>\n",
       "      <td>25.281672</td>\n",
       "    </tr>\n",
       "    <tr>\n",
       "      <th>25</th>\n",
       "      <td>AMZN</td>\n",
       "      <td>2019-12-31</td>\n",
       "      <td>916153.9</td>\n",
       "      <td>952428.9</td>\n",
       "      <td>27.5</td>\n",
       "      <td>80.7</td>\n",
       "      <td>1847.840</td>\n",
       "      <td>22.897646</td>\n",
       "      <td>471.0</td>\n",
       "      <td>163567.6</td>\n",
       "      <td>21.734066</td>\n",
       "    </tr>\n",
       "  </tbody>\n",
       "</table></div>"
      ],
      "text/plain": [
       "    ticker       date  marketcap         ev  evebitda    pe     close  \\\n",
       "9     AAPL 2019-12-31  1304755.9  1363958.9      16.7  23.6    73.412   \n",
       "225   MSFT 2019-12-31  1203062.6  1142580.6      18.8  29.3   157.700   \n",
       "121     FB 2019-12-31   585321.0   578474.0      19.9  32.5   205.250   \n",
       "142  GOOGL 2019-12-31   923760.5   921476.5      18.4  28.3  1339.390   \n",
       "25    AMZN 2019-12-31   916153.9   952428.9      27.5  80.7  1847.840   \n",
       "\n",
       "           EPS  chgMCap  mCap_cumsum   mCap_ytd  \n",
       "9     3.110678   9455.3     555362.6  73.793876  \n",
       "225   5.382253    839.1     426843.4  56.716871  \n",
       "121   6.315385   2395.5     195405.5  25.964531  \n",
       "142  47.328269   -220.7     190266.4  25.281672  \n",
       "25   22.897646    471.0     163567.6  21.734066  "
      ]
     },
     "execution_count": 281,
     "metadata": {},
     "output_type": "execute_result"
    }
   ],
   "source": [
    "df_ytd_all.head()"
   ]
  },
  {
   "cell_type": "code",
   "execution_count": 282,
   "id": "449bdcd7",
   "metadata": {},
   "outputs": [
    {
     "data": {
      "text/plain": [
       "9       AAPL\n",
       "225     MSFT\n",
       "121       FB\n",
       "142    GOOGL\n",
       "25      AMZN\n",
       "Name: ticker, dtype: object"
      ]
     },
     "execution_count": 282,
     "metadata": {},
     "output_type": "execute_result"
    }
   ],
   "source": [
    "#top 25\n",
    "top25 = df_ytd_all['ticker'].head(25)\n",
    "top25.head()"
   ]
  },
  {
   "cell_type": "code",
   "execution_count": 283,
   "id": "d3403831",
   "metadata": {},
   "outputs": [
    {
     "data": {
      "text/plain": [
       "6300"
      ]
     },
     "execution_count": 283,
     "metadata": {},
     "output_type": "execute_result"
    }
   ],
   "source": [
    "df_ytd_top25_2019 = df_ytd_all[df_ytd_all['ticker'].isin(top25)]\n",
    "len(df_ytd_top25_2019)"
   ]
  },
  {
   "cell_type": "code",
   "execution_count": 284,
   "id": "0fab3e28",
   "metadata": {},
   "outputs": [
    {
     "name": "stderr",
     "output_type": "stream",
     "text": [
      "<ipython-input-284-d49a1b11703d>:1: SettingWithCopyWarning: \n",
      "A value is trying to be set on a copy of a slice from a DataFrame.\n",
      "Try using .loc[row_indexer,col_indexer] = value instead\n",
      "\n",
      "See the caveats in the documentation: https://pandas.pydata.org/pandas-docs/stable/user_guide/indexing.html#returning-a-view-versus-a-copy\n",
      "  df_ytd_top25_2019['ytd_%'] = df_ytd_top25_2019['mCap_ytd']/100\n"
     ]
    }
   ],
   "source": [
    "df_ytd_top25_2019['ytd_%'] = df_ytd_top25_2019['mCap_ytd']/100"
   ]
  },
  {
   "cell_type": "code",
   "execution_count": 285,
   "id": "03017626",
   "metadata": {},
   "outputs": [],
   "source": [
    "df_ytd_top25_2019.to_csv('top25_2019.csv')\n",
    "df_ytd_top25_2019.to_excel('top25_2019.xlsx')"
   ]
  },
  {
   "cell_type": "code",
   "execution_count": 286,
   "id": "c5ffdae8",
   "metadata": {},
   "outputs": [
    {
     "data": {
      "text/html": [
       "<div><div id=fb0f0118-0db3-494e-b342-b0f3c087f863 style=\"display:none; background-color:#9D6CFF; color:white; width:200px; height:30px; padding-left:5px; border-radius:4px; flex-direction:row; justify-content:space-around; align-items:center;\" onmouseover=\"this.style.backgroundColor='#BA9BF8'\" onmouseout=\"this.style.backgroundColor='#9D6CFF'\" onclick=\"window.commands?.execute('create-mitosheet-from-dataframe-output');\">See Full Dataframe in Mito</div> <script> if (window.commands.hasCommand('create-mitosheet-from-dataframe-output')) document.getElementById('fb0f0118-0db3-494e-b342-b0f3c087f863').style.display = 'flex' </script> <table border=\"1\" class=\"dataframe\">\n",
       "  <thead>\n",
       "    <tr style=\"text-align: right;\">\n",
       "      <th></th>\n",
       "      <th>ticker</th>\n",
       "      <th>date</th>\n",
       "      <th>marketcap</th>\n",
       "      <th>ev</th>\n",
       "      <th>evebitda</th>\n",
       "      <th>pe</th>\n",
       "      <th>close</th>\n",
       "      <th>EPS</th>\n",
       "      <th>chgMCap</th>\n",
       "      <th>mCap_cumsum</th>\n",
       "      <th>mCap_ytd</th>\n",
       "      <th>ytd_%</th>\n",
       "    </tr>\n",
       "  </thead>\n",
       "  <tbody>\n",
       "    <tr>\n",
       "      <th>9</th>\n",
       "      <td>AAPL</td>\n",
       "      <td>2019-12-31</td>\n",
       "      <td>1304755.9</td>\n",
       "      <td>1363958.9</td>\n",
       "      <td>16.7</td>\n",
       "      <td>23.6</td>\n",
       "      <td>73.412</td>\n",
       "      <td>3.110678</td>\n",
       "      <td>9455.3</td>\n",
       "      <td>555362.6</td>\n",
       "      <td>73.793876</td>\n",
       "      <td>0.737939</td>\n",
       "    </tr>\n",
       "    <tr>\n",
       "      <th>225</th>\n",
       "      <td>MSFT</td>\n",
       "      <td>2019-12-31</td>\n",
       "      <td>1203062.6</td>\n",
       "      <td>1142580.6</td>\n",
       "      <td>18.8</td>\n",
       "      <td>29.3</td>\n",
       "      <td>157.700</td>\n",
       "      <td>5.382253</td>\n",
       "      <td>839.1</td>\n",
       "      <td>426843.4</td>\n",
       "      <td>56.716871</td>\n",
       "      <td>0.567169</td>\n",
       "    </tr>\n",
       "    <tr>\n",
       "      <th>121</th>\n",
       "      <td>FB</td>\n",
       "      <td>2019-12-31</td>\n",
       "      <td>585321.0</td>\n",
       "      <td>578474.0</td>\n",
       "      <td>19.9</td>\n",
       "      <td>32.5</td>\n",
       "      <td>205.250</td>\n",
       "      <td>6.315385</td>\n",
       "      <td>2395.5</td>\n",
       "      <td>195405.5</td>\n",
       "      <td>25.964531</td>\n",
       "      <td>0.259645</td>\n",
       "    </tr>\n",
       "    <tr>\n",
       "      <th>142</th>\n",
       "      <td>GOOGL</td>\n",
       "      <td>2019-12-31</td>\n",
       "      <td>923760.5</td>\n",
       "      <td>921476.5</td>\n",
       "      <td>18.4</td>\n",
       "      <td>28.3</td>\n",
       "      <td>1339.390</td>\n",
       "      <td>47.328269</td>\n",
       "      <td>-220.7</td>\n",
       "      <td>190266.4</td>\n",
       "      <td>25.281672</td>\n",
       "      <td>0.252817</td>\n",
       "    </tr>\n",
       "    <tr>\n",
       "      <th>25</th>\n",
       "      <td>AMZN</td>\n",
       "      <td>2019-12-31</td>\n",
       "      <td>916153.9</td>\n",
       "      <td>952428.9</td>\n",
       "      <td>27.5</td>\n",
       "      <td>80.7</td>\n",
       "      <td>1847.840</td>\n",
       "      <td>22.897646</td>\n",
       "      <td>471.0</td>\n",
       "      <td>163567.6</td>\n",
       "      <td>21.734066</td>\n",
       "      <td>0.217341</td>\n",
       "    </tr>\n",
       "  </tbody>\n",
       "</table></div>"
      ],
      "text/plain": [
       "    ticker       date  marketcap         ev  evebitda    pe     close  \\\n",
       "9     AAPL 2019-12-31  1304755.9  1363958.9      16.7  23.6    73.412   \n",
       "225   MSFT 2019-12-31  1203062.6  1142580.6      18.8  29.3   157.700   \n",
       "121     FB 2019-12-31   585321.0   578474.0      19.9  32.5   205.250   \n",
       "142  GOOGL 2019-12-31   923760.5   921476.5      18.4  28.3  1339.390   \n",
       "25    AMZN 2019-12-31   916153.9   952428.9      27.5  80.7  1847.840   \n",
       "\n",
       "           EPS  chgMCap  mCap_cumsum   mCap_ytd     ytd_%  \n",
       "9     3.110678   9455.3     555362.6  73.793876  0.737939  \n",
       "225   5.382253    839.1     426843.4  56.716871  0.567169  \n",
       "121   6.315385   2395.5     195405.5  25.964531  0.259645  \n",
       "142  47.328269   -220.7     190266.4  25.281672  0.252817  \n",
       "25   22.897646    471.0     163567.6  21.734066  0.217341  "
      ]
     },
     "execution_count": 286,
     "metadata": {},
     "output_type": "execute_result"
    }
   ],
   "source": [
    "df_ytd_top25_2019.head()"
   ]
  },
  {
   "cell_type": "markdown",
   "id": "f51b4211",
   "metadata": {},
   "source": [
    " ## 2020"
   ]
  },
  {
   "cell_type": "code",
   "execution_count": 289,
   "id": "375ce275",
   "metadata": {},
   "outputs": [
    {
     "name": "stderr",
     "output_type": "stream",
     "text": [
      "<ipython-input-289-413ca6b5b06f>:14: SettingWithCopyWarning: \n",
      "A value is trying to be set on a copy of a slice from a DataFrame.\n",
      "Try using .loc[row_indexer,col_indexer] = value instead\n",
      "\n",
      "See the caveats in the documentation: https://pandas.pydata.org/pandas-docs/stable/user_guide/indexing.html#returning-a-view-versus-a-copy\n",
      "  df_ytd_top25_2020['ytd_%'] = df_ytd_top25_2020['mCap_ytd']/100\n"
     ]
    }
   ],
   "source": [
    "df_raw_2020 = pd.read_csv('SP500_2020.csv')\n",
    "df_raw_2020['date'] = pd.to_datetime(df_raw_2020['date'])\n",
    "df_raw_2020['EPS'] = df_raw_2020['close']/df_raw_2020['pe']\n",
    "\n",
    "df_raw_2020 = df_raw_2020.sort_values('date')\n",
    "df_raw_2020['chgMCap'] = df_raw_2020.groupby('ticker')['marketcap'].diff().fillna(0)\n",
    "df_raw_2020['mCap_cumsum'] = df_raw_2020.groupby(['ticker'])['chgMCap'].cumsum()\n",
    "df_raw_2020['mCap_ytd'] = (df_raw_2020['mCap_cumsum']/df_raw_2020['marketcap'].iloc[0])*100\n",
    "\n",
    "df_ytd_2020 = df_raw_2020[df_raw_2020['date']=='2020-12-31'].sort_values('mCap_ytd',ascending=False)\n",
    "df_ytd_all_2020 = df_raw_2020.sort_values(['date','mCap_ytd'],ascending=[False,False])\n",
    "top25_2020 = df_ytd_all_2020['ticker'].head(25)\n",
    "df_ytd_top25_2020 = df_ytd_all_2020[df_ytd_all_2020['ticker'].isin(top25_2020)]\n",
    "df_ytd_top25_2020['ytd_%'] = df_ytd_top25_2020['mCap_ytd']/100\n",
    "df_ytd_top25_2020.to_csv('top25_2020.csv')\n",
    "df_ytd_top25_2020.to_excel('top25_2020.xlsx')"
   ]
  },
  {
   "cell_type": "code",
   "execution_count": 291,
   "id": "921147c8",
   "metadata": {},
   "outputs": [
    {
     "name": "stderr",
     "output_type": "stream",
     "text": [
      "<ipython-input-291-02d4a1d44fcf>:14: SettingWithCopyWarning: \n",
      "A value is trying to be set on a copy of a slice from a DataFrame.\n",
      "Try using .loc[row_indexer,col_indexer] = value instead\n",
      "\n",
      "See the caveats in the documentation: https://pandas.pydata.org/pandas-docs/stable/user_guide/indexing.html#returning-a-view-versus-a-copy\n",
      "  df_ytd_top25_2021['ytd_%'] = df_ytd_top25_2021['mCap_ytd']/100\n"
     ]
    }
   ],
   "source": [
    "df_raw_2021 = pd.read_csv('SP500_2021.csv')\n",
    "df_raw_2021['date'] = pd.to_datetime(df_raw_2021['date'])\n",
    "df_raw_2021['EPS'] = df_raw_2021['close']/df_raw_2021['pe']\n",
    "\n",
    "df_raw_2021 = df_raw_2021.sort_values('date')\n",
    "df_raw_2021['chgMCap'] = df_raw_2021.groupby('ticker')['marketcap'].diff().fillna(0)\n",
    "df_raw_2021['mCap_cumsum'] = df_raw_2021.groupby(['ticker'])['chgMCap'].cumsum()\n",
    "df_raw_2021['mCap_ytd'] = (df_raw_2021['mCap_cumsum']/df_raw_2021['marketcap'].iloc[0])*100\n",
    "\n",
    "df_ytd_2021 = df_raw_2021[df_raw_2021['date']=='2021-12-31'].sort_values('mCap_ytd',ascending=False)\n",
    "df_ytd_all_2021 = df_raw_2021.sort_values(['date','mCap_ytd'],ascending=[False,False])\n",
    "top25_2021 = df_ytd_all_2021['ticker'].head(25)\n",
    "df_ytd_top25_2021 = df_ytd_all_2021[df_ytd_all_2021['ticker'].isin(top25_2021)]\n",
    "df_ytd_top25_2021['ytd_%'] = df_ytd_top25_2021['mCap_ytd']/100\n",
    "df_ytd_top25_2021.to_csv('top25_2021.csv')\n",
    "df_ytd_top25_2021.to_excel('top25_2021.xlsx')"
   ]
  },
  {
   "cell_type": "code",
   "execution_count": 292,
   "id": "805b87da",
   "metadata": {},
   "outputs": [
    {
     "name": "stderr",
     "output_type": "stream",
     "text": [
      "<ipython-input-292-9da8dfcc52ca>:14: SettingWithCopyWarning: \n",
      "A value is trying to be set on a copy of a slice from a DataFrame.\n",
      "Try using .loc[row_indexer,col_indexer] = value instead\n",
      "\n",
      "See the caveats in the documentation: https://pandas.pydata.org/pandas-docs/stable/user_guide/indexing.html#returning-a-view-versus-a-copy\n",
      "  df_ytd_top25_2018['ytd_%'] = df_ytd_top25_2018['mCap_ytd']/100\n"
     ]
    }
   ],
   "source": [
    "df_raw_2018 = pd.read_csv('SP500_2018.csv')\n",
    "df_raw_2018['date'] = pd.to_datetime(df_raw_2018['date'])\n",
    "df_raw_2018['EPS'] = df_raw_2018['close']/df_raw_2018['pe']\n",
    "\n",
    "df_raw_2018 = df_raw_2018.sort_values('date')\n",
    "df_raw_2018['chgMCap'] = df_raw_2018.groupby('ticker')['marketcap'].diff().fillna(0)\n",
    "df_raw_2018['mCap_cumsum'] = df_raw_2018.groupby(['ticker'])['chgMCap'].cumsum()\n",
    "df_raw_2018['mCap_ytd'] = (df_raw_2018['mCap_cumsum']/df_raw_2018['marketcap'].iloc[0])*100\n",
    "\n",
    "df_ytd_2018 = df_raw_2018[df_raw_2018['date']=='2018-12-31'].sort_values('mCap_ytd',ascending=False)\n",
    "df_ytd_all_2018 = df_raw_2018.sort_values(['date','mCap_ytd'],ascending=[False,False])\n",
    "top25_2018 = df_ytd_all_2018['ticker'].head(25)\n",
    "df_ytd_top25_2018 = df_ytd_all_2018[df_ytd_all_2018['ticker'].isin(top25_2018)]\n",
    "df_ytd_top25_2018['ytd_%'] = df_ytd_top25_2018['mCap_ytd']/100\n",
    "df_ytd_top25_2018.to_csv('top25_2018.csv')\n",
    "df_ytd_top25_2018.to_excel('top25_2018.xlsx')"
   ]
  },
  {
   "cell_type": "code",
   "execution_count": null,
   "id": "54b289fd",
   "metadata": {},
   "outputs": [],
   "source": []
  }
 ],
 "metadata": {
  "kernelspec": {
   "display_name": "Python 3",
   "language": "python",
   "name": "python3"
  },
  "language_info": {
   "codemirror_mode": {
    "name": "ipython",
    "version": 3
   },
   "file_extension": ".py",
   "mimetype": "text/x-python",
   "name": "python",
   "nbconvert_exporter": "python",
   "pygments_lexer": "ipython3",
   "version": "3.8.8"
  }
 },
 "nbformat": 4,
 "nbformat_minor": 5
}
