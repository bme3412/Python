{
 "cells": [
  {
   "cell_type": "code",
   "execution_count": null,
   "id": "da6ea138",
   "metadata": {},
   "outputs": [],
   "source": []
  },
  {
   "cell_type": "markdown",
   "id": "abfa7aa5",
   "metadata": {},
   "source": [
    "## Module 1.1: Distributions and Random Processes"
   ]
  },
  {
   "cell_type": "markdown",
   "id": "58497ea0",
   "metadata": {},
   "source": [
    "### 1.1.4 Normality Tests"
   ]
  },
  {
   "cell_type": "markdown",
   "id": "9ae65d5f",
   "metadata": {},
   "source": [
    "When analyzing data on the assumption it is normally distributed, should test that assumptions first. Properties of normal distributions do not necessarilly apply to data that has a different underlying distribution. Example: an **`ANOVA test`** assumes normality in the data.\n"
   ]
  },
  {
   "cell_type": "markdown",
   "id": "22d660b6",
   "metadata": {},
   "source": [
    "There are a number of normality tests that provide a way to determine if it is likely the data comes from a normal distribution."
   ]
  },
  {
   "cell_type": "markdown",
   "id": "dd5c05bc",
   "metadata": {},
   "source": [
    "One method of testing for normality is to compute the skew and kurtosis of the data. A **standard normal distribution** has a **`skew of 0`** and a **`kurtosis of 3`**"
   ]
  },
  {
   "cell_type": "code",
   "execution_count": 1,
   "id": "81ca28f8",
   "metadata": {},
   "outputs": [],
   "source": [
    "import pandas as pd\n",
    "AAPL_df_2020 = pd.read_csv('/Users/brendan/Desktop/Python/June 2022/AAPL_2020.csv')\n",
    "AAPL_df_2020['Gain'] = AAPL_df_2020['close'].diff()\n",
    "AAPL_df_2020.dropna(inplace=True)"
   ]
  },
  {
   "cell_type": "code",
   "execution_count": 2,
   "id": "bf5b46c5",
   "metadata": {},
   "outputs": [
    {
     "data": {
      "text/plain": [
       "0.23824193868443833"
      ]
     },
     "execution_count": 2,
     "metadata": {},
     "output_type": "execute_result"
    }
   ],
   "source": [
    "from scipy import stats\n",
    "stats.skew(AAPL_df_2020['Gain'])"
   ]
  },
  {
   "cell_type": "code",
   "execution_count": 3,
   "id": "c7780cc7",
   "metadata": {},
   "outputs": [
    {
     "data": {
      "text/plain": [
       "2.333720024369075"
      ]
     },
     "execution_count": 3,
     "metadata": {},
     "output_type": "execute_result"
    }
   ],
   "source": [
    "stats.kurtosis(AAPL_df_2020['Gain'])"
   ]
  },
  {
   "cell_type": "markdown",
   "id": "df8cc669",
   "metadata": {},
   "source": [
    "The AAPL stock price increased do not appear to have a normal distribution based on this data. Let's have a look at the histogram again."
   ]
  },
  {
   "cell_type": "code",
   "execution_count": 4,
   "id": "16008348",
   "metadata": {},
   "outputs": [
    {
     "data": {
      "text/html": [
       "\n",
       "<div id=\"altair-viz-96f47135a68546a78c25eea1f40e5616\"></div>\n",
       "<script type=\"text/javascript\">\n",
       "  (function(spec, embedOpt){\n",
       "    let outputDiv = document.currentScript.previousElementSibling;\n",
       "    if (outputDiv.id !== \"altair-viz-96f47135a68546a78c25eea1f40e5616\") {\n",
       "      outputDiv = document.getElementById(\"altair-viz-96f47135a68546a78c25eea1f40e5616\");\n",
       "    }\n",
       "    const paths = {\n",
       "      \"vega\": \"https://cdn.jsdelivr.net/npm//vega@5?noext\",\n",
       "      \"vega-lib\": \"https://cdn.jsdelivr.net/npm//vega-lib?noext\",\n",
       "      \"vega-lite\": \"https://cdn.jsdelivr.net/npm//vega-lite@4.8.1?noext\",\n",
       "      \"vega-embed\": \"https://cdn.jsdelivr.net/npm//vega-embed@6?noext\",\n",
       "    };\n",
       "\n",
       "    function loadScript(lib) {\n",
       "      return new Promise(function(resolve, reject) {\n",
       "        var s = document.createElement('script');\n",
       "        s.src = paths[lib];\n",
       "        s.async = true;\n",
       "        s.onload = () => resolve(paths[lib]);\n",
       "        s.onerror = () => reject(`Error loading script: ${paths[lib]}`);\n",
       "        document.getElementsByTagName(\"head\")[0].appendChild(s);\n",
       "      });\n",
       "    }\n",
       "\n",
       "    function showError(err) {\n",
       "      outputDiv.innerHTML = `<div class=\"error\" style=\"color:red;\">${err}</div>`;\n",
       "      throw err;\n",
       "    }\n",
       "\n",
       "    function displayChart(vegaEmbed) {\n",
       "      vegaEmbed(outputDiv, spec, embedOpt)\n",
       "        .catch(err => showError(`Javascript Error: ${err.message}<br>This usually means there's a typo in your chart specification. See the javascript console for the full traceback.`));\n",
       "    }\n",
       "\n",
       "    if(typeof define === \"function\" && define.amd) {\n",
       "      requirejs.config({paths});\n",
       "      require([\"vega-embed\"], displayChart, err => showError(`Error loading script: ${err.message}`));\n",
       "    } else if (typeof vegaEmbed === \"function\") {\n",
       "      displayChart(vegaEmbed);\n",
       "    } else {\n",
       "      loadScript(\"vega\")\n",
       "        .then(() => loadScript(\"vega-lite\"))\n",
       "        .then(() => loadScript(\"vega-embed\"))\n",
       "        .catch(showError)\n",
       "        .then(() => displayChart(vegaEmbed));\n",
       "    }\n",
       "  })({\"config\": {\"view\": {\"continuousWidth\": 400, \"continuousHeight\": 300}}, \"data\": {\"name\": \"data-aeb26d853cefbf859ff4204625f266fd\"}, \"mark\": \"bar\", \"encoding\": {\"x\": {\"type\": \"quantitative\", \"bin\": {\"maxbins\": 100}, \"field\": \"Gain\"}, \"y\": {\"type\": \"quantitative\", \"aggregate\": \"count\"}}, \"$schema\": \"https://vega.github.io/schema/vega-lite/v4.8.1.json\", \"datasets\": {\"data-aeb26d853cefbf859ff4204625f266fd\": [{\"ticker\": \"AAPL\", \"date\": \"2020-12-30 00:00:00\", \"marketcap\": 2273481.0, \"ev\": 2347901.0, \"evebitda\": 29.0, \"pe\": 39.6, \"close\": 133.72, \"Gain\": 1.0300000000000011}, {\"ticker\": \"AAPL\", \"date\": \"2020-12-29 00:00:00\", \"marketcap\": 2293033.0, \"ev\": 2367453.0, \"evebitda\": 29.2, \"pe\": 39.9, \"close\": 134.87, \"Gain\": 1.1500000000000057}, {\"ticker\": \"AAPL\", \"date\": \"2020-12-28 00:00:00\", \"marketcap\": 2323976.3, \"ev\": 2398396.3, \"evebitda\": 29.6, \"pe\": 40.5, \"close\": 136.69, \"Gain\": 1.8199999999999932}, {\"ticker\": \"AAPL\", \"date\": \"2020-12-24 00:00:00\", \"marketcap\": 2243727.8, \"ev\": 2318147.8, \"evebitda\": 28.6, \"pe\": 39.1, \"close\": 131.97, \"Gain\": -4.719999999999999}, {\"ticker\": \"AAPL\", \"date\": \"2020-12-23 00:00:00\", \"marketcap\": 2226556.0, \"ev\": 2300976.0, \"evebitda\": 28.4, \"pe\": 38.8, \"close\": 130.96, \"Gain\": -1.009999999999991}, {\"ticker\": \"AAPL\", \"date\": \"2020-12-22 00:00:00\", \"marketcap\": 2242197.6, \"ev\": 2316617.6, \"evebitda\": 28.6, \"pe\": 39.1, \"close\": 131.88, \"Gain\": 0.9199999999999875}, {\"ticker\": \"AAPL\", \"date\": \"2020-12-21 00:00:00\", \"marketcap\": 2180141.1, \"ev\": 2254561.1, \"evebitda\": 27.8, \"pe\": 38.0, \"close\": 128.23, \"Gain\": -3.6500000000000057}, {\"ticker\": \"AAPL\", \"date\": \"2020-12-18 00:00:00\", \"marketcap\": 2153363.2, \"ev\": 2227783.2, \"evebitda\": 27.5, \"pe\": 37.5, \"close\": 126.655, \"Gain\": -1.5749999999999886}, {\"ticker\": \"AAPL\", \"date\": \"2020-12-17 00:00:00\", \"marketcap\": 2188131.9, \"ev\": 2262551.9, \"evebitda\": 27.9, \"pe\": 38.1, \"close\": 128.7, \"Gain\": 2.0449999999999875}, {\"ticker\": \"AAPL\", \"date\": \"2020-12-16 00:00:00\", \"marketcap\": 2173000.3, \"ev\": 2247420.3, \"evebitda\": 27.7, \"pe\": 37.8, \"close\": 127.81, \"Gain\": -0.8899999999999864}, {\"ticker\": \"AAPL\", \"date\": \"2020-12-15 00:00:00\", \"marketcap\": 2174190.4, \"ev\": 2248610.4, \"evebitda\": 27.8, \"pe\": 37.9, \"close\": 127.88, \"Gain\": 0.06999999999999318}, {\"ticker\": \"AAPL\", \"date\": \"2020-12-14 00:00:00\", \"marketcap\": 2070479.4, \"ev\": 2144899.4, \"evebitda\": 26.5, \"pe\": 36.1, \"close\": 121.78, \"Gain\": -6.099999999999994}, {\"ticker\": \"AAPL\", \"date\": \"2020-12-11 00:00:00\", \"marketcap\": 2081190.6, \"ev\": 2155610.6, \"evebitda\": 26.6, \"pe\": 36.3, \"close\": 122.41, \"Gain\": 0.6299999999999955}, {\"ticker\": \"AAPL\", \"date\": \"2020-12-10 00:00:00\", \"marketcap\": 2095302.1, \"ev\": 2169722.1, \"evebitda\": 26.8, \"pe\": 36.5, \"close\": 123.24, \"Gain\": 0.8299999999999983}, {\"ticker\": \"AAPL\", \"date\": \"2020-12-09 00:00:00\", \"marketcap\": 2070479.4, \"ev\": 2144899.4, \"evebitda\": 26.5, \"pe\": 36.1, \"close\": 121.78, \"Gain\": -1.4599999999999937}, {\"ticker\": \"AAPL\", \"date\": \"2020-12-08 00:00:00\", \"marketcap\": 2114684.1, \"ev\": 2189104.1, \"evebitda\": 27.0, \"pe\": 36.8, \"close\": 124.38, \"Gain\": 2.5999999999999943}, {\"ticker\": \"AAPL\", \"date\": \"2020-12-07 00:00:00\", \"marketcap\": 2103973.0, \"ev\": 2178393.0, \"evebitda\": 26.9, \"pe\": 36.6, \"close\": 123.75, \"Gain\": -0.6299999999999955}, {\"ticker\": \"AAPL\", \"date\": \"2020-12-04 00:00:00\", \"marketcap\": 2078470.3, \"ev\": 2152890.3, \"evebitda\": 26.6, \"pe\": 36.2, \"close\": 122.25, \"Gain\": -1.5}, {\"ticker\": \"AAPL\", \"date\": \"2020-12-03 00:00:00\", \"marketcap\": 2090201.5, \"ev\": 2164621.5, \"evebitda\": 26.7, \"pe\": 36.4, \"close\": 122.94, \"Gain\": 0.6899999999999977}, {\"ticker\": \"AAPL\", \"date\": \"2020-12-02 00:00:00\", \"marketcap\": 2092581.8, \"ev\": 2167001.8, \"evebitda\": 26.7, \"pe\": 36.4, \"close\": 123.08, \"Gain\": 0.14000000000000057}, {\"ticker\": \"AAPL\", \"date\": \"2020-12-01 00:00:00\", \"marketcap\": 2086461.1, \"ev\": 2160881.1, \"evebitda\": 26.7, \"pe\": 36.3, \"close\": 122.72, \"Gain\": -0.35999999999999943}, {\"ticker\": \"AAPL\", \"date\": \"2020-11-30 00:00:00\", \"marketcap\": 2024064.5, \"ev\": 2098484.5, \"evebitda\": 25.9, \"pe\": 35.3, \"close\": 119.05, \"Gain\": -3.6700000000000017}, {\"ticker\": \"AAPL\", \"date\": \"2020-11-27 00:00:00\", \"marketcap\": 1982240.1, \"ev\": 2056660.1, \"evebitda\": 25.4, \"pe\": 34.5, \"close\": 116.59, \"Gain\": -2.4599999999999937}, {\"ticker\": \"AAPL\", \"date\": \"2020-11-25 00:00:00\", \"marketcap\": 1972719.1, \"ev\": 2047139.1, \"evebitda\": 25.3, \"pe\": 34.4, \"close\": 116.03, \"Gain\": -0.5600000000000023}, {\"ticker\": \"AAPL\", \"date\": \"2020-11-24 00:00:00\", \"marketcap\": 1958097.5, \"ev\": 2032517.5, \"evebitda\": 25.1, \"pe\": 34.1, \"close\": 115.17, \"Gain\": -0.8599999999999994}, {\"ticker\": \"AAPL\", \"date\": \"2020-11-23 00:00:00\", \"marketcap\": 1935655.2, \"ev\": 2010075.2, \"evebitda\": 24.8, \"pe\": 33.7, \"close\": 113.85, \"Gain\": -1.3200000000000074}, {\"ticker\": \"AAPL\", \"date\": \"2020-11-20 00:00:00\", \"marketcap\": 1994991.4, \"ev\": 2069411.4, \"evebitda\": 25.5, \"pe\": 34.7, \"close\": 117.34, \"Gain\": 3.490000000000009}, {\"ticker\": \"AAPL\", \"date\": \"2020-11-19 00:00:00\", \"marketcap\": 2017093.8, \"ev\": 2091513.8, \"evebitda\": 25.8, \"pe\": 35.1, \"close\": 118.64, \"Gain\": 1.2999999999999972}, {\"ticker\": \"AAPL\", \"date\": \"2020-11-18 00:00:00\", \"marketcap\": 2006722.7, \"ev\": 2081142.7, \"evebitda\": 25.7, \"pe\": 35.0, \"close\": 118.03, \"Gain\": -0.6099999999999994}, {\"ticker\": \"AAPL\", \"date\": \"2020-11-17 00:00:00\", \"marketcap\": 2029845.1, \"ev\": 2104265.1, \"evebitda\": 26.0, \"pe\": 35.4, \"close\": 119.39, \"Gain\": 1.3599999999999994}, {\"ticker\": \"AAPL\", \"date\": \"2020-11-16 00:00:00\", \"marketcap\": 2045316.8, \"ev\": 2119736.8, \"evebitda\": 26.2, \"pe\": 35.6, \"close\": 120.3, \"Gain\": 0.9099999999999966}, {\"ticker\": \"AAPL\", \"date\": \"2020-11-13 00:00:00\", \"marketcap\": 2027634.9, \"ev\": 2102054.9, \"evebitda\": 25.9, \"pe\": 35.3, \"close\": 119.26, \"Gain\": -1.039999999999992}, {\"ticker\": \"AAPL\", \"date\": \"2020-11-12 00:00:00\", \"marketcap\": 2026784.8, \"ev\": 2101204.8, \"evebitda\": 25.9, \"pe\": 35.3, \"close\": 119.21, \"Gain\": -0.05000000000001137}, {\"ticker\": \"AAPL\", \"date\": \"2020-11-11 00:00:00\", \"marketcap\": 2031545.3, \"ev\": 2105965.3, \"evebitda\": 26.0, \"pe\": 35.4, \"close\": 119.49, \"Gain\": 0.28000000000000114}, {\"ticker\": \"AAPL\", \"date\": \"2020-11-10 00:00:00\", \"marketcap\": 1971699.0, \"ev\": 2046119.0, \"evebitda\": 25.3, \"pe\": 34.3, \"close\": 115.97, \"Gain\": -3.519999999999996}, {\"ticker\": \"AAPL\", \"date\": \"2020-11-09 00:00:00\", \"marketcap\": 1977649.6, \"ev\": 2052069.6, \"evebitda\": 25.3, \"pe\": 34.4, \"close\": 116.32, \"Gain\": 0.3499999999999943}, {\"ticker\": \"AAPL\", \"date\": \"2020-11-06 00:00:00\", \"marketcap\": 2017943.9, \"ev\": 2092363.9, \"evebitda\": 25.8, \"pe\": 35.1, \"close\": 118.69, \"Gain\": 2.3700000000000045}, {\"ticker\": \"AAPL\", \"date\": \"2020-11-05 00:00:00\", \"marketcap\": 2023724.5, \"ev\": 2098144.5, \"evebitda\": 25.9, \"pe\": 35.2, \"close\": 119.03, \"Gain\": 0.3400000000000034}, {\"ticker\": \"AAPL\", \"date\": \"2020-11-04 00:00:00\", \"marketcap\": 1954357.1, \"ev\": 2028777.1, \"evebitda\": 25.0, \"pe\": 34.0, \"close\": 114.95, \"Gain\": -4.079999999999998}, {\"ticker\": \"AAPL\", \"date\": \"2020-11-03 00:00:00\", \"marketcap\": 1877679.0, \"ev\": 1952099.0, \"evebitda\": 24.1, \"pe\": 32.7, \"close\": 110.44, \"Gain\": -4.510000000000005}, {\"ticker\": \"AAPL\", \"date\": \"2020-11-02 00:00:00\", \"marketcap\": 1849286.0, \"ev\": 1923706.0, \"evebitda\": 23.7, \"pe\": 32.2, \"close\": 108.77, \"Gain\": -1.6700000000000017}, {\"ticker\": \"AAPL\", \"date\": \"2020-10-30 00:00:00\", \"marketcap\": 1850816.2, \"ev\": 1925236.2, \"evebitda\": 23.8, \"pe\": 32.2, \"close\": 108.86, \"Gain\": 0.09000000000000341}, {\"ticker\": \"AAPL\", \"date\": \"2020-10-29 00:00:00\", \"marketcap\": 1972264.5, \"ev\": 2051604.5, \"evebitda\": 24.7, \"pe\": 33.8, \"close\": 115.32, \"Gain\": 6.459999999999994}, {\"ticker\": \"AAPL\", \"date\": \"2020-10-28 00:00:00\", \"marketcap\": 1901802.0, \"ev\": 1981142.0, \"evebitda\": 23.9, \"pe\": 32.6, \"close\": 111.2, \"Gain\": -4.11999999999999}, {\"ticker\": \"AAPL\", \"date\": \"2020-10-27 00:00:00\", \"marketcap\": 1994155.7, \"ev\": 2073495.7, \"evebitda\": 25.0, \"pe\": 34.1, \"close\": 116.6, \"Gain\": 5.3999999999999915}, {\"ticker\": \"AAPL\", \"date\": \"2020-10-26 00:00:00\", \"marketcap\": 1967646.8, \"ev\": 2046986.8, \"evebitda\": 24.7, \"pe\": 33.7, \"close\": 115.05, \"Gain\": -1.5499999999999972}, {\"ticker\": \"AAPL\", \"date\": \"2020-10-23 00:00:00\", \"marketcap\": 1967475.7, \"ev\": 2046815.7, \"evebitda\": 24.7, \"pe\": 33.7, \"close\": 115.04, \"Gain\": -0.009999999999990905}, {\"ticker\": \"AAPL\", \"date\": \"2020-10-22 00:00:00\", \"marketcap\": 1979618.5, \"ev\": 2058958.5, \"evebitda\": 24.8, \"pe\": 33.9, \"close\": 115.75, \"Gain\": 0.7099999999999937}, {\"ticker\": \"AAPL\", \"date\": \"2020-10-21 00:00:00\", \"marketcap\": 1998773.4, \"ev\": 2078113.4, \"evebitda\": 25.1, \"pe\": 34.2, \"close\": 116.87, \"Gain\": 1.1200000000000045}, {\"ticker\": \"AAPL\", \"date\": \"2020-10-20 00:00:00\", \"marketcap\": 2009719.0, \"ev\": 2089059.0, \"evebitda\": 25.2, \"pe\": 34.4, \"close\": 117.51, \"Gain\": 0.6400000000000006}, {\"ticker\": \"AAPL\", \"date\": \"2020-10-19 00:00:00\", \"marketcap\": 1983552.1, \"ev\": 2062892.1, \"evebitda\": 24.9, \"pe\": 34.0, \"close\": 115.98, \"Gain\": -1.5300000000000011}, {\"ticker\": \"AAPL\", \"date\": \"2020-10-16 00:00:00\", \"marketcap\": 2035543.8, \"ev\": 2114883.8, \"evebitda\": 25.5, \"pe\": 34.8, \"close\": 119.02, \"Gain\": 3.039999999999992}, {\"ticker\": \"AAPL\", \"date\": \"2020-10-15 00:00:00\", \"marketcap\": 2064447.1, \"ev\": 2143787.1, \"evebitda\": 25.9, \"pe\": 35.3, \"close\": 120.71, \"Gain\": 1.6899999999999977}, {\"ticker\": \"AAPL\", \"date\": \"2020-10-14 00:00:00\", \"marketcap\": 2072656.3, \"ev\": 2151996.3, \"evebitda\": 26.0, \"pe\": 35.5, \"close\": 121.19, \"Gain\": 0.480000000000004}, {\"ticker\": \"AAPL\", \"date\": \"2020-10-13 00:00:00\", \"marketcap\": 2071117.1, \"ev\": 2150457.1, \"evebitda\": 25.9, \"pe\": 35.4, \"close\": 121.1, \"Gain\": -0.09000000000000341}, {\"ticker\": \"AAPL\", \"date\": \"2020-10-12 00:00:00\", \"marketcap\": 2127555.5, \"ev\": 2206895.5, \"evebitda\": 26.6, \"pe\": 36.4, \"close\": 124.4, \"Gain\": 3.3000000000000114}, {\"ticker\": \"AAPL\", \"date\": \"2020-10-09 00:00:00\", \"marketcap\": 2000483.6, \"ev\": 2079823.6, \"evebitda\": 25.1, \"pe\": 34.2, \"close\": 116.97, \"Gain\": -7.430000000000007}, {\"ticker\": \"AAPL\", \"date\": \"2020-10-08 00:00:00\", \"marketcap\": 1966278.6, \"ev\": 2045618.6, \"evebitda\": 24.7, \"pe\": 33.7, \"close\": 114.97, \"Gain\": -2.0}, {\"ticker\": \"AAPL\", \"date\": \"2020-10-07 00:00:00\", \"marketcap\": 1968159.8, \"ev\": 2047499.8, \"evebitda\": 24.7, \"pe\": 33.7, \"close\": 115.08, \"Gain\": 0.10999999999999943}, {\"ticker\": \"AAPL\", \"date\": \"2020-10-06 00:00:00\", \"marketcap\": 1935323.0, \"ev\": 2014663.0, \"evebitda\": 24.3, \"pe\": 33.1, \"close\": 113.16, \"Gain\": -1.9200000000000017}, {\"ticker\": \"AAPL\", \"date\": \"2020-10-05 00:00:00\", \"marketcap\": 1992445.4, \"ev\": 2071785.4, \"evebitda\": 25.0, \"pe\": 34.1, \"close\": 116.5, \"Gain\": 3.3400000000000034}, {\"ticker\": \"AAPL\", \"date\": \"2020-10-02 00:00:00\", \"marketcap\": 1932928.6, \"ev\": 2012268.6, \"evebitda\": 24.3, \"pe\": 33.1, \"close\": 113.02, \"Gain\": -3.480000000000004}, {\"ticker\": \"AAPL\", \"date\": \"2020-10-01 00:00:00\", \"marketcap\": 1997405.2, \"ev\": 2076745.2, \"evebitda\": 25.1, \"pe\": 34.2, \"close\": 116.79, \"Gain\": 3.7700000000000102}, {\"ticker\": \"AAPL\", \"date\": \"2020-09-30 00:00:00\", \"marketcap\": 1980644.7, \"ev\": 2059984.7, \"evebitda\": 24.8, \"pe\": 33.9, \"close\": 115.81, \"Gain\": -0.980000000000004}, {\"ticker\": \"AAPL\", \"date\": \"2020-09-29 00:00:00\", \"marketcap\": 1951228.3, \"ev\": 2030568.3, \"evebitda\": 24.5, \"pe\": 33.4, \"close\": 114.09, \"Gain\": -1.7199999999999989}, {\"ticker\": \"AAPL\", \"date\": \"2020-09-28 00:00:00\", \"marketcap\": 1966107.5, \"ev\": 2045447.5, \"evebitda\": 24.7, \"pe\": 33.7, \"close\": 114.96, \"Gain\": 0.8699999999999903}, {\"ticker\": \"AAPL\", \"date\": \"2020-09-25 00:00:00\", \"marketcap\": 1920272.7, \"ev\": 1999612.7, \"evebitda\": 24.1, \"pe\": 32.9, \"close\": 112.28, \"Gain\": -2.6799999999999926}, {\"ticker\": \"AAPL\", \"date\": \"2020-09-24 00:00:00\", \"marketcap\": 1850836.4, \"ev\": 1930176.4, \"evebitda\": 23.3, \"pe\": 31.7, \"close\": 108.22, \"Gain\": -4.060000000000002}, {\"ticker\": \"AAPL\", \"date\": \"2020-09-23 00:00:00\", \"marketcap\": 1832023.7, \"ev\": 1911363.7, \"evebitda\": 23.1, \"pe\": 31.4, \"close\": 107.12, \"Gain\": -1.0999999999999943}, {\"ticker\": \"AAPL\", \"date\": \"2020-09-22 00:00:00\", \"marketcap\": 1912234.6, \"ev\": 1991574.6, \"evebitda\": 24.0, \"pe\": 32.7, \"close\": 111.81, \"Gain\": 4.689999999999998}, {\"ticker\": \"AAPL\", \"date\": \"2020-09-21 00:00:00\", \"marketcap\": 1882647.2, \"ev\": 1961987.2, \"evebitda\": 23.7, \"pe\": 32.2, \"close\": 110.08, \"Gain\": -1.730000000000004}, {\"ticker\": \"AAPL\", \"date\": \"2020-09-18 00:00:00\", \"marketcap\": 1827234.9, \"ev\": 1906574.9, \"evebitda\": 23.0, \"pe\": 31.3, \"close\": 106.84, \"Gain\": -3.239999999999995}, {\"ticker\": \"AAPL\", \"date\": \"2020-09-17 00:00:00\", \"marketcap\": 1887093.8, \"ev\": 1966433.8, \"evebitda\": 23.7, \"pe\": 32.3, \"close\": 110.34, \"Gain\": 3.5}, {\"ticker\": \"AAPL\", \"date\": \"2020-09-16 00:00:00\", \"marketcap\": 1917707.4, \"ev\": 1997047.4, \"evebitda\": 24.1, \"pe\": 32.8, \"close\": 112.13, \"Gain\": 1.789999999999992}, {\"ticker\": \"AAPL\", \"date\": \"2020-09-15 00:00:00\", \"marketcap\": 1976027.0, \"ev\": 2055367.0, \"evebitda\": 24.8, \"pe\": 33.8, \"close\": 115.54, \"Gain\": 3.410000000000011}, {\"ticker\": \"AAPL\", \"date\": \"2020-09-14 00:00:00\", \"marketcap\": 1972863.0, \"ev\": 2052203.0, \"evebitda\": 24.8, \"pe\": 33.8, \"close\": 115.355, \"Gain\": -0.18500000000000227}, {\"ticker\": \"AAPL\", \"date\": \"2020-09-11 00:00:00\", \"marketcap\": 1915484.0, \"ev\": 1994824.0, \"evebitda\": 24.1, \"pe\": 32.8, \"close\": 112.0, \"Gain\": -3.355000000000004}, {\"ticker\": \"AAPL\", \"date\": \"2020-09-10 00:00:00\", \"marketcap\": 1940966.8, \"ev\": 2020306.8, \"evebitda\": 24.4, \"pe\": 33.2, \"close\": 113.49, \"Gain\": 1.4899999999999949}, {\"ticker\": \"AAPL\", \"date\": \"2020-09-09 00:00:00\", \"marketcap\": 2006469.5, \"ev\": 2085809.5, \"evebitda\": 25.2, \"pe\": 34.3, \"close\": 117.32, \"Gain\": 3.8299999999999983}, {\"ticker\": \"AAPL\", \"date\": \"2020-09-08 00:00:00\", \"marketcap\": 1929508.1, \"ev\": 2008848.1, \"evebitda\": 24.2, \"pe\": 33.0, \"close\": 112.82, \"Gain\": -4.5}, {\"ticker\": \"AAPL\", \"date\": \"2020-09-04 00:00:00\", \"marketcap\": 2068722.8, \"ev\": 2148062.8, \"evebitda\": 25.9, \"pe\": 35.4, \"close\": 120.96, \"Gain\": 8.14}, {\"ticker\": \"AAPL\", \"date\": \"2020-09-03 00:00:00\", \"marketcap\": 2067354.6, \"ev\": 2146694.6, \"evebitda\": 25.9, \"pe\": 35.4, \"close\": 120.88, \"Gain\": -0.0799999999999983}, {\"ticker\": \"AAPL\", \"date\": \"2020-09-02 00:00:00\", \"marketcap\": 2247273.2, \"ev\": 2326613.2, \"evebitda\": 28.1, \"pe\": 38.5, \"close\": 131.4, \"Gain\": 10.52000000000001}, {\"ticker\": \"AAPL\", \"date\": \"2020-09-01 00:00:00\", \"marketcap\": 2294818.3, \"ev\": 2374158.3, \"evebitda\": 28.6, \"pe\": 39.3, \"close\": 134.18, \"Gain\": 2.780000000000001}, {\"ticker\": \"AAPL\", \"date\": \"2020-08-31 00:00:00\", \"marketcap\": 2206911.2, \"ev\": 2286251.2, \"evebitda\": 27.6, \"pe\": 37.8, \"close\": 129.04, \"Gain\": -5.140000000000015}, {\"ticker\": \"AAPL\", \"date\": \"2020-08-28 00:00:00\", \"marketcap\": 2134533.3, \"ev\": 2213873.3, \"evebitda\": 26.7, \"pe\": 36.5, \"close\": 124.808, \"Gain\": -4.231999999999985}, {\"ticker\": \"AAPL\", \"date\": \"2020-08-27 00:00:00\", \"marketcap\": 2137988.0, \"ev\": 2217328.0, \"evebitda\": 26.7, \"pe\": 36.6, \"close\": 125.01, \"Gain\": 0.20199999999999818}, {\"ticker\": \"AAPL\", \"date\": \"2020-08-26 00:00:00\", \"marketcap\": 2163847.1, \"ev\": 2243187.1, \"evebitda\": 27.1, \"pe\": 37.0, \"close\": 126.522, \"Gain\": 1.5120000000000005}, {\"ticker\": \"AAPL\", \"date\": \"2020-08-25 00:00:00\", \"marketcap\": 2134824.1, \"ev\": 2214164.1, \"evebitda\": 26.7, \"pe\": 36.5, \"close\": 124.825, \"Gain\": -1.6970000000000027}, {\"ticker\": \"AAPL\", \"date\": \"2020-08-24 00:00:00\", \"marketcap\": 2152491.0, \"ev\": 2231831.0, \"evebitda\": 26.9, \"pe\": 36.8, \"close\": 125.858, \"Gain\": 1.0330000000000013}, {\"ticker\": \"AAPL\", \"date\": \"2020-08-21 00:00:00\", \"marketcap\": 2127042.4, \"ev\": 2206382.4, \"evebitda\": 26.6, \"pe\": 36.4, \"close\": 124.37, \"Gain\": -1.4879999999999995}, {\"ticker\": \"AAPL\", \"date\": \"2020-08-20 00:00:00\", \"marketcap\": 2022802.4, \"ev\": 2102142.4, \"evebitda\": 25.4, \"pe\": 34.6, \"close\": 118.275, \"Gain\": -6.094999999999999}, {\"ticker\": \"AAPL\", \"date\": \"2020-08-19 00:00:00\", \"marketcap\": 1978883.1, \"ev\": 2058223.1, \"evebitda\": 24.8, \"pe\": 33.9, \"close\": 115.707, \"Gain\": -2.568000000000012}, {\"ticker\": \"AAPL\", \"date\": \"2020-08-18 00:00:00\", \"marketcap\": 1976420.4, \"ev\": 2055760.4, \"evebitda\": 24.8, \"pe\": 33.8, \"close\": 115.562, \"Gain\": -0.14499999999999602}, {\"ticker\": \"AAPL\", \"date\": \"2020-08-17 00:00:00\", \"marketcap\": 1960087.4, \"ev\": 2039427.4, \"evebitda\": 24.6, \"pe\": 33.5, \"close\": 114.608, \"Gain\": -0.9539999999999935}, {\"ticker\": \"AAPL\", \"date\": \"2020-08-14 00:00:00\", \"marketcap\": 1965201.1, \"ev\": 2044541.1, \"evebitda\": 24.7, \"pe\": 33.6, \"close\": 114.907, \"Gain\": 0.2989999999999924}, {\"ticker\": \"AAPL\", \"date\": \"2020-08-13 00:00:00\", \"marketcap\": 1966962.7, \"ev\": 2046302.7, \"evebitda\": 24.7, \"pe\": 33.7, \"close\": 115.01, \"Gain\": 0.10300000000000864}, {\"ticker\": \"AAPL\", \"date\": \"2020-08-12 00:00:00\", \"marketcap\": 1932757.6, \"ev\": 2012097.6, \"evebitda\": 24.3, \"pe\": 33.1, \"close\": 113.01, \"Gain\": -2.0}, {\"ticker\": \"AAPL\", \"date\": \"2020-08-11 00:00:00\", \"marketcap\": 1870589.9, \"ev\": 1949929.9, \"evebitda\": 23.5, \"pe\": 32.0, \"close\": 109.375, \"Gain\": -3.635000000000005}, {\"ticker\": \"AAPL\", \"date\": \"2020-08-10 00:00:00\", \"marketcap\": 1927934.7, \"ev\": 2007274.7, \"evebitda\": 24.2, \"pe\": 33.0, \"close\": 112.728, \"Gain\": 3.3529999999999944}, {\"ticker\": \"AAPL\", \"date\": \"2020-08-07 00:00:00\", \"marketcap\": 1900297.0, \"ev\": 1979637.0, \"evebitda\": 23.9, \"pe\": 32.5, \"close\": 111.112, \"Gain\": -1.6159999999999997}, {\"ticker\": \"AAPL\", \"date\": \"2020-08-06 00:00:00\", \"marketcap\": 1948030.2, \"ev\": 2027370.2, \"evebitda\": 24.5, \"pe\": 33.3, \"close\": 113.903, \"Gain\": 2.791000000000011}, {\"ticker\": \"AAPL\", \"date\": \"2020-08-05 00:00:00\", \"marketcap\": 1882356.4, \"ev\": 1961696.4, \"evebitda\": 23.7, \"pe\": 32.2, \"close\": 110.062, \"Gain\": -3.841000000000008}, {\"ticker\": \"AAPL\", \"date\": \"2020-08-04 00:00:00\", \"marketcap\": 1875549.6, \"ev\": 1954889.6, \"evebitda\": 23.6, \"pe\": 32.1, \"close\": 109.665, \"Gain\": -0.39699999999999136}, {\"ticker\": \"AAPL\", \"date\": \"2020-08-03 00:00:00\", \"marketcap\": 1863116.1, \"ev\": 1942456.1, \"evebitda\": 23.4, \"pe\": 31.9, \"close\": 108.938, \"Gain\": -0.7270000000000039}, {\"ticker\": \"AAPL\", \"date\": \"2020-07-31 00:00:00\", \"marketcap\": 1817315.5, \"ev\": 1896655.5, \"evebitda\": 22.9, \"pe\": 31.1, \"close\": 106.26, \"Gain\": -2.6779999999999973}, {\"ticker\": \"AAPL\", \"date\": \"2020-07-30 00:00:00\", \"marketcap\": 1667678.7, \"ev\": 1737011.7, \"evebitda\": 21.2, \"pe\": 29.1, \"close\": 96.19, \"Gain\": -10.070000000000007}, {\"ticker\": \"AAPL\", \"date\": \"2020-07-29 00:00:00\", \"marketcap\": 1647740.8, \"ev\": 1717073.8, \"evebitda\": 20.9, \"pe\": 28.8, \"close\": 95.04, \"Gain\": -1.1499999999999915}, {\"ticker\": \"AAPL\", \"date\": \"2020-07-28 00:00:00\", \"marketcap\": 1616741.6, \"ev\": 1686074.6, \"evebitda\": 20.6, \"pe\": 28.3, \"close\": 93.252, \"Gain\": -1.788000000000011}, {\"ticker\": \"AAPL\", \"date\": \"2020-07-27 00:00:00\", \"marketcap\": 1643753.2, \"ev\": 1713086.2, \"evebitda\": 20.9, \"pe\": 28.7, \"close\": 94.81, \"Gain\": 1.558000000000007}, {\"ticker\": \"AAPL\", \"date\": \"2020-07-24 00:00:00\", \"marketcap\": 1605697.7, \"ev\": 1675030.7, \"evebitda\": 20.4, \"pe\": 28.1, \"close\": 92.615, \"Gain\": -2.1950000000000074}, {\"ticker\": \"AAPL\", \"date\": \"2020-07-23 00:00:00\", \"marketcap\": 1609685.3, \"ev\": 1679018.3, \"evebitda\": 20.5, \"pe\": 28.1, \"close\": 92.845, \"Gain\": 0.23000000000000398}, {\"ticker\": \"AAPL\", \"date\": \"2020-07-22 00:00:00\", \"marketcap\": 1686437.7, \"ev\": 1755770.7, \"evebitda\": 21.4, \"pe\": 29.5, \"close\": 97.272, \"Gain\": 4.427000000000007}, {\"ticker\": \"AAPL\", \"date\": \"2020-07-21 00:00:00\", \"marketcap\": 1681722.0, \"ev\": 1751055.0, \"evebitda\": 21.3, \"pe\": 29.4, \"close\": 97.0, \"Gain\": -0.27200000000000557}, {\"ticker\": \"AAPL\", \"date\": \"2020-07-20 00:00:00\", \"marketcap\": 1705266.1, \"ev\": 1774599.1, \"evebitda\": 21.6, \"pe\": 29.8, \"close\": 98.358, \"Gain\": 1.358000000000004}, {\"ticker\": \"AAPL\", \"date\": \"2020-07-17 00:00:00\", \"marketcap\": 1670071.3, \"ev\": 1739404.3, \"evebitda\": 21.2, \"pe\": 29.2, \"close\": 96.328, \"Gain\": -2.030000000000001}, {\"ticker\": \"AAPL\", \"date\": \"2020-07-16 00:00:00\", \"marketcap\": 1673434.7, \"ev\": 1742767.7, \"evebitda\": 21.2, \"pe\": 29.2, \"close\": 96.522, \"Gain\": 0.19400000000000261}, {\"ticker\": \"AAPL\", \"date\": \"2020-07-15 00:00:00\", \"marketcap\": 1694291.6, \"ev\": 1763624.6, \"evebitda\": 21.5, \"pe\": 29.6, \"close\": 97.725, \"Gain\": 1.2029999999999887}, {\"ticker\": \"AAPL\", \"date\": \"2020-07-14 00:00:00\", \"marketcap\": 1682727.5, \"ev\": 1752060.5, \"evebitda\": 21.4, \"pe\": 29.4, \"close\": 97.058, \"Gain\": -0.6669999999999874}, {\"ticker\": \"AAPL\", \"date\": \"2020-07-13 00:00:00\", \"marketcap\": 1655334.5, \"ev\": 1724667.5, \"evebitda\": 21.0, \"pe\": 28.9, \"close\": 95.478, \"Gain\": -1.5800000000000125}, {\"ticker\": \"AAPL\", \"date\": \"2020-07-10 00:00:00\", \"marketcap\": 1662997.7, \"ev\": 1732330.7, \"evebitda\": 21.1, \"pe\": 29.1, \"close\": 95.92, \"Gain\": 0.4420000000000073}, {\"ticker\": \"AAPL\", \"date\": \"2020-07-09 00:00:00\", \"marketcap\": 1658888.7, \"ev\": 1728221.7, \"evebitda\": 21.1, \"pe\": 29.0, \"close\": 95.683, \"Gain\": -0.23699999999999477}, {\"ticker\": \"AAPL\", \"date\": \"2020-07-08 00:00:00\", \"marketcap\": 1652994.0, \"ev\": 1722327.0, \"evebitda\": 21.0, \"pe\": 28.9, \"close\": 95.343, \"Gain\": -0.3400000000000034}, {\"ticker\": \"AAPL\", \"date\": \"2020-07-07 00:00:00\", \"marketcap\": 1615354.6, \"ev\": 1684687.6, \"evebitda\": 20.5, \"pe\": 28.2, \"close\": 93.172, \"Gain\": -2.1710000000000065}, {\"ticker\": \"AAPL\", \"date\": \"2020-07-06 00:00:00\", \"marketcap\": 1620399.8, \"ev\": 1689732.8, \"evebitda\": 20.6, \"pe\": 28.3, \"close\": 93.463, \"Gain\": 0.2909999999999968}, {\"ticker\": \"AAPL\", \"date\": \"2020-07-02 00:00:00\", \"marketcap\": 1578183.4, \"ev\": 1647516.4, \"evebitda\": 20.1, \"pe\": 27.6, \"close\": 91.028, \"Gain\": -2.434999999999988}, {\"ticker\": \"AAPL\", \"date\": \"2020-07-01 00:00:00\", \"marketcap\": 1578183.4, \"ev\": 1647516.4, \"evebitda\": 20.1, \"pe\": 27.6, \"close\": 91.028, \"Gain\": 0.0}, {\"ticker\": \"AAPL\", \"date\": \"2020-06-30 00:00:00\", \"marketcap\": 1581165.4, \"ev\": 1650498.4, \"evebitda\": 20.1, \"pe\": 27.6, \"close\": 91.2, \"Gain\": 0.17199999999999704}, {\"ticker\": \"AAPL\", \"date\": \"2020-06-29 00:00:00\", \"marketcap\": 1568075.7, \"ev\": 1637408.7, \"evebitda\": 20.0, \"pe\": 27.4, \"close\": 90.445, \"Gain\": -0.7550000000000097}, {\"ticker\": \"AAPL\", \"date\": \"2020-06-26 00:00:00\", \"marketcap\": 1532742.2, \"ev\": 1602075.2, \"evebitda\": 19.5, \"pe\": 26.8, \"close\": 88.407, \"Gain\": -2.0379999999999967}, {\"ticker\": \"AAPL\", \"date\": \"2020-06-25 00:00:00\", \"marketcap\": 1581338.8, \"ev\": 1650671.8, \"evebitda\": 20.1, \"pe\": 27.6, \"close\": 91.21, \"Gain\": 2.8029999999999973}, {\"ticker\": \"AAPL\", \"date\": \"2020-06-24 00:00:00\", \"marketcap\": 1560620.7, \"ev\": 1629953.7, \"evebitda\": 19.9, \"pe\": 27.3, \"close\": 90.015, \"Gain\": -1.1949999999999932}, {\"ticker\": \"AAPL\", \"date\": \"2020-06-23 00:00:00\", \"marketcap\": 1588655.1, \"ev\": 1657988.1, \"evebitda\": 20.2, \"pe\": 27.8, \"close\": 91.632, \"Gain\": 1.6170000000000044}, {\"ticker\": \"AAPL\", \"date\": \"2020-06-22 00:00:00\", \"marketcap\": 1555471.5, \"ev\": 1624804.5, \"evebitda\": 19.8, \"pe\": 27.2, \"close\": 89.718, \"Gain\": -1.9140000000000015}, {\"ticker\": \"AAPL\", \"date\": \"2020-06-19 00:00:00\", \"marketcap\": 1515803.6, \"ev\": 1585136.6, \"evebitda\": 19.3, \"pe\": 26.5, \"close\": 87.43, \"Gain\": -2.2879999999999967}, {\"ticker\": \"AAPL\", \"date\": \"2020-06-18 00:00:00\", \"marketcap\": 1524524.3, \"ev\": 1593857.3, \"evebitda\": 19.4, \"pe\": 26.6, \"close\": 87.933, \"Gain\": 0.5030000000000001}, {\"ticker\": \"AAPL\", \"date\": \"2020-06-17 00:00:00\", \"marketcap\": 1523900.2, \"ev\": 1593233.2, \"evebitda\": 19.4, \"pe\": 26.6, \"close\": 87.897, \"Gain\": -0.036000000000001364}, {\"ticker\": \"AAPL\", \"date\": \"2020-06-16 00:00:00\", \"marketcap\": 1526032.7, \"ev\": 1595365.7, \"evebitda\": 19.5, \"pe\": 26.7, \"close\": 88.02, \"Gain\": 0.12299999999999045}, {\"ticker\": \"AAPL\", \"date\": \"2020-06-15 00:00:00\", \"marketcap\": 1486642.2, \"ev\": 1555975.2, \"evebitda\": 19.0, \"pe\": 26.0, \"close\": 85.748, \"Gain\": -2.2719999999999914}, {\"ticker\": \"AAPL\", \"date\": \"2020-06-12 00:00:00\", \"marketcap\": 1468472.7, \"ev\": 1537805.7, \"evebitda\": 18.7, \"pe\": 25.7, \"close\": 84.7, \"Gain\": -1.0480000000000018}, {\"ticker\": \"AAPL\", \"date\": \"2020-06-11 00:00:00\", \"marketcap\": 1455903.1, \"ev\": 1525236.1, \"evebitda\": 18.6, \"pe\": 25.4, \"close\": 83.975, \"Gain\": -0.7250000000000085}, {\"ticker\": \"AAPL\", \"date\": \"2020-06-10 00:00:00\", \"marketcap\": 1529326.8, \"ev\": 1598659.8, \"evebitda\": 19.5, \"pe\": 26.7, \"close\": 88.21, \"Gain\": 4.234999999999999}, {\"ticker\": \"AAPL\", \"date\": \"2020-06-09 00:00:00\", \"marketcap\": 1490976.6, \"ev\": 1560309.6, \"evebitda\": 19.0, \"pe\": 26.1, \"close\": 85.998, \"Gain\": -2.211999999999989}, {\"ticker\": \"AAPL\", \"date\": \"2020-06-08 00:00:00\", \"marketcap\": 1445327.3, \"ev\": 1514660.3, \"evebitda\": 18.5, \"pe\": 25.3, \"close\": 83.365, \"Gain\": -2.6330000000000098}, {\"ticker\": \"AAPL\", \"date\": \"2020-06-05 00:00:00\", \"marketcap\": 1436832.1, \"ev\": 1506165.1, \"evebitda\": 18.4, \"pe\": 25.1, \"close\": 82.875, \"Gain\": -0.4899999999999949}, {\"ticker\": \"AAPL\", \"date\": \"2020-06-04 00:00:00\", \"marketcap\": 1397042.9, \"ev\": 1466375.9, \"evebitda\": 17.9, \"pe\": 24.4, \"close\": 80.58, \"Gain\": -2.2950000000000017}, {\"ticker\": \"AAPL\", \"date\": \"2020-06-03 00:00:00\", \"marketcap\": 1409179.0, \"ev\": 1478512.0, \"evebitda\": 18.0, \"pe\": 24.6, \"close\": 81.28, \"Gain\": 0.7000000000000028}, {\"ticker\": \"AAPL\", \"date\": \"2020-06-02 00:00:00\", \"marketcap\": 1401463.9, \"ev\": 1470796.9, \"evebitda\": 17.9, \"pe\": 24.5, \"close\": 80.835, \"Gain\": -0.4450000000000074}, {\"ticker\": \"AAPL\", \"date\": \"2020-06-01 00:00:00\", \"marketcap\": 1395014.4, \"ev\": 1464347.4, \"evebitda\": 17.9, \"pe\": 24.4, \"close\": 80.463, \"Gain\": -0.3719999999999999}, {\"ticker\": \"AAPL\", \"date\": \"2020-05-29 00:00:00\", \"marketcap\": 1378058.5, \"ev\": 1447391.5, \"evebitda\": 17.6, \"pe\": 24.1, \"close\": 79.485, \"Gain\": -0.9779999999999944}, {\"ticker\": \"AAPL\", \"date\": \"2020-05-28 00:00:00\", \"marketcap\": 1379393.4, \"ev\": 1448726.4, \"evebitda\": 17.7, \"pe\": 24.1, \"close\": 79.562, \"Gain\": 0.07699999999999818}, {\"ticker\": \"AAPL\", \"date\": \"2020-05-27 00:00:00\", \"marketcap\": 1378804.0, \"ev\": 1448137.0, \"evebitda\": 17.7, \"pe\": 24.1, \"close\": 79.528, \"Gain\": -0.033999999999991815}, {\"ticker\": \"AAPL\", \"date\": \"2020-05-26 00:00:00\", \"marketcap\": 1372822.6, \"ev\": 1442155.6, \"evebitda\": 17.6, \"pe\": 24.0, \"close\": 79.183, \"Gain\": -0.34499999999999886}, {\"ticker\": \"AAPL\", \"date\": \"2020-05-22 00:00:00\", \"marketcap\": 1382167.4, \"ev\": 1451500.4, \"evebitda\": 17.7, \"pe\": 24.2, \"close\": 79.722, \"Gain\": 0.5389999999999873}, {\"ticker\": \"AAPL\", \"date\": \"2020-05-21 00:00:00\", \"marketcap\": 1373342.7, \"ev\": 1442675.7, \"evebitda\": 17.6, \"pe\": 24.0, \"close\": 79.213, \"Gain\": -0.5090000000000003}, {\"ticker\": \"AAPL\", \"date\": \"2020-05-20 00:00:00\", \"marketcap\": 1383658.4, \"ev\": 1452991.4, \"evebitda\": 17.7, \"pe\": 24.2, \"close\": 79.808, \"Gain\": 0.5950000000000131}, {\"ticker\": \"AAPL\", \"date\": \"2020-05-19 00:00:00\", \"marketcap\": 1357253.7, \"ev\": 1426586.7, \"evebitda\": 17.4, \"pe\": 23.7, \"close\": 78.285, \"Gain\": -1.5230000000000103}, {\"ticker\": \"AAPL\", \"date\": \"2020-05-18 00:00:00\", \"marketcap\": 1365142.2, \"ev\": 1434475.2, \"evebitda\": 17.5, \"pe\": 23.9, \"close\": 78.74, \"Gain\": 0.4549999999999983}, {\"ticker\": \"AAPL\", \"date\": \"2020-05-15 00:00:00\", \"marketcap\": 1333709.6, \"ev\": 1403042.6, \"evebitda\": 17.1, \"pe\": 23.3, \"close\": 76.927, \"Gain\": -1.8129999999999882}, {\"ticker\": \"AAPL\", \"date\": \"2020-05-14 00:00:00\", \"marketcap\": 1341650.1, \"ev\": 1410983.1, \"evebitda\": 17.2, \"pe\": 23.4, \"close\": 77.385, \"Gain\": 0.4579999999999984}, {\"ticker\": \"AAPL\", \"date\": \"2020-05-13 00:00:00\", \"marketcap\": 1333449.5, \"ev\": 1402782.5, \"evebitda\": 17.1, \"pe\": 23.3, \"close\": 76.912, \"Gain\": -0.472999999999999}, {\"ticker\": \"AAPL\", \"date\": \"2020-05-12 00:00:00\", \"marketcap\": 1349763.9, \"ev\": 1419096.9, \"evebitda\": 17.3, \"pe\": 23.6, \"close\": 77.853, \"Gain\": 0.9409999999999883}, {\"ticker\": \"AAPL\", \"date\": \"2020-05-11 00:00:00\", \"marketcap\": 1365350.2, \"ev\": 1434683.2, \"evebitda\": 17.5, \"pe\": 23.9, \"close\": 78.752, \"Gain\": 0.8990000000000009}, {\"ticker\": \"AAPL\", \"date\": \"2020-05-08 00:00:00\", \"marketcap\": 1344198.6, \"ev\": 1413531.6, \"evebitda\": 17.2, \"pe\": 23.5, \"close\": 77.532, \"Gain\": -1.2199999999999989}, {\"ticker\": \"AAPL\", \"date\": \"2020-05-07 00:00:00\", \"marketcap\": 1316510.9, \"ev\": 1385843.9, \"evebitda\": 16.9, \"pe\": 23.0, \"close\": 75.935, \"Gain\": -1.5969999999999942}, {\"ticker\": \"AAPL\", \"date\": \"2020-05-06 00:00:00\", \"marketcap\": 1303022.5, \"ev\": 1372355.5, \"evebitda\": 16.7, \"pe\": 22.8, \"close\": 75.157, \"Gain\": -0.7780000000000058}, {\"ticker\": \"AAPL\", \"date\": \"2020-05-05 00:00:00\", \"marketcap\": 1289724.7, \"ev\": 1359057.7, \"evebitda\": 16.6, \"pe\": 22.5, \"close\": 74.39, \"Gain\": -0.7669999999999959}, {\"ticker\": \"AAPL\", \"date\": \"2020-05-04 00:00:00\", \"marketcap\": 1270653.6, \"ev\": 1339986.6, \"evebitda\": 16.3, \"pe\": 22.2, \"close\": 73.29, \"Gain\": -1.0999999999999943}, {\"ticker\": \"AAPL\", \"date\": \"2020-05-01 00:00:00\", \"marketcap\": 1252917.5, \"ev\": 1322250.5, \"evebitda\": 16.1, \"pe\": 21.9, \"close\": 72.267, \"Gain\": -1.0230000000000103}, {\"ticker\": \"AAPL\", \"date\": \"2020-04-30 00:00:00\", \"marketcap\": 1285516.0, \"ev\": 1354037.0, \"evebitda\": 16.3, \"pe\": 22.3, \"close\": 73.45, \"Gain\": 1.183000000000007}, {\"ticker\": \"AAPL\", \"date\": \"2020-04-29 00:00:00\", \"marketcap\": 1258965.6, \"ev\": 1327486.6, \"evebitda\": 16.0, \"pe\": 21.9, \"close\": 71.933, \"Gain\": -1.516999999999996}, {\"ticker\": \"AAPL\", \"date\": \"2020-04-28 00:00:00\", \"marketcap\": 1218921.2, \"ev\": 1287442.2, \"evebitda\": 15.5, \"pe\": 21.2, \"close\": 69.645, \"Gain\": -2.288000000000011}, {\"ticker\": \"AAPL\", \"date\": \"2020-04-27 00:00:00\", \"marketcap\": 1239013.4, \"ev\": 1307534.4, \"evebitda\": 15.7, \"pe\": 21.5, \"close\": 70.793, \"Gain\": 1.1480000000000103}, {\"ticker\": \"AAPL\", \"date\": \"2020-04-24 00:00:00\", \"marketcap\": 1238138.3, \"ev\": 1306659.3, \"evebitda\": 15.7, \"pe\": 21.5, \"close\": 70.743, \"Gain\": -0.05000000000001137}, {\"ticker\": \"AAPL\", \"date\": \"2020-04-23 00:00:00\", \"marketcap\": 1203379.5, \"ev\": 1271900.5, \"evebitda\": 15.3, \"pe\": 20.9, \"close\": 68.757, \"Gain\": -1.98599999999999}, {\"ticker\": \"AAPL\", \"date\": \"2020-04-21 00:00:00\", \"marketcap\": 1174256.3, \"ev\": 1242777.3, \"evebitda\": 14.9, \"pe\": 20.4, \"close\": 67.093, \"Gain\": -1.6640000000000015}, {\"ticker\": \"AAPL\", \"date\": \"2020-04-20 00:00:00\", \"marketcap\": 1211710.4, \"ev\": 1280231.4, \"evebitda\": 15.4, \"pe\": 21.1, \"close\": 69.233, \"Gain\": 2.1400000000000006}, {\"ticker\": \"AAPL\", \"date\": \"2020-04-17 00:00:00\", \"marketcap\": 1237385.7, \"ev\": 1305906.7, \"evebitda\": 15.7, \"pe\": 21.5, \"close\": 70.7, \"Gain\": 1.4669999999999987}, {\"ticker\": \"AAPL\", \"date\": \"2020-04-16 00:00:00\", \"marketcap\": 1254397.6, \"ev\": 1322918.6, \"evebitda\": 15.9, \"pe\": 21.8, \"close\": 71.672, \"Gain\": 0.9719999999999942}, {\"ticker\": \"AAPL\", \"date\": \"2020-04-15 00:00:00\", \"marketcap\": 1244526.5, \"ev\": 1313047.5, \"evebitda\": 15.8, \"pe\": 21.6, \"close\": 71.108, \"Gain\": -0.563999999999993}, {\"ticker\": \"AAPL\", \"date\": \"2020-04-14 00:00:00\", \"marketcap\": 1255990.3, \"ev\": 1324511.3, \"evebitda\": 15.9, \"pe\": 21.8, \"close\": 71.763, \"Gain\": 0.6550000000000011}, {\"ticker\": \"AAPL\", \"date\": \"2020-04-13 00:00:00\", \"marketcap\": 1195591.2, \"ev\": 1264112.2, \"evebitda\": 15.2, \"pe\": 20.8, \"close\": 68.312, \"Gain\": -3.4510000000000076}, {\"ticker\": \"AAPL\", \"date\": \"2020-04-09 00:00:00\", \"marketcap\": 1172593.6, \"ev\": 1241114.6, \"evebitda\": 14.9, \"pe\": 20.4, \"close\": 66.998, \"Gain\": -1.313999999999993}, {\"ticker\": \"AAPL\", \"date\": \"2020-04-08 00:00:00\", \"marketcap\": 1164175.2, \"ev\": 1232696.2, \"evebitda\": 14.8, \"pe\": 20.2, \"close\": 66.517, \"Gain\": -0.48100000000000875}, {\"ticker\": \"AAPL\", \"date\": \"2020-04-07 00:00:00\", \"marketcap\": 1135139.5, \"ev\": 1203660.5, \"evebitda\": 14.5, \"pe\": 19.7, \"close\": 64.858, \"Gain\": -1.6589999999999918}, {\"ticker\": \"AAPL\", \"date\": \"2020-04-06 00:00:00\", \"marketcap\": 1148441.0, \"ev\": 1216962.0, \"evebitda\": 14.6, \"pe\": 20.0, \"close\": 65.618, \"Gain\": 0.7599999999999909}, {\"ticker\": \"AAPL\", \"date\": \"2020-04-03 00:00:00\", \"marketcap\": 1056275.9, \"ev\": 1124796.9, \"evebitda\": 13.5, \"pe\": 18.4, \"close\": 60.352, \"Gain\": -5.265999999999998}, {\"ticker\": \"AAPL\", \"date\": \"2020-04-02 00:00:00\", \"marketcap\": 1071695.1, \"ev\": 1140216.1, \"evebitda\": 13.7, \"pe\": 18.6, \"close\": 61.233, \"Gain\": 0.8810000000000002}, {\"ticker\": \"AAPL\", \"date\": \"2020-04-01 00:00:00\", \"marketcap\": 1054088.1, \"ev\": 1122609.1, \"evebitda\": 13.5, \"pe\": 18.3, \"close\": 60.227, \"Gain\": -1.0060000000000002}, {\"ticker\": \"AAPL\", \"date\": \"2020-03-31 00:00:00\", \"marketcap\": 1112632.1, \"ev\": 1181153.1, \"evebitda\": 14.2, \"pe\": 19.3, \"close\": 63.572, \"Gain\": 3.345000000000006}, {\"ticker\": \"AAPL\", \"date\": \"2020-03-30 00:00:00\", \"marketcap\": 1114924.8, \"ev\": 1183445.8, \"evebitda\": 14.2, \"pe\": 19.4, \"close\": 63.703, \"Gain\": 0.13100000000000023}, {\"ticker\": \"AAPL\", \"date\": \"2020-03-27 00:00:00\", \"marketcap\": 1083981.4, \"ev\": 1152502.4, \"evebitda\": 13.9, \"pe\": 18.8, \"close\": 61.935, \"Gain\": -1.7680000000000007}, {\"ticker\": \"AAPL\", \"date\": \"2020-03-26 00:00:00\", \"marketcap\": 1130799.1, \"ev\": 1199320.1, \"evebitda\": 14.4, \"pe\": 19.7, \"close\": 64.61, \"Gain\": 2.674999999999997}, {\"ticker\": \"AAPL\", \"date\": \"2020-03-25 00:00:00\", \"marketcap\": 1074267.8, \"ev\": 1142788.8, \"evebitda\": 13.7, \"pe\": 18.7, \"close\": 61.38, \"Gain\": -3.229999999999997}, {\"ticker\": \"AAPL\", \"date\": \"2020-03-24 00:00:00\", \"marketcap\": 1080218.5, \"ev\": 1148739.5, \"evebitda\": 13.8, \"pe\": 18.8, \"close\": 61.72, \"Gain\": 0.3399999999999963}, {\"ticker\": \"AAPL\", \"date\": \"2020-03-23 00:00:00\", \"marketcap\": 981735.2, \"ev\": 1050256.2, \"evebitda\": 12.6, \"pe\": 17.1, \"close\": 56.093, \"Gain\": -5.626999999999995}, {\"ticker\": \"AAPL\", \"date\": \"2020-03-20 00:00:00\", \"marketcap\": 1003035.0, \"ev\": 1071556.0, \"evebitda\": 12.9, \"pe\": 17.4, \"close\": 57.31, \"Gain\": 1.2169999999999987}, {\"ticker\": \"AAPL\", \"date\": \"2020-03-19 00:00:00\", \"marketcap\": 1071030.0, \"ev\": 1139551.0, \"evebitda\": 13.7, \"pe\": 18.6, \"close\": 61.195, \"Gain\": 3.884999999999998}, {\"ticker\": \"AAPL\", \"date\": \"2020-03-18 00:00:00\", \"marketcap\": 1079290.9, \"ev\": 1147811.9, \"evebitda\": 13.8, \"pe\": 18.8, \"close\": 61.667, \"Gain\": 0.4720000000000013}, {\"ticker\": \"AAPL\", \"date\": \"2020-03-17 00:00:00\", \"marketcap\": 1106383.9, \"ev\": 1174904.9, \"evebitda\": 14.1, \"pe\": 19.2, \"close\": 63.215, \"Gain\": 1.5480000000000018}, {\"ticker\": \"AAPL\", \"date\": \"2020-03-16 00:00:00\", \"marketcap\": 1059793.8, \"ev\": 1128314.8, \"evebitda\": 13.6, \"pe\": 18.4, \"close\": 60.553, \"Gain\": -2.662000000000006}, {\"ticker\": \"AAPL\", \"date\": \"2020-03-13 00:00:00\", \"marketcap\": 1216260.9, \"ev\": 1284781.9, \"evebitda\": 15.4, \"pe\": 21.1, \"close\": 69.493, \"Gain\": 8.939999999999998}, {\"ticker\": \"AAPL\", \"date\": \"2020-03-12 00:00:00\", \"marketcap\": 1086116.6, \"ev\": 1154637.6, \"evebitda\": 13.9, \"pe\": 18.9, \"close\": 62.057, \"Gain\": -7.435999999999993}, {\"ticker\": \"AAPL\", \"date\": \"2020-03-11 00:00:00\", \"marketcap\": 1205147.2, \"ev\": 1273668.2, \"evebitda\": 15.3, \"pe\": 20.9, \"close\": 68.858, \"Gain\": 6.801000000000002}, {\"ticker\": \"AAPL\", \"date\": \"2020-03-10 00:00:00\", \"marketcap\": 1248499.5, \"ev\": 1317020.5, \"evebitda\": 15.8, \"pe\": 21.7, \"close\": 71.335, \"Gain\": 2.4769999999999897}, {\"ticker\": \"AAPL\", \"date\": \"2020-03-09 00:00:00\", \"marketcap\": 1164630.3, \"ev\": 1233151.3, \"evebitda\": 14.8, \"pe\": 20.2, \"close\": 66.543, \"Gain\": -4.791999999999987}, {\"ticker\": \"AAPL\", \"date\": \"2020-03-06 00:00:00\", \"marketcap\": 1264636.2, \"ev\": 1333157.2, \"evebitda\": 16.0, \"pe\": 22.0, \"close\": 72.257, \"Gain\": 5.713999999999999}, {\"ticker\": \"AAPL\", \"date\": \"2020-03-05 00:00:00\", \"marketcap\": 1281665.6, \"ev\": 1350186.6, \"evebitda\": 16.2, \"pe\": 22.3, \"close\": 73.23, \"Gain\": 0.972999999999999}, {\"ticker\": \"AAPL\", \"date\": \"2020-03-04 00:00:00\", \"marketcap\": 1324632.8, \"ev\": 1393153.8, \"evebitda\": 16.7, \"pe\": 23.0, \"close\": 75.685, \"Gain\": 2.4549999999999983}, {\"ticker\": \"AAPL\", \"date\": \"2020-03-03 00:00:00\", \"marketcap\": 1265913.9, \"ev\": 1334434.9, \"evebitda\": 16.0, \"pe\": 22.0, \"close\": 72.33, \"Gain\": -3.355000000000004}, {\"ticker\": \"AAPL\", \"date\": \"2020-03-02 00:00:00\", \"marketcap\": 1307445.9, \"ev\": 1375966.9, \"evebitda\": 16.5, \"pe\": 22.7, \"close\": 74.703, \"Gain\": 2.3730000000000047}, {\"ticker\": \"AAPL\", \"date\": \"2020-02-28 00:00:00\", \"marketcap\": 1196081.2, \"ev\": 1264602.2, \"evebitda\": 15.2, \"pe\": 20.8, \"close\": 68.34, \"Gain\": -6.3629999999999995}, {\"ticker\": \"AAPL\", \"date\": \"2020-02-27 00:00:00\", \"marketcap\": 1196781.3, \"ev\": 1265302.3, \"evebitda\": 15.2, \"pe\": 20.8, \"close\": 68.38, \"Gain\": 0.03999999999999204}, {\"ticker\": \"AAPL\", \"date\": \"2020-02-26 00:00:00\", \"marketcap\": 1280475.5, \"ev\": 1348996.5, \"evebitda\": 16.2, \"pe\": 22.3, \"close\": 73.162, \"Gain\": 4.782000000000011}, {\"ticker\": \"AAPL\", \"date\": \"2020-02-25 00:00:00\", \"marketcap\": 1260488.3, \"ev\": 1329009.3, \"evebitda\": 16.0, \"pe\": 21.9, \"close\": 72.02, \"Gain\": -1.1420000000000101}, {\"ticker\": \"AAPL\", \"date\": \"2020-02-24 00:00:00\", \"marketcap\": 1304680.6, \"ev\": 1373201.6, \"evebitda\": 16.5, \"pe\": 22.7, \"close\": 74.545, \"Gain\": 2.5250000000000057}, {\"ticker\": \"AAPL\", \"date\": \"2020-02-21 00:00:00\", \"marketcap\": 1369752.8, \"ev\": 1438273.8, \"evebitda\": 17.3, \"pe\": 23.8, \"close\": 78.263, \"Gain\": 3.7180000000000035}, {\"ticker\": \"AAPL\", \"date\": \"2020-02-20 00:00:00\", \"marketcap\": 1401466.2, \"ev\": 1469987.2, \"evebitda\": 17.7, \"pe\": 24.4, \"close\": 80.075, \"Gain\": 1.8119999999999976}, {\"ticker\": \"AAPL\", \"date\": \"2020-02-19 00:00:00\", \"marketcap\": 1415992.8, \"ev\": 1484513.8, \"evebitda\": 17.8, \"pe\": 24.6, \"close\": 80.905, \"Gain\": 0.8299999999999983}, {\"ticker\": \"AAPL\", \"date\": \"2020-02-18 00:00:00\", \"marketcap\": 1395778.1, \"ev\": 1464299.1, \"evebitda\": 17.6, \"pe\": 24.3, \"close\": 79.75, \"Gain\": -1.1550000000000011}, {\"ticker\": \"AAPL\", \"date\": \"2020-02-14 00:00:00\", \"marketcap\": 1421803.5, \"ev\": 1490324.5, \"evebitda\": 17.9, \"pe\": 24.7, \"close\": 81.237, \"Gain\": 1.4869999999999948}, {\"ticker\": \"AAPL\", \"date\": \"2020-02-13 00:00:00\", \"marketcap\": 1421470.9, \"ev\": 1489991.9, \"evebitda\": 17.9, \"pe\": 24.7, \"close\": 81.218, \"Gain\": -0.018999999999991246}, {\"ticker\": \"AAPL\", \"date\": \"2020-02-12 00:00:00\", \"marketcap\": 1431657.1, \"ev\": 1500178.1, \"evebitda\": 18.0, \"pe\": 24.9, \"close\": 81.8, \"Gain\": 0.5819999999999936}, {\"ticker\": \"AAPL\", \"date\": \"2020-02-11 00:00:00\", \"marketcap\": 1398455.9, \"ev\": 1466976.9, \"evebitda\": 17.6, \"pe\": 24.3, \"close\": 79.903, \"Gain\": -1.8969999999999914}, {\"ticker\": \"AAPL\", \"date\": \"2020-02-10 00:00:00\", \"marketcap\": 1406944.3, \"ev\": 1475465.3, \"evebitda\": 17.7, \"pe\": 24.5, \"close\": 80.388, \"Gain\": 0.48499999999999943}, {\"ticker\": \"AAPL\", \"date\": \"2020-02-07 00:00:00\", \"marketcap\": 1400276.1, \"ev\": 1468797.1, \"evebitda\": 17.7, \"pe\": 24.3, \"close\": 80.007, \"Gain\": -0.3810000000000002}, {\"ticker\": \"AAPL\", \"date\": \"2020-02-06 00:00:00\", \"marketcap\": 1422941.1, \"ev\": 1491462.1, \"evebitda\": 17.9, \"pe\": 24.7, \"close\": 81.302, \"Gain\": 1.2950000000000017}, {\"ticker\": \"AAPL\", \"date\": \"2020-02-05 00:00:00\", \"marketcap\": 1406489.3, \"ev\": 1475010.3, \"evebitda\": 17.7, \"pe\": 24.4, \"close\": 80.362, \"Gain\": -0.9400000000000119}, {\"ticker\": \"AAPL\", \"date\": \"2020-02-04 00:00:00\", \"marketcap\": 1395130.5, \"ev\": 1463651.5, \"evebitda\": 17.6, \"pe\": 24.3, \"close\": 79.713, \"Gain\": -0.6490000000000009}, {\"ticker\": \"AAPL\", \"date\": \"2020-02-03 00:00:00\", \"marketcap\": 1350535.7, \"ev\": 1419056.7, \"evebitda\": 17.1, \"pe\": 23.5, \"close\": 77.165, \"Gain\": -2.5479999999999876}, {\"ticker\": \"AAPL\", \"date\": \"2020-01-31 00:00:00\", \"marketcap\": 1354246.1, \"ev\": 1422767.1, \"evebitda\": 17.1, \"pe\": 23.5, \"close\": 77.377, \"Gain\": 0.21199999999998909}, {\"ticker\": \"AAPL\", \"date\": \"2020-01-30 00:00:00\", \"marketcap\": 1417095.5, \"ev\": 1485616.5, \"evebitda\": 17.9, \"pe\": 24.6, \"close\": 80.968, \"Gain\": 3.591000000000008}, {\"ticker\": \"AAPL\", \"date\": \"2020-01-29 00:00:00\", \"marketcap\": 1419143.2, \"ev\": 1487664.2, \"evebitda\": 17.9, \"pe\": 24.7, \"close\": 81.085, \"Gain\": 0.11699999999999022}, {\"ticker\": \"AAPL\", \"date\": \"2020-01-28 00:00:00\", \"marketcap\": 1411572.0, \"ev\": 1470775.0, \"evebitda\": 18.0, \"pe\": 25.5, \"close\": 79.422, \"Gain\": -1.6629999999999967}, {\"ticker\": \"AAPL\", \"date\": \"2020-01-27 00:00:00\", \"marketcap\": 1372737.8, \"ev\": 1431940.8, \"evebitda\": 17.5, \"pe\": 24.8, \"close\": 77.237, \"Gain\": -2.1850000000000023}, {\"ticker\": \"AAPL\", \"date\": \"2020-01-24 00:00:00\", \"marketcap\": 1414344.6, \"ev\": 1473547.6, \"evebitda\": 18.0, \"pe\": 25.6, \"close\": 79.578, \"Gain\": 2.341000000000008}, {\"ticker\": \"AAPL\", \"date\": \"2020-01-23 00:00:00\", \"marketcap\": 1418432.4, \"ev\": 1477635.4, \"evebitda\": 18.1, \"pe\": 25.7, \"close\": 79.808, \"Gain\": 0.23000000000000398}, {\"ticker\": \"AAPL\", \"date\": \"2020-01-22 00:00:00\", \"marketcap\": 1411625.3, \"ev\": 1470828.3, \"evebitda\": 18.0, \"pe\": 25.5, \"close\": 79.425, \"Gain\": -0.3830000000000098}, {\"ticker\": \"AAPL\", \"date\": \"2020-01-21 00:00:00\", \"marketcap\": 1406595.5, \"ev\": 1465798.5, \"evebitda\": 17.9, \"pe\": 25.5, \"close\": 79.142, \"Gain\": -0.28300000000000125}, {\"ticker\": \"AAPL\", \"date\": \"2020-01-17 00:00:00\", \"marketcap\": 1416210.7, \"ev\": 1475413.7, \"evebitda\": 18.0, \"pe\": 25.6, \"close\": 79.683, \"Gain\": 0.541000000000011}, {\"ticker\": \"AAPL\", \"date\": \"2020-01-16 00:00:00\", \"marketcap\": 1400694.9, \"ev\": 1459897.9, \"evebitda\": 17.8, \"pe\": 25.3, \"close\": 78.81, \"Gain\": -0.8730000000000047}, {\"ticker\": \"AAPL\", \"date\": \"2020-01-15 00:00:00\", \"marketcap\": 1383366.1, \"ev\": 1442569.1, \"evebitda\": 17.6, \"pe\": 25.0, \"close\": 77.835, \"Gain\": -0.9750000000000085}, {\"ticker\": \"AAPL\", \"date\": \"2020-01-14 00:00:00\", \"marketcap\": 1389320.1, \"ev\": 1448523.1, \"evebitda\": 17.7, \"pe\": 25.1, \"close\": 78.17, \"Gain\": 0.33500000000000796}, {\"ticker\": \"AAPL\", \"date\": \"2020-01-13 00:00:00\", \"marketcap\": 1408337.3, \"ev\": 1467540.3, \"evebitda\": 17.9, \"pe\": 25.5, \"close\": 79.24, \"Gain\": 1.0699999999999932}, {\"ticker\": \"AAPL\", \"date\": \"2020-01-10 00:00:00\", \"marketcap\": 1378869.5, \"ev\": 1438072.5, \"evebitda\": 17.6, \"pe\": 25.0, \"close\": 77.582, \"Gain\": -1.6580000000000013}, {\"ticker\": \"AAPL\", \"date\": \"2020-01-09 00:00:00\", \"marketcap\": 1375759.3, \"ev\": 1434962.3, \"evebitda\": 17.5, \"pe\": 24.9, \"close\": 77.407, \"Gain\": -0.17499999999999716}, {\"ticker\": \"AAPL\", \"date\": \"2020-01-08 00:00:00\", \"marketcap\": 1347144.6, \"ev\": 1406347.6, \"evebitda\": 17.2, \"pe\": 24.4, \"close\": 75.797, \"Gain\": -1.6099999999999994}, {\"ticker\": \"AAPL\", \"date\": \"2020-01-07 00:00:00\", \"marketcap\": 1325817.0, \"ev\": 1385020.0, \"evebitda\": 16.9, \"pe\": 24.0, \"close\": 74.597, \"Gain\": -1.2000000000000028}, {\"ticker\": \"AAPL\", \"date\": \"2020-01-06 00:00:00\", \"marketcap\": 1332090.8, \"ev\": 1391293.8, \"evebitda\": 17.0, \"pe\": 24.1, \"close\": 74.95, \"Gain\": 0.35300000000000864}, {\"ticker\": \"AAPL\", \"date\": \"2020-01-03 00:00:00\", \"marketcap\": 1321569.2, \"ev\": 1380772.2, \"evebitda\": 16.9, \"pe\": 23.9, \"close\": 74.358, \"Gain\": -0.5919999999999987}, {\"ticker\": \"AAPL\", \"date\": \"2020-01-02 00:00:00\", \"marketcap\": 1334543.5, \"ev\": 1393746.5, \"evebitda\": 17.0, \"pe\": 24.2, \"close\": 75.088, \"Gain\": 0.7299999999999898}, {\"ticker\": \"AAPL\", \"date\": \"2020-04-22 00:00:00\", \"marketcap\": 1208070.0, \"ev\": 1276591.0, \"evebitda\": 15.3, \"pe\": 21.0, \"close\": 69.025, \"Gain\": -6.062999999999988}]}}, {\"mode\": \"vega-lite\"});\n",
       "</script>"
      ],
      "text/plain": [
       "alt.Chart(...)"
      ]
     },
     "execution_count": 4,
     "metadata": {},
     "output_type": "execute_result"
    }
   ],
   "source": [
    "import altair as alt\n",
    "\n",
    "alt.Chart(AAPL_df_2020).mark_bar().encode(\n",
    "    alt.X(\"Gain\", bin=alt.Bin(maxbins=100)),\n",
    "    y='count()')"
   ]
  },
  {
   "cell_type": "markdown",
   "id": "f205a32f",
   "metadata": {},
   "source": [
    "A high Kurtosis is obtained from very high 'sharp' peaks such as this one. The skew is not that high, but is postive, indicating a right-leaning distribution"
   ]
  },
  {
   "cell_type": "markdown",
   "id": "cb976c95",
   "metadata": {},
   "source": [
    "More objective tests are available in the `scipy.stats` package. For instance, the Shapiro-Wilk test is commonly used and is a good test for small to medium datasets, with up to a few thousand datapoints"
   ]
  },
  {
   "cell_type": "code",
   "execution_count": 5,
   "id": "cf064738",
   "metadata": {},
   "outputs": [],
   "source": [
    "statistic, p = stats.shapiro(AAPL_df_2020['Gain'])"
   ]
  },
  {
   "cell_type": "code",
   "execution_count": 6,
   "id": "87fbe588",
   "metadata": {},
   "outputs": [
    {
     "data": {
      "text/plain": [
       "6.582437436009059e-06"
      ]
     },
     "execution_count": 6,
     "metadata": {},
     "output_type": "execute_result"
    }
   ],
   "source": [
    "p # comaprw the p value to the acceptable aplha value"
   ]
  },
  {
   "cell_type": "code",
   "execution_count": 7,
   "id": "6499e053",
   "metadata": {},
   "outputs": [
    {
     "name": "stdout",
     "output_type": "stream",
     "text": [
      "The data does not look like it was drawn from a normal distribution\n"
     ]
    }
   ],
   "source": [
    "if p > 0.05:\n",
    "    print(\"The data looks like it was drawn from a normal distribution\")\n",
    "else:\n",
    "    print(\"The data does not look like it was drawn from a normal distribution\")"
   ]
  },
  {
   "cell_type": "markdown",
   "id": "967c9ec5",
   "metadata": {},
   "source": [
    "### What is a p-value?"
   ]
  },
  {
   "cell_type": "markdown",
   "id": "e9d296d5",
   "metadata": {},
   "source": [
    "The p-value above is a commonly used term to describe the probability of your test being true."
   ]
  },
  {
   "cell_type": "markdown",
   "id": "5d67ad76",
   "metadata": {},
   "source": [
    "As it is a probability, it has a value between 0 and 1. Values near 0 indicate that your test is 'not likely to be true' and values near 1 indicate that your test is 'likely to be true'. Often, we apply a threshhold, and if the p value is greater than that threshhold, accept the outcome as \"likely enough, and we continue as if it were true\"; that is, we accept the outcome of the test as a 'positive.'"
   ]
  },
  {
   "cell_type": "markdown",
   "id": "b2f45282",
   "metadata": {},
   "source": [
    "It is very common to use a threshold of 0.05 when performing a test. That is, if the test has > 95% chance of being true, accept it as such. While this is an adequate rule of thumb, it is not a one-size-fits-all solution to the problem of choosing a p value threshold."
   ]
  },
  {
   "cell_type": "markdown",
   "id": "b019cf40",
   "metadata": {},
   "source": [
    "Where this is normally seen in classical statistics is with a `Null`, and `Alternative` hypothesus. The null hypothesis is the 'nothing is surprising' hypothesis and the alternative is 'there is something interesting here'. For the Shapiro-Wilk above, the hypothesis are:"
   ]
  },
  {
   "cell_type": "markdown",
   "id": "6e4792f0",
   "metadata": {},
   "source": [
    "+ The **`Null`** hypothesis: the data is drawn from a normal distribution\n",
    "+ The **`Alternative`** hypothesis: The data was not drawn from a normal distribution"
   ]
  },
  {
   "cell_type": "markdown",
   "id": "26e21101",
   "metadata": {},
   "source": [
    "These tests are mutually exclusive tests. If the value for the Null hypothesis is x, then the probability of the alternative being true is 1 - x."
   ]
  },
  {
   "cell_type": "markdown",
   "id": "3ea65681",
   "metadata": {},
   "source": [
    "To reject the Null hypothesis, to indicate something else is going on, require the p value to be less than 0.05, for there to be a greater than 95% chance the Alternative hypothesis is true."
   ]
  },
  {
   "cell_type": "markdown",
   "id": "f18d2a89",
   "metadata": {},
   "source": [
    "This might seem like a high standard to meet, but humans often see patterns in data that are not there. Statistics are used to test these patterns and to ensure that don't be over-confident with pattern matching."
   ]
  },
  {
   "cell_type": "markdown",
   "id": "cb40f3a1",
   "metadata": {},
   "source": [
    "Using a different set of data:"
   ]
  },
  {
   "cell_type": "code",
   "execution_count": 8,
   "id": "3e6c971a",
   "metadata": {},
   "outputs": [],
   "source": [
    "import numpy as np\n",
    "heights = np.array([\n",
    "    205.61624376, 155.80577135, 202.09636984, 159.19312848,\n",
    "    160.0263383 , 147.44200373, 160.96891569, 160.76304892,\n",
    "    167.59165377, 164.31571823, 151.11269914, 176.43856129,\n",
    "    176.88435091, 138.04177187, 183.87507305, 162.81488426,\n",
    "    167.96767641, 144.68437342, 180.88771461, 179.18997091,\n",
    "    189.81672505, 163.68662119, 175.70135072, 167.32793289,\n",
    "    163.72509862, 207.93257342, 177.41722601, 167.28154916,\n",
    "    170.26294662, 187.01142671, 178.3108478 , 168.8711774 ,\n",
    "    202.77222671, 138.55043572, 187.10284379, 155.13494037,\n",
    "    175.24219374, 188.54739561, 191.42024196, 174.34537673,\n",
    "    158.36285104, 183.17014557, 166.36310929, 185.3415384 ,\n",
    "    163.87673308, 173.70401469, 168.78499868, 167.39762991,\n",
    "    166.89193943, 191.04035344, 148.02108024, 140.82772936,\n",
    "    168.85378921, 142.13536543, 189.77084606, 173.7849811 ,\n",
    "    157.61303804, 171.62493617, 173.30529631, 162.92083214,\n",
    "    169.52974326, 142.01039665, 176.01691215, 170.32439763,\n",
    "    172.64616031, 158.35076247, 185.96332979, 176.6176222 ,\n",
    "    204.68516079, 161.43591954, 172.42384543, 179.36900257,\n",
    "    170.01353653, 194.40269002, 139.96802012, 156.47281846,\n",
    "    210.21895193, 153.30508193, 157.10282665, 200.07040619,\n",
    "    174.69616438, 168.97403285, 188.9396949 , 156.19358617,\n",
    "    179.56494356, 175.04014032, 164.1384659 , 167.90219562,\n",
    "    184.80752625, 143.56580744, 169.80537836, 186.5894398 ,\n",
    "    166.39251657, 165.65510886, 195.49137372, 152.21650272,\n",
    "    163.14001055, 170.27382512, 147.63901378, 190.32910286])"
   ]
  },
  {
   "cell_type": "code",
   "execution_count": 9,
   "id": "a9a3b2e0",
   "metadata": {},
   "outputs": [],
   "source": [
    "statistic, p = stats.shapiro(heights)"
   ]
  },
  {
   "cell_type": "code",
   "execution_count": 10,
   "id": "c0e755f0",
   "metadata": {},
   "outputs": [
    {
     "name": "stdout",
     "output_type": "stream",
     "text": [
      "The data looks like it was drawn from a normal distribution\n",
      "p=0.278\n"
     ]
    }
   ],
   "source": [
    "if p > 0.05:\n",
    "    print(\"The data looks like it was drawn from a normal distribution\")\n",
    "    print(\"p={:.3f}\".format(p))\n",
    "else:\n",
    "    print(\"The data does not look like it was drawn from a normal distribution\")"
   ]
  },
  {
   "cell_type": "markdown",
   "id": "f8dbdf7e",
   "metadata": {},
   "source": [
    "### Exercise"
   ]
  },
  {
   "cell_type": "markdown",
   "id": "f43b8358",
   "metadata": {},
   "source": [
    "Two other commonly used tests for normality are available in `scipy.stats`. They are `stats.normaltest` and `stats.ktest`."
   ]
  },
  {
   "cell_type": "code",
   "execution_count": 12,
   "id": "f82bae97",
   "metadata": {},
   "outputs": [
    {
     "name": "stdout",
     "output_type": "stream",
     "text": [
      "0.6994130645220737 0.0\n"
     ]
    }
   ],
   "source": [
    "statistic_chi, p_c = stats.normaltest(heights)\n",
    "statistic_k, p_k = stats.kstest(heights, cdf='norm')\n",
    "print(str(p_c), str(p_k))"
   ]
  },
  {
   "cell_type": "markdown",
   "id": "a10b5c21",
   "metadata": {},
   "source": [
    "## Statsmodels"
   ]
  },
  {
   "cell_type": "markdown",
   "id": "d21a9504",
   "metadata": {},
   "source": [
    "Will now perform a normality test using the **`statsmodels`** package. This package allows for higher-level statistics than the `scipy` module. "
   ]
  },
  {
   "cell_type": "code",
   "execution_count": 13,
   "id": "2020f25f",
   "metadata": {},
   "outputs": [
    {
     "name": "stderr",
     "output_type": "stream",
     "text": [
      "/Users/brendan/opt/anaconda3/lib/python3.8/site-packages/statsmodels/tsa/base/tsa_model.py:7: FutureWarning: pandas.Int64Index is deprecated and will be removed from pandas in a future version. Use pandas.Index with the appropriate dtype instead.\n",
      "  from pandas import (to_datetime, Int64Index, DatetimeIndex, Period,\n",
      "/Users/brendan/opt/anaconda3/lib/python3.8/site-packages/statsmodels/tsa/base/tsa_model.py:7: FutureWarning: pandas.Float64Index is deprecated and will be removed from pandas in a future version. Use pandas.Index with the appropriate dtype instead.\n",
      "  from pandas import (to_datetime, Int64Index, DatetimeIndex, Period,\n"
     ]
    }
   ],
   "source": [
    "import statsmodels.api as sm"
   ]
  },
  {
   "cell_type": "code",
   "execution_count": 14,
   "id": "91ed181d",
   "metadata": {},
   "outputs": [],
   "source": [
    "statistic, p_value = sm.stats.diagnostic.kstest_normal(heights)"
   ]
  },
  {
   "cell_type": "code",
   "execution_count": 15,
   "id": "8af8d980",
   "metadata": {},
   "outputs": [
    {
     "name": "stdout",
     "output_type": "stream",
     "text": [
      "The data looks like it was drawn from a normal distribution\n",
      "p=0.395\n"
     ]
    }
   ],
   "source": [
    "if p_value > 0.05:\n",
    "    print(\"The data looks like it was drawn from a normal distribution\")\n",
    "    print(\"p={:.3f}\".format(p_value))\n",
    "else:\n",
    "    print(\"The data does not look like it was drawn from a normal distribution\")"
   ]
  },
  {
   "cell_type": "markdown",
   "id": "7c49fbba",
   "metadata": {},
   "source": [
    "### Exercise"
   ]
  },
  {
   "cell_type": "markdown",
   "id": "b8fbdd17",
   "metadata": {},
   "source": [
    "Review the documentation for `statsmodels` and run the Jarque-Bera test for normality on this dat."
   ]
  },
  {
   "cell_type": "code",
   "execution_count": null,
   "id": "112409e4",
   "metadata": {},
   "outputs": [],
   "source": [
    "from statsmodels.stats import stattools\n",
    "\n",
    "jbstat, pvalue, skew, kurtosis = stattools.jarque_bera(heights)\n",
    "print(p_value)"
   ]
  }
 ],
 "metadata": {
  "kernelspec": {
   "display_name": "Python 3",
   "language": "python",
   "name": "python3"
  },
  "language_info": {
   "codemirror_mode": {
    "name": "ipython",
    "version": 3
   },
   "file_extension": ".py",
   "mimetype": "text/x-python",
   "name": "python",
   "nbconvert_exporter": "python",
   "pygments_lexer": "ipython3",
   "version": "3.8.8"
  }
 },
 "nbformat": 4,
 "nbformat_minor": 5
}
