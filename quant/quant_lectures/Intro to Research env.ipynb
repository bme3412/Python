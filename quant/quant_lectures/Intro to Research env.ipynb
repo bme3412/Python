{
 "cells": [
  {
   "cell_type": "markdown",
   "id": "a696946a",
   "metadata": {},
   "source": [
    "## Getting Returns from Price"
   ]
  },
  {
   "cell_type": "markdown",
   "id": "dcc7782a",
   "metadata": {},
   "source": [
    "Can use the `pct_change` function to get returns. While doing so, drop the first element after doing this, as it will be `NaN`"
   ]
  },
  {
   "cell_type": "code",
   "execution_count": 8,
   "id": "2add9a92",
   "metadata": {},
   "outputs": [
    {
     "data": {
      "text/html": [
       "<div><div id=2bb03817-0254-45da-a18c-c6f76f1e45b7 style=\"display:none; background-color:#9D6CFF; color:white; width:200px; height:30px; padding-left:5px; border-radius:4px; flex-direction:row; justify-content:space-around; align-items:center;\" onmouseover=\"this.style.backgroundColor='#BA9BF8'\" onmouseout=\"this.style.backgroundColor='#9D6CFF'\" onclick=\"window.commands?.execute('create-mitosheet-from-dataframe-output');\">See Full Dataframe in Mito</div> <script> if (window.commands.hasCommand('create-mitosheet-from-dataframe-output')) document.getElementById('2bb03817-0254-45da-a18c-c6f76f1e45b7').style.display = 'flex' </script> <table border=\"1\" class=\"dataframe\">\n",
       "  <thead>\n",
       "    <tr style=\"text-align: right;\">\n",
       "      <th></th>\n",
       "      <th>Unnamed: 0</th>\n",
       "      <th>date</th>\n",
       "      <th>open</th>\n",
       "      <th>high</th>\n",
       "      <th>low</th>\n",
       "      <th>close</th>\n",
       "      <th>adjClose</th>\n",
       "      <th>volume</th>\n",
       "      <th>unadjustedVolume</th>\n",
       "      <th>change</th>\n",
       "      <th>changePercent</th>\n",
       "      <th>vwap</th>\n",
       "      <th>label</th>\n",
       "      <th>changeOverTime</th>\n",
       "      <th>Ticker</th>\n",
       "    </tr>\n",
       "  </thead>\n",
       "  <tbody>\n",
       "    <tr>\n",
       "      <th>1257</th>\n",
       "      <td>1257</td>\n",
       "      <td>2017-07-31</td>\n",
       "      <td>146.36</td>\n",
       "      <td>146.91</td>\n",
       "      <td>145.06</td>\n",
       "      <td>146.49</td>\n",
       "      <td>146.49</td>\n",
       "      <td>2182100.0</td>\n",
       "      <td>2182100.0</td>\n",
       "      <td>0.13</td>\n",
       "      <td>0.089</td>\n",
       "      <td>146.15333</td>\n",
       "      <td>July 31, 17</td>\n",
       "      <td>0.00089</td>\n",
       "      <td>ADBE</td>\n",
       "    </tr>\n",
       "    <tr>\n",
       "      <th>1256</th>\n",
       "      <td>1256</td>\n",
       "      <td>2017-08-01</td>\n",
       "      <td>147.48</td>\n",
       "      <td>147.65</td>\n",
       "      <td>146.52</td>\n",
       "      <td>147.36</td>\n",
       "      <td>147.36</td>\n",
       "      <td>1580300.0</td>\n",
       "      <td>1580300.0</td>\n",
       "      <td>-0.12</td>\n",
       "      <td>-0.081</td>\n",
       "      <td>147.17667</td>\n",
       "      <td>August 01, 17</td>\n",
       "      <td>-0.00081</td>\n",
       "      <td>ADBE</td>\n",
       "    </tr>\n",
       "    <tr>\n",
       "      <th>1255</th>\n",
       "      <td>1255</td>\n",
       "      <td>2017-08-02</td>\n",
       "      <td>147.56</td>\n",
       "      <td>147.60</td>\n",
       "      <td>144.52</td>\n",
       "      <td>147.13</td>\n",
       "      <td>147.13</td>\n",
       "      <td>2112000.0</td>\n",
       "      <td>2112000.0</td>\n",
       "      <td>-0.43</td>\n",
       "      <td>-0.291</td>\n",
       "      <td>146.41667</td>\n",
       "      <td>August 02, 17</td>\n",
       "      <td>-0.00291</td>\n",
       "      <td>ADBE</td>\n",
       "    </tr>\n",
       "    <tr>\n",
       "      <th>1254</th>\n",
       "      <td>1254</td>\n",
       "      <td>2017-08-03</td>\n",
       "      <td>147.47</td>\n",
       "      <td>147.98</td>\n",
       "      <td>145.68</td>\n",
       "      <td>147.79</td>\n",
       "      <td>147.79</td>\n",
       "      <td>1510600.0</td>\n",
       "      <td>1510600.0</td>\n",
       "      <td>0.32</td>\n",
       "      <td>0.217</td>\n",
       "      <td>147.15000</td>\n",
       "      <td>August 03, 17</td>\n",
       "      <td>0.00217</td>\n",
       "      <td>ADBE</td>\n",
       "    </tr>\n",
       "    <tr>\n",
       "      <th>1253</th>\n",
       "      <td>1253</td>\n",
       "      <td>2017-08-04</td>\n",
       "      <td>148.25</td>\n",
       "      <td>148.62</td>\n",
       "      <td>147.27</td>\n",
       "      <td>147.71</td>\n",
       "      <td>147.71</td>\n",
       "      <td>1503500.0</td>\n",
       "      <td>1503500.0</td>\n",
       "      <td>-0.54</td>\n",
       "      <td>-0.364</td>\n",
       "      <td>147.86667</td>\n",
       "      <td>August 04, 17</td>\n",
       "      <td>-0.00364</td>\n",
       "      <td>ADBE</td>\n",
       "    </tr>\n",
       "  </tbody>\n",
       "</table></div>"
      ],
      "text/plain": [
       "      Unnamed: 0        date    open    high     low   close  adjClose  \\\n",
       "1257        1257  2017-07-31  146.36  146.91  145.06  146.49    146.49   \n",
       "1256        1256  2017-08-01  147.48  147.65  146.52  147.36    147.36   \n",
       "1255        1255  2017-08-02  147.56  147.60  144.52  147.13    147.13   \n",
       "1254        1254  2017-08-03  147.47  147.98  145.68  147.79    147.79   \n",
       "1253        1253  2017-08-04  148.25  148.62  147.27  147.71    147.71   \n",
       "\n",
       "         volume  unadjustedVolume  change  changePercent       vwap  \\\n",
       "1257  2182100.0         2182100.0    0.13          0.089  146.15333   \n",
       "1256  1580300.0         1580300.0   -0.12         -0.081  147.17667   \n",
       "1255  2112000.0         2112000.0   -0.43         -0.291  146.41667   \n",
       "1254  1510600.0         1510600.0    0.32          0.217  147.15000   \n",
       "1253  1503500.0         1503500.0   -0.54         -0.364  147.86667   \n",
       "\n",
       "              label  changeOverTime Ticker  \n",
       "1257    July 31, 17         0.00089   ADBE  \n",
       "1256  August 01, 17        -0.00081   ADBE  \n",
       "1255  August 02, 17        -0.00291   ADBE  \n",
       "1254  August 03, 17         0.00217   ADBE  \n",
       "1253  August 04, 17        -0.00364   ADBE  "
      ]
     },
     "execution_count": 8,
     "metadata": {},
     "output_type": "execute_result"
    }
   ],
   "source": [
    "adbe_df = pd.read_csv(\"/Users/brendan/Desktop/Python/BoostedAI/prices/ADBE.csv\")\n",
    "adbe_df = adbe_df[::-1]\n",
    "adbe_df.head()"
   ]
  },
  {
   "cell_type": "code",
   "execution_count": 11,
   "id": "1f6a2319",
   "metadata": {},
   "outputs": [
    {
     "data": {
      "text/html": [
       "<div><div id=e3afb57d-55b9-4a74-ad0a-b909266bb045 style=\"display:none; background-color:#9D6CFF; color:white; width:200px; height:30px; padding-left:5px; border-radius:4px; flex-direction:row; justify-content:space-around; align-items:center;\" onmouseover=\"this.style.backgroundColor='#BA9BF8'\" onmouseout=\"this.style.backgroundColor='#9D6CFF'\" onclick=\"window.commands?.execute('create-mitosheet-from-dataframe-output');\">See Full Dataframe in Mito</div> <script> if (window.commands.hasCommand('create-mitosheet-from-dataframe-output')) document.getElementById('e3afb57d-55b9-4a74-ad0a-b909266bb045').style.display = 'flex' </script> <table border=\"1\" class=\"dataframe\">\n",
       "  <thead>\n",
       "    <tr style=\"text-align: right;\">\n",
       "      <th></th>\n",
       "      <th>Unnamed: 0</th>\n",
       "      <th>date</th>\n",
       "      <th>open</th>\n",
       "      <th>high</th>\n",
       "      <th>low</th>\n",
       "      <th>close</th>\n",
       "      <th>adjClose</th>\n",
       "      <th>volume</th>\n",
       "      <th>unadjustedVolume</th>\n",
       "      <th>change</th>\n",
       "      <th>changePercent</th>\n",
       "      <th>vwap</th>\n",
       "      <th>label</th>\n",
       "      <th>changeOverTime</th>\n",
       "      <th>Ticker</th>\n",
       "      <th>pct_change</th>\n",
       "    </tr>\n",
       "  </thead>\n",
       "  <tbody>\n",
       "    <tr>\n",
       "      <th>4</th>\n",
       "      <td>4</td>\n",
       "      <td>2022-07-22</td>\n",
       "      <td>410.03</td>\n",
       "      <td>414.62</td>\n",
       "      <td>398.63</td>\n",
       "      <td>401.90</td>\n",
       "      <td>401.90</td>\n",
       "      <td>2412742.0</td>\n",
       "      <td>2412742.0</td>\n",
       "      <td>-8.13</td>\n",
       "      <td>-1.983</td>\n",
       "      <td>405.05000</td>\n",
       "      <td>July 22, 22</td>\n",
       "      <td>-0.01983</td>\n",
       "      <td>ADBE</td>\n",
       "      <td>-0.017143</td>\n",
       "    </tr>\n",
       "    <tr>\n",
       "      <th>3</th>\n",
       "      <td>3</td>\n",
       "      <td>2022-07-25</td>\n",
       "      <td>400.11</td>\n",
       "      <td>400.77</td>\n",
       "      <td>388.57</td>\n",
       "      <td>391.96</td>\n",
       "      <td>391.96</td>\n",
       "      <td>2337274.0</td>\n",
       "      <td>2337274.0</td>\n",
       "      <td>-8.15</td>\n",
       "      <td>-2.037</td>\n",
       "      <td>393.76667</td>\n",
       "      <td>July 25, 22</td>\n",
       "      <td>-0.02037</td>\n",
       "      <td>ADBE</td>\n",
       "      <td>-0.024733</td>\n",
       "    </tr>\n",
       "    <tr>\n",
       "      <th>2</th>\n",
       "      <td>2</td>\n",
       "      <td>2022-07-26</td>\n",
       "      <td>393.58</td>\n",
       "      <td>393.58</td>\n",
       "      <td>378.16</td>\n",
       "      <td>379.26</td>\n",
       "      <td>379.26</td>\n",
       "      <td>2361515.0</td>\n",
       "      <td>2361515.0</td>\n",
       "      <td>-14.32</td>\n",
       "      <td>-3.638</td>\n",
       "      <td>383.66667</td>\n",
       "      <td>July 26, 22</td>\n",
       "      <td>-0.03638</td>\n",
       "      <td>ADBE</td>\n",
       "      <td>-0.032401</td>\n",
       "    </tr>\n",
       "    <tr>\n",
       "      <th>1</th>\n",
       "      <td>1</td>\n",
       "      <td>2022-07-27</td>\n",
       "      <td>385.08</td>\n",
       "      <td>394.91</td>\n",
       "      <td>383.41</td>\n",
       "      <td>392.78</td>\n",
       "      <td>392.78</td>\n",
       "      <td>2678143.0</td>\n",
       "      <td>2678143.0</td>\n",
       "      <td>7.70</td>\n",
       "      <td>2.000</td>\n",
       "      <td>390.36667</td>\n",
       "      <td>July 27, 22</td>\n",
       "      <td>0.02000</td>\n",
       "      <td>ADBE</td>\n",
       "      <td>0.035648</td>\n",
       "    </tr>\n",
       "    <tr>\n",
       "      <th>0</th>\n",
       "      <td>0</td>\n",
       "      <td>2022-07-28</td>\n",
       "      <td>392.76</td>\n",
       "      <td>406.15</td>\n",
       "      <td>390.06</td>\n",
       "      <td>403.50</td>\n",
       "      <td>403.50</td>\n",
       "      <td>2418942.0</td>\n",
       "      <td>2418942.0</td>\n",
       "      <td>10.74</td>\n",
       "      <td>2.734</td>\n",
       "      <td>399.90333</td>\n",
       "      <td>July 28, 22</td>\n",
       "      <td>0.02734</td>\n",
       "      <td>ADBE</td>\n",
       "      <td>0.027293</td>\n",
       "    </tr>\n",
       "  </tbody>\n",
       "</table></div>"
      ],
      "text/plain": [
       "   Unnamed: 0        date    open    high     low   close  adjClose  \\\n",
       "4           4  2022-07-22  410.03  414.62  398.63  401.90    401.90   \n",
       "3           3  2022-07-25  400.11  400.77  388.57  391.96    391.96   \n",
       "2           2  2022-07-26  393.58  393.58  378.16  379.26    379.26   \n",
       "1           1  2022-07-27  385.08  394.91  383.41  392.78    392.78   \n",
       "0           0  2022-07-28  392.76  406.15  390.06  403.50    403.50   \n",
       "\n",
       "      volume  unadjustedVolume  change  changePercent       vwap        label  \\\n",
       "4  2412742.0         2412742.0   -8.13         -1.983  405.05000  July 22, 22   \n",
       "3  2337274.0         2337274.0   -8.15         -2.037  393.76667  July 25, 22   \n",
       "2  2361515.0         2361515.0  -14.32         -3.638  383.66667  July 26, 22   \n",
       "1  2678143.0         2678143.0    7.70          2.000  390.36667  July 27, 22   \n",
       "0  2418942.0         2418942.0   10.74          2.734  399.90333  July 28, 22   \n",
       "\n",
       "   changeOverTime Ticker  pct_change  \n",
       "4        -0.01983   ADBE   -0.017143  \n",
       "3        -0.02037   ADBE   -0.024733  \n",
       "2        -0.03638   ADBE   -0.032401  \n",
       "1         0.02000   ADBE    0.035648  \n",
       "0         0.02734   ADBE    0.027293  "
      ]
     },
     "execution_count": 11,
     "metadata": {},
     "output_type": "execute_result"
    }
   ],
   "source": [
    "R = adbe_df['adjClose'].pct_change()[1:]\n",
    "adbe_df['pct_change'] = adbe_df['adjClose'].pct_change()[1:]\n",
    "adbe_df.tail()"
   ]
  },
  {
   "cell_type": "code",
   "execution_count": 12,
   "id": "a570a565",
   "metadata": {},
   "outputs": [
    {
     "data": {
      "text/html": [
       "<div><div id=f837142f-01e4-416f-8ffe-8bec437c0c80 style=\"display:none; background-color:#9D6CFF; color:white; width:200px; height:30px; padding-left:5px; border-radius:4px; flex-direction:row; justify-content:space-around; align-items:center;\" onmouseover=\"this.style.backgroundColor='#BA9BF8'\" onmouseout=\"this.style.backgroundColor='#9D6CFF'\" onclick=\"window.commands?.execute('create-mitosheet-from-dataframe-output');\">See Full Dataframe in Mito</div> <script> if (window.commands.hasCommand('create-mitosheet-from-dataframe-output')) document.getElementById('f837142f-01e4-416f-8ffe-8bec437c0c80').style.display = 'flex' </script> <table border=\"1\" class=\"dataframe\">\n",
       "  <thead>\n",
       "    <tr style=\"text-align: right;\">\n",
       "      <th></th>\n",
       "      <th>Unnamed: 0</th>\n",
       "      <th>date</th>\n",
       "      <th>open</th>\n",
       "      <th>high</th>\n",
       "      <th>low</th>\n",
       "      <th>close</th>\n",
       "      <th>adjClose</th>\n",
       "      <th>volume</th>\n",
       "      <th>unadjustedVolume</th>\n",
       "      <th>change</th>\n",
       "      <th>changePercent</th>\n",
       "      <th>vwap</th>\n",
       "      <th>label</th>\n",
       "      <th>changeOverTime</th>\n",
       "      <th>Ticker</th>\n",
       "      <th>pct_change</th>\n",
       "    </tr>\n",
       "  </thead>\n",
       "  <tbody>\n",
       "    <tr>\n",
       "      <th>1257</th>\n",
       "      <td>1257</td>\n",
       "      <td>2017-07-31</td>\n",
       "      <td>146.36</td>\n",
       "      <td>146.91</td>\n",
       "      <td>145.06</td>\n",
       "      <td>146.49</td>\n",
       "      <td>146.49</td>\n",
       "      <td>2182100.0</td>\n",
       "      <td>2182100.0</td>\n",
       "      <td>0.13</td>\n",
       "      <td>0.089</td>\n",
       "      <td>146.15333</td>\n",
       "      <td>July 31, 17</td>\n",
       "      <td>0.00089</td>\n",
       "      <td>ADBE</td>\n",
       "      <td>NaN</td>\n",
       "    </tr>\n",
       "    <tr>\n",
       "      <th>1256</th>\n",
       "      <td>1256</td>\n",
       "      <td>2017-08-01</td>\n",
       "      <td>147.48</td>\n",
       "      <td>147.65</td>\n",
       "      <td>146.52</td>\n",
       "      <td>147.36</td>\n",
       "      <td>147.36</td>\n",
       "      <td>1580300.0</td>\n",
       "      <td>1580300.0</td>\n",
       "      <td>-0.12</td>\n",
       "      <td>-0.081</td>\n",
       "      <td>147.17667</td>\n",
       "      <td>August 01, 17</td>\n",
       "      <td>-0.00081</td>\n",
       "      <td>ADBE</td>\n",
       "      <td>0.005939</td>\n",
       "    </tr>\n",
       "  </tbody>\n",
       "</table></div>"
      ],
      "text/plain": [
       "      Unnamed: 0        date    open    high     low   close  adjClose  \\\n",
       "1257        1257  2017-07-31  146.36  146.91  145.06  146.49    146.49   \n",
       "1256        1256  2017-08-01  147.48  147.65  146.52  147.36    147.36   \n",
       "\n",
       "         volume  unadjustedVolume  change  changePercent       vwap  \\\n",
       "1257  2182100.0         2182100.0    0.13          0.089  146.15333   \n",
       "1256  1580300.0         1580300.0   -0.12         -0.081  147.17667   \n",
       "\n",
       "              label  changeOverTime Ticker  pct_change  \n",
       "1257    July 31, 17         0.00089   ADBE         NaN  \n",
       "1256  August 01, 17        -0.00081   ADBE    0.005939  "
      ]
     },
     "execution_count": 12,
     "metadata": {},
     "output_type": "execute_result"
    }
   ],
   "source": [
    "adbe_df.head(2)"
   ]
  },
  {
   "cell_type": "markdown",
   "id": "7a0f176a",
   "metadata": {},
   "source": [
    "Can plot the returns distribution as a histogram:"
   ]
  },
  {
   "cell_type": "code",
   "execution_count": 14,
   "id": "6b102693",
   "metadata": {},
   "outputs": [
    {
     "data": {
      "image/png": "[encoded data removed]",
      "text/plain": [
       "<Figure size 640x480 with 1 Axes>"
      ]
     },
     "metadata": {},
     "output_type": "display_data"
    }
   ],
   "source": [
    "import matplotlib.pyplot as plt\n",
    "plt.hist(R, bins=20,ec='black')\n",
    "plt.xlabel('Return')\n",
    "plt.ylabel('Frequency')\n",
    "plt.legend(['ADBE Returns'])\n",
    "plt.show()"
   ]
  },
  {
   "cell_type": "markdown",
   "id": "24bb641a",
   "metadata": {},
   "source": [
    "Get statistics again:"
   ]
  },
  {
   "cell_type": "code",
   "execution_count": 18,
   "id": "687b4c6c",
   "metadata": {},
   "outputs": [
    {
     "data": {
      "text/plain": [
       "(0.001062896047655594, 0.02264158843454743)"
      ]
     },
     "execution_count": 18,
     "metadata": {},
     "output_type": "execute_result"
    }
   ],
   "source": [
    "import numpy as np\n",
    "np.mean(R), np.std(R)"
   ]
  },
  {
   "cell_type": "markdown",
   "id": "9a6fa333",
   "metadata": {},
   "source": [
    "Now go backwards and generate data out of a normal distribution using the statistics estimated from ADBE returns. The returns are unlikely to be normal."
   ]
  },
  {
   "cell_type": "code",
   "execution_count": 20,
   "id": "e2ed4e69",
   "metadata": {},
   "outputs": [
    {
     "data": {
      "image/png": "[encoded data removed]",
      "text/plain": [
       "<Figure size 640x480 with 1 Axes>"
      ]
     },
     "metadata": {},
     "output_type": "display_data"
    }
   ],
   "source": [
    "plt.hist(np.random.normal(np.mean(R), np.std(R), 1000), bins=20, ec='black')\n",
    "plt.xlabel('Return')\n",
    "plt.ylabel('Frequency')\n",
    "plt.legend(['Normally Distributed Returns'])\n",
    "plt.show()"
   ]
  },
  {
   "cell_type": "markdown",
   "id": "05d67ab9",
   "metadata": {},
   "source": [
    "## Generating a Moving Average"
   ]
  },
  {
   "cell_type": "markdown",
   "id": "f9d3d564",
   "metadata": {},
   "source": [
    "**`pandas`** has some nice tools that allow to generate rolling statistics. In the below example, there is no moving average for the first 60 days - do not yet have 60 days of data"
   ]
  },
  {
   "cell_type": "code",
   "execution_count": 28,
   "id": "0cfd0c5b",
   "metadata": {},
   "outputs": [
    {
     "data": {
      "image/png": "[encoded data removed]",
      "text/plain": [
       "<Figure size 640x480 with 1 Axes>"
      ]
     },
     "metadata": {},
     "output_type": "display_data"
    }
   ],
   "source": [
    "X = adbe_df['adjClose']\n",
    "m_avg = adbe_df['adjClose'].rolling(60).mean()\n",
    "plt.plot(X.index, X.values)\n",
    "plt.plot(m_avg.index, m_avg.values)\n",
    "plt.ylabel('Price')\n",
    "plt.legend(['ADBE', '60-day m_avg'])\n",
    "plt.show()"
   ]
  },
  {
   "cell_type": "code",
   "execution_count": null,
   "id": "2f047500",
   "metadata": {},
   "outputs": [],
   "source": []
  }
 ],
 "metadata": {
  "kernelspec": {
   "display_name": "Python 3",
   "language": "python",
   "name": "python3"
  },
  "language_info": {
   "codemirror_mode": {
    "name": "ipython",
    "version": 3
   },
   "file_extension": ".py",
   "mimetype": "text/x-python",
   "name": "python",
   "nbconvert_exporter": "python",
   "pygments_lexer": "ipython3",
   "version": "3.8.8"
  }
 },
 "nbformat": 4,
 "nbformat_minor": 5
}
