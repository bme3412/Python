{
 "cells": [
  {
   "cell_type": "markdown",
   "id": "a2ae9d50",
   "metadata": {},
   "source": [
    "## Measures of Central Tendency"
   ]
  },
  {
   "cell_type": "markdown",
   "id": "3337d96a",
   "metadata": {},
   "source": [
    "In this notebook will discuss ways to summarize a set of data using a single number. The goal is to capture information about distribution of data."
   ]
  },
  {
   "cell_type": "markdown",
   "id": "02171db7",
   "metadata": {},
   "source": [
    "## Arithmetic mean"
   ]
  },
  {
   "cell_type": "markdown",
   "id": "0aafe756",
   "metadata": {},
   "source": [
    "The `arithmetic mean` is used very frequently to summarize numerical data, and is usually the one assumed to be meant by the word 'average.' It is defined as the sum of observations divided by the number of observations."
   ]
  },
  {
   "cell_type": "code",
   "execution_count": 3,
   "id": "b23d8f7a",
   "metadata": {},
   "outputs": [
    {
     "name": "stdout",
     "output_type": "stream",
     "text": [
      "Mean of x1:  29 / 8 = 3.625\n",
      "Mean of x2:  129 / 9 = 14.333333333333334\n"
     ]
    }
   ],
   "source": [
    "# two useful statistical libraries:\n",
    "import scipy.stats as stats\n",
    "import numpy as np\n",
    "\n",
    "# will use these 2 data sets as exampels:\n",
    "x1 = [1, 2, 2, 3, 4, 5, 5, 7]\n",
    "x2 = x1 +[100]\n",
    "\n",
    "print('Mean of x1: ', sum(x1), '/', len(x1), '=', np.mean(x1))\n",
    "print('Mean of x2: ', sum(x2), '/', len(x2), '=', np.mean(x2))"
   ]
  },
  {
   "cell_type": "markdown",
   "id": "590a07c5",
   "metadata": {},
   "source": [
    "Can also define a `weighted arithmetic mean`, which is usseful for explicitly specifying the number of times each observation should be counted. For example, in computing the average value of a portfolio, it is important to say that 70% of stocks are of ticker XYZ, rather than listing out all shares."
   ]
  },
  {
   "cell_type": "markdown",
   "id": "9b6a1edd",
   "metadata": {},
   "source": [
    "## Median"
   ]
  },
  {
   "cell_type": "markdown",
   "id": "49b420c8",
   "metadata": {},
   "source": [
    "The median of a set of data is the number which appears in the middle of the list when it is sorted in increasing or decreasing order. When have an odd # of data points, the median is the value in position (n + 1)/2. When have an even # of data points, the median is the avg of the values in positions (n/2).\n"
   ]
  },
  {
   "cell_type": "markdown",
   "id": "b376af3c",
   "metadata": {},
   "source": [
    "The median is less impacted by extreme values in the data, than the arithmetic mean. It tells the value that splits the data in half, but not how much larger or smaller the values are."
   ]
  },
  {
   "cell_type": "code",
   "execution_count": 4,
   "id": "5c3f2059",
   "metadata": {},
   "outputs": [
    {
     "name": "stdout",
     "output_type": "stream",
     "text": [
      "Median of x1:  3.5\n",
      "Median of x2:  4.0\n"
     ]
    }
   ],
   "source": [
    "print('Median of x1: ', np.median(x1))\n",
    "print('Median of x2: ', np.median(x2))"
   ]
  },
  {
   "cell_type": "markdown",
   "id": "ba5b4aee",
   "metadata": {},
   "source": [
    "## Mode"
   ]
  },
  {
   "cell_type": "markdown",
   "id": "b7e33a17",
   "metadata": {},
   "source": [
    "The mode is the most frequently occuring value in a data set. It can be appleid to non-numerical data, unlike the mean or median. One situtiaton in which it is useful is for data whose possible values are independent, ex roling a die."
   ]
  },
  {
   "cell_type": "code",
   "execution_count": 6,
   "id": "71a2a156",
   "metadata": {},
   "outputs": [
    {
     "name": "stdout",
     "output_type": "stream",
     "text": [
      "One mode of x1: 2\n"
     ]
    }
   ],
   "source": [
    "print('One mode of x1:', stats.mode(x1)[0][0])"
   ]
  },
  {
   "cell_type": "code",
   "execution_count": 7,
   "id": "39ff2652",
   "metadata": {},
   "outputs": [
    {
     "name": "stdout",
     "output_type": "stream",
     "text": [
      "All of the modes of x1:  [2, 5]\n"
     ]
    }
   ],
   "source": [
    "# write own function\n",
    "def mode(l):\n",
    "    \n",
    "    # count the numer of times each element appears in the list\n",
    "    counts = {}\n",
    "    for e in l:\n",
    "        if e in counts:\n",
    "            counts[e] +=1\n",
    "        else:\n",
    "            counts[e] = 1\n",
    "    \n",
    "    # return the elements that appear the msot times\n",
    "    maxcount = 0\n",
    "    modes = {}\n",
    "    for (key, value) in counts.items():\n",
    "        if value > maxcount:\n",
    "            maxcount = value\n",
    "            modes = {key}\n",
    "        elif value == maxcount:\n",
    "            modes.add(key)\n",
    "            \n",
    "    if maxcount > 1 or len(l) == 1:\n",
    "        return list(modes)\n",
    "    return 'No Mode'\n",
    "\n",
    "print('All of the modes of x1: ', mode(x1))\n",
    "            "
   ]
  },
  {
   "cell_type": "markdown",
   "id": "678a1920",
   "metadata": {},
   "source": [
    "For data that can take on many different values, such as returns data, there may not be a mode. In this case, can bin values, similar to constructing a histogram, and then find the mode of the data set where each value is replaced with the name of the bin. So essentially finding which bin elements fall in msot often"
   ]
  },
  {
   "cell_type": "code",
   "execution_count": 8,
   "id": "fa0c836e",
   "metadata": {},
   "outputs": [
    {
     "name": "stdout",
     "output_type": "stream",
     "text": [
      "Mode of returns:  No Mode\n"
     ]
    }
   ],
   "source": [
    "start = '2020-01-01'\n",
    "end = '2022-07-30'\n",
    "ADBE_df = pd.read_csv('/Users/brendan/Desktop/Python/BoostedAI/prices/ADBE.csv')\n",
    "returns = ADBE_df['adjClose'].pct_change()[1:]\n",
    "print('Mode of returns: ', mode(returns))"
   ]
  },
  {
   "cell_type": "code",
   "execution_count": 9,
   "id": "b2a09c68",
   "metadata": {},
   "outputs": [
    {
     "name": "stdout",
     "output_type": "stream",
     "text": [
      "Mode of bins:  [(-0.00495763656569323, 0.011216138209007853)]\n"
     ]
    }
   ],
   "source": [
    "# since all of the returns are distinct, will use a frequency distribution\n",
    "# np.histogram returns the frequency distribution over the bins and the endpoint\n",
    "\n",
    "hist, bins = np.histogram(returns, 20) # use 20 bins\n",
    "maxfreq = max(hist)\n",
    "\n",
    "# find all the bins that are hit with freuency maxfreq\n",
    "print('Mode of bins: ', [(bins[i], bins[i+1]) for i, j in enumerate(hist) if j == maxfreq])"
   ]
  },
  {
   "cell_type": "markdown",
   "id": "c15a3956",
   "metadata": {},
   "source": [
    "## Geometric mean"
   ]
  },
  {
   "cell_type": "markdown",
   "id": "f033c0fa",
   "metadata": {},
   "source": [
    "While the arithmetic mean average uses addition, the geometic mean uses multiplication. The geometric mean is always less than or equal to the arithmetic mean, and are equal only when all values are the same"
   ]
  },
  {
   "cell_type": "code",
   "execution_count": 10,
   "id": "72d870ff",
   "metadata": {},
   "outputs": [
    {
     "name": "stdout",
     "output_type": "stream",
     "text": [
      "Geometric mean of x1: 3.0941040249774403\n",
      "Geometric mean of x2: 4.552534587620071\n"
     ]
    }
   ],
   "source": [
    "print('Geometric mean of x1:', stats.gmean(x1))\n",
    "print('Geometric mean of x2:', stats.gmean(x2))"
   ]
  },
  {
   "cell_type": "markdown",
   "id": "8b3be738",
   "metadata": {},
   "source": [
    "When computing the geometric mean when have negative obseervations, can add 1 to get 1 + R(t). The quantity will always be nonnegative."
   ]
  },
  {
   "cell_type": "code",
   "execution_count": 11,
   "id": "ba58734d",
   "metadata": {},
   "outputs": [
    {
     "name": "stdout",
     "output_type": "stream",
     "text": [
      "Geometric mean of returns:  -0.0008170849531605739\n"
     ]
    }
   ],
   "source": [
    "ratios = returns + np.ones(len(returns))\n",
    "R_G = stats.gmean(ratios) - 1\n",
    "print(\"Geometric mean of returns: \", R_G)"
   ]
  },
  {
   "cell_type": "code",
   "execution_count": null,
   "id": "44d4f733",
   "metadata": {},
   "outputs": [],
   "source": []
  },
  {
   "cell_type": "code",
   "execution_count": 14,
   "id": "2910754d",
   "metadata": {},
   "outputs": [
    {
     "name": "stdout",
     "output_type": "stream",
     "text": [
      "Initial price:  411.09\n",
      "Final price:  147.13\n",
      "Final price with Geo mean of returns:  147.12999999999113\n"
     ]
    }
   ],
   "source": [
    "T = len(returns)\n",
    "initial_price = ADBE_df['adjClose'][0]\n",
    "final_price = ADBE_df['adjClose'][T]\n",
    "\n",
    "print('Initial price: ', initial_price)\n",
    "print(\"Final price: \", final_price)\n",
    "print(\"Final price with Geo mean of returns: \", initial_price*(1+R_G)**T)\n"
   ]
  },
  {
   "cell_type": "markdown",
   "id": "c2b7d239",
   "metadata": {},
   "source": [
    "## Point Estimates can be deceiving"
   ]
  },
  {
   "cell_type": "markdown",
   "id": "ede587ca",
   "metadata": {},
   "source": [
    "Means by nature hide a lot of information, as they collapse entire distributions into one #. As a result 'point estimates' or metrics that use one number, can disguise alrge programs in the data. Should be careful to ensire that not losing key information by summarizing the data, adn should rarly use a mean without quantifying the spread."
   ]
  },
  {
   "cell_type": "code",
   "execution_count": null,
   "id": "ee87f9c6",
   "metadata": {},
   "outputs": [],
   "source": []
  }
 ],
 "metadata": {
  "kernelspec": {
   "display_name": "Python 3",
   "language": "python",
   "name": "python3"
  },
  "language_info": {
   "codemirror_mode": {
    "name": "ipython",
    "version": 3
   },
   "file_extension": ".py",
   "mimetype": "text/x-python",
   "name": "python",
   "nbconvert_exporter": "python",
   "pygments_lexer": "ipython3",
   "version": "3.8.8"
  }
 },
 "nbformat": 4,
 "nbformat_minor": 5
}
