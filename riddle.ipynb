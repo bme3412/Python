{
 "cells": [
  {
   "cell_type": "code",
   "execution_count": 19,
   "id": "358d56e3",
   "metadata": {},
   "outputs": [],
   "source": [
    "min_ = 0\n",
    "max_ = 100\n",
    "iterator = 8"
   ]
  },
  {
   "cell_type": "code",
   "execution_count": 20,
   "id": "f53ecb21",
   "metadata": {},
   "outputs": [
    {
     "data": {
      "text/plain": [
       "4"
      ]
     },
     "execution_count": 20,
     "metadata": {},
     "output_type": "execute_result"
    }
   ],
   "source": [
    "x = max_ % iterator\n",
    "x # modulo"
   ]
  },
  {
   "cell_type": "code",
   "execution_count": 21,
   "id": "6c624777",
   "metadata": {},
   "outputs": [
    {
     "data": {
      "text/plain": [
       "12.0"
      ]
     },
     "execution_count": 21,
     "metadata": {},
     "output_type": "execute_result"
    }
   ],
   "source": [
    "y = round(((max_ - min_)/iterator),0)\n",
    "y"
   ]
  },
  {
   "cell_type": "code",
   "execution_count": 22,
   "id": "4489dd13",
   "metadata": {},
   "outputs": [
    {
     "data": {
      "text/plain": [
       "20"
      ]
     },
     "execution_count": 22,
     "metadata": {},
     "output_type": "execute_result"
    }
   ],
   "source": [
    "# ones\n",
    "# tens\n",
    "ans = 2*int(y-2)\n",
    "ans"
   ]
  },
  {
   "cell_type": "code",
   "execution_count": 23,
   "id": "416fbd1d",
   "metadata": {},
   "outputs": [],
   "source": [
    "counter = []\n",
    "\n",
    "def linked_in(min_, max_, iterator):\n",
    "    for i in range(min_, max_):\n",
    "        "
   ]
  },
  {
   "cell_type": "code",
   "execution_count": 26,
   "id": "0f355d06",
   "metadata": {},
   "outputs": [
    {
     "name": "stdout",
     "output_type": "stream",
     "text": [
      "24\n"
     ]
    }
   ],
   "source": [
    "linked_in(0,100,7)"
   ]
  },
  {
   "cell_type": "code",
   "execution_count": 46,
   "id": "05491e57",
   "metadata": {},
   "outputs": [
    {
     "name": "stdout",
     "output_type": "stream",
     "text": [
      "18 has occurred 0 times\n"
     ]
    }
   ],
   "source": [
    "from collections import Counter\n",
    "\n",
    "min_ = 1\n",
    "max_ = 100\n",
    "iterator = str(18) \n",
    "\n",
    "# declaring the list\n",
    "list_ = [i for i in range(min_, max_)]\n",
    "list_to_string = ''.join(str(x) for x in list_)\n",
    " \n",
    "# count the string\n",
    "counter_ = Counter(list_to_string)\n",
    "print('{} has occurred {} times'.format(iterator, counter_[iterator]))"
   ]
  },
  {
   "cell_type": "code",
   "execution_count": 44,
   "id": "96de78f6",
   "metadata": {},
   "outputs": [
    {
     "name": "stdout",
     "output_type": "stream",
     "text": [
      "[0, 1, 2, 3, 4, 5, 6, 7, 8, 9, 10, 11, 12, 13, 14, 15, 16, 17, 18, 19, 20, 21, 22, 23, 24, 25, 26, 27, 28, 29, 30, 31, 32, 33, 34, 35, 36, 37, 38, 39, 40, 41, 42, 43, 44, 45, 46, 47, 48, 49, 50, 51, 52, 53, 54, 55, 56, 57, 58, 59, 60, 61, 62, 63, 64, 65, 66, 67, 68, 69, 70, 71, 72, 73, 74, 75, 76, 77, 78, 79, 80, 81, 82, 83, 84, 85, 86, 87, 88, 89, 90, 91, 92, 93, 94, 95, 96, 97, 98, 99]\n"
     ]
    }
   ],
   "source": [
    "print(list_)"
   ]
  },
  {
   "cell_type": "code",
   "execution_count": 45,
   "id": "85e711e0",
   "metadata": {},
   "outputs": [
    {
     "name": "stdout",
     "output_type": "stream",
     "text": [
      "0123456789101112131415161718192021222324252627282930313233343536373839404142434445464748495051525354555657585960616263646566676869707172737475767778798081828384858687888990919293949596979899\n"
     ]
    }
   ],
   "source": [
    "print(list_to_string)"
   ]
  },
  {
   "cell_type": "code",
   "execution_count": 47,
   "id": "debb52cf",
   "metadata": {},
   "outputs": [],
   "source": [
    "min_ = 1\n",
    "max_ = 100\n",
    "iterator = 8\n"
   ]
  },
  {
   "cell_type": "code",
   "execution_count": null,
   "id": "b39422e2",
   "metadata": {},
   "outputs": [],
   "source": [
    "# 10 * (i for i in range(1,10)\n",
    "\n",
    "10*(10-i)\n",
    "\n",
    "tens = \n",
    "for i < 10:\n",
    "    ones = "
   ]
  }
 ],
 "metadata": {
  "kernelspec": {
   "display_name": "Python 3",
   "language": "python",
   "name": "python3"
  },
  "language_info": {
   "codemirror_mode": {
    "name": "ipython",
    "version": 3
   },
   "file_extension": ".py",
   "mimetype": "text/x-python",
   "name": "python",
   "nbconvert_exporter": "python",
   "pygments_lexer": "ipython3",
   "version": "3.8.8"
  }
 },
 "nbformat": 4,
 "nbformat_minor": 5
}
