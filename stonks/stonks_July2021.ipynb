{
 "cells": [
  {
   "cell_type": "code",
   "execution_count": 91,
   "id": "10681be2",
   "metadata": {},
   "outputs": [],
   "source": [
    "import pandas as pd\n",
    "import matplotlib.pyplot as plt\n",
    "from sqlalchemy import create_engine\n",
    "from sqlalchemy import inspect\n",
    "import numpy as np"
   ]
  },
  {
   "cell_type": "code",
   "execution_count": 47,
   "id": "44a98809",
   "metadata": {},
   "outputs": [
    {
     "name": "stdout",
     "output_type": "stream",
     "text": [
      "Connection to the localhost for user root created successfully.\n"
     ]
    }
   ],
   "source": [
    "#db_connection = create_engine(host='localhost', database='SP500', port = 3306,user='root', password='Boston1429$$')\n",
    "#df = pd.read_sql('SELECT * FROM contrarian_05_31_2022', con=db_connection)\n",
    "\n",
    "user = 'root'\n",
    "password = 'Boston1429$$'\n",
    "host = 'localhost'\n",
    "port = 3306\n",
    "database = 'SP500'\n",
    "\n",
    "def get_connection():\n",
    "    return create_engine(\n",
    "        url=\"mysql+pymysql://{0}:{1}@{2}:{3}/{4}\".format(\n",
    "            user, password, host, port, database\n",
    "        )\n",
    "    )\n",
    "\n",
    "if __name__ == '__main__':\n",
    "  \n",
    "    try:\n",
    "        \n",
    "        # GET THE CONNECTION OBJECT (ENGINE) FOR THE DATABASE\n",
    "        engine = get_connection()\n",
    "        print(\n",
    "            f\"Connection to the {host} for user {user} created successfully.\")\n",
    "    except Exception as ex:\n",
    "        print(\"Connection could not be made due to the following error: \\n\", ex)\n"
   ]
  },
  {
   "cell_type": "code",
   "execution_count": 75,
   "id": "7494b2dd",
   "metadata": {},
   "outputs": [
    {
     "data": {
      "text/plain": [
       "['SP500_05_24_2022',\n",
       " 'SP500_05_25_2022',\n",
       " 'SP500_05_26_2022',\n",
       " 'SP500_05_27_2022',\n",
       " 'SP500_05_31_2022',\n",
       " 'SP500_06_01_2022',\n",
       " 'SP500_06_02_2022',\n",
       " 'SP500_06_03_2022',\n",
       " 'SP500_06_06_2022',\n",
       " 'SP500_06_07_2022',\n",
       " 'SP500_06_08_2022',\n",
       " 'SP500_06_09_2022',\n",
       " 'SP500_06_10_2022',\n",
       " 'SP500_06_13_2022',\n",
       " 'SP500_06_14_2022',\n",
       " 'SP500_06_15_2022',\n",
       " 'SP500_06_16_2022',\n",
       " 'SP500_06_17_2022',\n",
       " 'SP500_06_21_2022',\n",
       " 'SP500_06_22_2022',\n",
       " 'SP500_06_23_2022',\n",
       " 'SP500_06_27_2022',\n",
       " 'SP500_06_28_2022',\n",
       " 'SP500_07_01_2022',\n",
       " 'SP500_07_05_2022',\n",
       " 'SP500_07_06_2022']"
      ]
     },
     "execution_count": 75,
     "metadata": {},
     "output_type": "execute_result"
    }
   ],
   "source": [
    "inspector = inspect(engine)\n",
    "files = inspector.get_table_names()\n",
    "\n",
    "files_condensed = [file for file in files if file.startswith('SP500_0')]\n",
    "files_condensed"
   ]
  },
  {
   "cell_type": "code",
   "execution_count": 78,
   "id": "aaee3054",
   "metadata": {},
   "outputs": [],
   "source": [
    "user = 'root'\n",
    "password = 'Boston1429$$'\n",
    "host = 'localhost'\n",
    "port = 3306\n",
    "database = 'SP500'\n",
    "\n",
    "\n",
    "def sql_create_engine():\n",
    "    engine = create_engine(\n",
    "        url=\"mysql+pymysql://{0}:{1}@{2}:{3}/{4}\".format(\n",
    "            user, password, host, port, database))\n",
    "    #df = pd.read_sql('SELECT * FROM SP500_06_27_2022',engine)\n",
    "    #print(f'Got df with {len(df)} entries')\n",
    "    #return df\n",
    "    print(f\"Connection to the {host} for user {user} created successfully.\")\n",
    "    \n",
    "    "
   ]
  },
  {
   "cell_type": "code",
   "execution_count": 102,
   "id": "56cfee21",
   "metadata": {},
   "outputs": [
    {
     "data": {
      "text/plain": [
       "Index(['Ticker', 'Day', 'Sector', 'Industry', 'Price', 'Contrarian %',\n",
       "       'FiftyTwoWeekHigh', 'FiftyTwoWeekLow', 'Low Price', 'Median Price',\n",
       "       'Mean Price', 'High Price', '# of Ratings', 'Avg Rating',\n",
       "       'Market Cap $(m)'],\n",
       "      dtype='object')"
      ]
     },
     "execution_count": 102,
     "metadata": {},
     "output_type": "execute_result"
    }
   ],
   "source": [
    "def table_to_df(table):\n",
    "    df = pd.read_sql(f'SELECT * FROM {table}',engine)\n",
    "    #df.to_numpy()\n",
    "    return df\n",
    "df.columns"
   ]
  },
  {
   "cell_type": "code",
   "execution_count": 103,
   "id": "3a59608e",
   "metadata": {},
   "outputs": [
    {
     "name": "stdout",
     "output_type": "stream",
     "text": [
      "Connection to the localhost for user root created successfully.\n"
     ]
    },
    {
     "name": "stderr",
     "output_type": "stream",
     "text": [
      "/Users/brendan/opt/anaconda3/lib/python3.8/site-packages/pandas/core/internals/construction.py:576: VisibleDeprecationWarning: Creating an ndarray from ragged nested sequences (which is a list-or-tuple of lists-or-tuples-or ndarrays with different lengths or shapes) is deprecated. If you meant to do this, you must specify 'dtype=object' when creating the ndarray.\n",
      "  values = np.array([convert(v) for v in values])\n"
     ]
    },
    {
     "ename": "ValueError",
     "evalue": "Shape of passed values is (26, 1), indices imply (26, 15)",
     "output_type": "error",
     "traceback": [
      "\u001b[0;31m---------------------------------------------------------------------------\u001b[0m",
      "\u001b[0;31mValueError\u001b[0m                                Traceback (most recent call last)",
      "Input \u001b[0;32mIn [103]\u001b[0m, in \u001b[0;36m<cell line: 3>\u001b[0;34m()\u001b[0m\n\u001b[1;32m      1\u001b[0m sql_create_engine()\n\u001b[1;32m      2\u001b[0m result \u001b[38;5;241m=\u001b[39m \u001b[38;5;28mmap\u001b[39m(table_to_df,files_condensed)\n\u001b[0;32m----> 3\u001b[0m master_df \u001b[38;5;241m=\u001b[39m \u001b[43mpd\u001b[49m\u001b[38;5;241;43m.\u001b[39;49m\u001b[43mDataFrame\u001b[49m\u001b[43m(\u001b[49m\u001b[43mresult\u001b[49m\u001b[43m,\u001b[49m\u001b[43m \u001b[49m\u001b[43mcolumns\u001b[49m\u001b[38;5;241;43m=\u001b[39;49m\u001b[43m[\u001b[49m\u001b[38;5;124;43m'\u001b[39;49m\u001b[38;5;124;43mTicker\u001b[39;49m\u001b[38;5;124;43m'\u001b[39;49m\u001b[43m,\u001b[49m\u001b[43m \u001b[49m\u001b[38;5;124;43m'\u001b[39;49m\u001b[38;5;124;43mDay\u001b[39;49m\u001b[38;5;124;43m'\u001b[39;49m\u001b[43m,\u001b[49m\u001b[43m \u001b[49m\u001b[38;5;124;43m'\u001b[39;49m\u001b[38;5;124;43mSector\u001b[39;49m\u001b[38;5;124;43m'\u001b[39;49m\u001b[43m,\u001b[49m\u001b[43m \u001b[49m\u001b[38;5;124;43m'\u001b[39;49m\u001b[38;5;124;43mIndustry\u001b[39;49m\u001b[38;5;124;43m'\u001b[39;49m\u001b[43m,\u001b[49m\u001b[43m \u001b[49m\u001b[38;5;124;43m'\u001b[39;49m\u001b[38;5;124;43mPrice\u001b[39;49m\u001b[38;5;124;43m'\u001b[39;49m\u001b[43m,\u001b[49m\u001b[43m \u001b[49m\u001b[38;5;124;43m'\u001b[39;49m\u001b[38;5;124;43mContrarian \u001b[39;49m\u001b[38;5;124;43m%\u001b[39;49m\u001b[38;5;124;43m'\u001b[39;49m\u001b[43m,\u001b[49m\n\u001b[1;32m      4\u001b[0m \u001b[43m       \u001b[49m\u001b[38;5;124;43m'\u001b[39;49m\u001b[38;5;124;43mFiftyTwoWeekHigh\u001b[39;49m\u001b[38;5;124;43m'\u001b[39;49m\u001b[43m,\u001b[49m\u001b[43m \u001b[49m\u001b[38;5;124;43m'\u001b[39;49m\u001b[38;5;124;43mFiftyTwoWeekLow\u001b[39;49m\u001b[38;5;124;43m'\u001b[39;49m\u001b[43m,\u001b[49m\u001b[43m \u001b[49m\u001b[38;5;124;43m'\u001b[39;49m\u001b[38;5;124;43mLow Price\u001b[39;49m\u001b[38;5;124;43m'\u001b[39;49m\u001b[43m,\u001b[49m\u001b[43m \u001b[49m\u001b[38;5;124;43m'\u001b[39;49m\u001b[38;5;124;43mMedian Price\u001b[39;49m\u001b[38;5;124;43m'\u001b[39;49m\u001b[43m,\u001b[49m\n\u001b[1;32m      5\u001b[0m \u001b[43m       \u001b[49m\u001b[38;5;124;43m'\u001b[39;49m\u001b[38;5;124;43mMean Price\u001b[39;49m\u001b[38;5;124;43m'\u001b[39;49m\u001b[43m,\u001b[49m\u001b[43m \u001b[49m\u001b[38;5;124;43m'\u001b[39;49m\u001b[38;5;124;43mHigh Price\u001b[39;49m\u001b[38;5;124;43m'\u001b[39;49m\u001b[43m,\u001b[49m\u001b[43m \u001b[49m\u001b[38;5;124;43m'\u001b[39;49m\u001b[38;5;124;43m# of Ratings\u001b[39;49m\u001b[38;5;124;43m'\u001b[39;49m\u001b[43m,\u001b[49m\u001b[43m \u001b[49m\u001b[38;5;124;43m'\u001b[39;49m\u001b[38;5;124;43mAvg Rating\u001b[39;49m\u001b[38;5;124;43m'\u001b[39;49m\u001b[43m,\u001b[49m\n\u001b[1;32m      6\u001b[0m \u001b[43m       \u001b[49m\u001b[38;5;124;43m'\u001b[39;49m\u001b[38;5;124;43mMarket Cap $(m)\u001b[39;49m\u001b[38;5;124;43m'\u001b[39;49m\u001b[43m]\u001b[49m\u001b[43m)\u001b[49m\n\u001b[1;32m      7\u001b[0m master_df\n",
      "File \u001b[0;32m~/opt/anaconda3/lib/python3.8/site-packages/pandas/core/frame.py:737\u001b[0m, in \u001b[0;36mDataFrame.__init__\u001b[0;34m(self, data, index, columns, dtype, copy)\u001b[0m\n\u001b[1;32m    729\u001b[0m         mgr \u001b[38;5;241m=\u001b[39m arrays_to_mgr(\n\u001b[1;32m    730\u001b[0m             arrays,\n\u001b[1;32m    731\u001b[0m             columns,\n\u001b[0;32m   (...)\u001b[0m\n\u001b[1;32m    734\u001b[0m             typ\u001b[38;5;241m=\u001b[39mmanager,\n\u001b[1;32m    735\u001b[0m         )\n\u001b[1;32m    736\u001b[0m     \u001b[38;5;28;01melse\u001b[39;00m:\n\u001b[0;32m--> 737\u001b[0m         mgr \u001b[38;5;241m=\u001b[39m \u001b[43mndarray_to_mgr\u001b[49m\u001b[43m(\u001b[49m\n\u001b[1;32m    738\u001b[0m \u001b[43m            \u001b[49m\u001b[43mdata\u001b[49m\u001b[43m,\u001b[49m\n\u001b[1;32m    739\u001b[0m \u001b[43m            \u001b[49m\u001b[43mindex\u001b[49m\u001b[43m,\u001b[49m\n\u001b[1;32m    740\u001b[0m \u001b[43m            \u001b[49m\u001b[43mcolumns\u001b[49m\u001b[43m,\u001b[49m\n\u001b[1;32m    741\u001b[0m \u001b[43m            \u001b[49m\u001b[43mdtype\u001b[49m\u001b[38;5;241;43m=\u001b[39;49m\u001b[43mdtype\u001b[49m\u001b[43m,\u001b[49m\n\u001b[1;32m    742\u001b[0m \u001b[43m            \u001b[49m\u001b[43mcopy\u001b[49m\u001b[38;5;241;43m=\u001b[39;49m\u001b[43mcopy\u001b[49m\u001b[43m,\u001b[49m\n\u001b[1;32m    743\u001b[0m \u001b[43m            \u001b[49m\u001b[43mtyp\u001b[49m\u001b[38;5;241;43m=\u001b[39;49m\u001b[43mmanager\u001b[49m\u001b[43m,\u001b[49m\n\u001b[1;32m    744\u001b[0m \u001b[43m        \u001b[49m\u001b[43m)\u001b[49m\n\u001b[1;32m    745\u001b[0m \u001b[38;5;28;01melse\u001b[39;00m:\n\u001b[1;32m    746\u001b[0m     mgr \u001b[38;5;241m=\u001b[39m dict_to_mgr(\n\u001b[1;32m    747\u001b[0m         {},\n\u001b[1;32m    748\u001b[0m         index,\n\u001b[0;32m   (...)\u001b[0m\n\u001b[1;32m    751\u001b[0m         typ\u001b[38;5;241m=\u001b[39mmanager,\n\u001b[1;32m    752\u001b[0m     )\n",
      "File \u001b[0;32m~/opt/anaconda3/lib/python3.8/site-packages/pandas/core/internals/construction.py:351\u001b[0m, in \u001b[0;36mndarray_to_mgr\u001b[0;34m(values, index, columns, dtype, copy, typ)\u001b[0m\n\u001b[1;32m    346\u001b[0m \u001b[38;5;66;03m# _prep_ndarray ensures that values.ndim == 2 at this point\u001b[39;00m\n\u001b[1;32m    347\u001b[0m index, columns \u001b[38;5;241m=\u001b[39m _get_axes(\n\u001b[1;32m    348\u001b[0m     values\u001b[38;5;241m.\u001b[39mshape[\u001b[38;5;241m0\u001b[39m], values\u001b[38;5;241m.\u001b[39mshape[\u001b[38;5;241m1\u001b[39m], index\u001b[38;5;241m=\u001b[39mindex, columns\u001b[38;5;241m=\u001b[39mcolumns\n\u001b[1;32m    349\u001b[0m )\n\u001b[0;32m--> 351\u001b[0m \u001b[43m_check_values_indices_shape_match\u001b[49m\u001b[43m(\u001b[49m\u001b[43mvalues\u001b[49m\u001b[43m,\u001b[49m\u001b[43m \u001b[49m\u001b[43mindex\u001b[49m\u001b[43m,\u001b[49m\u001b[43m \u001b[49m\u001b[43mcolumns\u001b[49m\u001b[43m)\u001b[49m\n\u001b[1;32m    353\u001b[0m \u001b[38;5;28;01mif\u001b[39;00m typ \u001b[38;5;241m==\u001b[39m \u001b[38;5;124m\"\u001b[39m\u001b[38;5;124marray\u001b[39m\u001b[38;5;124m\"\u001b[39m:\n\u001b[1;32m    355\u001b[0m     \u001b[38;5;28;01mif\u001b[39;00m \u001b[38;5;28missubclass\u001b[39m(values\u001b[38;5;241m.\u001b[39mdtype\u001b[38;5;241m.\u001b[39mtype, \u001b[38;5;28mstr\u001b[39m):\n",
      "File \u001b[0;32m~/opt/anaconda3/lib/python3.8/site-packages/pandas/core/internals/construction.py:422\u001b[0m, in \u001b[0;36m_check_values_indices_shape_match\u001b[0;34m(values, index, columns)\u001b[0m\n\u001b[1;32m    420\u001b[0m passed \u001b[38;5;241m=\u001b[39m values\u001b[38;5;241m.\u001b[39mshape\n\u001b[1;32m    421\u001b[0m implied \u001b[38;5;241m=\u001b[39m (\u001b[38;5;28mlen\u001b[39m(index), \u001b[38;5;28mlen\u001b[39m(columns))\n\u001b[0;32m--> 422\u001b[0m \u001b[38;5;28;01mraise\u001b[39;00m \u001b[38;5;167;01mValueError\u001b[39;00m(\u001b[38;5;124mf\u001b[39m\u001b[38;5;124m\"\u001b[39m\u001b[38;5;124mShape of passed values is \u001b[39m\u001b[38;5;132;01m{\u001b[39;00mpassed\u001b[38;5;132;01m}\u001b[39;00m\u001b[38;5;124m, indices imply \u001b[39m\u001b[38;5;132;01m{\u001b[39;00mimplied\u001b[38;5;132;01m}\u001b[39;00m\u001b[38;5;124m\"\u001b[39m)\n",
      "\u001b[0;31mValueError\u001b[0m: Shape of passed values is (26, 1), indices imply (26, 15)"
     ]
    }
   ],
   "source": [
    "sql_create_engine()\n",
    "result = map(table_to_df,files_condensed)\n",
    "master_df = pd.DataFrame(result, columns=['Ticker', 'Day', 'Sector', 'Industry', 'Price', 'Contrarian %',\n",
    "       'FiftyTwoWeekHigh', 'FiftyTwoWeekLow', 'Low Price', 'Median Price',\n",
    "       'Mean Price', 'High Price', '# of Ratings', 'Avg Rating',\n",
    "       'Market Cap $(m)'])\n",
    "master_df"
   ]
  },
  {
   "cell_type": "code",
   "execution_count": null,
   "id": "c55f7a81",
   "metadata": {},
   "outputs": [],
   "source": []
  },
  {
   "cell_type": "code",
   "execution_count": 42,
   "id": "cd3c6d35",
   "metadata": {},
   "outputs": [
    {
     "data": {
      "text/plain": [
       "list"
      ]
     },
     "execution_count": 42,
     "metadata": {},
     "output_type": "execute_result"
    }
   ],
   "source": [
    "file_list = ['contrarian_06_01_2022','contrarian_06_02_2022']\n",
    "type(file_list)"
   ]
  },
  {
   "cell_type": "code",
   "execution_count": 45,
   "id": "546e05c3",
   "metadata": {},
   "outputs": [
    {
     "name": "stdout",
     "output_type": "stream",
     "text": [
      "    Ticker                  Sector                             Industry  \\\n",
      "0     CSCO              Technology              Communication Equipment   \n",
      "1      TER              Technology  Semiconductor Equipment & Materials   \n",
      "2     QRVO              Technology                       Semiconductors   \n",
      "3      FOX  Communication Services                         Broadcasting   \n",
      "4     SWKS              Technology                       Semiconductors   \n",
      "..     ...                     ...                                  ...   \n",
      "124   CTSH              Technology      Information Technology Services   \n",
      "125     MU              Technology                       Semiconductors   \n",
      "126    CDW              Technology      Information Technology Services   \n",
      "127    CRM              Technology                 Software—Application   \n",
      "128   LRCX              Technology  Semiconductor Equipment & Materials   \n",
      "\n",
      "       Price  Contrarian %  FiftyTwoWeekHigh  FiftyTwoWeekLow Low Price  \\\n",
      "0     45.075     17.425870             64.29            41.02        40   \n",
      "1    107.910     14.421998            168.91            97.63        90   \n",
      "2    110.100     11.498595            201.46            98.23       120   \n",
      "3     31.810     23.849372             40.91            28.96      51.5   \n",
      "4    107.770     10.176947            197.62            97.59       120   \n",
      "..       ...           ...               ...              ...       ...   \n",
      "124   74.180     29.288856             93.47            66.19        80   \n",
      "125   73.550     24.039048             98.45            65.67        83   \n",
      "126  171.210     29.669917            208.71           155.39     204.5   \n",
      "127  176.070     13.689567            311.75           154.55    157.33   \n",
      "128  505.790     21.865063            731.85           442.53       520   \n",
      "\n",
      "    Median Price Mean Price High Price  # of Ratings Avg Rating  \\\n",
      "0             52      54.28         73          24.0        2.5   \n",
      "1          136.5      135.1        163          20.0        2.2   \n",
      "2            135     149.86        235          22.0        2.5   \n",
      "3           51.5       51.5       51.5           1.0       None   \n",
      "4            150        151        226          25.0        2.5   \n",
      "..           ...        ...        ...           ...        ...   \n",
      "124           93      92.61        103          23.0        2.4   \n",
      "125        111.5     111.82        165          32.0        1.9   \n",
      "126          220     222.06        250           8.0        1.9   \n",
      "127          257     264.99        385          47.0        1.8   \n",
      "128          625     647.01        840          23.0        2.1   \n",
      "\n",
      "     Market Cap $(m)  \n",
      "0      186757.283840  \n",
      "1       17233.037312  \n",
      "2       11684.174848  \n",
      "3       18582.245376  \n",
      "4       17326.901248  \n",
      "..               ...  \n",
      "124     38660.689920  \n",
      "125     82131.075072  \n",
      "126     23133.210624  \n",
      "127    174998.978560  \n",
      "128     70160.662528  \n",
      "\n",
      "[129 rows x 14 columns]\n",
      "    Ticker                  Sector                             Industry  \\\n",
      "0     CSCO              Technology              Communication Equipment   \n",
      "1      TER              Technology  Semiconductor Equipment & Materials   \n",
      "2     QRVO              Technology                       Semiconductors   \n",
      "3      FOX  Communication Services                        Entertainment   \n",
      "4     SWKS              Technology                       Semiconductors   \n",
      "..     ...                     ...                                  ...   \n",
      "107   NTAP              Technology                    Computer Hardware   \n",
      "108   KEYS              Technology   Scientific & Technical Instruments   \n",
      "109     MU              Technology                       Semiconductors   \n",
      "110    CRM              Technology                 Software—Application   \n",
      "111   LRCX              Technology  Semiconductor Equipment & Materials   \n",
      "\n",
      "       Price  Contrarian %  FiftyTwoWeekHigh  FiftyTwoWeekLow Low Price  \\\n",
      "0     45.125     17.640739             64.29            41.02        40   \n",
      "1    108.710     15.544332            168.91            97.63        90   \n",
      "2    110.765     12.142788            201.46            98.23       120   \n",
      "3     31.880     24.435146             40.91            28.96      51.5   \n",
      "4    109.090     11.496551            197.62            97.59       120   \n",
      "..       ...           ...               ...              ...       ...   \n",
      "107   72.900     25.806452             96.82            64.58        74   \n",
      "108  148.780     25.693161            209.08           127.93       176   \n",
      "109   75.370     29.591214             98.45            65.67        83   \n",
      "110  188.400     21.533079            311.75           154.55       219   \n",
      "111  523.300     27.917185            731.85           442.53       520   \n",
      "\n",
      "    Median Price Mean Price High Price  # of Ratings Avg Rating  \\\n",
      "0             52      54.04         73          24.0        2.5   \n",
      "1            132     132.16        158          19.0        2.2   \n",
      "2            135     145.82        235          22.0        2.5   \n",
      "3           51.5       51.5       51.5           1.0       None   \n",
      "4            150        151        226          25.0        2.5   \n",
      "..           ...        ...        ...           ...        ...   \n",
      "107           96      97.95        124          19.0        2.5   \n",
      "108          195     198.69        230          13.0          2   \n",
      "109        111.5     111.82        165          32.0        1.9   \n",
      "110        297.5     289.83        385          46.0        1.8   \n",
      "111          625     648.27        840          23.0        2.1   \n",
      "\n",
      "     Market Cap $(m)  \n",
      "0      186301.792256  \n",
      "1       17410.863104  \n",
      "2       11680.994304  \n",
      "3       18442.223616  \n",
      "4       17466.908672  \n",
      "..               ...  \n",
      "107     16204.066816  \n",
      "108     27232.989184  \n",
      "109     84427.210752  \n",
      "110    185573.998592  \n",
      "111     73680.117760  \n",
      "\n",
      "[112 rows x 14 columns]\n"
     ]
    },
    {
     "name": "stderr",
     "output_type": "stream",
     "text": [
      "/Users/brendan/opt/anaconda3/lib/python3.8/site-packages/pandas/io/sql.py:761: UserWarning: pandas only support SQLAlchemy connectable(engine/connection) ordatabase string URI or sqlite3 DBAPI2 connectionother DBAPI2 objects are not tested, please consider using SQLAlchemy\n",
      "  warnings.warn(\n",
      "/Users/brendan/opt/anaconda3/lib/python3.8/site-packages/pandas/io/sql.py:761: UserWarning: pandas only support SQLAlchemy connectable(engine/connection) ordatabase string URI or sqlite3 DBAPI2 connectionother DBAPI2 objects are not tested, please consider using SQLAlchemy\n",
      "  warnings.warn(\n"
     ]
    }
   ],
   "source": [
    "data = []\n",
    "for i in file_list:\n",
    "    sql = pd.read_sql(f'SELECT * FROM {i}', con=db_connection)\n",
    "    #df = pd.DataFrame(sql)\n",
    "    #data.append(df)\n",
    "    print(sql)\n",
    "\n",
    "#df = pd.DataFrame(data)\n",
    "#type(sql)"
   ]
  },
  {
   "cell_type": "code",
   "execution_count": 32,
   "id": "8ad084fe",
   "metadata": {},
   "outputs": [
    {
     "data": {
      "text/html": [
       "<div><div id=f431e17d-05a6-46e0-8cb9-42714f2600b6 style=\"display:none; background-color:#9D6CFF; color:white; width:200px; height:30px; padding-left:5px; border-radius:4px; flex-direction:row; justify-content:space-around; align-items:center;\" onmouseover=\"this.style.backgroundColor='#BA9BF8'\" onmouseout=\"this.style.backgroundColor='#9D6CFF'\" onclick=\"window.commands?.execute('create-mitosheet-from-dataframe-output');\">See Full Dataframe in Mito</div> <script> if (window.commands.hasCommand('create-mitosheet-from-dataframe-output')) document.getElementById('f431e17d-05a6-46e0-8cb9-42714f2600b6').style.display = 'flex' </script> <table border=\"1\" class=\"dataframe\">\n",
       "  <thead>\n",
       "    <tr style=\"text-align: right;\">\n",
       "      <th></th>\n",
       "      <th>0</th>\n",
       "    </tr>\n",
       "  </thead>\n",
       "  <tbody>\n",
       "    <tr>\n",
       "      <th>0</th>\n",
       "      <td>Ticker                  Sector                             Industry  \\\n",
       "0     CSCO              Technology              Communication Equipment   \n",
       "1      TER              Technology  Semiconductor Equipment &amp; Materials   \n",
       "2     QRVO              Technology                       Semiconductors   \n",
       "3      FOX  Communication Services                         Broadcasting   \n",
       "4     SWKS              Technology                       Semiconductors   \n",
       "..     ...                     ...                                  ...   \n",
       "124   CTSH              Technology      Information Technology Services   \n",
       "125     MU              Technology                       Semiconductors   \n",
       "126    CDW              Technology      Information Technology Services   \n",
       "127    CRM              Technology                 Software—Application   \n",
       "128   LRCX              Technology  Semiconductor Equipment &amp; Materials   \n",
       "\n",
       "       Price  Contrarian %  FiftyTwoWeekHigh  FiftyTwoWeekLow Low Price  \\\n",
       "0     45.075     17.425870             64.29            41.02        40   \n",
       "1    107.910     14.421998            168.91            97.63        90   \n",
       "2    110.100     11.498595            201.46            98.23       120   \n",
       "3     31.810     23.849372             40.91            28.96      51.5   \n",
       "4    107.770     10.176947            197.62            97.59       120   \n",
       "..       ...           ...               ...              ...       ...   \n",
       "124   74.180     29.288856             93.47            66.19        80   \n",
       "125   73.550     24.039048             98.45            65.67        83   \n",
       "126  171.210     29.669917            208.71           155.39     204.5   \n",
       "127  176.070     13.689567            311.75           154.55    157.33   \n",
       "128  505.790     21.865063            731.85           442.53       520   \n",
       "\n",
       "    Median Price Mean Price High Price  # of Ratings Avg Rating  \\\n",
       "0             52      54.28         73          24.0        2.5   \n",
       "1          136.5      135.1        163          20.0        2.2   \n",
       "2            135     149.86        235          22.0        2.5   \n",
       "3           51.5       51.5       51.5           1.0       None   \n",
       "4            150        151        226          25.0        2.5   \n",
       "..           ...        ...        ...           ...        ...   \n",
       "124           93      92.61        103          23.0        2.4   \n",
       "125        111.5     111.82        165          32.0        1.9   \n",
       "126          220     222.06        250           8.0        1.9   \n",
       "127          257     264.99        385          47.0        1.8   \n",
       "128          625     647.01        840          23.0        2.1   \n",
       "\n",
       "     Market Cap $(m)  \n",
       "0      186757.283840  \n",
       "1       17233.037312  \n",
       "2       11684.174848  \n",
       "3       18582.245376  \n",
       "4       17326.901248  \n",
       "..               ...  \n",
       "124     38660.689920  \n",
       "125     82131.075072  \n",
       "126     23133.210624  \n",
       "127    174998.978560  \n",
       "128     70160.662528  \n",
       "\n",
       "[129 rows x 14 columns]</td>\n",
       "    </tr>\n",
       "    <tr>\n",
       "      <th>1</th>\n",
       "      <td>Ticker                  Sector                             Industry  \\\n",
       "0     CSCO              Technology              Communication Equipment   \n",
       "1      TER              Technology  Semiconductor Equipment &amp; Materials   \n",
       "2     QRVO              Technology                       Semiconductors   \n",
       "3      FOX  Communication Services                        Entertainment   \n",
       "4     SWKS              Technology                       Semiconductors   \n",
       "..     ...                     ...                                  ...   \n",
       "107   NTAP              Technology                    Computer Hardware   \n",
       "108   KEYS              Technology   Scientific &amp; Technical Instruments   \n",
       "109     MU              Technology                       Semiconductors   \n",
       "110    CRM              Technology                 Software—Application   \n",
       "111   LRCX              Technology  Semiconductor Equipment &amp; Materials   \n",
       "\n",
       "       Price  Contrarian %  FiftyTwoWeekHigh  FiftyTwoWeekLow Low Price  \\\n",
       "0     45.125     17.640739             64.29            41.02        40   \n",
       "1    108.710     15.544332            168.91            97.63        90   \n",
       "2    110.765     12.142788            201.46            98.23       120   \n",
       "3     31.880     24.435146             40.91            28.96      51.5   \n",
       "4    109.090     11.496551            197.62            97.59       120   \n",
       "..       ...           ...               ...              ...       ...   \n",
       "107   72.900     25.806452             96.82            64.58        74   \n",
       "108  148.780     25.693161            209.08           127.93       176   \n",
       "109   75.370     29.591214             98.45            65.67        83   \n",
       "110  188.400     21.533079            311.75           154.55       219   \n",
       "111  523.300     27.917185            731.85           442.53       520   \n",
       "\n",
       "    Median Price Mean Price High Price  # of Ratings Avg Rating  \\\n",
       "0             52      54.04         73          24.0        2.5   \n",
       "1            132     132.16        158          19.0        2.2   \n",
       "2            135     145.82        235          22.0        2.5   \n",
       "3           51.5       51.5       51.5           1.0       None   \n",
       "4            150        151        226          25.0        2.5   \n",
       "..           ...        ...        ...           ...        ...   \n",
       "107           96      97.95        124          19.0        2.5   \n",
       "108          195     198.69        230          13.0          2   \n",
       "109        111.5     111.82        165          32.0        1.9   \n",
       "110        297.5     289.83        385          46.0        1.8   \n",
       "111          625     648.27        840          23.0        2.1   \n",
       "\n",
       "     Market Cap $(m)  \n",
       "0      186301.792256  \n",
       "1       17410.863104  \n",
       "2       11680.994304  \n",
       "3       18442.223616  \n",
       "4       17466.908672  \n",
       "..               ...  \n",
       "107     16204.066816  \n",
       "108     27232.989184  \n",
       "109     84427.210752  \n",
       "110    185573.998592  \n",
       "111     73680.117760  \n",
       "\n",
       "[112 rows x 14 columns]</td>\n",
       "    </tr>\n",
       "  </tbody>\n",
       "</table></div>"
      ],
      "text/plain": [
       "                                                   0\n",
       "0      Ticker                  Sector            ...\n",
       "1      Ticker                  Sector            ..."
      ]
     },
     "execution_count": 32,
     "metadata": {},
     "output_type": "execute_result"
    }
   ],
   "source": [
    "df"
   ]
  },
  {
   "cell_type": "code",
   "execution_count": null,
   "id": "922b2e14",
   "metadata": {},
   "outputs": [],
   "source": []
  }
 ],
 "metadata": {
  "kernelspec": {
   "display_name": "Python 3",
   "language": "python",
   "name": "python3"
  },
  "language_info": {
   "codemirror_mode": {
    "name": "ipython",
    "version": 3
   },
   "file_extension": ".py",
   "mimetype": "text/x-python",
   "name": "python",
   "nbconvert_exporter": "python",
   "pygments_lexer": "ipython3",
   "version": "3.8.8"
  }
 },
 "nbformat": 4,
 "nbformat_minor": 5
}
